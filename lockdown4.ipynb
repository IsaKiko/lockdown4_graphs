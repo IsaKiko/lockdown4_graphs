{
 "cells": [
  {
   "cell_type": "code",
   "execution_count": 124,
   "metadata": {},
   "outputs": [],
   "source": [
    "from selenium import webdriver \n",
    "from selenium.webdriver.common.by import By \n",
    "from selenium.webdriver.support.ui import WebDriverWait \n",
    "from selenium.webdriver.support import expected_conditions as EC \n",
    "from selenium.common.exceptions import TimeoutException"
   ]
  },
  {
   "cell_type": "code",
   "execution_count": 7,
   "metadata": {},
   "outputs": [],
   "source": [
    "import pandas as pd\n",
    "import plotly.express as px"
   ]
  },
  {
   "cell_type": "code",
   "execution_count": 126,
   "metadata": {},
   "outputs": [],
   "source": [
    "option = webdriver.ChromeOptions()\n",
    "option.add_argument(\" — incognito\")"
   ]
  },
  {
   "cell_type": "code",
   "execution_count": 127,
   "metadata": {},
   "outputs": [],
   "source": [
    "def scrape():\n",
    "    table = browser.find_element_by_class_name('ch-exposure-sites-search-form')\n",
    "    df = pd.read_html(table.get_attribute('innerHTML'))\n",
    "    return df[0]"
   ]
  },
  {
   "cell_type": "code",
   "execution_count": 128,
   "metadata": {},
   "outputs": [
    {
     "name": "stderr",
     "output_type": "stream",
     "text": [
      "<ipython-input-128-20b4a8144752>:1: DeprecationWarning:\n",
      "\n",
      "use options instead of chrome_options\n",
      "\n"
     ]
    }
   ],
   "source": [
    "browser = webdriver.Chrome(executable_path='/Users/ikiko/Desktop/chromedriver', chrome_options=option)"
   ]
  },
  {
   "cell_type": "code",
   "execution_count": 129,
   "metadata": {},
   "outputs": [],
   "source": [
    "browser.get(\"https://www.coronavirus.vic.gov.au/exposure-sites\")"
   ]
  },
  {
   "cell_type": "code",
   "execution_count": 130,
   "metadata": {},
   "outputs": [],
   "source": [
    "elements = scrape()"
   ]
  },
  {
   "cell_type": "code",
   "execution_count": 131,
   "metadata": {},
   "outputs": [],
   "source": [
    "nextpagebutton1 = browser.find_element_by_class_name('rpl-pagination__list').find_elements_by_class_name('rpl-pagination__step')[1]\n",
    "nextpagebutton1.click()"
   ]
  },
  {
   "cell_type": "code",
   "execution_count": 132,
   "metadata": {},
   "outputs": [],
   "source": [
    "elements = pd.concat([elements, scrape()])"
   ]
  },
  {
   "cell_type": "code",
   "execution_count": 133,
   "metadata": {},
   "outputs": [],
   "source": [
    "nextpagebutton2 = browser.find_element_by_class_name('rpl-pagination__list').find_elements_by_class_name('rpl-pagination__step')[2]\n",
    "nextpagebutton2.click()"
   ]
  },
  {
   "cell_type": "code",
   "execution_count": 134,
   "metadata": {},
   "outputs": [],
   "source": [
    "elements = pd.concat([elements, scrape()])"
   ]
  },
  {
   "cell_type": "code",
   "execution_count": 135,
   "metadata": {},
   "outputs": [],
   "source": [
    "nextpagebutton_continuous = browser.find_element_by_class_name('rpl-pagination__list').find_elements_by_class_name('rpl-pagination__step')[3]\n",
    "i = 3\n",
    "while i <= 20:\n",
    "    nextpagebutton_continuous.click()\n",
    "    elements = pd.concat([elements, scrape()])\n",
    "    nextpagebutton_continuous = browser.find_element_by_class_name('rpl-pagination__list').find_elements_by_class_name('rpl-pagination__step')[3]\n",
    "    i = i + 1\n"
   ]
  },
  {
   "cell_type": "code",
   "execution_count": 136,
   "metadata": {},
   "outputs": [],
   "source": [
    "nextpagebutton_last = browser.find_element_by_class_name('rpl-pagination__list').find_elements_by_class_name('rpl-pagination__step')[4]\n",
    "nextpagebutton_last.click()\n",
    "elements = pd.concat([elements, scrape()])"
   ]
  },
  {
   "cell_type": "code",
   "execution_count": 137,
   "metadata": {},
   "outputs": [],
   "source": [
    "browser.close()"
   ]
  },
  {
   "cell_type": "code",
   "execution_count": 138,
   "metadata": {},
   "outputs": [
    {
     "data": {
      "text/plain": [
       "633"
      ]
     },
     "execution_count": 138,
     "metadata": {},
     "output_type": "execute_result"
    }
   ],
   "source": [
    "len(elements)"
   ]
  },
  {
   "cell_type": "code",
   "execution_count": 139,
   "metadata": {},
   "outputs": [],
   "source": [
    "elements = elements.drop(columns=['Suburb.1', 'Site.1', 'Notes.1', 'Health advice.1'])"
   ]
  },
  {
   "cell_type": "code",
   "execution_count": 140,
   "metadata": {},
   "outputs": [],
   "source": [
    "elements = elements.reset_index()\n",
    "elements = elements.drop(columns=['index'])"
   ]
  },
  {
   "cell_type": "code",
   "execution_count": 141,
   "metadata": {},
   "outputs": [],
   "source": [
    "elements['date_exposure'] = elements['Exposure period'].apply(lambda x: x.split(' ')[2])\n",
    "elements['date_added'] = elements['Date added'].apply(lambda x: x.split(' ')[2])"
   ]
  },
  {
   "cell_type": "code",
   "execution_count": 142,
   "metadata": {},
   "outputs": [],
   "source": [
    "elements = elements.drop_duplicates()"
   ]
  },
  {
   "cell_type": "markdown",
   "metadata": {},
   "source": [
    "Date not available for some... showing up as 'Data' in date_added column "
   ]
  },
  {
   "cell_type": "code",
   "execution_count": 143,
   "metadata": {},
   "outputs": [],
   "source": [
    "elements = elements[elements.date_added != \"Data\"]"
   ]
  },
  {
   "cell_type": "code",
   "execution_count": 144,
   "metadata": {},
   "outputs": [],
   "source": [
    "elements.date_added = pd.to_datetime(elements.date_added, dayfirst=True)\n",
    "elements.date_exposure = pd.to_datetime(elements.date_exposure, dayfirst=True)\n",
    "elements['tier'] = elements['Health advice'].apply(lambda x: x.split(' ')[3])"
   ]
  },
  {
   "cell_type": "code",
   "execution_count": 145,
   "metadata": {},
   "outputs": [],
   "source": [
    "# filter weird outliers\n",
    "elements = elements[elements.date_exposure < '2021-10-01']"
   ]
  },
  {
   "cell_type": "code",
   "execution_count": 146,
   "metadata": {},
   "outputs": [],
   "source": [
    "import plotly.express as px"
   ]
  },
  {
   "cell_type": "code",
   "execution_count": 147,
   "metadata": {},
   "outputs": [
    {
     "data": {
      "application/vnd.plotly.v1+json": {
       "config": {
        "plotlyServerURL": "https://plot.ly"
       },
       "data": [
        {
         "customdata": [
          [
           "Suburb Glen Iris",
           "Site Scicluna's Real Food Merchants Tooronga Village 350-354 Tooronga Road Glen Iris VIC 3146"
          ],
          [
           "Suburb Sunshine",
           "Site BlueCross Western Gardens 40 Anderson Rd Sunshine VIC 3020"
          ],
          [
           "Suburb Sunshine",
           "Site BlueCross Western Gardens (high care staff communcal area and low care entry) 40 Anderson Rd Sunshine VIC 3020"
          ],
          [
           "Suburb Sunshine",
           "Site BlueCross Western Gardens (all other areas of facility) 40 Anderson Rd Sunshine VIC 3020"
          ],
          [
           "Suburb Maidstone",
           "Site Arcare Maidstone Aged Care Facility (Magnolia Unit) 31 Hampstead Road Maidstone VIC 3012"
          ],
          [
           "Suburb Maidstone",
           "Site Arcare Maidstone Aged Care Facility (Magnolia Unit) 31 Hampstead Road Maidstone VIC 3012"
          ],
          [
           "Suburb Maidstone",
           "Site Arcare Maidstone Aged Care Facility (Magnolia Unit) 31 Hampstead Road Maidstone VIC 3012"
          ],
          [
           "Suburb Maidstone",
           "Site Arcare Maidstone Aged Care Facility (Magnolia Unit) 31 Hampstead Road Maidstone VIC 3012"
          ],
          [
           "Suburb Maidstone",
           "Site Arcare Maidstone Aged Care Facility (Communal Facilities) 31 Hampstead Road Maidstone VIC 3012"
          ],
          [
           "Suburb Maidstone",
           "Site Arcare Maidstone Aged Care Facility 31 Hampstead Road Maidstone VIC 3012"
          ],
          [
           "Suburb Maidstone",
           "Site Arcare Maidstone Aged Care Facility 31 Hampstead Road Maidstone VIC 3012"
          ],
          [
           "Suburb Maidstone",
           "Site Arcare Maidstone Aged Care Facility (Communial Facilities) 31 Hampstead Road Maidstone VIC 3012"
          ],
          [
           "Suburb Maidstone",
           "Site Arcare Maidstone Aged Care Facility (Communal Facilities) 31 Hampstead Road Maidstone VIC 3012"
          ],
          [
           "Suburb Maidstone",
           "Site Arcare Maidstone Aged Care Facility (Communal Facilities) 31 Hampstead Road Maidstone VIC 3012"
          ],
          [
           "Suburb Thomastown",
           "Site BP Petrol Station 72 Keon Parade Thomastown VIC 3074"
          ],
          [
           "Suburb Chelsea Heights",
           "Site Subway Chelsea Heights 1-3 Piper Drive Chelsea Heights VIC 3196"
          ],
          [
           "Suburb Bus Route",
           "Site PTV Bus Number 406 Footscray Station to Emu Road/Hampstead Road, Maidstone Bus Route VIC"
          ],
          [
           "Suburb Bus Route",
           "Site PTV Bus Number 406 Emu Road/Hampstead Road, Maidstone to Footscray Station Bus Route VIC"
          ],
          [
           "Suburb Bus Route",
           "Site PTV Bus Number 412 Footscray Station, Paisley Street to Central Square Shopping Centre stop Bus Route VIC"
          ],
          [
           "Suburb South Yarra",
           "Site Giant Bike Shop Unit 1/316-320 Toorak Road South Yarra VIC 3141"
          ],
          [
           "Suburb Cranbourne",
           "Site Connor Cranbourne Park Shopping Centre 132 High Street Cranbourne VIC 3977"
          ],
          [
           "Suburb Glen Iris",
           "Site Bakers Delight Tooronga Village Corner Tooronga Road and Toorka Road Glen Iris VIC 3146"
          ],
          [
           "Suburb Parkdale",
           "Site Adairs Parkdale Plaza Unit 6/383 Nepean Highway Parkdale VIC 3195"
          ],
          [
           "Suburb South Melbourne",
           "Site Australia Post South Melbourne 100 Market Street South Melbourne VIC 3205"
          ],
          [
           "Suburb Bus Route",
           "Site PTV Bus Number 412 Central Square Shopping Centre/Merton Stop to Footscray Station Bus Route VIC"
          ],
          [
           "Suburb Point Cook",
           "Site Stockland Point Cook Shopping Centre 5 Main Street & Murnong Street Point Cook VIC 3030"
          ],
          [
           "Suburb Reservoir",
           "Site Healthy India 276 Broadway Reservoir VIC 3073"
          ],
          [
           "Suburb Reservoir",
           "Site Healthy India 276 Broadway Reservoir VIC 3073"
          ],
          [
           "Suburb Reservoir",
           "Site Healthy India 276 Broadway Reservoir VIC 3073"
          ],
          [
           "Suburb Malvern East (Chadstone)",
           "Site QBD Books Chadstone Shop B099, 1341 Dandenong Road Malvern East (Chadstone) VIC 3145"
          ],
          [
           "Suburb Mount Dandenong",
           "Site SkyHigh Mount Dandenong and SkyHigh Cafe 26 Observatory Road Mount Dandenong VIC 3767"
          ],
          [
           "Suburb Epping",
           "Site Gloria Jean's Coffees Epping Plaza 583 High Street Epping VIC 3076"
          ],
          [
           "Suburb Epping",
           "Site Blue Sapphire Coin Laundry Epping 2A Jovic Road Epping VIC 3076"
          ],
          [
           "Suburb Epping",
           "Site Blue Sapphire Coin Laundry Epping 2A Jovic Road Epping VIC 3076"
          ],
          [
           "Suburb Epping",
           "Site Soprano's Pizza 746 High Street Epping VIC 3076"
          ],
          [
           "Suburb Lalor",
           "Site The Cake Box 314 Station Street Lalor VIC 3075"
          ],
          [
           "Suburb Chadstone",
           "Site Zimmerman Chadstone 1341 Dandenong Road Chadstone VIC 3145"
          ],
          [
           "Suburb Malvern East (Chadstone)",
           "Site Breadtop Chadstone Shop F010, 1341 Dandenong Road Malvern East (Chadstone) VIC 3145"
          ],
          [
           "Suburb Reservoir",
           "Site Akkar Pastry 274 Broadway Reservoir VIC 3073"
          ],
          [
           "Suburb Reservoir",
           "Site My Chemist Broadway 270 Broadway Reservoir VIC 3073"
          ],
          [
           "Suburb Epping",
           "Site Coles Epping Aurora Village 315A Harvest Home Rd Epping VIC 3076"
          ],
          [
           "Suburb Epping",
           "Site Liquorland Aurora Village 315A Harvest Home Rd Epping VIC 3076"
          ],
          [
           "Suburb Mill Park",
           "Site Coles Westfield Plenty Valley Civic Drive (415 McDonalds Rd) Mill Park VIC 3082"
          ],
          [
           "Suburb Mill Park",
           "Site Little Sparrow Westfield Plenty Valley 415 McDonalds Rd Mill Park VIC 3082"
          ],
          [
           "Suburb Ivanhoe",
           "Site Fairy Hills Kindergarten 7 Thyer Road Ivanhoe VIC 3079"
          ],
          [
           "Suburb South Melbourne",
           "Site Woolworths South Melbourne 113 Cecil Street South Melbourne VIC 3205"
          ],
          [
           "Suburb South Melbourne",
           "Site Woolworths South Melbourne 113 Cecil Street South Melbourne VIC 3205"
          ],
          [
           "Suburb Cranbourne West",
           "Site Woolworths Cranbourne West Cnr Hall and Evans Roads Cranbourne West VIC 3977"
          ],
          [
           "Suburb Cranbourne",
           "Site 7-Eleven Cranbourne Amstel 1/1016s Cranbourne-Frankston Rd Cranbourne VIC 3977"
          ],
          [
           "Suburb Cranbourne",
           "Site Factorie Shop SP104 Cranbourne Park Shopping Centre, High St Cranbourne VIC 3977"
          ],
          [
           "Suburb Footscray",
           "Site Inday Fillipino Store 121/81 Hopkins St (Footscray Market) Footscray VIC 3011"
          ],
          [
           "Suburb Melbourne",
           "Site The Lott (St Kilda Road News) 509 St Kilda Road Melbourne VIC 3004"
          ],
          [
           "Suburb Cranbourne",
           "Site Oporto Cranbourne Chicken 1016 Cranbourne-Frankston Rd Cranbourne VIC 3977"
          ],
          [
           "Suburb Richmond",
           "Site My Homes and Gifts 182-186 Victoria St Richmond VIC 3121"
          ],
          [
           "Suburb Elwood",
           "Site Turtle Cafe Elwood 34 Glen Huntly Rd Elwood VIC 3184"
          ],
          [
           "Suburb Port Melbourne",
           "Site Coles Port Melbourne Corner Bay and Liardet St Port Melbourne VIC 3207"
          ],
          [
           "Suburb Keilor Downs",
           "Site German Shepherd Dog Club of Victoria Western Branch Green Gully Reserve, McCrae Boulevard Keilor Downs VIC 3038"
          ],
          [
           "Suburb Noble Park",
           "Site New Lanka Restaurant 262 Railway Parade Noble Park VIC 3175"
          ],
          [
           "Suburb Yarraville",
           "Site Prestige Fruit and Vegetables 27 Anderson St Yarraville VIC 3013"
          ],
          [
           "Suburb South Melbourne",
           "Site Zoumi Cafe 70 Albert Rd South Melbourne VIC 3205"
          ],
          [
           "Suburb Footscray",
           "Site Thai Huy Butcher Shop 144, 18 Irving Street  Footscray VIC 3011"
          ],
          [
           "Suburb Bus Route",
           "Site PTV Bus Number 412 Paisley Street/Footscray to Millers Road/Geelong Bus Route VIC"
          ],
          [
           "Suburb Point Cook",
           "Site Target - Stockland Point Cook Shopping Centre Murnong Street Point Cook VIC 3030"
          ],
          [
           "Suburb St Kilda",
           "Site Galleon Cafe 9 Carlisile Street St Kilda VIC 3182"
          ],
          [
           "Suburb Brighton",
           "Site Brighton Beach Hotel 4 The Esplanade Brighton VIC 3186"
          ],
          [
           "Suburb Bus Route",
           "Site PTV Bus Number 412 Central Square Shopping Centre/Merton Stop to Footscray Station Bus Route VIC"
          ],
          [
           "Suburb Bus Route",
           "Site PTV Bus Number 406 Emu Road/Smith Street to Footscray Station Bus Route VIC"
          ],
          [
           "Suburb Bus Route",
           "Site PTV Bus Number 406 Footscray Station to Emu Road/Hampstead Road (Maidstone) Bus Route VIC"
          ],
          [
           "Suburb Cranbourne",
           "Site Gami Rasa Restaurant 19 Hotham Street Cranbourne VIC 3977"
          ],
          [
           "Suburb Epping",
           "Site JMD Grocers & Sweets 768 High Street Epping VIC 3076"
          ],
          [
           "Suburb Epping",
           "Site JMD Grocers & Sweets 768 High Street Epping VIC 3076"
          ],
          [
           "Suburb Epping",
           "Site JMD Grocers & Sweets 768 High Street Epping VIC 3076"
          ],
          [
           "Suburb Epping",
           "Site JMD Grocers & Sweets 768 High Street Epping VIC 3076"
          ],
          [
           "Suburb Point Cook",
           "Site Coles Stockland Point Cook Shopping Centre 5 Main Street & Murnong Street Point Cook VIC 3030"
          ],
          [
           "Suburb Point Cook",
           "Site Sanctuary Lakes Shopping Centre 300 Point Cook Road Point Cook VIC 3030"
          ],
          [
           "Suburb Point Cook",
           "Site Aldi Sanctuary Lakes Shopping Centre 300 Point Cook Road Point Cook VIC 3030"
          ],
          [
           "Suburb Bus Route",
           "Site PTV Bus Number 412 Central Square Shopping Centre/Merton Street to Footscray Station Bus Route VIC"
          ],
          [
           "Suburb Epping",
           "Site Coles Epping Plaza Shop Q002. High Street Epping VIC 3076"
          ],
          [
           "Suburb Epping",
           "Site Coles Epping Plaza Shop Q002. High Street Epping VIC 3076"
          ],
          [
           "Suburb Preston",
           "Site H&M (Northland Shopping Centre) 2-50 Murray Road Preston VIC 3072"
          ],
          [
           "Suburb Doreen",
           "Site Woolworths Laurimar 95 Hazel Glen Drive Doreen VIC 3754"
          ],
          [
           "Suburb Thomastown",
           "Site Gobind Sweets 6/350 Settlement Road Thomastown VIC 3074"
          ],
          [
           "Suburb Epping",
           "Site Chemist Warehouse (Epping Homemaker Center) 560-650 High Street Epping VIC 3076"
          ],
          [
           "Suburb Epping",
           "Site Chemist Warehouse (Epping Homemaker Center) 560-650 High Street Epping VIC 3076"
          ],
          [
           "Suburb Kalkallo",
           "Site Metricon Homes Kalkallo- Cloverton Display Homes 24 Design Way Kalkallo VIC 3064"
          ],
          [
           "Suburb Campbellfield",
           "Site Metricon Homes- Campbellfield Office 108 National Blvd Campbellfield VIC 3061"
          ],
          [
           "Suburb Mickleham",
           "Site Metricon Homes- Merrifield Display Homes 15 Carrington Drive Mickleham VIC 3064"
          ],
          [
           "Suburb Mickleham",
           "Site Metricon Homes- Botanical Display Homes 27/29 Poppy St Mickleham VIC 3064"
          ],
          [
           "Suburb Preston",
           "Site Northland Shopping Centre 2-50 Murray Road Preston VIC 3072"
          ],
          [
           "Suburb Preston",
           "Site McDonalds (Northland Shopping Centre) 2-50 Murray Road Preston VIC 3072"
          ],
          [
           "Suburb Thomastown",
           "Site Slades Beverages 46/40-50 Keon Parade Thomastown VIC 3074"
          ],
          [
           "Suburb Preston",
           "Site Muffin Break (Northland Shopping Centre) 2-50 Murray Road Preston VIC 3072"
          ],
          [
           "Suburb Preston",
           "Site H&M (Northland Shopping Centre) 2-50 Murray Road Preston VIC 3072"
          ],
          [
           "Suburb Preston",
           "Site Salsa's Fresh Mex Grill (Northland Shopping Centre) K033/50 Murray Rd Preston VIC 3072"
          ],
          [
           "Suburb Epping",
           "Site Walker's Donuts Epping (Pacific Epping Shopping Centre) 571-583 High Street Epping VIC 3076"
          ],
          [
           "Suburb Epping",
           "Site Commonwealth Bank Australia (CBA) Epping Branch 83-84 Cooper Street & High Street Epping VIC 3076"
          ],
          [
           "Suburb Lalor",
           "Site Coles Lalor 47-71 May Road Lalor VIC 3075"
          ],
          [
           "Suburb Lalor",
           "Site Woolworths Lalor Hurtle Street Lalor VIC 3075"
          ],
          [
           "Suburb Lalor",
           "Site Woolworths Lalor Hurtle Street Lalor VIC 3075"
          ],
          [
           "Suburb Epping",
           "Site MKS Spices'n Things Epping 1/84-88 Coopers Street Epping VIC 3076"
          ],
          [
           "Suburb Thomastown",
           "Site Slades Beverages 46/40-50 Keon Parade Thomastown VIC 3074"
          ],
          [
           "Suburb Thomastown",
           "Site Slades Beverages 46/40-50 Keon Parade Thomastown VIC 3074"
          ],
          [
           "Suburb Thomastown",
           "Site Slades Beverages 46/40-50 Keon Parade Thomastown VIC 3074"
          ],
          [
           "Suburb Thomastown",
           "Site Slades Beverages 46/40-50 Keon Parade Thomastown VIC 3074"
          ],
          [
           "Suburb Thomastown",
           "Site Slades Beverages 46/40-50 Keon Parade Thomastown VIC 3074"
          ],
          [
           "Suburb Thomastown",
           "Site Slades Beverages 46/40-50 Keon Parade Thomastown VIC 3074"
          ],
          [
           "Suburb Thomastown",
           "Site Slades Beverages 46/40-50 Keon Parade Thomastown VIC 3074"
          ],
          [
           "Suburb Thomastown",
           "Site Slades Beverages 46/40-50 Keon Parade Thomastown VIC 3074"
          ],
          [
           "Suburb Thomastown",
           "Site Slades Beverages 46/40-50 Keon Parade Thomastown VIC 3074"
          ],
          [
           "Suburb Thomastown",
           "Site Slades Beverages 46/40-50 Keon Parade Thomastown VIC 3074"
          ],
          [
           "Suburb Craigieburn",
           "Site Big W Craigieburn 340 Craigieburn Road Craigieburn VIC 3064"
          ],
          [
           "Suburb Bundoora",
           "Site DFO Uni Hill - Champion, Melrose Avenue, Quiksilver, Factorie and Edge 2 Janefield Drive Bundoora VIC 3083"
          ],
          [
           "Suburb Epping",
           "Site Coles Epping Plaza Shop Q002, Epping Plaza, High Street Epping VIC 3076"
          ],
          [
           "Suburb Doreen",
           "Site Laurimar Medical Centre 120 - 122 Painted Hills Road Doreen VIC 3754"
          ],
          [
           "Suburb Craigieburn",
           "Site Ambarsari Dhaba 3/38 Craigieburn Road Craigieburn VIC 3064"
          ],
          [
           "Suburb Hawthorn",
           "Site Short Straw 743B Glenferrie Road Hawthorn VIC 3122"
          ],
          [
           "Suburb Craigieburn",
           "Site PTV Bus Number 525 Highland SC/Grand Bvd to Donnybrook Rd/Dwyer Street Craigieburn VIC 3064"
          ],
          [
           "Suburb Craigieburn",
           "Site PTV Bus Number 525 Highland SC/Grand Bvd to Donnybrook Rd/Dwyer Street Craigieburn VIC 3064"
          ],
          [
           "Suburb Epping",
           "Site Kmart Epping Epping Plaza Shopping Center. Cnr High & Cooper Street Epping VIC 3076"
          ],
          [
           "Suburb Epping",
           "Site Kmart Epping Epping Plaza Shopping Center. Cnr High & Cooper Street Epping VIC 3076"
          ],
          [
           "Suburb Epping",
           "Site Coles Epping Plaza Shop Q002, Epping Plaza, High Street Epping VIC 3076"
          ],
          [
           "Suburb Kalkallo",
           "Site Metricon Homes Kalkallo- Cloverton Display Homes 24 Design Way Kalkallo VIC 3064"
          ],
          [
           "Suburb Arthurs Seat",
           "Site Enchanted Adventure Garden 55 Purves Road Arthurs Seat VIC 3936"
          ],
          [
           "Suburb Bundoora",
           "Site IGA Agora Express (La Trobe University) La Trobe University, Melbourne Campus, Shop 1 Agora East, Bundoora VIC 3083 Bundoora VIC 3083"
          ],
          [
           "Suburb Malvern East (Chadstone)",
           "Site Bakers Delight - Chadstone Shopping Centre 247C/ 1341 Dandenong Road Malvern East (Chadstone) VIC 3148"
          ],
          [
           "Suburb Malvern East (Chadstone)",
           "Site Woolworths - Chadstone Shopping Centre 1341 Dandenong Road Malvern East (Chadstone) VIC 3148"
          ],
          [
           "Suburb St Kilda",
           "Site McDonalds St Kilda 32 The Esplanade St Kilda VIC 3182"
          ],
          [
           "Suburb St Kilda",
           "Site Woolworths 64 Fitzroy Street St Kilda VIC 3182"
          ],
          [
           "Suburb St Kilda",
           "Site KFC St Kilda 70A Acland Street St Kilda VIC 3182"
          ],
          [
           "Suburb St Kilda",
           "Site Woolworths 117 Acland Street St Kilda VIC 3182"
          ],
          [
           "Suburb South Yarra",
           "Site Forvic Asian Supermarket 251 Malvern Road South Yarra VIC 3141"
          ],
          [
           "Suburb Malvern East (Chadstone)",
           "Site Chadstone Shopping Centre 1341 Dandenong Road Malvern East (Chadstone) VIC 3148"
          ],
          [
           "Suburb Malvern East (Chadstone)",
           "Site Yokozuna - Chadstone Shopping Centre 1341 Dandenong Road Malvern East (Chadstone) VIC 3148"
          ],
          [
           "Suburb Malvern East (Chadstone)",
           "Site Optus - Chadstone Shopping Centre Shop B311, 1341 Dandenong Road Malvern East (Chadstone) VIC 3148"
          ],
          [
           "Suburb Mernda",
           "Site Caltex Mernda 1631W Plenty Road Mernda VIC 3074"
          ],
          [
           "Suburb Thomastown",
           "Site 7-Eleven Thomastown North Cnr Edgars Road and Main Street Thomastown VIC 3074"
          ],
          [
           "Suburb Bundoora",
           "Site La Trobe University, Library All Levels (Except level 1) Plenty Road & Kingsbury Drive Bundoora VIC 3086"
          ],
          [
           "Suburb Epping",
           "Site Pacific Epping Plaza - Cotton On, Edge, Valleygirl, Supre and Boost Juice 571 - 583 High Street Epping VIC 3076"
          ],
          [
           "Suburb Epping",
           "Site Pacific Epping Plaza 571 - 583 High Street Epping VIC 3076"
          ],
          [
           "Suburb Thomastown",
           "Site Supa IGA Thomastown 122 Main Street Thomastown VIC 3074"
          ],
          [
           "Suburb Mickleham",
           "Site Chemist Warehouse Mickleham 250 - 270 Donnybrook Road Mickleham VIC 3064"
          ],
          [
           "Suburb Braeside",
           "Site Shell Coles Express Braeside 918 - 928 Springvale Road Cnr Governor Road Braeside VIC 3064"
          ],
          [
           "Suburb South Yarra",
           "Site Taco Bell Chapel Street 352 Chapel Street South Yarra VIC 3141"
          ],
          [
           "Suburb Craigieburn",
           "Site Edu-Kingdom College 67A Hamilton Street Craigieburn VIC 3064"
          ],
          [
           "Suburb Fingal",
           "Site Peninsula Hot Springs (Bathhouse Reception Only) 140 Springs Lane Fingal VIC 3939"
          ],
          [
           "Suburb Glen Iris",
           "Site Coles Tooronga Village Tooronga Road Glen Iris VIC 3146"
          ],
          [
           "Suburb Bundoora",
           "Site La Trobe University, Library Level 1 Plenty Road & Kingsbury Drive Bundoora VIC 3086"
          ],
          [
           "Suburb Dandenong",
           "Site Marmara Halal Meats 141- 145 Lonsdale Street Dandenong VIC 3175"
          ],
          [
           "Suburb Carrum Downs",
           "Site Sabrini Foods 77 Boundary Road Carrum Downs VIC 3201"
          ],
          [
           "Suburb Dandenong",
           "Site Spice Inn Groceries 4 16-46 Cleeland Street Dandenong VIC 3175"
          ],
          [
           "Suburb Dandenong",
           "Site Bestway Supermarket 200-208 Lonsdale Street Dandenong VIC 3175"
          ],
          [
           "Suburb Dandenong",
           "Site Bestway Supermarket 21-23 Cleeland Street Dandenong VIC 3175"
          ],
          [
           "Suburb Craigieburn",
           "Site Dosa Hut Craigieburn Shop D1/420-440 Craigieburn Road Craigieburn VIC 3064"
          ],
          [
           "Suburb Epping",
           "Site Indiagate Spices and Groceries Unit 14C, 560-590 High Street Epping VIC 3076"
          ],
          [
           "Suburb Wollert",
           "Site Hamara Bazaar 315 Harvest Home Road Wollert VIC 3750"
          ],
          [
           "Suburb Reservoir",
           "Site Vic Fields Summerhill Shopping Centre 850 Plenty Road Reservoir VIC 3073"
          ],
          [
           "Suburb Epping",
           "Site Khalsa Sweets and Snacks 3 Annalise Avenue Epping VIC 3076"
          ],
          [
           "Suburb Wollert",
           "Site Erol's Fruit Shop 319 Harvest Home Road Wollert VIC 3750"
          ],
          [
           "Suburb South Melbourne",
           "Site Clarendon Centre - Female public toilets 261 Clarendon Street South Melbourne VIC 3205"
          ],
          [
           "Suburb South Melbourne",
           "Site Clarendon Centre - Female public toilets 261 Clarendon Street South Melbourne VIC 3205"
          ],
          [
           "Suburb Maribyrnong",
           "Site JB Hi Fi Shop 159-163 Rosamond Road Maribyrnong VIC 3032"
          ],
          [
           "Suburb Maribyrnong",
           "Site The Good Guys 2-6 Sloane Street Maribyrnong VIC 3032"
          ],
          [
           "Suburb Yarraville",
           "Site Coles Yarraville Cnr Williamstown Road & High Street Yarraville VIC 3013"
          ],
          [
           "Suburb Epping",
           "Site Epping Spices & Nuts Grocery Store 6/1 Lyndarum Drive Epping VIC 3076"
          ],
          [
           "Suburb Epping",
           "Site Epping Spices & Nuts Grocery Store 6/1 Lyndarum Drive Epping VIC 3076"
          ],
          [
           "Suburb Epping",
           "Site Epping Spices & Nuts Grocery Store 6/1 Lyndarum Drive Epping VIC 3076"
          ],
          [
           "Suburb Epping",
           "Site Epping Spices & Nuts Grocery Store 6/1 Lyndarum Drive Epping VIC 3076"
          ],
          [
           "Suburb Mill Park",
           "Site Star Car Wash 1, Westfield Plenty Valley 52/415 McDonalds Rd Mill Park VIC 3082"
          ],
          [
           "Suburb Mill Park",
           "Site Star Car Wash 1, Westfield Plenty Valley 52/415 McDonalds Rd Mill Park VIC 3082"
          ],
          [
           "Suburb Mill Park",
           "Site Star Car Wash 1, Westfield Plenty Valley 52/415 McDonalds Rd Mill Park VIC 3082"
          ],
          [
           "Suburb Mill Park",
           "Site Star Car Wash 1, Westfield Plenty Valley 52/415 McDonalds Rd Mill Park VIC 3082"
          ],
          [
           "Suburb Reservoir",
           "Site Healthy India 276 Broadway Reservoir VIC 3073"
          ],
          [
           "Suburb Brunswick East",
           "Site Dan Murphy's Brunswick East 513 Lygon St, Brunswick East Brunswick East VIC 3057"
          ],
          [
           "Suburb Epping",
           "Site The Grande Reception & Function Centre 6-8 Helm Court Epping VIC 3076"
          ],
          [
           "Suburb Preston",
           "Site Preston City Hall 284 Gower Street Preston VIC 3071"
          ],
          [
           "Suburb Reservoir",
           "Site Edwardes Lake Playground Edwardes Lake Reservoir VIC 3073"
          ],
          [
           "Suburb South Melbourne",
           "Site Miss China Noodle Bar (within Clarendon Centre) Shop G08/261 Clarendon Street South Melbourne VIC 3205"
          ],
          [
           "Suburb South Melbourne",
           "Site Telstra Shop Shop G01/265 Clarendon Street South Melbourne VIC 3205"
          ],
          [
           "Suburb South Melbourne",
           "Site Telstra Shop Shop G01/265 Clarendon Street South Melbourne VIC 3205"
          ],
          [
           "Suburb South Melbourne",
           "Site Hunky Dory Fish & Chips 252 Clarendon Street South Melbourne VIC 3205"
          ],
          [
           "Suburb Thomastown",
           "Site 7-Eleven Thomastown North Cnr Edgars Road & Main Street Thomastown VIC 3074"
          ],
          [
           "Suburb Hampton",
           "Site Body Fit Training Hampton Shop 4-6/498 Hampton Street Hampton VIC 3188"
          ],
          [
           "Suburb Hampton",
           "Site Body Fit Training Hampton Shop 4-6/498 Hampton Street Hampton VIC 3188"
          ],
          [
           "Suburb Greenvale",
           "Site Barrymore Medical Centre 9 Barrymore Road Greenvale VIC 3059"
          ],
          [
           "Suburb Carlton",
           "Site RMIT Campus, Building 57 (Edward Jackson Building) 53 Lygon Street Carlton VIC 3053"
          ],
          [
           "Suburb Mickleham",
           "Site Botanical Display Homes (Botanical Display Village) 23-25 Poppy Street Mickleham VIC 3063"
          ],
          [
           "Suburb Craigieburn",
           "Site The Coffee Club - Craigieburn Central Craigieburn Central, Shop B00, 15/350 Craigieburn Road Craigieburn VIC 3064"
          ],
          [
           "Suburb Docklands",
           "Site Network Public Bar 14/99 Spencer Street Docklands VIC 3008"
          ],
          [
           "Suburb Docklands",
           "Site Hungry Jacks - Southern Cross Station 14/99 Spencer Street Docklands VIC 3008"
          ],
          [
           "Suburb South Wharf",
           "Site Roll'd - DFO South Wharf DFO South Wharf, 20 Convention Center Place South Wharf VIC 3006"
          ],
          [
           "Suburb South Wharf",
           "Site Boost Juice DFO DFO South Wharf, 20 Convention Center Place South Wharf VIC 3006"
          ],
          [
           "Suburb South Wharf",
           "Site DFO Food Court DFO South Wharf, 20 Convention Center Place South Wharf VIC 3006"
          ],
          [
           "Suburb Tullamarine",
           "Site 7-Eleven Tullamarine (Carrick Drive) 182 Melrose Drive Tullamarine VIC 3043"
          ],
          [
           "Suburb Moonee Ponds",
           "Site Moonee Valley Football Club - Ormond Park Spectators at (Men's 3rds Match Moonee Valley VS Hillside Sharks) 2A Pattison Steet Moonee Ponds VIC 3039"
          ],
          [
           "Suburb Moonee Ponds",
           "Site Moonee Valley Football Club - Ormond Park Function Room/Bar 2A Pattison Steet Moonee Ponds VIC 3039"
          ],
          [
           "Suburb Moonee Ponds",
           "Site Moonee Valley Football Club - Ormond Park (Male Change Rooms) 2A Pattison Steet Moonee Ponds VIC 3039"
          ],
          [
           "Suburb Port Melbourne",
           "Site Hunky Dory Fish & Chips 3/181 Bay Street Port Melbourne VIC 3207"
          ],
          [
           "Suburb Coburg",
           "Site Pentridge Cinema Coburg (Palace Cinema) - 7pm screening of 'Those Who Wish Me Dead' 1 Champ Street Coburg VIC 3058"
          ],
          [
           "Suburb Seddon",
           "Site Caprice Hair & Beauty 101 Charles Street Seddon VIC 3011"
          ],
          [
           "Suburb South Melbourne",
           "Site Anytime Fitness South Melbourne 63-69 Market Street South Melbourne VIC 3205"
          ],
          [
           "Suburb Coburg",
           "Site Pentridge Cinema Coburg (Palace Cinema) 1 Champ Street Coburg VIC 3058"
          ],
          [
           "Suburb Tullamarine",
           "Site BP Tullamarine Corner of Airport Drive and Link Road Tullamarine VIC 3045"
          ],
          [
           "Suburb Tullamarine",
           "Site BP Tullamarine Corner of Airport Drive and Link Road Tullamarine VIC 3045"
          ],
          [
           "Suburb Bundoora",
           "Site Bung Pai Thai Massage Bundoora 11/1320 Plenty Road Bundoora VIC 3083"
          ],
          [
           "Suburb Yarraville",
           "Site Focus Health & Fitness 121-123 Hyde Street Yarraville VIC 3013"
          ],
          [
           "Suburb Carlton",
           "Site Green Man's Arms 418 Lygon Sreet Carlton VIC 3053"
          ],
          [
           "Suburb South Melbourne",
           "Site Anytime Fitness South Melbourne 63-69 Market Street South Melbourne VIC 3205"
          ],
          [
           "Suburb South Melbourne",
           "Site Anytime Fitness South Melbourne 63-69 Market Street South Melbourne VIC 3205"
          ],
          [
           "Suburb South Melbourne",
           "Site Anytime Fitness South Melbourne 63-69 Market Street South Melbourne VIC 3205"
          ],
          [
           "Suburb Fitzroy",
           "Site Peko Peko Fitzroy 199 Smith Street Fitzroy VIC 3065"
          ],
          [
           "Suburb Aspendale Gardens",
           "Site Chelsea Heights Hotel Springvale Road & Wells Road Aspendale Gardens VIC 3196"
          ],
          [
           "Suburb Brunswick",
           "Site OPSM Barkly Square Barkly Square Shopping Centre, 90-160 Sydney Rd Brunswick VIC 3056"
          ],
          [
           "Suburb Doncaster",
           "Site Betty's Burgers & Concrete Co. (Westfield Doncaster) Tenancy R1 & R2, Level 2, 619 Doncaster Road Doncaster VIC 3108"
          ],
          [
           "Suburb Lalor",
           "Site Everfresh Fruit Market 346 Station Street Lalor VIC 3075"
          ],
          [
           "Suburb Lalor",
           "Site Fruits of Lalor 328 Station Street Lalor VIC 3075"
          ],
          [
           "Suburb Lalor",
           "Site No. 1 Fruit Market 37 May Road Lalor VIC 3075"
          ],
          [
           "Suburb Docklands",
           "Site Southern Cross Station, Toilets Under Bourke Street Bridge 14/99 Spencer Street Docklands VIC 3059"
          ],
          [
           "Suburb Greenvale",
           "Site Chemist Warehouse Shop 4, 212 - 220 Greenvale Drive Greenvale VIC 3059"
          ],
          [
           "Suburb Cranbourne",
           "Site LeNails Cranbourne Shop 101 Cranbourne Park Shopping Centre, High Street Cranbourne VIC 3977"
          ],
          [
           "Suburb Mill Park",
           "Site Degani, Westfield Plenty Valley 415 Mcdonalds Road Mill Park VIC 3082"
          ],
          [
           "Suburb Bayswater North",
           "Site Mcdonalds Bayswater North 296 Canterbury Road Bayswater North VIC 3153"
          ],
          [
           "Suburb Wantirna South",
           "Site Insportz Knox 108 Lewis Road Wantirna South VIC 3152"
          ],
          [
           "Suburb Mordialloc",
           "Site The Sporting Globe Mordialloc 590 Main Street Mordialloc VIC 3195"
          ],
          [
           "Suburb Burwood East",
           "Site Burwood Teppanyaki House 145 Burwood Highway Burwood East VIC 3151"
          ],
          [
           "Suburb Parkville",
           "Site Melbourne Swordcraft Ransford Oval, Park Street Parkville VIC 3052"
          ],
          [
           "Suburb Red Hill",
           "Site Nordie Cafe 1008 Mornington-Flinders Road Red Hill VIC 3937"
          ],
          [
           "Suburb Carnegie",
           "Site Bicycle Superstore 1030 Dandenong Road Carnegie VIC 3163"
          ],
          [
           "Suburb Coburg",
           "Site IGA Coburg 12-20 Nicholson Street Coburg VIC 3058"
          ],
          [
           "Suburb Fairfield",
           "Site 7-Eleven Fairfield East 324 Station street Fairfield VIC 3078"
          ],
          [
           "Suburb Port Melbourne",
           "Site The Local, Port Melbourne 22-24 Bay Street Port Melbourne VIC 3207"
          ],
          [
           "Suburb Bundoora",
           "Site Anytime Fitness Shop TG-01, Uni Hill Town Centre, 1-3 Janefield Drive Bundoora VIC 3083"
          ],
          [
           "Suburb Bundoora",
           "Site Anytime Fitness Shop TG-01, Uni Hill Town Centre, 1-3 Janefield Drive Bundoora VIC 3083"
          ],
          [
           "Suburb Southbank",
           "Site Criniti's Southbank 645 Freshwater Place Southbank VIC 3006"
          ],
          [
           "Suburb South Melbourne",
           "Site The Palace Hotel 505-507 City Road South Melbourne VIC 3205"
          ],
          [
           "Suburb Coburg",
           "Site Ritchies IGA Pentridge 1 Champ Street Coburg VIC 3058"
          ],
          [
           "Suburb Docklands",
           "Site Marvel Stadium - (Level 1 Aisles 5-28 and Level 3 Aisles 6-29) 740 Bourke St Docklands VIC 3008"
          ],
          [
           "Suburb Docklands",
           "Site Marvel Stadium - all other zones not individually listed 740 Bourke St Docklands VIC 3008"
          ],
          [
           "Suburb Cohuna",
           "Site Cohuna Football and Netball Club, Cohuna Recreation Reserve Island Road Cohuna VIC 3568"
          ],
          [
           "Suburb Brunswick",
           "Site Barkly Square: Priceline, Kmart, Woolworths, OPSM Barkly Square Shopping Centre, 90-160 Sydney Rd Brunswick VIC 3056"
          ],
          [
           "Suburb Reservoir",
           "Site Doctors on Broadway 210A Broadway Reservoir VIC 3073"
          ],
          [
           "Suburb Port Melbourne",
           "Site Stratton Finance HQ 1/435 Williamstown Road Port Melbourne VIC 3207"
          ],
          [
           "Suburb Port Melbourne",
           "Site Stratton Finance HQ 1/435 Williamstown Road Port Melbourne VIC 3207"
          ],
          [
           "Suburb Port Melbourne",
           "Site Stratton Finance HQ 1/435 Williamstown Road Port Melbourne VIC 3207"
          ],
          [
           "Suburb Port Melbourne",
           "Site Stratton Finance HQ 1/435 Williamstown Road Port Melbourne VIC 3207"
          ],
          [
           "Suburb Port Melbourne",
           "Site Stratton Finance HQ 1/435 Williamstown Road Port Melbourne VIC 3207"
          ],
          [
           "Suburb Port Melbourne",
           "Site Stratton Finance HQ 1/435 Williamstown Road Port Melbourne VIC 3207"
          ],
          [
           "Suburb Abbotsford",
           "Site Dukes Gym Abbotsford 571-573 Victoria Street Abbotsford VIC 3067"
          ],
          [
           "Suburb Balwyn",
           "Site Endless Lifestyle Studio  Shop 3/188 Whitehorse Road  Balwyn VIC 3103"
          ],
          [
           "Suburb Carlton",
           "Site RMIT Campus, Building 56 115 Queensberry Street  Carlton VIC 3053"
          ],
          [
           "Suburb Richmond",
           "Site Melbourne Cricket Ground - Zone 4, Level 1 Brunton Avenue Richmond VIC 3002"
          ],
          [
           "Suburb Richmond",
           "Site Melbourne Cricket Ground - All of the Stadium, other than Zone 4, Level 1 Brunton Avenue Richmond VIC 3002"
          ],
          [
           "Suburb Prahran",
           "Site Somewhere Bar 181 Chapel Street Prahran VIC 3181"
          ],
          [
           "Suburb Prahran",
           "Site Three Monkeys  210 Chapel Street Prahran VIC 3181"
          ],
          [
           "Suburb Prahran",
           "Site Three Monkeys  210 Chapel Street Prahran VIC 3181"
          ],
          [
           "Suburb South Yarra",
           "Site Circus Bar 199 Commercial Road South Yarra VIC 3181"
          ],
          [
           "Suburb Axedale",
           "Site Axedale Tavern 105 High Street Axedale VIC 3551"
          ],
          [
           "Suburb Bendigo",
           "Site Hairfolk 33 Williamson Street Bendigo VIC 3550"
          ],
          [
           "Suburb Coburg",
           "Site BP Southvale 303 Bell Street Coburg VIC 3058"
          ],
          [
           "Suburb Coburg",
           "Site The Nicholson Coffee House 6/14-20 Nicholson Street Coburg VIC 3058"
          ],
          [
           "Suburb Epping",
           "Site Coles Epping Shop Number Q002. Pacific Epping Cooper Street & High street Epping VIC 3076"
          ],
          [
           "Suburb Epping",
           "Site Woolworths Epping Shop Number Q003. Pacific Epping Cooper Street & High street Epping VIC 3076"
          ],
          [
           "Suburb Fitzroy North",
           "Site Secco and Co 414 Nicholson Street Fitzroy North VIC 3068"
          ],
          [
           "Suburb Port Melbourne",
           "Site Bay 101 Cafe 7/101 Bay Street Port Melbourne VIC 3207"
          ],
          [
           "Suburb Port Melbourne",
           "Site Port Park Cafe  7/484 Graham St Port Melbourne VIC 3207"
          ],
          [
           "Suburb Port Melbourne",
           "Site The Local, Port Melbourne 22-24 Bay Street Port Melbourne VIC 3207"
          ],
          [
           "Suburb Thornbury",
           "Site Little Tienda 410 Station Street Thornbury VIC 3071"
          ],
          [
           "Suburb Epping",
           "Site Chemist Warehouse Shop 15, Dalton Village, 351-371 Dalton Road Epping VIC 3076"
          ],
          [
           "Suburb Lalor",
           "Site Deep Indian Supermarket 3/494 High Street Lalor VIC 3075"
          ],
          [
           "Suburb Lalor",
           "Site Everfresh Fruit Market 346 Station Street Lalor VIC 3075"
          ],
          [
           "Suburb Lalor",
           "Site Fruits of Lalor 328 Station Street Lalor VIC 3075"
          ],
          [
           "Suburb Lalor",
           "Site No. 1 Fruit Market 37 May Road Lalor VIC 3075"
          ],
          [
           "Suburb Mill Park",
           "Site Bunnings Warehouse 761 Plenty Road Mill Park VIC 3082"
          ],
          [
           "Suburb Thomastown",
           "Site ACTROL (Retail Store- refrigerator and airconditioning parts) 13-17 Brand Drive Thomastown VIC 3074"
          ],
          [
           "Suburb Epping",
           "Site Nando's Epping (Dalton Rd) Shop 17 Dalton Village, 351-371 Dalton Road Epping VIC 3076"
          ],
          [
           "Suburb Brunswick",
           "Site Futsal Brunswick 409 Victoria Street Brunswick VIC 3056"
          ],
          [
           "Suburb Epping",
           "Site Urban Diner Food Court, Pacific Epping Shopping Centre 571-583 High Street Epping VIC 3076"
          ],
          [
           "Suburb Epping",
           "Site House and Party (store) 2 Lyndarum Drive Epping VIC 3076"
          ],
          [
           "Suburb Reservoir",
           "Site B.T. Connor Reserve 200 Broadhurst Avenue Reservoir VIC 3073"
          ],
          [
           "Suburb Epping",
           "Site Epping North Shopping Centre 2 Lyndarum Drive Epping VIC 3076"
          ],
          [
           "Suburb Epping",
           "Site JMD Grocers & Sweets 768 High Street Epping VIC 3076"
          ],
          [
           "Suburb Epping",
           "Site The Furniture Trader 102-120 Cooper Street Epping VIC 3076"
          ],
          [
           "Suburb Thomastown",
           "Site White Line Automotive 2/28 Lipton Drive Thomastown VIC 3074"
          ],
          [
           "Suburb Epping",
           "Site Woolworths Epping North Shop 13, 2 Lyndarum Drive Epping VIC 3076"
          ],
          [
           "Suburb Bundoora",
           "Site Jump! Swim Schools Bundoora 4/37 The Concord Bundoora VIC 3083"
          ],
          [
           "Suburb Clifton Hill",
           "Site McDonald's Clifton Hill - Dine-in Only 199 Queens Parade Clifton Hill VIC 3068"
          ],
          [
           "Suburb Epping",
           "Site ALDI Epping 347-371 Dalton Road Epping VIC 3076"
          ],
          [
           "Suburb Epping",
           "Site Chemist Depot Epping, Pacific Epping Shoping Centre 571-583 High Street Epping VIC 3076"
          ],
          [
           "Suburb Maribyrnong",
           "Site Highpoint Shopping Centre, all other areas on Levels 2 and 3 excluding specific shops listed as Tier 1 sites Levels 2 & 3, 120-200 Rosamond Road Maribyrnong VIC 3032"
          ],
          [
           "Suburb Maribyrnong",
           "Site Ishka, Highpoint Shopping Centre Level 2, 120-200 Rosamond Road Maribyrnong VIC 3032"
          ],
          [
           "Suburb Maribyrnong",
           "Site Kidstuff, Highpoint Shopping Centre Level 2, 120-200 Rosamond Road Maribyrnong VIC 3032"
          ],
          [
           "Suburb Maribyrnong",
           "Site Lush Cosmetics, Highpoint Shopping Centre Level 2, 120-200 Rosamond Road Maribyrnong VIC 3032"
          ],
          [
           "Suburb Maribyrnong",
           "Site Smiggle, Highpoint Shopping Centre Level 3, 120-200 Rosamond Road Maribyrnong VIC 3032"
          ],
          [
           "Suburb Maribyrnong",
           "Site Toyworld, Highpoint Shopping Centre Level 2, 120-200 Rosamond Road Maribyrnong VIC 3032"
          ],
          [
           "Suburb Melbourne",
           "Site Bamboo House 47 Little Bourke Street Melbourne VIC 3000"
          ],
          [
           "Suburb Preston",
           "Site Adams Reserve Playground Milton Crescent Preston VIC 3072"
          ],
          [
           "Suburb Preston",
           "Site ALDI Preston South 15 Dundas Street Preston VIC 3072"
          ],
          [
           "Suburb Reservoir",
           "Site P & C Indian Grocery & Convenience Store 246 Broadway Reservoir VIC 3073"
          ],
          [
           "Suburb Reservoir",
           "Site Shell Coles Express Reservoir 192-202 Broadway & Whitelaw Street Reservoir VIC 3073"
          ]
         ],
         "hovertemplate": "date_exposure=%{x}<br>date_added=%{y}<br>Suburb=%{customdata[0]}<br>Site=%{customdata[1]}<extra></extra>",
         "legendgroup": "",
         "marker": {
          "color": "#636efa",
          "opacity": 0.5,
          "size": 20,
          "symbol": "circle"
         },
         "mode": "markers",
         "name": "",
         "orientation": "v",
         "showlegend": false,
         "type": "scatter",
         "x": [
          "2021-05-23T00:00:00",
          "2021-05-28T00:00:00",
          "2021-05-28T00:00:00",
          "2021-05-28T00:00:00",
          "2021-05-26T00:00:00",
          "2021-05-27T00:00:00",
          "2021-05-28T00:00:00",
          "2021-05-29T00:00:00",
          "2021-05-26T00:00:00",
          "2021-05-26T00:00:00",
          "2021-05-26T00:00:00",
          "2021-05-27T00:00:00",
          "2021-05-28T00:00:00",
          "2021-05-29T00:00:00",
          "2021-05-28T00:00:00",
          "2021-05-25T00:00:00",
          "2021-05-27T00:00:00",
          "2021-05-27T00:00:00",
          "2021-05-27T00:00:00",
          "2021-05-22T00:00:00",
          "2021-05-23T00:00:00",
          "2021-05-23T00:00:00",
          "2021-05-25T00:00:00",
          "2021-05-21T00:00:00",
          "2021-05-26T00:00:00",
          "2021-05-26T00:00:00",
          "2021-05-24T00:00:00",
          "2021-05-25T00:00:00",
          "2021-05-26T00:00:00",
          "2021-05-26T00:00:00",
          "2021-05-15T00:00:00",
          "2021-05-15T00:00:00",
          "2021-05-22T00:00:00",
          "2021-05-23T00:00:00",
          "2021-05-20T00:00:00",
          "2021-05-18T00:00:00",
          "2021-05-26T00:00:00",
          "2021-05-26T00:00:00",
          "2021-05-26T00:00:00",
          "2021-05-25T00:00:00",
          "2021-05-25T00:00:00",
          "2021-05-24T00:00:00",
          "2021-05-23T00:00:00",
          "2021-05-23T00:00:00",
          "2021-05-25T00:00:00",
          "2021-05-22T00:00:00",
          "2021-05-23T00:00:00",
          "2021-05-22T00:00:00",
          "2021-05-22T00:00:00",
          "2021-05-23T00:00:00",
          "2021-05-26T00:00:00",
          "2021-05-24T00:00:00",
          "2021-05-23T00:00:00",
          "2021-05-22T00:00:00",
          "2021-05-24T00:00:00",
          "2021-05-24T00:00:00",
          "2021-05-23T00:00:00",
          "2021-05-22T00:00:00",
          "2021-05-24T00:00:00",
          "2021-05-22T00:00:00",
          "2021-05-27T00:00:00",
          "2021-05-27T00:00:00",
          "2021-05-26T00:00:00",
          "2021-05-23T00:00:00",
          "2021-05-23T00:00:00",
          "2021-05-26T00:00:00",
          "2021-05-26T00:00:00",
          "2021-05-26T00:00:00",
          "2021-05-21T00:00:00",
          "2021-05-22T00:00:00",
          "2021-05-24T00:00:00",
          "2021-05-17T00:00:00",
          "2021-05-17T00:00:00",
          "2021-05-26T00:00:00",
          "2021-05-26T00:00:00",
          "2021-05-26T00:00:00",
          "2021-05-27T00:00:00",
          "2021-05-24T00:00:00",
          "2021-05-19T00:00:00",
          "2021-05-22T00:00:00",
          "2021-05-26T00:00:00",
          "2021-05-27T00:00:00",
          "2021-05-17T00:00:00",
          "2021-05-18T00:00:00",
          "2021-05-22T00:00:00",
          "2021-05-25T00:00:00",
          "2021-05-25T00:00:00",
          "2021-05-25T00:00:00",
          "2021-05-22T00:00:00",
          "2021-05-22T00:00:00",
          "2021-05-26T00:00:00",
          "2021-05-22T00:00:00",
          "2021-05-22T00:00:00",
          "2021-05-22T00:00:00",
          "2021-05-19T00:00:00",
          "2021-05-22T00:00:00",
          "2021-05-18T00:00:00",
          "2021-05-25T00:00:00",
          "2021-05-26T00:00:00",
          "2021-05-24T00:00:00",
          "2021-05-17T00:00:00",
          "2021-05-18T00:00:00",
          "2021-05-20T00:00:00",
          "2021-05-21T00:00:00",
          "2021-05-24T00:00:00",
          "2021-05-25T00:00:00",
          "2021-05-27T00:00:00",
          "2021-05-28T00:00:00",
          "2021-05-12T00:00:00",
          "2021-05-13T00:00:00",
          "2021-05-20T00:00:00",
          "2021-05-25T00:00:00",
          "2021-05-19T00:00:00",
          "2021-05-25T00:00:00",
          "2021-05-26T00:00:00",
          "2021-05-23T00:00:00",
          "2021-05-19T00:00:00",
          "2021-05-25T00:00:00",
          "2021-05-22T00:00:00",
          "2021-05-26T00:00:00",
          "2021-05-24T00:00:00",
          "2021-05-26T00:00:00",
          "2021-05-21T00:00:00",
          "2021-05-25T00:00:00",
          "2021-05-26T00:00:00",
          "2021-05-26T00:00:00",
          "2021-05-27T00:00:00",
          "2021-05-27T00:00:00",
          "2021-05-27T00:00:00",
          "2021-05-28T00:00:00",
          "2021-05-23T00:00:00",
          "2021-05-26T00:00:00",
          "2021-05-26T00:00:00",
          "2021-05-26T00:00:00",
          "2021-05-25T00:00:00",
          "2021-05-24T00:00:00",
          "2021-05-25T00:00:00",
          "2021-05-25T00:00:00",
          "2021-05-25T00:00:00",
          "2021-05-24T00:00:00",
          "2021-05-22T00:00:00",
          "2021-05-22T00:00:00",
          "2021-05-23T00:00:00",
          "2021-05-22T00:00:00",
          "2021-05-21T00:00:00",
          "2021-05-23T00:00:00",
          "2021-05-25T00:00:00",
          "2021-05-19T00:00:00",
          "2021-05-19T00:00:00",
          "2021-05-19T00:00:00",
          "2021-05-19T00:00:00",
          "2021-05-19T00:00:00",
          "2021-05-25T00:00:00",
          "2021-05-19T00:00:00",
          "2021-05-18T00:00:00",
          "2021-05-18T00:00:00",
          "2021-05-18T00:00:00",
          "2021-05-18T00:00:00",
          "2021-05-25T00:00:00",
          "2021-05-24T00:00:00",
          "2021-05-23T00:00:00",
          "2021-05-23T00:00:00",
          "2021-05-23T00:00:00",
          "2021-05-22T00:00:00",
          "2021-05-24T00:00:00",
          "2021-05-25T00:00:00",
          "2021-05-26T00:00:00",
          "2021-05-22T00:00:00",
          "2021-05-23T00:00:00",
          "2021-05-25T00:00:00",
          "2021-05-26T00:00:00",
          "2021-05-27T00:00:00",
          "2021-05-22T00:00:00",
          "2021-05-22T00:00:00",
          "2021-05-22T00:00:00",
          "2021-05-23T00:00:00",
          "2021-05-25T00:00:00",
          "2021-05-24T00:00:00",
          "2021-05-25T00:00:00",
          "2021-05-24T00:00:00",
          "2021-05-23T00:00:00",
          "2021-05-24T00:00:00",
          "2021-05-25T00:00:00",
          "2021-05-25T00:00:00",
          "2021-05-13T00:00:00",
          "2021-05-23T00:00:00",
          "2021-05-23T00:00:00",
          "2021-05-23T00:00:00",
          "2021-05-23T00:00:00",
          "2021-05-25T00:00:00",
          "2021-05-24T00:00:00",
          "2021-05-24T00:00:00",
          "2021-05-22T00:00:00",
          "2021-05-22T00:00:00",
          "2021-05-22T00:00:00",
          "2021-05-22T00:00:00",
          "2021-05-21T00:00:00",
          "2021-05-24T00:00:00",
          "2021-05-22T00:00:00",
          "2021-05-20T00:00:00",
          "2021-05-24T00:00:00",
          "2021-05-24T00:00:00",
          "2021-05-24T00:00:00",
          "2021-05-24T00:00:00",
          "2021-05-24T00:00:00",
          "2021-05-23T00:00:00",
          "2021-05-21T00:00:00",
          "2021-05-24T00:00:00",
          "2021-05-25T00:00:00",
          "2021-05-22T00:00:00",
          "2021-05-23T00:00:00",
          "2021-05-22T00:00:00",
          "2021-05-23T00:00:00",
          "2021-05-14T00:00:00",
          "2021-05-14T00:00:00",
          "2021-05-14T00:00:00",
          "2021-05-23T00:00:00",
          "2021-05-25T00:00:00",
          "2021-05-22T00:00:00",
          "2021-05-23T00:00:00",
          "2021-05-21T00:00:00",
          "2021-05-20T00:00:00",
          "2021-05-23T00:00:00",
          "2021-05-22T00:00:00",
          "2021-05-21T00:00:00",
          "2021-05-22T00:00:00",
          "2021-05-23T00:00:00",
          "2021-05-22T00:00:00",
          "2021-05-23T00:00:00",
          "2021-05-21T00:00:00",
          "2021-05-23T00:00:00",
          "2021-05-24T00:00:00",
          "2021-05-23T00:00:00",
          "2021-05-21T00:00:00",
          "2021-05-24T00:00:00",
          "2021-05-23T00:00:00",
          "2021-05-23T00:00:00",
          "2021-05-22T00:00:00",
          "2021-05-22T00:00:00",
          "2021-05-18T00:00:00",
          "2021-05-20T00:00:00",
          "2021-05-21T00:00:00",
          "2021-05-22T00:00:00",
          "2021-05-23T00:00:00",
          "2021-05-24T00:00:00",
          "2021-05-25T00:00:00",
          "2021-05-24T00:00:00",
          "2021-05-23T00:00:00",
          "2021-05-21T00:00:00",
          "2021-05-23T00:00:00",
          "2021-05-23T00:00:00",
          "2021-05-22T00:00:00",
          "2021-05-22T00:00:00",
          "2021-05-23T00:00:00",
          "2021-05-23T00:00:00",
          "2021-05-23T00:00:00",
          "2021-05-22T00:00:00",
          "2021-05-22T00:00:00",
          "2021-05-22T00:00:00",
          "2021-05-20T00:00:00",
          "2021-05-20T00:00:00",
          "2021-05-22T00:00:00",
          "2021-05-24T00:00:00",
          "2021-05-24T00:00:00",
          "2021-05-21T00:00:00",
          "2021-05-22T00:00:00",
          "2021-05-19T00:00:00",
          "2021-05-20T00:00:00",
          "2021-05-19T00:00:00",
          "2021-05-19T00:00:00",
          "2021-05-19T00:00:00",
          "2021-05-20T00:00:00",
          "2021-05-17T00:00:00",
          "2021-05-19T00:00:00",
          "2021-05-23T00:00:00",
          "2021-05-23T00:00:00",
          "2021-05-22T00:00:00",
          "2021-05-21T00:00:00",
          "2021-05-22T00:00:00",
          "2021-05-17T00:00:00",
          "2021-05-18T00:00:00",
          "2021-05-20T00:00:00",
          "2021-05-22T00:00:00",
          "2021-05-21T00:00:00",
          "2021-05-22T00:00:00",
          "2021-05-23T00:00:00",
          "2021-05-23T00:00:00",
          "2021-05-20T00:00:00",
          "2021-05-20T00:00:00",
          "2021-05-20T00:00:00",
          "2021-05-20T00:00:00",
          "2021-05-20T00:00:00",
          "2021-05-20T00:00:00",
          "2021-05-21T00:00:00",
          "2021-05-23T00:00:00",
          "2021-05-23T00:00:00",
          "2021-05-22T00:00:00",
          "2021-05-18T00:00:00"
         ],
         "xaxis": "x",
         "y": [
          "2021-06-01T00:00:00",
          "2021-06-01T00:00:00",
          "2021-06-01T00:00:00",
          "2021-06-01T00:00:00",
          "2021-05-31T00:00:00",
          "2021-05-31T00:00:00",
          "2021-05-31T00:00:00",
          "2021-05-31T00:00:00",
          "2021-05-31T00:00:00",
          "2021-05-31T00:00:00",
          "2021-05-31T00:00:00",
          "2021-05-31T00:00:00",
          "2021-05-31T00:00:00",
          "2021-05-31T00:00:00",
          "2021-05-31T00:00:00",
          "2021-05-31T00:00:00",
          "2021-05-31T00:00:00",
          "2021-05-31T00:00:00",
          "2021-05-31T00:00:00",
          "2021-05-31T00:00:00",
          "2021-05-31T00:00:00",
          "2021-05-31T00:00:00",
          "2021-05-31T00:00:00",
          "2021-05-31T00:00:00",
          "2021-05-31T00:00:00",
          "2021-05-31T00:00:00",
          "2021-05-30T00:00:00",
          "2021-05-30T00:00:00",
          "2021-05-30T00:00:00",
          "2021-05-30T00:00:00",
          "2021-05-30T00:00:00",
          "2021-05-30T00:00:00",
          "2021-05-30T00:00:00",
          "2021-05-30T00:00:00",
          "2021-05-30T00:00:00",
          "2021-05-30T00:00:00",
          "2021-05-30T00:00:00",
          "2021-05-30T00:00:00",
          "2021-05-30T00:00:00",
          "2021-05-30T00:00:00",
          "2021-05-30T00:00:00",
          "2021-05-30T00:00:00",
          "2021-05-30T00:00:00",
          "2021-05-30T00:00:00",
          "2021-05-30T00:00:00",
          "2021-05-30T00:00:00",
          "2021-05-30T00:00:00",
          "2021-05-30T00:00:00",
          "2021-05-30T00:00:00",
          "2021-05-30T00:00:00",
          "2021-05-30T00:00:00",
          "2021-05-30T00:00:00",
          "2021-05-30T00:00:00",
          "2021-05-30T00:00:00",
          "2021-05-30T00:00:00",
          "2021-05-30T00:00:00",
          "2021-05-30T00:00:00",
          "2021-05-30T00:00:00",
          "2021-05-30T00:00:00",
          "2021-05-30T00:00:00",
          "2021-05-30T00:00:00",
          "2021-05-30T00:00:00",
          "2021-05-30T00:00:00",
          "2021-05-30T00:00:00",
          "2021-05-30T00:00:00",
          "2021-05-30T00:00:00",
          "2021-05-30T00:00:00",
          "2021-05-30T00:00:00",
          "2021-05-30T00:00:00",
          "2021-05-30T00:00:00",
          "2021-05-30T00:00:00",
          "2021-05-30T00:00:00",
          "2021-05-30T00:00:00",
          "2021-05-30T00:00:00",
          "2021-05-30T00:00:00",
          "2021-05-30T00:00:00",
          "2021-05-30T00:00:00",
          "2021-05-30T00:00:00",
          "2021-05-30T00:00:00",
          "2021-05-30T00:00:00",
          "2021-05-30T00:00:00",
          "2021-05-30T00:00:00",
          "2021-05-30T00:00:00",
          "2021-05-30T00:00:00",
          "2021-05-30T00:00:00",
          "2021-05-30T00:00:00",
          "2021-05-30T00:00:00",
          "2021-05-30T00:00:00",
          "2021-05-30T00:00:00",
          "2021-05-30T00:00:00",
          "2021-05-30T00:00:00",
          "2021-05-30T00:00:00",
          "2021-05-30T00:00:00",
          "2021-05-30T00:00:00",
          "2021-05-30T00:00:00",
          "2021-05-30T00:00:00",
          "2021-05-30T00:00:00",
          "2021-05-30T00:00:00",
          "2021-05-30T00:00:00",
          "2021-05-30T00:00:00",
          "2021-05-30T00:00:00",
          "2021-05-30T00:00:00",
          "2021-05-30T00:00:00",
          "2021-05-30T00:00:00",
          "2021-05-30T00:00:00",
          "2021-05-30T00:00:00",
          "2021-05-30T00:00:00",
          "2021-05-30T00:00:00",
          "2021-05-30T00:00:00",
          "2021-05-30T00:00:00",
          "2021-05-30T00:00:00",
          "2021-05-30T00:00:00",
          "2021-05-30T00:00:00",
          "2021-05-30T00:00:00",
          "2021-05-30T00:00:00",
          "2021-05-30T00:00:00",
          "2021-05-30T00:00:00",
          "2021-05-30T00:00:00",
          "2021-05-30T00:00:00",
          "2021-05-30T00:00:00",
          "2021-05-30T00:00:00",
          "2021-05-30T00:00:00",
          "2021-05-30T00:00:00",
          "2021-05-30T00:00:00",
          "2021-05-29T00:00:00",
          "2021-05-29T00:00:00",
          "2021-05-29T00:00:00",
          "2021-05-29T00:00:00",
          "2021-05-29T00:00:00",
          "2021-05-29T00:00:00",
          "2021-05-29T00:00:00",
          "2021-05-29T00:00:00",
          "2021-05-29T00:00:00",
          "2021-05-29T00:00:00",
          "2021-05-29T00:00:00",
          "2021-05-29T00:00:00",
          "2021-05-29T00:00:00",
          "2021-05-29T00:00:00",
          "2021-05-29T00:00:00",
          "2021-05-29T00:00:00",
          "2021-05-29T00:00:00",
          "2021-05-29T00:00:00",
          "2021-05-29T00:00:00",
          "2021-05-29T00:00:00",
          "2021-05-29T00:00:00",
          "2021-05-29T00:00:00",
          "2021-05-29T00:00:00",
          "2021-05-28T00:00:00",
          "2021-05-28T00:00:00",
          "2021-05-28T00:00:00",
          "2021-05-28T00:00:00",
          "2021-05-28T00:00:00",
          "2021-05-28T00:00:00",
          "2021-05-28T00:00:00",
          "2021-05-28T00:00:00",
          "2021-05-28T00:00:00",
          "2021-05-28T00:00:00",
          "2021-05-28T00:00:00",
          "2021-05-28T00:00:00",
          "2021-05-28T00:00:00",
          "2021-05-28T00:00:00",
          "2021-05-28T00:00:00",
          "2021-05-28T00:00:00",
          "2021-05-28T00:00:00",
          "2021-05-28T00:00:00",
          "2021-05-28T00:00:00",
          "2021-05-28T00:00:00",
          "2021-05-28T00:00:00",
          "2021-05-28T00:00:00",
          "2021-05-28T00:00:00",
          "2021-05-28T00:00:00",
          "2021-05-28T00:00:00",
          "2021-05-28T00:00:00",
          "2021-05-28T00:00:00",
          "2021-05-28T00:00:00",
          "2021-05-28T00:00:00",
          "2021-05-28T00:00:00",
          "2021-05-28T00:00:00",
          "2021-05-28T00:00:00",
          "2021-05-28T00:00:00",
          "2021-05-28T00:00:00",
          "2021-05-27T00:00:00",
          "2021-05-27T00:00:00",
          "2021-05-27T00:00:00",
          "2021-05-27T00:00:00",
          "2021-05-27T00:00:00",
          "2021-05-27T00:00:00",
          "2021-05-27T00:00:00",
          "2021-05-27T00:00:00",
          "2021-05-27T00:00:00",
          "2021-05-27T00:00:00",
          "2021-05-27T00:00:00",
          "2021-05-27T00:00:00",
          "2021-05-27T00:00:00",
          "2021-05-27T00:00:00",
          "2021-05-27T00:00:00",
          "2021-05-27T00:00:00",
          "2021-05-27T00:00:00",
          "2021-05-27T00:00:00",
          "2021-05-27T00:00:00",
          "2021-05-27T00:00:00",
          "2021-05-27T00:00:00",
          "2021-05-27T00:00:00",
          "2021-05-27T00:00:00",
          "2021-05-27T00:00:00",
          "2021-05-27T00:00:00",
          "2021-05-27T00:00:00",
          "2021-05-27T00:00:00",
          "2021-05-27T00:00:00",
          "2021-05-27T00:00:00",
          "2021-05-27T00:00:00",
          "2021-05-27T00:00:00",
          "2021-05-27T00:00:00",
          "2021-05-27T00:00:00",
          "2021-05-27T00:00:00",
          "2021-05-27T00:00:00",
          "2021-05-27T00:00:00",
          "2021-05-27T00:00:00",
          "2021-05-27T00:00:00",
          "2021-05-26T00:00:00",
          "2021-05-26T00:00:00",
          "2021-05-26T00:00:00",
          "2021-05-26T00:00:00",
          "2021-05-26T00:00:00",
          "2021-05-26T00:00:00",
          "2021-05-26T00:00:00",
          "2021-05-26T00:00:00",
          "2021-05-26T00:00:00",
          "2021-05-26T00:00:00",
          "2021-05-26T00:00:00",
          "2021-05-26T00:00:00",
          "2021-05-26T00:00:00",
          "2021-05-26T00:00:00",
          "2021-05-26T00:00:00",
          "2021-05-26T00:00:00",
          "2021-05-26T00:00:00",
          "2021-05-26T00:00:00",
          "2021-05-26T00:00:00",
          "2021-05-26T00:00:00",
          "2021-05-26T00:00:00",
          "2021-05-26T00:00:00",
          "2021-05-26T00:00:00",
          "2021-05-26T00:00:00",
          "2021-05-26T00:00:00",
          "2021-05-26T00:00:00",
          "2021-05-26T00:00:00",
          "2021-05-26T00:00:00",
          "2021-05-26T00:00:00",
          "2021-05-26T00:00:00",
          "2021-05-26T00:00:00",
          "2021-05-26T00:00:00",
          "2021-05-26T00:00:00",
          "2021-05-26T00:00:00",
          "2021-05-26T00:00:00",
          "2021-05-26T00:00:00",
          "2021-05-26T00:00:00",
          "2021-05-26T00:00:00",
          "2021-05-26T00:00:00",
          "2021-05-26T00:00:00",
          "2021-05-26T00:00:00",
          "2021-05-26T00:00:00",
          "2021-05-26T00:00:00",
          "2021-05-26T00:00:00",
          "2021-05-26T00:00:00",
          "2021-05-26T00:00:00",
          "2021-05-26T00:00:00",
          "2021-05-25T00:00:00",
          "2021-05-25T00:00:00",
          "2021-05-25T00:00:00",
          "2021-05-25T00:00:00",
          "2021-05-25T00:00:00",
          "2021-05-25T00:00:00",
          "2021-05-25T00:00:00",
          "2021-05-24T00:00:00",
          "2021-05-24T00:00:00",
          "2021-05-24T00:00:00",
          "2021-05-24T00:00:00",
          "2021-05-24T00:00:00",
          "2021-05-24T00:00:00",
          "2021-05-24T00:00:00",
          "2021-05-24T00:00:00",
          "2021-05-24T00:00:00",
          "2021-05-24T00:00:00",
          "2021-05-24T00:00:00",
          "2021-05-24T00:00:00",
          "2021-05-24T00:00:00",
          "2021-05-24T00:00:00",
          "2021-05-24T00:00:00",
          "2021-05-24T00:00:00",
          "2021-05-24T00:00:00",
          "2021-05-24T00:00:00",
          "2021-05-24T00:00:00",
          "2021-05-24T00:00:00",
          "2021-05-24T00:00:00",
          "2021-05-24T00:00:00",
          "2021-05-24T00:00:00",
          "2021-05-22T00:00:00",
          "2021-05-18T00:00:00"
         ],
         "yaxis": "y"
        }
       ],
       "layout": {
        "legend": {
         "tracegroupgap": 0
        },
        "margin": {
         "t": 60
        },
        "template": {
         "data": {
          "bar": [
           {
            "error_x": {
             "color": "#f2f5fa"
            },
            "error_y": {
             "color": "#f2f5fa"
            },
            "marker": {
             "line": {
              "color": "rgb(17,17,17)",
              "width": 0.5
             }
            },
            "type": "bar"
           }
          ],
          "barpolar": [
           {
            "marker": {
             "line": {
              "color": "rgb(17,17,17)",
              "width": 0.5
             }
            },
            "type": "barpolar"
           }
          ],
          "carpet": [
           {
            "aaxis": {
             "endlinecolor": "#A2B1C6",
             "gridcolor": "#506784",
             "linecolor": "#506784",
             "minorgridcolor": "#506784",
             "startlinecolor": "#A2B1C6"
            },
            "baxis": {
             "endlinecolor": "#A2B1C6",
             "gridcolor": "#506784",
             "linecolor": "#506784",
             "minorgridcolor": "#506784",
             "startlinecolor": "#A2B1C6"
            },
            "type": "carpet"
           }
          ],
          "choropleth": [
           {
            "colorbar": {
             "outlinewidth": 0,
             "ticks": ""
            },
            "type": "choropleth"
           }
          ],
          "contour": [
           {
            "colorbar": {
             "outlinewidth": 0,
             "ticks": ""
            },
            "colorscale": [
             [
              0,
              "#0d0887"
             ],
             [
              0.1111111111111111,
              "#46039f"
             ],
             [
              0.2222222222222222,
              "#7201a8"
             ],
             [
              0.3333333333333333,
              "#9c179e"
             ],
             [
              0.4444444444444444,
              "#bd3786"
             ],
             [
              0.5555555555555556,
              "#d8576b"
             ],
             [
              0.6666666666666666,
              "#ed7953"
             ],
             [
              0.7777777777777778,
              "#fb9f3a"
             ],
             [
              0.8888888888888888,
              "#fdca26"
             ],
             [
              1,
              "#f0f921"
             ]
            ],
            "type": "contour"
           }
          ],
          "contourcarpet": [
           {
            "colorbar": {
             "outlinewidth": 0,
             "ticks": ""
            },
            "type": "contourcarpet"
           }
          ],
          "heatmap": [
           {
            "colorbar": {
             "outlinewidth": 0,
             "ticks": ""
            },
            "colorscale": [
             [
              0,
              "#0d0887"
             ],
             [
              0.1111111111111111,
              "#46039f"
             ],
             [
              0.2222222222222222,
              "#7201a8"
             ],
             [
              0.3333333333333333,
              "#9c179e"
             ],
             [
              0.4444444444444444,
              "#bd3786"
             ],
             [
              0.5555555555555556,
              "#d8576b"
             ],
             [
              0.6666666666666666,
              "#ed7953"
             ],
             [
              0.7777777777777778,
              "#fb9f3a"
             ],
             [
              0.8888888888888888,
              "#fdca26"
             ],
             [
              1,
              "#f0f921"
             ]
            ],
            "type": "heatmap"
           }
          ],
          "heatmapgl": [
           {
            "colorbar": {
             "outlinewidth": 0,
             "ticks": ""
            },
            "colorscale": [
             [
              0,
              "#0d0887"
             ],
             [
              0.1111111111111111,
              "#46039f"
             ],
             [
              0.2222222222222222,
              "#7201a8"
             ],
             [
              0.3333333333333333,
              "#9c179e"
             ],
             [
              0.4444444444444444,
              "#bd3786"
             ],
             [
              0.5555555555555556,
              "#d8576b"
             ],
             [
              0.6666666666666666,
              "#ed7953"
             ],
             [
              0.7777777777777778,
              "#fb9f3a"
             ],
             [
              0.8888888888888888,
              "#fdca26"
             ],
             [
              1,
              "#f0f921"
             ]
            ],
            "type": "heatmapgl"
           }
          ],
          "histogram": [
           {
            "marker": {
             "colorbar": {
              "outlinewidth": 0,
              "ticks": ""
             }
            },
            "type": "histogram"
           }
          ],
          "histogram2d": [
           {
            "colorbar": {
             "outlinewidth": 0,
             "ticks": ""
            },
            "colorscale": [
             [
              0,
              "#0d0887"
             ],
             [
              0.1111111111111111,
              "#46039f"
             ],
             [
              0.2222222222222222,
              "#7201a8"
             ],
             [
              0.3333333333333333,
              "#9c179e"
             ],
             [
              0.4444444444444444,
              "#bd3786"
             ],
             [
              0.5555555555555556,
              "#d8576b"
             ],
             [
              0.6666666666666666,
              "#ed7953"
             ],
             [
              0.7777777777777778,
              "#fb9f3a"
             ],
             [
              0.8888888888888888,
              "#fdca26"
             ],
             [
              1,
              "#f0f921"
             ]
            ],
            "type": "histogram2d"
           }
          ],
          "histogram2dcontour": [
           {
            "colorbar": {
             "outlinewidth": 0,
             "ticks": ""
            },
            "colorscale": [
             [
              0,
              "#0d0887"
             ],
             [
              0.1111111111111111,
              "#46039f"
             ],
             [
              0.2222222222222222,
              "#7201a8"
             ],
             [
              0.3333333333333333,
              "#9c179e"
             ],
             [
              0.4444444444444444,
              "#bd3786"
             ],
             [
              0.5555555555555556,
              "#d8576b"
             ],
             [
              0.6666666666666666,
              "#ed7953"
             ],
             [
              0.7777777777777778,
              "#fb9f3a"
             ],
             [
              0.8888888888888888,
              "#fdca26"
             ],
             [
              1,
              "#f0f921"
             ]
            ],
            "type": "histogram2dcontour"
           }
          ],
          "mesh3d": [
           {
            "colorbar": {
             "outlinewidth": 0,
             "ticks": ""
            },
            "type": "mesh3d"
           }
          ],
          "parcoords": [
           {
            "line": {
             "colorbar": {
              "outlinewidth": 0,
              "ticks": ""
             }
            },
            "type": "parcoords"
           }
          ],
          "pie": [
           {
            "automargin": true,
            "type": "pie"
           }
          ],
          "scatter": [
           {
            "marker": {
             "line": {
              "color": "#283442"
             }
            },
            "type": "scatter"
           }
          ],
          "scatter3d": [
           {
            "line": {
             "colorbar": {
              "outlinewidth": 0,
              "ticks": ""
             }
            },
            "marker": {
             "colorbar": {
              "outlinewidth": 0,
              "ticks": ""
             }
            },
            "type": "scatter3d"
           }
          ],
          "scattercarpet": [
           {
            "marker": {
             "colorbar": {
              "outlinewidth": 0,
              "ticks": ""
             }
            },
            "type": "scattercarpet"
           }
          ],
          "scattergeo": [
           {
            "marker": {
             "colorbar": {
              "outlinewidth": 0,
              "ticks": ""
             }
            },
            "type": "scattergeo"
           }
          ],
          "scattergl": [
           {
            "marker": {
             "line": {
              "color": "#283442"
             }
            },
            "type": "scattergl"
           }
          ],
          "scattermapbox": [
           {
            "marker": {
             "colorbar": {
              "outlinewidth": 0,
              "ticks": ""
             }
            },
            "type": "scattermapbox"
           }
          ],
          "scatterpolar": [
           {
            "marker": {
             "colorbar": {
              "outlinewidth": 0,
              "ticks": ""
             }
            },
            "type": "scatterpolar"
           }
          ],
          "scatterpolargl": [
           {
            "marker": {
             "colorbar": {
              "outlinewidth": 0,
              "ticks": ""
             }
            },
            "type": "scatterpolargl"
           }
          ],
          "scatterternary": [
           {
            "marker": {
             "colorbar": {
              "outlinewidth": 0,
              "ticks": ""
             }
            },
            "type": "scatterternary"
           }
          ],
          "surface": [
           {
            "colorbar": {
             "outlinewidth": 0,
             "ticks": ""
            },
            "colorscale": [
             [
              0,
              "#0d0887"
             ],
             [
              0.1111111111111111,
              "#46039f"
             ],
             [
              0.2222222222222222,
              "#7201a8"
             ],
             [
              0.3333333333333333,
              "#9c179e"
             ],
             [
              0.4444444444444444,
              "#bd3786"
             ],
             [
              0.5555555555555556,
              "#d8576b"
             ],
             [
              0.6666666666666666,
              "#ed7953"
             ],
             [
              0.7777777777777778,
              "#fb9f3a"
             ],
             [
              0.8888888888888888,
              "#fdca26"
             ],
             [
              1,
              "#f0f921"
             ]
            ],
            "type": "surface"
           }
          ],
          "table": [
           {
            "cells": {
             "fill": {
              "color": "#506784"
             },
             "line": {
              "color": "rgb(17,17,17)"
             }
            },
            "header": {
             "fill": {
              "color": "#2a3f5f"
             },
             "line": {
              "color": "rgb(17,17,17)"
             }
            },
            "type": "table"
           }
          ]
         },
         "layout": {
          "annotationdefaults": {
           "arrowcolor": "#f2f5fa",
           "arrowhead": 0,
           "arrowwidth": 1
          },
          "autotypenumbers": "strict",
          "coloraxis": {
           "colorbar": {
            "outlinewidth": 0,
            "ticks": ""
           }
          },
          "colorscale": {
           "diverging": [
            [
             0,
             "#8e0152"
            ],
            [
             0.1,
             "#c51b7d"
            ],
            [
             0.2,
             "#de77ae"
            ],
            [
             0.3,
             "#f1b6da"
            ],
            [
             0.4,
             "#fde0ef"
            ],
            [
             0.5,
             "#f7f7f7"
            ],
            [
             0.6,
             "#e6f5d0"
            ],
            [
             0.7,
             "#b8e186"
            ],
            [
             0.8,
             "#7fbc41"
            ],
            [
             0.9,
             "#4d9221"
            ],
            [
             1,
             "#276419"
            ]
           ],
           "sequential": [
            [
             0,
             "#0d0887"
            ],
            [
             0.1111111111111111,
             "#46039f"
            ],
            [
             0.2222222222222222,
             "#7201a8"
            ],
            [
             0.3333333333333333,
             "#9c179e"
            ],
            [
             0.4444444444444444,
             "#bd3786"
            ],
            [
             0.5555555555555556,
             "#d8576b"
            ],
            [
             0.6666666666666666,
             "#ed7953"
            ],
            [
             0.7777777777777778,
             "#fb9f3a"
            ],
            [
             0.8888888888888888,
             "#fdca26"
            ],
            [
             1,
             "#f0f921"
            ]
           ],
           "sequentialminus": [
            [
             0,
             "#0d0887"
            ],
            [
             0.1111111111111111,
             "#46039f"
            ],
            [
             0.2222222222222222,
             "#7201a8"
            ],
            [
             0.3333333333333333,
             "#9c179e"
            ],
            [
             0.4444444444444444,
             "#bd3786"
            ],
            [
             0.5555555555555556,
             "#d8576b"
            ],
            [
             0.6666666666666666,
             "#ed7953"
            ],
            [
             0.7777777777777778,
             "#fb9f3a"
            ],
            [
             0.8888888888888888,
             "#fdca26"
            ],
            [
             1,
             "#f0f921"
            ]
           ]
          },
          "colorway": [
           "#636efa",
           "#EF553B",
           "#00cc96",
           "#ab63fa",
           "#FFA15A",
           "#19d3f3",
           "#FF6692",
           "#B6E880",
           "#FF97FF",
           "#FECB52"
          ],
          "font": {
           "color": "#f2f5fa"
          },
          "geo": {
           "bgcolor": "rgb(17,17,17)",
           "lakecolor": "rgb(17,17,17)",
           "landcolor": "rgb(17,17,17)",
           "showlakes": true,
           "showland": true,
           "subunitcolor": "#506784"
          },
          "hoverlabel": {
           "align": "left"
          },
          "hovermode": "closest",
          "mapbox": {
           "style": "dark"
          },
          "paper_bgcolor": "rgb(17,17,17)",
          "plot_bgcolor": "rgb(17,17,17)",
          "polar": {
           "angularaxis": {
            "gridcolor": "#506784",
            "linecolor": "#506784",
            "ticks": ""
           },
           "bgcolor": "rgb(17,17,17)",
           "radialaxis": {
            "gridcolor": "#506784",
            "linecolor": "#506784",
            "ticks": ""
           }
          },
          "scene": {
           "xaxis": {
            "backgroundcolor": "rgb(17,17,17)",
            "gridcolor": "#506784",
            "gridwidth": 2,
            "linecolor": "#506784",
            "showbackground": true,
            "ticks": "",
            "zerolinecolor": "#C8D4E3"
           },
           "yaxis": {
            "backgroundcolor": "rgb(17,17,17)",
            "gridcolor": "#506784",
            "gridwidth": 2,
            "linecolor": "#506784",
            "showbackground": true,
            "ticks": "",
            "zerolinecolor": "#C8D4E3"
           },
           "zaxis": {
            "backgroundcolor": "rgb(17,17,17)",
            "gridcolor": "#506784",
            "gridwidth": 2,
            "linecolor": "#506784",
            "showbackground": true,
            "ticks": "",
            "zerolinecolor": "#C8D4E3"
           }
          },
          "shapedefaults": {
           "line": {
            "color": "#f2f5fa"
           }
          },
          "sliderdefaults": {
           "bgcolor": "#C8D4E3",
           "bordercolor": "rgb(17,17,17)",
           "borderwidth": 1,
           "tickwidth": 0
          },
          "ternary": {
           "aaxis": {
            "gridcolor": "#506784",
            "linecolor": "#506784",
            "ticks": ""
           },
           "baxis": {
            "gridcolor": "#506784",
            "linecolor": "#506784",
            "ticks": ""
           },
           "bgcolor": "rgb(17,17,17)",
           "caxis": {
            "gridcolor": "#506784",
            "linecolor": "#506784",
            "ticks": ""
           }
          },
          "title": {
           "x": 0.05
          },
          "updatemenudefaults": {
           "bgcolor": "#506784",
           "borderwidth": 0
          },
          "xaxis": {
           "automargin": true,
           "gridcolor": "#283442",
           "linecolor": "#506784",
           "ticks": "",
           "title": {
            "standoff": 15
           },
           "zerolinecolor": "#283442",
           "zerolinewidth": 2
          },
          "yaxis": {
           "automargin": true,
           "gridcolor": "#283442",
           "linecolor": "#506784",
           "ticks": "",
           "title": {
            "standoff": 15
           },
           "zerolinecolor": "#283442",
           "zerolinewidth": 2
          }
         }
        },
        "xaxis": {
         "anchor": "y",
         "domain": [
          0,
          1
         ],
         "title": {
          "text": "date_exposure"
         }
        },
        "yaxis": {
         "anchor": "x",
         "domain": [
          0,
          1
         ],
         "title": {
          "text": "date_added"
         }
        }
       }
      },
      "text/html": [
       "<div>                            <div id=\"153c9513-021c-4a15-95cf-1ff7c9f6843f\" class=\"plotly-graph-div\" style=\"height:525px; width:100%;\"></div>            <script type=\"text/javascript\">                require([\"plotly\"], function(Plotly) {                    window.PLOTLYENV=window.PLOTLYENV || {};                                    if (document.getElementById(\"153c9513-021c-4a15-95cf-1ff7c9f6843f\")) {                    Plotly.newPlot(                        \"153c9513-021c-4a15-95cf-1ff7c9f6843f\",                        [{\"customdata\": [[\"Suburb Glen Iris\", \"Site Scicluna's Real Food Merchants Tooronga Village 350-354 Tooronga Road Glen Iris VIC 3146\"], [\"Suburb Sunshine\", \"Site BlueCross Western Gardens 40 Anderson Rd Sunshine VIC 3020\"], [\"Suburb Sunshine\", \"Site BlueCross Western Gardens (high care staff communcal area and low care entry) 40 Anderson Rd Sunshine VIC 3020\"], [\"Suburb Sunshine\", \"Site BlueCross Western Gardens (all other areas of facility) 40 Anderson Rd Sunshine VIC 3020\"], [\"Suburb Maidstone\", \"Site Arcare Maidstone Aged Care Facility (Magnolia Unit) 31 Hampstead Road Maidstone VIC 3012\"], [\"Suburb Maidstone\", \"Site Arcare Maidstone Aged Care Facility (Magnolia Unit) 31 Hampstead Road Maidstone VIC 3012\"], [\"Suburb Maidstone\", \"Site Arcare Maidstone Aged Care Facility (Magnolia Unit) 31 Hampstead Road Maidstone VIC 3012\"], [\"Suburb Maidstone\", \"Site Arcare Maidstone Aged Care Facility (Magnolia Unit) 31 Hampstead Road Maidstone VIC 3012\"], [\"Suburb Maidstone\", \"Site Arcare Maidstone Aged Care Facility (Communal Facilities) 31 Hampstead Road Maidstone VIC 3012\"], [\"Suburb Maidstone\", \"Site Arcare Maidstone Aged Care Facility 31 Hampstead Road Maidstone VIC 3012\"], [\"Suburb Maidstone\", \"Site Arcare Maidstone Aged Care Facility 31 Hampstead Road Maidstone VIC 3012\"], [\"Suburb Maidstone\", \"Site Arcare Maidstone Aged Care Facility (Communial Facilities) 31 Hampstead Road Maidstone VIC 3012\"], [\"Suburb Maidstone\", \"Site Arcare Maidstone Aged Care Facility (Communal Facilities) 31 Hampstead Road Maidstone VIC 3012\"], [\"Suburb Maidstone\", \"Site Arcare Maidstone Aged Care Facility (Communal Facilities) 31 Hampstead Road Maidstone VIC 3012\"], [\"Suburb Thomastown\", \"Site BP Petrol Station 72 Keon Parade Thomastown VIC 3074\"], [\"Suburb Chelsea Heights\", \"Site Subway Chelsea Heights 1-3 Piper Drive Chelsea Heights VIC 3196\"], [\"Suburb Bus Route\", \"Site PTV Bus Number 406 Footscray Station to Emu Road/Hampstead Road, Maidstone Bus Route VIC\"], [\"Suburb Bus Route\", \"Site PTV Bus Number 406 Emu Road/Hampstead Road, Maidstone to Footscray Station Bus Route VIC\"], [\"Suburb Bus Route\", \"Site PTV Bus Number 412 Footscray Station, Paisley Street to Central Square Shopping Centre stop Bus Route VIC\"], [\"Suburb South Yarra\", \"Site Giant Bike Shop Unit 1/316-320 Toorak Road South Yarra VIC 3141\"], [\"Suburb Cranbourne\", \"Site Connor Cranbourne Park Shopping Centre 132 High Street Cranbourne VIC 3977\"], [\"Suburb Glen Iris\", \"Site Bakers Delight Tooronga Village Corner Tooronga Road and Toorka Road Glen Iris VIC 3146\"], [\"Suburb Parkdale\", \"Site Adairs Parkdale Plaza Unit 6/383 Nepean Highway Parkdale VIC 3195\"], [\"Suburb South Melbourne\", \"Site Australia Post South Melbourne 100 Market Street South Melbourne VIC 3205\"], [\"Suburb Bus Route\", \"Site PTV Bus Number 412 Central Square Shopping Centre/Merton Stop to Footscray Station Bus Route VIC\"], [\"Suburb Point Cook\", \"Site Stockland Point Cook Shopping Centre 5 Main Street & Murnong Street Point Cook VIC 3030\"], [\"Suburb Reservoir\", \"Site Healthy India 276 Broadway Reservoir VIC 3073\"], [\"Suburb Reservoir\", \"Site Healthy India 276 Broadway Reservoir VIC 3073\"], [\"Suburb Reservoir\", \"Site Healthy India 276 Broadway Reservoir VIC 3073\"], [\"Suburb Malvern East (Chadstone)\", \"Site QBD Books Chadstone Shop B099, 1341 Dandenong Road Malvern East (Chadstone) VIC 3145\"], [\"Suburb Mount Dandenong\", \"Site SkyHigh Mount Dandenong and SkyHigh Cafe 26 Observatory Road Mount Dandenong VIC 3767\"], [\"Suburb Epping\", \"Site Gloria Jean's Coffees Epping Plaza 583 High Street Epping VIC 3076\"], [\"Suburb Epping\", \"Site Blue Sapphire Coin Laundry Epping 2A Jovic Road Epping VIC 3076\"], [\"Suburb Epping\", \"Site Blue Sapphire Coin Laundry Epping 2A Jovic Road Epping VIC 3076\"], [\"Suburb Epping\", \"Site Soprano's Pizza 746 High Street Epping VIC 3076\"], [\"Suburb Lalor\", \"Site The Cake Box 314 Station Street Lalor VIC 3075\"], [\"Suburb Chadstone\", \"Site Zimmerman Chadstone 1341 Dandenong Road Chadstone VIC 3145\"], [\"Suburb Malvern East (Chadstone)\", \"Site Breadtop Chadstone Shop F010, 1341 Dandenong Road Malvern East (Chadstone) VIC 3145\"], [\"Suburb Reservoir\", \"Site Akkar Pastry 274 Broadway Reservoir VIC 3073\"], [\"Suburb Reservoir\", \"Site My Chemist Broadway 270 Broadway Reservoir VIC 3073\"], [\"Suburb Epping\", \"Site Coles Epping Aurora Village 315A Harvest Home Rd Epping VIC 3076\"], [\"Suburb Epping\", \"Site Liquorland Aurora Village 315A Harvest Home Rd Epping VIC 3076\"], [\"Suburb Mill Park\", \"Site Coles Westfield Plenty Valley Civic Drive (415 McDonalds Rd) Mill Park VIC 3082\"], [\"Suburb Mill Park\", \"Site Little Sparrow Westfield Plenty Valley 415 McDonalds Rd Mill Park VIC 3082\"], [\"Suburb Ivanhoe\", \"Site Fairy Hills Kindergarten 7 Thyer Road Ivanhoe VIC 3079\"], [\"Suburb South Melbourne\", \"Site Woolworths South Melbourne 113 Cecil Street South Melbourne VIC 3205\"], [\"Suburb South Melbourne\", \"Site Woolworths South Melbourne 113 Cecil Street South Melbourne VIC 3205\"], [\"Suburb Cranbourne West\", \"Site Woolworths Cranbourne West Cnr Hall and Evans Roads Cranbourne West VIC 3977\"], [\"Suburb Cranbourne\", \"Site 7-Eleven Cranbourne Amstel 1/1016s Cranbourne-Frankston Rd Cranbourne VIC 3977\"], [\"Suburb Cranbourne\", \"Site Factorie Shop SP104 Cranbourne Park Shopping Centre, High St Cranbourne VIC 3977\"], [\"Suburb Footscray\", \"Site Inday Fillipino Store 121/81 Hopkins St (Footscray Market) Footscray VIC 3011\"], [\"Suburb Melbourne\", \"Site The Lott (St Kilda Road News) 509 St Kilda Road Melbourne VIC 3004\"], [\"Suburb Cranbourne\", \"Site Oporto Cranbourne Chicken 1016 Cranbourne-Frankston Rd Cranbourne VIC 3977\"], [\"Suburb Richmond\", \"Site My Homes and Gifts 182-186 Victoria St Richmond VIC 3121\"], [\"Suburb Elwood\", \"Site Turtle Cafe Elwood 34 Glen Huntly Rd Elwood VIC 3184\"], [\"Suburb Port Melbourne\", \"Site Coles Port Melbourne Corner Bay and Liardet St Port Melbourne VIC 3207\"], [\"Suburb Keilor Downs\", \"Site German Shepherd Dog Club of Victoria Western Branch Green Gully Reserve, McCrae Boulevard Keilor Downs VIC 3038\"], [\"Suburb Noble Park\", \"Site New Lanka Restaurant 262 Railway Parade Noble Park VIC 3175\"], [\"Suburb Yarraville\", \"Site Prestige Fruit and Vegetables 27 Anderson St Yarraville VIC 3013\"], [\"Suburb South Melbourne\", \"Site Zoumi Cafe 70 Albert Rd South Melbourne VIC 3205\"], [\"Suburb Footscray\", \"Site Thai Huy Butcher Shop 144, 18 Irving Street  Footscray VIC 3011\"], [\"Suburb Bus Route\", \"Site PTV Bus Number 412 Paisley Street/Footscray to Millers Road/Geelong Bus Route VIC\"], [\"Suburb Point Cook\", \"Site Target - Stockland Point Cook Shopping Centre Murnong Street Point Cook VIC 3030\"], [\"Suburb St Kilda\", \"Site Galleon Cafe 9 Carlisile Street St Kilda VIC 3182\"], [\"Suburb Brighton\", \"Site Brighton Beach Hotel 4 The Esplanade Brighton VIC 3186\"], [\"Suburb Bus Route\", \"Site PTV Bus Number 412 Central Square Shopping Centre/Merton Stop to Footscray Station Bus Route VIC\"], [\"Suburb Bus Route\", \"Site PTV Bus Number 406 Emu Road/Smith Street to Footscray Station Bus Route VIC\"], [\"Suburb Bus Route\", \"Site PTV Bus Number 406 Footscray Station to Emu Road/Hampstead Road (Maidstone) Bus Route VIC\"], [\"Suburb Cranbourne\", \"Site Gami Rasa Restaurant 19 Hotham Street Cranbourne VIC 3977\"], [\"Suburb Epping\", \"Site JMD Grocers & Sweets 768 High Street Epping VIC 3076\"], [\"Suburb Epping\", \"Site JMD Grocers & Sweets 768 High Street Epping VIC 3076\"], [\"Suburb Epping\", \"Site JMD Grocers & Sweets 768 High Street Epping VIC 3076\"], [\"Suburb Epping\", \"Site JMD Grocers & Sweets 768 High Street Epping VIC 3076\"], [\"Suburb Point Cook\", \"Site Coles Stockland Point Cook Shopping Centre 5 Main Street & Murnong Street Point Cook VIC 3030\"], [\"Suburb Point Cook\", \"Site Sanctuary Lakes Shopping Centre 300 Point Cook Road Point Cook VIC 3030\"], [\"Suburb Point Cook\", \"Site Aldi Sanctuary Lakes Shopping Centre 300 Point Cook Road Point Cook VIC 3030\"], [\"Suburb Bus Route\", \"Site PTV Bus Number 412 Central Square Shopping Centre/Merton Street to Footscray Station Bus Route VIC\"], [\"Suburb Epping\", \"Site Coles Epping Plaza Shop Q002. High Street Epping VIC 3076\"], [\"Suburb Epping\", \"Site Coles Epping Plaza Shop Q002. High Street Epping VIC 3076\"], [\"Suburb Preston\", \"Site H&M (Northland Shopping Centre) 2-50 Murray Road Preston VIC 3072\"], [\"Suburb Doreen\", \"Site Woolworths Laurimar 95 Hazel Glen Drive Doreen VIC 3754\"], [\"Suburb Thomastown\", \"Site Gobind Sweets 6/350 Settlement Road Thomastown VIC 3074\"], [\"Suburb Epping\", \"Site Chemist Warehouse (Epping Homemaker Center) 560-650 High Street Epping VIC 3076\"], [\"Suburb Epping\", \"Site Chemist Warehouse (Epping Homemaker Center) 560-650 High Street Epping VIC 3076\"], [\"Suburb Kalkallo\", \"Site Metricon Homes Kalkallo- Cloverton Display Homes 24 Design Way Kalkallo VIC 3064\"], [\"Suburb Campbellfield\", \"Site Metricon Homes- Campbellfield Office 108 National Blvd Campbellfield VIC 3061\"], [\"Suburb Mickleham\", \"Site Metricon Homes- Merrifield Display Homes 15 Carrington Drive Mickleham VIC 3064\"], [\"Suburb Mickleham\", \"Site Metricon Homes- Botanical Display Homes 27/29 Poppy St Mickleham VIC 3064\"], [\"Suburb Preston\", \"Site Northland Shopping Centre 2-50 Murray Road Preston VIC 3072\"], [\"Suburb Preston\", \"Site McDonalds (Northland Shopping Centre) 2-50 Murray Road Preston VIC 3072\"], [\"Suburb Thomastown\", \"Site Slades Beverages 46/40-50 Keon Parade Thomastown VIC 3074\"], [\"Suburb Preston\", \"Site Muffin Break (Northland Shopping Centre) 2-50 Murray Road Preston VIC 3072\"], [\"Suburb Preston\", \"Site H&M (Northland Shopping Centre) 2-50 Murray Road Preston VIC 3072\"], [\"Suburb Preston\", \"Site Salsa's Fresh Mex Grill (Northland Shopping Centre) K033/50 Murray Rd Preston VIC 3072\"], [\"Suburb Epping\", \"Site Walker's Donuts Epping (Pacific Epping Shopping Centre) 571-583 High Street Epping VIC 3076\"], [\"Suburb Epping\", \"Site Commonwealth Bank Australia (CBA) Epping Branch 83-84 Cooper Street & High Street Epping VIC 3076\"], [\"Suburb Lalor\", \"Site Coles Lalor 47-71 May Road Lalor VIC 3075\"], [\"Suburb Lalor\", \"Site Woolworths Lalor Hurtle Street Lalor VIC 3075\"], [\"Suburb Lalor\", \"Site Woolworths Lalor Hurtle Street Lalor VIC 3075\"], [\"Suburb Epping\", \"Site MKS Spices'n Things Epping 1/84-88 Coopers Street Epping VIC 3076\"], [\"Suburb Thomastown\", \"Site Slades Beverages 46/40-50 Keon Parade Thomastown VIC 3074\"], [\"Suburb Thomastown\", \"Site Slades Beverages 46/40-50 Keon Parade Thomastown VIC 3074\"], [\"Suburb Thomastown\", \"Site Slades Beverages 46/40-50 Keon Parade Thomastown VIC 3074\"], [\"Suburb Thomastown\", \"Site Slades Beverages 46/40-50 Keon Parade Thomastown VIC 3074\"], [\"Suburb Thomastown\", \"Site Slades Beverages 46/40-50 Keon Parade Thomastown VIC 3074\"], [\"Suburb Thomastown\", \"Site Slades Beverages 46/40-50 Keon Parade Thomastown VIC 3074\"], [\"Suburb Thomastown\", \"Site Slades Beverages 46/40-50 Keon Parade Thomastown VIC 3074\"], [\"Suburb Thomastown\", \"Site Slades Beverages 46/40-50 Keon Parade Thomastown VIC 3074\"], [\"Suburb Thomastown\", \"Site Slades Beverages 46/40-50 Keon Parade Thomastown VIC 3074\"], [\"Suburb Thomastown\", \"Site Slades Beverages 46/40-50 Keon Parade Thomastown VIC 3074\"], [\"Suburb Craigieburn\", \"Site Big W Craigieburn 340 Craigieburn Road Craigieburn VIC 3064\"], [\"Suburb Bundoora\", \"Site DFO Uni Hill - Champion, Melrose Avenue, Quiksilver, Factorie and Edge 2 Janefield Drive Bundoora VIC 3083\"], [\"Suburb Epping\", \"Site Coles Epping Plaza Shop Q002, Epping Plaza, High Street Epping VIC 3076\"], [\"Suburb Doreen\", \"Site Laurimar Medical Centre 120 - 122 Painted Hills Road Doreen VIC 3754\"], [\"Suburb Craigieburn\", \"Site Ambarsari Dhaba 3/38 Craigieburn Road Craigieburn VIC 3064\"], [\"Suburb Hawthorn\", \"Site Short Straw 743B Glenferrie Road Hawthorn VIC 3122\"], [\"Suburb Craigieburn\", \"Site PTV Bus Number 525 Highland SC/Grand Bvd to Donnybrook Rd/Dwyer Street Craigieburn VIC 3064\"], [\"Suburb Craigieburn\", \"Site PTV Bus Number 525 Highland SC/Grand Bvd to Donnybrook Rd/Dwyer Street Craigieburn VIC 3064\"], [\"Suburb Epping\", \"Site Kmart Epping Epping Plaza Shopping Center. Cnr High & Cooper Street Epping VIC 3076\"], [\"Suburb Epping\", \"Site Kmart Epping Epping Plaza Shopping Center. Cnr High & Cooper Street Epping VIC 3076\"], [\"Suburb Epping\", \"Site Coles Epping Plaza Shop Q002, Epping Plaza, High Street Epping VIC 3076\"], [\"Suburb Kalkallo\", \"Site Metricon Homes Kalkallo- Cloverton Display Homes 24 Design Way Kalkallo VIC 3064\"], [\"Suburb Arthurs Seat\", \"Site Enchanted Adventure Garden 55 Purves Road Arthurs Seat VIC 3936\"], [\"Suburb Bundoora\", \"Site IGA Agora Express (La Trobe University) La Trobe University, Melbourne Campus, Shop 1 Agora East, Bundoora VIC 3083 Bundoora VIC 3083\"], [\"Suburb Malvern East (Chadstone)\", \"Site Bakers Delight - Chadstone Shopping Centre 247C/ 1341 Dandenong Road Malvern East (Chadstone) VIC 3148\"], [\"Suburb Malvern East (Chadstone)\", \"Site Woolworths - Chadstone Shopping Centre 1341 Dandenong Road Malvern East (Chadstone) VIC 3148\"], [\"Suburb St Kilda\", \"Site McDonalds St Kilda 32 The Esplanade St Kilda VIC 3182\"], [\"Suburb St Kilda\", \"Site Woolworths 64 Fitzroy Street St Kilda VIC 3182\"], [\"Suburb St Kilda\", \"Site KFC St Kilda 70A Acland Street St Kilda VIC 3182\"], [\"Suburb St Kilda\", \"Site Woolworths 117 Acland Street St Kilda VIC 3182\"], [\"Suburb South Yarra\", \"Site Forvic Asian Supermarket 251 Malvern Road South Yarra VIC 3141\"], [\"Suburb Malvern East (Chadstone)\", \"Site Chadstone Shopping Centre 1341 Dandenong Road Malvern East (Chadstone) VIC 3148\"], [\"Suburb Malvern East (Chadstone)\", \"Site Yokozuna - Chadstone Shopping Centre 1341 Dandenong Road Malvern East (Chadstone) VIC 3148\"], [\"Suburb Malvern East (Chadstone)\", \"Site Optus - Chadstone Shopping Centre Shop B311, 1341 Dandenong Road Malvern East (Chadstone) VIC 3148\"], [\"Suburb Mernda\", \"Site Caltex Mernda 1631W Plenty Road Mernda VIC 3074\"], [\"Suburb Thomastown\", \"Site 7-Eleven Thomastown North Cnr Edgars Road and Main Street Thomastown VIC 3074\"], [\"Suburb Bundoora\", \"Site La Trobe University, Library All Levels (Except level 1) Plenty Road & Kingsbury Drive Bundoora VIC 3086\"], [\"Suburb Epping\", \"Site Pacific Epping Plaza - Cotton On, Edge, Valleygirl, Supre and Boost Juice 571 - 583 High Street Epping VIC 3076\"], [\"Suburb Epping\", \"Site Pacific Epping Plaza 571 - 583 High Street Epping VIC 3076\"], [\"Suburb Thomastown\", \"Site Supa IGA Thomastown 122 Main Street Thomastown VIC 3074\"], [\"Suburb Mickleham\", \"Site Chemist Warehouse Mickleham 250 - 270 Donnybrook Road Mickleham VIC 3064\"], [\"Suburb Braeside\", \"Site Shell Coles Express Braeside 918 - 928 Springvale Road Cnr Governor Road Braeside VIC 3064\"], [\"Suburb South Yarra\", \"Site Taco Bell Chapel Street 352 Chapel Street South Yarra VIC 3141\"], [\"Suburb Craigieburn\", \"Site Edu-Kingdom College 67A Hamilton Street Craigieburn VIC 3064\"], [\"Suburb Fingal\", \"Site Peninsula Hot Springs (Bathhouse Reception Only) 140 Springs Lane Fingal VIC 3939\"], [\"Suburb Glen Iris\", \"Site Coles Tooronga Village Tooronga Road Glen Iris VIC 3146\"], [\"Suburb Bundoora\", \"Site La Trobe University, Library Level 1 Plenty Road & Kingsbury Drive Bundoora VIC 3086\"], [\"Suburb Dandenong\", \"Site Marmara Halal Meats 141- 145 Lonsdale Street Dandenong VIC 3175\"], [\"Suburb Carrum Downs\", \"Site Sabrini Foods 77 Boundary Road Carrum Downs VIC 3201\"], [\"Suburb Dandenong\", \"Site Spice Inn Groceries 4 16-46 Cleeland Street Dandenong VIC 3175\"], [\"Suburb Dandenong\", \"Site Bestway Supermarket 200-208 Lonsdale Street Dandenong VIC 3175\"], [\"Suburb Dandenong\", \"Site Bestway Supermarket 21-23 Cleeland Street Dandenong VIC 3175\"], [\"Suburb Craigieburn\", \"Site Dosa Hut Craigieburn Shop D1/420-440 Craigieburn Road Craigieburn VIC 3064\"], [\"Suburb Epping\", \"Site Indiagate Spices and Groceries Unit 14C, 560-590 High Street Epping VIC 3076\"], [\"Suburb Wollert\", \"Site Hamara Bazaar 315 Harvest Home Road Wollert VIC 3750\"], [\"Suburb Reservoir\", \"Site Vic Fields Summerhill Shopping Centre 850 Plenty Road Reservoir VIC 3073\"], [\"Suburb Epping\", \"Site Khalsa Sweets and Snacks 3 Annalise Avenue Epping VIC 3076\"], [\"Suburb Wollert\", \"Site Erol's Fruit Shop 319 Harvest Home Road Wollert VIC 3750\"], [\"Suburb South Melbourne\", \"Site Clarendon Centre - Female public toilets 261 Clarendon Street South Melbourne VIC 3205\"], [\"Suburb South Melbourne\", \"Site Clarendon Centre - Female public toilets 261 Clarendon Street South Melbourne VIC 3205\"], [\"Suburb Maribyrnong\", \"Site JB Hi Fi Shop 159-163 Rosamond Road Maribyrnong VIC 3032\"], [\"Suburb Maribyrnong\", \"Site The Good Guys 2-6 Sloane Street Maribyrnong VIC 3032\"], [\"Suburb Yarraville\", \"Site Coles Yarraville Cnr Williamstown Road & High Street Yarraville VIC 3013\"], [\"Suburb Epping\", \"Site Epping Spices & Nuts Grocery Store 6/1 Lyndarum Drive Epping VIC 3076\"], [\"Suburb Epping\", \"Site Epping Spices & Nuts Grocery Store 6/1 Lyndarum Drive Epping VIC 3076\"], [\"Suburb Epping\", \"Site Epping Spices & Nuts Grocery Store 6/1 Lyndarum Drive Epping VIC 3076\"], [\"Suburb Epping\", \"Site Epping Spices & Nuts Grocery Store 6/1 Lyndarum Drive Epping VIC 3076\"], [\"Suburb Mill Park\", \"Site Star Car Wash 1, Westfield Plenty Valley 52/415 McDonalds Rd Mill Park VIC 3082\"], [\"Suburb Mill Park\", \"Site Star Car Wash 1, Westfield Plenty Valley 52/415 McDonalds Rd Mill Park VIC 3082\"], [\"Suburb Mill Park\", \"Site Star Car Wash 1, Westfield Plenty Valley 52/415 McDonalds Rd Mill Park VIC 3082\"], [\"Suburb Mill Park\", \"Site Star Car Wash 1, Westfield Plenty Valley 52/415 McDonalds Rd Mill Park VIC 3082\"], [\"Suburb Reservoir\", \"Site Healthy India 276 Broadway Reservoir VIC 3073\"], [\"Suburb Brunswick East\", \"Site Dan Murphy's Brunswick East 513 Lygon St, Brunswick East Brunswick East VIC 3057\"], [\"Suburb Epping\", \"Site The Grande Reception & Function Centre 6-8 Helm Court Epping VIC 3076\"], [\"Suburb Preston\", \"Site Preston City Hall 284 Gower Street Preston VIC 3071\"], [\"Suburb Reservoir\", \"Site Edwardes Lake Playground Edwardes Lake Reservoir VIC 3073\"], [\"Suburb South Melbourne\", \"Site Miss China Noodle Bar (within Clarendon Centre) Shop G08/261 Clarendon Street South Melbourne VIC 3205\"], [\"Suburb South Melbourne\", \"Site Telstra Shop Shop G01/265 Clarendon Street South Melbourne VIC 3205\"], [\"Suburb South Melbourne\", \"Site Telstra Shop Shop G01/265 Clarendon Street South Melbourne VIC 3205\"], [\"Suburb South Melbourne\", \"Site Hunky Dory Fish & Chips 252 Clarendon Street South Melbourne VIC 3205\"], [\"Suburb Thomastown\", \"Site 7-Eleven Thomastown North Cnr Edgars Road & Main Street Thomastown VIC 3074\"], [\"Suburb Hampton\", \"Site Body Fit Training Hampton Shop 4-6/498 Hampton Street Hampton VIC 3188\"], [\"Suburb Hampton\", \"Site Body Fit Training Hampton Shop 4-6/498 Hampton Street Hampton VIC 3188\"], [\"Suburb Greenvale\", \"Site Barrymore Medical Centre 9 Barrymore Road Greenvale VIC 3059\"], [\"Suburb Carlton\", \"Site RMIT Campus, Building 57 (Edward Jackson Building) 53 Lygon Street Carlton VIC 3053\"], [\"Suburb Mickleham\", \"Site Botanical Display Homes (Botanical Display Village) 23-25 Poppy Street Mickleham VIC 3063\"], [\"Suburb Craigieburn\", \"Site The Coffee Club - Craigieburn Central Craigieburn Central, Shop B00, 15/350 Craigieburn Road Craigieburn VIC 3064\"], [\"Suburb Docklands\", \"Site Network Public Bar 14/99 Spencer Street Docklands VIC 3008\"], [\"Suburb Docklands\", \"Site Hungry Jacks - Southern Cross Station 14/99 Spencer Street Docklands VIC 3008\"], [\"Suburb South Wharf\", \"Site Roll'd - DFO South Wharf DFO South Wharf, 20 Convention Center Place South Wharf VIC 3006\"], [\"Suburb South Wharf\", \"Site Boost Juice DFO DFO South Wharf, 20 Convention Center Place South Wharf VIC 3006\"], [\"Suburb South Wharf\", \"Site DFO Food Court DFO South Wharf, 20 Convention Center Place South Wharf VIC 3006\"], [\"Suburb Tullamarine\", \"Site 7-Eleven Tullamarine (Carrick Drive) 182 Melrose Drive Tullamarine VIC 3043\"], [\"Suburb Moonee Ponds\", \"Site Moonee Valley Football Club - Ormond Park Spectators at (Men's 3rds Match Moonee Valley VS Hillside Sharks) 2A Pattison Steet Moonee Ponds VIC 3039\"], [\"Suburb Moonee Ponds\", \"Site Moonee Valley Football Club - Ormond Park Function Room/Bar 2A Pattison Steet Moonee Ponds VIC 3039\"], [\"Suburb Moonee Ponds\", \"Site Moonee Valley Football Club - Ormond Park (Male Change Rooms) 2A Pattison Steet Moonee Ponds VIC 3039\"], [\"Suburb Port Melbourne\", \"Site Hunky Dory Fish & Chips 3/181 Bay Street Port Melbourne VIC 3207\"], [\"Suburb Coburg\", \"Site Pentridge Cinema Coburg (Palace Cinema) - 7pm screening of 'Those Who Wish Me Dead' 1 Champ Street Coburg VIC 3058\"], [\"Suburb Seddon\", \"Site Caprice Hair & Beauty 101 Charles Street Seddon VIC 3011\"], [\"Suburb South Melbourne\", \"Site Anytime Fitness South Melbourne 63-69 Market Street South Melbourne VIC 3205\"], [\"Suburb Coburg\", \"Site Pentridge Cinema Coburg (Palace Cinema) 1 Champ Street Coburg VIC 3058\"], [\"Suburb Tullamarine\", \"Site BP Tullamarine Corner of Airport Drive and Link Road Tullamarine VIC 3045\"], [\"Suburb Tullamarine\", \"Site BP Tullamarine Corner of Airport Drive and Link Road Tullamarine VIC 3045\"], [\"Suburb Bundoora\", \"Site Bung Pai Thai Massage Bundoora 11/1320 Plenty Road Bundoora VIC 3083\"], [\"Suburb Yarraville\", \"Site Focus Health & Fitness 121-123 Hyde Street Yarraville VIC 3013\"], [\"Suburb Carlton\", \"Site Green Man's Arms 418 Lygon Sreet Carlton VIC 3053\"], [\"Suburb South Melbourne\", \"Site Anytime Fitness South Melbourne 63-69 Market Street South Melbourne VIC 3205\"], [\"Suburb South Melbourne\", \"Site Anytime Fitness South Melbourne 63-69 Market Street South Melbourne VIC 3205\"], [\"Suburb South Melbourne\", \"Site Anytime Fitness South Melbourne 63-69 Market Street South Melbourne VIC 3205\"], [\"Suburb Fitzroy\", \"Site Peko Peko Fitzroy 199 Smith Street Fitzroy VIC 3065\"], [\"Suburb Aspendale Gardens\", \"Site Chelsea Heights Hotel Springvale Road & Wells Road Aspendale Gardens VIC 3196\"], [\"Suburb Brunswick\", \"Site OPSM Barkly Square Barkly Square Shopping Centre, 90-160 Sydney Rd Brunswick VIC 3056\"], [\"Suburb Doncaster\", \"Site Betty's Burgers & Concrete Co. (Westfield Doncaster) Tenancy R1 & R2, Level 2, 619 Doncaster Road Doncaster VIC 3108\"], [\"Suburb Lalor\", \"Site Everfresh Fruit Market 346 Station Street Lalor VIC 3075\"], [\"Suburb Lalor\", \"Site Fruits of Lalor 328 Station Street Lalor VIC 3075\"], [\"Suburb Lalor\", \"Site No. 1 Fruit Market 37 May Road Lalor VIC 3075\"], [\"Suburb Docklands\", \"Site Southern Cross Station, Toilets Under Bourke Street Bridge 14/99 Spencer Street Docklands VIC 3059\"], [\"Suburb Greenvale\", \"Site Chemist Warehouse Shop 4, 212 - 220 Greenvale Drive Greenvale VIC 3059\"], [\"Suburb Cranbourne\", \"Site LeNails Cranbourne Shop 101 Cranbourne Park Shopping Centre, High Street Cranbourne VIC 3977\"], [\"Suburb Mill Park\", \"Site Degani, Westfield Plenty Valley 415 Mcdonalds Road Mill Park VIC 3082\"], [\"Suburb Bayswater North\", \"Site Mcdonalds Bayswater North 296 Canterbury Road Bayswater North VIC 3153\"], [\"Suburb Wantirna South\", \"Site Insportz Knox 108 Lewis Road Wantirna South VIC 3152\"], [\"Suburb Mordialloc\", \"Site The Sporting Globe Mordialloc 590 Main Street Mordialloc VIC 3195\"], [\"Suburb Burwood East\", \"Site Burwood Teppanyaki House 145 Burwood Highway Burwood East VIC 3151\"], [\"Suburb Parkville\", \"Site Melbourne Swordcraft Ransford Oval, Park Street Parkville VIC 3052\"], [\"Suburb Red Hill\", \"Site Nordie Cafe 1008 Mornington-Flinders Road Red Hill VIC 3937\"], [\"Suburb Carnegie\", \"Site Bicycle Superstore 1030 Dandenong Road Carnegie VIC 3163\"], [\"Suburb Coburg\", \"Site IGA Coburg 12-20 Nicholson Street Coburg VIC 3058\"], [\"Suburb Fairfield\", \"Site 7-Eleven Fairfield East 324 Station street Fairfield VIC 3078\"], [\"Suburb Port Melbourne\", \"Site The Local, Port Melbourne 22-24 Bay Street Port Melbourne VIC 3207\"], [\"Suburb Bundoora\", \"Site Anytime Fitness Shop TG-01, Uni Hill Town Centre, 1-3 Janefield Drive Bundoora VIC 3083\"], [\"Suburb Bundoora\", \"Site Anytime Fitness Shop TG-01, Uni Hill Town Centre, 1-3 Janefield Drive Bundoora VIC 3083\"], [\"Suburb Southbank\", \"Site Criniti's Southbank 645 Freshwater Place Southbank VIC 3006\"], [\"Suburb South Melbourne\", \"Site The Palace Hotel 505-507 City Road South Melbourne VIC 3205\"], [\"Suburb Coburg\", \"Site Ritchies IGA Pentridge 1 Champ Street Coburg VIC 3058\"], [\"Suburb Docklands\", \"Site Marvel Stadium - (Level 1 Aisles 5-28 and Level 3 Aisles 6-29) 740 Bourke St Docklands VIC 3008\"], [\"Suburb Docklands\", \"Site Marvel Stadium - all other zones not individually listed 740 Bourke St Docklands VIC 3008\"], [\"Suburb Cohuna\", \"Site Cohuna Football and Netball Club, Cohuna Recreation Reserve Island Road Cohuna VIC 3568\"], [\"Suburb Brunswick\", \"Site Barkly Square: Priceline, Kmart, Woolworths, OPSM Barkly Square Shopping Centre, 90-160 Sydney Rd Brunswick VIC 3056\"], [\"Suburb Reservoir\", \"Site Doctors on Broadway 210A Broadway Reservoir VIC 3073\"], [\"Suburb Port Melbourne\", \"Site Stratton Finance HQ 1/435 Williamstown Road Port Melbourne VIC 3207\"], [\"Suburb Port Melbourne\", \"Site Stratton Finance HQ 1/435 Williamstown Road Port Melbourne VIC 3207\"], [\"Suburb Port Melbourne\", \"Site Stratton Finance HQ 1/435 Williamstown Road Port Melbourne VIC 3207\"], [\"Suburb Port Melbourne\", \"Site Stratton Finance HQ 1/435 Williamstown Road Port Melbourne VIC 3207\"], [\"Suburb Port Melbourne\", \"Site Stratton Finance HQ 1/435 Williamstown Road Port Melbourne VIC 3207\"], [\"Suburb Port Melbourne\", \"Site Stratton Finance HQ 1/435 Williamstown Road Port Melbourne VIC 3207\"], [\"Suburb Abbotsford\", \"Site Dukes Gym Abbotsford 571-573 Victoria Street Abbotsford VIC 3067\"], [\"Suburb Balwyn\", \"Site Endless Lifestyle Studio  Shop 3/188 Whitehorse Road  Balwyn VIC 3103\"], [\"Suburb Carlton\", \"Site RMIT Campus, Building 56 115 Queensberry Street  Carlton VIC 3053\"], [\"Suburb Richmond\", \"Site Melbourne Cricket Ground - Zone 4, Level 1 Brunton Avenue Richmond VIC 3002\"], [\"Suburb Richmond\", \"Site Melbourne Cricket Ground - All of the Stadium, other than Zone 4, Level 1 Brunton Avenue Richmond VIC 3002\"], [\"Suburb Prahran\", \"Site Somewhere Bar 181 Chapel Street Prahran VIC 3181\"], [\"Suburb Prahran\", \"Site Three Monkeys  210 Chapel Street Prahran VIC 3181\"], [\"Suburb Prahran\", \"Site Three Monkeys  210 Chapel Street Prahran VIC 3181\"], [\"Suburb South Yarra\", \"Site Circus Bar 199 Commercial Road South Yarra VIC 3181\"], [\"Suburb Axedale\", \"Site Axedale Tavern 105 High Street Axedale VIC 3551\"], [\"Suburb Bendigo\", \"Site Hairfolk 33 Williamson Street Bendigo VIC 3550\"], [\"Suburb Coburg\", \"Site BP Southvale 303 Bell Street Coburg VIC 3058\"], [\"Suburb Coburg\", \"Site The Nicholson Coffee House 6/14-20 Nicholson Street Coburg VIC 3058\"], [\"Suburb Epping\", \"Site Coles Epping Shop Number Q002. Pacific Epping Cooper Street & High street Epping VIC 3076\"], [\"Suburb Epping\", \"Site Woolworths Epping Shop Number Q003. Pacific Epping Cooper Street & High street Epping VIC 3076\"], [\"Suburb Fitzroy North\", \"Site Secco and Co 414 Nicholson Street Fitzroy North VIC 3068\"], [\"Suburb Port Melbourne\", \"Site Bay 101 Cafe 7/101 Bay Street Port Melbourne VIC 3207\"], [\"Suburb Port Melbourne\", \"Site Port Park Cafe  7/484 Graham St Port Melbourne VIC 3207\"], [\"Suburb Port Melbourne\", \"Site The Local, Port Melbourne 22-24 Bay Street Port Melbourne VIC 3207\"], [\"Suburb Thornbury\", \"Site Little Tienda 410 Station Street Thornbury VIC 3071\"], [\"Suburb Epping\", \"Site Chemist Warehouse Shop 15, Dalton Village, 351-371 Dalton Road Epping VIC 3076\"], [\"Suburb Lalor\", \"Site Deep Indian Supermarket 3/494 High Street Lalor VIC 3075\"], [\"Suburb Lalor\", \"Site Everfresh Fruit Market 346 Station Street Lalor VIC 3075\"], [\"Suburb Lalor\", \"Site Fruits of Lalor 328 Station Street Lalor VIC 3075\"], [\"Suburb Lalor\", \"Site No. 1 Fruit Market 37 May Road Lalor VIC 3075\"], [\"Suburb Mill Park\", \"Site Bunnings Warehouse 761 Plenty Road Mill Park VIC 3082\"], [\"Suburb Thomastown\", \"Site ACTROL (Retail Store- refrigerator and airconditioning parts) 13-17 Brand Drive Thomastown VIC 3074\"], [\"Suburb Epping\", \"Site Nando's Epping (Dalton Rd) Shop 17 Dalton Village, 351-371 Dalton Road Epping VIC 3076\"], [\"Suburb Brunswick\", \"Site Futsal Brunswick 409 Victoria Street Brunswick VIC 3056\"], [\"Suburb Epping\", \"Site Urban Diner Food Court, Pacific Epping Shopping Centre 571-583 High Street Epping VIC 3076\"], [\"Suburb Epping\", \"Site House and Party (store) 2 Lyndarum Drive Epping VIC 3076\"], [\"Suburb Reservoir\", \"Site B.T. Connor Reserve 200 Broadhurst Avenue Reservoir VIC 3073\"], [\"Suburb Epping\", \"Site Epping North Shopping Centre 2 Lyndarum Drive Epping VIC 3076\"], [\"Suburb Epping\", \"Site JMD Grocers & Sweets 768 High Street Epping VIC 3076\"], [\"Suburb Epping\", \"Site The Furniture Trader 102-120 Cooper Street Epping VIC 3076\"], [\"Suburb Thomastown\", \"Site White Line Automotive 2/28 Lipton Drive Thomastown VIC 3074\"], [\"Suburb Epping\", \"Site Woolworths Epping North Shop 13, 2 Lyndarum Drive Epping VIC 3076\"], [\"Suburb Bundoora\", \"Site Jump! Swim Schools Bundoora 4/37 The Concord Bundoora VIC 3083\"], [\"Suburb Clifton Hill\", \"Site McDonald's Clifton Hill - Dine-in Only 199 Queens Parade Clifton Hill VIC 3068\"], [\"Suburb Epping\", \"Site ALDI Epping 347-371 Dalton Road Epping VIC 3076\"], [\"Suburb Epping\", \"Site Chemist Depot Epping, Pacific Epping Shoping Centre 571-583 High Street Epping VIC 3076\"], [\"Suburb Maribyrnong\", \"Site Highpoint Shopping Centre, all other areas on Levels 2 and 3 excluding specific shops listed as Tier 1 sites Levels 2 & 3, 120-200 Rosamond Road Maribyrnong VIC 3032\"], [\"Suburb Maribyrnong\", \"Site Ishka, Highpoint Shopping Centre Level 2, 120-200 Rosamond Road Maribyrnong VIC 3032\"], [\"Suburb Maribyrnong\", \"Site Kidstuff, Highpoint Shopping Centre Level 2, 120-200 Rosamond Road Maribyrnong VIC 3032\"], [\"Suburb Maribyrnong\", \"Site Lush Cosmetics, Highpoint Shopping Centre Level 2, 120-200 Rosamond Road Maribyrnong VIC 3032\"], [\"Suburb Maribyrnong\", \"Site Smiggle, Highpoint Shopping Centre Level 3, 120-200 Rosamond Road Maribyrnong VIC 3032\"], [\"Suburb Maribyrnong\", \"Site Toyworld, Highpoint Shopping Centre Level 2, 120-200 Rosamond Road Maribyrnong VIC 3032\"], [\"Suburb Melbourne\", \"Site Bamboo House 47 Little Bourke Street Melbourne VIC 3000\"], [\"Suburb Preston\", \"Site Adams Reserve Playground Milton Crescent Preston VIC 3072\"], [\"Suburb Preston\", \"Site ALDI Preston South 15 Dundas Street Preston VIC 3072\"], [\"Suburb Reservoir\", \"Site P & C Indian Grocery & Convenience Store 246 Broadway Reservoir VIC 3073\"], [\"Suburb Reservoir\", \"Site Shell Coles Express Reservoir 192-202 Broadway & Whitelaw Street Reservoir VIC 3073\"]], \"hovertemplate\": \"date_exposure=%{x}<br>date_added=%{y}<br>Suburb=%{customdata[0]}<br>Site=%{customdata[1]}<extra></extra>\", \"legendgroup\": \"\", \"marker\": {\"color\": \"#636efa\", \"opacity\": 0.5, \"size\": 20, \"symbol\": \"circle\"}, \"mode\": \"markers\", \"name\": \"\", \"orientation\": \"v\", \"showlegend\": false, \"type\": \"scatter\", \"x\": [\"2021-05-23T00:00:00\", \"2021-05-28T00:00:00\", \"2021-05-28T00:00:00\", \"2021-05-28T00:00:00\", \"2021-05-26T00:00:00\", \"2021-05-27T00:00:00\", \"2021-05-28T00:00:00\", \"2021-05-29T00:00:00\", \"2021-05-26T00:00:00\", \"2021-05-26T00:00:00\", \"2021-05-26T00:00:00\", \"2021-05-27T00:00:00\", \"2021-05-28T00:00:00\", \"2021-05-29T00:00:00\", \"2021-05-28T00:00:00\", \"2021-05-25T00:00:00\", \"2021-05-27T00:00:00\", \"2021-05-27T00:00:00\", \"2021-05-27T00:00:00\", \"2021-05-22T00:00:00\", \"2021-05-23T00:00:00\", \"2021-05-23T00:00:00\", \"2021-05-25T00:00:00\", \"2021-05-21T00:00:00\", \"2021-05-26T00:00:00\", \"2021-05-26T00:00:00\", \"2021-05-24T00:00:00\", \"2021-05-25T00:00:00\", \"2021-05-26T00:00:00\", \"2021-05-26T00:00:00\", \"2021-05-15T00:00:00\", \"2021-05-15T00:00:00\", \"2021-05-22T00:00:00\", \"2021-05-23T00:00:00\", \"2021-05-20T00:00:00\", \"2021-05-18T00:00:00\", \"2021-05-26T00:00:00\", \"2021-05-26T00:00:00\", \"2021-05-26T00:00:00\", \"2021-05-25T00:00:00\", \"2021-05-25T00:00:00\", \"2021-05-24T00:00:00\", \"2021-05-23T00:00:00\", \"2021-05-23T00:00:00\", \"2021-05-25T00:00:00\", \"2021-05-22T00:00:00\", \"2021-05-23T00:00:00\", \"2021-05-22T00:00:00\", \"2021-05-22T00:00:00\", \"2021-05-23T00:00:00\", \"2021-05-26T00:00:00\", \"2021-05-24T00:00:00\", \"2021-05-23T00:00:00\", \"2021-05-22T00:00:00\", \"2021-05-24T00:00:00\", \"2021-05-24T00:00:00\", \"2021-05-23T00:00:00\", \"2021-05-22T00:00:00\", \"2021-05-24T00:00:00\", \"2021-05-22T00:00:00\", \"2021-05-27T00:00:00\", \"2021-05-27T00:00:00\", \"2021-05-26T00:00:00\", \"2021-05-23T00:00:00\", \"2021-05-23T00:00:00\", \"2021-05-26T00:00:00\", \"2021-05-26T00:00:00\", \"2021-05-26T00:00:00\", \"2021-05-21T00:00:00\", \"2021-05-22T00:00:00\", \"2021-05-24T00:00:00\", \"2021-05-17T00:00:00\", \"2021-05-17T00:00:00\", \"2021-05-26T00:00:00\", \"2021-05-26T00:00:00\", \"2021-05-26T00:00:00\", \"2021-05-27T00:00:00\", \"2021-05-24T00:00:00\", \"2021-05-19T00:00:00\", \"2021-05-22T00:00:00\", \"2021-05-26T00:00:00\", \"2021-05-27T00:00:00\", \"2021-05-17T00:00:00\", \"2021-05-18T00:00:00\", \"2021-05-22T00:00:00\", \"2021-05-25T00:00:00\", \"2021-05-25T00:00:00\", \"2021-05-25T00:00:00\", \"2021-05-22T00:00:00\", \"2021-05-22T00:00:00\", \"2021-05-26T00:00:00\", \"2021-05-22T00:00:00\", \"2021-05-22T00:00:00\", \"2021-05-22T00:00:00\", \"2021-05-19T00:00:00\", \"2021-05-22T00:00:00\", \"2021-05-18T00:00:00\", \"2021-05-25T00:00:00\", \"2021-05-26T00:00:00\", \"2021-05-24T00:00:00\", \"2021-05-17T00:00:00\", \"2021-05-18T00:00:00\", \"2021-05-20T00:00:00\", \"2021-05-21T00:00:00\", \"2021-05-24T00:00:00\", \"2021-05-25T00:00:00\", \"2021-05-27T00:00:00\", \"2021-05-28T00:00:00\", \"2021-05-12T00:00:00\", \"2021-05-13T00:00:00\", \"2021-05-20T00:00:00\", \"2021-05-25T00:00:00\", \"2021-05-19T00:00:00\", \"2021-05-25T00:00:00\", \"2021-05-26T00:00:00\", \"2021-05-23T00:00:00\", \"2021-05-19T00:00:00\", \"2021-05-25T00:00:00\", \"2021-05-22T00:00:00\", \"2021-05-26T00:00:00\", \"2021-05-24T00:00:00\", \"2021-05-26T00:00:00\", \"2021-05-21T00:00:00\", \"2021-05-25T00:00:00\", \"2021-05-26T00:00:00\", \"2021-05-26T00:00:00\", \"2021-05-27T00:00:00\", \"2021-05-27T00:00:00\", \"2021-05-27T00:00:00\", \"2021-05-28T00:00:00\", \"2021-05-23T00:00:00\", \"2021-05-26T00:00:00\", \"2021-05-26T00:00:00\", \"2021-05-26T00:00:00\", \"2021-05-25T00:00:00\", \"2021-05-24T00:00:00\", \"2021-05-25T00:00:00\", \"2021-05-25T00:00:00\", \"2021-05-25T00:00:00\", \"2021-05-24T00:00:00\", \"2021-05-22T00:00:00\", \"2021-05-22T00:00:00\", \"2021-05-23T00:00:00\", \"2021-05-22T00:00:00\", \"2021-05-21T00:00:00\", \"2021-05-23T00:00:00\", \"2021-05-25T00:00:00\", \"2021-05-19T00:00:00\", \"2021-05-19T00:00:00\", \"2021-05-19T00:00:00\", \"2021-05-19T00:00:00\", \"2021-05-19T00:00:00\", \"2021-05-25T00:00:00\", \"2021-05-19T00:00:00\", \"2021-05-18T00:00:00\", \"2021-05-18T00:00:00\", \"2021-05-18T00:00:00\", \"2021-05-18T00:00:00\", \"2021-05-25T00:00:00\", \"2021-05-24T00:00:00\", \"2021-05-23T00:00:00\", \"2021-05-23T00:00:00\", \"2021-05-23T00:00:00\", \"2021-05-22T00:00:00\", \"2021-05-24T00:00:00\", \"2021-05-25T00:00:00\", \"2021-05-26T00:00:00\", \"2021-05-22T00:00:00\", \"2021-05-23T00:00:00\", \"2021-05-25T00:00:00\", \"2021-05-26T00:00:00\", \"2021-05-27T00:00:00\", \"2021-05-22T00:00:00\", \"2021-05-22T00:00:00\", \"2021-05-22T00:00:00\", \"2021-05-23T00:00:00\", \"2021-05-25T00:00:00\", \"2021-05-24T00:00:00\", \"2021-05-25T00:00:00\", \"2021-05-24T00:00:00\", \"2021-05-23T00:00:00\", \"2021-05-24T00:00:00\", \"2021-05-25T00:00:00\", \"2021-05-25T00:00:00\", \"2021-05-13T00:00:00\", \"2021-05-23T00:00:00\", \"2021-05-23T00:00:00\", \"2021-05-23T00:00:00\", \"2021-05-23T00:00:00\", \"2021-05-25T00:00:00\", \"2021-05-24T00:00:00\", \"2021-05-24T00:00:00\", \"2021-05-22T00:00:00\", \"2021-05-22T00:00:00\", \"2021-05-22T00:00:00\", \"2021-05-22T00:00:00\", \"2021-05-21T00:00:00\", \"2021-05-24T00:00:00\", \"2021-05-22T00:00:00\", \"2021-05-20T00:00:00\", \"2021-05-24T00:00:00\", \"2021-05-24T00:00:00\", \"2021-05-24T00:00:00\", \"2021-05-24T00:00:00\", \"2021-05-24T00:00:00\", \"2021-05-23T00:00:00\", \"2021-05-21T00:00:00\", \"2021-05-24T00:00:00\", \"2021-05-25T00:00:00\", \"2021-05-22T00:00:00\", \"2021-05-23T00:00:00\", \"2021-05-22T00:00:00\", \"2021-05-23T00:00:00\", \"2021-05-14T00:00:00\", \"2021-05-14T00:00:00\", \"2021-05-14T00:00:00\", \"2021-05-23T00:00:00\", \"2021-05-25T00:00:00\", \"2021-05-22T00:00:00\", \"2021-05-23T00:00:00\", \"2021-05-21T00:00:00\", \"2021-05-20T00:00:00\", \"2021-05-23T00:00:00\", \"2021-05-22T00:00:00\", \"2021-05-21T00:00:00\", \"2021-05-22T00:00:00\", \"2021-05-23T00:00:00\", \"2021-05-22T00:00:00\", \"2021-05-23T00:00:00\", \"2021-05-21T00:00:00\", \"2021-05-23T00:00:00\", \"2021-05-24T00:00:00\", \"2021-05-23T00:00:00\", \"2021-05-21T00:00:00\", \"2021-05-24T00:00:00\", \"2021-05-23T00:00:00\", \"2021-05-23T00:00:00\", \"2021-05-22T00:00:00\", \"2021-05-22T00:00:00\", \"2021-05-18T00:00:00\", \"2021-05-20T00:00:00\", \"2021-05-21T00:00:00\", \"2021-05-22T00:00:00\", \"2021-05-23T00:00:00\", \"2021-05-24T00:00:00\", \"2021-05-25T00:00:00\", \"2021-05-24T00:00:00\", \"2021-05-23T00:00:00\", \"2021-05-21T00:00:00\", \"2021-05-23T00:00:00\", \"2021-05-23T00:00:00\", \"2021-05-22T00:00:00\", \"2021-05-22T00:00:00\", \"2021-05-23T00:00:00\", \"2021-05-23T00:00:00\", \"2021-05-23T00:00:00\", \"2021-05-22T00:00:00\", \"2021-05-22T00:00:00\", \"2021-05-22T00:00:00\", \"2021-05-20T00:00:00\", \"2021-05-20T00:00:00\", \"2021-05-22T00:00:00\", \"2021-05-24T00:00:00\", \"2021-05-24T00:00:00\", \"2021-05-21T00:00:00\", \"2021-05-22T00:00:00\", \"2021-05-19T00:00:00\", \"2021-05-20T00:00:00\", \"2021-05-19T00:00:00\", \"2021-05-19T00:00:00\", \"2021-05-19T00:00:00\", \"2021-05-20T00:00:00\", \"2021-05-17T00:00:00\", \"2021-05-19T00:00:00\", \"2021-05-23T00:00:00\", \"2021-05-23T00:00:00\", \"2021-05-22T00:00:00\", \"2021-05-21T00:00:00\", \"2021-05-22T00:00:00\", \"2021-05-17T00:00:00\", \"2021-05-18T00:00:00\", \"2021-05-20T00:00:00\", \"2021-05-22T00:00:00\", \"2021-05-21T00:00:00\", \"2021-05-22T00:00:00\", \"2021-05-23T00:00:00\", \"2021-05-23T00:00:00\", \"2021-05-20T00:00:00\", \"2021-05-20T00:00:00\", \"2021-05-20T00:00:00\", \"2021-05-20T00:00:00\", \"2021-05-20T00:00:00\", \"2021-05-20T00:00:00\", \"2021-05-21T00:00:00\", \"2021-05-23T00:00:00\", \"2021-05-23T00:00:00\", \"2021-05-22T00:00:00\", \"2021-05-18T00:00:00\"], \"xaxis\": \"x\", \"y\": [\"2021-06-01T00:00:00\", \"2021-06-01T00:00:00\", \"2021-06-01T00:00:00\", \"2021-06-01T00:00:00\", \"2021-05-31T00:00:00\", \"2021-05-31T00:00:00\", \"2021-05-31T00:00:00\", \"2021-05-31T00:00:00\", \"2021-05-31T00:00:00\", \"2021-05-31T00:00:00\", \"2021-05-31T00:00:00\", \"2021-05-31T00:00:00\", \"2021-05-31T00:00:00\", \"2021-05-31T00:00:00\", \"2021-05-31T00:00:00\", \"2021-05-31T00:00:00\", \"2021-05-31T00:00:00\", \"2021-05-31T00:00:00\", \"2021-05-31T00:00:00\", \"2021-05-31T00:00:00\", \"2021-05-31T00:00:00\", \"2021-05-31T00:00:00\", \"2021-05-31T00:00:00\", \"2021-05-31T00:00:00\", \"2021-05-31T00:00:00\", \"2021-05-31T00:00:00\", \"2021-05-30T00:00:00\", \"2021-05-30T00:00:00\", \"2021-05-30T00:00:00\", \"2021-05-30T00:00:00\", \"2021-05-30T00:00:00\", \"2021-05-30T00:00:00\", \"2021-05-30T00:00:00\", \"2021-05-30T00:00:00\", \"2021-05-30T00:00:00\", \"2021-05-30T00:00:00\", \"2021-05-30T00:00:00\", \"2021-05-30T00:00:00\", \"2021-05-30T00:00:00\", \"2021-05-30T00:00:00\", \"2021-05-30T00:00:00\", \"2021-05-30T00:00:00\", \"2021-05-30T00:00:00\", \"2021-05-30T00:00:00\", \"2021-05-30T00:00:00\", \"2021-05-30T00:00:00\", \"2021-05-30T00:00:00\", \"2021-05-30T00:00:00\", \"2021-05-30T00:00:00\", \"2021-05-30T00:00:00\", \"2021-05-30T00:00:00\", \"2021-05-30T00:00:00\", \"2021-05-30T00:00:00\", \"2021-05-30T00:00:00\", \"2021-05-30T00:00:00\", \"2021-05-30T00:00:00\", \"2021-05-30T00:00:00\", \"2021-05-30T00:00:00\", \"2021-05-30T00:00:00\", \"2021-05-30T00:00:00\", \"2021-05-30T00:00:00\", \"2021-05-30T00:00:00\", \"2021-05-30T00:00:00\", \"2021-05-30T00:00:00\", \"2021-05-30T00:00:00\", \"2021-05-30T00:00:00\", \"2021-05-30T00:00:00\", \"2021-05-30T00:00:00\", \"2021-05-30T00:00:00\", \"2021-05-30T00:00:00\", \"2021-05-30T00:00:00\", \"2021-05-30T00:00:00\", \"2021-05-30T00:00:00\", \"2021-05-30T00:00:00\", \"2021-05-30T00:00:00\", \"2021-05-30T00:00:00\", \"2021-05-30T00:00:00\", \"2021-05-30T00:00:00\", \"2021-05-30T00:00:00\", \"2021-05-30T00:00:00\", \"2021-05-30T00:00:00\", \"2021-05-30T00:00:00\", \"2021-05-30T00:00:00\", \"2021-05-30T00:00:00\", \"2021-05-30T00:00:00\", \"2021-05-30T00:00:00\", \"2021-05-30T00:00:00\", \"2021-05-30T00:00:00\", \"2021-05-30T00:00:00\", \"2021-05-30T00:00:00\", \"2021-05-30T00:00:00\", \"2021-05-30T00:00:00\", \"2021-05-30T00:00:00\", \"2021-05-30T00:00:00\", \"2021-05-30T00:00:00\", \"2021-05-30T00:00:00\", \"2021-05-30T00:00:00\", \"2021-05-30T00:00:00\", \"2021-05-30T00:00:00\", \"2021-05-30T00:00:00\", \"2021-05-30T00:00:00\", \"2021-05-30T00:00:00\", \"2021-05-30T00:00:00\", \"2021-05-30T00:00:00\", \"2021-05-30T00:00:00\", \"2021-05-30T00:00:00\", \"2021-05-30T00:00:00\", \"2021-05-30T00:00:00\", \"2021-05-30T00:00:00\", \"2021-05-30T00:00:00\", \"2021-05-30T00:00:00\", \"2021-05-30T00:00:00\", \"2021-05-30T00:00:00\", \"2021-05-30T00:00:00\", \"2021-05-30T00:00:00\", \"2021-05-30T00:00:00\", \"2021-05-30T00:00:00\", \"2021-05-30T00:00:00\", \"2021-05-30T00:00:00\", \"2021-05-30T00:00:00\", \"2021-05-30T00:00:00\", \"2021-05-30T00:00:00\", \"2021-05-30T00:00:00\", \"2021-05-30T00:00:00\", \"2021-05-29T00:00:00\", \"2021-05-29T00:00:00\", \"2021-05-29T00:00:00\", \"2021-05-29T00:00:00\", \"2021-05-29T00:00:00\", \"2021-05-29T00:00:00\", \"2021-05-29T00:00:00\", \"2021-05-29T00:00:00\", \"2021-05-29T00:00:00\", \"2021-05-29T00:00:00\", \"2021-05-29T00:00:00\", \"2021-05-29T00:00:00\", \"2021-05-29T00:00:00\", \"2021-05-29T00:00:00\", \"2021-05-29T00:00:00\", \"2021-05-29T00:00:00\", \"2021-05-29T00:00:00\", \"2021-05-29T00:00:00\", \"2021-05-29T00:00:00\", \"2021-05-29T00:00:00\", \"2021-05-29T00:00:00\", \"2021-05-29T00:00:00\", \"2021-05-29T00:00:00\", \"2021-05-28T00:00:00\", \"2021-05-28T00:00:00\", \"2021-05-28T00:00:00\", \"2021-05-28T00:00:00\", \"2021-05-28T00:00:00\", \"2021-05-28T00:00:00\", \"2021-05-28T00:00:00\", \"2021-05-28T00:00:00\", \"2021-05-28T00:00:00\", \"2021-05-28T00:00:00\", \"2021-05-28T00:00:00\", \"2021-05-28T00:00:00\", \"2021-05-28T00:00:00\", \"2021-05-28T00:00:00\", \"2021-05-28T00:00:00\", \"2021-05-28T00:00:00\", \"2021-05-28T00:00:00\", \"2021-05-28T00:00:00\", \"2021-05-28T00:00:00\", \"2021-05-28T00:00:00\", \"2021-05-28T00:00:00\", \"2021-05-28T00:00:00\", \"2021-05-28T00:00:00\", \"2021-05-28T00:00:00\", \"2021-05-28T00:00:00\", \"2021-05-28T00:00:00\", \"2021-05-28T00:00:00\", \"2021-05-28T00:00:00\", \"2021-05-28T00:00:00\", \"2021-05-28T00:00:00\", \"2021-05-28T00:00:00\", \"2021-05-28T00:00:00\", \"2021-05-28T00:00:00\", \"2021-05-28T00:00:00\", \"2021-05-27T00:00:00\", \"2021-05-27T00:00:00\", \"2021-05-27T00:00:00\", \"2021-05-27T00:00:00\", \"2021-05-27T00:00:00\", \"2021-05-27T00:00:00\", \"2021-05-27T00:00:00\", \"2021-05-27T00:00:00\", \"2021-05-27T00:00:00\", \"2021-05-27T00:00:00\", \"2021-05-27T00:00:00\", \"2021-05-27T00:00:00\", \"2021-05-27T00:00:00\", \"2021-05-27T00:00:00\", \"2021-05-27T00:00:00\", \"2021-05-27T00:00:00\", \"2021-05-27T00:00:00\", \"2021-05-27T00:00:00\", \"2021-05-27T00:00:00\", \"2021-05-27T00:00:00\", \"2021-05-27T00:00:00\", \"2021-05-27T00:00:00\", \"2021-05-27T00:00:00\", \"2021-05-27T00:00:00\", \"2021-05-27T00:00:00\", \"2021-05-27T00:00:00\", \"2021-05-27T00:00:00\", \"2021-05-27T00:00:00\", \"2021-05-27T00:00:00\", \"2021-05-27T00:00:00\", \"2021-05-27T00:00:00\", \"2021-05-27T00:00:00\", \"2021-05-27T00:00:00\", \"2021-05-27T00:00:00\", \"2021-05-27T00:00:00\", \"2021-05-27T00:00:00\", \"2021-05-27T00:00:00\", \"2021-05-27T00:00:00\", \"2021-05-26T00:00:00\", \"2021-05-26T00:00:00\", \"2021-05-26T00:00:00\", \"2021-05-26T00:00:00\", \"2021-05-26T00:00:00\", \"2021-05-26T00:00:00\", \"2021-05-26T00:00:00\", \"2021-05-26T00:00:00\", \"2021-05-26T00:00:00\", \"2021-05-26T00:00:00\", \"2021-05-26T00:00:00\", \"2021-05-26T00:00:00\", \"2021-05-26T00:00:00\", \"2021-05-26T00:00:00\", \"2021-05-26T00:00:00\", \"2021-05-26T00:00:00\", \"2021-05-26T00:00:00\", \"2021-05-26T00:00:00\", \"2021-05-26T00:00:00\", \"2021-05-26T00:00:00\", \"2021-05-26T00:00:00\", \"2021-05-26T00:00:00\", \"2021-05-26T00:00:00\", \"2021-05-26T00:00:00\", \"2021-05-26T00:00:00\", \"2021-05-26T00:00:00\", \"2021-05-26T00:00:00\", \"2021-05-26T00:00:00\", \"2021-05-26T00:00:00\", \"2021-05-26T00:00:00\", \"2021-05-26T00:00:00\", \"2021-05-26T00:00:00\", \"2021-05-26T00:00:00\", \"2021-05-26T00:00:00\", \"2021-05-26T00:00:00\", \"2021-05-26T00:00:00\", \"2021-05-26T00:00:00\", \"2021-05-26T00:00:00\", \"2021-05-26T00:00:00\", \"2021-05-26T00:00:00\", \"2021-05-26T00:00:00\", \"2021-05-26T00:00:00\", \"2021-05-26T00:00:00\", \"2021-05-26T00:00:00\", \"2021-05-26T00:00:00\", \"2021-05-26T00:00:00\", \"2021-05-26T00:00:00\", \"2021-05-25T00:00:00\", \"2021-05-25T00:00:00\", \"2021-05-25T00:00:00\", \"2021-05-25T00:00:00\", \"2021-05-25T00:00:00\", \"2021-05-25T00:00:00\", \"2021-05-25T00:00:00\", \"2021-05-24T00:00:00\", \"2021-05-24T00:00:00\", \"2021-05-24T00:00:00\", \"2021-05-24T00:00:00\", \"2021-05-24T00:00:00\", \"2021-05-24T00:00:00\", \"2021-05-24T00:00:00\", \"2021-05-24T00:00:00\", \"2021-05-24T00:00:00\", \"2021-05-24T00:00:00\", \"2021-05-24T00:00:00\", \"2021-05-24T00:00:00\", \"2021-05-24T00:00:00\", \"2021-05-24T00:00:00\", \"2021-05-24T00:00:00\", \"2021-05-24T00:00:00\", \"2021-05-24T00:00:00\", \"2021-05-24T00:00:00\", \"2021-05-24T00:00:00\", \"2021-05-24T00:00:00\", \"2021-05-24T00:00:00\", \"2021-05-24T00:00:00\", \"2021-05-24T00:00:00\", \"2021-05-22T00:00:00\", \"2021-05-18T00:00:00\"], \"yaxis\": \"y\"}],                        {\"legend\": {\"tracegroupgap\": 0}, \"margin\": {\"t\": 60}, \"template\": {\"data\": {\"bar\": [{\"error_x\": {\"color\": \"#f2f5fa\"}, \"error_y\": {\"color\": \"#f2f5fa\"}, \"marker\": {\"line\": {\"color\": \"rgb(17,17,17)\", \"width\": 0.5}}, \"type\": \"bar\"}], \"barpolar\": [{\"marker\": {\"line\": {\"color\": \"rgb(17,17,17)\", \"width\": 0.5}}, \"type\": \"barpolar\"}], \"carpet\": [{\"aaxis\": {\"endlinecolor\": \"#A2B1C6\", \"gridcolor\": \"#506784\", \"linecolor\": \"#506784\", \"minorgridcolor\": \"#506784\", \"startlinecolor\": \"#A2B1C6\"}, \"baxis\": {\"endlinecolor\": \"#A2B1C6\", \"gridcolor\": \"#506784\", \"linecolor\": \"#506784\", \"minorgridcolor\": \"#506784\", \"startlinecolor\": \"#A2B1C6\"}, \"type\": \"carpet\"}], \"choropleth\": [{\"colorbar\": {\"outlinewidth\": 0, \"ticks\": \"\"}, \"type\": \"choropleth\"}], \"contour\": [{\"colorbar\": {\"outlinewidth\": 0, \"ticks\": \"\"}, \"colorscale\": [[0.0, \"#0d0887\"], [0.1111111111111111, \"#46039f\"], [0.2222222222222222, \"#7201a8\"], [0.3333333333333333, \"#9c179e\"], [0.4444444444444444, \"#bd3786\"], [0.5555555555555556, \"#d8576b\"], [0.6666666666666666, \"#ed7953\"], [0.7777777777777778, \"#fb9f3a\"], [0.8888888888888888, \"#fdca26\"], [1.0, \"#f0f921\"]], \"type\": \"contour\"}], \"contourcarpet\": [{\"colorbar\": {\"outlinewidth\": 0, \"ticks\": \"\"}, \"type\": \"contourcarpet\"}], \"heatmap\": [{\"colorbar\": {\"outlinewidth\": 0, \"ticks\": \"\"}, \"colorscale\": [[0.0, \"#0d0887\"], [0.1111111111111111, \"#46039f\"], [0.2222222222222222, \"#7201a8\"], [0.3333333333333333, \"#9c179e\"], [0.4444444444444444, \"#bd3786\"], [0.5555555555555556, \"#d8576b\"], [0.6666666666666666, \"#ed7953\"], [0.7777777777777778, \"#fb9f3a\"], [0.8888888888888888, \"#fdca26\"], [1.0, \"#f0f921\"]], \"type\": \"heatmap\"}], \"heatmapgl\": [{\"colorbar\": {\"outlinewidth\": 0, \"ticks\": \"\"}, \"colorscale\": [[0.0, \"#0d0887\"], [0.1111111111111111, \"#46039f\"], [0.2222222222222222, \"#7201a8\"], [0.3333333333333333, \"#9c179e\"], [0.4444444444444444, \"#bd3786\"], [0.5555555555555556, \"#d8576b\"], [0.6666666666666666, \"#ed7953\"], [0.7777777777777778, \"#fb9f3a\"], [0.8888888888888888, \"#fdca26\"], [1.0, \"#f0f921\"]], \"type\": \"heatmapgl\"}], \"histogram\": [{\"marker\": {\"colorbar\": {\"outlinewidth\": 0, \"ticks\": \"\"}}, \"type\": \"histogram\"}], \"histogram2d\": [{\"colorbar\": {\"outlinewidth\": 0, \"ticks\": \"\"}, \"colorscale\": [[0.0, \"#0d0887\"], [0.1111111111111111, \"#46039f\"], [0.2222222222222222, \"#7201a8\"], [0.3333333333333333, \"#9c179e\"], [0.4444444444444444, \"#bd3786\"], [0.5555555555555556, \"#d8576b\"], [0.6666666666666666, \"#ed7953\"], [0.7777777777777778, \"#fb9f3a\"], [0.8888888888888888, \"#fdca26\"], [1.0, \"#f0f921\"]], \"type\": \"histogram2d\"}], \"histogram2dcontour\": [{\"colorbar\": {\"outlinewidth\": 0, \"ticks\": \"\"}, \"colorscale\": [[0.0, \"#0d0887\"], [0.1111111111111111, \"#46039f\"], [0.2222222222222222, \"#7201a8\"], [0.3333333333333333, \"#9c179e\"], [0.4444444444444444, \"#bd3786\"], [0.5555555555555556, \"#d8576b\"], [0.6666666666666666, \"#ed7953\"], [0.7777777777777778, \"#fb9f3a\"], [0.8888888888888888, \"#fdca26\"], [1.0, \"#f0f921\"]], \"type\": \"histogram2dcontour\"}], \"mesh3d\": [{\"colorbar\": {\"outlinewidth\": 0, \"ticks\": \"\"}, \"type\": \"mesh3d\"}], \"parcoords\": [{\"line\": {\"colorbar\": {\"outlinewidth\": 0, \"ticks\": \"\"}}, \"type\": \"parcoords\"}], \"pie\": [{\"automargin\": true, \"type\": \"pie\"}], \"scatter\": [{\"marker\": {\"line\": {\"color\": \"#283442\"}}, \"type\": \"scatter\"}], \"scatter3d\": [{\"line\": {\"colorbar\": {\"outlinewidth\": 0, \"ticks\": \"\"}}, \"marker\": {\"colorbar\": {\"outlinewidth\": 0, \"ticks\": \"\"}}, \"type\": \"scatter3d\"}], \"scattercarpet\": [{\"marker\": {\"colorbar\": {\"outlinewidth\": 0, \"ticks\": \"\"}}, \"type\": \"scattercarpet\"}], \"scattergeo\": [{\"marker\": {\"colorbar\": {\"outlinewidth\": 0, \"ticks\": \"\"}}, \"type\": \"scattergeo\"}], \"scattergl\": [{\"marker\": {\"line\": {\"color\": \"#283442\"}}, \"type\": \"scattergl\"}], \"scattermapbox\": [{\"marker\": {\"colorbar\": {\"outlinewidth\": 0, \"ticks\": \"\"}}, \"type\": \"scattermapbox\"}], \"scatterpolar\": [{\"marker\": {\"colorbar\": {\"outlinewidth\": 0, \"ticks\": \"\"}}, \"type\": \"scatterpolar\"}], \"scatterpolargl\": [{\"marker\": {\"colorbar\": {\"outlinewidth\": 0, \"ticks\": \"\"}}, \"type\": \"scatterpolargl\"}], \"scatterternary\": [{\"marker\": {\"colorbar\": {\"outlinewidth\": 0, \"ticks\": \"\"}}, \"type\": \"scatterternary\"}], \"surface\": [{\"colorbar\": {\"outlinewidth\": 0, \"ticks\": \"\"}, \"colorscale\": [[0.0, \"#0d0887\"], [0.1111111111111111, \"#46039f\"], [0.2222222222222222, \"#7201a8\"], [0.3333333333333333, \"#9c179e\"], [0.4444444444444444, \"#bd3786\"], [0.5555555555555556, \"#d8576b\"], [0.6666666666666666, \"#ed7953\"], [0.7777777777777778, \"#fb9f3a\"], [0.8888888888888888, \"#fdca26\"], [1.0, \"#f0f921\"]], \"type\": \"surface\"}], \"table\": [{\"cells\": {\"fill\": {\"color\": \"#506784\"}, \"line\": {\"color\": \"rgb(17,17,17)\"}}, \"header\": {\"fill\": {\"color\": \"#2a3f5f\"}, \"line\": {\"color\": \"rgb(17,17,17)\"}}, \"type\": \"table\"}]}, \"layout\": {\"annotationdefaults\": {\"arrowcolor\": \"#f2f5fa\", \"arrowhead\": 0, \"arrowwidth\": 1}, \"autotypenumbers\": \"strict\", \"coloraxis\": {\"colorbar\": {\"outlinewidth\": 0, \"ticks\": \"\"}}, \"colorscale\": {\"diverging\": [[0, \"#8e0152\"], [0.1, \"#c51b7d\"], [0.2, \"#de77ae\"], [0.3, \"#f1b6da\"], [0.4, \"#fde0ef\"], [0.5, \"#f7f7f7\"], [0.6, \"#e6f5d0\"], [0.7, \"#b8e186\"], [0.8, \"#7fbc41\"], [0.9, \"#4d9221\"], [1, \"#276419\"]], \"sequential\": [[0.0, \"#0d0887\"], [0.1111111111111111, \"#46039f\"], [0.2222222222222222, \"#7201a8\"], [0.3333333333333333, \"#9c179e\"], [0.4444444444444444, \"#bd3786\"], [0.5555555555555556, \"#d8576b\"], [0.6666666666666666, \"#ed7953\"], [0.7777777777777778, \"#fb9f3a\"], [0.8888888888888888, \"#fdca26\"], [1.0, \"#f0f921\"]], \"sequentialminus\": [[0.0, \"#0d0887\"], [0.1111111111111111, \"#46039f\"], [0.2222222222222222, \"#7201a8\"], [0.3333333333333333, \"#9c179e\"], [0.4444444444444444, \"#bd3786\"], [0.5555555555555556, \"#d8576b\"], [0.6666666666666666, \"#ed7953\"], [0.7777777777777778, \"#fb9f3a\"], [0.8888888888888888, \"#fdca26\"], [1.0, \"#f0f921\"]]}, \"colorway\": [\"#636efa\", \"#EF553B\", \"#00cc96\", \"#ab63fa\", \"#FFA15A\", \"#19d3f3\", \"#FF6692\", \"#B6E880\", \"#FF97FF\", \"#FECB52\"], \"font\": {\"color\": \"#f2f5fa\"}, \"geo\": {\"bgcolor\": \"rgb(17,17,17)\", \"lakecolor\": \"rgb(17,17,17)\", \"landcolor\": \"rgb(17,17,17)\", \"showlakes\": true, \"showland\": true, \"subunitcolor\": \"#506784\"}, \"hoverlabel\": {\"align\": \"left\"}, \"hovermode\": \"closest\", \"mapbox\": {\"style\": \"dark\"}, \"paper_bgcolor\": \"rgb(17,17,17)\", \"plot_bgcolor\": \"rgb(17,17,17)\", \"polar\": {\"angularaxis\": {\"gridcolor\": \"#506784\", \"linecolor\": \"#506784\", \"ticks\": \"\"}, \"bgcolor\": \"rgb(17,17,17)\", \"radialaxis\": {\"gridcolor\": \"#506784\", \"linecolor\": \"#506784\", \"ticks\": \"\"}}, \"scene\": {\"xaxis\": {\"backgroundcolor\": \"rgb(17,17,17)\", \"gridcolor\": \"#506784\", \"gridwidth\": 2, \"linecolor\": \"#506784\", \"showbackground\": true, \"ticks\": \"\", \"zerolinecolor\": \"#C8D4E3\"}, \"yaxis\": {\"backgroundcolor\": \"rgb(17,17,17)\", \"gridcolor\": \"#506784\", \"gridwidth\": 2, \"linecolor\": \"#506784\", \"showbackground\": true, \"ticks\": \"\", \"zerolinecolor\": \"#C8D4E3\"}, \"zaxis\": {\"backgroundcolor\": \"rgb(17,17,17)\", \"gridcolor\": \"#506784\", \"gridwidth\": 2, \"linecolor\": \"#506784\", \"showbackground\": true, \"ticks\": \"\", \"zerolinecolor\": \"#C8D4E3\"}}, \"shapedefaults\": {\"line\": {\"color\": \"#f2f5fa\"}}, \"sliderdefaults\": {\"bgcolor\": \"#C8D4E3\", \"bordercolor\": \"rgb(17,17,17)\", \"borderwidth\": 1, \"tickwidth\": 0}, \"ternary\": {\"aaxis\": {\"gridcolor\": \"#506784\", \"linecolor\": \"#506784\", \"ticks\": \"\"}, \"baxis\": {\"gridcolor\": \"#506784\", \"linecolor\": \"#506784\", \"ticks\": \"\"}, \"bgcolor\": \"rgb(17,17,17)\", \"caxis\": {\"gridcolor\": \"#506784\", \"linecolor\": \"#506784\", \"ticks\": \"\"}}, \"title\": {\"x\": 0.05}, \"updatemenudefaults\": {\"bgcolor\": \"#506784\", \"borderwidth\": 0}, \"xaxis\": {\"automargin\": true, \"gridcolor\": \"#283442\", \"linecolor\": \"#506784\", \"ticks\": \"\", \"title\": {\"standoff\": 15}, \"zerolinecolor\": \"#283442\", \"zerolinewidth\": 2}, \"yaxis\": {\"automargin\": true, \"gridcolor\": \"#283442\", \"linecolor\": \"#506784\", \"ticks\": \"\", \"title\": {\"standoff\": 15}, \"zerolinecolor\": \"#283442\", \"zerolinewidth\": 2}}}, \"xaxis\": {\"anchor\": \"y\", \"domain\": [0.0, 1.0], \"title\": {\"text\": \"date_exposure\"}}, \"yaxis\": {\"anchor\": \"x\", \"domain\": [0.0, 1.0], \"title\": {\"text\": \"date_added\"}}},                        {\"responsive\": true}                    ).then(function(){\n",
       "                            \n",
       "var gd = document.getElementById('153c9513-021c-4a15-95cf-1ff7c9f6843f');\n",
       "var x = new MutationObserver(function (mutations, observer) {{\n",
       "        var display = window.getComputedStyle(gd).display;\n",
       "        if (!display || display === 'none') {{\n",
       "            console.log([gd, 'removed!']);\n",
       "            Plotly.purge(gd);\n",
       "            observer.disconnect();\n",
       "        }}\n",
       "}});\n",
       "\n",
       "// Listen for the removal of the full notebook cells\n",
       "var notebookContainer = gd.closest('#notebook-container');\n",
       "if (notebookContainer) {{\n",
       "    x.observe(notebookContainer, {childList: true});\n",
       "}}\n",
       "\n",
       "// Listen for the clearing of the current output cell\n",
       "var outputEl = gd.closest('.output');\n",
       "if (outputEl) {{\n",
       "    x.observe(outputEl, {childList: true});\n",
       "}}\n",
       "\n",
       "                        })                };                });            </script>        </div>"
      ]
     },
     "metadata": {},
     "output_type": "display_data"
    }
   ],
   "source": [
    "fig = px.scatter(elements, y=\"date_added\", x=\"date_exposure\", opacity=0.5, hover_data=['Suburb', 'Site'], template='plotly_dark')\n",
    "fig.update_traces(marker_size = 20)"
   ]
  },
  {
   "cell_type": "code",
   "execution_count": 148,
   "metadata": {},
   "outputs": [
    {
     "data": {
      "application/vnd.plotly.v1+json": {
       "config": {
        "plotlyServerURL": "https://plot.ly"
       },
       "data": [
        {
         "coloraxis": "coloraxis",
         "hovertemplate": "date_exposure=%{x}<br>date_added=%{y}<br>count=%{z}<extra></extra>",
         "name": "",
         "nbinsx": 20,
         "nbinsy": 20,
         "type": "histogram2d",
         "x": [
          "2021-05-23T00:00:00",
          "2021-05-28T00:00:00",
          "2021-05-28T00:00:00",
          "2021-05-28T00:00:00",
          "2021-05-26T00:00:00",
          "2021-05-27T00:00:00",
          "2021-05-28T00:00:00",
          "2021-05-29T00:00:00",
          "2021-05-26T00:00:00",
          "2021-05-26T00:00:00",
          "2021-05-26T00:00:00",
          "2021-05-27T00:00:00",
          "2021-05-28T00:00:00",
          "2021-05-29T00:00:00",
          "2021-05-28T00:00:00",
          "2021-05-25T00:00:00",
          "2021-05-27T00:00:00",
          "2021-05-27T00:00:00",
          "2021-05-27T00:00:00",
          "2021-05-22T00:00:00",
          "2021-05-23T00:00:00",
          "2021-05-23T00:00:00",
          "2021-05-25T00:00:00",
          "2021-05-21T00:00:00",
          "2021-05-26T00:00:00",
          "2021-05-26T00:00:00",
          "2021-05-24T00:00:00",
          "2021-05-25T00:00:00",
          "2021-05-26T00:00:00",
          "2021-05-26T00:00:00",
          "2021-05-15T00:00:00",
          "2021-05-15T00:00:00",
          "2021-05-22T00:00:00",
          "2021-05-23T00:00:00",
          "2021-05-20T00:00:00",
          "2021-05-18T00:00:00",
          "2021-05-26T00:00:00",
          "2021-05-26T00:00:00",
          "2021-05-26T00:00:00",
          "2021-05-25T00:00:00",
          "2021-05-25T00:00:00",
          "2021-05-24T00:00:00",
          "2021-05-23T00:00:00",
          "2021-05-23T00:00:00",
          "2021-05-25T00:00:00",
          "2021-05-22T00:00:00",
          "2021-05-23T00:00:00",
          "2021-05-22T00:00:00",
          "2021-05-22T00:00:00",
          "2021-05-23T00:00:00",
          "2021-05-26T00:00:00",
          "2021-05-24T00:00:00",
          "2021-05-23T00:00:00",
          "2021-05-22T00:00:00",
          "2021-05-24T00:00:00",
          "2021-05-24T00:00:00",
          "2021-05-23T00:00:00",
          "2021-05-22T00:00:00",
          "2021-05-24T00:00:00",
          "2021-05-22T00:00:00",
          "2021-05-27T00:00:00",
          "2021-05-27T00:00:00",
          "2021-05-26T00:00:00",
          "2021-05-23T00:00:00",
          "2021-05-23T00:00:00",
          "2021-05-26T00:00:00",
          "2021-05-26T00:00:00",
          "2021-05-26T00:00:00",
          "2021-05-21T00:00:00",
          "2021-05-22T00:00:00",
          "2021-05-24T00:00:00",
          "2021-05-17T00:00:00",
          "2021-05-17T00:00:00",
          "2021-05-26T00:00:00",
          "2021-05-26T00:00:00",
          "2021-05-26T00:00:00",
          "2021-05-27T00:00:00",
          "2021-05-24T00:00:00",
          "2021-05-19T00:00:00",
          "2021-05-22T00:00:00",
          "2021-05-26T00:00:00",
          "2021-05-27T00:00:00",
          "2021-05-17T00:00:00",
          "2021-05-18T00:00:00",
          "2021-05-22T00:00:00",
          "2021-05-25T00:00:00",
          "2021-05-25T00:00:00",
          "2021-05-25T00:00:00",
          "2021-05-22T00:00:00",
          "2021-05-22T00:00:00",
          "2021-05-26T00:00:00",
          "2021-05-22T00:00:00",
          "2021-05-22T00:00:00",
          "2021-05-22T00:00:00",
          "2021-05-19T00:00:00",
          "2021-05-22T00:00:00",
          "2021-05-18T00:00:00",
          "2021-05-25T00:00:00",
          "2021-05-26T00:00:00",
          "2021-05-24T00:00:00",
          "2021-05-17T00:00:00",
          "2021-05-18T00:00:00",
          "2021-05-20T00:00:00",
          "2021-05-21T00:00:00",
          "2021-05-24T00:00:00",
          "2021-05-25T00:00:00",
          "2021-05-27T00:00:00",
          "2021-05-28T00:00:00",
          "2021-05-12T00:00:00",
          "2021-05-13T00:00:00",
          "2021-05-20T00:00:00",
          "2021-05-25T00:00:00",
          "2021-05-19T00:00:00",
          "2021-05-25T00:00:00",
          "2021-05-26T00:00:00",
          "2021-05-23T00:00:00",
          "2021-05-19T00:00:00",
          "2021-05-25T00:00:00",
          "2021-05-22T00:00:00",
          "2021-05-26T00:00:00",
          "2021-05-24T00:00:00",
          "2021-05-26T00:00:00",
          "2021-05-21T00:00:00",
          "2021-05-25T00:00:00",
          "2021-05-26T00:00:00",
          "2021-05-26T00:00:00",
          "2021-05-27T00:00:00",
          "2021-05-27T00:00:00",
          "2021-05-27T00:00:00",
          "2021-05-28T00:00:00",
          "2021-05-23T00:00:00",
          "2021-05-26T00:00:00",
          "2021-05-26T00:00:00",
          "2021-05-26T00:00:00",
          "2021-05-25T00:00:00",
          "2021-05-24T00:00:00",
          "2021-05-25T00:00:00",
          "2021-05-25T00:00:00",
          "2021-05-25T00:00:00",
          "2021-05-24T00:00:00",
          "2021-05-22T00:00:00",
          "2021-05-22T00:00:00",
          "2021-05-23T00:00:00",
          "2021-05-22T00:00:00",
          "2021-05-21T00:00:00",
          "2021-05-23T00:00:00",
          "2021-05-25T00:00:00",
          "2021-05-19T00:00:00",
          "2021-05-19T00:00:00",
          "2021-05-19T00:00:00",
          "2021-05-19T00:00:00",
          "2021-05-19T00:00:00",
          "2021-05-25T00:00:00",
          "2021-05-19T00:00:00",
          "2021-05-18T00:00:00",
          "2021-05-18T00:00:00",
          "2021-05-18T00:00:00",
          "2021-05-18T00:00:00",
          "2021-05-25T00:00:00",
          "2021-05-24T00:00:00",
          "2021-05-23T00:00:00",
          "2021-05-23T00:00:00",
          "2021-05-23T00:00:00",
          "2021-05-22T00:00:00",
          "2021-05-24T00:00:00",
          "2021-05-25T00:00:00",
          "2021-05-26T00:00:00",
          "2021-05-22T00:00:00",
          "2021-05-23T00:00:00",
          "2021-05-25T00:00:00",
          "2021-05-26T00:00:00",
          "2021-05-27T00:00:00",
          "2021-05-22T00:00:00",
          "2021-05-22T00:00:00",
          "2021-05-22T00:00:00",
          "2021-05-23T00:00:00",
          "2021-05-25T00:00:00",
          "2021-05-24T00:00:00",
          "2021-05-25T00:00:00",
          "2021-05-24T00:00:00",
          "2021-05-23T00:00:00",
          "2021-05-24T00:00:00",
          "2021-05-25T00:00:00",
          "2021-05-25T00:00:00",
          "2021-05-13T00:00:00",
          "2021-05-23T00:00:00",
          "2021-05-23T00:00:00",
          "2021-05-23T00:00:00",
          "2021-05-23T00:00:00",
          "2021-05-25T00:00:00",
          "2021-05-24T00:00:00",
          "2021-05-24T00:00:00",
          "2021-05-22T00:00:00",
          "2021-05-22T00:00:00",
          "2021-05-22T00:00:00",
          "2021-05-22T00:00:00",
          "2021-05-21T00:00:00",
          "2021-05-24T00:00:00",
          "2021-05-22T00:00:00",
          "2021-05-20T00:00:00",
          "2021-05-24T00:00:00",
          "2021-05-24T00:00:00",
          "2021-05-24T00:00:00",
          "2021-05-24T00:00:00",
          "2021-05-24T00:00:00",
          "2021-05-23T00:00:00",
          "2021-05-21T00:00:00",
          "2021-05-24T00:00:00",
          "2021-05-25T00:00:00",
          "2021-05-22T00:00:00",
          "2021-05-23T00:00:00",
          "2021-05-22T00:00:00",
          "2021-05-23T00:00:00",
          "2021-05-14T00:00:00",
          "2021-05-14T00:00:00",
          "2021-05-14T00:00:00",
          "2021-05-23T00:00:00",
          "2021-05-25T00:00:00",
          "2021-05-22T00:00:00",
          "2021-05-23T00:00:00",
          "2021-05-21T00:00:00",
          "2021-05-20T00:00:00",
          "2021-05-23T00:00:00",
          "2021-05-22T00:00:00",
          "2021-05-21T00:00:00",
          "2021-05-22T00:00:00",
          "2021-05-23T00:00:00",
          "2021-05-22T00:00:00",
          "2021-05-23T00:00:00",
          "2021-05-21T00:00:00",
          "2021-05-23T00:00:00",
          "2021-05-24T00:00:00",
          "2021-05-23T00:00:00",
          "2021-05-21T00:00:00",
          "2021-05-24T00:00:00",
          "2021-05-23T00:00:00",
          "2021-05-23T00:00:00",
          "2021-05-22T00:00:00",
          "2021-05-22T00:00:00",
          "2021-05-18T00:00:00",
          "2021-05-20T00:00:00",
          "2021-05-21T00:00:00",
          "2021-05-22T00:00:00",
          "2021-05-23T00:00:00",
          "2021-05-24T00:00:00",
          "2021-05-25T00:00:00",
          "2021-05-24T00:00:00",
          "2021-05-23T00:00:00",
          "2021-05-21T00:00:00",
          "2021-05-23T00:00:00",
          "2021-05-23T00:00:00",
          "2021-05-22T00:00:00",
          "2021-05-22T00:00:00",
          "2021-05-23T00:00:00",
          "2021-05-23T00:00:00",
          "2021-05-23T00:00:00",
          "2021-05-22T00:00:00",
          "2021-05-22T00:00:00",
          "2021-05-22T00:00:00",
          "2021-05-20T00:00:00",
          "2021-05-20T00:00:00",
          "2021-05-22T00:00:00",
          "2021-05-24T00:00:00",
          "2021-05-24T00:00:00",
          "2021-05-21T00:00:00",
          "2021-05-22T00:00:00",
          "2021-05-19T00:00:00",
          "2021-05-20T00:00:00",
          "2021-05-19T00:00:00",
          "2021-05-19T00:00:00",
          "2021-05-19T00:00:00",
          "2021-05-20T00:00:00",
          "2021-05-17T00:00:00",
          "2021-05-19T00:00:00",
          "2021-05-23T00:00:00",
          "2021-05-23T00:00:00",
          "2021-05-22T00:00:00",
          "2021-05-21T00:00:00",
          "2021-05-22T00:00:00",
          "2021-05-17T00:00:00",
          "2021-05-18T00:00:00",
          "2021-05-20T00:00:00",
          "2021-05-22T00:00:00",
          "2021-05-21T00:00:00",
          "2021-05-22T00:00:00",
          "2021-05-23T00:00:00",
          "2021-05-23T00:00:00",
          "2021-05-20T00:00:00",
          "2021-05-20T00:00:00",
          "2021-05-20T00:00:00",
          "2021-05-20T00:00:00",
          "2021-05-20T00:00:00",
          "2021-05-20T00:00:00",
          "2021-05-21T00:00:00",
          "2021-05-23T00:00:00",
          "2021-05-23T00:00:00",
          "2021-05-22T00:00:00",
          "2021-05-18T00:00:00"
         ],
         "xaxis": "x",
         "xbingroup": "x",
         "y": [
          "2021-06-01T00:00:00",
          "2021-06-01T00:00:00",
          "2021-06-01T00:00:00",
          "2021-06-01T00:00:00",
          "2021-05-31T00:00:00",
          "2021-05-31T00:00:00",
          "2021-05-31T00:00:00",
          "2021-05-31T00:00:00",
          "2021-05-31T00:00:00",
          "2021-05-31T00:00:00",
          "2021-05-31T00:00:00",
          "2021-05-31T00:00:00",
          "2021-05-31T00:00:00",
          "2021-05-31T00:00:00",
          "2021-05-31T00:00:00",
          "2021-05-31T00:00:00",
          "2021-05-31T00:00:00",
          "2021-05-31T00:00:00",
          "2021-05-31T00:00:00",
          "2021-05-31T00:00:00",
          "2021-05-31T00:00:00",
          "2021-05-31T00:00:00",
          "2021-05-31T00:00:00",
          "2021-05-31T00:00:00",
          "2021-05-31T00:00:00",
          "2021-05-31T00:00:00",
          "2021-05-30T00:00:00",
          "2021-05-30T00:00:00",
          "2021-05-30T00:00:00",
          "2021-05-30T00:00:00",
          "2021-05-30T00:00:00",
          "2021-05-30T00:00:00",
          "2021-05-30T00:00:00",
          "2021-05-30T00:00:00",
          "2021-05-30T00:00:00",
          "2021-05-30T00:00:00",
          "2021-05-30T00:00:00",
          "2021-05-30T00:00:00",
          "2021-05-30T00:00:00",
          "2021-05-30T00:00:00",
          "2021-05-30T00:00:00",
          "2021-05-30T00:00:00",
          "2021-05-30T00:00:00",
          "2021-05-30T00:00:00",
          "2021-05-30T00:00:00",
          "2021-05-30T00:00:00",
          "2021-05-30T00:00:00",
          "2021-05-30T00:00:00",
          "2021-05-30T00:00:00",
          "2021-05-30T00:00:00",
          "2021-05-30T00:00:00",
          "2021-05-30T00:00:00",
          "2021-05-30T00:00:00",
          "2021-05-30T00:00:00",
          "2021-05-30T00:00:00",
          "2021-05-30T00:00:00",
          "2021-05-30T00:00:00",
          "2021-05-30T00:00:00",
          "2021-05-30T00:00:00",
          "2021-05-30T00:00:00",
          "2021-05-30T00:00:00",
          "2021-05-30T00:00:00",
          "2021-05-30T00:00:00",
          "2021-05-30T00:00:00",
          "2021-05-30T00:00:00",
          "2021-05-30T00:00:00",
          "2021-05-30T00:00:00",
          "2021-05-30T00:00:00",
          "2021-05-30T00:00:00",
          "2021-05-30T00:00:00",
          "2021-05-30T00:00:00",
          "2021-05-30T00:00:00",
          "2021-05-30T00:00:00",
          "2021-05-30T00:00:00",
          "2021-05-30T00:00:00",
          "2021-05-30T00:00:00",
          "2021-05-30T00:00:00",
          "2021-05-30T00:00:00",
          "2021-05-30T00:00:00",
          "2021-05-30T00:00:00",
          "2021-05-30T00:00:00",
          "2021-05-30T00:00:00",
          "2021-05-30T00:00:00",
          "2021-05-30T00:00:00",
          "2021-05-30T00:00:00",
          "2021-05-30T00:00:00",
          "2021-05-30T00:00:00",
          "2021-05-30T00:00:00",
          "2021-05-30T00:00:00",
          "2021-05-30T00:00:00",
          "2021-05-30T00:00:00",
          "2021-05-30T00:00:00",
          "2021-05-30T00:00:00",
          "2021-05-30T00:00:00",
          "2021-05-30T00:00:00",
          "2021-05-30T00:00:00",
          "2021-05-30T00:00:00",
          "2021-05-30T00:00:00",
          "2021-05-30T00:00:00",
          "2021-05-30T00:00:00",
          "2021-05-30T00:00:00",
          "2021-05-30T00:00:00",
          "2021-05-30T00:00:00",
          "2021-05-30T00:00:00",
          "2021-05-30T00:00:00",
          "2021-05-30T00:00:00",
          "2021-05-30T00:00:00",
          "2021-05-30T00:00:00",
          "2021-05-30T00:00:00",
          "2021-05-30T00:00:00",
          "2021-05-30T00:00:00",
          "2021-05-30T00:00:00",
          "2021-05-30T00:00:00",
          "2021-05-30T00:00:00",
          "2021-05-30T00:00:00",
          "2021-05-30T00:00:00",
          "2021-05-30T00:00:00",
          "2021-05-30T00:00:00",
          "2021-05-30T00:00:00",
          "2021-05-30T00:00:00",
          "2021-05-30T00:00:00",
          "2021-05-30T00:00:00",
          "2021-05-30T00:00:00",
          "2021-05-30T00:00:00",
          "2021-05-29T00:00:00",
          "2021-05-29T00:00:00",
          "2021-05-29T00:00:00",
          "2021-05-29T00:00:00",
          "2021-05-29T00:00:00",
          "2021-05-29T00:00:00",
          "2021-05-29T00:00:00",
          "2021-05-29T00:00:00",
          "2021-05-29T00:00:00",
          "2021-05-29T00:00:00",
          "2021-05-29T00:00:00",
          "2021-05-29T00:00:00",
          "2021-05-29T00:00:00",
          "2021-05-29T00:00:00",
          "2021-05-29T00:00:00",
          "2021-05-29T00:00:00",
          "2021-05-29T00:00:00",
          "2021-05-29T00:00:00",
          "2021-05-29T00:00:00",
          "2021-05-29T00:00:00",
          "2021-05-29T00:00:00",
          "2021-05-29T00:00:00",
          "2021-05-29T00:00:00",
          "2021-05-28T00:00:00",
          "2021-05-28T00:00:00",
          "2021-05-28T00:00:00",
          "2021-05-28T00:00:00",
          "2021-05-28T00:00:00",
          "2021-05-28T00:00:00",
          "2021-05-28T00:00:00",
          "2021-05-28T00:00:00",
          "2021-05-28T00:00:00",
          "2021-05-28T00:00:00",
          "2021-05-28T00:00:00",
          "2021-05-28T00:00:00",
          "2021-05-28T00:00:00",
          "2021-05-28T00:00:00",
          "2021-05-28T00:00:00",
          "2021-05-28T00:00:00",
          "2021-05-28T00:00:00",
          "2021-05-28T00:00:00",
          "2021-05-28T00:00:00",
          "2021-05-28T00:00:00",
          "2021-05-28T00:00:00",
          "2021-05-28T00:00:00",
          "2021-05-28T00:00:00",
          "2021-05-28T00:00:00",
          "2021-05-28T00:00:00",
          "2021-05-28T00:00:00",
          "2021-05-28T00:00:00",
          "2021-05-28T00:00:00",
          "2021-05-28T00:00:00",
          "2021-05-28T00:00:00",
          "2021-05-28T00:00:00",
          "2021-05-28T00:00:00",
          "2021-05-28T00:00:00",
          "2021-05-28T00:00:00",
          "2021-05-27T00:00:00",
          "2021-05-27T00:00:00",
          "2021-05-27T00:00:00",
          "2021-05-27T00:00:00",
          "2021-05-27T00:00:00",
          "2021-05-27T00:00:00",
          "2021-05-27T00:00:00",
          "2021-05-27T00:00:00",
          "2021-05-27T00:00:00",
          "2021-05-27T00:00:00",
          "2021-05-27T00:00:00",
          "2021-05-27T00:00:00",
          "2021-05-27T00:00:00",
          "2021-05-27T00:00:00",
          "2021-05-27T00:00:00",
          "2021-05-27T00:00:00",
          "2021-05-27T00:00:00",
          "2021-05-27T00:00:00",
          "2021-05-27T00:00:00",
          "2021-05-27T00:00:00",
          "2021-05-27T00:00:00",
          "2021-05-27T00:00:00",
          "2021-05-27T00:00:00",
          "2021-05-27T00:00:00",
          "2021-05-27T00:00:00",
          "2021-05-27T00:00:00",
          "2021-05-27T00:00:00",
          "2021-05-27T00:00:00",
          "2021-05-27T00:00:00",
          "2021-05-27T00:00:00",
          "2021-05-27T00:00:00",
          "2021-05-27T00:00:00",
          "2021-05-27T00:00:00",
          "2021-05-27T00:00:00",
          "2021-05-27T00:00:00",
          "2021-05-27T00:00:00",
          "2021-05-27T00:00:00",
          "2021-05-27T00:00:00",
          "2021-05-26T00:00:00",
          "2021-05-26T00:00:00",
          "2021-05-26T00:00:00",
          "2021-05-26T00:00:00",
          "2021-05-26T00:00:00",
          "2021-05-26T00:00:00",
          "2021-05-26T00:00:00",
          "2021-05-26T00:00:00",
          "2021-05-26T00:00:00",
          "2021-05-26T00:00:00",
          "2021-05-26T00:00:00",
          "2021-05-26T00:00:00",
          "2021-05-26T00:00:00",
          "2021-05-26T00:00:00",
          "2021-05-26T00:00:00",
          "2021-05-26T00:00:00",
          "2021-05-26T00:00:00",
          "2021-05-26T00:00:00",
          "2021-05-26T00:00:00",
          "2021-05-26T00:00:00",
          "2021-05-26T00:00:00",
          "2021-05-26T00:00:00",
          "2021-05-26T00:00:00",
          "2021-05-26T00:00:00",
          "2021-05-26T00:00:00",
          "2021-05-26T00:00:00",
          "2021-05-26T00:00:00",
          "2021-05-26T00:00:00",
          "2021-05-26T00:00:00",
          "2021-05-26T00:00:00",
          "2021-05-26T00:00:00",
          "2021-05-26T00:00:00",
          "2021-05-26T00:00:00",
          "2021-05-26T00:00:00",
          "2021-05-26T00:00:00",
          "2021-05-26T00:00:00",
          "2021-05-26T00:00:00",
          "2021-05-26T00:00:00",
          "2021-05-26T00:00:00",
          "2021-05-26T00:00:00",
          "2021-05-26T00:00:00",
          "2021-05-26T00:00:00",
          "2021-05-26T00:00:00",
          "2021-05-26T00:00:00",
          "2021-05-26T00:00:00",
          "2021-05-26T00:00:00",
          "2021-05-26T00:00:00",
          "2021-05-25T00:00:00",
          "2021-05-25T00:00:00",
          "2021-05-25T00:00:00",
          "2021-05-25T00:00:00",
          "2021-05-25T00:00:00",
          "2021-05-25T00:00:00",
          "2021-05-25T00:00:00",
          "2021-05-24T00:00:00",
          "2021-05-24T00:00:00",
          "2021-05-24T00:00:00",
          "2021-05-24T00:00:00",
          "2021-05-24T00:00:00",
          "2021-05-24T00:00:00",
          "2021-05-24T00:00:00",
          "2021-05-24T00:00:00",
          "2021-05-24T00:00:00",
          "2021-05-24T00:00:00",
          "2021-05-24T00:00:00",
          "2021-05-24T00:00:00",
          "2021-05-24T00:00:00",
          "2021-05-24T00:00:00",
          "2021-05-24T00:00:00",
          "2021-05-24T00:00:00",
          "2021-05-24T00:00:00",
          "2021-05-24T00:00:00",
          "2021-05-24T00:00:00",
          "2021-05-24T00:00:00",
          "2021-05-24T00:00:00",
          "2021-05-24T00:00:00",
          "2021-05-24T00:00:00",
          "2021-05-22T00:00:00",
          "2021-05-18T00:00:00"
         ],
         "yaxis": "y",
         "ybingroup": "y"
        }
       ],
       "layout": {
        "annotations": [
         {
          "ax": 10,
          "ay": 20,
          "text": "lockdown",
          "x": "2021-05-27",
          "xanchor": "left",
          "y": "2021-05-27"
         }
        ],
        "coloraxis": {
         "colorbar": {
          "title": {
           "text": "count"
          }
         },
         "colorscale": [
          [
           0,
           "#440154"
          ],
          [
           0.1111111111111111,
           "#482878"
          ],
          [
           0.2222222222222222,
           "#3e4989"
          ],
          [
           0.3333333333333333,
           "#31688e"
          ],
          [
           0.4444444444444444,
           "#26828e"
          ],
          [
           0.5555555555555556,
           "#1f9e89"
          ],
          [
           0.6666666666666666,
           "#35b779"
          ],
          [
           0.7777777777777778,
           "#6ece58"
          ],
          [
           0.8888888888888888,
           "#b5de2b"
          ],
          [
           1,
           "#fde725"
          ]
         ]
        },
        "legend": {
         "tracegroupgap": 0
        },
        "shapes": [
         {
          "type": "line",
          "x0": "2021-05-27",
          "x1": "2021-05-27",
          "xref": "x",
          "y0": 0,
          "y1": 1,
          "yref": "y domain"
         },
         {
          "type": "line",
          "x0": 0,
          "x1": 1,
          "xref": "x domain",
          "y0": "2021-05-27",
          "y1": "2021-05-27",
          "yref": "y"
         }
        ],
        "template": {
         "data": {
          "bar": [
           {
            "error_x": {
             "color": "#f2f5fa"
            },
            "error_y": {
             "color": "#f2f5fa"
            },
            "marker": {
             "line": {
              "color": "rgb(17,17,17)",
              "width": 0.5
             }
            },
            "type": "bar"
           }
          ],
          "barpolar": [
           {
            "marker": {
             "line": {
              "color": "rgb(17,17,17)",
              "width": 0.5
             }
            },
            "type": "barpolar"
           }
          ],
          "carpet": [
           {
            "aaxis": {
             "endlinecolor": "#A2B1C6",
             "gridcolor": "#506784",
             "linecolor": "#506784",
             "minorgridcolor": "#506784",
             "startlinecolor": "#A2B1C6"
            },
            "baxis": {
             "endlinecolor": "#A2B1C6",
             "gridcolor": "#506784",
             "linecolor": "#506784",
             "minorgridcolor": "#506784",
             "startlinecolor": "#A2B1C6"
            },
            "type": "carpet"
           }
          ],
          "choropleth": [
           {
            "colorbar": {
             "outlinewidth": 0,
             "ticks": ""
            },
            "type": "choropleth"
           }
          ],
          "contour": [
           {
            "colorbar": {
             "outlinewidth": 0,
             "ticks": ""
            },
            "colorscale": [
             [
              0,
              "#0d0887"
             ],
             [
              0.1111111111111111,
              "#46039f"
             ],
             [
              0.2222222222222222,
              "#7201a8"
             ],
             [
              0.3333333333333333,
              "#9c179e"
             ],
             [
              0.4444444444444444,
              "#bd3786"
             ],
             [
              0.5555555555555556,
              "#d8576b"
             ],
             [
              0.6666666666666666,
              "#ed7953"
             ],
             [
              0.7777777777777778,
              "#fb9f3a"
             ],
             [
              0.8888888888888888,
              "#fdca26"
             ],
             [
              1,
              "#f0f921"
             ]
            ],
            "type": "contour"
           }
          ],
          "contourcarpet": [
           {
            "colorbar": {
             "outlinewidth": 0,
             "ticks": ""
            },
            "type": "contourcarpet"
           }
          ],
          "heatmap": [
           {
            "colorbar": {
             "outlinewidth": 0,
             "ticks": ""
            },
            "colorscale": [
             [
              0,
              "#0d0887"
             ],
             [
              0.1111111111111111,
              "#46039f"
             ],
             [
              0.2222222222222222,
              "#7201a8"
             ],
             [
              0.3333333333333333,
              "#9c179e"
             ],
             [
              0.4444444444444444,
              "#bd3786"
             ],
             [
              0.5555555555555556,
              "#d8576b"
             ],
             [
              0.6666666666666666,
              "#ed7953"
             ],
             [
              0.7777777777777778,
              "#fb9f3a"
             ],
             [
              0.8888888888888888,
              "#fdca26"
             ],
             [
              1,
              "#f0f921"
             ]
            ],
            "type": "heatmap"
           }
          ],
          "heatmapgl": [
           {
            "colorbar": {
             "outlinewidth": 0,
             "ticks": ""
            },
            "colorscale": [
             [
              0,
              "#0d0887"
             ],
             [
              0.1111111111111111,
              "#46039f"
             ],
             [
              0.2222222222222222,
              "#7201a8"
             ],
             [
              0.3333333333333333,
              "#9c179e"
             ],
             [
              0.4444444444444444,
              "#bd3786"
             ],
             [
              0.5555555555555556,
              "#d8576b"
             ],
             [
              0.6666666666666666,
              "#ed7953"
             ],
             [
              0.7777777777777778,
              "#fb9f3a"
             ],
             [
              0.8888888888888888,
              "#fdca26"
             ],
             [
              1,
              "#f0f921"
             ]
            ],
            "type": "heatmapgl"
           }
          ],
          "histogram": [
           {
            "marker": {
             "colorbar": {
              "outlinewidth": 0,
              "ticks": ""
             }
            },
            "type": "histogram"
           }
          ],
          "histogram2d": [
           {
            "colorbar": {
             "outlinewidth": 0,
             "ticks": ""
            },
            "colorscale": [
             [
              0,
              "#0d0887"
             ],
             [
              0.1111111111111111,
              "#46039f"
             ],
             [
              0.2222222222222222,
              "#7201a8"
             ],
             [
              0.3333333333333333,
              "#9c179e"
             ],
             [
              0.4444444444444444,
              "#bd3786"
             ],
             [
              0.5555555555555556,
              "#d8576b"
             ],
             [
              0.6666666666666666,
              "#ed7953"
             ],
             [
              0.7777777777777778,
              "#fb9f3a"
             ],
             [
              0.8888888888888888,
              "#fdca26"
             ],
             [
              1,
              "#f0f921"
             ]
            ],
            "type": "histogram2d"
           }
          ],
          "histogram2dcontour": [
           {
            "colorbar": {
             "outlinewidth": 0,
             "ticks": ""
            },
            "colorscale": [
             [
              0,
              "#0d0887"
             ],
             [
              0.1111111111111111,
              "#46039f"
             ],
             [
              0.2222222222222222,
              "#7201a8"
             ],
             [
              0.3333333333333333,
              "#9c179e"
             ],
             [
              0.4444444444444444,
              "#bd3786"
             ],
             [
              0.5555555555555556,
              "#d8576b"
             ],
             [
              0.6666666666666666,
              "#ed7953"
             ],
             [
              0.7777777777777778,
              "#fb9f3a"
             ],
             [
              0.8888888888888888,
              "#fdca26"
             ],
             [
              1,
              "#f0f921"
             ]
            ],
            "type": "histogram2dcontour"
           }
          ],
          "mesh3d": [
           {
            "colorbar": {
             "outlinewidth": 0,
             "ticks": ""
            },
            "type": "mesh3d"
           }
          ],
          "parcoords": [
           {
            "line": {
             "colorbar": {
              "outlinewidth": 0,
              "ticks": ""
             }
            },
            "type": "parcoords"
           }
          ],
          "pie": [
           {
            "automargin": true,
            "type": "pie"
           }
          ],
          "scatter": [
           {
            "marker": {
             "line": {
              "color": "#283442"
             }
            },
            "type": "scatter"
           }
          ],
          "scatter3d": [
           {
            "line": {
             "colorbar": {
              "outlinewidth": 0,
              "ticks": ""
             }
            },
            "marker": {
             "colorbar": {
              "outlinewidth": 0,
              "ticks": ""
             }
            },
            "type": "scatter3d"
           }
          ],
          "scattercarpet": [
           {
            "marker": {
             "colorbar": {
              "outlinewidth": 0,
              "ticks": ""
             }
            },
            "type": "scattercarpet"
           }
          ],
          "scattergeo": [
           {
            "marker": {
             "colorbar": {
              "outlinewidth": 0,
              "ticks": ""
             }
            },
            "type": "scattergeo"
           }
          ],
          "scattergl": [
           {
            "marker": {
             "line": {
              "color": "#283442"
             }
            },
            "type": "scattergl"
           }
          ],
          "scattermapbox": [
           {
            "marker": {
             "colorbar": {
              "outlinewidth": 0,
              "ticks": ""
             }
            },
            "type": "scattermapbox"
           }
          ],
          "scatterpolar": [
           {
            "marker": {
             "colorbar": {
              "outlinewidth": 0,
              "ticks": ""
             }
            },
            "type": "scatterpolar"
           }
          ],
          "scatterpolargl": [
           {
            "marker": {
             "colorbar": {
              "outlinewidth": 0,
              "ticks": ""
             }
            },
            "type": "scatterpolargl"
           }
          ],
          "scatterternary": [
           {
            "marker": {
             "colorbar": {
              "outlinewidth": 0,
              "ticks": ""
             }
            },
            "type": "scatterternary"
           }
          ],
          "surface": [
           {
            "colorbar": {
             "outlinewidth": 0,
             "ticks": ""
            },
            "colorscale": [
             [
              0,
              "#0d0887"
             ],
             [
              0.1111111111111111,
              "#46039f"
             ],
             [
              0.2222222222222222,
              "#7201a8"
             ],
             [
              0.3333333333333333,
              "#9c179e"
             ],
             [
              0.4444444444444444,
              "#bd3786"
             ],
             [
              0.5555555555555556,
              "#d8576b"
             ],
             [
              0.6666666666666666,
              "#ed7953"
             ],
             [
              0.7777777777777778,
              "#fb9f3a"
             ],
             [
              0.8888888888888888,
              "#fdca26"
             ],
             [
              1,
              "#f0f921"
             ]
            ],
            "type": "surface"
           }
          ],
          "table": [
           {
            "cells": {
             "fill": {
              "color": "#506784"
             },
             "line": {
              "color": "rgb(17,17,17)"
             }
            },
            "header": {
             "fill": {
              "color": "#2a3f5f"
             },
             "line": {
              "color": "rgb(17,17,17)"
             }
            },
            "type": "table"
           }
          ]
         },
         "layout": {
          "annotationdefaults": {
           "arrowcolor": "#f2f5fa",
           "arrowhead": 0,
           "arrowwidth": 1
          },
          "autotypenumbers": "strict",
          "coloraxis": {
           "colorbar": {
            "outlinewidth": 0,
            "ticks": ""
           }
          },
          "colorscale": {
           "diverging": [
            [
             0,
             "#8e0152"
            ],
            [
             0.1,
             "#c51b7d"
            ],
            [
             0.2,
             "#de77ae"
            ],
            [
             0.3,
             "#f1b6da"
            ],
            [
             0.4,
             "#fde0ef"
            ],
            [
             0.5,
             "#f7f7f7"
            ],
            [
             0.6,
             "#e6f5d0"
            ],
            [
             0.7,
             "#b8e186"
            ],
            [
             0.8,
             "#7fbc41"
            ],
            [
             0.9,
             "#4d9221"
            ],
            [
             1,
             "#276419"
            ]
           ],
           "sequential": [
            [
             0,
             "#0d0887"
            ],
            [
             0.1111111111111111,
             "#46039f"
            ],
            [
             0.2222222222222222,
             "#7201a8"
            ],
            [
             0.3333333333333333,
             "#9c179e"
            ],
            [
             0.4444444444444444,
             "#bd3786"
            ],
            [
             0.5555555555555556,
             "#d8576b"
            ],
            [
             0.6666666666666666,
             "#ed7953"
            ],
            [
             0.7777777777777778,
             "#fb9f3a"
            ],
            [
             0.8888888888888888,
             "#fdca26"
            ],
            [
             1,
             "#f0f921"
            ]
           ],
           "sequentialminus": [
            [
             0,
             "#0d0887"
            ],
            [
             0.1111111111111111,
             "#46039f"
            ],
            [
             0.2222222222222222,
             "#7201a8"
            ],
            [
             0.3333333333333333,
             "#9c179e"
            ],
            [
             0.4444444444444444,
             "#bd3786"
            ],
            [
             0.5555555555555556,
             "#d8576b"
            ],
            [
             0.6666666666666666,
             "#ed7953"
            ],
            [
             0.7777777777777778,
             "#fb9f3a"
            ],
            [
             0.8888888888888888,
             "#fdca26"
            ],
            [
             1,
             "#f0f921"
            ]
           ]
          },
          "colorway": [
           "#636efa",
           "#EF553B",
           "#00cc96",
           "#ab63fa",
           "#FFA15A",
           "#19d3f3",
           "#FF6692",
           "#B6E880",
           "#FF97FF",
           "#FECB52"
          ],
          "font": {
           "color": "#f2f5fa"
          },
          "geo": {
           "bgcolor": "rgb(17,17,17)",
           "lakecolor": "rgb(17,17,17)",
           "landcolor": "rgb(17,17,17)",
           "showlakes": true,
           "showland": true,
           "subunitcolor": "#506784"
          },
          "hoverlabel": {
           "align": "left"
          },
          "hovermode": "closest",
          "mapbox": {
           "style": "dark"
          },
          "paper_bgcolor": "rgb(17,17,17)",
          "plot_bgcolor": "rgb(17,17,17)",
          "polar": {
           "angularaxis": {
            "gridcolor": "#506784",
            "linecolor": "#506784",
            "ticks": ""
           },
           "bgcolor": "rgb(17,17,17)",
           "radialaxis": {
            "gridcolor": "#506784",
            "linecolor": "#506784",
            "ticks": ""
           }
          },
          "scene": {
           "xaxis": {
            "backgroundcolor": "rgb(17,17,17)",
            "gridcolor": "#506784",
            "gridwidth": 2,
            "linecolor": "#506784",
            "showbackground": true,
            "ticks": "",
            "zerolinecolor": "#C8D4E3"
           },
           "yaxis": {
            "backgroundcolor": "rgb(17,17,17)",
            "gridcolor": "#506784",
            "gridwidth": 2,
            "linecolor": "#506784",
            "showbackground": true,
            "ticks": "",
            "zerolinecolor": "#C8D4E3"
           },
           "zaxis": {
            "backgroundcolor": "rgb(17,17,17)",
            "gridcolor": "#506784",
            "gridwidth": 2,
            "linecolor": "#506784",
            "showbackground": true,
            "ticks": "",
            "zerolinecolor": "#C8D4E3"
           }
          },
          "shapedefaults": {
           "line": {
            "color": "#f2f5fa"
           }
          },
          "sliderdefaults": {
           "bgcolor": "#C8D4E3",
           "bordercolor": "rgb(17,17,17)",
           "borderwidth": 1,
           "tickwidth": 0
          },
          "ternary": {
           "aaxis": {
            "gridcolor": "#506784",
            "linecolor": "#506784",
            "ticks": ""
           },
           "baxis": {
            "gridcolor": "#506784",
            "linecolor": "#506784",
            "ticks": ""
           },
           "bgcolor": "rgb(17,17,17)",
           "caxis": {
            "gridcolor": "#506784",
            "linecolor": "#506784",
            "ticks": ""
           }
          },
          "title": {
           "x": 0.05
          },
          "updatemenudefaults": {
           "bgcolor": "#506784",
           "borderwidth": 0
          },
          "xaxis": {
           "automargin": true,
           "gridcolor": "#283442",
           "linecolor": "#506784",
           "ticks": "",
           "title": {
            "standoff": 15
           },
           "zerolinecolor": "#283442",
           "zerolinewidth": 2
          },
          "yaxis": {
           "automargin": true,
           "gridcolor": "#283442",
           "linecolor": "#506784",
           "ticks": "",
           "title": {
            "standoff": 15
           },
           "zerolinecolor": "#283442",
           "zerolinewidth": 2
          }
         }
        },
        "title": {
         "text": "Exposure site counts by date added"
        },
        "xaxis": {
         "anchor": "y",
         "domain": [
          0,
          1
         ],
         "title": {
          "text": "Exposure Date"
         }
        },
        "yaxis": {
         "anchor": "x",
         "domain": [
          0,
          1
         ],
         "title": {
          "text": "Date Added"
         }
        }
       }
      },
      "text/html": [
       "<div>                            <div id=\"077ad050-b64d-4e2f-9b03-223a777723fa\" class=\"plotly-graph-div\" style=\"height:525px; width:100%;\"></div>            <script type=\"text/javascript\">                require([\"plotly\"], function(Plotly) {                    window.PLOTLYENV=window.PLOTLYENV || {};                                    if (document.getElementById(\"077ad050-b64d-4e2f-9b03-223a777723fa\")) {                    Plotly.newPlot(                        \"077ad050-b64d-4e2f-9b03-223a777723fa\",                        [{\"coloraxis\": \"coloraxis\", \"hovertemplate\": \"date_exposure=%{x}<br>date_added=%{y}<br>count=%{z}<extra></extra>\", \"name\": \"\", \"nbinsx\": 20, \"nbinsy\": 20, \"type\": \"histogram2d\", \"x\": [\"2021-05-23T00:00:00\", \"2021-05-28T00:00:00\", \"2021-05-28T00:00:00\", \"2021-05-28T00:00:00\", \"2021-05-26T00:00:00\", \"2021-05-27T00:00:00\", \"2021-05-28T00:00:00\", \"2021-05-29T00:00:00\", \"2021-05-26T00:00:00\", \"2021-05-26T00:00:00\", \"2021-05-26T00:00:00\", \"2021-05-27T00:00:00\", \"2021-05-28T00:00:00\", \"2021-05-29T00:00:00\", \"2021-05-28T00:00:00\", \"2021-05-25T00:00:00\", \"2021-05-27T00:00:00\", \"2021-05-27T00:00:00\", \"2021-05-27T00:00:00\", \"2021-05-22T00:00:00\", \"2021-05-23T00:00:00\", \"2021-05-23T00:00:00\", \"2021-05-25T00:00:00\", \"2021-05-21T00:00:00\", \"2021-05-26T00:00:00\", \"2021-05-26T00:00:00\", \"2021-05-24T00:00:00\", \"2021-05-25T00:00:00\", \"2021-05-26T00:00:00\", \"2021-05-26T00:00:00\", \"2021-05-15T00:00:00\", \"2021-05-15T00:00:00\", \"2021-05-22T00:00:00\", \"2021-05-23T00:00:00\", \"2021-05-20T00:00:00\", \"2021-05-18T00:00:00\", \"2021-05-26T00:00:00\", \"2021-05-26T00:00:00\", \"2021-05-26T00:00:00\", \"2021-05-25T00:00:00\", \"2021-05-25T00:00:00\", \"2021-05-24T00:00:00\", \"2021-05-23T00:00:00\", \"2021-05-23T00:00:00\", \"2021-05-25T00:00:00\", \"2021-05-22T00:00:00\", \"2021-05-23T00:00:00\", \"2021-05-22T00:00:00\", \"2021-05-22T00:00:00\", \"2021-05-23T00:00:00\", \"2021-05-26T00:00:00\", \"2021-05-24T00:00:00\", \"2021-05-23T00:00:00\", \"2021-05-22T00:00:00\", \"2021-05-24T00:00:00\", \"2021-05-24T00:00:00\", \"2021-05-23T00:00:00\", \"2021-05-22T00:00:00\", \"2021-05-24T00:00:00\", \"2021-05-22T00:00:00\", \"2021-05-27T00:00:00\", \"2021-05-27T00:00:00\", \"2021-05-26T00:00:00\", \"2021-05-23T00:00:00\", \"2021-05-23T00:00:00\", \"2021-05-26T00:00:00\", \"2021-05-26T00:00:00\", \"2021-05-26T00:00:00\", \"2021-05-21T00:00:00\", \"2021-05-22T00:00:00\", \"2021-05-24T00:00:00\", \"2021-05-17T00:00:00\", \"2021-05-17T00:00:00\", \"2021-05-26T00:00:00\", \"2021-05-26T00:00:00\", \"2021-05-26T00:00:00\", \"2021-05-27T00:00:00\", \"2021-05-24T00:00:00\", \"2021-05-19T00:00:00\", \"2021-05-22T00:00:00\", \"2021-05-26T00:00:00\", \"2021-05-27T00:00:00\", \"2021-05-17T00:00:00\", \"2021-05-18T00:00:00\", \"2021-05-22T00:00:00\", \"2021-05-25T00:00:00\", \"2021-05-25T00:00:00\", \"2021-05-25T00:00:00\", \"2021-05-22T00:00:00\", \"2021-05-22T00:00:00\", \"2021-05-26T00:00:00\", \"2021-05-22T00:00:00\", \"2021-05-22T00:00:00\", \"2021-05-22T00:00:00\", \"2021-05-19T00:00:00\", \"2021-05-22T00:00:00\", \"2021-05-18T00:00:00\", \"2021-05-25T00:00:00\", \"2021-05-26T00:00:00\", \"2021-05-24T00:00:00\", \"2021-05-17T00:00:00\", \"2021-05-18T00:00:00\", \"2021-05-20T00:00:00\", \"2021-05-21T00:00:00\", \"2021-05-24T00:00:00\", \"2021-05-25T00:00:00\", \"2021-05-27T00:00:00\", \"2021-05-28T00:00:00\", \"2021-05-12T00:00:00\", \"2021-05-13T00:00:00\", \"2021-05-20T00:00:00\", \"2021-05-25T00:00:00\", \"2021-05-19T00:00:00\", \"2021-05-25T00:00:00\", \"2021-05-26T00:00:00\", \"2021-05-23T00:00:00\", \"2021-05-19T00:00:00\", \"2021-05-25T00:00:00\", \"2021-05-22T00:00:00\", \"2021-05-26T00:00:00\", \"2021-05-24T00:00:00\", \"2021-05-26T00:00:00\", \"2021-05-21T00:00:00\", \"2021-05-25T00:00:00\", \"2021-05-26T00:00:00\", \"2021-05-26T00:00:00\", \"2021-05-27T00:00:00\", \"2021-05-27T00:00:00\", \"2021-05-27T00:00:00\", \"2021-05-28T00:00:00\", \"2021-05-23T00:00:00\", \"2021-05-26T00:00:00\", \"2021-05-26T00:00:00\", \"2021-05-26T00:00:00\", \"2021-05-25T00:00:00\", \"2021-05-24T00:00:00\", \"2021-05-25T00:00:00\", \"2021-05-25T00:00:00\", \"2021-05-25T00:00:00\", \"2021-05-24T00:00:00\", \"2021-05-22T00:00:00\", \"2021-05-22T00:00:00\", \"2021-05-23T00:00:00\", \"2021-05-22T00:00:00\", \"2021-05-21T00:00:00\", \"2021-05-23T00:00:00\", \"2021-05-25T00:00:00\", \"2021-05-19T00:00:00\", \"2021-05-19T00:00:00\", \"2021-05-19T00:00:00\", \"2021-05-19T00:00:00\", \"2021-05-19T00:00:00\", \"2021-05-25T00:00:00\", \"2021-05-19T00:00:00\", \"2021-05-18T00:00:00\", \"2021-05-18T00:00:00\", \"2021-05-18T00:00:00\", \"2021-05-18T00:00:00\", \"2021-05-25T00:00:00\", \"2021-05-24T00:00:00\", \"2021-05-23T00:00:00\", \"2021-05-23T00:00:00\", \"2021-05-23T00:00:00\", \"2021-05-22T00:00:00\", \"2021-05-24T00:00:00\", \"2021-05-25T00:00:00\", \"2021-05-26T00:00:00\", \"2021-05-22T00:00:00\", \"2021-05-23T00:00:00\", \"2021-05-25T00:00:00\", \"2021-05-26T00:00:00\", \"2021-05-27T00:00:00\", \"2021-05-22T00:00:00\", \"2021-05-22T00:00:00\", \"2021-05-22T00:00:00\", \"2021-05-23T00:00:00\", \"2021-05-25T00:00:00\", \"2021-05-24T00:00:00\", \"2021-05-25T00:00:00\", \"2021-05-24T00:00:00\", \"2021-05-23T00:00:00\", \"2021-05-24T00:00:00\", \"2021-05-25T00:00:00\", \"2021-05-25T00:00:00\", \"2021-05-13T00:00:00\", \"2021-05-23T00:00:00\", \"2021-05-23T00:00:00\", \"2021-05-23T00:00:00\", \"2021-05-23T00:00:00\", \"2021-05-25T00:00:00\", \"2021-05-24T00:00:00\", \"2021-05-24T00:00:00\", \"2021-05-22T00:00:00\", \"2021-05-22T00:00:00\", \"2021-05-22T00:00:00\", \"2021-05-22T00:00:00\", \"2021-05-21T00:00:00\", \"2021-05-24T00:00:00\", \"2021-05-22T00:00:00\", \"2021-05-20T00:00:00\", \"2021-05-24T00:00:00\", \"2021-05-24T00:00:00\", \"2021-05-24T00:00:00\", \"2021-05-24T00:00:00\", \"2021-05-24T00:00:00\", \"2021-05-23T00:00:00\", \"2021-05-21T00:00:00\", \"2021-05-24T00:00:00\", \"2021-05-25T00:00:00\", \"2021-05-22T00:00:00\", \"2021-05-23T00:00:00\", \"2021-05-22T00:00:00\", \"2021-05-23T00:00:00\", \"2021-05-14T00:00:00\", \"2021-05-14T00:00:00\", \"2021-05-14T00:00:00\", \"2021-05-23T00:00:00\", \"2021-05-25T00:00:00\", \"2021-05-22T00:00:00\", \"2021-05-23T00:00:00\", \"2021-05-21T00:00:00\", \"2021-05-20T00:00:00\", \"2021-05-23T00:00:00\", \"2021-05-22T00:00:00\", \"2021-05-21T00:00:00\", \"2021-05-22T00:00:00\", \"2021-05-23T00:00:00\", \"2021-05-22T00:00:00\", \"2021-05-23T00:00:00\", \"2021-05-21T00:00:00\", \"2021-05-23T00:00:00\", \"2021-05-24T00:00:00\", \"2021-05-23T00:00:00\", \"2021-05-21T00:00:00\", \"2021-05-24T00:00:00\", \"2021-05-23T00:00:00\", \"2021-05-23T00:00:00\", \"2021-05-22T00:00:00\", \"2021-05-22T00:00:00\", \"2021-05-18T00:00:00\", \"2021-05-20T00:00:00\", \"2021-05-21T00:00:00\", \"2021-05-22T00:00:00\", \"2021-05-23T00:00:00\", \"2021-05-24T00:00:00\", \"2021-05-25T00:00:00\", \"2021-05-24T00:00:00\", \"2021-05-23T00:00:00\", \"2021-05-21T00:00:00\", \"2021-05-23T00:00:00\", \"2021-05-23T00:00:00\", \"2021-05-22T00:00:00\", \"2021-05-22T00:00:00\", \"2021-05-23T00:00:00\", \"2021-05-23T00:00:00\", \"2021-05-23T00:00:00\", \"2021-05-22T00:00:00\", \"2021-05-22T00:00:00\", \"2021-05-22T00:00:00\", \"2021-05-20T00:00:00\", \"2021-05-20T00:00:00\", \"2021-05-22T00:00:00\", \"2021-05-24T00:00:00\", \"2021-05-24T00:00:00\", \"2021-05-21T00:00:00\", \"2021-05-22T00:00:00\", \"2021-05-19T00:00:00\", \"2021-05-20T00:00:00\", \"2021-05-19T00:00:00\", \"2021-05-19T00:00:00\", \"2021-05-19T00:00:00\", \"2021-05-20T00:00:00\", \"2021-05-17T00:00:00\", \"2021-05-19T00:00:00\", \"2021-05-23T00:00:00\", \"2021-05-23T00:00:00\", \"2021-05-22T00:00:00\", \"2021-05-21T00:00:00\", \"2021-05-22T00:00:00\", \"2021-05-17T00:00:00\", \"2021-05-18T00:00:00\", \"2021-05-20T00:00:00\", \"2021-05-22T00:00:00\", \"2021-05-21T00:00:00\", \"2021-05-22T00:00:00\", \"2021-05-23T00:00:00\", \"2021-05-23T00:00:00\", \"2021-05-20T00:00:00\", \"2021-05-20T00:00:00\", \"2021-05-20T00:00:00\", \"2021-05-20T00:00:00\", \"2021-05-20T00:00:00\", \"2021-05-20T00:00:00\", \"2021-05-21T00:00:00\", \"2021-05-23T00:00:00\", \"2021-05-23T00:00:00\", \"2021-05-22T00:00:00\", \"2021-05-18T00:00:00\"], \"xaxis\": \"x\", \"xbingroup\": \"x\", \"y\": [\"2021-06-01T00:00:00\", \"2021-06-01T00:00:00\", \"2021-06-01T00:00:00\", \"2021-06-01T00:00:00\", \"2021-05-31T00:00:00\", \"2021-05-31T00:00:00\", \"2021-05-31T00:00:00\", \"2021-05-31T00:00:00\", \"2021-05-31T00:00:00\", \"2021-05-31T00:00:00\", \"2021-05-31T00:00:00\", \"2021-05-31T00:00:00\", \"2021-05-31T00:00:00\", \"2021-05-31T00:00:00\", \"2021-05-31T00:00:00\", \"2021-05-31T00:00:00\", \"2021-05-31T00:00:00\", \"2021-05-31T00:00:00\", \"2021-05-31T00:00:00\", \"2021-05-31T00:00:00\", \"2021-05-31T00:00:00\", \"2021-05-31T00:00:00\", \"2021-05-31T00:00:00\", \"2021-05-31T00:00:00\", \"2021-05-31T00:00:00\", \"2021-05-31T00:00:00\", \"2021-05-30T00:00:00\", \"2021-05-30T00:00:00\", \"2021-05-30T00:00:00\", \"2021-05-30T00:00:00\", \"2021-05-30T00:00:00\", \"2021-05-30T00:00:00\", \"2021-05-30T00:00:00\", \"2021-05-30T00:00:00\", \"2021-05-30T00:00:00\", \"2021-05-30T00:00:00\", \"2021-05-30T00:00:00\", \"2021-05-30T00:00:00\", \"2021-05-30T00:00:00\", \"2021-05-30T00:00:00\", \"2021-05-30T00:00:00\", \"2021-05-30T00:00:00\", \"2021-05-30T00:00:00\", \"2021-05-30T00:00:00\", \"2021-05-30T00:00:00\", \"2021-05-30T00:00:00\", \"2021-05-30T00:00:00\", \"2021-05-30T00:00:00\", \"2021-05-30T00:00:00\", \"2021-05-30T00:00:00\", \"2021-05-30T00:00:00\", \"2021-05-30T00:00:00\", \"2021-05-30T00:00:00\", \"2021-05-30T00:00:00\", \"2021-05-30T00:00:00\", \"2021-05-30T00:00:00\", \"2021-05-30T00:00:00\", \"2021-05-30T00:00:00\", \"2021-05-30T00:00:00\", \"2021-05-30T00:00:00\", \"2021-05-30T00:00:00\", \"2021-05-30T00:00:00\", \"2021-05-30T00:00:00\", \"2021-05-30T00:00:00\", \"2021-05-30T00:00:00\", \"2021-05-30T00:00:00\", \"2021-05-30T00:00:00\", \"2021-05-30T00:00:00\", \"2021-05-30T00:00:00\", \"2021-05-30T00:00:00\", \"2021-05-30T00:00:00\", \"2021-05-30T00:00:00\", \"2021-05-30T00:00:00\", \"2021-05-30T00:00:00\", \"2021-05-30T00:00:00\", \"2021-05-30T00:00:00\", \"2021-05-30T00:00:00\", \"2021-05-30T00:00:00\", \"2021-05-30T00:00:00\", \"2021-05-30T00:00:00\", \"2021-05-30T00:00:00\", \"2021-05-30T00:00:00\", \"2021-05-30T00:00:00\", \"2021-05-30T00:00:00\", \"2021-05-30T00:00:00\", \"2021-05-30T00:00:00\", \"2021-05-30T00:00:00\", \"2021-05-30T00:00:00\", \"2021-05-30T00:00:00\", \"2021-05-30T00:00:00\", \"2021-05-30T00:00:00\", \"2021-05-30T00:00:00\", \"2021-05-30T00:00:00\", \"2021-05-30T00:00:00\", \"2021-05-30T00:00:00\", \"2021-05-30T00:00:00\", \"2021-05-30T00:00:00\", \"2021-05-30T00:00:00\", \"2021-05-30T00:00:00\", \"2021-05-30T00:00:00\", \"2021-05-30T00:00:00\", \"2021-05-30T00:00:00\", \"2021-05-30T00:00:00\", \"2021-05-30T00:00:00\", \"2021-05-30T00:00:00\", \"2021-05-30T00:00:00\", \"2021-05-30T00:00:00\", \"2021-05-30T00:00:00\", \"2021-05-30T00:00:00\", \"2021-05-30T00:00:00\", \"2021-05-30T00:00:00\", \"2021-05-30T00:00:00\", \"2021-05-30T00:00:00\", \"2021-05-30T00:00:00\", \"2021-05-30T00:00:00\", \"2021-05-30T00:00:00\", \"2021-05-30T00:00:00\", \"2021-05-30T00:00:00\", \"2021-05-30T00:00:00\", \"2021-05-30T00:00:00\", \"2021-05-30T00:00:00\", \"2021-05-30T00:00:00\", \"2021-05-30T00:00:00\", \"2021-05-30T00:00:00\", \"2021-05-29T00:00:00\", \"2021-05-29T00:00:00\", \"2021-05-29T00:00:00\", \"2021-05-29T00:00:00\", \"2021-05-29T00:00:00\", \"2021-05-29T00:00:00\", \"2021-05-29T00:00:00\", \"2021-05-29T00:00:00\", \"2021-05-29T00:00:00\", \"2021-05-29T00:00:00\", \"2021-05-29T00:00:00\", \"2021-05-29T00:00:00\", \"2021-05-29T00:00:00\", \"2021-05-29T00:00:00\", \"2021-05-29T00:00:00\", \"2021-05-29T00:00:00\", \"2021-05-29T00:00:00\", \"2021-05-29T00:00:00\", \"2021-05-29T00:00:00\", \"2021-05-29T00:00:00\", \"2021-05-29T00:00:00\", \"2021-05-29T00:00:00\", \"2021-05-29T00:00:00\", \"2021-05-28T00:00:00\", \"2021-05-28T00:00:00\", \"2021-05-28T00:00:00\", \"2021-05-28T00:00:00\", \"2021-05-28T00:00:00\", \"2021-05-28T00:00:00\", \"2021-05-28T00:00:00\", \"2021-05-28T00:00:00\", \"2021-05-28T00:00:00\", \"2021-05-28T00:00:00\", \"2021-05-28T00:00:00\", \"2021-05-28T00:00:00\", \"2021-05-28T00:00:00\", \"2021-05-28T00:00:00\", \"2021-05-28T00:00:00\", \"2021-05-28T00:00:00\", \"2021-05-28T00:00:00\", \"2021-05-28T00:00:00\", \"2021-05-28T00:00:00\", \"2021-05-28T00:00:00\", \"2021-05-28T00:00:00\", \"2021-05-28T00:00:00\", \"2021-05-28T00:00:00\", \"2021-05-28T00:00:00\", \"2021-05-28T00:00:00\", \"2021-05-28T00:00:00\", \"2021-05-28T00:00:00\", \"2021-05-28T00:00:00\", \"2021-05-28T00:00:00\", \"2021-05-28T00:00:00\", \"2021-05-28T00:00:00\", \"2021-05-28T00:00:00\", \"2021-05-28T00:00:00\", \"2021-05-28T00:00:00\", \"2021-05-27T00:00:00\", \"2021-05-27T00:00:00\", \"2021-05-27T00:00:00\", \"2021-05-27T00:00:00\", \"2021-05-27T00:00:00\", \"2021-05-27T00:00:00\", \"2021-05-27T00:00:00\", \"2021-05-27T00:00:00\", \"2021-05-27T00:00:00\", \"2021-05-27T00:00:00\", \"2021-05-27T00:00:00\", \"2021-05-27T00:00:00\", \"2021-05-27T00:00:00\", \"2021-05-27T00:00:00\", \"2021-05-27T00:00:00\", \"2021-05-27T00:00:00\", \"2021-05-27T00:00:00\", \"2021-05-27T00:00:00\", \"2021-05-27T00:00:00\", \"2021-05-27T00:00:00\", \"2021-05-27T00:00:00\", \"2021-05-27T00:00:00\", \"2021-05-27T00:00:00\", \"2021-05-27T00:00:00\", \"2021-05-27T00:00:00\", \"2021-05-27T00:00:00\", \"2021-05-27T00:00:00\", \"2021-05-27T00:00:00\", \"2021-05-27T00:00:00\", \"2021-05-27T00:00:00\", \"2021-05-27T00:00:00\", \"2021-05-27T00:00:00\", \"2021-05-27T00:00:00\", \"2021-05-27T00:00:00\", \"2021-05-27T00:00:00\", \"2021-05-27T00:00:00\", \"2021-05-27T00:00:00\", \"2021-05-27T00:00:00\", \"2021-05-26T00:00:00\", \"2021-05-26T00:00:00\", \"2021-05-26T00:00:00\", \"2021-05-26T00:00:00\", \"2021-05-26T00:00:00\", \"2021-05-26T00:00:00\", \"2021-05-26T00:00:00\", \"2021-05-26T00:00:00\", \"2021-05-26T00:00:00\", \"2021-05-26T00:00:00\", \"2021-05-26T00:00:00\", \"2021-05-26T00:00:00\", \"2021-05-26T00:00:00\", \"2021-05-26T00:00:00\", \"2021-05-26T00:00:00\", \"2021-05-26T00:00:00\", \"2021-05-26T00:00:00\", \"2021-05-26T00:00:00\", \"2021-05-26T00:00:00\", \"2021-05-26T00:00:00\", \"2021-05-26T00:00:00\", \"2021-05-26T00:00:00\", \"2021-05-26T00:00:00\", \"2021-05-26T00:00:00\", \"2021-05-26T00:00:00\", \"2021-05-26T00:00:00\", \"2021-05-26T00:00:00\", \"2021-05-26T00:00:00\", \"2021-05-26T00:00:00\", \"2021-05-26T00:00:00\", \"2021-05-26T00:00:00\", \"2021-05-26T00:00:00\", \"2021-05-26T00:00:00\", \"2021-05-26T00:00:00\", \"2021-05-26T00:00:00\", \"2021-05-26T00:00:00\", \"2021-05-26T00:00:00\", \"2021-05-26T00:00:00\", \"2021-05-26T00:00:00\", \"2021-05-26T00:00:00\", \"2021-05-26T00:00:00\", \"2021-05-26T00:00:00\", \"2021-05-26T00:00:00\", \"2021-05-26T00:00:00\", \"2021-05-26T00:00:00\", \"2021-05-26T00:00:00\", \"2021-05-26T00:00:00\", \"2021-05-25T00:00:00\", \"2021-05-25T00:00:00\", \"2021-05-25T00:00:00\", \"2021-05-25T00:00:00\", \"2021-05-25T00:00:00\", \"2021-05-25T00:00:00\", \"2021-05-25T00:00:00\", \"2021-05-24T00:00:00\", \"2021-05-24T00:00:00\", \"2021-05-24T00:00:00\", \"2021-05-24T00:00:00\", \"2021-05-24T00:00:00\", \"2021-05-24T00:00:00\", \"2021-05-24T00:00:00\", \"2021-05-24T00:00:00\", \"2021-05-24T00:00:00\", \"2021-05-24T00:00:00\", \"2021-05-24T00:00:00\", \"2021-05-24T00:00:00\", \"2021-05-24T00:00:00\", \"2021-05-24T00:00:00\", \"2021-05-24T00:00:00\", \"2021-05-24T00:00:00\", \"2021-05-24T00:00:00\", \"2021-05-24T00:00:00\", \"2021-05-24T00:00:00\", \"2021-05-24T00:00:00\", \"2021-05-24T00:00:00\", \"2021-05-24T00:00:00\", \"2021-05-24T00:00:00\", \"2021-05-22T00:00:00\", \"2021-05-18T00:00:00\"], \"yaxis\": \"y\", \"ybingroup\": \"y\"}],                        {\"annotations\": [{\"ax\": 10, \"ay\": 20, \"text\": \"lockdown\", \"x\": \"2021-05-27\", \"xanchor\": \"left\", \"y\": \"2021-05-27\"}], \"coloraxis\": {\"colorbar\": {\"title\": {\"text\": \"count\"}}, \"colorscale\": [[0.0, \"#440154\"], [0.1111111111111111, \"#482878\"], [0.2222222222222222, \"#3e4989\"], [0.3333333333333333, \"#31688e\"], [0.4444444444444444, \"#26828e\"], [0.5555555555555556, \"#1f9e89\"], [0.6666666666666666, \"#35b779\"], [0.7777777777777778, \"#6ece58\"], [0.8888888888888888, \"#b5de2b\"], [1.0, \"#fde725\"]]}, \"legend\": {\"tracegroupgap\": 0}, \"shapes\": [{\"type\": \"line\", \"x0\": \"2021-05-27\", \"x1\": \"2021-05-27\", \"xref\": \"x\", \"y0\": 0, \"y1\": 1, \"yref\": \"y domain\"}, {\"type\": \"line\", \"x0\": 0, \"x1\": 1, \"xref\": \"x domain\", \"y0\": \"2021-05-27\", \"y1\": \"2021-05-27\", \"yref\": \"y\"}], \"template\": {\"data\": {\"bar\": [{\"error_x\": {\"color\": \"#f2f5fa\"}, \"error_y\": {\"color\": \"#f2f5fa\"}, \"marker\": {\"line\": {\"color\": \"rgb(17,17,17)\", \"width\": 0.5}}, \"type\": \"bar\"}], \"barpolar\": [{\"marker\": {\"line\": {\"color\": \"rgb(17,17,17)\", \"width\": 0.5}}, \"type\": \"barpolar\"}], \"carpet\": [{\"aaxis\": {\"endlinecolor\": \"#A2B1C6\", \"gridcolor\": \"#506784\", \"linecolor\": \"#506784\", \"minorgridcolor\": \"#506784\", \"startlinecolor\": \"#A2B1C6\"}, \"baxis\": {\"endlinecolor\": \"#A2B1C6\", \"gridcolor\": \"#506784\", \"linecolor\": \"#506784\", \"minorgridcolor\": \"#506784\", \"startlinecolor\": \"#A2B1C6\"}, \"type\": \"carpet\"}], \"choropleth\": [{\"colorbar\": {\"outlinewidth\": 0, \"ticks\": \"\"}, \"type\": \"choropleth\"}], \"contour\": [{\"colorbar\": {\"outlinewidth\": 0, \"ticks\": \"\"}, \"colorscale\": [[0.0, \"#0d0887\"], [0.1111111111111111, \"#46039f\"], [0.2222222222222222, \"#7201a8\"], [0.3333333333333333, \"#9c179e\"], [0.4444444444444444, \"#bd3786\"], [0.5555555555555556, \"#d8576b\"], [0.6666666666666666, \"#ed7953\"], [0.7777777777777778, \"#fb9f3a\"], [0.8888888888888888, \"#fdca26\"], [1.0, \"#f0f921\"]], \"type\": \"contour\"}], \"contourcarpet\": [{\"colorbar\": {\"outlinewidth\": 0, \"ticks\": \"\"}, \"type\": \"contourcarpet\"}], \"heatmap\": [{\"colorbar\": {\"outlinewidth\": 0, \"ticks\": \"\"}, \"colorscale\": [[0.0, \"#0d0887\"], [0.1111111111111111, \"#46039f\"], [0.2222222222222222, \"#7201a8\"], [0.3333333333333333, \"#9c179e\"], [0.4444444444444444, \"#bd3786\"], [0.5555555555555556, \"#d8576b\"], [0.6666666666666666, \"#ed7953\"], [0.7777777777777778, \"#fb9f3a\"], [0.8888888888888888, \"#fdca26\"], [1.0, \"#f0f921\"]], \"type\": \"heatmap\"}], \"heatmapgl\": [{\"colorbar\": {\"outlinewidth\": 0, \"ticks\": \"\"}, \"colorscale\": [[0.0, \"#0d0887\"], [0.1111111111111111, \"#46039f\"], [0.2222222222222222, \"#7201a8\"], [0.3333333333333333, \"#9c179e\"], [0.4444444444444444, \"#bd3786\"], [0.5555555555555556, \"#d8576b\"], [0.6666666666666666, \"#ed7953\"], [0.7777777777777778, \"#fb9f3a\"], [0.8888888888888888, \"#fdca26\"], [1.0, \"#f0f921\"]], \"type\": \"heatmapgl\"}], \"histogram\": [{\"marker\": {\"colorbar\": {\"outlinewidth\": 0, \"ticks\": \"\"}}, \"type\": \"histogram\"}], \"histogram2d\": [{\"colorbar\": {\"outlinewidth\": 0, \"ticks\": \"\"}, \"colorscale\": [[0.0, \"#0d0887\"], [0.1111111111111111, \"#46039f\"], [0.2222222222222222, \"#7201a8\"], [0.3333333333333333, \"#9c179e\"], [0.4444444444444444, \"#bd3786\"], [0.5555555555555556, \"#d8576b\"], [0.6666666666666666, \"#ed7953\"], [0.7777777777777778, \"#fb9f3a\"], [0.8888888888888888, \"#fdca26\"], [1.0, \"#f0f921\"]], \"type\": \"histogram2d\"}], \"histogram2dcontour\": [{\"colorbar\": {\"outlinewidth\": 0, \"ticks\": \"\"}, \"colorscale\": [[0.0, \"#0d0887\"], [0.1111111111111111, \"#46039f\"], [0.2222222222222222, \"#7201a8\"], [0.3333333333333333, \"#9c179e\"], [0.4444444444444444, \"#bd3786\"], [0.5555555555555556, \"#d8576b\"], [0.6666666666666666, \"#ed7953\"], [0.7777777777777778, \"#fb9f3a\"], [0.8888888888888888, \"#fdca26\"], [1.0, \"#f0f921\"]], \"type\": \"histogram2dcontour\"}], \"mesh3d\": [{\"colorbar\": {\"outlinewidth\": 0, \"ticks\": \"\"}, \"type\": \"mesh3d\"}], \"parcoords\": [{\"line\": {\"colorbar\": {\"outlinewidth\": 0, \"ticks\": \"\"}}, \"type\": \"parcoords\"}], \"pie\": [{\"automargin\": true, \"type\": \"pie\"}], \"scatter\": [{\"marker\": {\"line\": {\"color\": \"#283442\"}}, \"type\": \"scatter\"}], \"scatter3d\": [{\"line\": {\"colorbar\": {\"outlinewidth\": 0, \"ticks\": \"\"}}, \"marker\": {\"colorbar\": {\"outlinewidth\": 0, \"ticks\": \"\"}}, \"type\": \"scatter3d\"}], \"scattercarpet\": [{\"marker\": {\"colorbar\": {\"outlinewidth\": 0, \"ticks\": \"\"}}, \"type\": \"scattercarpet\"}], \"scattergeo\": [{\"marker\": {\"colorbar\": {\"outlinewidth\": 0, \"ticks\": \"\"}}, \"type\": \"scattergeo\"}], \"scattergl\": [{\"marker\": {\"line\": {\"color\": \"#283442\"}}, \"type\": \"scattergl\"}], \"scattermapbox\": [{\"marker\": {\"colorbar\": {\"outlinewidth\": 0, \"ticks\": \"\"}}, \"type\": \"scattermapbox\"}], \"scatterpolar\": [{\"marker\": {\"colorbar\": {\"outlinewidth\": 0, \"ticks\": \"\"}}, \"type\": \"scatterpolar\"}], \"scatterpolargl\": [{\"marker\": {\"colorbar\": {\"outlinewidth\": 0, \"ticks\": \"\"}}, \"type\": \"scatterpolargl\"}], \"scatterternary\": [{\"marker\": {\"colorbar\": {\"outlinewidth\": 0, \"ticks\": \"\"}}, \"type\": \"scatterternary\"}], \"surface\": [{\"colorbar\": {\"outlinewidth\": 0, \"ticks\": \"\"}, \"colorscale\": [[0.0, \"#0d0887\"], [0.1111111111111111, \"#46039f\"], [0.2222222222222222, \"#7201a8\"], [0.3333333333333333, \"#9c179e\"], [0.4444444444444444, \"#bd3786\"], [0.5555555555555556, \"#d8576b\"], [0.6666666666666666, \"#ed7953\"], [0.7777777777777778, \"#fb9f3a\"], [0.8888888888888888, \"#fdca26\"], [1.0, \"#f0f921\"]], \"type\": \"surface\"}], \"table\": [{\"cells\": {\"fill\": {\"color\": \"#506784\"}, \"line\": {\"color\": \"rgb(17,17,17)\"}}, \"header\": {\"fill\": {\"color\": \"#2a3f5f\"}, \"line\": {\"color\": \"rgb(17,17,17)\"}}, \"type\": \"table\"}]}, \"layout\": {\"annotationdefaults\": {\"arrowcolor\": \"#f2f5fa\", \"arrowhead\": 0, \"arrowwidth\": 1}, \"autotypenumbers\": \"strict\", \"coloraxis\": {\"colorbar\": {\"outlinewidth\": 0, \"ticks\": \"\"}}, \"colorscale\": {\"diverging\": [[0, \"#8e0152\"], [0.1, \"#c51b7d\"], [0.2, \"#de77ae\"], [0.3, \"#f1b6da\"], [0.4, \"#fde0ef\"], [0.5, \"#f7f7f7\"], [0.6, \"#e6f5d0\"], [0.7, \"#b8e186\"], [0.8, \"#7fbc41\"], [0.9, \"#4d9221\"], [1, \"#276419\"]], \"sequential\": [[0.0, \"#0d0887\"], [0.1111111111111111, \"#46039f\"], [0.2222222222222222, \"#7201a8\"], [0.3333333333333333, \"#9c179e\"], [0.4444444444444444, \"#bd3786\"], [0.5555555555555556, \"#d8576b\"], [0.6666666666666666, \"#ed7953\"], [0.7777777777777778, \"#fb9f3a\"], [0.8888888888888888, \"#fdca26\"], [1.0, \"#f0f921\"]], \"sequentialminus\": [[0.0, \"#0d0887\"], [0.1111111111111111, \"#46039f\"], [0.2222222222222222, \"#7201a8\"], [0.3333333333333333, \"#9c179e\"], [0.4444444444444444, \"#bd3786\"], [0.5555555555555556, \"#d8576b\"], [0.6666666666666666, \"#ed7953\"], [0.7777777777777778, \"#fb9f3a\"], [0.8888888888888888, \"#fdca26\"], [1.0, \"#f0f921\"]]}, \"colorway\": [\"#636efa\", \"#EF553B\", \"#00cc96\", \"#ab63fa\", \"#FFA15A\", \"#19d3f3\", \"#FF6692\", \"#B6E880\", \"#FF97FF\", \"#FECB52\"], \"font\": {\"color\": \"#f2f5fa\"}, \"geo\": {\"bgcolor\": \"rgb(17,17,17)\", \"lakecolor\": \"rgb(17,17,17)\", \"landcolor\": \"rgb(17,17,17)\", \"showlakes\": true, \"showland\": true, \"subunitcolor\": \"#506784\"}, \"hoverlabel\": {\"align\": \"left\"}, \"hovermode\": \"closest\", \"mapbox\": {\"style\": \"dark\"}, \"paper_bgcolor\": \"rgb(17,17,17)\", \"plot_bgcolor\": \"rgb(17,17,17)\", \"polar\": {\"angularaxis\": {\"gridcolor\": \"#506784\", \"linecolor\": \"#506784\", \"ticks\": \"\"}, \"bgcolor\": \"rgb(17,17,17)\", \"radialaxis\": {\"gridcolor\": \"#506784\", \"linecolor\": \"#506784\", \"ticks\": \"\"}}, \"scene\": {\"xaxis\": {\"backgroundcolor\": \"rgb(17,17,17)\", \"gridcolor\": \"#506784\", \"gridwidth\": 2, \"linecolor\": \"#506784\", \"showbackground\": true, \"ticks\": \"\", \"zerolinecolor\": \"#C8D4E3\"}, \"yaxis\": {\"backgroundcolor\": \"rgb(17,17,17)\", \"gridcolor\": \"#506784\", \"gridwidth\": 2, \"linecolor\": \"#506784\", \"showbackground\": true, \"ticks\": \"\", \"zerolinecolor\": \"#C8D4E3\"}, \"zaxis\": {\"backgroundcolor\": \"rgb(17,17,17)\", \"gridcolor\": \"#506784\", \"gridwidth\": 2, \"linecolor\": \"#506784\", \"showbackground\": true, \"ticks\": \"\", \"zerolinecolor\": \"#C8D4E3\"}}, \"shapedefaults\": {\"line\": {\"color\": \"#f2f5fa\"}}, \"sliderdefaults\": {\"bgcolor\": \"#C8D4E3\", \"bordercolor\": \"rgb(17,17,17)\", \"borderwidth\": 1, \"tickwidth\": 0}, \"ternary\": {\"aaxis\": {\"gridcolor\": \"#506784\", \"linecolor\": \"#506784\", \"ticks\": \"\"}, \"baxis\": {\"gridcolor\": \"#506784\", \"linecolor\": \"#506784\", \"ticks\": \"\"}, \"bgcolor\": \"rgb(17,17,17)\", \"caxis\": {\"gridcolor\": \"#506784\", \"linecolor\": \"#506784\", \"ticks\": \"\"}}, \"title\": {\"x\": 0.05}, \"updatemenudefaults\": {\"bgcolor\": \"#506784\", \"borderwidth\": 0}, \"xaxis\": {\"automargin\": true, \"gridcolor\": \"#283442\", \"linecolor\": \"#506784\", \"ticks\": \"\", \"title\": {\"standoff\": 15}, \"zerolinecolor\": \"#283442\", \"zerolinewidth\": 2}, \"yaxis\": {\"automargin\": true, \"gridcolor\": \"#283442\", \"linecolor\": \"#506784\", \"ticks\": \"\", \"title\": {\"standoff\": 15}, \"zerolinecolor\": \"#283442\", \"zerolinewidth\": 2}}}, \"title\": {\"text\": \"Exposure site counts by date added\"}, \"xaxis\": {\"anchor\": \"y\", \"domain\": [0.0, 1.0], \"title\": {\"text\": \"Exposure Date\"}}, \"yaxis\": {\"anchor\": \"x\", \"domain\": [0.0, 1.0], \"title\": {\"text\": \"Date Added\"}}},                        {\"responsive\": true}                    ).then(function(){\n",
       "                            \n",
       "var gd = document.getElementById('077ad050-b64d-4e2f-9b03-223a777723fa');\n",
       "var x = new MutationObserver(function (mutations, observer) {{\n",
       "        var display = window.getComputedStyle(gd).display;\n",
       "        if (!display || display === 'none') {{\n",
       "            console.log([gd, 'removed!']);\n",
       "            Plotly.purge(gd);\n",
       "            observer.disconnect();\n",
       "        }}\n",
       "}});\n",
       "\n",
       "// Listen for the removal of the full notebook cells\n",
       "var notebookContainer = gd.closest('#notebook-container');\n",
       "if (notebookContainer) {{\n",
       "    x.observe(notebookContainer, {childList: true});\n",
       "}}\n",
       "\n",
       "// Listen for the clearing of the current output cell\n",
       "var outputEl = gd.closest('.output');\n",
       "if (outputEl) {{\n",
       "    x.observe(outputEl, {childList: true});\n",
       "}}\n",
       "\n",
       "                        })                };                });            </script>        </div>"
      ]
     },
     "metadata": {},
     "output_type": "display_data"
    }
   ],
   "source": [
    "import plotly.graph_objects as go\n",
    "\n",
    "fig_heat = px.density_heatmap(elements, y=\"date_added\", x=\"date_exposure\", hover_data=['Suburb', 'Site'], \n",
    "                         template='plotly_dark', nbinsx=20, nbinsy=20, color_continuous_scale='viridis'\n",
    "                        , title = 'Exposure site counts by date added')\n",
    "fig_heat.add_vline('2021-05-27')\n",
    "fig_heat.add_hline('2021-05-27')\n",
    "fig_heat.add_annotation(x = '2021-05-27', y = '2021-05-27', text='lockdown', xanchor='left', ax=10, ay=20)\n",
    "fig_heat.update_layout(xaxis_title = \"Exposure Date\", yaxis_title='Date Added')\n"
   ]
  },
  {
   "cell_type": "code",
   "execution_count": 149,
   "metadata": {},
   "outputs": [
    {
     "data": {
      "application/vnd.plotly.v1+json": {
       "config": {
        "plotlyServerURL": "https://plot.ly"
       },
       "data": [
        {
         "alignmentgroup": "True",
         "boxpoints": "all",
         "fillcolor": "rgba(255,255,255,0)",
         "hoveron": "points",
         "hovertemplate": "date_exposure=%{y}<extra></extra>",
         "legendgroup": "",
         "line": {
          "color": "rgba(255,255,255,0)"
         },
         "marker": {
          "color": "#636efa"
         },
         "name": "",
         "offsetgroup": "",
         "orientation": "v",
         "pointpos": 0,
         "showlegend": false,
         "type": "box",
         "x0": " ",
         "xaxis": "x",
         "y": [
          "2021-05-23T00:00:00",
          "2021-05-28T00:00:00",
          "2021-05-28T00:00:00",
          "2021-05-28T00:00:00",
          "2021-05-26T00:00:00",
          "2021-05-27T00:00:00",
          "2021-05-28T00:00:00",
          "2021-05-29T00:00:00",
          "2021-05-26T00:00:00",
          "2021-05-26T00:00:00",
          "2021-05-26T00:00:00",
          "2021-05-27T00:00:00",
          "2021-05-28T00:00:00",
          "2021-05-29T00:00:00",
          "2021-05-28T00:00:00",
          "2021-05-25T00:00:00",
          "2021-05-27T00:00:00",
          "2021-05-27T00:00:00",
          "2021-05-27T00:00:00",
          "2021-05-22T00:00:00",
          "2021-05-23T00:00:00",
          "2021-05-23T00:00:00",
          "2021-05-25T00:00:00",
          "2021-05-21T00:00:00",
          "2021-05-26T00:00:00",
          "2021-05-26T00:00:00",
          "2021-05-24T00:00:00",
          "2021-05-25T00:00:00",
          "2021-05-26T00:00:00",
          "2021-05-26T00:00:00",
          "2021-05-15T00:00:00",
          "2021-05-15T00:00:00",
          "2021-05-22T00:00:00",
          "2021-05-23T00:00:00",
          "2021-05-20T00:00:00",
          "2021-05-18T00:00:00",
          "2021-05-26T00:00:00",
          "2021-05-26T00:00:00",
          "2021-05-26T00:00:00",
          "2021-05-25T00:00:00",
          "2021-05-25T00:00:00",
          "2021-05-24T00:00:00",
          "2021-05-23T00:00:00",
          "2021-05-23T00:00:00",
          "2021-05-25T00:00:00",
          "2021-05-22T00:00:00",
          "2021-05-23T00:00:00",
          "2021-05-22T00:00:00",
          "2021-05-22T00:00:00",
          "2021-05-23T00:00:00",
          "2021-05-26T00:00:00",
          "2021-05-24T00:00:00",
          "2021-05-23T00:00:00",
          "2021-05-22T00:00:00",
          "2021-05-24T00:00:00",
          "2021-05-24T00:00:00",
          "2021-05-23T00:00:00",
          "2021-05-22T00:00:00",
          "2021-05-24T00:00:00",
          "2021-05-22T00:00:00",
          "2021-05-27T00:00:00",
          "2021-05-27T00:00:00",
          "2021-05-26T00:00:00",
          "2021-05-23T00:00:00",
          "2021-05-23T00:00:00",
          "2021-05-26T00:00:00",
          "2021-05-26T00:00:00",
          "2021-05-26T00:00:00",
          "2021-05-21T00:00:00",
          "2021-05-22T00:00:00",
          "2021-05-24T00:00:00",
          "2021-05-17T00:00:00",
          "2021-05-17T00:00:00",
          "2021-05-26T00:00:00",
          "2021-05-26T00:00:00",
          "2021-05-26T00:00:00",
          "2021-05-27T00:00:00",
          "2021-05-24T00:00:00",
          "2021-05-19T00:00:00",
          "2021-05-22T00:00:00",
          "2021-05-26T00:00:00",
          "2021-05-27T00:00:00",
          "2021-05-17T00:00:00",
          "2021-05-18T00:00:00",
          "2021-05-22T00:00:00",
          "2021-05-25T00:00:00",
          "2021-05-25T00:00:00",
          "2021-05-25T00:00:00",
          "2021-05-22T00:00:00",
          "2021-05-22T00:00:00",
          "2021-05-26T00:00:00",
          "2021-05-22T00:00:00",
          "2021-05-22T00:00:00",
          "2021-05-22T00:00:00",
          "2021-05-19T00:00:00",
          "2021-05-22T00:00:00",
          "2021-05-18T00:00:00",
          "2021-05-25T00:00:00",
          "2021-05-26T00:00:00",
          "2021-05-24T00:00:00",
          "2021-05-17T00:00:00",
          "2021-05-18T00:00:00",
          "2021-05-20T00:00:00",
          "2021-05-21T00:00:00",
          "2021-05-24T00:00:00",
          "2021-05-25T00:00:00",
          "2021-05-27T00:00:00",
          "2021-05-28T00:00:00",
          "2021-05-12T00:00:00",
          "2021-05-13T00:00:00",
          "2021-05-20T00:00:00",
          "2021-05-25T00:00:00",
          "2021-05-19T00:00:00",
          "2021-05-25T00:00:00",
          "2021-05-26T00:00:00",
          "2021-05-23T00:00:00",
          "2021-05-19T00:00:00",
          "2021-05-25T00:00:00",
          "2021-05-22T00:00:00",
          "2021-05-26T00:00:00",
          "2021-05-24T00:00:00",
          "2021-05-26T00:00:00",
          "2021-05-21T00:00:00",
          "2021-05-25T00:00:00",
          "2021-05-26T00:00:00",
          "2021-05-26T00:00:00",
          "2021-05-27T00:00:00",
          "2021-05-27T00:00:00",
          "2021-05-27T00:00:00",
          "2021-05-28T00:00:00",
          "2021-05-23T00:00:00",
          "2021-05-26T00:00:00",
          "2021-05-26T00:00:00",
          "2021-05-26T00:00:00",
          "2021-05-25T00:00:00",
          "2021-05-24T00:00:00",
          "2021-05-25T00:00:00",
          "2021-05-25T00:00:00",
          "2021-05-25T00:00:00",
          "2021-05-24T00:00:00",
          "2021-05-22T00:00:00",
          "2021-05-22T00:00:00",
          "2021-05-23T00:00:00",
          "2021-05-22T00:00:00",
          "2021-05-21T00:00:00",
          "2021-05-23T00:00:00",
          "2021-05-25T00:00:00",
          "2021-05-19T00:00:00",
          "2021-05-19T00:00:00",
          "2021-05-19T00:00:00",
          "2021-05-19T00:00:00",
          "2021-05-19T00:00:00",
          "2021-05-25T00:00:00",
          "2021-05-19T00:00:00",
          "2021-05-18T00:00:00",
          "2021-05-18T00:00:00",
          "2021-05-18T00:00:00",
          "2021-05-18T00:00:00",
          "2021-05-25T00:00:00",
          "2021-05-24T00:00:00",
          "2021-05-23T00:00:00",
          "2021-05-23T00:00:00",
          "2021-05-23T00:00:00",
          "2021-05-22T00:00:00",
          "2021-05-24T00:00:00",
          "2021-05-25T00:00:00",
          "2021-05-26T00:00:00",
          "2021-05-22T00:00:00",
          "2021-05-23T00:00:00",
          "2021-05-25T00:00:00",
          "2021-05-26T00:00:00",
          "2021-05-27T00:00:00",
          "2021-05-22T00:00:00",
          "2021-05-22T00:00:00",
          "2021-05-22T00:00:00",
          "2021-05-23T00:00:00",
          "2021-05-25T00:00:00",
          "2021-05-24T00:00:00",
          "2021-05-25T00:00:00",
          "2021-05-24T00:00:00",
          "2021-05-23T00:00:00",
          "2021-05-24T00:00:00",
          "2021-05-25T00:00:00",
          "2021-05-25T00:00:00",
          "2021-05-13T00:00:00",
          "2021-05-23T00:00:00",
          "2021-05-23T00:00:00",
          "2021-05-23T00:00:00",
          "2021-05-23T00:00:00",
          "2021-05-25T00:00:00",
          "2021-05-24T00:00:00",
          "2021-05-24T00:00:00",
          "2021-05-22T00:00:00",
          "2021-05-22T00:00:00",
          "2021-05-22T00:00:00",
          "2021-05-22T00:00:00",
          "2021-05-21T00:00:00",
          "2021-05-24T00:00:00",
          "2021-05-22T00:00:00",
          "2021-05-20T00:00:00",
          "2021-05-24T00:00:00",
          "2021-05-24T00:00:00",
          "2021-05-24T00:00:00",
          "2021-05-24T00:00:00",
          "2021-05-24T00:00:00",
          "2021-05-23T00:00:00",
          "2021-05-21T00:00:00",
          "2021-05-24T00:00:00",
          "2021-05-25T00:00:00",
          "2021-05-22T00:00:00",
          "2021-05-23T00:00:00",
          "2021-05-22T00:00:00",
          "2021-05-23T00:00:00",
          "2021-05-14T00:00:00",
          "2021-05-14T00:00:00",
          "2021-05-14T00:00:00",
          "2021-05-23T00:00:00",
          "2021-05-25T00:00:00",
          "2021-05-22T00:00:00",
          "2021-05-23T00:00:00",
          "2021-05-21T00:00:00",
          "2021-05-20T00:00:00",
          "2021-05-23T00:00:00",
          "2021-05-22T00:00:00",
          "2021-05-21T00:00:00",
          "2021-05-22T00:00:00",
          "2021-05-23T00:00:00",
          "2021-05-22T00:00:00",
          "2021-05-23T00:00:00",
          "2021-05-21T00:00:00",
          "2021-05-23T00:00:00",
          "2021-05-24T00:00:00",
          "2021-05-23T00:00:00",
          "2021-05-21T00:00:00",
          "2021-05-24T00:00:00",
          "2021-05-23T00:00:00",
          "2021-05-23T00:00:00",
          "2021-05-22T00:00:00",
          "2021-05-22T00:00:00",
          "2021-05-18T00:00:00",
          "2021-05-20T00:00:00",
          "2021-05-21T00:00:00",
          "2021-05-22T00:00:00",
          "2021-05-23T00:00:00",
          "2021-05-24T00:00:00",
          "2021-05-25T00:00:00",
          "2021-05-24T00:00:00",
          "2021-05-23T00:00:00",
          "2021-05-21T00:00:00",
          "2021-05-23T00:00:00",
          "2021-05-23T00:00:00",
          "2021-05-22T00:00:00",
          "2021-05-22T00:00:00",
          "2021-05-23T00:00:00",
          "2021-05-23T00:00:00",
          "2021-05-23T00:00:00",
          "2021-05-22T00:00:00",
          "2021-05-22T00:00:00",
          "2021-05-22T00:00:00",
          "2021-05-20T00:00:00",
          "2021-05-20T00:00:00",
          "2021-05-22T00:00:00",
          "2021-05-24T00:00:00",
          "2021-05-24T00:00:00",
          "2021-05-21T00:00:00",
          "2021-05-22T00:00:00",
          "2021-05-19T00:00:00",
          "2021-05-20T00:00:00",
          "2021-05-19T00:00:00",
          "2021-05-19T00:00:00",
          "2021-05-19T00:00:00",
          "2021-05-20T00:00:00",
          "2021-05-17T00:00:00",
          "2021-05-19T00:00:00",
          "2021-05-23T00:00:00",
          "2021-05-23T00:00:00",
          "2021-05-22T00:00:00",
          "2021-05-21T00:00:00",
          "2021-05-22T00:00:00",
          "2021-05-17T00:00:00",
          "2021-05-18T00:00:00",
          "2021-05-20T00:00:00",
          "2021-05-22T00:00:00",
          "2021-05-21T00:00:00",
          "2021-05-22T00:00:00",
          "2021-05-23T00:00:00",
          "2021-05-23T00:00:00",
          "2021-05-20T00:00:00",
          "2021-05-20T00:00:00",
          "2021-05-20T00:00:00",
          "2021-05-20T00:00:00",
          "2021-05-20T00:00:00",
          "2021-05-20T00:00:00",
          "2021-05-21T00:00:00",
          "2021-05-23T00:00:00",
          "2021-05-23T00:00:00",
          "2021-05-22T00:00:00",
          "2021-05-18T00:00:00"
         ],
         "y0": " ",
         "yaxis": "y"
        }
       ],
       "layout": {
        "boxmode": "group",
        "legend": {
         "tracegroupgap": 0
        },
        "margin": {
         "t": 60
        },
        "template": {
         "data": {
          "bar": [
           {
            "error_x": {
             "color": "#f2f5fa"
            },
            "error_y": {
             "color": "#f2f5fa"
            },
            "marker": {
             "line": {
              "color": "rgb(17,17,17)",
              "width": 0.5
             }
            },
            "type": "bar"
           }
          ],
          "barpolar": [
           {
            "marker": {
             "line": {
              "color": "rgb(17,17,17)",
              "width": 0.5
             }
            },
            "type": "barpolar"
           }
          ],
          "carpet": [
           {
            "aaxis": {
             "endlinecolor": "#A2B1C6",
             "gridcolor": "#506784",
             "linecolor": "#506784",
             "minorgridcolor": "#506784",
             "startlinecolor": "#A2B1C6"
            },
            "baxis": {
             "endlinecolor": "#A2B1C6",
             "gridcolor": "#506784",
             "linecolor": "#506784",
             "minorgridcolor": "#506784",
             "startlinecolor": "#A2B1C6"
            },
            "type": "carpet"
           }
          ],
          "choropleth": [
           {
            "colorbar": {
             "outlinewidth": 0,
             "ticks": ""
            },
            "type": "choropleth"
           }
          ],
          "contour": [
           {
            "colorbar": {
             "outlinewidth": 0,
             "ticks": ""
            },
            "colorscale": [
             [
              0,
              "#0d0887"
             ],
             [
              0.1111111111111111,
              "#46039f"
             ],
             [
              0.2222222222222222,
              "#7201a8"
             ],
             [
              0.3333333333333333,
              "#9c179e"
             ],
             [
              0.4444444444444444,
              "#bd3786"
             ],
             [
              0.5555555555555556,
              "#d8576b"
             ],
             [
              0.6666666666666666,
              "#ed7953"
             ],
             [
              0.7777777777777778,
              "#fb9f3a"
             ],
             [
              0.8888888888888888,
              "#fdca26"
             ],
             [
              1,
              "#f0f921"
             ]
            ],
            "type": "contour"
           }
          ],
          "contourcarpet": [
           {
            "colorbar": {
             "outlinewidth": 0,
             "ticks": ""
            },
            "type": "contourcarpet"
           }
          ],
          "heatmap": [
           {
            "colorbar": {
             "outlinewidth": 0,
             "ticks": ""
            },
            "colorscale": [
             [
              0,
              "#0d0887"
             ],
             [
              0.1111111111111111,
              "#46039f"
             ],
             [
              0.2222222222222222,
              "#7201a8"
             ],
             [
              0.3333333333333333,
              "#9c179e"
             ],
             [
              0.4444444444444444,
              "#bd3786"
             ],
             [
              0.5555555555555556,
              "#d8576b"
             ],
             [
              0.6666666666666666,
              "#ed7953"
             ],
             [
              0.7777777777777778,
              "#fb9f3a"
             ],
             [
              0.8888888888888888,
              "#fdca26"
             ],
             [
              1,
              "#f0f921"
             ]
            ],
            "type": "heatmap"
           }
          ],
          "heatmapgl": [
           {
            "colorbar": {
             "outlinewidth": 0,
             "ticks": ""
            },
            "colorscale": [
             [
              0,
              "#0d0887"
             ],
             [
              0.1111111111111111,
              "#46039f"
             ],
             [
              0.2222222222222222,
              "#7201a8"
             ],
             [
              0.3333333333333333,
              "#9c179e"
             ],
             [
              0.4444444444444444,
              "#bd3786"
             ],
             [
              0.5555555555555556,
              "#d8576b"
             ],
             [
              0.6666666666666666,
              "#ed7953"
             ],
             [
              0.7777777777777778,
              "#fb9f3a"
             ],
             [
              0.8888888888888888,
              "#fdca26"
             ],
             [
              1,
              "#f0f921"
             ]
            ],
            "type": "heatmapgl"
           }
          ],
          "histogram": [
           {
            "marker": {
             "colorbar": {
              "outlinewidth": 0,
              "ticks": ""
             }
            },
            "type": "histogram"
           }
          ],
          "histogram2d": [
           {
            "colorbar": {
             "outlinewidth": 0,
             "ticks": ""
            },
            "colorscale": [
             [
              0,
              "#0d0887"
             ],
             [
              0.1111111111111111,
              "#46039f"
             ],
             [
              0.2222222222222222,
              "#7201a8"
             ],
             [
              0.3333333333333333,
              "#9c179e"
             ],
             [
              0.4444444444444444,
              "#bd3786"
             ],
             [
              0.5555555555555556,
              "#d8576b"
             ],
             [
              0.6666666666666666,
              "#ed7953"
             ],
             [
              0.7777777777777778,
              "#fb9f3a"
             ],
             [
              0.8888888888888888,
              "#fdca26"
             ],
             [
              1,
              "#f0f921"
             ]
            ],
            "type": "histogram2d"
           }
          ],
          "histogram2dcontour": [
           {
            "colorbar": {
             "outlinewidth": 0,
             "ticks": ""
            },
            "colorscale": [
             [
              0,
              "#0d0887"
             ],
             [
              0.1111111111111111,
              "#46039f"
             ],
             [
              0.2222222222222222,
              "#7201a8"
             ],
             [
              0.3333333333333333,
              "#9c179e"
             ],
             [
              0.4444444444444444,
              "#bd3786"
             ],
             [
              0.5555555555555556,
              "#d8576b"
             ],
             [
              0.6666666666666666,
              "#ed7953"
             ],
             [
              0.7777777777777778,
              "#fb9f3a"
             ],
             [
              0.8888888888888888,
              "#fdca26"
             ],
             [
              1,
              "#f0f921"
             ]
            ],
            "type": "histogram2dcontour"
           }
          ],
          "mesh3d": [
           {
            "colorbar": {
             "outlinewidth": 0,
             "ticks": ""
            },
            "type": "mesh3d"
           }
          ],
          "parcoords": [
           {
            "line": {
             "colorbar": {
              "outlinewidth": 0,
              "ticks": ""
             }
            },
            "type": "parcoords"
           }
          ],
          "pie": [
           {
            "automargin": true,
            "type": "pie"
           }
          ],
          "scatter": [
           {
            "marker": {
             "line": {
              "color": "#283442"
             }
            },
            "type": "scatter"
           }
          ],
          "scatter3d": [
           {
            "line": {
             "colorbar": {
              "outlinewidth": 0,
              "ticks": ""
             }
            },
            "marker": {
             "colorbar": {
              "outlinewidth": 0,
              "ticks": ""
             }
            },
            "type": "scatter3d"
           }
          ],
          "scattercarpet": [
           {
            "marker": {
             "colorbar": {
              "outlinewidth": 0,
              "ticks": ""
             }
            },
            "type": "scattercarpet"
           }
          ],
          "scattergeo": [
           {
            "marker": {
             "colorbar": {
              "outlinewidth": 0,
              "ticks": ""
             }
            },
            "type": "scattergeo"
           }
          ],
          "scattergl": [
           {
            "marker": {
             "line": {
              "color": "#283442"
             }
            },
            "type": "scattergl"
           }
          ],
          "scattermapbox": [
           {
            "marker": {
             "colorbar": {
              "outlinewidth": 0,
              "ticks": ""
             }
            },
            "type": "scattermapbox"
           }
          ],
          "scatterpolar": [
           {
            "marker": {
             "colorbar": {
              "outlinewidth": 0,
              "ticks": ""
             }
            },
            "type": "scatterpolar"
           }
          ],
          "scatterpolargl": [
           {
            "marker": {
             "colorbar": {
              "outlinewidth": 0,
              "ticks": ""
             }
            },
            "type": "scatterpolargl"
           }
          ],
          "scatterternary": [
           {
            "marker": {
             "colorbar": {
              "outlinewidth": 0,
              "ticks": ""
             }
            },
            "type": "scatterternary"
           }
          ],
          "surface": [
           {
            "colorbar": {
             "outlinewidth": 0,
             "ticks": ""
            },
            "colorscale": [
             [
              0,
              "#0d0887"
             ],
             [
              0.1111111111111111,
              "#46039f"
             ],
             [
              0.2222222222222222,
              "#7201a8"
             ],
             [
              0.3333333333333333,
              "#9c179e"
             ],
             [
              0.4444444444444444,
              "#bd3786"
             ],
             [
              0.5555555555555556,
              "#d8576b"
             ],
             [
              0.6666666666666666,
              "#ed7953"
             ],
             [
              0.7777777777777778,
              "#fb9f3a"
             ],
             [
              0.8888888888888888,
              "#fdca26"
             ],
             [
              1,
              "#f0f921"
             ]
            ],
            "type": "surface"
           }
          ],
          "table": [
           {
            "cells": {
             "fill": {
              "color": "#506784"
             },
             "line": {
              "color": "rgb(17,17,17)"
             }
            },
            "header": {
             "fill": {
              "color": "#2a3f5f"
             },
             "line": {
              "color": "rgb(17,17,17)"
             }
            },
            "type": "table"
           }
          ]
         },
         "layout": {
          "annotationdefaults": {
           "arrowcolor": "#f2f5fa",
           "arrowhead": 0,
           "arrowwidth": 1
          },
          "autotypenumbers": "strict",
          "coloraxis": {
           "colorbar": {
            "outlinewidth": 0,
            "ticks": ""
           }
          },
          "colorscale": {
           "diverging": [
            [
             0,
             "#8e0152"
            ],
            [
             0.1,
             "#c51b7d"
            ],
            [
             0.2,
             "#de77ae"
            ],
            [
             0.3,
             "#f1b6da"
            ],
            [
             0.4,
             "#fde0ef"
            ],
            [
             0.5,
             "#f7f7f7"
            ],
            [
             0.6,
             "#e6f5d0"
            ],
            [
             0.7,
             "#b8e186"
            ],
            [
             0.8,
             "#7fbc41"
            ],
            [
             0.9,
             "#4d9221"
            ],
            [
             1,
             "#276419"
            ]
           ],
           "sequential": [
            [
             0,
             "#0d0887"
            ],
            [
             0.1111111111111111,
             "#46039f"
            ],
            [
             0.2222222222222222,
             "#7201a8"
            ],
            [
             0.3333333333333333,
             "#9c179e"
            ],
            [
             0.4444444444444444,
             "#bd3786"
            ],
            [
             0.5555555555555556,
             "#d8576b"
            ],
            [
             0.6666666666666666,
             "#ed7953"
            ],
            [
             0.7777777777777778,
             "#fb9f3a"
            ],
            [
             0.8888888888888888,
             "#fdca26"
            ],
            [
             1,
             "#f0f921"
            ]
           ],
           "sequentialminus": [
            [
             0,
             "#0d0887"
            ],
            [
             0.1111111111111111,
             "#46039f"
            ],
            [
             0.2222222222222222,
             "#7201a8"
            ],
            [
             0.3333333333333333,
             "#9c179e"
            ],
            [
             0.4444444444444444,
             "#bd3786"
            ],
            [
             0.5555555555555556,
             "#d8576b"
            ],
            [
             0.6666666666666666,
             "#ed7953"
            ],
            [
             0.7777777777777778,
             "#fb9f3a"
            ],
            [
             0.8888888888888888,
             "#fdca26"
            ],
            [
             1,
             "#f0f921"
            ]
           ]
          },
          "colorway": [
           "#636efa",
           "#EF553B",
           "#00cc96",
           "#ab63fa",
           "#FFA15A",
           "#19d3f3",
           "#FF6692",
           "#B6E880",
           "#FF97FF",
           "#FECB52"
          ],
          "font": {
           "color": "#f2f5fa"
          },
          "geo": {
           "bgcolor": "rgb(17,17,17)",
           "lakecolor": "rgb(17,17,17)",
           "landcolor": "rgb(17,17,17)",
           "showlakes": true,
           "showland": true,
           "subunitcolor": "#506784"
          },
          "hoverlabel": {
           "align": "left"
          },
          "hovermode": "closest",
          "mapbox": {
           "style": "dark"
          },
          "paper_bgcolor": "rgb(17,17,17)",
          "plot_bgcolor": "rgb(17,17,17)",
          "polar": {
           "angularaxis": {
            "gridcolor": "#506784",
            "linecolor": "#506784",
            "ticks": ""
           },
           "bgcolor": "rgb(17,17,17)",
           "radialaxis": {
            "gridcolor": "#506784",
            "linecolor": "#506784",
            "ticks": ""
           }
          },
          "scene": {
           "xaxis": {
            "backgroundcolor": "rgb(17,17,17)",
            "gridcolor": "#506784",
            "gridwidth": 2,
            "linecolor": "#506784",
            "showbackground": true,
            "ticks": "",
            "zerolinecolor": "#C8D4E3"
           },
           "yaxis": {
            "backgroundcolor": "rgb(17,17,17)",
            "gridcolor": "#506784",
            "gridwidth": 2,
            "linecolor": "#506784",
            "showbackground": true,
            "ticks": "",
            "zerolinecolor": "#C8D4E3"
           },
           "zaxis": {
            "backgroundcolor": "rgb(17,17,17)",
            "gridcolor": "#506784",
            "gridwidth": 2,
            "linecolor": "#506784",
            "showbackground": true,
            "ticks": "",
            "zerolinecolor": "#C8D4E3"
           }
          },
          "shapedefaults": {
           "line": {
            "color": "#f2f5fa"
           }
          },
          "sliderdefaults": {
           "bgcolor": "#C8D4E3",
           "bordercolor": "rgb(17,17,17)",
           "borderwidth": 1,
           "tickwidth": 0
          },
          "ternary": {
           "aaxis": {
            "gridcolor": "#506784",
            "linecolor": "#506784",
            "ticks": ""
           },
           "baxis": {
            "gridcolor": "#506784",
            "linecolor": "#506784",
            "ticks": ""
           },
           "bgcolor": "rgb(17,17,17)",
           "caxis": {
            "gridcolor": "#506784",
            "linecolor": "#506784",
            "ticks": ""
           }
          },
          "title": {
           "x": 0.05
          },
          "updatemenudefaults": {
           "bgcolor": "#506784",
           "borderwidth": 0
          },
          "xaxis": {
           "automargin": true,
           "gridcolor": "#283442",
           "linecolor": "#506784",
           "ticks": "",
           "title": {
            "standoff": 15
           },
           "zerolinecolor": "#283442",
           "zerolinewidth": 2
          },
          "yaxis": {
           "automargin": true,
           "gridcolor": "#283442",
           "linecolor": "#506784",
           "ticks": "",
           "title": {
            "standoff": 15
           },
           "zerolinecolor": "#283442",
           "zerolinewidth": 2
          }
         }
        },
        "xaxis": {
         "anchor": "y",
         "domain": [
          0,
          1
         ]
        },
        "yaxis": {
         "anchor": "x",
         "domain": [
          0,
          1
         ],
         "title": {
          "text": "date_exposure"
         }
        }
       }
      },
      "text/html": [
       "<div>                            <div id=\"ec6ce830-0f23-46ea-b567-11a7d2b9c433\" class=\"plotly-graph-div\" style=\"height:525px; width:100%;\"></div>            <script type=\"text/javascript\">                require([\"plotly\"], function(Plotly) {                    window.PLOTLYENV=window.PLOTLYENV || {};                                    if (document.getElementById(\"ec6ce830-0f23-46ea-b567-11a7d2b9c433\")) {                    Plotly.newPlot(                        \"ec6ce830-0f23-46ea-b567-11a7d2b9c433\",                        [{\"alignmentgroup\": \"True\", \"boxpoints\": \"all\", \"fillcolor\": \"rgba(255,255,255,0)\", \"hoveron\": \"points\", \"hovertemplate\": \"date_exposure=%{y}<extra></extra>\", \"legendgroup\": \"\", \"line\": {\"color\": \"rgba(255,255,255,0)\"}, \"marker\": {\"color\": \"#636efa\"}, \"name\": \"\", \"offsetgroup\": \"\", \"orientation\": \"v\", \"pointpos\": 0, \"showlegend\": false, \"type\": \"box\", \"x0\": \" \", \"xaxis\": \"x\", \"y\": [\"2021-05-23T00:00:00\", \"2021-05-28T00:00:00\", \"2021-05-28T00:00:00\", \"2021-05-28T00:00:00\", \"2021-05-26T00:00:00\", \"2021-05-27T00:00:00\", \"2021-05-28T00:00:00\", \"2021-05-29T00:00:00\", \"2021-05-26T00:00:00\", \"2021-05-26T00:00:00\", \"2021-05-26T00:00:00\", \"2021-05-27T00:00:00\", \"2021-05-28T00:00:00\", \"2021-05-29T00:00:00\", \"2021-05-28T00:00:00\", \"2021-05-25T00:00:00\", \"2021-05-27T00:00:00\", \"2021-05-27T00:00:00\", \"2021-05-27T00:00:00\", \"2021-05-22T00:00:00\", \"2021-05-23T00:00:00\", \"2021-05-23T00:00:00\", \"2021-05-25T00:00:00\", \"2021-05-21T00:00:00\", \"2021-05-26T00:00:00\", \"2021-05-26T00:00:00\", \"2021-05-24T00:00:00\", \"2021-05-25T00:00:00\", \"2021-05-26T00:00:00\", \"2021-05-26T00:00:00\", \"2021-05-15T00:00:00\", \"2021-05-15T00:00:00\", \"2021-05-22T00:00:00\", \"2021-05-23T00:00:00\", \"2021-05-20T00:00:00\", \"2021-05-18T00:00:00\", \"2021-05-26T00:00:00\", \"2021-05-26T00:00:00\", \"2021-05-26T00:00:00\", \"2021-05-25T00:00:00\", \"2021-05-25T00:00:00\", \"2021-05-24T00:00:00\", \"2021-05-23T00:00:00\", \"2021-05-23T00:00:00\", \"2021-05-25T00:00:00\", \"2021-05-22T00:00:00\", \"2021-05-23T00:00:00\", \"2021-05-22T00:00:00\", \"2021-05-22T00:00:00\", \"2021-05-23T00:00:00\", \"2021-05-26T00:00:00\", \"2021-05-24T00:00:00\", \"2021-05-23T00:00:00\", \"2021-05-22T00:00:00\", \"2021-05-24T00:00:00\", \"2021-05-24T00:00:00\", \"2021-05-23T00:00:00\", \"2021-05-22T00:00:00\", \"2021-05-24T00:00:00\", \"2021-05-22T00:00:00\", \"2021-05-27T00:00:00\", \"2021-05-27T00:00:00\", \"2021-05-26T00:00:00\", \"2021-05-23T00:00:00\", \"2021-05-23T00:00:00\", \"2021-05-26T00:00:00\", \"2021-05-26T00:00:00\", \"2021-05-26T00:00:00\", \"2021-05-21T00:00:00\", \"2021-05-22T00:00:00\", \"2021-05-24T00:00:00\", \"2021-05-17T00:00:00\", \"2021-05-17T00:00:00\", \"2021-05-26T00:00:00\", \"2021-05-26T00:00:00\", \"2021-05-26T00:00:00\", \"2021-05-27T00:00:00\", \"2021-05-24T00:00:00\", \"2021-05-19T00:00:00\", \"2021-05-22T00:00:00\", \"2021-05-26T00:00:00\", \"2021-05-27T00:00:00\", \"2021-05-17T00:00:00\", \"2021-05-18T00:00:00\", \"2021-05-22T00:00:00\", \"2021-05-25T00:00:00\", \"2021-05-25T00:00:00\", \"2021-05-25T00:00:00\", \"2021-05-22T00:00:00\", \"2021-05-22T00:00:00\", \"2021-05-26T00:00:00\", \"2021-05-22T00:00:00\", \"2021-05-22T00:00:00\", \"2021-05-22T00:00:00\", \"2021-05-19T00:00:00\", \"2021-05-22T00:00:00\", \"2021-05-18T00:00:00\", \"2021-05-25T00:00:00\", \"2021-05-26T00:00:00\", \"2021-05-24T00:00:00\", \"2021-05-17T00:00:00\", \"2021-05-18T00:00:00\", \"2021-05-20T00:00:00\", \"2021-05-21T00:00:00\", \"2021-05-24T00:00:00\", \"2021-05-25T00:00:00\", \"2021-05-27T00:00:00\", \"2021-05-28T00:00:00\", \"2021-05-12T00:00:00\", \"2021-05-13T00:00:00\", \"2021-05-20T00:00:00\", \"2021-05-25T00:00:00\", \"2021-05-19T00:00:00\", \"2021-05-25T00:00:00\", \"2021-05-26T00:00:00\", \"2021-05-23T00:00:00\", \"2021-05-19T00:00:00\", \"2021-05-25T00:00:00\", \"2021-05-22T00:00:00\", \"2021-05-26T00:00:00\", \"2021-05-24T00:00:00\", \"2021-05-26T00:00:00\", \"2021-05-21T00:00:00\", \"2021-05-25T00:00:00\", \"2021-05-26T00:00:00\", \"2021-05-26T00:00:00\", \"2021-05-27T00:00:00\", \"2021-05-27T00:00:00\", \"2021-05-27T00:00:00\", \"2021-05-28T00:00:00\", \"2021-05-23T00:00:00\", \"2021-05-26T00:00:00\", \"2021-05-26T00:00:00\", \"2021-05-26T00:00:00\", \"2021-05-25T00:00:00\", \"2021-05-24T00:00:00\", \"2021-05-25T00:00:00\", \"2021-05-25T00:00:00\", \"2021-05-25T00:00:00\", \"2021-05-24T00:00:00\", \"2021-05-22T00:00:00\", \"2021-05-22T00:00:00\", \"2021-05-23T00:00:00\", \"2021-05-22T00:00:00\", \"2021-05-21T00:00:00\", \"2021-05-23T00:00:00\", \"2021-05-25T00:00:00\", \"2021-05-19T00:00:00\", \"2021-05-19T00:00:00\", \"2021-05-19T00:00:00\", \"2021-05-19T00:00:00\", \"2021-05-19T00:00:00\", \"2021-05-25T00:00:00\", \"2021-05-19T00:00:00\", \"2021-05-18T00:00:00\", \"2021-05-18T00:00:00\", \"2021-05-18T00:00:00\", \"2021-05-18T00:00:00\", \"2021-05-25T00:00:00\", \"2021-05-24T00:00:00\", \"2021-05-23T00:00:00\", \"2021-05-23T00:00:00\", \"2021-05-23T00:00:00\", \"2021-05-22T00:00:00\", \"2021-05-24T00:00:00\", \"2021-05-25T00:00:00\", \"2021-05-26T00:00:00\", \"2021-05-22T00:00:00\", \"2021-05-23T00:00:00\", \"2021-05-25T00:00:00\", \"2021-05-26T00:00:00\", \"2021-05-27T00:00:00\", \"2021-05-22T00:00:00\", \"2021-05-22T00:00:00\", \"2021-05-22T00:00:00\", \"2021-05-23T00:00:00\", \"2021-05-25T00:00:00\", \"2021-05-24T00:00:00\", \"2021-05-25T00:00:00\", \"2021-05-24T00:00:00\", \"2021-05-23T00:00:00\", \"2021-05-24T00:00:00\", \"2021-05-25T00:00:00\", \"2021-05-25T00:00:00\", \"2021-05-13T00:00:00\", \"2021-05-23T00:00:00\", \"2021-05-23T00:00:00\", \"2021-05-23T00:00:00\", \"2021-05-23T00:00:00\", \"2021-05-25T00:00:00\", \"2021-05-24T00:00:00\", \"2021-05-24T00:00:00\", \"2021-05-22T00:00:00\", \"2021-05-22T00:00:00\", \"2021-05-22T00:00:00\", \"2021-05-22T00:00:00\", \"2021-05-21T00:00:00\", \"2021-05-24T00:00:00\", \"2021-05-22T00:00:00\", \"2021-05-20T00:00:00\", \"2021-05-24T00:00:00\", \"2021-05-24T00:00:00\", \"2021-05-24T00:00:00\", \"2021-05-24T00:00:00\", \"2021-05-24T00:00:00\", \"2021-05-23T00:00:00\", \"2021-05-21T00:00:00\", \"2021-05-24T00:00:00\", \"2021-05-25T00:00:00\", \"2021-05-22T00:00:00\", \"2021-05-23T00:00:00\", \"2021-05-22T00:00:00\", \"2021-05-23T00:00:00\", \"2021-05-14T00:00:00\", \"2021-05-14T00:00:00\", \"2021-05-14T00:00:00\", \"2021-05-23T00:00:00\", \"2021-05-25T00:00:00\", \"2021-05-22T00:00:00\", \"2021-05-23T00:00:00\", \"2021-05-21T00:00:00\", \"2021-05-20T00:00:00\", \"2021-05-23T00:00:00\", \"2021-05-22T00:00:00\", \"2021-05-21T00:00:00\", \"2021-05-22T00:00:00\", \"2021-05-23T00:00:00\", \"2021-05-22T00:00:00\", \"2021-05-23T00:00:00\", \"2021-05-21T00:00:00\", \"2021-05-23T00:00:00\", \"2021-05-24T00:00:00\", \"2021-05-23T00:00:00\", \"2021-05-21T00:00:00\", \"2021-05-24T00:00:00\", \"2021-05-23T00:00:00\", \"2021-05-23T00:00:00\", \"2021-05-22T00:00:00\", \"2021-05-22T00:00:00\", \"2021-05-18T00:00:00\", \"2021-05-20T00:00:00\", \"2021-05-21T00:00:00\", \"2021-05-22T00:00:00\", \"2021-05-23T00:00:00\", \"2021-05-24T00:00:00\", \"2021-05-25T00:00:00\", \"2021-05-24T00:00:00\", \"2021-05-23T00:00:00\", \"2021-05-21T00:00:00\", \"2021-05-23T00:00:00\", \"2021-05-23T00:00:00\", \"2021-05-22T00:00:00\", \"2021-05-22T00:00:00\", \"2021-05-23T00:00:00\", \"2021-05-23T00:00:00\", \"2021-05-23T00:00:00\", \"2021-05-22T00:00:00\", \"2021-05-22T00:00:00\", \"2021-05-22T00:00:00\", \"2021-05-20T00:00:00\", \"2021-05-20T00:00:00\", \"2021-05-22T00:00:00\", \"2021-05-24T00:00:00\", \"2021-05-24T00:00:00\", \"2021-05-21T00:00:00\", \"2021-05-22T00:00:00\", \"2021-05-19T00:00:00\", \"2021-05-20T00:00:00\", \"2021-05-19T00:00:00\", \"2021-05-19T00:00:00\", \"2021-05-19T00:00:00\", \"2021-05-20T00:00:00\", \"2021-05-17T00:00:00\", \"2021-05-19T00:00:00\", \"2021-05-23T00:00:00\", \"2021-05-23T00:00:00\", \"2021-05-22T00:00:00\", \"2021-05-21T00:00:00\", \"2021-05-22T00:00:00\", \"2021-05-17T00:00:00\", \"2021-05-18T00:00:00\", \"2021-05-20T00:00:00\", \"2021-05-22T00:00:00\", \"2021-05-21T00:00:00\", \"2021-05-22T00:00:00\", \"2021-05-23T00:00:00\", \"2021-05-23T00:00:00\", \"2021-05-20T00:00:00\", \"2021-05-20T00:00:00\", \"2021-05-20T00:00:00\", \"2021-05-20T00:00:00\", \"2021-05-20T00:00:00\", \"2021-05-20T00:00:00\", \"2021-05-21T00:00:00\", \"2021-05-23T00:00:00\", \"2021-05-23T00:00:00\", \"2021-05-22T00:00:00\", \"2021-05-18T00:00:00\"], \"y0\": \" \", \"yaxis\": \"y\"}],                        {\"boxmode\": \"group\", \"legend\": {\"tracegroupgap\": 0}, \"margin\": {\"t\": 60}, \"template\": {\"data\": {\"bar\": [{\"error_x\": {\"color\": \"#f2f5fa\"}, \"error_y\": {\"color\": \"#f2f5fa\"}, \"marker\": {\"line\": {\"color\": \"rgb(17,17,17)\", \"width\": 0.5}}, \"type\": \"bar\"}], \"barpolar\": [{\"marker\": {\"line\": {\"color\": \"rgb(17,17,17)\", \"width\": 0.5}}, \"type\": \"barpolar\"}], \"carpet\": [{\"aaxis\": {\"endlinecolor\": \"#A2B1C6\", \"gridcolor\": \"#506784\", \"linecolor\": \"#506784\", \"minorgridcolor\": \"#506784\", \"startlinecolor\": \"#A2B1C6\"}, \"baxis\": {\"endlinecolor\": \"#A2B1C6\", \"gridcolor\": \"#506784\", \"linecolor\": \"#506784\", \"minorgridcolor\": \"#506784\", \"startlinecolor\": \"#A2B1C6\"}, \"type\": \"carpet\"}], \"choropleth\": [{\"colorbar\": {\"outlinewidth\": 0, \"ticks\": \"\"}, \"type\": \"choropleth\"}], \"contour\": [{\"colorbar\": {\"outlinewidth\": 0, \"ticks\": \"\"}, \"colorscale\": [[0.0, \"#0d0887\"], [0.1111111111111111, \"#46039f\"], [0.2222222222222222, \"#7201a8\"], [0.3333333333333333, \"#9c179e\"], [0.4444444444444444, \"#bd3786\"], [0.5555555555555556, \"#d8576b\"], [0.6666666666666666, \"#ed7953\"], [0.7777777777777778, \"#fb9f3a\"], [0.8888888888888888, \"#fdca26\"], [1.0, \"#f0f921\"]], \"type\": \"contour\"}], \"contourcarpet\": [{\"colorbar\": {\"outlinewidth\": 0, \"ticks\": \"\"}, \"type\": \"contourcarpet\"}], \"heatmap\": [{\"colorbar\": {\"outlinewidth\": 0, \"ticks\": \"\"}, \"colorscale\": [[0.0, \"#0d0887\"], [0.1111111111111111, \"#46039f\"], [0.2222222222222222, \"#7201a8\"], [0.3333333333333333, \"#9c179e\"], [0.4444444444444444, \"#bd3786\"], [0.5555555555555556, \"#d8576b\"], [0.6666666666666666, \"#ed7953\"], [0.7777777777777778, \"#fb9f3a\"], [0.8888888888888888, \"#fdca26\"], [1.0, \"#f0f921\"]], \"type\": \"heatmap\"}], \"heatmapgl\": [{\"colorbar\": {\"outlinewidth\": 0, \"ticks\": \"\"}, \"colorscale\": [[0.0, \"#0d0887\"], [0.1111111111111111, \"#46039f\"], [0.2222222222222222, \"#7201a8\"], [0.3333333333333333, \"#9c179e\"], [0.4444444444444444, \"#bd3786\"], [0.5555555555555556, \"#d8576b\"], [0.6666666666666666, \"#ed7953\"], [0.7777777777777778, \"#fb9f3a\"], [0.8888888888888888, \"#fdca26\"], [1.0, \"#f0f921\"]], \"type\": \"heatmapgl\"}], \"histogram\": [{\"marker\": {\"colorbar\": {\"outlinewidth\": 0, \"ticks\": \"\"}}, \"type\": \"histogram\"}], \"histogram2d\": [{\"colorbar\": {\"outlinewidth\": 0, \"ticks\": \"\"}, \"colorscale\": [[0.0, \"#0d0887\"], [0.1111111111111111, \"#46039f\"], [0.2222222222222222, \"#7201a8\"], [0.3333333333333333, \"#9c179e\"], [0.4444444444444444, \"#bd3786\"], [0.5555555555555556, \"#d8576b\"], [0.6666666666666666, \"#ed7953\"], [0.7777777777777778, \"#fb9f3a\"], [0.8888888888888888, \"#fdca26\"], [1.0, \"#f0f921\"]], \"type\": \"histogram2d\"}], \"histogram2dcontour\": [{\"colorbar\": {\"outlinewidth\": 0, \"ticks\": \"\"}, \"colorscale\": [[0.0, \"#0d0887\"], [0.1111111111111111, \"#46039f\"], [0.2222222222222222, \"#7201a8\"], [0.3333333333333333, \"#9c179e\"], [0.4444444444444444, \"#bd3786\"], [0.5555555555555556, \"#d8576b\"], [0.6666666666666666, \"#ed7953\"], [0.7777777777777778, \"#fb9f3a\"], [0.8888888888888888, \"#fdca26\"], [1.0, \"#f0f921\"]], \"type\": \"histogram2dcontour\"}], \"mesh3d\": [{\"colorbar\": {\"outlinewidth\": 0, \"ticks\": \"\"}, \"type\": \"mesh3d\"}], \"parcoords\": [{\"line\": {\"colorbar\": {\"outlinewidth\": 0, \"ticks\": \"\"}}, \"type\": \"parcoords\"}], \"pie\": [{\"automargin\": true, \"type\": \"pie\"}], \"scatter\": [{\"marker\": {\"line\": {\"color\": \"#283442\"}}, \"type\": \"scatter\"}], \"scatter3d\": [{\"line\": {\"colorbar\": {\"outlinewidth\": 0, \"ticks\": \"\"}}, \"marker\": {\"colorbar\": {\"outlinewidth\": 0, \"ticks\": \"\"}}, \"type\": \"scatter3d\"}], \"scattercarpet\": [{\"marker\": {\"colorbar\": {\"outlinewidth\": 0, \"ticks\": \"\"}}, \"type\": \"scattercarpet\"}], \"scattergeo\": [{\"marker\": {\"colorbar\": {\"outlinewidth\": 0, \"ticks\": \"\"}}, \"type\": \"scattergeo\"}], \"scattergl\": [{\"marker\": {\"line\": {\"color\": \"#283442\"}}, \"type\": \"scattergl\"}], \"scattermapbox\": [{\"marker\": {\"colorbar\": {\"outlinewidth\": 0, \"ticks\": \"\"}}, \"type\": \"scattermapbox\"}], \"scatterpolar\": [{\"marker\": {\"colorbar\": {\"outlinewidth\": 0, \"ticks\": \"\"}}, \"type\": \"scatterpolar\"}], \"scatterpolargl\": [{\"marker\": {\"colorbar\": {\"outlinewidth\": 0, \"ticks\": \"\"}}, \"type\": \"scatterpolargl\"}], \"scatterternary\": [{\"marker\": {\"colorbar\": {\"outlinewidth\": 0, \"ticks\": \"\"}}, \"type\": \"scatterternary\"}], \"surface\": [{\"colorbar\": {\"outlinewidth\": 0, \"ticks\": \"\"}, \"colorscale\": [[0.0, \"#0d0887\"], [0.1111111111111111, \"#46039f\"], [0.2222222222222222, \"#7201a8\"], [0.3333333333333333, \"#9c179e\"], [0.4444444444444444, \"#bd3786\"], [0.5555555555555556, \"#d8576b\"], [0.6666666666666666, \"#ed7953\"], [0.7777777777777778, \"#fb9f3a\"], [0.8888888888888888, \"#fdca26\"], [1.0, \"#f0f921\"]], \"type\": \"surface\"}], \"table\": [{\"cells\": {\"fill\": {\"color\": \"#506784\"}, \"line\": {\"color\": \"rgb(17,17,17)\"}}, \"header\": {\"fill\": {\"color\": \"#2a3f5f\"}, \"line\": {\"color\": \"rgb(17,17,17)\"}}, \"type\": \"table\"}]}, \"layout\": {\"annotationdefaults\": {\"arrowcolor\": \"#f2f5fa\", \"arrowhead\": 0, \"arrowwidth\": 1}, \"autotypenumbers\": \"strict\", \"coloraxis\": {\"colorbar\": {\"outlinewidth\": 0, \"ticks\": \"\"}}, \"colorscale\": {\"diverging\": [[0, \"#8e0152\"], [0.1, \"#c51b7d\"], [0.2, \"#de77ae\"], [0.3, \"#f1b6da\"], [0.4, \"#fde0ef\"], [0.5, \"#f7f7f7\"], [0.6, \"#e6f5d0\"], [0.7, \"#b8e186\"], [0.8, \"#7fbc41\"], [0.9, \"#4d9221\"], [1, \"#276419\"]], \"sequential\": [[0.0, \"#0d0887\"], [0.1111111111111111, \"#46039f\"], [0.2222222222222222, \"#7201a8\"], [0.3333333333333333, \"#9c179e\"], [0.4444444444444444, \"#bd3786\"], [0.5555555555555556, \"#d8576b\"], [0.6666666666666666, \"#ed7953\"], [0.7777777777777778, \"#fb9f3a\"], [0.8888888888888888, \"#fdca26\"], [1.0, \"#f0f921\"]], \"sequentialminus\": [[0.0, \"#0d0887\"], [0.1111111111111111, \"#46039f\"], [0.2222222222222222, \"#7201a8\"], [0.3333333333333333, \"#9c179e\"], [0.4444444444444444, \"#bd3786\"], [0.5555555555555556, \"#d8576b\"], [0.6666666666666666, \"#ed7953\"], [0.7777777777777778, \"#fb9f3a\"], [0.8888888888888888, \"#fdca26\"], [1.0, \"#f0f921\"]]}, \"colorway\": [\"#636efa\", \"#EF553B\", \"#00cc96\", \"#ab63fa\", \"#FFA15A\", \"#19d3f3\", \"#FF6692\", \"#B6E880\", \"#FF97FF\", \"#FECB52\"], \"font\": {\"color\": \"#f2f5fa\"}, \"geo\": {\"bgcolor\": \"rgb(17,17,17)\", \"lakecolor\": \"rgb(17,17,17)\", \"landcolor\": \"rgb(17,17,17)\", \"showlakes\": true, \"showland\": true, \"subunitcolor\": \"#506784\"}, \"hoverlabel\": {\"align\": \"left\"}, \"hovermode\": \"closest\", \"mapbox\": {\"style\": \"dark\"}, \"paper_bgcolor\": \"rgb(17,17,17)\", \"plot_bgcolor\": \"rgb(17,17,17)\", \"polar\": {\"angularaxis\": {\"gridcolor\": \"#506784\", \"linecolor\": \"#506784\", \"ticks\": \"\"}, \"bgcolor\": \"rgb(17,17,17)\", \"radialaxis\": {\"gridcolor\": \"#506784\", \"linecolor\": \"#506784\", \"ticks\": \"\"}}, \"scene\": {\"xaxis\": {\"backgroundcolor\": \"rgb(17,17,17)\", \"gridcolor\": \"#506784\", \"gridwidth\": 2, \"linecolor\": \"#506784\", \"showbackground\": true, \"ticks\": \"\", \"zerolinecolor\": \"#C8D4E3\"}, \"yaxis\": {\"backgroundcolor\": \"rgb(17,17,17)\", \"gridcolor\": \"#506784\", \"gridwidth\": 2, \"linecolor\": \"#506784\", \"showbackground\": true, \"ticks\": \"\", \"zerolinecolor\": \"#C8D4E3\"}, \"zaxis\": {\"backgroundcolor\": \"rgb(17,17,17)\", \"gridcolor\": \"#506784\", \"gridwidth\": 2, \"linecolor\": \"#506784\", \"showbackground\": true, \"ticks\": \"\", \"zerolinecolor\": \"#C8D4E3\"}}, \"shapedefaults\": {\"line\": {\"color\": \"#f2f5fa\"}}, \"sliderdefaults\": {\"bgcolor\": \"#C8D4E3\", \"bordercolor\": \"rgb(17,17,17)\", \"borderwidth\": 1, \"tickwidth\": 0}, \"ternary\": {\"aaxis\": {\"gridcolor\": \"#506784\", \"linecolor\": \"#506784\", \"ticks\": \"\"}, \"baxis\": {\"gridcolor\": \"#506784\", \"linecolor\": \"#506784\", \"ticks\": \"\"}, \"bgcolor\": \"rgb(17,17,17)\", \"caxis\": {\"gridcolor\": \"#506784\", \"linecolor\": \"#506784\", \"ticks\": \"\"}}, \"title\": {\"x\": 0.05}, \"updatemenudefaults\": {\"bgcolor\": \"#506784\", \"borderwidth\": 0}, \"xaxis\": {\"automargin\": true, \"gridcolor\": \"#283442\", \"linecolor\": \"#506784\", \"ticks\": \"\", \"title\": {\"standoff\": 15}, \"zerolinecolor\": \"#283442\", \"zerolinewidth\": 2}, \"yaxis\": {\"automargin\": true, \"gridcolor\": \"#283442\", \"linecolor\": \"#506784\", \"ticks\": \"\", \"title\": {\"standoff\": 15}, \"zerolinecolor\": \"#283442\", \"zerolinewidth\": 2}}}, \"xaxis\": {\"anchor\": \"y\", \"domain\": [0.0, 1.0]}, \"yaxis\": {\"anchor\": \"x\", \"domain\": [0.0, 1.0], \"title\": {\"text\": \"date_exposure\"}}},                        {\"responsive\": true}                    ).then(function(){\n",
       "                            \n",
       "var gd = document.getElementById('ec6ce830-0f23-46ea-b567-11a7d2b9c433');\n",
       "var x = new MutationObserver(function (mutations, observer) {{\n",
       "        var display = window.getComputedStyle(gd).display;\n",
       "        if (!display || display === 'none') {{\n",
       "            console.log([gd, 'removed!']);\n",
       "            Plotly.purge(gd);\n",
       "            observer.disconnect();\n",
       "        }}\n",
       "}});\n",
       "\n",
       "// Listen for the removal of the full notebook cells\n",
       "var notebookContainer = gd.closest('#notebook-container');\n",
       "if (notebookContainer) {{\n",
       "    x.observe(notebookContainer, {childList: true});\n",
       "}}\n",
       "\n",
       "// Listen for the clearing of the current output cell\n",
       "var outputEl = gd.closest('.output');\n",
       "if (outputEl) {{\n",
       "    x.observe(outputEl, {childList: true});\n",
       "}}\n",
       "\n",
       "                        })                };                });            </script>        </div>"
      ]
     },
     "metadata": {},
     "output_type": "display_data"
    }
   ],
   "source": [
    "px.strip(elements, y=\"date_exposure\", template='plotly_dark')"
   ]
  },
  {
   "cell_type": "code",
   "execution_count": 150,
   "metadata": {},
   "outputs": [],
   "source": [
    "elements['date_delay'] = elements.date_added - elements.date_exposure"
   ]
  },
  {
   "cell_type": "code",
   "execution_count": 151,
   "metadata": {},
   "outputs": [],
   "source": [
    "elements.date_delay = elements.date_delay.dt.days"
   ]
  },
  {
   "cell_type": "code",
   "execution_count": 152,
   "metadata": {},
   "outputs": [
    {
     "data": {
      "application/vnd.plotly.v1+json": {
       "config": {
        "plotlyServerURL": "https://plot.ly"
       },
       "data": [
        {
         "alignmentgroup": "True",
         "bingroup": "x",
         "hovertemplate": "date_delay=%{x}<br>count=%{y}<extra></extra>",
         "legendgroup": "",
         "marker": {
          "color": "#636efa"
         },
         "name": "",
         "offsetgroup": "",
         "orientation": "v",
         "showlegend": false,
         "type": "histogram",
         "x": [
          9,
          4,
          4,
          4,
          5,
          4,
          3,
          2,
          5,
          5,
          5,
          4,
          3,
          2,
          3,
          6,
          4,
          4,
          4,
          9,
          8,
          8,
          6,
          10,
          5,
          5,
          6,
          5,
          4,
          4,
          15,
          15,
          8,
          7,
          10,
          12,
          4,
          4,
          4,
          5,
          5,
          6,
          7,
          7,
          5,
          8,
          7,
          8,
          8,
          7,
          4,
          6,
          7,
          8,
          6,
          6,
          7,
          8,
          6,
          8,
          3,
          3,
          4,
          7,
          7,
          4,
          4,
          4,
          9,
          8,
          6,
          13,
          13,
          4,
          4,
          4,
          3,
          6,
          11,
          8,
          4,
          3,
          13,
          12,
          8,
          5,
          5,
          5,
          8,
          8,
          4,
          8,
          8,
          8,
          11,
          8,
          12,
          5,
          4,
          6,
          13,
          12,
          10,
          9,
          6,
          5,
          3,
          2,
          18,
          17,
          10,
          5,
          11,
          5,
          4,
          7,
          11,
          5,
          8,
          4,
          6,
          4,
          9,
          5,
          3,
          3,
          2,
          2,
          2,
          1,
          6,
          3,
          3,
          3,
          4,
          5,
          4,
          4,
          4,
          5,
          7,
          7,
          6,
          7,
          8,
          6,
          4,
          9,
          9,
          9,
          9,
          9,
          3,
          9,
          10,
          10,
          10,
          10,
          3,
          4,
          5,
          5,
          5,
          6,
          4,
          3,
          2,
          6,
          5,
          3,
          2,
          1,
          6,
          6,
          6,
          5,
          3,
          4,
          3,
          4,
          5,
          3,
          2,
          2,
          14,
          4,
          4,
          4,
          4,
          2,
          3,
          3,
          5,
          5,
          5,
          5,
          6,
          3,
          5,
          7,
          3,
          3,
          3,
          3,
          3,
          4,
          6,
          3,
          2,
          5,
          4,
          5,
          4,
          13,
          13,
          13,
          4,
          2,
          5,
          3,
          5,
          6,
          3,
          4,
          5,
          4,
          3,
          4,
          3,
          5,
          3,
          2,
          3,
          5,
          2,
          3,
          3,
          4,
          4,
          8,
          6,
          5,
          4,
          3,
          2,
          1,
          2,
          3,
          5,
          3,
          3,
          4,
          4,
          3,
          3,
          3,
          4,
          4,
          4,
          6,
          6,
          4,
          2,
          2,
          5,
          4,
          6,
          5,
          6,
          6,
          6,
          5,
          8,
          5,
          1,
          1,
          2,
          3,
          2,
          7,
          6,
          4,
          2,
          3,
          2,
          1,
          1,
          4,
          4,
          4,
          4,
          4,
          4,
          3,
          1,
          1,
          0,
          0
         ],
         "xaxis": "x",
         "yaxis": "y"
        }
       ],
       "layout": {
        "annotations": [
         {
          "showarrow": false,
          "text": "median",
          "x": 5,
          "xanchor": "left",
          "xref": "x",
          "y": 1,
          "yanchor": "top",
          "yref": "y domain"
         }
        ],
        "barmode": "relative",
        "legend": {
         "tracegroupgap": 0
        },
        "shapes": [
         {
          "type": "line",
          "x0": 5,
          "x1": 5,
          "xref": "x",
          "y0": 0,
          "y1": 1,
          "yref": "y domain"
         }
        ],
        "template": {
         "data": {
          "bar": [
           {
            "error_x": {
             "color": "#f2f5fa"
            },
            "error_y": {
             "color": "#f2f5fa"
            },
            "marker": {
             "line": {
              "color": "rgb(17,17,17)",
              "width": 0.5
             }
            },
            "type": "bar"
           }
          ],
          "barpolar": [
           {
            "marker": {
             "line": {
              "color": "rgb(17,17,17)",
              "width": 0.5
             }
            },
            "type": "barpolar"
           }
          ],
          "carpet": [
           {
            "aaxis": {
             "endlinecolor": "#A2B1C6",
             "gridcolor": "#506784",
             "linecolor": "#506784",
             "minorgridcolor": "#506784",
             "startlinecolor": "#A2B1C6"
            },
            "baxis": {
             "endlinecolor": "#A2B1C6",
             "gridcolor": "#506784",
             "linecolor": "#506784",
             "minorgridcolor": "#506784",
             "startlinecolor": "#A2B1C6"
            },
            "type": "carpet"
           }
          ],
          "choropleth": [
           {
            "colorbar": {
             "outlinewidth": 0,
             "ticks": ""
            },
            "type": "choropleth"
           }
          ],
          "contour": [
           {
            "colorbar": {
             "outlinewidth": 0,
             "ticks": ""
            },
            "colorscale": [
             [
              0,
              "#0d0887"
             ],
             [
              0.1111111111111111,
              "#46039f"
             ],
             [
              0.2222222222222222,
              "#7201a8"
             ],
             [
              0.3333333333333333,
              "#9c179e"
             ],
             [
              0.4444444444444444,
              "#bd3786"
             ],
             [
              0.5555555555555556,
              "#d8576b"
             ],
             [
              0.6666666666666666,
              "#ed7953"
             ],
             [
              0.7777777777777778,
              "#fb9f3a"
             ],
             [
              0.8888888888888888,
              "#fdca26"
             ],
             [
              1,
              "#f0f921"
             ]
            ],
            "type": "contour"
           }
          ],
          "contourcarpet": [
           {
            "colorbar": {
             "outlinewidth": 0,
             "ticks": ""
            },
            "type": "contourcarpet"
           }
          ],
          "heatmap": [
           {
            "colorbar": {
             "outlinewidth": 0,
             "ticks": ""
            },
            "colorscale": [
             [
              0,
              "#0d0887"
             ],
             [
              0.1111111111111111,
              "#46039f"
             ],
             [
              0.2222222222222222,
              "#7201a8"
             ],
             [
              0.3333333333333333,
              "#9c179e"
             ],
             [
              0.4444444444444444,
              "#bd3786"
             ],
             [
              0.5555555555555556,
              "#d8576b"
             ],
             [
              0.6666666666666666,
              "#ed7953"
             ],
             [
              0.7777777777777778,
              "#fb9f3a"
             ],
             [
              0.8888888888888888,
              "#fdca26"
             ],
             [
              1,
              "#f0f921"
             ]
            ],
            "type": "heatmap"
           }
          ],
          "heatmapgl": [
           {
            "colorbar": {
             "outlinewidth": 0,
             "ticks": ""
            },
            "colorscale": [
             [
              0,
              "#0d0887"
             ],
             [
              0.1111111111111111,
              "#46039f"
             ],
             [
              0.2222222222222222,
              "#7201a8"
             ],
             [
              0.3333333333333333,
              "#9c179e"
             ],
             [
              0.4444444444444444,
              "#bd3786"
             ],
             [
              0.5555555555555556,
              "#d8576b"
             ],
             [
              0.6666666666666666,
              "#ed7953"
             ],
             [
              0.7777777777777778,
              "#fb9f3a"
             ],
             [
              0.8888888888888888,
              "#fdca26"
             ],
             [
              1,
              "#f0f921"
             ]
            ],
            "type": "heatmapgl"
           }
          ],
          "histogram": [
           {
            "marker": {
             "colorbar": {
              "outlinewidth": 0,
              "ticks": ""
             }
            },
            "type": "histogram"
           }
          ],
          "histogram2d": [
           {
            "colorbar": {
             "outlinewidth": 0,
             "ticks": ""
            },
            "colorscale": [
             [
              0,
              "#0d0887"
             ],
             [
              0.1111111111111111,
              "#46039f"
             ],
             [
              0.2222222222222222,
              "#7201a8"
             ],
             [
              0.3333333333333333,
              "#9c179e"
             ],
             [
              0.4444444444444444,
              "#bd3786"
             ],
             [
              0.5555555555555556,
              "#d8576b"
             ],
             [
              0.6666666666666666,
              "#ed7953"
             ],
             [
              0.7777777777777778,
              "#fb9f3a"
             ],
             [
              0.8888888888888888,
              "#fdca26"
             ],
             [
              1,
              "#f0f921"
             ]
            ],
            "type": "histogram2d"
           }
          ],
          "histogram2dcontour": [
           {
            "colorbar": {
             "outlinewidth": 0,
             "ticks": ""
            },
            "colorscale": [
             [
              0,
              "#0d0887"
             ],
             [
              0.1111111111111111,
              "#46039f"
             ],
             [
              0.2222222222222222,
              "#7201a8"
             ],
             [
              0.3333333333333333,
              "#9c179e"
             ],
             [
              0.4444444444444444,
              "#bd3786"
             ],
             [
              0.5555555555555556,
              "#d8576b"
             ],
             [
              0.6666666666666666,
              "#ed7953"
             ],
             [
              0.7777777777777778,
              "#fb9f3a"
             ],
             [
              0.8888888888888888,
              "#fdca26"
             ],
             [
              1,
              "#f0f921"
             ]
            ],
            "type": "histogram2dcontour"
           }
          ],
          "mesh3d": [
           {
            "colorbar": {
             "outlinewidth": 0,
             "ticks": ""
            },
            "type": "mesh3d"
           }
          ],
          "parcoords": [
           {
            "line": {
             "colorbar": {
              "outlinewidth": 0,
              "ticks": ""
             }
            },
            "type": "parcoords"
           }
          ],
          "pie": [
           {
            "automargin": true,
            "type": "pie"
           }
          ],
          "scatter": [
           {
            "marker": {
             "line": {
              "color": "#283442"
             }
            },
            "type": "scatter"
           }
          ],
          "scatter3d": [
           {
            "line": {
             "colorbar": {
              "outlinewidth": 0,
              "ticks": ""
             }
            },
            "marker": {
             "colorbar": {
              "outlinewidth": 0,
              "ticks": ""
             }
            },
            "type": "scatter3d"
           }
          ],
          "scattercarpet": [
           {
            "marker": {
             "colorbar": {
              "outlinewidth": 0,
              "ticks": ""
             }
            },
            "type": "scattercarpet"
           }
          ],
          "scattergeo": [
           {
            "marker": {
             "colorbar": {
              "outlinewidth": 0,
              "ticks": ""
             }
            },
            "type": "scattergeo"
           }
          ],
          "scattergl": [
           {
            "marker": {
             "line": {
              "color": "#283442"
             }
            },
            "type": "scattergl"
           }
          ],
          "scattermapbox": [
           {
            "marker": {
             "colorbar": {
              "outlinewidth": 0,
              "ticks": ""
             }
            },
            "type": "scattermapbox"
           }
          ],
          "scatterpolar": [
           {
            "marker": {
             "colorbar": {
              "outlinewidth": 0,
              "ticks": ""
             }
            },
            "type": "scatterpolar"
           }
          ],
          "scatterpolargl": [
           {
            "marker": {
             "colorbar": {
              "outlinewidth": 0,
              "ticks": ""
             }
            },
            "type": "scatterpolargl"
           }
          ],
          "scatterternary": [
           {
            "marker": {
             "colorbar": {
              "outlinewidth": 0,
              "ticks": ""
             }
            },
            "type": "scatterternary"
           }
          ],
          "surface": [
           {
            "colorbar": {
             "outlinewidth": 0,
             "ticks": ""
            },
            "colorscale": [
             [
              0,
              "#0d0887"
             ],
             [
              0.1111111111111111,
              "#46039f"
             ],
             [
              0.2222222222222222,
              "#7201a8"
             ],
             [
              0.3333333333333333,
              "#9c179e"
             ],
             [
              0.4444444444444444,
              "#bd3786"
             ],
             [
              0.5555555555555556,
              "#d8576b"
             ],
             [
              0.6666666666666666,
              "#ed7953"
             ],
             [
              0.7777777777777778,
              "#fb9f3a"
             ],
             [
              0.8888888888888888,
              "#fdca26"
             ],
             [
              1,
              "#f0f921"
             ]
            ],
            "type": "surface"
           }
          ],
          "table": [
           {
            "cells": {
             "fill": {
              "color": "#506784"
             },
             "line": {
              "color": "rgb(17,17,17)"
             }
            },
            "header": {
             "fill": {
              "color": "#2a3f5f"
             },
             "line": {
              "color": "rgb(17,17,17)"
             }
            },
            "type": "table"
           }
          ]
         },
         "layout": {
          "annotationdefaults": {
           "arrowcolor": "#f2f5fa",
           "arrowhead": 0,
           "arrowwidth": 1
          },
          "autotypenumbers": "strict",
          "coloraxis": {
           "colorbar": {
            "outlinewidth": 0,
            "ticks": ""
           }
          },
          "colorscale": {
           "diverging": [
            [
             0,
             "#8e0152"
            ],
            [
             0.1,
             "#c51b7d"
            ],
            [
             0.2,
             "#de77ae"
            ],
            [
             0.3,
             "#f1b6da"
            ],
            [
             0.4,
             "#fde0ef"
            ],
            [
             0.5,
             "#f7f7f7"
            ],
            [
             0.6,
             "#e6f5d0"
            ],
            [
             0.7,
             "#b8e186"
            ],
            [
             0.8,
             "#7fbc41"
            ],
            [
             0.9,
             "#4d9221"
            ],
            [
             1,
             "#276419"
            ]
           ],
           "sequential": [
            [
             0,
             "#0d0887"
            ],
            [
             0.1111111111111111,
             "#46039f"
            ],
            [
             0.2222222222222222,
             "#7201a8"
            ],
            [
             0.3333333333333333,
             "#9c179e"
            ],
            [
             0.4444444444444444,
             "#bd3786"
            ],
            [
             0.5555555555555556,
             "#d8576b"
            ],
            [
             0.6666666666666666,
             "#ed7953"
            ],
            [
             0.7777777777777778,
             "#fb9f3a"
            ],
            [
             0.8888888888888888,
             "#fdca26"
            ],
            [
             1,
             "#f0f921"
            ]
           ],
           "sequentialminus": [
            [
             0,
             "#0d0887"
            ],
            [
             0.1111111111111111,
             "#46039f"
            ],
            [
             0.2222222222222222,
             "#7201a8"
            ],
            [
             0.3333333333333333,
             "#9c179e"
            ],
            [
             0.4444444444444444,
             "#bd3786"
            ],
            [
             0.5555555555555556,
             "#d8576b"
            ],
            [
             0.6666666666666666,
             "#ed7953"
            ],
            [
             0.7777777777777778,
             "#fb9f3a"
            ],
            [
             0.8888888888888888,
             "#fdca26"
            ],
            [
             1,
             "#f0f921"
            ]
           ]
          },
          "colorway": [
           "#636efa",
           "#EF553B",
           "#00cc96",
           "#ab63fa",
           "#FFA15A",
           "#19d3f3",
           "#FF6692",
           "#B6E880",
           "#FF97FF",
           "#FECB52"
          ],
          "font": {
           "color": "#f2f5fa"
          },
          "geo": {
           "bgcolor": "rgb(17,17,17)",
           "lakecolor": "rgb(17,17,17)",
           "landcolor": "rgb(17,17,17)",
           "showlakes": true,
           "showland": true,
           "subunitcolor": "#506784"
          },
          "hoverlabel": {
           "align": "left"
          },
          "hovermode": "closest",
          "mapbox": {
           "style": "dark"
          },
          "paper_bgcolor": "rgb(17,17,17)",
          "plot_bgcolor": "rgb(17,17,17)",
          "polar": {
           "angularaxis": {
            "gridcolor": "#506784",
            "linecolor": "#506784",
            "ticks": ""
           },
           "bgcolor": "rgb(17,17,17)",
           "radialaxis": {
            "gridcolor": "#506784",
            "linecolor": "#506784",
            "ticks": ""
           }
          },
          "scene": {
           "xaxis": {
            "backgroundcolor": "rgb(17,17,17)",
            "gridcolor": "#506784",
            "gridwidth": 2,
            "linecolor": "#506784",
            "showbackground": true,
            "ticks": "",
            "zerolinecolor": "#C8D4E3"
           },
           "yaxis": {
            "backgroundcolor": "rgb(17,17,17)",
            "gridcolor": "#506784",
            "gridwidth": 2,
            "linecolor": "#506784",
            "showbackground": true,
            "ticks": "",
            "zerolinecolor": "#C8D4E3"
           },
           "zaxis": {
            "backgroundcolor": "rgb(17,17,17)",
            "gridcolor": "#506784",
            "gridwidth": 2,
            "linecolor": "#506784",
            "showbackground": true,
            "ticks": "",
            "zerolinecolor": "#C8D4E3"
           }
          },
          "shapedefaults": {
           "line": {
            "color": "#f2f5fa"
           }
          },
          "sliderdefaults": {
           "bgcolor": "#C8D4E3",
           "bordercolor": "rgb(17,17,17)",
           "borderwidth": 1,
           "tickwidth": 0
          },
          "ternary": {
           "aaxis": {
            "gridcolor": "#506784",
            "linecolor": "#506784",
            "ticks": ""
           },
           "baxis": {
            "gridcolor": "#506784",
            "linecolor": "#506784",
            "ticks": ""
           },
           "bgcolor": "rgb(17,17,17)",
           "caxis": {
            "gridcolor": "#506784",
            "linecolor": "#506784",
            "ticks": ""
           }
          },
          "title": {
           "x": 0.05
          },
          "updatemenudefaults": {
           "bgcolor": "#506784",
           "borderwidth": 0
          },
          "xaxis": {
           "automargin": true,
           "gridcolor": "#283442",
           "linecolor": "#506784",
           "ticks": "",
           "title": {
            "standoff": 15
           },
           "zerolinecolor": "#283442",
           "zerolinewidth": 2
          },
          "yaxis": {
           "automargin": true,
           "gridcolor": "#283442",
           "linecolor": "#506784",
           "ticks": "",
           "title": {
            "standoff": 15
           },
           "zerolinecolor": "#283442",
           "zerolinewidth": 2
          }
         }
        },
        "title": {
         "text": "Reporting delay (difference between reporting and exposure time)"
        },
        "xaxis": {
         "anchor": "y",
         "domain": [
          0,
          1
         ],
         "title": {
          "text": "date_delay"
         }
        },
        "yaxis": {
         "anchor": "x",
         "domain": [
          0,
          1
         ],
         "title": {
          "text": "count"
         }
        }
       }
      },
      "text/html": [
       "<div>                            <div id=\"a8549a9a-1373-4e40-973f-b7c24fd4334e\" class=\"plotly-graph-div\" style=\"height:525px; width:100%;\"></div>            <script type=\"text/javascript\">                require([\"plotly\"], function(Plotly) {                    window.PLOTLYENV=window.PLOTLYENV || {};                                    if (document.getElementById(\"a8549a9a-1373-4e40-973f-b7c24fd4334e\")) {                    Plotly.newPlot(                        \"a8549a9a-1373-4e40-973f-b7c24fd4334e\",                        [{\"alignmentgroup\": \"True\", \"bingroup\": \"x\", \"hovertemplate\": \"date_delay=%{x}<br>count=%{y}<extra></extra>\", \"legendgroup\": \"\", \"marker\": {\"color\": \"#636efa\"}, \"name\": \"\", \"offsetgroup\": \"\", \"orientation\": \"v\", \"showlegend\": false, \"type\": \"histogram\", \"x\": [9, 4, 4, 4, 5, 4, 3, 2, 5, 5, 5, 4, 3, 2, 3, 6, 4, 4, 4, 9, 8, 8, 6, 10, 5, 5, 6, 5, 4, 4, 15, 15, 8, 7, 10, 12, 4, 4, 4, 5, 5, 6, 7, 7, 5, 8, 7, 8, 8, 7, 4, 6, 7, 8, 6, 6, 7, 8, 6, 8, 3, 3, 4, 7, 7, 4, 4, 4, 9, 8, 6, 13, 13, 4, 4, 4, 3, 6, 11, 8, 4, 3, 13, 12, 8, 5, 5, 5, 8, 8, 4, 8, 8, 8, 11, 8, 12, 5, 4, 6, 13, 12, 10, 9, 6, 5, 3, 2, 18, 17, 10, 5, 11, 5, 4, 7, 11, 5, 8, 4, 6, 4, 9, 5, 3, 3, 2, 2, 2, 1, 6, 3, 3, 3, 4, 5, 4, 4, 4, 5, 7, 7, 6, 7, 8, 6, 4, 9, 9, 9, 9, 9, 3, 9, 10, 10, 10, 10, 3, 4, 5, 5, 5, 6, 4, 3, 2, 6, 5, 3, 2, 1, 6, 6, 6, 5, 3, 4, 3, 4, 5, 3, 2, 2, 14, 4, 4, 4, 4, 2, 3, 3, 5, 5, 5, 5, 6, 3, 5, 7, 3, 3, 3, 3, 3, 4, 6, 3, 2, 5, 4, 5, 4, 13, 13, 13, 4, 2, 5, 3, 5, 6, 3, 4, 5, 4, 3, 4, 3, 5, 3, 2, 3, 5, 2, 3, 3, 4, 4, 8, 6, 5, 4, 3, 2, 1, 2, 3, 5, 3, 3, 4, 4, 3, 3, 3, 4, 4, 4, 6, 6, 4, 2, 2, 5, 4, 6, 5, 6, 6, 6, 5, 8, 5, 1, 1, 2, 3, 2, 7, 6, 4, 2, 3, 2, 1, 1, 4, 4, 4, 4, 4, 4, 3, 1, 1, 0, 0], \"xaxis\": \"x\", \"yaxis\": \"y\"}],                        {\"annotations\": [{\"showarrow\": false, \"text\": \"median\", \"x\": 5.0, \"xanchor\": \"left\", \"xref\": \"x\", \"y\": 1, \"yanchor\": \"top\", \"yref\": \"y domain\"}], \"barmode\": \"relative\", \"legend\": {\"tracegroupgap\": 0}, \"shapes\": [{\"type\": \"line\", \"x0\": 5.0, \"x1\": 5.0, \"xref\": \"x\", \"y0\": 0, \"y1\": 1, \"yref\": \"y domain\"}], \"template\": {\"data\": {\"bar\": [{\"error_x\": {\"color\": \"#f2f5fa\"}, \"error_y\": {\"color\": \"#f2f5fa\"}, \"marker\": {\"line\": {\"color\": \"rgb(17,17,17)\", \"width\": 0.5}}, \"type\": \"bar\"}], \"barpolar\": [{\"marker\": {\"line\": {\"color\": \"rgb(17,17,17)\", \"width\": 0.5}}, \"type\": \"barpolar\"}], \"carpet\": [{\"aaxis\": {\"endlinecolor\": \"#A2B1C6\", \"gridcolor\": \"#506784\", \"linecolor\": \"#506784\", \"minorgridcolor\": \"#506784\", \"startlinecolor\": \"#A2B1C6\"}, \"baxis\": {\"endlinecolor\": \"#A2B1C6\", \"gridcolor\": \"#506784\", \"linecolor\": \"#506784\", \"minorgridcolor\": \"#506784\", \"startlinecolor\": \"#A2B1C6\"}, \"type\": \"carpet\"}], \"choropleth\": [{\"colorbar\": {\"outlinewidth\": 0, \"ticks\": \"\"}, \"type\": \"choropleth\"}], \"contour\": [{\"colorbar\": {\"outlinewidth\": 0, \"ticks\": \"\"}, \"colorscale\": [[0.0, \"#0d0887\"], [0.1111111111111111, \"#46039f\"], [0.2222222222222222, \"#7201a8\"], [0.3333333333333333, \"#9c179e\"], [0.4444444444444444, \"#bd3786\"], [0.5555555555555556, \"#d8576b\"], [0.6666666666666666, \"#ed7953\"], [0.7777777777777778, \"#fb9f3a\"], [0.8888888888888888, \"#fdca26\"], [1.0, \"#f0f921\"]], \"type\": \"contour\"}], \"contourcarpet\": [{\"colorbar\": {\"outlinewidth\": 0, \"ticks\": \"\"}, \"type\": \"contourcarpet\"}], \"heatmap\": [{\"colorbar\": {\"outlinewidth\": 0, \"ticks\": \"\"}, \"colorscale\": [[0.0, \"#0d0887\"], [0.1111111111111111, \"#46039f\"], [0.2222222222222222, \"#7201a8\"], [0.3333333333333333, \"#9c179e\"], [0.4444444444444444, \"#bd3786\"], [0.5555555555555556, \"#d8576b\"], [0.6666666666666666, \"#ed7953\"], [0.7777777777777778, \"#fb9f3a\"], [0.8888888888888888, \"#fdca26\"], [1.0, \"#f0f921\"]], \"type\": \"heatmap\"}], \"heatmapgl\": [{\"colorbar\": {\"outlinewidth\": 0, \"ticks\": \"\"}, \"colorscale\": [[0.0, \"#0d0887\"], [0.1111111111111111, \"#46039f\"], [0.2222222222222222, \"#7201a8\"], [0.3333333333333333, \"#9c179e\"], [0.4444444444444444, \"#bd3786\"], [0.5555555555555556, \"#d8576b\"], [0.6666666666666666, \"#ed7953\"], [0.7777777777777778, \"#fb9f3a\"], [0.8888888888888888, \"#fdca26\"], [1.0, \"#f0f921\"]], \"type\": \"heatmapgl\"}], \"histogram\": [{\"marker\": {\"colorbar\": {\"outlinewidth\": 0, \"ticks\": \"\"}}, \"type\": \"histogram\"}], \"histogram2d\": [{\"colorbar\": {\"outlinewidth\": 0, \"ticks\": \"\"}, \"colorscale\": [[0.0, \"#0d0887\"], [0.1111111111111111, \"#46039f\"], [0.2222222222222222, \"#7201a8\"], [0.3333333333333333, \"#9c179e\"], [0.4444444444444444, \"#bd3786\"], [0.5555555555555556, \"#d8576b\"], [0.6666666666666666, \"#ed7953\"], [0.7777777777777778, \"#fb9f3a\"], [0.8888888888888888, \"#fdca26\"], [1.0, \"#f0f921\"]], \"type\": \"histogram2d\"}], \"histogram2dcontour\": [{\"colorbar\": {\"outlinewidth\": 0, \"ticks\": \"\"}, \"colorscale\": [[0.0, \"#0d0887\"], [0.1111111111111111, \"#46039f\"], [0.2222222222222222, \"#7201a8\"], [0.3333333333333333, \"#9c179e\"], [0.4444444444444444, \"#bd3786\"], [0.5555555555555556, \"#d8576b\"], [0.6666666666666666, \"#ed7953\"], [0.7777777777777778, \"#fb9f3a\"], [0.8888888888888888, \"#fdca26\"], [1.0, \"#f0f921\"]], \"type\": \"histogram2dcontour\"}], \"mesh3d\": [{\"colorbar\": {\"outlinewidth\": 0, \"ticks\": \"\"}, \"type\": \"mesh3d\"}], \"parcoords\": [{\"line\": {\"colorbar\": {\"outlinewidth\": 0, \"ticks\": \"\"}}, \"type\": \"parcoords\"}], \"pie\": [{\"automargin\": true, \"type\": \"pie\"}], \"scatter\": [{\"marker\": {\"line\": {\"color\": \"#283442\"}}, \"type\": \"scatter\"}], \"scatter3d\": [{\"line\": {\"colorbar\": {\"outlinewidth\": 0, \"ticks\": \"\"}}, \"marker\": {\"colorbar\": {\"outlinewidth\": 0, \"ticks\": \"\"}}, \"type\": \"scatter3d\"}], \"scattercarpet\": [{\"marker\": {\"colorbar\": {\"outlinewidth\": 0, \"ticks\": \"\"}}, \"type\": \"scattercarpet\"}], \"scattergeo\": [{\"marker\": {\"colorbar\": {\"outlinewidth\": 0, \"ticks\": \"\"}}, \"type\": \"scattergeo\"}], \"scattergl\": [{\"marker\": {\"line\": {\"color\": \"#283442\"}}, \"type\": \"scattergl\"}], \"scattermapbox\": [{\"marker\": {\"colorbar\": {\"outlinewidth\": 0, \"ticks\": \"\"}}, \"type\": \"scattermapbox\"}], \"scatterpolar\": [{\"marker\": {\"colorbar\": {\"outlinewidth\": 0, \"ticks\": \"\"}}, \"type\": \"scatterpolar\"}], \"scatterpolargl\": [{\"marker\": {\"colorbar\": {\"outlinewidth\": 0, \"ticks\": \"\"}}, \"type\": \"scatterpolargl\"}], \"scatterternary\": [{\"marker\": {\"colorbar\": {\"outlinewidth\": 0, \"ticks\": \"\"}}, \"type\": \"scatterternary\"}], \"surface\": [{\"colorbar\": {\"outlinewidth\": 0, \"ticks\": \"\"}, \"colorscale\": [[0.0, \"#0d0887\"], [0.1111111111111111, \"#46039f\"], [0.2222222222222222, \"#7201a8\"], [0.3333333333333333, \"#9c179e\"], [0.4444444444444444, \"#bd3786\"], [0.5555555555555556, \"#d8576b\"], [0.6666666666666666, \"#ed7953\"], [0.7777777777777778, \"#fb9f3a\"], [0.8888888888888888, \"#fdca26\"], [1.0, \"#f0f921\"]], \"type\": \"surface\"}], \"table\": [{\"cells\": {\"fill\": {\"color\": \"#506784\"}, \"line\": {\"color\": \"rgb(17,17,17)\"}}, \"header\": {\"fill\": {\"color\": \"#2a3f5f\"}, \"line\": {\"color\": \"rgb(17,17,17)\"}}, \"type\": \"table\"}]}, \"layout\": {\"annotationdefaults\": {\"arrowcolor\": \"#f2f5fa\", \"arrowhead\": 0, \"arrowwidth\": 1}, \"autotypenumbers\": \"strict\", \"coloraxis\": {\"colorbar\": {\"outlinewidth\": 0, \"ticks\": \"\"}}, \"colorscale\": {\"diverging\": [[0, \"#8e0152\"], [0.1, \"#c51b7d\"], [0.2, \"#de77ae\"], [0.3, \"#f1b6da\"], [0.4, \"#fde0ef\"], [0.5, \"#f7f7f7\"], [0.6, \"#e6f5d0\"], [0.7, \"#b8e186\"], [0.8, \"#7fbc41\"], [0.9, \"#4d9221\"], [1, \"#276419\"]], \"sequential\": [[0.0, \"#0d0887\"], [0.1111111111111111, \"#46039f\"], [0.2222222222222222, \"#7201a8\"], [0.3333333333333333, \"#9c179e\"], [0.4444444444444444, \"#bd3786\"], [0.5555555555555556, \"#d8576b\"], [0.6666666666666666, \"#ed7953\"], [0.7777777777777778, \"#fb9f3a\"], [0.8888888888888888, \"#fdca26\"], [1.0, \"#f0f921\"]], \"sequentialminus\": [[0.0, \"#0d0887\"], [0.1111111111111111, \"#46039f\"], [0.2222222222222222, \"#7201a8\"], [0.3333333333333333, \"#9c179e\"], [0.4444444444444444, \"#bd3786\"], [0.5555555555555556, \"#d8576b\"], [0.6666666666666666, \"#ed7953\"], [0.7777777777777778, \"#fb9f3a\"], [0.8888888888888888, \"#fdca26\"], [1.0, \"#f0f921\"]]}, \"colorway\": [\"#636efa\", \"#EF553B\", \"#00cc96\", \"#ab63fa\", \"#FFA15A\", \"#19d3f3\", \"#FF6692\", \"#B6E880\", \"#FF97FF\", \"#FECB52\"], \"font\": {\"color\": \"#f2f5fa\"}, \"geo\": {\"bgcolor\": \"rgb(17,17,17)\", \"lakecolor\": \"rgb(17,17,17)\", \"landcolor\": \"rgb(17,17,17)\", \"showlakes\": true, \"showland\": true, \"subunitcolor\": \"#506784\"}, \"hoverlabel\": {\"align\": \"left\"}, \"hovermode\": \"closest\", \"mapbox\": {\"style\": \"dark\"}, \"paper_bgcolor\": \"rgb(17,17,17)\", \"plot_bgcolor\": \"rgb(17,17,17)\", \"polar\": {\"angularaxis\": {\"gridcolor\": \"#506784\", \"linecolor\": \"#506784\", \"ticks\": \"\"}, \"bgcolor\": \"rgb(17,17,17)\", \"radialaxis\": {\"gridcolor\": \"#506784\", \"linecolor\": \"#506784\", \"ticks\": \"\"}}, \"scene\": {\"xaxis\": {\"backgroundcolor\": \"rgb(17,17,17)\", \"gridcolor\": \"#506784\", \"gridwidth\": 2, \"linecolor\": \"#506784\", \"showbackground\": true, \"ticks\": \"\", \"zerolinecolor\": \"#C8D4E3\"}, \"yaxis\": {\"backgroundcolor\": \"rgb(17,17,17)\", \"gridcolor\": \"#506784\", \"gridwidth\": 2, \"linecolor\": \"#506784\", \"showbackground\": true, \"ticks\": \"\", \"zerolinecolor\": \"#C8D4E3\"}, \"zaxis\": {\"backgroundcolor\": \"rgb(17,17,17)\", \"gridcolor\": \"#506784\", \"gridwidth\": 2, \"linecolor\": \"#506784\", \"showbackground\": true, \"ticks\": \"\", \"zerolinecolor\": \"#C8D4E3\"}}, \"shapedefaults\": {\"line\": {\"color\": \"#f2f5fa\"}}, \"sliderdefaults\": {\"bgcolor\": \"#C8D4E3\", \"bordercolor\": \"rgb(17,17,17)\", \"borderwidth\": 1, \"tickwidth\": 0}, \"ternary\": {\"aaxis\": {\"gridcolor\": \"#506784\", \"linecolor\": \"#506784\", \"ticks\": \"\"}, \"baxis\": {\"gridcolor\": \"#506784\", \"linecolor\": \"#506784\", \"ticks\": \"\"}, \"bgcolor\": \"rgb(17,17,17)\", \"caxis\": {\"gridcolor\": \"#506784\", \"linecolor\": \"#506784\", \"ticks\": \"\"}}, \"title\": {\"x\": 0.05}, \"updatemenudefaults\": {\"bgcolor\": \"#506784\", \"borderwidth\": 0}, \"xaxis\": {\"automargin\": true, \"gridcolor\": \"#283442\", \"linecolor\": \"#506784\", \"ticks\": \"\", \"title\": {\"standoff\": 15}, \"zerolinecolor\": \"#283442\", \"zerolinewidth\": 2}, \"yaxis\": {\"automargin\": true, \"gridcolor\": \"#283442\", \"linecolor\": \"#506784\", \"ticks\": \"\", \"title\": {\"standoff\": 15}, \"zerolinecolor\": \"#283442\", \"zerolinewidth\": 2}}}, \"title\": {\"text\": \"Reporting delay (difference between reporting and exposure time)\"}, \"xaxis\": {\"anchor\": \"y\", \"domain\": [0.0, 1.0], \"title\": {\"text\": \"date_delay\"}}, \"yaxis\": {\"anchor\": \"x\", \"domain\": [0.0, 1.0], \"title\": {\"text\": \"count\"}}},                        {\"responsive\": true}                    ).then(function(){\n",
       "                            \n",
       "var gd = document.getElementById('a8549a9a-1373-4e40-973f-b7c24fd4334e');\n",
       "var x = new MutationObserver(function (mutations, observer) {{\n",
       "        var display = window.getComputedStyle(gd).display;\n",
       "        if (!display || display === 'none') {{\n",
       "            console.log([gd, 'removed!']);\n",
       "            Plotly.purge(gd);\n",
       "            observer.disconnect();\n",
       "        }}\n",
       "}});\n",
       "\n",
       "// Listen for the removal of the full notebook cells\n",
       "var notebookContainer = gd.closest('#notebook-container');\n",
       "if (notebookContainer) {{\n",
       "    x.observe(notebookContainer, {childList: true});\n",
       "}}\n",
       "\n",
       "// Listen for the clearing of the current output cell\n",
       "var outputEl = gd.closest('.output');\n",
       "if (outputEl) {{\n",
       "    x.observe(outputEl, {childList: true});\n",
       "}}\n",
       "\n",
       "                        })                };                });            </script>        </div>"
      ]
     },
     "metadata": {},
     "output_type": "display_data"
    }
   ],
   "source": [
    "fig_delay = px.histogram(elements, x='date_delay', template='plotly_dark', title='Reporting delay (difference between reporting and exposure time)')\n",
    "fig_delay.add_vline(x = elements.date_delay.describe()['50%'], annotation_text='median')\n"
   ]
  },
  {
   "cell_type": "code",
   "execution_count": 157,
   "metadata": {},
   "outputs": [
    {
     "data": {
      "application/vnd.plotly.v1+json": {
       "config": {
        "plotlyServerURL": "https://plot.ly"
       },
       "data": [
        {
         "alignmentgroup": "True",
         "bingroup": "x",
         "hovertemplate": "tier=1<br>date_exposure=%{x}<br>count=%{y}<extra></extra>",
         "legendgroup": "1",
         "marker": {
          "color": "rgb(228,26,28)"
         },
         "name": "1",
         "offsetgroup": "1",
         "orientation": "v",
         "showlegend": true,
         "type": "histogram",
         "x": [
          "2021-05-19T00:00:00",
          "2021-05-21T00:00:00",
          "2021-05-26T00:00:00",
          "2021-05-21T00:00:00",
          "2021-05-25T00:00:00",
          "2021-05-23T00:00:00",
          "2021-05-22T00:00:00",
          "2021-05-21T00:00:00",
          "2021-05-22T00:00:00",
          "2021-05-23T00:00:00",
          "2021-05-20T00:00:00",
          "2021-05-26T00:00:00",
          "2021-05-21T00:00:00",
          "2021-05-23T00:00:00",
          "2021-05-22T00:00:00",
          "2021-05-23T00:00:00",
          "2021-05-23T00:00:00",
          "2021-05-22T00:00:00",
          "2021-05-21T00:00:00",
          "2021-05-25T00:00:00",
          "2021-05-23T00:00:00",
          "2021-05-19T00:00:00",
          "2021-05-24T00:00:00",
          "2021-05-19T00:00:00",
          "2021-05-22T00:00:00",
          "2021-05-21T00:00:00",
          "2021-05-20T00:00:00",
          "2021-05-18T00:00:00",
          "2021-05-21T00:00:00",
          "2021-05-17T00:00:00",
          "2021-05-18T00:00:00",
          "2021-05-20T00:00:00",
          "2021-05-21T00:00:00",
          "2021-05-24T00:00:00",
          "2021-05-25T00:00:00",
          "2021-05-27T00:00:00",
          "2021-05-28T00:00:00",
          "2021-05-12T00:00:00",
          "2021-05-13T00:00:00",
          "2021-05-20T00:00:00",
          "2021-05-21T00:00:00",
          "2021-05-23T00:00:00",
          "2021-05-23T00:00:00",
          "2021-05-25T00:00:00",
          "2021-05-23T00:00:00",
          "2021-05-23T00:00:00",
          "2021-05-19T00:00:00",
          "2021-05-22T00:00:00",
          "2021-05-23T00:00:00",
          "2021-05-25T00:00:00",
          "2021-05-24T00:00:00",
          "2021-05-25T00:00:00",
          "2021-05-24T00:00:00",
          "2021-05-23T00:00:00",
          "2021-05-24T00:00:00",
          "2021-05-25T00:00:00",
          "2021-05-25T00:00:00",
          "2021-05-24T00:00:00",
          "2021-05-23T00:00:00",
          "2021-05-23T00:00:00",
          "2021-05-23T00:00:00",
          "2021-05-24T00:00:00",
          "2021-05-20T00:00:00",
          "2021-05-22T00:00:00",
          "2021-05-22T00:00:00",
          "2021-05-22T00:00:00",
          "2021-05-22T00:00:00",
          "2021-05-19T00:00:00",
          "2021-05-21T00:00:00",
          "2021-05-26T00:00:00",
          "2021-05-19T00:00:00",
          "2021-05-25T00:00:00",
          "2021-05-19T00:00:00",
          "2021-05-18T00:00:00",
          "2021-05-18T00:00:00",
          "2021-05-18T00:00:00",
          "2021-05-18T00:00:00",
          "2021-05-25T00:00:00",
          "2021-05-24T00:00:00",
          "2021-05-22T00:00:00",
          "2021-05-25T00:00:00",
          "2021-05-24T00:00:00",
          "2021-05-22T00:00:00",
          "2021-05-24T00:00:00",
          "2021-05-25T00:00:00",
          "2021-05-26T00:00:00",
          "2021-05-22T00:00:00",
          "2021-05-23T00:00:00",
          "2021-05-25T00:00:00",
          "2021-05-27T00:00:00",
          "2021-05-22T00:00:00",
          "2021-05-24T00:00:00",
          "2021-05-26T00:00:00",
          "2021-05-24T00:00:00",
          "2021-05-29T00:00:00",
          "2021-05-26T00:00:00",
          "2021-05-28T00:00:00",
          "2021-05-27T00:00:00",
          "2021-05-26T00:00:00",
          "2021-05-21T00:00:00",
          "2021-05-26T00:00:00",
          "2021-05-22T00:00:00",
          "2021-05-21T00:00:00",
          "2021-05-24T00:00:00",
          "2021-05-24T00:00:00",
          "2021-05-22T00:00:00",
          "2021-05-20T00:00:00",
          "2021-05-29T00:00:00",
          "2021-05-25T00:00:00",
          "2021-05-27T00:00:00",
          "2021-05-27T00:00:00",
          "2021-05-24T00:00:00",
          "2021-05-22T00:00:00",
          "2021-05-21T00:00:00",
          "2021-05-22T00:00:00",
          "2021-05-26T00:00:00",
          "2021-05-18T00:00:00",
          "2021-05-17T00:00:00",
          "2021-05-20T00:00:00",
          "2021-05-20T00:00:00",
          "2021-05-20T00:00:00",
          "2021-05-20T00:00:00",
          "2021-05-20T00:00:00",
          "2021-05-19T00:00:00",
          "2021-05-27T00:00:00",
          "2021-05-25T00:00:00",
          "2021-05-26T00:00:00",
          "2021-05-22T00:00:00",
          "2021-05-20T00:00:00",
          "2021-05-27T00:00:00",
          "2021-05-27T00:00:00",
          "2021-05-23T00:00:00",
          "2021-05-22T00:00:00",
          "2021-05-22T00:00:00",
          "2021-05-22T00:00:00",
          "2021-05-28T00:00:00",
          "2021-05-26T00:00:00",
          "2021-05-23T00:00:00",
          "2021-05-22T00:00:00",
          "2021-05-25T00:00:00",
          "2021-05-25T00:00:00",
          "2021-05-25T00:00:00",
          "2021-05-24T00:00:00",
          "2021-05-25T00:00:00",
          "2021-05-28T00:00:00",
          "2021-05-27T00:00:00",
          "2021-05-23T00:00:00",
          "2021-05-26T00:00:00",
          "2021-05-28T00:00:00",
          "2021-05-27T00:00:00",
          "2021-05-26T00:00:00",
          "2021-05-26T00:00:00",
          "2021-05-26T00:00:00",
          "2021-05-26T00:00:00",
          "2021-05-23T00:00:00",
          "2021-05-26T00:00:00",
          "2021-05-22T00:00:00",
          "2021-05-24T00:00:00",
          "2021-05-17T00:00:00",
          "2021-05-17T00:00:00",
          "2021-05-25T00:00:00"
         ],
         "xaxis": "x",
         "yaxis": "y"
        },
        {
         "alignmentgroup": "True",
         "bingroup": "x",
         "hovertemplate": "tier=2<br>date_exposure=%{x}<br>count=%{y}<extra></extra>",
         "legendgroup": "2",
         "marker": {
          "color": "rgb(55,126,184)"
         },
         "name": "2",
         "offsetgroup": "2",
         "orientation": "v",
         "showlegend": true,
         "type": "histogram",
         "x": [
          "2021-05-23T00:00:00",
          "2021-05-24T00:00:00",
          "2021-05-24T00:00:00",
          "2021-05-20T00:00:00",
          "2021-05-24T00:00:00",
          "2021-05-23T00:00:00",
          "2021-05-19T00:00:00",
          "2021-05-23T00:00:00",
          "2021-05-22T00:00:00",
          "2021-05-21T00:00:00",
          "2021-05-23T00:00:00",
          "2021-05-23T00:00:00",
          "2021-05-24T00:00:00",
          "2021-05-22T00:00:00",
          "2021-05-22T00:00:00",
          "2021-05-23T00:00:00",
          "2021-05-22T00:00:00",
          "2021-05-25T00:00:00",
          "2021-05-23T00:00:00",
          "2021-05-14T00:00:00",
          "2021-05-14T00:00:00",
          "2021-05-14T00:00:00",
          "2021-05-19T00:00:00",
          "2021-05-20T00:00:00",
          "2021-05-22T00:00:00",
          "2021-05-19T00:00:00",
          "2021-05-19T00:00:00",
          "2021-05-20T00:00:00",
          "2021-05-17T00:00:00",
          "2021-05-23T00:00:00",
          "2021-05-23T00:00:00",
          "2021-05-22T00:00:00",
          "2021-05-21T00:00:00",
          "2021-05-22T00:00:00",
          "2021-05-20T00:00:00",
          "2021-05-23T00:00:00",
          "2021-05-22T00:00:00",
          "2021-05-23T00:00:00",
          "2021-05-22T00:00:00",
          "2021-05-22T00:00:00",
          "2021-05-22T00:00:00",
          "2021-05-23T00:00:00",
          "2021-05-24T00:00:00",
          "2021-05-23T00:00:00",
          "2021-05-22T00:00:00",
          "2021-05-24T00:00:00",
          "2021-05-24T00:00:00",
          "2021-05-23T00:00:00",
          "2021-05-23T00:00:00",
          "2021-05-22T00:00:00",
          "2021-05-22T00:00:00",
          "2021-05-23T00:00:00",
          "2021-05-23T00:00:00",
          "2021-05-21T00:00:00",
          "2021-05-26T00:00:00",
          "2021-05-24T00:00:00",
          "2021-05-19T00:00:00",
          "2021-05-26T00:00:00",
          "2021-05-27T00:00:00",
          "2021-05-24T00:00:00",
          "2021-05-22T00:00:00",
          "2021-05-23T00:00:00",
          "2021-05-23T00:00:00",
          "2021-05-28T00:00:00",
          "2021-05-26T00:00:00",
          "2021-05-22T00:00:00",
          "2021-05-23T00:00:00",
          "2021-05-23T00:00:00",
          "2021-05-25T00:00:00",
          "2021-05-21T00:00:00",
          "2021-05-26T00:00:00",
          "2021-05-26T00:00:00",
          "2021-05-15T00:00:00",
          "2021-05-15T00:00:00",
          "2021-05-22T00:00:00",
          "2021-05-23T00:00:00",
          "2021-05-20T00:00:00",
          "2021-05-18T00:00:00",
          "2021-05-26T00:00:00",
          "2021-05-26T00:00:00",
          "2021-05-26T00:00:00",
          "2021-05-25T00:00:00",
          "2021-05-25T00:00:00",
          "2021-05-24T00:00:00",
          "2021-05-22T00:00:00",
          "2021-05-18T00:00:00",
          "2021-05-17T00:00:00",
          "2021-05-22T00:00:00",
          "2021-05-26T00:00:00",
          "2021-05-25T00:00:00",
          "2021-05-24T00:00:00",
          "2021-05-25T00:00:00",
          "2021-05-25T00:00:00",
          "2021-05-24T00:00:00",
          "2021-05-22T00:00:00",
          "2021-05-22T00:00:00",
          "2021-05-26T00:00:00",
          "2021-05-23T00:00:00",
          "2021-05-23T00:00:00",
          "2021-05-23T00:00:00",
          "2021-05-23T00:00:00",
          "2021-05-22T00:00:00",
          "2021-05-23T00:00:00",
          "2021-05-25T00:00:00",
          "2021-05-24T00:00:00",
          "2021-05-24T00:00:00",
          "2021-05-22T00:00:00",
          "2021-05-28T00:00:00",
          "2021-05-23T00:00:00",
          "2021-05-18T00:00:00",
          "2021-05-22T00:00:00",
          "2021-05-18T00:00:00",
          "2021-05-25T00:00:00",
          "2021-05-26T00:00:00",
          "2021-05-24T00:00:00",
          "2021-05-27T00:00:00",
          "2021-05-25T00:00:00",
          "2021-05-19T00:00:00",
          "2021-05-19T00:00:00",
          "2021-05-25T00:00:00",
          "2021-05-26T00:00:00",
          "2021-05-22T00:00:00",
          "2021-05-26T00:00:00",
          "2021-05-24T00:00:00",
          "2021-05-26T00:00:00",
          "2021-05-26T00:00:00",
          "2021-05-22T00:00:00",
          "2021-05-22T00:00:00"
         ],
         "xaxis": "x",
         "yaxis": "y"
        },
        {
         "alignmentgroup": "True",
         "bingroup": "x",
         "hovertemplate": "tier=3<br>date_exposure=%{x}<br>count=%{y}<extra></extra>",
         "legendgroup": "3",
         "marker": {
          "color": "rgb(77,175,74)"
         },
         "name": "3",
         "offsetgroup": "3",
         "orientation": "v",
         "showlegend": true,
         "type": "histogram",
         "x": [
          "2021-05-23T00:00:00",
          "2021-05-28T00:00:00",
          "2021-05-27T00:00:00",
          "2021-05-13T00:00:00",
          "2021-05-25T00:00:00",
          "2021-05-22T00:00:00",
          "2021-05-27T00:00:00",
          "2021-05-23T00:00:00",
          "2021-05-23T00:00:00"
         ],
         "xaxis": "x",
         "yaxis": "y"
        }
       ],
       "layout": {
        "annotations": [
         {
          "ax": 10,
          "ay": 20,
          "text": "lockdown",
          "x": "2021-05-27",
          "xanchor": "left",
          "y": 40
         }
        ],
        "bargap": 0.2,
        "barmode": "relative",
        "legend": {
         "title": {
          "text": "tier"
         },
         "tracegroupgap": 0
        },
        "shapes": [
         {
          "type": "line",
          "x0": "2021-05-27",
          "x1": "2021-05-27",
          "xref": "x",
          "y0": 0,
          "y1": 1,
          "yref": "y domain"
         }
        ],
        "template": {
         "data": {
          "bar": [
           {
            "error_x": {
             "color": "#f2f5fa"
            },
            "error_y": {
             "color": "#f2f5fa"
            },
            "marker": {
             "line": {
              "color": "rgb(17,17,17)",
              "width": 0.5
             }
            },
            "type": "bar"
           }
          ],
          "barpolar": [
           {
            "marker": {
             "line": {
              "color": "rgb(17,17,17)",
              "width": 0.5
             }
            },
            "type": "barpolar"
           }
          ],
          "carpet": [
           {
            "aaxis": {
             "endlinecolor": "#A2B1C6",
             "gridcolor": "#506784",
             "linecolor": "#506784",
             "minorgridcolor": "#506784",
             "startlinecolor": "#A2B1C6"
            },
            "baxis": {
             "endlinecolor": "#A2B1C6",
             "gridcolor": "#506784",
             "linecolor": "#506784",
             "minorgridcolor": "#506784",
             "startlinecolor": "#A2B1C6"
            },
            "type": "carpet"
           }
          ],
          "choropleth": [
           {
            "colorbar": {
             "outlinewidth": 0,
             "ticks": ""
            },
            "type": "choropleth"
           }
          ],
          "contour": [
           {
            "colorbar": {
             "outlinewidth": 0,
             "ticks": ""
            },
            "colorscale": [
             [
              0,
              "#0d0887"
             ],
             [
              0.1111111111111111,
              "#46039f"
             ],
             [
              0.2222222222222222,
              "#7201a8"
             ],
             [
              0.3333333333333333,
              "#9c179e"
             ],
             [
              0.4444444444444444,
              "#bd3786"
             ],
             [
              0.5555555555555556,
              "#d8576b"
             ],
             [
              0.6666666666666666,
              "#ed7953"
             ],
             [
              0.7777777777777778,
              "#fb9f3a"
             ],
             [
              0.8888888888888888,
              "#fdca26"
             ],
             [
              1,
              "#f0f921"
             ]
            ],
            "type": "contour"
           }
          ],
          "contourcarpet": [
           {
            "colorbar": {
             "outlinewidth": 0,
             "ticks": ""
            },
            "type": "contourcarpet"
           }
          ],
          "heatmap": [
           {
            "colorbar": {
             "outlinewidth": 0,
             "ticks": ""
            },
            "colorscale": [
             [
              0,
              "#0d0887"
             ],
             [
              0.1111111111111111,
              "#46039f"
             ],
             [
              0.2222222222222222,
              "#7201a8"
             ],
             [
              0.3333333333333333,
              "#9c179e"
             ],
             [
              0.4444444444444444,
              "#bd3786"
             ],
             [
              0.5555555555555556,
              "#d8576b"
             ],
             [
              0.6666666666666666,
              "#ed7953"
             ],
             [
              0.7777777777777778,
              "#fb9f3a"
             ],
             [
              0.8888888888888888,
              "#fdca26"
             ],
             [
              1,
              "#f0f921"
             ]
            ],
            "type": "heatmap"
           }
          ],
          "heatmapgl": [
           {
            "colorbar": {
             "outlinewidth": 0,
             "ticks": ""
            },
            "colorscale": [
             [
              0,
              "#0d0887"
             ],
             [
              0.1111111111111111,
              "#46039f"
             ],
             [
              0.2222222222222222,
              "#7201a8"
             ],
             [
              0.3333333333333333,
              "#9c179e"
             ],
             [
              0.4444444444444444,
              "#bd3786"
             ],
             [
              0.5555555555555556,
              "#d8576b"
             ],
             [
              0.6666666666666666,
              "#ed7953"
             ],
             [
              0.7777777777777778,
              "#fb9f3a"
             ],
             [
              0.8888888888888888,
              "#fdca26"
             ],
             [
              1,
              "#f0f921"
             ]
            ],
            "type": "heatmapgl"
           }
          ],
          "histogram": [
           {
            "marker": {
             "colorbar": {
              "outlinewidth": 0,
              "ticks": ""
             }
            },
            "type": "histogram"
           }
          ],
          "histogram2d": [
           {
            "colorbar": {
             "outlinewidth": 0,
             "ticks": ""
            },
            "colorscale": [
             [
              0,
              "#0d0887"
             ],
             [
              0.1111111111111111,
              "#46039f"
             ],
             [
              0.2222222222222222,
              "#7201a8"
             ],
             [
              0.3333333333333333,
              "#9c179e"
             ],
             [
              0.4444444444444444,
              "#bd3786"
             ],
             [
              0.5555555555555556,
              "#d8576b"
             ],
             [
              0.6666666666666666,
              "#ed7953"
             ],
             [
              0.7777777777777778,
              "#fb9f3a"
             ],
             [
              0.8888888888888888,
              "#fdca26"
             ],
             [
              1,
              "#f0f921"
             ]
            ],
            "type": "histogram2d"
           }
          ],
          "histogram2dcontour": [
           {
            "colorbar": {
             "outlinewidth": 0,
             "ticks": ""
            },
            "colorscale": [
             [
              0,
              "#0d0887"
             ],
             [
              0.1111111111111111,
              "#46039f"
             ],
             [
              0.2222222222222222,
              "#7201a8"
             ],
             [
              0.3333333333333333,
              "#9c179e"
             ],
             [
              0.4444444444444444,
              "#bd3786"
             ],
             [
              0.5555555555555556,
              "#d8576b"
             ],
             [
              0.6666666666666666,
              "#ed7953"
             ],
             [
              0.7777777777777778,
              "#fb9f3a"
             ],
             [
              0.8888888888888888,
              "#fdca26"
             ],
             [
              1,
              "#f0f921"
             ]
            ],
            "type": "histogram2dcontour"
           }
          ],
          "mesh3d": [
           {
            "colorbar": {
             "outlinewidth": 0,
             "ticks": ""
            },
            "type": "mesh3d"
           }
          ],
          "parcoords": [
           {
            "line": {
             "colorbar": {
              "outlinewidth": 0,
              "ticks": ""
             }
            },
            "type": "parcoords"
           }
          ],
          "pie": [
           {
            "automargin": true,
            "type": "pie"
           }
          ],
          "scatter": [
           {
            "marker": {
             "line": {
              "color": "#283442"
             }
            },
            "type": "scatter"
           }
          ],
          "scatter3d": [
           {
            "line": {
             "colorbar": {
              "outlinewidth": 0,
              "ticks": ""
             }
            },
            "marker": {
             "colorbar": {
              "outlinewidth": 0,
              "ticks": ""
             }
            },
            "type": "scatter3d"
           }
          ],
          "scattercarpet": [
           {
            "marker": {
             "colorbar": {
              "outlinewidth": 0,
              "ticks": ""
             }
            },
            "type": "scattercarpet"
           }
          ],
          "scattergeo": [
           {
            "marker": {
             "colorbar": {
              "outlinewidth": 0,
              "ticks": ""
             }
            },
            "type": "scattergeo"
           }
          ],
          "scattergl": [
           {
            "marker": {
             "line": {
              "color": "#283442"
             }
            },
            "type": "scattergl"
           }
          ],
          "scattermapbox": [
           {
            "marker": {
             "colorbar": {
              "outlinewidth": 0,
              "ticks": ""
             }
            },
            "type": "scattermapbox"
           }
          ],
          "scatterpolar": [
           {
            "marker": {
             "colorbar": {
              "outlinewidth": 0,
              "ticks": ""
             }
            },
            "type": "scatterpolar"
           }
          ],
          "scatterpolargl": [
           {
            "marker": {
             "colorbar": {
              "outlinewidth": 0,
              "ticks": ""
             }
            },
            "type": "scatterpolargl"
           }
          ],
          "scatterternary": [
           {
            "marker": {
             "colorbar": {
              "outlinewidth": 0,
              "ticks": ""
             }
            },
            "type": "scatterternary"
           }
          ],
          "surface": [
           {
            "colorbar": {
             "outlinewidth": 0,
             "ticks": ""
            },
            "colorscale": [
             [
              0,
              "#0d0887"
             ],
             [
              0.1111111111111111,
              "#46039f"
             ],
             [
              0.2222222222222222,
              "#7201a8"
             ],
             [
              0.3333333333333333,
              "#9c179e"
             ],
             [
              0.4444444444444444,
              "#bd3786"
             ],
             [
              0.5555555555555556,
              "#d8576b"
             ],
             [
              0.6666666666666666,
              "#ed7953"
             ],
             [
              0.7777777777777778,
              "#fb9f3a"
             ],
             [
              0.8888888888888888,
              "#fdca26"
             ],
             [
              1,
              "#f0f921"
             ]
            ],
            "type": "surface"
           }
          ],
          "table": [
           {
            "cells": {
             "fill": {
              "color": "#506784"
             },
             "line": {
              "color": "rgb(17,17,17)"
             }
            },
            "header": {
             "fill": {
              "color": "#2a3f5f"
             },
             "line": {
              "color": "rgb(17,17,17)"
             }
            },
            "type": "table"
           }
          ]
         },
         "layout": {
          "annotationdefaults": {
           "arrowcolor": "#f2f5fa",
           "arrowhead": 0,
           "arrowwidth": 1
          },
          "autotypenumbers": "strict",
          "coloraxis": {
           "colorbar": {
            "outlinewidth": 0,
            "ticks": ""
           }
          },
          "colorscale": {
           "diverging": [
            [
             0,
             "#8e0152"
            ],
            [
             0.1,
             "#c51b7d"
            ],
            [
             0.2,
             "#de77ae"
            ],
            [
             0.3,
             "#f1b6da"
            ],
            [
             0.4,
             "#fde0ef"
            ],
            [
             0.5,
             "#f7f7f7"
            ],
            [
             0.6,
             "#e6f5d0"
            ],
            [
             0.7,
             "#b8e186"
            ],
            [
             0.8,
             "#7fbc41"
            ],
            [
             0.9,
             "#4d9221"
            ],
            [
             1,
             "#276419"
            ]
           ],
           "sequential": [
            [
             0,
             "#0d0887"
            ],
            [
             0.1111111111111111,
             "#46039f"
            ],
            [
             0.2222222222222222,
             "#7201a8"
            ],
            [
             0.3333333333333333,
             "#9c179e"
            ],
            [
             0.4444444444444444,
             "#bd3786"
            ],
            [
             0.5555555555555556,
             "#d8576b"
            ],
            [
             0.6666666666666666,
             "#ed7953"
            ],
            [
             0.7777777777777778,
             "#fb9f3a"
            ],
            [
             0.8888888888888888,
             "#fdca26"
            ],
            [
             1,
             "#f0f921"
            ]
           ],
           "sequentialminus": [
            [
             0,
             "#0d0887"
            ],
            [
             0.1111111111111111,
             "#46039f"
            ],
            [
             0.2222222222222222,
             "#7201a8"
            ],
            [
             0.3333333333333333,
             "#9c179e"
            ],
            [
             0.4444444444444444,
             "#bd3786"
            ],
            [
             0.5555555555555556,
             "#d8576b"
            ],
            [
             0.6666666666666666,
             "#ed7953"
            ],
            [
             0.7777777777777778,
             "#fb9f3a"
            ],
            [
             0.8888888888888888,
             "#fdca26"
            ],
            [
             1,
             "#f0f921"
            ]
           ]
          },
          "colorway": [
           "#636efa",
           "#EF553B",
           "#00cc96",
           "#ab63fa",
           "#FFA15A",
           "#19d3f3",
           "#FF6692",
           "#B6E880",
           "#FF97FF",
           "#FECB52"
          ],
          "font": {
           "color": "#f2f5fa"
          },
          "geo": {
           "bgcolor": "rgb(17,17,17)",
           "lakecolor": "rgb(17,17,17)",
           "landcolor": "rgb(17,17,17)",
           "showlakes": true,
           "showland": true,
           "subunitcolor": "#506784"
          },
          "hoverlabel": {
           "align": "left"
          },
          "hovermode": "closest",
          "mapbox": {
           "style": "dark"
          },
          "paper_bgcolor": "rgb(17,17,17)",
          "plot_bgcolor": "rgb(17,17,17)",
          "polar": {
           "angularaxis": {
            "gridcolor": "#506784",
            "linecolor": "#506784",
            "ticks": ""
           },
           "bgcolor": "rgb(17,17,17)",
           "radialaxis": {
            "gridcolor": "#506784",
            "linecolor": "#506784",
            "ticks": ""
           }
          },
          "scene": {
           "xaxis": {
            "backgroundcolor": "rgb(17,17,17)",
            "gridcolor": "#506784",
            "gridwidth": 2,
            "linecolor": "#506784",
            "showbackground": true,
            "ticks": "",
            "zerolinecolor": "#C8D4E3"
           },
           "yaxis": {
            "backgroundcolor": "rgb(17,17,17)",
            "gridcolor": "#506784",
            "gridwidth": 2,
            "linecolor": "#506784",
            "showbackground": true,
            "ticks": "",
            "zerolinecolor": "#C8D4E3"
           },
           "zaxis": {
            "backgroundcolor": "rgb(17,17,17)",
            "gridcolor": "#506784",
            "gridwidth": 2,
            "linecolor": "#506784",
            "showbackground": true,
            "ticks": "",
            "zerolinecolor": "#C8D4E3"
           }
          },
          "shapedefaults": {
           "line": {
            "color": "#f2f5fa"
           }
          },
          "sliderdefaults": {
           "bgcolor": "#C8D4E3",
           "bordercolor": "rgb(17,17,17)",
           "borderwidth": 1,
           "tickwidth": 0
          },
          "ternary": {
           "aaxis": {
            "gridcolor": "#506784",
            "linecolor": "#506784",
            "ticks": ""
           },
           "baxis": {
            "gridcolor": "#506784",
            "linecolor": "#506784",
            "ticks": ""
           },
           "bgcolor": "rgb(17,17,17)",
           "caxis": {
            "gridcolor": "#506784",
            "linecolor": "#506784",
            "ticks": ""
           }
          },
          "title": {
           "x": 0.05
          },
          "updatemenudefaults": {
           "bgcolor": "#506784",
           "borderwidth": 0
          },
          "xaxis": {
           "automargin": true,
           "gridcolor": "#283442",
           "linecolor": "#506784",
           "ticks": "",
           "title": {
            "standoff": 15
           },
           "zerolinecolor": "#283442",
           "zerolinewidth": 2
          },
          "yaxis": {
           "automargin": true,
           "gridcolor": "#283442",
           "linecolor": "#506784",
           "ticks": "",
           "title": {
            "standoff": 15
           },
           "zerolinecolor": "#283442",
           "zerolinewidth": 2
          }
         }
        },
        "title": {
         "text": "Exposure time"
        },
        "xaxis": {
         "anchor": "y",
         "domain": [
          0,
          1
         ],
         "nticks": 10,
         "tickangle": 60,
         "title": {
          "text": "date_exposure"
         }
        },
        "yaxis": {
         "anchor": "x",
         "domain": [
          0,
          1
         ],
         "title": {
          "text": "count"
         }
        }
       }
      },
      "text/html": [
       "<div>                            <div id=\"4c9867a5-99e8-444c-a4fc-912560346616\" class=\"plotly-graph-div\" style=\"height:525px; width:100%;\"></div>            <script type=\"text/javascript\">                require([\"plotly\"], function(Plotly) {                    window.PLOTLYENV=window.PLOTLYENV || {};                                    if (document.getElementById(\"4c9867a5-99e8-444c-a4fc-912560346616\")) {                    Plotly.newPlot(                        \"4c9867a5-99e8-444c-a4fc-912560346616\",                        [{\"alignmentgroup\": \"True\", \"bingroup\": \"x\", \"hovertemplate\": \"tier=1<br>date_exposure=%{x}<br>count=%{y}<extra></extra>\", \"legendgroup\": \"1\", \"marker\": {\"color\": \"rgb(228,26,28)\"}, \"name\": \"1\", \"offsetgroup\": \"1\", \"orientation\": \"v\", \"showlegend\": true, \"type\": \"histogram\", \"x\": [\"2021-05-19T00:00:00\", \"2021-05-21T00:00:00\", \"2021-05-26T00:00:00\", \"2021-05-21T00:00:00\", \"2021-05-25T00:00:00\", \"2021-05-23T00:00:00\", \"2021-05-22T00:00:00\", \"2021-05-21T00:00:00\", \"2021-05-22T00:00:00\", \"2021-05-23T00:00:00\", \"2021-05-20T00:00:00\", \"2021-05-26T00:00:00\", \"2021-05-21T00:00:00\", \"2021-05-23T00:00:00\", \"2021-05-22T00:00:00\", \"2021-05-23T00:00:00\", \"2021-05-23T00:00:00\", \"2021-05-22T00:00:00\", \"2021-05-21T00:00:00\", \"2021-05-25T00:00:00\", \"2021-05-23T00:00:00\", \"2021-05-19T00:00:00\", \"2021-05-24T00:00:00\", \"2021-05-19T00:00:00\", \"2021-05-22T00:00:00\", \"2021-05-21T00:00:00\", \"2021-05-20T00:00:00\", \"2021-05-18T00:00:00\", \"2021-05-21T00:00:00\", \"2021-05-17T00:00:00\", \"2021-05-18T00:00:00\", \"2021-05-20T00:00:00\", \"2021-05-21T00:00:00\", \"2021-05-24T00:00:00\", \"2021-05-25T00:00:00\", \"2021-05-27T00:00:00\", \"2021-05-28T00:00:00\", \"2021-05-12T00:00:00\", \"2021-05-13T00:00:00\", \"2021-05-20T00:00:00\", \"2021-05-21T00:00:00\", \"2021-05-23T00:00:00\", \"2021-05-23T00:00:00\", \"2021-05-25T00:00:00\", \"2021-05-23T00:00:00\", \"2021-05-23T00:00:00\", \"2021-05-19T00:00:00\", \"2021-05-22T00:00:00\", \"2021-05-23T00:00:00\", \"2021-05-25T00:00:00\", \"2021-05-24T00:00:00\", \"2021-05-25T00:00:00\", \"2021-05-24T00:00:00\", \"2021-05-23T00:00:00\", \"2021-05-24T00:00:00\", \"2021-05-25T00:00:00\", \"2021-05-25T00:00:00\", \"2021-05-24T00:00:00\", \"2021-05-23T00:00:00\", \"2021-05-23T00:00:00\", \"2021-05-23T00:00:00\", \"2021-05-24T00:00:00\", \"2021-05-20T00:00:00\", \"2021-05-22T00:00:00\", \"2021-05-22T00:00:00\", \"2021-05-22T00:00:00\", \"2021-05-22T00:00:00\", \"2021-05-19T00:00:00\", \"2021-05-21T00:00:00\", \"2021-05-26T00:00:00\", \"2021-05-19T00:00:00\", \"2021-05-25T00:00:00\", \"2021-05-19T00:00:00\", \"2021-05-18T00:00:00\", \"2021-05-18T00:00:00\", \"2021-05-18T00:00:00\", \"2021-05-18T00:00:00\", \"2021-05-25T00:00:00\", \"2021-05-24T00:00:00\", \"2021-05-22T00:00:00\", \"2021-05-25T00:00:00\", \"2021-05-24T00:00:00\", \"2021-05-22T00:00:00\", \"2021-05-24T00:00:00\", \"2021-05-25T00:00:00\", \"2021-05-26T00:00:00\", \"2021-05-22T00:00:00\", \"2021-05-23T00:00:00\", \"2021-05-25T00:00:00\", \"2021-05-27T00:00:00\", \"2021-05-22T00:00:00\", \"2021-05-24T00:00:00\", \"2021-05-26T00:00:00\", \"2021-05-24T00:00:00\", \"2021-05-29T00:00:00\", \"2021-05-26T00:00:00\", \"2021-05-28T00:00:00\", \"2021-05-27T00:00:00\", \"2021-05-26T00:00:00\", \"2021-05-21T00:00:00\", \"2021-05-26T00:00:00\", \"2021-05-22T00:00:00\", \"2021-05-21T00:00:00\", \"2021-05-24T00:00:00\", \"2021-05-24T00:00:00\", \"2021-05-22T00:00:00\", \"2021-05-20T00:00:00\", \"2021-05-29T00:00:00\", \"2021-05-25T00:00:00\", \"2021-05-27T00:00:00\", \"2021-05-27T00:00:00\", \"2021-05-24T00:00:00\", \"2021-05-22T00:00:00\", \"2021-05-21T00:00:00\", \"2021-05-22T00:00:00\", \"2021-05-26T00:00:00\", \"2021-05-18T00:00:00\", \"2021-05-17T00:00:00\", \"2021-05-20T00:00:00\", \"2021-05-20T00:00:00\", \"2021-05-20T00:00:00\", \"2021-05-20T00:00:00\", \"2021-05-20T00:00:00\", \"2021-05-19T00:00:00\", \"2021-05-27T00:00:00\", \"2021-05-25T00:00:00\", \"2021-05-26T00:00:00\", \"2021-05-22T00:00:00\", \"2021-05-20T00:00:00\", \"2021-05-27T00:00:00\", \"2021-05-27T00:00:00\", \"2021-05-23T00:00:00\", \"2021-05-22T00:00:00\", \"2021-05-22T00:00:00\", \"2021-05-22T00:00:00\", \"2021-05-28T00:00:00\", \"2021-05-26T00:00:00\", \"2021-05-23T00:00:00\", \"2021-05-22T00:00:00\", \"2021-05-25T00:00:00\", \"2021-05-25T00:00:00\", \"2021-05-25T00:00:00\", \"2021-05-24T00:00:00\", \"2021-05-25T00:00:00\", \"2021-05-28T00:00:00\", \"2021-05-27T00:00:00\", \"2021-05-23T00:00:00\", \"2021-05-26T00:00:00\", \"2021-05-28T00:00:00\", \"2021-05-27T00:00:00\", \"2021-05-26T00:00:00\", \"2021-05-26T00:00:00\", \"2021-05-26T00:00:00\", \"2021-05-26T00:00:00\", \"2021-05-23T00:00:00\", \"2021-05-26T00:00:00\", \"2021-05-22T00:00:00\", \"2021-05-24T00:00:00\", \"2021-05-17T00:00:00\", \"2021-05-17T00:00:00\", \"2021-05-25T00:00:00\"], \"xaxis\": \"x\", \"yaxis\": \"y\"}, {\"alignmentgroup\": \"True\", \"bingroup\": \"x\", \"hovertemplate\": \"tier=2<br>date_exposure=%{x}<br>count=%{y}<extra></extra>\", \"legendgroup\": \"2\", \"marker\": {\"color\": \"rgb(55,126,184)\"}, \"name\": \"2\", \"offsetgroup\": \"2\", \"orientation\": \"v\", \"showlegend\": true, \"type\": \"histogram\", \"x\": [\"2021-05-23T00:00:00\", \"2021-05-24T00:00:00\", \"2021-05-24T00:00:00\", \"2021-05-20T00:00:00\", \"2021-05-24T00:00:00\", \"2021-05-23T00:00:00\", \"2021-05-19T00:00:00\", \"2021-05-23T00:00:00\", \"2021-05-22T00:00:00\", \"2021-05-21T00:00:00\", \"2021-05-23T00:00:00\", \"2021-05-23T00:00:00\", \"2021-05-24T00:00:00\", \"2021-05-22T00:00:00\", \"2021-05-22T00:00:00\", \"2021-05-23T00:00:00\", \"2021-05-22T00:00:00\", \"2021-05-25T00:00:00\", \"2021-05-23T00:00:00\", \"2021-05-14T00:00:00\", \"2021-05-14T00:00:00\", \"2021-05-14T00:00:00\", \"2021-05-19T00:00:00\", \"2021-05-20T00:00:00\", \"2021-05-22T00:00:00\", \"2021-05-19T00:00:00\", \"2021-05-19T00:00:00\", \"2021-05-20T00:00:00\", \"2021-05-17T00:00:00\", \"2021-05-23T00:00:00\", \"2021-05-23T00:00:00\", \"2021-05-22T00:00:00\", \"2021-05-21T00:00:00\", \"2021-05-22T00:00:00\", \"2021-05-20T00:00:00\", \"2021-05-23T00:00:00\", \"2021-05-22T00:00:00\", \"2021-05-23T00:00:00\", \"2021-05-22T00:00:00\", \"2021-05-22T00:00:00\", \"2021-05-22T00:00:00\", \"2021-05-23T00:00:00\", \"2021-05-24T00:00:00\", \"2021-05-23T00:00:00\", \"2021-05-22T00:00:00\", \"2021-05-24T00:00:00\", \"2021-05-24T00:00:00\", \"2021-05-23T00:00:00\", \"2021-05-23T00:00:00\", \"2021-05-22T00:00:00\", \"2021-05-22T00:00:00\", \"2021-05-23T00:00:00\", \"2021-05-23T00:00:00\", \"2021-05-21T00:00:00\", \"2021-05-26T00:00:00\", \"2021-05-24T00:00:00\", \"2021-05-19T00:00:00\", \"2021-05-26T00:00:00\", \"2021-05-27T00:00:00\", \"2021-05-24T00:00:00\", \"2021-05-22T00:00:00\", \"2021-05-23T00:00:00\", \"2021-05-23T00:00:00\", \"2021-05-28T00:00:00\", \"2021-05-26T00:00:00\", \"2021-05-22T00:00:00\", \"2021-05-23T00:00:00\", \"2021-05-23T00:00:00\", \"2021-05-25T00:00:00\", \"2021-05-21T00:00:00\", \"2021-05-26T00:00:00\", \"2021-05-26T00:00:00\", \"2021-05-15T00:00:00\", \"2021-05-15T00:00:00\", \"2021-05-22T00:00:00\", \"2021-05-23T00:00:00\", \"2021-05-20T00:00:00\", \"2021-05-18T00:00:00\", \"2021-05-26T00:00:00\", \"2021-05-26T00:00:00\", \"2021-05-26T00:00:00\", \"2021-05-25T00:00:00\", \"2021-05-25T00:00:00\", \"2021-05-24T00:00:00\", \"2021-05-22T00:00:00\", \"2021-05-18T00:00:00\", \"2021-05-17T00:00:00\", \"2021-05-22T00:00:00\", \"2021-05-26T00:00:00\", \"2021-05-25T00:00:00\", \"2021-05-24T00:00:00\", \"2021-05-25T00:00:00\", \"2021-05-25T00:00:00\", \"2021-05-24T00:00:00\", \"2021-05-22T00:00:00\", \"2021-05-22T00:00:00\", \"2021-05-26T00:00:00\", \"2021-05-23T00:00:00\", \"2021-05-23T00:00:00\", \"2021-05-23T00:00:00\", \"2021-05-23T00:00:00\", \"2021-05-22T00:00:00\", \"2021-05-23T00:00:00\", \"2021-05-25T00:00:00\", \"2021-05-24T00:00:00\", \"2021-05-24T00:00:00\", \"2021-05-22T00:00:00\", \"2021-05-28T00:00:00\", \"2021-05-23T00:00:00\", \"2021-05-18T00:00:00\", \"2021-05-22T00:00:00\", \"2021-05-18T00:00:00\", \"2021-05-25T00:00:00\", \"2021-05-26T00:00:00\", \"2021-05-24T00:00:00\", \"2021-05-27T00:00:00\", \"2021-05-25T00:00:00\", \"2021-05-19T00:00:00\", \"2021-05-19T00:00:00\", \"2021-05-25T00:00:00\", \"2021-05-26T00:00:00\", \"2021-05-22T00:00:00\", \"2021-05-26T00:00:00\", \"2021-05-24T00:00:00\", \"2021-05-26T00:00:00\", \"2021-05-26T00:00:00\", \"2021-05-22T00:00:00\", \"2021-05-22T00:00:00\"], \"xaxis\": \"x\", \"yaxis\": \"y\"}, {\"alignmentgroup\": \"True\", \"bingroup\": \"x\", \"hovertemplate\": \"tier=3<br>date_exposure=%{x}<br>count=%{y}<extra></extra>\", \"legendgroup\": \"3\", \"marker\": {\"color\": \"rgb(77,175,74)\"}, \"name\": \"3\", \"offsetgroup\": \"3\", \"orientation\": \"v\", \"showlegend\": true, \"type\": \"histogram\", \"x\": [\"2021-05-23T00:00:00\", \"2021-05-28T00:00:00\", \"2021-05-27T00:00:00\", \"2021-05-13T00:00:00\", \"2021-05-25T00:00:00\", \"2021-05-22T00:00:00\", \"2021-05-27T00:00:00\", \"2021-05-23T00:00:00\", \"2021-05-23T00:00:00\"], \"xaxis\": \"x\", \"yaxis\": \"y\"}],                        {\"annotations\": [{\"ax\": 10, \"ay\": 20, \"text\": \"lockdown\", \"x\": \"2021-05-27\", \"xanchor\": \"left\", \"y\": 40}], \"bargap\": 0.2, \"barmode\": \"relative\", \"legend\": {\"title\": {\"text\": \"tier\"}, \"tracegroupgap\": 0}, \"shapes\": [{\"type\": \"line\", \"x0\": \"2021-05-27\", \"x1\": \"2021-05-27\", \"xref\": \"x\", \"y0\": 0, \"y1\": 1, \"yref\": \"y domain\"}], \"template\": {\"data\": {\"bar\": [{\"error_x\": {\"color\": \"#f2f5fa\"}, \"error_y\": {\"color\": \"#f2f5fa\"}, \"marker\": {\"line\": {\"color\": \"rgb(17,17,17)\", \"width\": 0.5}}, \"type\": \"bar\"}], \"barpolar\": [{\"marker\": {\"line\": {\"color\": \"rgb(17,17,17)\", \"width\": 0.5}}, \"type\": \"barpolar\"}], \"carpet\": [{\"aaxis\": {\"endlinecolor\": \"#A2B1C6\", \"gridcolor\": \"#506784\", \"linecolor\": \"#506784\", \"minorgridcolor\": \"#506784\", \"startlinecolor\": \"#A2B1C6\"}, \"baxis\": {\"endlinecolor\": \"#A2B1C6\", \"gridcolor\": \"#506784\", \"linecolor\": \"#506784\", \"minorgridcolor\": \"#506784\", \"startlinecolor\": \"#A2B1C6\"}, \"type\": \"carpet\"}], \"choropleth\": [{\"colorbar\": {\"outlinewidth\": 0, \"ticks\": \"\"}, \"type\": \"choropleth\"}], \"contour\": [{\"colorbar\": {\"outlinewidth\": 0, \"ticks\": \"\"}, \"colorscale\": [[0.0, \"#0d0887\"], [0.1111111111111111, \"#46039f\"], [0.2222222222222222, \"#7201a8\"], [0.3333333333333333, \"#9c179e\"], [0.4444444444444444, \"#bd3786\"], [0.5555555555555556, \"#d8576b\"], [0.6666666666666666, \"#ed7953\"], [0.7777777777777778, \"#fb9f3a\"], [0.8888888888888888, \"#fdca26\"], [1.0, \"#f0f921\"]], \"type\": \"contour\"}], \"contourcarpet\": [{\"colorbar\": {\"outlinewidth\": 0, \"ticks\": \"\"}, \"type\": \"contourcarpet\"}], \"heatmap\": [{\"colorbar\": {\"outlinewidth\": 0, \"ticks\": \"\"}, \"colorscale\": [[0.0, \"#0d0887\"], [0.1111111111111111, \"#46039f\"], [0.2222222222222222, \"#7201a8\"], [0.3333333333333333, \"#9c179e\"], [0.4444444444444444, \"#bd3786\"], [0.5555555555555556, \"#d8576b\"], [0.6666666666666666, \"#ed7953\"], [0.7777777777777778, \"#fb9f3a\"], [0.8888888888888888, \"#fdca26\"], [1.0, \"#f0f921\"]], \"type\": \"heatmap\"}], \"heatmapgl\": [{\"colorbar\": {\"outlinewidth\": 0, \"ticks\": \"\"}, \"colorscale\": [[0.0, \"#0d0887\"], [0.1111111111111111, \"#46039f\"], [0.2222222222222222, \"#7201a8\"], [0.3333333333333333, \"#9c179e\"], [0.4444444444444444, \"#bd3786\"], [0.5555555555555556, \"#d8576b\"], [0.6666666666666666, \"#ed7953\"], [0.7777777777777778, \"#fb9f3a\"], [0.8888888888888888, \"#fdca26\"], [1.0, \"#f0f921\"]], \"type\": \"heatmapgl\"}], \"histogram\": [{\"marker\": {\"colorbar\": {\"outlinewidth\": 0, \"ticks\": \"\"}}, \"type\": \"histogram\"}], \"histogram2d\": [{\"colorbar\": {\"outlinewidth\": 0, \"ticks\": \"\"}, \"colorscale\": [[0.0, \"#0d0887\"], [0.1111111111111111, \"#46039f\"], [0.2222222222222222, \"#7201a8\"], [0.3333333333333333, \"#9c179e\"], [0.4444444444444444, \"#bd3786\"], [0.5555555555555556, \"#d8576b\"], [0.6666666666666666, \"#ed7953\"], [0.7777777777777778, \"#fb9f3a\"], [0.8888888888888888, \"#fdca26\"], [1.0, \"#f0f921\"]], \"type\": \"histogram2d\"}], \"histogram2dcontour\": [{\"colorbar\": {\"outlinewidth\": 0, \"ticks\": \"\"}, \"colorscale\": [[0.0, \"#0d0887\"], [0.1111111111111111, \"#46039f\"], [0.2222222222222222, \"#7201a8\"], [0.3333333333333333, \"#9c179e\"], [0.4444444444444444, \"#bd3786\"], [0.5555555555555556, \"#d8576b\"], [0.6666666666666666, \"#ed7953\"], [0.7777777777777778, \"#fb9f3a\"], [0.8888888888888888, \"#fdca26\"], [1.0, \"#f0f921\"]], \"type\": \"histogram2dcontour\"}], \"mesh3d\": [{\"colorbar\": {\"outlinewidth\": 0, \"ticks\": \"\"}, \"type\": \"mesh3d\"}], \"parcoords\": [{\"line\": {\"colorbar\": {\"outlinewidth\": 0, \"ticks\": \"\"}}, \"type\": \"parcoords\"}], \"pie\": [{\"automargin\": true, \"type\": \"pie\"}], \"scatter\": [{\"marker\": {\"line\": {\"color\": \"#283442\"}}, \"type\": \"scatter\"}], \"scatter3d\": [{\"line\": {\"colorbar\": {\"outlinewidth\": 0, \"ticks\": \"\"}}, \"marker\": {\"colorbar\": {\"outlinewidth\": 0, \"ticks\": \"\"}}, \"type\": \"scatter3d\"}], \"scattercarpet\": [{\"marker\": {\"colorbar\": {\"outlinewidth\": 0, \"ticks\": \"\"}}, \"type\": \"scattercarpet\"}], \"scattergeo\": [{\"marker\": {\"colorbar\": {\"outlinewidth\": 0, \"ticks\": \"\"}}, \"type\": \"scattergeo\"}], \"scattergl\": [{\"marker\": {\"line\": {\"color\": \"#283442\"}}, \"type\": \"scattergl\"}], \"scattermapbox\": [{\"marker\": {\"colorbar\": {\"outlinewidth\": 0, \"ticks\": \"\"}}, \"type\": \"scattermapbox\"}], \"scatterpolar\": [{\"marker\": {\"colorbar\": {\"outlinewidth\": 0, \"ticks\": \"\"}}, \"type\": \"scatterpolar\"}], \"scatterpolargl\": [{\"marker\": {\"colorbar\": {\"outlinewidth\": 0, \"ticks\": \"\"}}, \"type\": \"scatterpolargl\"}], \"scatterternary\": [{\"marker\": {\"colorbar\": {\"outlinewidth\": 0, \"ticks\": \"\"}}, \"type\": \"scatterternary\"}], \"surface\": [{\"colorbar\": {\"outlinewidth\": 0, \"ticks\": \"\"}, \"colorscale\": [[0.0, \"#0d0887\"], [0.1111111111111111, \"#46039f\"], [0.2222222222222222, \"#7201a8\"], [0.3333333333333333, \"#9c179e\"], [0.4444444444444444, \"#bd3786\"], [0.5555555555555556, \"#d8576b\"], [0.6666666666666666, \"#ed7953\"], [0.7777777777777778, \"#fb9f3a\"], [0.8888888888888888, \"#fdca26\"], [1.0, \"#f0f921\"]], \"type\": \"surface\"}], \"table\": [{\"cells\": {\"fill\": {\"color\": \"#506784\"}, \"line\": {\"color\": \"rgb(17,17,17)\"}}, \"header\": {\"fill\": {\"color\": \"#2a3f5f\"}, \"line\": {\"color\": \"rgb(17,17,17)\"}}, \"type\": \"table\"}]}, \"layout\": {\"annotationdefaults\": {\"arrowcolor\": \"#f2f5fa\", \"arrowhead\": 0, \"arrowwidth\": 1}, \"autotypenumbers\": \"strict\", \"coloraxis\": {\"colorbar\": {\"outlinewidth\": 0, \"ticks\": \"\"}}, \"colorscale\": {\"diverging\": [[0, \"#8e0152\"], [0.1, \"#c51b7d\"], [0.2, \"#de77ae\"], [0.3, \"#f1b6da\"], [0.4, \"#fde0ef\"], [0.5, \"#f7f7f7\"], [0.6, \"#e6f5d0\"], [0.7, \"#b8e186\"], [0.8, \"#7fbc41\"], [0.9, \"#4d9221\"], [1, \"#276419\"]], \"sequential\": [[0.0, \"#0d0887\"], [0.1111111111111111, \"#46039f\"], [0.2222222222222222, \"#7201a8\"], [0.3333333333333333, \"#9c179e\"], [0.4444444444444444, \"#bd3786\"], [0.5555555555555556, \"#d8576b\"], [0.6666666666666666, \"#ed7953\"], [0.7777777777777778, \"#fb9f3a\"], [0.8888888888888888, \"#fdca26\"], [1.0, \"#f0f921\"]], \"sequentialminus\": [[0.0, \"#0d0887\"], [0.1111111111111111, \"#46039f\"], [0.2222222222222222, \"#7201a8\"], [0.3333333333333333, \"#9c179e\"], [0.4444444444444444, \"#bd3786\"], [0.5555555555555556, \"#d8576b\"], [0.6666666666666666, \"#ed7953\"], [0.7777777777777778, \"#fb9f3a\"], [0.8888888888888888, \"#fdca26\"], [1.0, \"#f0f921\"]]}, \"colorway\": [\"#636efa\", \"#EF553B\", \"#00cc96\", \"#ab63fa\", \"#FFA15A\", \"#19d3f3\", \"#FF6692\", \"#B6E880\", \"#FF97FF\", \"#FECB52\"], \"font\": {\"color\": \"#f2f5fa\"}, \"geo\": {\"bgcolor\": \"rgb(17,17,17)\", \"lakecolor\": \"rgb(17,17,17)\", \"landcolor\": \"rgb(17,17,17)\", \"showlakes\": true, \"showland\": true, \"subunitcolor\": \"#506784\"}, \"hoverlabel\": {\"align\": \"left\"}, \"hovermode\": \"closest\", \"mapbox\": {\"style\": \"dark\"}, \"paper_bgcolor\": \"rgb(17,17,17)\", \"plot_bgcolor\": \"rgb(17,17,17)\", \"polar\": {\"angularaxis\": {\"gridcolor\": \"#506784\", \"linecolor\": \"#506784\", \"ticks\": \"\"}, \"bgcolor\": \"rgb(17,17,17)\", \"radialaxis\": {\"gridcolor\": \"#506784\", \"linecolor\": \"#506784\", \"ticks\": \"\"}}, \"scene\": {\"xaxis\": {\"backgroundcolor\": \"rgb(17,17,17)\", \"gridcolor\": \"#506784\", \"gridwidth\": 2, \"linecolor\": \"#506784\", \"showbackground\": true, \"ticks\": \"\", \"zerolinecolor\": \"#C8D4E3\"}, \"yaxis\": {\"backgroundcolor\": \"rgb(17,17,17)\", \"gridcolor\": \"#506784\", \"gridwidth\": 2, \"linecolor\": \"#506784\", \"showbackground\": true, \"ticks\": \"\", \"zerolinecolor\": \"#C8D4E3\"}, \"zaxis\": {\"backgroundcolor\": \"rgb(17,17,17)\", \"gridcolor\": \"#506784\", \"gridwidth\": 2, \"linecolor\": \"#506784\", \"showbackground\": true, \"ticks\": \"\", \"zerolinecolor\": \"#C8D4E3\"}}, \"shapedefaults\": {\"line\": {\"color\": \"#f2f5fa\"}}, \"sliderdefaults\": {\"bgcolor\": \"#C8D4E3\", \"bordercolor\": \"rgb(17,17,17)\", \"borderwidth\": 1, \"tickwidth\": 0}, \"ternary\": {\"aaxis\": {\"gridcolor\": \"#506784\", \"linecolor\": \"#506784\", \"ticks\": \"\"}, \"baxis\": {\"gridcolor\": \"#506784\", \"linecolor\": \"#506784\", \"ticks\": \"\"}, \"bgcolor\": \"rgb(17,17,17)\", \"caxis\": {\"gridcolor\": \"#506784\", \"linecolor\": \"#506784\", \"ticks\": \"\"}}, \"title\": {\"x\": 0.05}, \"updatemenudefaults\": {\"bgcolor\": \"#506784\", \"borderwidth\": 0}, \"xaxis\": {\"automargin\": true, \"gridcolor\": \"#283442\", \"linecolor\": \"#506784\", \"ticks\": \"\", \"title\": {\"standoff\": 15}, \"zerolinecolor\": \"#283442\", \"zerolinewidth\": 2}, \"yaxis\": {\"automargin\": true, \"gridcolor\": \"#283442\", \"linecolor\": \"#506784\", \"ticks\": \"\", \"title\": {\"standoff\": 15}, \"zerolinecolor\": \"#283442\", \"zerolinewidth\": 2}}}, \"title\": {\"text\": \"Exposure time\"}, \"xaxis\": {\"anchor\": \"y\", \"domain\": [0.0, 1.0], \"nticks\": 10, \"tickangle\": 60, \"title\": {\"text\": \"date_exposure\"}}, \"yaxis\": {\"anchor\": \"x\", \"domain\": [0.0, 1.0], \"title\": {\"text\": \"count\"}}},                        {\"responsive\": true}                    ).then(function(){\n",
       "                            \n",
       "var gd = document.getElementById('4c9867a5-99e8-444c-a4fc-912560346616');\n",
       "var x = new MutationObserver(function (mutations, observer) {{\n",
       "        var display = window.getComputedStyle(gd).display;\n",
       "        if (!display || display === 'none') {{\n",
       "            console.log([gd, 'removed!']);\n",
       "            Plotly.purge(gd);\n",
       "            observer.disconnect();\n",
       "        }}\n",
       "}});\n",
       "\n",
       "// Listen for the removal of the full notebook cells\n",
       "var notebookContainer = gd.closest('#notebook-container');\n",
       "if (notebookContainer) {{\n",
       "    x.observe(notebookContainer, {childList: true});\n",
       "}}\n",
       "\n",
       "// Listen for the clearing of the current output cell\n",
       "var outputEl = gd.closest('.output');\n",
       "if (outputEl) {{\n",
       "    x.observe(outputEl, {childList: true});\n",
       "}}\n",
       "\n",
       "                        })                };                });            </script>        </div>"
      ]
     },
     "metadata": {},
     "output_type": "display_data"
    }
   ],
   "source": [
    "fig_date = px.histogram(elements.sort_values(by='tier'), x='date_exposure', template='plotly_dark', color='tier', color_discrete_sequence=px.colors.qualitative.Set1[0:3], title='Exposure time')\n",
    "fig_date.add_vline(x='2021-05-27')\n",
    "fig_date.add_annotation(x = '2021-05-27', y= 40, text='lockdown', xanchor='left', ax=10, ay=20)\n",
    "\n",
    "fig_date.update_layout(\n",
    "    bargap=0.2, # gap between bars of adjacent location coordinates\n",
    ")\n",
    "\n",
    "fig_date.update_xaxes(\n",
    "    tickangle = 60, \n",
    "    nticks = 10\n",
    ")\n",
    "\n",
    "fig_date.show()"
   ]
  },
  {
   "cell_type": "code",
   "execution_count": 158,
   "metadata": {},
   "outputs": [
    {
     "name": "stderr",
     "output_type": "stream",
     "text": [
      "<ipython-input-158-767a3a2e7ad0>:1: FutureWarning:\n",
      "\n",
      "Treating datetime data as categorical rather than numeric in `.describe` is deprecated and will be removed in a future version of pandas. Specify `datetime_is_numeric=True` to silence this warning and adopt the future behavior now.\n",
      "\n"
     ]
    },
    {
     "data": {
      "text/plain": [
       "count                     298\n",
       "unique                     17\n",
       "top       2021-05-22 00:00:00\n",
       "freq                       52\n",
       "first     2021-05-12 00:00:00\n",
       "last      2021-05-29 00:00:00\n",
       "Name: date_exposure, dtype: object"
      ]
     },
     "execution_count": 158,
     "metadata": {},
     "output_type": "execute_result"
    }
   ],
   "source": [
    "elements.date_exposure.describe()"
   ]
  },
  {
   "cell_type": "code",
   "execution_count": 159,
   "metadata": {},
   "outputs": [
    {
     "data": {
      "application/vnd.plotly.v1+json": {
       "config": {
        "plotlyServerURL": "https://plot.ly"
       },
       "data": [
        {
         "coloraxis": "coloraxis",
         "hovertemplate": "date_exposure=%{x}<br>date_added=%{y}<br>count=%{z}<extra></extra>",
         "name": "",
         "nbinsx": 20,
         "nbinsy": 20,
         "type": "histogram2d",
         "x": [
          "2021-05-23T00:00:00",
          "2021-05-28T00:00:00",
          "2021-05-28T00:00:00",
          "2021-05-28T00:00:00",
          "2021-05-26T00:00:00",
          "2021-05-27T00:00:00",
          "2021-05-28T00:00:00",
          "2021-05-29T00:00:00",
          "2021-05-26T00:00:00",
          "2021-05-26T00:00:00",
          "2021-05-26T00:00:00",
          "2021-05-27T00:00:00",
          "2021-05-28T00:00:00",
          "2021-05-29T00:00:00",
          "2021-05-28T00:00:00",
          "2021-05-25T00:00:00",
          "2021-05-27T00:00:00",
          "2021-05-27T00:00:00",
          "2021-05-27T00:00:00",
          "2021-05-22T00:00:00",
          "2021-05-23T00:00:00",
          "2021-05-23T00:00:00",
          "2021-05-25T00:00:00",
          "2021-05-21T00:00:00",
          "2021-05-26T00:00:00",
          "2021-05-26T00:00:00",
          "2021-05-24T00:00:00",
          "2021-05-25T00:00:00",
          "2021-05-26T00:00:00",
          "2021-05-26T00:00:00",
          "2021-05-15T00:00:00",
          "2021-05-15T00:00:00",
          "2021-05-22T00:00:00",
          "2021-05-23T00:00:00",
          "2021-05-20T00:00:00",
          "2021-05-18T00:00:00",
          "2021-05-26T00:00:00",
          "2021-05-26T00:00:00",
          "2021-05-26T00:00:00",
          "2021-05-25T00:00:00",
          "2021-05-25T00:00:00",
          "2021-05-24T00:00:00",
          "2021-05-23T00:00:00",
          "2021-05-23T00:00:00",
          "2021-05-25T00:00:00",
          "2021-05-22T00:00:00",
          "2021-05-23T00:00:00",
          "2021-05-22T00:00:00",
          "2021-05-22T00:00:00",
          "2021-05-23T00:00:00",
          "2021-05-26T00:00:00",
          "2021-05-24T00:00:00",
          "2021-05-23T00:00:00",
          "2021-05-22T00:00:00",
          "2021-05-24T00:00:00",
          "2021-05-24T00:00:00",
          "2021-05-23T00:00:00",
          "2021-05-22T00:00:00",
          "2021-05-24T00:00:00",
          "2021-05-22T00:00:00",
          "2021-05-27T00:00:00",
          "2021-05-27T00:00:00",
          "2021-05-26T00:00:00",
          "2021-05-23T00:00:00",
          "2021-05-23T00:00:00",
          "2021-05-26T00:00:00",
          "2021-05-26T00:00:00",
          "2021-05-26T00:00:00",
          "2021-05-21T00:00:00",
          "2021-05-22T00:00:00",
          "2021-05-24T00:00:00",
          "2021-05-17T00:00:00",
          "2021-05-17T00:00:00",
          "2021-05-26T00:00:00",
          "2021-05-26T00:00:00",
          "2021-05-26T00:00:00",
          "2021-05-27T00:00:00",
          "2021-05-24T00:00:00",
          "2021-05-19T00:00:00",
          "2021-05-22T00:00:00",
          "2021-05-26T00:00:00",
          "2021-05-27T00:00:00",
          "2021-05-17T00:00:00",
          "2021-05-18T00:00:00",
          "2021-05-22T00:00:00",
          "2021-05-25T00:00:00",
          "2021-05-25T00:00:00",
          "2021-05-25T00:00:00",
          "2021-05-22T00:00:00",
          "2021-05-22T00:00:00",
          "2021-05-26T00:00:00",
          "2021-05-22T00:00:00",
          "2021-05-22T00:00:00",
          "2021-05-22T00:00:00",
          "2021-05-19T00:00:00",
          "2021-05-22T00:00:00",
          "2021-05-18T00:00:00",
          "2021-05-25T00:00:00",
          "2021-05-26T00:00:00",
          "2021-05-24T00:00:00",
          "2021-05-17T00:00:00",
          "2021-05-18T00:00:00",
          "2021-05-20T00:00:00",
          "2021-05-21T00:00:00",
          "2021-05-24T00:00:00",
          "2021-05-25T00:00:00",
          "2021-05-27T00:00:00",
          "2021-05-28T00:00:00",
          "2021-05-12T00:00:00",
          "2021-05-13T00:00:00",
          "2021-05-20T00:00:00",
          "2021-05-25T00:00:00",
          "2021-05-19T00:00:00",
          "2021-05-25T00:00:00",
          "2021-05-26T00:00:00",
          "2021-05-23T00:00:00",
          "2021-05-19T00:00:00",
          "2021-05-25T00:00:00",
          "2021-05-22T00:00:00",
          "2021-05-26T00:00:00",
          "2021-05-24T00:00:00",
          "2021-05-26T00:00:00",
          "2021-05-21T00:00:00",
          "2021-05-25T00:00:00",
          "2021-05-26T00:00:00",
          "2021-05-26T00:00:00",
          "2021-05-27T00:00:00",
          "2021-05-27T00:00:00",
          "2021-05-27T00:00:00",
          "2021-05-28T00:00:00",
          "2021-05-23T00:00:00",
          "2021-05-26T00:00:00",
          "2021-05-26T00:00:00",
          "2021-05-26T00:00:00",
          "2021-05-25T00:00:00",
          "2021-05-24T00:00:00",
          "2021-05-25T00:00:00",
          "2021-05-25T00:00:00",
          "2021-05-25T00:00:00",
          "2021-05-24T00:00:00",
          "2021-05-22T00:00:00",
          "2021-05-22T00:00:00",
          "2021-05-23T00:00:00",
          "2021-05-22T00:00:00",
          "2021-05-21T00:00:00",
          "2021-05-23T00:00:00",
          "2021-05-25T00:00:00",
          "2021-05-19T00:00:00",
          "2021-05-19T00:00:00",
          "2021-05-19T00:00:00",
          "2021-05-19T00:00:00",
          "2021-05-19T00:00:00",
          "2021-05-25T00:00:00",
          "2021-05-19T00:00:00",
          "2021-05-18T00:00:00",
          "2021-05-18T00:00:00",
          "2021-05-18T00:00:00",
          "2021-05-18T00:00:00",
          "2021-05-25T00:00:00",
          "2021-05-24T00:00:00",
          "2021-05-23T00:00:00",
          "2021-05-23T00:00:00",
          "2021-05-23T00:00:00",
          "2021-05-22T00:00:00",
          "2021-05-24T00:00:00",
          "2021-05-25T00:00:00",
          "2021-05-26T00:00:00",
          "2021-05-22T00:00:00",
          "2021-05-23T00:00:00",
          "2021-05-25T00:00:00",
          "2021-05-26T00:00:00",
          "2021-05-27T00:00:00",
          "2021-05-22T00:00:00",
          "2021-05-22T00:00:00",
          "2021-05-22T00:00:00",
          "2021-05-23T00:00:00",
          "2021-05-25T00:00:00",
          "2021-05-24T00:00:00",
          "2021-05-25T00:00:00",
          "2021-05-24T00:00:00",
          "2021-05-23T00:00:00",
          "2021-05-24T00:00:00",
          "2021-05-25T00:00:00",
          "2021-05-25T00:00:00",
          "2021-05-13T00:00:00",
          "2021-05-23T00:00:00",
          "2021-05-23T00:00:00",
          "2021-05-23T00:00:00",
          "2021-05-23T00:00:00",
          "2021-05-25T00:00:00",
          "2021-05-24T00:00:00",
          "2021-05-24T00:00:00",
          "2021-05-22T00:00:00",
          "2021-05-22T00:00:00",
          "2021-05-22T00:00:00",
          "2021-05-22T00:00:00",
          "2021-05-21T00:00:00",
          "2021-05-24T00:00:00",
          "2021-05-22T00:00:00",
          "2021-05-20T00:00:00",
          "2021-05-24T00:00:00",
          "2021-05-24T00:00:00",
          "2021-05-24T00:00:00",
          "2021-05-24T00:00:00",
          "2021-05-24T00:00:00",
          "2021-05-23T00:00:00",
          "2021-05-21T00:00:00",
          "2021-05-24T00:00:00",
          "2021-05-25T00:00:00",
          "2021-05-22T00:00:00",
          "2021-05-23T00:00:00",
          "2021-05-22T00:00:00",
          "2021-05-23T00:00:00",
          "2021-05-14T00:00:00",
          "2021-05-14T00:00:00",
          "2021-05-14T00:00:00",
          "2021-05-23T00:00:00",
          "2021-05-25T00:00:00",
          "2021-05-22T00:00:00",
          "2021-05-23T00:00:00",
          "2021-05-21T00:00:00",
          "2021-05-20T00:00:00",
          "2021-05-23T00:00:00",
          "2021-05-22T00:00:00",
          "2021-05-21T00:00:00",
          "2021-05-22T00:00:00",
          "2021-05-23T00:00:00",
          "2021-05-22T00:00:00",
          "2021-05-23T00:00:00",
          "2021-05-21T00:00:00",
          "2021-05-23T00:00:00",
          "2021-05-24T00:00:00",
          "2021-05-23T00:00:00",
          "2021-05-21T00:00:00",
          "2021-05-24T00:00:00",
          "2021-05-23T00:00:00",
          "2021-05-23T00:00:00",
          "2021-05-22T00:00:00",
          "2021-05-22T00:00:00",
          "2021-05-18T00:00:00",
          "2021-05-20T00:00:00",
          "2021-05-21T00:00:00",
          "2021-05-22T00:00:00",
          "2021-05-23T00:00:00",
          "2021-05-24T00:00:00",
          "2021-05-25T00:00:00",
          "2021-05-24T00:00:00",
          "2021-05-23T00:00:00",
          "2021-05-21T00:00:00",
          "2021-05-23T00:00:00",
          "2021-05-23T00:00:00",
          "2021-05-22T00:00:00",
          "2021-05-22T00:00:00",
          "2021-05-23T00:00:00",
          "2021-05-23T00:00:00",
          "2021-05-23T00:00:00",
          "2021-05-22T00:00:00",
          "2021-05-22T00:00:00",
          "2021-05-22T00:00:00",
          "2021-05-20T00:00:00",
          "2021-05-20T00:00:00",
          "2021-05-22T00:00:00",
          "2021-05-24T00:00:00",
          "2021-05-24T00:00:00",
          "2021-05-21T00:00:00",
          "2021-05-22T00:00:00",
          "2021-05-19T00:00:00",
          "2021-05-20T00:00:00",
          "2021-05-19T00:00:00",
          "2021-05-19T00:00:00",
          "2021-05-19T00:00:00",
          "2021-05-20T00:00:00",
          "2021-05-17T00:00:00",
          "2021-05-19T00:00:00",
          "2021-05-23T00:00:00",
          "2021-05-23T00:00:00",
          "2021-05-22T00:00:00",
          "2021-05-21T00:00:00",
          "2021-05-22T00:00:00",
          "2021-05-17T00:00:00",
          "2021-05-18T00:00:00",
          "2021-05-20T00:00:00",
          "2021-05-22T00:00:00",
          "2021-05-21T00:00:00",
          "2021-05-22T00:00:00",
          "2021-05-23T00:00:00",
          "2021-05-23T00:00:00",
          "2021-05-20T00:00:00",
          "2021-05-20T00:00:00",
          "2021-05-20T00:00:00",
          "2021-05-20T00:00:00",
          "2021-05-20T00:00:00",
          "2021-05-20T00:00:00",
          "2021-05-21T00:00:00",
          "2021-05-23T00:00:00",
          "2021-05-23T00:00:00",
          "2021-05-22T00:00:00",
          "2021-05-18T00:00:00"
         ],
         "xaxis": "x",
         "xbingroup": "x",
         "y": [
          "2021-06-01T00:00:00",
          "2021-06-01T00:00:00",
          "2021-06-01T00:00:00",
          "2021-06-01T00:00:00",
          "2021-05-31T00:00:00",
          "2021-05-31T00:00:00",
          "2021-05-31T00:00:00",
          "2021-05-31T00:00:00",
          "2021-05-31T00:00:00",
          "2021-05-31T00:00:00",
          "2021-05-31T00:00:00",
          "2021-05-31T00:00:00",
          "2021-05-31T00:00:00",
          "2021-05-31T00:00:00",
          "2021-05-31T00:00:00",
          "2021-05-31T00:00:00",
          "2021-05-31T00:00:00",
          "2021-05-31T00:00:00",
          "2021-05-31T00:00:00",
          "2021-05-31T00:00:00",
          "2021-05-31T00:00:00",
          "2021-05-31T00:00:00",
          "2021-05-31T00:00:00",
          "2021-05-31T00:00:00",
          "2021-05-31T00:00:00",
          "2021-05-31T00:00:00",
          "2021-05-30T00:00:00",
          "2021-05-30T00:00:00",
          "2021-05-30T00:00:00",
          "2021-05-30T00:00:00",
          "2021-05-30T00:00:00",
          "2021-05-30T00:00:00",
          "2021-05-30T00:00:00",
          "2021-05-30T00:00:00",
          "2021-05-30T00:00:00",
          "2021-05-30T00:00:00",
          "2021-05-30T00:00:00",
          "2021-05-30T00:00:00",
          "2021-05-30T00:00:00",
          "2021-05-30T00:00:00",
          "2021-05-30T00:00:00",
          "2021-05-30T00:00:00",
          "2021-05-30T00:00:00",
          "2021-05-30T00:00:00",
          "2021-05-30T00:00:00",
          "2021-05-30T00:00:00",
          "2021-05-30T00:00:00",
          "2021-05-30T00:00:00",
          "2021-05-30T00:00:00",
          "2021-05-30T00:00:00",
          "2021-05-30T00:00:00",
          "2021-05-30T00:00:00",
          "2021-05-30T00:00:00",
          "2021-05-30T00:00:00",
          "2021-05-30T00:00:00",
          "2021-05-30T00:00:00",
          "2021-05-30T00:00:00",
          "2021-05-30T00:00:00",
          "2021-05-30T00:00:00",
          "2021-05-30T00:00:00",
          "2021-05-30T00:00:00",
          "2021-05-30T00:00:00",
          "2021-05-30T00:00:00",
          "2021-05-30T00:00:00",
          "2021-05-30T00:00:00",
          "2021-05-30T00:00:00",
          "2021-05-30T00:00:00",
          "2021-05-30T00:00:00",
          "2021-05-30T00:00:00",
          "2021-05-30T00:00:00",
          "2021-05-30T00:00:00",
          "2021-05-30T00:00:00",
          "2021-05-30T00:00:00",
          "2021-05-30T00:00:00",
          "2021-05-30T00:00:00",
          "2021-05-30T00:00:00",
          "2021-05-30T00:00:00",
          "2021-05-30T00:00:00",
          "2021-05-30T00:00:00",
          "2021-05-30T00:00:00",
          "2021-05-30T00:00:00",
          "2021-05-30T00:00:00",
          "2021-05-30T00:00:00",
          "2021-05-30T00:00:00",
          "2021-05-30T00:00:00",
          "2021-05-30T00:00:00",
          "2021-05-30T00:00:00",
          "2021-05-30T00:00:00",
          "2021-05-30T00:00:00",
          "2021-05-30T00:00:00",
          "2021-05-30T00:00:00",
          "2021-05-30T00:00:00",
          "2021-05-30T00:00:00",
          "2021-05-30T00:00:00",
          "2021-05-30T00:00:00",
          "2021-05-30T00:00:00",
          "2021-05-30T00:00:00",
          "2021-05-30T00:00:00",
          "2021-05-30T00:00:00",
          "2021-05-30T00:00:00",
          "2021-05-30T00:00:00",
          "2021-05-30T00:00:00",
          "2021-05-30T00:00:00",
          "2021-05-30T00:00:00",
          "2021-05-30T00:00:00",
          "2021-05-30T00:00:00",
          "2021-05-30T00:00:00",
          "2021-05-30T00:00:00",
          "2021-05-30T00:00:00",
          "2021-05-30T00:00:00",
          "2021-05-30T00:00:00",
          "2021-05-30T00:00:00",
          "2021-05-30T00:00:00",
          "2021-05-30T00:00:00",
          "2021-05-30T00:00:00",
          "2021-05-30T00:00:00",
          "2021-05-30T00:00:00",
          "2021-05-30T00:00:00",
          "2021-05-30T00:00:00",
          "2021-05-30T00:00:00",
          "2021-05-30T00:00:00",
          "2021-05-30T00:00:00",
          "2021-05-30T00:00:00",
          "2021-05-30T00:00:00",
          "2021-05-29T00:00:00",
          "2021-05-29T00:00:00",
          "2021-05-29T00:00:00",
          "2021-05-29T00:00:00",
          "2021-05-29T00:00:00",
          "2021-05-29T00:00:00",
          "2021-05-29T00:00:00",
          "2021-05-29T00:00:00",
          "2021-05-29T00:00:00",
          "2021-05-29T00:00:00",
          "2021-05-29T00:00:00",
          "2021-05-29T00:00:00",
          "2021-05-29T00:00:00",
          "2021-05-29T00:00:00",
          "2021-05-29T00:00:00",
          "2021-05-29T00:00:00",
          "2021-05-29T00:00:00",
          "2021-05-29T00:00:00",
          "2021-05-29T00:00:00",
          "2021-05-29T00:00:00",
          "2021-05-29T00:00:00",
          "2021-05-29T00:00:00",
          "2021-05-29T00:00:00",
          "2021-05-28T00:00:00",
          "2021-05-28T00:00:00",
          "2021-05-28T00:00:00",
          "2021-05-28T00:00:00",
          "2021-05-28T00:00:00",
          "2021-05-28T00:00:00",
          "2021-05-28T00:00:00",
          "2021-05-28T00:00:00",
          "2021-05-28T00:00:00",
          "2021-05-28T00:00:00",
          "2021-05-28T00:00:00",
          "2021-05-28T00:00:00",
          "2021-05-28T00:00:00",
          "2021-05-28T00:00:00",
          "2021-05-28T00:00:00",
          "2021-05-28T00:00:00",
          "2021-05-28T00:00:00",
          "2021-05-28T00:00:00",
          "2021-05-28T00:00:00",
          "2021-05-28T00:00:00",
          "2021-05-28T00:00:00",
          "2021-05-28T00:00:00",
          "2021-05-28T00:00:00",
          "2021-05-28T00:00:00",
          "2021-05-28T00:00:00",
          "2021-05-28T00:00:00",
          "2021-05-28T00:00:00",
          "2021-05-28T00:00:00",
          "2021-05-28T00:00:00",
          "2021-05-28T00:00:00",
          "2021-05-28T00:00:00",
          "2021-05-28T00:00:00",
          "2021-05-28T00:00:00",
          "2021-05-28T00:00:00",
          "2021-05-27T00:00:00",
          "2021-05-27T00:00:00",
          "2021-05-27T00:00:00",
          "2021-05-27T00:00:00",
          "2021-05-27T00:00:00",
          "2021-05-27T00:00:00",
          "2021-05-27T00:00:00",
          "2021-05-27T00:00:00",
          "2021-05-27T00:00:00",
          "2021-05-27T00:00:00",
          "2021-05-27T00:00:00",
          "2021-05-27T00:00:00",
          "2021-05-27T00:00:00",
          "2021-05-27T00:00:00",
          "2021-05-27T00:00:00",
          "2021-05-27T00:00:00",
          "2021-05-27T00:00:00",
          "2021-05-27T00:00:00",
          "2021-05-27T00:00:00",
          "2021-05-27T00:00:00",
          "2021-05-27T00:00:00",
          "2021-05-27T00:00:00",
          "2021-05-27T00:00:00",
          "2021-05-27T00:00:00",
          "2021-05-27T00:00:00",
          "2021-05-27T00:00:00",
          "2021-05-27T00:00:00",
          "2021-05-27T00:00:00",
          "2021-05-27T00:00:00",
          "2021-05-27T00:00:00",
          "2021-05-27T00:00:00",
          "2021-05-27T00:00:00",
          "2021-05-27T00:00:00",
          "2021-05-27T00:00:00",
          "2021-05-27T00:00:00",
          "2021-05-27T00:00:00",
          "2021-05-27T00:00:00",
          "2021-05-27T00:00:00",
          "2021-05-26T00:00:00",
          "2021-05-26T00:00:00",
          "2021-05-26T00:00:00",
          "2021-05-26T00:00:00",
          "2021-05-26T00:00:00",
          "2021-05-26T00:00:00",
          "2021-05-26T00:00:00",
          "2021-05-26T00:00:00",
          "2021-05-26T00:00:00",
          "2021-05-26T00:00:00",
          "2021-05-26T00:00:00",
          "2021-05-26T00:00:00",
          "2021-05-26T00:00:00",
          "2021-05-26T00:00:00",
          "2021-05-26T00:00:00",
          "2021-05-26T00:00:00",
          "2021-05-26T00:00:00",
          "2021-05-26T00:00:00",
          "2021-05-26T00:00:00",
          "2021-05-26T00:00:00",
          "2021-05-26T00:00:00",
          "2021-05-26T00:00:00",
          "2021-05-26T00:00:00",
          "2021-05-26T00:00:00",
          "2021-05-26T00:00:00",
          "2021-05-26T00:00:00",
          "2021-05-26T00:00:00",
          "2021-05-26T00:00:00",
          "2021-05-26T00:00:00",
          "2021-05-26T00:00:00",
          "2021-05-26T00:00:00",
          "2021-05-26T00:00:00",
          "2021-05-26T00:00:00",
          "2021-05-26T00:00:00",
          "2021-05-26T00:00:00",
          "2021-05-26T00:00:00",
          "2021-05-26T00:00:00",
          "2021-05-26T00:00:00",
          "2021-05-26T00:00:00",
          "2021-05-26T00:00:00",
          "2021-05-26T00:00:00",
          "2021-05-26T00:00:00",
          "2021-05-26T00:00:00",
          "2021-05-26T00:00:00",
          "2021-05-26T00:00:00",
          "2021-05-26T00:00:00",
          "2021-05-26T00:00:00",
          "2021-05-25T00:00:00",
          "2021-05-25T00:00:00",
          "2021-05-25T00:00:00",
          "2021-05-25T00:00:00",
          "2021-05-25T00:00:00",
          "2021-05-25T00:00:00",
          "2021-05-25T00:00:00",
          "2021-05-24T00:00:00",
          "2021-05-24T00:00:00",
          "2021-05-24T00:00:00",
          "2021-05-24T00:00:00",
          "2021-05-24T00:00:00",
          "2021-05-24T00:00:00",
          "2021-05-24T00:00:00",
          "2021-05-24T00:00:00",
          "2021-05-24T00:00:00",
          "2021-05-24T00:00:00",
          "2021-05-24T00:00:00",
          "2021-05-24T00:00:00",
          "2021-05-24T00:00:00",
          "2021-05-24T00:00:00",
          "2021-05-24T00:00:00",
          "2021-05-24T00:00:00",
          "2021-05-24T00:00:00",
          "2021-05-24T00:00:00",
          "2021-05-24T00:00:00",
          "2021-05-24T00:00:00",
          "2021-05-24T00:00:00",
          "2021-05-24T00:00:00",
          "2021-05-24T00:00:00",
          "2021-05-22T00:00:00",
          "2021-05-18T00:00:00"
         ],
         "yaxis": "y",
         "ybingroup": "y"
        }
       ],
       "layout": {
        "annotations": [
         {
          "ax": 10,
          "ay": 20,
          "text": "lockdown",
          "x": "2021-05-27",
          "xanchor": "left",
          "y": "2021-05-27"
         }
        ],
        "coloraxis": {
         "colorbar": {
          "title": {
           "text": "count"
          }
         },
         "colorscale": [
          [
           0,
           "#440154"
          ],
          [
           0.1111111111111111,
           "#482878"
          ],
          [
           0.2222222222222222,
           "#3e4989"
          ],
          [
           0.3333333333333333,
           "#31688e"
          ],
          [
           0.4444444444444444,
           "#26828e"
          ],
          [
           0.5555555555555556,
           "#1f9e89"
          ],
          [
           0.6666666666666666,
           "#35b779"
          ],
          [
           0.7777777777777778,
           "#6ece58"
          ],
          [
           0.8888888888888888,
           "#b5de2b"
          ],
          [
           1,
           "#fde725"
          ]
         ]
        },
        "legend": {
         "tracegroupgap": 0
        },
        "shapes": [
         {
          "type": "line",
          "x0": "2021-05-27",
          "x1": "2021-05-27",
          "xref": "x",
          "y0": 0,
          "y1": 1,
          "yref": "y domain"
         },
         {
          "type": "line",
          "x0": 0,
          "x1": 1,
          "xref": "x domain",
          "y0": "2021-05-27",
          "y1": "2021-05-27",
          "yref": "y"
         }
        ],
        "template": {
         "data": {
          "bar": [
           {
            "error_x": {
             "color": "#f2f5fa"
            },
            "error_y": {
             "color": "#f2f5fa"
            },
            "marker": {
             "line": {
              "color": "rgb(17,17,17)",
              "width": 0.5
             }
            },
            "type": "bar"
           }
          ],
          "barpolar": [
           {
            "marker": {
             "line": {
              "color": "rgb(17,17,17)",
              "width": 0.5
             }
            },
            "type": "barpolar"
           }
          ],
          "carpet": [
           {
            "aaxis": {
             "endlinecolor": "#A2B1C6",
             "gridcolor": "#506784",
             "linecolor": "#506784",
             "minorgridcolor": "#506784",
             "startlinecolor": "#A2B1C6"
            },
            "baxis": {
             "endlinecolor": "#A2B1C6",
             "gridcolor": "#506784",
             "linecolor": "#506784",
             "minorgridcolor": "#506784",
             "startlinecolor": "#A2B1C6"
            },
            "type": "carpet"
           }
          ],
          "choropleth": [
           {
            "colorbar": {
             "outlinewidth": 0,
             "ticks": ""
            },
            "type": "choropleth"
           }
          ],
          "contour": [
           {
            "colorbar": {
             "outlinewidth": 0,
             "ticks": ""
            },
            "colorscale": [
             [
              0,
              "#0d0887"
             ],
             [
              0.1111111111111111,
              "#46039f"
             ],
             [
              0.2222222222222222,
              "#7201a8"
             ],
             [
              0.3333333333333333,
              "#9c179e"
             ],
             [
              0.4444444444444444,
              "#bd3786"
             ],
             [
              0.5555555555555556,
              "#d8576b"
             ],
             [
              0.6666666666666666,
              "#ed7953"
             ],
             [
              0.7777777777777778,
              "#fb9f3a"
             ],
             [
              0.8888888888888888,
              "#fdca26"
             ],
             [
              1,
              "#f0f921"
             ]
            ],
            "type": "contour"
           }
          ],
          "contourcarpet": [
           {
            "colorbar": {
             "outlinewidth": 0,
             "ticks": ""
            },
            "type": "contourcarpet"
           }
          ],
          "heatmap": [
           {
            "colorbar": {
             "outlinewidth": 0,
             "ticks": ""
            },
            "colorscale": [
             [
              0,
              "#0d0887"
             ],
             [
              0.1111111111111111,
              "#46039f"
             ],
             [
              0.2222222222222222,
              "#7201a8"
             ],
             [
              0.3333333333333333,
              "#9c179e"
             ],
             [
              0.4444444444444444,
              "#bd3786"
             ],
             [
              0.5555555555555556,
              "#d8576b"
             ],
             [
              0.6666666666666666,
              "#ed7953"
             ],
             [
              0.7777777777777778,
              "#fb9f3a"
             ],
             [
              0.8888888888888888,
              "#fdca26"
             ],
             [
              1,
              "#f0f921"
             ]
            ],
            "type": "heatmap"
           }
          ],
          "heatmapgl": [
           {
            "colorbar": {
             "outlinewidth": 0,
             "ticks": ""
            },
            "colorscale": [
             [
              0,
              "#0d0887"
             ],
             [
              0.1111111111111111,
              "#46039f"
             ],
             [
              0.2222222222222222,
              "#7201a8"
             ],
             [
              0.3333333333333333,
              "#9c179e"
             ],
             [
              0.4444444444444444,
              "#bd3786"
             ],
             [
              0.5555555555555556,
              "#d8576b"
             ],
             [
              0.6666666666666666,
              "#ed7953"
             ],
             [
              0.7777777777777778,
              "#fb9f3a"
             ],
             [
              0.8888888888888888,
              "#fdca26"
             ],
             [
              1,
              "#f0f921"
             ]
            ],
            "type": "heatmapgl"
           }
          ],
          "histogram": [
           {
            "marker": {
             "colorbar": {
              "outlinewidth": 0,
              "ticks": ""
             }
            },
            "type": "histogram"
           }
          ],
          "histogram2d": [
           {
            "colorbar": {
             "outlinewidth": 0,
             "ticks": ""
            },
            "colorscale": [
             [
              0,
              "#0d0887"
             ],
             [
              0.1111111111111111,
              "#46039f"
             ],
             [
              0.2222222222222222,
              "#7201a8"
             ],
             [
              0.3333333333333333,
              "#9c179e"
             ],
             [
              0.4444444444444444,
              "#bd3786"
             ],
             [
              0.5555555555555556,
              "#d8576b"
             ],
             [
              0.6666666666666666,
              "#ed7953"
             ],
             [
              0.7777777777777778,
              "#fb9f3a"
             ],
             [
              0.8888888888888888,
              "#fdca26"
             ],
             [
              1,
              "#f0f921"
             ]
            ],
            "type": "histogram2d"
           }
          ],
          "histogram2dcontour": [
           {
            "colorbar": {
             "outlinewidth": 0,
             "ticks": ""
            },
            "colorscale": [
             [
              0,
              "#0d0887"
             ],
             [
              0.1111111111111111,
              "#46039f"
             ],
             [
              0.2222222222222222,
              "#7201a8"
             ],
             [
              0.3333333333333333,
              "#9c179e"
             ],
             [
              0.4444444444444444,
              "#bd3786"
             ],
             [
              0.5555555555555556,
              "#d8576b"
             ],
             [
              0.6666666666666666,
              "#ed7953"
             ],
             [
              0.7777777777777778,
              "#fb9f3a"
             ],
             [
              0.8888888888888888,
              "#fdca26"
             ],
             [
              1,
              "#f0f921"
             ]
            ],
            "type": "histogram2dcontour"
           }
          ],
          "mesh3d": [
           {
            "colorbar": {
             "outlinewidth": 0,
             "ticks": ""
            },
            "type": "mesh3d"
           }
          ],
          "parcoords": [
           {
            "line": {
             "colorbar": {
              "outlinewidth": 0,
              "ticks": ""
             }
            },
            "type": "parcoords"
           }
          ],
          "pie": [
           {
            "automargin": true,
            "type": "pie"
           }
          ],
          "scatter": [
           {
            "marker": {
             "line": {
              "color": "#283442"
             }
            },
            "type": "scatter"
           }
          ],
          "scatter3d": [
           {
            "line": {
             "colorbar": {
              "outlinewidth": 0,
              "ticks": ""
             }
            },
            "marker": {
             "colorbar": {
              "outlinewidth": 0,
              "ticks": ""
             }
            },
            "type": "scatter3d"
           }
          ],
          "scattercarpet": [
           {
            "marker": {
             "colorbar": {
              "outlinewidth": 0,
              "ticks": ""
             }
            },
            "type": "scattercarpet"
           }
          ],
          "scattergeo": [
           {
            "marker": {
             "colorbar": {
              "outlinewidth": 0,
              "ticks": ""
             }
            },
            "type": "scattergeo"
           }
          ],
          "scattergl": [
           {
            "marker": {
             "line": {
              "color": "#283442"
             }
            },
            "type": "scattergl"
           }
          ],
          "scattermapbox": [
           {
            "marker": {
             "colorbar": {
              "outlinewidth": 0,
              "ticks": ""
             }
            },
            "type": "scattermapbox"
           }
          ],
          "scatterpolar": [
           {
            "marker": {
             "colorbar": {
              "outlinewidth": 0,
              "ticks": ""
             }
            },
            "type": "scatterpolar"
           }
          ],
          "scatterpolargl": [
           {
            "marker": {
             "colorbar": {
              "outlinewidth": 0,
              "ticks": ""
             }
            },
            "type": "scatterpolargl"
           }
          ],
          "scatterternary": [
           {
            "marker": {
             "colorbar": {
              "outlinewidth": 0,
              "ticks": ""
             }
            },
            "type": "scatterternary"
           }
          ],
          "surface": [
           {
            "colorbar": {
             "outlinewidth": 0,
             "ticks": ""
            },
            "colorscale": [
             [
              0,
              "#0d0887"
             ],
             [
              0.1111111111111111,
              "#46039f"
             ],
             [
              0.2222222222222222,
              "#7201a8"
             ],
             [
              0.3333333333333333,
              "#9c179e"
             ],
             [
              0.4444444444444444,
              "#bd3786"
             ],
             [
              0.5555555555555556,
              "#d8576b"
             ],
             [
              0.6666666666666666,
              "#ed7953"
             ],
             [
              0.7777777777777778,
              "#fb9f3a"
             ],
             [
              0.8888888888888888,
              "#fdca26"
             ],
             [
              1,
              "#f0f921"
             ]
            ],
            "type": "surface"
           }
          ],
          "table": [
           {
            "cells": {
             "fill": {
              "color": "#506784"
             },
             "line": {
              "color": "rgb(17,17,17)"
             }
            },
            "header": {
             "fill": {
              "color": "#2a3f5f"
             },
             "line": {
              "color": "rgb(17,17,17)"
             }
            },
            "type": "table"
           }
          ]
         },
         "layout": {
          "annotationdefaults": {
           "arrowcolor": "#f2f5fa",
           "arrowhead": 0,
           "arrowwidth": 1
          },
          "autotypenumbers": "strict",
          "coloraxis": {
           "colorbar": {
            "outlinewidth": 0,
            "ticks": ""
           }
          },
          "colorscale": {
           "diverging": [
            [
             0,
             "#8e0152"
            ],
            [
             0.1,
             "#c51b7d"
            ],
            [
             0.2,
             "#de77ae"
            ],
            [
             0.3,
             "#f1b6da"
            ],
            [
             0.4,
             "#fde0ef"
            ],
            [
             0.5,
             "#f7f7f7"
            ],
            [
             0.6,
             "#e6f5d0"
            ],
            [
             0.7,
             "#b8e186"
            ],
            [
             0.8,
             "#7fbc41"
            ],
            [
             0.9,
             "#4d9221"
            ],
            [
             1,
             "#276419"
            ]
           ],
           "sequential": [
            [
             0,
             "#0d0887"
            ],
            [
             0.1111111111111111,
             "#46039f"
            ],
            [
             0.2222222222222222,
             "#7201a8"
            ],
            [
             0.3333333333333333,
             "#9c179e"
            ],
            [
             0.4444444444444444,
             "#bd3786"
            ],
            [
             0.5555555555555556,
             "#d8576b"
            ],
            [
             0.6666666666666666,
             "#ed7953"
            ],
            [
             0.7777777777777778,
             "#fb9f3a"
            ],
            [
             0.8888888888888888,
             "#fdca26"
            ],
            [
             1,
             "#f0f921"
            ]
           ],
           "sequentialminus": [
            [
             0,
             "#0d0887"
            ],
            [
             0.1111111111111111,
             "#46039f"
            ],
            [
             0.2222222222222222,
             "#7201a8"
            ],
            [
             0.3333333333333333,
             "#9c179e"
            ],
            [
             0.4444444444444444,
             "#bd3786"
            ],
            [
             0.5555555555555556,
             "#d8576b"
            ],
            [
             0.6666666666666666,
             "#ed7953"
            ],
            [
             0.7777777777777778,
             "#fb9f3a"
            ],
            [
             0.8888888888888888,
             "#fdca26"
            ],
            [
             1,
             "#f0f921"
            ]
           ]
          },
          "colorway": [
           "#636efa",
           "#EF553B",
           "#00cc96",
           "#ab63fa",
           "#FFA15A",
           "#19d3f3",
           "#FF6692",
           "#B6E880",
           "#FF97FF",
           "#FECB52"
          ],
          "font": {
           "color": "#f2f5fa"
          },
          "geo": {
           "bgcolor": "rgb(17,17,17)",
           "lakecolor": "rgb(17,17,17)",
           "landcolor": "rgb(17,17,17)",
           "showlakes": true,
           "showland": true,
           "subunitcolor": "#506784"
          },
          "hoverlabel": {
           "align": "left"
          },
          "hovermode": "closest",
          "mapbox": {
           "style": "dark"
          },
          "paper_bgcolor": "rgb(17,17,17)",
          "plot_bgcolor": "rgb(17,17,17)",
          "polar": {
           "angularaxis": {
            "gridcolor": "#506784",
            "linecolor": "#506784",
            "ticks": ""
           },
           "bgcolor": "rgb(17,17,17)",
           "radialaxis": {
            "gridcolor": "#506784",
            "linecolor": "#506784",
            "ticks": ""
           }
          },
          "scene": {
           "xaxis": {
            "backgroundcolor": "rgb(17,17,17)",
            "gridcolor": "#506784",
            "gridwidth": 2,
            "linecolor": "#506784",
            "showbackground": true,
            "ticks": "",
            "zerolinecolor": "#C8D4E3"
           },
           "yaxis": {
            "backgroundcolor": "rgb(17,17,17)",
            "gridcolor": "#506784",
            "gridwidth": 2,
            "linecolor": "#506784",
            "showbackground": true,
            "ticks": "",
            "zerolinecolor": "#C8D4E3"
           },
           "zaxis": {
            "backgroundcolor": "rgb(17,17,17)",
            "gridcolor": "#506784",
            "gridwidth": 2,
            "linecolor": "#506784",
            "showbackground": true,
            "ticks": "",
            "zerolinecolor": "#C8D4E3"
           }
          },
          "shapedefaults": {
           "line": {
            "color": "#f2f5fa"
           }
          },
          "sliderdefaults": {
           "bgcolor": "#C8D4E3",
           "bordercolor": "rgb(17,17,17)",
           "borderwidth": 1,
           "tickwidth": 0
          },
          "ternary": {
           "aaxis": {
            "gridcolor": "#506784",
            "linecolor": "#506784",
            "ticks": ""
           },
           "baxis": {
            "gridcolor": "#506784",
            "linecolor": "#506784",
            "ticks": ""
           },
           "bgcolor": "rgb(17,17,17)",
           "caxis": {
            "gridcolor": "#506784",
            "linecolor": "#506784",
            "ticks": ""
           }
          },
          "title": {
           "x": 0.05
          },
          "updatemenudefaults": {
           "bgcolor": "#506784",
           "borderwidth": 0
          },
          "xaxis": {
           "automargin": true,
           "gridcolor": "#283442",
           "linecolor": "#506784",
           "ticks": "",
           "title": {
            "standoff": 15
           },
           "zerolinecolor": "#283442",
           "zerolinewidth": 2
          },
          "yaxis": {
           "automargin": true,
           "gridcolor": "#283442",
           "linecolor": "#506784",
           "ticks": "",
           "title": {
            "standoff": 15
           },
           "zerolinecolor": "#283442",
           "zerolinewidth": 2
          }
         }
        },
        "title": {
         "text": "Exposure site counts by date added"
        },
        "xaxis": {
         "anchor": "y",
         "domain": [
          0,
          1
         ],
         "title": {
          "text": "Exposure Date"
         }
        },
        "yaxis": {
         "anchor": "x",
         "domain": [
          0,
          1
         ],
         "title": {
          "text": "Date Added"
         }
        }
       }
      },
      "text/html": [
       "<div>                            <div id=\"05b48cf2-3a41-4c01-9ccb-a6853127de69\" class=\"plotly-graph-div\" style=\"height:525px; width:100%;\"></div>            <script type=\"text/javascript\">                require([\"plotly\"], function(Plotly) {                    window.PLOTLYENV=window.PLOTLYENV || {};                                    if (document.getElementById(\"05b48cf2-3a41-4c01-9ccb-a6853127de69\")) {                    Plotly.newPlot(                        \"05b48cf2-3a41-4c01-9ccb-a6853127de69\",                        [{\"coloraxis\": \"coloraxis\", \"hovertemplate\": \"date_exposure=%{x}<br>date_added=%{y}<br>count=%{z}<extra></extra>\", \"name\": \"\", \"nbinsx\": 20, \"nbinsy\": 20, \"type\": \"histogram2d\", \"x\": [\"2021-05-23T00:00:00\", \"2021-05-28T00:00:00\", \"2021-05-28T00:00:00\", \"2021-05-28T00:00:00\", \"2021-05-26T00:00:00\", \"2021-05-27T00:00:00\", \"2021-05-28T00:00:00\", \"2021-05-29T00:00:00\", \"2021-05-26T00:00:00\", \"2021-05-26T00:00:00\", \"2021-05-26T00:00:00\", \"2021-05-27T00:00:00\", \"2021-05-28T00:00:00\", \"2021-05-29T00:00:00\", \"2021-05-28T00:00:00\", \"2021-05-25T00:00:00\", \"2021-05-27T00:00:00\", \"2021-05-27T00:00:00\", \"2021-05-27T00:00:00\", \"2021-05-22T00:00:00\", \"2021-05-23T00:00:00\", \"2021-05-23T00:00:00\", \"2021-05-25T00:00:00\", \"2021-05-21T00:00:00\", \"2021-05-26T00:00:00\", \"2021-05-26T00:00:00\", \"2021-05-24T00:00:00\", \"2021-05-25T00:00:00\", \"2021-05-26T00:00:00\", \"2021-05-26T00:00:00\", \"2021-05-15T00:00:00\", \"2021-05-15T00:00:00\", \"2021-05-22T00:00:00\", \"2021-05-23T00:00:00\", \"2021-05-20T00:00:00\", \"2021-05-18T00:00:00\", \"2021-05-26T00:00:00\", \"2021-05-26T00:00:00\", \"2021-05-26T00:00:00\", \"2021-05-25T00:00:00\", \"2021-05-25T00:00:00\", \"2021-05-24T00:00:00\", \"2021-05-23T00:00:00\", \"2021-05-23T00:00:00\", \"2021-05-25T00:00:00\", \"2021-05-22T00:00:00\", \"2021-05-23T00:00:00\", \"2021-05-22T00:00:00\", \"2021-05-22T00:00:00\", \"2021-05-23T00:00:00\", \"2021-05-26T00:00:00\", \"2021-05-24T00:00:00\", \"2021-05-23T00:00:00\", \"2021-05-22T00:00:00\", \"2021-05-24T00:00:00\", \"2021-05-24T00:00:00\", \"2021-05-23T00:00:00\", \"2021-05-22T00:00:00\", \"2021-05-24T00:00:00\", \"2021-05-22T00:00:00\", \"2021-05-27T00:00:00\", \"2021-05-27T00:00:00\", \"2021-05-26T00:00:00\", \"2021-05-23T00:00:00\", \"2021-05-23T00:00:00\", \"2021-05-26T00:00:00\", \"2021-05-26T00:00:00\", \"2021-05-26T00:00:00\", \"2021-05-21T00:00:00\", \"2021-05-22T00:00:00\", \"2021-05-24T00:00:00\", \"2021-05-17T00:00:00\", \"2021-05-17T00:00:00\", \"2021-05-26T00:00:00\", \"2021-05-26T00:00:00\", \"2021-05-26T00:00:00\", \"2021-05-27T00:00:00\", \"2021-05-24T00:00:00\", \"2021-05-19T00:00:00\", \"2021-05-22T00:00:00\", \"2021-05-26T00:00:00\", \"2021-05-27T00:00:00\", \"2021-05-17T00:00:00\", \"2021-05-18T00:00:00\", \"2021-05-22T00:00:00\", \"2021-05-25T00:00:00\", \"2021-05-25T00:00:00\", \"2021-05-25T00:00:00\", \"2021-05-22T00:00:00\", \"2021-05-22T00:00:00\", \"2021-05-26T00:00:00\", \"2021-05-22T00:00:00\", \"2021-05-22T00:00:00\", \"2021-05-22T00:00:00\", \"2021-05-19T00:00:00\", \"2021-05-22T00:00:00\", \"2021-05-18T00:00:00\", \"2021-05-25T00:00:00\", \"2021-05-26T00:00:00\", \"2021-05-24T00:00:00\", \"2021-05-17T00:00:00\", \"2021-05-18T00:00:00\", \"2021-05-20T00:00:00\", \"2021-05-21T00:00:00\", \"2021-05-24T00:00:00\", \"2021-05-25T00:00:00\", \"2021-05-27T00:00:00\", \"2021-05-28T00:00:00\", \"2021-05-12T00:00:00\", \"2021-05-13T00:00:00\", \"2021-05-20T00:00:00\", \"2021-05-25T00:00:00\", \"2021-05-19T00:00:00\", \"2021-05-25T00:00:00\", \"2021-05-26T00:00:00\", \"2021-05-23T00:00:00\", \"2021-05-19T00:00:00\", \"2021-05-25T00:00:00\", \"2021-05-22T00:00:00\", \"2021-05-26T00:00:00\", \"2021-05-24T00:00:00\", \"2021-05-26T00:00:00\", \"2021-05-21T00:00:00\", \"2021-05-25T00:00:00\", \"2021-05-26T00:00:00\", \"2021-05-26T00:00:00\", \"2021-05-27T00:00:00\", \"2021-05-27T00:00:00\", \"2021-05-27T00:00:00\", \"2021-05-28T00:00:00\", \"2021-05-23T00:00:00\", \"2021-05-26T00:00:00\", \"2021-05-26T00:00:00\", \"2021-05-26T00:00:00\", \"2021-05-25T00:00:00\", \"2021-05-24T00:00:00\", \"2021-05-25T00:00:00\", \"2021-05-25T00:00:00\", \"2021-05-25T00:00:00\", \"2021-05-24T00:00:00\", \"2021-05-22T00:00:00\", \"2021-05-22T00:00:00\", \"2021-05-23T00:00:00\", \"2021-05-22T00:00:00\", \"2021-05-21T00:00:00\", \"2021-05-23T00:00:00\", \"2021-05-25T00:00:00\", \"2021-05-19T00:00:00\", \"2021-05-19T00:00:00\", \"2021-05-19T00:00:00\", \"2021-05-19T00:00:00\", \"2021-05-19T00:00:00\", \"2021-05-25T00:00:00\", \"2021-05-19T00:00:00\", \"2021-05-18T00:00:00\", \"2021-05-18T00:00:00\", \"2021-05-18T00:00:00\", \"2021-05-18T00:00:00\", \"2021-05-25T00:00:00\", \"2021-05-24T00:00:00\", \"2021-05-23T00:00:00\", \"2021-05-23T00:00:00\", \"2021-05-23T00:00:00\", \"2021-05-22T00:00:00\", \"2021-05-24T00:00:00\", \"2021-05-25T00:00:00\", \"2021-05-26T00:00:00\", \"2021-05-22T00:00:00\", \"2021-05-23T00:00:00\", \"2021-05-25T00:00:00\", \"2021-05-26T00:00:00\", \"2021-05-27T00:00:00\", \"2021-05-22T00:00:00\", \"2021-05-22T00:00:00\", \"2021-05-22T00:00:00\", \"2021-05-23T00:00:00\", \"2021-05-25T00:00:00\", \"2021-05-24T00:00:00\", \"2021-05-25T00:00:00\", \"2021-05-24T00:00:00\", \"2021-05-23T00:00:00\", \"2021-05-24T00:00:00\", \"2021-05-25T00:00:00\", \"2021-05-25T00:00:00\", \"2021-05-13T00:00:00\", \"2021-05-23T00:00:00\", \"2021-05-23T00:00:00\", \"2021-05-23T00:00:00\", \"2021-05-23T00:00:00\", \"2021-05-25T00:00:00\", \"2021-05-24T00:00:00\", \"2021-05-24T00:00:00\", \"2021-05-22T00:00:00\", \"2021-05-22T00:00:00\", \"2021-05-22T00:00:00\", \"2021-05-22T00:00:00\", \"2021-05-21T00:00:00\", \"2021-05-24T00:00:00\", \"2021-05-22T00:00:00\", \"2021-05-20T00:00:00\", \"2021-05-24T00:00:00\", \"2021-05-24T00:00:00\", \"2021-05-24T00:00:00\", \"2021-05-24T00:00:00\", \"2021-05-24T00:00:00\", \"2021-05-23T00:00:00\", \"2021-05-21T00:00:00\", \"2021-05-24T00:00:00\", \"2021-05-25T00:00:00\", \"2021-05-22T00:00:00\", \"2021-05-23T00:00:00\", \"2021-05-22T00:00:00\", \"2021-05-23T00:00:00\", \"2021-05-14T00:00:00\", \"2021-05-14T00:00:00\", \"2021-05-14T00:00:00\", \"2021-05-23T00:00:00\", \"2021-05-25T00:00:00\", \"2021-05-22T00:00:00\", \"2021-05-23T00:00:00\", \"2021-05-21T00:00:00\", \"2021-05-20T00:00:00\", \"2021-05-23T00:00:00\", \"2021-05-22T00:00:00\", \"2021-05-21T00:00:00\", \"2021-05-22T00:00:00\", \"2021-05-23T00:00:00\", \"2021-05-22T00:00:00\", \"2021-05-23T00:00:00\", \"2021-05-21T00:00:00\", \"2021-05-23T00:00:00\", \"2021-05-24T00:00:00\", \"2021-05-23T00:00:00\", \"2021-05-21T00:00:00\", \"2021-05-24T00:00:00\", \"2021-05-23T00:00:00\", \"2021-05-23T00:00:00\", \"2021-05-22T00:00:00\", \"2021-05-22T00:00:00\", \"2021-05-18T00:00:00\", \"2021-05-20T00:00:00\", \"2021-05-21T00:00:00\", \"2021-05-22T00:00:00\", \"2021-05-23T00:00:00\", \"2021-05-24T00:00:00\", \"2021-05-25T00:00:00\", \"2021-05-24T00:00:00\", \"2021-05-23T00:00:00\", \"2021-05-21T00:00:00\", \"2021-05-23T00:00:00\", \"2021-05-23T00:00:00\", \"2021-05-22T00:00:00\", \"2021-05-22T00:00:00\", \"2021-05-23T00:00:00\", \"2021-05-23T00:00:00\", \"2021-05-23T00:00:00\", \"2021-05-22T00:00:00\", \"2021-05-22T00:00:00\", \"2021-05-22T00:00:00\", \"2021-05-20T00:00:00\", \"2021-05-20T00:00:00\", \"2021-05-22T00:00:00\", \"2021-05-24T00:00:00\", \"2021-05-24T00:00:00\", \"2021-05-21T00:00:00\", \"2021-05-22T00:00:00\", \"2021-05-19T00:00:00\", \"2021-05-20T00:00:00\", \"2021-05-19T00:00:00\", \"2021-05-19T00:00:00\", \"2021-05-19T00:00:00\", \"2021-05-20T00:00:00\", \"2021-05-17T00:00:00\", \"2021-05-19T00:00:00\", \"2021-05-23T00:00:00\", \"2021-05-23T00:00:00\", \"2021-05-22T00:00:00\", \"2021-05-21T00:00:00\", \"2021-05-22T00:00:00\", \"2021-05-17T00:00:00\", \"2021-05-18T00:00:00\", \"2021-05-20T00:00:00\", \"2021-05-22T00:00:00\", \"2021-05-21T00:00:00\", \"2021-05-22T00:00:00\", \"2021-05-23T00:00:00\", \"2021-05-23T00:00:00\", \"2021-05-20T00:00:00\", \"2021-05-20T00:00:00\", \"2021-05-20T00:00:00\", \"2021-05-20T00:00:00\", \"2021-05-20T00:00:00\", \"2021-05-20T00:00:00\", \"2021-05-21T00:00:00\", \"2021-05-23T00:00:00\", \"2021-05-23T00:00:00\", \"2021-05-22T00:00:00\", \"2021-05-18T00:00:00\"], \"xaxis\": \"x\", \"xbingroup\": \"x\", \"y\": [\"2021-06-01T00:00:00\", \"2021-06-01T00:00:00\", \"2021-06-01T00:00:00\", \"2021-06-01T00:00:00\", \"2021-05-31T00:00:00\", \"2021-05-31T00:00:00\", \"2021-05-31T00:00:00\", \"2021-05-31T00:00:00\", \"2021-05-31T00:00:00\", \"2021-05-31T00:00:00\", \"2021-05-31T00:00:00\", \"2021-05-31T00:00:00\", \"2021-05-31T00:00:00\", \"2021-05-31T00:00:00\", \"2021-05-31T00:00:00\", \"2021-05-31T00:00:00\", \"2021-05-31T00:00:00\", \"2021-05-31T00:00:00\", \"2021-05-31T00:00:00\", \"2021-05-31T00:00:00\", \"2021-05-31T00:00:00\", \"2021-05-31T00:00:00\", \"2021-05-31T00:00:00\", \"2021-05-31T00:00:00\", \"2021-05-31T00:00:00\", \"2021-05-31T00:00:00\", \"2021-05-30T00:00:00\", \"2021-05-30T00:00:00\", \"2021-05-30T00:00:00\", \"2021-05-30T00:00:00\", \"2021-05-30T00:00:00\", \"2021-05-30T00:00:00\", \"2021-05-30T00:00:00\", \"2021-05-30T00:00:00\", \"2021-05-30T00:00:00\", \"2021-05-30T00:00:00\", \"2021-05-30T00:00:00\", \"2021-05-30T00:00:00\", \"2021-05-30T00:00:00\", \"2021-05-30T00:00:00\", \"2021-05-30T00:00:00\", \"2021-05-30T00:00:00\", \"2021-05-30T00:00:00\", \"2021-05-30T00:00:00\", \"2021-05-30T00:00:00\", \"2021-05-30T00:00:00\", \"2021-05-30T00:00:00\", \"2021-05-30T00:00:00\", \"2021-05-30T00:00:00\", \"2021-05-30T00:00:00\", \"2021-05-30T00:00:00\", \"2021-05-30T00:00:00\", \"2021-05-30T00:00:00\", \"2021-05-30T00:00:00\", \"2021-05-30T00:00:00\", \"2021-05-30T00:00:00\", \"2021-05-30T00:00:00\", \"2021-05-30T00:00:00\", \"2021-05-30T00:00:00\", \"2021-05-30T00:00:00\", \"2021-05-30T00:00:00\", \"2021-05-30T00:00:00\", \"2021-05-30T00:00:00\", \"2021-05-30T00:00:00\", \"2021-05-30T00:00:00\", \"2021-05-30T00:00:00\", \"2021-05-30T00:00:00\", \"2021-05-30T00:00:00\", \"2021-05-30T00:00:00\", \"2021-05-30T00:00:00\", \"2021-05-30T00:00:00\", \"2021-05-30T00:00:00\", \"2021-05-30T00:00:00\", \"2021-05-30T00:00:00\", \"2021-05-30T00:00:00\", \"2021-05-30T00:00:00\", \"2021-05-30T00:00:00\", \"2021-05-30T00:00:00\", \"2021-05-30T00:00:00\", \"2021-05-30T00:00:00\", \"2021-05-30T00:00:00\", \"2021-05-30T00:00:00\", \"2021-05-30T00:00:00\", \"2021-05-30T00:00:00\", \"2021-05-30T00:00:00\", \"2021-05-30T00:00:00\", \"2021-05-30T00:00:00\", \"2021-05-30T00:00:00\", \"2021-05-30T00:00:00\", \"2021-05-30T00:00:00\", \"2021-05-30T00:00:00\", \"2021-05-30T00:00:00\", \"2021-05-30T00:00:00\", \"2021-05-30T00:00:00\", \"2021-05-30T00:00:00\", \"2021-05-30T00:00:00\", \"2021-05-30T00:00:00\", \"2021-05-30T00:00:00\", \"2021-05-30T00:00:00\", \"2021-05-30T00:00:00\", \"2021-05-30T00:00:00\", \"2021-05-30T00:00:00\", \"2021-05-30T00:00:00\", \"2021-05-30T00:00:00\", \"2021-05-30T00:00:00\", \"2021-05-30T00:00:00\", \"2021-05-30T00:00:00\", \"2021-05-30T00:00:00\", \"2021-05-30T00:00:00\", \"2021-05-30T00:00:00\", \"2021-05-30T00:00:00\", \"2021-05-30T00:00:00\", \"2021-05-30T00:00:00\", \"2021-05-30T00:00:00\", \"2021-05-30T00:00:00\", \"2021-05-30T00:00:00\", \"2021-05-30T00:00:00\", \"2021-05-30T00:00:00\", \"2021-05-30T00:00:00\", \"2021-05-30T00:00:00\", \"2021-05-30T00:00:00\", \"2021-05-30T00:00:00\", \"2021-05-30T00:00:00\", \"2021-05-30T00:00:00\", \"2021-05-29T00:00:00\", \"2021-05-29T00:00:00\", \"2021-05-29T00:00:00\", \"2021-05-29T00:00:00\", \"2021-05-29T00:00:00\", \"2021-05-29T00:00:00\", \"2021-05-29T00:00:00\", \"2021-05-29T00:00:00\", \"2021-05-29T00:00:00\", \"2021-05-29T00:00:00\", \"2021-05-29T00:00:00\", \"2021-05-29T00:00:00\", \"2021-05-29T00:00:00\", \"2021-05-29T00:00:00\", \"2021-05-29T00:00:00\", \"2021-05-29T00:00:00\", \"2021-05-29T00:00:00\", \"2021-05-29T00:00:00\", \"2021-05-29T00:00:00\", \"2021-05-29T00:00:00\", \"2021-05-29T00:00:00\", \"2021-05-29T00:00:00\", \"2021-05-29T00:00:00\", \"2021-05-28T00:00:00\", \"2021-05-28T00:00:00\", \"2021-05-28T00:00:00\", \"2021-05-28T00:00:00\", \"2021-05-28T00:00:00\", \"2021-05-28T00:00:00\", \"2021-05-28T00:00:00\", \"2021-05-28T00:00:00\", \"2021-05-28T00:00:00\", \"2021-05-28T00:00:00\", \"2021-05-28T00:00:00\", \"2021-05-28T00:00:00\", \"2021-05-28T00:00:00\", \"2021-05-28T00:00:00\", \"2021-05-28T00:00:00\", \"2021-05-28T00:00:00\", \"2021-05-28T00:00:00\", \"2021-05-28T00:00:00\", \"2021-05-28T00:00:00\", \"2021-05-28T00:00:00\", \"2021-05-28T00:00:00\", \"2021-05-28T00:00:00\", \"2021-05-28T00:00:00\", \"2021-05-28T00:00:00\", \"2021-05-28T00:00:00\", \"2021-05-28T00:00:00\", \"2021-05-28T00:00:00\", \"2021-05-28T00:00:00\", \"2021-05-28T00:00:00\", \"2021-05-28T00:00:00\", \"2021-05-28T00:00:00\", \"2021-05-28T00:00:00\", \"2021-05-28T00:00:00\", \"2021-05-28T00:00:00\", \"2021-05-27T00:00:00\", \"2021-05-27T00:00:00\", \"2021-05-27T00:00:00\", \"2021-05-27T00:00:00\", \"2021-05-27T00:00:00\", \"2021-05-27T00:00:00\", \"2021-05-27T00:00:00\", \"2021-05-27T00:00:00\", \"2021-05-27T00:00:00\", \"2021-05-27T00:00:00\", \"2021-05-27T00:00:00\", \"2021-05-27T00:00:00\", \"2021-05-27T00:00:00\", \"2021-05-27T00:00:00\", \"2021-05-27T00:00:00\", \"2021-05-27T00:00:00\", \"2021-05-27T00:00:00\", \"2021-05-27T00:00:00\", \"2021-05-27T00:00:00\", \"2021-05-27T00:00:00\", \"2021-05-27T00:00:00\", \"2021-05-27T00:00:00\", \"2021-05-27T00:00:00\", \"2021-05-27T00:00:00\", \"2021-05-27T00:00:00\", \"2021-05-27T00:00:00\", \"2021-05-27T00:00:00\", \"2021-05-27T00:00:00\", \"2021-05-27T00:00:00\", \"2021-05-27T00:00:00\", \"2021-05-27T00:00:00\", \"2021-05-27T00:00:00\", \"2021-05-27T00:00:00\", \"2021-05-27T00:00:00\", \"2021-05-27T00:00:00\", \"2021-05-27T00:00:00\", \"2021-05-27T00:00:00\", \"2021-05-27T00:00:00\", \"2021-05-26T00:00:00\", \"2021-05-26T00:00:00\", \"2021-05-26T00:00:00\", \"2021-05-26T00:00:00\", \"2021-05-26T00:00:00\", \"2021-05-26T00:00:00\", \"2021-05-26T00:00:00\", \"2021-05-26T00:00:00\", \"2021-05-26T00:00:00\", \"2021-05-26T00:00:00\", \"2021-05-26T00:00:00\", \"2021-05-26T00:00:00\", \"2021-05-26T00:00:00\", \"2021-05-26T00:00:00\", \"2021-05-26T00:00:00\", \"2021-05-26T00:00:00\", \"2021-05-26T00:00:00\", \"2021-05-26T00:00:00\", \"2021-05-26T00:00:00\", \"2021-05-26T00:00:00\", \"2021-05-26T00:00:00\", \"2021-05-26T00:00:00\", \"2021-05-26T00:00:00\", \"2021-05-26T00:00:00\", \"2021-05-26T00:00:00\", \"2021-05-26T00:00:00\", \"2021-05-26T00:00:00\", \"2021-05-26T00:00:00\", \"2021-05-26T00:00:00\", \"2021-05-26T00:00:00\", \"2021-05-26T00:00:00\", \"2021-05-26T00:00:00\", \"2021-05-26T00:00:00\", \"2021-05-26T00:00:00\", \"2021-05-26T00:00:00\", \"2021-05-26T00:00:00\", \"2021-05-26T00:00:00\", \"2021-05-26T00:00:00\", \"2021-05-26T00:00:00\", \"2021-05-26T00:00:00\", \"2021-05-26T00:00:00\", \"2021-05-26T00:00:00\", \"2021-05-26T00:00:00\", \"2021-05-26T00:00:00\", \"2021-05-26T00:00:00\", \"2021-05-26T00:00:00\", \"2021-05-26T00:00:00\", \"2021-05-25T00:00:00\", \"2021-05-25T00:00:00\", \"2021-05-25T00:00:00\", \"2021-05-25T00:00:00\", \"2021-05-25T00:00:00\", \"2021-05-25T00:00:00\", \"2021-05-25T00:00:00\", \"2021-05-24T00:00:00\", \"2021-05-24T00:00:00\", \"2021-05-24T00:00:00\", \"2021-05-24T00:00:00\", \"2021-05-24T00:00:00\", \"2021-05-24T00:00:00\", \"2021-05-24T00:00:00\", \"2021-05-24T00:00:00\", \"2021-05-24T00:00:00\", \"2021-05-24T00:00:00\", \"2021-05-24T00:00:00\", \"2021-05-24T00:00:00\", \"2021-05-24T00:00:00\", \"2021-05-24T00:00:00\", \"2021-05-24T00:00:00\", \"2021-05-24T00:00:00\", \"2021-05-24T00:00:00\", \"2021-05-24T00:00:00\", \"2021-05-24T00:00:00\", \"2021-05-24T00:00:00\", \"2021-05-24T00:00:00\", \"2021-05-24T00:00:00\", \"2021-05-24T00:00:00\", \"2021-05-22T00:00:00\", \"2021-05-18T00:00:00\"], \"yaxis\": \"y\", \"ybingroup\": \"y\"}],                        {\"annotations\": [{\"ax\": 10, \"ay\": 20, \"text\": \"lockdown\", \"x\": \"2021-05-27\", \"xanchor\": \"left\", \"y\": \"2021-05-27\"}], \"coloraxis\": {\"colorbar\": {\"title\": {\"text\": \"count\"}}, \"colorscale\": [[0.0, \"#440154\"], [0.1111111111111111, \"#482878\"], [0.2222222222222222, \"#3e4989\"], [0.3333333333333333, \"#31688e\"], [0.4444444444444444, \"#26828e\"], [0.5555555555555556, \"#1f9e89\"], [0.6666666666666666, \"#35b779\"], [0.7777777777777778, \"#6ece58\"], [0.8888888888888888, \"#b5de2b\"], [1.0, \"#fde725\"]]}, \"legend\": {\"tracegroupgap\": 0}, \"shapes\": [{\"type\": \"line\", \"x0\": \"2021-05-27\", \"x1\": \"2021-05-27\", \"xref\": \"x\", \"y0\": 0, \"y1\": 1, \"yref\": \"y domain\"}, {\"type\": \"line\", \"x0\": 0, \"x1\": 1, \"xref\": \"x domain\", \"y0\": \"2021-05-27\", \"y1\": \"2021-05-27\", \"yref\": \"y\"}], \"template\": {\"data\": {\"bar\": [{\"error_x\": {\"color\": \"#f2f5fa\"}, \"error_y\": {\"color\": \"#f2f5fa\"}, \"marker\": {\"line\": {\"color\": \"rgb(17,17,17)\", \"width\": 0.5}}, \"type\": \"bar\"}], \"barpolar\": [{\"marker\": {\"line\": {\"color\": \"rgb(17,17,17)\", \"width\": 0.5}}, \"type\": \"barpolar\"}], \"carpet\": [{\"aaxis\": {\"endlinecolor\": \"#A2B1C6\", \"gridcolor\": \"#506784\", \"linecolor\": \"#506784\", \"minorgridcolor\": \"#506784\", \"startlinecolor\": \"#A2B1C6\"}, \"baxis\": {\"endlinecolor\": \"#A2B1C6\", \"gridcolor\": \"#506784\", \"linecolor\": \"#506784\", \"minorgridcolor\": \"#506784\", \"startlinecolor\": \"#A2B1C6\"}, \"type\": \"carpet\"}], \"choropleth\": [{\"colorbar\": {\"outlinewidth\": 0, \"ticks\": \"\"}, \"type\": \"choropleth\"}], \"contour\": [{\"colorbar\": {\"outlinewidth\": 0, \"ticks\": \"\"}, \"colorscale\": [[0.0, \"#0d0887\"], [0.1111111111111111, \"#46039f\"], [0.2222222222222222, \"#7201a8\"], [0.3333333333333333, \"#9c179e\"], [0.4444444444444444, \"#bd3786\"], [0.5555555555555556, \"#d8576b\"], [0.6666666666666666, \"#ed7953\"], [0.7777777777777778, \"#fb9f3a\"], [0.8888888888888888, \"#fdca26\"], [1.0, \"#f0f921\"]], \"type\": \"contour\"}], \"contourcarpet\": [{\"colorbar\": {\"outlinewidth\": 0, \"ticks\": \"\"}, \"type\": \"contourcarpet\"}], \"heatmap\": [{\"colorbar\": {\"outlinewidth\": 0, \"ticks\": \"\"}, \"colorscale\": [[0.0, \"#0d0887\"], [0.1111111111111111, \"#46039f\"], [0.2222222222222222, \"#7201a8\"], [0.3333333333333333, \"#9c179e\"], [0.4444444444444444, \"#bd3786\"], [0.5555555555555556, \"#d8576b\"], [0.6666666666666666, \"#ed7953\"], [0.7777777777777778, \"#fb9f3a\"], [0.8888888888888888, \"#fdca26\"], [1.0, \"#f0f921\"]], \"type\": \"heatmap\"}], \"heatmapgl\": [{\"colorbar\": {\"outlinewidth\": 0, \"ticks\": \"\"}, \"colorscale\": [[0.0, \"#0d0887\"], [0.1111111111111111, \"#46039f\"], [0.2222222222222222, \"#7201a8\"], [0.3333333333333333, \"#9c179e\"], [0.4444444444444444, \"#bd3786\"], [0.5555555555555556, \"#d8576b\"], [0.6666666666666666, \"#ed7953\"], [0.7777777777777778, \"#fb9f3a\"], [0.8888888888888888, \"#fdca26\"], [1.0, \"#f0f921\"]], \"type\": \"heatmapgl\"}], \"histogram\": [{\"marker\": {\"colorbar\": {\"outlinewidth\": 0, \"ticks\": \"\"}}, \"type\": \"histogram\"}], \"histogram2d\": [{\"colorbar\": {\"outlinewidth\": 0, \"ticks\": \"\"}, \"colorscale\": [[0.0, \"#0d0887\"], [0.1111111111111111, \"#46039f\"], [0.2222222222222222, \"#7201a8\"], [0.3333333333333333, \"#9c179e\"], [0.4444444444444444, \"#bd3786\"], [0.5555555555555556, \"#d8576b\"], [0.6666666666666666, \"#ed7953\"], [0.7777777777777778, \"#fb9f3a\"], [0.8888888888888888, \"#fdca26\"], [1.0, \"#f0f921\"]], \"type\": \"histogram2d\"}], \"histogram2dcontour\": [{\"colorbar\": {\"outlinewidth\": 0, \"ticks\": \"\"}, \"colorscale\": [[0.0, \"#0d0887\"], [0.1111111111111111, \"#46039f\"], [0.2222222222222222, \"#7201a8\"], [0.3333333333333333, \"#9c179e\"], [0.4444444444444444, \"#bd3786\"], [0.5555555555555556, \"#d8576b\"], [0.6666666666666666, \"#ed7953\"], [0.7777777777777778, \"#fb9f3a\"], [0.8888888888888888, \"#fdca26\"], [1.0, \"#f0f921\"]], \"type\": \"histogram2dcontour\"}], \"mesh3d\": [{\"colorbar\": {\"outlinewidth\": 0, \"ticks\": \"\"}, \"type\": \"mesh3d\"}], \"parcoords\": [{\"line\": {\"colorbar\": {\"outlinewidth\": 0, \"ticks\": \"\"}}, \"type\": \"parcoords\"}], \"pie\": [{\"automargin\": true, \"type\": \"pie\"}], \"scatter\": [{\"marker\": {\"line\": {\"color\": \"#283442\"}}, \"type\": \"scatter\"}], \"scatter3d\": [{\"line\": {\"colorbar\": {\"outlinewidth\": 0, \"ticks\": \"\"}}, \"marker\": {\"colorbar\": {\"outlinewidth\": 0, \"ticks\": \"\"}}, \"type\": \"scatter3d\"}], \"scattercarpet\": [{\"marker\": {\"colorbar\": {\"outlinewidth\": 0, \"ticks\": \"\"}}, \"type\": \"scattercarpet\"}], \"scattergeo\": [{\"marker\": {\"colorbar\": {\"outlinewidth\": 0, \"ticks\": \"\"}}, \"type\": \"scattergeo\"}], \"scattergl\": [{\"marker\": {\"line\": {\"color\": \"#283442\"}}, \"type\": \"scattergl\"}], \"scattermapbox\": [{\"marker\": {\"colorbar\": {\"outlinewidth\": 0, \"ticks\": \"\"}}, \"type\": \"scattermapbox\"}], \"scatterpolar\": [{\"marker\": {\"colorbar\": {\"outlinewidth\": 0, \"ticks\": \"\"}}, \"type\": \"scatterpolar\"}], \"scatterpolargl\": [{\"marker\": {\"colorbar\": {\"outlinewidth\": 0, \"ticks\": \"\"}}, \"type\": \"scatterpolargl\"}], \"scatterternary\": [{\"marker\": {\"colorbar\": {\"outlinewidth\": 0, \"ticks\": \"\"}}, \"type\": \"scatterternary\"}], \"surface\": [{\"colorbar\": {\"outlinewidth\": 0, \"ticks\": \"\"}, \"colorscale\": [[0.0, \"#0d0887\"], [0.1111111111111111, \"#46039f\"], [0.2222222222222222, \"#7201a8\"], [0.3333333333333333, \"#9c179e\"], [0.4444444444444444, \"#bd3786\"], [0.5555555555555556, \"#d8576b\"], [0.6666666666666666, \"#ed7953\"], [0.7777777777777778, \"#fb9f3a\"], [0.8888888888888888, \"#fdca26\"], [1.0, \"#f0f921\"]], \"type\": \"surface\"}], \"table\": [{\"cells\": {\"fill\": {\"color\": \"#506784\"}, \"line\": {\"color\": \"rgb(17,17,17)\"}}, \"header\": {\"fill\": {\"color\": \"#2a3f5f\"}, \"line\": {\"color\": \"rgb(17,17,17)\"}}, \"type\": \"table\"}]}, \"layout\": {\"annotationdefaults\": {\"arrowcolor\": \"#f2f5fa\", \"arrowhead\": 0, \"arrowwidth\": 1}, \"autotypenumbers\": \"strict\", \"coloraxis\": {\"colorbar\": {\"outlinewidth\": 0, \"ticks\": \"\"}}, \"colorscale\": {\"diverging\": [[0, \"#8e0152\"], [0.1, \"#c51b7d\"], [0.2, \"#de77ae\"], [0.3, \"#f1b6da\"], [0.4, \"#fde0ef\"], [0.5, \"#f7f7f7\"], [0.6, \"#e6f5d0\"], [0.7, \"#b8e186\"], [0.8, \"#7fbc41\"], [0.9, \"#4d9221\"], [1, \"#276419\"]], \"sequential\": [[0.0, \"#0d0887\"], [0.1111111111111111, \"#46039f\"], [0.2222222222222222, \"#7201a8\"], [0.3333333333333333, \"#9c179e\"], [0.4444444444444444, \"#bd3786\"], [0.5555555555555556, \"#d8576b\"], [0.6666666666666666, \"#ed7953\"], [0.7777777777777778, \"#fb9f3a\"], [0.8888888888888888, \"#fdca26\"], [1.0, \"#f0f921\"]], \"sequentialminus\": [[0.0, \"#0d0887\"], [0.1111111111111111, \"#46039f\"], [0.2222222222222222, \"#7201a8\"], [0.3333333333333333, \"#9c179e\"], [0.4444444444444444, \"#bd3786\"], [0.5555555555555556, \"#d8576b\"], [0.6666666666666666, \"#ed7953\"], [0.7777777777777778, \"#fb9f3a\"], [0.8888888888888888, \"#fdca26\"], [1.0, \"#f0f921\"]]}, \"colorway\": [\"#636efa\", \"#EF553B\", \"#00cc96\", \"#ab63fa\", \"#FFA15A\", \"#19d3f3\", \"#FF6692\", \"#B6E880\", \"#FF97FF\", \"#FECB52\"], \"font\": {\"color\": \"#f2f5fa\"}, \"geo\": {\"bgcolor\": \"rgb(17,17,17)\", \"lakecolor\": \"rgb(17,17,17)\", \"landcolor\": \"rgb(17,17,17)\", \"showlakes\": true, \"showland\": true, \"subunitcolor\": \"#506784\"}, \"hoverlabel\": {\"align\": \"left\"}, \"hovermode\": \"closest\", \"mapbox\": {\"style\": \"dark\"}, \"paper_bgcolor\": \"rgb(17,17,17)\", \"plot_bgcolor\": \"rgb(17,17,17)\", \"polar\": {\"angularaxis\": {\"gridcolor\": \"#506784\", \"linecolor\": \"#506784\", \"ticks\": \"\"}, \"bgcolor\": \"rgb(17,17,17)\", \"radialaxis\": {\"gridcolor\": \"#506784\", \"linecolor\": \"#506784\", \"ticks\": \"\"}}, \"scene\": {\"xaxis\": {\"backgroundcolor\": \"rgb(17,17,17)\", \"gridcolor\": \"#506784\", \"gridwidth\": 2, \"linecolor\": \"#506784\", \"showbackground\": true, \"ticks\": \"\", \"zerolinecolor\": \"#C8D4E3\"}, \"yaxis\": {\"backgroundcolor\": \"rgb(17,17,17)\", \"gridcolor\": \"#506784\", \"gridwidth\": 2, \"linecolor\": \"#506784\", \"showbackground\": true, \"ticks\": \"\", \"zerolinecolor\": \"#C8D4E3\"}, \"zaxis\": {\"backgroundcolor\": \"rgb(17,17,17)\", \"gridcolor\": \"#506784\", \"gridwidth\": 2, \"linecolor\": \"#506784\", \"showbackground\": true, \"ticks\": \"\", \"zerolinecolor\": \"#C8D4E3\"}}, \"shapedefaults\": {\"line\": {\"color\": \"#f2f5fa\"}}, \"sliderdefaults\": {\"bgcolor\": \"#C8D4E3\", \"bordercolor\": \"rgb(17,17,17)\", \"borderwidth\": 1, \"tickwidth\": 0}, \"ternary\": {\"aaxis\": {\"gridcolor\": \"#506784\", \"linecolor\": \"#506784\", \"ticks\": \"\"}, \"baxis\": {\"gridcolor\": \"#506784\", \"linecolor\": \"#506784\", \"ticks\": \"\"}, \"bgcolor\": \"rgb(17,17,17)\", \"caxis\": {\"gridcolor\": \"#506784\", \"linecolor\": \"#506784\", \"ticks\": \"\"}}, \"title\": {\"x\": 0.05}, \"updatemenudefaults\": {\"bgcolor\": \"#506784\", \"borderwidth\": 0}, \"xaxis\": {\"automargin\": true, \"gridcolor\": \"#283442\", \"linecolor\": \"#506784\", \"ticks\": \"\", \"title\": {\"standoff\": 15}, \"zerolinecolor\": \"#283442\", \"zerolinewidth\": 2}, \"yaxis\": {\"automargin\": true, \"gridcolor\": \"#283442\", \"linecolor\": \"#506784\", \"ticks\": \"\", \"title\": {\"standoff\": 15}, \"zerolinecolor\": \"#283442\", \"zerolinewidth\": 2}}}, \"title\": {\"text\": \"Exposure site counts by date added\"}, \"xaxis\": {\"anchor\": \"y\", \"domain\": [0.0, 1.0], \"title\": {\"text\": \"Exposure Date\"}}, \"yaxis\": {\"anchor\": \"x\", \"domain\": [0.0, 1.0], \"title\": {\"text\": \"Date Added\"}}},                        {\"responsive\": true}                    ).then(function(){\n",
       "                            \n",
       "var gd = document.getElementById('05b48cf2-3a41-4c01-9ccb-a6853127de69');\n",
       "var x = new MutationObserver(function (mutations, observer) {{\n",
       "        var display = window.getComputedStyle(gd).display;\n",
       "        if (!display || display === 'none') {{\n",
       "            console.log([gd, 'removed!']);\n",
       "            Plotly.purge(gd);\n",
       "            observer.disconnect();\n",
       "        }}\n",
       "}});\n",
       "\n",
       "// Listen for the removal of the full notebook cells\n",
       "var notebookContainer = gd.closest('#notebook-container');\n",
       "if (notebookContainer) {{\n",
       "    x.observe(notebookContainer, {childList: true});\n",
       "}}\n",
       "\n",
       "// Listen for the clearing of the current output cell\n",
       "var outputEl = gd.closest('.output');\n",
       "if (outputEl) {{\n",
       "    x.observe(outputEl, {childList: true});\n",
       "}}\n",
       "\n",
       "                        })                };                });            </script>        </div>"
      ]
     },
     "metadata": {},
     "output_type": "display_data"
    },
    {
     "data": {
      "application/vnd.plotly.v1+json": {
       "config": {
        "plotlyServerURL": "https://plot.ly"
       },
       "data": [
        {
         "alignmentgroup": "True",
         "bingroup": "x",
         "hovertemplate": "tier=1<br>date_exposure=%{x}<br>count=%{y}<extra></extra>",
         "legendgroup": "1",
         "marker": {
          "color": "rgb(228,26,28)"
         },
         "name": "1",
         "offsetgroup": "1",
         "orientation": "v",
         "showlegend": true,
         "type": "histogram",
         "x": [
          "2021-05-19T00:00:00",
          "2021-05-21T00:00:00",
          "2021-05-26T00:00:00",
          "2021-05-21T00:00:00",
          "2021-05-25T00:00:00",
          "2021-05-23T00:00:00",
          "2021-05-22T00:00:00",
          "2021-05-21T00:00:00",
          "2021-05-22T00:00:00",
          "2021-05-23T00:00:00",
          "2021-05-20T00:00:00",
          "2021-05-26T00:00:00",
          "2021-05-21T00:00:00",
          "2021-05-23T00:00:00",
          "2021-05-22T00:00:00",
          "2021-05-23T00:00:00",
          "2021-05-23T00:00:00",
          "2021-05-22T00:00:00",
          "2021-05-21T00:00:00",
          "2021-05-25T00:00:00",
          "2021-05-23T00:00:00",
          "2021-05-19T00:00:00",
          "2021-05-24T00:00:00",
          "2021-05-19T00:00:00",
          "2021-05-22T00:00:00",
          "2021-05-21T00:00:00",
          "2021-05-20T00:00:00",
          "2021-05-18T00:00:00",
          "2021-05-21T00:00:00",
          "2021-05-17T00:00:00",
          "2021-05-18T00:00:00",
          "2021-05-20T00:00:00",
          "2021-05-21T00:00:00",
          "2021-05-24T00:00:00",
          "2021-05-25T00:00:00",
          "2021-05-27T00:00:00",
          "2021-05-28T00:00:00",
          "2021-05-12T00:00:00",
          "2021-05-13T00:00:00",
          "2021-05-20T00:00:00",
          "2021-05-21T00:00:00",
          "2021-05-23T00:00:00",
          "2021-05-23T00:00:00",
          "2021-05-25T00:00:00",
          "2021-05-23T00:00:00",
          "2021-05-23T00:00:00",
          "2021-05-19T00:00:00",
          "2021-05-22T00:00:00",
          "2021-05-23T00:00:00",
          "2021-05-25T00:00:00",
          "2021-05-24T00:00:00",
          "2021-05-25T00:00:00",
          "2021-05-24T00:00:00",
          "2021-05-23T00:00:00",
          "2021-05-24T00:00:00",
          "2021-05-25T00:00:00",
          "2021-05-25T00:00:00",
          "2021-05-24T00:00:00",
          "2021-05-23T00:00:00",
          "2021-05-23T00:00:00",
          "2021-05-23T00:00:00",
          "2021-05-24T00:00:00",
          "2021-05-20T00:00:00",
          "2021-05-22T00:00:00",
          "2021-05-22T00:00:00",
          "2021-05-22T00:00:00",
          "2021-05-22T00:00:00",
          "2021-05-19T00:00:00",
          "2021-05-21T00:00:00",
          "2021-05-26T00:00:00",
          "2021-05-19T00:00:00",
          "2021-05-25T00:00:00",
          "2021-05-19T00:00:00",
          "2021-05-18T00:00:00",
          "2021-05-18T00:00:00",
          "2021-05-18T00:00:00",
          "2021-05-18T00:00:00",
          "2021-05-25T00:00:00",
          "2021-05-24T00:00:00",
          "2021-05-22T00:00:00",
          "2021-05-25T00:00:00",
          "2021-05-24T00:00:00",
          "2021-05-22T00:00:00",
          "2021-05-24T00:00:00",
          "2021-05-25T00:00:00",
          "2021-05-26T00:00:00",
          "2021-05-22T00:00:00",
          "2021-05-23T00:00:00",
          "2021-05-25T00:00:00",
          "2021-05-27T00:00:00",
          "2021-05-22T00:00:00",
          "2021-05-24T00:00:00",
          "2021-05-26T00:00:00",
          "2021-05-24T00:00:00",
          "2021-05-29T00:00:00",
          "2021-05-26T00:00:00",
          "2021-05-28T00:00:00",
          "2021-05-27T00:00:00",
          "2021-05-26T00:00:00",
          "2021-05-21T00:00:00",
          "2021-05-26T00:00:00",
          "2021-05-22T00:00:00",
          "2021-05-21T00:00:00",
          "2021-05-24T00:00:00",
          "2021-05-24T00:00:00",
          "2021-05-22T00:00:00",
          "2021-05-20T00:00:00",
          "2021-05-29T00:00:00",
          "2021-05-25T00:00:00",
          "2021-05-27T00:00:00",
          "2021-05-27T00:00:00",
          "2021-05-24T00:00:00",
          "2021-05-22T00:00:00",
          "2021-05-21T00:00:00",
          "2021-05-22T00:00:00",
          "2021-05-26T00:00:00",
          "2021-05-18T00:00:00",
          "2021-05-17T00:00:00",
          "2021-05-20T00:00:00",
          "2021-05-20T00:00:00",
          "2021-05-20T00:00:00",
          "2021-05-20T00:00:00",
          "2021-05-20T00:00:00",
          "2021-05-19T00:00:00",
          "2021-05-27T00:00:00",
          "2021-05-25T00:00:00",
          "2021-05-26T00:00:00",
          "2021-05-22T00:00:00",
          "2021-05-20T00:00:00",
          "2021-05-27T00:00:00",
          "2021-05-27T00:00:00",
          "2021-05-23T00:00:00",
          "2021-05-22T00:00:00",
          "2021-05-22T00:00:00",
          "2021-05-22T00:00:00",
          "2021-05-28T00:00:00",
          "2021-05-26T00:00:00",
          "2021-05-23T00:00:00",
          "2021-05-22T00:00:00",
          "2021-05-25T00:00:00",
          "2021-05-25T00:00:00",
          "2021-05-25T00:00:00",
          "2021-05-24T00:00:00",
          "2021-05-25T00:00:00",
          "2021-05-28T00:00:00",
          "2021-05-27T00:00:00",
          "2021-05-23T00:00:00",
          "2021-05-26T00:00:00",
          "2021-05-28T00:00:00",
          "2021-05-27T00:00:00",
          "2021-05-26T00:00:00",
          "2021-05-26T00:00:00",
          "2021-05-26T00:00:00",
          "2021-05-26T00:00:00",
          "2021-05-23T00:00:00",
          "2021-05-26T00:00:00",
          "2021-05-22T00:00:00",
          "2021-05-24T00:00:00",
          "2021-05-17T00:00:00",
          "2021-05-17T00:00:00",
          "2021-05-25T00:00:00"
         ],
         "xaxis": "x",
         "yaxis": "y"
        },
        {
         "alignmentgroup": "True",
         "bingroup": "x",
         "hovertemplate": "tier=2<br>date_exposure=%{x}<br>count=%{y}<extra></extra>",
         "legendgroup": "2",
         "marker": {
          "color": "rgb(55,126,184)"
         },
         "name": "2",
         "offsetgroup": "2",
         "orientation": "v",
         "showlegend": true,
         "type": "histogram",
         "x": [
          "2021-05-23T00:00:00",
          "2021-05-24T00:00:00",
          "2021-05-24T00:00:00",
          "2021-05-20T00:00:00",
          "2021-05-24T00:00:00",
          "2021-05-23T00:00:00",
          "2021-05-19T00:00:00",
          "2021-05-23T00:00:00",
          "2021-05-22T00:00:00",
          "2021-05-21T00:00:00",
          "2021-05-23T00:00:00",
          "2021-05-23T00:00:00",
          "2021-05-24T00:00:00",
          "2021-05-22T00:00:00",
          "2021-05-22T00:00:00",
          "2021-05-23T00:00:00",
          "2021-05-22T00:00:00",
          "2021-05-25T00:00:00",
          "2021-05-23T00:00:00",
          "2021-05-14T00:00:00",
          "2021-05-14T00:00:00",
          "2021-05-14T00:00:00",
          "2021-05-19T00:00:00",
          "2021-05-20T00:00:00",
          "2021-05-22T00:00:00",
          "2021-05-19T00:00:00",
          "2021-05-19T00:00:00",
          "2021-05-20T00:00:00",
          "2021-05-17T00:00:00",
          "2021-05-23T00:00:00",
          "2021-05-23T00:00:00",
          "2021-05-22T00:00:00",
          "2021-05-21T00:00:00",
          "2021-05-22T00:00:00",
          "2021-05-20T00:00:00",
          "2021-05-23T00:00:00",
          "2021-05-22T00:00:00",
          "2021-05-23T00:00:00",
          "2021-05-22T00:00:00",
          "2021-05-22T00:00:00",
          "2021-05-22T00:00:00",
          "2021-05-23T00:00:00",
          "2021-05-24T00:00:00",
          "2021-05-23T00:00:00",
          "2021-05-22T00:00:00",
          "2021-05-24T00:00:00",
          "2021-05-24T00:00:00",
          "2021-05-23T00:00:00",
          "2021-05-23T00:00:00",
          "2021-05-22T00:00:00",
          "2021-05-22T00:00:00",
          "2021-05-23T00:00:00",
          "2021-05-23T00:00:00",
          "2021-05-21T00:00:00",
          "2021-05-26T00:00:00",
          "2021-05-24T00:00:00",
          "2021-05-19T00:00:00",
          "2021-05-26T00:00:00",
          "2021-05-27T00:00:00",
          "2021-05-24T00:00:00",
          "2021-05-22T00:00:00",
          "2021-05-23T00:00:00",
          "2021-05-23T00:00:00",
          "2021-05-28T00:00:00",
          "2021-05-26T00:00:00",
          "2021-05-22T00:00:00",
          "2021-05-23T00:00:00",
          "2021-05-23T00:00:00",
          "2021-05-25T00:00:00",
          "2021-05-21T00:00:00",
          "2021-05-26T00:00:00",
          "2021-05-26T00:00:00",
          "2021-05-15T00:00:00",
          "2021-05-15T00:00:00",
          "2021-05-22T00:00:00",
          "2021-05-23T00:00:00",
          "2021-05-20T00:00:00",
          "2021-05-18T00:00:00",
          "2021-05-26T00:00:00",
          "2021-05-26T00:00:00",
          "2021-05-26T00:00:00",
          "2021-05-25T00:00:00",
          "2021-05-25T00:00:00",
          "2021-05-24T00:00:00",
          "2021-05-22T00:00:00",
          "2021-05-18T00:00:00",
          "2021-05-17T00:00:00",
          "2021-05-22T00:00:00",
          "2021-05-26T00:00:00",
          "2021-05-25T00:00:00",
          "2021-05-24T00:00:00",
          "2021-05-25T00:00:00",
          "2021-05-25T00:00:00",
          "2021-05-24T00:00:00",
          "2021-05-22T00:00:00",
          "2021-05-22T00:00:00",
          "2021-05-26T00:00:00",
          "2021-05-23T00:00:00",
          "2021-05-23T00:00:00",
          "2021-05-23T00:00:00",
          "2021-05-23T00:00:00",
          "2021-05-22T00:00:00",
          "2021-05-23T00:00:00",
          "2021-05-25T00:00:00",
          "2021-05-24T00:00:00",
          "2021-05-24T00:00:00",
          "2021-05-22T00:00:00",
          "2021-05-28T00:00:00",
          "2021-05-23T00:00:00",
          "2021-05-18T00:00:00",
          "2021-05-22T00:00:00",
          "2021-05-18T00:00:00",
          "2021-05-25T00:00:00",
          "2021-05-26T00:00:00",
          "2021-05-24T00:00:00",
          "2021-05-27T00:00:00",
          "2021-05-25T00:00:00",
          "2021-05-19T00:00:00",
          "2021-05-19T00:00:00",
          "2021-05-25T00:00:00",
          "2021-05-26T00:00:00",
          "2021-05-22T00:00:00",
          "2021-05-26T00:00:00",
          "2021-05-24T00:00:00",
          "2021-05-26T00:00:00",
          "2021-05-26T00:00:00",
          "2021-05-22T00:00:00",
          "2021-05-22T00:00:00"
         ],
         "xaxis": "x",
         "yaxis": "y"
        },
        {
         "alignmentgroup": "True",
         "bingroup": "x",
         "hovertemplate": "tier=3<br>date_exposure=%{x}<br>count=%{y}<extra></extra>",
         "legendgroup": "3",
         "marker": {
          "color": "rgb(77,175,74)"
         },
         "name": "3",
         "offsetgroup": "3",
         "orientation": "v",
         "showlegend": true,
         "type": "histogram",
         "x": [
          "2021-05-23T00:00:00",
          "2021-05-28T00:00:00",
          "2021-05-27T00:00:00",
          "2021-05-13T00:00:00",
          "2021-05-25T00:00:00",
          "2021-05-22T00:00:00",
          "2021-05-27T00:00:00",
          "2021-05-23T00:00:00",
          "2021-05-23T00:00:00"
         ],
         "xaxis": "x",
         "yaxis": "y"
        }
       ],
       "layout": {
        "annotations": [
         {
          "ax": 10,
          "ay": 20,
          "text": "lockdown",
          "x": "2021-05-27",
          "xanchor": "left",
          "y": 40
         }
        ],
        "bargap": 0.2,
        "barmode": "relative",
        "legend": {
         "title": {
          "text": "tier"
         },
         "tracegroupgap": 0
        },
        "shapes": [
         {
          "type": "line",
          "x0": "2021-05-27",
          "x1": "2021-05-27",
          "xref": "x",
          "y0": 0,
          "y1": 1,
          "yref": "y domain"
         }
        ],
        "template": {
         "data": {
          "bar": [
           {
            "error_x": {
             "color": "#f2f5fa"
            },
            "error_y": {
             "color": "#f2f5fa"
            },
            "marker": {
             "line": {
              "color": "rgb(17,17,17)",
              "width": 0.5
             }
            },
            "type": "bar"
           }
          ],
          "barpolar": [
           {
            "marker": {
             "line": {
              "color": "rgb(17,17,17)",
              "width": 0.5
             }
            },
            "type": "barpolar"
           }
          ],
          "carpet": [
           {
            "aaxis": {
             "endlinecolor": "#A2B1C6",
             "gridcolor": "#506784",
             "linecolor": "#506784",
             "minorgridcolor": "#506784",
             "startlinecolor": "#A2B1C6"
            },
            "baxis": {
             "endlinecolor": "#A2B1C6",
             "gridcolor": "#506784",
             "linecolor": "#506784",
             "minorgridcolor": "#506784",
             "startlinecolor": "#A2B1C6"
            },
            "type": "carpet"
           }
          ],
          "choropleth": [
           {
            "colorbar": {
             "outlinewidth": 0,
             "ticks": ""
            },
            "type": "choropleth"
           }
          ],
          "contour": [
           {
            "colorbar": {
             "outlinewidth": 0,
             "ticks": ""
            },
            "colorscale": [
             [
              0,
              "#0d0887"
             ],
             [
              0.1111111111111111,
              "#46039f"
             ],
             [
              0.2222222222222222,
              "#7201a8"
             ],
             [
              0.3333333333333333,
              "#9c179e"
             ],
             [
              0.4444444444444444,
              "#bd3786"
             ],
             [
              0.5555555555555556,
              "#d8576b"
             ],
             [
              0.6666666666666666,
              "#ed7953"
             ],
             [
              0.7777777777777778,
              "#fb9f3a"
             ],
             [
              0.8888888888888888,
              "#fdca26"
             ],
             [
              1,
              "#f0f921"
             ]
            ],
            "type": "contour"
           }
          ],
          "contourcarpet": [
           {
            "colorbar": {
             "outlinewidth": 0,
             "ticks": ""
            },
            "type": "contourcarpet"
           }
          ],
          "heatmap": [
           {
            "colorbar": {
             "outlinewidth": 0,
             "ticks": ""
            },
            "colorscale": [
             [
              0,
              "#0d0887"
             ],
             [
              0.1111111111111111,
              "#46039f"
             ],
             [
              0.2222222222222222,
              "#7201a8"
             ],
             [
              0.3333333333333333,
              "#9c179e"
             ],
             [
              0.4444444444444444,
              "#bd3786"
             ],
             [
              0.5555555555555556,
              "#d8576b"
             ],
             [
              0.6666666666666666,
              "#ed7953"
             ],
             [
              0.7777777777777778,
              "#fb9f3a"
             ],
             [
              0.8888888888888888,
              "#fdca26"
             ],
             [
              1,
              "#f0f921"
             ]
            ],
            "type": "heatmap"
           }
          ],
          "heatmapgl": [
           {
            "colorbar": {
             "outlinewidth": 0,
             "ticks": ""
            },
            "colorscale": [
             [
              0,
              "#0d0887"
             ],
             [
              0.1111111111111111,
              "#46039f"
             ],
             [
              0.2222222222222222,
              "#7201a8"
             ],
             [
              0.3333333333333333,
              "#9c179e"
             ],
             [
              0.4444444444444444,
              "#bd3786"
             ],
             [
              0.5555555555555556,
              "#d8576b"
             ],
             [
              0.6666666666666666,
              "#ed7953"
             ],
             [
              0.7777777777777778,
              "#fb9f3a"
             ],
             [
              0.8888888888888888,
              "#fdca26"
             ],
             [
              1,
              "#f0f921"
             ]
            ],
            "type": "heatmapgl"
           }
          ],
          "histogram": [
           {
            "marker": {
             "colorbar": {
              "outlinewidth": 0,
              "ticks": ""
             }
            },
            "type": "histogram"
           }
          ],
          "histogram2d": [
           {
            "colorbar": {
             "outlinewidth": 0,
             "ticks": ""
            },
            "colorscale": [
             [
              0,
              "#0d0887"
             ],
             [
              0.1111111111111111,
              "#46039f"
             ],
             [
              0.2222222222222222,
              "#7201a8"
             ],
             [
              0.3333333333333333,
              "#9c179e"
             ],
             [
              0.4444444444444444,
              "#bd3786"
             ],
             [
              0.5555555555555556,
              "#d8576b"
             ],
             [
              0.6666666666666666,
              "#ed7953"
             ],
             [
              0.7777777777777778,
              "#fb9f3a"
             ],
             [
              0.8888888888888888,
              "#fdca26"
             ],
             [
              1,
              "#f0f921"
             ]
            ],
            "type": "histogram2d"
           }
          ],
          "histogram2dcontour": [
           {
            "colorbar": {
             "outlinewidth": 0,
             "ticks": ""
            },
            "colorscale": [
             [
              0,
              "#0d0887"
             ],
             [
              0.1111111111111111,
              "#46039f"
             ],
             [
              0.2222222222222222,
              "#7201a8"
             ],
             [
              0.3333333333333333,
              "#9c179e"
             ],
             [
              0.4444444444444444,
              "#bd3786"
             ],
             [
              0.5555555555555556,
              "#d8576b"
             ],
             [
              0.6666666666666666,
              "#ed7953"
             ],
             [
              0.7777777777777778,
              "#fb9f3a"
             ],
             [
              0.8888888888888888,
              "#fdca26"
             ],
             [
              1,
              "#f0f921"
             ]
            ],
            "type": "histogram2dcontour"
           }
          ],
          "mesh3d": [
           {
            "colorbar": {
             "outlinewidth": 0,
             "ticks": ""
            },
            "type": "mesh3d"
           }
          ],
          "parcoords": [
           {
            "line": {
             "colorbar": {
              "outlinewidth": 0,
              "ticks": ""
             }
            },
            "type": "parcoords"
           }
          ],
          "pie": [
           {
            "automargin": true,
            "type": "pie"
           }
          ],
          "scatter": [
           {
            "marker": {
             "line": {
              "color": "#283442"
             }
            },
            "type": "scatter"
           }
          ],
          "scatter3d": [
           {
            "line": {
             "colorbar": {
              "outlinewidth": 0,
              "ticks": ""
             }
            },
            "marker": {
             "colorbar": {
              "outlinewidth": 0,
              "ticks": ""
             }
            },
            "type": "scatter3d"
           }
          ],
          "scattercarpet": [
           {
            "marker": {
             "colorbar": {
              "outlinewidth": 0,
              "ticks": ""
             }
            },
            "type": "scattercarpet"
           }
          ],
          "scattergeo": [
           {
            "marker": {
             "colorbar": {
              "outlinewidth": 0,
              "ticks": ""
             }
            },
            "type": "scattergeo"
           }
          ],
          "scattergl": [
           {
            "marker": {
             "line": {
              "color": "#283442"
             }
            },
            "type": "scattergl"
           }
          ],
          "scattermapbox": [
           {
            "marker": {
             "colorbar": {
              "outlinewidth": 0,
              "ticks": ""
             }
            },
            "type": "scattermapbox"
           }
          ],
          "scatterpolar": [
           {
            "marker": {
             "colorbar": {
              "outlinewidth": 0,
              "ticks": ""
             }
            },
            "type": "scatterpolar"
           }
          ],
          "scatterpolargl": [
           {
            "marker": {
             "colorbar": {
              "outlinewidth": 0,
              "ticks": ""
             }
            },
            "type": "scatterpolargl"
           }
          ],
          "scatterternary": [
           {
            "marker": {
             "colorbar": {
              "outlinewidth": 0,
              "ticks": ""
             }
            },
            "type": "scatterternary"
           }
          ],
          "surface": [
           {
            "colorbar": {
             "outlinewidth": 0,
             "ticks": ""
            },
            "colorscale": [
             [
              0,
              "#0d0887"
             ],
             [
              0.1111111111111111,
              "#46039f"
             ],
             [
              0.2222222222222222,
              "#7201a8"
             ],
             [
              0.3333333333333333,
              "#9c179e"
             ],
             [
              0.4444444444444444,
              "#bd3786"
             ],
             [
              0.5555555555555556,
              "#d8576b"
             ],
             [
              0.6666666666666666,
              "#ed7953"
             ],
             [
              0.7777777777777778,
              "#fb9f3a"
             ],
             [
              0.8888888888888888,
              "#fdca26"
             ],
             [
              1,
              "#f0f921"
             ]
            ],
            "type": "surface"
           }
          ],
          "table": [
           {
            "cells": {
             "fill": {
              "color": "#506784"
             },
             "line": {
              "color": "rgb(17,17,17)"
             }
            },
            "header": {
             "fill": {
              "color": "#2a3f5f"
             },
             "line": {
              "color": "rgb(17,17,17)"
             }
            },
            "type": "table"
           }
          ]
         },
         "layout": {
          "annotationdefaults": {
           "arrowcolor": "#f2f5fa",
           "arrowhead": 0,
           "arrowwidth": 1
          },
          "autotypenumbers": "strict",
          "coloraxis": {
           "colorbar": {
            "outlinewidth": 0,
            "ticks": ""
           }
          },
          "colorscale": {
           "diverging": [
            [
             0,
             "#8e0152"
            ],
            [
             0.1,
             "#c51b7d"
            ],
            [
             0.2,
             "#de77ae"
            ],
            [
             0.3,
             "#f1b6da"
            ],
            [
             0.4,
             "#fde0ef"
            ],
            [
             0.5,
             "#f7f7f7"
            ],
            [
             0.6,
             "#e6f5d0"
            ],
            [
             0.7,
             "#b8e186"
            ],
            [
             0.8,
             "#7fbc41"
            ],
            [
             0.9,
             "#4d9221"
            ],
            [
             1,
             "#276419"
            ]
           ],
           "sequential": [
            [
             0,
             "#0d0887"
            ],
            [
             0.1111111111111111,
             "#46039f"
            ],
            [
             0.2222222222222222,
             "#7201a8"
            ],
            [
             0.3333333333333333,
             "#9c179e"
            ],
            [
             0.4444444444444444,
             "#bd3786"
            ],
            [
             0.5555555555555556,
             "#d8576b"
            ],
            [
             0.6666666666666666,
             "#ed7953"
            ],
            [
             0.7777777777777778,
             "#fb9f3a"
            ],
            [
             0.8888888888888888,
             "#fdca26"
            ],
            [
             1,
             "#f0f921"
            ]
           ],
           "sequentialminus": [
            [
             0,
             "#0d0887"
            ],
            [
             0.1111111111111111,
             "#46039f"
            ],
            [
             0.2222222222222222,
             "#7201a8"
            ],
            [
             0.3333333333333333,
             "#9c179e"
            ],
            [
             0.4444444444444444,
             "#bd3786"
            ],
            [
             0.5555555555555556,
             "#d8576b"
            ],
            [
             0.6666666666666666,
             "#ed7953"
            ],
            [
             0.7777777777777778,
             "#fb9f3a"
            ],
            [
             0.8888888888888888,
             "#fdca26"
            ],
            [
             1,
             "#f0f921"
            ]
           ]
          },
          "colorway": [
           "#636efa",
           "#EF553B",
           "#00cc96",
           "#ab63fa",
           "#FFA15A",
           "#19d3f3",
           "#FF6692",
           "#B6E880",
           "#FF97FF",
           "#FECB52"
          ],
          "font": {
           "color": "#f2f5fa"
          },
          "geo": {
           "bgcolor": "rgb(17,17,17)",
           "lakecolor": "rgb(17,17,17)",
           "landcolor": "rgb(17,17,17)",
           "showlakes": true,
           "showland": true,
           "subunitcolor": "#506784"
          },
          "hoverlabel": {
           "align": "left"
          },
          "hovermode": "closest",
          "mapbox": {
           "style": "dark"
          },
          "paper_bgcolor": "rgb(17,17,17)",
          "plot_bgcolor": "rgb(17,17,17)",
          "polar": {
           "angularaxis": {
            "gridcolor": "#506784",
            "linecolor": "#506784",
            "ticks": ""
           },
           "bgcolor": "rgb(17,17,17)",
           "radialaxis": {
            "gridcolor": "#506784",
            "linecolor": "#506784",
            "ticks": ""
           }
          },
          "scene": {
           "xaxis": {
            "backgroundcolor": "rgb(17,17,17)",
            "gridcolor": "#506784",
            "gridwidth": 2,
            "linecolor": "#506784",
            "showbackground": true,
            "ticks": "",
            "zerolinecolor": "#C8D4E3"
           },
           "yaxis": {
            "backgroundcolor": "rgb(17,17,17)",
            "gridcolor": "#506784",
            "gridwidth": 2,
            "linecolor": "#506784",
            "showbackground": true,
            "ticks": "",
            "zerolinecolor": "#C8D4E3"
           },
           "zaxis": {
            "backgroundcolor": "rgb(17,17,17)",
            "gridcolor": "#506784",
            "gridwidth": 2,
            "linecolor": "#506784",
            "showbackground": true,
            "ticks": "",
            "zerolinecolor": "#C8D4E3"
           }
          },
          "shapedefaults": {
           "line": {
            "color": "#f2f5fa"
           }
          },
          "sliderdefaults": {
           "bgcolor": "#C8D4E3",
           "bordercolor": "rgb(17,17,17)",
           "borderwidth": 1,
           "tickwidth": 0
          },
          "ternary": {
           "aaxis": {
            "gridcolor": "#506784",
            "linecolor": "#506784",
            "ticks": ""
           },
           "baxis": {
            "gridcolor": "#506784",
            "linecolor": "#506784",
            "ticks": ""
           },
           "bgcolor": "rgb(17,17,17)",
           "caxis": {
            "gridcolor": "#506784",
            "linecolor": "#506784",
            "ticks": ""
           }
          },
          "title": {
           "x": 0.05
          },
          "updatemenudefaults": {
           "bgcolor": "#506784",
           "borderwidth": 0
          },
          "xaxis": {
           "automargin": true,
           "gridcolor": "#283442",
           "linecolor": "#506784",
           "ticks": "",
           "title": {
            "standoff": 15
           },
           "zerolinecolor": "#283442",
           "zerolinewidth": 2
          },
          "yaxis": {
           "automargin": true,
           "gridcolor": "#283442",
           "linecolor": "#506784",
           "ticks": "",
           "title": {
            "standoff": 15
           },
           "zerolinecolor": "#283442",
           "zerolinewidth": 2
          }
         }
        },
        "title": {
         "text": "Exposure time"
        },
        "xaxis": {
         "anchor": "y",
         "domain": [
          0,
          1
         ],
         "nticks": 10,
         "tickangle": 60,
         "title": {
          "text": "date_exposure"
         }
        },
        "yaxis": {
         "anchor": "x",
         "domain": [
          0,
          1
         ],
         "title": {
          "text": "count"
         }
        }
       }
      },
      "text/html": [
       "<div>                            <div id=\"6ba1b9d7-d659-42d0-a9ae-bc19bd8f0bba\" class=\"plotly-graph-div\" style=\"height:525px; width:100%;\"></div>            <script type=\"text/javascript\">                require([\"plotly\"], function(Plotly) {                    window.PLOTLYENV=window.PLOTLYENV || {};                                    if (document.getElementById(\"6ba1b9d7-d659-42d0-a9ae-bc19bd8f0bba\")) {                    Plotly.newPlot(                        \"6ba1b9d7-d659-42d0-a9ae-bc19bd8f0bba\",                        [{\"alignmentgroup\": \"True\", \"bingroup\": \"x\", \"hovertemplate\": \"tier=1<br>date_exposure=%{x}<br>count=%{y}<extra></extra>\", \"legendgroup\": \"1\", \"marker\": {\"color\": \"rgb(228,26,28)\"}, \"name\": \"1\", \"offsetgroup\": \"1\", \"orientation\": \"v\", \"showlegend\": true, \"type\": \"histogram\", \"x\": [\"2021-05-19T00:00:00\", \"2021-05-21T00:00:00\", \"2021-05-26T00:00:00\", \"2021-05-21T00:00:00\", \"2021-05-25T00:00:00\", \"2021-05-23T00:00:00\", \"2021-05-22T00:00:00\", \"2021-05-21T00:00:00\", \"2021-05-22T00:00:00\", \"2021-05-23T00:00:00\", \"2021-05-20T00:00:00\", \"2021-05-26T00:00:00\", \"2021-05-21T00:00:00\", \"2021-05-23T00:00:00\", \"2021-05-22T00:00:00\", \"2021-05-23T00:00:00\", \"2021-05-23T00:00:00\", \"2021-05-22T00:00:00\", \"2021-05-21T00:00:00\", \"2021-05-25T00:00:00\", \"2021-05-23T00:00:00\", \"2021-05-19T00:00:00\", \"2021-05-24T00:00:00\", \"2021-05-19T00:00:00\", \"2021-05-22T00:00:00\", \"2021-05-21T00:00:00\", \"2021-05-20T00:00:00\", \"2021-05-18T00:00:00\", \"2021-05-21T00:00:00\", \"2021-05-17T00:00:00\", \"2021-05-18T00:00:00\", \"2021-05-20T00:00:00\", \"2021-05-21T00:00:00\", \"2021-05-24T00:00:00\", \"2021-05-25T00:00:00\", \"2021-05-27T00:00:00\", \"2021-05-28T00:00:00\", \"2021-05-12T00:00:00\", \"2021-05-13T00:00:00\", \"2021-05-20T00:00:00\", \"2021-05-21T00:00:00\", \"2021-05-23T00:00:00\", \"2021-05-23T00:00:00\", \"2021-05-25T00:00:00\", \"2021-05-23T00:00:00\", \"2021-05-23T00:00:00\", \"2021-05-19T00:00:00\", \"2021-05-22T00:00:00\", \"2021-05-23T00:00:00\", \"2021-05-25T00:00:00\", \"2021-05-24T00:00:00\", \"2021-05-25T00:00:00\", \"2021-05-24T00:00:00\", \"2021-05-23T00:00:00\", \"2021-05-24T00:00:00\", \"2021-05-25T00:00:00\", \"2021-05-25T00:00:00\", \"2021-05-24T00:00:00\", \"2021-05-23T00:00:00\", \"2021-05-23T00:00:00\", \"2021-05-23T00:00:00\", \"2021-05-24T00:00:00\", \"2021-05-20T00:00:00\", \"2021-05-22T00:00:00\", \"2021-05-22T00:00:00\", \"2021-05-22T00:00:00\", \"2021-05-22T00:00:00\", \"2021-05-19T00:00:00\", \"2021-05-21T00:00:00\", \"2021-05-26T00:00:00\", \"2021-05-19T00:00:00\", \"2021-05-25T00:00:00\", \"2021-05-19T00:00:00\", \"2021-05-18T00:00:00\", \"2021-05-18T00:00:00\", \"2021-05-18T00:00:00\", \"2021-05-18T00:00:00\", \"2021-05-25T00:00:00\", \"2021-05-24T00:00:00\", \"2021-05-22T00:00:00\", \"2021-05-25T00:00:00\", \"2021-05-24T00:00:00\", \"2021-05-22T00:00:00\", \"2021-05-24T00:00:00\", \"2021-05-25T00:00:00\", \"2021-05-26T00:00:00\", \"2021-05-22T00:00:00\", \"2021-05-23T00:00:00\", \"2021-05-25T00:00:00\", \"2021-05-27T00:00:00\", \"2021-05-22T00:00:00\", \"2021-05-24T00:00:00\", \"2021-05-26T00:00:00\", \"2021-05-24T00:00:00\", \"2021-05-29T00:00:00\", \"2021-05-26T00:00:00\", \"2021-05-28T00:00:00\", \"2021-05-27T00:00:00\", \"2021-05-26T00:00:00\", \"2021-05-21T00:00:00\", \"2021-05-26T00:00:00\", \"2021-05-22T00:00:00\", \"2021-05-21T00:00:00\", \"2021-05-24T00:00:00\", \"2021-05-24T00:00:00\", \"2021-05-22T00:00:00\", \"2021-05-20T00:00:00\", \"2021-05-29T00:00:00\", \"2021-05-25T00:00:00\", \"2021-05-27T00:00:00\", \"2021-05-27T00:00:00\", \"2021-05-24T00:00:00\", \"2021-05-22T00:00:00\", \"2021-05-21T00:00:00\", \"2021-05-22T00:00:00\", \"2021-05-26T00:00:00\", \"2021-05-18T00:00:00\", \"2021-05-17T00:00:00\", \"2021-05-20T00:00:00\", \"2021-05-20T00:00:00\", \"2021-05-20T00:00:00\", \"2021-05-20T00:00:00\", \"2021-05-20T00:00:00\", \"2021-05-19T00:00:00\", \"2021-05-27T00:00:00\", \"2021-05-25T00:00:00\", \"2021-05-26T00:00:00\", \"2021-05-22T00:00:00\", \"2021-05-20T00:00:00\", \"2021-05-27T00:00:00\", \"2021-05-27T00:00:00\", \"2021-05-23T00:00:00\", \"2021-05-22T00:00:00\", \"2021-05-22T00:00:00\", \"2021-05-22T00:00:00\", \"2021-05-28T00:00:00\", \"2021-05-26T00:00:00\", \"2021-05-23T00:00:00\", \"2021-05-22T00:00:00\", \"2021-05-25T00:00:00\", \"2021-05-25T00:00:00\", \"2021-05-25T00:00:00\", \"2021-05-24T00:00:00\", \"2021-05-25T00:00:00\", \"2021-05-28T00:00:00\", \"2021-05-27T00:00:00\", \"2021-05-23T00:00:00\", \"2021-05-26T00:00:00\", \"2021-05-28T00:00:00\", \"2021-05-27T00:00:00\", \"2021-05-26T00:00:00\", \"2021-05-26T00:00:00\", \"2021-05-26T00:00:00\", \"2021-05-26T00:00:00\", \"2021-05-23T00:00:00\", \"2021-05-26T00:00:00\", \"2021-05-22T00:00:00\", \"2021-05-24T00:00:00\", \"2021-05-17T00:00:00\", \"2021-05-17T00:00:00\", \"2021-05-25T00:00:00\"], \"xaxis\": \"x\", \"yaxis\": \"y\"}, {\"alignmentgroup\": \"True\", \"bingroup\": \"x\", \"hovertemplate\": \"tier=2<br>date_exposure=%{x}<br>count=%{y}<extra></extra>\", \"legendgroup\": \"2\", \"marker\": {\"color\": \"rgb(55,126,184)\"}, \"name\": \"2\", \"offsetgroup\": \"2\", \"orientation\": \"v\", \"showlegend\": true, \"type\": \"histogram\", \"x\": [\"2021-05-23T00:00:00\", \"2021-05-24T00:00:00\", \"2021-05-24T00:00:00\", \"2021-05-20T00:00:00\", \"2021-05-24T00:00:00\", \"2021-05-23T00:00:00\", \"2021-05-19T00:00:00\", \"2021-05-23T00:00:00\", \"2021-05-22T00:00:00\", \"2021-05-21T00:00:00\", \"2021-05-23T00:00:00\", \"2021-05-23T00:00:00\", \"2021-05-24T00:00:00\", \"2021-05-22T00:00:00\", \"2021-05-22T00:00:00\", \"2021-05-23T00:00:00\", \"2021-05-22T00:00:00\", \"2021-05-25T00:00:00\", \"2021-05-23T00:00:00\", \"2021-05-14T00:00:00\", \"2021-05-14T00:00:00\", \"2021-05-14T00:00:00\", \"2021-05-19T00:00:00\", \"2021-05-20T00:00:00\", \"2021-05-22T00:00:00\", \"2021-05-19T00:00:00\", \"2021-05-19T00:00:00\", \"2021-05-20T00:00:00\", \"2021-05-17T00:00:00\", \"2021-05-23T00:00:00\", \"2021-05-23T00:00:00\", \"2021-05-22T00:00:00\", \"2021-05-21T00:00:00\", \"2021-05-22T00:00:00\", \"2021-05-20T00:00:00\", \"2021-05-23T00:00:00\", \"2021-05-22T00:00:00\", \"2021-05-23T00:00:00\", \"2021-05-22T00:00:00\", \"2021-05-22T00:00:00\", \"2021-05-22T00:00:00\", \"2021-05-23T00:00:00\", \"2021-05-24T00:00:00\", \"2021-05-23T00:00:00\", \"2021-05-22T00:00:00\", \"2021-05-24T00:00:00\", \"2021-05-24T00:00:00\", \"2021-05-23T00:00:00\", \"2021-05-23T00:00:00\", \"2021-05-22T00:00:00\", \"2021-05-22T00:00:00\", \"2021-05-23T00:00:00\", \"2021-05-23T00:00:00\", \"2021-05-21T00:00:00\", \"2021-05-26T00:00:00\", \"2021-05-24T00:00:00\", \"2021-05-19T00:00:00\", \"2021-05-26T00:00:00\", \"2021-05-27T00:00:00\", \"2021-05-24T00:00:00\", \"2021-05-22T00:00:00\", \"2021-05-23T00:00:00\", \"2021-05-23T00:00:00\", \"2021-05-28T00:00:00\", \"2021-05-26T00:00:00\", \"2021-05-22T00:00:00\", \"2021-05-23T00:00:00\", \"2021-05-23T00:00:00\", \"2021-05-25T00:00:00\", \"2021-05-21T00:00:00\", \"2021-05-26T00:00:00\", \"2021-05-26T00:00:00\", \"2021-05-15T00:00:00\", \"2021-05-15T00:00:00\", \"2021-05-22T00:00:00\", \"2021-05-23T00:00:00\", \"2021-05-20T00:00:00\", \"2021-05-18T00:00:00\", \"2021-05-26T00:00:00\", \"2021-05-26T00:00:00\", \"2021-05-26T00:00:00\", \"2021-05-25T00:00:00\", \"2021-05-25T00:00:00\", \"2021-05-24T00:00:00\", \"2021-05-22T00:00:00\", \"2021-05-18T00:00:00\", \"2021-05-17T00:00:00\", \"2021-05-22T00:00:00\", \"2021-05-26T00:00:00\", \"2021-05-25T00:00:00\", \"2021-05-24T00:00:00\", \"2021-05-25T00:00:00\", \"2021-05-25T00:00:00\", \"2021-05-24T00:00:00\", \"2021-05-22T00:00:00\", \"2021-05-22T00:00:00\", \"2021-05-26T00:00:00\", \"2021-05-23T00:00:00\", \"2021-05-23T00:00:00\", \"2021-05-23T00:00:00\", \"2021-05-23T00:00:00\", \"2021-05-22T00:00:00\", \"2021-05-23T00:00:00\", \"2021-05-25T00:00:00\", \"2021-05-24T00:00:00\", \"2021-05-24T00:00:00\", \"2021-05-22T00:00:00\", \"2021-05-28T00:00:00\", \"2021-05-23T00:00:00\", \"2021-05-18T00:00:00\", \"2021-05-22T00:00:00\", \"2021-05-18T00:00:00\", \"2021-05-25T00:00:00\", \"2021-05-26T00:00:00\", \"2021-05-24T00:00:00\", \"2021-05-27T00:00:00\", \"2021-05-25T00:00:00\", \"2021-05-19T00:00:00\", \"2021-05-19T00:00:00\", \"2021-05-25T00:00:00\", \"2021-05-26T00:00:00\", \"2021-05-22T00:00:00\", \"2021-05-26T00:00:00\", \"2021-05-24T00:00:00\", \"2021-05-26T00:00:00\", \"2021-05-26T00:00:00\", \"2021-05-22T00:00:00\", \"2021-05-22T00:00:00\"], \"xaxis\": \"x\", \"yaxis\": \"y\"}, {\"alignmentgroup\": \"True\", \"bingroup\": \"x\", \"hovertemplate\": \"tier=3<br>date_exposure=%{x}<br>count=%{y}<extra></extra>\", \"legendgroup\": \"3\", \"marker\": {\"color\": \"rgb(77,175,74)\"}, \"name\": \"3\", \"offsetgroup\": \"3\", \"orientation\": \"v\", \"showlegend\": true, \"type\": \"histogram\", \"x\": [\"2021-05-23T00:00:00\", \"2021-05-28T00:00:00\", \"2021-05-27T00:00:00\", \"2021-05-13T00:00:00\", \"2021-05-25T00:00:00\", \"2021-05-22T00:00:00\", \"2021-05-27T00:00:00\", \"2021-05-23T00:00:00\", \"2021-05-23T00:00:00\"], \"xaxis\": \"x\", \"yaxis\": \"y\"}],                        {\"annotations\": [{\"ax\": 10, \"ay\": 20, \"text\": \"lockdown\", \"x\": \"2021-05-27\", \"xanchor\": \"left\", \"y\": 40}], \"bargap\": 0.2, \"barmode\": \"relative\", \"legend\": {\"title\": {\"text\": \"tier\"}, \"tracegroupgap\": 0}, \"shapes\": [{\"type\": \"line\", \"x0\": \"2021-05-27\", \"x1\": \"2021-05-27\", \"xref\": \"x\", \"y0\": 0, \"y1\": 1, \"yref\": \"y domain\"}], \"template\": {\"data\": {\"bar\": [{\"error_x\": {\"color\": \"#f2f5fa\"}, \"error_y\": {\"color\": \"#f2f5fa\"}, \"marker\": {\"line\": {\"color\": \"rgb(17,17,17)\", \"width\": 0.5}}, \"type\": \"bar\"}], \"barpolar\": [{\"marker\": {\"line\": {\"color\": \"rgb(17,17,17)\", \"width\": 0.5}}, \"type\": \"barpolar\"}], \"carpet\": [{\"aaxis\": {\"endlinecolor\": \"#A2B1C6\", \"gridcolor\": \"#506784\", \"linecolor\": \"#506784\", \"minorgridcolor\": \"#506784\", \"startlinecolor\": \"#A2B1C6\"}, \"baxis\": {\"endlinecolor\": \"#A2B1C6\", \"gridcolor\": \"#506784\", \"linecolor\": \"#506784\", \"minorgridcolor\": \"#506784\", \"startlinecolor\": \"#A2B1C6\"}, \"type\": \"carpet\"}], \"choropleth\": [{\"colorbar\": {\"outlinewidth\": 0, \"ticks\": \"\"}, \"type\": \"choropleth\"}], \"contour\": [{\"colorbar\": {\"outlinewidth\": 0, \"ticks\": \"\"}, \"colorscale\": [[0.0, \"#0d0887\"], [0.1111111111111111, \"#46039f\"], [0.2222222222222222, \"#7201a8\"], [0.3333333333333333, \"#9c179e\"], [0.4444444444444444, \"#bd3786\"], [0.5555555555555556, \"#d8576b\"], [0.6666666666666666, \"#ed7953\"], [0.7777777777777778, \"#fb9f3a\"], [0.8888888888888888, \"#fdca26\"], [1.0, \"#f0f921\"]], \"type\": \"contour\"}], \"contourcarpet\": [{\"colorbar\": {\"outlinewidth\": 0, \"ticks\": \"\"}, \"type\": \"contourcarpet\"}], \"heatmap\": [{\"colorbar\": {\"outlinewidth\": 0, \"ticks\": \"\"}, \"colorscale\": [[0.0, \"#0d0887\"], [0.1111111111111111, \"#46039f\"], [0.2222222222222222, \"#7201a8\"], [0.3333333333333333, \"#9c179e\"], [0.4444444444444444, \"#bd3786\"], [0.5555555555555556, \"#d8576b\"], [0.6666666666666666, \"#ed7953\"], [0.7777777777777778, \"#fb9f3a\"], [0.8888888888888888, \"#fdca26\"], [1.0, \"#f0f921\"]], \"type\": \"heatmap\"}], \"heatmapgl\": [{\"colorbar\": {\"outlinewidth\": 0, \"ticks\": \"\"}, \"colorscale\": [[0.0, \"#0d0887\"], [0.1111111111111111, \"#46039f\"], [0.2222222222222222, \"#7201a8\"], [0.3333333333333333, \"#9c179e\"], [0.4444444444444444, \"#bd3786\"], [0.5555555555555556, \"#d8576b\"], [0.6666666666666666, \"#ed7953\"], [0.7777777777777778, \"#fb9f3a\"], [0.8888888888888888, \"#fdca26\"], [1.0, \"#f0f921\"]], \"type\": \"heatmapgl\"}], \"histogram\": [{\"marker\": {\"colorbar\": {\"outlinewidth\": 0, \"ticks\": \"\"}}, \"type\": \"histogram\"}], \"histogram2d\": [{\"colorbar\": {\"outlinewidth\": 0, \"ticks\": \"\"}, \"colorscale\": [[0.0, \"#0d0887\"], [0.1111111111111111, \"#46039f\"], [0.2222222222222222, \"#7201a8\"], [0.3333333333333333, \"#9c179e\"], [0.4444444444444444, \"#bd3786\"], [0.5555555555555556, \"#d8576b\"], [0.6666666666666666, \"#ed7953\"], [0.7777777777777778, \"#fb9f3a\"], [0.8888888888888888, \"#fdca26\"], [1.0, \"#f0f921\"]], \"type\": \"histogram2d\"}], \"histogram2dcontour\": [{\"colorbar\": {\"outlinewidth\": 0, \"ticks\": \"\"}, \"colorscale\": [[0.0, \"#0d0887\"], [0.1111111111111111, \"#46039f\"], [0.2222222222222222, \"#7201a8\"], [0.3333333333333333, \"#9c179e\"], [0.4444444444444444, \"#bd3786\"], [0.5555555555555556, \"#d8576b\"], [0.6666666666666666, \"#ed7953\"], [0.7777777777777778, \"#fb9f3a\"], [0.8888888888888888, \"#fdca26\"], [1.0, \"#f0f921\"]], \"type\": \"histogram2dcontour\"}], \"mesh3d\": [{\"colorbar\": {\"outlinewidth\": 0, \"ticks\": \"\"}, \"type\": \"mesh3d\"}], \"parcoords\": [{\"line\": {\"colorbar\": {\"outlinewidth\": 0, \"ticks\": \"\"}}, \"type\": \"parcoords\"}], \"pie\": [{\"automargin\": true, \"type\": \"pie\"}], \"scatter\": [{\"marker\": {\"line\": {\"color\": \"#283442\"}}, \"type\": \"scatter\"}], \"scatter3d\": [{\"line\": {\"colorbar\": {\"outlinewidth\": 0, \"ticks\": \"\"}}, \"marker\": {\"colorbar\": {\"outlinewidth\": 0, \"ticks\": \"\"}}, \"type\": \"scatter3d\"}], \"scattercarpet\": [{\"marker\": {\"colorbar\": {\"outlinewidth\": 0, \"ticks\": \"\"}}, \"type\": \"scattercarpet\"}], \"scattergeo\": [{\"marker\": {\"colorbar\": {\"outlinewidth\": 0, \"ticks\": \"\"}}, \"type\": \"scattergeo\"}], \"scattergl\": [{\"marker\": {\"line\": {\"color\": \"#283442\"}}, \"type\": \"scattergl\"}], \"scattermapbox\": [{\"marker\": {\"colorbar\": {\"outlinewidth\": 0, \"ticks\": \"\"}}, \"type\": \"scattermapbox\"}], \"scatterpolar\": [{\"marker\": {\"colorbar\": {\"outlinewidth\": 0, \"ticks\": \"\"}}, \"type\": \"scatterpolar\"}], \"scatterpolargl\": [{\"marker\": {\"colorbar\": {\"outlinewidth\": 0, \"ticks\": \"\"}}, \"type\": \"scatterpolargl\"}], \"scatterternary\": [{\"marker\": {\"colorbar\": {\"outlinewidth\": 0, \"ticks\": \"\"}}, \"type\": \"scatterternary\"}], \"surface\": [{\"colorbar\": {\"outlinewidth\": 0, \"ticks\": \"\"}, \"colorscale\": [[0.0, \"#0d0887\"], [0.1111111111111111, \"#46039f\"], [0.2222222222222222, \"#7201a8\"], [0.3333333333333333, \"#9c179e\"], [0.4444444444444444, \"#bd3786\"], [0.5555555555555556, \"#d8576b\"], [0.6666666666666666, \"#ed7953\"], [0.7777777777777778, \"#fb9f3a\"], [0.8888888888888888, \"#fdca26\"], [1.0, \"#f0f921\"]], \"type\": \"surface\"}], \"table\": [{\"cells\": {\"fill\": {\"color\": \"#506784\"}, \"line\": {\"color\": \"rgb(17,17,17)\"}}, \"header\": {\"fill\": {\"color\": \"#2a3f5f\"}, \"line\": {\"color\": \"rgb(17,17,17)\"}}, \"type\": \"table\"}]}, \"layout\": {\"annotationdefaults\": {\"arrowcolor\": \"#f2f5fa\", \"arrowhead\": 0, \"arrowwidth\": 1}, \"autotypenumbers\": \"strict\", \"coloraxis\": {\"colorbar\": {\"outlinewidth\": 0, \"ticks\": \"\"}}, \"colorscale\": {\"diverging\": [[0, \"#8e0152\"], [0.1, \"#c51b7d\"], [0.2, \"#de77ae\"], [0.3, \"#f1b6da\"], [0.4, \"#fde0ef\"], [0.5, \"#f7f7f7\"], [0.6, \"#e6f5d0\"], [0.7, \"#b8e186\"], [0.8, \"#7fbc41\"], [0.9, \"#4d9221\"], [1, \"#276419\"]], \"sequential\": [[0.0, \"#0d0887\"], [0.1111111111111111, \"#46039f\"], [0.2222222222222222, \"#7201a8\"], [0.3333333333333333, \"#9c179e\"], [0.4444444444444444, \"#bd3786\"], [0.5555555555555556, \"#d8576b\"], [0.6666666666666666, \"#ed7953\"], [0.7777777777777778, \"#fb9f3a\"], [0.8888888888888888, \"#fdca26\"], [1.0, \"#f0f921\"]], \"sequentialminus\": [[0.0, \"#0d0887\"], [0.1111111111111111, \"#46039f\"], [0.2222222222222222, \"#7201a8\"], [0.3333333333333333, \"#9c179e\"], [0.4444444444444444, \"#bd3786\"], [0.5555555555555556, \"#d8576b\"], [0.6666666666666666, \"#ed7953\"], [0.7777777777777778, \"#fb9f3a\"], [0.8888888888888888, \"#fdca26\"], [1.0, \"#f0f921\"]]}, \"colorway\": [\"#636efa\", \"#EF553B\", \"#00cc96\", \"#ab63fa\", \"#FFA15A\", \"#19d3f3\", \"#FF6692\", \"#B6E880\", \"#FF97FF\", \"#FECB52\"], \"font\": {\"color\": \"#f2f5fa\"}, \"geo\": {\"bgcolor\": \"rgb(17,17,17)\", \"lakecolor\": \"rgb(17,17,17)\", \"landcolor\": \"rgb(17,17,17)\", \"showlakes\": true, \"showland\": true, \"subunitcolor\": \"#506784\"}, \"hoverlabel\": {\"align\": \"left\"}, \"hovermode\": \"closest\", \"mapbox\": {\"style\": \"dark\"}, \"paper_bgcolor\": \"rgb(17,17,17)\", \"plot_bgcolor\": \"rgb(17,17,17)\", \"polar\": {\"angularaxis\": {\"gridcolor\": \"#506784\", \"linecolor\": \"#506784\", \"ticks\": \"\"}, \"bgcolor\": \"rgb(17,17,17)\", \"radialaxis\": {\"gridcolor\": \"#506784\", \"linecolor\": \"#506784\", \"ticks\": \"\"}}, \"scene\": {\"xaxis\": {\"backgroundcolor\": \"rgb(17,17,17)\", \"gridcolor\": \"#506784\", \"gridwidth\": 2, \"linecolor\": \"#506784\", \"showbackground\": true, \"ticks\": \"\", \"zerolinecolor\": \"#C8D4E3\"}, \"yaxis\": {\"backgroundcolor\": \"rgb(17,17,17)\", \"gridcolor\": \"#506784\", \"gridwidth\": 2, \"linecolor\": \"#506784\", \"showbackground\": true, \"ticks\": \"\", \"zerolinecolor\": \"#C8D4E3\"}, \"zaxis\": {\"backgroundcolor\": \"rgb(17,17,17)\", \"gridcolor\": \"#506784\", \"gridwidth\": 2, \"linecolor\": \"#506784\", \"showbackground\": true, \"ticks\": \"\", \"zerolinecolor\": \"#C8D4E3\"}}, \"shapedefaults\": {\"line\": {\"color\": \"#f2f5fa\"}}, \"sliderdefaults\": {\"bgcolor\": \"#C8D4E3\", \"bordercolor\": \"rgb(17,17,17)\", \"borderwidth\": 1, \"tickwidth\": 0}, \"ternary\": {\"aaxis\": {\"gridcolor\": \"#506784\", \"linecolor\": \"#506784\", \"ticks\": \"\"}, \"baxis\": {\"gridcolor\": \"#506784\", \"linecolor\": \"#506784\", \"ticks\": \"\"}, \"bgcolor\": \"rgb(17,17,17)\", \"caxis\": {\"gridcolor\": \"#506784\", \"linecolor\": \"#506784\", \"ticks\": \"\"}}, \"title\": {\"x\": 0.05}, \"updatemenudefaults\": {\"bgcolor\": \"#506784\", \"borderwidth\": 0}, \"xaxis\": {\"automargin\": true, \"gridcolor\": \"#283442\", \"linecolor\": \"#506784\", \"ticks\": \"\", \"title\": {\"standoff\": 15}, \"zerolinecolor\": \"#283442\", \"zerolinewidth\": 2}, \"yaxis\": {\"automargin\": true, \"gridcolor\": \"#283442\", \"linecolor\": \"#506784\", \"ticks\": \"\", \"title\": {\"standoff\": 15}, \"zerolinecolor\": \"#283442\", \"zerolinewidth\": 2}}}, \"title\": {\"text\": \"Exposure time\"}, \"xaxis\": {\"anchor\": \"y\", \"domain\": [0.0, 1.0], \"nticks\": 10, \"tickangle\": 60, \"title\": {\"text\": \"date_exposure\"}}, \"yaxis\": {\"anchor\": \"x\", \"domain\": [0.0, 1.0], \"title\": {\"text\": \"count\"}}},                        {\"responsive\": true}                    ).then(function(){\n",
       "                            \n",
       "var gd = document.getElementById('6ba1b9d7-d659-42d0-a9ae-bc19bd8f0bba');\n",
       "var x = new MutationObserver(function (mutations, observer) {{\n",
       "        var display = window.getComputedStyle(gd).display;\n",
       "        if (!display || display === 'none') {{\n",
       "            console.log([gd, 'removed!']);\n",
       "            Plotly.purge(gd);\n",
       "            observer.disconnect();\n",
       "        }}\n",
       "}});\n",
       "\n",
       "// Listen for the removal of the full notebook cells\n",
       "var notebookContainer = gd.closest('#notebook-container');\n",
       "if (notebookContainer) {{\n",
       "    x.observe(notebookContainer, {childList: true});\n",
       "}}\n",
       "\n",
       "// Listen for the clearing of the current output cell\n",
       "var outputEl = gd.closest('.output');\n",
       "if (outputEl) {{\n",
       "    x.observe(outputEl, {childList: true});\n",
       "}}\n",
       "\n",
       "                        })                };                });            </script>        </div>"
      ]
     },
     "metadata": {},
     "output_type": "display_data"
    },
    {
     "data": {
      "application/vnd.plotly.v1+json": {
       "config": {
        "plotlyServerURL": "https://plot.ly"
       },
       "data": [
        {
         "alignmentgroup": "True",
         "bingroup": "x",
         "hovertemplate": "date_delay=%{x}<br>count=%{y}<extra></extra>",
         "legendgroup": "",
         "marker": {
          "color": "#636efa"
         },
         "name": "",
         "offsetgroup": "",
         "orientation": "v",
         "showlegend": false,
         "type": "histogram",
         "x": [
          9,
          4,
          4,
          4,
          5,
          4,
          3,
          2,
          5,
          5,
          5,
          4,
          3,
          2,
          3,
          6,
          4,
          4,
          4,
          9,
          8,
          8,
          6,
          10,
          5,
          5,
          6,
          5,
          4,
          4,
          15,
          15,
          8,
          7,
          10,
          12,
          4,
          4,
          4,
          5,
          5,
          6,
          7,
          7,
          5,
          8,
          7,
          8,
          8,
          7,
          4,
          6,
          7,
          8,
          6,
          6,
          7,
          8,
          6,
          8,
          3,
          3,
          4,
          7,
          7,
          4,
          4,
          4,
          9,
          8,
          6,
          13,
          13,
          4,
          4,
          4,
          3,
          6,
          11,
          8,
          4,
          3,
          13,
          12,
          8,
          5,
          5,
          5,
          8,
          8,
          4,
          8,
          8,
          8,
          11,
          8,
          12,
          5,
          4,
          6,
          13,
          12,
          10,
          9,
          6,
          5,
          3,
          2,
          18,
          17,
          10,
          5,
          11,
          5,
          4,
          7,
          11,
          5,
          8,
          4,
          6,
          4,
          9,
          5,
          3,
          3,
          2,
          2,
          2,
          1,
          6,
          3,
          3,
          3,
          4,
          5,
          4,
          4,
          4,
          5,
          7,
          7,
          6,
          7,
          8,
          6,
          4,
          9,
          9,
          9,
          9,
          9,
          3,
          9,
          10,
          10,
          10,
          10,
          3,
          4,
          5,
          5,
          5,
          6,
          4,
          3,
          2,
          6,
          5,
          3,
          2,
          1,
          6,
          6,
          6,
          5,
          3,
          4,
          3,
          4,
          5,
          3,
          2,
          2,
          14,
          4,
          4,
          4,
          4,
          2,
          3,
          3,
          5,
          5,
          5,
          5,
          6,
          3,
          5,
          7,
          3,
          3,
          3,
          3,
          3,
          4,
          6,
          3,
          2,
          5,
          4,
          5,
          4,
          13,
          13,
          13,
          4,
          2,
          5,
          3,
          5,
          6,
          3,
          4,
          5,
          4,
          3,
          4,
          3,
          5,
          3,
          2,
          3,
          5,
          2,
          3,
          3,
          4,
          4,
          8,
          6,
          5,
          4,
          3,
          2,
          1,
          2,
          3,
          5,
          3,
          3,
          4,
          4,
          3,
          3,
          3,
          4,
          4,
          4,
          6,
          6,
          4,
          2,
          2,
          5,
          4,
          6,
          5,
          6,
          6,
          6,
          5,
          8,
          5,
          1,
          1,
          2,
          3,
          2,
          7,
          6,
          4,
          2,
          3,
          2,
          1,
          1,
          4,
          4,
          4,
          4,
          4,
          4,
          3,
          1,
          1,
          0,
          0
         ],
         "xaxis": "x",
         "yaxis": "y"
        }
       ],
       "layout": {
        "annotations": [
         {
          "showarrow": false,
          "text": "median",
          "x": 5,
          "xanchor": "left",
          "xref": "x",
          "y": 1,
          "yanchor": "top",
          "yref": "y domain"
         }
        ],
        "barmode": "relative",
        "legend": {
         "tracegroupgap": 0
        },
        "shapes": [
         {
          "type": "line",
          "x0": 5,
          "x1": 5,
          "xref": "x",
          "y0": 0,
          "y1": 1,
          "yref": "y domain"
         }
        ],
        "template": {
         "data": {
          "bar": [
           {
            "error_x": {
             "color": "#f2f5fa"
            },
            "error_y": {
             "color": "#f2f5fa"
            },
            "marker": {
             "line": {
              "color": "rgb(17,17,17)",
              "width": 0.5
             }
            },
            "type": "bar"
           }
          ],
          "barpolar": [
           {
            "marker": {
             "line": {
              "color": "rgb(17,17,17)",
              "width": 0.5
             }
            },
            "type": "barpolar"
           }
          ],
          "carpet": [
           {
            "aaxis": {
             "endlinecolor": "#A2B1C6",
             "gridcolor": "#506784",
             "linecolor": "#506784",
             "minorgridcolor": "#506784",
             "startlinecolor": "#A2B1C6"
            },
            "baxis": {
             "endlinecolor": "#A2B1C6",
             "gridcolor": "#506784",
             "linecolor": "#506784",
             "minorgridcolor": "#506784",
             "startlinecolor": "#A2B1C6"
            },
            "type": "carpet"
           }
          ],
          "choropleth": [
           {
            "colorbar": {
             "outlinewidth": 0,
             "ticks": ""
            },
            "type": "choropleth"
           }
          ],
          "contour": [
           {
            "colorbar": {
             "outlinewidth": 0,
             "ticks": ""
            },
            "colorscale": [
             [
              0,
              "#0d0887"
             ],
             [
              0.1111111111111111,
              "#46039f"
             ],
             [
              0.2222222222222222,
              "#7201a8"
             ],
             [
              0.3333333333333333,
              "#9c179e"
             ],
             [
              0.4444444444444444,
              "#bd3786"
             ],
             [
              0.5555555555555556,
              "#d8576b"
             ],
             [
              0.6666666666666666,
              "#ed7953"
             ],
             [
              0.7777777777777778,
              "#fb9f3a"
             ],
             [
              0.8888888888888888,
              "#fdca26"
             ],
             [
              1,
              "#f0f921"
             ]
            ],
            "type": "contour"
           }
          ],
          "contourcarpet": [
           {
            "colorbar": {
             "outlinewidth": 0,
             "ticks": ""
            },
            "type": "contourcarpet"
           }
          ],
          "heatmap": [
           {
            "colorbar": {
             "outlinewidth": 0,
             "ticks": ""
            },
            "colorscale": [
             [
              0,
              "#0d0887"
             ],
             [
              0.1111111111111111,
              "#46039f"
             ],
             [
              0.2222222222222222,
              "#7201a8"
             ],
             [
              0.3333333333333333,
              "#9c179e"
             ],
             [
              0.4444444444444444,
              "#bd3786"
             ],
             [
              0.5555555555555556,
              "#d8576b"
             ],
             [
              0.6666666666666666,
              "#ed7953"
             ],
             [
              0.7777777777777778,
              "#fb9f3a"
             ],
             [
              0.8888888888888888,
              "#fdca26"
             ],
             [
              1,
              "#f0f921"
             ]
            ],
            "type": "heatmap"
           }
          ],
          "heatmapgl": [
           {
            "colorbar": {
             "outlinewidth": 0,
             "ticks": ""
            },
            "colorscale": [
             [
              0,
              "#0d0887"
             ],
             [
              0.1111111111111111,
              "#46039f"
             ],
             [
              0.2222222222222222,
              "#7201a8"
             ],
             [
              0.3333333333333333,
              "#9c179e"
             ],
             [
              0.4444444444444444,
              "#bd3786"
             ],
             [
              0.5555555555555556,
              "#d8576b"
             ],
             [
              0.6666666666666666,
              "#ed7953"
             ],
             [
              0.7777777777777778,
              "#fb9f3a"
             ],
             [
              0.8888888888888888,
              "#fdca26"
             ],
             [
              1,
              "#f0f921"
             ]
            ],
            "type": "heatmapgl"
           }
          ],
          "histogram": [
           {
            "marker": {
             "colorbar": {
              "outlinewidth": 0,
              "ticks": ""
             }
            },
            "type": "histogram"
           }
          ],
          "histogram2d": [
           {
            "colorbar": {
             "outlinewidth": 0,
             "ticks": ""
            },
            "colorscale": [
             [
              0,
              "#0d0887"
             ],
             [
              0.1111111111111111,
              "#46039f"
             ],
             [
              0.2222222222222222,
              "#7201a8"
             ],
             [
              0.3333333333333333,
              "#9c179e"
             ],
             [
              0.4444444444444444,
              "#bd3786"
             ],
             [
              0.5555555555555556,
              "#d8576b"
             ],
             [
              0.6666666666666666,
              "#ed7953"
             ],
             [
              0.7777777777777778,
              "#fb9f3a"
             ],
             [
              0.8888888888888888,
              "#fdca26"
             ],
             [
              1,
              "#f0f921"
             ]
            ],
            "type": "histogram2d"
           }
          ],
          "histogram2dcontour": [
           {
            "colorbar": {
             "outlinewidth": 0,
             "ticks": ""
            },
            "colorscale": [
             [
              0,
              "#0d0887"
             ],
             [
              0.1111111111111111,
              "#46039f"
             ],
             [
              0.2222222222222222,
              "#7201a8"
             ],
             [
              0.3333333333333333,
              "#9c179e"
             ],
             [
              0.4444444444444444,
              "#bd3786"
             ],
             [
              0.5555555555555556,
              "#d8576b"
             ],
             [
              0.6666666666666666,
              "#ed7953"
             ],
             [
              0.7777777777777778,
              "#fb9f3a"
             ],
             [
              0.8888888888888888,
              "#fdca26"
             ],
             [
              1,
              "#f0f921"
             ]
            ],
            "type": "histogram2dcontour"
           }
          ],
          "mesh3d": [
           {
            "colorbar": {
             "outlinewidth": 0,
             "ticks": ""
            },
            "type": "mesh3d"
           }
          ],
          "parcoords": [
           {
            "line": {
             "colorbar": {
              "outlinewidth": 0,
              "ticks": ""
             }
            },
            "type": "parcoords"
           }
          ],
          "pie": [
           {
            "automargin": true,
            "type": "pie"
           }
          ],
          "scatter": [
           {
            "marker": {
             "line": {
              "color": "#283442"
             }
            },
            "type": "scatter"
           }
          ],
          "scatter3d": [
           {
            "line": {
             "colorbar": {
              "outlinewidth": 0,
              "ticks": ""
             }
            },
            "marker": {
             "colorbar": {
              "outlinewidth": 0,
              "ticks": ""
             }
            },
            "type": "scatter3d"
           }
          ],
          "scattercarpet": [
           {
            "marker": {
             "colorbar": {
              "outlinewidth": 0,
              "ticks": ""
             }
            },
            "type": "scattercarpet"
           }
          ],
          "scattergeo": [
           {
            "marker": {
             "colorbar": {
              "outlinewidth": 0,
              "ticks": ""
             }
            },
            "type": "scattergeo"
           }
          ],
          "scattergl": [
           {
            "marker": {
             "line": {
              "color": "#283442"
             }
            },
            "type": "scattergl"
           }
          ],
          "scattermapbox": [
           {
            "marker": {
             "colorbar": {
              "outlinewidth": 0,
              "ticks": ""
             }
            },
            "type": "scattermapbox"
           }
          ],
          "scatterpolar": [
           {
            "marker": {
             "colorbar": {
              "outlinewidth": 0,
              "ticks": ""
             }
            },
            "type": "scatterpolar"
           }
          ],
          "scatterpolargl": [
           {
            "marker": {
             "colorbar": {
              "outlinewidth": 0,
              "ticks": ""
             }
            },
            "type": "scatterpolargl"
           }
          ],
          "scatterternary": [
           {
            "marker": {
             "colorbar": {
              "outlinewidth": 0,
              "ticks": ""
             }
            },
            "type": "scatterternary"
           }
          ],
          "surface": [
           {
            "colorbar": {
             "outlinewidth": 0,
             "ticks": ""
            },
            "colorscale": [
             [
              0,
              "#0d0887"
             ],
             [
              0.1111111111111111,
              "#46039f"
             ],
             [
              0.2222222222222222,
              "#7201a8"
             ],
             [
              0.3333333333333333,
              "#9c179e"
             ],
             [
              0.4444444444444444,
              "#bd3786"
             ],
             [
              0.5555555555555556,
              "#d8576b"
             ],
             [
              0.6666666666666666,
              "#ed7953"
             ],
             [
              0.7777777777777778,
              "#fb9f3a"
             ],
             [
              0.8888888888888888,
              "#fdca26"
             ],
             [
              1,
              "#f0f921"
             ]
            ],
            "type": "surface"
           }
          ],
          "table": [
           {
            "cells": {
             "fill": {
              "color": "#506784"
             },
             "line": {
              "color": "rgb(17,17,17)"
             }
            },
            "header": {
             "fill": {
              "color": "#2a3f5f"
             },
             "line": {
              "color": "rgb(17,17,17)"
             }
            },
            "type": "table"
           }
          ]
         },
         "layout": {
          "annotationdefaults": {
           "arrowcolor": "#f2f5fa",
           "arrowhead": 0,
           "arrowwidth": 1
          },
          "autotypenumbers": "strict",
          "coloraxis": {
           "colorbar": {
            "outlinewidth": 0,
            "ticks": ""
           }
          },
          "colorscale": {
           "diverging": [
            [
             0,
             "#8e0152"
            ],
            [
             0.1,
             "#c51b7d"
            ],
            [
             0.2,
             "#de77ae"
            ],
            [
             0.3,
             "#f1b6da"
            ],
            [
             0.4,
             "#fde0ef"
            ],
            [
             0.5,
             "#f7f7f7"
            ],
            [
             0.6,
             "#e6f5d0"
            ],
            [
             0.7,
             "#b8e186"
            ],
            [
             0.8,
             "#7fbc41"
            ],
            [
             0.9,
             "#4d9221"
            ],
            [
             1,
             "#276419"
            ]
           ],
           "sequential": [
            [
             0,
             "#0d0887"
            ],
            [
             0.1111111111111111,
             "#46039f"
            ],
            [
             0.2222222222222222,
             "#7201a8"
            ],
            [
             0.3333333333333333,
             "#9c179e"
            ],
            [
             0.4444444444444444,
             "#bd3786"
            ],
            [
             0.5555555555555556,
             "#d8576b"
            ],
            [
             0.6666666666666666,
             "#ed7953"
            ],
            [
             0.7777777777777778,
             "#fb9f3a"
            ],
            [
             0.8888888888888888,
             "#fdca26"
            ],
            [
             1,
             "#f0f921"
            ]
           ],
           "sequentialminus": [
            [
             0,
             "#0d0887"
            ],
            [
             0.1111111111111111,
             "#46039f"
            ],
            [
             0.2222222222222222,
             "#7201a8"
            ],
            [
             0.3333333333333333,
             "#9c179e"
            ],
            [
             0.4444444444444444,
             "#bd3786"
            ],
            [
             0.5555555555555556,
             "#d8576b"
            ],
            [
             0.6666666666666666,
             "#ed7953"
            ],
            [
             0.7777777777777778,
             "#fb9f3a"
            ],
            [
             0.8888888888888888,
             "#fdca26"
            ],
            [
             1,
             "#f0f921"
            ]
           ]
          },
          "colorway": [
           "#636efa",
           "#EF553B",
           "#00cc96",
           "#ab63fa",
           "#FFA15A",
           "#19d3f3",
           "#FF6692",
           "#B6E880",
           "#FF97FF",
           "#FECB52"
          ],
          "font": {
           "color": "#f2f5fa"
          },
          "geo": {
           "bgcolor": "rgb(17,17,17)",
           "lakecolor": "rgb(17,17,17)",
           "landcolor": "rgb(17,17,17)",
           "showlakes": true,
           "showland": true,
           "subunitcolor": "#506784"
          },
          "hoverlabel": {
           "align": "left"
          },
          "hovermode": "closest",
          "mapbox": {
           "style": "dark"
          },
          "paper_bgcolor": "rgb(17,17,17)",
          "plot_bgcolor": "rgb(17,17,17)",
          "polar": {
           "angularaxis": {
            "gridcolor": "#506784",
            "linecolor": "#506784",
            "ticks": ""
           },
           "bgcolor": "rgb(17,17,17)",
           "radialaxis": {
            "gridcolor": "#506784",
            "linecolor": "#506784",
            "ticks": ""
           }
          },
          "scene": {
           "xaxis": {
            "backgroundcolor": "rgb(17,17,17)",
            "gridcolor": "#506784",
            "gridwidth": 2,
            "linecolor": "#506784",
            "showbackground": true,
            "ticks": "",
            "zerolinecolor": "#C8D4E3"
           },
           "yaxis": {
            "backgroundcolor": "rgb(17,17,17)",
            "gridcolor": "#506784",
            "gridwidth": 2,
            "linecolor": "#506784",
            "showbackground": true,
            "ticks": "",
            "zerolinecolor": "#C8D4E3"
           },
           "zaxis": {
            "backgroundcolor": "rgb(17,17,17)",
            "gridcolor": "#506784",
            "gridwidth": 2,
            "linecolor": "#506784",
            "showbackground": true,
            "ticks": "",
            "zerolinecolor": "#C8D4E3"
           }
          },
          "shapedefaults": {
           "line": {
            "color": "#f2f5fa"
           }
          },
          "sliderdefaults": {
           "bgcolor": "#C8D4E3",
           "bordercolor": "rgb(17,17,17)",
           "borderwidth": 1,
           "tickwidth": 0
          },
          "ternary": {
           "aaxis": {
            "gridcolor": "#506784",
            "linecolor": "#506784",
            "ticks": ""
           },
           "baxis": {
            "gridcolor": "#506784",
            "linecolor": "#506784",
            "ticks": ""
           },
           "bgcolor": "rgb(17,17,17)",
           "caxis": {
            "gridcolor": "#506784",
            "linecolor": "#506784",
            "ticks": ""
           }
          },
          "title": {
           "x": 0.05
          },
          "updatemenudefaults": {
           "bgcolor": "#506784",
           "borderwidth": 0
          },
          "xaxis": {
           "automargin": true,
           "gridcolor": "#283442",
           "linecolor": "#506784",
           "ticks": "",
           "title": {
            "standoff": 15
           },
           "zerolinecolor": "#283442",
           "zerolinewidth": 2
          },
          "yaxis": {
           "automargin": true,
           "gridcolor": "#283442",
           "linecolor": "#506784",
           "ticks": "",
           "title": {
            "standoff": 15
           },
           "zerolinecolor": "#283442",
           "zerolinewidth": 2
          }
         }
        },
        "title": {
         "text": "Reporting delay (difference between reporting and exposure time)"
        },
        "xaxis": {
         "anchor": "y",
         "domain": [
          0,
          1
         ],
         "title": {
          "text": "date_delay"
         }
        },
        "yaxis": {
         "anchor": "x",
         "domain": [
          0,
          1
         ],
         "title": {
          "text": "count"
         }
        }
       }
      },
      "text/html": [
       "<div>                            <div id=\"39df3352-6faf-4132-ae7b-a2aba08ee822\" class=\"plotly-graph-div\" style=\"height:525px; width:100%;\"></div>            <script type=\"text/javascript\">                require([\"plotly\"], function(Plotly) {                    window.PLOTLYENV=window.PLOTLYENV || {};                                    if (document.getElementById(\"39df3352-6faf-4132-ae7b-a2aba08ee822\")) {                    Plotly.newPlot(                        \"39df3352-6faf-4132-ae7b-a2aba08ee822\",                        [{\"alignmentgroup\": \"True\", \"bingroup\": \"x\", \"hovertemplate\": \"date_delay=%{x}<br>count=%{y}<extra></extra>\", \"legendgroup\": \"\", \"marker\": {\"color\": \"#636efa\"}, \"name\": \"\", \"offsetgroup\": \"\", \"orientation\": \"v\", \"showlegend\": false, \"type\": \"histogram\", \"x\": [9, 4, 4, 4, 5, 4, 3, 2, 5, 5, 5, 4, 3, 2, 3, 6, 4, 4, 4, 9, 8, 8, 6, 10, 5, 5, 6, 5, 4, 4, 15, 15, 8, 7, 10, 12, 4, 4, 4, 5, 5, 6, 7, 7, 5, 8, 7, 8, 8, 7, 4, 6, 7, 8, 6, 6, 7, 8, 6, 8, 3, 3, 4, 7, 7, 4, 4, 4, 9, 8, 6, 13, 13, 4, 4, 4, 3, 6, 11, 8, 4, 3, 13, 12, 8, 5, 5, 5, 8, 8, 4, 8, 8, 8, 11, 8, 12, 5, 4, 6, 13, 12, 10, 9, 6, 5, 3, 2, 18, 17, 10, 5, 11, 5, 4, 7, 11, 5, 8, 4, 6, 4, 9, 5, 3, 3, 2, 2, 2, 1, 6, 3, 3, 3, 4, 5, 4, 4, 4, 5, 7, 7, 6, 7, 8, 6, 4, 9, 9, 9, 9, 9, 3, 9, 10, 10, 10, 10, 3, 4, 5, 5, 5, 6, 4, 3, 2, 6, 5, 3, 2, 1, 6, 6, 6, 5, 3, 4, 3, 4, 5, 3, 2, 2, 14, 4, 4, 4, 4, 2, 3, 3, 5, 5, 5, 5, 6, 3, 5, 7, 3, 3, 3, 3, 3, 4, 6, 3, 2, 5, 4, 5, 4, 13, 13, 13, 4, 2, 5, 3, 5, 6, 3, 4, 5, 4, 3, 4, 3, 5, 3, 2, 3, 5, 2, 3, 3, 4, 4, 8, 6, 5, 4, 3, 2, 1, 2, 3, 5, 3, 3, 4, 4, 3, 3, 3, 4, 4, 4, 6, 6, 4, 2, 2, 5, 4, 6, 5, 6, 6, 6, 5, 8, 5, 1, 1, 2, 3, 2, 7, 6, 4, 2, 3, 2, 1, 1, 4, 4, 4, 4, 4, 4, 3, 1, 1, 0, 0], \"xaxis\": \"x\", \"yaxis\": \"y\"}],                        {\"annotations\": [{\"showarrow\": false, \"text\": \"median\", \"x\": 5.0, \"xanchor\": \"left\", \"xref\": \"x\", \"y\": 1, \"yanchor\": \"top\", \"yref\": \"y domain\"}], \"barmode\": \"relative\", \"legend\": {\"tracegroupgap\": 0}, \"shapes\": [{\"type\": \"line\", \"x0\": 5.0, \"x1\": 5.0, \"xref\": \"x\", \"y0\": 0, \"y1\": 1, \"yref\": \"y domain\"}], \"template\": {\"data\": {\"bar\": [{\"error_x\": {\"color\": \"#f2f5fa\"}, \"error_y\": {\"color\": \"#f2f5fa\"}, \"marker\": {\"line\": {\"color\": \"rgb(17,17,17)\", \"width\": 0.5}}, \"type\": \"bar\"}], \"barpolar\": [{\"marker\": {\"line\": {\"color\": \"rgb(17,17,17)\", \"width\": 0.5}}, \"type\": \"barpolar\"}], \"carpet\": [{\"aaxis\": {\"endlinecolor\": \"#A2B1C6\", \"gridcolor\": \"#506784\", \"linecolor\": \"#506784\", \"minorgridcolor\": \"#506784\", \"startlinecolor\": \"#A2B1C6\"}, \"baxis\": {\"endlinecolor\": \"#A2B1C6\", \"gridcolor\": \"#506784\", \"linecolor\": \"#506784\", \"minorgridcolor\": \"#506784\", \"startlinecolor\": \"#A2B1C6\"}, \"type\": \"carpet\"}], \"choropleth\": [{\"colorbar\": {\"outlinewidth\": 0, \"ticks\": \"\"}, \"type\": \"choropleth\"}], \"contour\": [{\"colorbar\": {\"outlinewidth\": 0, \"ticks\": \"\"}, \"colorscale\": [[0.0, \"#0d0887\"], [0.1111111111111111, \"#46039f\"], [0.2222222222222222, \"#7201a8\"], [0.3333333333333333, \"#9c179e\"], [0.4444444444444444, \"#bd3786\"], [0.5555555555555556, \"#d8576b\"], [0.6666666666666666, \"#ed7953\"], [0.7777777777777778, \"#fb9f3a\"], [0.8888888888888888, \"#fdca26\"], [1.0, \"#f0f921\"]], \"type\": \"contour\"}], \"contourcarpet\": [{\"colorbar\": {\"outlinewidth\": 0, \"ticks\": \"\"}, \"type\": \"contourcarpet\"}], \"heatmap\": [{\"colorbar\": {\"outlinewidth\": 0, \"ticks\": \"\"}, \"colorscale\": [[0.0, \"#0d0887\"], [0.1111111111111111, \"#46039f\"], [0.2222222222222222, \"#7201a8\"], [0.3333333333333333, \"#9c179e\"], [0.4444444444444444, \"#bd3786\"], [0.5555555555555556, \"#d8576b\"], [0.6666666666666666, \"#ed7953\"], [0.7777777777777778, \"#fb9f3a\"], [0.8888888888888888, \"#fdca26\"], [1.0, \"#f0f921\"]], \"type\": \"heatmap\"}], \"heatmapgl\": [{\"colorbar\": {\"outlinewidth\": 0, \"ticks\": \"\"}, \"colorscale\": [[0.0, \"#0d0887\"], [0.1111111111111111, \"#46039f\"], [0.2222222222222222, \"#7201a8\"], [0.3333333333333333, \"#9c179e\"], [0.4444444444444444, \"#bd3786\"], [0.5555555555555556, \"#d8576b\"], [0.6666666666666666, \"#ed7953\"], [0.7777777777777778, \"#fb9f3a\"], [0.8888888888888888, \"#fdca26\"], [1.0, \"#f0f921\"]], \"type\": \"heatmapgl\"}], \"histogram\": [{\"marker\": {\"colorbar\": {\"outlinewidth\": 0, \"ticks\": \"\"}}, \"type\": \"histogram\"}], \"histogram2d\": [{\"colorbar\": {\"outlinewidth\": 0, \"ticks\": \"\"}, \"colorscale\": [[0.0, \"#0d0887\"], [0.1111111111111111, \"#46039f\"], [0.2222222222222222, \"#7201a8\"], [0.3333333333333333, \"#9c179e\"], [0.4444444444444444, \"#bd3786\"], [0.5555555555555556, \"#d8576b\"], [0.6666666666666666, \"#ed7953\"], [0.7777777777777778, \"#fb9f3a\"], [0.8888888888888888, \"#fdca26\"], [1.0, \"#f0f921\"]], \"type\": \"histogram2d\"}], \"histogram2dcontour\": [{\"colorbar\": {\"outlinewidth\": 0, \"ticks\": \"\"}, \"colorscale\": [[0.0, \"#0d0887\"], [0.1111111111111111, \"#46039f\"], [0.2222222222222222, \"#7201a8\"], [0.3333333333333333, \"#9c179e\"], [0.4444444444444444, \"#bd3786\"], [0.5555555555555556, \"#d8576b\"], [0.6666666666666666, \"#ed7953\"], [0.7777777777777778, \"#fb9f3a\"], [0.8888888888888888, \"#fdca26\"], [1.0, \"#f0f921\"]], \"type\": \"histogram2dcontour\"}], \"mesh3d\": [{\"colorbar\": {\"outlinewidth\": 0, \"ticks\": \"\"}, \"type\": \"mesh3d\"}], \"parcoords\": [{\"line\": {\"colorbar\": {\"outlinewidth\": 0, \"ticks\": \"\"}}, \"type\": \"parcoords\"}], \"pie\": [{\"automargin\": true, \"type\": \"pie\"}], \"scatter\": [{\"marker\": {\"line\": {\"color\": \"#283442\"}}, \"type\": \"scatter\"}], \"scatter3d\": [{\"line\": {\"colorbar\": {\"outlinewidth\": 0, \"ticks\": \"\"}}, \"marker\": {\"colorbar\": {\"outlinewidth\": 0, \"ticks\": \"\"}}, \"type\": \"scatter3d\"}], \"scattercarpet\": [{\"marker\": {\"colorbar\": {\"outlinewidth\": 0, \"ticks\": \"\"}}, \"type\": \"scattercarpet\"}], \"scattergeo\": [{\"marker\": {\"colorbar\": {\"outlinewidth\": 0, \"ticks\": \"\"}}, \"type\": \"scattergeo\"}], \"scattergl\": [{\"marker\": {\"line\": {\"color\": \"#283442\"}}, \"type\": \"scattergl\"}], \"scattermapbox\": [{\"marker\": {\"colorbar\": {\"outlinewidth\": 0, \"ticks\": \"\"}}, \"type\": \"scattermapbox\"}], \"scatterpolar\": [{\"marker\": {\"colorbar\": {\"outlinewidth\": 0, \"ticks\": \"\"}}, \"type\": \"scatterpolar\"}], \"scatterpolargl\": [{\"marker\": {\"colorbar\": {\"outlinewidth\": 0, \"ticks\": \"\"}}, \"type\": \"scatterpolargl\"}], \"scatterternary\": [{\"marker\": {\"colorbar\": {\"outlinewidth\": 0, \"ticks\": \"\"}}, \"type\": \"scatterternary\"}], \"surface\": [{\"colorbar\": {\"outlinewidth\": 0, \"ticks\": \"\"}, \"colorscale\": [[0.0, \"#0d0887\"], [0.1111111111111111, \"#46039f\"], [0.2222222222222222, \"#7201a8\"], [0.3333333333333333, \"#9c179e\"], [0.4444444444444444, \"#bd3786\"], [0.5555555555555556, \"#d8576b\"], [0.6666666666666666, \"#ed7953\"], [0.7777777777777778, \"#fb9f3a\"], [0.8888888888888888, \"#fdca26\"], [1.0, \"#f0f921\"]], \"type\": \"surface\"}], \"table\": [{\"cells\": {\"fill\": {\"color\": \"#506784\"}, \"line\": {\"color\": \"rgb(17,17,17)\"}}, \"header\": {\"fill\": {\"color\": \"#2a3f5f\"}, \"line\": {\"color\": \"rgb(17,17,17)\"}}, \"type\": \"table\"}]}, \"layout\": {\"annotationdefaults\": {\"arrowcolor\": \"#f2f5fa\", \"arrowhead\": 0, \"arrowwidth\": 1}, \"autotypenumbers\": \"strict\", \"coloraxis\": {\"colorbar\": {\"outlinewidth\": 0, \"ticks\": \"\"}}, \"colorscale\": {\"diverging\": [[0, \"#8e0152\"], [0.1, \"#c51b7d\"], [0.2, \"#de77ae\"], [0.3, \"#f1b6da\"], [0.4, \"#fde0ef\"], [0.5, \"#f7f7f7\"], [0.6, \"#e6f5d0\"], [0.7, \"#b8e186\"], [0.8, \"#7fbc41\"], [0.9, \"#4d9221\"], [1, \"#276419\"]], \"sequential\": [[0.0, \"#0d0887\"], [0.1111111111111111, \"#46039f\"], [0.2222222222222222, \"#7201a8\"], [0.3333333333333333, \"#9c179e\"], [0.4444444444444444, \"#bd3786\"], [0.5555555555555556, \"#d8576b\"], [0.6666666666666666, \"#ed7953\"], [0.7777777777777778, \"#fb9f3a\"], [0.8888888888888888, \"#fdca26\"], [1.0, \"#f0f921\"]], \"sequentialminus\": [[0.0, \"#0d0887\"], [0.1111111111111111, \"#46039f\"], [0.2222222222222222, \"#7201a8\"], [0.3333333333333333, \"#9c179e\"], [0.4444444444444444, \"#bd3786\"], [0.5555555555555556, \"#d8576b\"], [0.6666666666666666, \"#ed7953\"], [0.7777777777777778, \"#fb9f3a\"], [0.8888888888888888, \"#fdca26\"], [1.0, \"#f0f921\"]]}, \"colorway\": [\"#636efa\", \"#EF553B\", \"#00cc96\", \"#ab63fa\", \"#FFA15A\", \"#19d3f3\", \"#FF6692\", \"#B6E880\", \"#FF97FF\", \"#FECB52\"], \"font\": {\"color\": \"#f2f5fa\"}, \"geo\": {\"bgcolor\": \"rgb(17,17,17)\", \"lakecolor\": \"rgb(17,17,17)\", \"landcolor\": \"rgb(17,17,17)\", \"showlakes\": true, \"showland\": true, \"subunitcolor\": \"#506784\"}, \"hoverlabel\": {\"align\": \"left\"}, \"hovermode\": \"closest\", \"mapbox\": {\"style\": \"dark\"}, \"paper_bgcolor\": \"rgb(17,17,17)\", \"plot_bgcolor\": \"rgb(17,17,17)\", \"polar\": {\"angularaxis\": {\"gridcolor\": \"#506784\", \"linecolor\": \"#506784\", \"ticks\": \"\"}, \"bgcolor\": \"rgb(17,17,17)\", \"radialaxis\": {\"gridcolor\": \"#506784\", \"linecolor\": \"#506784\", \"ticks\": \"\"}}, \"scene\": {\"xaxis\": {\"backgroundcolor\": \"rgb(17,17,17)\", \"gridcolor\": \"#506784\", \"gridwidth\": 2, \"linecolor\": \"#506784\", \"showbackground\": true, \"ticks\": \"\", \"zerolinecolor\": \"#C8D4E3\"}, \"yaxis\": {\"backgroundcolor\": \"rgb(17,17,17)\", \"gridcolor\": \"#506784\", \"gridwidth\": 2, \"linecolor\": \"#506784\", \"showbackground\": true, \"ticks\": \"\", \"zerolinecolor\": \"#C8D4E3\"}, \"zaxis\": {\"backgroundcolor\": \"rgb(17,17,17)\", \"gridcolor\": \"#506784\", \"gridwidth\": 2, \"linecolor\": \"#506784\", \"showbackground\": true, \"ticks\": \"\", \"zerolinecolor\": \"#C8D4E3\"}}, \"shapedefaults\": {\"line\": {\"color\": \"#f2f5fa\"}}, \"sliderdefaults\": {\"bgcolor\": \"#C8D4E3\", \"bordercolor\": \"rgb(17,17,17)\", \"borderwidth\": 1, \"tickwidth\": 0}, \"ternary\": {\"aaxis\": {\"gridcolor\": \"#506784\", \"linecolor\": \"#506784\", \"ticks\": \"\"}, \"baxis\": {\"gridcolor\": \"#506784\", \"linecolor\": \"#506784\", \"ticks\": \"\"}, \"bgcolor\": \"rgb(17,17,17)\", \"caxis\": {\"gridcolor\": \"#506784\", \"linecolor\": \"#506784\", \"ticks\": \"\"}}, \"title\": {\"x\": 0.05}, \"updatemenudefaults\": {\"bgcolor\": \"#506784\", \"borderwidth\": 0}, \"xaxis\": {\"automargin\": true, \"gridcolor\": \"#283442\", \"linecolor\": \"#506784\", \"ticks\": \"\", \"title\": {\"standoff\": 15}, \"zerolinecolor\": \"#283442\", \"zerolinewidth\": 2}, \"yaxis\": {\"automargin\": true, \"gridcolor\": \"#283442\", \"linecolor\": \"#506784\", \"ticks\": \"\", \"title\": {\"standoff\": 15}, \"zerolinecolor\": \"#283442\", \"zerolinewidth\": 2}}}, \"title\": {\"text\": \"Reporting delay (difference between reporting and exposure time)\"}, \"xaxis\": {\"anchor\": \"y\", \"domain\": [0.0, 1.0], \"title\": {\"text\": \"date_delay\"}}, \"yaxis\": {\"anchor\": \"x\", \"domain\": [0.0, 1.0], \"title\": {\"text\": \"count\"}}},                        {\"responsive\": true}                    ).then(function(){\n",
       "                            \n",
       "var gd = document.getElementById('39df3352-6faf-4132-ae7b-a2aba08ee822');\n",
       "var x = new MutationObserver(function (mutations, observer) {{\n",
       "        var display = window.getComputedStyle(gd).display;\n",
       "        if (!display || display === 'none') {{\n",
       "            console.log([gd, 'removed!']);\n",
       "            Plotly.purge(gd);\n",
       "            observer.disconnect();\n",
       "        }}\n",
       "}});\n",
       "\n",
       "// Listen for the removal of the full notebook cells\n",
       "var notebookContainer = gd.closest('#notebook-container');\n",
       "if (notebookContainer) {{\n",
       "    x.observe(notebookContainer, {childList: true});\n",
       "}}\n",
       "\n",
       "// Listen for the clearing of the current output cell\n",
       "var outputEl = gd.closest('.output');\n",
       "if (outputEl) {{\n",
       "    x.observe(outputEl, {childList: true});\n",
       "}}\n",
       "\n",
       "                        })                };                });            </script>        </div>"
      ]
     },
     "metadata": {},
     "output_type": "display_data"
    }
   ],
   "source": [
    "fig_heat.show()\n",
    "fig_date.show()\n",
    "fig_delay.show()"
   ]
  },
  {
   "cell_type": "code",
   "execution_count": 160,
   "metadata": {},
   "outputs": [],
   "source": [
    "elements.to_csv('scraped_data.csv')"
   ]
  },
  {
   "cell_type": "code",
   "execution_count": 161,
   "metadata": {},
   "outputs": [
    {
     "data": {
      "text/plain": [
       "298"
      ]
     },
     "execution_count": 161,
     "metadata": {},
     "output_type": "execute_result"
    }
   ],
   "source": [
    "len(elements)"
   ]
  },
  {
   "cell_type": "markdown",
   "metadata": {},
   "source": [
    "# Switching to the API"
   ]
  },
  {
   "cell_type": "code",
   "execution_count": 112,
   "metadata": {},
   "outputs": [],
   "source": [
    "import requests as req\n",
    "import pandas as pd\n",
    "import plotly.express as px\n",
    "import datetime as dt"
   ]
  },
  {
   "cell_type": "code",
   "execution_count": 113,
   "metadata": {},
   "outputs": [],
   "source": [
    "import datetime"
   ]
  },
  {
   "cell_type": "code",
   "execution_count": 114,
   "metadata": {},
   "outputs": [],
   "source": [
    "resp = req.get('https://discover.data.vic.gov.au/api/3/action/datastore_search?resource_id=afb52611-6061-4a2b-9110-74c920bede77')"
   ]
  },
  {
   "cell_type": "code",
   "execution_count": 115,
   "metadata": {
    "scrolled": false
   },
   "outputs": [],
   "source": [
    "base = 'https://discover.data.vic.gov.au'\n",
    "resp = req.get('https://discover.data.vic.gov.au/api/3/action/datastore_search?resource_id=afb52611-6061-4a2b-9110-74c920bede77')\n",
    "next_link = resp.json()['result']['_links']['next']\n",
    "records = resp.json()['result']['records']\n",
    "total = resp.json()['result']['total']\n",
    "while len(records) < total:\n",
    "    resp = req.get(base+next_link)\n",
    "    records.extend(resp.json()['result']['records'])\n",
    "#     print(resp.json()['result']['_links']['next'])\n",
    "    next_link = resp.json()['result']['_links']['next']\n",
    "    "
   ]
  },
  {
   "cell_type": "code",
   "execution_count": 116,
   "metadata": {},
   "outputs": [
    {
     "data": {
      "text/plain": [
       "364"
      ]
     },
     "execution_count": 116,
     "metadata": {},
     "output_type": "execute_result"
    }
   ],
   "source": [
    "len(records)"
   ]
  },
  {
   "cell_type": "code",
   "execution_count": 117,
   "metadata": {},
   "outputs": [],
   "source": [
    "width = 580"
   ]
  },
  {
   "cell_type": "code",
   "execution_count": 118,
   "metadata": {},
   "outputs": [],
   "source": [
    "df_official = pd.DataFrame(records)"
   ]
  },
  {
   "cell_type": "code",
   "execution_count": 119,
   "metadata": {},
   "outputs": [],
   "source": [
    "df_official['tier'] = df_official.Advice_title.apply(lambda x: x.split(' ')[1])"
   ]
  },
  {
   "cell_type": "code",
   "execution_count": 120,
   "metadata": {},
   "outputs": [],
   "source": [
    "df_official.Added_date_dtm = pd.to_datetime(df_official.Added_date_dtm, dayfirst=True)\n",
    "df_official.Exposure_date_dtm = pd.to_datetime(df_official.Exposure_date_dtm, dayfirst=True)"
   ]
  },
  {
   "cell_type": "code",
   "execution_count": 121,
   "metadata": {
    "scrolled": false
   },
   "outputs": [
    {
     "data": {
      "application/vnd.plotly.v1+json": {
       "config": {
        "plotlyServerURL": "https://plot.ly"
       },
       "data": [
        {
         "alignmentgroup": "True",
         "bingroup": "x",
         "hovertemplate": "tier=1<br>Exposure_date_dtm=%{x}<br>count=%{y}<extra></extra>",
         "legendgroup": "1",
         "marker": {
          "color": "rgb(228,26,28)"
         },
         "name": "1",
         "offsetgroup": "1",
         "orientation": "v",
         "showlegend": true,
         "type": "histogram",
         "x": [
          "2021-05-24T00:00:00",
          "2021-05-21T00:00:00",
          "2021-05-26T00:00:00",
          "2021-05-19T00:00:00",
          "2021-05-25T00:00:00",
          "2021-05-26T00:00:00",
          "2021-05-25T00:00:00",
          "2021-05-22T00:00:00",
          "2021-05-25T00:00:00",
          "2021-05-25T00:00:00",
          "2021-05-25T00:00:00",
          "2021-05-25T00:00:00",
          "2021-05-22T00:00:00",
          "2021-05-26T00:00:00",
          "2021-05-17T00:00:00",
          "2021-05-20T00:00:00",
          "2021-05-21T00:00:00",
          "2021-05-24T00:00:00",
          "2021-05-26T00:00:00",
          "2021-05-27T00:00:00",
          "2021-05-28T00:00:00",
          "2021-05-12T00:00:00",
          "2021-05-13T00:00:00",
          "2021-05-20T00:00:00",
          "2021-05-26T00:00:00",
          "2021-05-26T00:00:00",
          "2021-05-27T00:00:00",
          "2021-05-18T00:00:00",
          "2021-05-22T00:00:00",
          "2021-05-23T00:00:00",
          "2021-05-21T00:00:00",
          "2021-05-23T00:00:00",
          "2021-05-22T00:00:00",
          "2021-05-22T00:00:00",
          "2021-05-25T00:00:00",
          "2021-05-24T00:00:00",
          "2021-05-18T00:00:00",
          "2021-05-22T00:00:00",
          "2021-05-24T00:00:00",
          "2021-05-25T00:00:00",
          "2021-05-26T00:00:00",
          "2021-05-22T00:00:00",
          "2021-05-23T00:00:00",
          "2021-05-22T00:00:00",
          "2021-05-25T00:00:00",
          "2021-05-27T00:00:00",
          "2021-05-18T00:00:00",
          "2021-05-18T00:00:00",
          "2021-05-18T00:00:00",
          "2021-05-25T00:00:00",
          "2021-05-19T00:00:00",
          "2021-05-19T00:00:00",
          "2021-05-19T00:00:00",
          "2021-05-19T00:00:00",
          "2021-05-19T00:00:00",
          "2021-05-19T00:00:00",
          "2021-05-25T00:00:00",
          "2021-05-26T00:00:00",
          "2021-05-24T00:00:00",
          "2021-05-22T00:00:00",
          "2021-05-17T00:00:00",
          "2021-05-27T00:00:00",
          "2021-05-28T00:00:00",
          "2021-05-26T00:00:00",
          "2021-05-26T00:00:00",
          "2021-05-27T00:00:00",
          "2021-05-28T00:00:00",
          "2021-05-27T00:00:00",
          "2021-05-28T00:00:00",
          "2021-05-28T00:00:00",
          "2021-05-26T00:00:00",
          "2021-05-26T00:00:00",
          "2021-05-27T00:00:00",
          "2021-05-26T00:00:00",
          "2021-05-28T00:00:00",
          "2021-05-27T00:00:00",
          "2021-05-27T00:00:00",
          "2021-05-28T00:00:00",
          "2021-05-28T00:00:00",
          "2021-05-23T00:00:00",
          "2021-05-18T00:00:00",
          "2021-05-24T00:00:00",
          "2021-05-25T00:00:00",
          "2021-05-30T00:00:00",
          "2021-05-25T00:00:00",
          "2021-05-30T00:00:00",
          "2021-05-31T00:00:00",
          "2021-05-23T00:00:00",
          "2021-05-24T00:00:00",
          "2021-05-28T00:00:00",
          "2021-05-19T00:00:00",
          "2021-05-17T00:00:00",
          "2021-05-23T00:00:00",
          "2021-05-27T00:00:00",
          "2021-05-26T00:00:00",
          "2021-05-27T00:00:00",
          "2021-05-26T00:00:00",
          "2021-05-26T00:00:00",
          "2021-05-26T00:00:00",
          "2021-05-26T00:00:00",
          "2021-05-24T00:00:00",
          "2021-05-25T00:00:00",
          "2021-05-26T00:00:00",
          "2021-05-21T00:00:00",
          "2021-05-26T00:00:00",
          "2021-05-27T00:00:00",
          "2021-05-27T00:00:00",
          "2021-05-25T00:00:00",
          "2021-05-26T00:00:00",
          "2021-05-27T00:00:00",
          "2021-05-28T00:00:00",
          "2021-05-29T00:00:00",
          "2021-05-26T00:00:00",
          "2021-05-26T00:00:00",
          "2021-05-27T00:00:00",
          "2021-05-28T00:00:00",
          "2021-05-29T00:00:00",
          "2021-05-27T00:00:00",
          "2021-05-25T00:00:00",
          "2021-05-23T00:00:00",
          "2021-05-25T00:00:00",
          "2021-05-22T00:00:00",
          "2021-05-18T00:00:00",
          "2021-05-20T00:00:00",
          "2021-05-21T00:00:00",
          "2021-05-22T00:00:00",
          "2021-05-23T00:00:00",
          "2021-05-24T00:00:00",
          "2021-05-25T00:00:00",
          "2021-05-22T00:00:00",
          "2021-05-23T00:00:00",
          "2021-05-24T00:00:00",
          "2021-05-24T00:00:00",
          "2021-05-21T00:00:00",
          "2021-05-21T00:00:00",
          "2021-05-22T00:00:00",
          "2021-05-23T00:00:00",
          "2021-05-21T00:00:00",
          "2021-05-23T00:00:00",
          "2021-05-22T00:00:00",
          "2021-05-21T00:00:00",
          "2021-05-20T00:00:00",
          "2021-05-23T00:00:00",
          "2021-05-23T00:00:00",
          "2021-05-23T00:00:00",
          "2021-05-18T00:00:00",
          "2021-05-23T00:00:00",
          "2021-05-23T00:00:00",
          "2021-05-23T00:00:00",
          "2021-05-21T00:00:00",
          "2021-05-22T00:00:00",
          "2021-05-22T00:00:00",
          "2021-05-20T00:00:00",
          "2021-05-17T00:00:00",
          "2021-05-19T00:00:00",
          "2021-05-18T00:00:00",
          "2021-05-20T00:00:00",
          "2021-05-22T00:00:00",
          "2021-05-22T00:00:00",
          "2021-05-20T00:00:00",
          "2021-05-20T00:00:00",
          "2021-05-20T00:00:00",
          "2021-05-20T00:00:00",
          "2021-05-20T00:00:00",
          "2021-05-21T00:00:00",
          "2021-05-24T00:00:00",
          "2021-05-24T00:00:00",
          "2021-05-21T00:00:00",
          "2021-05-22T00:00:00",
          "2021-05-22T00:00:00",
          "2021-05-23T00:00:00",
          "2021-05-20T00:00:00",
          "2021-05-26T00:00:00",
          "2021-05-24T00:00:00",
          "2021-05-23T00:00:00",
          "2021-05-24T00:00:00",
          "2021-05-22T00:00:00",
          "2021-05-24T00:00:00",
          "2021-05-25T00:00:00",
          "2021-05-23T00:00:00",
          "2021-05-21T00:00:00",
          "2021-05-21T00:00:00",
          "2021-05-22T00:00:00",
          "2021-05-25T00:00:00",
          "2021-05-23T00:00:00",
          "2021-05-24T00:00:00",
          "2021-05-22T00:00:00",
          "2021-05-25T00:00:00",
          "2021-05-23T00:00:00",
          "2021-05-24T00:00:00",
          "2021-05-23T00:00:00",
          "2021-05-22T00:00:00"
         ],
         "xaxis": "x",
         "yaxis": "y"
        },
        {
         "alignmentgroup": "True",
         "bingroup": "x",
         "hovertemplate": "tier=2<br>Exposure_date_dtm=%{x}<br>count=%{y}<extra></extra>",
         "legendgroup": "2",
         "marker": {
          "color": "rgb(55,126,184)"
         },
         "name": "2",
         "offsetgroup": "2",
         "orientation": "v",
         "showlegend": true,
         "type": "histogram",
         "x": [
          "2021-05-26T00:00:00",
          "2021-05-27T00:00:00",
          "2021-05-26T00:00:00",
          "2021-05-24T00:00:00",
          "2021-05-20T00:00:00",
          "2021-05-19T00:00:00",
          "2021-05-19T00:00:00",
          "2021-05-25T00:00:00",
          "2021-05-20T00:00:00",
          "2021-05-20T00:00:00",
          "2021-05-28T00:00:00",
          "2021-05-23T00:00:00",
          "2021-05-22T00:00:00",
          "2021-05-26T00:00:00",
          "2021-05-21T00:00:00",
          "2021-05-23T00:00:00",
          "2021-05-26T00:00:00",
          "2021-05-23T00:00:00",
          "2021-05-23T00:00:00",
          "2021-05-22T00:00:00",
          "2021-05-23T00:00:00",
          "2021-05-25T00:00:00",
          "2021-05-21T00:00:00",
          "2021-05-22T00:00:00",
          "2021-05-22T00:00:00",
          "2021-05-19T00:00:00",
          "2021-05-26T00:00:00",
          "2021-05-23T00:00:00",
          "2021-05-26T00:00:00",
          "2021-05-20T00:00:00",
          "2021-05-23T00:00:00",
          "2021-05-23T00:00:00",
          "2021-05-26T00:00:00",
          "2021-05-26T00:00:00",
          "2021-05-24T00:00:00",
          "2021-05-21T00:00:00",
          "2021-05-24T00:00:00",
          "2021-05-23T00:00:00",
          "2021-05-30T00:00:00",
          "2021-05-31T00:00:00",
          "2021-05-25T00:00:00",
          "2021-05-25T00:00:00",
          "2021-05-22T00:00:00",
          "2021-05-27T00:00:00",
          "2021-05-27T00:00:00",
          "2021-05-28T00:00:00",
          "2021-05-25T00:00:00",
          "2021-05-28T00:00:00",
          "2021-05-23T00:00:00",
          "2021-05-27T00:00:00",
          "2021-05-22T00:00:00",
          "2021-05-26T00:00:00",
          "2021-05-22T00:00:00",
          "2021-05-23T00:00:00",
          "2021-05-24T00:00:00",
          "2021-05-23T00:00:00",
          "2021-05-23T00:00:00",
          "2021-05-27T00:00:00",
          "2021-05-23T00:00:00",
          "2021-05-28T00:00:00",
          "2021-05-27T00:00:00",
          "2021-05-23T00:00:00",
          "2021-05-23T00:00:00",
          "2021-05-25T00:00:00",
          "2021-05-25T00:00:00",
          "2021-05-22T00:00:00",
          "2021-05-22T00:00:00",
          "2021-05-26T00:00:00",
          "2021-05-19T00:00:00",
          "2021-05-27T00:00:00",
          "2021-05-27T00:00:00",
          "2021-05-23T00:00:00",
          "2021-05-23T00:00:00",
          "2021-05-28T00:00:00",
          "2021-05-26T00:00:00",
          "2021-05-24T00:00:00",
          "2021-05-25T00:00:00",
          "2021-05-23T00:00:00",
          "2021-05-22T00:00:00",
          "2021-05-19T00:00:00",
          "2021-05-22T00:00:00",
          "2021-05-18T00:00:00",
          "2021-05-25T00:00:00",
          "2021-05-26T00:00:00",
          "2021-05-24T00:00:00",
          "2021-05-22T00:00:00",
          "2021-05-25T00:00:00",
          "2021-05-25T00:00:00",
          "2021-05-22T00:00:00",
          "2021-05-23T00:00:00",
          "2021-05-22T00:00:00",
          "2021-05-24T00:00:00",
          "2021-05-22T00:00:00",
          "2021-05-24T00:00:00",
          "2021-05-25T00:00:00",
          "2021-05-24T00:00:00",
          "2021-05-26T00:00:00",
          "2021-05-22T00:00:00",
          "2021-05-28T00:00:00",
          "2021-05-24T00:00:00",
          "2021-05-24T00:00:00",
          "2021-05-22T00:00:00",
          "2021-05-26T00:00:00",
          "2021-05-24T00:00:00",
          "2021-05-14T00:00:00",
          "2021-05-26T00:00:00",
          "2021-05-14T00:00:00",
          "2021-05-27T00:00:00",
          "2021-05-14T00:00:00",
          "2021-05-19T00:00:00",
          "2021-05-25T00:00:00",
          "2021-05-26T00:00:00",
          "2021-05-27T00:00:00",
          "2021-05-17T00:00:00",
          "2021-05-18T00:00:00",
          "2021-05-24T00:00:00",
          "2021-05-26T00:00:00",
          "2021-05-25T00:00:00",
          "2021-05-23T00:00:00",
          "2021-05-25T00:00:00",
          "2021-05-24T00:00:00",
          "2021-05-24T00:00:00",
          "2021-05-23T00:00:00",
          "2021-05-22T00:00:00",
          "2021-05-24T00:00:00",
          "2021-05-24T00:00:00",
          "2021-05-23T00:00:00",
          "2021-05-22T00:00:00",
          "2021-05-24T00:00:00",
          "2021-05-22T00:00:00",
          "2021-05-22T00:00:00",
          "2021-05-15T00:00:00",
          "2021-05-22T00:00:00",
          "2021-05-23T00:00:00",
          "2021-05-20T00:00:00",
          "2021-05-18T00:00:00",
          "2021-05-26T00:00:00",
          "2021-05-26T00:00:00",
          "2021-05-26T00:00:00",
          "2021-05-23T00:00:00",
          "2021-05-26T00:00:00",
          "2021-05-15T00:00:00",
          "2021-05-17T00:00:00",
          "2021-05-23T00:00:00",
          "2021-05-23T00:00:00",
          "2021-05-19T00:00:00",
          "2021-05-26T00:00:00",
          "2021-05-22T00:00:00",
          "2021-05-23T00:00:00",
          "2021-05-21T00:00:00",
          "2021-05-23T00:00:00",
          "2021-05-22T00:00:00",
          "2021-05-22T00:00:00",
          "2021-05-22T00:00:00",
          "2021-05-22T00:00:00",
          "2021-05-20T00:00:00"
         ],
         "xaxis": "x",
         "yaxis": "y"
        },
        {
         "alignmentgroup": "True",
         "bingroup": "x",
         "hovertemplate": "tier=3<br>Exposure_date_dtm=%{x}<br>count=%{y}<extra></extra>",
         "legendgroup": "3",
         "marker": {
          "color": "rgb(77,175,74)"
         },
         "name": "3",
         "offsetgroup": "3",
         "orientation": "v",
         "showlegend": true,
         "type": "histogram",
         "x": [
          "2021-05-11T00:00:00",
          "2021-05-23T00:00:00",
          "2021-05-23T00:00:00",
          "2021-05-25T00:00:00",
          "2021-05-27T00:00:00",
          "2021-05-15T00:00:00",
          "2021-05-11T00:00:00",
          "2021-05-12T00:00:00",
          "2021-05-27T00:00:00",
          "2021-05-22T00:00:00",
          "2021-05-28T00:00:00",
          "2021-05-27T00:00:00",
          "2021-05-27T00:00:00",
          "2021-05-27T00:00:00",
          "2021-05-23T00:00:00",
          "2021-05-13T00:00:00"
         ],
         "xaxis": "x",
         "yaxis": "y"
        }
       ],
       "layout": {
        "annotations": [
         {
          "ax": 10,
          "ay": 20,
          "text": "lockdown",
          "x": "2021-05-27",
          "xanchor": "left",
          "y": 40
         }
        ],
        "bargap": 0.2,
        "barmode": "relative",
        "legend": {
         "title": {
          "text": "tier"
         },
         "tracegroupgap": 0
        },
        "shapes": [
         {
          "type": "line",
          "x0": "2021-05-27T12:00:00",
          "x1": "2021-05-27T12:00:00",
          "xref": "x",
          "y0": 0,
          "y1": 1,
          "yref": "y domain"
         }
        ],
        "template": {
         "data": {
          "bar": [
           {
            "error_x": {
             "color": "#f2f5fa"
            },
            "error_y": {
             "color": "#f2f5fa"
            },
            "marker": {
             "line": {
              "color": "rgb(17,17,17)",
              "width": 0.5
             }
            },
            "type": "bar"
           }
          ],
          "barpolar": [
           {
            "marker": {
             "line": {
              "color": "rgb(17,17,17)",
              "width": 0.5
             }
            },
            "type": "barpolar"
           }
          ],
          "carpet": [
           {
            "aaxis": {
             "endlinecolor": "#A2B1C6",
             "gridcolor": "#506784",
             "linecolor": "#506784",
             "minorgridcolor": "#506784",
             "startlinecolor": "#A2B1C6"
            },
            "baxis": {
             "endlinecolor": "#A2B1C6",
             "gridcolor": "#506784",
             "linecolor": "#506784",
             "minorgridcolor": "#506784",
             "startlinecolor": "#A2B1C6"
            },
            "type": "carpet"
           }
          ],
          "choropleth": [
           {
            "colorbar": {
             "outlinewidth": 0,
             "ticks": ""
            },
            "type": "choropleth"
           }
          ],
          "contour": [
           {
            "colorbar": {
             "outlinewidth": 0,
             "ticks": ""
            },
            "colorscale": [
             [
              0,
              "#0d0887"
             ],
             [
              0.1111111111111111,
              "#46039f"
             ],
             [
              0.2222222222222222,
              "#7201a8"
             ],
             [
              0.3333333333333333,
              "#9c179e"
             ],
             [
              0.4444444444444444,
              "#bd3786"
             ],
             [
              0.5555555555555556,
              "#d8576b"
             ],
             [
              0.6666666666666666,
              "#ed7953"
             ],
             [
              0.7777777777777778,
              "#fb9f3a"
             ],
             [
              0.8888888888888888,
              "#fdca26"
             ],
             [
              1,
              "#f0f921"
             ]
            ],
            "type": "contour"
           }
          ],
          "contourcarpet": [
           {
            "colorbar": {
             "outlinewidth": 0,
             "ticks": ""
            },
            "type": "contourcarpet"
           }
          ],
          "heatmap": [
           {
            "colorbar": {
             "outlinewidth": 0,
             "ticks": ""
            },
            "colorscale": [
             [
              0,
              "#0d0887"
             ],
             [
              0.1111111111111111,
              "#46039f"
             ],
             [
              0.2222222222222222,
              "#7201a8"
             ],
             [
              0.3333333333333333,
              "#9c179e"
             ],
             [
              0.4444444444444444,
              "#bd3786"
             ],
             [
              0.5555555555555556,
              "#d8576b"
             ],
             [
              0.6666666666666666,
              "#ed7953"
             ],
             [
              0.7777777777777778,
              "#fb9f3a"
             ],
             [
              0.8888888888888888,
              "#fdca26"
             ],
             [
              1,
              "#f0f921"
             ]
            ],
            "type": "heatmap"
           }
          ],
          "heatmapgl": [
           {
            "colorbar": {
             "outlinewidth": 0,
             "ticks": ""
            },
            "colorscale": [
             [
              0,
              "#0d0887"
             ],
             [
              0.1111111111111111,
              "#46039f"
             ],
             [
              0.2222222222222222,
              "#7201a8"
             ],
             [
              0.3333333333333333,
              "#9c179e"
             ],
             [
              0.4444444444444444,
              "#bd3786"
             ],
             [
              0.5555555555555556,
              "#d8576b"
             ],
             [
              0.6666666666666666,
              "#ed7953"
             ],
             [
              0.7777777777777778,
              "#fb9f3a"
             ],
             [
              0.8888888888888888,
              "#fdca26"
             ],
             [
              1,
              "#f0f921"
             ]
            ],
            "type": "heatmapgl"
           }
          ],
          "histogram": [
           {
            "marker": {
             "colorbar": {
              "outlinewidth": 0,
              "ticks": ""
             }
            },
            "type": "histogram"
           }
          ],
          "histogram2d": [
           {
            "colorbar": {
             "outlinewidth": 0,
             "ticks": ""
            },
            "colorscale": [
             [
              0,
              "#0d0887"
             ],
             [
              0.1111111111111111,
              "#46039f"
             ],
             [
              0.2222222222222222,
              "#7201a8"
             ],
             [
              0.3333333333333333,
              "#9c179e"
             ],
             [
              0.4444444444444444,
              "#bd3786"
             ],
             [
              0.5555555555555556,
              "#d8576b"
             ],
             [
              0.6666666666666666,
              "#ed7953"
             ],
             [
              0.7777777777777778,
              "#fb9f3a"
             ],
             [
              0.8888888888888888,
              "#fdca26"
             ],
             [
              1,
              "#f0f921"
             ]
            ],
            "type": "histogram2d"
           }
          ],
          "histogram2dcontour": [
           {
            "colorbar": {
             "outlinewidth": 0,
             "ticks": ""
            },
            "colorscale": [
             [
              0,
              "#0d0887"
             ],
             [
              0.1111111111111111,
              "#46039f"
             ],
             [
              0.2222222222222222,
              "#7201a8"
             ],
             [
              0.3333333333333333,
              "#9c179e"
             ],
             [
              0.4444444444444444,
              "#bd3786"
             ],
             [
              0.5555555555555556,
              "#d8576b"
             ],
             [
              0.6666666666666666,
              "#ed7953"
             ],
             [
              0.7777777777777778,
              "#fb9f3a"
             ],
             [
              0.8888888888888888,
              "#fdca26"
             ],
             [
              1,
              "#f0f921"
             ]
            ],
            "type": "histogram2dcontour"
           }
          ],
          "mesh3d": [
           {
            "colorbar": {
             "outlinewidth": 0,
             "ticks": ""
            },
            "type": "mesh3d"
           }
          ],
          "parcoords": [
           {
            "line": {
             "colorbar": {
              "outlinewidth": 0,
              "ticks": ""
             }
            },
            "type": "parcoords"
           }
          ],
          "pie": [
           {
            "automargin": true,
            "type": "pie"
           }
          ],
          "scatter": [
           {
            "marker": {
             "line": {
              "color": "#283442"
             }
            },
            "type": "scatter"
           }
          ],
          "scatter3d": [
           {
            "line": {
             "colorbar": {
              "outlinewidth": 0,
              "ticks": ""
             }
            },
            "marker": {
             "colorbar": {
              "outlinewidth": 0,
              "ticks": ""
             }
            },
            "type": "scatter3d"
           }
          ],
          "scattercarpet": [
           {
            "marker": {
             "colorbar": {
              "outlinewidth": 0,
              "ticks": ""
             }
            },
            "type": "scattercarpet"
           }
          ],
          "scattergeo": [
           {
            "marker": {
             "colorbar": {
              "outlinewidth": 0,
              "ticks": ""
             }
            },
            "type": "scattergeo"
           }
          ],
          "scattergl": [
           {
            "marker": {
             "line": {
              "color": "#283442"
             }
            },
            "type": "scattergl"
           }
          ],
          "scattermapbox": [
           {
            "marker": {
             "colorbar": {
              "outlinewidth": 0,
              "ticks": ""
             }
            },
            "type": "scattermapbox"
           }
          ],
          "scatterpolar": [
           {
            "marker": {
             "colorbar": {
              "outlinewidth": 0,
              "ticks": ""
             }
            },
            "type": "scatterpolar"
           }
          ],
          "scatterpolargl": [
           {
            "marker": {
             "colorbar": {
              "outlinewidth": 0,
              "ticks": ""
             }
            },
            "type": "scatterpolargl"
           }
          ],
          "scatterternary": [
           {
            "marker": {
             "colorbar": {
              "outlinewidth": 0,
              "ticks": ""
             }
            },
            "type": "scatterternary"
           }
          ],
          "surface": [
           {
            "colorbar": {
             "outlinewidth": 0,
             "ticks": ""
            },
            "colorscale": [
             [
              0,
              "#0d0887"
             ],
             [
              0.1111111111111111,
              "#46039f"
             ],
             [
              0.2222222222222222,
              "#7201a8"
             ],
             [
              0.3333333333333333,
              "#9c179e"
             ],
             [
              0.4444444444444444,
              "#bd3786"
             ],
             [
              0.5555555555555556,
              "#d8576b"
             ],
             [
              0.6666666666666666,
              "#ed7953"
             ],
             [
              0.7777777777777778,
              "#fb9f3a"
             ],
             [
              0.8888888888888888,
              "#fdca26"
             ],
             [
              1,
              "#f0f921"
             ]
            ],
            "type": "surface"
           }
          ],
          "table": [
           {
            "cells": {
             "fill": {
              "color": "#506784"
             },
             "line": {
              "color": "rgb(17,17,17)"
             }
            },
            "header": {
             "fill": {
              "color": "#2a3f5f"
             },
             "line": {
              "color": "rgb(17,17,17)"
             }
            },
            "type": "table"
           }
          ]
         },
         "layout": {
          "annotationdefaults": {
           "arrowcolor": "#f2f5fa",
           "arrowhead": 0,
           "arrowwidth": 1
          },
          "autotypenumbers": "strict",
          "coloraxis": {
           "colorbar": {
            "outlinewidth": 0,
            "ticks": ""
           }
          },
          "colorscale": {
           "diverging": [
            [
             0,
             "#8e0152"
            ],
            [
             0.1,
             "#c51b7d"
            ],
            [
             0.2,
             "#de77ae"
            ],
            [
             0.3,
             "#f1b6da"
            ],
            [
             0.4,
             "#fde0ef"
            ],
            [
             0.5,
             "#f7f7f7"
            ],
            [
             0.6,
             "#e6f5d0"
            ],
            [
             0.7,
             "#b8e186"
            ],
            [
             0.8,
             "#7fbc41"
            ],
            [
             0.9,
             "#4d9221"
            ],
            [
             1,
             "#276419"
            ]
           ],
           "sequential": [
            [
             0,
             "#0d0887"
            ],
            [
             0.1111111111111111,
             "#46039f"
            ],
            [
             0.2222222222222222,
             "#7201a8"
            ],
            [
             0.3333333333333333,
             "#9c179e"
            ],
            [
             0.4444444444444444,
             "#bd3786"
            ],
            [
             0.5555555555555556,
             "#d8576b"
            ],
            [
             0.6666666666666666,
             "#ed7953"
            ],
            [
             0.7777777777777778,
             "#fb9f3a"
            ],
            [
             0.8888888888888888,
             "#fdca26"
            ],
            [
             1,
             "#f0f921"
            ]
           ],
           "sequentialminus": [
            [
             0,
             "#0d0887"
            ],
            [
             0.1111111111111111,
             "#46039f"
            ],
            [
             0.2222222222222222,
             "#7201a8"
            ],
            [
             0.3333333333333333,
             "#9c179e"
            ],
            [
             0.4444444444444444,
             "#bd3786"
            ],
            [
             0.5555555555555556,
             "#d8576b"
            ],
            [
             0.6666666666666666,
             "#ed7953"
            ],
            [
             0.7777777777777778,
             "#fb9f3a"
            ],
            [
             0.8888888888888888,
             "#fdca26"
            ],
            [
             1,
             "#f0f921"
            ]
           ]
          },
          "colorway": [
           "#636efa",
           "#EF553B",
           "#00cc96",
           "#ab63fa",
           "#FFA15A",
           "#19d3f3",
           "#FF6692",
           "#B6E880",
           "#FF97FF",
           "#FECB52"
          ],
          "font": {
           "color": "#f2f5fa"
          },
          "geo": {
           "bgcolor": "rgb(17,17,17)",
           "lakecolor": "rgb(17,17,17)",
           "landcolor": "rgb(17,17,17)",
           "showlakes": true,
           "showland": true,
           "subunitcolor": "#506784"
          },
          "hoverlabel": {
           "align": "left"
          },
          "hovermode": "closest",
          "mapbox": {
           "style": "dark"
          },
          "paper_bgcolor": "rgb(17,17,17)",
          "plot_bgcolor": "rgb(17,17,17)",
          "polar": {
           "angularaxis": {
            "gridcolor": "#506784",
            "linecolor": "#506784",
            "ticks": ""
           },
           "bgcolor": "rgb(17,17,17)",
           "radialaxis": {
            "gridcolor": "#506784",
            "linecolor": "#506784",
            "ticks": ""
           }
          },
          "scene": {
           "xaxis": {
            "backgroundcolor": "rgb(17,17,17)",
            "gridcolor": "#506784",
            "gridwidth": 2,
            "linecolor": "#506784",
            "showbackground": true,
            "ticks": "",
            "zerolinecolor": "#C8D4E3"
           },
           "yaxis": {
            "backgroundcolor": "rgb(17,17,17)",
            "gridcolor": "#506784",
            "gridwidth": 2,
            "linecolor": "#506784",
            "showbackground": true,
            "ticks": "",
            "zerolinecolor": "#C8D4E3"
           },
           "zaxis": {
            "backgroundcolor": "rgb(17,17,17)",
            "gridcolor": "#506784",
            "gridwidth": 2,
            "linecolor": "#506784",
            "showbackground": true,
            "ticks": "",
            "zerolinecolor": "#C8D4E3"
           }
          },
          "shapedefaults": {
           "line": {
            "color": "#f2f5fa"
           }
          },
          "sliderdefaults": {
           "bgcolor": "#C8D4E3",
           "bordercolor": "rgb(17,17,17)",
           "borderwidth": 1,
           "tickwidth": 0
          },
          "ternary": {
           "aaxis": {
            "gridcolor": "#506784",
            "linecolor": "#506784",
            "ticks": ""
           },
           "baxis": {
            "gridcolor": "#506784",
            "linecolor": "#506784",
            "ticks": ""
           },
           "bgcolor": "rgb(17,17,17)",
           "caxis": {
            "gridcolor": "#506784",
            "linecolor": "#506784",
            "ticks": ""
           }
          },
          "title": {
           "x": 0.05
          },
          "updatemenudefaults": {
           "bgcolor": "#506784",
           "borderwidth": 0
          },
          "xaxis": {
           "automargin": true,
           "gridcolor": "#283442",
           "linecolor": "#506784",
           "ticks": "",
           "title": {
            "standoff": 15
           },
           "zerolinecolor": "#283442",
           "zerolinewidth": 2
          },
          "yaxis": {
           "automargin": true,
           "gridcolor": "#283442",
           "linecolor": "#506784",
           "ticks": "",
           "title": {
            "standoff": 15
           },
           "zerolinecolor": "#283442",
           "zerolinewidth": 2
          }
         }
        },
        "title": {
         "text": "Exposure date categorised by tier"
        },
        "width": 580,
        "xaxis": {
         "anchor": "y",
         "domain": [
          0,
          1
         ],
         "nticks": 10,
         "range": [
          "2021-05-10T12:00:00",
          "2021-06-02T12:00:00"
         ],
         "tickangle": 60,
         "title": {
          "text": "Exposure date"
         }
        },
        "yaxis": {
         "anchor": "x",
         "domain": [
          0,
          1
         ],
         "title": {
          "text": "Number of exposure sites"
         }
        }
       }
      },
      "text/html": [
       "<div>                            <div id=\"0682aa50-a0d9-4143-a752-5f275edd9276\" class=\"plotly-graph-div\" style=\"height:525px; width:580px;\"></div>            <script type=\"text/javascript\">                require([\"plotly\"], function(Plotly) {                    window.PLOTLYENV=window.PLOTLYENV || {};                                    if (document.getElementById(\"0682aa50-a0d9-4143-a752-5f275edd9276\")) {                    Plotly.newPlot(                        \"0682aa50-a0d9-4143-a752-5f275edd9276\",                        [{\"alignmentgroup\": \"True\", \"bingroup\": \"x\", \"hovertemplate\": \"tier=1<br>Exposure_date_dtm=%{x}<br>count=%{y}<extra></extra>\", \"legendgroup\": \"1\", \"marker\": {\"color\": \"rgb(228,26,28)\"}, \"name\": \"1\", \"offsetgroup\": \"1\", \"orientation\": \"v\", \"showlegend\": true, \"type\": \"histogram\", \"x\": [\"2021-05-24T00:00:00\", \"2021-05-21T00:00:00\", \"2021-05-26T00:00:00\", \"2021-05-19T00:00:00\", \"2021-05-25T00:00:00\", \"2021-05-26T00:00:00\", \"2021-05-25T00:00:00\", \"2021-05-22T00:00:00\", \"2021-05-25T00:00:00\", \"2021-05-25T00:00:00\", \"2021-05-25T00:00:00\", \"2021-05-25T00:00:00\", \"2021-05-22T00:00:00\", \"2021-05-26T00:00:00\", \"2021-05-17T00:00:00\", \"2021-05-20T00:00:00\", \"2021-05-21T00:00:00\", \"2021-05-24T00:00:00\", \"2021-05-26T00:00:00\", \"2021-05-27T00:00:00\", \"2021-05-28T00:00:00\", \"2021-05-12T00:00:00\", \"2021-05-13T00:00:00\", \"2021-05-20T00:00:00\", \"2021-05-26T00:00:00\", \"2021-05-26T00:00:00\", \"2021-05-27T00:00:00\", \"2021-05-18T00:00:00\", \"2021-05-22T00:00:00\", \"2021-05-23T00:00:00\", \"2021-05-21T00:00:00\", \"2021-05-23T00:00:00\", \"2021-05-22T00:00:00\", \"2021-05-22T00:00:00\", \"2021-05-25T00:00:00\", \"2021-05-24T00:00:00\", \"2021-05-18T00:00:00\", \"2021-05-22T00:00:00\", \"2021-05-24T00:00:00\", \"2021-05-25T00:00:00\", \"2021-05-26T00:00:00\", \"2021-05-22T00:00:00\", \"2021-05-23T00:00:00\", \"2021-05-22T00:00:00\", \"2021-05-25T00:00:00\", \"2021-05-27T00:00:00\", \"2021-05-18T00:00:00\", \"2021-05-18T00:00:00\", \"2021-05-18T00:00:00\", \"2021-05-25T00:00:00\", \"2021-05-19T00:00:00\", \"2021-05-19T00:00:00\", \"2021-05-19T00:00:00\", \"2021-05-19T00:00:00\", \"2021-05-19T00:00:00\", \"2021-05-19T00:00:00\", \"2021-05-25T00:00:00\", \"2021-05-26T00:00:00\", \"2021-05-24T00:00:00\", \"2021-05-22T00:00:00\", \"2021-05-17T00:00:00\", \"2021-05-27T00:00:00\", \"2021-05-28T00:00:00\", \"2021-05-26T00:00:00\", \"2021-05-26T00:00:00\", \"2021-05-27T00:00:00\", \"2021-05-28T00:00:00\", \"2021-05-27T00:00:00\", \"2021-05-28T00:00:00\", \"2021-05-28T00:00:00\", \"2021-05-26T00:00:00\", \"2021-05-26T00:00:00\", \"2021-05-27T00:00:00\", \"2021-05-26T00:00:00\", \"2021-05-28T00:00:00\", \"2021-05-27T00:00:00\", \"2021-05-27T00:00:00\", \"2021-05-28T00:00:00\", \"2021-05-28T00:00:00\", \"2021-05-23T00:00:00\", \"2021-05-18T00:00:00\", \"2021-05-24T00:00:00\", \"2021-05-25T00:00:00\", \"2021-05-30T00:00:00\", \"2021-05-25T00:00:00\", \"2021-05-30T00:00:00\", \"2021-05-31T00:00:00\", \"2021-05-23T00:00:00\", \"2021-05-24T00:00:00\", \"2021-05-28T00:00:00\", \"2021-05-19T00:00:00\", \"2021-05-17T00:00:00\", \"2021-05-23T00:00:00\", \"2021-05-27T00:00:00\", \"2021-05-26T00:00:00\", \"2021-05-27T00:00:00\", \"2021-05-26T00:00:00\", \"2021-05-26T00:00:00\", \"2021-05-26T00:00:00\", \"2021-05-26T00:00:00\", \"2021-05-24T00:00:00\", \"2021-05-25T00:00:00\", \"2021-05-26T00:00:00\", \"2021-05-21T00:00:00\", \"2021-05-26T00:00:00\", \"2021-05-27T00:00:00\", \"2021-05-27T00:00:00\", \"2021-05-25T00:00:00\", \"2021-05-26T00:00:00\", \"2021-05-27T00:00:00\", \"2021-05-28T00:00:00\", \"2021-05-29T00:00:00\", \"2021-05-26T00:00:00\", \"2021-05-26T00:00:00\", \"2021-05-27T00:00:00\", \"2021-05-28T00:00:00\", \"2021-05-29T00:00:00\", \"2021-05-27T00:00:00\", \"2021-05-25T00:00:00\", \"2021-05-23T00:00:00\", \"2021-05-25T00:00:00\", \"2021-05-22T00:00:00\", \"2021-05-18T00:00:00\", \"2021-05-20T00:00:00\", \"2021-05-21T00:00:00\", \"2021-05-22T00:00:00\", \"2021-05-23T00:00:00\", \"2021-05-24T00:00:00\", \"2021-05-25T00:00:00\", \"2021-05-22T00:00:00\", \"2021-05-23T00:00:00\", \"2021-05-24T00:00:00\", \"2021-05-24T00:00:00\", \"2021-05-21T00:00:00\", \"2021-05-21T00:00:00\", \"2021-05-22T00:00:00\", \"2021-05-23T00:00:00\", \"2021-05-21T00:00:00\", \"2021-05-23T00:00:00\", \"2021-05-22T00:00:00\", \"2021-05-21T00:00:00\", \"2021-05-20T00:00:00\", \"2021-05-23T00:00:00\", \"2021-05-23T00:00:00\", \"2021-05-23T00:00:00\", \"2021-05-18T00:00:00\", \"2021-05-23T00:00:00\", \"2021-05-23T00:00:00\", \"2021-05-23T00:00:00\", \"2021-05-21T00:00:00\", \"2021-05-22T00:00:00\", \"2021-05-22T00:00:00\", \"2021-05-20T00:00:00\", \"2021-05-17T00:00:00\", \"2021-05-19T00:00:00\", \"2021-05-18T00:00:00\", \"2021-05-20T00:00:00\", \"2021-05-22T00:00:00\", \"2021-05-22T00:00:00\", \"2021-05-20T00:00:00\", \"2021-05-20T00:00:00\", \"2021-05-20T00:00:00\", \"2021-05-20T00:00:00\", \"2021-05-20T00:00:00\", \"2021-05-21T00:00:00\", \"2021-05-24T00:00:00\", \"2021-05-24T00:00:00\", \"2021-05-21T00:00:00\", \"2021-05-22T00:00:00\", \"2021-05-22T00:00:00\", \"2021-05-23T00:00:00\", \"2021-05-20T00:00:00\", \"2021-05-26T00:00:00\", \"2021-05-24T00:00:00\", \"2021-05-23T00:00:00\", \"2021-05-24T00:00:00\", \"2021-05-22T00:00:00\", \"2021-05-24T00:00:00\", \"2021-05-25T00:00:00\", \"2021-05-23T00:00:00\", \"2021-05-21T00:00:00\", \"2021-05-21T00:00:00\", \"2021-05-22T00:00:00\", \"2021-05-25T00:00:00\", \"2021-05-23T00:00:00\", \"2021-05-24T00:00:00\", \"2021-05-22T00:00:00\", \"2021-05-25T00:00:00\", \"2021-05-23T00:00:00\", \"2021-05-24T00:00:00\", \"2021-05-23T00:00:00\", \"2021-05-22T00:00:00\"], \"xaxis\": \"x\", \"yaxis\": \"y\"}, {\"alignmentgroup\": \"True\", \"bingroup\": \"x\", \"hovertemplate\": \"tier=2<br>Exposure_date_dtm=%{x}<br>count=%{y}<extra></extra>\", \"legendgroup\": \"2\", \"marker\": {\"color\": \"rgb(55,126,184)\"}, \"name\": \"2\", \"offsetgroup\": \"2\", \"orientation\": \"v\", \"showlegend\": true, \"type\": \"histogram\", \"x\": [\"2021-05-26T00:00:00\", \"2021-05-27T00:00:00\", \"2021-05-26T00:00:00\", \"2021-05-24T00:00:00\", \"2021-05-20T00:00:00\", \"2021-05-19T00:00:00\", \"2021-05-19T00:00:00\", \"2021-05-25T00:00:00\", \"2021-05-20T00:00:00\", \"2021-05-20T00:00:00\", \"2021-05-28T00:00:00\", \"2021-05-23T00:00:00\", \"2021-05-22T00:00:00\", \"2021-05-26T00:00:00\", \"2021-05-21T00:00:00\", \"2021-05-23T00:00:00\", \"2021-05-26T00:00:00\", \"2021-05-23T00:00:00\", \"2021-05-23T00:00:00\", \"2021-05-22T00:00:00\", \"2021-05-23T00:00:00\", \"2021-05-25T00:00:00\", \"2021-05-21T00:00:00\", \"2021-05-22T00:00:00\", \"2021-05-22T00:00:00\", \"2021-05-19T00:00:00\", \"2021-05-26T00:00:00\", \"2021-05-23T00:00:00\", \"2021-05-26T00:00:00\", \"2021-05-20T00:00:00\", \"2021-05-23T00:00:00\", \"2021-05-23T00:00:00\", \"2021-05-26T00:00:00\", \"2021-05-26T00:00:00\", \"2021-05-24T00:00:00\", \"2021-05-21T00:00:00\", \"2021-05-24T00:00:00\", \"2021-05-23T00:00:00\", \"2021-05-30T00:00:00\", \"2021-05-31T00:00:00\", \"2021-05-25T00:00:00\", \"2021-05-25T00:00:00\", \"2021-05-22T00:00:00\", \"2021-05-27T00:00:00\", \"2021-05-27T00:00:00\", \"2021-05-28T00:00:00\", \"2021-05-25T00:00:00\", \"2021-05-28T00:00:00\", \"2021-05-23T00:00:00\", \"2021-05-27T00:00:00\", \"2021-05-22T00:00:00\", \"2021-05-26T00:00:00\", \"2021-05-22T00:00:00\", \"2021-05-23T00:00:00\", \"2021-05-24T00:00:00\", \"2021-05-23T00:00:00\", \"2021-05-23T00:00:00\", \"2021-05-27T00:00:00\", \"2021-05-23T00:00:00\", \"2021-05-28T00:00:00\", \"2021-05-27T00:00:00\", \"2021-05-23T00:00:00\", \"2021-05-23T00:00:00\", \"2021-05-25T00:00:00\", \"2021-05-25T00:00:00\", \"2021-05-22T00:00:00\", \"2021-05-22T00:00:00\", \"2021-05-26T00:00:00\", \"2021-05-19T00:00:00\", \"2021-05-27T00:00:00\", \"2021-05-27T00:00:00\", \"2021-05-23T00:00:00\", \"2021-05-23T00:00:00\", \"2021-05-28T00:00:00\", \"2021-05-26T00:00:00\", \"2021-05-24T00:00:00\", \"2021-05-25T00:00:00\", \"2021-05-23T00:00:00\", \"2021-05-22T00:00:00\", \"2021-05-19T00:00:00\", \"2021-05-22T00:00:00\", \"2021-05-18T00:00:00\", \"2021-05-25T00:00:00\", \"2021-05-26T00:00:00\", \"2021-05-24T00:00:00\", \"2021-05-22T00:00:00\", \"2021-05-25T00:00:00\", \"2021-05-25T00:00:00\", \"2021-05-22T00:00:00\", \"2021-05-23T00:00:00\", \"2021-05-22T00:00:00\", \"2021-05-24T00:00:00\", \"2021-05-22T00:00:00\", \"2021-05-24T00:00:00\", \"2021-05-25T00:00:00\", \"2021-05-24T00:00:00\", \"2021-05-26T00:00:00\", \"2021-05-22T00:00:00\", \"2021-05-28T00:00:00\", \"2021-05-24T00:00:00\", \"2021-05-24T00:00:00\", \"2021-05-22T00:00:00\", \"2021-05-26T00:00:00\", \"2021-05-24T00:00:00\", \"2021-05-14T00:00:00\", \"2021-05-26T00:00:00\", \"2021-05-14T00:00:00\", \"2021-05-27T00:00:00\", \"2021-05-14T00:00:00\", \"2021-05-19T00:00:00\", \"2021-05-25T00:00:00\", \"2021-05-26T00:00:00\", \"2021-05-27T00:00:00\", \"2021-05-17T00:00:00\", \"2021-05-18T00:00:00\", \"2021-05-24T00:00:00\", \"2021-05-26T00:00:00\", \"2021-05-25T00:00:00\", \"2021-05-23T00:00:00\", \"2021-05-25T00:00:00\", \"2021-05-24T00:00:00\", \"2021-05-24T00:00:00\", \"2021-05-23T00:00:00\", \"2021-05-22T00:00:00\", \"2021-05-24T00:00:00\", \"2021-05-24T00:00:00\", \"2021-05-23T00:00:00\", \"2021-05-22T00:00:00\", \"2021-05-24T00:00:00\", \"2021-05-22T00:00:00\", \"2021-05-22T00:00:00\", \"2021-05-15T00:00:00\", \"2021-05-22T00:00:00\", \"2021-05-23T00:00:00\", \"2021-05-20T00:00:00\", \"2021-05-18T00:00:00\", \"2021-05-26T00:00:00\", \"2021-05-26T00:00:00\", \"2021-05-26T00:00:00\", \"2021-05-23T00:00:00\", \"2021-05-26T00:00:00\", \"2021-05-15T00:00:00\", \"2021-05-17T00:00:00\", \"2021-05-23T00:00:00\", \"2021-05-23T00:00:00\", \"2021-05-19T00:00:00\", \"2021-05-26T00:00:00\", \"2021-05-22T00:00:00\", \"2021-05-23T00:00:00\", \"2021-05-21T00:00:00\", \"2021-05-23T00:00:00\", \"2021-05-22T00:00:00\", \"2021-05-22T00:00:00\", \"2021-05-22T00:00:00\", \"2021-05-22T00:00:00\", \"2021-05-20T00:00:00\"], \"xaxis\": \"x\", \"yaxis\": \"y\"}, {\"alignmentgroup\": \"True\", \"bingroup\": \"x\", \"hovertemplate\": \"tier=3<br>Exposure_date_dtm=%{x}<br>count=%{y}<extra></extra>\", \"legendgroup\": \"3\", \"marker\": {\"color\": \"rgb(77,175,74)\"}, \"name\": \"3\", \"offsetgroup\": \"3\", \"orientation\": \"v\", \"showlegend\": true, \"type\": \"histogram\", \"x\": [\"2021-05-11T00:00:00\", \"2021-05-23T00:00:00\", \"2021-05-23T00:00:00\", \"2021-05-25T00:00:00\", \"2021-05-27T00:00:00\", \"2021-05-15T00:00:00\", \"2021-05-11T00:00:00\", \"2021-05-12T00:00:00\", \"2021-05-27T00:00:00\", \"2021-05-22T00:00:00\", \"2021-05-28T00:00:00\", \"2021-05-27T00:00:00\", \"2021-05-27T00:00:00\", \"2021-05-27T00:00:00\", \"2021-05-23T00:00:00\", \"2021-05-13T00:00:00\"], \"xaxis\": \"x\", \"yaxis\": \"y\"}],                        {\"annotations\": [{\"ax\": 10, \"ay\": 20, \"text\": \"lockdown\", \"x\": \"2021-05-27\", \"xanchor\": \"left\", \"y\": 40}], \"bargap\": 0.2, \"barmode\": \"relative\", \"legend\": {\"title\": {\"text\": \"tier\"}, \"tracegroupgap\": 0}, \"shapes\": [{\"type\": \"line\", \"x0\": \"2021-05-27T12:00:00\", \"x1\": \"2021-05-27T12:00:00\", \"xref\": \"x\", \"y0\": 0, \"y1\": 1, \"yref\": \"y domain\"}], \"template\": {\"data\": {\"bar\": [{\"error_x\": {\"color\": \"#f2f5fa\"}, \"error_y\": {\"color\": \"#f2f5fa\"}, \"marker\": {\"line\": {\"color\": \"rgb(17,17,17)\", \"width\": 0.5}}, \"type\": \"bar\"}], \"barpolar\": [{\"marker\": {\"line\": {\"color\": \"rgb(17,17,17)\", \"width\": 0.5}}, \"type\": \"barpolar\"}], \"carpet\": [{\"aaxis\": {\"endlinecolor\": \"#A2B1C6\", \"gridcolor\": \"#506784\", \"linecolor\": \"#506784\", \"minorgridcolor\": \"#506784\", \"startlinecolor\": \"#A2B1C6\"}, \"baxis\": {\"endlinecolor\": \"#A2B1C6\", \"gridcolor\": \"#506784\", \"linecolor\": \"#506784\", \"minorgridcolor\": \"#506784\", \"startlinecolor\": \"#A2B1C6\"}, \"type\": \"carpet\"}], \"choropleth\": [{\"colorbar\": {\"outlinewidth\": 0, \"ticks\": \"\"}, \"type\": \"choropleth\"}], \"contour\": [{\"colorbar\": {\"outlinewidth\": 0, \"ticks\": \"\"}, \"colorscale\": [[0.0, \"#0d0887\"], [0.1111111111111111, \"#46039f\"], [0.2222222222222222, \"#7201a8\"], [0.3333333333333333, \"#9c179e\"], [0.4444444444444444, \"#bd3786\"], [0.5555555555555556, \"#d8576b\"], [0.6666666666666666, \"#ed7953\"], [0.7777777777777778, \"#fb9f3a\"], [0.8888888888888888, \"#fdca26\"], [1.0, \"#f0f921\"]], \"type\": \"contour\"}], \"contourcarpet\": [{\"colorbar\": {\"outlinewidth\": 0, \"ticks\": \"\"}, \"type\": \"contourcarpet\"}], \"heatmap\": [{\"colorbar\": {\"outlinewidth\": 0, \"ticks\": \"\"}, \"colorscale\": [[0.0, \"#0d0887\"], [0.1111111111111111, \"#46039f\"], [0.2222222222222222, \"#7201a8\"], [0.3333333333333333, \"#9c179e\"], [0.4444444444444444, \"#bd3786\"], [0.5555555555555556, \"#d8576b\"], [0.6666666666666666, \"#ed7953\"], [0.7777777777777778, \"#fb9f3a\"], [0.8888888888888888, \"#fdca26\"], [1.0, \"#f0f921\"]], \"type\": \"heatmap\"}], \"heatmapgl\": [{\"colorbar\": {\"outlinewidth\": 0, \"ticks\": \"\"}, \"colorscale\": [[0.0, \"#0d0887\"], [0.1111111111111111, \"#46039f\"], [0.2222222222222222, \"#7201a8\"], [0.3333333333333333, \"#9c179e\"], [0.4444444444444444, \"#bd3786\"], [0.5555555555555556, \"#d8576b\"], [0.6666666666666666, \"#ed7953\"], [0.7777777777777778, \"#fb9f3a\"], [0.8888888888888888, \"#fdca26\"], [1.0, \"#f0f921\"]], \"type\": \"heatmapgl\"}], \"histogram\": [{\"marker\": {\"colorbar\": {\"outlinewidth\": 0, \"ticks\": \"\"}}, \"type\": \"histogram\"}], \"histogram2d\": [{\"colorbar\": {\"outlinewidth\": 0, \"ticks\": \"\"}, \"colorscale\": [[0.0, \"#0d0887\"], [0.1111111111111111, \"#46039f\"], [0.2222222222222222, \"#7201a8\"], [0.3333333333333333, \"#9c179e\"], [0.4444444444444444, \"#bd3786\"], [0.5555555555555556, \"#d8576b\"], [0.6666666666666666, \"#ed7953\"], [0.7777777777777778, \"#fb9f3a\"], [0.8888888888888888, \"#fdca26\"], [1.0, \"#f0f921\"]], \"type\": \"histogram2d\"}], \"histogram2dcontour\": [{\"colorbar\": {\"outlinewidth\": 0, \"ticks\": \"\"}, \"colorscale\": [[0.0, \"#0d0887\"], [0.1111111111111111, \"#46039f\"], [0.2222222222222222, \"#7201a8\"], [0.3333333333333333, \"#9c179e\"], [0.4444444444444444, \"#bd3786\"], [0.5555555555555556, \"#d8576b\"], [0.6666666666666666, \"#ed7953\"], [0.7777777777777778, \"#fb9f3a\"], [0.8888888888888888, \"#fdca26\"], [1.0, \"#f0f921\"]], \"type\": \"histogram2dcontour\"}], \"mesh3d\": [{\"colorbar\": {\"outlinewidth\": 0, \"ticks\": \"\"}, \"type\": \"mesh3d\"}], \"parcoords\": [{\"line\": {\"colorbar\": {\"outlinewidth\": 0, \"ticks\": \"\"}}, \"type\": \"parcoords\"}], \"pie\": [{\"automargin\": true, \"type\": \"pie\"}], \"scatter\": [{\"marker\": {\"line\": {\"color\": \"#283442\"}}, \"type\": \"scatter\"}], \"scatter3d\": [{\"line\": {\"colorbar\": {\"outlinewidth\": 0, \"ticks\": \"\"}}, \"marker\": {\"colorbar\": {\"outlinewidth\": 0, \"ticks\": \"\"}}, \"type\": \"scatter3d\"}], \"scattercarpet\": [{\"marker\": {\"colorbar\": {\"outlinewidth\": 0, \"ticks\": \"\"}}, \"type\": \"scattercarpet\"}], \"scattergeo\": [{\"marker\": {\"colorbar\": {\"outlinewidth\": 0, \"ticks\": \"\"}}, \"type\": \"scattergeo\"}], \"scattergl\": [{\"marker\": {\"line\": {\"color\": \"#283442\"}}, \"type\": \"scattergl\"}], \"scattermapbox\": [{\"marker\": {\"colorbar\": {\"outlinewidth\": 0, \"ticks\": \"\"}}, \"type\": \"scattermapbox\"}], \"scatterpolar\": [{\"marker\": {\"colorbar\": {\"outlinewidth\": 0, \"ticks\": \"\"}}, \"type\": \"scatterpolar\"}], \"scatterpolargl\": [{\"marker\": {\"colorbar\": {\"outlinewidth\": 0, \"ticks\": \"\"}}, \"type\": \"scatterpolargl\"}], \"scatterternary\": [{\"marker\": {\"colorbar\": {\"outlinewidth\": 0, \"ticks\": \"\"}}, \"type\": \"scatterternary\"}], \"surface\": [{\"colorbar\": {\"outlinewidth\": 0, \"ticks\": \"\"}, \"colorscale\": [[0.0, \"#0d0887\"], [0.1111111111111111, \"#46039f\"], [0.2222222222222222, \"#7201a8\"], [0.3333333333333333, \"#9c179e\"], [0.4444444444444444, \"#bd3786\"], [0.5555555555555556, \"#d8576b\"], [0.6666666666666666, \"#ed7953\"], [0.7777777777777778, \"#fb9f3a\"], [0.8888888888888888, \"#fdca26\"], [1.0, \"#f0f921\"]], \"type\": \"surface\"}], \"table\": [{\"cells\": {\"fill\": {\"color\": \"#506784\"}, \"line\": {\"color\": \"rgb(17,17,17)\"}}, \"header\": {\"fill\": {\"color\": \"#2a3f5f\"}, \"line\": {\"color\": \"rgb(17,17,17)\"}}, \"type\": \"table\"}]}, \"layout\": {\"annotationdefaults\": {\"arrowcolor\": \"#f2f5fa\", \"arrowhead\": 0, \"arrowwidth\": 1}, \"autotypenumbers\": \"strict\", \"coloraxis\": {\"colorbar\": {\"outlinewidth\": 0, \"ticks\": \"\"}}, \"colorscale\": {\"diverging\": [[0, \"#8e0152\"], [0.1, \"#c51b7d\"], [0.2, \"#de77ae\"], [0.3, \"#f1b6da\"], [0.4, \"#fde0ef\"], [0.5, \"#f7f7f7\"], [0.6, \"#e6f5d0\"], [0.7, \"#b8e186\"], [0.8, \"#7fbc41\"], [0.9, \"#4d9221\"], [1, \"#276419\"]], \"sequential\": [[0.0, \"#0d0887\"], [0.1111111111111111, \"#46039f\"], [0.2222222222222222, \"#7201a8\"], [0.3333333333333333, \"#9c179e\"], [0.4444444444444444, \"#bd3786\"], [0.5555555555555556, \"#d8576b\"], [0.6666666666666666, \"#ed7953\"], [0.7777777777777778, \"#fb9f3a\"], [0.8888888888888888, \"#fdca26\"], [1.0, \"#f0f921\"]], \"sequentialminus\": [[0.0, \"#0d0887\"], [0.1111111111111111, \"#46039f\"], [0.2222222222222222, \"#7201a8\"], [0.3333333333333333, \"#9c179e\"], [0.4444444444444444, \"#bd3786\"], [0.5555555555555556, \"#d8576b\"], [0.6666666666666666, \"#ed7953\"], [0.7777777777777778, \"#fb9f3a\"], [0.8888888888888888, \"#fdca26\"], [1.0, \"#f0f921\"]]}, \"colorway\": [\"#636efa\", \"#EF553B\", \"#00cc96\", \"#ab63fa\", \"#FFA15A\", \"#19d3f3\", \"#FF6692\", \"#B6E880\", \"#FF97FF\", \"#FECB52\"], \"font\": {\"color\": \"#f2f5fa\"}, \"geo\": {\"bgcolor\": \"rgb(17,17,17)\", \"lakecolor\": \"rgb(17,17,17)\", \"landcolor\": \"rgb(17,17,17)\", \"showlakes\": true, \"showland\": true, \"subunitcolor\": \"#506784\"}, \"hoverlabel\": {\"align\": \"left\"}, \"hovermode\": \"closest\", \"mapbox\": {\"style\": \"dark\"}, \"paper_bgcolor\": \"rgb(17,17,17)\", \"plot_bgcolor\": \"rgb(17,17,17)\", \"polar\": {\"angularaxis\": {\"gridcolor\": \"#506784\", \"linecolor\": \"#506784\", \"ticks\": \"\"}, \"bgcolor\": \"rgb(17,17,17)\", \"radialaxis\": {\"gridcolor\": \"#506784\", \"linecolor\": \"#506784\", \"ticks\": \"\"}}, \"scene\": {\"xaxis\": {\"backgroundcolor\": \"rgb(17,17,17)\", \"gridcolor\": \"#506784\", \"gridwidth\": 2, \"linecolor\": \"#506784\", \"showbackground\": true, \"ticks\": \"\", \"zerolinecolor\": \"#C8D4E3\"}, \"yaxis\": {\"backgroundcolor\": \"rgb(17,17,17)\", \"gridcolor\": \"#506784\", \"gridwidth\": 2, \"linecolor\": \"#506784\", \"showbackground\": true, \"ticks\": \"\", \"zerolinecolor\": \"#C8D4E3\"}, \"zaxis\": {\"backgroundcolor\": \"rgb(17,17,17)\", \"gridcolor\": \"#506784\", \"gridwidth\": 2, \"linecolor\": \"#506784\", \"showbackground\": true, \"ticks\": \"\", \"zerolinecolor\": \"#C8D4E3\"}}, \"shapedefaults\": {\"line\": {\"color\": \"#f2f5fa\"}}, \"sliderdefaults\": {\"bgcolor\": \"#C8D4E3\", \"bordercolor\": \"rgb(17,17,17)\", \"borderwidth\": 1, \"tickwidth\": 0}, \"ternary\": {\"aaxis\": {\"gridcolor\": \"#506784\", \"linecolor\": \"#506784\", \"ticks\": \"\"}, \"baxis\": {\"gridcolor\": \"#506784\", \"linecolor\": \"#506784\", \"ticks\": \"\"}, \"bgcolor\": \"rgb(17,17,17)\", \"caxis\": {\"gridcolor\": \"#506784\", \"linecolor\": \"#506784\", \"ticks\": \"\"}}, \"title\": {\"x\": 0.05}, \"updatemenudefaults\": {\"bgcolor\": \"#506784\", \"borderwidth\": 0}, \"xaxis\": {\"automargin\": true, \"gridcolor\": \"#283442\", \"linecolor\": \"#506784\", \"ticks\": \"\", \"title\": {\"standoff\": 15}, \"zerolinecolor\": \"#283442\", \"zerolinewidth\": 2}, \"yaxis\": {\"automargin\": true, \"gridcolor\": \"#283442\", \"linecolor\": \"#506784\", \"ticks\": \"\", \"title\": {\"standoff\": 15}, \"zerolinecolor\": \"#283442\", \"zerolinewidth\": 2}}}, \"title\": {\"text\": \"Exposure date categorised by tier\"}, \"width\": 580, \"xaxis\": {\"anchor\": \"y\", \"domain\": [0.0, 1.0], \"nticks\": 10, \"range\": [\"2021-05-10T12:00:00\", \"2021-06-02T12:00:00\"], \"tickangle\": 60, \"title\": {\"text\": \"Exposure date\"}}, \"yaxis\": {\"anchor\": \"x\", \"domain\": [0.0, 1.0], \"title\": {\"text\": \"Number of exposure sites\"}}},                        {\"responsive\": true}                    ).then(function(){\n",
       "                            \n",
       "var gd = document.getElementById('0682aa50-a0d9-4143-a752-5f275edd9276');\n",
       "var x = new MutationObserver(function (mutations, observer) {{\n",
       "        var display = window.getComputedStyle(gd).display;\n",
       "        if (!display || display === 'none') {{\n",
       "            console.log([gd, 'removed!']);\n",
       "            Plotly.purge(gd);\n",
       "            observer.disconnect();\n",
       "        }}\n",
       "}});\n",
       "\n",
       "// Listen for the removal of the full notebook cells\n",
       "var notebookContainer = gd.closest('#notebook-container');\n",
       "if (notebookContainer) {{\n",
       "    x.observe(notebookContainer, {childList: true});\n",
       "}}\n",
       "\n",
       "// Listen for the clearing of the current output cell\n",
       "var outputEl = gd.closest('.output');\n",
       "if (outputEl) {{\n",
       "    x.observe(outputEl, {childList: true});\n",
       "}}\n",
       "\n",
       "                        })                };                });            </script>        </div>"
      ]
     },
     "metadata": {},
     "output_type": "display_data"
    }
   ],
   "source": [
    "fig_date = px.histogram(df_official.sort_values(by='tier'), \n",
    "                        x='Exposure_date_dtm', template='plotly_dark', \n",
    "                        color='tier', color_discrete_sequence=px.colors.qualitative.Set1[0:3], \n",
    "                        title='Exposure date categorised by tier')\n",
    "fig_date.add_vline(x=dt.datetime(2021, 5, 27, 12, 0))\n",
    "fig_date.add_annotation(x = '2021-05-27', y= 40, text='lockdown', xanchor='left', ax=10, ay=20)\n",
    "\n",
    "fig_date.update_layout(\n",
    "    bargap=0.2, # gap between bars of adjacent location coordinates\n",
    "    xaxis_title = \"Exposure date\", \n",
    "    yaxis_title = \"Number of exposure sites\", \n",
    "    width = width\n",
    ")\n",
    "\n",
    "\n",
    "fig_date.update_xaxes(\n",
    "    tickangle = 60, \n",
    "    nticks = 10,\n",
    "    range=[df_official.Exposure_date_dtm.min() - dt.timedelta(hours=12), df_official.Added_date_dtm.max() + dt.timedelta(hours=12)]\n",
    ")\n",
    "\n",
    "fig_date.show()"
   ]
  },
  {
   "cell_type": "code",
   "execution_count": 136,
   "metadata": {},
   "outputs": [
    {
     "data": {
      "application/vnd.plotly.v1+json": {
       "config": {
        "plotlyServerURL": "https://plot.ly"
       },
       "data": [
        {
         "alignmentgroup": "True",
         "bingroup": "x",
         "hovertemplate": "date_delay=%{x}<br>count=%{y}<extra></extra>",
         "legendgroup": "",
         "marker": {
          "color": "rgb(55,126,184)"
         },
         "name": "",
         "offsetgroup": "",
         "orientation": "v",
         "showlegend": false,
         "type": "histogram",
         "x": [
          2,
          3,
          3,
          4,
          1,
          3,
          5,
          2,
          4,
          4,
          1,
          1,
          6,
          6,
          2,
          2,
          7,
          5,
          6,
          1,
          6,
          2,
          4,
          5,
          6,
          6,
          6,
          4,
          4,
          4,
          4,
          4,
          4,
          3,
          5,
          2,
          2,
          5,
          4,
          4,
          3,
          1,
          1,
          3,
          0,
          0,
          3,
          3,
          3,
          8,
          4,
          4,
          8,
          6,
          5,
          4,
          3,
          2,
          1,
          4,
          5,
          4,
          3,
          3,
          3,
          2,
          3,
          5,
          2,
          5,
          3,
          4,
          4,
          3,
          5,
          3,
          4,
          5,
          6,
          3,
          4,
          13,
          13,
          7,
          13,
          3,
          3,
          3,
          3,
          3,
          4,
          6,
          3,
          2,
          5,
          4,
          5,
          5,
          4,
          3,
          5,
          5,
          5,
          6,
          5,
          4,
          4,
          4,
          2,
          3,
          3,
          4,
          2,
          2,
          14,
          3,
          2,
          5,
          3,
          4,
          3,
          4,
          5,
          6,
          6,
          6,
          3,
          4,
          10,
          5,
          5,
          5,
          6,
          4,
          3,
          2,
          2,
          6,
          5,
          3,
          2,
          1,
          10,
          10,
          10,
          3,
          9,
          9,
          9,
          9,
          9,
          9,
          4,
          6,
          8,
          7,
          6,
          4,
          4,
          5,
          7,
          7,
          4,
          5,
          4,
          6,
          2,
          2,
          1,
          3,
          3,
          3,
          3,
          3,
          9,
          4,
          8,
          4,
          6,
          11,
          5,
          7,
          5,
          5,
          11,
          5,
          4,
          3,
          13,
          12,
          8,
          5,
          5,
          5,
          8,
          5,
          8,
          8,
          8,
          8,
          11,
          8,
          12,
          5,
          4,
          6,
          13,
          12,
          10,
          9,
          6,
          4,
          3,
          2,
          18,
          17,
          10,
          4,
          4,
          4,
          3,
          6,
          11,
          8,
          4,
          8,
          6,
          13,
          13,
          9,
          7,
          7,
          3,
          4,
          3,
          4,
          4,
          8,
          7,
          8,
          8,
          7,
          4,
          6,
          7,
          8,
          6,
          6,
          7,
          8,
          6,
          8,
          15,
          15,
          8,
          7,
          10,
          12,
          4,
          4,
          4,
          4,
          6,
          5,
          4,
          4,
          5,
          5,
          6,
          20,
          7,
          7,
          5,
          5,
          4,
          4,
          5,
          4,
          9,
          8,
          8,
          6,
          10,
          6,
          5,
          4,
          3,
          2,
          5,
          5,
          5,
          4,
          3,
          2,
          3,
          19,
          20,
          16,
          12,
          3,
          8,
          11,
          5,
          4,
          10,
          3,
          5,
          4,
          3,
          5,
          5,
          5,
          5,
          4,
          3,
          4,
          4,
          3,
          3,
          4,
          3,
          5,
          6,
          5,
          4,
          3,
          8,
          5,
          4,
          4,
          4,
          4,
          4,
          4,
          4,
          9,
          4,
          4,
          4,
          9,
          14,
          9,
          6,
          6,
          8,
          8,
          8,
          7,
          2,
          2,
          1,
          8,
          8,
          8,
          6,
          6,
          5,
          8,
          3,
          5,
          2,
          6,
          7,
          7
         ],
         "xaxis": "x",
         "yaxis": "y"
        }
       ],
       "layout": {
        "annotations": [
         {
          "showarrow": false,
          "text": "median",
          "x": 5,
          "xanchor": "left",
          "xref": "x",
          "y": 1,
          "yanchor": "top",
          "yref": "y domain"
         }
        ],
        "barmode": "relative",
        "legend": {
         "tracegroupgap": 0
        },
        "shapes": [
         {
          "type": "line",
          "x0": 5,
          "x1": 5,
          "xref": "x",
          "y0": 0,
          "y1": 1,
          "yref": "y domain"
         }
        ],
        "template": {
         "data": {
          "bar": [
           {
            "error_x": {
             "color": "#f2f5fa"
            },
            "error_y": {
             "color": "#f2f5fa"
            },
            "marker": {
             "line": {
              "color": "rgb(17,17,17)",
              "width": 0.5
             }
            },
            "type": "bar"
           }
          ],
          "barpolar": [
           {
            "marker": {
             "line": {
              "color": "rgb(17,17,17)",
              "width": 0.5
             }
            },
            "type": "barpolar"
           }
          ],
          "carpet": [
           {
            "aaxis": {
             "endlinecolor": "#A2B1C6",
             "gridcolor": "#506784",
             "linecolor": "#506784",
             "minorgridcolor": "#506784",
             "startlinecolor": "#A2B1C6"
            },
            "baxis": {
             "endlinecolor": "#A2B1C6",
             "gridcolor": "#506784",
             "linecolor": "#506784",
             "minorgridcolor": "#506784",
             "startlinecolor": "#A2B1C6"
            },
            "type": "carpet"
           }
          ],
          "choropleth": [
           {
            "colorbar": {
             "outlinewidth": 0,
             "ticks": ""
            },
            "type": "choropleth"
           }
          ],
          "contour": [
           {
            "colorbar": {
             "outlinewidth": 0,
             "ticks": ""
            },
            "colorscale": [
             [
              0,
              "#0d0887"
             ],
             [
              0.1111111111111111,
              "#46039f"
             ],
             [
              0.2222222222222222,
              "#7201a8"
             ],
             [
              0.3333333333333333,
              "#9c179e"
             ],
             [
              0.4444444444444444,
              "#bd3786"
             ],
             [
              0.5555555555555556,
              "#d8576b"
             ],
             [
              0.6666666666666666,
              "#ed7953"
             ],
             [
              0.7777777777777778,
              "#fb9f3a"
             ],
             [
              0.8888888888888888,
              "#fdca26"
             ],
             [
              1,
              "#f0f921"
             ]
            ],
            "type": "contour"
           }
          ],
          "contourcarpet": [
           {
            "colorbar": {
             "outlinewidth": 0,
             "ticks": ""
            },
            "type": "contourcarpet"
           }
          ],
          "heatmap": [
           {
            "colorbar": {
             "outlinewidth": 0,
             "ticks": ""
            },
            "colorscale": [
             [
              0,
              "#0d0887"
             ],
             [
              0.1111111111111111,
              "#46039f"
             ],
             [
              0.2222222222222222,
              "#7201a8"
             ],
             [
              0.3333333333333333,
              "#9c179e"
             ],
             [
              0.4444444444444444,
              "#bd3786"
             ],
             [
              0.5555555555555556,
              "#d8576b"
             ],
             [
              0.6666666666666666,
              "#ed7953"
             ],
             [
              0.7777777777777778,
              "#fb9f3a"
             ],
             [
              0.8888888888888888,
              "#fdca26"
             ],
             [
              1,
              "#f0f921"
             ]
            ],
            "type": "heatmap"
           }
          ],
          "heatmapgl": [
           {
            "colorbar": {
             "outlinewidth": 0,
             "ticks": ""
            },
            "colorscale": [
             [
              0,
              "#0d0887"
             ],
             [
              0.1111111111111111,
              "#46039f"
             ],
             [
              0.2222222222222222,
              "#7201a8"
             ],
             [
              0.3333333333333333,
              "#9c179e"
             ],
             [
              0.4444444444444444,
              "#bd3786"
             ],
             [
              0.5555555555555556,
              "#d8576b"
             ],
             [
              0.6666666666666666,
              "#ed7953"
             ],
             [
              0.7777777777777778,
              "#fb9f3a"
             ],
             [
              0.8888888888888888,
              "#fdca26"
             ],
             [
              1,
              "#f0f921"
             ]
            ],
            "type": "heatmapgl"
           }
          ],
          "histogram": [
           {
            "marker": {
             "colorbar": {
              "outlinewidth": 0,
              "ticks": ""
             }
            },
            "type": "histogram"
           }
          ],
          "histogram2d": [
           {
            "colorbar": {
             "outlinewidth": 0,
             "ticks": ""
            },
            "colorscale": [
             [
              0,
              "#0d0887"
             ],
             [
              0.1111111111111111,
              "#46039f"
             ],
             [
              0.2222222222222222,
              "#7201a8"
             ],
             [
              0.3333333333333333,
              "#9c179e"
             ],
             [
              0.4444444444444444,
              "#bd3786"
             ],
             [
              0.5555555555555556,
              "#d8576b"
             ],
             [
              0.6666666666666666,
              "#ed7953"
             ],
             [
              0.7777777777777778,
              "#fb9f3a"
             ],
             [
              0.8888888888888888,
              "#fdca26"
             ],
             [
              1,
              "#f0f921"
             ]
            ],
            "type": "histogram2d"
           }
          ],
          "histogram2dcontour": [
           {
            "colorbar": {
             "outlinewidth": 0,
             "ticks": ""
            },
            "colorscale": [
             [
              0,
              "#0d0887"
             ],
             [
              0.1111111111111111,
              "#46039f"
             ],
             [
              0.2222222222222222,
              "#7201a8"
             ],
             [
              0.3333333333333333,
              "#9c179e"
             ],
             [
              0.4444444444444444,
              "#bd3786"
             ],
             [
              0.5555555555555556,
              "#d8576b"
             ],
             [
              0.6666666666666666,
              "#ed7953"
             ],
             [
              0.7777777777777778,
              "#fb9f3a"
             ],
             [
              0.8888888888888888,
              "#fdca26"
             ],
             [
              1,
              "#f0f921"
             ]
            ],
            "type": "histogram2dcontour"
           }
          ],
          "mesh3d": [
           {
            "colorbar": {
             "outlinewidth": 0,
             "ticks": ""
            },
            "type": "mesh3d"
           }
          ],
          "parcoords": [
           {
            "line": {
             "colorbar": {
              "outlinewidth": 0,
              "ticks": ""
             }
            },
            "type": "parcoords"
           }
          ],
          "pie": [
           {
            "automargin": true,
            "type": "pie"
           }
          ],
          "scatter": [
           {
            "marker": {
             "line": {
              "color": "#283442"
             }
            },
            "type": "scatter"
           }
          ],
          "scatter3d": [
           {
            "line": {
             "colorbar": {
              "outlinewidth": 0,
              "ticks": ""
             }
            },
            "marker": {
             "colorbar": {
              "outlinewidth": 0,
              "ticks": ""
             }
            },
            "type": "scatter3d"
           }
          ],
          "scattercarpet": [
           {
            "marker": {
             "colorbar": {
              "outlinewidth": 0,
              "ticks": ""
             }
            },
            "type": "scattercarpet"
           }
          ],
          "scattergeo": [
           {
            "marker": {
             "colorbar": {
              "outlinewidth": 0,
              "ticks": ""
             }
            },
            "type": "scattergeo"
           }
          ],
          "scattergl": [
           {
            "marker": {
             "line": {
              "color": "#283442"
             }
            },
            "type": "scattergl"
           }
          ],
          "scattermapbox": [
           {
            "marker": {
             "colorbar": {
              "outlinewidth": 0,
              "ticks": ""
             }
            },
            "type": "scattermapbox"
           }
          ],
          "scatterpolar": [
           {
            "marker": {
             "colorbar": {
              "outlinewidth": 0,
              "ticks": ""
             }
            },
            "type": "scatterpolar"
           }
          ],
          "scatterpolargl": [
           {
            "marker": {
             "colorbar": {
              "outlinewidth": 0,
              "ticks": ""
             }
            },
            "type": "scatterpolargl"
           }
          ],
          "scatterternary": [
           {
            "marker": {
             "colorbar": {
              "outlinewidth": 0,
              "ticks": ""
             }
            },
            "type": "scatterternary"
           }
          ],
          "surface": [
           {
            "colorbar": {
             "outlinewidth": 0,
             "ticks": ""
            },
            "colorscale": [
             [
              0,
              "#0d0887"
             ],
             [
              0.1111111111111111,
              "#46039f"
             ],
             [
              0.2222222222222222,
              "#7201a8"
             ],
             [
              0.3333333333333333,
              "#9c179e"
             ],
             [
              0.4444444444444444,
              "#bd3786"
             ],
             [
              0.5555555555555556,
              "#d8576b"
             ],
             [
              0.6666666666666666,
              "#ed7953"
             ],
             [
              0.7777777777777778,
              "#fb9f3a"
             ],
             [
              0.8888888888888888,
              "#fdca26"
             ],
             [
              1,
              "#f0f921"
             ]
            ],
            "type": "surface"
           }
          ],
          "table": [
           {
            "cells": {
             "fill": {
              "color": "#506784"
             },
             "line": {
              "color": "rgb(17,17,17)"
             }
            },
            "header": {
             "fill": {
              "color": "#2a3f5f"
             },
             "line": {
              "color": "rgb(17,17,17)"
             }
            },
            "type": "table"
           }
          ]
         },
         "layout": {
          "annotationdefaults": {
           "arrowcolor": "#f2f5fa",
           "arrowhead": 0,
           "arrowwidth": 1
          },
          "autotypenumbers": "strict",
          "coloraxis": {
           "colorbar": {
            "outlinewidth": 0,
            "ticks": ""
           }
          },
          "colorscale": {
           "diverging": [
            [
             0,
             "#8e0152"
            ],
            [
             0.1,
             "#c51b7d"
            ],
            [
             0.2,
             "#de77ae"
            ],
            [
             0.3,
             "#f1b6da"
            ],
            [
             0.4,
             "#fde0ef"
            ],
            [
             0.5,
             "#f7f7f7"
            ],
            [
             0.6,
             "#e6f5d0"
            ],
            [
             0.7,
             "#b8e186"
            ],
            [
             0.8,
             "#7fbc41"
            ],
            [
             0.9,
             "#4d9221"
            ],
            [
             1,
             "#276419"
            ]
           ],
           "sequential": [
            [
             0,
             "#0d0887"
            ],
            [
             0.1111111111111111,
             "#46039f"
            ],
            [
             0.2222222222222222,
             "#7201a8"
            ],
            [
             0.3333333333333333,
             "#9c179e"
            ],
            [
             0.4444444444444444,
             "#bd3786"
            ],
            [
             0.5555555555555556,
             "#d8576b"
            ],
            [
             0.6666666666666666,
             "#ed7953"
            ],
            [
             0.7777777777777778,
             "#fb9f3a"
            ],
            [
             0.8888888888888888,
             "#fdca26"
            ],
            [
             1,
             "#f0f921"
            ]
           ],
           "sequentialminus": [
            [
             0,
             "#0d0887"
            ],
            [
             0.1111111111111111,
             "#46039f"
            ],
            [
             0.2222222222222222,
             "#7201a8"
            ],
            [
             0.3333333333333333,
             "#9c179e"
            ],
            [
             0.4444444444444444,
             "#bd3786"
            ],
            [
             0.5555555555555556,
             "#d8576b"
            ],
            [
             0.6666666666666666,
             "#ed7953"
            ],
            [
             0.7777777777777778,
             "#fb9f3a"
            ],
            [
             0.8888888888888888,
             "#fdca26"
            ],
            [
             1,
             "#f0f921"
            ]
           ]
          },
          "colorway": [
           "#636efa",
           "#EF553B",
           "#00cc96",
           "#ab63fa",
           "#FFA15A",
           "#19d3f3",
           "#FF6692",
           "#B6E880",
           "#FF97FF",
           "#FECB52"
          ],
          "font": {
           "color": "#f2f5fa"
          },
          "geo": {
           "bgcolor": "rgb(17,17,17)",
           "lakecolor": "rgb(17,17,17)",
           "landcolor": "rgb(17,17,17)",
           "showlakes": true,
           "showland": true,
           "subunitcolor": "#506784"
          },
          "hoverlabel": {
           "align": "left"
          },
          "hovermode": "closest",
          "mapbox": {
           "style": "dark"
          },
          "paper_bgcolor": "rgb(17,17,17)",
          "plot_bgcolor": "rgb(17,17,17)",
          "polar": {
           "angularaxis": {
            "gridcolor": "#506784",
            "linecolor": "#506784",
            "ticks": ""
           },
           "bgcolor": "rgb(17,17,17)",
           "radialaxis": {
            "gridcolor": "#506784",
            "linecolor": "#506784",
            "ticks": ""
           }
          },
          "scene": {
           "xaxis": {
            "backgroundcolor": "rgb(17,17,17)",
            "gridcolor": "#506784",
            "gridwidth": 2,
            "linecolor": "#506784",
            "showbackground": true,
            "ticks": "",
            "zerolinecolor": "#C8D4E3"
           },
           "yaxis": {
            "backgroundcolor": "rgb(17,17,17)",
            "gridcolor": "#506784",
            "gridwidth": 2,
            "linecolor": "#506784",
            "showbackground": true,
            "ticks": "",
            "zerolinecolor": "#C8D4E3"
           },
           "zaxis": {
            "backgroundcolor": "rgb(17,17,17)",
            "gridcolor": "#506784",
            "gridwidth": 2,
            "linecolor": "#506784",
            "showbackground": true,
            "ticks": "",
            "zerolinecolor": "#C8D4E3"
           }
          },
          "shapedefaults": {
           "line": {
            "color": "#f2f5fa"
           }
          },
          "sliderdefaults": {
           "bgcolor": "#C8D4E3",
           "bordercolor": "rgb(17,17,17)",
           "borderwidth": 1,
           "tickwidth": 0
          },
          "ternary": {
           "aaxis": {
            "gridcolor": "#506784",
            "linecolor": "#506784",
            "ticks": ""
           },
           "baxis": {
            "gridcolor": "#506784",
            "linecolor": "#506784",
            "ticks": ""
           },
           "bgcolor": "rgb(17,17,17)",
           "caxis": {
            "gridcolor": "#506784",
            "linecolor": "#506784",
            "ticks": ""
           }
          },
          "title": {
           "x": 0.05
          },
          "updatemenudefaults": {
           "bgcolor": "#506784",
           "borderwidth": 0
          },
          "xaxis": {
           "automargin": true,
           "gridcolor": "#283442",
           "linecolor": "#506784",
           "ticks": "",
           "title": {
            "standoff": 15
           },
           "zerolinecolor": "#283442",
           "zerolinewidth": 2
          },
          "yaxis": {
           "automargin": true,
           "gridcolor": "#283442",
           "linecolor": "#506784",
           "ticks": "",
           "title": {
            "standoff": 15
           },
           "zerolinecolor": "#283442",
           "zerolinewidth": 2
          }
         }
        },
        "title": {
         "text": "Reporting delay (reporting time minus exposure time)"
        },
        "width": 580,
        "xaxis": {
         "anchor": "y",
         "domain": [
          0,
          1
         ],
         "title": {
          "text": "Delay between exposure and report"
         }
        },
        "yaxis": {
         "anchor": "x",
         "domain": [
          0,
          1
         ],
         "title": {
          "text": "Number of exposure sites"
         }
        }
       }
      },
      "text/html": [
       "<div>                            <div id=\"feeb88c2-0d95-47f8-af4f-4c5809f6f3a0\" class=\"plotly-graph-div\" style=\"height:525px; width:580px;\"></div>            <script type=\"text/javascript\">                require([\"plotly\"], function(Plotly) {                    window.PLOTLYENV=window.PLOTLYENV || {};                                    if (document.getElementById(\"feeb88c2-0d95-47f8-af4f-4c5809f6f3a0\")) {                    Plotly.newPlot(                        \"feeb88c2-0d95-47f8-af4f-4c5809f6f3a0\",                        [{\"alignmentgroup\": \"True\", \"bingroup\": \"x\", \"hovertemplate\": \"date_delay=%{x}<br>count=%{y}<extra></extra>\", \"legendgroup\": \"\", \"marker\": {\"color\": \"rgb(55,126,184)\"}, \"name\": \"\", \"offsetgroup\": \"\", \"orientation\": \"v\", \"showlegend\": false, \"type\": \"histogram\", \"x\": [2, 3, 3, 4, 1, 3, 5, 2, 4, 4, 1, 1, 6, 6, 2, 2, 7, 5, 6, 1, 6, 2, 4, 5, 6, 6, 6, 4, 4, 4, 4, 4, 4, 3, 5, 2, 2, 5, 4, 4, 3, 1, 1, 3, 0, 0, 3, 3, 3, 8, 4, 4, 8, 6, 5, 4, 3, 2, 1, 4, 5, 4, 3, 3, 3, 2, 3, 5, 2, 5, 3, 4, 4, 3, 5, 3, 4, 5, 6, 3, 4, 13, 13, 7, 13, 3, 3, 3, 3, 3, 4, 6, 3, 2, 5, 4, 5, 5, 4, 3, 5, 5, 5, 6, 5, 4, 4, 4, 2, 3, 3, 4, 2, 2, 14, 3, 2, 5, 3, 4, 3, 4, 5, 6, 6, 6, 3, 4, 10, 5, 5, 5, 6, 4, 3, 2, 2, 6, 5, 3, 2, 1, 10, 10, 10, 3, 9, 9, 9, 9, 9, 9, 4, 6, 8, 7, 6, 4, 4, 5, 7, 7, 4, 5, 4, 6, 2, 2, 1, 3, 3, 3, 3, 3, 9, 4, 8, 4, 6, 11, 5, 7, 5, 5, 11, 5, 4, 3, 13, 12, 8, 5, 5, 5, 8, 5, 8, 8, 8, 8, 11, 8, 12, 5, 4, 6, 13, 12, 10, 9, 6, 4, 3, 2, 18, 17, 10, 4, 4, 4, 3, 6, 11, 8, 4, 8, 6, 13, 13, 9, 7, 7, 3, 4, 3, 4, 4, 8, 7, 8, 8, 7, 4, 6, 7, 8, 6, 6, 7, 8, 6, 8, 15, 15, 8, 7, 10, 12, 4, 4, 4, 4, 6, 5, 4, 4, 5, 5, 6, 20, 7, 7, 5, 5, 4, 4, 5, 4, 9, 8, 8, 6, 10, 6, 5, 4, 3, 2, 5, 5, 5, 4, 3, 2, 3, 19, 20, 16, 12, 3, 8, 11, 5, 4, 10, 3, 5, 4, 3, 5, 5, 5, 5, 4, 3, 4, 4, 3, 3, 4, 3, 5, 6, 5, 4, 3, 8, 5, 4, 4, 4, 4, 4, 4, 4, 9, 4, 4, 4, 9, 14, 9, 6, 6, 8, 8, 8, 7, 2, 2, 1, 8, 8, 8, 6, 6, 5, 8, 3, 5, 2, 6, 7, 7], \"xaxis\": \"x\", \"yaxis\": \"y\"}],                        {\"annotations\": [{\"showarrow\": false, \"text\": \"median\", \"x\": 5.0, \"xanchor\": \"left\", \"xref\": \"x\", \"y\": 1, \"yanchor\": \"top\", \"yref\": \"y domain\"}], \"barmode\": \"relative\", \"legend\": {\"tracegroupgap\": 0}, \"shapes\": [{\"type\": \"line\", \"x0\": 5.0, \"x1\": 5.0, \"xref\": \"x\", \"y0\": 0, \"y1\": 1, \"yref\": \"y domain\"}], \"template\": {\"data\": {\"bar\": [{\"error_x\": {\"color\": \"#f2f5fa\"}, \"error_y\": {\"color\": \"#f2f5fa\"}, \"marker\": {\"line\": {\"color\": \"rgb(17,17,17)\", \"width\": 0.5}}, \"type\": \"bar\"}], \"barpolar\": [{\"marker\": {\"line\": {\"color\": \"rgb(17,17,17)\", \"width\": 0.5}}, \"type\": \"barpolar\"}], \"carpet\": [{\"aaxis\": {\"endlinecolor\": \"#A2B1C6\", \"gridcolor\": \"#506784\", \"linecolor\": \"#506784\", \"minorgridcolor\": \"#506784\", \"startlinecolor\": \"#A2B1C6\"}, \"baxis\": {\"endlinecolor\": \"#A2B1C6\", \"gridcolor\": \"#506784\", \"linecolor\": \"#506784\", \"minorgridcolor\": \"#506784\", \"startlinecolor\": \"#A2B1C6\"}, \"type\": \"carpet\"}], \"choropleth\": [{\"colorbar\": {\"outlinewidth\": 0, \"ticks\": \"\"}, \"type\": \"choropleth\"}], \"contour\": [{\"colorbar\": {\"outlinewidth\": 0, \"ticks\": \"\"}, \"colorscale\": [[0.0, \"#0d0887\"], [0.1111111111111111, \"#46039f\"], [0.2222222222222222, \"#7201a8\"], [0.3333333333333333, \"#9c179e\"], [0.4444444444444444, \"#bd3786\"], [0.5555555555555556, \"#d8576b\"], [0.6666666666666666, \"#ed7953\"], [0.7777777777777778, \"#fb9f3a\"], [0.8888888888888888, \"#fdca26\"], [1.0, \"#f0f921\"]], \"type\": \"contour\"}], \"contourcarpet\": [{\"colorbar\": {\"outlinewidth\": 0, \"ticks\": \"\"}, \"type\": \"contourcarpet\"}], \"heatmap\": [{\"colorbar\": {\"outlinewidth\": 0, \"ticks\": \"\"}, \"colorscale\": [[0.0, \"#0d0887\"], [0.1111111111111111, \"#46039f\"], [0.2222222222222222, \"#7201a8\"], [0.3333333333333333, \"#9c179e\"], [0.4444444444444444, \"#bd3786\"], [0.5555555555555556, \"#d8576b\"], [0.6666666666666666, \"#ed7953\"], [0.7777777777777778, \"#fb9f3a\"], [0.8888888888888888, \"#fdca26\"], [1.0, \"#f0f921\"]], \"type\": \"heatmap\"}], \"heatmapgl\": [{\"colorbar\": {\"outlinewidth\": 0, \"ticks\": \"\"}, \"colorscale\": [[0.0, \"#0d0887\"], [0.1111111111111111, \"#46039f\"], [0.2222222222222222, \"#7201a8\"], [0.3333333333333333, \"#9c179e\"], [0.4444444444444444, \"#bd3786\"], [0.5555555555555556, \"#d8576b\"], [0.6666666666666666, \"#ed7953\"], [0.7777777777777778, \"#fb9f3a\"], [0.8888888888888888, \"#fdca26\"], [1.0, \"#f0f921\"]], \"type\": \"heatmapgl\"}], \"histogram\": [{\"marker\": {\"colorbar\": {\"outlinewidth\": 0, \"ticks\": \"\"}}, \"type\": \"histogram\"}], \"histogram2d\": [{\"colorbar\": {\"outlinewidth\": 0, \"ticks\": \"\"}, \"colorscale\": [[0.0, \"#0d0887\"], [0.1111111111111111, \"#46039f\"], [0.2222222222222222, \"#7201a8\"], [0.3333333333333333, \"#9c179e\"], [0.4444444444444444, \"#bd3786\"], [0.5555555555555556, \"#d8576b\"], [0.6666666666666666, \"#ed7953\"], [0.7777777777777778, \"#fb9f3a\"], [0.8888888888888888, \"#fdca26\"], [1.0, \"#f0f921\"]], \"type\": \"histogram2d\"}], \"histogram2dcontour\": [{\"colorbar\": {\"outlinewidth\": 0, \"ticks\": \"\"}, \"colorscale\": [[0.0, \"#0d0887\"], [0.1111111111111111, \"#46039f\"], [0.2222222222222222, \"#7201a8\"], [0.3333333333333333, \"#9c179e\"], [0.4444444444444444, \"#bd3786\"], [0.5555555555555556, \"#d8576b\"], [0.6666666666666666, \"#ed7953\"], [0.7777777777777778, \"#fb9f3a\"], [0.8888888888888888, \"#fdca26\"], [1.0, \"#f0f921\"]], \"type\": \"histogram2dcontour\"}], \"mesh3d\": [{\"colorbar\": {\"outlinewidth\": 0, \"ticks\": \"\"}, \"type\": \"mesh3d\"}], \"parcoords\": [{\"line\": {\"colorbar\": {\"outlinewidth\": 0, \"ticks\": \"\"}}, \"type\": \"parcoords\"}], \"pie\": [{\"automargin\": true, \"type\": \"pie\"}], \"scatter\": [{\"marker\": {\"line\": {\"color\": \"#283442\"}}, \"type\": \"scatter\"}], \"scatter3d\": [{\"line\": {\"colorbar\": {\"outlinewidth\": 0, \"ticks\": \"\"}}, \"marker\": {\"colorbar\": {\"outlinewidth\": 0, \"ticks\": \"\"}}, \"type\": \"scatter3d\"}], \"scattercarpet\": [{\"marker\": {\"colorbar\": {\"outlinewidth\": 0, \"ticks\": \"\"}}, \"type\": \"scattercarpet\"}], \"scattergeo\": [{\"marker\": {\"colorbar\": {\"outlinewidth\": 0, \"ticks\": \"\"}}, \"type\": \"scattergeo\"}], \"scattergl\": [{\"marker\": {\"line\": {\"color\": \"#283442\"}}, \"type\": \"scattergl\"}], \"scattermapbox\": [{\"marker\": {\"colorbar\": {\"outlinewidth\": 0, \"ticks\": \"\"}}, \"type\": \"scattermapbox\"}], \"scatterpolar\": [{\"marker\": {\"colorbar\": {\"outlinewidth\": 0, \"ticks\": \"\"}}, \"type\": \"scatterpolar\"}], \"scatterpolargl\": [{\"marker\": {\"colorbar\": {\"outlinewidth\": 0, \"ticks\": \"\"}}, \"type\": \"scatterpolargl\"}], \"scatterternary\": [{\"marker\": {\"colorbar\": {\"outlinewidth\": 0, \"ticks\": \"\"}}, \"type\": \"scatterternary\"}], \"surface\": [{\"colorbar\": {\"outlinewidth\": 0, \"ticks\": \"\"}, \"colorscale\": [[0.0, \"#0d0887\"], [0.1111111111111111, \"#46039f\"], [0.2222222222222222, \"#7201a8\"], [0.3333333333333333, \"#9c179e\"], [0.4444444444444444, \"#bd3786\"], [0.5555555555555556, \"#d8576b\"], [0.6666666666666666, \"#ed7953\"], [0.7777777777777778, \"#fb9f3a\"], [0.8888888888888888, \"#fdca26\"], [1.0, \"#f0f921\"]], \"type\": \"surface\"}], \"table\": [{\"cells\": {\"fill\": {\"color\": \"#506784\"}, \"line\": {\"color\": \"rgb(17,17,17)\"}}, \"header\": {\"fill\": {\"color\": \"#2a3f5f\"}, \"line\": {\"color\": \"rgb(17,17,17)\"}}, \"type\": \"table\"}]}, \"layout\": {\"annotationdefaults\": {\"arrowcolor\": \"#f2f5fa\", \"arrowhead\": 0, \"arrowwidth\": 1}, \"autotypenumbers\": \"strict\", \"coloraxis\": {\"colorbar\": {\"outlinewidth\": 0, \"ticks\": \"\"}}, \"colorscale\": {\"diverging\": [[0, \"#8e0152\"], [0.1, \"#c51b7d\"], [0.2, \"#de77ae\"], [0.3, \"#f1b6da\"], [0.4, \"#fde0ef\"], [0.5, \"#f7f7f7\"], [0.6, \"#e6f5d0\"], [0.7, \"#b8e186\"], [0.8, \"#7fbc41\"], [0.9, \"#4d9221\"], [1, \"#276419\"]], \"sequential\": [[0.0, \"#0d0887\"], [0.1111111111111111, \"#46039f\"], [0.2222222222222222, \"#7201a8\"], [0.3333333333333333, \"#9c179e\"], [0.4444444444444444, \"#bd3786\"], [0.5555555555555556, \"#d8576b\"], [0.6666666666666666, \"#ed7953\"], [0.7777777777777778, \"#fb9f3a\"], [0.8888888888888888, \"#fdca26\"], [1.0, \"#f0f921\"]], \"sequentialminus\": [[0.0, \"#0d0887\"], [0.1111111111111111, \"#46039f\"], [0.2222222222222222, \"#7201a8\"], [0.3333333333333333, \"#9c179e\"], [0.4444444444444444, \"#bd3786\"], [0.5555555555555556, \"#d8576b\"], [0.6666666666666666, \"#ed7953\"], [0.7777777777777778, \"#fb9f3a\"], [0.8888888888888888, \"#fdca26\"], [1.0, \"#f0f921\"]]}, \"colorway\": [\"#636efa\", \"#EF553B\", \"#00cc96\", \"#ab63fa\", \"#FFA15A\", \"#19d3f3\", \"#FF6692\", \"#B6E880\", \"#FF97FF\", \"#FECB52\"], \"font\": {\"color\": \"#f2f5fa\"}, \"geo\": {\"bgcolor\": \"rgb(17,17,17)\", \"lakecolor\": \"rgb(17,17,17)\", \"landcolor\": \"rgb(17,17,17)\", \"showlakes\": true, \"showland\": true, \"subunitcolor\": \"#506784\"}, \"hoverlabel\": {\"align\": \"left\"}, \"hovermode\": \"closest\", \"mapbox\": {\"style\": \"dark\"}, \"paper_bgcolor\": \"rgb(17,17,17)\", \"plot_bgcolor\": \"rgb(17,17,17)\", \"polar\": {\"angularaxis\": {\"gridcolor\": \"#506784\", \"linecolor\": \"#506784\", \"ticks\": \"\"}, \"bgcolor\": \"rgb(17,17,17)\", \"radialaxis\": {\"gridcolor\": \"#506784\", \"linecolor\": \"#506784\", \"ticks\": \"\"}}, \"scene\": {\"xaxis\": {\"backgroundcolor\": \"rgb(17,17,17)\", \"gridcolor\": \"#506784\", \"gridwidth\": 2, \"linecolor\": \"#506784\", \"showbackground\": true, \"ticks\": \"\", \"zerolinecolor\": \"#C8D4E3\"}, \"yaxis\": {\"backgroundcolor\": \"rgb(17,17,17)\", \"gridcolor\": \"#506784\", \"gridwidth\": 2, \"linecolor\": \"#506784\", \"showbackground\": true, \"ticks\": \"\", \"zerolinecolor\": \"#C8D4E3\"}, \"zaxis\": {\"backgroundcolor\": \"rgb(17,17,17)\", \"gridcolor\": \"#506784\", \"gridwidth\": 2, \"linecolor\": \"#506784\", \"showbackground\": true, \"ticks\": \"\", \"zerolinecolor\": \"#C8D4E3\"}}, \"shapedefaults\": {\"line\": {\"color\": \"#f2f5fa\"}}, \"sliderdefaults\": {\"bgcolor\": \"#C8D4E3\", \"bordercolor\": \"rgb(17,17,17)\", \"borderwidth\": 1, \"tickwidth\": 0}, \"ternary\": {\"aaxis\": {\"gridcolor\": \"#506784\", \"linecolor\": \"#506784\", \"ticks\": \"\"}, \"baxis\": {\"gridcolor\": \"#506784\", \"linecolor\": \"#506784\", \"ticks\": \"\"}, \"bgcolor\": \"rgb(17,17,17)\", \"caxis\": {\"gridcolor\": \"#506784\", \"linecolor\": \"#506784\", \"ticks\": \"\"}}, \"title\": {\"x\": 0.05}, \"updatemenudefaults\": {\"bgcolor\": \"#506784\", \"borderwidth\": 0}, \"xaxis\": {\"automargin\": true, \"gridcolor\": \"#283442\", \"linecolor\": \"#506784\", \"ticks\": \"\", \"title\": {\"standoff\": 15}, \"zerolinecolor\": \"#283442\", \"zerolinewidth\": 2}, \"yaxis\": {\"automargin\": true, \"gridcolor\": \"#283442\", \"linecolor\": \"#506784\", \"ticks\": \"\", \"title\": {\"standoff\": 15}, \"zerolinecolor\": \"#283442\", \"zerolinewidth\": 2}}}, \"title\": {\"text\": \"Reporting delay (reporting time minus exposure time)\"}, \"width\": 580, \"xaxis\": {\"anchor\": \"y\", \"domain\": [0.0, 1.0], \"title\": {\"text\": \"Delay between exposure and report\"}}, \"yaxis\": {\"anchor\": \"x\", \"domain\": [0.0, 1.0], \"title\": {\"text\": \"Number of exposure sites\"}}},                        {\"responsive\": true}                    ).then(function(){\n",
       "                            \n",
       "var gd = document.getElementById('feeb88c2-0d95-47f8-af4f-4c5809f6f3a0');\n",
       "var x = new MutationObserver(function (mutations, observer) {{\n",
       "        var display = window.getComputedStyle(gd).display;\n",
       "        if (!display || display === 'none') {{\n",
       "            console.log([gd, 'removed!']);\n",
       "            Plotly.purge(gd);\n",
       "            observer.disconnect();\n",
       "        }}\n",
       "}});\n",
       "\n",
       "// Listen for the removal of the full notebook cells\n",
       "var notebookContainer = gd.closest('#notebook-container');\n",
       "if (notebookContainer) {{\n",
       "    x.observe(notebookContainer, {childList: true});\n",
       "}}\n",
       "\n",
       "// Listen for the clearing of the current output cell\n",
       "var outputEl = gd.closest('.output');\n",
       "if (outputEl) {{\n",
       "    x.observe(outputEl, {childList: true});\n",
       "}}\n",
       "\n",
       "                        })                };                });            </script>        </div>"
      ]
     },
     "metadata": {},
     "output_type": "display_data"
    }
   ],
   "source": [
    "\n",
    "df_official['date_delay'] = df_official.Added_date_dtm - df_official.Exposure_date_dtm\n",
    "df_official.date_delay = df_official.date_delay.dt.days\n",
    "\n",
    "fig_delay = px.histogram(df_official, x='date_delay', template='plotly_dark',\n",
    "                         color_discrete_sequence=[px.colors.qualitative.Set1[1]],\n",
    "                         title='Reporting delay (reporting time minus exposure time)')\n",
    "fig_delay.add_vline(x = df_official.date_delay.describe()['50%'], annotation_text='median')\n",
    "fig_delay.update_layout(width=width, \n",
    "                       xaxis_title = \"Delay between exposure and report\", \n",
    "                       yaxis_title = \"Number of exposure sites\")"
   ]
  },
  {
   "cell_type": "code",
   "execution_count": 123,
   "metadata": {
    "scrolled": false
   },
   "outputs": [
    {
     "data": {
      "application/vnd.plotly.v1+json": {
       "config": {
        "plotlyServerURL": "https://plot.ly"
       },
       "data": [
        {
         "coloraxis": "coloraxis",
         "hovertemplate": "Exposure_date_dtm=%{x}<br>Added_date_dtm=%{y}<br>count=%{z}<extra></extra>",
         "name": "",
         "nbinsx": 23,
         "nbinsy": 23,
         "type": "histogram2d",
         "x": [
          "2021-05-24T00:00:00",
          "2021-05-23T00:00:00",
          "2021-05-23T00:00:00",
          "2021-05-22T00:00:00",
          "2021-05-23T00:00:00",
          "2021-05-21T00:00:00",
          "2021-05-21T00:00:00",
          "2021-05-22T00:00:00",
          "2021-05-22T00:00:00",
          "2021-05-22T00:00:00",
          "2021-05-23T00:00:00",
          "2021-05-23T00:00:00",
          "2021-05-19T00:00:00",
          "2021-05-20T00:00:00",
          "2021-05-22T00:00:00",
          "2021-05-22T00:00:00",
          "2021-05-17T00:00:00",
          "2021-05-19T00:00:00",
          "2021-05-18T00:00:00",
          "2021-05-23T00:00:00",
          "2021-05-20T00:00:00",
          "2021-05-22T00:00:00",
          "2021-05-22T00:00:00",
          "2021-05-20T00:00:00",
          "2021-05-19T00:00:00",
          "2021-05-19T00:00:00",
          "2021-05-19T00:00:00",
          "2021-05-20T00:00:00",
          "2021-05-20T00:00:00",
          "2021-05-20T00:00:00",
          "2021-05-20T00:00:00",
          "2021-05-20T00:00:00",
          "2021-05-20T00:00:00",
          "2021-05-21T00:00:00",
          "2021-05-20T00:00:00",
          "2021-05-24T00:00:00",
          "2021-05-24T00:00:00",
          "2021-05-21T00:00:00",
          "2021-05-22T00:00:00",
          "2021-05-22T00:00:00",
          "2021-05-23T00:00:00",
          "2021-05-23T00:00:00",
          "2021-05-23T00:00:00",
          "2021-05-21T00:00:00",
          "2021-05-22T00:00:00",
          "2021-05-18T00:00:00",
          "2021-05-23T00:00:00",
          "2021-05-23T00:00:00",
          "2021-05-23T00:00:00",
          "2021-05-17T00:00:00",
          "2021-05-20T00:00:00",
          "2021-05-22T00:00:00",
          "2021-05-18T00:00:00",
          "2021-05-20T00:00:00",
          "2021-05-21T00:00:00",
          "2021-05-22T00:00:00",
          "2021-05-23T00:00:00",
          "2021-05-24T00:00:00",
          "2021-05-25T00:00:00",
          "2021-05-22T00:00:00",
          "2021-05-22T00:00:00",
          "2021-05-22T00:00:00",
          "2021-05-23T00:00:00",
          "2021-05-23T00:00:00",
          "2021-05-23T00:00:00",
          "2021-05-24T00:00:00",
          "2021-05-23T00:00:00",
          "2021-05-21T00:00:00",
          "2021-05-24T00:00:00",
          "2021-05-21T00:00:00",
          "2021-05-23T00:00:00",
          "2021-05-22T00:00:00",
          "2021-05-22T00:00:00",
          "2021-05-23T00:00:00",
          "2021-05-21T00:00:00",
          "2021-05-23T00:00:00",
          "2021-05-22T00:00:00",
          "2021-05-21T00:00:00",
          "2021-05-20T00:00:00",
          "2021-05-23T00:00:00",
          "2021-05-23T00:00:00",
          "2021-05-14T00:00:00",
          "2021-05-14T00:00:00",
          "2021-05-20T00:00:00",
          "2021-05-14T00:00:00",
          "2021-05-24T00:00:00",
          "2021-05-24T00:00:00",
          "2021-05-24T00:00:00",
          "2021-05-24T00:00:00",
          "2021-05-24T00:00:00",
          "2021-05-23T00:00:00",
          "2021-05-21T00:00:00",
          "2021-05-24T00:00:00",
          "2021-05-25T00:00:00",
          "2021-05-22T00:00:00",
          "2021-05-23T00:00:00",
          "2021-05-22T00:00:00",
          "2021-05-22T00:00:00",
          "2021-05-23T00:00:00",
          "2021-05-24T00:00:00",
          "2021-05-22T00:00:00",
          "2021-05-22T00:00:00",
          "2021-05-22T00:00:00",
          "2021-05-21T00:00:00",
          "2021-05-22T00:00:00",
          "2021-05-23T00:00:00",
          "2021-05-23T00:00:00",
          "2021-05-23T00:00:00",
          "2021-05-25T00:00:00",
          "2021-05-24T00:00:00",
          "2021-05-24T00:00:00",
          "2021-05-23T00:00:00",
          "2021-05-25T00:00:00",
          "2021-05-25T00:00:00",
          "2021-05-13T00:00:00",
          "2021-05-24T00:00:00",
          "2021-05-25T00:00:00",
          "2021-05-23T00:00:00",
          "2021-05-25T00:00:00",
          "2021-05-24T00:00:00",
          "2021-05-25T00:00:00",
          "2021-05-24T00:00:00",
          "2021-05-23T00:00:00",
          "2021-05-22T00:00:00",
          "2021-05-22T00:00:00",
          "2021-05-22T00:00:00",
          "2021-05-25T00:00:00",
          "2021-05-24T00:00:00",
          "2021-05-18T00:00:00",
          "2021-05-23T00:00:00",
          "2021-05-23T00:00:00",
          "2021-05-23T00:00:00",
          "2021-05-22T00:00:00",
          "2021-05-24T00:00:00",
          "2021-05-25T00:00:00",
          "2021-05-26T00:00:00",
          "2021-05-27T00:00:00",
          "2021-05-22T00:00:00",
          "2021-05-23T00:00:00",
          "2021-05-25T00:00:00",
          "2021-05-26T00:00:00",
          "2021-05-27T00:00:00",
          "2021-05-18T00:00:00",
          "2021-05-18T00:00:00",
          "2021-05-18T00:00:00",
          "2021-05-25T00:00:00",
          "2021-05-19T00:00:00",
          "2021-05-19T00:00:00",
          "2021-05-19T00:00:00",
          "2021-05-19T00:00:00",
          "2021-05-19T00:00:00",
          "2021-05-19T00:00:00",
          "2021-05-25T00:00:00",
          "2021-05-23T00:00:00",
          "2021-05-21T00:00:00",
          "2021-05-22T00:00:00",
          "2021-05-23T00:00:00",
          "2021-05-25T00:00:00",
          "2021-05-25T00:00:00",
          "2021-05-24T00:00:00",
          "2021-05-22T00:00:00",
          "2021-05-22T00:00:00",
          "2021-05-25T00:00:00",
          "2021-05-24T00:00:00",
          "2021-05-25T00:00:00",
          "2021-05-23T00:00:00",
          "2021-05-27T00:00:00",
          "2021-05-27T00:00:00",
          "2021-05-28T00:00:00",
          "2021-05-26T00:00:00",
          "2021-05-26T00:00:00",
          "2021-05-26T00:00:00",
          "2021-05-26T00:00:00",
          "2021-05-26T00:00:00",
          "2021-05-21T00:00:00",
          "2021-05-26T00:00:00",
          "2021-05-22T00:00:00",
          "2021-05-26T00:00:00",
          "2021-05-24T00:00:00",
          "2021-05-19T00:00:00",
          "2021-05-25T00:00:00",
          "2021-05-23T00:00:00",
          "2021-05-25T00:00:00",
          "2021-05-25T00:00:00",
          "2021-05-19T00:00:00",
          "2021-05-25T00:00:00",
          "2021-05-26T00:00:00",
          "2021-05-27T00:00:00",
          "2021-05-17T00:00:00",
          "2021-05-18T00:00:00",
          "2021-05-22T00:00:00",
          "2021-05-25T00:00:00",
          "2021-05-25T00:00:00",
          "2021-05-25T00:00:00",
          "2021-05-22T00:00:00",
          "2021-05-25T00:00:00",
          "2021-05-22T00:00:00",
          "2021-05-22T00:00:00",
          "2021-05-22T00:00:00",
          "2021-05-22T00:00:00",
          "2021-05-19T00:00:00",
          "2021-05-22T00:00:00",
          "2021-05-18T00:00:00",
          "2021-05-25T00:00:00",
          "2021-05-26T00:00:00",
          "2021-05-24T00:00:00",
          "2021-05-17T00:00:00",
          "2021-05-18T00:00:00",
          "2021-05-20T00:00:00",
          "2021-05-21T00:00:00",
          "2021-05-24T00:00:00",
          "2021-05-26T00:00:00",
          "2021-05-27T00:00:00",
          "2021-05-28T00:00:00",
          "2021-05-12T00:00:00",
          "2021-05-13T00:00:00",
          "2021-05-20T00:00:00",
          "2021-05-26T00:00:00",
          "2021-05-26T00:00:00",
          "2021-05-26T00:00:00",
          "2021-05-27T00:00:00",
          "2021-05-24T00:00:00",
          "2021-05-19T00:00:00",
          "2021-05-22T00:00:00",
          "2021-05-26T00:00:00",
          "2021-05-22T00:00:00",
          "2021-05-24T00:00:00",
          "2021-05-17T00:00:00",
          "2021-05-17T00:00:00",
          "2021-05-21T00:00:00",
          "2021-05-23T00:00:00",
          "2021-05-23T00:00:00",
          "2021-05-27T00:00:00",
          "2021-05-26T00:00:00",
          "2021-05-27T00:00:00",
          "2021-05-26T00:00:00",
          "2021-05-26T00:00:00",
          "2021-05-22T00:00:00",
          "2021-05-23T00:00:00",
          "2021-05-22T00:00:00",
          "2021-05-22T00:00:00",
          "2021-05-23T00:00:00",
          "2021-05-26T00:00:00",
          "2021-05-24T00:00:00",
          "2021-05-23T00:00:00",
          "2021-05-22T00:00:00",
          "2021-05-24T00:00:00",
          "2021-05-24T00:00:00",
          "2021-05-23T00:00:00",
          "2021-05-22T00:00:00",
          "2021-05-24T00:00:00",
          "2021-05-22T00:00:00",
          "2021-05-15T00:00:00",
          "2021-05-15T00:00:00",
          "2021-05-22T00:00:00",
          "2021-05-23T00:00:00",
          "2021-05-20T00:00:00",
          "2021-05-18T00:00:00",
          "2021-05-26T00:00:00",
          "2021-05-26T00:00:00",
          "2021-05-26T00:00:00",
          "2021-05-26T00:00:00",
          "2021-05-24T00:00:00",
          "2021-05-25T00:00:00",
          "2021-05-26T00:00:00",
          "2021-05-26T00:00:00",
          "2021-05-25T00:00:00",
          "2021-05-25T00:00:00",
          "2021-05-24T00:00:00",
          "2021-05-11T00:00:00",
          "2021-05-23T00:00:00",
          "2021-05-23T00:00:00",
          "2021-05-26T00:00:00",
          "2021-05-26T00:00:00",
          "2021-05-27T00:00:00",
          "2021-05-27T00:00:00",
          "2021-05-26T00:00:00",
          "2021-05-27T00:00:00",
          "2021-05-22T00:00:00",
          "2021-05-23T00:00:00",
          "2021-05-23T00:00:00",
          "2021-05-25T00:00:00",
          "2021-05-21T00:00:00",
          "2021-05-25T00:00:00",
          "2021-05-26T00:00:00",
          "2021-05-27T00:00:00",
          "2021-05-28T00:00:00",
          "2021-05-29T00:00:00",
          "2021-05-26T00:00:00",
          "2021-05-26T00:00:00",
          "2021-05-26T00:00:00",
          "2021-05-27T00:00:00",
          "2021-05-28T00:00:00",
          "2021-05-29T00:00:00",
          "2021-05-28T00:00:00",
          "2021-05-12T00:00:00",
          "2021-05-11T00:00:00",
          "2021-05-15T00:00:00",
          "2021-05-19T00:00:00",
          "2021-05-28T00:00:00",
          "2021-05-23T00:00:00",
          "2021-05-20T00:00:00",
          "2021-05-26T00:00:00",
          "2021-05-27T00:00:00",
          "2021-05-21T00:00:00",
          "2021-05-28T00:00:00",
          "2021-05-26T00:00:00",
          "2021-05-27T00:00:00",
          "2021-05-28T00:00:00",
          "2021-05-26T00:00:00",
          "2021-05-26T00:00:00",
          "2021-05-26T00:00:00",
          "2021-05-26T00:00:00",
          "2021-05-27T00:00:00",
          "2021-05-28T00:00:00",
          "2021-05-27T00:00:00",
          "2021-05-27T00:00:00",
          "2021-05-28T00:00:00",
          "2021-05-28T00:00:00",
          "2021-05-27T00:00:00",
          "2021-05-28T00:00:00",
          "2021-05-26T00:00:00",
          "2021-05-25T00:00:00",
          "2021-05-26T00:00:00",
          "2021-05-27T00:00:00",
          "2021-05-28T00:00:00",
          "2021-05-23T00:00:00",
          "2021-05-26T00:00:00",
          "2021-05-27T00:00:00",
          "2021-05-27T00:00:00",
          "2021-05-27T00:00:00",
          "2021-05-27T00:00:00",
          "2021-05-27T00:00:00",
          "2021-05-27T00:00:00",
          "2021-05-27T00:00:00",
          "2021-05-23T00:00:00",
          "2021-05-28T00:00:00",
          "2021-05-28T00:00:00",
          "2021-05-28T00:00:00",
          "2021-05-23T00:00:00",
          "2021-05-18T00:00:00",
          "2021-05-23T00:00:00",
          "2021-05-26T00:00:00",
          "2021-05-26T00:00:00",
          "2021-05-24T00:00:00",
          "2021-05-24T00:00:00",
          "2021-05-24T00:00:00",
          "2021-05-25T00:00:00",
          "2021-05-30T00:00:00",
          "2021-05-30T00:00:00",
          "2021-05-31T00:00:00",
          "2021-05-25T00:00:00",
          "2021-05-25T00:00:00",
          "2021-05-25T00:00:00",
          "2021-05-27T00:00:00",
          "2021-05-27T00:00:00",
          "2021-05-28T00:00:00",
          "2021-05-25T00:00:00",
          "2021-05-30T00:00:00",
          "2021-05-28T00:00:00",
          "2021-05-31T00:00:00",
          "2021-05-27T00:00:00",
          "2021-05-26T00:00:00",
          "2021-05-26T00:00:00"
         ],
         "xaxis": "x",
         "xbingroup": "x",
         "y": [
          "2021-05-26T00:00:00",
          "2021-05-26T00:00:00",
          "2021-05-26T00:00:00",
          "2021-05-26T00:00:00",
          "2021-05-24T00:00:00",
          "2021-05-24T00:00:00",
          "2021-05-26T00:00:00",
          "2021-05-24T00:00:00",
          "2021-05-26T00:00:00",
          "2021-05-26T00:00:00",
          "2021-05-24T00:00:00",
          "2021-05-24T00:00:00",
          "2021-05-25T00:00:00",
          "2021-05-26T00:00:00",
          "2021-05-24T00:00:00",
          "2021-05-24T00:00:00",
          "2021-05-24T00:00:00",
          "2021-05-24T00:00:00",
          "2021-05-24T00:00:00",
          "2021-05-24T00:00:00",
          "2021-05-26T00:00:00",
          "2021-05-24T00:00:00",
          "2021-05-26T00:00:00",
          "2021-05-25T00:00:00",
          "2021-05-25T00:00:00",
          "2021-05-25T00:00:00",
          "2021-05-25T00:00:00",
          "2021-05-24T00:00:00",
          "2021-05-24T00:00:00",
          "2021-05-24T00:00:00",
          "2021-05-24T00:00:00",
          "2021-05-24T00:00:00",
          "2021-05-24T00:00:00",
          "2021-05-24T00:00:00",
          "2021-05-25T00:00:00",
          "2021-05-26T00:00:00",
          "2021-05-26T00:00:00",
          "2021-05-26T00:00:00",
          "2021-05-26T00:00:00",
          "2021-05-26T00:00:00",
          "2021-05-26T00:00:00",
          "2021-05-24T00:00:00",
          "2021-05-24T00:00:00",
          "2021-05-24T00:00:00",
          "2021-05-22T00:00:00",
          "2021-05-18T00:00:00",
          "2021-05-26T00:00:00",
          "2021-05-26T00:00:00",
          "2021-05-26T00:00:00",
          "2021-05-25T00:00:00",
          "2021-05-24T00:00:00",
          "2021-05-26T00:00:00",
          "2021-05-26T00:00:00",
          "2021-05-26T00:00:00",
          "2021-05-26T00:00:00",
          "2021-05-26T00:00:00",
          "2021-05-26T00:00:00",
          "2021-05-26T00:00:00",
          "2021-05-26T00:00:00",
          "2021-05-26T00:00:00",
          "2021-05-27T00:00:00",
          "2021-05-26T00:00:00",
          "2021-05-26T00:00:00",
          "2021-05-26T00:00:00",
          "2021-05-26T00:00:00",
          "2021-05-26T00:00:00",
          "2021-05-26T00:00:00",
          "2021-05-26T00:00:00",
          "2021-05-26T00:00:00",
          "2021-05-26T00:00:00",
          "2021-05-26T00:00:00",
          "2021-05-26T00:00:00",
          "2021-05-26T00:00:00",
          "2021-05-26T00:00:00",
          "2021-05-26T00:00:00",
          "2021-05-26T00:00:00",
          "2021-05-26T00:00:00",
          "2021-05-26T00:00:00",
          "2021-05-26T00:00:00",
          "2021-05-26T00:00:00",
          "2021-05-27T00:00:00",
          "2021-05-27T00:00:00",
          "2021-05-27T00:00:00",
          "2021-05-27T00:00:00",
          "2021-05-27T00:00:00",
          "2021-05-27T00:00:00",
          "2021-05-27T00:00:00",
          "2021-05-27T00:00:00",
          "2021-05-27T00:00:00",
          "2021-05-27T00:00:00",
          "2021-05-27T00:00:00",
          "2021-05-27T00:00:00",
          "2021-05-27T00:00:00",
          "2021-05-27T00:00:00",
          "2021-05-27T00:00:00",
          "2021-05-27T00:00:00",
          "2021-05-27T00:00:00",
          "2021-05-27T00:00:00",
          "2021-05-27T00:00:00",
          "2021-05-27T00:00:00",
          "2021-05-27T00:00:00",
          "2021-05-27T00:00:00",
          "2021-05-27T00:00:00",
          "2021-05-27T00:00:00",
          "2021-05-27T00:00:00",
          "2021-05-27T00:00:00",
          "2021-05-27T00:00:00",
          "2021-05-27T00:00:00",
          "2021-05-27T00:00:00",
          "2021-05-27T00:00:00",
          "2021-05-27T00:00:00",
          "2021-05-27T00:00:00",
          "2021-05-27T00:00:00",
          "2021-05-27T00:00:00",
          "2021-05-27T00:00:00",
          "2021-05-27T00:00:00",
          "2021-05-27T00:00:00",
          "2021-05-28T00:00:00",
          "2021-05-28T00:00:00",
          "2021-05-28T00:00:00",
          "2021-05-28T00:00:00",
          "2021-05-28T00:00:00",
          "2021-05-28T00:00:00",
          "2021-05-28T00:00:00",
          "2021-05-28T00:00:00",
          "2021-05-28T00:00:00",
          "2021-05-28T00:00:00",
          "2021-05-28T00:00:00",
          "2021-05-28T00:00:00",
          "2021-05-28T00:00:00",
          "2021-05-28T00:00:00",
          "2021-05-28T00:00:00",
          "2021-05-28T00:00:00",
          "2021-05-28T00:00:00",
          "2021-05-28T00:00:00",
          "2021-05-28T00:00:00",
          "2021-05-29T00:00:00",
          "2021-05-28T00:00:00",
          "2021-05-28T00:00:00",
          "2021-05-28T00:00:00",
          "2021-05-28T00:00:00",
          "2021-05-28T00:00:00",
          "2021-05-28T00:00:00",
          "2021-05-28T00:00:00",
          "2021-05-28T00:00:00",
          "2021-05-28T00:00:00",
          "2021-05-28T00:00:00",
          "2021-05-28T00:00:00",
          "2021-05-28T00:00:00",
          "2021-05-28T00:00:00",
          "2021-05-28T00:00:00",
          "2021-05-28T00:00:00",
          "2021-05-29T00:00:00",
          "2021-05-29T00:00:00",
          "2021-05-29T00:00:00",
          "2021-05-29T00:00:00",
          "2021-05-29T00:00:00",
          "2021-05-29T00:00:00",
          "2021-05-29T00:00:00",
          "2021-05-29T00:00:00",
          "2021-05-29T00:00:00",
          "2021-05-29T00:00:00",
          "2021-05-29T00:00:00",
          "2021-05-29T00:00:00",
          "2021-05-29T00:00:00",
          "2021-05-29T00:00:00",
          "2021-05-29T00:00:00",
          "2021-05-29T00:00:00",
          "2021-05-29T00:00:00",
          "2021-05-29T00:00:00",
          "2021-05-29T00:00:00",
          "2021-05-29T00:00:00",
          "2021-05-29T00:00:00",
          "2021-05-29T00:00:00",
          "2021-05-30T00:00:00",
          "2021-05-30T00:00:00",
          "2021-05-30T00:00:00",
          "2021-05-30T00:00:00",
          "2021-05-30T00:00:00",
          "2021-05-30T00:00:00",
          "2021-05-30T00:00:00",
          "2021-05-30T00:00:00",
          "2021-05-30T00:00:00",
          "2021-05-30T00:00:00",
          "2021-05-30T00:00:00",
          "2021-05-30T00:00:00",
          "2021-05-30T00:00:00",
          "2021-05-30T00:00:00",
          "2021-05-30T00:00:00",
          "2021-05-30T00:00:00",
          "2021-05-30T00:00:00",
          "2021-05-30T00:00:00",
          "2021-05-30T00:00:00",
          "2021-05-30T00:00:00",
          "2021-05-30T00:00:00",
          "2021-05-30T00:00:00",
          "2021-05-30T00:00:00",
          "2021-05-30T00:00:00",
          "2021-05-30T00:00:00",
          "2021-05-30T00:00:00",
          "2021-05-30T00:00:00",
          "2021-05-30T00:00:00",
          "2021-05-30T00:00:00",
          "2021-05-30T00:00:00",
          "2021-05-30T00:00:00",
          "2021-05-30T00:00:00",
          "2021-05-30T00:00:00",
          "2021-05-30T00:00:00",
          "2021-05-30T00:00:00",
          "2021-05-30T00:00:00",
          "2021-05-30T00:00:00",
          "2021-05-30T00:00:00",
          "2021-05-30T00:00:00",
          "2021-05-30T00:00:00",
          "2021-05-30T00:00:00",
          "2021-05-30T00:00:00",
          "2021-05-30T00:00:00",
          "2021-05-30T00:00:00",
          "2021-05-30T00:00:00",
          "2021-05-30T00:00:00",
          "2021-05-30T00:00:00",
          "2021-05-30T00:00:00",
          "2021-05-30T00:00:00",
          "2021-05-30T00:00:00",
          "2021-05-30T00:00:00",
          "2021-05-30T00:00:00",
          "2021-05-30T00:00:00",
          "2021-05-30T00:00:00",
          "2021-05-30T00:00:00",
          "2021-05-30T00:00:00",
          "2021-05-30T00:00:00",
          "2021-05-30T00:00:00",
          "2021-05-30T00:00:00",
          "2021-05-30T00:00:00",
          "2021-05-30T00:00:00",
          "2021-05-30T00:00:00",
          "2021-05-30T00:00:00",
          "2021-05-30T00:00:00",
          "2021-05-30T00:00:00",
          "2021-05-30T00:00:00",
          "2021-05-30T00:00:00",
          "2021-05-30T00:00:00",
          "2021-05-30T00:00:00",
          "2021-05-30T00:00:00",
          "2021-05-30T00:00:00",
          "2021-05-30T00:00:00",
          "2021-05-30T00:00:00",
          "2021-05-30T00:00:00",
          "2021-05-30T00:00:00",
          "2021-05-30T00:00:00",
          "2021-05-30T00:00:00",
          "2021-05-30T00:00:00",
          "2021-05-30T00:00:00",
          "2021-05-30T00:00:00",
          "2021-05-30T00:00:00",
          "2021-05-30T00:00:00",
          "2021-05-30T00:00:00",
          "2021-05-30T00:00:00",
          "2021-05-30T00:00:00",
          "2021-05-30T00:00:00",
          "2021-05-30T00:00:00",
          "2021-05-30T00:00:00",
          "2021-05-30T00:00:00",
          "2021-05-30T00:00:00",
          "2021-05-30T00:00:00",
          "2021-05-30T00:00:00",
          "2021-05-30T00:00:00",
          "2021-05-30T00:00:00",
          "2021-05-30T00:00:00",
          "2021-05-31T00:00:00",
          "2021-05-30T00:00:00",
          "2021-05-30T00:00:00",
          "2021-05-31T00:00:00",
          "2021-05-31T00:00:00",
          "2021-05-31T00:00:00",
          "2021-05-31T00:00:00",
          "2021-05-31T00:00:00",
          "2021-05-31T00:00:00",
          "2021-05-31T00:00:00",
          "2021-05-31T00:00:00",
          "2021-05-31T00:00:00",
          "2021-05-31T00:00:00",
          "2021-05-31T00:00:00",
          "2021-05-31T00:00:00",
          "2021-05-31T00:00:00",
          "2021-05-31T00:00:00",
          "2021-05-31T00:00:00",
          "2021-05-31T00:00:00",
          "2021-05-31T00:00:00",
          "2021-05-31T00:00:00",
          "2021-05-31T00:00:00",
          "2021-05-31T00:00:00",
          "2021-05-31T00:00:00",
          "2021-05-31T00:00:00",
          "2021-05-31T00:00:00",
          "2021-05-31T00:00:00",
          "2021-05-31T00:00:00",
          "2021-05-31T00:00:00",
          "2021-05-31T00:00:00",
          "2021-05-31T00:00:00",
          "2021-05-31T00:00:00",
          "2021-05-31T00:00:00",
          "2021-05-31T00:00:00",
          "2021-05-31T00:00:00",
          "2021-05-31T00:00:00",
          "2021-05-31T00:00:00",
          "2021-05-31T00:00:00",
          "2021-05-31T00:00:00",
          "2021-05-31T00:00:00",
          "2021-05-31T00:00:00",
          "2021-05-31T00:00:00",
          "2021-05-31T00:00:00",
          "2021-05-31T00:00:00",
          "2021-05-31T00:00:00",
          "2021-05-31T00:00:00",
          "2021-05-31T00:00:00",
          "2021-05-31T00:00:00",
          "2021-05-31T00:00:00",
          "2021-05-31T00:00:00",
          "2021-05-31T00:00:00",
          "2021-05-31T00:00:00",
          "2021-05-31T00:00:00",
          "2021-05-31T00:00:00",
          "2021-05-31T00:00:00",
          "2021-05-31T00:00:00",
          "2021-05-31T00:00:00",
          "2021-05-31T00:00:00",
          "2021-05-31T00:00:00",
          "2021-05-31T00:00:00",
          "2021-05-31T00:00:00",
          "2021-05-31T00:00:00",
          "2021-05-31T00:00:00",
          "2021-05-31T00:00:00",
          "2021-05-31T00:00:00",
          "2021-05-31T00:00:00",
          "2021-06-01T00:00:00",
          "2021-06-01T00:00:00",
          "2021-06-01T00:00:00",
          "2021-06-01T00:00:00",
          "2021-06-01T00:00:00",
          "2021-06-01T00:00:00",
          "2021-06-01T00:00:00",
          "2021-06-01T00:00:00",
          "2021-06-01T00:00:00",
          "2021-06-01T00:00:00",
          "2021-06-01T00:00:00",
          "2021-06-01T00:00:00",
          "2021-06-01T00:00:00",
          "2021-06-01T00:00:00",
          "2021-06-01T00:00:00",
          "2021-06-01T00:00:00",
          "2021-06-02T00:00:00",
          "2021-06-02T00:00:00",
          "2021-06-02T00:00:00",
          "2021-06-02T00:00:00",
          "2021-06-02T00:00:00",
          "2021-06-02T00:00:00",
          "2021-06-02T00:00:00",
          "2021-06-02T00:00:00",
          "2021-06-02T00:00:00",
          "2021-06-02T00:00:00",
          "2021-06-02T00:00:00",
          "2021-06-02T00:00:00",
          "2021-06-02T00:00:00"
         ],
         "yaxis": "y",
         "ybingroup": "y"
        }
       ],
       "layout": {
        "annotations": [
         {
          "ax": 10,
          "ay": 20,
          "text": "lockdown",
          "x": "2021-05-27",
          "xanchor": "left",
          "y": "2021-05-27"
         }
        ],
        "coloraxis": {
         "colorbar": {
          "title": {
           "text": "count"
          }
         },
         "colorscale": [
          [
           0,
           "#440154"
          ],
          [
           0.1111111111111111,
           "#482878"
          ],
          [
           0.2222222222222222,
           "#3e4989"
          ],
          [
           0.3333333333333333,
           "#31688e"
          ],
          [
           0.4444444444444444,
           "#26828e"
          ],
          [
           0.5555555555555556,
           "#1f9e89"
          ],
          [
           0.6666666666666666,
           "#35b779"
          ],
          [
           0.7777777777777778,
           "#6ece58"
          ],
          [
           0.8888888888888888,
           "#b5de2b"
          ],
          [
           1,
           "#fde725"
          ]
         ]
        },
        "legend": {
         "tracegroupgap": 0
        },
        "plot_bgcolor": "#440154",
        "shapes": [
         {
          "type": "line",
          "x0": "2021-05-27T12:00:00",
          "x1": "2021-05-27T12:00:00",
          "xref": "x",
          "y0": 0,
          "y1": 1,
          "yref": "y domain"
         },
         {
          "type": "line",
          "x0": 0,
          "x1": 1,
          "xref": "x domain",
          "y0": "2021-05-27T12:00:00",
          "y1": "2021-05-27T12:00:00",
          "yref": "y"
         }
        ],
        "template": {
         "data": {
          "bar": [
           {
            "error_x": {
             "color": "#f2f5fa"
            },
            "error_y": {
             "color": "#f2f5fa"
            },
            "marker": {
             "line": {
              "color": "rgb(17,17,17)",
              "width": 0.5
             }
            },
            "type": "bar"
           }
          ],
          "barpolar": [
           {
            "marker": {
             "line": {
              "color": "rgb(17,17,17)",
              "width": 0.5
             }
            },
            "type": "barpolar"
           }
          ],
          "carpet": [
           {
            "aaxis": {
             "endlinecolor": "#A2B1C6",
             "gridcolor": "#506784",
             "linecolor": "#506784",
             "minorgridcolor": "#506784",
             "startlinecolor": "#A2B1C6"
            },
            "baxis": {
             "endlinecolor": "#A2B1C6",
             "gridcolor": "#506784",
             "linecolor": "#506784",
             "minorgridcolor": "#506784",
             "startlinecolor": "#A2B1C6"
            },
            "type": "carpet"
           }
          ],
          "choropleth": [
           {
            "colorbar": {
             "outlinewidth": 0,
             "ticks": ""
            },
            "type": "choropleth"
           }
          ],
          "contour": [
           {
            "colorbar": {
             "outlinewidth": 0,
             "ticks": ""
            },
            "colorscale": [
             [
              0,
              "#0d0887"
             ],
             [
              0.1111111111111111,
              "#46039f"
             ],
             [
              0.2222222222222222,
              "#7201a8"
             ],
             [
              0.3333333333333333,
              "#9c179e"
             ],
             [
              0.4444444444444444,
              "#bd3786"
             ],
             [
              0.5555555555555556,
              "#d8576b"
             ],
             [
              0.6666666666666666,
              "#ed7953"
             ],
             [
              0.7777777777777778,
              "#fb9f3a"
             ],
             [
              0.8888888888888888,
              "#fdca26"
             ],
             [
              1,
              "#f0f921"
             ]
            ],
            "type": "contour"
           }
          ],
          "contourcarpet": [
           {
            "colorbar": {
             "outlinewidth": 0,
             "ticks": ""
            },
            "type": "contourcarpet"
           }
          ],
          "heatmap": [
           {
            "colorbar": {
             "outlinewidth": 0,
             "ticks": ""
            },
            "colorscale": [
             [
              0,
              "#0d0887"
             ],
             [
              0.1111111111111111,
              "#46039f"
             ],
             [
              0.2222222222222222,
              "#7201a8"
             ],
             [
              0.3333333333333333,
              "#9c179e"
             ],
             [
              0.4444444444444444,
              "#bd3786"
             ],
             [
              0.5555555555555556,
              "#d8576b"
             ],
             [
              0.6666666666666666,
              "#ed7953"
             ],
             [
              0.7777777777777778,
              "#fb9f3a"
             ],
             [
              0.8888888888888888,
              "#fdca26"
             ],
             [
              1,
              "#f0f921"
             ]
            ],
            "type": "heatmap"
           }
          ],
          "heatmapgl": [
           {
            "colorbar": {
             "outlinewidth": 0,
             "ticks": ""
            },
            "colorscale": [
             [
              0,
              "#0d0887"
             ],
             [
              0.1111111111111111,
              "#46039f"
             ],
             [
              0.2222222222222222,
              "#7201a8"
             ],
             [
              0.3333333333333333,
              "#9c179e"
             ],
             [
              0.4444444444444444,
              "#bd3786"
             ],
             [
              0.5555555555555556,
              "#d8576b"
             ],
             [
              0.6666666666666666,
              "#ed7953"
             ],
             [
              0.7777777777777778,
              "#fb9f3a"
             ],
             [
              0.8888888888888888,
              "#fdca26"
             ],
             [
              1,
              "#f0f921"
             ]
            ],
            "type": "heatmapgl"
           }
          ],
          "histogram": [
           {
            "marker": {
             "colorbar": {
              "outlinewidth": 0,
              "ticks": ""
             }
            },
            "type": "histogram"
           }
          ],
          "histogram2d": [
           {
            "colorbar": {
             "outlinewidth": 0,
             "ticks": ""
            },
            "colorscale": [
             [
              0,
              "#0d0887"
             ],
             [
              0.1111111111111111,
              "#46039f"
             ],
             [
              0.2222222222222222,
              "#7201a8"
             ],
             [
              0.3333333333333333,
              "#9c179e"
             ],
             [
              0.4444444444444444,
              "#bd3786"
             ],
             [
              0.5555555555555556,
              "#d8576b"
             ],
             [
              0.6666666666666666,
              "#ed7953"
             ],
             [
              0.7777777777777778,
              "#fb9f3a"
             ],
             [
              0.8888888888888888,
              "#fdca26"
             ],
             [
              1,
              "#f0f921"
             ]
            ],
            "type": "histogram2d"
           }
          ],
          "histogram2dcontour": [
           {
            "colorbar": {
             "outlinewidth": 0,
             "ticks": ""
            },
            "colorscale": [
             [
              0,
              "#0d0887"
             ],
             [
              0.1111111111111111,
              "#46039f"
             ],
             [
              0.2222222222222222,
              "#7201a8"
             ],
             [
              0.3333333333333333,
              "#9c179e"
             ],
             [
              0.4444444444444444,
              "#bd3786"
             ],
             [
              0.5555555555555556,
              "#d8576b"
             ],
             [
              0.6666666666666666,
              "#ed7953"
             ],
             [
              0.7777777777777778,
              "#fb9f3a"
             ],
             [
              0.8888888888888888,
              "#fdca26"
             ],
             [
              1,
              "#f0f921"
             ]
            ],
            "type": "histogram2dcontour"
           }
          ],
          "mesh3d": [
           {
            "colorbar": {
             "outlinewidth": 0,
             "ticks": ""
            },
            "type": "mesh3d"
           }
          ],
          "parcoords": [
           {
            "line": {
             "colorbar": {
              "outlinewidth": 0,
              "ticks": ""
             }
            },
            "type": "parcoords"
           }
          ],
          "pie": [
           {
            "automargin": true,
            "type": "pie"
           }
          ],
          "scatter": [
           {
            "marker": {
             "line": {
              "color": "#283442"
             }
            },
            "type": "scatter"
           }
          ],
          "scatter3d": [
           {
            "line": {
             "colorbar": {
              "outlinewidth": 0,
              "ticks": ""
             }
            },
            "marker": {
             "colorbar": {
              "outlinewidth": 0,
              "ticks": ""
             }
            },
            "type": "scatter3d"
           }
          ],
          "scattercarpet": [
           {
            "marker": {
             "colorbar": {
              "outlinewidth": 0,
              "ticks": ""
             }
            },
            "type": "scattercarpet"
           }
          ],
          "scattergeo": [
           {
            "marker": {
             "colorbar": {
              "outlinewidth": 0,
              "ticks": ""
             }
            },
            "type": "scattergeo"
           }
          ],
          "scattergl": [
           {
            "marker": {
             "line": {
              "color": "#283442"
             }
            },
            "type": "scattergl"
           }
          ],
          "scattermapbox": [
           {
            "marker": {
             "colorbar": {
              "outlinewidth": 0,
              "ticks": ""
             }
            },
            "type": "scattermapbox"
           }
          ],
          "scatterpolar": [
           {
            "marker": {
             "colorbar": {
              "outlinewidth": 0,
              "ticks": ""
             }
            },
            "type": "scatterpolar"
           }
          ],
          "scatterpolargl": [
           {
            "marker": {
             "colorbar": {
              "outlinewidth": 0,
              "ticks": ""
             }
            },
            "type": "scatterpolargl"
           }
          ],
          "scatterternary": [
           {
            "marker": {
             "colorbar": {
              "outlinewidth": 0,
              "ticks": ""
             }
            },
            "type": "scatterternary"
           }
          ],
          "surface": [
           {
            "colorbar": {
             "outlinewidth": 0,
             "ticks": ""
            },
            "colorscale": [
             [
              0,
              "#0d0887"
             ],
             [
              0.1111111111111111,
              "#46039f"
             ],
             [
              0.2222222222222222,
              "#7201a8"
             ],
             [
              0.3333333333333333,
              "#9c179e"
             ],
             [
              0.4444444444444444,
              "#bd3786"
             ],
             [
              0.5555555555555556,
              "#d8576b"
             ],
             [
              0.6666666666666666,
              "#ed7953"
             ],
             [
              0.7777777777777778,
              "#fb9f3a"
             ],
             [
              0.8888888888888888,
              "#fdca26"
             ],
             [
              1,
              "#f0f921"
             ]
            ],
            "type": "surface"
           }
          ],
          "table": [
           {
            "cells": {
             "fill": {
              "color": "#506784"
             },
             "line": {
              "color": "rgb(17,17,17)"
             }
            },
            "header": {
             "fill": {
              "color": "#2a3f5f"
             },
             "line": {
              "color": "rgb(17,17,17)"
             }
            },
            "type": "table"
           }
          ]
         },
         "layout": {
          "annotationdefaults": {
           "arrowcolor": "#f2f5fa",
           "arrowhead": 0,
           "arrowwidth": 1
          },
          "autotypenumbers": "strict",
          "coloraxis": {
           "colorbar": {
            "outlinewidth": 0,
            "ticks": ""
           }
          },
          "colorscale": {
           "diverging": [
            [
             0,
             "#8e0152"
            ],
            [
             0.1,
             "#c51b7d"
            ],
            [
             0.2,
             "#de77ae"
            ],
            [
             0.3,
             "#f1b6da"
            ],
            [
             0.4,
             "#fde0ef"
            ],
            [
             0.5,
             "#f7f7f7"
            ],
            [
             0.6,
             "#e6f5d0"
            ],
            [
             0.7,
             "#b8e186"
            ],
            [
             0.8,
             "#7fbc41"
            ],
            [
             0.9,
             "#4d9221"
            ],
            [
             1,
             "#276419"
            ]
           ],
           "sequential": [
            [
             0,
             "#0d0887"
            ],
            [
             0.1111111111111111,
             "#46039f"
            ],
            [
             0.2222222222222222,
             "#7201a8"
            ],
            [
             0.3333333333333333,
             "#9c179e"
            ],
            [
             0.4444444444444444,
             "#bd3786"
            ],
            [
             0.5555555555555556,
             "#d8576b"
            ],
            [
             0.6666666666666666,
             "#ed7953"
            ],
            [
             0.7777777777777778,
             "#fb9f3a"
            ],
            [
             0.8888888888888888,
             "#fdca26"
            ],
            [
             1,
             "#f0f921"
            ]
           ],
           "sequentialminus": [
            [
             0,
             "#0d0887"
            ],
            [
             0.1111111111111111,
             "#46039f"
            ],
            [
             0.2222222222222222,
             "#7201a8"
            ],
            [
             0.3333333333333333,
             "#9c179e"
            ],
            [
             0.4444444444444444,
             "#bd3786"
            ],
            [
             0.5555555555555556,
             "#d8576b"
            ],
            [
             0.6666666666666666,
             "#ed7953"
            ],
            [
             0.7777777777777778,
             "#fb9f3a"
            ],
            [
             0.8888888888888888,
             "#fdca26"
            ],
            [
             1,
             "#f0f921"
            ]
           ]
          },
          "colorway": [
           "#636efa",
           "#EF553B",
           "#00cc96",
           "#ab63fa",
           "#FFA15A",
           "#19d3f3",
           "#FF6692",
           "#B6E880",
           "#FF97FF",
           "#FECB52"
          ],
          "font": {
           "color": "#f2f5fa"
          },
          "geo": {
           "bgcolor": "rgb(17,17,17)",
           "lakecolor": "rgb(17,17,17)",
           "landcolor": "rgb(17,17,17)",
           "showlakes": true,
           "showland": true,
           "subunitcolor": "#506784"
          },
          "hoverlabel": {
           "align": "left"
          },
          "hovermode": "closest",
          "mapbox": {
           "style": "dark"
          },
          "paper_bgcolor": "rgb(17,17,17)",
          "plot_bgcolor": "rgb(17,17,17)",
          "polar": {
           "angularaxis": {
            "gridcolor": "#506784",
            "linecolor": "#506784",
            "ticks": ""
           },
           "bgcolor": "rgb(17,17,17)",
           "radialaxis": {
            "gridcolor": "#506784",
            "linecolor": "#506784",
            "ticks": ""
           }
          },
          "scene": {
           "xaxis": {
            "backgroundcolor": "rgb(17,17,17)",
            "gridcolor": "#506784",
            "gridwidth": 2,
            "linecolor": "#506784",
            "showbackground": true,
            "ticks": "",
            "zerolinecolor": "#C8D4E3"
           },
           "yaxis": {
            "backgroundcolor": "rgb(17,17,17)",
            "gridcolor": "#506784",
            "gridwidth": 2,
            "linecolor": "#506784",
            "showbackground": true,
            "ticks": "",
            "zerolinecolor": "#C8D4E3"
           },
           "zaxis": {
            "backgroundcolor": "rgb(17,17,17)",
            "gridcolor": "#506784",
            "gridwidth": 2,
            "linecolor": "#506784",
            "showbackground": true,
            "ticks": "",
            "zerolinecolor": "#C8D4E3"
           }
          },
          "shapedefaults": {
           "line": {
            "color": "#f2f5fa"
           }
          },
          "sliderdefaults": {
           "bgcolor": "#C8D4E3",
           "bordercolor": "rgb(17,17,17)",
           "borderwidth": 1,
           "tickwidth": 0
          },
          "ternary": {
           "aaxis": {
            "gridcolor": "#506784",
            "linecolor": "#506784",
            "ticks": ""
           },
           "baxis": {
            "gridcolor": "#506784",
            "linecolor": "#506784",
            "ticks": ""
           },
           "bgcolor": "rgb(17,17,17)",
           "caxis": {
            "gridcolor": "#506784",
            "linecolor": "#506784",
            "ticks": ""
           }
          },
          "title": {
           "x": 0.05
          },
          "updatemenudefaults": {
           "bgcolor": "#506784",
           "borderwidth": 0
          },
          "xaxis": {
           "automargin": true,
           "gridcolor": "#283442",
           "linecolor": "#506784",
           "ticks": "",
           "title": {
            "standoff": 15
           },
           "zerolinecolor": "#283442",
           "zerolinewidth": 2
          },
          "yaxis": {
           "automargin": true,
           "gridcolor": "#283442",
           "linecolor": "#506784",
           "ticks": "",
           "title": {
            "standoff": 15
           },
           "zerolinecolor": "#283442",
           "zerolinewidth": 2
          }
         }
        },
        "title": {
         "text": "Exposure site counts by date added"
        },
        "width": 580,
        "xaxis": {
         "anchor": "y",
         "domain": [
          0,
          1
         ],
         "nticks": 11,
         "range": [
          "2021-05-10T12:00:00",
          "2021-06-02T12:00:00"
         ],
         "showgrid": false,
         "side": "bottom",
         "tickangle": 60,
         "title": {
          "text": "Exposure Date"
         }
        },
        "yaxis": {
         "anchor": "x",
         "domain": [
          0,
          1
         ],
         "range": [
          "2021-05-10T12:00:00",
          "2021-06-02T12:00:00"
         ],
         "showgrid": false,
         "title": {
          "text": "Date Added"
         }
        }
       }
      },
      "text/html": [
       "<div>                            <div id=\"a3b0b728-4e57-433f-9e87-f6d3f7d44623\" class=\"plotly-graph-div\" style=\"height:525px; width:580px;\"></div>            <script type=\"text/javascript\">                require([\"plotly\"], function(Plotly) {                    window.PLOTLYENV=window.PLOTLYENV || {};                                    if (document.getElementById(\"a3b0b728-4e57-433f-9e87-f6d3f7d44623\")) {                    Plotly.newPlot(                        \"a3b0b728-4e57-433f-9e87-f6d3f7d44623\",                        [{\"coloraxis\": \"coloraxis\", \"hovertemplate\": \"Exposure_date_dtm=%{x}<br>Added_date_dtm=%{y}<br>count=%{z}<extra></extra>\", \"name\": \"\", \"nbinsx\": 23, \"nbinsy\": 23, \"type\": \"histogram2d\", \"x\": [\"2021-05-24T00:00:00\", \"2021-05-23T00:00:00\", \"2021-05-23T00:00:00\", \"2021-05-22T00:00:00\", \"2021-05-23T00:00:00\", \"2021-05-21T00:00:00\", \"2021-05-21T00:00:00\", \"2021-05-22T00:00:00\", \"2021-05-22T00:00:00\", \"2021-05-22T00:00:00\", \"2021-05-23T00:00:00\", \"2021-05-23T00:00:00\", \"2021-05-19T00:00:00\", \"2021-05-20T00:00:00\", \"2021-05-22T00:00:00\", \"2021-05-22T00:00:00\", \"2021-05-17T00:00:00\", \"2021-05-19T00:00:00\", \"2021-05-18T00:00:00\", \"2021-05-23T00:00:00\", \"2021-05-20T00:00:00\", \"2021-05-22T00:00:00\", \"2021-05-22T00:00:00\", \"2021-05-20T00:00:00\", \"2021-05-19T00:00:00\", \"2021-05-19T00:00:00\", \"2021-05-19T00:00:00\", \"2021-05-20T00:00:00\", \"2021-05-20T00:00:00\", \"2021-05-20T00:00:00\", \"2021-05-20T00:00:00\", \"2021-05-20T00:00:00\", \"2021-05-20T00:00:00\", \"2021-05-21T00:00:00\", \"2021-05-20T00:00:00\", \"2021-05-24T00:00:00\", \"2021-05-24T00:00:00\", \"2021-05-21T00:00:00\", \"2021-05-22T00:00:00\", \"2021-05-22T00:00:00\", \"2021-05-23T00:00:00\", \"2021-05-23T00:00:00\", \"2021-05-23T00:00:00\", \"2021-05-21T00:00:00\", \"2021-05-22T00:00:00\", \"2021-05-18T00:00:00\", \"2021-05-23T00:00:00\", \"2021-05-23T00:00:00\", \"2021-05-23T00:00:00\", \"2021-05-17T00:00:00\", \"2021-05-20T00:00:00\", \"2021-05-22T00:00:00\", \"2021-05-18T00:00:00\", \"2021-05-20T00:00:00\", \"2021-05-21T00:00:00\", \"2021-05-22T00:00:00\", \"2021-05-23T00:00:00\", \"2021-05-24T00:00:00\", \"2021-05-25T00:00:00\", \"2021-05-22T00:00:00\", \"2021-05-22T00:00:00\", \"2021-05-22T00:00:00\", \"2021-05-23T00:00:00\", \"2021-05-23T00:00:00\", \"2021-05-23T00:00:00\", \"2021-05-24T00:00:00\", \"2021-05-23T00:00:00\", \"2021-05-21T00:00:00\", \"2021-05-24T00:00:00\", \"2021-05-21T00:00:00\", \"2021-05-23T00:00:00\", \"2021-05-22T00:00:00\", \"2021-05-22T00:00:00\", \"2021-05-23T00:00:00\", \"2021-05-21T00:00:00\", \"2021-05-23T00:00:00\", \"2021-05-22T00:00:00\", \"2021-05-21T00:00:00\", \"2021-05-20T00:00:00\", \"2021-05-23T00:00:00\", \"2021-05-23T00:00:00\", \"2021-05-14T00:00:00\", \"2021-05-14T00:00:00\", \"2021-05-20T00:00:00\", \"2021-05-14T00:00:00\", \"2021-05-24T00:00:00\", \"2021-05-24T00:00:00\", \"2021-05-24T00:00:00\", \"2021-05-24T00:00:00\", \"2021-05-24T00:00:00\", \"2021-05-23T00:00:00\", \"2021-05-21T00:00:00\", \"2021-05-24T00:00:00\", \"2021-05-25T00:00:00\", \"2021-05-22T00:00:00\", \"2021-05-23T00:00:00\", \"2021-05-22T00:00:00\", \"2021-05-22T00:00:00\", \"2021-05-23T00:00:00\", \"2021-05-24T00:00:00\", \"2021-05-22T00:00:00\", \"2021-05-22T00:00:00\", \"2021-05-22T00:00:00\", \"2021-05-21T00:00:00\", \"2021-05-22T00:00:00\", \"2021-05-23T00:00:00\", \"2021-05-23T00:00:00\", \"2021-05-23T00:00:00\", \"2021-05-25T00:00:00\", \"2021-05-24T00:00:00\", \"2021-05-24T00:00:00\", \"2021-05-23T00:00:00\", \"2021-05-25T00:00:00\", \"2021-05-25T00:00:00\", \"2021-05-13T00:00:00\", \"2021-05-24T00:00:00\", \"2021-05-25T00:00:00\", \"2021-05-23T00:00:00\", \"2021-05-25T00:00:00\", \"2021-05-24T00:00:00\", \"2021-05-25T00:00:00\", \"2021-05-24T00:00:00\", \"2021-05-23T00:00:00\", \"2021-05-22T00:00:00\", \"2021-05-22T00:00:00\", \"2021-05-22T00:00:00\", \"2021-05-25T00:00:00\", \"2021-05-24T00:00:00\", \"2021-05-18T00:00:00\", \"2021-05-23T00:00:00\", \"2021-05-23T00:00:00\", \"2021-05-23T00:00:00\", \"2021-05-22T00:00:00\", \"2021-05-24T00:00:00\", \"2021-05-25T00:00:00\", \"2021-05-26T00:00:00\", \"2021-05-27T00:00:00\", \"2021-05-22T00:00:00\", \"2021-05-23T00:00:00\", \"2021-05-25T00:00:00\", \"2021-05-26T00:00:00\", \"2021-05-27T00:00:00\", \"2021-05-18T00:00:00\", \"2021-05-18T00:00:00\", \"2021-05-18T00:00:00\", \"2021-05-25T00:00:00\", \"2021-05-19T00:00:00\", \"2021-05-19T00:00:00\", \"2021-05-19T00:00:00\", \"2021-05-19T00:00:00\", \"2021-05-19T00:00:00\", \"2021-05-19T00:00:00\", \"2021-05-25T00:00:00\", \"2021-05-23T00:00:00\", \"2021-05-21T00:00:00\", \"2021-05-22T00:00:00\", \"2021-05-23T00:00:00\", \"2021-05-25T00:00:00\", \"2021-05-25T00:00:00\", \"2021-05-24T00:00:00\", \"2021-05-22T00:00:00\", \"2021-05-22T00:00:00\", \"2021-05-25T00:00:00\", \"2021-05-24T00:00:00\", \"2021-05-25T00:00:00\", \"2021-05-23T00:00:00\", \"2021-05-27T00:00:00\", \"2021-05-27T00:00:00\", \"2021-05-28T00:00:00\", \"2021-05-26T00:00:00\", \"2021-05-26T00:00:00\", \"2021-05-26T00:00:00\", \"2021-05-26T00:00:00\", \"2021-05-26T00:00:00\", \"2021-05-21T00:00:00\", \"2021-05-26T00:00:00\", \"2021-05-22T00:00:00\", \"2021-05-26T00:00:00\", \"2021-05-24T00:00:00\", \"2021-05-19T00:00:00\", \"2021-05-25T00:00:00\", \"2021-05-23T00:00:00\", \"2021-05-25T00:00:00\", \"2021-05-25T00:00:00\", \"2021-05-19T00:00:00\", \"2021-05-25T00:00:00\", \"2021-05-26T00:00:00\", \"2021-05-27T00:00:00\", \"2021-05-17T00:00:00\", \"2021-05-18T00:00:00\", \"2021-05-22T00:00:00\", \"2021-05-25T00:00:00\", \"2021-05-25T00:00:00\", \"2021-05-25T00:00:00\", \"2021-05-22T00:00:00\", \"2021-05-25T00:00:00\", \"2021-05-22T00:00:00\", \"2021-05-22T00:00:00\", \"2021-05-22T00:00:00\", \"2021-05-22T00:00:00\", \"2021-05-19T00:00:00\", \"2021-05-22T00:00:00\", \"2021-05-18T00:00:00\", \"2021-05-25T00:00:00\", \"2021-05-26T00:00:00\", \"2021-05-24T00:00:00\", \"2021-05-17T00:00:00\", \"2021-05-18T00:00:00\", \"2021-05-20T00:00:00\", \"2021-05-21T00:00:00\", \"2021-05-24T00:00:00\", \"2021-05-26T00:00:00\", \"2021-05-27T00:00:00\", \"2021-05-28T00:00:00\", \"2021-05-12T00:00:00\", \"2021-05-13T00:00:00\", \"2021-05-20T00:00:00\", \"2021-05-26T00:00:00\", \"2021-05-26T00:00:00\", \"2021-05-26T00:00:00\", \"2021-05-27T00:00:00\", \"2021-05-24T00:00:00\", \"2021-05-19T00:00:00\", \"2021-05-22T00:00:00\", \"2021-05-26T00:00:00\", \"2021-05-22T00:00:00\", \"2021-05-24T00:00:00\", \"2021-05-17T00:00:00\", \"2021-05-17T00:00:00\", \"2021-05-21T00:00:00\", \"2021-05-23T00:00:00\", \"2021-05-23T00:00:00\", \"2021-05-27T00:00:00\", \"2021-05-26T00:00:00\", \"2021-05-27T00:00:00\", \"2021-05-26T00:00:00\", \"2021-05-26T00:00:00\", \"2021-05-22T00:00:00\", \"2021-05-23T00:00:00\", \"2021-05-22T00:00:00\", \"2021-05-22T00:00:00\", \"2021-05-23T00:00:00\", \"2021-05-26T00:00:00\", \"2021-05-24T00:00:00\", \"2021-05-23T00:00:00\", \"2021-05-22T00:00:00\", \"2021-05-24T00:00:00\", \"2021-05-24T00:00:00\", \"2021-05-23T00:00:00\", \"2021-05-22T00:00:00\", \"2021-05-24T00:00:00\", \"2021-05-22T00:00:00\", \"2021-05-15T00:00:00\", \"2021-05-15T00:00:00\", \"2021-05-22T00:00:00\", \"2021-05-23T00:00:00\", \"2021-05-20T00:00:00\", \"2021-05-18T00:00:00\", \"2021-05-26T00:00:00\", \"2021-05-26T00:00:00\", \"2021-05-26T00:00:00\", \"2021-05-26T00:00:00\", \"2021-05-24T00:00:00\", \"2021-05-25T00:00:00\", \"2021-05-26T00:00:00\", \"2021-05-26T00:00:00\", \"2021-05-25T00:00:00\", \"2021-05-25T00:00:00\", \"2021-05-24T00:00:00\", \"2021-05-11T00:00:00\", \"2021-05-23T00:00:00\", \"2021-05-23T00:00:00\", \"2021-05-26T00:00:00\", \"2021-05-26T00:00:00\", \"2021-05-27T00:00:00\", \"2021-05-27T00:00:00\", \"2021-05-26T00:00:00\", \"2021-05-27T00:00:00\", \"2021-05-22T00:00:00\", \"2021-05-23T00:00:00\", \"2021-05-23T00:00:00\", \"2021-05-25T00:00:00\", \"2021-05-21T00:00:00\", \"2021-05-25T00:00:00\", \"2021-05-26T00:00:00\", \"2021-05-27T00:00:00\", \"2021-05-28T00:00:00\", \"2021-05-29T00:00:00\", \"2021-05-26T00:00:00\", \"2021-05-26T00:00:00\", \"2021-05-26T00:00:00\", \"2021-05-27T00:00:00\", \"2021-05-28T00:00:00\", \"2021-05-29T00:00:00\", \"2021-05-28T00:00:00\", \"2021-05-12T00:00:00\", \"2021-05-11T00:00:00\", \"2021-05-15T00:00:00\", \"2021-05-19T00:00:00\", \"2021-05-28T00:00:00\", \"2021-05-23T00:00:00\", \"2021-05-20T00:00:00\", \"2021-05-26T00:00:00\", \"2021-05-27T00:00:00\", \"2021-05-21T00:00:00\", \"2021-05-28T00:00:00\", \"2021-05-26T00:00:00\", \"2021-05-27T00:00:00\", \"2021-05-28T00:00:00\", \"2021-05-26T00:00:00\", \"2021-05-26T00:00:00\", \"2021-05-26T00:00:00\", \"2021-05-26T00:00:00\", \"2021-05-27T00:00:00\", \"2021-05-28T00:00:00\", \"2021-05-27T00:00:00\", \"2021-05-27T00:00:00\", \"2021-05-28T00:00:00\", \"2021-05-28T00:00:00\", \"2021-05-27T00:00:00\", \"2021-05-28T00:00:00\", \"2021-05-26T00:00:00\", \"2021-05-25T00:00:00\", \"2021-05-26T00:00:00\", \"2021-05-27T00:00:00\", \"2021-05-28T00:00:00\", \"2021-05-23T00:00:00\", \"2021-05-26T00:00:00\", \"2021-05-27T00:00:00\", \"2021-05-27T00:00:00\", \"2021-05-27T00:00:00\", \"2021-05-27T00:00:00\", \"2021-05-27T00:00:00\", \"2021-05-27T00:00:00\", \"2021-05-27T00:00:00\", \"2021-05-23T00:00:00\", \"2021-05-28T00:00:00\", \"2021-05-28T00:00:00\", \"2021-05-28T00:00:00\", \"2021-05-23T00:00:00\", \"2021-05-18T00:00:00\", \"2021-05-23T00:00:00\", \"2021-05-26T00:00:00\", \"2021-05-26T00:00:00\", \"2021-05-24T00:00:00\", \"2021-05-24T00:00:00\", \"2021-05-24T00:00:00\", \"2021-05-25T00:00:00\", \"2021-05-30T00:00:00\", \"2021-05-30T00:00:00\", \"2021-05-31T00:00:00\", \"2021-05-25T00:00:00\", \"2021-05-25T00:00:00\", \"2021-05-25T00:00:00\", \"2021-05-27T00:00:00\", \"2021-05-27T00:00:00\", \"2021-05-28T00:00:00\", \"2021-05-25T00:00:00\", \"2021-05-30T00:00:00\", \"2021-05-28T00:00:00\", \"2021-05-31T00:00:00\", \"2021-05-27T00:00:00\", \"2021-05-26T00:00:00\", \"2021-05-26T00:00:00\"], \"xaxis\": \"x\", \"xbingroup\": \"x\", \"y\": [\"2021-05-26T00:00:00\", \"2021-05-26T00:00:00\", \"2021-05-26T00:00:00\", \"2021-05-26T00:00:00\", \"2021-05-24T00:00:00\", \"2021-05-24T00:00:00\", \"2021-05-26T00:00:00\", \"2021-05-24T00:00:00\", \"2021-05-26T00:00:00\", \"2021-05-26T00:00:00\", \"2021-05-24T00:00:00\", \"2021-05-24T00:00:00\", \"2021-05-25T00:00:00\", \"2021-05-26T00:00:00\", \"2021-05-24T00:00:00\", \"2021-05-24T00:00:00\", \"2021-05-24T00:00:00\", \"2021-05-24T00:00:00\", \"2021-05-24T00:00:00\", \"2021-05-24T00:00:00\", \"2021-05-26T00:00:00\", \"2021-05-24T00:00:00\", \"2021-05-26T00:00:00\", \"2021-05-25T00:00:00\", \"2021-05-25T00:00:00\", \"2021-05-25T00:00:00\", \"2021-05-25T00:00:00\", \"2021-05-24T00:00:00\", \"2021-05-24T00:00:00\", \"2021-05-24T00:00:00\", \"2021-05-24T00:00:00\", \"2021-05-24T00:00:00\", \"2021-05-24T00:00:00\", \"2021-05-24T00:00:00\", \"2021-05-25T00:00:00\", \"2021-05-26T00:00:00\", \"2021-05-26T00:00:00\", \"2021-05-26T00:00:00\", \"2021-05-26T00:00:00\", \"2021-05-26T00:00:00\", \"2021-05-26T00:00:00\", \"2021-05-24T00:00:00\", \"2021-05-24T00:00:00\", \"2021-05-24T00:00:00\", \"2021-05-22T00:00:00\", \"2021-05-18T00:00:00\", \"2021-05-26T00:00:00\", \"2021-05-26T00:00:00\", \"2021-05-26T00:00:00\", \"2021-05-25T00:00:00\", \"2021-05-24T00:00:00\", \"2021-05-26T00:00:00\", \"2021-05-26T00:00:00\", \"2021-05-26T00:00:00\", \"2021-05-26T00:00:00\", \"2021-05-26T00:00:00\", \"2021-05-26T00:00:00\", \"2021-05-26T00:00:00\", \"2021-05-26T00:00:00\", \"2021-05-26T00:00:00\", \"2021-05-27T00:00:00\", \"2021-05-26T00:00:00\", \"2021-05-26T00:00:00\", \"2021-05-26T00:00:00\", \"2021-05-26T00:00:00\", \"2021-05-26T00:00:00\", \"2021-05-26T00:00:00\", \"2021-05-26T00:00:00\", \"2021-05-26T00:00:00\", \"2021-05-26T00:00:00\", \"2021-05-26T00:00:00\", \"2021-05-26T00:00:00\", \"2021-05-26T00:00:00\", \"2021-05-26T00:00:00\", \"2021-05-26T00:00:00\", \"2021-05-26T00:00:00\", \"2021-05-26T00:00:00\", \"2021-05-26T00:00:00\", \"2021-05-26T00:00:00\", \"2021-05-26T00:00:00\", \"2021-05-27T00:00:00\", \"2021-05-27T00:00:00\", \"2021-05-27T00:00:00\", \"2021-05-27T00:00:00\", \"2021-05-27T00:00:00\", \"2021-05-27T00:00:00\", \"2021-05-27T00:00:00\", \"2021-05-27T00:00:00\", \"2021-05-27T00:00:00\", \"2021-05-27T00:00:00\", \"2021-05-27T00:00:00\", \"2021-05-27T00:00:00\", \"2021-05-27T00:00:00\", \"2021-05-27T00:00:00\", \"2021-05-27T00:00:00\", \"2021-05-27T00:00:00\", \"2021-05-27T00:00:00\", \"2021-05-27T00:00:00\", \"2021-05-27T00:00:00\", \"2021-05-27T00:00:00\", \"2021-05-27T00:00:00\", \"2021-05-27T00:00:00\", \"2021-05-27T00:00:00\", \"2021-05-27T00:00:00\", \"2021-05-27T00:00:00\", \"2021-05-27T00:00:00\", \"2021-05-27T00:00:00\", \"2021-05-27T00:00:00\", \"2021-05-27T00:00:00\", \"2021-05-27T00:00:00\", \"2021-05-27T00:00:00\", \"2021-05-27T00:00:00\", \"2021-05-27T00:00:00\", \"2021-05-27T00:00:00\", \"2021-05-27T00:00:00\", \"2021-05-27T00:00:00\", \"2021-05-27T00:00:00\", \"2021-05-28T00:00:00\", \"2021-05-28T00:00:00\", \"2021-05-28T00:00:00\", \"2021-05-28T00:00:00\", \"2021-05-28T00:00:00\", \"2021-05-28T00:00:00\", \"2021-05-28T00:00:00\", \"2021-05-28T00:00:00\", \"2021-05-28T00:00:00\", \"2021-05-28T00:00:00\", \"2021-05-28T00:00:00\", \"2021-05-28T00:00:00\", \"2021-05-28T00:00:00\", \"2021-05-28T00:00:00\", \"2021-05-28T00:00:00\", \"2021-05-28T00:00:00\", \"2021-05-28T00:00:00\", \"2021-05-28T00:00:00\", \"2021-05-28T00:00:00\", \"2021-05-29T00:00:00\", \"2021-05-28T00:00:00\", \"2021-05-28T00:00:00\", \"2021-05-28T00:00:00\", \"2021-05-28T00:00:00\", \"2021-05-28T00:00:00\", \"2021-05-28T00:00:00\", \"2021-05-28T00:00:00\", \"2021-05-28T00:00:00\", \"2021-05-28T00:00:00\", \"2021-05-28T00:00:00\", \"2021-05-28T00:00:00\", \"2021-05-28T00:00:00\", \"2021-05-28T00:00:00\", \"2021-05-28T00:00:00\", \"2021-05-28T00:00:00\", \"2021-05-29T00:00:00\", \"2021-05-29T00:00:00\", \"2021-05-29T00:00:00\", \"2021-05-29T00:00:00\", \"2021-05-29T00:00:00\", \"2021-05-29T00:00:00\", \"2021-05-29T00:00:00\", \"2021-05-29T00:00:00\", \"2021-05-29T00:00:00\", \"2021-05-29T00:00:00\", \"2021-05-29T00:00:00\", \"2021-05-29T00:00:00\", \"2021-05-29T00:00:00\", \"2021-05-29T00:00:00\", \"2021-05-29T00:00:00\", \"2021-05-29T00:00:00\", \"2021-05-29T00:00:00\", \"2021-05-29T00:00:00\", \"2021-05-29T00:00:00\", \"2021-05-29T00:00:00\", \"2021-05-29T00:00:00\", \"2021-05-29T00:00:00\", \"2021-05-30T00:00:00\", \"2021-05-30T00:00:00\", \"2021-05-30T00:00:00\", \"2021-05-30T00:00:00\", \"2021-05-30T00:00:00\", \"2021-05-30T00:00:00\", \"2021-05-30T00:00:00\", \"2021-05-30T00:00:00\", \"2021-05-30T00:00:00\", \"2021-05-30T00:00:00\", \"2021-05-30T00:00:00\", \"2021-05-30T00:00:00\", \"2021-05-30T00:00:00\", \"2021-05-30T00:00:00\", \"2021-05-30T00:00:00\", \"2021-05-30T00:00:00\", \"2021-05-30T00:00:00\", \"2021-05-30T00:00:00\", \"2021-05-30T00:00:00\", \"2021-05-30T00:00:00\", \"2021-05-30T00:00:00\", \"2021-05-30T00:00:00\", \"2021-05-30T00:00:00\", \"2021-05-30T00:00:00\", \"2021-05-30T00:00:00\", \"2021-05-30T00:00:00\", \"2021-05-30T00:00:00\", \"2021-05-30T00:00:00\", \"2021-05-30T00:00:00\", \"2021-05-30T00:00:00\", \"2021-05-30T00:00:00\", \"2021-05-30T00:00:00\", \"2021-05-30T00:00:00\", \"2021-05-30T00:00:00\", \"2021-05-30T00:00:00\", \"2021-05-30T00:00:00\", \"2021-05-30T00:00:00\", \"2021-05-30T00:00:00\", \"2021-05-30T00:00:00\", \"2021-05-30T00:00:00\", \"2021-05-30T00:00:00\", \"2021-05-30T00:00:00\", \"2021-05-30T00:00:00\", \"2021-05-30T00:00:00\", \"2021-05-30T00:00:00\", \"2021-05-30T00:00:00\", \"2021-05-30T00:00:00\", \"2021-05-30T00:00:00\", \"2021-05-30T00:00:00\", \"2021-05-30T00:00:00\", \"2021-05-30T00:00:00\", \"2021-05-30T00:00:00\", \"2021-05-30T00:00:00\", \"2021-05-30T00:00:00\", \"2021-05-30T00:00:00\", \"2021-05-30T00:00:00\", \"2021-05-30T00:00:00\", \"2021-05-30T00:00:00\", \"2021-05-30T00:00:00\", \"2021-05-30T00:00:00\", \"2021-05-30T00:00:00\", \"2021-05-30T00:00:00\", \"2021-05-30T00:00:00\", \"2021-05-30T00:00:00\", \"2021-05-30T00:00:00\", \"2021-05-30T00:00:00\", \"2021-05-30T00:00:00\", \"2021-05-30T00:00:00\", \"2021-05-30T00:00:00\", \"2021-05-30T00:00:00\", \"2021-05-30T00:00:00\", \"2021-05-30T00:00:00\", \"2021-05-30T00:00:00\", \"2021-05-30T00:00:00\", \"2021-05-30T00:00:00\", \"2021-05-30T00:00:00\", \"2021-05-30T00:00:00\", \"2021-05-30T00:00:00\", \"2021-05-30T00:00:00\", \"2021-05-30T00:00:00\", \"2021-05-30T00:00:00\", \"2021-05-30T00:00:00\", \"2021-05-30T00:00:00\", \"2021-05-30T00:00:00\", \"2021-05-30T00:00:00\", \"2021-05-30T00:00:00\", \"2021-05-30T00:00:00\", \"2021-05-30T00:00:00\", \"2021-05-30T00:00:00\", \"2021-05-30T00:00:00\", \"2021-05-30T00:00:00\", \"2021-05-30T00:00:00\", \"2021-05-30T00:00:00\", \"2021-05-30T00:00:00\", \"2021-05-30T00:00:00\", \"2021-05-31T00:00:00\", \"2021-05-30T00:00:00\", \"2021-05-30T00:00:00\", \"2021-05-31T00:00:00\", \"2021-05-31T00:00:00\", \"2021-05-31T00:00:00\", \"2021-05-31T00:00:00\", \"2021-05-31T00:00:00\", \"2021-05-31T00:00:00\", \"2021-05-31T00:00:00\", \"2021-05-31T00:00:00\", \"2021-05-31T00:00:00\", \"2021-05-31T00:00:00\", \"2021-05-31T00:00:00\", \"2021-05-31T00:00:00\", \"2021-05-31T00:00:00\", \"2021-05-31T00:00:00\", \"2021-05-31T00:00:00\", \"2021-05-31T00:00:00\", \"2021-05-31T00:00:00\", \"2021-05-31T00:00:00\", \"2021-05-31T00:00:00\", \"2021-05-31T00:00:00\", \"2021-05-31T00:00:00\", \"2021-05-31T00:00:00\", \"2021-05-31T00:00:00\", \"2021-05-31T00:00:00\", \"2021-05-31T00:00:00\", \"2021-05-31T00:00:00\", \"2021-05-31T00:00:00\", \"2021-05-31T00:00:00\", \"2021-05-31T00:00:00\", \"2021-05-31T00:00:00\", \"2021-05-31T00:00:00\", \"2021-05-31T00:00:00\", \"2021-05-31T00:00:00\", \"2021-05-31T00:00:00\", \"2021-05-31T00:00:00\", \"2021-05-31T00:00:00\", \"2021-05-31T00:00:00\", \"2021-05-31T00:00:00\", \"2021-05-31T00:00:00\", \"2021-05-31T00:00:00\", \"2021-05-31T00:00:00\", \"2021-05-31T00:00:00\", \"2021-05-31T00:00:00\", \"2021-05-31T00:00:00\", \"2021-05-31T00:00:00\", \"2021-05-31T00:00:00\", \"2021-05-31T00:00:00\", \"2021-05-31T00:00:00\", \"2021-05-31T00:00:00\", \"2021-05-31T00:00:00\", \"2021-05-31T00:00:00\", \"2021-05-31T00:00:00\", \"2021-05-31T00:00:00\", \"2021-05-31T00:00:00\", \"2021-05-31T00:00:00\", \"2021-05-31T00:00:00\", \"2021-05-31T00:00:00\", \"2021-05-31T00:00:00\", \"2021-05-31T00:00:00\", \"2021-05-31T00:00:00\", \"2021-05-31T00:00:00\", \"2021-05-31T00:00:00\", \"2021-05-31T00:00:00\", \"2021-06-01T00:00:00\", \"2021-06-01T00:00:00\", \"2021-06-01T00:00:00\", \"2021-06-01T00:00:00\", \"2021-06-01T00:00:00\", \"2021-06-01T00:00:00\", \"2021-06-01T00:00:00\", \"2021-06-01T00:00:00\", \"2021-06-01T00:00:00\", \"2021-06-01T00:00:00\", \"2021-06-01T00:00:00\", \"2021-06-01T00:00:00\", \"2021-06-01T00:00:00\", \"2021-06-01T00:00:00\", \"2021-06-01T00:00:00\", \"2021-06-01T00:00:00\", \"2021-06-02T00:00:00\", \"2021-06-02T00:00:00\", \"2021-06-02T00:00:00\", \"2021-06-02T00:00:00\", \"2021-06-02T00:00:00\", \"2021-06-02T00:00:00\", \"2021-06-02T00:00:00\", \"2021-06-02T00:00:00\", \"2021-06-02T00:00:00\", \"2021-06-02T00:00:00\", \"2021-06-02T00:00:00\", \"2021-06-02T00:00:00\", \"2021-06-02T00:00:00\"], \"yaxis\": \"y\", \"ybingroup\": \"y\"}],                        {\"annotations\": [{\"ax\": 10, \"ay\": 20, \"text\": \"lockdown\", \"x\": \"2021-05-27\", \"xanchor\": \"left\", \"y\": \"2021-05-27\"}], \"coloraxis\": {\"colorbar\": {\"title\": {\"text\": \"count\"}}, \"colorscale\": [[0.0, \"#440154\"], [0.1111111111111111, \"#482878\"], [0.2222222222222222, \"#3e4989\"], [0.3333333333333333, \"#31688e\"], [0.4444444444444444, \"#26828e\"], [0.5555555555555556, \"#1f9e89\"], [0.6666666666666666, \"#35b779\"], [0.7777777777777778, \"#6ece58\"], [0.8888888888888888, \"#b5de2b\"], [1.0, \"#fde725\"]]}, \"legend\": {\"tracegroupgap\": 0}, \"plot_bgcolor\": \"#440154\", \"shapes\": [{\"type\": \"line\", \"x0\": \"2021-05-27T12:00:00\", \"x1\": \"2021-05-27T12:00:00\", \"xref\": \"x\", \"y0\": 0, \"y1\": 1, \"yref\": \"y domain\"}, {\"type\": \"line\", \"x0\": 0, \"x1\": 1, \"xref\": \"x domain\", \"y0\": \"2021-05-27T12:00:00\", \"y1\": \"2021-05-27T12:00:00\", \"yref\": \"y\"}], \"template\": {\"data\": {\"bar\": [{\"error_x\": {\"color\": \"#f2f5fa\"}, \"error_y\": {\"color\": \"#f2f5fa\"}, \"marker\": {\"line\": {\"color\": \"rgb(17,17,17)\", \"width\": 0.5}}, \"type\": \"bar\"}], \"barpolar\": [{\"marker\": {\"line\": {\"color\": \"rgb(17,17,17)\", \"width\": 0.5}}, \"type\": \"barpolar\"}], \"carpet\": [{\"aaxis\": {\"endlinecolor\": \"#A2B1C6\", \"gridcolor\": \"#506784\", \"linecolor\": \"#506784\", \"minorgridcolor\": \"#506784\", \"startlinecolor\": \"#A2B1C6\"}, \"baxis\": {\"endlinecolor\": \"#A2B1C6\", \"gridcolor\": \"#506784\", \"linecolor\": \"#506784\", \"minorgridcolor\": \"#506784\", \"startlinecolor\": \"#A2B1C6\"}, \"type\": \"carpet\"}], \"choropleth\": [{\"colorbar\": {\"outlinewidth\": 0, \"ticks\": \"\"}, \"type\": \"choropleth\"}], \"contour\": [{\"colorbar\": {\"outlinewidth\": 0, \"ticks\": \"\"}, \"colorscale\": [[0.0, \"#0d0887\"], [0.1111111111111111, \"#46039f\"], [0.2222222222222222, \"#7201a8\"], [0.3333333333333333, \"#9c179e\"], [0.4444444444444444, \"#bd3786\"], [0.5555555555555556, \"#d8576b\"], [0.6666666666666666, \"#ed7953\"], [0.7777777777777778, \"#fb9f3a\"], [0.8888888888888888, \"#fdca26\"], [1.0, \"#f0f921\"]], \"type\": \"contour\"}], \"contourcarpet\": [{\"colorbar\": {\"outlinewidth\": 0, \"ticks\": \"\"}, \"type\": \"contourcarpet\"}], \"heatmap\": [{\"colorbar\": {\"outlinewidth\": 0, \"ticks\": \"\"}, \"colorscale\": [[0.0, \"#0d0887\"], [0.1111111111111111, \"#46039f\"], [0.2222222222222222, \"#7201a8\"], [0.3333333333333333, \"#9c179e\"], [0.4444444444444444, \"#bd3786\"], [0.5555555555555556, \"#d8576b\"], [0.6666666666666666, \"#ed7953\"], [0.7777777777777778, \"#fb9f3a\"], [0.8888888888888888, \"#fdca26\"], [1.0, \"#f0f921\"]], \"type\": \"heatmap\"}], \"heatmapgl\": [{\"colorbar\": {\"outlinewidth\": 0, \"ticks\": \"\"}, \"colorscale\": [[0.0, \"#0d0887\"], [0.1111111111111111, \"#46039f\"], [0.2222222222222222, \"#7201a8\"], [0.3333333333333333, \"#9c179e\"], [0.4444444444444444, \"#bd3786\"], [0.5555555555555556, \"#d8576b\"], [0.6666666666666666, \"#ed7953\"], [0.7777777777777778, \"#fb9f3a\"], [0.8888888888888888, \"#fdca26\"], [1.0, \"#f0f921\"]], \"type\": \"heatmapgl\"}], \"histogram\": [{\"marker\": {\"colorbar\": {\"outlinewidth\": 0, \"ticks\": \"\"}}, \"type\": \"histogram\"}], \"histogram2d\": [{\"colorbar\": {\"outlinewidth\": 0, \"ticks\": \"\"}, \"colorscale\": [[0.0, \"#0d0887\"], [0.1111111111111111, \"#46039f\"], [0.2222222222222222, \"#7201a8\"], [0.3333333333333333, \"#9c179e\"], [0.4444444444444444, \"#bd3786\"], [0.5555555555555556, \"#d8576b\"], [0.6666666666666666, \"#ed7953\"], [0.7777777777777778, \"#fb9f3a\"], [0.8888888888888888, \"#fdca26\"], [1.0, \"#f0f921\"]], \"type\": \"histogram2d\"}], \"histogram2dcontour\": [{\"colorbar\": {\"outlinewidth\": 0, \"ticks\": \"\"}, \"colorscale\": [[0.0, \"#0d0887\"], [0.1111111111111111, \"#46039f\"], [0.2222222222222222, \"#7201a8\"], [0.3333333333333333, \"#9c179e\"], [0.4444444444444444, \"#bd3786\"], [0.5555555555555556, \"#d8576b\"], [0.6666666666666666, \"#ed7953\"], [0.7777777777777778, \"#fb9f3a\"], [0.8888888888888888, \"#fdca26\"], [1.0, \"#f0f921\"]], \"type\": \"histogram2dcontour\"}], \"mesh3d\": [{\"colorbar\": {\"outlinewidth\": 0, \"ticks\": \"\"}, \"type\": \"mesh3d\"}], \"parcoords\": [{\"line\": {\"colorbar\": {\"outlinewidth\": 0, \"ticks\": \"\"}}, \"type\": \"parcoords\"}], \"pie\": [{\"automargin\": true, \"type\": \"pie\"}], \"scatter\": [{\"marker\": {\"line\": {\"color\": \"#283442\"}}, \"type\": \"scatter\"}], \"scatter3d\": [{\"line\": {\"colorbar\": {\"outlinewidth\": 0, \"ticks\": \"\"}}, \"marker\": {\"colorbar\": {\"outlinewidth\": 0, \"ticks\": \"\"}}, \"type\": \"scatter3d\"}], \"scattercarpet\": [{\"marker\": {\"colorbar\": {\"outlinewidth\": 0, \"ticks\": \"\"}}, \"type\": \"scattercarpet\"}], \"scattergeo\": [{\"marker\": {\"colorbar\": {\"outlinewidth\": 0, \"ticks\": \"\"}}, \"type\": \"scattergeo\"}], \"scattergl\": [{\"marker\": {\"line\": {\"color\": \"#283442\"}}, \"type\": \"scattergl\"}], \"scattermapbox\": [{\"marker\": {\"colorbar\": {\"outlinewidth\": 0, \"ticks\": \"\"}}, \"type\": \"scattermapbox\"}], \"scatterpolar\": [{\"marker\": {\"colorbar\": {\"outlinewidth\": 0, \"ticks\": \"\"}}, \"type\": \"scatterpolar\"}], \"scatterpolargl\": [{\"marker\": {\"colorbar\": {\"outlinewidth\": 0, \"ticks\": \"\"}}, \"type\": \"scatterpolargl\"}], \"scatterternary\": [{\"marker\": {\"colorbar\": {\"outlinewidth\": 0, \"ticks\": \"\"}}, \"type\": \"scatterternary\"}], \"surface\": [{\"colorbar\": {\"outlinewidth\": 0, \"ticks\": \"\"}, \"colorscale\": [[0.0, \"#0d0887\"], [0.1111111111111111, \"#46039f\"], [0.2222222222222222, \"#7201a8\"], [0.3333333333333333, \"#9c179e\"], [0.4444444444444444, \"#bd3786\"], [0.5555555555555556, \"#d8576b\"], [0.6666666666666666, \"#ed7953\"], [0.7777777777777778, \"#fb9f3a\"], [0.8888888888888888, \"#fdca26\"], [1.0, \"#f0f921\"]], \"type\": \"surface\"}], \"table\": [{\"cells\": {\"fill\": {\"color\": \"#506784\"}, \"line\": {\"color\": \"rgb(17,17,17)\"}}, \"header\": {\"fill\": {\"color\": \"#2a3f5f\"}, \"line\": {\"color\": \"rgb(17,17,17)\"}}, \"type\": \"table\"}]}, \"layout\": {\"annotationdefaults\": {\"arrowcolor\": \"#f2f5fa\", \"arrowhead\": 0, \"arrowwidth\": 1}, \"autotypenumbers\": \"strict\", \"coloraxis\": {\"colorbar\": {\"outlinewidth\": 0, \"ticks\": \"\"}}, \"colorscale\": {\"diverging\": [[0, \"#8e0152\"], [0.1, \"#c51b7d\"], [0.2, \"#de77ae\"], [0.3, \"#f1b6da\"], [0.4, \"#fde0ef\"], [0.5, \"#f7f7f7\"], [0.6, \"#e6f5d0\"], [0.7, \"#b8e186\"], [0.8, \"#7fbc41\"], [0.9, \"#4d9221\"], [1, \"#276419\"]], \"sequential\": [[0.0, \"#0d0887\"], [0.1111111111111111, \"#46039f\"], [0.2222222222222222, \"#7201a8\"], [0.3333333333333333, \"#9c179e\"], [0.4444444444444444, \"#bd3786\"], [0.5555555555555556, \"#d8576b\"], [0.6666666666666666, \"#ed7953\"], [0.7777777777777778, \"#fb9f3a\"], [0.8888888888888888, \"#fdca26\"], [1.0, \"#f0f921\"]], \"sequentialminus\": [[0.0, \"#0d0887\"], [0.1111111111111111, \"#46039f\"], [0.2222222222222222, \"#7201a8\"], [0.3333333333333333, \"#9c179e\"], [0.4444444444444444, \"#bd3786\"], [0.5555555555555556, \"#d8576b\"], [0.6666666666666666, \"#ed7953\"], [0.7777777777777778, \"#fb9f3a\"], [0.8888888888888888, \"#fdca26\"], [1.0, \"#f0f921\"]]}, \"colorway\": [\"#636efa\", \"#EF553B\", \"#00cc96\", \"#ab63fa\", \"#FFA15A\", \"#19d3f3\", \"#FF6692\", \"#B6E880\", \"#FF97FF\", \"#FECB52\"], \"font\": {\"color\": \"#f2f5fa\"}, \"geo\": {\"bgcolor\": \"rgb(17,17,17)\", \"lakecolor\": \"rgb(17,17,17)\", \"landcolor\": \"rgb(17,17,17)\", \"showlakes\": true, \"showland\": true, \"subunitcolor\": \"#506784\"}, \"hoverlabel\": {\"align\": \"left\"}, \"hovermode\": \"closest\", \"mapbox\": {\"style\": \"dark\"}, \"paper_bgcolor\": \"rgb(17,17,17)\", \"plot_bgcolor\": \"rgb(17,17,17)\", \"polar\": {\"angularaxis\": {\"gridcolor\": \"#506784\", \"linecolor\": \"#506784\", \"ticks\": \"\"}, \"bgcolor\": \"rgb(17,17,17)\", \"radialaxis\": {\"gridcolor\": \"#506784\", \"linecolor\": \"#506784\", \"ticks\": \"\"}}, \"scene\": {\"xaxis\": {\"backgroundcolor\": \"rgb(17,17,17)\", \"gridcolor\": \"#506784\", \"gridwidth\": 2, \"linecolor\": \"#506784\", \"showbackground\": true, \"ticks\": \"\", \"zerolinecolor\": \"#C8D4E3\"}, \"yaxis\": {\"backgroundcolor\": \"rgb(17,17,17)\", \"gridcolor\": \"#506784\", \"gridwidth\": 2, \"linecolor\": \"#506784\", \"showbackground\": true, \"ticks\": \"\", \"zerolinecolor\": \"#C8D4E3\"}, \"zaxis\": {\"backgroundcolor\": \"rgb(17,17,17)\", \"gridcolor\": \"#506784\", \"gridwidth\": 2, \"linecolor\": \"#506784\", \"showbackground\": true, \"ticks\": \"\", \"zerolinecolor\": \"#C8D4E3\"}}, \"shapedefaults\": {\"line\": {\"color\": \"#f2f5fa\"}}, \"sliderdefaults\": {\"bgcolor\": \"#C8D4E3\", \"bordercolor\": \"rgb(17,17,17)\", \"borderwidth\": 1, \"tickwidth\": 0}, \"ternary\": {\"aaxis\": {\"gridcolor\": \"#506784\", \"linecolor\": \"#506784\", \"ticks\": \"\"}, \"baxis\": {\"gridcolor\": \"#506784\", \"linecolor\": \"#506784\", \"ticks\": \"\"}, \"bgcolor\": \"rgb(17,17,17)\", \"caxis\": {\"gridcolor\": \"#506784\", \"linecolor\": \"#506784\", \"ticks\": \"\"}}, \"title\": {\"x\": 0.05}, \"updatemenudefaults\": {\"bgcolor\": \"#506784\", \"borderwidth\": 0}, \"xaxis\": {\"automargin\": true, \"gridcolor\": \"#283442\", \"linecolor\": \"#506784\", \"ticks\": \"\", \"title\": {\"standoff\": 15}, \"zerolinecolor\": \"#283442\", \"zerolinewidth\": 2}, \"yaxis\": {\"automargin\": true, \"gridcolor\": \"#283442\", \"linecolor\": \"#506784\", \"ticks\": \"\", \"title\": {\"standoff\": 15}, \"zerolinecolor\": \"#283442\", \"zerolinewidth\": 2}}}, \"title\": {\"text\": \"Exposure site counts by date added\"}, \"width\": 580, \"xaxis\": {\"anchor\": \"y\", \"domain\": [0.0, 1.0], \"nticks\": 11, \"range\": [\"2021-05-10T12:00:00\", \"2021-06-02T12:00:00\"], \"showgrid\": false, \"side\": \"bottom\", \"tickangle\": 60, \"title\": {\"text\": \"Exposure Date\"}}, \"yaxis\": {\"anchor\": \"x\", \"domain\": [0.0, 1.0], \"range\": [\"2021-05-10T12:00:00\", \"2021-06-02T12:00:00\"], \"showgrid\": false, \"title\": {\"text\": \"Date Added\"}}},                        {\"responsive\": true}                    ).then(function(){\n",
       "                            \n",
       "var gd = document.getElementById('a3b0b728-4e57-433f-9e87-f6d3f7d44623');\n",
       "var x = new MutationObserver(function (mutations, observer) {{\n",
       "        var display = window.getComputedStyle(gd).display;\n",
       "        if (!display || display === 'none') {{\n",
       "            console.log([gd, 'removed!']);\n",
       "            Plotly.purge(gd);\n",
       "            observer.disconnect();\n",
       "        }}\n",
       "}});\n",
       "\n",
       "// Listen for the removal of the full notebook cells\n",
       "var notebookContainer = gd.closest('#notebook-container');\n",
       "if (notebookContainer) {{\n",
       "    x.observe(notebookContainer, {childList: true});\n",
       "}}\n",
       "\n",
       "// Listen for the clearing of the current output cell\n",
       "var outputEl = gd.closest('.output');\n",
       "if (outputEl) {{\n",
       "    x.observe(outputEl, {childList: true});\n",
       "}}\n",
       "\n",
       "                        })                };                });            </script>        </div>"
      ]
     },
     "metadata": {},
     "output_type": "display_data"
    }
   ],
   "source": [
    "nbinsy = (df_official.Added_date_dtm.max() - df_official.Exposure_date_dtm.min()).days + 1\n",
    "nbinsx = (df_official.Added_date_dtm.max() - df_official.Exposure_date_dtm.min()).days + 1\n",
    "\n",
    "fig_heat = px.density_heatmap(df_official, y=\"Added_date_dtm\", x=\"Exposure_date_dtm\", \n",
    "                         template='plotly_dark', nbinsx=nbinsx, \n",
    "                              nbinsy=nbinsy, color_continuous_scale='viridis',\n",
    "                              title = 'Exposure site counts by date added')\n",
    "fig_heat.add_vline(x=dt.datetime(2021, 5, 27, 12, 0))\n",
    "fig_heat.add_hline(y=dt.datetime(2021, 5, 27, 12, 0))\n",
    "fig_heat.add_annotation(x = '2021-05-27', y = '2021-05-27', text='lockdown', xanchor='left', ax=10, ay=20)\n",
    "fig_heat.update_layout(xaxis_title = \"Exposure Date\", \n",
    "                       xaxis_tickangle = 60, xaxis_side = 'bottom', \n",
    "                       yaxis_title='Date Added',\n",
    "                       xaxis_nticks=nbinsx//2,\n",
    "                       width=width, \n",
    "                       plot_bgcolor=px.colors.sequential.Viridis[0], \n",
    "                       xaxis_showgrid=False,\n",
    "                       yaxis_showgrid=False, \n",
    "                       xaxis_range=[df_official.Exposure_date_dtm.min()- dt.timedelta(hours=12), df_official.Added_date_dtm.max() + dt.timedelta(hours=12)], \n",
    "                       yaxis_range=[df_official.Exposure_date_dtm.min()- dt.timedelta(hours=12), df_official.Added_date_dtm.max() + dt.timedelta(hours=12)]\n",
    "                       )"
   ]
  },
  {
   "cell_type": "markdown",
   "metadata": {},
   "source": [
    "# pretty but useless "
   ]
  },
  {
   "cell_type": "code",
   "execution_count": 110,
   "metadata": {},
   "outputs": [
    {
     "data": {
      "text/plain": [
       "<seaborn.axisgrid.JointGrid at 0x1357dd460>"
      ]
     },
     "execution_count": 110,
     "metadata": {},
     "output_type": "execute_result"
    },
    {
     "data": {
      "image/png": "[encoded data removed]",
      "text/plain": [
       "<Figure size 432x432 with 3 Axes>"
      ]
     },
     "metadata": {},
     "output_type": "display_data"
    }
   ],
   "source": [
    "import seaborn as sns\n",
    "sns.set_theme(style=\"darkgrid\")\n",
    "\n",
    "g = sns.JointGrid(data=df_official, x=\"Exposure_date_dtm\", y=\"Added_date_dtm\", space=0)\n",
    "g.plot_joint(sns.kdeplot,\n",
    "             fill=True, \n",
    "             thresh=0, levels=10, cmap=\"viridis\")\n",
    "g.plot_marginals(sns.histplot, color=\"#03051A\", alpha=1, bins=nbinsx)"
   ]
  },
  {
   "cell_type": "code",
   "execution_count": 111,
   "metadata": {},
   "outputs": [],
   "source": [
    "df_official.to_csv('data_from_api.csv')"
   ]
  },
  {
   "cell_type": "markdown",
   "metadata": {},
   "source": [
    "# mappin'"
   ]
  },
  {
   "cell_type": "markdown",
   "metadata": {},
   "source": [
    "Postcode data from: https://www.corra.com.au/australian-postcode-location-data/"
   ]
  },
  {
   "cell_type": "code",
   "execution_count": 257,
   "metadata": {},
   "outputs": [],
   "source": [
    "df_loc = pd.read_csv('Australian_Post_Codes_Lat_Lon.csv')\n",
    "df_loc = df_loc.rename(columns={'postcode':'Site_postcode'})\n",
    "df_loc.Site_postcode = df_loc.Site_postcode.astype('string')"
   ]
  },
  {
   "cell_type": "code",
   "execution_count": 258,
   "metadata": {},
   "outputs": [],
   "source": [
    "a = df_official.groupby(['Exposure_date_dtm', 'Site_postcode'])['_id'].count().reset_index()\n",
    "a.head()\n",
    "df_map = a.merge(df_loc, on=['Site_postcode'], how='left')\n",
    "df_map['days_in_the_past'] = df_map.Exposure_date_dtm.subtract(dt.datetime.today()).dt.days"
   ]
  },
  {
   "cell_type": "code",
   "execution_count": 291,
   "metadata": {
    "scrolled": false
   },
   "outputs": [
    {
     "data": {
      "application/vnd.plotly.v1+json": {
       "config": {
        "plotlyServerURL": "https://plot.ly"
       },
       "data": [
        {
         "customdata": [
          [
           "3073",
           2
          ],
          [
           "3073",
           2
          ],
          [
           "3073",
           2
          ],
          [
           "3073",
           2
          ],
          [
           "3073",
           2
          ],
          [
           "3061",
           1
          ],
          [
           "3074",
           1
          ],
          [
           "3053",
           1
          ],
          [
           "3053",
           1
          ],
          [
           "3074",
           1
          ],
          [
           "3075",
           3
          ],
          [
           "3075",
           3
          ],
          [
           "3076",
           1
          ],
          [
           "3109",
           1
          ],
          [
           "3109",
           1
          ],
          [
           "3109",
           1
          ],
          [
           "3767",
           1
          ],
          [
           "3074",
           2
          ],
          [
           "3076",
           4
          ],
          [
           "3073",
           3
          ],
          [
           "3073",
           3
          ],
          [
           "3073",
           3
          ],
          [
           "3073",
           3
          ],
          [
           "3073",
           3
          ],
          [
           "3074",
           1
          ],
          [
           "3075",
           2
          ],
          [
           "3075",
           2
          ],
          [
           "3076",
           4
          ],
          [
           "3750",
           2
          ],
          [
           "3064",
           1
          ],
          [
           "3064",
           1
          ],
          [
           "3064",
           1
          ],
          [
           "3064",
           1
          ],
          [
           "3064",
           1
          ],
          [
           "3074",
           1
          ],
          [
           "3075",
           3
          ],
          [
           "3075",
           3
          ],
          [
           "3076",
           6
          ],
          [
           "3175",
           4
          ],
          [
           "3175",
           4
          ],
          [
           "3175",
           4
          ],
          [
           "3175",
           4
          ],
          [
           "3175",
           4
          ],
          [
           "3175",
           4
          ],
          [
           "3201",
           1
          ],
          [
           "3032",
           6
          ],
          [
           "3032",
           6
          ],
          [
           "3032",
           6
          ],
          [
           "3032",
           6
          ],
          [
           "3064",
           1
          ],
          [
           "3064",
           1
          ],
          [
           "3064",
           1
          ],
          [
           "3064",
           1
          ],
          [
           "3064",
           1
          ],
          [
           "3074",
           3
          ],
          [
           "3075",
           1
          ],
          [
           "3075",
           1
          ],
          [
           "3076",
           3
          ],
          [
           "3082",
           1
          ],
          [
           "3152",
           1
          ],
          [
           "3152",
           1
          ],
          [
           "3152",
           1
          ],
          [
           "3205",
           1
          ],
          [
           "3207",
           1
          ],
          [
           "3207",
           1
          ],
          [
           "3000",
           1
          ],
          [
           "3052",
           1
          ],
          [
           "3052",
           1
          ],
          [
           "3053",
           1
          ],
          [
           "3053",
           1
          ],
          [
           "3073",
           1
          ],
          [
           "3073",
           1
          ],
          [
           "3073",
           1
          ],
          [
           "3073",
           1
          ],
          [
           "3073",
           1
          ],
          [
           "3074",
           1
          ],
          [
           "3083",
           1
          ],
          [
           "3083",
           1
          ],
          [
           "3083",
           1
          ],
          [
           "3153",
           1
          ],
          [
           "3153",
           1
          ],
          [
           "3205",
           3
          ],
          [
           "3207",
           4
          ],
          [
           "3207",
           4
          ],
          [
           "3936",
           1
          ],
          [
           "3936",
           1
          ],
          [
           "3936",
           1
          ],
          [
           "3939",
           1
          ],
          [
           "3939",
           1
          ],
          [
           "3939",
           1
          ],
          [
           "3939",
           1
          ],
          [
           "3939",
           1
          ],
          [
           "3941",
           1
          ],
          [
           "3941",
           1
          ],
          [
           "3941",
           1
          ],
          [
           "3977",
           1
          ],
          [
           "3977",
           1
          ],
          [
           "3977",
           1
          ],
          [
           "3977",
           1
          ],
          [
           "3977",
           1
          ],
          [
           "3977",
           1
          ],
          [
           "3977",
           1
          ],
          [
           "3977",
           1
          ],
          [
           "3977",
           1
          ],
          [
           "3977",
           1
          ],
          [
           "3011",
           1
          ],
          [
           "3011",
           1
          ],
          [
           "3011",
           1
          ],
          [
           "3039",
           3
          ],
          [
           "3043",
           1
          ],
          [
           "3043",
           1
          ],
          [
           "3043",
           1
          ],
          [
           "3056",
           2
          ],
          [
           "3056",
           2
          ],
          [
           "3056",
           2
          ],
          [
           "3057",
           1
          ],
          [
           "3058",
           3
          ],
          [
           "3058",
           3
          ],
          [
           "3058",
           3
          ],
          [
           "3058",
           3
          ],
          [
           "3058",
           3
          ],
          [
           "3064",
           4
          ],
          [
           "3064",
           4
          ],
          [
           "3064",
           4
          ],
          [
           "3064",
           4
          ],
          [
           "3064",
           4
          ],
          [
           "3065",
           1
          ],
          [
           "3068",
           2
          ],
          [
           "3068",
           2
          ],
          [
           "3071",
           2
          ],
          [
           "3072",
           6
          ],
          [
           "3072",
           6
          ],
          [
           "3072",
           6
          ],
          [
           "3072",
           6
          ],
          [
           "3072",
           6
          ],
          [
           "3073",
           1
          ],
          [
           "3073",
           1
          ],
          [
           "3073",
           1
          ],
          [
           "3073",
           1
          ],
          [
           "3073",
           1
          ],
          [
           "3076",
           9
          ],
          [
           "3082",
           1
          ],
          [
           "3121",
           1
          ],
          [
           "3121",
           1
          ],
          [
           "3121",
           1
          ],
          [
           "3121",
           1
          ],
          [
           "3121",
           1
          ],
          [
           "3121",
           1
          ],
          [
           "3121",
           1
          ],
          [
           "3141",
           1
          ],
          [
           "3141",
           1
          ],
          [
           "3151",
           1
          ],
          [
           "3151",
           1
          ],
          [
           "3175",
           1
          ],
          [
           "3175",
           1
          ],
          [
           "3175",
           1
          ],
          [
           "3175",
           1
          ],
          [
           "3175",
           1
          ],
          [
           "3175",
           1
          ],
          [
           "3181",
           2
          ],
          [
           "3181",
           2
          ],
          [
           "3181",
           2
          ],
          [
           "3205",
           2
          ],
          [
           "3207",
           1
          ],
          [
           "3207",
           1
          ],
          [
           "3550",
           1
          ],
          [
           "3550",
           1
          ],
          [
           "3550",
           1
          ],
          [
           "3550",
           1
          ],
          [
           "3550",
           1
          ],
          [
           "3550",
           1
          ],
          [
           "3550",
           1
          ],
          [
           "3550",
           1
          ],
          [
           "3550",
           1
          ],
          [
           "3550",
           1
          ],
          [
           "3550",
           1
          ],
          [
           "3550",
           1
          ],
          [
           "3550",
           1
          ],
          [
           "3550",
           1
          ],
          [
           "3568",
           1
          ],
          [
           "3568",
           1
          ],
          [
           "3568",
           1
          ],
          [
           "3568",
           1
          ],
          [
           "3568",
           1
          ],
          [
           "3568",
           1
          ],
          [
           "3568",
           1
          ],
          [
           "3568",
           1
          ],
          [
           "3568",
           1
          ],
          [
           "3568",
           1
          ],
          [
           "3568",
           1
          ],
          [
           "3937",
           1
          ],
          [
           "3937",
           1
          ],
          [
           "3977",
           3
          ],
          [
           "3977",
           3
          ],
          [
           "3977",
           3
          ],
          [
           "3977",
           3
          ],
          [
           "3977",
           3
          ],
          [
           "3977",
           3
          ],
          [
           "3977",
           3
          ],
          [
           "3977",
           3
          ],
          [
           "3977",
           3
          ],
          [
           "3977",
           3
          ],
          [
           "3002",
           2
          ],
          [
           "3006",
           1
          ],
          [
           "3008",
           4
          ],
          [
           "3013",
           1
          ],
          [
           "3013",
           1
          ],
          [
           "3029",
           2
          ],
          [
           "3029",
           2
          ],
          [
           "3029",
           2
          ],
          [
           "3032",
           2
          ],
          [
           "3032",
           2
          ],
          [
           "3032",
           2
          ],
          [
           "3032",
           2
          ],
          [
           "3038",
           1
          ],
          [
           "3038",
           1
          ],
          [
           "3038",
           1
          ],
          [
           "3038",
           1
          ],
          [
           "3053",
           1
          ],
          [
           "3053",
           1
          ],
          [
           "3056",
           1
          ],
          [
           "3056",
           1
          ],
          [
           "3056",
           1
          ],
          [
           "3059",
           1
          ],
          [
           "3063",
           1
          ],
          [
           "3063",
           1
          ],
          [
           "3064",
           3
          ],
          [
           "3064",
           3
          ],
          [
           "3064",
           3
          ],
          [
           "3064",
           3
          ],
          [
           "3064",
           3
          ],
          [
           "3072",
           2
          ],
          [
           "3072",
           2
          ],
          [
           "3072",
           2
          ],
          [
           "3072",
           2
          ],
          [
           "3072",
           2
          ],
          [
           "3073",
           1
          ],
          [
           "3073",
           1
          ],
          [
           "3073",
           1
          ],
          [
           "3073",
           1
          ],
          [
           "3073",
           1
          ],
          [
           "3074",
           1
          ],
          [
           "3076",
           4
          ],
          [
           "3078",
           1
          ],
          [
           "3078",
           1
          ],
          [
           "3082",
           4
          ],
          [
           "3083",
           1
          ],
          [
           "3083",
           1
          ],
          [
           "3083",
           1
          ],
          [
           "3103",
           1
          ],
          [
           "3103",
           1
          ],
          [
           "3108",
           1
          ],
          [
           "3122",
           1
          ],
          [
           "3122",
           1
          ],
          [
           "3122",
           1
          ],
          [
           "3122",
           1
          ],
          [
           "3141",
           2
          ],
          [
           "3141",
           2
          ],
          [
           "3146",
           3
          ],
          [
           "3163",
           1
          ],
          [
           "3163",
           1
          ],
          [
           "3163",
           1
          ],
          [
           "3181",
           2
          ],
          [
           "3181",
           2
          ],
          [
           "3181",
           2
          ],
          [
           "3182",
           1
          ],
          [
           "3182",
           1
          ],
          [
           "3186",
           1
          ],
          [
           "3186",
           1
          ],
          [
           "3186",
           1
          ],
          [
           "3195",
           1
          ],
          [
           "3195",
           1
          ],
          [
           "3195",
           1
          ],
          [
           "3195",
           1
          ],
          [
           "3195",
           1
          ],
          [
           "3195",
           1
          ],
          [
           "3196",
           1
          ],
          [
           "3196",
           1
          ],
          [
           "3196",
           1
          ],
          [
           "3196",
           1
          ],
          [
           "3205",
           1
          ],
          [
           "3207",
           1
          ],
          [
           "3207",
           1
          ],
          [
           "3551",
           1
          ],
          [
           "3551",
           1
          ],
          [
           "3551",
           1
          ],
          [
           "3551",
           1
          ],
          [
           "3551",
           1
          ],
          [
           "3551",
           1
          ],
          [
           "3551",
           1
          ],
          [
           "3551",
           1
          ],
          [
           "3551",
           1
          ],
          [
           "3551",
           1
          ],
          [
           "3551",
           1
          ],
          [
           "3551",
           1
          ],
          [
           "3551",
           1
          ],
          [
           "3551",
           1
          ],
          [
           "3551",
           1
          ],
          [
           "3551",
           1
          ],
          [
           "3551",
           1
          ],
          [
           "3551",
           1
          ],
          [
           "3551",
           1
          ],
          [
           "3551",
           1
          ],
          [
           "3551",
           1
          ],
          [
           "3551",
           1
          ],
          [
           "3551",
           1
          ],
          [
           "3551",
           1
          ],
          [
           "3551",
           1
          ],
          [
           "3551",
           1
          ],
          [
           "3551",
           1
          ],
          [
           "3551",
           1
          ],
          [
           "3551",
           1
          ],
          [
           "3551",
           1
          ],
          [
           "3551",
           1
          ],
          [
           "3551",
           1
          ],
          [
           "3551",
           1
          ],
          [
           "3551",
           1
          ],
          [
           "3551",
           1
          ],
          [
           "3551",
           1
          ],
          [
           "3551",
           1
          ],
          [
           "3977",
           3
          ],
          [
           "3977",
           3
          ],
          [
           "3977",
           3
          ],
          [
           "3977",
           3
          ],
          [
           "3977",
           3
          ],
          [
           "3977",
           3
          ],
          [
           "3977",
           3
          ],
          [
           "3977",
           3
          ],
          [
           "3977",
           3
          ],
          [
           "3977",
           3
          ],
          [
           "3004",
           1
          ],
          [
           "3006",
           2
          ],
          [
           "3013",
           2
          ],
          [
           "3013",
           2
          ],
          [
           "3045",
           2
          ],
          [
           "3058",
           3
          ],
          [
           "3058",
           3
          ],
          [
           "3058",
           3
          ],
          [
           "3058",
           3
          ],
          [
           "3058",
           3
          ],
          [
           "3067",
           1
          ],
          [
           "3073",
           1
          ],
          [
           "3073",
           1
          ],
          [
           "3073",
           1
          ],
          [
           "3073",
           1
          ],
          [
           "3073",
           1
          ],
          [
           "3074",
           3
          ],
          [
           "3076",
           6
          ],
          [
           "3083",
           2
          ],
          [
           "3083",
           2
          ],
          [
           "3083",
           2
          ],
          [
           "3184",
           1
          ],
          [
           "3184",
           1
          ],
          [
           "3188",
           1
          ],
          [
           "3188",
           1
          ],
          [
           "3205",
           4
          ],
          [
           "3207",
           4
          ],
          [
           "3207",
           4
          ],
          [
           "3666",
           1
          ],
          [
           "3666",
           1
          ],
          [
           "3666",
           1
          ],
          [
           "3666",
           1
          ],
          [
           "3666",
           1
          ],
          [
           "3666",
           1
          ],
          [
           "3666",
           1
          ],
          [
           "3666",
           1
          ],
          [
           "3666",
           1
          ],
          [
           "3666",
           1
          ],
          [
           "3666",
           1
          ],
          [
           "3666",
           1
          ],
          [
           "3666",
           1
          ],
          [
           "3666",
           1
          ],
          [
           "3666",
           1
          ],
          [
           "3675",
           1
          ],
          [
           "3675",
           1
          ],
          [
           "3675",
           1
          ],
          [
           "3675",
           1
          ],
          [
           "3675",
           1
          ],
          [
           "3675",
           1
          ],
          [
           "3675",
           1
          ],
          [
           "3675",
           1
          ],
          [
           "3675",
           1
          ],
          [
           "3675",
           1
          ],
          [
           "3756",
           1
          ],
          [
           "3756",
           1
          ],
          [
           "3756",
           1
          ],
          [
           "3756",
           1
          ],
          [
           "3756",
           1
          ],
          [
           "3756",
           1
          ],
          [
           "3000",
           1
          ],
          [
           "3006",
           1
          ],
          [
           "3059",
           2
          ],
          [
           "3061",
           1
          ],
          [
           "3064",
           4
          ],
          [
           "3064",
           4
          ],
          [
           "3064",
           4
          ],
          [
           "3064",
           4
          ],
          [
           "3064",
           4
          ],
          [
           "3073",
           2
          ],
          [
           "3073",
           2
          ],
          [
           "3073",
           2
          ],
          [
           "3073",
           2
          ],
          [
           "3073",
           2
          ],
          [
           "3074",
           2
          ],
          [
           "3075",
           1
          ],
          [
           "3075",
           1
          ],
          [
           "3076",
           5
          ],
          [
           "3082",
           1
          ],
          [
           "3083",
           2
          ],
          [
           "3083",
           2
          ],
          [
           "3083",
           2
          ],
          [
           "3084",
           1
          ],
          [
           "3084",
           1
          ],
          [
           "3084",
           1
          ],
          [
           "3084",
           1
          ],
          [
           "3084",
           1
          ],
          [
           "3086",
           2
          ],
          [
           "3188",
           1
          ],
          [
           "3188",
           1
          ],
          [
           "3195",
           1
          ],
          [
           "3195",
           1
          ],
          [
           "3195",
           1
          ],
          [
           "3195",
           1
          ],
          [
           "3195",
           1
          ],
          [
           "3195",
           1
          ],
          [
           "3196",
           1
          ],
          [
           "3196",
           1
          ],
          [
           "3196",
           1
          ],
          [
           "3196",
           1
          ],
          [
           "3205",
           4
          ],
          [
           "3207",
           1
          ],
          [
           "3207",
           1
          ],
          [
           "3230",
           3
          ],
          [
           "3754",
           1
          ],
          [
           "3754",
           1
          ],
          [
           "3011",
           2
          ],
          [
           "3011",
           2
          ],
          [
           "3011",
           2
          ],
          [
           "3012",
           4
          ],
          [
           "3012",
           4
          ],
          [
           "3012",
           4
          ],
          [
           "3012",
           4
          ],
          [
           "3012",
           4
          ],
          [
           "3012",
           4
          ],
          [
           "3023",
           5
          ],
          [
           "3023",
           5
          ],
          [
           "3023",
           5
          ],
          [
           "3023",
           5
          ],
          [
           "3023",
           5
          ],
          [
           "3023",
           5
          ],
          [
           "3023",
           5
          ],
          [
           "3030",
           7
          ],
          [
           "3030",
           7
          ],
          [
           "3030",
           7
          ],
          [
           "3030",
           7
          ],
          [
           "3030",
           7
          ],
          [
           "3030",
           7
          ],
          [
           "3032",
           1
          ],
          [
           "3032",
           1
          ],
          [
           "3032",
           1
          ],
          [
           "3032",
           1
          ],
          [
           "3054",
           1
          ],
          [
           "3054",
           1
          ],
          [
           "3064",
           5
          ],
          [
           "3064",
           5
          ],
          [
           "3064",
           5
          ],
          [
           "3064",
           5
          ],
          [
           "3064",
           5
          ],
          [
           "3073",
           2
          ],
          [
           "3073",
           2
          ],
          [
           "3073",
           2
          ],
          [
           "3073",
           2
          ],
          [
           "3073",
           2
          ],
          [
           "3074",
           1
          ],
          [
           "3075",
           1
          ],
          [
           "3075",
           1
          ],
          [
           "3076",
           3
          ],
          [
           "3082",
           1
          ],
          [
           "3145",
           3
          ],
          [
           "3145",
           3
          ],
          [
           "3145",
           3
          ],
          [
           "3145",
           3
          ],
          [
           "3148",
           5
          ],
          [
           "3148",
           5
          ],
          [
           "3148",
           5
          ],
          [
           "3754",
           1
          ],
          [
           "3754",
           1
          ],
          [
           "3011",
           3
          ],
          [
           "3011",
           3
          ],
          [
           "3011",
           3
          ],
          [
           "3012",
           2
          ],
          [
           "3012",
           2
          ],
          [
           "3012",
           2
          ],
          [
           "3012",
           2
          ],
          [
           "3012",
           2
          ],
          [
           "3012",
           2
          ],
          [
           "3020",
           2
          ],
          [
           "3020",
           2
          ],
          [
           "3020",
           2
          ],
          [
           "3020",
           2
          ],
          [
           "3023",
           4
          ],
          [
           "3023",
           4
          ],
          [
           "3023",
           4
          ],
          [
           "3023",
           4
          ],
          [
           "3023",
           4
          ],
          [
           "3023",
           4
          ],
          [
           "3023",
           4
          ],
          [
           "3028",
           1
          ],
          [
           "3028",
           1
          ],
          [
           "3028",
           1
          ],
          [
           "3056",
           1
          ],
          [
           "3056",
           1
          ],
          [
           "3056",
           1
          ],
          [
           "3073",
           1
          ],
          [
           "3073",
           1
          ],
          [
           "3073",
           1
          ],
          [
           "3073",
           1
          ],
          [
           "3073",
           1
          ],
          [
           "3074",
           2
          ],
          [
           "3182",
           3
          ],
          [
           "3182",
           3
          ],
          [
           "3205",
           1
          ],
          [
           "3230",
           2
          ],
          [
           "3003",
           1
          ],
          [
           "3012",
           2
          ],
          [
           "3012",
           2
          ],
          [
           "3012",
           2
          ],
          [
           "3012",
           2
          ],
          [
           "3012",
           2
          ],
          [
           "3012",
           2
          ],
          [
           "3016",
           1
          ],
          [
           "3016",
           1
          ],
          [
           "3020",
           3
          ],
          [
           "3020",
           3
          ],
          [
           "3020",
           3
          ],
          [
           "3020",
           3
          ],
          [
           "3023",
           6
          ],
          [
           "3023",
           6
          ],
          [
           "3023",
           6
          ],
          [
           "3023",
           6
          ],
          [
           "3023",
           6
          ],
          [
           "3023",
           6
          ],
          [
           "3023",
           6
          ],
          [
           "3074",
           3
          ],
          [
           "3182",
           1
          ],
          [
           "3182",
           1
          ],
          [
           "3205",
           1
          ],
          [
           "3012",
           2
          ],
          [
           "3012",
           2
          ],
          [
           "3012",
           2
          ],
          [
           "3012",
           2
          ],
          [
           "3012",
           2
          ],
          [
           "3012",
           2
          ],
          [
           "3000",
           2
          ],
          [
           "3008",
           1
          ],
          [
           "3000",
           1
          ],
          [
           "3008",
           1
          ]
         ],
         "hovertemplate": "_id=%{customdata[1]}<br>lat=%{lat}<br>lon=%{lon}<br>Site_postcode=%{customdata[0]}<br>days_in_the_past=%{marker.color}<extra></extra>",
         "lat": [
          -37.694672,
          -37.716896999999996,
          -37.722243,
          -37.723105,
          -37.714796,
          -37.643746,
          -37.680338,
          -37.784337,
          -37.778987,
          -37.680338,
          -37.665857,
          -37.673140999999994,
          -37.638363,
          -37.811994,
          -37.788827000000005,
          -37.757762,
          -37.835062,
          -37.680338,
          -37.638363,
          -37.694672,
          -37.716896999999996,
          -37.722243,
          -37.723105,
          -37.714796,
          -37.680338,
          -37.665857,
          -37.673140999999994,
          -37.638363,
          -38.380955,
          -37.598975,
          -37.542028,
          -37.529371999999995,
          -37.560864,
          -37.636795,
          -37.680338,
          -37.665857,
          -37.673140999999994,
          -37.638363,
          -38.033107,
          -37.987271,
          -38.13467,
          -37.965724,
          -38.034031,
          -37.967601,
          -38.090783,
          -37.77583,
          -37.773272,
          -37.772228999999996,
          -37.777772999999996,
          -37.598975,
          -37.542028,
          -37.529371999999995,
          -37.560864,
          -37.636795,
          -37.680338,
          -37.665857,
          -37.673140999999994,
          -37.638363,
          -37.667957,
          -37.869223999999996,
          -37.847915,
          -37.868978999999996,
          -37.93291,
          -37.829244,
          -37.975682,
          -37.814563,
          -37.796152,
          -37.788531,
          -37.784337,
          -37.778987,
          -37.694672,
          -37.716896999999996,
          -37.722243,
          -37.723105,
          -37.714796,
          -37.680338,
          -37.70132,
          -37.714064,
          -37.721328,
          -37.84126,
          -37.8303,
          -37.93291,
          -37.829244,
          -37.975682,
          -38.354428000000006,
          -38.333311,
          -38.314903,
          -38.398469,
          -38.464988,
          -38.425698,
          -38.355261999999996,
          -38.35533,
          -38.370692,
          -38.41506,
          -38.368159000000006,
          -38.212992,
          -38.11122,
          -38.117857,
          -38.082218,
          -38.145571000000004,
          -38.109374,
          -38.162501,
          -38.138435,
          -38.080718,
          -38.1183,
          -37.79977,
          -37.808769,
          -37.795059,
          -37.765707,
          -37.68861,
          -37.706315999999994,
          -37.68656,
          -37.764829,
          -37.759716999999995,
          -37.760071,
          -37.76491,
          -37.733523999999996,
          -37.743188,
          -37.730841999999996,
          -37.720932,
          -37.748315000000005,
          -37.598975,
          -37.542028,
          -37.529371999999995,
          -37.560864,
          -37.636795,
          -37.800917,
          -37.788118,
          -37.7834,
          -37.75504,
          -37.742047,
          -37.738735999999996,
          -37.743606,
          -37.743356,
          -37.736855,
          -37.694672,
          -37.716896999999996,
          -37.722243,
          -37.723105,
          -37.714796,
          -37.638363,
          -37.667957,
          -37.826869,
          -37.829382,
          -37.829719,
          -37.818587,
          -37.826421,
          -37.816323,
          -37.814951,
          -36.990185,
          -37.837883000000005,
          -37.858352000000004,
          -37.852534999999996,
          -38.033107,
          -37.987271,
          -38.13467,
          -37.965724,
          -38.034031,
          -37.967601,
          -37.849577000000004,
          -37.855396,
          -37.856159000000005,
          -37.93291,
          -37.829244,
          -37.975682,
          -36.758492,
          -36.771921,
          -36.822895,
          -36.749404999999996,
          -36.774405,
          -36.745709999999995,
          -36.767542,
          -36.746922,
          -36.748507000000004,
          -36.780733000000005,
          -36.803325,
          -36.75934,
          -36.759260999999995,
          -36.73025,
          -35.836345,
          -35.808807,
          -35.79337,
          -35.813775,
          -35.711438,
          -35.853908000000004,
          -35.851386,
          -35.858678999999995,
          -35.811183,
          -35.920497,
          -35.857221,
          -38.37014,
          -38.382404,
          -38.212992,
          -38.11122,
          -38.117857,
          -38.082218,
          -38.145571000000004,
          -38.109374,
          -38.162501,
          -38.138435,
          -38.080718,
          -38.1183,
          -37.81664,
          -37.823258,
          -37.814719000000004,
          -37.816178,
          -37.818019,
          -37.882636,
          -37.823738,
          -37.825004,
          -37.77583,
          -37.773272,
          -37.772228999999996,
          -37.777772999999996,
          -37.725726,
          -37.695768,
          -37.698758000000005,
          -37.698952,
          -37.784337,
          -37.778987,
          -37.764829,
          -37.759716999999995,
          -37.760071,
          -37.642984000000006,
          -37.629826,
          -37.589589000000004,
          -37.598975,
          -37.542028,
          -37.529371999999995,
          -37.560864,
          -37.636795,
          -37.742047,
          -37.738735999999996,
          -37.743606,
          -37.743356,
          -37.736855,
          -37.694672,
          -37.716896999999996,
          -37.722243,
          -37.723105,
          -37.714796,
          -37.680338,
          -37.638363,
          -37.780767,
          -37.776946,
          -37.667957,
          -37.70132,
          -37.714064,
          -37.721328,
          -37.809701000000004,
          -37.807311999999996,
          -37.783031,
          -37.842105,
          -37.834855,
          -37.828845,
          -37.819687,
          -36.990185,
          -37.837883000000005,
          -37.854687,
          -37.889336,
          -37.889239,
          -37.89069,
          -37.849577000000004,
          -37.855396,
          -37.856159000000005,
          -37.867573,
          -37.860901,
          -37.913149,
          -37.903864,
          -37.919885,
          -38.026478999999995,
          -38.023456,
          -38.008295000000004,
          -38.007154,
          -37.992659,
          -38.008051,
          -38.062472,
          -38.052346,
          -38.045473,
          -38.037415,
          -37.93291,
          -37.829244,
          -37.975682,
          -36.690822,
          -36.661766,
          -36.71111,
          -36.848927,
          -36.787917,
          -36.654973,
          -36.600407000000004,
          -36.704414,
          -36.848332,
          -36.887127,
          -36.714620000000004,
          -36.667075,
          -36.587872,
          -36.773334000000006,
          -36.915031,
          -36.73205,
          -36.811409000000005,
          -36.844443,
          -36.715051,
          -36.742983,
          -36.817858,
          -36.870022999999996,
          -36.486996999999995,
          -36.834244,
          -36.753091,
          -36.643941999999996,
          -36.643993,
          -36.742221,
          -36.819705,
          -36.926594,
          -36.872440000000005,
          -36.80632,
          -36.774013000000004,
          -36.720439,
          -36.820359,
          -36.682084,
          -36.745508,
          -38.212992,
          -38.11122,
          -38.117857,
          -38.082218,
          -38.145571000000004,
          -38.109374,
          -38.162501,
          -38.138435,
          -38.080718,
          -38.1183,
          -37.837324,
          -37.823258,
          -37.816178,
          -37.818019,
          -37.668873,
          -37.733523999999996,
          -37.743188,
          -37.730841999999996,
          -37.720932,
          -37.748315000000005,
          -37.801781,
          -37.694672,
          -37.716896999999996,
          -37.722243,
          -37.723105,
          -37.714796,
          -37.680338,
          -37.638363,
          -37.70132,
          -37.714064,
          -37.721328,
          -37.882825,
          -37.888121000000005,
          -37.933603000000005,
          -37.89802,
          -37.93291,
          -37.829244,
          -37.975682,
          -36.705961,
          -36.217201,
          -36.890370000000004,
          -36.755891999999996,
          -36.901225,
          -36.819963,
          -36.816064000000004,
          -36.642365000000005,
          -36.613772,
          -36.686993,
          -36.66304,
          -36.975102,
          -36.773071,
          -36.855416999999996,
          -36.976981,
          -36.269789,
          -36.199518,
          -36.463898,
          -36.473376,
          -36.549599,
          -36.638847,
          -36.533299,
          -36.573708,
          -36.312208,
          -36.405291,
          -37.402359000000004,
          -37.394874,
          -37.395549,
          -37.419179,
          -37.413086,
          -37.419152000000004,
          -37.814563,
          -37.823258,
          -37.642984000000006,
          -37.643746,
          -37.598975,
          -37.542028,
          -37.529371999999995,
          -37.560864,
          -37.636795,
          -37.694672,
          -37.716896999999996,
          -37.722243,
          -37.723105,
          -37.714796,
          -37.680338,
          -37.665857,
          -37.673140999999994,
          -37.638363,
          -37.667957,
          -37.70132,
          -37.714064,
          -37.721328,
          -37.744219,
          -37.762519,
          -37.756341,
          -37.742893,
          -37.739262,
          -37.721328,
          -37.933603000000005,
          -37.89802,
          -38.026478999999995,
          -38.023456,
          -38.008295000000004,
          -38.007154,
          -37.992659,
          -38.008051,
          -38.062472,
          -38.052346,
          -38.045473,
          -38.037415,
          -37.93291,
          -37.829244,
          -37.975682,
          -38.405128999999995,
          -37.617671,
          -37.594769,
          -37.79977,
          -37.808769,
          -37.795059,
          -37.814624,
          -37.812635,
          -37.795059,
          -37.782096,
          -37.799065,
          -37.797701,
          -37.753381,
          -37.771039,
          -37.762076,
          -37.741240000000005,
          -37.770312,
          -37.744465999999996,
          -37.766501,
          -37.969994,
          -37.797549,
          -37.914615999999995,
          -37.838725,
          -37.903337,
          -37.903337,
          -37.77583,
          -37.773272,
          -37.772228999999996,
          -37.777772999999996,
          -37.784337,
          -37.780995000000004,
          -37.598975,
          -37.542028,
          -37.529371999999995,
          -37.560864,
          -37.636795,
          -37.694672,
          -37.716896999999996,
          -37.722243,
          -37.723105,
          -37.714796,
          -37.680338,
          -37.665857,
          -37.673140999999994,
          -37.638363,
          -37.667957,
          -37.875412,
          -37.866895,
          -37.877328000000006,
          -37.878370000000004,
          -37.886371999999994,
          -37.886371999999994,
          -37.874223,
          -37.617671,
          -37.594769,
          -37.79977,
          -37.808769,
          -37.795059,
          -37.814624,
          -37.812635,
          -37.795059,
          -37.782096,
          -37.799065,
          -37.797701,
          -37.775954,
          -37.788346000000004,
          -37.768904,
          -37.79983,
          -37.753381,
          -37.771039,
          -37.762076,
          -37.741240000000005,
          -37.770312,
          -37.744465999999996,
          -37.766501,
          -37.871632,
          -37.866939,
          -37.877626,
          -37.764829,
          -37.759716999999995,
          -37.760071,
          -37.694672,
          -37.716896999999996,
          -37.722243,
          -37.723105,
          -37.714796,
          -37.680338,
          -37.867573,
          -37.860901,
          -37.93291,
          -38.405128999999995,
          -37.806255,
          -37.814624,
          -37.812635,
          -37.795059,
          -37.782096,
          -37.799065,
          -37.797701,
          -37.856902000000005,
          -37.857681,
          -37.775954,
          -37.788346000000004,
          -37.768904,
          -37.79983,
          -37.753381,
          -37.771039,
          -37.762076,
          -37.741240000000005,
          -37.770312,
          -37.744465999999996,
          -37.766501,
          -37.680338,
          -37.867573,
          -37.860901,
          -37.93291,
          -37.814624,
          -37.812635,
          -37.795059,
          -37.782096,
          -37.799065,
          -37.797701,
          -37.814563,
          -37.814719000000004,
          -37.814563,
          -37.814719000000004
         ],
         "legendgroup": "",
         "lon": [
          145.011907,
          145.00698500000001,
          145.011124,
          145.018195,
          144.944655,
          144.951369,
          145.01428700000002,
          144.96974699999998,
          145.0026,
          145.01428700000002,
          145.017194,
          145.016634,
          145.009493,
          145.19474,
          145.159247,
          145.169626,
          145.357831,
          145.01428700000002,
          145.009493,
          145.011907,
          145.00698500000001,
          145.011124,
          145.018195,
          144.944655,
          145.01428700000002,
          145.017194,
          145.016634,
          145.009493,
          144.811911,
          144.94128700000002,
          144.963579,
          144.94710600000002,
          144.879078,
          144.932604,
          145.01428700000002,
          145.017194,
          145.016634,
          145.009493,
          145.179482,
          145.214317,
          145.129955,
          145.205645,
          145.20171100000002,
          145.20250900000002,
          145.191719,
          144.923377,
          144.888794,
          144.886116,
          144.929915,
          144.94128700000002,
          144.963579,
          144.94710600000002,
          144.879078,
          144.932604,
          145.01428700000002,
          145.017194,
          145.016634,
          145.009493,
          145.060693,
          145.24138200000002,
          145.228757,
          145.23521100000002,
          145.033718,
          144.956207,
          145.03046799999998,
          144.97026699999998,
          144.961351,
          144.947731,
          144.96974699999998,
          145.0026,
          145.011907,
          145.00698500000001,
          145.011124,
          145.018195,
          144.944655,
          145.01428700000002,
          145.071967,
          145.035103,
          145.04701200000002,
          145.266725,
          145.275095,
          145.033718,
          144.956207,
          145.03046799999998,
          144.949793,
          144.963564,
          144.9906,
          144.904098,
          144.89998300000002,
          144.887086,
          144.906239,
          144.905978,
          144.824741,
          144.823523,
          144.862455,
          145.315447,
          145.268832,
          145.320381,
          145.276538,
          145.226226,
          145.25241,
          145.319677,
          145.29407700000002,
          145.20951100000002,
          145.203099,
          144.89958700000003,
          144.895486,
          144.866197,
          144.919163,
          144.88362800000002,
          144.89488500000002,
          144.882698,
          144.943778,
          144.95137,
          144.97229099999998,
          144.979567,
          144.962837,
          144.96627900000001,
          144.971699,
          144.96131,
          144.961827,
          144.94128700000002,
          144.963579,
          144.94710600000002,
          144.879078,
          144.932604,
          144.979165,
          144.992067,
          144.98468799999998,
          144.99858899999998,
          145.027716,
          145.00051499999998,
          145.019624,
          145.009123,
          145.003005,
          145.011907,
          145.00698500000001,
          145.011124,
          145.018195,
          144.944655,
          145.009493,
          145.060693,
          145.00709799999998,
          145.007165,
          144.990346,
          144.999181,
          144.996431,
          145.011044,
          144.991415,
          144.063338,
          144.991123,
          145.138553,
          145.150335,
          145.179482,
          145.214317,
          145.129955,
          145.205645,
          145.20171100000002,
          145.20250900000002,
          144.99371399999998,
          145.03956599999998,
          144.9922,
          145.033718,
          144.956207,
          145.03046799999998,
          144.280075,
          144.291162,
          144.270219,
          144.30275,
          144.290098,
          144.25755,
          144.301903,
          144.258137,
          144.280995,
          144.27023799999998,
          144.28966200000002,
          144.298591,
          144.25141499999998,
          144.30749699999998,
          144.336635,
          144.221264,
          144.160827,
          144.18280900000002,
          144.146351,
          144.24426699999998,
          144.091251,
          144.159049,
          144.124299,
          144.100406,
          144.282705,
          145.012073,
          145.023052,
          145.315447,
          145.268832,
          145.320381,
          145.276538,
          145.226226,
          145.25241,
          145.319677,
          145.29407700000002,
          145.20951100000002,
          145.203099,
          144.98781100000002,
          144.965926,
          144.948039,
          144.889774,
          144.88358200000002,
          144.700297,
          144.692893,
          144.748931,
          144.923377,
          144.888794,
          144.886116,
          144.929915,
          144.811346,
          144.797032,
          144.78766000000002,
          144.777576,
          144.96974699999998,
          145.0026,
          144.943778,
          144.95137,
          144.97229099999998,
          144.88872,
          144.839244,
          144.87940600000002,
          144.94128700000002,
          144.963579,
          144.94710600000002,
          144.879078,
          144.932604,
          145.027716,
          145.00051499999998,
          145.019624,
          145.009123,
          145.003005,
          145.011907,
          145.00698500000001,
          145.011124,
          145.018195,
          144.944655,
          145.01428700000002,
          145.009493,
          145.03116,
          145.018479,
          145.060693,
          145.071967,
          145.035103,
          145.04701200000002,
          145.082303,
          145.096698,
          145.122517,
          145.045951,
          145.052097,
          145.007261,
          145.017455,
          144.063338,
          144.991123,
          145.067215,
          145.058121,
          145.040629,
          145.067589,
          144.99371399999998,
          145.03956599999998,
          144.9922,
          144.978814,
          144.972523,
          144.991682,
          145.001899,
          144.996826,
          145.101908,
          145.118374,
          145.112478,
          145.086849,
          145.075479,
          145.11047299999998,
          145.119404,
          145.115941,
          145.135901,
          145.107846,
          145.033718,
          144.956207,
          145.03046799999998,
          143.868371,
          143.76205,
          144.33246200000002,
          144.419476,
          144.504133,
          144.403153,
          144.4118,
          144.775073,
          144.33631200000002,
          144.390872,
          144.313944,
          144.331972,
          144.333014,
          144.36011100000002,
          144.492447,
          143.857071,
          144.17426799999998,
          144.158421,
          144.41538500000001,
          144.211349,
          144.295026,
          144.27292,
          144.49574099999998,
          144.501818,
          143.771109,
          144.65305,
          144.709894,
          143.908207,
          143.738403,
          144.397922,
          144.314641,
          144.355351,
          143.83343100000002,
          144.682618,
          143.815216,
          144.38645,
          144.001318,
          145.315447,
          145.268832,
          145.320381,
          145.276538,
          145.226226,
          145.25241,
          145.319677,
          145.29407700000002,
          145.20951100000002,
          145.203099,
          144.976335,
          144.965926,
          144.889774,
          144.88358200000002,
          144.833931,
          144.962837,
          144.96627900000001,
          144.971699,
          144.96131,
          144.961827,
          144.998752,
          145.011907,
          145.00698500000001,
          145.011124,
          145.018195,
          144.944655,
          145.01428700000002,
          145.009493,
          145.071967,
          145.035103,
          145.04701200000002,
          144.996354,
          144.985026,
          145.034175,
          144.991601,
          145.033718,
          144.956207,
          145.03046799999998,
          145.64026299999998,
          145.600639,
          145.527792,
          145.571341,
          145.58418600000002,
          145.659889,
          145.731831,
          145.479927,
          145.531703,
          145.43186599999999,
          145.607032,
          145.50128600000002,
          145.65215600000002,
          145.735508,
          145.369449,
          146.131319,
          146.080865,
          146.222613,
          146.17646000000002,
          146.275316,
          146.23717299999998,
          146.22616399999998,
          146.32541899999998,
          146.154121,
          146.163159,
          144.80284,
          144.91151200000002,
          144.994497,
          145.039763,
          144.97939399999998,
          145.004297,
          144.97026699999998,
          144.965926,
          144.88872,
          144.951369,
          144.94128700000002,
          144.963579,
          144.94710600000002,
          144.879078,
          144.932604,
          145.011907,
          145.00698500000001,
          145.011124,
          145.018195,
          144.944655,
          145.01428700000002,
          145.017194,
          145.016634,
          145.009493,
          145.060693,
          145.071967,
          145.035103,
          145.04701200000002,
          145.08793,
          145.068208,
          145.06714499999998,
          145.065044,
          145.096424,
          145.04701200000002,
          145.034175,
          144.991601,
          145.101908,
          145.118374,
          145.112478,
          145.086849,
          145.075479,
          145.11047299999998,
          145.119404,
          145.115941,
          145.135901,
          145.107846,
          145.033718,
          144.956207,
          145.03046799999998,
          144.189268,
          145.154899,
          145.101581,
          144.89958700000003,
          144.895486,
          144.866197,
          144.84710800000002,
          144.881803,
          144.866197,
          144.874299,
          144.857829,
          144.879924,
          144.75261799999998,
          144.772248,
          144.754169,
          144.736311,
          144.77472,
          144.751767,
          144.738709,
          144.582987,
          144.771097,
          144.751038,
          144.554915,
          144.657731,
          144.657731,
          144.923377,
          144.888794,
          144.886116,
          144.929915,
          144.96974699999998,
          144.96279199999998,
          144.94128700000002,
          144.963579,
          144.94710600000002,
          144.879078,
          144.932604,
          145.011907,
          145.00698500000001,
          145.011124,
          145.018195,
          144.944655,
          145.01428700000002,
          145.017194,
          145.016634,
          145.009493,
          145.060693,
          145.041976,
          145.04873700000002,
          145.059305,
          145.067892,
          145.082527,
          145.082527,
          145.091587,
          145.154899,
          145.101581,
          144.89958700000003,
          144.895486,
          144.866197,
          144.84710800000002,
          144.881803,
          144.866197,
          144.874299,
          144.857829,
          144.879924,
          144.819395,
          144.809505,
          144.83025800000001,
          144.81845,
          144.75261799999998,
          144.772248,
          144.754169,
          144.736311,
          144.77472,
          144.751767,
          144.738709,
          144.778084,
          144.761748,
          144.75777,
          144.943778,
          144.95137,
          144.97229099999998,
          145.011907,
          145.00698500000001,
          145.011124,
          145.018195,
          144.944655,
          145.01428700000002,
          144.978814,
          144.972523,
          145.033718,
          144.189268,
          144.941123,
          144.84710800000002,
          144.881803,
          144.866197,
          144.874299,
          144.857829,
          144.879924,
          144.897698,
          144.88704099999998,
          144.819395,
          144.809505,
          144.83025800000001,
          144.81845,
          144.75261799999998,
          144.772248,
          144.754169,
          144.736311,
          144.77472,
          144.751767,
          144.738709,
          145.01428700000002,
          144.978814,
          144.972523,
          145.033718,
          144.84710800000002,
          144.881803,
          144.866197,
          144.874299,
          144.857829,
          144.879924,
          144.97026699999998,
          144.948039,
          144.97026699999998,
          144.948039
         ],
         "marker": {
          "color": [
           -23,
           -23,
           -23,
           -23,
           -23,
           -22,
           -22,
           -21,
           -21,
           -21,
           -20,
           -20,
           -19,
           -19,
           -19,
           -19,
           -19,
           -17,
           -17,
           -16,
           -16,
           -16,
           -16,
           -16,
           -16,
           -16,
           -16,
           -16,
           -16,
           -15,
           -15,
           -15,
           -15,
           -15,
           -15,
           -15,
           -15,
           -15,
           -15,
           -15,
           -15,
           -15,
           -15,
           -15,
           -15,
           -14,
           -14,
           -14,
           -14,
           -14,
           -14,
           -14,
           -14,
           -14,
           -14,
           -14,
           -14,
           -14,
           -14,
           -14,
           -14,
           -14,
           -14,
           -14,
           -14,
           -13,
           -13,
           -13,
           -13,
           -13,
           -13,
           -13,
           -13,
           -13,
           -13,
           -13,
           -13,
           -13,
           -13,
           -13,
           -13,
           -13,
           -13,
           -13,
           -13,
           -13,
           -13,
           -13,
           -13,
           -13,
           -13,
           -13,
           -13,
           -13,
           -13,
           -13,
           -13,
           -13,
           -13,
           -13,
           -13,
           -13,
           -13,
           -13,
           -13,
           -12,
           -12,
           -12,
           -12,
           -12,
           -12,
           -12,
           -12,
           -12,
           -12,
           -12,
           -12,
           -12,
           -12,
           -12,
           -12,
           -12,
           -12,
           -12,
           -12,
           -12,
           -12,
           -12,
           -12,
           -12,
           -12,
           -12,
           -12,
           -12,
           -12,
           -12,
           -12,
           -12,
           -12,
           -12,
           -12,
           -12,
           -12,
           -12,
           -12,
           -12,
           -12,
           -12,
           -12,
           -12,
           -12,
           -12,
           -12,
           -12,
           -12,
           -12,
           -12,
           -12,
           -12,
           -12,
           -12,
           -12,
           -12,
           -12,
           -12,
           -12,
           -12,
           -12,
           -12,
           -12,
           -12,
           -12,
           -12,
           -12,
           -12,
           -12,
           -12,
           -12,
           -12,
           -12,
           -12,
           -12,
           -12,
           -12,
           -12,
           -12,
           -12,
           -12,
           -12,
           -12,
           -12,
           -12,
           -12,
           -12,
           -12,
           -12,
           -12,
           -12,
           -12,
           -12,
           -12,
           -12,
           -11,
           -11,
           -11,
           -11,
           -11,
           -11,
           -11,
           -11,
           -11,
           -11,
           -11,
           -11,
           -11,
           -11,
           -11,
           -11,
           -11,
           -11,
           -11,
           -11,
           -11,
           -11,
           -11,
           -11,
           -11,
           -11,
           -11,
           -11,
           -11,
           -11,
           -11,
           -11,
           -11,
           -11,
           -11,
           -11,
           -11,
           -11,
           -11,
           -11,
           -11,
           -11,
           -11,
           -11,
           -11,
           -11,
           -11,
           -11,
           -11,
           -11,
           -11,
           -11,
           -11,
           -11,
           -11,
           -11,
           -11,
           -11,
           -11,
           -11,
           -11,
           -11,
           -11,
           -11,
           -11,
           -11,
           -11,
           -11,
           -11,
           -11,
           -11,
           -11,
           -11,
           -11,
           -11,
           -11,
           -11,
           -11,
           -11,
           -11,
           -11,
           -11,
           -11,
           -11,
           -11,
           -11,
           -11,
           -11,
           -11,
           -11,
           -11,
           -11,
           -11,
           -11,
           -11,
           -11,
           -11,
           -11,
           -11,
           -11,
           -11,
           -11,
           -11,
           -11,
           -11,
           -11,
           -11,
           -11,
           -11,
           -11,
           -11,
           -11,
           -11,
           -11,
           -11,
           -11,
           -11,
           -11,
           -11,
           -11,
           -11,
           -11,
           -11,
           -11,
           -11,
           -11,
           -11,
           -11,
           -10,
           -10,
           -10,
           -10,
           -10,
           -10,
           -10,
           -10,
           -10,
           -10,
           -10,
           -10,
           -10,
           -10,
           -10,
           -10,
           -10,
           -10,
           -10,
           -10,
           -10,
           -10,
           -10,
           -10,
           -10,
           -10,
           -10,
           -10,
           -10,
           -10,
           -10,
           -10,
           -10,
           -10,
           -10,
           -10,
           -10,
           -10,
           -10,
           -10,
           -10,
           -10,
           -10,
           -10,
           -10,
           -10,
           -10,
           -10,
           -10,
           -10,
           -10,
           -10,
           -10,
           -10,
           -10,
           -10,
           -10,
           -10,
           -10,
           -9,
           -9,
           -9,
           -9,
           -9,
           -9,
           -9,
           -9,
           -9,
           -9,
           -9,
           -9,
           -9,
           -9,
           -9,
           -9,
           -9,
           -9,
           -9,
           -9,
           -9,
           -9,
           -9,
           -9,
           -9,
           -9,
           -9,
           -9,
           -9,
           -9,
           -9,
           -9,
           -9,
           -9,
           -9,
           -9,
           -9,
           -9,
           -9,
           -9,
           -9,
           -9,
           -9,
           -9,
           -9,
           -9,
           -8,
           -8,
           -8,
           -8,
           -8,
           -8,
           -8,
           -8,
           -8,
           -8,
           -8,
           -8,
           -8,
           -8,
           -8,
           -8,
           -8,
           -8,
           -8,
           -8,
           -8,
           -8,
           -8,
           -8,
           -8,
           -8,
           -8,
           -8,
           -8,
           -8,
           -8,
           -8,
           -8,
           -8,
           -8,
           -8,
           -8,
           -8,
           -8,
           -8,
           -8,
           -8,
           -8,
           -8,
           -8,
           -8,
           -8,
           -8,
           -8,
           -8,
           -8,
           -8,
           -7,
           -7,
           -7,
           -7,
           -7,
           -7,
           -7,
           -7,
           -7,
           -7,
           -7,
           -7,
           -7,
           -7,
           -7,
           -7,
           -7,
           -7,
           -7,
           -7,
           -7,
           -7,
           -7,
           -7,
           -7,
           -7,
           -7,
           -7,
           -7,
           -7,
           -7,
           -7,
           -7,
           -7,
           -7,
           -7,
           -6,
           -6,
           -6,
           -6,
           -6,
           -6,
           -6,
           -6,
           -6,
           -6,
           -6,
           -6,
           -6,
           -6,
           -6,
           -6,
           -6,
           -6,
           -6,
           -6,
           -6,
           -6,
           -6,
           -6,
           -5,
           -5,
           -5,
           -5,
           -5,
           -5,
           -4,
           -4,
           -3,
           -3
          ],
          "coloraxis": "coloraxis",
          "opacity": 0.6,
          "size": [
           2,
           2,
           2,
           2,
           2,
           1,
           1,
           1,
           1,
           1,
           3,
           3,
           1,
           1,
           1,
           1,
           1,
           2,
           4,
           3,
           3,
           3,
           3,
           3,
           1,
           2,
           2,
           4,
           2,
           1,
           1,
           1,
           1,
           1,
           1,
           3,
           3,
           6,
           4,
           4,
           4,
           4,
           4,
           4,
           1,
           6,
           6,
           6,
           6,
           1,
           1,
           1,
           1,
           1,
           3,
           1,
           1,
           3,
           1,
           1,
           1,
           1,
           1,
           1,
           1,
           1,
           1,
           1,
           1,
           1,
           1,
           1,
           1,
           1,
           1,
           1,
           1,
           1,
           1,
           1,
           1,
           3,
           4,
           4,
           1,
           1,
           1,
           1,
           1,
           1,
           1,
           1,
           1,
           1,
           1,
           1,
           1,
           1,
           1,
           1,
           1,
           1,
           1,
           1,
           1,
           1,
           1,
           1,
           3,
           1,
           1,
           1,
           2,
           2,
           2,
           1,
           3,
           3,
           3,
           3,
           3,
           4,
           4,
           4,
           4,
           4,
           1,
           2,
           2,
           2,
           6,
           6,
           6,
           6,
           6,
           1,
           1,
           1,
           1,
           1,
           9,
           1,
           1,
           1,
           1,
           1,
           1,
           1,
           1,
           1,
           1,
           1,
           1,
           1,
           1,
           1,
           1,
           1,
           1,
           2,
           2,
           2,
           2,
           1,
           1,
           1,
           1,
           1,
           1,
           1,
           1,
           1,
           1,
           1,
           1,
           1,
           1,
           1,
           1,
           1,
           1,
           1,
           1,
           1,
           1,
           1,
           1,
           1,
           1,
           1,
           1,
           1,
           3,
           3,
           3,
           3,
           3,
           3,
           3,
           3,
           3,
           3,
           2,
           1,
           4,
           1,
           1,
           2,
           2,
           2,
           2,
           2,
           2,
           2,
           1,
           1,
           1,
           1,
           1,
           1,
           1,
           1,
           1,
           1,
           1,
           1,
           3,
           3,
           3,
           3,
           3,
           2,
           2,
           2,
           2,
           2,
           1,
           1,
           1,
           1,
           1,
           1,
           4,
           1,
           1,
           4,
           1,
           1,
           1,
           1,
           1,
           1,
           1,
           1,
           1,
           1,
           2,
           2,
           3,
           1,
           1,
           1,
           2,
           2,
           2,
           1,
           1,
           1,
           1,
           1,
           1,
           1,
           1,
           1,
           1,
           1,
           1,
           1,
           1,
           1,
           1,
           1,
           1,
           1,
           1,
           1,
           1,
           1,
           1,
           1,
           1,
           1,
           1,
           1,
           1,
           1,
           1,
           1,
           1,
           1,
           1,
           1,
           1,
           1,
           1,
           1,
           1,
           1,
           1,
           1,
           1,
           1,
           1,
           1,
           1,
           1,
           1,
           1,
           1,
           1,
           3,
           3,
           3,
           3,
           3,
           3,
           3,
           3,
           3,
           3,
           1,
           2,
           2,
           2,
           2,
           3,
           3,
           3,
           3,
           3,
           1,
           1,
           1,
           1,
           1,
           1,
           3,
           6,
           2,
           2,
           2,
           1,
           1,
           1,
           1,
           4,
           4,
           4,
           1,
           1,
           1,
           1,
           1,
           1,
           1,
           1,
           1,
           1,
           1,
           1,
           1,
           1,
           1,
           1,
           1,
           1,
           1,
           1,
           1,
           1,
           1,
           1,
           1,
           1,
           1,
           1,
           1,
           1,
           1,
           1,
           1,
           2,
           1,
           4,
           4,
           4,
           4,
           4,
           2,
           2,
           2,
           2,
           2,
           2,
           1,
           1,
           5,
           1,
           2,
           2,
           2,
           1,
           1,
           1,
           1,
           1,
           2,
           1,
           1,
           1,
           1,
           1,
           1,
           1,
           1,
           1,
           1,
           1,
           1,
           4,
           1,
           1,
           3,
           1,
           1,
           2,
           2,
           2,
           4,
           4,
           4,
           4,
           4,
           4,
           5,
           5,
           5,
           5,
           5,
           5,
           5,
           7,
           7,
           7,
           7,
           7,
           7,
           1,
           1,
           1,
           1,
           1,
           1,
           5,
           5,
           5,
           5,
           5,
           2,
           2,
           2,
           2,
           2,
           1,
           1,
           1,
           3,
           1,
           3,
           3,
           3,
           3,
           5,
           5,
           5,
           1,
           1,
           3,
           3,
           3,
           2,
           2,
           2,
           2,
           2,
           2,
           2,
           2,
           2,
           2,
           4,
           4,
           4,
           4,
           4,
           4,
           4,
           1,
           1,
           1,
           1,
           1,
           1,
           1,
           1,
           1,
           1,
           1,
           2,
           3,
           3,
           1,
           2,
           1,
           2,
           2,
           2,
           2,
           2,
           2,
           1,
           1,
           3,
           3,
           3,
           3,
           6,
           6,
           6,
           6,
           6,
           6,
           6,
           3,
           1,
           1,
           1,
           2,
           2,
           2,
           2,
           2,
           2,
           2,
           1,
           1,
           1
          ],
          "sizemode": "area",
          "sizeref": 0.0225
         },
         "mode": "markers",
         "name": "",
         "showlegend": false,
         "subplot": "mapbox",
         "type": "scattermapbox"
        }
       ],
       "layout": {
        "coloraxis": {
         "colorbar": {
          "title": {
           "text": "Days from today"
          }
         },
         "colorscale": [
          [
           0,
           "#0d0887"
          ],
          [
           0.1111111111111111,
           "#46039f"
          ],
          [
           0.2222222222222222,
           "#7201a8"
          ],
          [
           0.3333333333333333,
           "#9c179e"
          ],
          [
           0.4444444444444444,
           "#bd3786"
          ],
          [
           0.5555555555555556,
           "#d8576b"
          ],
          [
           0.6666666666666666,
           "#ed7953"
          ],
          [
           0.7777777777777778,
           "#fb9f3a"
          ],
          [
           0.8888888888888888,
           "#fdca26"
          ],
          [
           1,
           "#f0f921"
          ]
         ]
        },
        "height": 1100,
        "legend": {
         "itemsizing": "constant",
         "tracegroupgap": 0
        },
        "mapbox": {
         "center": {
          "lat": -37.45,
          "lon": 144.995
         },
         "domain": {
          "x": [
           0,
           1
          ],
          "y": [
           0,
           1
          ]
         },
         "style": "carto-positron",
         "zoom": 8
        },
        "template": {
         "data": {
          "bar": [
           {
            "error_x": {
             "color": "#2a3f5f"
            },
            "error_y": {
             "color": "#2a3f5f"
            },
            "marker": {
             "line": {
              "color": "#E5ECF6",
              "width": 0.5
             }
            },
            "type": "bar"
           }
          ],
          "barpolar": [
           {
            "marker": {
             "line": {
              "color": "#E5ECF6",
              "width": 0.5
             }
            },
            "type": "barpolar"
           }
          ],
          "carpet": [
           {
            "aaxis": {
             "endlinecolor": "#2a3f5f",
             "gridcolor": "white",
             "linecolor": "white",
             "minorgridcolor": "white",
             "startlinecolor": "#2a3f5f"
            },
            "baxis": {
             "endlinecolor": "#2a3f5f",
             "gridcolor": "white",
             "linecolor": "white",
             "minorgridcolor": "white",
             "startlinecolor": "#2a3f5f"
            },
            "type": "carpet"
           }
          ],
          "choropleth": [
           {
            "colorbar": {
             "outlinewidth": 0,
             "ticks": ""
            },
            "type": "choropleth"
           }
          ],
          "contour": [
           {
            "colorbar": {
             "outlinewidth": 0,
             "ticks": ""
            },
            "colorscale": [
             [
              0,
              "#0d0887"
             ],
             [
              0.1111111111111111,
              "#46039f"
             ],
             [
              0.2222222222222222,
              "#7201a8"
             ],
             [
              0.3333333333333333,
              "#9c179e"
             ],
             [
              0.4444444444444444,
              "#bd3786"
             ],
             [
              0.5555555555555556,
              "#d8576b"
             ],
             [
              0.6666666666666666,
              "#ed7953"
             ],
             [
              0.7777777777777778,
              "#fb9f3a"
             ],
             [
              0.8888888888888888,
              "#fdca26"
             ],
             [
              1,
              "#f0f921"
             ]
            ],
            "type": "contour"
           }
          ],
          "contourcarpet": [
           {
            "colorbar": {
             "outlinewidth": 0,
             "ticks": ""
            },
            "type": "contourcarpet"
           }
          ],
          "heatmap": [
           {
            "colorbar": {
             "outlinewidth": 0,
             "ticks": ""
            },
            "colorscale": [
             [
              0,
              "#0d0887"
             ],
             [
              0.1111111111111111,
              "#46039f"
             ],
             [
              0.2222222222222222,
              "#7201a8"
             ],
             [
              0.3333333333333333,
              "#9c179e"
             ],
             [
              0.4444444444444444,
              "#bd3786"
             ],
             [
              0.5555555555555556,
              "#d8576b"
             ],
             [
              0.6666666666666666,
              "#ed7953"
             ],
             [
              0.7777777777777778,
              "#fb9f3a"
             ],
             [
              0.8888888888888888,
              "#fdca26"
             ],
             [
              1,
              "#f0f921"
             ]
            ],
            "type": "heatmap"
           }
          ],
          "heatmapgl": [
           {
            "colorbar": {
             "outlinewidth": 0,
             "ticks": ""
            },
            "colorscale": [
             [
              0,
              "#0d0887"
             ],
             [
              0.1111111111111111,
              "#46039f"
             ],
             [
              0.2222222222222222,
              "#7201a8"
             ],
             [
              0.3333333333333333,
              "#9c179e"
             ],
             [
              0.4444444444444444,
              "#bd3786"
             ],
             [
              0.5555555555555556,
              "#d8576b"
             ],
             [
              0.6666666666666666,
              "#ed7953"
             ],
             [
              0.7777777777777778,
              "#fb9f3a"
             ],
             [
              0.8888888888888888,
              "#fdca26"
             ],
             [
              1,
              "#f0f921"
             ]
            ],
            "type": "heatmapgl"
           }
          ],
          "histogram": [
           {
            "marker": {
             "colorbar": {
              "outlinewidth": 0,
              "ticks": ""
             }
            },
            "type": "histogram"
           }
          ],
          "histogram2d": [
           {
            "colorbar": {
             "outlinewidth": 0,
             "ticks": ""
            },
            "colorscale": [
             [
              0,
              "#0d0887"
             ],
             [
              0.1111111111111111,
              "#46039f"
             ],
             [
              0.2222222222222222,
              "#7201a8"
             ],
             [
              0.3333333333333333,
              "#9c179e"
             ],
             [
              0.4444444444444444,
              "#bd3786"
             ],
             [
              0.5555555555555556,
              "#d8576b"
             ],
             [
              0.6666666666666666,
              "#ed7953"
             ],
             [
              0.7777777777777778,
              "#fb9f3a"
             ],
             [
              0.8888888888888888,
              "#fdca26"
             ],
             [
              1,
              "#f0f921"
             ]
            ],
            "type": "histogram2d"
           }
          ],
          "histogram2dcontour": [
           {
            "colorbar": {
             "outlinewidth": 0,
             "ticks": ""
            },
            "colorscale": [
             [
              0,
              "#0d0887"
             ],
             [
              0.1111111111111111,
              "#46039f"
             ],
             [
              0.2222222222222222,
              "#7201a8"
             ],
             [
              0.3333333333333333,
              "#9c179e"
             ],
             [
              0.4444444444444444,
              "#bd3786"
             ],
             [
              0.5555555555555556,
              "#d8576b"
             ],
             [
              0.6666666666666666,
              "#ed7953"
             ],
             [
              0.7777777777777778,
              "#fb9f3a"
             ],
             [
              0.8888888888888888,
              "#fdca26"
             ],
             [
              1,
              "#f0f921"
             ]
            ],
            "type": "histogram2dcontour"
           }
          ],
          "mesh3d": [
           {
            "colorbar": {
             "outlinewidth": 0,
             "ticks": ""
            },
            "type": "mesh3d"
           }
          ],
          "parcoords": [
           {
            "line": {
             "colorbar": {
              "outlinewidth": 0,
              "ticks": ""
             }
            },
            "type": "parcoords"
           }
          ],
          "pie": [
           {
            "automargin": true,
            "type": "pie"
           }
          ],
          "scatter": [
           {
            "marker": {
             "colorbar": {
              "outlinewidth": 0,
              "ticks": ""
             }
            },
            "type": "scatter"
           }
          ],
          "scatter3d": [
           {
            "line": {
             "colorbar": {
              "outlinewidth": 0,
              "ticks": ""
             }
            },
            "marker": {
             "colorbar": {
              "outlinewidth": 0,
              "ticks": ""
             }
            },
            "type": "scatter3d"
           }
          ],
          "scattercarpet": [
           {
            "marker": {
             "colorbar": {
              "outlinewidth": 0,
              "ticks": ""
             }
            },
            "type": "scattercarpet"
           }
          ],
          "scattergeo": [
           {
            "marker": {
             "colorbar": {
              "outlinewidth": 0,
              "ticks": ""
             }
            },
            "type": "scattergeo"
           }
          ],
          "scattergl": [
           {
            "marker": {
             "colorbar": {
              "outlinewidth": 0,
              "ticks": ""
             }
            },
            "type": "scattergl"
           }
          ],
          "scattermapbox": [
           {
            "marker": {
             "colorbar": {
              "outlinewidth": 0,
              "ticks": ""
             }
            },
            "type": "scattermapbox"
           }
          ],
          "scatterpolar": [
           {
            "marker": {
             "colorbar": {
              "outlinewidth": 0,
              "ticks": ""
             }
            },
            "type": "scatterpolar"
           }
          ],
          "scatterpolargl": [
           {
            "marker": {
             "colorbar": {
              "outlinewidth": 0,
              "ticks": ""
             }
            },
            "type": "scatterpolargl"
           }
          ],
          "scatterternary": [
           {
            "marker": {
             "colorbar": {
              "outlinewidth": 0,
              "ticks": ""
             }
            },
            "type": "scatterternary"
           }
          ],
          "surface": [
           {
            "colorbar": {
             "outlinewidth": 0,
             "ticks": ""
            },
            "colorscale": [
             [
              0,
              "#0d0887"
             ],
             [
              0.1111111111111111,
              "#46039f"
             ],
             [
              0.2222222222222222,
              "#7201a8"
             ],
             [
              0.3333333333333333,
              "#9c179e"
             ],
             [
              0.4444444444444444,
              "#bd3786"
             ],
             [
              0.5555555555555556,
              "#d8576b"
             ],
             [
              0.6666666666666666,
              "#ed7953"
             ],
             [
              0.7777777777777778,
              "#fb9f3a"
             ],
             [
              0.8888888888888888,
              "#fdca26"
             ],
             [
              1,
              "#f0f921"
             ]
            ],
            "type": "surface"
           }
          ],
          "table": [
           {
            "cells": {
             "fill": {
              "color": "#EBF0F8"
             },
             "line": {
              "color": "white"
             }
            },
            "header": {
             "fill": {
              "color": "#C8D4E3"
             },
             "line": {
              "color": "white"
             }
            },
            "type": "table"
           }
          ]
         },
         "layout": {
          "annotationdefaults": {
           "arrowcolor": "#2a3f5f",
           "arrowhead": 0,
           "arrowwidth": 1
          },
          "autotypenumbers": "strict",
          "coloraxis": {
           "colorbar": {
            "outlinewidth": 0,
            "ticks": ""
           }
          },
          "colorscale": {
           "diverging": [
            [
             0,
             "#8e0152"
            ],
            [
             0.1,
             "#c51b7d"
            ],
            [
             0.2,
             "#de77ae"
            ],
            [
             0.3,
             "#f1b6da"
            ],
            [
             0.4,
             "#fde0ef"
            ],
            [
             0.5,
             "#f7f7f7"
            ],
            [
             0.6,
             "#e6f5d0"
            ],
            [
             0.7,
             "#b8e186"
            ],
            [
             0.8,
             "#7fbc41"
            ],
            [
             0.9,
             "#4d9221"
            ],
            [
             1,
             "#276419"
            ]
           ],
           "sequential": [
            [
             0,
             "#0d0887"
            ],
            [
             0.1111111111111111,
             "#46039f"
            ],
            [
             0.2222222222222222,
             "#7201a8"
            ],
            [
             0.3333333333333333,
             "#9c179e"
            ],
            [
             0.4444444444444444,
             "#bd3786"
            ],
            [
             0.5555555555555556,
             "#d8576b"
            ],
            [
             0.6666666666666666,
             "#ed7953"
            ],
            [
             0.7777777777777778,
             "#fb9f3a"
            ],
            [
             0.8888888888888888,
             "#fdca26"
            ],
            [
             1,
             "#f0f921"
            ]
           ],
           "sequentialminus": [
            [
             0,
             "#0d0887"
            ],
            [
             0.1111111111111111,
             "#46039f"
            ],
            [
             0.2222222222222222,
             "#7201a8"
            ],
            [
             0.3333333333333333,
             "#9c179e"
            ],
            [
             0.4444444444444444,
             "#bd3786"
            ],
            [
             0.5555555555555556,
             "#d8576b"
            ],
            [
             0.6666666666666666,
             "#ed7953"
            ],
            [
             0.7777777777777778,
             "#fb9f3a"
            ],
            [
             0.8888888888888888,
             "#fdca26"
            ],
            [
             1,
             "#f0f921"
            ]
           ]
          },
          "colorway": [
           "#636efa",
           "#EF553B",
           "#00cc96",
           "#ab63fa",
           "#FFA15A",
           "#19d3f3",
           "#FF6692",
           "#B6E880",
           "#FF97FF",
           "#FECB52"
          ],
          "font": {
           "color": "#2a3f5f"
          },
          "geo": {
           "bgcolor": "white",
           "lakecolor": "white",
           "landcolor": "#E5ECF6",
           "showlakes": true,
           "showland": true,
           "subunitcolor": "white"
          },
          "hoverlabel": {
           "align": "left"
          },
          "hovermode": "closest",
          "mapbox": {
           "style": "light"
          },
          "paper_bgcolor": "white",
          "plot_bgcolor": "#E5ECF6",
          "polar": {
           "angularaxis": {
            "gridcolor": "white",
            "linecolor": "white",
            "ticks": ""
           },
           "bgcolor": "#E5ECF6",
           "radialaxis": {
            "gridcolor": "white",
            "linecolor": "white",
            "ticks": ""
           }
          },
          "scene": {
           "xaxis": {
            "backgroundcolor": "#E5ECF6",
            "gridcolor": "white",
            "gridwidth": 2,
            "linecolor": "white",
            "showbackground": true,
            "ticks": "",
            "zerolinecolor": "white"
           },
           "yaxis": {
            "backgroundcolor": "#E5ECF6",
            "gridcolor": "white",
            "gridwidth": 2,
            "linecolor": "white",
            "showbackground": true,
            "ticks": "",
            "zerolinecolor": "white"
           },
           "zaxis": {
            "backgroundcolor": "#E5ECF6",
            "gridcolor": "white",
            "gridwidth": 2,
            "linecolor": "white",
            "showbackground": true,
            "ticks": "",
            "zerolinecolor": "white"
           }
          },
          "shapedefaults": {
           "line": {
            "color": "#2a3f5f"
           }
          },
          "ternary": {
           "aaxis": {
            "gridcolor": "white",
            "linecolor": "white",
            "ticks": ""
           },
           "baxis": {
            "gridcolor": "white",
            "linecolor": "white",
            "ticks": ""
           },
           "bgcolor": "#E5ECF6",
           "caxis": {
            "gridcolor": "white",
            "linecolor": "white",
            "ticks": ""
           }
          },
          "title": {
           "x": 0.05
          },
          "xaxis": {
           "automargin": true,
           "gridcolor": "white",
           "linecolor": "white",
           "ticks": "",
           "title": {
            "standoff": 15
           },
           "zerolinecolor": "white",
           "zerolinewidth": 2
          },
          "yaxis": {
           "automargin": true,
           "gridcolor": "white",
           "linecolor": "white",
           "ticks": "",
           "title": {
            "standoff": 15
           },
           "zerolinecolor": "white",
           "zerolinewidth": 2
          }
         }
        },
        "title": {
         "text": "Exposure sites in space and time"
        },
        "width": 1100
       }
      },
      "text/html": [
       "<div>                            <div id=\"11c30a36-798e-4c0c-a77c-411706f8d4b4\" class=\"plotly-graph-div\" style=\"height:1100px; width:1100px;\"></div>            <script type=\"text/javascript\">                require([\"plotly\"], function(Plotly) {                    window.PLOTLYENV=window.PLOTLYENV || {};                                    if (document.getElementById(\"11c30a36-798e-4c0c-a77c-411706f8d4b4\")) {                    Plotly.newPlot(                        \"11c30a36-798e-4c0c-a77c-411706f8d4b4\",                        [{\"customdata\": [[\"3073\", 2], [\"3073\", 2], [\"3073\", 2], [\"3073\", 2], [\"3073\", 2], [\"3061\", 1], [\"3074\", 1], [\"3053\", 1], [\"3053\", 1], [\"3074\", 1], [\"3075\", 3], [\"3075\", 3], [\"3076\", 1], [\"3109\", 1], [\"3109\", 1], [\"3109\", 1], [\"3767\", 1], [\"3074\", 2], [\"3076\", 4], [\"3073\", 3], [\"3073\", 3], [\"3073\", 3], [\"3073\", 3], [\"3073\", 3], [\"3074\", 1], [\"3075\", 2], [\"3075\", 2], [\"3076\", 4], [\"3750\", 2], [\"3064\", 1], [\"3064\", 1], [\"3064\", 1], [\"3064\", 1], [\"3064\", 1], [\"3074\", 1], [\"3075\", 3], [\"3075\", 3], [\"3076\", 6], [\"3175\", 4], [\"3175\", 4], [\"3175\", 4], [\"3175\", 4], [\"3175\", 4], [\"3175\", 4], [\"3201\", 1], [\"3032\", 6], [\"3032\", 6], [\"3032\", 6], [\"3032\", 6], [\"3064\", 1], [\"3064\", 1], [\"3064\", 1], [\"3064\", 1], [\"3064\", 1], [\"3074\", 3], [\"3075\", 1], [\"3075\", 1], [\"3076\", 3], [\"3082\", 1], [\"3152\", 1], [\"3152\", 1], [\"3152\", 1], [\"3205\", 1], [\"3207\", 1], [\"3207\", 1], [\"3000\", 1], [\"3052\", 1], [\"3052\", 1], [\"3053\", 1], [\"3053\", 1], [\"3073\", 1], [\"3073\", 1], [\"3073\", 1], [\"3073\", 1], [\"3073\", 1], [\"3074\", 1], [\"3083\", 1], [\"3083\", 1], [\"3083\", 1], [\"3153\", 1], [\"3153\", 1], [\"3205\", 3], [\"3207\", 4], [\"3207\", 4], [\"3936\", 1], [\"3936\", 1], [\"3936\", 1], [\"3939\", 1], [\"3939\", 1], [\"3939\", 1], [\"3939\", 1], [\"3939\", 1], [\"3941\", 1], [\"3941\", 1], [\"3941\", 1], [\"3977\", 1], [\"3977\", 1], [\"3977\", 1], [\"3977\", 1], [\"3977\", 1], [\"3977\", 1], [\"3977\", 1], [\"3977\", 1], [\"3977\", 1], [\"3977\", 1], [\"3011\", 1], [\"3011\", 1], [\"3011\", 1], [\"3039\", 3], [\"3043\", 1], [\"3043\", 1], [\"3043\", 1], [\"3056\", 2], [\"3056\", 2], [\"3056\", 2], [\"3057\", 1], [\"3058\", 3], [\"3058\", 3], [\"3058\", 3], [\"3058\", 3], [\"3058\", 3], [\"3064\", 4], [\"3064\", 4], [\"3064\", 4], [\"3064\", 4], [\"3064\", 4], [\"3065\", 1], [\"3068\", 2], [\"3068\", 2], [\"3071\", 2], [\"3072\", 6], [\"3072\", 6], [\"3072\", 6], [\"3072\", 6], [\"3072\", 6], [\"3073\", 1], [\"3073\", 1], [\"3073\", 1], [\"3073\", 1], [\"3073\", 1], [\"3076\", 9], [\"3082\", 1], [\"3121\", 1], [\"3121\", 1], [\"3121\", 1], [\"3121\", 1], [\"3121\", 1], [\"3121\", 1], [\"3121\", 1], [\"3141\", 1], [\"3141\", 1], [\"3151\", 1], [\"3151\", 1], [\"3175\", 1], [\"3175\", 1], [\"3175\", 1], [\"3175\", 1], [\"3175\", 1], [\"3175\", 1], [\"3181\", 2], [\"3181\", 2], [\"3181\", 2], [\"3205\", 2], [\"3207\", 1], [\"3207\", 1], [\"3550\", 1], [\"3550\", 1], [\"3550\", 1], [\"3550\", 1], [\"3550\", 1], [\"3550\", 1], [\"3550\", 1], [\"3550\", 1], [\"3550\", 1], [\"3550\", 1], [\"3550\", 1], [\"3550\", 1], [\"3550\", 1], [\"3550\", 1], [\"3568\", 1], [\"3568\", 1], [\"3568\", 1], [\"3568\", 1], [\"3568\", 1], [\"3568\", 1], [\"3568\", 1], [\"3568\", 1], [\"3568\", 1], [\"3568\", 1], [\"3568\", 1], [\"3937\", 1], [\"3937\", 1], [\"3977\", 3], [\"3977\", 3], [\"3977\", 3], [\"3977\", 3], [\"3977\", 3], [\"3977\", 3], [\"3977\", 3], [\"3977\", 3], [\"3977\", 3], [\"3977\", 3], [\"3002\", 2], [\"3006\", 1], [\"3008\", 4], [\"3013\", 1], [\"3013\", 1], [\"3029\", 2], [\"3029\", 2], [\"3029\", 2], [\"3032\", 2], [\"3032\", 2], [\"3032\", 2], [\"3032\", 2], [\"3038\", 1], [\"3038\", 1], [\"3038\", 1], [\"3038\", 1], [\"3053\", 1], [\"3053\", 1], [\"3056\", 1], [\"3056\", 1], [\"3056\", 1], [\"3059\", 1], [\"3063\", 1], [\"3063\", 1], [\"3064\", 3], [\"3064\", 3], [\"3064\", 3], [\"3064\", 3], [\"3064\", 3], [\"3072\", 2], [\"3072\", 2], [\"3072\", 2], [\"3072\", 2], [\"3072\", 2], [\"3073\", 1], [\"3073\", 1], [\"3073\", 1], [\"3073\", 1], [\"3073\", 1], [\"3074\", 1], [\"3076\", 4], [\"3078\", 1], [\"3078\", 1], [\"3082\", 4], [\"3083\", 1], [\"3083\", 1], [\"3083\", 1], [\"3103\", 1], [\"3103\", 1], [\"3108\", 1], [\"3122\", 1], [\"3122\", 1], [\"3122\", 1], [\"3122\", 1], [\"3141\", 2], [\"3141\", 2], [\"3146\", 3], [\"3163\", 1], [\"3163\", 1], [\"3163\", 1], [\"3181\", 2], [\"3181\", 2], [\"3181\", 2], [\"3182\", 1], [\"3182\", 1], [\"3186\", 1], [\"3186\", 1], [\"3186\", 1], [\"3195\", 1], [\"3195\", 1], [\"3195\", 1], [\"3195\", 1], [\"3195\", 1], [\"3195\", 1], [\"3196\", 1], [\"3196\", 1], [\"3196\", 1], [\"3196\", 1], [\"3205\", 1], [\"3207\", 1], [\"3207\", 1], [\"3551\", 1], [\"3551\", 1], [\"3551\", 1], [\"3551\", 1], [\"3551\", 1], [\"3551\", 1], [\"3551\", 1], [\"3551\", 1], [\"3551\", 1], [\"3551\", 1], [\"3551\", 1], [\"3551\", 1], [\"3551\", 1], [\"3551\", 1], [\"3551\", 1], [\"3551\", 1], [\"3551\", 1], [\"3551\", 1], [\"3551\", 1], [\"3551\", 1], [\"3551\", 1], [\"3551\", 1], [\"3551\", 1], [\"3551\", 1], [\"3551\", 1], [\"3551\", 1], [\"3551\", 1], [\"3551\", 1], [\"3551\", 1], [\"3551\", 1], [\"3551\", 1], [\"3551\", 1], [\"3551\", 1], [\"3551\", 1], [\"3551\", 1], [\"3551\", 1], [\"3551\", 1], [\"3977\", 3], [\"3977\", 3], [\"3977\", 3], [\"3977\", 3], [\"3977\", 3], [\"3977\", 3], [\"3977\", 3], [\"3977\", 3], [\"3977\", 3], [\"3977\", 3], [\"3004\", 1], [\"3006\", 2], [\"3013\", 2], [\"3013\", 2], [\"3045\", 2], [\"3058\", 3], [\"3058\", 3], [\"3058\", 3], [\"3058\", 3], [\"3058\", 3], [\"3067\", 1], [\"3073\", 1], [\"3073\", 1], [\"3073\", 1], [\"3073\", 1], [\"3073\", 1], [\"3074\", 3], [\"3076\", 6], [\"3083\", 2], [\"3083\", 2], [\"3083\", 2], [\"3184\", 1], [\"3184\", 1], [\"3188\", 1], [\"3188\", 1], [\"3205\", 4], [\"3207\", 4], [\"3207\", 4], [\"3666\", 1], [\"3666\", 1], [\"3666\", 1], [\"3666\", 1], [\"3666\", 1], [\"3666\", 1], [\"3666\", 1], [\"3666\", 1], [\"3666\", 1], [\"3666\", 1], [\"3666\", 1], [\"3666\", 1], [\"3666\", 1], [\"3666\", 1], [\"3666\", 1], [\"3675\", 1], [\"3675\", 1], [\"3675\", 1], [\"3675\", 1], [\"3675\", 1], [\"3675\", 1], [\"3675\", 1], [\"3675\", 1], [\"3675\", 1], [\"3675\", 1], [\"3756\", 1], [\"3756\", 1], [\"3756\", 1], [\"3756\", 1], [\"3756\", 1], [\"3756\", 1], [\"3000\", 1], [\"3006\", 1], [\"3059\", 2], [\"3061\", 1], [\"3064\", 4], [\"3064\", 4], [\"3064\", 4], [\"3064\", 4], [\"3064\", 4], [\"3073\", 2], [\"3073\", 2], [\"3073\", 2], [\"3073\", 2], [\"3073\", 2], [\"3074\", 2], [\"3075\", 1], [\"3075\", 1], [\"3076\", 5], [\"3082\", 1], [\"3083\", 2], [\"3083\", 2], [\"3083\", 2], [\"3084\", 1], [\"3084\", 1], [\"3084\", 1], [\"3084\", 1], [\"3084\", 1], [\"3086\", 2], [\"3188\", 1], [\"3188\", 1], [\"3195\", 1], [\"3195\", 1], [\"3195\", 1], [\"3195\", 1], [\"3195\", 1], [\"3195\", 1], [\"3196\", 1], [\"3196\", 1], [\"3196\", 1], [\"3196\", 1], [\"3205\", 4], [\"3207\", 1], [\"3207\", 1], [\"3230\", 3], [\"3754\", 1], [\"3754\", 1], [\"3011\", 2], [\"3011\", 2], [\"3011\", 2], [\"3012\", 4], [\"3012\", 4], [\"3012\", 4], [\"3012\", 4], [\"3012\", 4], [\"3012\", 4], [\"3023\", 5], [\"3023\", 5], [\"3023\", 5], [\"3023\", 5], [\"3023\", 5], [\"3023\", 5], [\"3023\", 5], [\"3030\", 7], [\"3030\", 7], [\"3030\", 7], [\"3030\", 7], [\"3030\", 7], [\"3030\", 7], [\"3032\", 1], [\"3032\", 1], [\"3032\", 1], [\"3032\", 1], [\"3054\", 1], [\"3054\", 1], [\"3064\", 5], [\"3064\", 5], [\"3064\", 5], [\"3064\", 5], [\"3064\", 5], [\"3073\", 2], [\"3073\", 2], [\"3073\", 2], [\"3073\", 2], [\"3073\", 2], [\"3074\", 1], [\"3075\", 1], [\"3075\", 1], [\"3076\", 3], [\"3082\", 1], [\"3145\", 3], [\"3145\", 3], [\"3145\", 3], [\"3145\", 3], [\"3148\", 5], [\"3148\", 5], [\"3148\", 5], [\"3754\", 1], [\"3754\", 1], [\"3011\", 3], [\"3011\", 3], [\"3011\", 3], [\"3012\", 2], [\"3012\", 2], [\"3012\", 2], [\"3012\", 2], [\"3012\", 2], [\"3012\", 2], [\"3020\", 2], [\"3020\", 2], [\"3020\", 2], [\"3020\", 2], [\"3023\", 4], [\"3023\", 4], [\"3023\", 4], [\"3023\", 4], [\"3023\", 4], [\"3023\", 4], [\"3023\", 4], [\"3028\", 1], [\"3028\", 1], [\"3028\", 1], [\"3056\", 1], [\"3056\", 1], [\"3056\", 1], [\"3073\", 1], [\"3073\", 1], [\"3073\", 1], [\"3073\", 1], [\"3073\", 1], [\"3074\", 2], [\"3182\", 3], [\"3182\", 3], [\"3205\", 1], [\"3230\", 2], [\"3003\", 1], [\"3012\", 2], [\"3012\", 2], [\"3012\", 2], [\"3012\", 2], [\"3012\", 2], [\"3012\", 2], [\"3016\", 1], [\"3016\", 1], [\"3020\", 3], [\"3020\", 3], [\"3020\", 3], [\"3020\", 3], [\"3023\", 6], [\"3023\", 6], [\"3023\", 6], [\"3023\", 6], [\"3023\", 6], [\"3023\", 6], [\"3023\", 6], [\"3074\", 3], [\"3182\", 1], [\"3182\", 1], [\"3205\", 1], [\"3012\", 2], [\"3012\", 2], [\"3012\", 2], [\"3012\", 2], [\"3012\", 2], [\"3012\", 2], [\"3000\", 2], [\"3008\", 1], [\"3000\", 1], [\"3008\", 1]], \"hovertemplate\": \"_id=%{customdata[1]}<br>lat=%{lat}<br>lon=%{lon}<br>Site_postcode=%{customdata[0]}<br>days_in_the_past=%{marker.color}<extra></extra>\", \"lat\": [-37.694672, -37.716896999999996, -37.722243, -37.723105, -37.714796, -37.643746, -37.680338, -37.784337, -37.778987, -37.680338, -37.665857, -37.673140999999994, -37.638363, -37.811994, -37.788827000000005, -37.757762, -37.835062, -37.680338, -37.638363, -37.694672, -37.716896999999996, -37.722243, -37.723105, -37.714796, -37.680338, -37.665857, -37.673140999999994, -37.638363, -38.380955, -37.598975, -37.542028, -37.529371999999995, -37.560864, -37.636795, -37.680338, -37.665857, -37.673140999999994, -37.638363, -38.033107, -37.987271, -38.13467, -37.965724, -38.034031, -37.967601, -38.090783, -37.77583, -37.773272, -37.772228999999996, -37.777772999999996, -37.598975, -37.542028, -37.529371999999995, -37.560864, -37.636795, -37.680338, -37.665857, -37.673140999999994, -37.638363, -37.667957, -37.869223999999996, -37.847915, -37.868978999999996, -37.93291, -37.829244, -37.975682, -37.814563, -37.796152, -37.788531, -37.784337, -37.778987, -37.694672, -37.716896999999996, -37.722243, -37.723105, -37.714796, -37.680338, -37.70132, -37.714064, -37.721328, -37.84126, -37.8303, -37.93291, -37.829244, -37.975682, -38.354428000000006, -38.333311, -38.314903, -38.398469, -38.464988, -38.425698, -38.355261999999996, -38.35533, -38.370692, -38.41506, -38.368159000000006, -38.212992, -38.11122, -38.117857, -38.082218, -38.145571000000004, -38.109374, -38.162501, -38.138435, -38.080718, -38.1183, -37.79977, -37.808769, -37.795059, -37.765707, -37.68861, -37.706315999999994, -37.68656, -37.764829, -37.759716999999995, -37.760071, -37.76491, -37.733523999999996, -37.743188, -37.730841999999996, -37.720932, -37.748315000000005, -37.598975, -37.542028, -37.529371999999995, -37.560864, -37.636795, -37.800917, -37.788118, -37.7834, -37.75504, -37.742047, -37.738735999999996, -37.743606, -37.743356, -37.736855, -37.694672, -37.716896999999996, -37.722243, -37.723105, -37.714796, -37.638363, -37.667957, -37.826869, -37.829382, -37.829719, -37.818587, -37.826421, -37.816323, -37.814951, -36.990185, -37.837883000000005, -37.858352000000004, -37.852534999999996, -38.033107, -37.987271, -38.13467, -37.965724, -38.034031, -37.967601, -37.849577000000004, -37.855396, -37.856159000000005, -37.93291, -37.829244, -37.975682, -36.758492, -36.771921, -36.822895, -36.749404999999996, -36.774405, -36.745709999999995, -36.767542, -36.746922, -36.748507000000004, -36.780733000000005, -36.803325, -36.75934, -36.759260999999995, -36.73025, -35.836345, -35.808807, -35.79337, -35.813775, -35.711438, -35.853908000000004, -35.851386, -35.858678999999995, -35.811183, -35.920497, -35.857221, -38.37014, -38.382404, -38.212992, -38.11122, -38.117857, -38.082218, -38.145571000000004, -38.109374, -38.162501, -38.138435, -38.080718, -38.1183, -37.81664, -37.823258, -37.814719000000004, -37.816178, -37.818019, -37.882636, -37.823738, -37.825004, -37.77583, -37.773272, -37.772228999999996, -37.777772999999996, -37.725726, -37.695768, -37.698758000000005, -37.698952, -37.784337, -37.778987, -37.764829, -37.759716999999995, -37.760071, -37.642984000000006, -37.629826, -37.589589000000004, -37.598975, -37.542028, -37.529371999999995, -37.560864, -37.636795, -37.742047, -37.738735999999996, -37.743606, -37.743356, -37.736855, -37.694672, -37.716896999999996, -37.722243, -37.723105, -37.714796, -37.680338, -37.638363, -37.780767, -37.776946, -37.667957, -37.70132, -37.714064, -37.721328, -37.809701000000004, -37.807311999999996, -37.783031, -37.842105, -37.834855, -37.828845, -37.819687, -36.990185, -37.837883000000005, -37.854687, -37.889336, -37.889239, -37.89069, -37.849577000000004, -37.855396, -37.856159000000005, -37.867573, -37.860901, -37.913149, -37.903864, -37.919885, -38.026478999999995, -38.023456, -38.008295000000004, -38.007154, -37.992659, -38.008051, -38.062472, -38.052346, -38.045473, -38.037415, -37.93291, -37.829244, -37.975682, -36.690822, -36.661766, -36.71111, -36.848927, -36.787917, -36.654973, -36.600407000000004, -36.704414, -36.848332, -36.887127, -36.714620000000004, -36.667075, -36.587872, -36.773334000000006, -36.915031, -36.73205, -36.811409000000005, -36.844443, -36.715051, -36.742983, -36.817858, -36.870022999999996, -36.486996999999995, -36.834244, -36.753091, -36.643941999999996, -36.643993, -36.742221, -36.819705, -36.926594, -36.872440000000005, -36.80632, -36.774013000000004, -36.720439, -36.820359, -36.682084, -36.745508, -38.212992, -38.11122, -38.117857, -38.082218, -38.145571000000004, -38.109374, -38.162501, -38.138435, -38.080718, -38.1183, -37.837324, -37.823258, -37.816178, -37.818019, -37.668873, -37.733523999999996, -37.743188, -37.730841999999996, -37.720932, -37.748315000000005, -37.801781, -37.694672, -37.716896999999996, -37.722243, -37.723105, -37.714796, -37.680338, -37.638363, -37.70132, -37.714064, -37.721328, -37.882825, -37.888121000000005, -37.933603000000005, -37.89802, -37.93291, -37.829244, -37.975682, -36.705961, -36.217201, -36.890370000000004, -36.755891999999996, -36.901225, -36.819963, -36.816064000000004, -36.642365000000005, -36.613772, -36.686993, -36.66304, -36.975102, -36.773071, -36.855416999999996, -36.976981, -36.269789, -36.199518, -36.463898, -36.473376, -36.549599, -36.638847, -36.533299, -36.573708, -36.312208, -36.405291, -37.402359000000004, -37.394874, -37.395549, -37.419179, -37.413086, -37.419152000000004, -37.814563, -37.823258, -37.642984000000006, -37.643746, -37.598975, -37.542028, -37.529371999999995, -37.560864, -37.636795, -37.694672, -37.716896999999996, -37.722243, -37.723105, -37.714796, -37.680338, -37.665857, -37.673140999999994, -37.638363, -37.667957, -37.70132, -37.714064, -37.721328, -37.744219, -37.762519, -37.756341, -37.742893, -37.739262, -37.721328, -37.933603000000005, -37.89802, -38.026478999999995, -38.023456, -38.008295000000004, -38.007154, -37.992659, -38.008051, -38.062472, -38.052346, -38.045473, -38.037415, -37.93291, -37.829244, -37.975682, -38.405128999999995, -37.617671, -37.594769, -37.79977, -37.808769, -37.795059, -37.814624, -37.812635, -37.795059, -37.782096, -37.799065, -37.797701, -37.753381, -37.771039, -37.762076, -37.741240000000005, -37.770312, -37.744465999999996, -37.766501, -37.969994, -37.797549, -37.914615999999995, -37.838725, -37.903337, -37.903337, -37.77583, -37.773272, -37.772228999999996, -37.777772999999996, -37.784337, -37.780995000000004, -37.598975, -37.542028, -37.529371999999995, -37.560864, -37.636795, -37.694672, -37.716896999999996, -37.722243, -37.723105, -37.714796, -37.680338, -37.665857, -37.673140999999994, -37.638363, -37.667957, -37.875412, -37.866895, -37.877328000000006, -37.878370000000004, -37.886371999999994, -37.886371999999994, -37.874223, -37.617671, -37.594769, -37.79977, -37.808769, -37.795059, -37.814624, -37.812635, -37.795059, -37.782096, -37.799065, -37.797701, -37.775954, -37.788346000000004, -37.768904, -37.79983, -37.753381, -37.771039, -37.762076, -37.741240000000005, -37.770312, -37.744465999999996, -37.766501, -37.871632, -37.866939, -37.877626, -37.764829, -37.759716999999995, -37.760071, -37.694672, -37.716896999999996, -37.722243, -37.723105, -37.714796, -37.680338, -37.867573, -37.860901, -37.93291, -38.405128999999995, -37.806255, -37.814624, -37.812635, -37.795059, -37.782096, -37.799065, -37.797701, -37.856902000000005, -37.857681, -37.775954, -37.788346000000004, -37.768904, -37.79983, -37.753381, -37.771039, -37.762076, -37.741240000000005, -37.770312, -37.744465999999996, -37.766501, -37.680338, -37.867573, -37.860901, -37.93291, -37.814624, -37.812635, -37.795059, -37.782096, -37.799065, -37.797701, -37.814563, -37.814719000000004, -37.814563, -37.814719000000004], \"legendgroup\": \"\", \"lon\": [145.011907, 145.00698500000001, 145.011124, 145.018195, 144.944655, 144.951369, 145.01428700000002, 144.96974699999998, 145.0026, 145.01428700000002, 145.017194, 145.016634, 145.009493, 145.19474, 145.159247, 145.169626, 145.357831, 145.01428700000002, 145.009493, 145.011907, 145.00698500000001, 145.011124, 145.018195, 144.944655, 145.01428700000002, 145.017194, 145.016634, 145.009493, 144.811911, 144.94128700000002, 144.963579, 144.94710600000002, 144.879078, 144.932604, 145.01428700000002, 145.017194, 145.016634, 145.009493, 145.179482, 145.214317, 145.129955, 145.205645, 145.20171100000002, 145.20250900000002, 145.191719, 144.923377, 144.888794, 144.886116, 144.929915, 144.94128700000002, 144.963579, 144.94710600000002, 144.879078, 144.932604, 145.01428700000002, 145.017194, 145.016634, 145.009493, 145.060693, 145.24138200000002, 145.228757, 145.23521100000002, 145.033718, 144.956207, 145.03046799999998, 144.97026699999998, 144.961351, 144.947731, 144.96974699999998, 145.0026, 145.011907, 145.00698500000001, 145.011124, 145.018195, 144.944655, 145.01428700000002, 145.071967, 145.035103, 145.04701200000002, 145.266725, 145.275095, 145.033718, 144.956207, 145.03046799999998, 144.949793, 144.963564, 144.9906, 144.904098, 144.89998300000002, 144.887086, 144.906239, 144.905978, 144.824741, 144.823523, 144.862455, 145.315447, 145.268832, 145.320381, 145.276538, 145.226226, 145.25241, 145.319677, 145.29407700000002, 145.20951100000002, 145.203099, 144.89958700000003, 144.895486, 144.866197, 144.919163, 144.88362800000002, 144.89488500000002, 144.882698, 144.943778, 144.95137, 144.97229099999998, 144.979567, 144.962837, 144.96627900000001, 144.971699, 144.96131, 144.961827, 144.94128700000002, 144.963579, 144.94710600000002, 144.879078, 144.932604, 144.979165, 144.992067, 144.98468799999998, 144.99858899999998, 145.027716, 145.00051499999998, 145.019624, 145.009123, 145.003005, 145.011907, 145.00698500000001, 145.011124, 145.018195, 144.944655, 145.009493, 145.060693, 145.00709799999998, 145.007165, 144.990346, 144.999181, 144.996431, 145.011044, 144.991415, 144.063338, 144.991123, 145.138553, 145.150335, 145.179482, 145.214317, 145.129955, 145.205645, 145.20171100000002, 145.20250900000002, 144.99371399999998, 145.03956599999998, 144.9922, 145.033718, 144.956207, 145.03046799999998, 144.280075, 144.291162, 144.270219, 144.30275, 144.290098, 144.25755, 144.301903, 144.258137, 144.280995, 144.27023799999998, 144.28966200000002, 144.298591, 144.25141499999998, 144.30749699999998, 144.336635, 144.221264, 144.160827, 144.18280900000002, 144.146351, 144.24426699999998, 144.091251, 144.159049, 144.124299, 144.100406, 144.282705, 145.012073, 145.023052, 145.315447, 145.268832, 145.320381, 145.276538, 145.226226, 145.25241, 145.319677, 145.29407700000002, 145.20951100000002, 145.203099, 144.98781100000002, 144.965926, 144.948039, 144.889774, 144.88358200000002, 144.700297, 144.692893, 144.748931, 144.923377, 144.888794, 144.886116, 144.929915, 144.811346, 144.797032, 144.78766000000002, 144.777576, 144.96974699999998, 145.0026, 144.943778, 144.95137, 144.97229099999998, 144.88872, 144.839244, 144.87940600000002, 144.94128700000002, 144.963579, 144.94710600000002, 144.879078, 144.932604, 145.027716, 145.00051499999998, 145.019624, 145.009123, 145.003005, 145.011907, 145.00698500000001, 145.011124, 145.018195, 144.944655, 145.01428700000002, 145.009493, 145.03116, 145.018479, 145.060693, 145.071967, 145.035103, 145.04701200000002, 145.082303, 145.096698, 145.122517, 145.045951, 145.052097, 145.007261, 145.017455, 144.063338, 144.991123, 145.067215, 145.058121, 145.040629, 145.067589, 144.99371399999998, 145.03956599999998, 144.9922, 144.978814, 144.972523, 144.991682, 145.001899, 144.996826, 145.101908, 145.118374, 145.112478, 145.086849, 145.075479, 145.11047299999998, 145.119404, 145.115941, 145.135901, 145.107846, 145.033718, 144.956207, 145.03046799999998, 143.868371, 143.76205, 144.33246200000002, 144.419476, 144.504133, 144.403153, 144.4118, 144.775073, 144.33631200000002, 144.390872, 144.313944, 144.331972, 144.333014, 144.36011100000002, 144.492447, 143.857071, 144.17426799999998, 144.158421, 144.41538500000001, 144.211349, 144.295026, 144.27292, 144.49574099999998, 144.501818, 143.771109, 144.65305, 144.709894, 143.908207, 143.738403, 144.397922, 144.314641, 144.355351, 143.83343100000002, 144.682618, 143.815216, 144.38645, 144.001318, 145.315447, 145.268832, 145.320381, 145.276538, 145.226226, 145.25241, 145.319677, 145.29407700000002, 145.20951100000002, 145.203099, 144.976335, 144.965926, 144.889774, 144.88358200000002, 144.833931, 144.962837, 144.96627900000001, 144.971699, 144.96131, 144.961827, 144.998752, 145.011907, 145.00698500000001, 145.011124, 145.018195, 144.944655, 145.01428700000002, 145.009493, 145.071967, 145.035103, 145.04701200000002, 144.996354, 144.985026, 145.034175, 144.991601, 145.033718, 144.956207, 145.03046799999998, 145.64026299999998, 145.600639, 145.527792, 145.571341, 145.58418600000002, 145.659889, 145.731831, 145.479927, 145.531703, 145.43186599999999, 145.607032, 145.50128600000002, 145.65215600000002, 145.735508, 145.369449, 146.131319, 146.080865, 146.222613, 146.17646000000002, 146.275316, 146.23717299999998, 146.22616399999998, 146.32541899999998, 146.154121, 146.163159, 144.80284, 144.91151200000002, 144.994497, 145.039763, 144.97939399999998, 145.004297, 144.97026699999998, 144.965926, 144.88872, 144.951369, 144.94128700000002, 144.963579, 144.94710600000002, 144.879078, 144.932604, 145.011907, 145.00698500000001, 145.011124, 145.018195, 144.944655, 145.01428700000002, 145.017194, 145.016634, 145.009493, 145.060693, 145.071967, 145.035103, 145.04701200000002, 145.08793, 145.068208, 145.06714499999998, 145.065044, 145.096424, 145.04701200000002, 145.034175, 144.991601, 145.101908, 145.118374, 145.112478, 145.086849, 145.075479, 145.11047299999998, 145.119404, 145.115941, 145.135901, 145.107846, 145.033718, 144.956207, 145.03046799999998, 144.189268, 145.154899, 145.101581, 144.89958700000003, 144.895486, 144.866197, 144.84710800000002, 144.881803, 144.866197, 144.874299, 144.857829, 144.879924, 144.75261799999998, 144.772248, 144.754169, 144.736311, 144.77472, 144.751767, 144.738709, 144.582987, 144.771097, 144.751038, 144.554915, 144.657731, 144.657731, 144.923377, 144.888794, 144.886116, 144.929915, 144.96974699999998, 144.96279199999998, 144.94128700000002, 144.963579, 144.94710600000002, 144.879078, 144.932604, 145.011907, 145.00698500000001, 145.011124, 145.018195, 144.944655, 145.01428700000002, 145.017194, 145.016634, 145.009493, 145.060693, 145.041976, 145.04873700000002, 145.059305, 145.067892, 145.082527, 145.082527, 145.091587, 145.154899, 145.101581, 144.89958700000003, 144.895486, 144.866197, 144.84710800000002, 144.881803, 144.866197, 144.874299, 144.857829, 144.879924, 144.819395, 144.809505, 144.83025800000001, 144.81845, 144.75261799999998, 144.772248, 144.754169, 144.736311, 144.77472, 144.751767, 144.738709, 144.778084, 144.761748, 144.75777, 144.943778, 144.95137, 144.97229099999998, 145.011907, 145.00698500000001, 145.011124, 145.018195, 144.944655, 145.01428700000002, 144.978814, 144.972523, 145.033718, 144.189268, 144.941123, 144.84710800000002, 144.881803, 144.866197, 144.874299, 144.857829, 144.879924, 144.897698, 144.88704099999998, 144.819395, 144.809505, 144.83025800000001, 144.81845, 144.75261799999998, 144.772248, 144.754169, 144.736311, 144.77472, 144.751767, 144.738709, 145.01428700000002, 144.978814, 144.972523, 145.033718, 144.84710800000002, 144.881803, 144.866197, 144.874299, 144.857829, 144.879924, 144.97026699999998, 144.948039, 144.97026699999998, 144.948039], \"marker\": {\"color\": [-23, -23, -23, -23, -23, -22, -22, -21, -21, -21, -20, -20, -19, -19, -19, -19, -19, -17, -17, -16, -16, -16, -16, -16, -16, -16, -16, -16, -16, -15, -15, -15, -15, -15, -15, -15, -15, -15, -15, -15, -15, -15, -15, -15, -15, -14, -14, -14, -14, -14, -14, -14, -14, -14, -14, -14, -14, -14, -14, -14, -14, -14, -14, -14, -14, -13, -13, -13, -13, -13, -13, -13, -13, -13, -13, -13, -13, -13, -13, -13, -13, -13, -13, -13, -13, -13, -13, -13, -13, -13, -13, -13, -13, -13, -13, -13, -13, -13, -13, -13, -13, -13, -13, -13, -13, -12, -12, -12, -12, -12, -12, -12, -12, -12, -12, -12, -12, -12, -12, -12, -12, -12, -12, -12, -12, -12, -12, -12, -12, -12, -12, -12, -12, -12, -12, -12, -12, -12, -12, -12, -12, -12, -12, -12, -12, -12, -12, -12, -12, -12, -12, -12, -12, -12, -12, -12, -12, -12, -12, -12, -12, -12, -12, -12, -12, -12, -12, -12, -12, -12, -12, -12, -12, -12, -12, -12, -12, -12, -12, -12, -12, -12, -12, -12, -12, -12, -12, -12, -12, -12, -12, -12, -12, -12, -12, -12, -12, -12, -12, -12, -12, -12, -11, -11, -11, -11, -11, -11, -11, -11, -11, -11, -11, -11, -11, -11, -11, -11, -11, -11, -11, -11, -11, -11, -11, -11, -11, -11, -11, -11, -11, -11, -11, -11, -11, -11, -11, -11, -11, -11, -11, -11, -11, -11, -11, -11, -11, -11, -11, -11, -11, -11, -11, -11, -11, -11, -11, -11, -11, -11, -11, -11, -11, -11, -11, -11, -11, -11, -11, -11, -11, -11, -11, -11, -11, -11, -11, -11, -11, -11, -11, -11, -11, -11, -11, -11, -11, -11, -11, -11, -11, -11, -11, -11, -11, -11, -11, -11, -11, -11, -11, -11, -11, -11, -11, -11, -11, -11, -11, -11, -11, -11, -11, -11, -11, -11, -11, -11, -11, -11, -11, -11, -11, -11, -11, -11, -11, -11, -11, -11, -10, -10, -10, -10, -10, -10, -10, -10, -10, -10, -10, -10, -10, -10, -10, -10, -10, -10, -10, -10, -10, -10, -10, -10, -10, -10, -10, -10, -10, -10, -10, -10, -10, -10, -10, -10, -10, -10, -10, -10, -10, -10, -10, -10, -10, -10, -10, -10, -10, -10, -10, -10, -10, -10, -10, -10, -10, -10, -10, -9, -9, -9, -9, -9, -9, -9, -9, -9, -9, -9, -9, -9, -9, -9, -9, -9, -9, -9, -9, -9, -9, -9, -9, -9, -9, -9, -9, -9, -9, -9, -9, -9, -9, -9, -9, -9, -9, -9, -9, -9, -9, -9, -9, -9, -9, -8, -8, -8, -8, -8, -8, -8, -8, -8, -8, -8, -8, -8, -8, -8, -8, -8, -8, -8, -8, -8, -8, -8, -8, -8, -8, -8, -8, -8, -8, -8, -8, -8, -8, -8, -8, -8, -8, -8, -8, -8, -8, -8, -8, -8, -8, -8, -8, -8, -8, -8, -8, -7, -7, -7, -7, -7, -7, -7, -7, -7, -7, -7, -7, -7, -7, -7, -7, -7, -7, -7, -7, -7, -7, -7, -7, -7, -7, -7, -7, -7, -7, -7, -7, -7, -7, -7, -7, -6, -6, -6, -6, -6, -6, -6, -6, -6, -6, -6, -6, -6, -6, -6, -6, -6, -6, -6, -6, -6, -6, -6, -6, -5, -5, -5, -5, -5, -5, -4, -4, -3, -3], \"coloraxis\": \"coloraxis\", \"opacity\": 0.6, \"size\": [2, 2, 2, 2, 2, 1, 1, 1, 1, 1, 3, 3, 1, 1, 1, 1, 1, 2, 4, 3, 3, 3, 3, 3, 1, 2, 2, 4, 2, 1, 1, 1, 1, 1, 1, 3, 3, 6, 4, 4, 4, 4, 4, 4, 1, 6, 6, 6, 6, 1, 1, 1, 1, 1, 3, 1, 1, 3, 1, 1, 1, 1, 1, 1, 1, 1, 1, 1, 1, 1, 1, 1, 1, 1, 1, 1, 1, 1, 1, 1, 1, 3, 4, 4, 1, 1, 1, 1, 1, 1, 1, 1, 1, 1, 1, 1, 1, 1, 1, 1, 1, 1, 1, 1, 1, 1, 1, 1, 3, 1, 1, 1, 2, 2, 2, 1, 3, 3, 3, 3, 3, 4, 4, 4, 4, 4, 1, 2, 2, 2, 6, 6, 6, 6, 6, 1, 1, 1, 1, 1, 9, 1, 1, 1, 1, 1, 1, 1, 1, 1, 1, 1, 1, 1, 1, 1, 1, 1, 1, 2, 2, 2, 2, 1, 1, 1, 1, 1, 1, 1, 1, 1, 1, 1, 1, 1, 1, 1, 1, 1, 1, 1, 1, 1, 1, 1, 1, 1, 1, 1, 1, 1, 3, 3, 3, 3, 3, 3, 3, 3, 3, 3, 2, 1, 4, 1, 1, 2, 2, 2, 2, 2, 2, 2, 1, 1, 1, 1, 1, 1, 1, 1, 1, 1, 1, 1, 3, 3, 3, 3, 3, 2, 2, 2, 2, 2, 1, 1, 1, 1, 1, 1, 4, 1, 1, 4, 1, 1, 1, 1, 1, 1, 1, 1, 1, 1, 2, 2, 3, 1, 1, 1, 2, 2, 2, 1, 1, 1, 1, 1, 1, 1, 1, 1, 1, 1, 1, 1, 1, 1, 1, 1, 1, 1, 1, 1, 1, 1, 1, 1, 1, 1, 1, 1, 1, 1, 1, 1, 1, 1, 1, 1, 1, 1, 1, 1, 1, 1, 1, 1, 1, 1, 1, 1, 1, 1, 1, 1, 1, 1, 3, 3, 3, 3, 3, 3, 3, 3, 3, 3, 1, 2, 2, 2, 2, 3, 3, 3, 3, 3, 1, 1, 1, 1, 1, 1, 3, 6, 2, 2, 2, 1, 1, 1, 1, 4, 4, 4, 1, 1, 1, 1, 1, 1, 1, 1, 1, 1, 1, 1, 1, 1, 1, 1, 1, 1, 1, 1, 1, 1, 1, 1, 1, 1, 1, 1, 1, 1, 1, 1, 1, 2, 1, 4, 4, 4, 4, 4, 2, 2, 2, 2, 2, 2, 1, 1, 5, 1, 2, 2, 2, 1, 1, 1, 1, 1, 2, 1, 1, 1, 1, 1, 1, 1, 1, 1, 1, 1, 1, 4, 1, 1, 3, 1, 1, 2, 2, 2, 4, 4, 4, 4, 4, 4, 5, 5, 5, 5, 5, 5, 5, 7, 7, 7, 7, 7, 7, 1, 1, 1, 1, 1, 1, 5, 5, 5, 5, 5, 2, 2, 2, 2, 2, 1, 1, 1, 3, 1, 3, 3, 3, 3, 5, 5, 5, 1, 1, 3, 3, 3, 2, 2, 2, 2, 2, 2, 2, 2, 2, 2, 4, 4, 4, 4, 4, 4, 4, 1, 1, 1, 1, 1, 1, 1, 1, 1, 1, 1, 2, 3, 3, 1, 2, 1, 2, 2, 2, 2, 2, 2, 1, 1, 3, 3, 3, 3, 6, 6, 6, 6, 6, 6, 6, 3, 1, 1, 1, 2, 2, 2, 2, 2, 2, 2, 1, 1, 1], \"sizemode\": \"area\", \"sizeref\": 0.0225}, \"mode\": \"markers\", \"name\": \"\", \"showlegend\": false, \"subplot\": \"mapbox\", \"type\": \"scattermapbox\"}],                        {\"coloraxis\": {\"colorbar\": {\"title\": {\"text\": \"Days from today\"}}, \"colorscale\": [[0.0, \"#0d0887\"], [0.1111111111111111, \"#46039f\"], [0.2222222222222222, \"#7201a8\"], [0.3333333333333333, \"#9c179e\"], [0.4444444444444444, \"#bd3786\"], [0.5555555555555556, \"#d8576b\"], [0.6666666666666666, \"#ed7953\"], [0.7777777777777778, \"#fb9f3a\"], [0.8888888888888888, \"#fdca26\"], [1.0, \"#f0f921\"]]}, \"height\": 1100, \"legend\": {\"itemsizing\": \"constant\", \"tracegroupgap\": 0}, \"mapbox\": {\"center\": {\"lat\": -37.45, \"lon\": 144.995}, \"domain\": {\"x\": [0.0, 1.0], \"y\": [0.0, 1.0]}, \"style\": \"carto-positron\", \"zoom\": 8}, \"template\": {\"data\": {\"bar\": [{\"error_x\": {\"color\": \"#2a3f5f\"}, \"error_y\": {\"color\": \"#2a3f5f\"}, \"marker\": {\"line\": {\"color\": \"#E5ECF6\", \"width\": 0.5}}, \"type\": \"bar\"}], \"barpolar\": [{\"marker\": {\"line\": {\"color\": \"#E5ECF6\", \"width\": 0.5}}, \"type\": \"barpolar\"}], \"carpet\": [{\"aaxis\": {\"endlinecolor\": \"#2a3f5f\", \"gridcolor\": \"white\", \"linecolor\": \"white\", \"minorgridcolor\": \"white\", \"startlinecolor\": \"#2a3f5f\"}, \"baxis\": {\"endlinecolor\": \"#2a3f5f\", \"gridcolor\": \"white\", \"linecolor\": \"white\", \"minorgridcolor\": \"white\", \"startlinecolor\": \"#2a3f5f\"}, \"type\": \"carpet\"}], \"choropleth\": [{\"colorbar\": {\"outlinewidth\": 0, \"ticks\": \"\"}, \"type\": \"choropleth\"}], \"contour\": [{\"colorbar\": {\"outlinewidth\": 0, \"ticks\": \"\"}, \"colorscale\": [[0.0, \"#0d0887\"], [0.1111111111111111, \"#46039f\"], [0.2222222222222222, \"#7201a8\"], [0.3333333333333333, \"#9c179e\"], [0.4444444444444444, \"#bd3786\"], [0.5555555555555556, \"#d8576b\"], [0.6666666666666666, \"#ed7953\"], [0.7777777777777778, \"#fb9f3a\"], [0.8888888888888888, \"#fdca26\"], [1.0, \"#f0f921\"]], \"type\": \"contour\"}], \"contourcarpet\": [{\"colorbar\": {\"outlinewidth\": 0, \"ticks\": \"\"}, \"type\": \"contourcarpet\"}], \"heatmap\": [{\"colorbar\": {\"outlinewidth\": 0, \"ticks\": \"\"}, \"colorscale\": [[0.0, \"#0d0887\"], [0.1111111111111111, \"#46039f\"], [0.2222222222222222, \"#7201a8\"], [0.3333333333333333, \"#9c179e\"], [0.4444444444444444, \"#bd3786\"], [0.5555555555555556, \"#d8576b\"], [0.6666666666666666, \"#ed7953\"], [0.7777777777777778, \"#fb9f3a\"], [0.8888888888888888, \"#fdca26\"], [1.0, \"#f0f921\"]], \"type\": \"heatmap\"}], \"heatmapgl\": [{\"colorbar\": {\"outlinewidth\": 0, \"ticks\": \"\"}, \"colorscale\": [[0.0, \"#0d0887\"], [0.1111111111111111, \"#46039f\"], [0.2222222222222222, \"#7201a8\"], [0.3333333333333333, \"#9c179e\"], [0.4444444444444444, \"#bd3786\"], [0.5555555555555556, \"#d8576b\"], [0.6666666666666666, \"#ed7953\"], [0.7777777777777778, \"#fb9f3a\"], [0.8888888888888888, \"#fdca26\"], [1.0, \"#f0f921\"]], \"type\": \"heatmapgl\"}], \"histogram\": [{\"marker\": {\"colorbar\": {\"outlinewidth\": 0, \"ticks\": \"\"}}, \"type\": \"histogram\"}], \"histogram2d\": [{\"colorbar\": {\"outlinewidth\": 0, \"ticks\": \"\"}, \"colorscale\": [[0.0, \"#0d0887\"], [0.1111111111111111, \"#46039f\"], [0.2222222222222222, \"#7201a8\"], [0.3333333333333333, \"#9c179e\"], [0.4444444444444444, \"#bd3786\"], [0.5555555555555556, \"#d8576b\"], [0.6666666666666666, \"#ed7953\"], [0.7777777777777778, \"#fb9f3a\"], [0.8888888888888888, \"#fdca26\"], [1.0, \"#f0f921\"]], \"type\": \"histogram2d\"}], \"histogram2dcontour\": [{\"colorbar\": {\"outlinewidth\": 0, \"ticks\": \"\"}, \"colorscale\": [[0.0, \"#0d0887\"], [0.1111111111111111, \"#46039f\"], [0.2222222222222222, \"#7201a8\"], [0.3333333333333333, \"#9c179e\"], [0.4444444444444444, \"#bd3786\"], [0.5555555555555556, \"#d8576b\"], [0.6666666666666666, \"#ed7953\"], [0.7777777777777778, \"#fb9f3a\"], [0.8888888888888888, \"#fdca26\"], [1.0, \"#f0f921\"]], \"type\": \"histogram2dcontour\"}], \"mesh3d\": [{\"colorbar\": {\"outlinewidth\": 0, \"ticks\": \"\"}, \"type\": \"mesh3d\"}], \"parcoords\": [{\"line\": {\"colorbar\": {\"outlinewidth\": 0, \"ticks\": \"\"}}, \"type\": \"parcoords\"}], \"pie\": [{\"automargin\": true, \"type\": \"pie\"}], \"scatter\": [{\"marker\": {\"colorbar\": {\"outlinewidth\": 0, \"ticks\": \"\"}}, \"type\": \"scatter\"}], \"scatter3d\": [{\"line\": {\"colorbar\": {\"outlinewidth\": 0, \"ticks\": \"\"}}, \"marker\": {\"colorbar\": {\"outlinewidth\": 0, \"ticks\": \"\"}}, \"type\": \"scatter3d\"}], \"scattercarpet\": [{\"marker\": {\"colorbar\": {\"outlinewidth\": 0, \"ticks\": \"\"}}, \"type\": \"scattercarpet\"}], \"scattergeo\": [{\"marker\": {\"colorbar\": {\"outlinewidth\": 0, \"ticks\": \"\"}}, \"type\": \"scattergeo\"}], \"scattergl\": [{\"marker\": {\"colorbar\": {\"outlinewidth\": 0, \"ticks\": \"\"}}, \"type\": \"scattergl\"}], \"scattermapbox\": [{\"marker\": {\"colorbar\": {\"outlinewidth\": 0, \"ticks\": \"\"}}, \"type\": \"scattermapbox\"}], \"scatterpolar\": [{\"marker\": {\"colorbar\": {\"outlinewidth\": 0, \"ticks\": \"\"}}, \"type\": \"scatterpolar\"}], \"scatterpolargl\": [{\"marker\": {\"colorbar\": {\"outlinewidth\": 0, \"ticks\": \"\"}}, \"type\": \"scatterpolargl\"}], \"scatterternary\": [{\"marker\": {\"colorbar\": {\"outlinewidth\": 0, \"ticks\": \"\"}}, \"type\": \"scatterternary\"}], \"surface\": [{\"colorbar\": {\"outlinewidth\": 0, \"ticks\": \"\"}, \"colorscale\": [[0.0, \"#0d0887\"], [0.1111111111111111, \"#46039f\"], [0.2222222222222222, \"#7201a8\"], [0.3333333333333333, \"#9c179e\"], [0.4444444444444444, \"#bd3786\"], [0.5555555555555556, \"#d8576b\"], [0.6666666666666666, \"#ed7953\"], [0.7777777777777778, \"#fb9f3a\"], [0.8888888888888888, \"#fdca26\"], [1.0, \"#f0f921\"]], \"type\": \"surface\"}], \"table\": [{\"cells\": {\"fill\": {\"color\": \"#EBF0F8\"}, \"line\": {\"color\": \"white\"}}, \"header\": {\"fill\": {\"color\": \"#C8D4E3\"}, \"line\": {\"color\": \"white\"}}, \"type\": \"table\"}]}, \"layout\": {\"annotationdefaults\": {\"arrowcolor\": \"#2a3f5f\", \"arrowhead\": 0, \"arrowwidth\": 1}, \"autotypenumbers\": \"strict\", \"coloraxis\": {\"colorbar\": {\"outlinewidth\": 0, \"ticks\": \"\"}}, \"colorscale\": {\"diverging\": [[0, \"#8e0152\"], [0.1, \"#c51b7d\"], [0.2, \"#de77ae\"], [0.3, \"#f1b6da\"], [0.4, \"#fde0ef\"], [0.5, \"#f7f7f7\"], [0.6, \"#e6f5d0\"], [0.7, \"#b8e186\"], [0.8, \"#7fbc41\"], [0.9, \"#4d9221\"], [1, \"#276419\"]], \"sequential\": [[0.0, \"#0d0887\"], [0.1111111111111111, \"#46039f\"], [0.2222222222222222, \"#7201a8\"], [0.3333333333333333, \"#9c179e\"], [0.4444444444444444, \"#bd3786\"], [0.5555555555555556, \"#d8576b\"], [0.6666666666666666, \"#ed7953\"], [0.7777777777777778, \"#fb9f3a\"], [0.8888888888888888, \"#fdca26\"], [1.0, \"#f0f921\"]], \"sequentialminus\": [[0.0, \"#0d0887\"], [0.1111111111111111, \"#46039f\"], [0.2222222222222222, \"#7201a8\"], [0.3333333333333333, \"#9c179e\"], [0.4444444444444444, \"#bd3786\"], [0.5555555555555556, \"#d8576b\"], [0.6666666666666666, \"#ed7953\"], [0.7777777777777778, \"#fb9f3a\"], [0.8888888888888888, \"#fdca26\"], [1.0, \"#f0f921\"]]}, \"colorway\": [\"#636efa\", \"#EF553B\", \"#00cc96\", \"#ab63fa\", \"#FFA15A\", \"#19d3f3\", \"#FF6692\", \"#B6E880\", \"#FF97FF\", \"#FECB52\"], \"font\": {\"color\": \"#2a3f5f\"}, \"geo\": {\"bgcolor\": \"white\", \"lakecolor\": \"white\", \"landcolor\": \"#E5ECF6\", \"showlakes\": true, \"showland\": true, \"subunitcolor\": \"white\"}, \"hoverlabel\": {\"align\": \"left\"}, \"hovermode\": \"closest\", \"mapbox\": {\"style\": \"light\"}, \"paper_bgcolor\": \"white\", \"plot_bgcolor\": \"#E5ECF6\", \"polar\": {\"angularaxis\": {\"gridcolor\": \"white\", \"linecolor\": \"white\", \"ticks\": \"\"}, \"bgcolor\": \"#E5ECF6\", \"radialaxis\": {\"gridcolor\": \"white\", \"linecolor\": \"white\", \"ticks\": \"\"}}, \"scene\": {\"xaxis\": {\"backgroundcolor\": \"#E5ECF6\", \"gridcolor\": \"white\", \"gridwidth\": 2, \"linecolor\": \"white\", \"showbackground\": true, \"ticks\": \"\", \"zerolinecolor\": \"white\"}, \"yaxis\": {\"backgroundcolor\": \"#E5ECF6\", \"gridcolor\": \"white\", \"gridwidth\": 2, \"linecolor\": \"white\", \"showbackground\": true, \"ticks\": \"\", \"zerolinecolor\": \"white\"}, \"zaxis\": {\"backgroundcolor\": \"#E5ECF6\", \"gridcolor\": \"white\", \"gridwidth\": 2, \"linecolor\": \"white\", \"showbackground\": true, \"ticks\": \"\", \"zerolinecolor\": \"white\"}}, \"shapedefaults\": {\"line\": {\"color\": \"#2a3f5f\"}}, \"ternary\": {\"aaxis\": {\"gridcolor\": \"white\", \"linecolor\": \"white\", \"ticks\": \"\"}, \"baxis\": {\"gridcolor\": \"white\", \"linecolor\": \"white\", \"ticks\": \"\"}, \"bgcolor\": \"#E5ECF6\", \"caxis\": {\"gridcolor\": \"white\", \"linecolor\": \"white\", \"ticks\": \"\"}}, \"title\": {\"x\": 0.05}, \"xaxis\": {\"automargin\": true, \"gridcolor\": \"white\", \"linecolor\": \"white\", \"ticks\": \"\", \"title\": {\"standoff\": 15}, \"zerolinecolor\": \"white\", \"zerolinewidth\": 2}, \"yaxis\": {\"automargin\": true, \"gridcolor\": \"white\", \"linecolor\": \"white\", \"ticks\": \"\", \"title\": {\"standoff\": 15}, \"zerolinecolor\": \"white\", \"zerolinewidth\": 2}}}, \"title\": {\"text\": \"Exposure sites in space and time\"}, \"width\": 1100},                        {\"responsive\": true}                    ).then(function(){\n",
       "                            \n",
       "var gd = document.getElementById('11c30a36-798e-4c0c-a77c-411706f8d4b4');\n",
       "var x = new MutationObserver(function (mutations, observer) {{\n",
       "        var display = window.getComputedStyle(gd).display;\n",
       "        if (!display || display === 'none') {{\n",
       "            console.log([gd, 'removed!']);\n",
       "            Plotly.purge(gd);\n",
       "            observer.disconnect();\n",
       "        }}\n",
       "}});\n",
       "\n",
       "// Listen for the removal of the full notebook cells\n",
       "var notebookContainer = gd.closest('#notebook-container');\n",
       "if (notebookContainer) {{\n",
       "    x.observe(notebookContainer, {childList: true});\n",
       "}}\n",
       "\n",
       "// Listen for the clearing of the current output cell\n",
       "var outputEl = gd.closest('.output');\n",
       "if (outputEl) {{\n",
       "    x.observe(outputEl, {childList: true});\n",
       "}}\n",
       "\n",
       "                        })                };                });            </script>        </div>"
      ]
     },
     "metadata": {},
     "output_type": "display_data"
    }
   ],
   "source": [
    "fig_map = px.scatter_mapbox(df_map,lat='lat', lon='lon', hover_data=['Site_postcode', '_id'], mapbox_style='carto-positron', \n",
    "                  color_discrete_sequence=px.colors.qualitative.Set1, \n",
    "                  opacity=0.6, title='Exposure sites in space and time',\n",
    "                  size='_id', \n",
    "                color='days_in_the_past', height=1100, width=1100, center={'lat':-37.45,'lon':144.995})\n",
    "fig_map.update_layout(\n",
    "    coloraxis_colorbar_title='Days from today')\n",
    "fig_map.show()"
   ]
  },
  {
   "cell_type": "code",
   "execution_count": 274,
   "metadata": {},
   "outputs": [],
   "source": [
    "import kaleido as kd"
   ]
  },
  {
   "cell_type": "code",
   "execution_count": 280,
   "metadata": {},
   "outputs": [],
   "source": [
    "fig_map.write_image('map.jpg', scale=5)"
   ]
  },
  {
   "cell_type": "code",
   "execution_count": null,
   "metadata": {},
   "outputs": [],
   "source": [
    "fig_map"
   ]
  }
 ],
 "metadata": {
  "kernelspec": {
   "display_name": "Python 3",
   "language": "python",
   "name": "python3"
  },
  "language_info": {
   "codemirror_mode": {
    "name": "ipython",
    "version": 3
   },
   "file_extension": ".py",
   "mimetype": "text/x-python",
   "name": "python",
   "nbconvert_exporter": "python",
   "pygments_lexer": "ipython3",
   "version": "3.8.6"
  }
 },
 "nbformat": 4,
 "nbformat_minor": 4
}
