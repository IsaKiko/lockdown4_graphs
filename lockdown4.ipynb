{
 "cells": [
  {
   "cell_type": "code",
   "execution_count": 124,
   "metadata": {},
   "outputs": [],
   "source": [
    "from selenium import webdriver \n",
    "from selenium.webdriver.common.by import By \n",
    "from selenium.webdriver.support.ui import WebDriverWait \n",
    "from selenium.webdriver.support import expected_conditions as EC \n",
    "from selenium.common.exceptions import TimeoutException"
   ]
  },
  {
   "cell_type": "code",
   "execution_count": 7,
   "metadata": {},
   "outputs": [],
   "source": [
    "import pandas as pd\n",
    "import plotly.express as px"
   ]
  },
  {
   "cell_type": "code",
   "execution_count": 126,
   "metadata": {},
   "outputs": [],
   "source": [
    "option = webdriver.ChromeOptions()\n",
    "option.add_argument(\" — incognito\")"
   ]
  },
  {
   "cell_type": "code",
   "execution_count": 127,
   "metadata": {},
   "outputs": [],
   "source": [
    "def scrape():\n",
    "    table = browser.find_element_by_class_name('ch-exposure-sites-search-form')\n",
    "    df = pd.read_html(table.get_attribute('innerHTML'))\n",
    "    return df[0]"
   ]
  },
  {
   "cell_type": "code",
   "execution_count": 128,
   "metadata": {},
   "outputs": [
    {
     "name": "stderr",
     "output_type": "stream",
     "text": [
      "<ipython-input-128-20b4a8144752>:1: DeprecationWarning:\n",
      "\n",
      "use options instead of chrome_options\n",
      "\n"
     ]
    }
   ],
   "source": [
    "browser = webdriver.Chrome(executable_path='/Users/ikiko/Desktop/chromedriver', chrome_options=option)"
   ]
  },
  {
   "cell_type": "code",
   "execution_count": 129,
   "metadata": {},
   "outputs": [],
   "source": [
    "browser.get(\"https://www.coronavirus.vic.gov.au/exposure-sites\")"
   ]
  },
  {
   "cell_type": "code",
   "execution_count": 130,
   "metadata": {},
   "outputs": [],
   "source": [
    "elements = scrape()"
   ]
  },
  {
   "cell_type": "code",
   "execution_count": 131,
   "metadata": {},
   "outputs": [],
   "source": [
    "nextpagebutton1 = browser.find_element_by_class_name('rpl-pagination__list').find_elements_by_class_name('rpl-pagination__step')[1]\n",
    "nextpagebutton1.click()"
   ]
  },
  {
   "cell_type": "code",
   "execution_count": 132,
   "metadata": {},
   "outputs": [],
   "source": [
    "elements = pd.concat([elements, scrape()])"
   ]
  },
  {
   "cell_type": "code",
   "execution_count": 133,
   "metadata": {},
   "outputs": [],
   "source": [
    "nextpagebutton2 = browser.find_element_by_class_name('rpl-pagination__list').find_elements_by_class_name('rpl-pagination__step')[2]\n",
    "nextpagebutton2.click()"
   ]
  },
  {
   "cell_type": "code",
   "execution_count": 134,
   "metadata": {},
   "outputs": [],
   "source": [
    "elements = pd.concat([elements, scrape()])"
   ]
  },
  {
   "cell_type": "code",
   "execution_count": 135,
   "metadata": {},
   "outputs": [],
   "source": [
    "nextpagebutton_continuous = browser.find_element_by_class_name('rpl-pagination__list').find_elements_by_class_name('rpl-pagination__step')[3]\n",
    "i = 3\n",
    "while i <= 20:\n",
    "    nextpagebutton_continuous.click()\n",
    "    elements = pd.concat([elements, scrape()])\n",
    "    nextpagebutton_continuous = browser.find_element_by_class_name('rpl-pagination__list').find_elements_by_class_name('rpl-pagination__step')[3]\n",
    "    i = i + 1\n"
   ]
  },
  {
   "cell_type": "code",
   "execution_count": 136,
   "metadata": {},
   "outputs": [],
   "source": [
    "nextpagebutton_last = browser.find_element_by_class_name('rpl-pagination__list').find_elements_by_class_name('rpl-pagination__step')[4]\n",
    "nextpagebutton_last.click()\n",
    "elements = pd.concat([elements, scrape()])"
   ]
  },
  {
   "cell_type": "code",
   "execution_count": 137,
   "metadata": {},
   "outputs": [],
   "source": [
    "browser.close()"
   ]
  },
  {
   "cell_type": "code",
   "execution_count": 138,
   "metadata": {},
   "outputs": [
    {
     "data": {
      "text/plain": [
       "633"
      ]
     },
     "execution_count": 138,
     "metadata": {},
     "output_type": "execute_result"
    }
   ],
   "source": [
    "len(elements)"
   ]
  },
  {
   "cell_type": "code",
   "execution_count": 139,
   "metadata": {},
   "outputs": [],
   "source": [
    "elements = elements.drop(columns=['Suburb.1', 'Site.1', 'Notes.1', 'Health advice.1'])"
   ]
  },
  {
   "cell_type": "code",
   "execution_count": 140,
   "metadata": {},
   "outputs": [],
   "source": [
    "elements = elements.reset_index()\n",
    "elements = elements.drop(columns=['index'])"
   ]
  },
  {
   "cell_type": "code",
   "execution_count": 141,
   "metadata": {},
   "outputs": [],
   "source": [
    "elements['date_exposure'] = elements['Exposure period'].apply(lambda x: x.split(' ')[2])\n",
    "elements['date_added'] = elements['Date added'].apply(lambda x: x.split(' ')[2])"
   ]
  },
  {
   "cell_type": "code",
   "execution_count": 142,
   "metadata": {},
   "outputs": [],
   "source": [
    "elements = elements.drop_duplicates()"
   ]
  },
  {
   "cell_type": "markdown",
   "metadata": {},
   "source": [
    "Date not available for some... showing up as 'Data' in date_added column "
   ]
  },
  {
   "cell_type": "code",
   "execution_count": 143,
   "metadata": {},
   "outputs": [],
   "source": [
    "elements = elements[elements.date_added != \"Data\"]"
   ]
  },
  {
   "cell_type": "code",
   "execution_count": 144,
   "metadata": {},
   "outputs": [],
   "source": [
    "elements.date_added = pd.to_datetime(elements.date_added, dayfirst=True)\n",
    "elements.date_exposure = pd.to_datetime(elements.date_exposure, dayfirst=True)\n",
    "elements['tier'] = elements['Health advice'].apply(lambda x: x.split(' ')[3])"
   ]
  },
  {
   "cell_type": "code",
   "execution_count": 145,
   "metadata": {},
   "outputs": [],
   "source": [
    "# filter weird outliers\n",
    "elements = elements[elements.date_exposure < '2021-10-01']"
   ]
  },
  {
   "cell_type": "code",
   "execution_count": 146,
   "metadata": {},
   "outputs": [],
   "source": [
    "import plotly.express as px"
   ]
  },
  {
   "cell_type": "code",
   "execution_count": 147,
   "metadata": {},
   "outputs": [
    {
     "data": {
      "application/vnd.plotly.v1+json": {
       "config": {
        "plotlyServerURL": "https://plot.ly"
       },
       "data": [
        {
         "customdata": [
          [
           "Suburb Glen Iris",
           "Site Scicluna's Real Food Merchants Tooronga Village 350-354 Tooronga Road Glen Iris VIC 3146"
          ],
          [
           "Suburb Sunshine",
           "Site BlueCross Western Gardens 40 Anderson Rd Sunshine VIC 3020"
          ],
          [
           "Suburb Sunshine",
           "Site BlueCross Western Gardens (high care staff communcal area and low care entry) 40 Anderson Rd Sunshine VIC 3020"
          ],
          [
           "Suburb Sunshine",
           "Site BlueCross Western Gardens (all other areas of facility) 40 Anderson Rd Sunshine VIC 3020"
          ],
          [
           "Suburb Maidstone",
           "Site Arcare Maidstone Aged Care Facility (Magnolia Unit) 31 Hampstead Road Maidstone VIC 3012"
          ],
          [
           "Suburb Maidstone",
           "Site Arcare Maidstone Aged Care Facility (Magnolia Unit) 31 Hampstead Road Maidstone VIC 3012"
          ],
          [
           "Suburb Maidstone",
           "Site Arcare Maidstone Aged Care Facility (Magnolia Unit) 31 Hampstead Road Maidstone VIC 3012"
          ],
          [
           "Suburb Maidstone",
           "Site Arcare Maidstone Aged Care Facility (Magnolia Unit) 31 Hampstead Road Maidstone VIC 3012"
          ],
          [
           "Suburb Maidstone",
           "Site Arcare Maidstone Aged Care Facility (Communal Facilities) 31 Hampstead Road Maidstone VIC 3012"
          ],
          [
           "Suburb Maidstone",
           "Site Arcare Maidstone Aged Care Facility 31 Hampstead Road Maidstone VIC 3012"
          ],
          [
           "Suburb Maidstone",
           "Site Arcare Maidstone Aged Care Facility 31 Hampstead Road Maidstone VIC 3012"
          ],
          [
           "Suburb Maidstone",
           "Site Arcare Maidstone Aged Care Facility (Communial Facilities) 31 Hampstead Road Maidstone VIC 3012"
          ],
          [
           "Suburb Maidstone",
           "Site Arcare Maidstone Aged Care Facility (Communal Facilities) 31 Hampstead Road Maidstone VIC 3012"
          ],
          [
           "Suburb Maidstone",
           "Site Arcare Maidstone Aged Care Facility (Communal Facilities) 31 Hampstead Road Maidstone VIC 3012"
          ],
          [
           "Suburb Thomastown",
           "Site BP Petrol Station 72 Keon Parade Thomastown VIC 3074"
          ],
          [
           "Suburb Chelsea Heights",
           "Site Subway Chelsea Heights 1-3 Piper Drive Chelsea Heights VIC 3196"
          ],
          [
           "Suburb Bus Route",
           "Site PTV Bus Number 406 Footscray Station to Emu Road/Hampstead Road, Maidstone Bus Route VIC"
          ],
          [
           "Suburb Bus Route",
           "Site PTV Bus Number 406 Emu Road/Hampstead Road, Maidstone to Footscray Station Bus Route VIC"
          ],
          [
           "Suburb Bus Route",
           "Site PTV Bus Number 412 Footscray Station, Paisley Street to Central Square Shopping Centre stop Bus Route VIC"
          ],
          [
           "Suburb South Yarra",
           "Site Giant Bike Shop Unit 1/316-320 Toorak Road South Yarra VIC 3141"
          ],
          [
           "Suburb Cranbourne",
           "Site Connor Cranbourne Park Shopping Centre 132 High Street Cranbourne VIC 3977"
          ],
          [
           "Suburb Glen Iris",
           "Site Bakers Delight Tooronga Village Corner Tooronga Road and Toorka Road Glen Iris VIC 3146"
          ],
          [
           "Suburb Parkdale",
           "Site Adairs Parkdale Plaza Unit 6/383 Nepean Highway Parkdale VIC 3195"
          ],
          [
           "Suburb South Melbourne",
           "Site Australia Post South Melbourne 100 Market Street South Melbourne VIC 3205"
          ],
          [
           "Suburb Bus Route",
           "Site PTV Bus Number 412 Central Square Shopping Centre/Merton Stop to Footscray Station Bus Route VIC"
          ],
          [
           "Suburb Point Cook",
           "Site Stockland Point Cook Shopping Centre 5 Main Street & Murnong Street Point Cook VIC 3030"
          ],
          [
           "Suburb Reservoir",
           "Site Healthy India 276 Broadway Reservoir VIC 3073"
          ],
          [
           "Suburb Reservoir",
           "Site Healthy India 276 Broadway Reservoir VIC 3073"
          ],
          [
           "Suburb Reservoir",
           "Site Healthy India 276 Broadway Reservoir VIC 3073"
          ],
          [
           "Suburb Malvern East (Chadstone)",
           "Site QBD Books Chadstone Shop B099, 1341 Dandenong Road Malvern East (Chadstone) VIC 3145"
          ],
          [
           "Suburb Mount Dandenong",
           "Site SkyHigh Mount Dandenong and SkyHigh Cafe 26 Observatory Road Mount Dandenong VIC 3767"
          ],
          [
           "Suburb Epping",
           "Site Gloria Jean's Coffees Epping Plaza 583 High Street Epping VIC 3076"
          ],
          [
           "Suburb Epping",
           "Site Blue Sapphire Coin Laundry Epping 2A Jovic Road Epping VIC 3076"
          ],
          [
           "Suburb Epping",
           "Site Blue Sapphire Coin Laundry Epping 2A Jovic Road Epping VIC 3076"
          ],
          [
           "Suburb Epping",
           "Site Soprano's Pizza 746 High Street Epping VIC 3076"
          ],
          [
           "Suburb Lalor",
           "Site The Cake Box 314 Station Street Lalor VIC 3075"
          ],
          [
           "Suburb Chadstone",
           "Site Zimmerman Chadstone 1341 Dandenong Road Chadstone VIC 3145"
          ],
          [
           "Suburb Malvern East (Chadstone)",
           "Site Breadtop Chadstone Shop F010, 1341 Dandenong Road Malvern East (Chadstone) VIC 3145"
          ],
          [
           "Suburb Reservoir",
           "Site Akkar Pastry 274 Broadway Reservoir VIC 3073"
          ],
          [
           "Suburb Reservoir",
           "Site My Chemist Broadway 270 Broadway Reservoir VIC 3073"
          ],
          [
           "Suburb Epping",
           "Site Coles Epping Aurora Village 315A Harvest Home Rd Epping VIC 3076"
          ],
          [
           "Suburb Epping",
           "Site Liquorland Aurora Village 315A Harvest Home Rd Epping VIC 3076"
          ],
          [
           "Suburb Mill Park",
           "Site Coles Westfield Plenty Valley Civic Drive (415 McDonalds Rd) Mill Park VIC 3082"
          ],
          [
           "Suburb Mill Park",
           "Site Little Sparrow Westfield Plenty Valley 415 McDonalds Rd Mill Park VIC 3082"
          ],
          [
           "Suburb Ivanhoe",
           "Site Fairy Hills Kindergarten 7 Thyer Road Ivanhoe VIC 3079"
          ],
          [
           "Suburb South Melbourne",
           "Site Woolworths South Melbourne 113 Cecil Street South Melbourne VIC 3205"
          ],
          [
           "Suburb South Melbourne",
           "Site Woolworths South Melbourne 113 Cecil Street South Melbourne VIC 3205"
          ],
          [
           "Suburb Cranbourne West",
           "Site Woolworths Cranbourne West Cnr Hall and Evans Roads Cranbourne West VIC 3977"
          ],
          [
           "Suburb Cranbourne",
           "Site 7-Eleven Cranbourne Amstel 1/1016s Cranbourne-Frankston Rd Cranbourne VIC 3977"
          ],
          [
           "Suburb Cranbourne",
           "Site Factorie Shop SP104 Cranbourne Park Shopping Centre, High St Cranbourne VIC 3977"
          ],
          [
           "Suburb Footscray",
           "Site Inday Fillipino Store 121/81 Hopkins St (Footscray Market) Footscray VIC 3011"
          ],
          [
           "Suburb Melbourne",
           "Site The Lott (St Kilda Road News) 509 St Kilda Road Melbourne VIC 3004"
          ],
          [
           "Suburb Cranbourne",
           "Site Oporto Cranbourne Chicken 1016 Cranbourne-Frankston Rd Cranbourne VIC 3977"
          ],
          [
           "Suburb Richmond",
           "Site My Homes and Gifts 182-186 Victoria St Richmond VIC 3121"
          ],
          [
           "Suburb Elwood",
           "Site Turtle Cafe Elwood 34 Glen Huntly Rd Elwood VIC 3184"
          ],
          [
           "Suburb Port Melbourne",
           "Site Coles Port Melbourne Corner Bay and Liardet St Port Melbourne VIC 3207"
          ],
          [
           "Suburb Keilor Downs",
           "Site German Shepherd Dog Club of Victoria Western Branch Green Gully Reserve, McCrae Boulevard Keilor Downs VIC 3038"
          ],
          [
           "Suburb Noble Park",
           "Site New Lanka Restaurant 262 Railway Parade Noble Park VIC 3175"
          ],
          [
           "Suburb Yarraville",
           "Site Prestige Fruit and Vegetables 27 Anderson St Yarraville VIC 3013"
          ],
          [
           "Suburb South Melbourne",
           "Site Zoumi Cafe 70 Albert Rd South Melbourne VIC 3205"
          ],
          [
           "Suburb Footscray",
           "Site Thai Huy Butcher Shop 144, 18 Irving Street  Footscray VIC 3011"
          ],
          [
           "Suburb Bus Route",
           "Site PTV Bus Number 412 Paisley Street/Footscray to Millers Road/Geelong Bus Route VIC"
          ],
          [
           "Suburb Point Cook",
           "Site Target - Stockland Point Cook Shopping Centre Murnong Street Point Cook VIC 3030"
          ],
          [
           "Suburb St Kilda",
           "Site Galleon Cafe 9 Carlisile Street St Kilda VIC 3182"
          ],
          [
           "Suburb Brighton",
           "Site Brighton Beach Hotel 4 The Esplanade Brighton VIC 3186"
          ],
          [
           "Suburb Bus Route",
           "Site PTV Bus Number 412 Central Square Shopping Centre/Merton Stop to Footscray Station Bus Route VIC"
          ],
          [
           "Suburb Bus Route",
           "Site PTV Bus Number 406 Emu Road/Smith Street to Footscray Station Bus Route VIC"
          ],
          [
           "Suburb Bus Route",
           "Site PTV Bus Number 406 Footscray Station to Emu Road/Hampstead Road (Maidstone) Bus Route VIC"
          ],
          [
           "Suburb Cranbourne",
           "Site Gami Rasa Restaurant 19 Hotham Street Cranbourne VIC 3977"
          ],
          [
           "Suburb Epping",
           "Site JMD Grocers & Sweets 768 High Street Epping VIC 3076"
          ],
          [
           "Suburb Epping",
           "Site JMD Grocers & Sweets 768 High Street Epping VIC 3076"
          ],
          [
           "Suburb Epping",
           "Site JMD Grocers & Sweets 768 High Street Epping VIC 3076"
          ],
          [
           "Suburb Epping",
           "Site JMD Grocers & Sweets 768 High Street Epping VIC 3076"
          ],
          [
           "Suburb Point Cook",
           "Site Coles Stockland Point Cook Shopping Centre 5 Main Street & Murnong Street Point Cook VIC 3030"
          ],
          [
           "Suburb Point Cook",
           "Site Sanctuary Lakes Shopping Centre 300 Point Cook Road Point Cook VIC 3030"
          ],
          [
           "Suburb Point Cook",
           "Site Aldi Sanctuary Lakes Shopping Centre 300 Point Cook Road Point Cook VIC 3030"
          ],
          [
           "Suburb Bus Route",
           "Site PTV Bus Number 412 Central Square Shopping Centre/Merton Street to Footscray Station Bus Route VIC"
          ],
          [
           "Suburb Epping",
           "Site Coles Epping Plaza Shop Q002. High Street Epping VIC 3076"
          ],
          [
           "Suburb Epping",
           "Site Coles Epping Plaza Shop Q002. High Street Epping VIC 3076"
          ],
          [
           "Suburb Preston",
           "Site H&M (Northland Shopping Centre) 2-50 Murray Road Preston VIC 3072"
          ],
          [
           "Suburb Doreen",
           "Site Woolworths Laurimar 95 Hazel Glen Drive Doreen VIC 3754"
          ],
          [
           "Suburb Thomastown",
           "Site Gobind Sweets 6/350 Settlement Road Thomastown VIC 3074"
          ],
          [
           "Suburb Epping",
           "Site Chemist Warehouse (Epping Homemaker Center) 560-650 High Street Epping VIC 3076"
          ],
          [
           "Suburb Epping",
           "Site Chemist Warehouse (Epping Homemaker Center) 560-650 High Street Epping VIC 3076"
          ],
          [
           "Suburb Kalkallo",
           "Site Metricon Homes Kalkallo- Cloverton Display Homes 24 Design Way Kalkallo VIC 3064"
          ],
          [
           "Suburb Campbellfield",
           "Site Metricon Homes- Campbellfield Office 108 National Blvd Campbellfield VIC 3061"
          ],
          [
           "Suburb Mickleham",
           "Site Metricon Homes- Merrifield Display Homes 15 Carrington Drive Mickleham VIC 3064"
          ],
          [
           "Suburb Mickleham",
           "Site Metricon Homes- Botanical Display Homes 27/29 Poppy St Mickleham VIC 3064"
          ],
          [
           "Suburb Preston",
           "Site Northland Shopping Centre 2-50 Murray Road Preston VIC 3072"
          ],
          [
           "Suburb Preston",
           "Site McDonalds (Northland Shopping Centre) 2-50 Murray Road Preston VIC 3072"
          ],
          [
           "Suburb Thomastown",
           "Site Slades Beverages 46/40-50 Keon Parade Thomastown VIC 3074"
          ],
          [
           "Suburb Preston",
           "Site Muffin Break (Northland Shopping Centre) 2-50 Murray Road Preston VIC 3072"
          ],
          [
           "Suburb Preston",
           "Site H&M (Northland Shopping Centre) 2-50 Murray Road Preston VIC 3072"
          ],
          [
           "Suburb Preston",
           "Site Salsa's Fresh Mex Grill (Northland Shopping Centre) K033/50 Murray Rd Preston VIC 3072"
          ],
          [
           "Suburb Epping",
           "Site Walker's Donuts Epping (Pacific Epping Shopping Centre) 571-583 High Street Epping VIC 3076"
          ],
          [
           "Suburb Epping",
           "Site Commonwealth Bank Australia (CBA) Epping Branch 83-84 Cooper Street & High Street Epping VIC 3076"
          ],
          [
           "Suburb Lalor",
           "Site Coles Lalor 47-71 May Road Lalor VIC 3075"
          ],
          [
           "Suburb Lalor",
           "Site Woolworths Lalor Hurtle Street Lalor VIC 3075"
          ],
          [
           "Suburb Lalor",
           "Site Woolworths Lalor Hurtle Street Lalor VIC 3075"
          ],
          [
           "Suburb Epping",
           "Site MKS Spices'n Things Epping 1/84-88 Coopers Street Epping VIC 3076"
          ],
          [
           "Suburb Thomastown",
           "Site Slades Beverages 46/40-50 Keon Parade Thomastown VIC 3074"
          ],
          [
           "Suburb Thomastown",
           "Site Slades Beverages 46/40-50 Keon Parade Thomastown VIC 3074"
          ],
          [
           "Suburb Thomastown",
           "Site Slades Beverages 46/40-50 Keon Parade Thomastown VIC 3074"
          ],
          [
           "Suburb Thomastown",
           "Site Slades Beverages 46/40-50 Keon Parade Thomastown VIC 3074"
          ],
          [
           "Suburb Thomastown",
           "Site Slades Beverages 46/40-50 Keon Parade Thomastown VIC 3074"
          ],
          [
           "Suburb Thomastown",
           "Site Slades Beverages 46/40-50 Keon Parade Thomastown VIC 3074"
          ],
          [
           "Suburb Thomastown",
           "Site Slades Beverages 46/40-50 Keon Parade Thomastown VIC 3074"
          ],
          [
           "Suburb Thomastown",
           "Site Slades Beverages 46/40-50 Keon Parade Thomastown VIC 3074"
          ],
          [
           "Suburb Thomastown",
           "Site Slades Beverages 46/40-50 Keon Parade Thomastown VIC 3074"
          ],
          [
           "Suburb Thomastown",
           "Site Slades Beverages 46/40-50 Keon Parade Thomastown VIC 3074"
          ],
          [
           "Suburb Craigieburn",
           "Site Big W Craigieburn 340 Craigieburn Road Craigieburn VIC 3064"
          ],
          [
           "Suburb Bundoora",
           "Site DFO Uni Hill - Champion, Melrose Avenue, Quiksilver, Factorie and Edge 2 Janefield Drive Bundoora VIC 3083"
          ],
          [
           "Suburb Epping",
           "Site Coles Epping Plaza Shop Q002, Epping Plaza, High Street Epping VIC 3076"
          ],
          [
           "Suburb Doreen",
           "Site Laurimar Medical Centre 120 - 122 Painted Hills Road Doreen VIC 3754"
          ],
          [
           "Suburb Craigieburn",
           "Site Ambarsari Dhaba 3/38 Craigieburn Road Craigieburn VIC 3064"
          ],
          [
           "Suburb Hawthorn",
           "Site Short Straw 743B Glenferrie Road Hawthorn VIC 3122"
          ],
          [
           "Suburb Craigieburn",
           "Site PTV Bus Number 525 Highland SC/Grand Bvd to Donnybrook Rd/Dwyer Street Craigieburn VIC 3064"
          ],
          [
           "Suburb Craigieburn",
           "Site PTV Bus Number 525 Highland SC/Grand Bvd to Donnybrook Rd/Dwyer Street Craigieburn VIC 3064"
          ],
          [
           "Suburb Epping",
           "Site Kmart Epping Epping Plaza Shopping Center. Cnr High & Cooper Street Epping VIC 3076"
          ],
          [
           "Suburb Epping",
           "Site Kmart Epping Epping Plaza Shopping Center. Cnr High & Cooper Street Epping VIC 3076"
          ],
          [
           "Suburb Epping",
           "Site Coles Epping Plaza Shop Q002, Epping Plaza, High Street Epping VIC 3076"
          ],
          [
           "Suburb Kalkallo",
           "Site Metricon Homes Kalkallo- Cloverton Display Homes 24 Design Way Kalkallo VIC 3064"
          ],
          [
           "Suburb Arthurs Seat",
           "Site Enchanted Adventure Garden 55 Purves Road Arthurs Seat VIC 3936"
          ],
          [
           "Suburb Bundoora",
           "Site IGA Agora Express (La Trobe University) La Trobe University, Melbourne Campus, Shop 1 Agora East, Bundoora VIC 3083 Bundoora VIC 3083"
          ],
          [
           "Suburb Malvern East (Chadstone)",
           "Site Bakers Delight - Chadstone Shopping Centre 247C/ 1341 Dandenong Road Malvern East (Chadstone) VIC 3148"
          ],
          [
           "Suburb Malvern East (Chadstone)",
           "Site Woolworths - Chadstone Shopping Centre 1341 Dandenong Road Malvern East (Chadstone) VIC 3148"
          ],
          [
           "Suburb St Kilda",
           "Site McDonalds St Kilda 32 The Esplanade St Kilda VIC 3182"
          ],
          [
           "Suburb St Kilda",
           "Site Woolworths 64 Fitzroy Street St Kilda VIC 3182"
          ],
          [
           "Suburb St Kilda",
           "Site KFC St Kilda 70A Acland Street St Kilda VIC 3182"
          ],
          [
           "Suburb St Kilda",
           "Site Woolworths 117 Acland Street St Kilda VIC 3182"
          ],
          [
           "Suburb South Yarra",
           "Site Forvic Asian Supermarket 251 Malvern Road South Yarra VIC 3141"
          ],
          [
           "Suburb Malvern East (Chadstone)",
           "Site Chadstone Shopping Centre 1341 Dandenong Road Malvern East (Chadstone) VIC 3148"
          ],
          [
           "Suburb Malvern East (Chadstone)",
           "Site Yokozuna - Chadstone Shopping Centre 1341 Dandenong Road Malvern East (Chadstone) VIC 3148"
          ],
          [
           "Suburb Malvern East (Chadstone)",
           "Site Optus - Chadstone Shopping Centre Shop B311, 1341 Dandenong Road Malvern East (Chadstone) VIC 3148"
          ],
          [
           "Suburb Mernda",
           "Site Caltex Mernda 1631W Plenty Road Mernda VIC 3074"
          ],
          [
           "Suburb Thomastown",
           "Site 7-Eleven Thomastown North Cnr Edgars Road and Main Street Thomastown VIC 3074"
          ],
          [
           "Suburb Bundoora",
           "Site La Trobe University, Library All Levels (Except level 1) Plenty Road & Kingsbury Drive Bundoora VIC 3086"
          ],
          [
           "Suburb Epping",
           "Site Pacific Epping Plaza - Cotton On, Edge, Valleygirl, Supre and Boost Juice 571 - 583 High Street Epping VIC 3076"
          ],
          [
           "Suburb Epping",
           "Site Pacific Epping Plaza 571 - 583 High Street Epping VIC 3076"
          ],
          [
           "Suburb Thomastown",
           "Site Supa IGA Thomastown 122 Main Street Thomastown VIC 3074"
          ],
          [
           "Suburb Mickleham",
           "Site Chemist Warehouse Mickleham 250 - 270 Donnybrook Road Mickleham VIC 3064"
          ],
          [
           "Suburb Braeside",
           "Site Shell Coles Express Braeside 918 - 928 Springvale Road Cnr Governor Road Braeside VIC 3064"
          ],
          [
           "Suburb South Yarra",
           "Site Taco Bell Chapel Street 352 Chapel Street South Yarra VIC 3141"
          ],
          [
           "Suburb Craigieburn",
           "Site Edu-Kingdom College 67A Hamilton Street Craigieburn VIC 3064"
          ],
          [
           "Suburb Fingal",
           "Site Peninsula Hot Springs (Bathhouse Reception Only) 140 Springs Lane Fingal VIC 3939"
          ],
          [
           "Suburb Glen Iris",
           "Site Coles Tooronga Village Tooronga Road Glen Iris VIC 3146"
          ],
          [
           "Suburb Bundoora",
           "Site La Trobe University, Library Level 1 Plenty Road & Kingsbury Drive Bundoora VIC 3086"
          ],
          [
           "Suburb Dandenong",
           "Site Marmara Halal Meats 141- 145 Lonsdale Street Dandenong VIC 3175"
          ],
          [
           "Suburb Carrum Downs",
           "Site Sabrini Foods 77 Boundary Road Carrum Downs VIC 3201"
          ],
          [
           "Suburb Dandenong",
           "Site Spice Inn Groceries 4 16-46 Cleeland Street Dandenong VIC 3175"
          ],
          [
           "Suburb Dandenong",
           "Site Bestway Supermarket 200-208 Lonsdale Street Dandenong VIC 3175"
          ],
          [
           "Suburb Dandenong",
           "Site Bestway Supermarket 21-23 Cleeland Street Dandenong VIC 3175"
          ],
          [
           "Suburb Craigieburn",
           "Site Dosa Hut Craigieburn Shop D1/420-440 Craigieburn Road Craigieburn VIC 3064"
          ],
          [
           "Suburb Epping",
           "Site Indiagate Spices and Groceries Unit 14C, 560-590 High Street Epping VIC 3076"
          ],
          [
           "Suburb Wollert",
           "Site Hamara Bazaar 315 Harvest Home Road Wollert VIC 3750"
          ],
          [
           "Suburb Reservoir",
           "Site Vic Fields Summerhill Shopping Centre 850 Plenty Road Reservoir VIC 3073"
          ],
          [
           "Suburb Epping",
           "Site Khalsa Sweets and Snacks 3 Annalise Avenue Epping VIC 3076"
          ],
          [
           "Suburb Wollert",
           "Site Erol's Fruit Shop 319 Harvest Home Road Wollert VIC 3750"
          ],
          [
           "Suburb South Melbourne",
           "Site Clarendon Centre - Female public toilets 261 Clarendon Street South Melbourne VIC 3205"
          ],
          [
           "Suburb South Melbourne",
           "Site Clarendon Centre - Female public toilets 261 Clarendon Street South Melbourne VIC 3205"
          ],
          [
           "Suburb Maribyrnong",
           "Site JB Hi Fi Shop 159-163 Rosamond Road Maribyrnong VIC 3032"
          ],
          [
           "Suburb Maribyrnong",
           "Site The Good Guys 2-6 Sloane Street Maribyrnong VIC 3032"
          ],
          [
           "Suburb Yarraville",
           "Site Coles Yarraville Cnr Williamstown Road & High Street Yarraville VIC 3013"
          ],
          [
           "Suburb Epping",
           "Site Epping Spices & Nuts Grocery Store 6/1 Lyndarum Drive Epping VIC 3076"
          ],
          [
           "Suburb Epping",
           "Site Epping Spices & Nuts Grocery Store 6/1 Lyndarum Drive Epping VIC 3076"
          ],
          [
           "Suburb Epping",
           "Site Epping Spices & Nuts Grocery Store 6/1 Lyndarum Drive Epping VIC 3076"
          ],
          [
           "Suburb Epping",
           "Site Epping Spices & Nuts Grocery Store 6/1 Lyndarum Drive Epping VIC 3076"
          ],
          [
           "Suburb Mill Park",
           "Site Star Car Wash 1, Westfield Plenty Valley 52/415 McDonalds Rd Mill Park VIC 3082"
          ],
          [
           "Suburb Mill Park",
           "Site Star Car Wash 1, Westfield Plenty Valley 52/415 McDonalds Rd Mill Park VIC 3082"
          ],
          [
           "Suburb Mill Park",
           "Site Star Car Wash 1, Westfield Plenty Valley 52/415 McDonalds Rd Mill Park VIC 3082"
          ],
          [
           "Suburb Mill Park",
           "Site Star Car Wash 1, Westfield Plenty Valley 52/415 McDonalds Rd Mill Park VIC 3082"
          ],
          [
           "Suburb Reservoir",
           "Site Healthy India 276 Broadway Reservoir VIC 3073"
          ],
          [
           "Suburb Brunswick East",
           "Site Dan Murphy's Brunswick East 513 Lygon St, Brunswick East Brunswick East VIC 3057"
          ],
          [
           "Suburb Epping",
           "Site The Grande Reception & Function Centre 6-8 Helm Court Epping VIC 3076"
          ],
          [
           "Suburb Preston",
           "Site Preston City Hall 284 Gower Street Preston VIC 3071"
          ],
          [
           "Suburb Reservoir",
           "Site Edwardes Lake Playground Edwardes Lake Reservoir VIC 3073"
          ],
          [
           "Suburb South Melbourne",
           "Site Miss China Noodle Bar (within Clarendon Centre) Shop G08/261 Clarendon Street South Melbourne VIC 3205"
          ],
          [
           "Suburb South Melbourne",
           "Site Telstra Shop Shop G01/265 Clarendon Street South Melbourne VIC 3205"
          ],
          [
           "Suburb South Melbourne",
           "Site Telstra Shop Shop G01/265 Clarendon Street South Melbourne VIC 3205"
          ],
          [
           "Suburb South Melbourne",
           "Site Hunky Dory Fish & Chips 252 Clarendon Street South Melbourne VIC 3205"
          ],
          [
           "Suburb Thomastown",
           "Site 7-Eleven Thomastown North Cnr Edgars Road & Main Street Thomastown VIC 3074"
          ],
          [
           "Suburb Hampton",
           "Site Body Fit Training Hampton Shop 4-6/498 Hampton Street Hampton VIC 3188"
          ],
          [
           "Suburb Hampton",
           "Site Body Fit Training Hampton Shop 4-6/498 Hampton Street Hampton VIC 3188"
          ],
          [
           "Suburb Greenvale",
           "Site Barrymore Medical Centre 9 Barrymore Road Greenvale VIC 3059"
          ],
          [
           "Suburb Carlton",
           "Site RMIT Campus, Building 57 (Edward Jackson Building) 53 Lygon Street Carlton VIC 3053"
          ],
          [
           "Suburb Mickleham",
           "Site Botanical Display Homes (Botanical Display Village) 23-25 Poppy Street Mickleham VIC 3063"
          ],
          [
           "Suburb Craigieburn",
           "Site The Coffee Club - Craigieburn Central Craigieburn Central, Shop B00, 15/350 Craigieburn Road Craigieburn VIC 3064"
          ],
          [
           "Suburb Docklands",
           "Site Network Public Bar 14/99 Spencer Street Docklands VIC 3008"
          ],
          [
           "Suburb Docklands",
           "Site Hungry Jacks - Southern Cross Station 14/99 Spencer Street Docklands VIC 3008"
          ],
          [
           "Suburb South Wharf",
           "Site Roll'd - DFO South Wharf DFO South Wharf, 20 Convention Center Place South Wharf VIC 3006"
          ],
          [
           "Suburb South Wharf",
           "Site Boost Juice DFO DFO South Wharf, 20 Convention Center Place South Wharf VIC 3006"
          ],
          [
           "Suburb South Wharf",
           "Site DFO Food Court DFO South Wharf, 20 Convention Center Place South Wharf VIC 3006"
          ],
          [
           "Suburb Tullamarine",
           "Site 7-Eleven Tullamarine (Carrick Drive) 182 Melrose Drive Tullamarine VIC 3043"
          ],
          [
           "Suburb Moonee Ponds",
           "Site Moonee Valley Football Club - Ormond Park Spectators at (Men's 3rds Match Moonee Valley VS Hillside Sharks) 2A Pattison Steet Moonee Ponds VIC 3039"
          ],
          [
           "Suburb Moonee Ponds",
           "Site Moonee Valley Football Club - Ormond Park Function Room/Bar 2A Pattison Steet Moonee Ponds VIC 3039"
          ],
          [
           "Suburb Moonee Ponds",
           "Site Moonee Valley Football Club - Ormond Park (Male Change Rooms) 2A Pattison Steet Moonee Ponds VIC 3039"
          ],
          [
           "Suburb Port Melbourne",
           "Site Hunky Dory Fish & Chips 3/181 Bay Street Port Melbourne VIC 3207"
          ],
          [
           "Suburb Coburg",
           "Site Pentridge Cinema Coburg (Palace Cinema) - 7pm screening of 'Those Who Wish Me Dead' 1 Champ Street Coburg VIC 3058"
          ],
          [
           "Suburb Seddon",
           "Site Caprice Hair & Beauty 101 Charles Street Seddon VIC 3011"
          ],
          [
           "Suburb South Melbourne",
           "Site Anytime Fitness South Melbourne 63-69 Market Street South Melbourne VIC 3205"
          ],
          [
           "Suburb Coburg",
           "Site Pentridge Cinema Coburg (Palace Cinema) 1 Champ Street Coburg VIC 3058"
          ],
          [
           "Suburb Tullamarine",
           "Site BP Tullamarine Corner of Airport Drive and Link Road Tullamarine VIC 3045"
          ],
          [
           "Suburb Tullamarine",
           "Site BP Tullamarine Corner of Airport Drive and Link Road Tullamarine VIC 3045"
          ],
          [
           "Suburb Bundoora",
           "Site Bung Pai Thai Massage Bundoora 11/1320 Plenty Road Bundoora VIC 3083"
          ],
          [
           "Suburb Yarraville",
           "Site Focus Health & Fitness 121-123 Hyde Street Yarraville VIC 3013"
          ],
          [
           "Suburb Carlton",
           "Site Green Man's Arms 418 Lygon Sreet Carlton VIC 3053"
          ],
          [
           "Suburb South Melbourne",
           "Site Anytime Fitness South Melbourne 63-69 Market Street South Melbourne VIC 3205"
          ],
          [
           "Suburb South Melbourne",
           "Site Anytime Fitness South Melbourne 63-69 Market Street South Melbourne VIC 3205"
          ],
          [
           "Suburb South Melbourne",
           "Site Anytime Fitness South Melbourne 63-69 Market Street South Melbourne VIC 3205"
          ],
          [
           "Suburb Fitzroy",
           "Site Peko Peko Fitzroy 199 Smith Street Fitzroy VIC 3065"
          ],
          [
           "Suburb Aspendale Gardens",
           "Site Chelsea Heights Hotel Springvale Road & Wells Road Aspendale Gardens VIC 3196"
          ],
          [
           "Suburb Brunswick",
           "Site OPSM Barkly Square Barkly Square Shopping Centre, 90-160 Sydney Rd Brunswick VIC 3056"
          ],
          [
           "Suburb Doncaster",
           "Site Betty's Burgers & Concrete Co. (Westfield Doncaster) Tenancy R1 & R2, Level 2, 619 Doncaster Road Doncaster VIC 3108"
          ],
          [
           "Suburb Lalor",
           "Site Everfresh Fruit Market 346 Station Street Lalor VIC 3075"
          ],
          [
           "Suburb Lalor",
           "Site Fruits of Lalor 328 Station Street Lalor VIC 3075"
          ],
          [
           "Suburb Lalor",
           "Site No. 1 Fruit Market 37 May Road Lalor VIC 3075"
          ],
          [
           "Suburb Docklands",
           "Site Southern Cross Station, Toilets Under Bourke Street Bridge 14/99 Spencer Street Docklands VIC 3059"
          ],
          [
           "Suburb Greenvale",
           "Site Chemist Warehouse Shop 4, 212 - 220 Greenvale Drive Greenvale VIC 3059"
          ],
          [
           "Suburb Cranbourne",
           "Site LeNails Cranbourne Shop 101 Cranbourne Park Shopping Centre, High Street Cranbourne VIC 3977"
          ],
          [
           "Suburb Mill Park",
           "Site Degani, Westfield Plenty Valley 415 Mcdonalds Road Mill Park VIC 3082"
          ],
          [
           "Suburb Bayswater North",
           "Site Mcdonalds Bayswater North 296 Canterbury Road Bayswater North VIC 3153"
          ],
          [
           "Suburb Wantirna South",
           "Site Insportz Knox 108 Lewis Road Wantirna South VIC 3152"
          ],
          [
           "Suburb Mordialloc",
           "Site The Sporting Globe Mordialloc 590 Main Street Mordialloc VIC 3195"
          ],
          [
           "Suburb Burwood East",
           "Site Burwood Teppanyaki House 145 Burwood Highway Burwood East VIC 3151"
          ],
          [
           "Suburb Parkville",
           "Site Melbourne Swordcraft Ransford Oval, Park Street Parkville VIC 3052"
          ],
          [
           "Suburb Red Hill",
           "Site Nordie Cafe 1008 Mornington-Flinders Road Red Hill VIC 3937"
          ],
          [
           "Suburb Carnegie",
           "Site Bicycle Superstore 1030 Dandenong Road Carnegie VIC 3163"
          ],
          [
           "Suburb Coburg",
           "Site IGA Coburg 12-20 Nicholson Street Coburg VIC 3058"
          ],
          [
           "Suburb Fairfield",
           "Site 7-Eleven Fairfield East 324 Station street Fairfield VIC 3078"
          ],
          [
           "Suburb Port Melbourne",
           "Site The Local, Port Melbourne 22-24 Bay Street Port Melbourne VIC 3207"
          ],
          [
           "Suburb Bundoora",
           "Site Anytime Fitness Shop TG-01, Uni Hill Town Centre, 1-3 Janefield Drive Bundoora VIC 3083"
          ],
          [
           "Suburb Bundoora",
           "Site Anytime Fitness Shop TG-01, Uni Hill Town Centre, 1-3 Janefield Drive Bundoora VIC 3083"
          ],
          [
           "Suburb Southbank",
           "Site Criniti's Southbank 645 Freshwater Place Southbank VIC 3006"
          ],
          [
           "Suburb South Melbourne",
           "Site The Palace Hotel 505-507 City Road South Melbourne VIC 3205"
          ],
          [
           "Suburb Coburg",
           "Site Ritchies IGA Pentridge 1 Champ Street Coburg VIC 3058"
          ],
          [
           "Suburb Docklands",
           "Site Marvel Stadium - (Level 1 Aisles 5-28 and Level 3 Aisles 6-29) 740 Bourke St Docklands VIC 3008"
          ],
          [
           "Suburb Docklands",
           "Site Marvel Stadium - all other zones not individually listed 740 Bourke St Docklands VIC 3008"
          ],
          [
           "Suburb Cohuna",
           "Site Cohuna Football and Netball Club, Cohuna Recreation Reserve Island Road Cohuna VIC 3568"
          ],
          [
           "Suburb Brunswick",
           "Site Barkly Square: Priceline, Kmart, Woolworths, OPSM Barkly Square Shopping Centre, 90-160 Sydney Rd Brunswick VIC 3056"
          ],
          [
           "Suburb Reservoir",
           "Site Doctors on Broadway 210A Broadway Reservoir VIC 3073"
          ],
          [
           "Suburb Port Melbourne",
           "Site Stratton Finance HQ 1/435 Williamstown Road Port Melbourne VIC 3207"
          ],
          [
           "Suburb Port Melbourne",
           "Site Stratton Finance HQ 1/435 Williamstown Road Port Melbourne VIC 3207"
          ],
          [
           "Suburb Port Melbourne",
           "Site Stratton Finance HQ 1/435 Williamstown Road Port Melbourne VIC 3207"
          ],
          [
           "Suburb Port Melbourne",
           "Site Stratton Finance HQ 1/435 Williamstown Road Port Melbourne VIC 3207"
          ],
          [
           "Suburb Port Melbourne",
           "Site Stratton Finance HQ 1/435 Williamstown Road Port Melbourne VIC 3207"
          ],
          [
           "Suburb Port Melbourne",
           "Site Stratton Finance HQ 1/435 Williamstown Road Port Melbourne VIC 3207"
          ],
          [
           "Suburb Abbotsford",
           "Site Dukes Gym Abbotsford 571-573 Victoria Street Abbotsford VIC 3067"
          ],
          [
           "Suburb Balwyn",
           "Site Endless Lifestyle Studio  Shop 3/188 Whitehorse Road  Balwyn VIC 3103"
          ],
          [
           "Suburb Carlton",
           "Site RMIT Campus, Building 56 115 Queensberry Street  Carlton VIC 3053"
          ],
          [
           "Suburb Richmond",
           "Site Melbourne Cricket Ground - Zone 4, Level 1 Brunton Avenue Richmond VIC 3002"
          ],
          [
           "Suburb Richmond",
           "Site Melbourne Cricket Ground - All of the Stadium, other than Zone 4, Level 1 Brunton Avenue Richmond VIC 3002"
          ],
          [
           "Suburb Prahran",
           "Site Somewhere Bar 181 Chapel Street Prahran VIC 3181"
          ],
          [
           "Suburb Prahran",
           "Site Three Monkeys  210 Chapel Street Prahran VIC 3181"
          ],
          [
           "Suburb Prahran",
           "Site Three Monkeys  210 Chapel Street Prahran VIC 3181"
          ],
          [
           "Suburb South Yarra",
           "Site Circus Bar 199 Commercial Road South Yarra VIC 3181"
          ],
          [
           "Suburb Axedale",
           "Site Axedale Tavern 105 High Street Axedale VIC 3551"
          ],
          [
           "Suburb Bendigo",
           "Site Hairfolk 33 Williamson Street Bendigo VIC 3550"
          ],
          [
           "Suburb Coburg",
           "Site BP Southvale 303 Bell Street Coburg VIC 3058"
          ],
          [
           "Suburb Coburg",
           "Site The Nicholson Coffee House 6/14-20 Nicholson Street Coburg VIC 3058"
          ],
          [
           "Suburb Epping",
           "Site Coles Epping Shop Number Q002. Pacific Epping Cooper Street & High street Epping VIC 3076"
          ],
          [
           "Suburb Epping",
           "Site Woolworths Epping Shop Number Q003. Pacific Epping Cooper Street & High street Epping VIC 3076"
          ],
          [
           "Suburb Fitzroy North",
           "Site Secco and Co 414 Nicholson Street Fitzroy North VIC 3068"
          ],
          [
           "Suburb Port Melbourne",
           "Site Bay 101 Cafe 7/101 Bay Street Port Melbourne VIC 3207"
          ],
          [
           "Suburb Port Melbourne",
           "Site Port Park Cafe  7/484 Graham St Port Melbourne VIC 3207"
          ],
          [
           "Suburb Port Melbourne",
           "Site The Local, Port Melbourne 22-24 Bay Street Port Melbourne VIC 3207"
          ],
          [
           "Suburb Thornbury",
           "Site Little Tienda 410 Station Street Thornbury VIC 3071"
          ],
          [
           "Suburb Epping",
           "Site Chemist Warehouse Shop 15, Dalton Village, 351-371 Dalton Road Epping VIC 3076"
          ],
          [
           "Suburb Lalor",
           "Site Deep Indian Supermarket 3/494 High Street Lalor VIC 3075"
          ],
          [
           "Suburb Lalor",
           "Site Everfresh Fruit Market 346 Station Street Lalor VIC 3075"
          ],
          [
           "Suburb Lalor",
           "Site Fruits of Lalor 328 Station Street Lalor VIC 3075"
          ],
          [
           "Suburb Lalor",
           "Site No. 1 Fruit Market 37 May Road Lalor VIC 3075"
          ],
          [
           "Suburb Mill Park",
           "Site Bunnings Warehouse 761 Plenty Road Mill Park VIC 3082"
          ],
          [
           "Suburb Thomastown",
           "Site ACTROL (Retail Store- refrigerator and airconditioning parts) 13-17 Brand Drive Thomastown VIC 3074"
          ],
          [
           "Suburb Epping",
           "Site Nando's Epping (Dalton Rd) Shop 17 Dalton Village, 351-371 Dalton Road Epping VIC 3076"
          ],
          [
           "Suburb Brunswick",
           "Site Futsal Brunswick 409 Victoria Street Brunswick VIC 3056"
          ],
          [
           "Suburb Epping",
           "Site Urban Diner Food Court, Pacific Epping Shopping Centre 571-583 High Street Epping VIC 3076"
          ],
          [
           "Suburb Epping",
           "Site House and Party (store) 2 Lyndarum Drive Epping VIC 3076"
          ],
          [
           "Suburb Reservoir",
           "Site B.T. Connor Reserve 200 Broadhurst Avenue Reservoir VIC 3073"
          ],
          [
           "Suburb Epping",
           "Site Epping North Shopping Centre 2 Lyndarum Drive Epping VIC 3076"
          ],
          [
           "Suburb Epping",
           "Site JMD Grocers & Sweets 768 High Street Epping VIC 3076"
          ],
          [
           "Suburb Epping",
           "Site The Furniture Trader 102-120 Cooper Street Epping VIC 3076"
          ],
          [
           "Suburb Thomastown",
           "Site White Line Automotive 2/28 Lipton Drive Thomastown VIC 3074"
          ],
          [
           "Suburb Epping",
           "Site Woolworths Epping North Shop 13, 2 Lyndarum Drive Epping VIC 3076"
          ],
          [
           "Suburb Bundoora",
           "Site Jump! Swim Schools Bundoora 4/37 The Concord Bundoora VIC 3083"
          ],
          [
           "Suburb Clifton Hill",
           "Site McDonald's Clifton Hill - Dine-in Only 199 Queens Parade Clifton Hill VIC 3068"
          ],
          [
           "Suburb Epping",
           "Site ALDI Epping 347-371 Dalton Road Epping VIC 3076"
          ],
          [
           "Suburb Epping",
           "Site Chemist Depot Epping, Pacific Epping Shoping Centre 571-583 High Street Epping VIC 3076"
          ],
          [
           "Suburb Maribyrnong",
           "Site Highpoint Shopping Centre, all other areas on Levels 2 and 3 excluding specific shops listed as Tier 1 sites Levels 2 & 3, 120-200 Rosamond Road Maribyrnong VIC 3032"
          ],
          [
           "Suburb Maribyrnong",
           "Site Ishka, Highpoint Shopping Centre Level 2, 120-200 Rosamond Road Maribyrnong VIC 3032"
          ],
          [
           "Suburb Maribyrnong",
           "Site Kidstuff, Highpoint Shopping Centre Level 2, 120-200 Rosamond Road Maribyrnong VIC 3032"
          ],
          [
           "Suburb Maribyrnong",
           "Site Lush Cosmetics, Highpoint Shopping Centre Level 2, 120-200 Rosamond Road Maribyrnong VIC 3032"
          ],
          [
           "Suburb Maribyrnong",
           "Site Smiggle, Highpoint Shopping Centre Level 3, 120-200 Rosamond Road Maribyrnong VIC 3032"
          ],
          [
           "Suburb Maribyrnong",
           "Site Toyworld, Highpoint Shopping Centre Level 2, 120-200 Rosamond Road Maribyrnong VIC 3032"
          ],
          [
           "Suburb Melbourne",
           "Site Bamboo House 47 Little Bourke Street Melbourne VIC 3000"
          ],
          [
           "Suburb Preston",
           "Site Adams Reserve Playground Milton Crescent Preston VIC 3072"
          ],
          [
           "Suburb Preston",
           "Site ALDI Preston South 15 Dundas Street Preston VIC 3072"
          ],
          [
           "Suburb Reservoir",
           "Site P & C Indian Grocery & Convenience Store 246 Broadway Reservoir VIC 3073"
          ],
          [
           "Suburb Reservoir",
           "Site Shell Coles Express Reservoir 192-202 Broadway & Whitelaw Street Reservoir VIC 3073"
          ]
         ],
         "hovertemplate": "date_exposure=%{x}<br>date_added=%{y}<br>Suburb=%{customdata[0]}<br>Site=%{customdata[1]}<extra></extra>",
         "legendgroup": "",
         "marker": {
          "color": "#636efa",
          "opacity": 0.5,
          "size": 20,
          "symbol": "circle"
         },
         "mode": "markers",
         "name": "",
         "orientation": "v",
         "showlegend": false,
         "type": "scatter",
         "x": [
          "2021-05-23T00:00:00",
          "2021-05-28T00:00:00",
          "2021-05-28T00:00:00",
          "2021-05-28T00:00:00",
          "2021-05-26T00:00:00",
          "2021-05-27T00:00:00",
          "2021-05-28T00:00:00",
          "2021-05-29T00:00:00",
          "2021-05-26T00:00:00",
          "2021-05-26T00:00:00",
          "2021-05-26T00:00:00",
          "2021-05-27T00:00:00",
          "2021-05-28T00:00:00",
          "2021-05-29T00:00:00",
          "2021-05-28T00:00:00",
          "2021-05-25T00:00:00",
          "2021-05-27T00:00:00",
          "2021-05-27T00:00:00",
          "2021-05-27T00:00:00",
          "2021-05-22T00:00:00",
          "2021-05-23T00:00:00",
          "2021-05-23T00:00:00",
          "2021-05-25T00:00:00",
          "2021-05-21T00:00:00",
          "2021-05-26T00:00:00",
          "2021-05-26T00:00:00",
          "2021-05-24T00:00:00",
          "2021-05-25T00:00:00",
          "2021-05-26T00:00:00",
          "2021-05-26T00:00:00",
          "2021-05-15T00:00:00",
          "2021-05-15T00:00:00",
          "2021-05-22T00:00:00",
          "2021-05-23T00:00:00",
          "2021-05-20T00:00:00",
          "2021-05-18T00:00:00",
          "2021-05-26T00:00:00",
          "2021-05-26T00:00:00",
          "2021-05-26T00:00:00",
          "2021-05-25T00:00:00",
          "2021-05-25T00:00:00",
          "2021-05-24T00:00:00",
          "2021-05-23T00:00:00",
          "2021-05-23T00:00:00",
          "2021-05-25T00:00:00",
          "2021-05-22T00:00:00",
          "2021-05-23T00:00:00",
          "2021-05-22T00:00:00",
          "2021-05-22T00:00:00",
          "2021-05-23T00:00:00",
          "2021-05-26T00:00:00",
          "2021-05-24T00:00:00",
          "2021-05-23T00:00:00",
          "2021-05-22T00:00:00",
          "2021-05-24T00:00:00",
          "2021-05-24T00:00:00",
          "2021-05-23T00:00:00",
          "2021-05-22T00:00:00",
          "2021-05-24T00:00:00",
          "2021-05-22T00:00:00",
          "2021-05-27T00:00:00",
          "2021-05-27T00:00:00",
          "2021-05-26T00:00:00",
          "2021-05-23T00:00:00",
          "2021-05-23T00:00:00",
          "2021-05-26T00:00:00",
          "2021-05-26T00:00:00",
          "2021-05-26T00:00:00",
          "2021-05-21T00:00:00",
          "2021-05-22T00:00:00",
          "2021-05-24T00:00:00",
          "2021-05-17T00:00:00",
          "2021-05-17T00:00:00",
          "2021-05-26T00:00:00",
          "2021-05-26T00:00:00",
          "2021-05-26T00:00:00",
          "2021-05-27T00:00:00",
          "2021-05-24T00:00:00",
          "2021-05-19T00:00:00",
          "2021-05-22T00:00:00",
          "2021-05-26T00:00:00",
          "2021-05-27T00:00:00",
          "2021-05-17T00:00:00",
          "2021-05-18T00:00:00",
          "2021-05-22T00:00:00",
          "2021-05-25T00:00:00",
          "2021-05-25T00:00:00",
          "2021-05-25T00:00:00",
          "2021-05-22T00:00:00",
          "2021-05-22T00:00:00",
          "2021-05-26T00:00:00",
          "2021-05-22T00:00:00",
          "2021-05-22T00:00:00",
          "2021-05-22T00:00:00",
          "2021-05-19T00:00:00",
          "2021-05-22T00:00:00",
          "2021-05-18T00:00:00",
          "2021-05-25T00:00:00",
          "2021-05-26T00:00:00",
          "2021-05-24T00:00:00",
          "2021-05-17T00:00:00",
          "2021-05-18T00:00:00",
          "2021-05-20T00:00:00",
          "2021-05-21T00:00:00",
          "2021-05-24T00:00:00",
          "2021-05-25T00:00:00",
          "2021-05-27T00:00:00",
          "2021-05-28T00:00:00",
          "2021-05-12T00:00:00",
          "2021-05-13T00:00:00",
          "2021-05-20T00:00:00",
          "2021-05-25T00:00:00",
          "2021-05-19T00:00:00",
          "2021-05-25T00:00:00",
          "2021-05-26T00:00:00",
          "2021-05-23T00:00:00",
          "2021-05-19T00:00:00",
          "2021-05-25T00:00:00",
          "2021-05-22T00:00:00",
          "2021-05-26T00:00:00",
          "2021-05-24T00:00:00",
          "2021-05-26T00:00:00",
          "2021-05-21T00:00:00",
          "2021-05-25T00:00:00",
          "2021-05-26T00:00:00",
          "2021-05-26T00:00:00",
          "2021-05-27T00:00:00",
          "2021-05-27T00:00:00",
          "2021-05-27T00:00:00",
          "2021-05-28T00:00:00",
          "2021-05-23T00:00:00",
          "2021-05-26T00:00:00",
          "2021-05-26T00:00:00",
          "2021-05-26T00:00:00",
          "2021-05-25T00:00:00",
          "2021-05-24T00:00:00",
          "2021-05-25T00:00:00",
          "2021-05-25T00:00:00",
          "2021-05-25T00:00:00",
          "2021-05-24T00:00:00",
          "2021-05-22T00:00:00",
          "2021-05-22T00:00:00",
          "2021-05-23T00:00:00",
          "2021-05-22T00:00:00",
          "2021-05-21T00:00:00",
          "2021-05-23T00:00:00",
          "2021-05-25T00:00:00",
          "2021-05-19T00:00:00",
          "2021-05-19T00:00:00",
          "2021-05-19T00:00:00",
          "2021-05-19T00:00:00",
          "2021-05-19T00:00:00",
          "2021-05-25T00:00:00",
          "2021-05-19T00:00:00",
          "2021-05-18T00:00:00",
          "2021-05-18T00:00:00",
          "2021-05-18T00:00:00",
          "2021-05-18T00:00:00",
          "2021-05-25T00:00:00",
          "2021-05-24T00:00:00",
          "2021-05-23T00:00:00",
          "2021-05-23T00:00:00",
          "2021-05-23T00:00:00",
          "2021-05-22T00:00:00",
          "2021-05-24T00:00:00",
          "2021-05-25T00:00:00",
          "2021-05-26T00:00:00",
          "2021-05-22T00:00:00",
          "2021-05-23T00:00:00",
          "2021-05-25T00:00:00",
          "2021-05-26T00:00:00",
          "2021-05-27T00:00:00",
          "2021-05-22T00:00:00",
          "2021-05-22T00:00:00",
          "2021-05-22T00:00:00",
          "2021-05-23T00:00:00",
          "2021-05-25T00:00:00",
          "2021-05-24T00:00:00",
          "2021-05-25T00:00:00",
          "2021-05-24T00:00:00",
          "2021-05-23T00:00:00",
          "2021-05-24T00:00:00",
          "2021-05-25T00:00:00",
          "2021-05-25T00:00:00",
          "2021-05-13T00:00:00",
          "2021-05-23T00:00:00",
          "2021-05-23T00:00:00",
          "2021-05-23T00:00:00",
          "2021-05-23T00:00:00",
          "2021-05-25T00:00:00",
          "2021-05-24T00:00:00",
          "2021-05-24T00:00:00",
          "2021-05-22T00:00:00",
          "2021-05-22T00:00:00",
          "2021-05-22T00:00:00",
          "2021-05-22T00:00:00",
          "2021-05-21T00:00:00",
          "2021-05-24T00:00:00",
          "2021-05-22T00:00:00",
          "2021-05-20T00:00:00",
          "2021-05-24T00:00:00",
          "2021-05-24T00:00:00",
          "2021-05-24T00:00:00",
          "2021-05-24T00:00:00",
          "2021-05-24T00:00:00",
          "2021-05-23T00:00:00",
          "2021-05-21T00:00:00",
          "2021-05-24T00:00:00",
          "2021-05-25T00:00:00",
          "2021-05-22T00:00:00",
          "2021-05-23T00:00:00",
          "2021-05-22T00:00:00",
          "2021-05-23T00:00:00",
          "2021-05-14T00:00:00",
          "2021-05-14T00:00:00",
          "2021-05-14T00:00:00",
          "2021-05-23T00:00:00",
          "2021-05-25T00:00:00",
          "2021-05-22T00:00:00",
          "2021-05-23T00:00:00",
          "2021-05-21T00:00:00",
          "2021-05-20T00:00:00",
          "2021-05-23T00:00:00",
          "2021-05-22T00:00:00",
          "2021-05-21T00:00:00",
          "2021-05-22T00:00:00",
          "2021-05-23T00:00:00",
          "2021-05-22T00:00:00",
          "2021-05-23T00:00:00",
          "2021-05-21T00:00:00",
          "2021-05-23T00:00:00",
          "2021-05-24T00:00:00",
          "2021-05-23T00:00:00",
          "2021-05-21T00:00:00",
          "2021-05-24T00:00:00",
          "2021-05-23T00:00:00",
          "2021-05-23T00:00:00",
          "2021-05-22T00:00:00",
          "2021-05-22T00:00:00",
          "2021-05-18T00:00:00",
          "2021-05-20T00:00:00",
          "2021-05-21T00:00:00",
          "2021-05-22T00:00:00",
          "2021-05-23T00:00:00",
          "2021-05-24T00:00:00",
          "2021-05-25T00:00:00",
          "2021-05-24T00:00:00",
          "2021-05-23T00:00:00",
          "2021-05-21T00:00:00",
          "2021-05-23T00:00:00",
          "2021-05-23T00:00:00",
          "2021-05-22T00:00:00",
          "2021-05-22T00:00:00",
          "2021-05-23T00:00:00",
          "2021-05-23T00:00:00",
          "2021-05-23T00:00:00",
          "2021-05-22T00:00:00",
          "2021-05-22T00:00:00",
          "2021-05-22T00:00:00",
          "2021-05-20T00:00:00",
          "2021-05-20T00:00:00",
          "2021-05-22T00:00:00",
          "2021-05-24T00:00:00",
          "2021-05-24T00:00:00",
          "2021-05-21T00:00:00",
          "2021-05-22T00:00:00",
          "2021-05-19T00:00:00",
          "2021-05-20T00:00:00",
          "2021-05-19T00:00:00",
          "2021-05-19T00:00:00",
          "2021-05-19T00:00:00",
          "2021-05-20T00:00:00",
          "2021-05-17T00:00:00",
          "2021-05-19T00:00:00",
          "2021-05-23T00:00:00",
          "2021-05-23T00:00:00",
          "2021-05-22T00:00:00",
          "2021-05-21T00:00:00",
          "2021-05-22T00:00:00",
          "2021-05-17T00:00:00",
          "2021-05-18T00:00:00",
          "2021-05-20T00:00:00",
          "2021-05-22T00:00:00",
          "2021-05-21T00:00:00",
          "2021-05-22T00:00:00",
          "2021-05-23T00:00:00",
          "2021-05-23T00:00:00",
          "2021-05-20T00:00:00",
          "2021-05-20T00:00:00",
          "2021-05-20T00:00:00",
          "2021-05-20T00:00:00",
          "2021-05-20T00:00:00",
          "2021-05-20T00:00:00",
          "2021-05-21T00:00:00",
          "2021-05-23T00:00:00",
          "2021-05-23T00:00:00",
          "2021-05-22T00:00:00",
          "2021-05-18T00:00:00"
         ],
         "xaxis": "x",
         "y": [
          "2021-06-01T00:00:00",
          "2021-06-01T00:00:00",
          "2021-06-01T00:00:00",
          "2021-06-01T00:00:00",
          "2021-05-31T00:00:00",
          "2021-05-31T00:00:00",
          "2021-05-31T00:00:00",
          "2021-05-31T00:00:00",
          "2021-05-31T00:00:00",
          "2021-05-31T00:00:00",
          "2021-05-31T00:00:00",
          "2021-05-31T00:00:00",
          "2021-05-31T00:00:00",
          "2021-05-31T00:00:00",
          "2021-05-31T00:00:00",
          "2021-05-31T00:00:00",
          "2021-05-31T00:00:00",
          "2021-05-31T00:00:00",
          "2021-05-31T00:00:00",
          "2021-05-31T00:00:00",
          "2021-05-31T00:00:00",
          "2021-05-31T00:00:00",
          "2021-05-31T00:00:00",
          "2021-05-31T00:00:00",
          "2021-05-31T00:00:00",
          "2021-05-31T00:00:00",
          "2021-05-30T00:00:00",
          "2021-05-30T00:00:00",
          "2021-05-30T00:00:00",
          "2021-05-30T00:00:00",
          "2021-05-30T00:00:00",
          "2021-05-30T00:00:00",
          "2021-05-30T00:00:00",
          "2021-05-30T00:00:00",
          "2021-05-30T00:00:00",
          "2021-05-30T00:00:00",
          "2021-05-30T00:00:00",
          "2021-05-30T00:00:00",
          "2021-05-30T00:00:00",
          "2021-05-30T00:00:00",
          "2021-05-30T00:00:00",
          "2021-05-30T00:00:00",
          "2021-05-30T00:00:00",
          "2021-05-30T00:00:00",
          "2021-05-30T00:00:00",
          "2021-05-30T00:00:00",
          "2021-05-30T00:00:00",
          "2021-05-30T00:00:00",
          "2021-05-30T00:00:00",
          "2021-05-30T00:00:00",
          "2021-05-30T00:00:00",
          "2021-05-30T00:00:00",
          "2021-05-30T00:00:00",
          "2021-05-30T00:00:00",
          "2021-05-30T00:00:00",
          "2021-05-30T00:00:00",
          "2021-05-30T00:00:00",
          "2021-05-30T00:00:00",
          "2021-05-30T00:00:00",
          "2021-05-30T00:00:00",
          "2021-05-30T00:00:00",
          "2021-05-30T00:00:00",
          "2021-05-30T00:00:00",
          "2021-05-30T00:00:00",
          "2021-05-30T00:00:00",
          "2021-05-30T00:00:00",
          "2021-05-30T00:00:00",
          "2021-05-30T00:00:00",
          "2021-05-30T00:00:00",
          "2021-05-30T00:00:00",
          "2021-05-30T00:00:00",
          "2021-05-30T00:00:00",
          "2021-05-30T00:00:00",
          "2021-05-30T00:00:00",
          "2021-05-30T00:00:00",
          "2021-05-30T00:00:00",
          "2021-05-30T00:00:00",
          "2021-05-30T00:00:00",
          "2021-05-30T00:00:00",
          "2021-05-30T00:00:00",
          "2021-05-30T00:00:00",
          "2021-05-30T00:00:00",
          "2021-05-30T00:00:00",
          "2021-05-30T00:00:00",
          "2021-05-30T00:00:00",
          "2021-05-30T00:00:00",
          "2021-05-30T00:00:00",
          "2021-05-30T00:00:00",
          "2021-05-30T00:00:00",
          "2021-05-30T00:00:00",
          "2021-05-30T00:00:00",
          "2021-05-30T00:00:00",
          "2021-05-30T00:00:00",
          "2021-05-30T00:00:00",
          "2021-05-30T00:00:00",
          "2021-05-30T00:00:00",
          "2021-05-30T00:00:00",
          "2021-05-30T00:00:00",
          "2021-05-30T00:00:00",
          "2021-05-30T00:00:00",
          "2021-05-30T00:00:00",
          "2021-05-30T00:00:00",
          "2021-05-30T00:00:00",
          "2021-05-30T00:00:00",
          "2021-05-30T00:00:00",
          "2021-05-30T00:00:00",
          "2021-05-30T00:00:00",
          "2021-05-30T00:00:00",
          "2021-05-30T00:00:00",
          "2021-05-30T00:00:00",
          "2021-05-30T00:00:00",
          "2021-05-30T00:00:00",
          "2021-05-30T00:00:00",
          "2021-05-30T00:00:00",
          "2021-05-30T00:00:00",
          "2021-05-30T00:00:00",
          "2021-05-30T00:00:00",
          "2021-05-30T00:00:00",
          "2021-05-30T00:00:00",
          "2021-05-30T00:00:00",
          "2021-05-30T00:00:00",
          "2021-05-30T00:00:00",
          "2021-05-30T00:00:00",
          "2021-05-30T00:00:00",
          "2021-05-29T00:00:00",
          "2021-05-29T00:00:00",
          "2021-05-29T00:00:00",
          "2021-05-29T00:00:00",
          "2021-05-29T00:00:00",
          "2021-05-29T00:00:00",
          "2021-05-29T00:00:00",
          "2021-05-29T00:00:00",
          "2021-05-29T00:00:00",
          "2021-05-29T00:00:00",
          "2021-05-29T00:00:00",
          "2021-05-29T00:00:00",
          "2021-05-29T00:00:00",
          "2021-05-29T00:00:00",
          "2021-05-29T00:00:00",
          "2021-05-29T00:00:00",
          "2021-05-29T00:00:00",
          "2021-05-29T00:00:00",
          "2021-05-29T00:00:00",
          "2021-05-29T00:00:00",
          "2021-05-29T00:00:00",
          "2021-05-29T00:00:00",
          "2021-05-29T00:00:00",
          "2021-05-28T00:00:00",
          "2021-05-28T00:00:00",
          "2021-05-28T00:00:00",
          "2021-05-28T00:00:00",
          "2021-05-28T00:00:00",
          "2021-05-28T00:00:00",
          "2021-05-28T00:00:00",
          "2021-05-28T00:00:00",
          "2021-05-28T00:00:00",
          "2021-05-28T00:00:00",
          "2021-05-28T00:00:00",
          "2021-05-28T00:00:00",
          "2021-05-28T00:00:00",
          "2021-05-28T00:00:00",
          "2021-05-28T00:00:00",
          "2021-05-28T00:00:00",
          "2021-05-28T00:00:00",
          "2021-05-28T00:00:00",
          "2021-05-28T00:00:00",
          "2021-05-28T00:00:00",
          "2021-05-28T00:00:00",
          "2021-05-28T00:00:00",
          "2021-05-28T00:00:00",
          "2021-05-28T00:00:00",
          "2021-05-28T00:00:00",
          "2021-05-28T00:00:00",
          "2021-05-28T00:00:00",
          "2021-05-28T00:00:00",
          "2021-05-28T00:00:00",
          "2021-05-28T00:00:00",
          "2021-05-28T00:00:00",
          "2021-05-28T00:00:00",
          "2021-05-28T00:00:00",
          "2021-05-28T00:00:00",
          "2021-05-27T00:00:00",
          "2021-05-27T00:00:00",
          "2021-05-27T00:00:00",
          "2021-05-27T00:00:00",
          "2021-05-27T00:00:00",
          "2021-05-27T00:00:00",
          "2021-05-27T00:00:00",
          "2021-05-27T00:00:00",
          "2021-05-27T00:00:00",
          "2021-05-27T00:00:00",
          "2021-05-27T00:00:00",
          "2021-05-27T00:00:00",
          "2021-05-27T00:00:00",
          "2021-05-27T00:00:00",
          "2021-05-27T00:00:00",
          "2021-05-27T00:00:00",
          "2021-05-27T00:00:00",
          "2021-05-27T00:00:00",
          "2021-05-27T00:00:00",
          "2021-05-27T00:00:00",
          "2021-05-27T00:00:00",
          "2021-05-27T00:00:00",
          "2021-05-27T00:00:00",
          "2021-05-27T00:00:00",
          "2021-05-27T00:00:00",
          "2021-05-27T00:00:00",
          "2021-05-27T00:00:00",
          "2021-05-27T00:00:00",
          "2021-05-27T00:00:00",
          "2021-05-27T00:00:00",
          "2021-05-27T00:00:00",
          "2021-05-27T00:00:00",
          "2021-05-27T00:00:00",
          "2021-05-27T00:00:00",
          "2021-05-27T00:00:00",
          "2021-05-27T00:00:00",
          "2021-05-27T00:00:00",
          "2021-05-27T00:00:00",
          "2021-05-26T00:00:00",
          "2021-05-26T00:00:00",
          "2021-05-26T00:00:00",
          "2021-05-26T00:00:00",
          "2021-05-26T00:00:00",
          "2021-05-26T00:00:00",
          "2021-05-26T00:00:00",
          "2021-05-26T00:00:00",
          "2021-05-26T00:00:00",
          "2021-05-26T00:00:00",
          "2021-05-26T00:00:00",
          "2021-05-26T00:00:00",
          "2021-05-26T00:00:00",
          "2021-05-26T00:00:00",
          "2021-05-26T00:00:00",
          "2021-05-26T00:00:00",
          "2021-05-26T00:00:00",
          "2021-05-26T00:00:00",
          "2021-05-26T00:00:00",
          "2021-05-26T00:00:00",
          "2021-05-26T00:00:00",
          "2021-05-26T00:00:00",
          "2021-05-26T00:00:00",
          "2021-05-26T00:00:00",
          "2021-05-26T00:00:00",
          "2021-05-26T00:00:00",
          "2021-05-26T00:00:00",
          "2021-05-26T00:00:00",
          "2021-05-26T00:00:00",
          "2021-05-26T00:00:00",
          "2021-05-26T00:00:00",
          "2021-05-26T00:00:00",
          "2021-05-26T00:00:00",
          "2021-05-26T00:00:00",
          "2021-05-26T00:00:00",
          "2021-05-26T00:00:00",
          "2021-05-26T00:00:00",
          "2021-05-26T00:00:00",
          "2021-05-26T00:00:00",
          "2021-05-26T00:00:00",
          "2021-05-26T00:00:00",
          "2021-05-26T00:00:00",
          "2021-05-26T00:00:00",
          "2021-05-26T00:00:00",
          "2021-05-26T00:00:00",
          "2021-05-26T00:00:00",
          "2021-05-26T00:00:00",
          "2021-05-25T00:00:00",
          "2021-05-25T00:00:00",
          "2021-05-25T00:00:00",
          "2021-05-25T00:00:00",
          "2021-05-25T00:00:00",
          "2021-05-25T00:00:00",
          "2021-05-25T00:00:00",
          "2021-05-24T00:00:00",
          "2021-05-24T00:00:00",
          "2021-05-24T00:00:00",
          "2021-05-24T00:00:00",
          "2021-05-24T00:00:00",
          "2021-05-24T00:00:00",
          "2021-05-24T00:00:00",
          "2021-05-24T00:00:00",
          "2021-05-24T00:00:00",
          "2021-05-24T00:00:00",
          "2021-05-24T00:00:00",
          "2021-05-24T00:00:00",
          "2021-05-24T00:00:00",
          "2021-05-24T00:00:00",
          "2021-05-24T00:00:00",
          "2021-05-24T00:00:00",
          "2021-05-24T00:00:00",
          "2021-05-24T00:00:00",
          "2021-05-24T00:00:00",
          "2021-05-24T00:00:00",
          "2021-05-24T00:00:00",
          "2021-05-24T00:00:00",
          "2021-05-24T00:00:00",
          "2021-05-22T00:00:00",
          "2021-05-18T00:00:00"
         ],
         "yaxis": "y"
        }
       ],
       "layout": {
        "legend": {
         "tracegroupgap": 0
        },
        "margin": {
         "t": 60
        },
        "template": {
         "data": {
          "bar": [
           {
            "error_x": {
             "color": "#f2f5fa"
            },
            "error_y": {
             "color": "#f2f5fa"
            },
            "marker": {
             "line": {
              "color": "rgb(17,17,17)",
              "width": 0.5
             }
            },
            "type": "bar"
           }
          ],
          "barpolar": [
           {
            "marker": {
             "line": {
              "color": "rgb(17,17,17)",
              "width": 0.5
             }
            },
            "type": "barpolar"
           }
          ],
          "carpet": [
           {
            "aaxis": {
             "endlinecolor": "#A2B1C6",
             "gridcolor": "#506784",
             "linecolor": "#506784",
             "minorgridcolor": "#506784",
             "startlinecolor": "#A2B1C6"
            },
            "baxis": {
             "endlinecolor": "#A2B1C6",
             "gridcolor": "#506784",
             "linecolor": "#506784",
             "minorgridcolor": "#506784",
             "startlinecolor": "#A2B1C6"
            },
            "type": "carpet"
           }
          ],
          "choropleth": [
           {
            "colorbar": {
             "outlinewidth": 0,
             "ticks": ""
            },
            "type": "choropleth"
           }
          ],
          "contour": [
           {
            "colorbar": {
             "outlinewidth": 0,
             "ticks": ""
            },
            "colorscale": [
             [
              0,
              "#0d0887"
             ],
             [
              0.1111111111111111,
              "#46039f"
             ],
             [
              0.2222222222222222,
              "#7201a8"
             ],
             [
              0.3333333333333333,
              "#9c179e"
             ],
             [
              0.4444444444444444,
              "#bd3786"
             ],
             [
              0.5555555555555556,
              "#d8576b"
             ],
             [
              0.6666666666666666,
              "#ed7953"
             ],
             [
              0.7777777777777778,
              "#fb9f3a"
             ],
             [
              0.8888888888888888,
              "#fdca26"
             ],
             [
              1,
              "#f0f921"
             ]
            ],
            "type": "contour"
           }
          ],
          "contourcarpet": [
           {
            "colorbar": {
             "outlinewidth": 0,
             "ticks": ""
            },
            "type": "contourcarpet"
           }
          ],
          "heatmap": [
           {
            "colorbar": {
             "outlinewidth": 0,
             "ticks": ""
            },
            "colorscale": [
             [
              0,
              "#0d0887"
             ],
             [
              0.1111111111111111,
              "#46039f"
             ],
             [
              0.2222222222222222,
              "#7201a8"
             ],
             [
              0.3333333333333333,
              "#9c179e"
             ],
             [
              0.4444444444444444,
              "#bd3786"
             ],
             [
              0.5555555555555556,
              "#d8576b"
             ],
             [
              0.6666666666666666,
              "#ed7953"
             ],
             [
              0.7777777777777778,
              "#fb9f3a"
             ],
             [
              0.8888888888888888,
              "#fdca26"
             ],
             [
              1,
              "#f0f921"
             ]
            ],
            "type": "heatmap"
           }
          ],
          "heatmapgl": [
           {
            "colorbar": {
             "outlinewidth": 0,
             "ticks": ""
            },
            "colorscale": [
             [
              0,
              "#0d0887"
             ],
             [
              0.1111111111111111,
              "#46039f"
             ],
             [
              0.2222222222222222,
              "#7201a8"
             ],
             [
              0.3333333333333333,
              "#9c179e"
             ],
             [
              0.4444444444444444,
              "#bd3786"
             ],
             [
              0.5555555555555556,
              "#d8576b"
             ],
             [
              0.6666666666666666,
              "#ed7953"
             ],
             [
              0.7777777777777778,
              "#fb9f3a"
             ],
             [
              0.8888888888888888,
              "#fdca26"
             ],
             [
              1,
              "#f0f921"
             ]
            ],
            "type": "heatmapgl"
           }
          ],
          "histogram": [
           {
            "marker": {
             "colorbar": {
              "outlinewidth": 0,
              "ticks": ""
             }
            },
            "type": "histogram"
           }
          ],
          "histogram2d": [
           {
            "colorbar": {
             "outlinewidth": 0,
             "ticks": ""
            },
            "colorscale": [
             [
              0,
              "#0d0887"
             ],
             [
              0.1111111111111111,
              "#46039f"
             ],
             [
              0.2222222222222222,
              "#7201a8"
             ],
             [
              0.3333333333333333,
              "#9c179e"
             ],
             [
              0.4444444444444444,
              "#bd3786"
             ],
             [
              0.5555555555555556,
              "#d8576b"
             ],
             [
              0.6666666666666666,
              "#ed7953"
             ],
             [
              0.7777777777777778,
              "#fb9f3a"
             ],
             [
              0.8888888888888888,
              "#fdca26"
             ],
             [
              1,
              "#f0f921"
             ]
            ],
            "type": "histogram2d"
           }
          ],
          "histogram2dcontour": [
           {
            "colorbar": {
             "outlinewidth": 0,
             "ticks": ""
            },
            "colorscale": [
             [
              0,
              "#0d0887"
             ],
             [
              0.1111111111111111,
              "#46039f"
             ],
             [
              0.2222222222222222,
              "#7201a8"
             ],
             [
              0.3333333333333333,
              "#9c179e"
             ],
             [
              0.4444444444444444,
              "#bd3786"
             ],
             [
              0.5555555555555556,
              "#d8576b"
             ],
             [
              0.6666666666666666,
              "#ed7953"
             ],
             [
              0.7777777777777778,
              "#fb9f3a"
             ],
             [
              0.8888888888888888,
              "#fdca26"
             ],
             [
              1,
              "#f0f921"
             ]
            ],
            "type": "histogram2dcontour"
           }
          ],
          "mesh3d": [
           {
            "colorbar": {
             "outlinewidth": 0,
             "ticks": ""
            },
            "type": "mesh3d"
           }
          ],
          "parcoords": [
           {
            "line": {
             "colorbar": {
              "outlinewidth": 0,
              "ticks": ""
             }
            },
            "type": "parcoords"
           }
          ],
          "pie": [
           {
            "automargin": true,
            "type": "pie"
           }
          ],
          "scatter": [
           {
            "marker": {
             "line": {
              "color": "#283442"
             }
            },
            "type": "scatter"
           }
          ],
          "scatter3d": [
           {
            "line": {
             "colorbar": {
              "outlinewidth": 0,
              "ticks": ""
             }
            },
            "marker": {
             "colorbar": {
              "outlinewidth": 0,
              "ticks": ""
             }
            },
            "type": "scatter3d"
           }
          ],
          "scattercarpet": [
           {
            "marker": {
             "colorbar": {
              "outlinewidth": 0,
              "ticks": ""
             }
            },
            "type": "scattercarpet"
           }
          ],
          "scattergeo": [
           {
            "marker": {
             "colorbar": {
              "outlinewidth": 0,
              "ticks": ""
             }
            },
            "type": "scattergeo"
           }
          ],
          "scattergl": [
           {
            "marker": {
             "line": {
              "color": "#283442"
             }
            },
            "type": "scattergl"
           }
          ],
          "scattermapbox": [
           {
            "marker": {
             "colorbar": {
              "outlinewidth": 0,
              "ticks": ""
             }
            },
            "type": "scattermapbox"
           }
          ],
          "scatterpolar": [
           {
            "marker": {
             "colorbar": {
              "outlinewidth": 0,
              "ticks": ""
             }
            },
            "type": "scatterpolar"
           }
          ],
          "scatterpolargl": [
           {
            "marker": {
             "colorbar": {
              "outlinewidth": 0,
              "ticks": ""
             }
            },
            "type": "scatterpolargl"
           }
          ],
          "scatterternary": [
           {
            "marker": {
             "colorbar": {
              "outlinewidth": 0,
              "ticks": ""
             }
            },
            "type": "scatterternary"
           }
          ],
          "surface": [
           {
            "colorbar": {
             "outlinewidth": 0,
             "ticks": ""
            },
            "colorscale": [
             [
              0,
              "#0d0887"
             ],
             [
              0.1111111111111111,
              "#46039f"
             ],
             [
              0.2222222222222222,
              "#7201a8"
             ],
             [
              0.3333333333333333,
              "#9c179e"
             ],
             [
              0.4444444444444444,
              "#bd3786"
             ],
             [
              0.5555555555555556,
              "#d8576b"
             ],
             [
              0.6666666666666666,
              "#ed7953"
             ],
             [
              0.7777777777777778,
              "#fb9f3a"
             ],
             [
              0.8888888888888888,
              "#fdca26"
             ],
             [
              1,
              "#f0f921"
             ]
            ],
            "type": "surface"
           }
          ],
          "table": [
           {
            "cells": {
             "fill": {
              "color": "#506784"
             },
             "line": {
              "color": "rgb(17,17,17)"
             }
            },
            "header": {
             "fill": {
              "color": "#2a3f5f"
             },
             "line": {
              "color": "rgb(17,17,17)"
             }
            },
            "type": "table"
           }
          ]
         },
         "layout": {
          "annotationdefaults": {
           "arrowcolor": "#f2f5fa",
           "arrowhead": 0,
           "arrowwidth": 1
          },
          "autotypenumbers": "strict",
          "coloraxis": {
           "colorbar": {
            "outlinewidth": 0,
            "ticks": ""
           }
          },
          "colorscale": {
           "diverging": [
            [
             0,
             "#8e0152"
            ],
            [
             0.1,
             "#c51b7d"
            ],
            [
             0.2,
             "#de77ae"
            ],
            [
             0.3,
             "#f1b6da"
            ],
            [
             0.4,
             "#fde0ef"
            ],
            [
             0.5,
             "#f7f7f7"
            ],
            [
             0.6,
             "#e6f5d0"
            ],
            [
             0.7,
             "#b8e186"
            ],
            [
             0.8,
             "#7fbc41"
            ],
            [
             0.9,
             "#4d9221"
            ],
            [
             1,
             "#276419"
            ]
           ],
           "sequential": [
            [
             0,
             "#0d0887"
            ],
            [
             0.1111111111111111,
             "#46039f"
            ],
            [
             0.2222222222222222,
             "#7201a8"
            ],
            [
             0.3333333333333333,
             "#9c179e"
            ],
            [
             0.4444444444444444,
             "#bd3786"
            ],
            [
             0.5555555555555556,
             "#d8576b"
            ],
            [
             0.6666666666666666,
             "#ed7953"
            ],
            [
             0.7777777777777778,
             "#fb9f3a"
            ],
            [
             0.8888888888888888,
             "#fdca26"
            ],
            [
             1,
             "#f0f921"
            ]
           ],
           "sequentialminus": [
            [
             0,
             "#0d0887"
            ],
            [
             0.1111111111111111,
             "#46039f"
            ],
            [
             0.2222222222222222,
             "#7201a8"
            ],
            [
             0.3333333333333333,
             "#9c179e"
            ],
            [
             0.4444444444444444,
             "#bd3786"
            ],
            [
             0.5555555555555556,
             "#d8576b"
            ],
            [
             0.6666666666666666,
             "#ed7953"
            ],
            [
             0.7777777777777778,
             "#fb9f3a"
            ],
            [
             0.8888888888888888,
             "#fdca26"
            ],
            [
             1,
             "#f0f921"
            ]
           ]
          },
          "colorway": [
           "#636efa",
           "#EF553B",
           "#00cc96",
           "#ab63fa",
           "#FFA15A",
           "#19d3f3",
           "#FF6692",
           "#B6E880",
           "#FF97FF",
           "#FECB52"
          ],
          "font": {
           "color": "#f2f5fa"
          },
          "geo": {
           "bgcolor": "rgb(17,17,17)",
           "lakecolor": "rgb(17,17,17)",
           "landcolor": "rgb(17,17,17)",
           "showlakes": true,
           "showland": true,
           "subunitcolor": "#506784"
          },
          "hoverlabel": {
           "align": "left"
          },
          "hovermode": "closest",
          "mapbox": {
           "style": "dark"
          },
          "paper_bgcolor": "rgb(17,17,17)",
          "plot_bgcolor": "rgb(17,17,17)",
          "polar": {
           "angularaxis": {
            "gridcolor": "#506784",
            "linecolor": "#506784",
            "ticks": ""
           },
           "bgcolor": "rgb(17,17,17)",
           "radialaxis": {
            "gridcolor": "#506784",
            "linecolor": "#506784",
            "ticks": ""
           }
          },
          "scene": {
           "xaxis": {
            "backgroundcolor": "rgb(17,17,17)",
            "gridcolor": "#506784",
            "gridwidth": 2,
            "linecolor": "#506784",
            "showbackground": true,
            "ticks": "",
            "zerolinecolor": "#C8D4E3"
           },
           "yaxis": {
            "backgroundcolor": "rgb(17,17,17)",
            "gridcolor": "#506784",
            "gridwidth": 2,
            "linecolor": "#506784",
            "showbackground": true,
            "ticks": "",
            "zerolinecolor": "#C8D4E3"
           },
           "zaxis": {
            "backgroundcolor": "rgb(17,17,17)",
            "gridcolor": "#506784",
            "gridwidth": 2,
            "linecolor": "#506784",
            "showbackground": true,
            "ticks": "",
            "zerolinecolor": "#C8D4E3"
           }
          },
          "shapedefaults": {
           "line": {
            "color": "#f2f5fa"
           }
          },
          "sliderdefaults": {
           "bgcolor": "#C8D4E3",
           "bordercolor": "rgb(17,17,17)",
           "borderwidth": 1,
           "tickwidth": 0
          },
          "ternary": {
           "aaxis": {
            "gridcolor": "#506784",
            "linecolor": "#506784",
            "ticks": ""
           },
           "baxis": {
            "gridcolor": "#506784",
            "linecolor": "#506784",
            "ticks": ""
           },
           "bgcolor": "rgb(17,17,17)",
           "caxis": {
            "gridcolor": "#506784",
            "linecolor": "#506784",
            "ticks": ""
           }
          },
          "title": {
           "x": 0.05
          },
          "updatemenudefaults": {
           "bgcolor": "#506784",
           "borderwidth": 0
          },
          "xaxis": {
           "automargin": true,
           "gridcolor": "#283442",
           "linecolor": "#506784",
           "ticks": "",
           "title": {
            "standoff": 15
           },
           "zerolinecolor": "#283442",
           "zerolinewidth": 2
          },
          "yaxis": {
           "automargin": true,
           "gridcolor": "#283442",
           "linecolor": "#506784",
           "ticks": "",
           "title": {
            "standoff": 15
           },
           "zerolinecolor": "#283442",
           "zerolinewidth": 2
          }
         }
        },
        "xaxis": {
         "anchor": "y",
         "domain": [
          0,
          1
         ],
         "title": {
          "text": "date_exposure"
         }
        },
        "yaxis": {
         "anchor": "x",
         "domain": [
          0,
          1
         ],
         "title": {
          "text": "date_added"
         }
        }
       }
      },
      "text/html": [
       "<div>                            <div id=\"153c9513-021c-4a15-95cf-1ff7c9f6843f\" class=\"plotly-graph-div\" style=\"height:525px; width:100%;\"></div>            <script type=\"text/javascript\">                require([\"plotly\"], function(Plotly) {                    window.PLOTLYENV=window.PLOTLYENV || {};                                    if (document.getElementById(\"153c9513-021c-4a15-95cf-1ff7c9f6843f\")) {                    Plotly.newPlot(                        \"153c9513-021c-4a15-95cf-1ff7c9f6843f\",                        [{\"customdata\": [[\"Suburb Glen Iris\", \"Site Scicluna's Real Food Merchants Tooronga Village 350-354 Tooronga Road Glen Iris VIC 3146\"], [\"Suburb Sunshine\", \"Site BlueCross Western Gardens 40 Anderson Rd Sunshine VIC 3020\"], [\"Suburb Sunshine\", \"Site BlueCross Western Gardens (high care staff communcal area and low care entry) 40 Anderson Rd Sunshine VIC 3020\"], [\"Suburb Sunshine\", \"Site BlueCross Western Gardens (all other areas of facility) 40 Anderson Rd Sunshine VIC 3020\"], [\"Suburb Maidstone\", \"Site Arcare Maidstone Aged Care Facility (Magnolia Unit) 31 Hampstead Road Maidstone VIC 3012\"], [\"Suburb Maidstone\", \"Site Arcare Maidstone Aged Care Facility (Magnolia Unit) 31 Hampstead Road Maidstone VIC 3012\"], [\"Suburb Maidstone\", \"Site Arcare Maidstone Aged Care Facility (Magnolia Unit) 31 Hampstead Road Maidstone VIC 3012\"], [\"Suburb Maidstone\", \"Site Arcare Maidstone Aged Care Facility (Magnolia Unit) 31 Hampstead Road Maidstone VIC 3012\"], [\"Suburb Maidstone\", \"Site Arcare Maidstone Aged Care Facility (Communal Facilities) 31 Hampstead Road Maidstone VIC 3012\"], [\"Suburb Maidstone\", \"Site Arcare Maidstone Aged Care Facility 31 Hampstead Road Maidstone VIC 3012\"], [\"Suburb Maidstone\", \"Site Arcare Maidstone Aged Care Facility 31 Hampstead Road Maidstone VIC 3012\"], [\"Suburb Maidstone\", \"Site Arcare Maidstone Aged Care Facility (Communial Facilities) 31 Hampstead Road Maidstone VIC 3012\"], [\"Suburb Maidstone\", \"Site Arcare Maidstone Aged Care Facility (Communal Facilities) 31 Hampstead Road Maidstone VIC 3012\"], [\"Suburb Maidstone\", \"Site Arcare Maidstone Aged Care Facility (Communal Facilities) 31 Hampstead Road Maidstone VIC 3012\"], [\"Suburb Thomastown\", \"Site BP Petrol Station 72 Keon Parade Thomastown VIC 3074\"], [\"Suburb Chelsea Heights\", \"Site Subway Chelsea Heights 1-3 Piper Drive Chelsea Heights VIC 3196\"], [\"Suburb Bus Route\", \"Site PTV Bus Number 406 Footscray Station to Emu Road/Hampstead Road, Maidstone Bus Route VIC\"], [\"Suburb Bus Route\", \"Site PTV Bus Number 406 Emu Road/Hampstead Road, Maidstone to Footscray Station Bus Route VIC\"], [\"Suburb Bus Route\", \"Site PTV Bus Number 412 Footscray Station, Paisley Street to Central Square Shopping Centre stop Bus Route VIC\"], [\"Suburb South Yarra\", \"Site Giant Bike Shop Unit 1/316-320 Toorak Road South Yarra VIC 3141\"], [\"Suburb Cranbourne\", \"Site Connor Cranbourne Park Shopping Centre 132 High Street Cranbourne VIC 3977\"], [\"Suburb Glen Iris\", \"Site Bakers Delight Tooronga Village Corner Tooronga Road and Toorka Road Glen Iris VIC 3146\"], [\"Suburb Parkdale\", \"Site Adairs Parkdale Plaza Unit 6/383 Nepean Highway Parkdale VIC 3195\"], [\"Suburb South Melbourne\", \"Site Australia Post South Melbourne 100 Market Street South Melbourne VIC 3205\"], [\"Suburb Bus Route\", \"Site PTV Bus Number 412 Central Square Shopping Centre/Merton Stop to Footscray Station Bus Route VIC\"], [\"Suburb Point Cook\", \"Site Stockland Point Cook Shopping Centre 5 Main Street & Murnong Street Point Cook VIC 3030\"], [\"Suburb Reservoir\", \"Site Healthy India 276 Broadway Reservoir VIC 3073\"], [\"Suburb Reservoir\", \"Site Healthy India 276 Broadway Reservoir VIC 3073\"], [\"Suburb Reservoir\", \"Site Healthy India 276 Broadway Reservoir VIC 3073\"], [\"Suburb Malvern East (Chadstone)\", \"Site QBD Books Chadstone Shop B099, 1341 Dandenong Road Malvern East (Chadstone) VIC 3145\"], [\"Suburb Mount Dandenong\", \"Site SkyHigh Mount Dandenong and SkyHigh Cafe 26 Observatory Road Mount Dandenong VIC 3767\"], [\"Suburb Epping\", \"Site Gloria Jean's Coffees Epping Plaza 583 High Street Epping VIC 3076\"], [\"Suburb Epping\", \"Site Blue Sapphire Coin Laundry Epping 2A Jovic Road Epping VIC 3076\"], [\"Suburb Epping\", \"Site Blue Sapphire Coin Laundry Epping 2A Jovic Road Epping VIC 3076\"], [\"Suburb Epping\", \"Site Soprano's Pizza 746 High Street Epping VIC 3076\"], [\"Suburb Lalor\", \"Site The Cake Box 314 Station Street Lalor VIC 3075\"], [\"Suburb Chadstone\", \"Site Zimmerman Chadstone 1341 Dandenong Road Chadstone VIC 3145\"], [\"Suburb Malvern East (Chadstone)\", \"Site Breadtop Chadstone Shop F010, 1341 Dandenong Road Malvern East (Chadstone) VIC 3145\"], [\"Suburb Reservoir\", \"Site Akkar Pastry 274 Broadway Reservoir VIC 3073\"], [\"Suburb Reservoir\", \"Site My Chemist Broadway 270 Broadway Reservoir VIC 3073\"], [\"Suburb Epping\", \"Site Coles Epping Aurora Village 315A Harvest Home Rd Epping VIC 3076\"], [\"Suburb Epping\", \"Site Liquorland Aurora Village 315A Harvest Home Rd Epping VIC 3076\"], [\"Suburb Mill Park\", \"Site Coles Westfield Plenty Valley Civic Drive (415 McDonalds Rd) Mill Park VIC 3082\"], [\"Suburb Mill Park\", \"Site Little Sparrow Westfield Plenty Valley 415 McDonalds Rd Mill Park VIC 3082\"], [\"Suburb Ivanhoe\", \"Site Fairy Hills Kindergarten 7 Thyer Road Ivanhoe VIC 3079\"], [\"Suburb South Melbourne\", \"Site Woolworths South Melbourne 113 Cecil Street South Melbourne VIC 3205\"], [\"Suburb South Melbourne\", \"Site Woolworths South Melbourne 113 Cecil Street South Melbourne VIC 3205\"], [\"Suburb Cranbourne West\", \"Site Woolworths Cranbourne West Cnr Hall and Evans Roads Cranbourne West VIC 3977\"], [\"Suburb Cranbourne\", \"Site 7-Eleven Cranbourne Amstel 1/1016s Cranbourne-Frankston Rd Cranbourne VIC 3977\"], [\"Suburb Cranbourne\", \"Site Factorie Shop SP104 Cranbourne Park Shopping Centre, High St Cranbourne VIC 3977\"], [\"Suburb Footscray\", \"Site Inday Fillipino Store 121/81 Hopkins St (Footscray Market) Footscray VIC 3011\"], [\"Suburb Melbourne\", \"Site The Lott (St Kilda Road News) 509 St Kilda Road Melbourne VIC 3004\"], [\"Suburb Cranbourne\", \"Site Oporto Cranbourne Chicken 1016 Cranbourne-Frankston Rd Cranbourne VIC 3977\"], [\"Suburb Richmond\", \"Site My Homes and Gifts 182-186 Victoria St Richmond VIC 3121\"], [\"Suburb Elwood\", \"Site Turtle Cafe Elwood 34 Glen Huntly Rd Elwood VIC 3184\"], [\"Suburb Port Melbourne\", \"Site Coles Port Melbourne Corner Bay and Liardet St Port Melbourne VIC 3207\"], [\"Suburb Keilor Downs\", \"Site German Shepherd Dog Club of Victoria Western Branch Green Gully Reserve, McCrae Boulevard Keilor Downs VIC 3038\"], [\"Suburb Noble Park\", \"Site New Lanka Restaurant 262 Railway Parade Noble Park VIC 3175\"], [\"Suburb Yarraville\", \"Site Prestige Fruit and Vegetables 27 Anderson St Yarraville VIC 3013\"], [\"Suburb South Melbourne\", \"Site Zoumi Cafe 70 Albert Rd South Melbourne VIC 3205\"], [\"Suburb Footscray\", \"Site Thai Huy Butcher Shop 144, 18 Irving Street  Footscray VIC 3011\"], [\"Suburb Bus Route\", \"Site PTV Bus Number 412 Paisley Street/Footscray to Millers Road/Geelong Bus Route VIC\"], [\"Suburb Point Cook\", \"Site Target - Stockland Point Cook Shopping Centre Murnong Street Point Cook VIC 3030\"], [\"Suburb St Kilda\", \"Site Galleon Cafe 9 Carlisile Street St Kilda VIC 3182\"], [\"Suburb Brighton\", \"Site Brighton Beach Hotel 4 The Esplanade Brighton VIC 3186\"], [\"Suburb Bus Route\", \"Site PTV Bus Number 412 Central Square Shopping Centre/Merton Stop to Footscray Station Bus Route VIC\"], [\"Suburb Bus Route\", \"Site PTV Bus Number 406 Emu Road/Smith Street to Footscray Station Bus Route VIC\"], [\"Suburb Bus Route\", \"Site PTV Bus Number 406 Footscray Station to Emu Road/Hampstead Road (Maidstone) Bus Route VIC\"], [\"Suburb Cranbourne\", \"Site Gami Rasa Restaurant 19 Hotham Street Cranbourne VIC 3977\"], [\"Suburb Epping\", \"Site JMD Grocers & Sweets 768 High Street Epping VIC 3076\"], [\"Suburb Epping\", \"Site JMD Grocers & Sweets 768 High Street Epping VIC 3076\"], [\"Suburb Epping\", \"Site JMD Grocers & Sweets 768 High Street Epping VIC 3076\"], [\"Suburb Epping\", \"Site JMD Grocers & Sweets 768 High Street Epping VIC 3076\"], [\"Suburb Point Cook\", \"Site Coles Stockland Point Cook Shopping Centre 5 Main Street & Murnong Street Point Cook VIC 3030\"], [\"Suburb Point Cook\", \"Site Sanctuary Lakes Shopping Centre 300 Point Cook Road Point Cook VIC 3030\"], [\"Suburb Point Cook\", \"Site Aldi Sanctuary Lakes Shopping Centre 300 Point Cook Road Point Cook VIC 3030\"], [\"Suburb Bus Route\", \"Site PTV Bus Number 412 Central Square Shopping Centre/Merton Street to Footscray Station Bus Route VIC\"], [\"Suburb Epping\", \"Site Coles Epping Plaza Shop Q002. High Street Epping VIC 3076\"], [\"Suburb Epping\", \"Site Coles Epping Plaza Shop Q002. High Street Epping VIC 3076\"], [\"Suburb Preston\", \"Site H&M (Northland Shopping Centre) 2-50 Murray Road Preston VIC 3072\"], [\"Suburb Doreen\", \"Site Woolworths Laurimar 95 Hazel Glen Drive Doreen VIC 3754\"], [\"Suburb Thomastown\", \"Site Gobind Sweets 6/350 Settlement Road Thomastown VIC 3074\"], [\"Suburb Epping\", \"Site Chemist Warehouse (Epping Homemaker Center) 560-650 High Street Epping VIC 3076\"], [\"Suburb Epping\", \"Site Chemist Warehouse (Epping Homemaker Center) 560-650 High Street Epping VIC 3076\"], [\"Suburb Kalkallo\", \"Site Metricon Homes Kalkallo- Cloverton Display Homes 24 Design Way Kalkallo VIC 3064\"], [\"Suburb Campbellfield\", \"Site Metricon Homes- Campbellfield Office 108 National Blvd Campbellfield VIC 3061\"], [\"Suburb Mickleham\", \"Site Metricon Homes- Merrifield Display Homes 15 Carrington Drive Mickleham VIC 3064\"], [\"Suburb Mickleham\", \"Site Metricon Homes- Botanical Display Homes 27/29 Poppy St Mickleham VIC 3064\"], [\"Suburb Preston\", \"Site Northland Shopping Centre 2-50 Murray Road Preston VIC 3072\"], [\"Suburb Preston\", \"Site McDonalds (Northland Shopping Centre) 2-50 Murray Road Preston VIC 3072\"], [\"Suburb Thomastown\", \"Site Slades Beverages 46/40-50 Keon Parade Thomastown VIC 3074\"], [\"Suburb Preston\", \"Site Muffin Break (Northland Shopping Centre) 2-50 Murray Road Preston VIC 3072\"], [\"Suburb Preston\", \"Site H&M (Northland Shopping Centre) 2-50 Murray Road Preston VIC 3072\"], [\"Suburb Preston\", \"Site Salsa's Fresh Mex Grill (Northland Shopping Centre) K033/50 Murray Rd Preston VIC 3072\"], [\"Suburb Epping\", \"Site Walker's Donuts Epping (Pacific Epping Shopping Centre) 571-583 High Street Epping VIC 3076\"], [\"Suburb Epping\", \"Site Commonwealth Bank Australia (CBA) Epping Branch 83-84 Cooper Street & High Street Epping VIC 3076\"], [\"Suburb Lalor\", \"Site Coles Lalor 47-71 May Road Lalor VIC 3075\"], [\"Suburb Lalor\", \"Site Woolworths Lalor Hurtle Street Lalor VIC 3075\"], [\"Suburb Lalor\", \"Site Woolworths Lalor Hurtle Street Lalor VIC 3075\"], [\"Suburb Epping\", \"Site MKS Spices'n Things Epping 1/84-88 Coopers Street Epping VIC 3076\"], [\"Suburb Thomastown\", \"Site Slades Beverages 46/40-50 Keon Parade Thomastown VIC 3074\"], [\"Suburb Thomastown\", \"Site Slades Beverages 46/40-50 Keon Parade Thomastown VIC 3074\"], [\"Suburb Thomastown\", \"Site Slades Beverages 46/40-50 Keon Parade Thomastown VIC 3074\"], [\"Suburb Thomastown\", \"Site Slades Beverages 46/40-50 Keon Parade Thomastown VIC 3074\"], [\"Suburb Thomastown\", \"Site Slades Beverages 46/40-50 Keon Parade Thomastown VIC 3074\"], [\"Suburb Thomastown\", \"Site Slades Beverages 46/40-50 Keon Parade Thomastown VIC 3074\"], [\"Suburb Thomastown\", \"Site Slades Beverages 46/40-50 Keon Parade Thomastown VIC 3074\"], [\"Suburb Thomastown\", \"Site Slades Beverages 46/40-50 Keon Parade Thomastown VIC 3074\"], [\"Suburb Thomastown\", \"Site Slades Beverages 46/40-50 Keon Parade Thomastown VIC 3074\"], [\"Suburb Thomastown\", \"Site Slades Beverages 46/40-50 Keon Parade Thomastown VIC 3074\"], [\"Suburb Craigieburn\", \"Site Big W Craigieburn 340 Craigieburn Road Craigieburn VIC 3064\"], [\"Suburb Bundoora\", \"Site DFO Uni Hill - Champion, Melrose Avenue, Quiksilver, Factorie and Edge 2 Janefield Drive Bundoora VIC 3083\"], [\"Suburb Epping\", \"Site Coles Epping Plaza Shop Q002, Epping Plaza, High Street Epping VIC 3076\"], [\"Suburb Doreen\", \"Site Laurimar Medical Centre 120 - 122 Painted Hills Road Doreen VIC 3754\"], [\"Suburb Craigieburn\", \"Site Ambarsari Dhaba 3/38 Craigieburn Road Craigieburn VIC 3064\"], [\"Suburb Hawthorn\", \"Site Short Straw 743B Glenferrie Road Hawthorn VIC 3122\"], [\"Suburb Craigieburn\", \"Site PTV Bus Number 525 Highland SC/Grand Bvd to Donnybrook Rd/Dwyer Street Craigieburn VIC 3064\"], [\"Suburb Craigieburn\", \"Site PTV Bus Number 525 Highland SC/Grand Bvd to Donnybrook Rd/Dwyer Street Craigieburn VIC 3064\"], [\"Suburb Epping\", \"Site Kmart Epping Epping Plaza Shopping Center. Cnr High & Cooper Street Epping VIC 3076\"], [\"Suburb Epping\", \"Site Kmart Epping Epping Plaza Shopping Center. Cnr High & Cooper Street Epping VIC 3076\"], [\"Suburb Epping\", \"Site Coles Epping Plaza Shop Q002, Epping Plaza, High Street Epping VIC 3076\"], [\"Suburb Kalkallo\", \"Site Metricon Homes Kalkallo- Cloverton Display Homes 24 Design Way Kalkallo VIC 3064\"], [\"Suburb Arthurs Seat\", \"Site Enchanted Adventure Garden 55 Purves Road Arthurs Seat VIC 3936\"], [\"Suburb Bundoora\", \"Site IGA Agora Express (La Trobe University) La Trobe University, Melbourne Campus, Shop 1 Agora East, Bundoora VIC 3083 Bundoora VIC 3083\"], [\"Suburb Malvern East (Chadstone)\", \"Site Bakers Delight - Chadstone Shopping Centre 247C/ 1341 Dandenong Road Malvern East (Chadstone) VIC 3148\"], [\"Suburb Malvern East (Chadstone)\", \"Site Woolworths - Chadstone Shopping Centre 1341 Dandenong Road Malvern East (Chadstone) VIC 3148\"], [\"Suburb St Kilda\", \"Site McDonalds St Kilda 32 The Esplanade St Kilda VIC 3182\"], [\"Suburb St Kilda\", \"Site Woolworths 64 Fitzroy Street St Kilda VIC 3182\"], [\"Suburb St Kilda\", \"Site KFC St Kilda 70A Acland Street St Kilda VIC 3182\"], [\"Suburb St Kilda\", \"Site Woolworths 117 Acland Street St Kilda VIC 3182\"], [\"Suburb South Yarra\", \"Site Forvic Asian Supermarket 251 Malvern Road South Yarra VIC 3141\"], [\"Suburb Malvern East (Chadstone)\", \"Site Chadstone Shopping Centre 1341 Dandenong Road Malvern East (Chadstone) VIC 3148\"], [\"Suburb Malvern East (Chadstone)\", \"Site Yokozuna - Chadstone Shopping Centre 1341 Dandenong Road Malvern East (Chadstone) VIC 3148\"], [\"Suburb Malvern East (Chadstone)\", \"Site Optus - Chadstone Shopping Centre Shop B311, 1341 Dandenong Road Malvern East (Chadstone) VIC 3148\"], [\"Suburb Mernda\", \"Site Caltex Mernda 1631W Plenty Road Mernda VIC 3074\"], [\"Suburb Thomastown\", \"Site 7-Eleven Thomastown North Cnr Edgars Road and Main Street Thomastown VIC 3074\"], [\"Suburb Bundoora\", \"Site La Trobe University, Library All Levels (Except level 1) Plenty Road & Kingsbury Drive Bundoora VIC 3086\"], [\"Suburb Epping\", \"Site Pacific Epping Plaza - Cotton On, Edge, Valleygirl, Supre and Boost Juice 571 - 583 High Street Epping VIC 3076\"], [\"Suburb Epping\", \"Site Pacific Epping Plaza 571 - 583 High Street Epping VIC 3076\"], [\"Suburb Thomastown\", \"Site Supa IGA Thomastown 122 Main Street Thomastown VIC 3074\"], [\"Suburb Mickleham\", \"Site Chemist Warehouse Mickleham 250 - 270 Donnybrook Road Mickleham VIC 3064\"], [\"Suburb Braeside\", \"Site Shell Coles Express Braeside 918 - 928 Springvale Road Cnr Governor Road Braeside VIC 3064\"], [\"Suburb South Yarra\", \"Site Taco Bell Chapel Street 352 Chapel Street South Yarra VIC 3141\"], [\"Suburb Craigieburn\", \"Site Edu-Kingdom College 67A Hamilton Street Craigieburn VIC 3064\"], [\"Suburb Fingal\", \"Site Peninsula Hot Springs (Bathhouse Reception Only) 140 Springs Lane Fingal VIC 3939\"], [\"Suburb Glen Iris\", \"Site Coles Tooronga Village Tooronga Road Glen Iris VIC 3146\"], [\"Suburb Bundoora\", \"Site La Trobe University, Library Level 1 Plenty Road & Kingsbury Drive Bundoora VIC 3086\"], [\"Suburb Dandenong\", \"Site Marmara Halal Meats 141- 145 Lonsdale Street Dandenong VIC 3175\"], [\"Suburb Carrum Downs\", \"Site Sabrini Foods 77 Boundary Road Carrum Downs VIC 3201\"], [\"Suburb Dandenong\", \"Site Spice Inn Groceries 4 16-46 Cleeland Street Dandenong VIC 3175\"], [\"Suburb Dandenong\", \"Site Bestway Supermarket 200-208 Lonsdale Street Dandenong VIC 3175\"], [\"Suburb Dandenong\", \"Site Bestway Supermarket 21-23 Cleeland Street Dandenong VIC 3175\"], [\"Suburb Craigieburn\", \"Site Dosa Hut Craigieburn Shop D1/420-440 Craigieburn Road Craigieburn VIC 3064\"], [\"Suburb Epping\", \"Site Indiagate Spices and Groceries Unit 14C, 560-590 High Street Epping VIC 3076\"], [\"Suburb Wollert\", \"Site Hamara Bazaar 315 Harvest Home Road Wollert VIC 3750\"], [\"Suburb Reservoir\", \"Site Vic Fields Summerhill Shopping Centre 850 Plenty Road Reservoir VIC 3073\"], [\"Suburb Epping\", \"Site Khalsa Sweets and Snacks 3 Annalise Avenue Epping VIC 3076\"], [\"Suburb Wollert\", \"Site Erol's Fruit Shop 319 Harvest Home Road Wollert VIC 3750\"], [\"Suburb South Melbourne\", \"Site Clarendon Centre - Female public toilets 261 Clarendon Street South Melbourne VIC 3205\"], [\"Suburb South Melbourne\", \"Site Clarendon Centre - Female public toilets 261 Clarendon Street South Melbourne VIC 3205\"], [\"Suburb Maribyrnong\", \"Site JB Hi Fi Shop 159-163 Rosamond Road Maribyrnong VIC 3032\"], [\"Suburb Maribyrnong\", \"Site The Good Guys 2-6 Sloane Street Maribyrnong VIC 3032\"], [\"Suburb Yarraville\", \"Site Coles Yarraville Cnr Williamstown Road & High Street Yarraville VIC 3013\"], [\"Suburb Epping\", \"Site Epping Spices & Nuts Grocery Store 6/1 Lyndarum Drive Epping VIC 3076\"], [\"Suburb Epping\", \"Site Epping Spices & Nuts Grocery Store 6/1 Lyndarum Drive Epping VIC 3076\"], [\"Suburb Epping\", \"Site Epping Spices & Nuts Grocery Store 6/1 Lyndarum Drive Epping VIC 3076\"], [\"Suburb Epping\", \"Site Epping Spices & Nuts Grocery Store 6/1 Lyndarum Drive Epping VIC 3076\"], [\"Suburb Mill Park\", \"Site Star Car Wash 1, Westfield Plenty Valley 52/415 McDonalds Rd Mill Park VIC 3082\"], [\"Suburb Mill Park\", \"Site Star Car Wash 1, Westfield Plenty Valley 52/415 McDonalds Rd Mill Park VIC 3082\"], [\"Suburb Mill Park\", \"Site Star Car Wash 1, Westfield Plenty Valley 52/415 McDonalds Rd Mill Park VIC 3082\"], [\"Suburb Mill Park\", \"Site Star Car Wash 1, Westfield Plenty Valley 52/415 McDonalds Rd Mill Park VIC 3082\"], [\"Suburb Reservoir\", \"Site Healthy India 276 Broadway Reservoir VIC 3073\"], [\"Suburb Brunswick East\", \"Site Dan Murphy's Brunswick East 513 Lygon St, Brunswick East Brunswick East VIC 3057\"], [\"Suburb Epping\", \"Site The Grande Reception & Function Centre 6-8 Helm Court Epping VIC 3076\"], [\"Suburb Preston\", \"Site Preston City Hall 284 Gower Street Preston VIC 3071\"], [\"Suburb Reservoir\", \"Site Edwardes Lake Playground Edwardes Lake Reservoir VIC 3073\"], [\"Suburb South Melbourne\", \"Site Miss China Noodle Bar (within Clarendon Centre) Shop G08/261 Clarendon Street South Melbourne VIC 3205\"], [\"Suburb South Melbourne\", \"Site Telstra Shop Shop G01/265 Clarendon Street South Melbourne VIC 3205\"], [\"Suburb South Melbourne\", \"Site Telstra Shop Shop G01/265 Clarendon Street South Melbourne VIC 3205\"], [\"Suburb South Melbourne\", \"Site Hunky Dory Fish & Chips 252 Clarendon Street South Melbourne VIC 3205\"], [\"Suburb Thomastown\", \"Site 7-Eleven Thomastown North Cnr Edgars Road & Main Street Thomastown VIC 3074\"], [\"Suburb Hampton\", \"Site Body Fit Training Hampton Shop 4-6/498 Hampton Street Hampton VIC 3188\"], [\"Suburb Hampton\", \"Site Body Fit Training Hampton Shop 4-6/498 Hampton Street Hampton VIC 3188\"], [\"Suburb Greenvale\", \"Site Barrymore Medical Centre 9 Barrymore Road Greenvale VIC 3059\"], [\"Suburb Carlton\", \"Site RMIT Campus, Building 57 (Edward Jackson Building) 53 Lygon Street Carlton VIC 3053\"], [\"Suburb Mickleham\", \"Site Botanical Display Homes (Botanical Display Village) 23-25 Poppy Street Mickleham VIC 3063\"], [\"Suburb Craigieburn\", \"Site The Coffee Club - Craigieburn Central Craigieburn Central, Shop B00, 15/350 Craigieburn Road Craigieburn VIC 3064\"], [\"Suburb Docklands\", \"Site Network Public Bar 14/99 Spencer Street Docklands VIC 3008\"], [\"Suburb Docklands\", \"Site Hungry Jacks - Southern Cross Station 14/99 Spencer Street Docklands VIC 3008\"], [\"Suburb South Wharf\", \"Site Roll'd - DFO South Wharf DFO South Wharf, 20 Convention Center Place South Wharf VIC 3006\"], [\"Suburb South Wharf\", \"Site Boost Juice DFO DFO South Wharf, 20 Convention Center Place South Wharf VIC 3006\"], [\"Suburb South Wharf\", \"Site DFO Food Court DFO South Wharf, 20 Convention Center Place South Wharf VIC 3006\"], [\"Suburb Tullamarine\", \"Site 7-Eleven Tullamarine (Carrick Drive) 182 Melrose Drive Tullamarine VIC 3043\"], [\"Suburb Moonee Ponds\", \"Site Moonee Valley Football Club - Ormond Park Spectators at (Men's 3rds Match Moonee Valley VS Hillside Sharks) 2A Pattison Steet Moonee Ponds VIC 3039\"], [\"Suburb Moonee Ponds\", \"Site Moonee Valley Football Club - Ormond Park Function Room/Bar 2A Pattison Steet Moonee Ponds VIC 3039\"], [\"Suburb Moonee Ponds\", \"Site Moonee Valley Football Club - Ormond Park (Male Change Rooms) 2A Pattison Steet Moonee Ponds VIC 3039\"], [\"Suburb Port Melbourne\", \"Site Hunky Dory Fish & Chips 3/181 Bay Street Port Melbourne VIC 3207\"], [\"Suburb Coburg\", \"Site Pentridge Cinema Coburg (Palace Cinema) - 7pm screening of 'Those Who Wish Me Dead' 1 Champ Street Coburg VIC 3058\"], [\"Suburb Seddon\", \"Site Caprice Hair & Beauty 101 Charles Street Seddon VIC 3011\"], [\"Suburb South Melbourne\", \"Site Anytime Fitness South Melbourne 63-69 Market Street South Melbourne VIC 3205\"], [\"Suburb Coburg\", \"Site Pentridge Cinema Coburg (Palace Cinema) 1 Champ Street Coburg VIC 3058\"], [\"Suburb Tullamarine\", \"Site BP Tullamarine Corner of Airport Drive and Link Road Tullamarine VIC 3045\"], [\"Suburb Tullamarine\", \"Site BP Tullamarine Corner of Airport Drive and Link Road Tullamarine VIC 3045\"], [\"Suburb Bundoora\", \"Site Bung Pai Thai Massage Bundoora 11/1320 Plenty Road Bundoora VIC 3083\"], [\"Suburb Yarraville\", \"Site Focus Health & Fitness 121-123 Hyde Street Yarraville VIC 3013\"], [\"Suburb Carlton\", \"Site Green Man's Arms 418 Lygon Sreet Carlton VIC 3053\"], [\"Suburb South Melbourne\", \"Site Anytime Fitness South Melbourne 63-69 Market Street South Melbourne VIC 3205\"], [\"Suburb South Melbourne\", \"Site Anytime Fitness South Melbourne 63-69 Market Street South Melbourne VIC 3205\"], [\"Suburb South Melbourne\", \"Site Anytime Fitness South Melbourne 63-69 Market Street South Melbourne VIC 3205\"], [\"Suburb Fitzroy\", \"Site Peko Peko Fitzroy 199 Smith Street Fitzroy VIC 3065\"], [\"Suburb Aspendale Gardens\", \"Site Chelsea Heights Hotel Springvale Road & Wells Road Aspendale Gardens VIC 3196\"], [\"Suburb Brunswick\", \"Site OPSM Barkly Square Barkly Square Shopping Centre, 90-160 Sydney Rd Brunswick VIC 3056\"], [\"Suburb Doncaster\", \"Site Betty's Burgers & Concrete Co. (Westfield Doncaster) Tenancy R1 & R2, Level 2, 619 Doncaster Road Doncaster VIC 3108\"], [\"Suburb Lalor\", \"Site Everfresh Fruit Market 346 Station Street Lalor VIC 3075\"], [\"Suburb Lalor\", \"Site Fruits of Lalor 328 Station Street Lalor VIC 3075\"], [\"Suburb Lalor\", \"Site No. 1 Fruit Market 37 May Road Lalor VIC 3075\"], [\"Suburb Docklands\", \"Site Southern Cross Station, Toilets Under Bourke Street Bridge 14/99 Spencer Street Docklands VIC 3059\"], [\"Suburb Greenvale\", \"Site Chemist Warehouse Shop 4, 212 - 220 Greenvale Drive Greenvale VIC 3059\"], [\"Suburb Cranbourne\", \"Site LeNails Cranbourne Shop 101 Cranbourne Park Shopping Centre, High Street Cranbourne VIC 3977\"], [\"Suburb Mill Park\", \"Site Degani, Westfield Plenty Valley 415 Mcdonalds Road Mill Park VIC 3082\"], [\"Suburb Bayswater North\", \"Site Mcdonalds Bayswater North 296 Canterbury Road Bayswater North VIC 3153\"], [\"Suburb Wantirna South\", \"Site Insportz Knox 108 Lewis Road Wantirna South VIC 3152\"], [\"Suburb Mordialloc\", \"Site The Sporting Globe Mordialloc 590 Main Street Mordialloc VIC 3195\"], [\"Suburb Burwood East\", \"Site Burwood Teppanyaki House 145 Burwood Highway Burwood East VIC 3151\"], [\"Suburb Parkville\", \"Site Melbourne Swordcraft Ransford Oval, Park Street Parkville VIC 3052\"], [\"Suburb Red Hill\", \"Site Nordie Cafe 1008 Mornington-Flinders Road Red Hill VIC 3937\"], [\"Suburb Carnegie\", \"Site Bicycle Superstore 1030 Dandenong Road Carnegie VIC 3163\"], [\"Suburb Coburg\", \"Site IGA Coburg 12-20 Nicholson Street Coburg VIC 3058\"], [\"Suburb Fairfield\", \"Site 7-Eleven Fairfield East 324 Station street Fairfield VIC 3078\"], [\"Suburb Port Melbourne\", \"Site The Local, Port Melbourne 22-24 Bay Street Port Melbourne VIC 3207\"], [\"Suburb Bundoora\", \"Site Anytime Fitness Shop TG-01, Uni Hill Town Centre, 1-3 Janefield Drive Bundoora VIC 3083\"], [\"Suburb Bundoora\", \"Site Anytime Fitness Shop TG-01, Uni Hill Town Centre, 1-3 Janefield Drive Bundoora VIC 3083\"], [\"Suburb Southbank\", \"Site Criniti's Southbank 645 Freshwater Place Southbank VIC 3006\"], [\"Suburb South Melbourne\", \"Site The Palace Hotel 505-507 City Road South Melbourne VIC 3205\"], [\"Suburb Coburg\", \"Site Ritchies IGA Pentridge 1 Champ Street Coburg VIC 3058\"], [\"Suburb Docklands\", \"Site Marvel Stadium - (Level 1 Aisles 5-28 and Level 3 Aisles 6-29) 740 Bourke St Docklands VIC 3008\"], [\"Suburb Docklands\", \"Site Marvel Stadium - all other zones not individually listed 740 Bourke St Docklands VIC 3008\"], [\"Suburb Cohuna\", \"Site Cohuna Football and Netball Club, Cohuna Recreation Reserve Island Road Cohuna VIC 3568\"], [\"Suburb Brunswick\", \"Site Barkly Square: Priceline, Kmart, Woolworths, OPSM Barkly Square Shopping Centre, 90-160 Sydney Rd Brunswick VIC 3056\"], [\"Suburb Reservoir\", \"Site Doctors on Broadway 210A Broadway Reservoir VIC 3073\"], [\"Suburb Port Melbourne\", \"Site Stratton Finance HQ 1/435 Williamstown Road Port Melbourne VIC 3207\"], [\"Suburb Port Melbourne\", \"Site Stratton Finance HQ 1/435 Williamstown Road Port Melbourne VIC 3207\"], [\"Suburb Port Melbourne\", \"Site Stratton Finance HQ 1/435 Williamstown Road Port Melbourne VIC 3207\"], [\"Suburb Port Melbourne\", \"Site Stratton Finance HQ 1/435 Williamstown Road Port Melbourne VIC 3207\"], [\"Suburb Port Melbourne\", \"Site Stratton Finance HQ 1/435 Williamstown Road Port Melbourne VIC 3207\"], [\"Suburb Port Melbourne\", \"Site Stratton Finance HQ 1/435 Williamstown Road Port Melbourne VIC 3207\"], [\"Suburb Abbotsford\", \"Site Dukes Gym Abbotsford 571-573 Victoria Street Abbotsford VIC 3067\"], [\"Suburb Balwyn\", \"Site Endless Lifestyle Studio  Shop 3/188 Whitehorse Road  Balwyn VIC 3103\"], [\"Suburb Carlton\", \"Site RMIT Campus, Building 56 115 Queensberry Street  Carlton VIC 3053\"], [\"Suburb Richmond\", \"Site Melbourne Cricket Ground - Zone 4, Level 1 Brunton Avenue Richmond VIC 3002\"], [\"Suburb Richmond\", \"Site Melbourne Cricket Ground - All of the Stadium, other than Zone 4, Level 1 Brunton Avenue Richmond VIC 3002\"], [\"Suburb Prahran\", \"Site Somewhere Bar 181 Chapel Street Prahran VIC 3181\"], [\"Suburb Prahran\", \"Site Three Monkeys  210 Chapel Street Prahran VIC 3181\"], [\"Suburb Prahran\", \"Site Three Monkeys  210 Chapel Street Prahran VIC 3181\"], [\"Suburb South Yarra\", \"Site Circus Bar 199 Commercial Road South Yarra VIC 3181\"], [\"Suburb Axedale\", \"Site Axedale Tavern 105 High Street Axedale VIC 3551\"], [\"Suburb Bendigo\", \"Site Hairfolk 33 Williamson Street Bendigo VIC 3550\"], [\"Suburb Coburg\", \"Site BP Southvale 303 Bell Street Coburg VIC 3058\"], [\"Suburb Coburg\", \"Site The Nicholson Coffee House 6/14-20 Nicholson Street Coburg VIC 3058\"], [\"Suburb Epping\", \"Site Coles Epping Shop Number Q002. Pacific Epping Cooper Street & High street Epping VIC 3076\"], [\"Suburb Epping\", \"Site Woolworths Epping Shop Number Q003. Pacific Epping Cooper Street & High street Epping VIC 3076\"], [\"Suburb Fitzroy North\", \"Site Secco and Co 414 Nicholson Street Fitzroy North VIC 3068\"], [\"Suburb Port Melbourne\", \"Site Bay 101 Cafe 7/101 Bay Street Port Melbourne VIC 3207\"], [\"Suburb Port Melbourne\", \"Site Port Park Cafe  7/484 Graham St Port Melbourne VIC 3207\"], [\"Suburb Port Melbourne\", \"Site The Local, Port Melbourne 22-24 Bay Street Port Melbourne VIC 3207\"], [\"Suburb Thornbury\", \"Site Little Tienda 410 Station Street Thornbury VIC 3071\"], [\"Suburb Epping\", \"Site Chemist Warehouse Shop 15, Dalton Village, 351-371 Dalton Road Epping VIC 3076\"], [\"Suburb Lalor\", \"Site Deep Indian Supermarket 3/494 High Street Lalor VIC 3075\"], [\"Suburb Lalor\", \"Site Everfresh Fruit Market 346 Station Street Lalor VIC 3075\"], [\"Suburb Lalor\", \"Site Fruits of Lalor 328 Station Street Lalor VIC 3075\"], [\"Suburb Lalor\", \"Site No. 1 Fruit Market 37 May Road Lalor VIC 3075\"], [\"Suburb Mill Park\", \"Site Bunnings Warehouse 761 Plenty Road Mill Park VIC 3082\"], [\"Suburb Thomastown\", \"Site ACTROL (Retail Store- refrigerator and airconditioning parts) 13-17 Brand Drive Thomastown VIC 3074\"], [\"Suburb Epping\", \"Site Nando's Epping (Dalton Rd) Shop 17 Dalton Village, 351-371 Dalton Road Epping VIC 3076\"], [\"Suburb Brunswick\", \"Site Futsal Brunswick 409 Victoria Street Brunswick VIC 3056\"], [\"Suburb Epping\", \"Site Urban Diner Food Court, Pacific Epping Shopping Centre 571-583 High Street Epping VIC 3076\"], [\"Suburb Epping\", \"Site House and Party (store) 2 Lyndarum Drive Epping VIC 3076\"], [\"Suburb Reservoir\", \"Site B.T. Connor Reserve 200 Broadhurst Avenue Reservoir VIC 3073\"], [\"Suburb Epping\", \"Site Epping North Shopping Centre 2 Lyndarum Drive Epping VIC 3076\"], [\"Suburb Epping\", \"Site JMD Grocers & Sweets 768 High Street Epping VIC 3076\"], [\"Suburb Epping\", \"Site The Furniture Trader 102-120 Cooper Street Epping VIC 3076\"], [\"Suburb Thomastown\", \"Site White Line Automotive 2/28 Lipton Drive Thomastown VIC 3074\"], [\"Suburb Epping\", \"Site Woolworths Epping North Shop 13, 2 Lyndarum Drive Epping VIC 3076\"], [\"Suburb Bundoora\", \"Site Jump! Swim Schools Bundoora 4/37 The Concord Bundoora VIC 3083\"], [\"Suburb Clifton Hill\", \"Site McDonald's Clifton Hill - Dine-in Only 199 Queens Parade Clifton Hill VIC 3068\"], [\"Suburb Epping\", \"Site ALDI Epping 347-371 Dalton Road Epping VIC 3076\"], [\"Suburb Epping\", \"Site Chemist Depot Epping, Pacific Epping Shoping Centre 571-583 High Street Epping VIC 3076\"], [\"Suburb Maribyrnong\", \"Site Highpoint Shopping Centre, all other areas on Levels 2 and 3 excluding specific shops listed as Tier 1 sites Levels 2 & 3, 120-200 Rosamond Road Maribyrnong VIC 3032\"], [\"Suburb Maribyrnong\", \"Site Ishka, Highpoint Shopping Centre Level 2, 120-200 Rosamond Road Maribyrnong VIC 3032\"], [\"Suburb Maribyrnong\", \"Site Kidstuff, Highpoint Shopping Centre Level 2, 120-200 Rosamond Road Maribyrnong VIC 3032\"], [\"Suburb Maribyrnong\", \"Site Lush Cosmetics, Highpoint Shopping Centre Level 2, 120-200 Rosamond Road Maribyrnong VIC 3032\"], [\"Suburb Maribyrnong\", \"Site Smiggle, Highpoint Shopping Centre Level 3, 120-200 Rosamond Road Maribyrnong VIC 3032\"], [\"Suburb Maribyrnong\", \"Site Toyworld, Highpoint Shopping Centre Level 2, 120-200 Rosamond Road Maribyrnong VIC 3032\"], [\"Suburb Melbourne\", \"Site Bamboo House 47 Little Bourke Street Melbourne VIC 3000\"], [\"Suburb Preston\", \"Site Adams Reserve Playground Milton Crescent Preston VIC 3072\"], [\"Suburb Preston\", \"Site ALDI Preston South 15 Dundas Street Preston VIC 3072\"], [\"Suburb Reservoir\", \"Site P & C Indian Grocery & Convenience Store 246 Broadway Reservoir VIC 3073\"], [\"Suburb Reservoir\", \"Site Shell Coles Express Reservoir 192-202 Broadway & Whitelaw Street Reservoir VIC 3073\"]], \"hovertemplate\": \"date_exposure=%{x}<br>date_added=%{y}<br>Suburb=%{customdata[0]}<br>Site=%{customdata[1]}<extra></extra>\", \"legendgroup\": \"\", \"marker\": {\"color\": \"#636efa\", \"opacity\": 0.5, \"size\": 20, \"symbol\": \"circle\"}, \"mode\": \"markers\", \"name\": \"\", \"orientation\": \"v\", \"showlegend\": false, \"type\": \"scatter\", \"x\": [\"2021-05-23T00:00:00\", \"2021-05-28T00:00:00\", \"2021-05-28T00:00:00\", \"2021-05-28T00:00:00\", \"2021-05-26T00:00:00\", \"2021-05-27T00:00:00\", \"2021-05-28T00:00:00\", \"2021-05-29T00:00:00\", \"2021-05-26T00:00:00\", \"2021-05-26T00:00:00\", \"2021-05-26T00:00:00\", \"2021-05-27T00:00:00\", \"2021-05-28T00:00:00\", \"2021-05-29T00:00:00\", \"2021-05-28T00:00:00\", \"2021-05-25T00:00:00\", \"2021-05-27T00:00:00\", \"2021-05-27T00:00:00\", \"2021-05-27T00:00:00\", \"2021-05-22T00:00:00\", \"2021-05-23T00:00:00\", \"2021-05-23T00:00:00\", \"2021-05-25T00:00:00\", \"2021-05-21T00:00:00\", \"2021-05-26T00:00:00\", \"2021-05-26T00:00:00\", \"2021-05-24T00:00:00\", \"2021-05-25T00:00:00\", \"2021-05-26T00:00:00\", \"2021-05-26T00:00:00\", \"2021-05-15T00:00:00\", \"2021-05-15T00:00:00\", \"2021-05-22T00:00:00\", \"2021-05-23T00:00:00\", \"2021-05-20T00:00:00\", \"2021-05-18T00:00:00\", \"2021-05-26T00:00:00\", \"2021-05-26T00:00:00\", \"2021-05-26T00:00:00\", \"2021-05-25T00:00:00\", \"2021-05-25T00:00:00\", \"2021-05-24T00:00:00\", \"2021-05-23T00:00:00\", \"2021-05-23T00:00:00\", \"2021-05-25T00:00:00\", \"2021-05-22T00:00:00\", \"2021-05-23T00:00:00\", \"2021-05-22T00:00:00\", \"2021-05-22T00:00:00\", \"2021-05-23T00:00:00\", \"2021-05-26T00:00:00\", \"2021-05-24T00:00:00\", \"2021-05-23T00:00:00\", \"2021-05-22T00:00:00\", \"2021-05-24T00:00:00\", \"2021-05-24T00:00:00\", \"2021-05-23T00:00:00\", \"2021-05-22T00:00:00\", \"2021-05-24T00:00:00\", \"2021-05-22T00:00:00\", \"2021-05-27T00:00:00\", \"2021-05-27T00:00:00\", \"2021-05-26T00:00:00\", \"2021-05-23T00:00:00\", \"2021-05-23T00:00:00\", \"2021-05-26T00:00:00\", \"2021-05-26T00:00:00\", \"2021-05-26T00:00:00\", \"2021-05-21T00:00:00\", \"2021-05-22T00:00:00\", \"2021-05-24T00:00:00\", \"2021-05-17T00:00:00\", \"2021-05-17T00:00:00\", \"2021-05-26T00:00:00\", \"2021-05-26T00:00:00\", \"2021-05-26T00:00:00\", \"2021-05-27T00:00:00\", \"2021-05-24T00:00:00\", \"2021-05-19T00:00:00\", \"2021-05-22T00:00:00\", \"2021-05-26T00:00:00\", \"2021-05-27T00:00:00\", \"2021-05-17T00:00:00\", \"2021-05-18T00:00:00\", \"2021-05-22T00:00:00\", \"2021-05-25T00:00:00\", \"2021-05-25T00:00:00\", \"2021-05-25T00:00:00\", \"2021-05-22T00:00:00\", \"2021-05-22T00:00:00\", \"2021-05-26T00:00:00\", \"2021-05-22T00:00:00\", \"2021-05-22T00:00:00\", \"2021-05-22T00:00:00\", \"2021-05-19T00:00:00\", \"2021-05-22T00:00:00\", \"2021-05-18T00:00:00\", \"2021-05-25T00:00:00\", \"2021-05-26T00:00:00\", \"2021-05-24T00:00:00\", \"2021-05-17T00:00:00\", \"2021-05-18T00:00:00\", \"2021-05-20T00:00:00\", \"2021-05-21T00:00:00\", \"2021-05-24T00:00:00\", \"2021-05-25T00:00:00\", \"2021-05-27T00:00:00\", \"2021-05-28T00:00:00\", \"2021-05-12T00:00:00\", \"2021-05-13T00:00:00\", \"2021-05-20T00:00:00\", \"2021-05-25T00:00:00\", \"2021-05-19T00:00:00\", \"2021-05-25T00:00:00\", \"2021-05-26T00:00:00\", \"2021-05-23T00:00:00\", \"2021-05-19T00:00:00\", \"2021-05-25T00:00:00\", \"2021-05-22T00:00:00\", \"2021-05-26T00:00:00\", \"2021-05-24T00:00:00\", \"2021-05-26T00:00:00\", \"2021-05-21T00:00:00\", \"2021-05-25T00:00:00\", \"2021-05-26T00:00:00\", \"2021-05-26T00:00:00\", \"2021-05-27T00:00:00\", \"2021-05-27T00:00:00\", \"2021-05-27T00:00:00\", \"2021-05-28T00:00:00\", \"2021-05-23T00:00:00\", \"2021-05-26T00:00:00\", \"2021-05-26T00:00:00\", \"2021-05-26T00:00:00\", \"2021-05-25T00:00:00\", \"2021-05-24T00:00:00\", \"2021-05-25T00:00:00\", \"2021-05-25T00:00:00\", \"2021-05-25T00:00:00\", \"2021-05-24T00:00:00\", \"2021-05-22T00:00:00\", \"2021-05-22T00:00:00\", \"2021-05-23T00:00:00\", \"2021-05-22T00:00:00\", \"2021-05-21T00:00:00\", \"2021-05-23T00:00:00\", \"2021-05-25T00:00:00\", \"2021-05-19T00:00:00\", \"2021-05-19T00:00:00\", \"2021-05-19T00:00:00\", \"2021-05-19T00:00:00\", \"2021-05-19T00:00:00\", \"2021-05-25T00:00:00\", \"2021-05-19T00:00:00\", \"2021-05-18T00:00:00\", \"2021-05-18T00:00:00\", \"2021-05-18T00:00:00\", \"2021-05-18T00:00:00\", \"2021-05-25T00:00:00\", \"2021-05-24T00:00:00\", \"2021-05-23T00:00:00\", \"2021-05-23T00:00:00\", \"2021-05-23T00:00:00\", \"2021-05-22T00:00:00\", \"2021-05-24T00:00:00\", \"2021-05-25T00:00:00\", \"2021-05-26T00:00:00\", \"2021-05-22T00:00:00\", \"2021-05-23T00:00:00\", \"2021-05-25T00:00:00\", \"2021-05-26T00:00:00\", \"2021-05-27T00:00:00\", \"2021-05-22T00:00:00\", \"2021-05-22T00:00:00\", \"2021-05-22T00:00:00\", \"2021-05-23T00:00:00\", \"2021-05-25T00:00:00\", \"2021-05-24T00:00:00\", \"2021-05-25T00:00:00\", \"2021-05-24T00:00:00\", \"2021-05-23T00:00:00\", \"2021-05-24T00:00:00\", \"2021-05-25T00:00:00\", \"2021-05-25T00:00:00\", \"2021-05-13T00:00:00\", \"2021-05-23T00:00:00\", \"2021-05-23T00:00:00\", \"2021-05-23T00:00:00\", \"2021-05-23T00:00:00\", \"2021-05-25T00:00:00\", \"2021-05-24T00:00:00\", \"2021-05-24T00:00:00\", \"2021-05-22T00:00:00\", \"2021-05-22T00:00:00\", \"2021-05-22T00:00:00\", \"2021-05-22T00:00:00\", \"2021-05-21T00:00:00\", \"2021-05-24T00:00:00\", \"2021-05-22T00:00:00\", \"2021-05-20T00:00:00\", \"2021-05-24T00:00:00\", \"2021-05-24T00:00:00\", \"2021-05-24T00:00:00\", \"2021-05-24T00:00:00\", \"2021-05-24T00:00:00\", \"2021-05-23T00:00:00\", \"2021-05-21T00:00:00\", \"2021-05-24T00:00:00\", \"2021-05-25T00:00:00\", \"2021-05-22T00:00:00\", \"2021-05-23T00:00:00\", \"2021-05-22T00:00:00\", \"2021-05-23T00:00:00\", \"2021-05-14T00:00:00\", \"2021-05-14T00:00:00\", \"2021-05-14T00:00:00\", \"2021-05-23T00:00:00\", \"2021-05-25T00:00:00\", \"2021-05-22T00:00:00\", \"2021-05-23T00:00:00\", \"2021-05-21T00:00:00\", \"2021-05-20T00:00:00\", \"2021-05-23T00:00:00\", \"2021-05-22T00:00:00\", \"2021-05-21T00:00:00\", \"2021-05-22T00:00:00\", \"2021-05-23T00:00:00\", \"2021-05-22T00:00:00\", \"2021-05-23T00:00:00\", \"2021-05-21T00:00:00\", \"2021-05-23T00:00:00\", \"2021-05-24T00:00:00\", \"2021-05-23T00:00:00\", \"2021-05-21T00:00:00\", \"2021-05-24T00:00:00\", \"2021-05-23T00:00:00\", \"2021-05-23T00:00:00\", \"2021-05-22T00:00:00\", \"2021-05-22T00:00:00\", \"2021-05-18T00:00:00\", \"2021-05-20T00:00:00\", \"2021-05-21T00:00:00\", \"2021-05-22T00:00:00\", \"2021-05-23T00:00:00\", \"2021-05-24T00:00:00\", \"2021-05-25T00:00:00\", \"2021-05-24T00:00:00\", \"2021-05-23T00:00:00\", \"2021-05-21T00:00:00\", \"2021-05-23T00:00:00\", \"2021-05-23T00:00:00\", \"2021-05-22T00:00:00\", \"2021-05-22T00:00:00\", \"2021-05-23T00:00:00\", \"2021-05-23T00:00:00\", \"2021-05-23T00:00:00\", \"2021-05-22T00:00:00\", \"2021-05-22T00:00:00\", \"2021-05-22T00:00:00\", \"2021-05-20T00:00:00\", \"2021-05-20T00:00:00\", \"2021-05-22T00:00:00\", \"2021-05-24T00:00:00\", \"2021-05-24T00:00:00\", \"2021-05-21T00:00:00\", \"2021-05-22T00:00:00\", \"2021-05-19T00:00:00\", \"2021-05-20T00:00:00\", \"2021-05-19T00:00:00\", \"2021-05-19T00:00:00\", \"2021-05-19T00:00:00\", \"2021-05-20T00:00:00\", \"2021-05-17T00:00:00\", \"2021-05-19T00:00:00\", \"2021-05-23T00:00:00\", \"2021-05-23T00:00:00\", \"2021-05-22T00:00:00\", \"2021-05-21T00:00:00\", \"2021-05-22T00:00:00\", \"2021-05-17T00:00:00\", \"2021-05-18T00:00:00\", \"2021-05-20T00:00:00\", \"2021-05-22T00:00:00\", \"2021-05-21T00:00:00\", \"2021-05-22T00:00:00\", \"2021-05-23T00:00:00\", \"2021-05-23T00:00:00\", \"2021-05-20T00:00:00\", \"2021-05-20T00:00:00\", \"2021-05-20T00:00:00\", \"2021-05-20T00:00:00\", \"2021-05-20T00:00:00\", \"2021-05-20T00:00:00\", \"2021-05-21T00:00:00\", \"2021-05-23T00:00:00\", \"2021-05-23T00:00:00\", \"2021-05-22T00:00:00\", \"2021-05-18T00:00:00\"], \"xaxis\": \"x\", \"y\": [\"2021-06-01T00:00:00\", \"2021-06-01T00:00:00\", \"2021-06-01T00:00:00\", \"2021-06-01T00:00:00\", \"2021-05-31T00:00:00\", \"2021-05-31T00:00:00\", \"2021-05-31T00:00:00\", \"2021-05-31T00:00:00\", \"2021-05-31T00:00:00\", \"2021-05-31T00:00:00\", \"2021-05-31T00:00:00\", \"2021-05-31T00:00:00\", \"2021-05-31T00:00:00\", \"2021-05-31T00:00:00\", \"2021-05-31T00:00:00\", \"2021-05-31T00:00:00\", \"2021-05-31T00:00:00\", \"2021-05-31T00:00:00\", \"2021-05-31T00:00:00\", \"2021-05-31T00:00:00\", \"2021-05-31T00:00:00\", \"2021-05-31T00:00:00\", \"2021-05-31T00:00:00\", \"2021-05-31T00:00:00\", \"2021-05-31T00:00:00\", \"2021-05-31T00:00:00\", \"2021-05-30T00:00:00\", \"2021-05-30T00:00:00\", \"2021-05-30T00:00:00\", \"2021-05-30T00:00:00\", \"2021-05-30T00:00:00\", \"2021-05-30T00:00:00\", \"2021-05-30T00:00:00\", \"2021-05-30T00:00:00\", \"2021-05-30T00:00:00\", \"2021-05-30T00:00:00\", \"2021-05-30T00:00:00\", \"2021-05-30T00:00:00\", \"2021-05-30T00:00:00\", \"2021-05-30T00:00:00\", \"2021-05-30T00:00:00\", \"2021-05-30T00:00:00\", \"2021-05-30T00:00:00\", \"2021-05-30T00:00:00\", \"2021-05-30T00:00:00\", \"2021-05-30T00:00:00\", \"2021-05-30T00:00:00\", \"2021-05-30T00:00:00\", \"2021-05-30T00:00:00\", \"2021-05-30T00:00:00\", \"2021-05-30T00:00:00\", \"2021-05-30T00:00:00\", \"2021-05-30T00:00:00\", \"2021-05-30T00:00:00\", \"2021-05-30T00:00:00\", \"2021-05-30T00:00:00\", \"2021-05-30T00:00:00\", \"2021-05-30T00:00:00\", \"2021-05-30T00:00:00\", \"2021-05-30T00:00:00\", \"2021-05-30T00:00:00\", \"2021-05-30T00:00:00\", \"2021-05-30T00:00:00\", \"2021-05-30T00:00:00\", \"2021-05-30T00:00:00\", \"2021-05-30T00:00:00\", \"2021-05-30T00:00:00\", \"2021-05-30T00:00:00\", \"2021-05-30T00:00:00\", \"2021-05-30T00:00:00\", \"2021-05-30T00:00:00\", \"2021-05-30T00:00:00\", \"2021-05-30T00:00:00\", \"2021-05-30T00:00:00\", \"2021-05-30T00:00:00\", \"2021-05-30T00:00:00\", \"2021-05-30T00:00:00\", \"2021-05-30T00:00:00\", \"2021-05-30T00:00:00\", \"2021-05-30T00:00:00\", \"2021-05-30T00:00:00\", \"2021-05-30T00:00:00\", \"2021-05-30T00:00:00\", \"2021-05-30T00:00:00\", \"2021-05-30T00:00:00\", \"2021-05-30T00:00:00\", \"2021-05-30T00:00:00\", \"2021-05-30T00:00:00\", \"2021-05-30T00:00:00\", \"2021-05-30T00:00:00\", \"2021-05-30T00:00:00\", \"2021-05-30T00:00:00\", \"2021-05-30T00:00:00\", \"2021-05-30T00:00:00\", \"2021-05-30T00:00:00\", \"2021-05-30T00:00:00\", \"2021-05-30T00:00:00\", \"2021-05-30T00:00:00\", \"2021-05-30T00:00:00\", \"2021-05-30T00:00:00\", \"2021-05-30T00:00:00\", \"2021-05-30T00:00:00\", \"2021-05-30T00:00:00\", \"2021-05-30T00:00:00\", \"2021-05-30T00:00:00\", \"2021-05-30T00:00:00\", \"2021-05-30T00:00:00\", \"2021-05-30T00:00:00\", \"2021-05-30T00:00:00\", \"2021-05-30T00:00:00\", \"2021-05-30T00:00:00\", \"2021-05-30T00:00:00\", \"2021-05-30T00:00:00\", \"2021-05-30T00:00:00\", \"2021-05-30T00:00:00\", \"2021-05-30T00:00:00\", \"2021-05-30T00:00:00\", \"2021-05-30T00:00:00\", \"2021-05-30T00:00:00\", \"2021-05-30T00:00:00\", \"2021-05-30T00:00:00\", \"2021-05-30T00:00:00\", \"2021-05-30T00:00:00\", \"2021-05-30T00:00:00\", \"2021-05-29T00:00:00\", \"2021-05-29T00:00:00\", \"2021-05-29T00:00:00\", \"2021-05-29T00:00:00\", \"2021-05-29T00:00:00\", \"2021-05-29T00:00:00\", \"2021-05-29T00:00:00\", \"2021-05-29T00:00:00\", \"2021-05-29T00:00:00\", \"2021-05-29T00:00:00\", \"2021-05-29T00:00:00\", \"2021-05-29T00:00:00\", \"2021-05-29T00:00:00\", \"2021-05-29T00:00:00\", \"2021-05-29T00:00:00\", \"2021-05-29T00:00:00\", \"2021-05-29T00:00:00\", \"2021-05-29T00:00:00\", \"2021-05-29T00:00:00\", \"2021-05-29T00:00:00\", \"2021-05-29T00:00:00\", \"2021-05-29T00:00:00\", \"2021-05-29T00:00:00\", \"2021-05-28T00:00:00\", \"2021-05-28T00:00:00\", \"2021-05-28T00:00:00\", \"2021-05-28T00:00:00\", \"2021-05-28T00:00:00\", \"2021-05-28T00:00:00\", \"2021-05-28T00:00:00\", \"2021-05-28T00:00:00\", \"2021-05-28T00:00:00\", \"2021-05-28T00:00:00\", \"2021-05-28T00:00:00\", \"2021-05-28T00:00:00\", \"2021-05-28T00:00:00\", \"2021-05-28T00:00:00\", \"2021-05-28T00:00:00\", \"2021-05-28T00:00:00\", \"2021-05-28T00:00:00\", \"2021-05-28T00:00:00\", \"2021-05-28T00:00:00\", \"2021-05-28T00:00:00\", \"2021-05-28T00:00:00\", \"2021-05-28T00:00:00\", \"2021-05-28T00:00:00\", \"2021-05-28T00:00:00\", \"2021-05-28T00:00:00\", \"2021-05-28T00:00:00\", \"2021-05-28T00:00:00\", \"2021-05-28T00:00:00\", \"2021-05-28T00:00:00\", \"2021-05-28T00:00:00\", \"2021-05-28T00:00:00\", \"2021-05-28T00:00:00\", \"2021-05-28T00:00:00\", \"2021-05-28T00:00:00\", \"2021-05-27T00:00:00\", \"2021-05-27T00:00:00\", \"2021-05-27T00:00:00\", \"2021-05-27T00:00:00\", \"2021-05-27T00:00:00\", \"2021-05-27T00:00:00\", \"2021-05-27T00:00:00\", \"2021-05-27T00:00:00\", \"2021-05-27T00:00:00\", \"2021-05-27T00:00:00\", \"2021-05-27T00:00:00\", \"2021-05-27T00:00:00\", \"2021-05-27T00:00:00\", \"2021-05-27T00:00:00\", \"2021-05-27T00:00:00\", \"2021-05-27T00:00:00\", \"2021-05-27T00:00:00\", \"2021-05-27T00:00:00\", \"2021-05-27T00:00:00\", \"2021-05-27T00:00:00\", \"2021-05-27T00:00:00\", \"2021-05-27T00:00:00\", \"2021-05-27T00:00:00\", \"2021-05-27T00:00:00\", \"2021-05-27T00:00:00\", \"2021-05-27T00:00:00\", \"2021-05-27T00:00:00\", \"2021-05-27T00:00:00\", \"2021-05-27T00:00:00\", \"2021-05-27T00:00:00\", \"2021-05-27T00:00:00\", \"2021-05-27T00:00:00\", \"2021-05-27T00:00:00\", \"2021-05-27T00:00:00\", \"2021-05-27T00:00:00\", \"2021-05-27T00:00:00\", \"2021-05-27T00:00:00\", \"2021-05-27T00:00:00\", \"2021-05-26T00:00:00\", \"2021-05-26T00:00:00\", \"2021-05-26T00:00:00\", \"2021-05-26T00:00:00\", \"2021-05-26T00:00:00\", \"2021-05-26T00:00:00\", \"2021-05-26T00:00:00\", \"2021-05-26T00:00:00\", \"2021-05-26T00:00:00\", \"2021-05-26T00:00:00\", \"2021-05-26T00:00:00\", \"2021-05-26T00:00:00\", \"2021-05-26T00:00:00\", \"2021-05-26T00:00:00\", \"2021-05-26T00:00:00\", \"2021-05-26T00:00:00\", \"2021-05-26T00:00:00\", \"2021-05-26T00:00:00\", \"2021-05-26T00:00:00\", \"2021-05-26T00:00:00\", \"2021-05-26T00:00:00\", \"2021-05-26T00:00:00\", \"2021-05-26T00:00:00\", \"2021-05-26T00:00:00\", \"2021-05-26T00:00:00\", \"2021-05-26T00:00:00\", \"2021-05-26T00:00:00\", \"2021-05-26T00:00:00\", \"2021-05-26T00:00:00\", \"2021-05-26T00:00:00\", \"2021-05-26T00:00:00\", \"2021-05-26T00:00:00\", \"2021-05-26T00:00:00\", \"2021-05-26T00:00:00\", \"2021-05-26T00:00:00\", \"2021-05-26T00:00:00\", \"2021-05-26T00:00:00\", \"2021-05-26T00:00:00\", \"2021-05-26T00:00:00\", \"2021-05-26T00:00:00\", \"2021-05-26T00:00:00\", \"2021-05-26T00:00:00\", \"2021-05-26T00:00:00\", \"2021-05-26T00:00:00\", \"2021-05-26T00:00:00\", \"2021-05-26T00:00:00\", \"2021-05-26T00:00:00\", \"2021-05-25T00:00:00\", \"2021-05-25T00:00:00\", \"2021-05-25T00:00:00\", \"2021-05-25T00:00:00\", \"2021-05-25T00:00:00\", \"2021-05-25T00:00:00\", \"2021-05-25T00:00:00\", \"2021-05-24T00:00:00\", \"2021-05-24T00:00:00\", \"2021-05-24T00:00:00\", \"2021-05-24T00:00:00\", \"2021-05-24T00:00:00\", \"2021-05-24T00:00:00\", \"2021-05-24T00:00:00\", \"2021-05-24T00:00:00\", \"2021-05-24T00:00:00\", \"2021-05-24T00:00:00\", \"2021-05-24T00:00:00\", \"2021-05-24T00:00:00\", \"2021-05-24T00:00:00\", \"2021-05-24T00:00:00\", \"2021-05-24T00:00:00\", \"2021-05-24T00:00:00\", \"2021-05-24T00:00:00\", \"2021-05-24T00:00:00\", \"2021-05-24T00:00:00\", \"2021-05-24T00:00:00\", \"2021-05-24T00:00:00\", \"2021-05-24T00:00:00\", \"2021-05-24T00:00:00\", \"2021-05-22T00:00:00\", \"2021-05-18T00:00:00\"], \"yaxis\": \"y\"}],                        {\"legend\": {\"tracegroupgap\": 0}, \"margin\": {\"t\": 60}, \"template\": {\"data\": {\"bar\": [{\"error_x\": {\"color\": \"#f2f5fa\"}, \"error_y\": {\"color\": \"#f2f5fa\"}, \"marker\": {\"line\": {\"color\": \"rgb(17,17,17)\", \"width\": 0.5}}, \"type\": \"bar\"}], \"barpolar\": [{\"marker\": {\"line\": {\"color\": \"rgb(17,17,17)\", \"width\": 0.5}}, \"type\": \"barpolar\"}], \"carpet\": [{\"aaxis\": {\"endlinecolor\": \"#A2B1C6\", \"gridcolor\": \"#506784\", \"linecolor\": \"#506784\", \"minorgridcolor\": \"#506784\", \"startlinecolor\": \"#A2B1C6\"}, \"baxis\": {\"endlinecolor\": \"#A2B1C6\", \"gridcolor\": \"#506784\", \"linecolor\": \"#506784\", \"minorgridcolor\": \"#506784\", \"startlinecolor\": \"#A2B1C6\"}, \"type\": \"carpet\"}], \"choropleth\": [{\"colorbar\": {\"outlinewidth\": 0, \"ticks\": \"\"}, \"type\": \"choropleth\"}], \"contour\": [{\"colorbar\": {\"outlinewidth\": 0, \"ticks\": \"\"}, \"colorscale\": [[0.0, \"#0d0887\"], [0.1111111111111111, \"#46039f\"], [0.2222222222222222, \"#7201a8\"], [0.3333333333333333, \"#9c179e\"], [0.4444444444444444, \"#bd3786\"], [0.5555555555555556, \"#d8576b\"], [0.6666666666666666, \"#ed7953\"], [0.7777777777777778, \"#fb9f3a\"], [0.8888888888888888, \"#fdca26\"], [1.0, \"#f0f921\"]], \"type\": \"contour\"}], \"contourcarpet\": [{\"colorbar\": {\"outlinewidth\": 0, \"ticks\": \"\"}, \"type\": \"contourcarpet\"}], \"heatmap\": [{\"colorbar\": {\"outlinewidth\": 0, \"ticks\": \"\"}, \"colorscale\": [[0.0, \"#0d0887\"], [0.1111111111111111, \"#46039f\"], [0.2222222222222222, \"#7201a8\"], [0.3333333333333333, \"#9c179e\"], [0.4444444444444444, \"#bd3786\"], [0.5555555555555556, \"#d8576b\"], [0.6666666666666666, \"#ed7953\"], [0.7777777777777778, \"#fb9f3a\"], [0.8888888888888888, \"#fdca26\"], [1.0, \"#f0f921\"]], \"type\": \"heatmap\"}], \"heatmapgl\": [{\"colorbar\": {\"outlinewidth\": 0, \"ticks\": \"\"}, \"colorscale\": [[0.0, \"#0d0887\"], [0.1111111111111111, \"#46039f\"], [0.2222222222222222, \"#7201a8\"], [0.3333333333333333, \"#9c179e\"], [0.4444444444444444, \"#bd3786\"], [0.5555555555555556, \"#d8576b\"], [0.6666666666666666, \"#ed7953\"], [0.7777777777777778, \"#fb9f3a\"], [0.8888888888888888, \"#fdca26\"], [1.0, \"#f0f921\"]], \"type\": \"heatmapgl\"}], \"histogram\": [{\"marker\": {\"colorbar\": {\"outlinewidth\": 0, \"ticks\": \"\"}}, \"type\": \"histogram\"}], \"histogram2d\": [{\"colorbar\": {\"outlinewidth\": 0, \"ticks\": \"\"}, \"colorscale\": [[0.0, \"#0d0887\"], [0.1111111111111111, \"#46039f\"], [0.2222222222222222, \"#7201a8\"], [0.3333333333333333, \"#9c179e\"], [0.4444444444444444, \"#bd3786\"], [0.5555555555555556, \"#d8576b\"], [0.6666666666666666, \"#ed7953\"], [0.7777777777777778, \"#fb9f3a\"], [0.8888888888888888, \"#fdca26\"], [1.0, \"#f0f921\"]], \"type\": \"histogram2d\"}], \"histogram2dcontour\": [{\"colorbar\": {\"outlinewidth\": 0, \"ticks\": \"\"}, \"colorscale\": [[0.0, \"#0d0887\"], [0.1111111111111111, \"#46039f\"], [0.2222222222222222, \"#7201a8\"], [0.3333333333333333, \"#9c179e\"], [0.4444444444444444, \"#bd3786\"], [0.5555555555555556, \"#d8576b\"], [0.6666666666666666, \"#ed7953\"], [0.7777777777777778, \"#fb9f3a\"], [0.8888888888888888, \"#fdca26\"], [1.0, \"#f0f921\"]], \"type\": \"histogram2dcontour\"}], \"mesh3d\": [{\"colorbar\": {\"outlinewidth\": 0, \"ticks\": \"\"}, \"type\": \"mesh3d\"}], \"parcoords\": [{\"line\": {\"colorbar\": {\"outlinewidth\": 0, \"ticks\": \"\"}}, \"type\": \"parcoords\"}], \"pie\": [{\"automargin\": true, \"type\": \"pie\"}], \"scatter\": [{\"marker\": {\"line\": {\"color\": \"#283442\"}}, \"type\": \"scatter\"}], \"scatter3d\": [{\"line\": {\"colorbar\": {\"outlinewidth\": 0, \"ticks\": \"\"}}, \"marker\": {\"colorbar\": {\"outlinewidth\": 0, \"ticks\": \"\"}}, \"type\": \"scatter3d\"}], \"scattercarpet\": [{\"marker\": {\"colorbar\": {\"outlinewidth\": 0, \"ticks\": \"\"}}, \"type\": \"scattercarpet\"}], \"scattergeo\": [{\"marker\": {\"colorbar\": {\"outlinewidth\": 0, \"ticks\": \"\"}}, \"type\": \"scattergeo\"}], \"scattergl\": [{\"marker\": {\"line\": {\"color\": \"#283442\"}}, \"type\": \"scattergl\"}], \"scattermapbox\": [{\"marker\": {\"colorbar\": {\"outlinewidth\": 0, \"ticks\": \"\"}}, \"type\": \"scattermapbox\"}], \"scatterpolar\": [{\"marker\": {\"colorbar\": {\"outlinewidth\": 0, \"ticks\": \"\"}}, \"type\": \"scatterpolar\"}], \"scatterpolargl\": [{\"marker\": {\"colorbar\": {\"outlinewidth\": 0, \"ticks\": \"\"}}, \"type\": \"scatterpolargl\"}], \"scatterternary\": [{\"marker\": {\"colorbar\": {\"outlinewidth\": 0, \"ticks\": \"\"}}, \"type\": \"scatterternary\"}], \"surface\": [{\"colorbar\": {\"outlinewidth\": 0, \"ticks\": \"\"}, \"colorscale\": [[0.0, \"#0d0887\"], [0.1111111111111111, \"#46039f\"], [0.2222222222222222, \"#7201a8\"], [0.3333333333333333, \"#9c179e\"], [0.4444444444444444, \"#bd3786\"], [0.5555555555555556, \"#d8576b\"], [0.6666666666666666, \"#ed7953\"], [0.7777777777777778, \"#fb9f3a\"], [0.8888888888888888, \"#fdca26\"], [1.0, \"#f0f921\"]], \"type\": \"surface\"}], \"table\": [{\"cells\": {\"fill\": {\"color\": \"#506784\"}, \"line\": {\"color\": \"rgb(17,17,17)\"}}, \"header\": {\"fill\": {\"color\": \"#2a3f5f\"}, \"line\": {\"color\": \"rgb(17,17,17)\"}}, \"type\": \"table\"}]}, \"layout\": {\"annotationdefaults\": {\"arrowcolor\": \"#f2f5fa\", \"arrowhead\": 0, \"arrowwidth\": 1}, \"autotypenumbers\": \"strict\", \"coloraxis\": {\"colorbar\": {\"outlinewidth\": 0, \"ticks\": \"\"}}, \"colorscale\": {\"diverging\": [[0, \"#8e0152\"], [0.1, \"#c51b7d\"], [0.2, \"#de77ae\"], [0.3, \"#f1b6da\"], [0.4, \"#fde0ef\"], [0.5, \"#f7f7f7\"], [0.6, \"#e6f5d0\"], [0.7, \"#b8e186\"], [0.8, \"#7fbc41\"], [0.9, \"#4d9221\"], [1, \"#276419\"]], \"sequential\": [[0.0, \"#0d0887\"], [0.1111111111111111, \"#46039f\"], [0.2222222222222222, \"#7201a8\"], [0.3333333333333333, \"#9c179e\"], [0.4444444444444444, \"#bd3786\"], [0.5555555555555556, \"#d8576b\"], [0.6666666666666666, \"#ed7953\"], [0.7777777777777778, \"#fb9f3a\"], [0.8888888888888888, \"#fdca26\"], [1.0, \"#f0f921\"]], \"sequentialminus\": [[0.0, \"#0d0887\"], [0.1111111111111111, \"#46039f\"], [0.2222222222222222, \"#7201a8\"], [0.3333333333333333, \"#9c179e\"], [0.4444444444444444, \"#bd3786\"], [0.5555555555555556, \"#d8576b\"], [0.6666666666666666, \"#ed7953\"], [0.7777777777777778, \"#fb9f3a\"], [0.8888888888888888, \"#fdca26\"], [1.0, \"#f0f921\"]]}, \"colorway\": [\"#636efa\", \"#EF553B\", \"#00cc96\", \"#ab63fa\", \"#FFA15A\", \"#19d3f3\", \"#FF6692\", \"#B6E880\", \"#FF97FF\", \"#FECB52\"], \"font\": {\"color\": \"#f2f5fa\"}, \"geo\": {\"bgcolor\": \"rgb(17,17,17)\", \"lakecolor\": \"rgb(17,17,17)\", \"landcolor\": \"rgb(17,17,17)\", \"showlakes\": true, \"showland\": true, \"subunitcolor\": \"#506784\"}, \"hoverlabel\": {\"align\": \"left\"}, \"hovermode\": \"closest\", \"mapbox\": {\"style\": \"dark\"}, \"paper_bgcolor\": \"rgb(17,17,17)\", \"plot_bgcolor\": \"rgb(17,17,17)\", \"polar\": {\"angularaxis\": {\"gridcolor\": \"#506784\", \"linecolor\": \"#506784\", \"ticks\": \"\"}, \"bgcolor\": \"rgb(17,17,17)\", \"radialaxis\": {\"gridcolor\": \"#506784\", \"linecolor\": \"#506784\", \"ticks\": \"\"}}, \"scene\": {\"xaxis\": {\"backgroundcolor\": \"rgb(17,17,17)\", \"gridcolor\": \"#506784\", \"gridwidth\": 2, \"linecolor\": \"#506784\", \"showbackground\": true, \"ticks\": \"\", \"zerolinecolor\": \"#C8D4E3\"}, \"yaxis\": {\"backgroundcolor\": \"rgb(17,17,17)\", \"gridcolor\": \"#506784\", \"gridwidth\": 2, \"linecolor\": \"#506784\", \"showbackground\": true, \"ticks\": \"\", \"zerolinecolor\": \"#C8D4E3\"}, \"zaxis\": {\"backgroundcolor\": \"rgb(17,17,17)\", \"gridcolor\": \"#506784\", \"gridwidth\": 2, \"linecolor\": \"#506784\", \"showbackground\": true, \"ticks\": \"\", \"zerolinecolor\": \"#C8D4E3\"}}, \"shapedefaults\": {\"line\": {\"color\": \"#f2f5fa\"}}, \"sliderdefaults\": {\"bgcolor\": \"#C8D4E3\", \"bordercolor\": \"rgb(17,17,17)\", \"borderwidth\": 1, \"tickwidth\": 0}, \"ternary\": {\"aaxis\": {\"gridcolor\": \"#506784\", \"linecolor\": \"#506784\", \"ticks\": \"\"}, \"baxis\": {\"gridcolor\": \"#506784\", \"linecolor\": \"#506784\", \"ticks\": \"\"}, \"bgcolor\": \"rgb(17,17,17)\", \"caxis\": {\"gridcolor\": \"#506784\", \"linecolor\": \"#506784\", \"ticks\": \"\"}}, \"title\": {\"x\": 0.05}, \"updatemenudefaults\": {\"bgcolor\": \"#506784\", \"borderwidth\": 0}, \"xaxis\": {\"automargin\": true, \"gridcolor\": \"#283442\", \"linecolor\": \"#506784\", \"ticks\": \"\", \"title\": {\"standoff\": 15}, \"zerolinecolor\": \"#283442\", \"zerolinewidth\": 2}, \"yaxis\": {\"automargin\": true, \"gridcolor\": \"#283442\", \"linecolor\": \"#506784\", \"ticks\": \"\", \"title\": {\"standoff\": 15}, \"zerolinecolor\": \"#283442\", \"zerolinewidth\": 2}}}, \"xaxis\": {\"anchor\": \"y\", \"domain\": [0.0, 1.0], \"title\": {\"text\": \"date_exposure\"}}, \"yaxis\": {\"anchor\": \"x\", \"domain\": [0.0, 1.0], \"title\": {\"text\": \"date_added\"}}},                        {\"responsive\": true}                    ).then(function(){\n",
       "                            \n",
       "var gd = document.getElementById('153c9513-021c-4a15-95cf-1ff7c9f6843f');\n",
       "var x = new MutationObserver(function (mutations, observer) {{\n",
       "        var display = window.getComputedStyle(gd).display;\n",
       "        if (!display || display === 'none') {{\n",
       "            console.log([gd, 'removed!']);\n",
       "            Plotly.purge(gd);\n",
       "            observer.disconnect();\n",
       "        }}\n",
       "}});\n",
       "\n",
       "// Listen for the removal of the full notebook cells\n",
       "var notebookContainer = gd.closest('#notebook-container');\n",
       "if (notebookContainer) {{\n",
       "    x.observe(notebookContainer, {childList: true});\n",
       "}}\n",
       "\n",
       "// Listen for the clearing of the current output cell\n",
       "var outputEl = gd.closest('.output');\n",
       "if (outputEl) {{\n",
       "    x.observe(outputEl, {childList: true});\n",
       "}}\n",
       "\n",
       "                        })                };                });            </script>        </div>"
      ]
     },
     "metadata": {},
     "output_type": "display_data"
    }
   ],
   "source": [
    "fig = px.scatter(elements, y=\"date_added\", x=\"date_exposure\", opacity=0.5, hover_data=['Suburb', 'Site'], template='plotly_dark')\n",
    "fig.update_traces(marker_size = 20)"
   ]
  },
  {
   "cell_type": "code",
   "execution_count": 148,
   "metadata": {},
   "outputs": [
    {
     "data": {
      "application/vnd.plotly.v1+json": {
       "config": {
        "plotlyServerURL": "https://plot.ly"
       },
       "data": [
        {
         "coloraxis": "coloraxis",
         "hovertemplate": "date_exposure=%{x}<br>date_added=%{y}<br>count=%{z}<extra></extra>",
         "name": "",
         "nbinsx": 20,
         "nbinsy": 20,
         "type": "histogram2d",
         "x": [
          "2021-05-23T00:00:00",
          "2021-05-28T00:00:00",
          "2021-05-28T00:00:00",
          "2021-05-28T00:00:00",
          "2021-05-26T00:00:00",
          "2021-05-27T00:00:00",
          "2021-05-28T00:00:00",
          "2021-05-29T00:00:00",
          "2021-05-26T00:00:00",
          "2021-05-26T00:00:00",
          "2021-05-26T00:00:00",
          "2021-05-27T00:00:00",
          "2021-05-28T00:00:00",
          "2021-05-29T00:00:00",
          "2021-05-28T00:00:00",
          "2021-05-25T00:00:00",
          "2021-05-27T00:00:00",
          "2021-05-27T00:00:00",
          "2021-05-27T00:00:00",
          "2021-05-22T00:00:00",
          "2021-05-23T00:00:00",
          "2021-05-23T00:00:00",
          "2021-05-25T00:00:00",
          "2021-05-21T00:00:00",
          "2021-05-26T00:00:00",
          "2021-05-26T00:00:00",
          "2021-05-24T00:00:00",
          "2021-05-25T00:00:00",
          "2021-05-26T00:00:00",
          "2021-05-26T00:00:00",
          "2021-05-15T00:00:00",
          "2021-05-15T00:00:00",
          "2021-05-22T00:00:00",
          "2021-05-23T00:00:00",
          "2021-05-20T00:00:00",
          "2021-05-18T00:00:00",
          "2021-05-26T00:00:00",
          "2021-05-26T00:00:00",
          "2021-05-26T00:00:00",
          "2021-05-25T00:00:00",
          "2021-05-25T00:00:00",
          "2021-05-24T00:00:00",
          "2021-05-23T00:00:00",
          "2021-05-23T00:00:00",
          "2021-05-25T00:00:00",
          "2021-05-22T00:00:00",
          "2021-05-23T00:00:00",
          "2021-05-22T00:00:00",
          "2021-05-22T00:00:00",
          "2021-05-23T00:00:00",
          "2021-05-26T00:00:00",
          "2021-05-24T00:00:00",
          "2021-05-23T00:00:00",
          "2021-05-22T00:00:00",
          "2021-05-24T00:00:00",
          "2021-05-24T00:00:00",
          "2021-05-23T00:00:00",
          "2021-05-22T00:00:00",
          "2021-05-24T00:00:00",
          "2021-05-22T00:00:00",
          "2021-05-27T00:00:00",
          "2021-05-27T00:00:00",
          "2021-05-26T00:00:00",
          "2021-05-23T00:00:00",
          "2021-05-23T00:00:00",
          "2021-05-26T00:00:00",
          "2021-05-26T00:00:00",
          "2021-05-26T00:00:00",
          "2021-05-21T00:00:00",
          "2021-05-22T00:00:00",
          "2021-05-24T00:00:00",
          "2021-05-17T00:00:00",
          "2021-05-17T00:00:00",
          "2021-05-26T00:00:00",
          "2021-05-26T00:00:00",
          "2021-05-26T00:00:00",
          "2021-05-27T00:00:00",
          "2021-05-24T00:00:00",
          "2021-05-19T00:00:00",
          "2021-05-22T00:00:00",
          "2021-05-26T00:00:00",
          "2021-05-27T00:00:00",
          "2021-05-17T00:00:00",
          "2021-05-18T00:00:00",
          "2021-05-22T00:00:00",
          "2021-05-25T00:00:00",
          "2021-05-25T00:00:00",
          "2021-05-25T00:00:00",
          "2021-05-22T00:00:00",
          "2021-05-22T00:00:00",
          "2021-05-26T00:00:00",
          "2021-05-22T00:00:00",
          "2021-05-22T00:00:00",
          "2021-05-22T00:00:00",
          "2021-05-19T00:00:00",
          "2021-05-22T00:00:00",
          "2021-05-18T00:00:00",
          "2021-05-25T00:00:00",
          "2021-05-26T00:00:00",
          "2021-05-24T00:00:00",
          "2021-05-17T00:00:00",
          "2021-05-18T00:00:00",
          "2021-05-20T00:00:00",
          "2021-05-21T00:00:00",
          "2021-05-24T00:00:00",
          "2021-05-25T00:00:00",
          "2021-05-27T00:00:00",
          "2021-05-28T00:00:00",
          "2021-05-12T00:00:00",
          "2021-05-13T00:00:00",
          "2021-05-20T00:00:00",
          "2021-05-25T00:00:00",
          "2021-05-19T00:00:00",
          "2021-05-25T00:00:00",
          "2021-05-26T00:00:00",
          "2021-05-23T00:00:00",
          "2021-05-19T00:00:00",
          "2021-05-25T00:00:00",
          "2021-05-22T00:00:00",
          "2021-05-26T00:00:00",
          "2021-05-24T00:00:00",
          "2021-05-26T00:00:00",
          "2021-05-21T00:00:00",
          "2021-05-25T00:00:00",
          "2021-05-26T00:00:00",
          "2021-05-26T00:00:00",
          "2021-05-27T00:00:00",
          "2021-05-27T00:00:00",
          "2021-05-27T00:00:00",
          "2021-05-28T00:00:00",
          "2021-05-23T00:00:00",
          "2021-05-26T00:00:00",
          "2021-05-26T00:00:00",
          "2021-05-26T00:00:00",
          "2021-05-25T00:00:00",
          "2021-05-24T00:00:00",
          "2021-05-25T00:00:00",
          "2021-05-25T00:00:00",
          "2021-05-25T00:00:00",
          "2021-05-24T00:00:00",
          "2021-05-22T00:00:00",
          "2021-05-22T00:00:00",
          "2021-05-23T00:00:00",
          "2021-05-22T00:00:00",
          "2021-05-21T00:00:00",
          "2021-05-23T00:00:00",
          "2021-05-25T00:00:00",
          "2021-05-19T00:00:00",
          "2021-05-19T00:00:00",
          "2021-05-19T00:00:00",
          "2021-05-19T00:00:00",
          "2021-05-19T00:00:00",
          "2021-05-25T00:00:00",
          "2021-05-19T00:00:00",
          "2021-05-18T00:00:00",
          "2021-05-18T00:00:00",
          "2021-05-18T00:00:00",
          "2021-05-18T00:00:00",
          "2021-05-25T00:00:00",
          "2021-05-24T00:00:00",
          "2021-05-23T00:00:00",
          "2021-05-23T00:00:00",
          "2021-05-23T00:00:00",
          "2021-05-22T00:00:00",
          "2021-05-24T00:00:00",
          "2021-05-25T00:00:00",
          "2021-05-26T00:00:00",
          "2021-05-22T00:00:00",
          "2021-05-23T00:00:00",
          "2021-05-25T00:00:00",
          "2021-05-26T00:00:00",
          "2021-05-27T00:00:00",
          "2021-05-22T00:00:00",
          "2021-05-22T00:00:00",
          "2021-05-22T00:00:00",
          "2021-05-23T00:00:00",
          "2021-05-25T00:00:00",
          "2021-05-24T00:00:00",
          "2021-05-25T00:00:00",
          "2021-05-24T00:00:00",
          "2021-05-23T00:00:00",
          "2021-05-24T00:00:00",
          "2021-05-25T00:00:00",
          "2021-05-25T00:00:00",
          "2021-05-13T00:00:00",
          "2021-05-23T00:00:00",
          "2021-05-23T00:00:00",
          "2021-05-23T00:00:00",
          "2021-05-23T00:00:00",
          "2021-05-25T00:00:00",
          "2021-05-24T00:00:00",
          "2021-05-24T00:00:00",
          "2021-05-22T00:00:00",
          "2021-05-22T00:00:00",
          "2021-05-22T00:00:00",
          "2021-05-22T00:00:00",
          "2021-05-21T00:00:00",
          "2021-05-24T00:00:00",
          "2021-05-22T00:00:00",
          "2021-05-20T00:00:00",
          "2021-05-24T00:00:00",
          "2021-05-24T00:00:00",
          "2021-05-24T00:00:00",
          "2021-05-24T00:00:00",
          "2021-05-24T00:00:00",
          "2021-05-23T00:00:00",
          "2021-05-21T00:00:00",
          "2021-05-24T00:00:00",
          "2021-05-25T00:00:00",
          "2021-05-22T00:00:00",
          "2021-05-23T00:00:00",
          "2021-05-22T00:00:00",
          "2021-05-23T00:00:00",
          "2021-05-14T00:00:00",
          "2021-05-14T00:00:00",
          "2021-05-14T00:00:00",
          "2021-05-23T00:00:00",
          "2021-05-25T00:00:00",
          "2021-05-22T00:00:00",
          "2021-05-23T00:00:00",
          "2021-05-21T00:00:00",
          "2021-05-20T00:00:00",
          "2021-05-23T00:00:00",
          "2021-05-22T00:00:00",
          "2021-05-21T00:00:00",
          "2021-05-22T00:00:00",
          "2021-05-23T00:00:00",
          "2021-05-22T00:00:00",
          "2021-05-23T00:00:00",
          "2021-05-21T00:00:00",
          "2021-05-23T00:00:00",
          "2021-05-24T00:00:00",
          "2021-05-23T00:00:00",
          "2021-05-21T00:00:00",
          "2021-05-24T00:00:00",
          "2021-05-23T00:00:00",
          "2021-05-23T00:00:00",
          "2021-05-22T00:00:00",
          "2021-05-22T00:00:00",
          "2021-05-18T00:00:00",
          "2021-05-20T00:00:00",
          "2021-05-21T00:00:00",
          "2021-05-22T00:00:00",
          "2021-05-23T00:00:00",
          "2021-05-24T00:00:00",
          "2021-05-25T00:00:00",
          "2021-05-24T00:00:00",
          "2021-05-23T00:00:00",
          "2021-05-21T00:00:00",
          "2021-05-23T00:00:00",
          "2021-05-23T00:00:00",
          "2021-05-22T00:00:00",
          "2021-05-22T00:00:00",
          "2021-05-23T00:00:00",
          "2021-05-23T00:00:00",
          "2021-05-23T00:00:00",
          "2021-05-22T00:00:00",
          "2021-05-22T00:00:00",
          "2021-05-22T00:00:00",
          "2021-05-20T00:00:00",
          "2021-05-20T00:00:00",
          "2021-05-22T00:00:00",
          "2021-05-24T00:00:00",
          "2021-05-24T00:00:00",
          "2021-05-21T00:00:00",
          "2021-05-22T00:00:00",
          "2021-05-19T00:00:00",
          "2021-05-20T00:00:00",
          "2021-05-19T00:00:00",
          "2021-05-19T00:00:00",
          "2021-05-19T00:00:00",
          "2021-05-20T00:00:00",
          "2021-05-17T00:00:00",
          "2021-05-19T00:00:00",
          "2021-05-23T00:00:00",
          "2021-05-23T00:00:00",
          "2021-05-22T00:00:00",
          "2021-05-21T00:00:00",
          "2021-05-22T00:00:00",
          "2021-05-17T00:00:00",
          "2021-05-18T00:00:00",
          "2021-05-20T00:00:00",
          "2021-05-22T00:00:00",
          "2021-05-21T00:00:00",
          "2021-05-22T00:00:00",
          "2021-05-23T00:00:00",
          "2021-05-23T00:00:00",
          "2021-05-20T00:00:00",
          "2021-05-20T00:00:00",
          "2021-05-20T00:00:00",
          "2021-05-20T00:00:00",
          "2021-05-20T00:00:00",
          "2021-05-20T00:00:00",
          "2021-05-21T00:00:00",
          "2021-05-23T00:00:00",
          "2021-05-23T00:00:00",
          "2021-05-22T00:00:00",
          "2021-05-18T00:00:00"
         ],
         "xaxis": "x",
         "xbingroup": "x",
         "y": [
          "2021-06-01T00:00:00",
          "2021-06-01T00:00:00",
          "2021-06-01T00:00:00",
          "2021-06-01T00:00:00",
          "2021-05-31T00:00:00",
          "2021-05-31T00:00:00",
          "2021-05-31T00:00:00",
          "2021-05-31T00:00:00",
          "2021-05-31T00:00:00",
          "2021-05-31T00:00:00",
          "2021-05-31T00:00:00",
          "2021-05-31T00:00:00",
          "2021-05-31T00:00:00",
          "2021-05-31T00:00:00",
          "2021-05-31T00:00:00",
          "2021-05-31T00:00:00",
          "2021-05-31T00:00:00",
          "2021-05-31T00:00:00",
          "2021-05-31T00:00:00",
          "2021-05-31T00:00:00",
          "2021-05-31T00:00:00",
          "2021-05-31T00:00:00",
          "2021-05-31T00:00:00",
          "2021-05-31T00:00:00",
          "2021-05-31T00:00:00",
          "2021-05-31T00:00:00",
          "2021-05-30T00:00:00",
          "2021-05-30T00:00:00",
          "2021-05-30T00:00:00",
          "2021-05-30T00:00:00",
          "2021-05-30T00:00:00",
          "2021-05-30T00:00:00",
          "2021-05-30T00:00:00",
          "2021-05-30T00:00:00",
          "2021-05-30T00:00:00",
          "2021-05-30T00:00:00",
          "2021-05-30T00:00:00",
          "2021-05-30T00:00:00",
          "2021-05-30T00:00:00",
          "2021-05-30T00:00:00",
          "2021-05-30T00:00:00",
          "2021-05-30T00:00:00",
          "2021-05-30T00:00:00",
          "2021-05-30T00:00:00",
          "2021-05-30T00:00:00",
          "2021-05-30T00:00:00",
          "2021-05-30T00:00:00",
          "2021-05-30T00:00:00",
          "2021-05-30T00:00:00",
          "2021-05-30T00:00:00",
          "2021-05-30T00:00:00",
          "2021-05-30T00:00:00",
          "2021-05-30T00:00:00",
          "2021-05-30T00:00:00",
          "2021-05-30T00:00:00",
          "2021-05-30T00:00:00",
          "2021-05-30T00:00:00",
          "2021-05-30T00:00:00",
          "2021-05-30T00:00:00",
          "2021-05-30T00:00:00",
          "2021-05-30T00:00:00",
          "2021-05-30T00:00:00",
          "2021-05-30T00:00:00",
          "2021-05-30T00:00:00",
          "2021-05-30T00:00:00",
          "2021-05-30T00:00:00",
          "2021-05-30T00:00:00",
          "2021-05-30T00:00:00",
          "2021-05-30T00:00:00",
          "2021-05-30T00:00:00",
          "2021-05-30T00:00:00",
          "2021-05-30T00:00:00",
          "2021-05-30T00:00:00",
          "2021-05-30T00:00:00",
          "2021-05-30T00:00:00",
          "2021-05-30T00:00:00",
          "2021-05-30T00:00:00",
          "2021-05-30T00:00:00",
          "2021-05-30T00:00:00",
          "2021-05-30T00:00:00",
          "2021-05-30T00:00:00",
          "2021-05-30T00:00:00",
          "2021-05-30T00:00:00",
          "2021-05-30T00:00:00",
          "2021-05-30T00:00:00",
          "2021-05-30T00:00:00",
          "2021-05-30T00:00:00",
          "2021-05-30T00:00:00",
          "2021-05-30T00:00:00",
          "2021-05-30T00:00:00",
          "2021-05-30T00:00:00",
          "2021-05-30T00:00:00",
          "2021-05-30T00:00:00",
          "2021-05-30T00:00:00",
          "2021-05-30T00:00:00",
          "2021-05-30T00:00:00",
          "2021-05-30T00:00:00",
          "2021-05-30T00:00:00",
          "2021-05-30T00:00:00",
          "2021-05-30T00:00:00",
          "2021-05-30T00:00:00",
          "2021-05-30T00:00:00",
          "2021-05-30T00:00:00",
          "2021-05-30T00:00:00",
          "2021-05-30T00:00:00",
          "2021-05-30T00:00:00",
          "2021-05-30T00:00:00",
          "2021-05-30T00:00:00",
          "2021-05-30T00:00:00",
          "2021-05-30T00:00:00",
          "2021-05-30T00:00:00",
          "2021-05-30T00:00:00",
          "2021-05-30T00:00:00",
          "2021-05-30T00:00:00",
          "2021-05-30T00:00:00",
          "2021-05-30T00:00:00",
          "2021-05-30T00:00:00",
          "2021-05-30T00:00:00",
          "2021-05-30T00:00:00",
          "2021-05-30T00:00:00",
          "2021-05-30T00:00:00",
          "2021-05-30T00:00:00",
          "2021-05-30T00:00:00",
          "2021-05-30T00:00:00",
          "2021-05-29T00:00:00",
          "2021-05-29T00:00:00",
          "2021-05-29T00:00:00",
          "2021-05-29T00:00:00",
          "2021-05-29T00:00:00",
          "2021-05-29T00:00:00",
          "2021-05-29T00:00:00",
          "2021-05-29T00:00:00",
          "2021-05-29T00:00:00",
          "2021-05-29T00:00:00",
          "2021-05-29T00:00:00",
          "2021-05-29T00:00:00",
          "2021-05-29T00:00:00",
          "2021-05-29T00:00:00",
          "2021-05-29T00:00:00",
          "2021-05-29T00:00:00",
          "2021-05-29T00:00:00",
          "2021-05-29T00:00:00",
          "2021-05-29T00:00:00",
          "2021-05-29T00:00:00",
          "2021-05-29T00:00:00",
          "2021-05-29T00:00:00",
          "2021-05-29T00:00:00",
          "2021-05-28T00:00:00",
          "2021-05-28T00:00:00",
          "2021-05-28T00:00:00",
          "2021-05-28T00:00:00",
          "2021-05-28T00:00:00",
          "2021-05-28T00:00:00",
          "2021-05-28T00:00:00",
          "2021-05-28T00:00:00",
          "2021-05-28T00:00:00",
          "2021-05-28T00:00:00",
          "2021-05-28T00:00:00",
          "2021-05-28T00:00:00",
          "2021-05-28T00:00:00",
          "2021-05-28T00:00:00",
          "2021-05-28T00:00:00",
          "2021-05-28T00:00:00",
          "2021-05-28T00:00:00",
          "2021-05-28T00:00:00",
          "2021-05-28T00:00:00",
          "2021-05-28T00:00:00",
          "2021-05-28T00:00:00",
          "2021-05-28T00:00:00",
          "2021-05-28T00:00:00",
          "2021-05-28T00:00:00",
          "2021-05-28T00:00:00",
          "2021-05-28T00:00:00",
          "2021-05-28T00:00:00",
          "2021-05-28T00:00:00",
          "2021-05-28T00:00:00",
          "2021-05-28T00:00:00",
          "2021-05-28T00:00:00",
          "2021-05-28T00:00:00",
          "2021-05-28T00:00:00",
          "2021-05-28T00:00:00",
          "2021-05-27T00:00:00",
          "2021-05-27T00:00:00",
          "2021-05-27T00:00:00",
          "2021-05-27T00:00:00",
          "2021-05-27T00:00:00",
          "2021-05-27T00:00:00",
          "2021-05-27T00:00:00",
          "2021-05-27T00:00:00",
          "2021-05-27T00:00:00",
          "2021-05-27T00:00:00",
          "2021-05-27T00:00:00",
          "2021-05-27T00:00:00",
          "2021-05-27T00:00:00",
          "2021-05-27T00:00:00",
          "2021-05-27T00:00:00",
          "2021-05-27T00:00:00",
          "2021-05-27T00:00:00",
          "2021-05-27T00:00:00",
          "2021-05-27T00:00:00",
          "2021-05-27T00:00:00",
          "2021-05-27T00:00:00",
          "2021-05-27T00:00:00",
          "2021-05-27T00:00:00",
          "2021-05-27T00:00:00",
          "2021-05-27T00:00:00",
          "2021-05-27T00:00:00",
          "2021-05-27T00:00:00",
          "2021-05-27T00:00:00",
          "2021-05-27T00:00:00",
          "2021-05-27T00:00:00",
          "2021-05-27T00:00:00",
          "2021-05-27T00:00:00",
          "2021-05-27T00:00:00",
          "2021-05-27T00:00:00",
          "2021-05-27T00:00:00",
          "2021-05-27T00:00:00",
          "2021-05-27T00:00:00",
          "2021-05-27T00:00:00",
          "2021-05-26T00:00:00",
          "2021-05-26T00:00:00",
          "2021-05-26T00:00:00",
          "2021-05-26T00:00:00",
          "2021-05-26T00:00:00",
          "2021-05-26T00:00:00",
          "2021-05-26T00:00:00",
          "2021-05-26T00:00:00",
          "2021-05-26T00:00:00",
          "2021-05-26T00:00:00",
          "2021-05-26T00:00:00",
          "2021-05-26T00:00:00",
          "2021-05-26T00:00:00",
          "2021-05-26T00:00:00",
          "2021-05-26T00:00:00",
          "2021-05-26T00:00:00",
          "2021-05-26T00:00:00",
          "2021-05-26T00:00:00",
          "2021-05-26T00:00:00",
          "2021-05-26T00:00:00",
          "2021-05-26T00:00:00",
          "2021-05-26T00:00:00",
          "2021-05-26T00:00:00",
          "2021-05-26T00:00:00",
          "2021-05-26T00:00:00",
          "2021-05-26T00:00:00",
          "2021-05-26T00:00:00",
          "2021-05-26T00:00:00",
          "2021-05-26T00:00:00",
          "2021-05-26T00:00:00",
          "2021-05-26T00:00:00",
          "2021-05-26T00:00:00",
          "2021-05-26T00:00:00",
          "2021-05-26T00:00:00",
          "2021-05-26T00:00:00",
          "2021-05-26T00:00:00",
          "2021-05-26T00:00:00",
          "2021-05-26T00:00:00",
          "2021-05-26T00:00:00",
          "2021-05-26T00:00:00",
          "2021-05-26T00:00:00",
          "2021-05-26T00:00:00",
          "2021-05-26T00:00:00",
          "2021-05-26T00:00:00",
          "2021-05-26T00:00:00",
          "2021-05-26T00:00:00",
          "2021-05-26T00:00:00",
          "2021-05-25T00:00:00",
          "2021-05-25T00:00:00",
          "2021-05-25T00:00:00",
          "2021-05-25T00:00:00",
          "2021-05-25T00:00:00",
          "2021-05-25T00:00:00",
          "2021-05-25T00:00:00",
          "2021-05-24T00:00:00",
          "2021-05-24T00:00:00",
          "2021-05-24T00:00:00",
          "2021-05-24T00:00:00",
          "2021-05-24T00:00:00",
          "2021-05-24T00:00:00",
          "2021-05-24T00:00:00",
          "2021-05-24T00:00:00",
          "2021-05-24T00:00:00",
          "2021-05-24T00:00:00",
          "2021-05-24T00:00:00",
          "2021-05-24T00:00:00",
          "2021-05-24T00:00:00",
          "2021-05-24T00:00:00",
          "2021-05-24T00:00:00",
          "2021-05-24T00:00:00",
          "2021-05-24T00:00:00",
          "2021-05-24T00:00:00",
          "2021-05-24T00:00:00",
          "2021-05-24T00:00:00",
          "2021-05-24T00:00:00",
          "2021-05-24T00:00:00",
          "2021-05-24T00:00:00",
          "2021-05-22T00:00:00",
          "2021-05-18T00:00:00"
         ],
         "yaxis": "y",
         "ybingroup": "y"
        }
       ],
       "layout": {
        "annotations": [
         {
          "ax": 10,
          "ay": 20,
          "text": "lockdown",
          "x": "2021-05-27",
          "xanchor": "left",
          "y": "2021-05-27"
         }
        ],
        "coloraxis": {
         "colorbar": {
          "title": {
           "text": "count"
          }
         },
         "colorscale": [
          [
           0,
           "#440154"
          ],
          [
           0.1111111111111111,
           "#482878"
          ],
          [
           0.2222222222222222,
           "#3e4989"
          ],
          [
           0.3333333333333333,
           "#31688e"
          ],
          [
           0.4444444444444444,
           "#26828e"
          ],
          [
           0.5555555555555556,
           "#1f9e89"
          ],
          [
           0.6666666666666666,
           "#35b779"
          ],
          [
           0.7777777777777778,
           "#6ece58"
          ],
          [
           0.8888888888888888,
           "#b5de2b"
          ],
          [
           1,
           "#fde725"
          ]
         ]
        },
        "legend": {
         "tracegroupgap": 0
        },
        "shapes": [
         {
          "type": "line",
          "x0": "2021-05-27",
          "x1": "2021-05-27",
          "xref": "x",
          "y0": 0,
          "y1": 1,
          "yref": "y domain"
         },
         {
          "type": "line",
          "x0": 0,
          "x1": 1,
          "xref": "x domain",
          "y0": "2021-05-27",
          "y1": "2021-05-27",
          "yref": "y"
         }
        ],
        "template": {
         "data": {
          "bar": [
           {
            "error_x": {
             "color": "#f2f5fa"
            },
            "error_y": {
             "color": "#f2f5fa"
            },
            "marker": {
             "line": {
              "color": "rgb(17,17,17)",
              "width": 0.5
             }
            },
            "type": "bar"
           }
          ],
          "barpolar": [
           {
            "marker": {
             "line": {
              "color": "rgb(17,17,17)",
              "width": 0.5
             }
            },
            "type": "barpolar"
           }
          ],
          "carpet": [
           {
            "aaxis": {
             "endlinecolor": "#A2B1C6",
             "gridcolor": "#506784",
             "linecolor": "#506784",
             "minorgridcolor": "#506784",
             "startlinecolor": "#A2B1C6"
            },
            "baxis": {
             "endlinecolor": "#A2B1C6",
             "gridcolor": "#506784",
             "linecolor": "#506784",
             "minorgridcolor": "#506784",
             "startlinecolor": "#A2B1C6"
            },
            "type": "carpet"
           }
          ],
          "choropleth": [
           {
            "colorbar": {
             "outlinewidth": 0,
             "ticks": ""
            },
            "type": "choropleth"
           }
          ],
          "contour": [
           {
            "colorbar": {
             "outlinewidth": 0,
             "ticks": ""
            },
            "colorscale": [
             [
              0,
              "#0d0887"
             ],
             [
              0.1111111111111111,
              "#46039f"
             ],
             [
              0.2222222222222222,
              "#7201a8"
             ],
             [
              0.3333333333333333,
              "#9c179e"
             ],
             [
              0.4444444444444444,
              "#bd3786"
             ],
             [
              0.5555555555555556,
              "#d8576b"
             ],
             [
              0.6666666666666666,
              "#ed7953"
             ],
             [
              0.7777777777777778,
              "#fb9f3a"
             ],
             [
              0.8888888888888888,
              "#fdca26"
             ],
             [
              1,
              "#f0f921"
             ]
            ],
            "type": "contour"
           }
          ],
          "contourcarpet": [
           {
            "colorbar": {
             "outlinewidth": 0,
             "ticks": ""
            },
            "type": "contourcarpet"
           }
          ],
          "heatmap": [
           {
            "colorbar": {
             "outlinewidth": 0,
             "ticks": ""
            },
            "colorscale": [
             [
              0,
              "#0d0887"
             ],
             [
              0.1111111111111111,
              "#46039f"
             ],
             [
              0.2222222222222222,
              "#7201a8"
             ],
             [
              0.3333333333333333,
              "#9c179e"
             ],
             [
              0.4444444444444444,
              "#bd3786"
             ],
             [
              0.5555555555555556,
              "#d8576b"
             ],
             [
              0.6666666666666666,
              "#ed7953"
             ],
             [
              0.7777777777777778,
              "#fb9f3a"
             ],
             [
              0.8888888888888888,
              "#fdca26"
             ],
             [
              1,
              "#f0f921"
             ]
            ],
            "type": "heatmap"
           }
          ],
          "heatmapgl": [
           {
            "colorbar": {
             "outlinewidth": 0,
             "ticks": ""
            },
            "colorscale": [
             [
              0,
              "#0d0887"
             ],
             [
              0.1111111111111111,
              "#46039f"
             ],
             [
              0.2222222222222222,
              "#7201a8"
             ],
             [
              0.3333333333333333,
              "#9c179e"
             ],
             [
              0.4444444444444444,
              "#bd3786"
             ],
             [
              0.5555555555555556,
              "#d8576b"
             ],
             [
              0.6666666666666666,
              "#ed7953"
             ],
             [
              0.7777777777777778,
              "#fb9f3a"
             ],
             [
              0.8888888888888888,
              "#fdca26"
             ],
             [
              1,
              "#f0f921"
             ]
            ],
            "type": "heatmapgl"
           }
          ],
          "histogram": [
           {
            "marker": {
             "colorbar": {
              "outlinewidth": 0,
              "ticks": ""
             }
            },
            "type": "histogram"
           }
          ],
          "histogram2d": [
           {
            "colorbar": {
             "outlinewidth": 0,
             "ticks": ""
            },
            "colorscale": [
             [
              0,
              "#0d0887"
             ],
             [
              0.1111111111111111,
              "#46039f"
             ],
             [
              0.2222222222222222,
              "#7201a8"
             ],
             [
              0.3333333333333333,
              "#9c179e"
             ],
             [
              0.4444444444444444,
              "#bd3786"
             ],
             [
              0.5555555555555556,
              "#d8576b"
             ],
             [
              0.6666666666666666,
              "#ed7953"
             ],
             [
              0.7777777777777778,
              "#fb9f3a"
             ],
             [
              0.8888888888888888,
              "#fdca26"
             ],
             [
              1,
              "#f0f921"
             ]
            ],
            "type": "histogram2d"
           }
          ],
          "histogram2dcontour": [
           {
            "colorbar": {
             "outlinewidth": 0,
             "ticks": ""
            },
            "colorscale": [
             [
              0,
              "#0d0887"
             ],
             [
              0.1111111111111111,
              "#46039f"
             ],
             [
              0.2222222222222222,
              "#7201a8"
             ],
             [
              0.3333333333333333,
              "#9c179e"
             ],
             [
              0.4444444444444444,
              "#bd3786"
             ],
             [
              0.5555555555555556,
              "#d8576b"
             ],
             [
              0.6666666666666666,
              "#ed7953"
             ],
             [
              0.7777777777777778,
              "#fb9f3a"
             ],
             [
              0.8888888888888888,
              "#fdca26"
             ],
             [
              1,
              "#f0f921"
             ]
            ],
            "type": "histogram2dcontour"
           }
          ],
          "mesh3d": [
           {
            "colorbar": {
             "outlinewidth": 0,
             "ticks": ""
            },
            "type": "mesh3d"
           }
          ],
          "parcoords": [
           {
            "line": {
             "colorbar": {
              "outlinewidth": 0,
              "ticks": ""
             }
            },
            "type": "parcoords"
           }
          ],
          "pie": [
           {
            "automargin": true,
            "type": "pie"
           }
          ],
          "scatter": [
           {
            "marker": {
             "line": {
              "color": "#283442"
             }
            },
            "type": "scatter"
           }
          ],
          "scatter3d": [
           {
            "line": {
             "colorbar": {
              "outlinewidth": 0,
              "ticks": ""
             }
            },
            "marker": {
             "colorbar": {
              "outlinewidth": 0,
              "ticks": ""
             }
            },
            "type": "scatter3d"
           }
          ],
          "scattercarpet": [
           {
            "marker": {
             "colorbar": {
              "outlinewidth": 0,
              "ticks": ""
             }
            },
            "type": "scattercarpet"
           }
          ],
          "scattergeo": [
           {
            "marker": {
             "colorbar": {
              "outlinewidth": 0,
              "ticks": ""
             }
            },
            "type": "scattergeo"
           }
          ],
          "scattergl": [
           {
            "marker": {
             "line": {
              "color": "#283442"
             }
            },
            "type": "scattergl"
           }
          ],
          "scattermapbox": [
           {
            "marker": {
             "colorbar": {
              "outlinewidth": 0,
              "ticks": ""
             }
            },
            "type": "scattermapbox"
           }
          ],
          "scatterpolar": [
           {
            "marker": {
             "colorbar": {
              "outlinewidth": 0,
              "ticks": ""
             }
            },
            "type": "scatterpolar"
           }
          ],
          "scatterpolargl": [
           {
            "marker": {
             "colorbar": {
              "outlinewidth": 0,
              "ticks": ""
             }
            },
            "type": "scatterpolargl"
           }
          ],
          "scatterternary": [
           {
            "marker": {
             "colorbar": {
              "outlinewidth": 0,
              "ticks": ""
             }
            },
            "type": "scatterternary"
           }
          ],
          "surface": [
           {
            "colorbar": {
             "outlinewidth": 0,
             "ticks": ""
            },
            "colorscale": [
             [
              0,
              "#0d0887"
             ],
             [
              0.1111111111111111,
              "#46039f"
             ],
             [
              0.2222222222222222,
              "#7201a8"
             ],
             [
              0.3333333333333333,
              "#9c179e"
             ],
             [
              0.4444444444444444,
              "#bd3786"
             ],
             [
              0.5555555555555556,
              "#d8576b"
             ],
             [
              0.6666666666666666,
              "#ed7953"
             ],
             [
              0.7777777777777778,
              "#fb9f3a"
             ],
             [
              0.8888888888888888,
              "#fdca26"
             ],
             [
              1,
              "#f0f921"
             ]
            ],
            "type": "surface"
           }
          ],
          "table": [
           {
            "cells": {
             "fill": {
              "color": "#506784"
             },
             "line": {
              "color": "rgb(17,17,17)"
             }
            },
            "header": {
             "fill": {
              "color": "#2a3f5f"
             },
             "line": {
              "color": "rgb(17,17,17)"
             }
            },
            "type": "table"
           }
          ]
         },
         "layout": {
          "annotationdefaults": {
           "arrowcolor": "#f2f5fa",
           "arrowhead": 0,
           "arrowwidth": 1
          },
          "autotypenumbers": "strict",
          "coloraxis": {
           "colorbar": {
            "outlinewidth": 0,
            "ticks": ""
           }
          },
          "colorscale": {
           "diverging": [
            [
             0,
             "#8e0152"
            ],
            [
             0.1,
             "#c51b7d"
            ],
            [
             0.2,
             "#de77ae"
            ],
            [
             0.3,
             "#f1b6da"
            ],
            [
             0.4,
             "#fde0ef"
            ],
            [
             0.5,
             "#f7f7f7"
            ],
            [
             0.6,
             "#e6f5d0"
            ],
            [
             0.7,
             "#b8e186"
            ],
            [
             0.8,
             "#7fbc41"
            ],
            [
             0.9,
             "#4d9221"
            ],
            [
             1,
             "#276419"
            ]
           ],
           "sequential": [
            [
             0,
             "#0d0887"
            ],
            [
             0.1111111111111111,
             "#46039f"
            ],
            [
             0.2222222222222222,
             "#7201a8"
            ],
            [
             0.3333333333333333,
             "#9c179e"
            ],
            [
             0.4444444444444444,
             "#bd3786"
            ],
            [
             0.5555555555555556,
             "#d8576b"
            ],
            [
             0.6666666666666666,
             "#ed7953"
            ],
            [
             0.7777777777777778,
             "#fb9f3a"
            ],
            [
             0.8888888888888888,
             "#fdca26"
            ],
            [
             1,
             "#f0f921"
            ]
           ],
           "sequentialminus": [
            [
             0,
             "#0d0887"
            ],
            [
             0.1111111111111111,
             "#46039f"
            ],
            [
             0.2222222222222222,
             "#7201a8"
            ],
            [
             0.3333333333333333,
             "#9c179e"
            ],
            [
             0.4444444444444444,
             "#bd3786"
            ],
            [
             0.5555555555555556,
             "#d8576b"
            ],
            [
             0.6666666666666666,
             "#ed7953"
            ],
            [
             0.7777777777777778,
             "#fb9f3a"
            ],
            [
             0.8888888888888888,
             "#fdca26"
            ],
            [
             1,
             "#f0f921"
            ]
           ]
          },
          "colorway": [
           "#636efa",
           "#EF553B",
           "#00cc96",
           "#ab63fa",
           "#FFA15A",
           "#19d3f3",
           "#FF6692",
           "#B6E880",
           "#FF97FF",
           "#FECB52"
          ],
          "font": {
           "color": "#f2f5fa"
          },
          "geo": {
           "bgcolor": "rgb(17,17,17)",
           "lakecolor": "rgb(17,17,17)",
           "landcolor": "rgb(17,17,17)",
           "showlakes": true,
           "showland": true,
           "subunitcolor": "#506784"
          },
          "hoverlabel": {
           "align": "left"
          },
          "hovermode": "closest",
          "mapbox": {
           "style": "dark"
          },
          "paper_bgcolor": "rgb(17,17,17)",
          "plot_bgcolor": "rgb(17,17,17)",
          "polar": {
           "angularaxis": {
            "gridcolor": "#506784",
            "linecolor": "#506784",
            "ticks": ""
           },
           "bgcolor": "rgb(17,17,17)",
           "radialaxis": {
            "gridcolor": "#506784",
            "linecolor": "#506784",
            "ticks": ""
           }
          },
          "scene": {
           "xaxis": {
            "backgroundcolor": "rgb(17,17,17)",
            "gridcolor": "#506784",
            "gridwidth": 2,
            "linecolor": "#506784",
            "showbackground": true,
            "ticks": "",
            "zerolinecolor": "#C8D4E3"
           },
           "yaxis": {
            "backgroundcolor": "rgb(17,17,17)",
            "gridcolor": "#506784",
            "gridwidth": 2,
            "linecolor": "#506784",
            "showbackground": true,
            "ticks": "",
            "zerolinecolor": "#C8D4E3"
           },
           "zaxis": {
            "backgroundcolor": "rgb(17,17,17)",
            "gridcolor": "#506784",
            "gridwidth": 2,
            "linecolor": "#506784",
            "showbackground": true,
            "ticks": "",
            "zerolinecolor": "#C8D4E3"
           }
          },
          "shapedefaults": {
           "line": {
            "color": "#f2f5fa"
           }
          },
          "sliderdefaults": {
           "bgcolor": "#C8D4E3",
           "bordercolor": "rgb(17,17,17)",
           "borderwidth": 1,
           "tickwidth": 0
          },
          "ternary": {
           "aaxis": {
            "gridcolor": "#506784",
            "linecolor": "#506784",
            "ticks": ""
           },
           "baxis": {
            "gridcolor": "#506784",
            "linecolor": "#506784",
            "ticks": ""
           },
           "bgcolor": "rgb(17,17,17)",
           "caxis": {
            "gridcolor": "#506784",
            "linecolor": "#506784",
            "ticks": ""
           }
          },
          "title": {
           "x": 0.05
          },
          "updatemenudefaults": {
           "bgcolor": "#506784",
           "borderwidth": 0
          },
          "xaxis": {
           "automargin": true,
           "gridcolor": "#283442",
           "linecolor": "#506784",
           "ticks": "",
           "title": {
            "standoff": 15
           },
           "zerolinecolor": "#283442",
           "zerolinewidth": 2
          },
          "yaxis": {
           "automargin": true,
           "gridcolor": "#283442",
           "linecolor": "#506784",
           "ticks": "",
           "title": {
            "standoff": 15
           },
           "zerolinecolor": "#283442",
           "zerolinewidth": 2
          }
         }
        },
        "title": {
         "text": "Exposure site counts by date added"
        },
        "xaxis": {
         "anchor": "y",
         "domain": [
          0,
          1
         ],
         "title": {
          "text": "Exposure Date"
         }
        },
        "yaxis": {
         "anchor": "x",
         "domain": [
          0,
          1
         ],
         "title": {
          "text": "Date Added"
         }
        }
       }
      },
      "text/html": [
       "<div>                            <div id=\"077ad050-b64d-4e2f-9b03-223a777723fa\" class=\"plotly-graph-div\" style=\"height:525px; width:100%;\"></div>            <script type=\"text/javascript\">                require([\"plotly\"], function(Plotly) {                    window.PLOTLYENV=window.PLOTLYENV || {};                                    if (document.getElementById(\"077ad050-b64d-4e2f-9b03-223a777723fa\")) {                    Plotly.newPlot(                        \"077ad050-b64d-4e2f-9b03-223a777723fa\",                        [{\"coloraxis\": \"coloraxis\", \"hovertemplate\": \"date_exposure=%{x}<br>date_added=%{y}<br>count=%{z}<extra></extra>\", \"name\": \"\", \"nbinsx\": 20, \"nbinsy\": 20, \"type\": \"histogram2d\", \"x\": [\"2021-05-23T00:00:00\", \"2021-05-28T00:00:00\", \"2021-05-28T00:00:00\", \"2021-05-28T00:00:00\", \"2021-05-26T00:00:00\", \"2021-05-27T00:00:00\", \"2021-05-28T00:00:00\", \"2021-05-29T00:00:00\", \"2021-05-26T00:00:00\", \"2021-05-26T00:00:00\", \"2021-05-26T00:00:00\", \"2021-05-27T00:00:00\", \"2021-05-28T00:00:00\", \"2021-05-29T00:00:00\", \"2021-05-28T00:00:00\", \"2021-05-25T00:00:00\", \"2021-05-27T00:00:00\", \"2021-05-27T00:00:00\", \"2021-05-27T00:00:00\", \"2021-05-22T00:00:00\", \"2021-05-23T00:00:00\", \"2021-05-23T00:00:00\", \"2021-05-25T00:00:00\", \"2021-05-21T00:00:00\", \"2021-05-26T00:00:00\", \"2021-05-26T00:00:00\", \"2021-05-24T00:00:00\", \"2021-05-25T00:00:00\", \"2021-05-26T00:00:00\", \"2021-05-26T00:00:00\", \"2021-05-15T00:00:00\", \"2021-05-15T00:00:00\", \"2021-05-22T00:00:00\", \"2021-05-23T00:00:00\", \"2021-05-20T00:00:00\", \"2021-05-18T00:00:00\", \"2021-05-26T00:00:00\", \"2021-05-26T00:00:00\", \"2021-05-26T00:00:00\", \"2021-05-25T00:00:00\", \"2021-05-25T00:00:00\", \"2021-05-24T00:00:00\", \"2021-05-23T00:00:00\", \"2021-05-23T00:00:00\", \"2021-05-25T00:00:00\", \"2021-05-22T00:00:00\", \"2021-05-23T00:00:00\", \"2021-05-22T00:00:00\", \"2021-05-22T00:00:00\", \"2021-05-23T00:00:00\", \"2021-05-26T00:00:00\", \"2021-05-24T00:00:00\", \"2021-05-23T00:00:00\", \"2021-05-22T00:00:00\", \"2021-05-24T00:00:00\", \"2021-05-24T00:00:00\", \"2021-05-23T00:00:00\", \"2021-05-22T00:00:00\", \"2021-05-24T00:00:00\", \"2021-05-22T00:00:00\", \"2021-05-27T00:00:00\", \"2021-05-27T00:00:00\", \"2021-05-26T00:00:00\", \"2021-05-23T00:00:00\", \"2021-05-23T00:00:00\", \"2021-05-26T00:00:00\", \"2021-05-26T00:00:00\", \"2021-05-26T00:00:00\", \"2021-05-21T00:00:00\", \"2021-05-22T00:00:00\", \"2021-05-24T00:00:00\", \"2021-05-17T00:00:00\", \"2021-05-17T00:00:00\", \"2021-05-26T00:00:00\", \"2021-05-26T00:00:00\", \"2021-05-26T00:00:00\", \"2021-05-27T00:00:00\", \"2021-05-24T00:00:00\", \"2021-05-19T00:00:00\", \"2021-05-22T00:00:00\", \"2021-05-26T00:00:00\", \"2021-05-27T00:00:00\", \"2021-05-17T00:00:00\", \"2021-05-18T00:00:00\", \"2021-05-22T00:00:00\", \"2021-05-25T00:00:00\", \"2021-05-25T00:00:00\", \"2021-05-25T00:00:00\", \"2021-05-22T00:00:00\", \"2021-05-22T00:00:00\", \"2021-05-26T00:00:00\", \"2021-05-22T00:00:00\", \"2021-05-22T00:00:00\", \"2021-05-22T00:00:00\", \"2021-05-19T00:00:00\", \"2021-05-22T00:00:00\", \"2021-05-18T00:00:00\", \"2021-05-25T00:00:00\", \"2021-05-26T00:00:00\", \"2021-05-24T00:00:00\", \"2021-05-17T00:00:00\", \"2021-05-18T00:00:00\", \"2021-05-20T00:00:00\", \"2021-05-21T00:00:00\", \"2021-05-24T00:00:00\", \"2021-05-25T00:00:00\", \"2021-05-27T00:00:00\", \"2021-05-28T00:00:00\", \"2021-05-12T00:00:00\", \"2021-05-13T00:00:00\", \"2021-05-20T00:00:00\", \"2021-05-25T00:00:00\", \"2021-05-19T00:00:00\", \"2021-05-25T00:00:00\", \"2021-05-26T00:00:00\", \"2021-05-23T00:00:00\", \"2021-05-19T00:00:00\", \"2021-05-25T00:00:00\", \"2021-05-22T00:00:00\", \"2021-05-26T00:00:00\", \"2021-05-24T00:00:00\", \"2021-05-26T00:00:00\", \"2021-05-21T00:00:00\", \"2021-05-25T00:00:00\", \"2021-05-26T00:00:00\", \"2021-05-26T00:00:00\", \"2021-05-27T00:00:00\", \"2021-05-27T00:00:00\", \"2021-05-27T00:00:00\", \"2021-05-28T00:00:00\", \"2021-05-23T00:00:00\", \"2021-05-26T00:00:00\", \"2021-05-26T00:00:00\", \"2021-05-26T00:00:00\", \"2021-05-25T00:00:00\", \"2021-05-24T00:00:00\", \"2021-05-25T00:00:00\", \"2021-05-25T00:00:00\", \"2021-05-25T00:00:00\", \"2021-05-24T00:00:00\", \"2021-05-22T00:00:00\", \"2021-05-22T00:00:00\", \"2021-05-23T00:00:00\", \"2021-05-22T00:00:00\", \"2021-05-21T00:00:00\", \"2021-05-23T00:00:00\", \"2021-05-25T00:00:00\", \"2021-05-19T00:00:00\", \"2021-05-19T00:00:00\", \"2021-05-19T00:00:00\", \"2021-05-19T00:00:00\", \"2021-05-19T00:00:00\", \"2021-05-25T00:00:00\", \"2021-05-19T00:00:00\", \"2021-05-18T00:00:00\", \"2021-05-18T00:00:00\", \"2021-05-18T00:00:00\", \"2021-05-18T00:00:00\", \"2021-05-25T00:00:00\", \"2021-05-24T00:00:00\", \"2021-05-23T00:00:00\", \"2021-05-23T00:00:00\", \"2021-05-23T00:00:00\", \"2021-05-22T00:00:00\", \"2021-05-24T00:00:00\", \"2021-05-25T00:00:00\", \"2021-05-26T00:00:00\", \"2021-05-22T00:00:00\", \"2021-05-23T00:00:00\", \"2021-05-25T00:00:00\", \"2021-05-26T00:00:00\", \"2021-05-27T00:00:00\", \"2021-05-22T00:00:00\", \"2021-05-22T00:00:00\", \"2021-05-22T00:00:00\", \"2021-05-23T00:00:00\", \"2021-05-25T00:00:00\", \"2021-05-24T00:00:00\", \"2021-05-25T00:00:00\", \"2021-05-24T00:00:00\", \"2021-05-23T00:00:00\", \"2021-05-24T00:00:00\", \"2021-05-25T00:00:00\", \"2021-05-25T00:00:00\", \"2021-05-13T00:00:00\", \"2021-05-23T00:00:00\", \"2021-05-23T00:00:00\", \"2021-05-23T00:00:00\", \"2021-05-23T00:00:00\", \"2021-05-25T00:00:00\", \"2021-05-24T00:00:00\", \"2021-05-24T00:00:00\", \"2021-05-22T00:00:00\", \"2021-05-22T00:00:00\", \"2021-05-22T00:00:00\", \"2021-05-22T00:00:00\", \"2021-05-21T00:00:00\", \"2021-05-24T00:00:00\", \"2021-05-22T00:00:00\", \"2021-05-20T00:00:00\", \"2021-05-24T00:00:00\", \"2021-05-24T00:00:00\", \"2021-05-24T00:00:00\", \"2021-05-24T00:00:00\", \"2021-05-24T00:00:00\", \"2021-05-23T00:00:00\", \"2021-05-21T00:00:00\", \"2021-05-24T00:00:00\", \"2021-05-25T00:00:00\", \"2021-05-22T00:00:00\", \"2021-05-23T00:00:00\", \"2021-05-22T00:00:00\", \"2021-05-23T00:00:00\", \"2021-05-14T00:00:00\", \"2021-05-14T00:00:00\", \"2021-05-14T00:00:00\", \"2021-05-23T00:00:00\", \"2021-05-25T00:00:00\", \"2021-05-22T00:00:00\", \"2021-05-23T00:00:00\", \"2021-05-21T00:00:00\", \"2021-05-20T00:00:00\", \"2021-05-23T00:00:00\", \"2021-05-22T00:00:00\", \"2021-05-21T00:00:00\", \"2021-05-22T00:00:00\", \"2021-05-23T00:00:00\", \"2021-05-22T00:00:00\", \"2021-05-23T00:00:00\", \"2021-05-21T00:00:00\", \"2021-05-23T00:00:00\", \"2021-05-24T00:00:00\", \"2021-05-23T00:00:00\", \"2021-05-21T00:00:00\", \"2021-05-24T00:00:00\", \"2021-05-23T00:00:00\", \"2021-05-23T00:00:00\", \"2021-05-22T00:00:00\", \"2021-05-22T00:00:00\", \"2021-05-18T00:00:00\", \"2021-05-20T00:00:00\", \"2021-05-21T00:00:00\", \"2021-05-22T00:00:00\", \"2021-05-23T00:00:00\", \"2021-05-24T00:00:00\", \"2021-05-25T00:00:00\", \"2021-05-24T00:00:00\", \"2021-05-23T00:00:00\", \"2021-05-21T00:00:00\", \"2021-05-23T00:00:00\", \"2021-05-23T00:00:00\", \"2021-05-22T00:00:00\", \"2021-05-22T00:00:00\", \"2021-05-23T00:00:00\", \"2021-05-23T00:00:00\", \"2021-05-23T00:00:00\", \"2021-05-22T00:00:00\", \"2021-05-22T00:00:00\", \"2021-05-22T00:00:00\", \"2021-05-20T00:00:00\", \"2021-05-20T00:00:00\", \"2021-05-22T00:00:00\", \"2021-05-24T00:00:00\", \"2021-05-24T00:00:00\", \"2021-05-21T00:00:00\", \"2021-05-22T00:00:00\", \"2021-05-19T00:00:00\", \"2021-05-20T00:00:00\", \"2021-05-19T00:00:00\", \"2021-05-19T00:00:00\", \"2021-05-19T00:00:00\", \"2021-05-20T00:00:00\", \"2021-05-17T00:00:00\", \"2021-05-19T00:00:00\", \"2021-05-23T00:00:00\", \"2021-05-23T00:00:00\", \"2021-05-22T00:00:00\", \"2021-05-21T00:00:00\", \"2021-05-22T00:00:00\", \"2021-05-17T00:00:00\", \"2021-05-18T00:00:00\", \"2021-05-20T00:00:00\", \"2021-05-22T00:00:00\", \"2021-05-21T00:00:00\", \"2021-05-22T00:00:00\", \"2021-05-23T00:00:00\", \"2021-05-23T00:00:00\", \"2021-05-20T00:00:00\", \"2021-05-20T00:00:00\", \"2021-05-20T00:00:00\", \"2021-05-20T00:00:00\", \"2021-05-20T00:00:00\", \"2021-05-20T00:00:00\", \"2021-05-21T00:00:00\", \"2021-05-23T00:00:00\", \"2021-05-23T00:00:00\", \"2021-05-22T00:00:00\", \"2021-05-18T00:00:00\"], \"xaxis\": \"x\", \"xbingroup\": \"x\", \"y\": [\"2021-06-01T00:00:00\", \"2021-06-01T00:00:00\", \"2021-06-01T00:00:00\", \"2021-06-01T00:00:00\", \"2021-05-31T00:00:00\", \"2021-05-31T00:00:00\", \"2021-05-31T00:00:00\", \"2021-05-31T00:00:00\", \"2021-05-31T00:00:00\", \"2021-05-31T00:00:00\", \"2021-05-31T00:00:00\", \"2021-05-31T00:00:00\", \"2021-05-31T00:00:00\", \"2021-05-31T00:00:00\", \"2021-05-31T00:00:00\", \"2021-05-31T00:00:00\", \"2021-05-31T00:00:00\", \"2021-05-31T00:00:00\", \"2021-05-31T00:00:00\", \"2021-05-31T00:00:00\", \"2021-05-31T00:00:00\", \"2021-05-31T00:00:00\", \"2021-05-31T00:00:00\", \"2021-05-31T00:00:00\", \"2021-05-31T00:00:00\", \"2021-05-31T00:00:00\", \"2021-05-30T00:00:00\", \"2021-05-30T00:00:00\", \"2021-05-30T00:00:00\", \"2021-05-30T00:00:00\", \"2021-05-30T00:00:00\", \"2021-05-30T00:00:00\", \"2021-05-30T00:00:00\", \"2021-05-30T00:00:00\", \"2021-05-30T00:00:00\", \"2021-05-30T00:00:00\", \"2021-05-30T00:00:00\", \"2021-05-30T00:00:00\", \"2021-05-30T00:00:00\", \"2021-05-30T00:00:00\", \"2021-05-30T00:00:00\", \"2021-05-30T00:00:00\", \"2021-05-30T00:00:00\", \"2021-05-30T00:00:00\", \"2021-05-30T00:00:00\", \"2021-05-30T00:00:00\", \"2021-05-30T00:00:00\", \"2021-05-30T00:00:00\", \"2021-05-30T00:00:00\", \"2021-05-30T00:00:00\", \"2021-05-30T00:00:00\", \"2021-05-30T00:00:00\", \"2021-05-30T00:00:00\", \"2021-05-30T00:00:00\", \"2021-05-30T00:00:00\", \"2021-05-30T00:00:00\", \"2021-05-30T00:00:00\", \"2021-05-30T00:00:00\", \"2021-05-30T00:00:00\", \"2021-05-30T00:00:00\", \"2021-05-30T00:00:00\", \"2021-05-30T00:00:00\", \"2021-05-30T00:00:00\", \"2021-05-30T00:00:00\", \"2021-05-30T00:00:00\", \"2021-05-30T00:00:00\", \"2021-05-30T00:00:00\", \"2021-05-30T00:00:00\", \"2021-05-30T00:00:00\", \"2021-05-30T00:00:00\", \"2021-05-30T00:00:00\", \"2021-05-30T00:00:00\", \"2021-05-30T00:00:00\", \"2021-05-30T00:00:00\", \"2021-05-30T00:00:00\", \"2021-05-30T00:00:00\", \"2021-05-30T00:00:00\", \"2021-05-30T00:00:00\", \"2021-05-30T00:00:00\", \"2021-05-30T00:00:00\", \"2021-05-30T00:00:00\", \"2021-05-30T00:00:00\", \"2021-05-30T00:00:00\", \"2021-05-30T00:00:00\", \"2021-05-30T00:00:00\", \"2021-05-30T00:00:00\", \"2021-05-30T00:00:00\", \"2021-05-30T00:00:00\", \"2021-05-30T00:00:00\", \"2021-05-30T00:00:00\", \"2021-05-30T00:00:00\", \"2021-05-30T00:00:00\", \"2021-05-30T00:00:00\", \"2021-05-30T00:00:00\", \"2021-05-30T00:00:00\", \"2021-05-30T00:00:00\", \"2021-05-30T00:00:00\", \"2021-05-30T00:00:00\", \"2021-05-30T00:00:00\", \"2021-05-30T00:00:00\", \"2021-05-30T00:00:00\", \"2021-05-30T00:00:00\", \"2021-05-30T00:00:00\", \"2021-05-30T00:00:00\", \"2021-05-30T00:00:00\", \"2021-05-30T00:00:00\", \"2021-05-30T00:00:00\", \"2021-05-30T00:00:00\", \"2021-05-30T00:00:00\", \"2021-05-30T00:00:00\", \"2021-05-30T00:00:00\", \"2021-05-30T00:00:00\", \"2021-05-30T00:00:00\", \"2021-05-30T00:00:00\", \"2021-05-30T00:00:00\", \"2021-05-30T00:00:00\", \"2021-05-30T00:00:00\", \"2021-05-30T00:00:00\", \"2021-05-30T00:00:00\", \"2021-05-30T00:00:00\", \"2021-05-30T00:00:00\", \"2021-05-30T00:00:00\", \"2021-05-30T00:00:00\", \"2021-05-30T00:00:00\", \"2021-05-29T00:00:00\", \"2021-05-29T00:00:00\", \"2021-05-29T00:00:00\", \"2021-05-29T00:00:00\", \"2021-05-29T00:00:00\", \"2021-05-29T00:00:00\", \"2021-05-29T00:00:00\", \"2021-05-29T00:00:00\", \"2021-05-29T00:00:00\", \"2021-05-29T00:00:00\", \"2021-05-29T00:00:00\", \"2021-05-29T00:00:00\", \"2021-05-29T00:00:00\", \"2021-05-29T00:00:00\", \"2021-05-29T00:00:00\", \"2021-05-29T00:00:00\", \"2021-05-29T00:00:00\", \"2021-05-29T00:00:00\", \"2021-05-29T00:00:00\", \"2021-05-29T00:00:00\", \"2021-05-29T00:00:00\", \"2021-05-29T00:00:00\", \"2021-05-29T00:00:00\", \"2021-05-28T00:00:00\", \"2021-05-28T00:00:00\", \"2021-05-28T00:00:00\", \"2021-05-28T00:00:00\", \"2021-05-28T00:00:00\", \"2021-05-28T00:00:00\", \"2021-05-28T00:00:00\", \"2021-05-28T00:00:00\", \"2021-05-28T00:00:00\", \"2021-05-28T00:00:00\", \"2021-05-28T00:00:00\", \"2021-05-28T00:00:00\", \"2021-05-28T00:00:00\", \"2021-05-28T00:00:00\", \"2021-05-28T00:00:00\", \"2021-05-28T00:00:00\", \"2021-05-28T00:00:00\", \"2021-05-28T00:00:00\", \"2021-05-28T00:00:00\", \"2021-05-28T00:00:00\", \"2021-05-28T00:00:00\", \"2021-05-28T00:00:00\", \"2021-05-28T00:00:00\", \"2021-05-28T00:00:00\", \"2021-05-28T00:00:00\", \"2021-05-28T00:00:00\", \"2021-05-28T00:00:00\", \"2021-05-28T00:00:00\", \"2021-05-28T00:00:00\", \"2021-05-28T00:00:00\", \"2021-05-28T00:00:00\", \"2021-05-28T00:00:00\", \"2021-05-28T00:00:00\", \"2021-05-28T00:00:00\", \"2021-05-27T00:00:00\", \"2021-05-27T00:00:00\", \"2021-05-27T00:00:00\", \"2021-05-27T00:00:00\", \"2021-05-27T00:00:00\", \"2021-05-27T00:00:00\", \"2021-05-27T00:00:00\", \"2021-05-27T00:00:00\", \"2021-05-27T00:00:00\", \"2021-05-27T00:00:00\", \"2021-05-27T00:00:00\", \"2021-05-27T00:00:00\", \"2021-05-27T00:00:00\", \"2021-05-27T00:00:00\", \"2021-05-27T00:00:00\", \"2021-05-27T00:00:00\", \"2021-05-27T00:00:00\", \"2021-05-27T00:00:00\", \"2021-05-27T00:00:00\", \"2021-05-27T00:00:00\", \"2021-05-27T00:00:00\", \"2021-05-27T00:00:00\", \"2021-05-27T00:00:00\", \"2021-05-27T00:00:00\", \"2021-05-27T00:00:00\", \"2021-05-27T00:00:00\", \"2021-05-27T00:00:00\", \"2021-05-27T00:00:00\", \"2021-05-27T00:00:00\", \"2021-05-27T00:00:00\", \"2021-05-27T00:00:00\", \"2021-05-27T00:00:00\", \"2021-05-27T00:00:00\", \"2021-05-27T00:00:00\", \"2021-05-27T00:00:00\", \"2021-05-27T00:00:00\", \"2021-05-27T00:00:00\", \"2021-05-27T00:00:00\", \"2021-05-26T00:00:00\", \"2021-05-26T00:00:00\", \"2021-05-26T00:00:00\", \"2021-05-26T00:00:00\", \"2021-05-26T00:00:00\", \"2021-05-26T00:00:00\", \"2021-05-26T00:00:00\", \"2021-05-26T00:00:00\", \"2021-05-26T00:00:00\", \"2021-05-26T00:00:00\", \"2021-05-26T00:00:00\", \"2021-05-26T00:00:00\", \"2021-05-26T00:00:00\", \"2021-05-26T00:00:00\", \"2021-05-26T00:00:00\", \"2021-05-26T00:00:00\", \"2021-05-26T00:00:00\", \"2021-05-26T00:00:00\", \"2021-05-26T00:00:00\", \"2021-05-26T00:00:00\", \"2021-05-26T00:00:00\", \"2021-05-26T00:00:00\", \"2021-05-26T00:00:00\", \"2021-05-26T00:00:00\", \"2021-05-26T00:00:00\", \"2021-05-26T00:00:00\", \"2021-05-26T00:00:00\", \"2021-05-26T00:00:00\", \"2021-05-26T00:00:00\", \"2021-05-26T00:00:00\", \"2021-05-26T00:00:00\", \"2021-05-26T00:00:00\", \"2021-05-26T00:00:00\", \"2021-05-26T00:00:00\", \"2021-05-26T00:00:00\", \"2021-05-26T00:00:00\", \"2021-05-26T00:00:00\", \"2021-05-26T00:00:00\", \"2021-05-26T00:00:00\", \"2021-05-26T00:00:00\", \"2021-05-26T00:00:00\", \"2021-05-26T00:00:00\", \"2021-05-26T00:00:00\", \"2021-05-26T00:00:00\", \"2021-05-26T00:00:00\", \"2021-05-26T00:00:00\", \"2021-05-26T00:00:00\", \"2021-05-25T00:00:00\", \"2021-05-25T00:00:00\", \"2021-05-25T00:00:00\", \"2021-05-25T00:00:00\", \"2021-05-25T00:00:00\", \"2021-05-25T00:00:00\", \"2021-05-25T00:00:00\", \"2021-05-24T00:00:00\", \"2021-05-24T00:00:00\", \"2021-05-24T00:00:00\", \"2021-05-24T00:00:00\", \"2021-05-24T00:00:00\", \"2021-05-24T00:00:00\", \"2021-05-24T00:00:00\", \"2021-05-24T00:00:00\", \"2021-05-24T00:00:00\", \"2021-05-24T00:00:00\", \"2021-05-24T00:00:00\", \"2021-05-24T00:00:00\", \"2021-05-24T00:00:00\", \"2021-05-24T00:00:00\", \"2021-05-24T00:00:00\", \"2021-05-24T00:00:00\", \"2021-05-24T00:00:00\", \"2021-05-24T00:00:00\", \"2021-05-24T00:00:00\", \"2021-05-24T00:00:00\", \"2021-05-24T00:00:00\", \"2021-05-24T00:00:00\", \"2021-05-24T00:00:00\", \"2021-05-22T00:00:00\", \"2021-05-18T00:00:00\"], \"yaxis\": \"y\", \"ybingroup\": \"y\"}],                        {\"annotations\": [{\"ax\": 10, \"ay\": 20, \"text\": \"lockdown\", \"x\": \"2021-05-27\", \"xanchor\": \"left\", \"y\": \"2021-05-27\"}], \"coloraxis\": {\"colorbar\": {\"title\": {\"text\": \"count\"}}, \"colorscale\": [[0.0, \"#440154\"], [0.1111111111111111, \"#482878\"], [0.2222222222222222, \"#3e4989\"], [0.3333333333333333, \"#31688e\"], [0.4444444444444444, \"#26828e\"], [0.5555555555555556, \"#1f9e89\"], [0.6666666666666666, \"#35b779\"], [0.7777777777777778, \"#6ece58\"], [0.8888888888888888, \"#b5de2b\"], [1.0, \"#fde725\"]]}, \"legend\": {\"tracegroupgap\": 0}, \"shapes\": [{\"type\": \"line\", \"x0\": \"2021-05-27\", \"x1\": \"2021-05-27\", \"xref\": \"x\", \"y0\": 0, \"y1\": 1, \"yref\": \"y domain\"}, {\"type\": \"line\", \"x0\": 0, \"x1\": 1, \"xref\": \"x domain\", \"y0\": \"2021-05-27\", \"y1\": \"2021-05-27\", \"yref\": \"y\"}], \"template\": {\"data\": {\"bar\": [{\"error_x\": {\"color\": \"#f2f5fa\"}, \"error_y\": {\"color\": \"#f2f5fa\"}, \"marker\": {\"line\": {\"color\": \"rgb(17,17,17)\", \"width\": 0.5}}, \"type\": \"bar\"}], \"barpolar\": [{\"marker\": {\"line\": {\"color\": \"rgb(17,17,17)\", \"width\": 0.5}}, \"type\": \"barpolar\"}], \"carpet\": [{\"aaxis\": {\"endlinecolor\": \"#A2B1C6\", \"gridcolor\": \"#506784\", \"linecolor\": \"#506784\", \"minorgridcolor\": \"#506784\", \"startlinecolor\": \"#A2B1C6\"}, \"baxis\": {\"endlinecolor\": \"#A2B1C6\", \"gridcolor\": \"#506784\", \"linecolor\": \"#506784\", \"minorgridcolor\": \"#506784\", \"startlinecolor\": \"#A2B1C6\"}, \"type\": \"carpet\"}], \"choropleth\": [{\"colorbar\": {\"outlinewidth\": 0, \"ticks\": \"\"}, \"type\": \"choropleth\"}], \"contour\": [{\"colorbar\": {\"outlinewidth\": 0, \"ticks\": \"\"}, \"colorscale\": [[0.0, \"#0d0887\"], [0.1111111111111111, \"#46039f\"], [0.2222222222222222, \"#7201a8\"], [0.3333333333333333, \"#9c179e\"], [0.4444444444444444, \"#bd3786\"], [0.5555555555555556, \"#d8576b\"], [0.6666666666666666, \"#ed7953\"], [0.7777777777777778, \"#fb9f3a\"], [0.8888888888888888, \"#fdca26\"], [1.0, \"#f0f921\"]], \"type\": \"contour\"}], \"contourcarpet\": [{\"colorbar\": {\"outlinewidth\": 0, \"ticks\": \"\"}, \"type\": \"contourcarpet\"}], \"heatmap\": [{\"colorbar\": {\"outlinewidth\": 0, \"ticks\": \"\"}, \"colorscale\": [[0.0, \"#0d0887\"], [0.1111111111111111, \"#46039f\"], [0.2222222222222222, \"#7201a8\"], [0.3333333333333333, \"#9c179e\"], [0.4444444444444444, \"#bd3786\"], [0.5555555555555556, \"#d8576b\"], [0.6666666666666666, \"#ed7953\"], [0.7777777777777778, \"#fb9f3a\"], [0.8888888888888888, \"#fdca26\"], [1.0, \"#f0f921\"]], \"type\": \"heatmap\"}], \"heatmapgl\": [{\"colorbar\": {\"outlinewidth\": 0, \"ticks\": \"\"}, \"colorscale\": [[0.0, \"#0d0887\"], [0.1111111111111111, \"#46039f\"], [0.2222222222222222, \"#7201a8\"], [0.3333333333333333, \"#9c179e\"], [0.4444444444444444, \"#bd3786\"], [0.5555555555555556, \"#d8576b\"], [0.6666666666666666, \"#ed7953\"], [0.7777777777777778, \"#fb9f3a\"], [0.8888888888888888, \"#fdca26\"], [1.0, \"#f0f921\"]], \"type\": \"heatmapgl\"}], \"histogram\": [{\"marker\": {\"colorbar\": {\"outlinewidth\": 0, \"ticks\": \"\"}}, \"type\": \"histogram\"}], \"histogram2d\": [{\"colorbar\": {\"outlinewidth\": 0, \"ticks\": \"\"}, \"colorscale\": [[0.0, \"#0d0887\"], [0.1111111111111111, \"#46039f\"], [0.2222222222222222, \"#7201a8\"], [0.3333333333333333, \"#9c179e\"], [0.4444444444444444, \"#bd3786\"], [0.5555555555555556, \"#d8576b\"], [0.6666666666666666, \"#ed7953\"], [0.7777777777777778, \"#fb9f3a\"], [0.8888888888888888, \"#fdca26\"], [1.0, \"#f0f921\"]], \"type\": \"histogram2d\"}], \"histogram2dcontour\": [{\"colorbar\": {\"outlinewidth\": 0, \"ticks\": \"\"}, \"colorscale\": [[0.0, \"#0d0887\"], [0.1111111111111111, \"#46039f\"], [0.2222222222222222, \"#7201a8\"], [0.3333333333333333, \"#9c179e\"], [0.4444444444444444, \"#bd3786\"], [0.5555555555555556, \"#d8576b\"], [0.6666666666666666, \"#ed7953\"], [0.7777777777777778, \"#fb9f3a\"], [0.8888888888888888, \"#fdca26\"], [1.0, \"#f0f921\"]], \"type\": \"histogram2dcontour\"}], \"mesh3d\": [{\"colorbar\": {\"outlinewidth\": 0, \"ticks\": \"\"}, \"type\": \"mesh3d\"}], \"parcoords\": [{\"line\": {\"colorbar\": {\"outlinewidth\": 0, \"ticks\": \"\"}}, \"type\": \"parcoords\"}], \"pie\": [{\"automargin\": true, \"type\": \"pie\"}], \"scatter\": [{\"marker\": {\"line\": {\"color\": \"#283442\"}}, \"type\": \"scatter\"}], \"scatter3d\": [{\"line\": {\"colorbar\": {\"outlinewidth\": 0, \"ticks\": \"\"}}, \"marker\": {\"colorbar\": {\"outlinewidth\": 0, \"ticks\": \"\"}}, \"type\": \"scatter3d\"}], \"scattercarpet\": [{\"marker\": {\"colorbar\": {\"outlinewidth\": 0, \"ticks\": \"\"}}, \"type\": \"scattercarpet\"}], \"scattergeo\": [{\"marker\": {\"colorbar\": {\"outlinewidth\": 0, \"ticks\": \"\"}}, \"type\": \"scattergeo\"}], \"scattergl\": [{\"marker\": {\"line\": {\"color\": \"#283442\"}}, \"type\": \"scattergl\"}], \"scattermapbox\": [{\"marker\": {\"colorbar\": {\"outlinewidth\": 0, \"ticks\": \"\"}}, \"type\": \"scattermapbox\"}], \"scatterpolar\": [{\"marker\": {\"colorbar\": {\"outlinewidth\": 0, \"ticks\": \"\"}}, \"type\": \"scatterpolar\"}], \"scatterpolargl\": [{\"marker\": {\"colorbar\": {\"outlinewidth\": 0, \"ticks\": \"\"}}, \"type\": \"scatterpolargl\"}], \"scatterternary\": [{\"marker\": {\"colorbar\": {\"outlinewidth\": 0, \"ticks\": \"\"}}, \"type\": \"scatterternary\"}], \"surface\": [{\"colorbar\": {\"outlinewidth\": 0, \"ticks\": \"\"}, \"colorscale\": [[0.0, \"#0d0887\"], [0.1111111111111111, \"#46039f\"], [0.2222222222222222, \"#7201a8\"], [0.3333333333333333, \"#9c179e\"], [0.4444444444444444, \"#bd3786\"], [0.5555555555555556, \"#d8576b\"], [0.6666666666666666, \"#ed7953\"], [0.7777777777777778, \"#fb9f3a\"], [0.8888888888888888, \"#fdca26\"], [1.0, \"#f0f921\"]], \"type\": \"surface\"}], \"table\": [{\"cells\": {\"fill\": {\"color\": \"#506784\"}, \"line\": {\"color\": \"rgb(17,17,17)\"}}, \"header\": {\"fill\": {\"color\": \"#2a3f5f\"}, \"line\": {\"color\": \"rgb(17,17,17)\"}}, \"type\": \"table\"}]}, \"layout\": {\"annotationdefaults\": {\"arrowcolor\": \"#f2f5fa\", \"arrowhead\": 0, \"arrowwidth\": 1}, \"autotypenumbers\": \"strict\", \"coloraxis\": {\"colorbar\": {\"outlinewidth\": 0, \"ticks\": \"\"}}, \"colorscale\": {\"diverging\": [[0, \"#8e0152\"], [0.1, \"#c51b7d\"], [0.2, \"#de77ae\"], [0.3, \"#f1b6da\"], [0.4, \"#fde0ef\"], [0.5, \"#f7f7f7\"], [0.6, \"#e6f5d0\"], [0.7, \"#b8e186\"], [0.8, \"#7fbc41\"], [0.9, \"#4d9221\"], [1, \"#276419\"]], \"sequential\": [[0.0, \"#0d0887\"], [0.1111111111111111, \"#46039f\"], [0.2222222222222222, \"#7201a8\"], [0.3333333333333333, \"#9c179e\"], [0.4444444444444444, \"#bd3786\"], [0.5555555555555556, \"#d8576b\"], [0.6666666666666666, \"#ed7953\"], [0.7777777777777778, \"#fb9f3a\"], [0.8888888888888888, \"#fdca26\"], [1.0, \"#f0f921\"]], \"sequentialminus\": [[0.0, \"#0d0887\"], [0.1111111111111111, \"#46039f\"], [0.2222222222222222, \"#7201a8\"], [0.3333333333333333, \"#9c179e\"], [0.4444444444444444, \"#bd3786\"], [0.5555555555555556, \"#d8576b\"], [0.6666666666666666, \"#ed7953\"], [0.7777777777777778, \"#fb9f3a\"], [0.8888888888888888, \"#fdca26\"], [1.0, \"#f0f921\"]]}, \"colorway\": [\"#636efa\", \"#EF553B\", \"#00cc96\", \"#ab63fa\", \"#FFA15A\", \"#19d3f3\", \"#FF6692\", \"#B6E880\", \"#FF97FF\", \"#FECB52\"], \"font\": {\"color\": \"#f2f5fa\"}, \"geo\": {\"bgcolor\": \"rgb(17,17,17)\", \"lakecolor\": \"rgb(17,17,17)\", \"landcolor\": \"rgb(17,17,17)\", \"showlakes\": true, \"showland\": true, \"subunitcolor\": \"#506784\"}, \"hoverlabel\": {\"align\": \"left\"}, \"hovermode\": \"closest\", \"mapbox\": {\"style\": \"dark\"}, \"paper_bgcolor\": \"rgb(17,17,17)\", \"plot_bgcolor\": \"rgb(17,17,17)\", \"polar\": {\"angularaxis\": {\"gridcolor\": \"#506784\", \"linecolor\": \"#506784\", \"ticks\": \"\"}, \"bgcolor\": \"rgb(17,17,17)\", \"radialaxis\": {\"gridcolor\": \"#506784\", \"linecolor\": \"#506784\", \"ticks\": \"\"}}, \"scene\": {\"xaxis\": {\"backgroundcolor\": \"rgb(17,17,17)\", \"gridcolor\": \"#506784\", \"gridwidth\": 2, \"linecolor\": \"#506784\", \"showbackground\": true, \"ticks\": \"\", \"zerolinecolor\": \"#C8D4E3\"}, \"yaxis\": {\"backgroundcolor\": \"rgb(17,17,17)\", \"gridcolor\": \"#506784\", \"gridwidth\": 2, \"linecolor\": \"#506784\", \"showbackground\": true, \"ticks\": \"\", \"zerolinecolor\": \"#C8D4E3\"}, \"zaxis\": {\"backgroundcolor\": \"rgb(17,17,17)\", \"gridcolor\": \"#506784\", \"gridwidth\": 2, \"linecolor\": \"#506784\", \"showbackground\": true, \"ticks\": \"\", \"zerolinecolor\": \"#C8D4E3\"}}, \"shapedefaults\": {\"line\": {\"color\": \"#f2f5fa\"}}, \"sliderdefaults\": {\"bgcolor\": \"#C8D4E3\", \"bordercolor\": \"rgb(17,17,17)\", \"borderwidth\": 1, \"tickwidth\": 0}, \"ternary\": {\"aaxis\": {\"gridcolor\": \"#506784\", \"linecolor\": \"#506784\", \"ticks\": \"\"}, \"baxis\": {\"gridcolor\": \"#506784\", \"linecolor\": \"#506784\", \"ticks\": \"\"}, \"bgcolor\": \"rgb(17,17,17)\", \"caxis\": {\"gridcolor\": \"#506784\", \"linecolor\": \"#506784\", \"ticks\": \"\"}}, \"title\": {\"x\": 0.05}, \"updatemenudefaults\": {\"bgcolor\": \"#506784\", \"borderwidth\": 0}, \"xaxis\": {\"automargin\": true, \"gridcolor\": \"#283442\", \"linecolor\": \"#506784\", \"ticks\": \"\", \"title\": {\"standoff\": 15}, \"zerolinecolor\": \"#283442\", \"zerolinewidth\": 2}, \"yaxis\": {\"automargin\": true, \"gridcolor\": \"#283442\", \"linecolor\": \"#506784\", \"ticks\": \"\", \"title\": {\"standoff\": 15}, \"zerolinecolor\": \"#283442\", \"zerolinewidth\": 2}}}, \"title\": {\"text\": \"Exposure site counts by date added\"}, \"xaxis\": {\"anchor\": \"y\", \"domain\": [0.0, 1.0], \"title\": {\"text\": \"Exposure Date\"}}, \"yaxis\": {\"anchor\": \"x\", \"domain\": [0.0, 1.0], \"title\": {\"text\": \"Date Added\"}}},                        {\"responsive\": true}                    ).then(function(){\n",
       "                            \n",
       "var gd = document.getElementById('077ad050-b64d-4e2f-9b03-223a777723fa');\n",
       "var x = new MutationObserver(function (mutations, observer) {{\n",
       "        var display = window.getComputedStyle(gd).display;\n",
       "        if (!display || display === 'none') {{\n",
       "            console.log([gd, 'removed!']);\n",
       "            Plotly.purge(gd);\n",
       "            observer.disconnect();\n",
       "        }}\n",
       "}});\n",
       "\n",
       "// Listen for the removal of the full notebook cells\n",
       "var notebookContainer = gd.closest('#notebook-container');\n",
       "if (notebookContainer) {{\n",
       "    x.observe(notebookContainer, {childList: true});\n",
       "}}\n",
       "\n",
       "// Listen for the clearing of the current output cell\n",
       "var outputEl = gd.closest('.output');\n",
       "if (outputEl) {{\n",
       "    x.observe(outputEl, {childList: true});\n",
       "}}\n",
       "\n",
       "                        })                };                });            </script>        </div>"
      ]
     },
     "metadata": {},
     "output_type": "display_data"
    }
   ],
   "source": [
    "import plotly.graph_objects as go\n",
    "\n",
    "fig_heat = px.density_heatmap(elements, y=\"date_added\", x=\"date_exposure\", hover_data=['Suburb', 'Site'], \n",
    "                         template='plotly_dark', nbinsx=20, nbinsy=20, color_continuous_scale='viridis'\n",
    "                        , title = 'Exposure site counts by date added')\n",
    "fig_heat.add_vline('2021-05-27')\n",
    "fig_heat.add_hline('2021-05-27')\n",
    "fig_heat.add_annotation(x = '2021-05-27', y = '2021-05-27', text='lockdown', xanchor='left', ax=10, ay=20)\n",
    "fig_heat.update_layout(xaxis_title = \"Exposure Date\", yaxis_title='Date Added')\n"
   ]
  },
  {
   "cell_type": "code",
   "execution_count": 149,
   "metadata": {},
   "outputs": [
    {
     "data": {
      "application/vnd.plotly.v1+json": {
       "config": {
        "plotlyServerURL": "https://plot.ly"
       },
       "data": [
        {
         "alignmentgroup": "True",
         "boxpoints": "all",
         "fillcolor": "rgba(255,255,255,0)",
         "hoveron": "points",
         "hovertemplate": "date_exposure=%{y}<extra></extra>",
         "legendgroup": "",
         "line": {
          "color": "rgba(255,255,255,0)"
         },
         "marker": {
          "color": "#636efa"
         },
         "name": "",
         "offsetgroup": "",
         "orientation": "v",
         "pointpos": 0,
         "showlegend": false,
         "type": "box",
         "x0": " ",
         "xaxis": "x",
         "y": [
          "2021-05-23T00:00:00",
          "2021-05-28T00:00:00",
          "2021-05-28T00:00:00",
          "2021-05-28T00:00:00",
          "2021-05-26T00:00:00",
          "2021-05-27T00:00:00",
          "2021-05-28T00:00:00",
          "2021-05-29T00:00:00",
          "2021-05-26T00:00:00",
          "2021-05-26T00:00:00",
          "2021-05-26T00:00:00",
          "2021-05-27T00:00:00",
          "2021-05-28T00:00:00",
          "2021-05-29T00:00:00",
          "2021-05-28T00:00:00",
          "2021-05-25T00:00:00",
          "2021-05-27T00:00:00",
          "2021-05-27T00:00:00",
          "2021-05-27T00:00:00",
          "2021-05-22T00:00:00",
          "2021-05-23T00:00:00",
          "2021-05-23T00:00:00",
          "2021-05-25T00:00:00",
          "2021-05-21T00:00:00",
          "2021-05-26T00:00:00",
          "2021-05-26T00:00:00",
          "2021-05-24T00:00:00",
          "2021-05-25T00:00:00",
          "2021-05-26T00:00:00",
          "2021-05-26T00:00:00",
          "2021-05-15T00:00:00",
          "2021-05-15T00:00:00",
          "2021-05-22T00:00:00",
          "2021-05-23T00:00:00",
          "2021-05-20T00:00:00",
          "2021-05-18T00:00:00",
          "2021-05-26T00:00:00",
          "2021-05-26T00:00:00",
          "2021-05-26T00:00:00",
          "2021-05-25T00:00:00",
          "2021-05-25T00:00:00",
          "2021-05-24T00:00:00",
          "2021-05-23T00:00:00",
          "2021-05-23T00:00:00",
          "2021-05-25T00:00:00",
          "2021-05-22T00:00:00",
          "2021-05-23T00:00:00",
          "2021-05-22T00:00:00",
          "2021-05-22T00:00:00",
          "2021-05-23T00:00:00",
          "2021-05-26T00:00:00",
          "2021-05-24T00:00:00",
          "2021-05-23T00:00:00",
          "2021-05-22T00:00:00",
          "2021-05-24T00:00:00",
          "2021-05-24T00:00:00",
          "2021-05-23T00:00:00",
          "2021-05-22T00:00:00",
          "2021-05-24T00:00:00",
          "2021-05-22T00:00:00",
          "2021-05-27T00:00:00",
          "2021-05-27T00:00:00",
          "2021-05-26T00:00:00",
          "2021-05-23T00:00:00",
          "2021-05-23T00:00:00",
          "2021-05-26T00:00:00",
          "2021-05-26T00:00:00",
          "2021-05-26T00:00:00",
          "2021-05-21T00:00:00",
          "2021-05-22T00:00:00",
          "2021-05-24T00:00:00",
          "2021-05-17T00:00:00",
          "2021-05-17T00:00:00",
          "2021-05-26T00:00:00",
          "2021-05-26T00:00:00",
          "2021-05-26T00:00:00",
          "2021-05-27T00:00:00",
          "2021-05-24T00:00:00",
          "2021-05-19T00:00:00",
          "2021-05-22T00:00:00",
          "2021-05-26T00:00:00",
          "2021-05-27T00:00:00",
          "2021-05-17T00:00:00",
          "2021-05-18T00:00:00",
          "2021-05-22T00:00:00",
          "2021-05-25T00:00:00",
          "2021-05-25T00:00:00",
          "2021-05-25T00:00:00",
          "2021-05-22T00:00:00",
          "2021-05-22T00:00:00",
          "2021-05-26T00:00:00",
          "2021-05-22T00:00:00",
          "2021-05-22T00:00:00",
          "2021-05-22T00:00:00",
          "2021-05-19T00:00:00",
          "2021-05-22T00:00:00",
          "2021-05-18T00:00:00",
          "2021-05-25T00:00:00",
          "2021-05-26T00:00:00",
          "2021-05-24T00:00:00",
          "2021-05-17T00:00:00",
          "2021-05-18T00:00:00",
          "2021-05-20T00:00:00",
          "2021-05-21T00:00:00",
          "2021-05-24T00:00:00",
          "2021-05-25T00:00:00",
          "2021-05-27T00:00:00",
          "2021-05-28T00:00:00",
          "2021-05-12T00:00:00",
          "2021-05-13T00:00:00",
          "2021-05-20T00:00:00",
          "2021-05-25T00:00:00",
          "2021-05-19T00:00:00",
          "2021-05-25T00:00:00",
          "2021-05-26T00:00:00",
          "2021-05-23T00:00:00",
          "2021-05-19T00:00:00",
          "2021-05-25T00:00:00",
          "2021-05-22T00:00:00",
          "2021-05-26T00:00:00",
          "2021-05-24T00:00:00",
          "2021-05-26T00:00:00",
          "2021-05-21T00:00:00",
          "2021-05-25T00:00:00",
          "2021-05-26T00:00:00",
          "2021-05-26T00:00:00",
          "2021-05-27T00:00:00",
          "2021-05-27T00:00:00",
          "2021-05-27T00:00:00",
          "2021-05-28T00:00:00",
          "2021-05-23T00:00:00",
          "2021-05-26T00:00:00",
          "2021-05-26T00:00:00",
          "2021-05-26T00:00:00",
          "2021-05-25T00:00:00",
          "2021-05-24T00:00:00",
          "2021-05-25T00:00:00",
          "2021-05-25T00:00:00",
          "2021-05-25T00:00:00",
          "2021-05-24T00:00:00",
          "2021-05-22T00:00:00",
          "2021-05-22T00:00:00",
          "2021-05-23T00:00:00",
          "2021-05-22T00:00:00",
          "2021-05-21T00:00:00",
          "2021-05-23T00:00:00",
          "2021-05-25T00:00:00",
          "2021-05-19T00:00:00",
          "2021-05-19T00:00:00",
          "2021-05-19T00:00:00",
          "2021-05-19T00:00:00",
          "2021-05-19T00:00:00",
          "2021-05-25T00:00:00",
          "2021-05-19T00:00:00",
          "2021-05-18T00:00:00",
          "2021-05-18T00:00:00",
          "2021-05-18T00:00:00",
          "2021-05-18T00:00:00",
          "2021-05-25T00:00:00",
          "2021-05-24T00:00:00",
          "2021-05-23T00:00:00",
          "2021-05-23T00:00:00",
          "2021-05-23T00:00:00",
          "2021-05-22T00:00:00",
          "2021-05-24T00:00:00",
          "2021-05-25T00:00:00",
          "2021-05-26T00:00:00",
          "2021-05-22T00:00:00",
          "2021-05-23T00:00:00",
          "2021-05-25T00:00:00",
          "2021-05-26T00:00:00",
          "2021-05-27T00:00:00",
          "2021-05-22T00:00:00",
          "2021-05-22T00:00:00",
          "2021-05-22T00:00:00",
          "2021-05-23T00:00:00",
          "2021-05-25T00:00:00",
          "2021-05-24T00:00:00",
          "2021-05-25T00:00:00",
          "2021-05-24T00:00:00",
          "2021-05-23T00:00:00",
          "2021-05-24T00:00:00",
          "2021-05-25T00:00:00",
          "2021-05-25T00:00:00",
          "2021-05-13T00:00:00",
          "2021-05-23T00:00:00",
          "2021-05-23T00:00:00",
          "2021-05-23T00:00:00",
          "2021-05-23T00:00:00",
          "2021-05-25T00:00:00",
          "2021-05-24T00:00:00",
          "2021-05-24T00:00:00",
          "2021-05-22T00:00:00",
          "2021-05-22T00:00:00",
          "2021-05-22T00:00:00",
          "2021-05-22T00:00:00",
          "2021-05-21T00:00:00",
          "2021-05-24T00:00:00",
          "2021-05-22T00:00:00",
          "2021-05-20T00:00:00",
          "2021-05-24T00:00:00",
          "2021-05-24T00:00:00",
          "2021-05-24T00:00:00",
          "2021-05-24T00:00:00",
          "2021-05-24T00:00:00",
          "2021-05-23T00:00:00",
          "2021-05-21T00:00:00",
          "2021-05-24T00:00:00",
          "2021-05-25T00:00:00",
          "2021-05-22T00:00:00",
          "2021-05-23T00:00:00",
          "2021-05-22T00:00:00",
          "2021-05-23T00:00:00",
          "2021-05-14T00:00:00",
          "2021-05-14T00:00:00",
          "2021-05-14T00:00:00",
          "2021-05-23T00:00:00",
          "2021-05-25T00:00:00",
          "2021-05-22T00:00:00",
          "2021-05-23T00:00:00",
          "2021-05-21T00:00:00",
          "2021-05-20T00:00:00",
          "2021-05-23T00:00:00",
          "2021-05-22T00:00:00",
          "2021-05-21T00:00:00",
          "2021-05-22T00:00:00",
          "2021-05-23T00:00:00",
          "2021-05-22T00:00:00",
          "2021-05-23T00:00:00",
          "2021-05-21T00:00:00",
          "2021-05-23T00:00:00",
          "2021-05-24T00:00:00",
          "2021-05-23T00:00:00",
          "2021-05-21T00:00:00",
          "2021-05-24T00:00:00",
          "2021-05-23T00:00:00",
          "2021-05-23T00:00:00",
          "2021-05-22T00:00:00",
          "2021-05-22T00:00:00",
          "2021-05-18T00:00:00",
          "2021-05-20T00:00:00",
          "2021-05-21T00:00:00",
          "2021-05-22T00:00:00",
          "2021-05-23T00:00:00",
          "2021-05-24T00:00:00",
          "2021-05-25T00:00:00",
          "2021-05-24T00:00:00",
          "2021-05-23T00:00:00",
          "2021-05-21T00:00:00",
          "2021-05-23T00:00:00",
          "2021-05-23T00:00:00",
          "2021-05-22T00:00:00",
          "2021-05-22T00:00:00",
          "2021-05-23T00:00:00",
          "2021-05-23T00:00:00",
          "2021-05-23T00:00:00",
          "2021-05-22T00:00:00",
          "2021-05-22T00:00:00",
          "2021-05-22T00:00:00",
          "2021-05-20T00:00:00",
          "2021-05-20T00:00:00",
          "2021-05-22T00:00:00",
          "2021-05-24T00:00:00",
          "2021-05-24T00:00:00",
          "2021-05-21T00:00:00",
          "2021-05-22T00:00:00",
          "2021-05-19T00:00:00",
          "2021-05-20T00:00:00",
          "2021-05-19T00:00:00",
          "2021-05-19T00:00:00",
          "2021-05-19T00:00:00",
          "2021-05-20T00:00:00",
          "2021-05-17T00:00:00",
          "2021-05-19T00:00:00",
          "2021-05-23T00:00:00",
          "2021-05-23T00:00:00",
          "2021-05-22T00:00:00",
          "2021-05-21T00:00:00",
          "2021-05-22T00:00:00",
          "2021-05-17T00:00:00",
          "2021-05-18T00:00:00",
          "2021-05-20T00:00:00",
          "2021-05-22T00:00:00",
          "2021-05-21T00:00:00",
          "2021-05-22T00:00:00",
          "2021-05-23T00:00:00",
          "2021-05-23T00:00:00",
          "2021-05-20T00:00:00",
          "2021-05-20T00:00:00",
          "2021-05-20T00:00:00",
          "2021-05-20T00:00:00",
          "2021-05-20T00:00:00",
          "2021-05-20T00:00:00",
          "2021-05-21T00:00:00",
          "2021-05-23T00:00:00",
          "2021-05-23T00:00:00",
          "2021-05-22T00:00:00",
          "2021-05-18T00:00:00"
         ],
         "y0": " ",
         "yaxis": "y"
        }
       ],
       "layout": {
        "boxmode": "group",
        "legend": {
         "tracegroupgap": 0
        },
        "margin": {
         "t": 60
        },
        "template": {
         "data": {
          "bar": [
           {
            "error_x": {
             "color": "#f2f5fa"
            },
            "error_y": {
             "color": "#f2f5fa"
            },
            "marker": {
             "line": {
              "color": "rgb(17,17,17)",
              "width": 0.5
             }
            },
            "type": "bar"
           }
          ],
          "barpolar": [
           {
            "marker": {
             "line": {
              "color": "rgb(17,17,17)",
              "width": 0.5
             }
            },
            "type": "barpolar"
           }
          ],
          "carpet": [
           {
            "aaxis": {
             "endlinecolor": "#A2B1C6",
             "gridcolor": "#506784",
             "linecolor": "#506784",
             "minorgridcolor": "#506784",
             "startlinecolor": "#A2B1C6"
            },
            "baxis": {
             "endlinecolor": "#A2B1C6",
             "gridcolor": "#506784",
             "linecolor": "#506784",
             "minorgridcolor": "#506784",
             "startlinecolor": "#A2B1C6"
            },
            "type": "carpet"
           }
          ],
          "choropleth": [
           {
            "colorbar": {
             "outlinewidth": 0,
             "ticks": ""
            },
            "type": "choropleth"
           }
          ],
          "contour": [
           {
            "colorbar": {
             "outlinewidth": 0,
             "ticks": ""
            },
            "colorscale": [
             [
              0,
              "#0d0887"
             ],
             [
              0.1111111111111111,
              "#46039f"
             ],
             [
              0.2222222222222222,
              "#7201a8"
             ],
             [
              0.3333333333333333,
              "#9c179e"
             ],
             [
              0.4444444444444444,
              "#bd3786"
             ],
             [
              0.5555555555555556,
              "#d8576b"
             ],
             [
              0.6666666666666666,
              "#ed7953"
             ],
             [
              0.7777777777777778,
              "#fb9f3a"
             ],
             [
              0.8888888888888888,
              "#fdca26"
             ],
             [
              1,
              "#f0f921"
             ]
            ],
            "type": "contour"
           }
          ],
          "contourcarpet": [
           {
            "colorbar": {
             "outlinewidth": 0,
             "ticks": ""
            },
            "type": "contourcarpet"
           }
          ],
          "heatmap": [
           {
            "colorbar": {
             "outlinewidth": 0,
             "ticks": ""
            },
            "colorscale": [
             [
              0,
              "#0d0887"
             ],
             [
              0.1111111111111111,
              "#46039f"
             ],
             [
              0.2222222222222222,
              "#7201a8"
             ],
             [
              0.3333333333333333,
              "#9c179e"
             ],
             [
              0.4444444444444444,
              "#bd3786"
             ],
             [
              0.5555555555555556,
              "#d8576b"
             ],
             [
              0.6666666666666666,
              "#ed7953"
             ],
             [
              0.7777777777777778,
              "#fb9f3a"
             ],
             [
              0.8888888888888888,
              "#fdca26"
             ],
             [
              1,
              "#f0f921"
             ]
            ],
            "type": "heatmap"
           }
          ],
          "heatmapgl": [
           {
            "colorbar": {
             "outlinewidth": 0,
             "ticks": ""
            },
            "colorscale": [
             [
              0,
              "#0d0887"
             ],
             [
              0.1111111111111111,
              "#46039f"
             ],
             [
              0.2222222222222222,
              "#7201a8"
             ],
             [
              0.3333333333333333,
              "#9c179e"
             ],
             [
              0.4444444444444444,
              "#bd3786"
             ],
             [
              0.5555555555555556,
              "#d8576b"
             ],
             [
              0.6666666666666666,
              "#ed7953"
             ],
             [
              0.7777777777777778,
              "#fb9f3a"
             ],
             [
              0.8888888888888888,
              "#fdca26"
             ],
             [
              1,
              "#f0f921"
             ]
            ],
            "type": "heatmapgl"
           }
          ],
          "histogram": [
           {
            "marker": {
             "colorbar": {
              "outlinewidth": 0,
              "ticks": ""
             }
            },
            "type": "histogram"
           }
          ],
          "histogram2d": [
           {
            "colorbar": {
             "outlinewidth": 0,
             "ticks": ""
            },
            "colorscale": [
             [
              0,
              "#0d0887"
             ],
             [
              0.1111111111111111,
              "#46039f"
             ],
             [
              0.2222222222222222,
              "#7201a8"
             ],
             [
              0.3333333333333333,
              "#9c179e"
             ],
             [
              0.4444444444444444,
              "#bd3786"
             ],
             [
              0.5555555555555556,
              "#d8576b"
             ],
             [
              0.6666666666666666,
              "#ed7953"
             ],
             [
              0.7777777777777778,
              "#fb9f3a"
             ],
             [
              0.8888888888888888,
              "#fdca26"
             ],
             [
              1,
              "#f0f921"
             ]
            ],
            "type": "histogram2d"
           }
          ],
          "histogram2dcontour": [
           {
            "colorbar": {
             "outlinewidth": 0,
             "ticks": ""
            },
            "colorscale": [
             [
              0,
              "#0d0887"
             ],
             [
              0.1111111111111111,
              "#46039f"
             ],
             [
              0.2222222222222222,
              "#7201a8"
             ],
             [
              0.3333333333333333,
              "#9c179e"
             ],
             [
              0.4444444444444444,
              "#bd3786"
             ],
             [
              0.5555555555555556,
              "#d8576b"
             ],
             [
              0.6666666666666666,
              "#ed7953"
             ],
             [
              0.7777777777777778,
              "#fb9f3a"
             ],
             [
              0.8888888888888888,
              "#fdca26"
             ],
             [
              1,
              "#f0f921"
             ]
            ],
            "type": "histogram2dcontour"
           }
          ],
          "mesh3d": [
           {
            "colorbar": {
             "outlinewidth": 0,
             "ticks": ""
            },
            "type": "mesh3d"
           }
          ],
          "parcoords": [
           {
            "line": {
             "colorbar": {
              "outlinewidth": 0,
              "ticks": ""
             }
            },
            "type": "parcoords"
           }
          ],
          "pie": [
           {
            "automargin": true,
            "type": "pie"
           }
          ],
          "scatter": [
           {
            "marker": {
             "line": {
              "color": "#283442"
             }
            },
            "type": "scatter"
           }
          ],
          "scatter3d": [
           {
            "line": {
             "colorbar": {
              "outlinewidth": 0,
              "ticks": ""
             }
            },
            "marker": {
             "colorbar": {
              "outlinewidth": 0,
              "ticks": ""
             }
            },
            "type": "scatter3d"
           }
          ],
          "scattercarpet": [
           {
            "marker": {
             "colorbar": {
              "outlinewidth": 0,
              "ticks": ""
             }
            },
            "type": "scattercarpet"
           }
          ],
          "scattergeo": [
           {
            "marker": {
             "colorbar": {
              "outlinewidth": 0,
              "ticks": ""
             }
            },
            "type": "scattergeo"
           }
          ],
          "scattergl": [
           {
            "marker": {
             "line": {
              "color": "#283442"
             }
            },
            "type": "scattergl"
           }
          ],
          "scattermapbox": [
           {
            "marker": {
             "colorbar": {
              "outlinewidth": 0,
              "ticks": ""
             }
            },
            "type": "scattermapbox"
           }
          ],
          "scatterpolar": [
           {
            "marker": {
             "colorbar": {
              "outlinewidth": 0,
              "ticks": ""
             }
            },
            "type": "scatterpolar"
           }
          ],
          "scatterpolargl": [
           {
            "marker": {
             "colorbar": {
              "outlinewidth": 0,
              "ticks": ""
             }
            },
            "type": "scatterpolargl"
           }
          ],
          "scatterternary": [
           {
            "marker": {
             "colorbar": {
              "outlinewidth": 0,
              "ticks": ""
             }
            },
            "type": "scatterternary"
           }
          ],
          "surface": [
           {
            "colorbar": {
             "outlinewidth": 0,
             "ticks": ""
            },
            "colorscale": [
             [
              0,
              "#0d0887"
             ],
             [
              0.1111111111111111,
              "#46039f"
             ],
             [
              0.2222222222222222,
              "#7201a8"
             ],
             [
              0.3333333333333333,
              "#9c179e"
             ],
             [
              0.4444444444444444,
              "#bd3786"
             ],
             [
              0.5555555555555556,
              "#d8576b"
             ],
             [
              0.6666666666666666,
              "#ed7953"
             ],
             [
              0.7777777777777778,
              "#fb9f3a"
             ],
             [
              0.8888888888888888,
              "#fdca26"
             ],
             [
              1,
              "#f0f921"
             ]
            ],
            "type": "surface"
           }
          ],
          "table": [
           {
            "cells": {
             "fill": {
              "color": "#506784"
             },
             "line": {
              "color": "rgb(17,17,17)"
             }
            },
            "header": {
             "fill": {
              "color": "#2a3f5f"
             },
             "line": {
              "color": "rgb(17,17,17)"
             }
            },
            "type": "table"
           }
          ]
         },
         "layout": {
          "annotationdefaults": {
           "arrowcolor": "#f2f5fa",
           "arrowhead": 0,
           "arrowwidth": 1
          },
          "autotypenumbers": "strict",
          "coloraxis": {
           "colorbar": {
            "outlinewidth": 0,
            "ticks": ""
           }
          },
          "colorscale": {
           "diverging": [
            [
             0,
             "#8e0152"
            ],
            [
             0.1,
             "#c51b7d"
            ],
            [
             0.2,
             "#de77ae"
            ],
            [
             0.3,
             "#f1b6da"
            ],
            [
             0.4,
             "#fde0ef"
            ],
            [
             0.5,
             "#f7f7f7"
            ],
            [
             0.6,
             "#e6f5d0"
            ],
            [
             0.7,
             "#b8e186"
            ],
            [
             0.8,
             "#7fbc41"
            ],
            [
             0.9,
             "#4d9221"
            ],
            [
             1,
             "#276419"
            ]
           ],
           "sequential": [
            [
             0,
             "#0d0887"
            ],
            [
             0.1111111111111111,
             "#46039f"
            ],
            [
             0.2222222222222222,
             "#7201a8"
            ],
            [
             0.3333333333333333,
             "#9c179e"
            ],
            [
             0.4444444444444444,
             "#bd3786"
            ],
            [
             0.5555555555555556,
             "#d8576b"
            ],
            [
             0.6666666666666666,
             "#ed7953"
            ],
            [
             0.7777777777777778,
             "#fb9f3a"
            ],
            [
             0.8888888888888888,
             "#fdca26"
            ],
            [
             1,
             "#f0f921"
            ]
           ],
           "sequentialminus": [
            [
             0,
             "#0d0887"
            ],
            [
             0.1111111111111111,
             "#46039f"
            ],
            [
             0.2222222222222222,
             "#7201a8"
            ],
            [
             0.3333333333333333,
             "#9c179e"
            ],
            [
             0.4444444444444444,
             "#bd3786"
            ],
            [
             0.5555555555555556,
             "#d8576b"
            ],
            [
             0.6666666666666666,
             "#ed7953"
            ],
            [
             0.7777777777777778,
             "#fb9f3a"
            ],
            [
             0.8888888888888888,
             "#fdca26"
            ],
            [
             1,
             "#f0f921"
            ]
           ]
          },
          "colorway": [
           "#636efa",
           "#EF553B",
           "#00cc96",
           "#ab63fa",
           "#FFA15A",
           "#19d3f3",
           "#FF6692",
           "#B6E880",
           "#FF97FF",
           "#FECB52"
          ],
          "font": {
           "color": "#f2f5fa"
          },
          "geo": {
           "bgcolor": "rgb(17,17,17)",
           "lakecolor": "rgb(17,17,17)",
           "landcolor": "rgb(17,17,17)",
           "showlakes": true,
           "showland": true,
           "subunitcolor": "#506784"
          },
          "hoverlabel": {
           "align": "left"
          },
          "hovermode": "closest",
          "mapbox": {
           "style": "dark"
          },
          "paper_bgcolor": "rgb(17,17,17)",
          "plot_bgcolor": "rgb(17,17,17)",
          "polar": {
           "angularaxis": {
            "gridcolor": "#506784",
            "linecolor": "#506784",
            "ticks": ""
           },
           "bgcolor": "rgb(17,17,17)",
           "radialaxis": {
            "gridcolor": "#506784",
            "linecolor": "#506784",
            "ticks": ""
           }
          },
          "scene": {
           "xaxis": {
            "backgroundcolor": "rgb(17,17,17)",
            "gridcolor": "#506784",
            "gridwidth": 2,
            "linecolor": "#506784",
            "showbackground": true,
            "ticks": "",
            "zerolinecolor": "#C8D4E3"
           },
           "yaxis": {
            "backgroundcolor": "rgb(17,17,17)",
            "gridcolor": "#506784",
            "gridwidth": 2,
            "linecolor": "#506784",
            "showbackground": true,
            "ticks": "",
            "zerolinecolor": "#C8D4E3"
           },
           "zaxis": {
            "backgroundcolor": "rgb(17,17,17)",
            "gridcolor": "#506784",
            "gridwidth": 2,
            "linecolor": "#506784",
            "showbackground": true,
            "ticks": "",
            "zerolinecolor": "#C8D4E3"
           }
          },
          "shapedefaults": {
           "line": {
            "color": "#f2f5fa"
           }
          },
          "sliderdefaults": {
           "bgcolor": "#C8D4E3",
           "bordercolor": "rgb(17,17,17)",
           "borderwidth": 1,
           "tickwidth": 0
          },
          "ternary": {
           "aaxis": {
            "gridcolor": "#506784",
            "linecolor": "#506784",
            "ticks": ""
           },
           "baxis": {
            "gridcolor": "#506784",
            "linecolor": "#506784",
            "ticks": ""
           },
           "bgcolor": "rgb(17,17,17)",
           "caxis": {
            "gridcolor": "#506784",
            "linecolor": "#506784",
            "ticks": ""
           }
          },
          "title": {
           "x": 0.05
          },
          "updatemenudefaults": {
           "bgcolor": "#506784",
           "borderwidth": 0
          },
          "xaxis": {
           "automargin": true,
           "gridcolor": "#283442",
           "linecolor": "#506784",
           "ticks": "",
           "title": {
            "standoff": 15
           },
           "zerolinecolor": "#283442",
           "zerolinewidth": 2
          },
          "yaxis": {
           "automargin": true,
           "gridcolor": "#283442",
           "linecolor": "#506784",
           "ticks": "",
           "title": {
            "standoff": 15
           },
           "zerolinecolor": "#283442",
           "zerolinewidth": 2
          }
         }
        },
        "xaxis": {
         "anchor": "y",
         "domain": [
          0,
          1
         ]
        },
        "yaxis": {
         "anchor": "x",
         "domain": [
          0,
          1
         ],
         "title": {
          "text": "date_exposure"
         }
        }
       }
      },
      "text/html": [
       "<div>                            <div id=\"ec6ce830-0f23-46ea-b567-11a7d2b9c433\" class=\"plotly-graph-div\" style=\"height:525px; width:100%;\"></div>            <script type=\"text/javascript\">                require([\"plotly\"], function(Plotly) {                    window.PLOTLYENV=window.PLOTLYENV || {};                                    if (document.getElementById(\"ec6ce830-0f23-46ea-b567-11a7d2b9c433\")) {                    Plotly.newPlot(                        \"ec6ce830-0f23-46ea-b567-11a7d2b9c433\",                        [{\"alignmentgroup\": \"True\", \"boxpoints\": \"all\", \"fillcolor\": \"rgba(255,255,255,0)\", \"hoveron\": \"points\", \"hovertemplate\": \"date_exposure=%{y}<extra></extra>\", \"legendgroup\": \"\", \"line\": {\"color\": \"rgba(255,255,255,0)\"}, \"marker\": {\"color\": \"#636efa\"}, \"name\": \"\", \"offsetgroup\": \"\", \"orientation\": \"v\", \"pointpos\": 0, \"showlegend\": false, \"type\": \"box\", \"x0\": \" \", \"xaxis\": \"x\", \"y\": [\"2021-05-23T00:00:00\", \"2021-05-28T00:00:00\", \"2021-05-28T00:00:00\", \"2021-05-28T00:00:00\", \"2021-05-26T00:00:00\", \"2021-05-27T00:00:00\", \"2021-05-28T00:00:00\", \"2021-05-29T00:00:00\", \"2021-05-26T00:00:00\", \"2021-05-26T00:00:00\", \"2021-05-26T00:00:00\", \"2021-05-27T00:00:00\", \"2021-05-28T00:00:00\", \"2021-05-29T00:00:00\", \"2021-05-28T00:00:00\", \"2021-05-25T00:00:00\", \"2021-05-27T00:00:00\", \"2021-05-27T00:00:00\", \"2021-05-27T00:00:00\", \"2021-05-22T00:00:00\", \"2021-05-23T00:00:00\", \"2021-05-23T00:00:00\", \"2021-05-25T00:00:00\", \"2021-05-21T00:00:00\", \"2021-05-26T00:00:00\", \"2021-05-26T00:00:00\", \"2021-05-24T00:00:00\", \"2021-05-25T00:00:00\", \"2021-05-26T00:00:00\", \"2021-05-26T00:00:00\", \"2021-05-15T00:00:00\", \"2021-05-15T00:00:00\", \"2021-05-22T00:00:00\", \"2021-05-23T00:00:00\", \"2021-05-20T00:00:00\", \"2021-05-18T00:00:00\", \"2021-05-26T00:00:00\", \"2021-05-26T00:00:00\", \"2021-05-26T00:00:00\", \"2021-05-25T00:00:00\", \"2021-05-25T00:00:00\", \"2021-05-24T00:00:00\", \"2021-05-23T00:00:00\", \"2021-05-23T00:00:00\", \"2021-05-25T00:00:00\", \"2021-05-22T00:00:00\", \"2021-05-23T00:00:00\", \"2021-05-22T00:00:00\", \"2021-05-22T00:00:00\", \"2021-05-23T00:00:00\", \"2021-05-26T00:00:00\", \"2021-05-24T00:00:00\", \"2021-05-23T00:00:00\", \"2021-05-22T00:00:00\", \"2021-05-24T00:00:00\", \"2021-05-24T00:00:00\", \"2021-05-23T00:00:00\", \"2021-05-22T00:00:00\", \"2021-05-24T00:00:00\", \"2021-05-22T00:00:00\", \"2021-05-27T00:00:00\", \"2021-05-27T00:00:00\", \"2021-05-26T00:00:00\", \"2021-05-23T00:00:00\", \"2021-05-23T00:00:00\", \"2021-05-26T00:00:00\", \"2021-05-26T00:00:00\", \"2021-05-26T00:00:00\", \"2021-05-21T00:00:00\", \"2021-05-22T00:00:00\", \"2021-05-24T00:00:00\", \"2021-05-17T00:00:00\", \"2021-05-17T00:00:00\", \"2021-05-26T00:00:00\", \"2021-05-26T00:00:00\", \"2021-05-26T00:00:00\", \"2021-05-27T00:00:00\", \"2021-05-24T00:00:00\", \"2021-05-19T00:00:00\", \"2021-05-22T00:00:00\", \"2021-05-26T00:00:00\", \"2021-05-27T00:00:00\", \"2021-05-17T00:00:00\", \"2021-05-18T00:00:00\", \"2021-05-22T00:00:00\", \"2021-05-25T00:00:00\", \"2021-05-25T00:00:00\", \"2021-05-25T00:00:00\", \"2021-05-22T00:00:00\", \"2021-05-22T00:00:00\", \"2021-05-26T00:00:00\", \"2021-05-22T00:00:00\", \"2021-05-22T00:00:00\", \"2021-05-22T00:00:00\", \"2021-05-19T00:00:00\", \"2021-05-22T00:00:00\", \"2021-05-18T00:00:00\", \"2021-05-25T00:00:00\", \"2021-05-26T00:00:00\", \"2021-05-24T00:00:00\", \"2021-05-17T00:00:00\", \"2021-05-18T00:00:00\", \"2021-05-20T00:00:00\", \"2021-05-21T00:00:00\", \"2021-05-24T00:00:00\", \"2021-05-25T00:00:00\", \"2021-05-27T00:00:00\", \"2021-05-28T00:00:00\", \"2021-05-12T00:00:00\", \"2021-05-13T00:00:00\", \"2021-05-20T00:00:00\", \"2021-05-25T00:00:00\", \"2021-05-19T00:00:00\", \"2021-05-25T00:00:00\", \"2021-05-26T00:00:00\", \"2021-05-23T00:00:00\", \"2021-05-19T00:00:00\", \"2021-05-25T00:00:00\", \"2021-05-22T00:00:00\", \"2021-05-26T00:00:00\", \"2021-05-24T00:00:00\", \"2021-05-26T00:00:00\", \"2021-05-21T00:00:00\", \"2021-05-25T00:00:00\", \"2021-05-26T00:00:00\", \"2021-05-26T00:00:00\", \"2021-05-27T00:00:00\", \"2021-05-27T00:00:00\", \"2021-05-27T00:00:00\", \"2021-05-28T00:00:00\", \"2021-05-23T00:00:00\", \"2021-05-26T00:00:00\", \"2021-05-26T00:00:00\", \"2021-05-26T00:00:00\", \"2021-05-25T00:00:00\", \"2021-05-24T00:00:00\", \"2021-05-25T00:00:00\", \"2021-05-25T00:00:00\", \"2021-05-25T00:00:00\", \"2021-05-24T00:00:00\", \"2021-05-22T00:00:00\", \"2021-05-22T00:00:00\", \"2021-05-23T00:00:00\", \"2021-05-22T00:00:00\", \"2021-05-21T00:00:00\", \"2021-05-23T00:00:00\", \"2021-05-25T00:00:00\", \"2021-05-19T00:00:00\", \"2021-05-19T00:00:00\", \"2021-05-19T00:00:00\", \"2021-05-19T00:00:00\", \"2021-05-19T00:00:00\", \"2021-05-25T00:00:00\", \"2021-05-19T00:00:00\", \"2021-05-18T00:00:00\", \"2021-05-18T00:00:00\", \"2021-05-18T00:00:00\", \"2021-05-18T00:00:00\", \"2021-05-25T00:00:00\", \"2021-05-24T00:00:00\", \"2021-05-23T00:00:00\", \"2021-05-23T00:00:00\", \"2021-05-23T00:00:00\", \"2021-05-22T00:00:00\", \"2021-05-24T00:00:00\", \"2021-05-25T00:00:00\", \"2021-05-26T00:00:00\", \"2021-05-22T00:00:00\", \"2021-05-23T00:00:00\", \"2021-05-25T00:00:00\", \"2021-05-26T00:00:00\", \"2021-05-27T00:00:00\", \"2021-05-22T00:00:00\", \"2021-05-22T00:00:00\", \"2021-05-22T00:00:00\", \"2021-05-23T00:00:00\", \"2021-05-25T00:00:00\", \"2021-05-24T00:00:00\", \"2021-05-25T00:00:00\", \"2021-05-24T00:00:00\", \"2021-05-23T00:00:00\", \"2021-05-24T00:00:00\", \"2021-05-25T00:00:00\", \"2021-05-25T00:00:00\", \"2021-05-13T00:00:00\", \"2021-05-23T00:00:00\", \"2021-05-23T00:00:00\", \"2021-05-23T00:00:00\", \"2021-05-23T00:00:00\", \"2021-05-25T00:00:00\", \"2021-05-24T00:00:00\", \"2021-05-24T00:00:00\", \"2021-05-22T00:00:00\", \"2021-05-22T00:00:00\", \"2021-05-22T00:00:00\", \"2021-05-22T00:00:00\", \"2021-05-21T00:00:00\", \"2021-05-24T00:00:00\", \"2021-05-22T00:00:00\", \"2021-05-20T00:00:00\", \"2021-05-24T00:00:00\", \"2021-05-24T00:00:00\", \"2021-05-24T00:00:00\", \"2021-05-24T00:00:00\", \"2021-05-24T00:00:00\", \"2021-05-23T00:00:00\", \"2021-05-21T00:00:00\", \"2021-05-24T00:00:00\", \"2021-05-25T00:00:00\", \"2021-05-22T00:00:00\", \"2021-05-23T00:00:00\", \"2021-05-22T00:00:00\", \"2021-05-23T00:00:00\", \"2021-05-14T00:00:00\", \"2021-05-14T00:00:00\", \"2021-05-14T00:00:00\", \"2021-05-23T00:00:00\", \"2021-05-25T00:00:00\", \"2021-05-22T00:00:00\", \"2021-05-23T00:00:00\", \"2021-05-21T00:00:00\", \"2021-05-20T00:00:00\", \"2021-05-23T00:00:00\", \"2021-05-22T00:00:00\", \"2021-05-21T00:00:00\", \"2021-05-22T00:00:00\", \"2021-05-23T00:00:00\", \"2021-05-22T00:00:00\", \"2021-05-23T00:00:00\", \"2021-05-21T00:00:00\", \"2021-05-23T00:00:00\", \"2021-05-24T00:00:00\", \"2021-05-23T00:00:00\", \"2021-05-21T00:00:00\", \"2021-05-24T00:00:00\", \"2021-05-23T00:00:00\", \"2021-05-23T00:00:00\", \"2021-05-22T00:00:00\", \"2021-05-22T00:00:00\", \"2021-05-18T00:00:00\", \"2021-05-20T00:00:00\", \"2021-05-21T00:00:00\", \"2021-05-22T00:00:00\", \"2021-05-23T00:00:00\", \"2021-05-24T00:00:00\", \"2021-05-25T00:00:00\", \"2021-05-24T00:00:00\", \"2021-05-23T00:00:00\", \"2021-05-21T00:00:00\", \"2021-05-23T00:00:00\", \"2021-05-23T00:00:00\", \"2021-05-22T00:00:00\", \"2021-05-22T00:00:00\", \"2021-05-23T00:00:00\", \"2021-05-23T00:00:00\", \"2021-05-23T00:00:00\", \"2021-05-22T00:00:00\", \"2021-05-22T00:00:00\", \"2021-05-22T00:00:00\", \"2021-05-20T00:00:00\", \"2021-05-20T00:00:00\", \"2021-05-22T00:00:00\", \"2021-05-24T00:00:00\", \"2021-05-24T00:00:00\", \"2021-05-21T00:00:00\", \"2021-05-22T00:00:00\", \"2021-05-19T00:00:00\", \"2021-05-20T00:00:00\", \"2021-05-19T00:00:00\", \"2021-05-19T00:00:00\", \"2021-05-19T00:00:00\", \"2021-05-20T00:00:00\", \"2021-05-17T00:00:00\", \"2021-05-19T00:00:00\", \"2021-05-23T00:00:00\", \"2021-05-23T00:00:00\", \"2021-05-22T00:00:00\", \"2021-05-21T00:00:00\", \"2021-05-22T00:00:00\", \"2021-05-17T00:00:00\", \"2021-05-18T00:00:00\", \"2021-05-20T00:00:00\", \"2021-05-22T00:00:00\", \"2021-05-21T00:00:00\", \"2021-05-22T00:00:00\", \"2021-05-23T00:00:00\", \"2021-05-23T00:00:00\", \"2021-05-20T00:00:00\", \"2021-05-20T00:00:00\", \"2021-05-20T00:00:00\", \"2021-05-20T00:00:00\", \"2021-05-20T00:00:00\", \"2021-05-20T00:00:00\", \"2021-05-21T00:00:00\", \"2021-05-23T00:00:00\", \"2021-05-23T00:00:00\", \"2021-05-22T00:00:00\", \"2021-05-18T00:00:00\"], \"y0\": \" \", \"yaxis\": \"y\"}],                        {\"boxmode\": \"group\", \"legend\": {\"tracegroupgap\": 0}, \"margin\": {\"t\": 60}, \"template\": {\"data\": {\"bar\": [{\"error_x\": {\"color\": \"#f2f5fa\"}, \"error_y\": {\"color\": \"#f2f5fa\"}, \"marker\": {\"line\": {\"color\": \"rgb(17,17,17)\", \"width\": 0.5}}, \"type\": \"bar\"}], \"barpolar\": [{\"marker\": {\"line\": {\"color\": \"rgb(17,17,17)\", \"width\": 0.5}}, \"type\": \"barpolar\"}], \"carpet\": [{\"aaxis\": {\"endlinecolor\": \"#A2B1C6\", \"gridcolor\": \"#506784\", \"linecolor\": \"#506784\", \"minorgridcolor\": \"#506784\", \"startlinecolor\": \"#A2B1C6\"}, \"baxis\": {\"endlinecolor\": \"#A2B1C6\", \"gridcolor\": \"#506784\", \"linecolor\": \"#506784\", \"minorgridcolor\": \"#506784\", \"startlinecolor\": \"#A2B1C6\"}, \"type\": \"carpet\"}], \"choropleth\": [{\"colorbar\": {\"outlinewidth\": 0, \"ticks\": \"\"}, \"type\": \"choropleth\"}], \"contour\": [{\"colorbar\": {\"outlinewidth\": 0, \"ticks\": \"\"}, \"colorscale\": [[0.0, \"#0d0887\"], [0.1111111111111111, \"#46039f\"], [0.2222222222222222, \"#7201a8\"], [0.3333333333333333, \"#9c179e\"], [0.4444444444444444, \"#bd3786\"], [0.5555555555555556, \"#d8576b\"], [0.6666666666666666, \"#ed7953\"], [0.7777777777777778, \"#fb9f3a\"], [0.8888888888888888, \"#fdca26\"], [1.0, \"#f0f921\"]], \"type\": \"contour\"}], \"contourcarpet\": [{\"colorbar\": {\"outlinewidth\": 0, \"ticks\": \"\"}, \"type\": \"contourcarpet\"}], \"heatmap\": [{\"colorbar\": {\"outlinewidth\": 0, \"ticks\": \"\"}, \"colorscale\": [[0.0, \"#0d0887\"], [0.1111111111111111, \"#46039f\"], [0.2222222222222222, \"#7201a8\"], [0.3333333333333333, \"#9c179e\"], [0.4444444444444444, \"#bd3786\"], [0.5555555555555556, \"#d8576b\"], [0.6666666666666666, \"#ed7953\"], [0.7777777777777778, \"#fb9f3a\"], [0.8888888888888888, \"#fdca26\"], [1.0, \"#f0f921\"]], \"type\": \"heatmap\"}], \"heatmapgl\": [{\"colorbar\": {\"outlinewidth\": 0, \"ticks\": \"\"}, \"colorscale\": [[0.0, \"#0d0887\"], [0.1111111111111111, \"#46039f\"], [0.2222222222222222, \"#7201a8\"], [0.3333333333333333, \"#9c179e\"], [0.4444444444444444, \"#bd3786\"], [0.5555555555555556, \"#d8576b\"], [0.6666666666666666, \"#ed7953\"], [0.7777777777777778, \"#fb9f3a\"], [0.8888888888888888, \"#fdca26\"], [1.0, \"#f0f921\"]], \"type\": \"heatmapgl\"}], \"histogram\": [{\"marker\": {\"colorbar\": {\"outlinewidth\": 0, \"ticks\": \"\"}}, \"type\": \"histogram\"}], \"histogram2d\": [{\"colorbar\": {\"outlinewidth\": 0, \"ticks\": \"\"}, \"colorscale\": [[0.0, \"#0d0887\"], [0.1111111111111111, \"#46039f\"], [0.2222222222222222, \"#7201a8\"], [0.3333333333333333, \"#9c179e\"], [0.4444444444444444, \"#bd3786\"], [0.5555555555555556, \"#d8576b\"], [0.6666666666666666, \"#ed7953\"], [0.7777777777777778, \"#fb9f3a\"], [0.8888888888888888, \"#fdca26\"], [1.0, \"#f0f921\"]], \"type\": \"histogram2d\"}], \"histogram2dcontour\": [{\"colorbar\": {\"outlinewidth\": 0, \"ticks\": \"\"}, \"colorscale\": [[0.0, \"#0d0887\"], [0.1111111111111111, \"#46039f\"], [0.2222222222222222, \"#7201a8\"], [0.3333333333333333, \"#9c179e\"], [0.4444444444444444, \"#bd3786\"], [0.5555555555555556, \"#d8576b\"], [0.6666666666666666, \"#ed7953\"], [0.7777777777777778, \"#fb9f3a\"], [0.8888888888888888, \"#fdca26\"], [1.0, \"#f0f921\"]], \"type\": \"histogram2dcontour\"}], \"mesh3d\": [{\"colorbar\": {\"outlinewidth\": 0, \"ticks\": \"\"}, \"type\": \"mesh3d\"}], \"parcoords\": [{\"line\": {\"colorbar\": {\"outlinewidth\": 0, \"ticks\": \"\"}}, \"type\": \"parcoords\"}], \"pie\": [{\"automargin\": true, \"type\": \"pie\"}], \"scatter\": [{\"marker\": {\"line\": {\"color\": \"#283442\"}}, \"type\": \"scatter\"}], \"scatter3d\": [{\"line\": {\"colorbar\": {\"outlinewidth\": 0, \"ticks\": \"\"}}, \"marker\": {\"colorbar\": {\"outlinewidth\": 0, \"ticks\": \"\"}}, \"type\": \"scatter3d\"}], \"scattercarpet\": [{\"marker\": {\"colorbar\": {\"outlinewidth\": 0, \"ticks\": \"\"}}, \"type\": \"scattercarpet\"}], \"scattergeo\": [{\"marker\": {\"colorbar\": {\"outlinewidth\": 0, \"ticks\": \"\"}}, \"type\": \"scattergeo\"}], \"scattergl\": [{\"marker\": {\"line\": {\"color\": \"#283442\"}}, \"type\": \"scattergl\"}], \"scattermapbox\": [{\"marker\": {\"colorbar\": {\"outlinewidth\": 0, \"ticks\": \"\"}}, \"type\": \"scattermapbox\"}], \"scatterpolar\": [{\"marker\": {\"colorbar\": {\"outlinewidth\": 0, \"ticks\": \"\"}}, \"type\": \"scatterpolar\"}], \"scatterpolargl\": [{\"marker\": {\"colorbar\": {\"outlinewidth\": 0, \"ticks\": \"\"}}, \"type\": \"scatterpolargl\"}], \"scatterternary\": [{\"marker\": {\"colorbar\": {\"outlinewidth\": 0, \"ticks\": \"\"}}, \"type\": \"scatterternary\"}], \"surface\": [{\"colorbar\": {\"outlinewidth\": 0, \"ticks\": \"\"}, \"colorscale\": [[0.0, \"#0d0887\"], [0.1111111111111111, \"#46039f\"], [0.2222222222222222, \"#7201a8\"], [0.3333333333333333, \"#9c179e\"], [0.4444444444444444, \"#bd3786\"], [0.5555555555555556, \"#d8576b\"], [0.6666666666666666, \"#ed7953\"], [0.7777777777777778, \"#fb9f3a\"], [0.8888888888888888, \"#fdca26\"], [1.0, \"#f0f921\"]], \"type\": \"surface\"}], \"table\": [{\"cells\": {\"fill\": {\"color\": \"#506784\"}, \"line\": {\"color\": \"rgb(17,17,17)\"}}, \"header\": {\"fill\": {\"color\": \"#2a3f5f\"}, \"line\": {\"color\": \"rgb(17,17,17)\"}}, \"type\": \"table\"}]}, \"layout\": {\"annotationdefaults\": {\"arrowcolor\": \"#f2f5fa\", \"arrowhead\": 0, \"arrowwidth\": 1}, \"autotypenumbers\": \"strict\", \"coloraxis\": {\"colorbar\": {\"outlinewidth\": 0, \"ticks\": \"\"}}, \"colorscale\": {\"diverging\": [[0, \"#8e0152\"], [0.1, \"#c51b7d\"], [0.2, \"#de77ae\"], [0.3, \"#f1b6da\"], [0.4, \"#fde0ef\"], [0.5, \"#f7f7f7\"], [0.6, \"#e6f5d0\"], [0.7, \"#b8e186\"], [0.8, \"#7fbc41\"], [0.9, \"#4d9221\"], [1, \"#276419\"]], \"sequential\": [[0.0, \"#0d0887\"], [0.1111111111111111, \"#46039f\"], [0.2222222222222222, \"#7201a8\"], [0.3333333333333333, \"#9c179e\"], [0.4444444444444444, \"#bd3786\"], [0.5555555555555556, \"#d8576b\"], [0.6666666666666666, \"#ed7953\"], [0.7777777777777778, \"#fb9f3a\"], [0.8888888888888888, \"#fdca26\"], [1.0, \"#f0f921\"]], \"sequentialminus\": [[0.0, \"#0d0887\"], [0.1111111111111111, \"#46039f\"], [0.2222222222222222, \"#7201a8\"], [0.3333333333333333, \"#9c179e\"], [0.4444444444444444, \"#bd3786\"], [0.5555555555555556, \"#d8576b\"], [0.6666666666666666, \"#ed7953\"], [0.7777777777777778, \"#fb9f3a\"], [0.8888888888888888, \"#fdca26\"], [1.0, \"#f0f921\"]]}, \"colorway\": [\"#636efa\", \"#EF553B\", \"#00cc96\", \"#ab63fa\", \"#FFA15A\", \"#19d3f3\", \"#FF6692\", \"#B6E880\", \"#FF97FF\", \"#FECB52\"], \"font\": {\"color\": \"#f2f5fa\"}, \"geo\": {\"bgcolor\": \"rgb(17,17,17)\", \"lakecolor\": \"rgb(17,17,17)\", \"landcolor\": \"rgb(17,17,17)\", \"showlakes\": true, \"showland\": true, \"subunitcolor\": \"#506784\"}, \"hoverlabel\": {\"align\": \"left\"}, \"hovermode\": \"closest\", \"mapbox\": {\"style\": \"dark\"}, \"paper_bgcolor\": \"rgb(17,17,17)\", \"plot_bgcolor\": \"rgb(17,17,17)\", \"polar\": {\"angularaxis\": {\"gridcolor\": \"#506784\", \"linecolor\": \"#506784\", \"ticks\": \"\"}, \"bgcolor\": \"rgb(17,17,17)\", \"radialaxis\": {\"gridcolor\": \"#506784\", \"linecolor\": \"#506784\", \"ticks\": \"\"}}, \"scene\": {\"xaxis\": {\"backgroundcolor\": \"rgb(17,17,17)\", \"gridcolor\": \"#506784\", \"gridwidth\": 2, \"linecolor\": \"#506784\", \"showbackground\": true, \"ticks\": \"\", \"zerolinecolor\": \"#C8D4E3\"}, \"yaxis\": {\"backgroundcolor\": \"rgb(17,17,17)\", \"gridcolor\": \"#506784\", \"gridwidth\": 2, \"linecolor\": \"#506784\", \"showbackground\": true, \"ticks\": \"\", \"zerolinecolor\": \"#C8D4E3\"}, \"zaxis\": {\"backgroundcolor\": \"rgb(17,17,17)\", \"gridcolor\": \"#506784\", \"gridwidth\": 2, \"linecolor\": \"#506784\", \"showbackground\": true, \"ticks\": \"\", \"zerolinecolor\": \"#C8D4E3\"}}, \"shapedefaults\": {\"line\": {\"color\": \"#f2f5fa\"}}, \"sliderdefaults\": {\"bgcolor\": \"#C8D4E3\", \"bordercolor\": \"rgb(17,17,17)\", \"borderwidth\": 1, \"tickwidth\": 0}, \"ternary\": {\"aaxis\": {\"gridcolor\": \"#506784\", \"linecolor\": \"#506784\", \"ticks\": \"\"}, \"baxis\": {\"gridcolor\": \"#506784\", \"linecolor\": \"#506784\", \"ticks\": \"\"}, \"bgcolor\": \"rgb(17,17,17)\", \"caxis\": {\"gridcolor\": \"#506784\", \"linecolor\": \"#506784\", \"ticks\": \"\"}}, \"title\": {\"x\": 0.05}, \"updatemenudefaults\": {\"bgcolor\": \"#506784\", \"borderwidth\": 0}, \"xaxis\": {\"automargin\": true, \"gridcolor\": \"#283442\", \"linecolor\": \"#506784\", \"ticks\": \"\", \"title\": {\"standoff\": 15}, \"zerolinecolor\": \"#283442\", \"zerolinewidth\": 2}, \"yaxis\": {\"automargin\": true, \"gridcolor\": \"#283442\", \"linecolor\": \"#506784\", \"ticks\": \"\", \"title\": {\"standoff\": 15}, \"zerolinecolor\": \"#283442\", \"zerolinewidth\": 2}}}, \"xaxis\": {\"anchor\": \"y\", \"domain\": [0.0, 1.0]}, \"yaxis\": {\"anchor\": \"x\", \"domain\": [0.0, 1.0], \"title\": {\"text\": \"date_exposure\"}}},                        {\"responsive\": true}                    ).then(function(){\n",
       "                            \n",
       "var gd = document.getElementById('ec6ce830-0f23-46ea-b567-11a7d2b9c433');\n",
       "var x = new MutationObserver(function (mutations, observer) {{\n",
       "        var display = window.getComputedStyle(gd).display;\n",
       "        if (!display || display === 'none') {{\n",
       "            console.log([gd, 'removed!']);\n",
       "            Plotly.purge(gd);\n",
       "            observer.disconnect();\n",
       "        }}\n",
       "}});\n",
       "\n",
       "// Listen for the removal of the full notebook cells\n",
       "var notebookContainer = gd.closest('#notebook-container');\n",
       "if (notebookContainer) {{\n",
       "    x.observe(notebookContainer, {childList: true});\n",
       "}}\n",
       "\n",
       "// Listen for the clearing of the current output cell\n",
       "var outputEl = gd.closest('.output');\n",
       "if (outputEl) {{\n",
       "    x.observe(outputEl, {childList: true});\n",
       "}}\n",
       "\n",
       "                        })                };                });            </script>        </div>"
      ]
     },
     "metadata": {},
     "output_type": "display_data"
    }
   ],
   "source": [
    "px.strip(elements, y=\"date_exposure\", template='plotly_dark')"
   ]
  },
  {
   "cell_type": "code",
   "execution_count": 150,
   "metadata": {},
   "outputs": [],
   "source": [
    "elements['date_delay'] = elements.date_added - elements.date_exposure"
   ]
  },
  {
   "cell_type": "code",
   "execution_count": 151,
   "metadata": {},
   "outputs": [],
   "source": [
    "elements.date_delay = elements.date_delay.dt.days"
   ]
  },
  {
   "cell_type": "code",
   "execution_count": 152,
   "metadata": {},
   "outputs": [
    {
     "data": {
      "application/vnd.plotly.v1+json": {
       "config": {
        "plotlyServerURL": "https://plot.ly"
       },
       "data": [
        {
         "alignmentgroup": "True",
         "bingroup": "x",
         "hovertemplate": "date_delay=%{x}<br>count=%{y}<extra></extra>",
         "legendgroup": "",
         "marker": {
          "color": "#636efa"
         },
         "name": "",
         "offsetgroup": "",
         "orientation": "v",
         "showlegend": false,
         "type": "histogram",
         "x": [
          9,
          4,
          4,
          4,
          5,
          4,
          3,
          2,
          5,
          5,
          5,
          4,
          3,
          2,
          3,
          6,
          4,
          4,
          4,
          9,
          8,
          8,
          6,
          10,
          5,
          5,
          6,
          5,
          4,
          4,
          15,
          15,
          8,
          7,
          10,
          12,
          4,
          4,
          4,
          5,
          5,
          6,
          7,
          7,
          5,
          8,
          7,
          8,
          8,
          7,
          4,
          6,
          7,
          8,
          6,
          6,
          7,
          8,
          6,
          8,
          3,
          3,
          4,
          7,
          7,
          4,
          4,
          4,
          9,
          8,
          6,
          13,
          13,
          4,
          4,
          4,
          3,
          6,
          11,
          8,
          4,
          3,
          13,
          12,
          8,
          5,
          5,
          5,
          8,
          8,
          4,
          8,
          8,
          8,
          11,
          8,
          12,
          5,
          4,
          6,
          13,
          12,
          10,
          9,
          6,
          5,
          3,
          2,
          18,
          17,
          10,
          5,
          11,
          5,
          4,
          7,
          11,
          5,
          8,
          4,
          6,
          4,
          9,
          5,
          3,
          3,
          2,
          2,
          2,
          1,
          6,
          3,
          3,
          3,
          4,
          5,
          4,
          4,
          4,
          5,
          7,
          7,
          6,
          7,
          8,
          6,
          4,
          9,
          9,
          9,
          9,
          9,
          3,
          9,
          10,
          10,
          10,
          10,
          3,
          4,
          5,
          5,
          5,
          6,
          4,
          3,
          2,
          6,
          5,
          3,
          2,
          1,
          6,
          6,
          6,
          5,
          3,
          4,
          3,
          4,
          5,
          3,
          2,
          2,
          14,
          4,
          4,
          4,
          4,
          2,
          3,
          3,
          5,
          5,
          5,
          5,
          6,
          3,
          5,
          7,
          3,
          3,
          3,
          3,
          3,
          4,
          6,
          3,
          2,
          5,
          4,
          5,
          4,
          13,
          13,
          13,
          4,
          2,
          5,
          3,
          5,
          6,
          3,
          4,
          5,
          4,
          3,
          4,
          3,
          5,
          3,
          2,
          3,
          5,
          2,
          3,
          3,
          4,
          4,
          8,
          6,
          5,
          4,
          3,
          2,
          1,
          2,
          3,
          5,
          3,
          3,
          4,
          4,
          3,
          3,
          3,
          4,
          4,
          4,
          6,
          6,
          4,
          2,
          2,
          5,
          4,
          6,
          5,
          6,
          6,
          6,
          5,
          8,
          5,
          1,
          1,
          2,
          3,
          2,
          7,
          6,
          4,
          2,
          3,
          2,
          1,
          1,
          4,
          4,
          4,
          4,
          4,
          4,
          3,
          1,
          1,
          0,
          0
         ],
         "xaxis": "x",
         "yaxis": "y"
        }
       ],
       "layout": {
        "annotations": [
         {
          "showarrow": false,
          "text": "median",
          "x": 5,
          "xanchor": "left",
          "xref": "x",
          "y": 1,
          "yanchor": "top",
          "yref": "y domain"
         }
        ],
        "barmode": "relative",
        "legend": {
         "tracegroupgap": 0
        },
        "shapes": [
         {
          "type": "line",
          "x0": 5,
          "x1": 5,
          "xref": "x",
          "y0": 0,
          "y1": 1,
          "yref": "y domain"
         }
        ],
        "template": {
         "data": {
          "bar": [
           {
            "error_x": {
             "color": "#f2f5fa"
            },
            "error_y": {
             "color": "#f2f5fa"
            },
            "marker": {
             "line": {
              "color": "rgb(17,17,17)",
              "width": 0.5
             }
            },
            "type": "bar"
           }
          ],
          "barpolar": [
           {
            "marker": {
             "line": {
              "color": "rgb(17,17,17)",
              "width": 0.5
             }
            },
            "type": "barpolar"
           }
          ],
          "carpet": [
           {
            "aaxis": {
             "endlinecolor": "#A2B1C6",
             "gridcolor": "#506784",
             "linecolor": "#506784",
             "minorgridcolor": "#506784",
             "startlinecolor": "#A2B1C6"
            },
            "baxis": {
             "endlinecolor": "#A2B1C6",
             "gridcolor": "#506784",
             "linecolor": "#506784",
             "minorgridcolor": "#506784",
             "startlinecolor": "#A2B1C6"
            },
            "type": "carpet"
           }
          ],
          "choropleth": [
           {
            "colorbar": {
             "outlinewidth": 0,
             "ticks": ""
            },
            "type": "choropleth"
           }
          ],
          "contour": [
           {
            "colorbar": {
             "outlinewidth": 0,
             "ticks": ""
            },
            "colorscale": [
             [
              0,
              "#0d0887"
             ],
             [
              0.1111111111111111,
              "#46039f"
             ],
             [
              0.2222222222222222,
              "#7201a8"
             ],
             [
              0.3333333333333333,
              "#9c179e"
             ],
             [
              0.4444444444444444,
              "#bd3786"
             ],
             [
              0.5555555555555556,
              "#d8576b"
             ],
             [
              0.6666666666666666,
              "#ed7953"
             ],
             [
              0.7777777777777778,
              "#fb9f3a"
             ],
             [
              0.8888888888888888,
              "#fdca26"
             ],
             [
              1,
              "#f0f921"
             ]
            ],
            "type": "contour"
           }
          ],
          "contourcarpet": [
           {
            "colorbar": {
             "outlinewidth": 0,
             "ticks": ""
            },
            "type": "contourcarpet"
           }
          ],
          "heatmap": [
           {
            "colorbar": {
             "outlinewidth": 0,
             "ticks": ""
            },
            "colorscale": [
             [
              0,
              "#0d0887"
             ],
             [
              0.1111111111111111,
              "#46039f"
             ],
             [
              0.2222222222222222,
              "#7201a8"
             ],
             [
              0.3333333333333333,
              "#9c179e"
             ],
             [
              0.4444444444444444,
              "#bd3786"
             ],
             [
              0.5555555555555556,
              "#d8576b"
             ],
             [
              0.6666666666666666,
              "#ed7953"
             ],
             [
              0.7777777777777778,
              "#fb9f3a"
             ],
             [
              0.8888888888888888,
              "#fdca26"
             ],
             [
              1,
              "#f0f921"
             ]
            ],
            "type": "heatmap"
           }
          ],
          "heatmapgl": [
           {
            "colorbar": {
             "outlinewidth": 0,
             "ticks": ""
            },
            "colorscale": [
             [
              0,
              "#0d0887"
             ],
             [
              0.1111111111111111,
              "#46039f"
             ],
             [
              0.2222222222222222,
              "#7201a8"
             ],
             [
              0.3333333333333333,
              "#9c179e"
             ],
             [
              0.4444444444444444,
              "#bd3786"
             ],
             [
              0.5555555555555556,
              "#d8576b"
             ],
             [
              0.6666666666666666,
              "#ed7953"
             ],
             [
              0.7777777777777778,
              "#fb9f3a"
             ],
             [
              0.8888888888888888,
              "#fdca26"
             ],
             [
              1,
              "#f0f921"
             ]
            ],
            "type": "heatmapgl"
           }
          ],
          "histogram": [
           {
            "marker": {
             "colorbar": {
              "outlinewidth": 0,
              "ticks": ""
             }
            },
            "type": "histogram"
           }
          ],
          "histogram2d": [
           {
            "colorbar": {
             "outlinewidth": 0,
             "ticks": ""
            },
            "colorscale": [
             [
              0,
              "#0d0887"
             ],
             [
              0.1111111111111111,
              "#46039f"
             ],
             [
              0.2222222222222222,
              "#7201a8"
             ],
             [
              0.3333333333333333,
              "#9c179e"
             ],
             [
              0.4444444444444444,
              "#bd3786"
             ],
             [
              0.5555555555555556,
              "#d8576b"
             ],
             [
              0.6666666666666666,
              "#ed7953"
             ],
             [
              0.7777777777777778,
              "#fb9f3a"
             ],
             [
              0.8888888888888888,
              "#fdca26"
             ],
             [
              1,
              "#f0f921"
             ]
            ],
            "type": "histogram2d"
           }
          ],
          "histogram2dcontour": [
           {
            "colorbar": {
             "outlinewidth": 0,
             "ticks": ""
            },
            "colorscale": [
             [
              0,
              "#0d0887"
             ],
             [
              0.1111111111111111,
              "#46039f"
             ],
             [
              0.2222222222222222,
              "#7201a8"
             ],
             [
              0.3333333333333333,
              "#9c179e"
             ],
             [
              0.4444444444444444,
              "#bd3786"
             ],
             [
              0.5555555555555556,
              "#d8576b"
             ],
             [
              0.6666666666666666,
              "#ed7953"
             ],
             [
              0.7777777777777778,
              "#fb9f3a"
             ],
             [
              0.8888888888888888,
              "#fdca26"
             ],
             [
              1,
              "#f0f921"
             ]
            ],
            "type": "histogram2dcontour"
           }
          ],
          "mesh3d": [
           {
            "colorbar": {
             "outlinewidth": 0,
             "ticks": ""
            },
            "type": "mesh3d"
           }
          ],
          "parcoords": [
           {
            "line": {
             "colorbar": {
              "outlinewidth": 0,
              "ticks": ""
             }
            },
            "type": "parcoords"
           }
          ],
          "pie": [
           {
            "automargin": true,
            "type": "pie"
           }
          ],
          "scatter": [
           {
            "marker": {
             "line": {
              "color": "#283442"
             }
            },
            "type": "scatter"
           }
          ],
          "scatter3d": [
           {
            "line": {
             "colorbar": {
              "outlinewidth": 0,
              "ticks": ""
             }
            },
            "marker": {
             "colorbar": {
              "outlinewidth": 0,
              "ticks": ""
             }
            },
            "type": "scatter3d"
           }
          ],
          "scattercarpet": [
           {
            "marker": {
             "colorbar": {
              "outlinewidth": 0,
              "ticks": ""
             }
            },
            "type": "scattercarpet"
           }
          ],
          "scattergeo": [
           {
            "marker": {
             "colorbar": {
              "outlinewidth": 0,
              "ticks": ""
             }
            },
            "type": "scattergeo"
           }
          ],
          "scattergl": [
           {
            "marker": {
             "line": {
              "color": "#283442"
             }
            },
            "type": "scattergl"
           }
          ],
          "scattermapbox": [
           {
            "marker": {
             "colorbar": {
              "outlinewidth": 0,
              "ticks": ""
             }
            },
            "type": "scattermapbox"
           }
          ],
          "scatterpolar": [
           {
            "marker": {
             "colorbar": {
              "outlinewidth": 0,
              "ticks": ""
             }
            },
            "type": "scatterpolar"
           }
          ],
          "scatterpolargl": [
           {
            "marker": {
             "colorbar": {
              "outlinewidth": 0,
              "ticks": ""
             }
            },
            "type": "scatterpolargl"
           }
          ],
          "scatterternary": [
           {
            "marker": {
             "colorbar": {
              "outlinewidth": 0,
              "ticks": ""
             }
            },
            "type": "scatterternary"
           }
          ],
          "surface": [
           {
            "colorbar": {
             "outlinewidth": 0,
             "ticks": ""
            },
            "colorscale": [
             [
              0,
              "#0d0887"
             ],
             [
              0.1111111111111111,
              "#46039f"
             ],
             [
              0.2222222222222222,
              "#7201a8"
             ],
             [
              0.3333333333333333,
              "#9c179e"
             ],
             [
              0.4444444444444444,
              "#bd3786"
             ],
             [
              0.5555555555555556,
              "#d8576b"
             ],
             [
              0.6666666666666666,
              "#ed7953"
             ],
             [
              0.7777777777777778,
              "#fb9f3a"
             ],
             [
              0.8888888888888888,
              "#fdca26"
             ],
             [
              1,
              "#f0f921"
             ]
            ],
            "type": "surface"
           }
          ],
          "table": [
           {
            "cells": {
             "fill": {
              "color": "#506784"
             },
             "line": {
              "color": "rgb(17,17,17)"
             }
            },
            "header": {
             "fill": {
              "color": "#2a3f5f"
             },
             "line": {
              "color": "rgb(17,17,17)"
             }
            },
            "type": "table"
           }
          ]
         },
         "layout": {
          "annotationdefaults": {
           "arrowcolor": "#f2f5fa",
           "arrowhead": 0,
           "arrowwidth": 1
          },
          "autotypenumbers": "strict",
          "coloraxis": {
           "colorbar": {
            "outlinewidth": 0,
            "ticks": ""
           }
          },
          "colorscale": {
           "diverging": [
            [
             0,
             "#8e0152"
            ],
            [
             0.1,
             "#c51b7d"
            ],
            [
             0.2,
             "#de77ae"
            ],
            [
             0.3,
             "#f1b6da"
            ],
            [
             0.4,
             "#fde0ef"
            ],
            [
             0.5,
             "#f7f7f7"
            ],
            [
             0.6,
             "#e6f5d0"
            ],
            [
             0.7,
             "#b8e186"
            ],
            [
             0.8,
             "#7fbc41"
            ],
            [
             0.9,
             "#4d9221"
            ],
            [
             1,
             "#276419"
            ]
           ],
           "sequential": [
            [
             0,
             "#0d0887"
            ],
            [
             0.1111111111111111,
             "#46039f"
            ],
            [
             0.2222222222222222,
             "#7201a8"
            ],
            [
             0.3333333333333333,
             "#9c179e"
            ],
            [
             0.4444444444444444,
             "#bd3786"
            ],
            [
             0.5555555555555556,
             "#d8576b"
            ],
            [
             0.6666666666666666,
             "#ed7953"
            ],
            [
             0.7777777777777778,
             "#fb9f3a"
            ],
            [
             0.8888888888888888,
             "#fdca26"
            ],
            [
             1,
             "#f0f921"
            ]
           ],
           "sequentialminus": [
            [
             0,
             "#0d0887"
            ],
            [
             0.1111111111111111,
             "#46039f"
            ],
            [
             0.2222222222222222,
             "#7201a8"
            ],
            [
             0.3333333333333333,
             "#9c179e"
            ],
            [
             0.4444444444444444,
             "#bd3786"
            ],
            [
             0.5555555555555556,
             "#d8576b"
            ],
            [
             0.6666666666666666,
             "#ed7953"
            ],
            [
             0.7777777777777778,
             "#fb9f3a"
            ],
            [
             0.8888888888888888,
             "#fdca26"
            ],
            [
             1,
             "#f0f921"
            ]
           ]
          },
          "colorway": [
           "#636efa",
           "#EF553B",
           "#00cc96",
           "#ab63fa",
           "#FFA15A",
           "#19d3f3",
           "#FF6692",
           "#B6E880",
           "#FF97FF",
           "#FECB52"
          ],
          "font": {
           "color": "#f2f5fa"
          },
          "geo": {
           "bgcolor": "rgb(17,17,17)",
           "lakecolor": "rgb(17,17,17)",
           "landcolor": "rgb(17,17,17)",
           "showlakes": true,
           "showland": true,
           "subunitcolor": "#506784"
          },
          "hoverlabel": {
           "align": "left"
          },
          "hovermode": "closest",
          "mapbox": {
           "style": "dark"
          },
          "paper_bgcolor": "rgb(17,17,17)",
          "plot_bgcolor": "rgb(17,17,17)",
          "polar": {
           "angularaxis": {
            "gridcolor": "#506784",
            "linecolor": "#506784",
            "ticks": ""
           },
           "bgcolor": "rgb(17,17,17)",
           "radialaxis": {
            "gridcolor": "#506784",
            "linecolor": "#506784",
            "ticks": ""
           }
          },
          "scene": {
           "xaxis": {
            "backgroundcolor": "rgb(17,17,17)",
            "gridcolor": "#506784",
            "gridwidth": 2,
            "linecolor": "#506784",
            "showbackground": true,
            "ticks": "",
            "zerolinecolor": "#C8D4E3"
           },
           "yaxis": {
            "backgroundcolor": "rgb(17,17,17)",
            "gridcolor": "#506784",
            "gridwidth": 2,
            "linecolor": "#506784",
            "showbackground": true,
            "ticks": "",
            "zerolinecolor": "#C8D4E3"
           },
           "zaxis": {
            "backgroundcolor": "rgb(17,17,17)",
            "gridcolor": "#506784",
            "gridwidth": 2,
            "linecolor": "#506784",
            "showbackground": true,
            "ticks": "",
            "zerolinecolor": "#C8D4E3"
           }
          },
          "shapedefaults": {
           "line": {
            "color": "#f2f5fa"
           }
          },
          "sliderdefaults": {
           "bgcolor": "#C8D4E3",
           "bordercolor": "rgb(17,17,17)",
           "borderwidth": 1,
           "tickwidth": 0
          },
          "ternary": {
           "aaxis": {
            "gridcolor": "#506784",
            "linecolor": "#506784",
            "ticks": ""
           },
           "baxis": {
            "gridcolor": "#506784",
            "linecolor": "#506784",
            "ticks": ""
           },
           "bgcolor": "rgb(17,17,17)",
           "caxis": {
            "gridcolor": "#506784",
            "linecolor": "#506784",
            "ticks": ""
           }
          },
          "title": {
           "x": 0.05
          },
          "updatemenudefaults": {
           "bgcolor": "#506784",
           "borderwidth": 0
          },
          "xaxis": {
           "automargin": true,
           "gridcolor": "#283442",
           "linecolor": "#506784",
           "ticks": "",
           "title": {
            "standoff": 15
           },
           "zerolinecolor": "#283442",
           "zerolinewidth": 2
          },
          "yaxis": {
           "automargin": true,
           "gridcolor": "#283442",
           "linecolor": "#506784",
           "ticks": "",
           "title": {
            "standoff": 15
           },
           "zerolinecolor": "#283442",
           "zerolinewidth": 2
          }
         }
        },
        "title": {
         "text": "Reporting delay (difference between reporting and exposure time)"
        },
        "xaxis": {
         "anchor": "y",
         "domain": [
          0,
          1
         ],
         "title": {
          "text": "date_delay"
         }
        },
        "yaxis": {
         "anchor": "x",
         "domain": [
          0,
          1
         ],
         "title": {
          "text": "count"
         }
        }
       }
      },
      "text/html": [
       "<div>                            <div id=\"a8549a9a-1373-4e40-973f-b7c24fd4334e\" class=\"plotly-graph-div\" style=\"height:525px; width:100%;\"></div>            <script type=\"text/javascript\">                require([\"plotly\"], function(Plotly) {                    window.PLOTLYENV=window.PLOTLYENV || {};                                    if (document.getElementById(\"a8549a9a-1373-4e40-973f-b7c24fd4334e\")) {                    Plotly.newPlot(                        \"a8549a9a-1373-4e40-973f-b7c24fd4334e\",                        [{\"alignmentgroup\": \"True\", \"bingroup\": \"x\", \"hovertemplate\": \"date_delay=%{x}<br>count=%{y}<extra></extra>\", \"legendgroup\": \"\", \"marker\": {\"color\": \"#636efa\"}, \"name\": \"\", \"offsetgroup\": \"\", \"orientation\": \"v\", \"showlegend\": false, \"type\": \"histogram\", \"x\": [9, 4, 4, 4, 5, 4, 3, 2, 5, 5, 5, 4, 3, 2, 3, 6, 4, 4, 4, 9, 8, 8, 6, 10, 5, 5, 6, 5, 4, 4, 15, 15, 8, 7, 10, 12, 4, 4, 4, 5, 5, 6, 7, 7, 5, 8, 7, 8, 8, 7, 4, 6, 7, 8, 6, 6, 7, 8, 6, 8, 3, 3, 4, 7, 7, 4, 4, 4, 9, 8, 6, 13, 13, 4, 4, 4, 3, 6, 11, 8, 4, 3, 13, 12, 8, 5, 5, 5, 8, 8, 4, 8, 8, 8, 11, 8, 12, 5, 4, 6, 13, 12, 10, 9, 6, 5, 3, 2, 18, 17, 10, 5, 11, 5, 4, 7, 11, 5, 8, 4, 6, 4, 9, 5, 3, 3, 2, 2, 2, 1, 6, 3, 3, 3, 4, 5, 4, 4, 4, 5, 7, 7, 6, 7, 8, 6, 4, 9, 9, 9, 9, 9, 3, 9, 10, 10, 10, 10, 3, 4, 5, 5, 5, 6, 4, 3, 2, 6, 5, 3, 2, 1, 6, 6, 6, 5, 3, 4, 3, 4, 5, 3, 2, 2, 14, 4, 4, 4, 4, 2, 3, 3, 5, 5, 5, 5, 6, 3, 5, 7, 3, 3, 3, 3, 3, 4, 6, 3, 2, 5, 4, 5, 4, 13, 13, 13, 4, 2, 5, 3, 5, 6, 3, 4, 5, 4, 3, 4, 3, 5, 3, 2, 3, 5, 2, 3, 3, 4, 4, 8, 6, 5, 4, 3, 2, 1, 2, 3, 5, 3, 3, 4, 4, 3, 3, 3, 4, 4, 4, 6, 6, 4, 2, 2, 5, 4, 6, 5, 6, 6, 6, 5, 8, 5, 1, 1, 2, 3, 2, 7, 6, 4, 2, 3, 2, 1, 1, 4, 4, 4, 4, 4, 4, 3, 1, 1, 0, 0], \"xaxis\": \"x\", \"yaxis\": \"y\"}],                        {\"annotations\": [{\"showarrow\": false, \"text\": \"median\", \"x\": 5.0, \"xanchor\": \"left\", \"xref\": \"x\", \"y\": 1, \"yanchor\": \"top\", \"yref\": \"y domain\"}], \"barmode\": \"relative\", \"legend\": {\"tracegroupgap\": 0}, \"shapes\": [{\"type\": \"line\", \"x0\": 5.0, \"x1\": 5.0, \"xref\": \"x\", \"y0\": 0, \"y1\": 1, \"yref\": \"y domain\"}], \"template\": {\"data\": {\"bar\": [{\"error_x\": {\"color\": \"#f2f5fa\"}, \"error_y\": {\"color\": \"#f2f5fa\"}, \"marker\": {\"line\": {\"color\": \"rgb(17,17,17)\", \"width\": 0.5}}, \"type\": \"bar\"}], \"barpolar\": [{\"marker\": {\"line\": {\"color\": \"rgb(17,17,17)\", \"width\": 0.5}}, \"type\": \"barpolar\"}], \"carpet\": [{\"aaxis\": {\"endlinecolor\": \"#A2B1C6\", \"gridcolor\": \"#506784\", \"linecolor\": \"#506784\", \"minorgridcolor\": \"#506784\", \"startlinecolor\": \"#A2B1C6\"}, \"baxis\": {\"endlinecolor\": \"#A2B1C6\", \"gridcolor\": \"#506784\", \"linecolor\": \"#506784\", \"minorgridcolor\": \"#506784\", \"startlinecolor\": \"#A2B1C6\"}, \"type\": \"carpet\"}], \"choropleth\": [{\"colorbar\": {\"outlinewidth\": 0, \"ticks\": \"\"}, \"type\": \"choropleth\"}], \"contour\": [{\"colorbar\": {\"outlinewidth\": 0, \"ticks\": \"\"}, \"colorscale\": [[0.0, \"#0d0887\"], [0.1111111111111111, \"#46039f\"], [0.2222222222222222, \"#7201a8\"], [0.3333333333333333, \"#9c179e\"], [0.4444444444444444, \"#bd3786\"], [0.5555555555555556, \"#d8576b\"], [0.6666666666666666, \"#ed7953\"], [0.7777777777777778, \"#fb9f3a\"], [0.8888888888888888, \"#fdca26\"], [1.0, \"#f0f921\"]], \"type\": \"contour\"}], \"contourcarpet\": [{\"colorbar\": {\"outlinewidth\": 0, \"ticks\": \"\"}, \"type\": \"contourcarpet\"}], \"heatmap\": [{\"colorbar\": {\"outlinewidth\": 0, \"ticks\": \"\"}, \"colorscale\": [[0.0, \"#0d0887\"], [0.1111111111111111, \"#46039f\"], [0.2222222222222222, \"#7201a8\"], [0.3333333333333333, \"#9c179e\"], [0.4444444444444444, \"#bd3786\"], [0.5555555555555556, \"#d8576b\"], [0.6666666666666666, \"#ed7953\"], [0.7777777777777778, \"#fb9f3a\"], [0.8888888888888888, \"#fdca26\"], [1.0, \"#f0f921\"]], \"type\": \"heatmap\"}], \"heatmapgl\": [{\"colorbar\": {\"outlinewidth\": 0, \"ticks\": \"\"}, \"colorscale\": [[0.0, \"#0d0887\"], [0.1111111111111111, \"#46039f\"], [0.2222222222222222, \"#7201a8\"], [0.3333333333333333, \"#9c179e\"], [0.4444444444444444, \"#bd3786\"], [0.5555555555555556, \"#d8576b\"], [0.6666666666666666, \"#ed7953\"], [0.7777777777777778, \"#fb9f3a\"], [0.8888888888888888, \"#fdca26\"], [1.0, \"#f0f921\"]], \"type\": \"heatmapgl\"}], \"histogram\": [{\"marker\": {\"colorbar\": {\"outlinewidth\": 0, \"ticks\": \"\"}}, \"type\": \"histogram\"}], \"histogram2d\": [{\"colorbar\": {\"outlinewidth\": 0, \"ticks\": \"\"}, \"colorscale\": [[0.0, \"#0d0887\"], [0.1111111111111111, \"#46039f\"], [0.2222222222222222, \"#7201a8\"], [0.3333333333333333, \"#9c179e\"], [0.4444444444444444, \"#bd3786\"], [0.5555555555555556, \"#d8576b\"], [0.6666666666666666, \"#ed7953\"], [0.7777777777777778, \"#fb9f3a\"], [0.8888888888888888, \"#fdca26\"], [1.0, \"#f0f921\"]], \"type\": \"histogram2d\"}], \"histogram2dcontour\": [{\"colorbar\": {\"outlinewidth\": 0, \"ticks\": \"\"}, \"colorscale\": [[0.0, \"#0d0887\"], [0.1111111111111111, \"#46039f\"], [0.2222222222222222, \"#7201a8\"], [0.3333333333333333, \"#9c179e\"], [0.4444444444444444, \"#bd3786\"], [0.5555555555555556, \"#d8576b\"], [0.6666666666666666, \"#ed7953\"], [0.7777777777777778, \"#fb9f3a\"], [0.8888888888888888, \"#fdca26\"], [1.0, \"#f0f921\"]], \"type\": \"histogram2dcontour\"}], \"mesh3d\": [{\"colorbar\": {\"outlinewidth\": 0, \"ticks\": \"\"}, \"type\": \"mesh3d\"}], \"parcoords\": [{\"line\": {\"colorbar\": {\"outlinewidth\": 0, \"ticks\": \"\"}}, \"type\": \"parcoords\"}], \"pie\": [{\"automargin\": true, \"type\": \"pie\"}], \"scatter\": [{\"marker\": {\"line\": {\"color\": \"#283442\"}}, \"type\": \"scatter\"}], \"scatter3d\": [{\"line\": {\"colorbar\": {\"outlinewidth\": 0, \"ticks\": \"\"}}, \"marker\": {\"colorbar\": {\"outlinewidth\": 0, \"ticks\": \"\"}}, \"type\": \"scatter3d\"}], \"scattercarpet\": [{\"marker\": {\"colorbar\": {\"outlinewidth\": 0, \"ticks\": \"\"}}, \"type\": \"scattercarpet\"}], \"scattergeo\": [{\"marker\": {\"colorbar\": {\"outlinewidth\": 0, \"ticks\": \"\"}}, \"type\": \"scattergeo\"}], \"scattergl\": [{\"marker\": {\"line\": {\"color\": \"#283442\"}}, \"type\": \"scattergl\"}], \"scattermapbox\": [{\"marker\": {\"colorbar\": {\"outlinewidth\": 0, \"ticks\": \"\"}}, \"type\": \"scattermapbox\"}], \"scatterpolar\": [{\"marker\": {\"colorbar\": {\"outlinewidth\": 0, \"ticks\": \"\"}}, \"type\": \"scatterpolar\"}], \"scatterpolargl\": [{\"marker\": {\"colorbar\": {\"outlinewidth\": 0, \"ticks\": \"\"}}, \"type\": \"scatterpolargl\"}], \"scatterternary\": [{\"marker\": {\"colorbar\": {\"outlinewidth\": 0, \"ticks\": \"\"}}, \"type\": \"scatterternary\"}], \"surface\": [{\"colorbar\": {\"outlinewidth\": 0, \"ticks\": \"\"}, \"colorscale\": [[0.0, \"#0d0887\"], [0.1111111111111111, \"#46039f\"], [0.2222222222222222, \"#7201a8\"], [0.3333333333333333, \"#9c179e\"], [0.4444444444444444, \"#bd3786\"], [0.5555555555555556, \"#d8576b\"], [0.6666666666666666, \"#ed7953\"], [0.7777777777777778, \"#fb9f3a\"], [0.8888888888888888, \"#fdca26\"], [1.0, \"#f0f921\"]], \"type\": \"surface\"}], \"table\": [{\"cells\": {\"fill\": {\"color\": \"#506784\"}, \"line\": {\"color\": \"rgb(17,17,17)\"}}, \"header\": {\"fill\": {\"color\": \"#2a3f5f\"}, \"line\": {\"color\": \"rgb(17,17,17)\"}}, \"type\": \"table\"}]}, \"layout\": {\"annotationdefaults\": {\"arrowcolor\": \"#f2f5fa\", \"arrowhead\": 0, \"arrowwidth\": 1}, \"autotypenumbers\": \"strict\", \"coloraxis\": {\"colorbar\": {\"outlinewidth\": 0, \"ticks\": \"\"}}, \"colorscale\": {\"diverging\": [[0, \"#8e0152\"], [0.1, \"#c51b7d\"], [0.2, \"#de77ae\"], [0.3, \"#f1b6da\"], [0.4, \"#fde0ef\"], [0.5, \"#f7f7f7\"], [0.6, \"#e6f5d0\"], [0.7, \"#b8e186\"], [0.8, \"#7fbc41\"], [0.9, \"#4d9221\"], [1, \"#276419\"]], \"sequential\": [[0.0, \"#0d0887\"], [0.1111111111111111, \"#46039f\"], [0.2222222222222222, \"#7201a8\"], [0.3333333333333333, \"#9c179e\"], [0.4444444444444444, \"#bd3786\"], [0.5555555555555556, \"#d8576b\"], [0.6666666666666666, \"#ed7953\"], [0.7777777777777778, \"#fb9f3a\"], [0.8888888888888888, \"#fdca26\"], [1.0, \"#f0f921\"]], \"sequentialminus\": [[0.0, \"#0d0887\"], [0.1111111111111111, \"#46039f\"], [0.2222222222222222, \"#7201a8\"], [0.3333333333333333, \"#9c179e\"], [0.4444444444444444, \"#bd3786\"], [0.5555555555555556, \"#d8576b\"], [0.6666666666666666, \"#ed7953\"], [0.7777777777777778, \"#fb9f3a\"], [0.8888888888888888, \"#fdca26\"], [1.0, \"#f0f921\"]]}, \"colorway\": [\"#636efa\", \"#EF553B\", \"#00cc96\", \"#ab63fa\", \"#FFA15A\", \"#19d3f3\", \"#FF6692\", \"#B6E880\", \"#FF97FF\", \"#FECB52\"], \"font\": {\"color\": \"#f2f5fa\"}, \"geo\": {\"bgcolor\": \"rgb(17,17,17)\", \"lakecolor\": \"rgb(17,17,17)\", \"landcolor\": \"rgb(17,17,17)\", \"showlakes\": true, \"showland\": true, \"subunitcolor\": \"#506784\"}, \"hoverlabel\": {\"align\": \"left\"}, \"hovermode\": \"closest\", \"mapbox\": {\"style\": \"dark\"}, \"paper_bgcolor\": \"rgb(17,17,17)\", \"plot_bgcolor\": \"rgb(17,17,17)\", \"polar\": {\"angularaxis\": {\"gridcolor\": \"#506784\", \"linecolor\": \"#506784\", \"ticks\": \"\"}, \"bgcolor\": \"rgb(17,17,17)\", \"radialaxis\": {\"gridcolor\": \"#506784\", \"linecolor\": \"#506784\", \"ticks\": \"\"}}, \"scene\": {\"xaxis\": {\"backgroundcolor\": \"rgb(17,17,17)\", \"gridcolor\": \"#506784\", \"gridwidth\": 2, \"linecolor\": \"#506784\", \"showbackground\": true, \"ticks\": \"\", \"zerolinecolor\": \"#C8D4E3\"}, \"yaxis\": {\"backgroundcolor\": \"rgb(17,17,17)\", \"gridcolor\": \"#506784\", \"gridwidth\": 2, \"linecolor\": \"#506784\", \"showbackground\": true, \"ticks\": \"\", \"zerolinecolor\": \"#C8D4E3\"}, \"zaxis\": {\"backgroundcolor\": \"rgb(17,17,17)\", \"gridcolor\": \"#506784\", \"gridwidth\": 2, \"linecolor\": \"#506784\", \"showbackground\": true, \"ticks\": \"\", \"zerolinecolor\": \"#C8D4E3\"}}, \"shapedefaults\": {\"line\": {\"color\": \"#f2f5fa\"}}, \"sliderdefaults\": {\"bgcolor\": \"#C8D4E3\", \"bordercolor\": \"rgb(17,17,17)\", \"borderwidth\": 1, \"tickwidth\": 0}, \"ternary\": {\"aaxis\": {\"gridcolor\": \"#506784\", \"linecolor\": \"#506784\", \"ticks\": \"\"}, \"baxis\": {\"gridcolor\": \"#506784\", \"linecolor\": \"#506784\", \"ticks\": \"\"}, \"bgcolor\": \"rgb(17,17,17)\", \"caxis\": {\"gridcolor\": \"#506784\", \"linecolor\": \"#506784\", \"ticks\": \"\"}}, \"title\": {\"x\": 0.05}, \"updatemenudefaults\": {\"bgcolor\": \"#506784\", \"borderwidth\": 0}, \"xaxis\": {\"automargin\": true, \"gridcolor\": \"#283442\", \"linecolor\": \"#506784\", \"ticks\": \"\", \"title\": {\"standoff\": 15}, \"zerolinecolor\": \"#283442\", \"zerolinewidth\": 2}, \"yaxis\": {\"automargin\": true, \"gridcolor\": \"#283442\", \"linecolor\": \"#506784\", \"ticks\": \"\", \"title\": {\"standoff\": 15}, \"zerolinecolor\": \"#283442\", \"zerolinewidth\": 2}}}, \"title\": {\"text\": \"Reporting delay (difference between reporting and exposure time)\"}, \"xaxis\": {\"anchor\": \"y\", \"domain\": [0.0, 1.0], \"title\": {\"text\": \"date_delay\"}}, \"yaxis\": {\"anchor\": \"x\", \"domain\": [0.0, 1.0], \"title\": {\"text\": \"count\"}}},                        {\"responsive\": true}                    ).then(function(){\n",
       "                            \n",
       "var gd = document.getElementById('a8549a9a-1373-4e40-973f-b7c24fd4334e');\n",
       "var x = new MutationObserver(function (mutations, observer) {{\n",
       "        var display = window.getComputedStyle(gd).display;\n",
       "        if (!display || display === 'none') {{\n",
       "            console.log([gd, 'removed!']);\n",
       "            Plotly.purge(gd);\n",
       "            observer.disconnect();\n",
       "        }}\n",
       "}});\n",
       "\n",
       "// Listen for the removal of the full notebook cells\n",
       "var notebookContainer = gd.closest('#notebook-container');\n",
       "if (notebookContainer) {{\n",
       "    x.observe(notebookContainer, {childList: true});\n",
       "}}\n",
       "\n",
       "// Listen for the clearing of the current output cell\n",
       "var outputEl = gd.closest('.output');\n",
       "if (outputEl) {{\n",
       "    x.observe(outputEl, {childList: true});\n",
       "}}\n",
       "\n",
       "                        })                };                });            </script>        </div>"
      ]
     },
     "metadata": {},
     "output_type": "display_data"
    }
   ],
   "source": [
    "fig_delay = px.histogram(elements, x='date_delay', template='plotly_dark', title='Reporting delay (difference between reporting and exposure time)')\n",
    "fig_delay.add_vline(x = elements.date_delay.describe()['50%'], annotation_text='median')\n"
   ]
  },
  {
   "cell_type": "code",
   "execution_count": 157,
   "metadata": {},
   "outputs": [
    {
     "data": {
      "application/vnd.plotly.v1+json": {
       "config": {
        "plotlyServerURL": "https://plot.ly"
       },
       "data": [
        {
         "alignmentgroup": "True",
         "bingroup": "x",
         "hovertemplate": "tier=1<br>date_exposure=%{x}<br>count=%{y}<extra></extra>",
         "legendgroup": "1",
         "marker": {
          "color": "rgb(228,26,28)"
         },
         "name": "1",
         "offsetgroup": "1",
         "orientation": "v",
         "showlegend": true,
         "type": "histogram",
         "x": [
          "2021-05-19T00:00:00",
          "2021-05-21T00:00:00",
          "2021-05-26T00:00:00",
          "2021-05-21T00:00:00",
          "2021-05-25T00:00:00",
          "2021-05-23T00:00:00",
          "2021-05-22T00:00:00",
          "2021-05-21T00:00:00",
          "2021-05-22T00:00:00",
          "2021-05-23T00:00:00",
          "2021-05-20T00:00:00",
          "2021-05-26T00:00:00",
          "2021-05-21T00:00:00",
          "2021-05-23T00:00:00",
          "2021-05-22T00:00:00",
          "2021-05-23T00:00:00",
          "2021-05-23T00:00:00",
          "2021-05-22T00:00:00",
          "2021-05-21T00:00:00",
          "2021-05-25T00:00:00",
          "2021-05-23T00:00:00",
          "2021-05-19T00:00:00",
          "2021-05-24T00:00:00",
          "2021-05-19T00:00:00",
          "2021-05-22T00:00:00",
          "2021-05-21T00:00:00",
          "2021-05-20T00:00:00",
          "2021-05-18T00:00:00",
          "2021-05-21T00:00:00",
          "2021-05-17T00:00:00",
          "2021-05-18T00:00:00",
          "2021-05-20T00:00:00",
          "2021-05-21T00:00:00",
          "2021-05-24T00:00:00",
          "2021-05-25T00:00:00",
          "2021-05-27T00:00:00",
          "2021-05-28T00:00:00",
          "2021-05-12T00:00:00",
          "2021-05-13T00:00:00",
          "2021-05-20T00:00:00",
          "2021-05-21T00:00:00",
          "2021-05-23T00:00:00",
          "2021-05-23T00:00:00",
          "2021-05-25T00:00:00",
          "2021-05-23T00:00:00",
          "2021-05-23T00:00:00",
          "2021-05-19T00:00:00",
          "2021-05-22T00:00:00",
          "2021-05-23T00:00:00",
          "2021-05-25T00:00:00",
          "2021-05-24T00:00:00",
          "2021-05-25T00:00:00",
          "2021-05-24T00:00:00",
          "2021-05-23T00:00:00",
          "2021-05-24T00:00:00",
          "2021-05-25T00:00:00",
          "2021-05-25T00:00:00",
          "2021-05-24T00:00:00",
          "2021-05-23T00:00:00",
          "2021-05-23T00:00:00",
          "2021-05-23T00:00:00",
          "2021-05-24T00:00:00",
          "2021-05-20T00:00:00",
          "2021-05-22T00:00:00",
          "2021-05-22T00:00:00",
          "2021-05-22T00:00:00",
          "2021-05-22T00:00:00",
          "2021-05-19T00:00:00",
          "2021-05-21T00:00:00",
          "2021-05-26T00:00:00",
          "2021-05-19T00:00:00",
          "2021-05-25T00:00:00",
          "2021-05-19T00:00:00",
          "2021-05-18T00:00:00",
          "2021-05-18T00:00:00",
          "2021-05-18T00:00:00",
          "2021-05-18T00:00:00",
          "2021-05-25T00:00:00",
          "2021-05-24T00:00:00",
          "2021-05-22T00:00:00",
          "2021-05-25T00:00:00",
          "2021-05-24T00:00:00",
          "2021-05-22T00:00:00",
          "2021-05-24T00:00:00",
          "2021-05-25T00:00:00",
          "2021-05-26T00:00:00",
          "2021-05-22T00:00:00",
          "2021-05-23T00:00:00",
          "2021-05-25T00:00:00",
          "2021-05-27T00:00:00",
          "2021-05-22T00:00:00",
          "2021-05-24T00:00:00",
          "2021-05-26T00:00:00",
          "2021-05-24T00:00:00",
          "2021-05-29T00:00:00",
          "2021-05-26T00:00:00",
          "2021-05-28T00:00:00",
          "2021-05-27T00:00:00",
          "2021-05-26T00:00:00",
          "2021-05-21T00:00:00",
          "2021-05-26T00:00:00",
          "2021-05-22T00:00:00",
          "2021-05-21T00:00:00",
          "2021-05-24T00:00:00",
          "2021-05-24T00:00:00",
          "2021-05-22T00:00:00",
          "2021-05-20T00:00:00",
          "2021-05-29T00:00:00",
          "2021-05-25T00:00:00",
          "2021-05-27T00:00:00",
          "2021-05-27T00:00:00",
          "2021-05-24T00:00:00",
          "2021-05-22T00:00:00",
          "2021-05-21T00:00:00",
          "2021-05-22T00:00:00",
          "2021-05-26T00:00:00",
          "2021-05-18T00:00:00",
          "2021-05-17T00:00:00",
          "2021-05-20T00:00:00",
          "2021-05-20T00:00:00",
          "2021-05-20T00:00:00",
          "2021-05-20T00:00:00",
          "2021-05-20T00:00:00",
          "2021-05-19T00:00:00",
          "2021-05-27T00:00:00",
          "2021-05-25T00:00:00",
          "2021-05-26T00:00:00",
          "2021-05-22T00:00:00",
          "2021-05-20T00:00:00",
          "2021-05-27T00:00:00",
          "2021-05-27T00:00:00",
          "2021-05-23T00:00:00",
          "2021-05-22T00:00:00",
          "2021-05-22T00:00:00",
          "2021-05-22T00:00:00",
          "2021-05-28T00:00:00",
          "2021-05-26T00:00:00",
          "2021-05-23T00:00:00",
          "2021-05-22T00:00:00",
          "2021-05-25T00:00:00",
          "2021-05-25T00:00:00",
          "2021-05-25T00:00:00",
          "2021-05-24T00:00:00",
          "2021-05-25T00:00:00",
          "2021-05-28T00:00:00",
          "2021-05-27T00:00:00",
          "2021-05-23T00:00:00",
          "2021-05-26T00:00:00",
          "2021-05-28T00:00:00",
          "2021-05-27T00:00:00",
          "2021-05-26T00:00:00",
          "2021-05-26T00:00:00",
          "2021-05-26T00:00:00",
          "2021-05-26T00:00:00",
          "2021-05-23T00:00:00",
          "2021-05-26T00:00:00",
          "2021-05-22T00:00:00",
          "2021-05-24T00:00:00",
          "2021-05-17T00:00:00",
          "2021-05-17T00:00:00",
          "2021-05-25T00:00:00"
         ],
         "xaxis": "x",
         "yaxis": "y"
        },
        {
         "alignmentgroup": "True",
         "bingroup": "x",
         "hovertemplate": "tier=2<br>date_exposure=%{x}<br>count=%{y}<extra></extra>",
         "legendgroup": "2",
         "marker": {
          "color": "rgb(55,126,184)"
         },
         "name": "2",
         "offsetgroup": "2",
         "orientation": "v",
         "showlegend": true,
         "type": "histogram",
         "x": [
          "2021-05-23T00:00:00",
          "2021-05-24T00:00:00",
          "2021-05-24T00:00:00",
          "2021-05-20T00:00:00",
          "2021-05-24T00:00:00",
          "2021-05-23T00:00:00",
          "2021-05-19T00:00:00",
          "2021-05-23T00:00:00",
          "2021-05-22T00:00:00",
          "2021-05-21T00:00:00",
          "2021-05-23T00:00:00",
          "2021-05-23T00:00:00",
          "2021-05-24T00:00:00",
          "2021-05-22T00:00:00",
          "2021-05-22T00:00:00",
          "2021-05-23T00:00:00",
          "2021-05-22T00:00:00",
          "2021-05-25T00:00:00",
          "2021-05-23T00:00:00",
          "2021-05-14T00:00:00",
          "2021-05-14T00:00:00",
          "2021-05-14T00:00:00",
          "2021-05-19T00:00:00",
          "2021-05-20T00:00:00",
          "2021-05-22T00:00:00",
          "2021-05-19T00:00:00",
          "2021-05-19T00:00:00",
          "2021-05-20T00:00:00",
          "2021-05-17T00:00:00",
          "2021-05-23T00:00:00",
          "2021-05-23T00:00:00",
          "2021-05-22T00:00:00",
          "2021-05-21T00:00:00",
          "2021-05-22T00:00:00",
          "2021-05-20T00:00:00",
          "2021-05-23T00:00:00",
          "2021-05-22T00:00:00",
          "2021-05-23T00:00:00",
          "2021-05-22T00:00:00",
          "2021-05-22T00:00:00",
          "2021-05-22T00:00:00",
          "2021-05-23T00:00:00",
          "2021-05-24T00:00:00",
          "2021-05-23T00:00:00",
          "2021-05-22T00:00:00",
          "2021-05-24T00:00:00",
          "2021-05-24T00:00:00",
          "2021-05-23T00:00:00",
          "2021-05-23T00:00:00",
          "2021-05-22T00:00:00",
          "2021-05-22T00:00:00",
          "2021-05-23T00:00:00",
          "2021-05-23T00:00:00",
          "2021-05-21T00:00:00",
          "2021-05-26T00:00:00",
          "2021-05-24T00:00:00",
          "2021-05-19T00:00:00",
          "2021-05-26T00:00:00",
          "2021-05-27T00:00:00",
          "2021-05-24T00:00:00",
          "2021-05-22T00:00:00",
          "2021-05-23T00:00:00",
          "2021-05-23T00:00:00",
          "2021-05-28T00:00:00",
          "2021-05-26T00:00:00",
          "2021-05-22T00:00:00",
          "2021-05-23T00:00:00",
          "2021-05-23T00:00:00",
          "2021-05-25T00:00:00",
          "2021-05-21T00:00:00",
          "2021-05-26T00:00:00",
          "2021-05-26T00:00:00",
          "2021-05-15T00:00:00",
          "2021-05-15T00:00:00",
          "2021-05-22T00:00:00",
          "2021-05-23T00:00:00",
          "2021-05-20T00:00:00",
          "2021-05-18T00:00:00",
          "2021-05-26T00:00:00",
          "2021-05-26T00:00:00",
          "2021-05-26T00:00:00",
          "2021-05-25T00:00:00",
          "2021-05-25T00:00:00",
          "2021-05-24T00:00:00",
          "2021-05-22T00:00:00",
          "2021-05-18T00:00:00",
          "2021-05-17T00:00:00",
          "2021-05-22T00:00:00",
          "2021-05-26T00:00:00",
          "2021-05-25T00:00:00",
          "2021-05-24T00:00:00",
          "2021-05-25T00:00:00",
          "2021-05-25T00:00:00",
          "2021-05-24T00:00:00",
          "2021-05-22T00:00:00",
          "2021-05-22T00:00:00",
          "2021-05-26T00:00:00",
          "2021-05-23T00:00:00",
          "2021-05-23T00:00:00",
          "2021-05-23T00:00:00",
          "2021-05-23T00:00:00",
          "2021-05-22T00:00:00",
          "2021-05-23T00:00:00",
          "2021-05-25T00:00:00",
          "2021-05-24T00:00:00",
          "2021-05-24T00:00:00",
          "2021-05-22T00:00:00",
          "2021-05-28T00:00:00",
          "2021-05-23T00:00:00",
          "2021-05-18T00:00:00",
          "2021-05-22T00:00:00",
          "2021-05-18T00:00:00",
          "2021-05-25T00:00:00",
          "2021-05-26T00:00:00",
          "2021-05-24T00:00:00",
          "2021-05-27T00:00:00",
          "2021-05-25T00:00:00",
          "2021-05-19T00:00:00",
          "2021-05-19T00:00:00",
          "2021-05-25T00:00:00",
          "2021-05-26T00:00:00",
          "2021-05-22T00:00:00",
          "2021-05-26T00:00:00",
          "2021-05-24T00:00:00",
          "2021-05-26T00:00:00",
          "2021-05-26T00:00:00",
          "2021-05-22T00:00:00",
          "2021-05-22T00:00:00"
         ],
         "xaxis": "x",
         "yaxis": "y"
        },
        {
         "alignmentgroup": "True",
         "bingroup": "x",
         "hovertemplate": "tier=3<br>date_exposure=%{x}<br>count=%{y}<extra></extra>",
         "legendgroup": "3",
         "marker": {
          "color": "rgb(77,175,74)"
         },
         "name": "3",
         "offsetgroup": "3",
         "orientation": "v",
         "showlegend": true,
         "type": "histogram",
         "x": [
          "2021-05-23T00:00:00",
          "2021-05-28T00:00:00",
          "2021-05-27T00:00:00",
          "2021-05-13T00:00:00",
          "2021-05-25T00:00:00",
          "2021-05-22T00:00:00",
          "2021-05-27T00:00:00",
          "2021-05-23T00:00:00",
          "2021-05-23T00:00:00"
         ],
         "xaxis": "x",
         "yaxis": "y"
        }
       ],
       "layout": {
        "annotations": [
         {
          "ax": 10,
          "ay": 20,
          "text": "lockdown",
          "x": "2021-05-27",
          "xanchor": "left",
          "y": 40
         }
        ],
        "bargap": 0.2,
        "barmode": "relative",
        "legend": {
         "title": {
          "text": "tier"
         },
         "tracegroupgap": 0
        },
        "shapes": [
         {
          "type": "line",
          "x0": "2021-05-27",
          "x1": "2021-05-27",
          "xref": "x",
          "y0": 0,
          "y1": 1,
          "yref": "y domain"
         }
        ],
        "template": {
         "data": {
          "bar": [
           {
            "error_x": {
             "color": "#f2f5fa"
            },
            "error_y": {
             "color": "#f2f5fa"
            },
            "marker": {
             "line": {
              "color": "rgb(17,17,17)",
              "width": 0.5
             }
            },
            "type": "bar"
           }
          ],
          "barpolar": [
           {
            "marker": {
             "line": {
              "color": "rgb(17,17,17)",
              "width": 0.5
             }
            },
            "type": "barpolar"
           }
          ],
          "carpet": [
           {
            "aaxis": {
             "endlinecolor": "#A2B1C6",
             "gridcolor": "#506784",
             "linecolor": "#506784",
             "minorgridcolor": "#506784",
             "startlinecolor": "#A2B1C6"
            },
            "baxis": {
             "endlinecolor": "#A2B1C6",
             "gridcolor": "#506784",
             "linecolor": "#506784",
             "minorgridcolor": "#506784",
             "startlinecolor": "#A2B1C6"
            },
            "type": "carpet"
           }
          ],
          "choropleth": [
           {
            "colorbar": {
             "outlinewidth": 0,
             "ticks": ""
            },
            "type": "choropleth"
           }
          ],
          "contour": [
           {
            "colorbar": {
             "outlinewidth": 0,
             "ticks": ""
            },
            "colorscale": [
             [
              0,
              "#0d0887"
             ],
             [
              0.1111111111111111,
              "#46039f"
             ],
             [
              0.2222222222222222,
              "#7201a8"
             ],
             [
              0.3333333333333333,
              "#9c179e"
             ],
             [
              0.4444444444444444,
              "#bd3786"
             ],
             [
              0.5555555555555556,
              "#d8576b"
             ],
             [
              0.6666666666666666,
              "#ed7953"
             ],
             [
              0.7777777777777778,
              "#fb9f3a"
             ],
             [
              0.8888888888888888,
              "#fdca26"
             ],
             [
              1,
              "#f0f921"
             ]
            ],
            "type": "contour"
           }
          ],
          "contourcarpet": [
           {
            "colorbar": {
             "outlinewidth": 0,
             "ticks": ""
            },
            "type": "contourcarpet"
           }
          ],
          "heatmap": [
           {
            "colorbar": {
             "outlinewidth": 0,
             "ticks": ""
            },
            "colorscale": [
             [
              0,
              "#0d0887"
             ],
             [
              0.1111111111111111,
              "#46039f"
             ],
             [
              0.2222222222222222,
              "#7201a8"
             ],
             [
              0.3333333333333333,
              "#9c179e"
             ],
             [
              0.4444444444444444,
              "#bd3786"
             ],
             [
              0.5555555555555556,
              "#d8576b"
             ],
             [
              0.6666666666666666,
              "#ed7953"
             ],
             [
              0.7777777777777778,
              "#fb9f3a"
             ],
             [
              0.8888888888888888,
              "#fdca26"
             ],
             [
              1,
              "#f0f921"
             ]
            ],
            "type": "heatmap"
           }
          ],
          "heatmapgl": [
           {
            "colorbar": {
             "outlinewidth": 0,
             "ticks": ""
            },
            "colorscale": [
             [
              0,
              "#0d0887"
             ],
             [
              0.1111111111111111,
              "#46039f"
             ],
             [
              0.2222222222222222,
              "#7201a8"
             ],
             [
              0.3333333333333333,
              "#9c179e"
             ],
             [
              0.4444444444444444,
              "#bd3786"
             ],
             [
              0.5555555555555556,
              "#d8576b"
             ],
             [
              0.6666666666666666,
              "#ed7953"
             ],
             [
              0.7777777777777778,
              "#fb9f3a"
             ],
             [
              0.8888888888888888,
              "#fdca26"
             ],
             [
              1,
              "#f0f921"
             ]
            ],
            "type": "heatmapgl"
           }
          ],
          "histogram": [
           {
            "marker": {
             "colorbar": {
              "outlinewidth": 0,
              "ticks": ""
             }
            },
            "type": "histogram"
           }
          ],
          "histogram2d": [
           {
            "colorbar": {
             "outlinewidth": 0,
             "ticks": ""
            },
            "colorscale": [
             [
              0,
              "#0d0887"
             ],
             [
              0.1111111111111111,
              "#46039f"
             ],
             [
              0.2222222222222222,
              "#7201a8"
             ],
             [
              0.3333333333333333,
              "#9c179e"
             ],
             [
              0.4444444444444444,
              "#bd3786"
             ],
             [
              0.5555555555555556,
              "#d8576b"
             ],
             [
              0.6666666666666666,
              "#ed7953"
             ],
             [
              0.7777777777777778,
              "#fb9f3a"
             ],
             [
              0.8888888888888888,
              "#fdca26"
             ],
             [
              1,
              "#f0f921"
             ]
            ],
            "type": "histogram2d"
           }
          ],
          "histogram2dcontour": [
           {
            "colorbar": {
             "outlinewidth": 0,
             "ticks": ""
            },
            "colorscale": [
             [
              0,
              "#0d0887"
             ],
             [
              0.1111111111111111,
              "#46039f"
             ],
             [
              0.2222222222222222,
              "#7201a8"
             ],
             [
              0.3333333333333333,
              "#9c179e"
             ],
             [
              0.4444444444444444,
              "#bd3786"
             ],
             [
              0.5555555555555556,
              "#d8576b"
             ],
             [
              0.6666666666666666,
              "#ed7953"
             ],
             [
              0.7777777777777778,
              "#fb9f3a"
             ],
             [
              0.8888888888888888,
              "#fdca26"
             ],
             [
              1,
              "#f0f921"
             ]
            ],
            "type": "histogram2dcontour"
           }
          ],
          "mesh3d": [
           {
            "colorbar": {
             "outlinewidth": 0,
             "ticks": ""
            },
            "type": "mesh3d"
           }
          ],
          "parcoords": [
           {
            "line": {
             "colorbar": {
              "outlinewidth": 0,
              "ticks": ""
             }
            },
            "type": "parcoords"
           }
          ],
          "pie": [
           {
            "automargin": true,
            "type": "pie"
           }
          ],
          "scatter": [
           {
            "marker": {
             "line": {
              "color": "#283442"
             }
            },
            "type": "scatter"
           }
          ],
          "scatter3d": [
           {
            "line": {
             "colorbar": {
              "outlinewidth": 0,
              "ticks": ""
             }
            },
            "marker": {
             "colorbar": {
              "outlinewidth": 0,
              "ticks": ""
             }
            },
            "type": "scatter3d"
           }
          ],
          "scattercarpet": [
           {
            "marker": {
             "colorbar": {
              "outlinewidth": 0,
              "ticks": ""
             }
            },
            "type": "scattercarpet"
           }
          ],
          "scattergeo": [
           {
            "marker": {
             "colorbar": {
              "outlinewidth": 0,
              "ticks": ""
             }
            },
            "type": "scattergeo"
           }
          ],
          "scattergl": [
           {
            "marker": {
             "line": {
              "color": "#283442"
             }
            },
            "type": "scattergl"
           }
          ],
          "scattermapbox": [
           {
            "marker": {
             "colorbar": {
              "outlinewidth": 0,
              "ticks": ""
             }
            },
            "type": "scattermapbox"
           }
          ],
          "scatterpolar": [
           {
            "marker": {
             "colorbar": {
              "outlinewidth": 0,
              "ticks": ""
             }
            },
            "type": "scatterpolar"
           }
          ],
          "scatterpolargl": [
           {
            "marker": {
             "colorbar": {
              "outlinewidth": 0,
              "ticks": ""
             }
            },
            "type": "scatterpolargl"
           }
          ],
          "scatterternary": [
           {
            "marker": {
             "colorbar": {
              "outlinewidth": 0,
              "ticks": ""
             }
            },
            "type": "scatterternary"
           }
          ],
          "surface": [
           {
            "colorbar": {
             "outlinewidth": 0,
             "ticks": ""
            },
            "colorscale": [
             [
              0,
              "#0d0887"
             ],
             [
              0.1111111111111111,
              "#46039f"
             ],
             [
              0.2222222222222222,
              "#7201a8"
             ],
             [
              0.3333333333333333,
              "#9c179e"
             ],
             [
              0.4444444444444444,
              "#bd3786"
             ],
             [
              0.5555555555555556,
              "#d8576b"
             ],
             [
              0.6666666666666666,
              "#ed7953"
             ],
             [
              0.7777777777777778,
              "#fb9f3a"
             ],
             [
              0.8888888888888888,
              "#fdca26"
             ],
             [
              1,
              "#f0f921"
             ]
            ],
            "type": "surface"
           }
          ],
          "table": [
           {
            "cells": {
             "fill": {
              "color": "#506784"
             },
             "line": {
              "color": "rgb(17,17,17)"
             }
            },
            "header": {
             "fill": {
              "color": "#2a3f5f"
             },
             "line": {
              "color": "rgb(17,17,17)"
             }
            },
            "type": "table"
           }
          ]
         },
         "layout": {
          "annotationdefaults": {
           "arrowcolor": "#f2f5fa",
           "arrowhead": 0,
           "arrowwidth": 1
          },
          "autotypenumbers": "strict",
          "coloraxis": {
           "colorbar": {
            "outlinewidth": 0,
            "ticks": ""
           }
          },
          "colorscale": {
           "diverging": [
            [
             0,
             "#8e0152"
            ],
            [
             0.1,
             "#c51b7d"
            ],
            [
             0.2,
             "#de77ae"
            ],
            [
             0.3,
             "#f1b6da"
            ],
            [
             0.4,
             "#fde0ef"
            ],
            [
             0.5,
             "#f7f7f7"
            ],
            [
             0.6,
             "#e6f5d0"
            ],
            [
             0.7,
             "#b8e186"
            ],
            [
             0.8,
             "#7fbc41"
            ],
            [
             0.9,
             "#4d9221"
            ],
            [
             1,
             "#276419"
            ]
           ],
           "sequential": [
            [
             0,
             "#0d0887"
            ],
            [
             0.1111111111111111,
             "#46039f"
            ],
            [
             0.2222222222222222,
             "#7201a8"
            ],
            [
             0.3333333333333333,
             "#9c179e"
            ],
            [
             0.4444444444444444,
             "#bd3786"
            ],
            [
             0.5555555555555556,
             "#d8576b"
            ],
            [
             0.6666666666666666,
             "#ed7953"
            ],
            [
             0.7777777777777778,
             "#fb9f3a"
            ],
            [
             0.8888888888888888,
             "#fdca26"
            ],
            [
             1,
             "#f0f921"
            ]
           ],
           "sequentialminus": [
            [
             0,
             "#0d0887"
            ],
            [
             0.1111111111111111,
             "#46039f"
            ],
            [
             0.2222222222222222,
             "#7201a8"
            ],
            [
             0.3333333333333333,
             "#9c179e"
            ],
            [
             0.4444444444444444,
             "#bd3786"
            ],
            [
             0.5555555555555556,
             "#d8576b"
            ],
            [
             0.6666666666666666,
             "#ed7953"
            ],
            [
             0.7777777777777778,
             "#fb9f3a"
            ],
            [
             0.8888888888888888,
             "#fdca26"
            ],
            [
             1,
             "#f0f921"
            ]
           ]
          },
          "colorway": [
           "#636efa",
           "#EF553B",
           "#00cc96",
           "#ab63fa",
           "#FFA15A",
           "#19d3f3",
           "#FF6692",
           "#B6E880",
           "#FF97FF",
           "#FECB52"
          ],
          "font": {
           "color": "#f2f5fa"
          },
          "geo": {
           "bgcolor": "rgb(17,17,17)",
           "lakecolor": "rgb(17,17,17)",
           "landcolor": "rgb(17,17,17)",
           "showlakes": true,
           "showland": true,
           "subunitcolor": "#506784"
          },
          "hoverlabel": {
           "align": "left"
          },
          "hovermode": "closest",
          "mapbox": {
           "style": "dark"
          },
          "paper_bgcolor": "rgb(17,17,17)",
          "plot_bgcolor": "rgb(17,17,17)",
          "polar": {
           "angularaxis": {
            "gridcolor": "#506784",
            "linecolor": "#506784",
            "ticks": ""
           },
           "bgcolor": "rgb(17,17,17)",
           "radialaxis": {
            "gridcolor": "#506784",
            "linecolor": "#506784",
            "ticks": ""
           }
          },
          "scene": {
           "xaxis": {
            "backgroundcolor": "rgb(17,17,17)",
            "gridcolor": "#506784",
            "gridwidth": 2,
            "linecolor": "#506784",
            "showbackground": true,
            "ticks": "",
            "zerolinecolor": "#C8D4E3"
           },
           "yaxis": {
            "backgroundcolor": "rgb(17,17,17)",
            "gridcolor": "#506784",
            "gridwidth": 2,
            "linecolor": "#506784",
            "showbackground": true,
            "ticks": "",
            "zerolinecolor": "#C8D4E3"
           },
           "zaxis": {
            "backgroundcolor": "rgb(17,17,17)",
            "gridcolor": "#506784",
            "gridwidth": 2,
            "linecolor": "#506784",
            "showbackground": true,
            "ticks": "",
            "zerolinecolor": "#C8D4E3"
           }
          },
          "shapedefaults": {
           "line": {
            "color": "#f2f5fa"
           }
          },
          "sliderdefaults": {
           "bgcolor": "#C8D4E3",
           "bordercolor": "rgb(17,17,17)",
           "borderwidth": 1,
           "tickwidth": 0
          },
          "ternary": {
           "aaxis": {
            "gridcolor": "#506784",
            "linecolor": "#506784",
            "ticks": ""
           },
           "baxis": {
            "gridcolor": "#506784",
            "linecolor": "#506784",
            "ticks": ""
           },
           "bgcolor": "rgb(17,17,17)",
           "caxis": {
            "gridcolor": "#506784",
            "linecolor": "#506784",
            "ticks": ""
           }
          },
          "title": {
           "x": 0.05
          },
          "updatemenudefaults": {
           "bgcolor": "#506784",
           "borderwidth": 0
          },
          "xaxis": {
           "automargin": true,
           "gridcolor": "#283442",
           "linecolor": "#506784",
           "ticks": "",
           "title": {
            "standoff": 15
           },
           "zerolinecolor": "#283442",
           "zerolinewidth": 2
          },
          "yaxis": {
           "automargin": true,
           "gridcolor": "#283442",
           "linecolor": "#506784",
           "ticks": "",
           "title": {
            "standoff": 15
           },
           "zerolinecolor": "#283442",
           "zerolinewidth": 2
          }
         }
        },
        "title": {
         "text": "Exposure time"
        },
        "xaxis": {
         "anchor": "y",
         "domain": [
          0,
          1
         ],
         "nticks": 10,
         "tickangle": 60,
         "title": {
          "text": "date_exposure"
         }
        },
        "yaxis": {
         "anchor": "x",
         "domain": [
          0,
          1
         ],
         "title": {
          "text": "count"
         }
        }
       }
      },
      "text/html": [
       "<div>                            <div id=\"4c9867a5-99e8-444c-a4fc-912560346616\" class=\"plotly-graph-div\" style=\"height:525px; width:100%;\"></div>            <script type=\"text/javascript\">                require([\"plotly\"], function(Plotly) {                    window.PLOTLYENV=window.PLOTLYENV || {};                                    if (document.getElementById(\"4c9867a5-99e8-444c-a4fc-912560346616\")) {                    Plotly.newPlot(                        \"4c9867a5-99e8-444c-a4fc-912560346616\",                        [{\"alignmentgroup\": \"True\", \"bingroup\": \"x\", \"hovertemplate\": \"tier=1<br>date_exposure=%{x}<br>count=%{y}<extra></extra>\", \"legendgroup\": \"1\", \"marker\": {\"color\": \"rgb(228,26,28)\"}, \"name\": \"1\", \"offsetgroup\": \"1\", \"orientation\": \"v\", \"showlegend\": true, \"type\": \"histogram\", \"x\": [\"2021-05-19T00:00:00\", \"2021-05-21T00:00:00\", \"2021-05-26T00:00:00\", \"2021-05-21T00:00:00\", \"2021-05-25T00:00:00\", \"2021-05-23T00:00:00\", \"2021-05-22T00:00:00\", \"2021-05-21T00:00:00\", \"2021-05-22T00:00:00\", \"2021-05-23T00:00:00\", \"2021-05-20T00:00:00\", \"2021-05-26T00:00:00\", \"2021-05-21T00:00:00\", \"2021-05-23T00:00:00\", \"2021-05-22T00:00:00\", \"2021-05-23T00:00:00\", \"2021-05-23T00:00:00\", \"2021-05-22T00:00:00\", \"2021-05-21T00:00:00\", \"2021-05-25T00:00:00\", \"2021-05-23T00:00:00\", \"2021-05-19T00:00:00\", \"2021-05-24T00:00:00\", \"2021-05-19T00:00:00\", \"2021-05-22T00:00:00\", \"2021-05-21T00:00:00\", \"2021-05-20T00:00:00\", \"2021-05-18T00:00:00\", \"2021-05-21T00:00:00\", \"2021-05-17T00:00:00\", \"2021-05-18T00:00:00\", \"2021-05-20T00:00:00\", \"2021-05-21T00:00:00\", \"2021-05-24T00:00:00\", \"2021-05-25T00:00:00\", \"2021-05-27T00:00:00\", \"2021-05-28T00:00:00\", \"2021-05-12T00:00:00\", \"2021-05-13T00:00:00\", \"2021-05-20T00:00:00\", \"2021-05-21T00:00:00\", \"2021-05-23T00:00:00\", \"2021-05-23T00:00:00\", \"2021-05-25T00:00:00\", \"2021-05-23T00:00:00\", \"2021-05-23T00:00:00\", \"2021-05-19T00:00:00\", \"2021-05-22T00:00:00\", \"2021-05-23T00:00:00\", \"2021-05-25T00:00:00\", \"2021-05-24T00:00:00\", \"2021-05-25T00:00:00\", \"2021-05-24T00:00:00\", \"2021-05-23T00:00:00\", \"2021-05-24T00:00:00\", \"2021-05-25T00:00:00\", \"2021-05-25T00:00:00\", \"2021-05-24T00:00:00\", \"2021-05-23T00:00:00\", \"2021-05-23T00:00:00\", \"2021-05-23T00:00:00\", \"2021-05-24T00:00:00\", \"2021-05-20T00:00:00\", \"2021-05-22T00:00:00\", \"2021-05-22T00:00:00\", \"2021-05-22T00:00:00\", \"2021-05-22T00:00:00\", \"2021-05-19T00:00:00\", \"2021-05-21T00:00:00\", \"2021-05-26T00:00:00\", \"2021-05-19T00:00:00\", \"2021-05-25T00:00:00\", \"2021-05-19T00:00:00\", \"2021-05-18T00:00:00\", \"2021-05-18T00:00:00\", \"2021-05-18T00:00:00\", \"2021-05-18T00:00:00\", \"2021-05-25T00:00:00\", \"2021-05-24T00:00:00\", \"2021-05-22T00:00:00\", \"2021-05-25T00:00:00\", \"2021-05-24T00:00:00\", \"2021-05-22T00:00:00\", \"2021-05-24T00:00:00\", \"2021-05-25T00:00:00\", \"2021-05-26T00:00:00\", \"2021-05-22T00:00:00\", \"2021-05-23T00:00:00\", \"2021-05-25T00:00:00\", \"2021-05-27T00:00:00\", \"2021-05-22T00:00:00\", \"2021-05-24T00:00:00\", \"2021-05-26T00:00:00\", \"2021-05-24T00:00:00\", \"2021-05-29T00:00:00\", \"2021-05-26T00:00:00\", \"2021-05-28T00:00:00\", \"2021-05-27T00:00:00\", \"2021-05-26T00:00:00\", \"2021-05-21T00:00:00\", \"2021-05-26T00:00:00\", \"2021-05-22T00:00:00\", \"2021-05-21T00:00:00\", \"2021-05-24T00:00:00\", \"2021-05-24T00:00:00\", \"2021-05-22T00:00:00\", \"2021-05-20T00:00:00\", \"2021-05-29T00:00:00\", \"2021-05-25T00:00:00\", \"2021-05-27T00:00:00\", \"2021-05-27T00:00:00\", \"2021-05-24T00:00:00\", \"2021-05-22T00:00:00\", \"2021-05-21T00:00:00\", \"2021-05-22T00:00:00\", \"2021-05-26T00:00:00\", \"2021-05-18T00:00:00\", \"2021-05-17T00:00:00\", \"2021-05-20T00:00:00\", \"2021-05-20T00:00:00\", \"2021-05-20T00:00:00\", \"2021-05-20T00:00:00\", \"2021-05-20T00:00:00\", \"2021-05-19T00:00:00\", \"2021-05-27T00:00:00\", \"2021-05-25T00:00:00\", \"2021-05-26T00:00:00\", \"2021-05-22T00:00:00\", \"2021-05-20T00:00:00\", \"2021-05-27T00:00:00\", \"2021-05-27T00:00:00\", \"2021-05-23T00:00:00\", \"2021-05-22T00:00:00\", \"2021-05-22T00:00:00\", \"2021-05-22T00:00:00\", \"2021-05-28T00:00:00\", \"2021-05-26T00:00:00\", \"2021-05-23T00:00:00\", \"2021-05-22T00:00:00\", \"2021-05-25T00:00:00\", \"2021-05-25T00:00:00\", \"2021-05-25T00:00:00\", \"2021-05-24T00:00:00\", \"2021-05-25T00:00:00\", \"2021-05-28T00:00:00\", \"2021-05-27T00:00:00\", \"2021-05-23T00:00:00\", \"2021-05-26T00:00:00\", \"2021-05-28T00:00:00\", \"2021-05-27T00:00:00\", \"2021-05-26T00:00:00\", \"2021-05-26T00:00:00\", \"2021-05-26T00:00:00\", \"2021-05-26T00:00:00\", \"2021-05-23T00:00:00\", \"2021-05-26T00:00:00\", \"2021-05-22T00:00:00\", \"2021-05-24T00:00:00\", \"2021-05-17T00:00:00\", \"2021-05-17T00:00:00\", \"2021-05-25T00:00:00\"], \"xaxis\": \"x\", \"yaxis\": \"y\"}, {\"alignmentgroup\": \"True\", \"bingroup\": \"x\", \"hovertemplate\": \"tier=2<br>date_exposure=%{x}<br>count=%{y}<extra></extra>\", \"legendgroup\": \"2\", \"marker\": {\"color\": \"rgb(55,126,184)\"}, \"name\": \"2\", \"offsetgroup\": \"2\", \"orientation\": \"v\", \"showlegend\": true, \"type\": \"histogram\", \"x\": [\"2021-05-23T00:00:00\", \"2021-05-24T00:00:00\", \"2021-05-24T00:00:00\", \"2021-05-20T00:00:00\", \"2021-05-24T00:00:00\", \"2021-05-23T00:00:00\", \"2021-05-19T00:00:00\", \"2021-05-23T00:00:00\", \"2021-05-22T00:00:00\", \"2021-05-21T00:00:00\", \"2021-05-23T00:00:00\", \"2021-05-23T00:00:00\", \"2021-05-24T00:00:00\", \"2021-05-22T00:00:00\", \"2021-05-22T00:00:00\", \"2021-05-23T00:00:00\", \"2021-05-22T00:00:00\", \"2021-05-25T00:00:00\", \"2021-05-23T00:00:00\", \"2021-05-14T00:00:00\", \"2021-05-14T00:00:00\", \"2021-05-14T00:00:00\", \"2021-05-19T00:00:00\", \"2021-05-20T00:00:00\", \"2021-05-22T00:00:00\", \"2021-05-19T00:00:00\", \"2021-05-19T00:00:00\", \"2021-05-20T00:00:00\", \"2021-05-17T00:00:00\", \"2021-05-23T00:00:00\", \"2021-05-23T00:00:00\", \"2021-05-22T00:00:00\", \"2021-05-21T00:00:00\", \"2021-05-22T00:00:00\", \"2021-05-20T00:00:00\", \"2021-05-23T00:00:00\", \"2021-05-22T00:00:00\", \"2021-05-23T00:00:00\", \"2021-05-22T00:00:00\", \"2021-05-22T00:00:00\", \"2021-05-22T00:00:00\", \"2021-05-23T00:00:00\", \"2021-05-24T00:00:00\", \"2021-05-23T00:00:00\", \"2021-05-22T00:00:00\", \"2021-05-24T00:00:00\", \"2021-05-24T00:00:00\", \"2021-05-23T00:00:00\", \"2021-05-23T00:00:00\", \"2021-05-22T00:00:00\", \"2021-05-22T00:00:00\", \"2021-05-23T00:00:00\", \"2021-05-23T00:00:00\", \"2021-05-21T00:00:00\", \"2021-05-26T00:00:00\", \"2021-05-24T00:00:00\", \"2021-05-19T00:00:00\", \"2021-05-26T00:00:00\", \"2021-05-27T00:00:00\", \"2021-05-24T00:00:00\", \"2021-05-22T00:00:00\", \"2021-05-23T00:00:00\", \"2021-05-23T00:00:00\", \"2021-05-28T00:00:00\", \"2021-05-26T00:00:00\", \"2021-05-22T00:00:00\", \"2021-05-23T00:00:00\", \"2021-05-23T00:00:00\", \"2021-05-25T00:00:00\", \"2021-05-21T00:00:00\", \"2021-05-26T00:00:00\", \"2021-05-26T00:00:00\", \"2021-05-15T00:00:00\", \"2021-05-15T00:00:00\", \"2021-05-22T00:00:00\", \"2021-05-23T00:00:00\", \"2021-05-20T00:00:00\", \"2021-05-18T00:00:00\", \"2021-05-26T00:00:00\", \"2021-05-26T00:00:00\", \"2021-05-26T00:00:00\", \"2021-05-25T00:00:00\", \"2021-05-25T00:00:00\", \"2021-05-24T00:00:00\", \"2021-05-22T00:00:00\", \"2021-05-18T00:00:00\", \"2021-05-17T00:00:00\", \"2021-05-22T00:00:00\", \"2021-05-26T00:00:00\", \"2021-05-25T00:00:00\", \"2021-05-24T00:00:00\", \"2021-05-25T00:00:00\", \"2021-05-25T00:00:00\", \"2021-05-24T00:00:00\", \"2021-05-22T00:00:00\", \"2021-05-22T00:00:00\", \"2021-05-26T00:00:00\", \"2021-05-23T00:00:00\", \"2021-05-23T00:00:00\", \"2021-05-23T00:00:00\", \"2021-05-23T00:00:00\", \"2021-05-22T00:00:00\", \"2021-05-23T00:00:00\", \"2021-05-25T00:00:00\", \"2021-05-24T00:00:00\", \"2021-05-24T00:00:00\", \"2021-05-22T00:00:00\", \"2021-05-28T00:00:00\", \"2021-05-23T00:00:00\", \"2021-05-18T00:00:00\", \"2021-05-22T00:00:00\", \"2021-05-18T00:00:00\", \"2021-05-25T00:00:00\", \"2021-05-26T00:00:00\", \"2021-05-24T00:00:00\", \"2021-05-27T00:00:00\", \"2021-05-25T00:00:00\", \"2021-05-19T00:00:00\", \"2021-05-19T00:00:00\", \"2021-05-25T00:00:00\", \"2021-05-26T00:00:00\", \"2021-05-22T00:00:00\", \"2021-05-26T00:00:00\", \"2021-05-24T00:00:00\", \"2021-05-26T00:00:00\", \"2021-05-26T00:00:00\", \"2021-05-22T00:00:00\", \"2021-05-22T00:00:00\"], \"xaxis\": \"x\", \"yaxis\": \"y\"}, {\"alignmentgroup\": \"True\", \"bingroup\": \"x\", \"hovertemplate\": \"tier=3<br>date_exposure=%{x}<br>count=%{y}<extra></extra>\", \"legendgroup\": \"3\", \"marker\": {\"color\": \"rgb(77,175,74)\"}, \"name\": \"3\", \"offsetgroup\": \"3\", \"orientation\": \"v\", \"showlegend\": true, \"type\": \"histogram\", \"x\": [\"2021-05-23T00:00:00\", \"2021-05-28T00:00:00\", \"2021-05-27T00:00:00\", \"2021-05-13T00:00:00\", \"2021-05-25T00:00:00\", \"2021-05-22T00:00:00\", \"2021-05-27T00:00:00\", \"2021-05-23T00:00:00\", \"2021-05-23T00:00:00\"], \"xaxis\": \"x\", \"yaxis\": \"y\"}],                        {\"annotations\": [{\"ax\": 10, \"ay\": 20, \"text\": \"lockdown\", \"x\": \"2021-05-27\", \"xanchor\": \"left\", \"y\": 40}], \"bargap\": 0.2, \"barmode\": \"relative\", \"legend\": {\"title\": {\"text\": \"tier\"}, \"tracegroupgap\": 0}, \"shapes\": [{\"type\": \"line\", \"x0\": \"2021-05-27\", \"x1\": \"2021-05-27\", \"xref\": \"x\", \"y0\": 0, \"y1\": 1, \"yref\": \"y domain\"}], \"template\": {\"data\": {\"bar\": [{\"error_x\": {\"color\": \"#f2f5fa\"}, \"error_y\": {\"color\": \"#f2f5fa\"}, \"marker\": {\"line\": {\"color\": \"rgb(17,17,17)\", \"width\": 0.5}}, \"type\": \"bar\"}], \"barpolar\": [{\"marker\": {\"line\": {\"color\": \"rgb(17,17,17)\", \"width\": 0.5}}, \"type\": \"barpolar\"}], \"carpet\": [{\"aaxis\": {\"endlinecolor\": \"#A2B1C6\", \"gridcolor\": \"#506784\", \"linecolor\": \"#506784\", \"minorgridcolor\": \"#506784\", \"startlinecolor\": \"#A2B1C6\"}, \"baxis\": {\"endlinecolor\": \"#A2B1C6\", \"gridcolor\": \"#506784\", \"linecolor\": \"#506784\", \"minorgridcolor\": \"#506784\", \"startlinecolor\": \"#A2B1C6\"}, \"type\": \"carpet\"}], \"choropleth\": [{\"colorbar\": {\"outlinewidth\": 0, \"ticks\": \"\"}, \"type\": \"choropleth\"}], \"contour\": [{\"colorbar\": {\"outlinewidth\": 0, \"ticks\": \"\"}, \"colorscale\": [[0.0, \"#0d0887\"], [0.1111111111111111, \"#46039f\"], [0.2222222222222222, \"#7201a8\"], [0.3333333333333333, \"#9c179e\"], [0.4444444444444444, \"#bd3786\"], [0.5555555555555556, \"#d8576b\"], [0.6666666666666666, \"#ed7953\"], [0.7777777777777778, \"#fb9f3a\"], [0.8888888888888888, \"#fdca26\"], [1.0, \"#f0f921\"]], \"type\": \"contour\"}], \"contourcarpet\": [{\"colorbar\": {\"outlinewidth\": 0, \"ticks\": \"\"}, \"type\": \"contourcarpet\"}], \"heatmap\": [{\"colorbar\": {\"outlinewidth\": 0, \"ticks\": \"\"}, \"colorscale\": [[0.0, \"#0d0887\"], [0.1111111111111111, \"#46039f\"], [0.2222222222222222, \"#7201a8\"], [0.3333333333333333, \"#9c179e\"], [0.4444444444444444, \"#bd3786\"], [0.5555555555555556, \"#d8576b\"], [0.6666666666666666, \"#ed7953\"], [0.7777777777777778, \"#fb9f3a\"], [0.8888888888888888, \"#fdca26\"], [1.0, \"#f0f921\"]], \"type\": \"heatmap\"}], \"heatmapgl\": [{\"colorbar\": {\"outlinewidth\": 0, \"ticks\": \"\"}, \"colorscale\": [[0.0, \"#0d0887\"], [0.1111111111111111, \"#46039f\"], [0.2222222222222222, \"#7201a8\"], [0.3333333333333333, \"#9c179e\"], [0.4444444444444444, \"#bd3786\"], [0.5555555555555556, \"#d8576b\"], [0.6666666666666666, \"#ed7953\"], [0.7777777777777778, \"#fb9f3a\"], [0.8888888888888888, \"#fdca26\"], [1.0, \"#f0f921\"]], \"type\": \"heatmapgl\"}], \"histogram\": [{\"marker\": {\"colorbar\": {\"outlinewidth\": 0, \"ticks\": \"\"}}, \"type\": \"histogram\"}], \"histogram2d\": [{\"colorbar\": {\"outlinewidth\": 0, \"ticks\": \"\"}, \"colorscale\": [[0.0, \"#0d0887\"], [0.1111111111111111, \"#46039f\"], [0.2222222222222222, \"#7201a8\"], [0.3333333333333333, \"#9c179e\"], [0.4444444444444444, \"#bd3786\"], [0.5555555555555556, \"#d8576b\"], [0.6666666666666666, \"#ed7953\"], [0.7777777777777778, \"#fb9f3a\"], [0.8888888888888888, \"#fdca26\"], [1.0, \"#f0f921\"]], \"type\": \"histogram2d\"}], \"histogram2dcontour\": [{\"colorbar\": {\"outlinewidth\": 0, \"ticks\": \"\"}, \"colorscale\": [[0.0, \"#0d0887\"], [0.1111111111111111, \"#46039f\"], [0.2222222222222222, \"#7201a8\"], [0.3333333333333333, \"#9c179e\"], [0.4444444444444444, \"#bd3786\"], [0.5555555555555556, \"#d8576b\"], [0.6666666666666666, \"#ed7953\"], [0.7777777777777778, \"#fb9f3a\"], [0.8888888888888888, \"#fdca26\"], [1.0, \"#f0f921\"]], \"type\": \"histogram2dcontour\"}], \"mesh3d\": [{\"colorbar\": {\"outlinewidth\": 0, \"ticks\": \"\"}, \"type\": \"mesh3d\"}], \"parcoords\": [{\"line\": {\"colorbar\": {\"outlinewidth\": 0, \"ticks\": \"\"}}, \"type\": \"parcoords\"}], \"pie\": [{\"automargin\": true, \"type\": \"pie\"}], \"scatter\": [{\"marker\": {\"line\": {\"color\": \"#283442\"}}, \"type\": \"scatter\"}], \"scatter3d\": [{\"line\": {\"colorbar\": {\"outlinewidth\": 0, \"ticks\": \"\"}}, \"marker\": {\"colorbar\": {\"outlinewidth\": 0, \"ticks\": \"\"}}, \"type\": \"scatter3d\"}], \"scattercarpet\": [{\"marker\": {\"colorbar\": {\"outlinewidth\": 0, \"ticks\": \"\"}}, \"type\": \"scattercarpet\"}], \"scattergeo\": [{\"marker\": {\"colorbar\": {\"outlinewidth\": 0, \"ticks\": \"\"}}, \"type\": \"scattergeo\"}], \"scattergl\": [{\"marker\": {\"line\": {\"color\": \"#283442\"}}, \"type\": \"scattergl\"}], \"scattermapbox\": [{\"marker\": {\"colorbar\": {\"outlinewidth\": 0, \"ticks\": \"\"}}, \"type\": \"scattermapbox\"}], \"scatterpolar\": [{\"marker\": {\"colorbar\": {\"outlinewidth\": 0, \"ticks\": \"\"}}, \"type\": \"scatterpolar\"}], \"scatterpolargl\": [{\"marker\": {\"colorbar\": {\"outlinewidth\": 0, \"ticks\": \"\"}}, \"type\": \"scatterpolargl\"}], \"scatterternary\": [{\"marker\": {\"colorbar\": {\"outlinewidth\": 0, \"ticks\": \"\"}}, \"type\": \"scatterternary\"}], \"surface\": [{\"colorbar\": {\"outlinewidth\": 0, \"ticks\": \"\"}, \"colorscale\": [[0.0, \"#0d0887\"], [0.1111111111111111, \"#46039f\"], [0.2222222222222222, \"#7201a8\"], [0.3333333333333333, \"#9c179e\"], [0.4444444444444444, \"#bd3786\"], [0.5555555555555556, \"#d8576b\"], [0.6666666666666666, \"#ed7953\"], [0.7777777777777778, \"#fb9f3a\"], [0.8888888888888888, \"#fdca26\"], [1.0, \"#f0f921\"]], \"type\": \"surface\"}], \"table\": [{\"cells\": {\"fill\": {\"color\": \"#506784\"}, \"line\": {\"color\": \"rgb(17,17,17)\"}}, \"header\": {\"fill\": {\"color\": \"#2a3f5f\"}, \"line\": {\"color\": \"rgb(17,17,17)\"}}, \"type\": \"table\"}]}, \"layout\": {\"annotationdefaults\": {\"arrowcolor\": \"#f2f5fa\", \"arrowhead\": 0, \"arrowwidth\": 1}, \"autotypenumbers\": \"strict\", \"coloraxis\": {\"colorbar\": {\"outlinewidth\": 0, \"ticks\": \"\"}}, \"colorscale\": {\"diverging\": [[0, \"#8e0152\"], [0.1, \"#c51b7d\"], [0.2, \"#de77ae\"], [0.3, \"#f1b6da\"], [0.4, \"#fde0ef\"], [0.5, \"#f7f7f7\"], [0.6, \"#e6f5d0\"], [0.7, \"#b8e186\"], [0.8, \"#7fbc41\"], [0.9, \"#4d9221\"], [1, \"#276419\"]], \"sequential\": [[0.0, \"#0d0887\"], [0.1111111111111111, \"#46039f\"], [0.2222222222222222, \"#7201a8\"], [0.3333333333333333, \"#9c179e\"], [0.4444444444444444, \"#bd3786\"], [0.5555555555555556, \"#d8576b\"], [0.6666666666666666, \"#ed7953\"], [0.7777777777777778, \"#fb9f3a\"], [0.8888888888888888, \"#fdca26\"], [1.0, \"#f0f921\"]], \"sequentialminus\": [[0.0, \"#0d0887\"], [0.1111111111111111, \"#46039f\"], [0.2222222222222222, \"#7201a8\"], [0.3333333333333333, \"#9c179e\"], [0.4444444444444444, \"#bd3786\"], [0.5555555555555556, \"#d8576b\"], [0.6666666666666666, \"#ed7953\"], [0.7777777777777778, \"#fb9f3a\"], [0.8888888888888888, \"#fdca26\"], [1.0, \"#f0f921\"]]}, \"colorway\": [\"#636efa\", \"#EF553B\", \"#00cc96\", \"#ab63fa\", \"#FFA15A\", \"#19d3f3\", \"#FF6692\", \"#B6E880\", \"#FF97FF\", \"#FECB52\"], \"font\": {\"color\": \"#f2f5fa\"}, \"geo\": {\"bgcolor\": \"rgb(17,17,17)\", \"lakecolor\": \"rgb(17,17,17)\", \"landcolor\": \"rgb(17,17,17)\", \"showlakes\": true, \"showland\": true, \"subunitcolor\": \"#506784\"}, \"hoverlabel\": {\"align\": \"left\"}, \"hovermode\": \"closest\", \"mapbox\": {\"style\": \"dark\"}, \"paper_bgcolor\": \"rgb(17,17,17)\", \"plot_bgcolor\": \"rgb(17,17,17)\", \"polar\": {\"angularaxis\": {\"gridcolor\": \"#506784\", \"linecolor\": \"#506784\", \"ticks\": \"\"}, \"bgcolor\": \"rgb(17,17,17)\", \"radialaxis\": {\"gridcolor\": \"#506784\", \"linecolor\": \"#506784\", \"ticks\": \"\"}}, \"scene\": {\"xaxis\": {\"backgroundcolor\": \"rgb(17,17,17)\", \"gridcolor\": \"#506784\", \"gridwidth\": 2, \"linecolor\": \"#506784\", \"showbackground\": true, \"ticks\": \"\", \"zerolinecolor\": \"#C8D4E3\"}, \"yaxis\": {\"backgroundcolor\": \"rgb(17,17,17)\", \"gridcolor\": \"#506784\", \"gridwidth\": 2, \"linecolor\": \"#506784\", \"showbackground\": true, \"ticks\": \"\", \"zerolinecolor\": \"#C8D4E3\"}, \"zaxis\": {\"backgroundcolor\": \"rgb(17,17,17)\", \"gridcolor\": \"#506784\", \"gridwidth\": 2, \"linecolor\": \"#506784\", \"showbackground\": true, \"ticks\": \"\", \"zerolinecolor\": \"#C8D4E3\"}}, \"shapedefaults\": {\"line\": {\"color\": \"#f2f5fa\"}}, \"sliderdefaults\": {\"bgcolor\": \"#C8D4E3\", \"bordercolor\": \"rgb(17,17,17)\", \"borderwidth\": 1, \"tickwidth\": 0}, \"ternary\": {\"aaxis\": {\"gridcolor\": \"#506784\", \"linecolor\": \"#506784\", \"ticks\": \"\"}, \"baxis\": {\"gridcolor\": \"#506784\", \"linecolor\": \"#506784\", \"ticks\": \"\"}, \"bgcolor\": \"rgb(17,17,17)\", \"caxis\": {\"gridcolor\": \"#506784\", \"linecolor\": \"#506784\", \"ticks\": \"\"}}, \"title\": {\"x\": 0.05}, \"updatemenudefaults\": {\"bgcolor\": \"#506784\", \"borderwidth\": 0}, \"xaxis\": {\"automargin\": true, \"gridcolor\": \"#283442\", \"linecolor\": \"#506784\", \"ticks\": \"\", \"title\": {\"standoff\": 15}, \"zerolinecolor\": \"#283442\", \"zerolinewidth\": 2}, \"yaxis\": {\"automargin\": true, \"gridcolor\": \"#283442\", \"linecolor\": \"#506784\", \"ticks\": \"\", \"title\": {\"standoff\": 15}, \"zerolinecolor\": \"#283442\", \"zerolinewidth\": 2}}}, \"title\": {\"text\": \"Exposure time\"}, \"xaxis\": {\"anchor\": \"y\", \"domain\": [0.0, 1.0], \"nticks\": 10, \"tickangle\": 60, \"title\": {\"text\": \"date_exposure\"}}, \"yaxis\": {\"anchor\": \"x\", \"domain\": [0.0, 1.0], \"title\": {\"text\": \"count\"}}},                        {\"responsive\": true}                    ).then(function(){\n",
       "                            \n",
       "var gd = document.getElementById('4c9867a5-99e8-444c-a4fc-912560346616');\n",
       "var x = new MutationObserver(function (mutations, observer) {{\n",
       "        var display = window.getComputedStyle(gd).display;\n",
       "        if (!display || display === 'none') {{\n",
       "            console.log([gd, 'removed!']);\n",
       "            Plotly.purge(gd);\n",
       "            observer.disconnect();\n",
       "        }}\n",
       "}});\n",
       "\n",
       "// Listen for the removal of the full notebook cells\n",
       "var notebookContainer = gd.closest('#notebook-container');\n",
       "if (notebookContainer) {{\n",
       "    x.observe(notebookContainer, {childList: true});\n",
       "}}\n",
       "\n",
       "// Listen for the clearing of the current output cell\n",
       "var outputEl = gd.closest('.output');\n",
       "if (outputEl) {{\n",
       "    x.observe(outputEl, {childList: true});\n",
       "}}\n",
       "\n",
       "                        })                };                });            </script>        </div>"
      ]
     },
     "metadata": {},
     "output_type": "display_data"
    }
   ],
   "source": [
    "fig_date = px.histogram(elements.sort_values(by='tier'), x='date_exposure', template='plotly_dark', color='tier', color_discrete_sequence=px.colors.qualitative.Set1[0:3], title='Exposure time')\n",
    "fig_date.add_vline(x='2021-05-27')\n",
    "fig_date.add_annotation(x = '2021-05-27', y= 40, text='lockdown', xanchor='left', ax=10, ay=20)\n",
    "\n",
    "fig_date.update_layout(\n",
    "    bargap=0.2, # gap between bars of adjacent location coordinates\n",
    ")\n",
    "\n",
    "fig_date.update_xaxes(\n",
    "    tickangle = 60, \n",
    "    nticks = 10\n",
    ")\n",
    "\n",
    "fig_date.show()"
   ]
  },
  {
   "cell_type": "code",
   "execution_count": 158,
   "metadata": {},
   "outputs": [
    {
     "name": "stderr",
     "output_type": "stream",
     "text": [
      "<ipython-input-158-767a3a2e7ad0>:1: FutureWarning:\n",
      "\n",
      "Treating datetime data as categorical rather than numeric in `.describe` is deprecated and will be removed in a future version of pandas. Specify `datetime_is_numeric=True` to silence this warning and adopt the future behavior now.\n",
      "\n"
     ]
    },
    {
     "data": {
      "text/plain": [
       "count                     298\n",
       "unique                     17\n",
       "top       2021-05-22 00:00:00\n",
       "freq                       52\n",
       "first     2021-05-12 00:00:00\n",
       "last      2021-05-29 00:00:00\n",
       "Name: date_exposure, dtype: object"
      ]
     },
     "execution_count": 158,
     "metadata": {},
     "output_type": "execute_result"
    }
   ],
   "source": [
    "elements.date_exposure.describe()"
   ]
  },
  {
   "cell_type": "code",
   "execution_count": 159,
   "metadata": {},
   "outputs": [
    {
     "data": {
      "application/vnd.plotly.v1+json": {
       "config": {
        "plotlyServerURL": "https://plot.ly"
       },
       "data": [
        {
         "coloraxis": "coloraxis",
         "hovertemplate": "date_exposure=%{x}<br>date_added=%{y}<br>count=%{z}<extra></extra>",
         "name": "",
         "nbinsx": 20,
         "nbinsy": 20,
         "type": "histogram2d",
         "x": [
          "2021-05-23T00:00:00",
          "2021-05-28T00:00:00",
          "2021-05-28T00:00:00",
          "2021-05-28T00:00:00",
          "2021-05-26T00:00:00",
          "2021-05-27T00:00:00",
          "2021-05-28T00:00:00",
          "2021-05-29T00:00:00",
          "2021-05-26T00:00:00",
          "2021-05-26T00:00:00",
          "2021-05-26T00:00:00",
          "2021-05-27T00:00:00",
          "2021-05-28T00:00:00",
          "2021-05-29T00:00:00",
          "2021-05-28T00:00:00",
          "2021-05-25T00:00:00",
          "2021-05-27T00:00:00",
          "2021-05-27T00:00:00",
          "2021-05-27T00:00:00",
          "2021-05-22T00:00:00",
          "2021-05-23T00:00:00",
          "2021-05-23T00:00:00",
          "2021-05-25T00:00:00",
          "2021-05-21T00:00:00",
          "2021-05-26T00:00:00",
          "2021-05-26T00:00:00",
          "2021-05-24T00:00:00",
          "2021-05-25T00:00:00",
          "2021-05-26T00:00:00",
          "2021-05-26T00:00:00",
          "2021-05-15T00:00:00",
          "2021-05-15T00:00:00",
          "2021-05-22T00:00:00",
          "2021-05-23T00:00:00",
          "2021-05-20T00:00:00",
          "2021-05-18T00:00:00",
          "2021-05-26T00:00:00",
          "2021-05-26T00:00:00",
          "2021-05-26T00:00:00",
          "2021-05-25T00:00:00",
          "2021-05-25T00:00:00",
          "2021-05-24T00:00:00",
          "2021-05-23T00:00:00",
          "2021-05-23T00:00:00",
          "2021-05-25T00:00:00",
          "2021-05-22T00:00:00",
          "2021-05-23T00:00:00",
          "2021-05-22T00:00:00",
          "2021-05-22T00:00:00",
          "2021-05-23T00:00:00",
          "2021-05-26T00:00:00",
          "2021-05-24T00:00:00",
          "2021-05-23T00:00:00",
          "2021-05-22T00:00:00",
          "2021-05-24T00:00:00",
          "2021-05-24T00:00:00",
          "2021-05-23T00:00:00",
          "2021-05-22T00:00:00",
          "2021-05-24T00:00:00",
          "2021-05-22T00:00:00",
          "2021-05-27T00:00:00",
          "2021-05-27T00:00:00",
          "2021-05-26T00:00:00",
          "2021-05-23T00:00:00",
          "2021-05-23T00:00:00",
          "2021-05-26T00:00:00",
          "2021-05-26T00:00:00",
          "2021-05-26T00:00:00",
          "2021-05-21T00:00:00",
          "2021-05-22T00:00:00",
          "2021-05-24T00:00:00",
          "2021-05-17T00:00:00",
          "2021-05-17T00:00:00",
          "2021-05-26T00:00:00",
          "2021-05-26T00:00:00",
          "2021-05-26T00:00:00",
          "2021-05-27T00:00:00",
          "2021-05-24T00:00:00",
          "2021-05-19T00:00:00",
          "2021-05-22T00:00:00",
          "2021-05-26T00:00:00",
          "2021-05-27T00:00:00",
          "2021-05-17T00:00:00",
          "2021-05-18T00:00:00",
          "2021-05-22T00:00:00",
          "2021-05-25T00:00:00",
          "2021-05-25T00:00:00",
          "2021-05-25T00:00:00",
          "2021-05-22T00:00:00",
          "2021-05-22T00:00:00",
          "2021-05-26T00:00:00",
          "2021-05-22T00:00:00",
          "2021-05-22T00:00:00",
          "2021-05-22T00:00:00",
          "2021-05-19T00:00:00",
          "2021-05-22T00:00:00",
          "2021-05-18T00:00:00",
          "2021-05-25T00:00:00",
          "2021-05-26T00:00:00",
          "2021-05-24T00:00:00",
          "2021-05-17T00:00:00",
          "2021-05-18T00:00:00",
          "2021-05-20T00:00:00",
          "2021-05-21T00:00:00",
          "2021-05-24T00:00:00",
          "2021-05-25T00:00:00",
          "2021-05-27T00:00:00",
          "2021-05-28T00:00:00",
          "2021-05-12T00:00:00",
          "2021-05-13T00:00:00",
          "2021-05-20T00:00:00",
          "2021-05-25T00:00:00",
          "2021-05-19T00:00:00",
          "2021-05-25T00:00:00",
          "2021-05-26T00:00:00",
          "2021-05-23T00:00:00",
          "2021-05-19T00:00:00",
          "2021-05-25T00:00:00",
          "2021-05-22T00:00:00",
          "2021-05-26T00:00:00",
          "2021-05-24T00:00:00",
          "2021-05-26T00:00:00",
          "2021-05-21T00:00:00",
          "2021-05-25T00:00:00",
          "2021-05-26T00:00:00",
          "2021-05-26T00:00:00",
          "2021-05-27T00:00:00",
          "2021-05-27T00:00:00",
          "2021-05-27T00:00:00",
          "2021-05-28T00:00:00",
          "2021-05-23T00:00:00",
          "2021-05-26T00:00:00",
          "2021-05-26T00:00:00",
          "2021-05-26T00:00:00",
          "2021-05-25T00:00:00",
          "2021-05-24T00:00:00",
          "2021-05-25T00:00:00",
          "2021-05-25T00:00:00",
          "2021-05-25T00:00:00",
          "2021-05-24T00:00:00",
          "2021-05-22T00:00:00",
          "2021-05-22T00:00:00",
          "2021-05-23T00:00:00",
          "2021-05-22T00:00:00",
          "2021-05-21T00:00:00",
          "2021-05-23T00:00:00",
          "2021-05-25T00:00:00",
          "2021-05-19T00:00:00",
          "2021-05-19T00:00:00",
          "2021-05-19T00:00:00",
          "2021-05-19T00:00:00",
          "2021-05-19T00:00:00",
          "2021-05-25T00:00:00",
          "2021-05-19T00:00:00",
          "2021-05-18T00:00:00",
          "2021-05-18T00:00:00",
          "2021-05-18T00:00:00",
          "2021-05-18T00:00:00",
          "2021-05-25T00:00:00",
          "2021-05-24T00:00:00",
          "2021-05-23T00:00:00",
          "2021-05-23T00:00:00",
          "2021-05-23T00:00:00",
          "2021-05-22T00:00:00",
          "2021-05-24T00:00:00",
          "2021-05-25T00:00:00",
          "2021-05-26T00:00:00",
          "2021-05-22T00:00:00",
          "2021-05-23T00:00:00",
          "2021-05-25T00:00:00",
          "2021-05-26T00:00:00",
          "2021-05-27T00:00:00",
          "2021-05-22T00:00:00",
          "2021-05-22T00:00:00",
          "2021-05-22T00:00:00",
          "2021-05-23T00:00:00",
          "2021-05-25T00:00:00",
          "2021-05-24T00:00:00",
          "2021-05-25T00:00:00",
          "2021-05-24T00:00:00",
          "2021-05-23T00:00:00",
          "2021-05-24T00:00:00",
          "2021-05-25T00:00:00",
          "2021-05-25T00:00:00",
          "2021-05-13T00:00:00",
          "2021-05-23T00:00:00",
          "2021-05-23T00:00:00",
          "2021-05-23T00:00:00",
          "2021-05-23T00:00:00",
          "2021-05-25T00:00:00",
          "2021-05-24T00:00:00",
          "2021-05-24T00:00:00",
          "2021-05-22T00:00:00",
          "2021-05-22T00:00:00",
          "2021-05-22T00:00:00",
          "2021-05-22T00:00:00",
          "2021-05-21T00:00:00",
          "2021-05-24T00:00:00",
          "2021-05-22T00:00:00",
          "2021-05-20T00:00:00",
          "2021-05-24T00:00:00",
          "2021-05-24T00:00:00",
          "2021-05-24T00:00:00",
          "2021-05-24T00:00:00",
          "2021-05-24T00:00:00",
          "2021-05-23T00:00:00",
          "2021-05-21T00:00:00",
          "2021-05-24T00:00:00",
          "2021-05-25T00:00:00",
          "2021-05-22T00:00:00",
          "2021-05-23T00:00:00",
          "2021-05-22T00:00:00",
          "2021-05-23T00:00:00",
          "2021-05-14T00:00:00",
          "2021-05-14T00:00:00",
          "2021-05-14T00:00:00",
          "2021-05-23T00:00:00",
          "2021-05-25T00:00:00",
          "2021-05-22T00:00:00",
          "2021-05-23T00:00:00",
          "2021-05-21T00:00:00",
          "2021-05-20T00:00:00",
          "2021-05-23T00:00:00",
          "2021-05-22T00:00:00",
          "2021-05-21T00:00:00",
          "2021-05-22T00:00:00",
          "2021-05-23T00:00:00",
          "2021-05-22T00:00:00",
          "2021-05-23T00:00:00",
          "2021-05-21T00:00:00",
          "2021-05-23T00:00:00",
          "2021-05-24T00:00:00",
          "2021-05-23T00:00:00",
          "2021-05-21T00:00:00",
          "2021-05-24T00:00:00",
          "2021-05-23T00:00:00",
          "2021-05-23T00:00:00",
          "2021-05-22T00:00:00",
          "2021-05-22T00:00:00",
          "2021-05-18T00:00:00",
          "2021-05-20T00:00:00",
          "2021-05-21T00:00:00",
          "2021-05-22T00:00:00",
          "2021-05-23T00:00:00",
          "2021-05-24T00:00:00",
          "2021-05-25T00:00:00",
          "2021-05-24T00:00:00",
          "2021-05-23T00:00:00",
          "2021-05-21T00:00:00",
          "2021-05-23T00:00:00",
          "2021-05-23T00:00:00",
          "2021-05-22T00:00:00",
          "2021-05-22T00:00:00",
          "2021-05-23T00:00:00",
          "2021-05-23T00:00:00",
          "2021-05-23T00:00:00",
          "2021-05-22T00:00:00",
          "2021-05-22T00:00:00",
          "2021-05-22T00:00:00",
          "2021-05-20T00:00:00",
          "2021-05-20T00:00:00",
          "2021-05-22T00:00:00",
          "2021-05-24T00:00:00",
          "2021-05-24T00:00:00",
          "2021-05-21T00:00:00",
          "2021-05-22T00:00:00",
          "2021-05-19T00:00:00",
          "2021-05-20T00:00:00",
          "2021-05-19T00:00:00",
          "2021-05-19T00:00:00",
          "2021-05-19T00:00:00",
          "2021-05-20T00:00:00",
          "2021-05-17T00:00:00",
          "2021-05-19T00:00:00",
          "2021-05-23T00:00:00",
          "2021-05-23T00:00:00",
          "2021-05-22T00:00:00",
          "2021-05-21T00:00:00",
          "2021-05-22T00:00:00",
          "2021-05-17T00:00:00",
          "2021-05-18T00:00:00",
          "2021-05-20T00:00:00",
          "2021-05-22T00:00:00",
          "2021-05-21T00:00:00",
          "2021-05-22T00:00:00",
          "2021-05-23T00:00:00",
          "2021-05-23T00:00:00",
          "2021-05-20T00:00:00",
          "2021-05-20T00:00:00",
          "2021-05-20T00:00:00",
          "2021-05-20T00:00:00",
          "2021-05-20T00:00:00",
          "2021-05-20T00:00:00",
          "2021-05-21T00:00:00",
          "2021-05-23T00:00:00",
          "2021-05-23T00:00:00",
          "2021-05-22T00:00:00",
          "2021-05-18T00:00:00"
         ],
         "xaxis": "x",
         "xbingroup": "x",
         "y": [
          "2021-06-01T00:00:00",
          "2021-06-01T00:00:00",
          "2021-06-01T00:00:00",
          "2021-06-01T00:00:00",
          "2021-05-31T00:00:00",
          "2021-05-31T00:00:00",
          "2021-05-31T00:00:00",
          "2021-05-31T00:00:00",
          "2021-05-31T00:00:00",
          "2021-05-31T00:00:00",
          "2021-05-31T00:00:00",
          "2021-05-31T00:00:00",
          "2021-05-31T00:00:00",
          "2021-05-31T00:00:00",
          "2021-05-31T00:00:00",
          "2021-05-31T00:00:00",
          "2021-05-31T00:00:00",
          "2021-05-31T00:00:00",
          "2021-05-31T00:00:00",
          "2021-05-31T00:00:00",
          "2021-05-31T00:00:00",
          "2021-05-31T00:00:00",
          "2021-05-31T00:00:00",
          "2021-05-31T00:00:00",
          "2021-05-31T00:00:00",
          "2021-05-31T00:00:00",
          "2021-05-30T00:00:00",
          "2021-05-30T00:00:00",
          "2021-05-30T00:00:00",
          "2021-05-30T00:00:00",
          "2021-05-30T00:00:00",
          "2021-05-30T00:00:00",
          "2021-05-30T00:00:00",
          "2021-05-30T00:00:00",
          "2021-05-30T00:00:00",
          "2021-05-30T00:00:00",
          "2021-05-30T00:00:00",
          "2021-05-30T00:00:00",
          "2021-05-30T00:00:00",
          "2021-05-30T00:00:00",
          "2021-05-30T00:00:00",
          "2021-05-30T00:00:00",
          "2021-05-30T00:00:00",
          "2021-05-30T00:00:00",
          "2021-05-30T00:00:00",
          "2021-05-30T00:00:00",
          "2021-05-30T00:00:00",
          "2021-05-30T00:00:00",
          "2021-05-30T00:00:00",
          "2021-05-30T00:00:00",
          "2021-05-30T00:00:00",
          "2021-05-30T00:00:00",
          "2021-05-30T00:00:00",
          "2021-05-30T00:00:00",
          "2021-05-30T00:00:00",
          "2021-05-30T00:00:00",
          "2021-05-30T00:00:00",
          "2021-05-30T00:00:00",
          "2021-05-30T00:00:00",
          "2021-05-30T00:00:00",
          "2021-05-30T00:00:00",
          "2021-05-30T00:00:00",
          "2021-05-30T00:00:00",
          "2021-05-30T00:00:00",
          "2021-05-30T00:00:00",
          "2021-05-30T00:00:00",
          "2021-05-30T00:00:00",
          "2021-05-30T00:00:00",
          "2021-05-30T00:00:00",
          "2021-05-30T00:00:00",
          "2021-05-30T00:00:00",
          "2021-05-30T00:00:00",
          "2021-05-30T00:00:00",
          "2021-05-30T00:00:00",
          "2021-05-30T00:00:00",
          "2021-05-30T00:00:00",
          "2021-05-30T00:00:00",
          "2021-05-30T00:00:00",
          "2021-05-30T00:00:00",
          "2021-05-30T00:00:00",
          "2021-05-30T00:00:00",
          "2021-05-30T00:00:00",
          "2021-05-30T00:00:00",
          "2021-05-30T00:00:00",
          "2021-05-30T00:00:00",
          "2021-05-30T00:00:00",
          "2021-05-30T00:00:00",
          "2021-05-30T00:00:00",
          "2021-05-30T00:00:00",
          "2021-05-30T00:00:00",
          "2021-05-30T00:00:00",
          "2021-05-30T00:00:00",
          "2021-05-30T00:00:00",
          "2021-05-30T00:00:00",
          "2021-05-30T00:00:00",
          "2021-05-30T00:00:00",
          "2021-05-30T00:00:00",
          "2021-05-30T00:00:00",
          "2021-05-30T00:00:00",
          "2021-05-30T00:00:00",
          "2021-05-30T00:00:00",
          "2021-05-30T00:00:00",
          "2021-05-30T00:00:00",
          "2021-05-30T00:00:00",
          "2021-05-30T00:00:00",
          "2021-05-30T00:00:00",
          "2021-05-30T00:00:00",
          "2021-05-30T00:00:00",
          "2021-05-30T00:00:00",
          "2021-05-30T00:00:00",
          "2021-05-30T00:00:00",
          "2021-05-30T00:00:00",
          "2021-05-30T00:00:00",
          "2021-05-30T00:00:00",
          "2021-05-30T00:00:00",
          "2021-05-30T00:00:00",
          "2021-05-30T00:00:00",
          "2021-05-30T00:00:00",
          "2021-05-30T00:00:00",
          "2021-05-30T00:00:00",
          "2021-05-30T00:00:00",
          "2021-05-30T00:00:00",
          "2021-05-30T00:00:00",
          "2021-05-30T00:00:00",
          "2021-05-29T00:00:00",
          "2021-05-29T00:00:00",
          "2021-05-29T00:00:00",
          "2021-05-29T00:00:00",
          "2021-05-29T00:00:00",
          "2021-05-29T00:00:00",
          "2021-05-29T00:00:00",
          "2021-05-29T00:00:00",
          "2021-05-29T00:00:00",
          "2021-05-29T00:00:00",
          "2021-05-29T00:00:00",
          "2021-05-29T00:00:00",
          "2021-05-29T00:00:00",
          "2021-05-29T00:00:00",
          "2021-05-29T00:00:00",
          "2021-05-29T00:00:00",
          "2021-05-29T00:00:00",
          "2021-05-29T00:00:00",
          "2021-05-29T00:00:00",
          "2021-05-29T00:00:00",
          "2021-05-29T00:00:00",
          "2021-05-29T00:00:00",
          "2021-05-29T00:00:00",
          "2021-05-28T00:00:00",
          "2021-05-28T00:00:00",
          "2021-05-28T00:00:00",
          "2021-05-28T00:00:00",
          "2021-05-28T00:00:00",
          "2021-05-28T00:00:00",
          "2021-05-28T00:00:00",
          "2021-05-28T00:00:00",
          "2021-05-28T00:00:00",
          "2021-05-28T00:00:00",
          "2021-05-28T00:00:00",
          "2021-05-28T00:00:00",
          "2021-05-28T00:00:00",
          "2021-05-28T00:00:00",
          "2021-05-28T00:00:00",
          "2021-05-28T00:00:00",
          "2021-05-28T00:00:00",
          "2021-05-28T00:00:00",
          "2021-05-28T00:00:00",
          "2021-05-28T00:00:00",
          "2021-05-28T00:00:00",
          "2021-05-28T00:00:00",
          "2021-05-28T00:00:00",
          "2021-05-28T00:00:00",
          "2021-05-28T00:00:00",
          "2021-05-28T00:00:00",
          "2021-05-28T00:00:00",
          "2021-05-28T00:00:00",
          "2021-05-28T00:00:00",
          "2021-05-28T00:00:00",
          "2021-05-28T00:00:00",
          "2021-05-28T00:00:00",
          "2021-05-28T00:00:00",
          "2021-05-28T00:00:00",
          "2021-05-27T00:00:00",
          "2021-05-27T00:00:00",
          "2021-05-27T00:00:00",
          "2021-05-27T00:00:00",
          "2021-05-27T00:00:00",
          "2021-05-27T00:00:00",
          "2021-05-27T00:00:00",
          "2021-05-27T00:00:00",
          "2021-05-27T00:00:00",
          "2021-05-27T00:00:00",
          "2021-05-27T00:00:00",
          "2021-05-27T00:00:00",
          "2021-05-27T00:00:00",
          "2021-05-27T00:00:00",
          "2021-05-27T00:00:00",
          "2021-05-27T00:00:00",
          "2021-05-27T00:00:00",
          "2021-05-27T00:00:00",
          "2021-05-27T00:00:00",
          "2021-05-27T00:00:00",
          "2021-05-27T00:00:00",
          "2021-05-27T00:00:00",
          "2021-05-27T00:00:00",
          "2021-05-27T00:00:00",
          "2021-05-27T00:00:00",
          "2021-05-27T00:00:00",
          "2021-05-27T00:00:00",
          "2021-05-27T00:00:00",
          "2021-05-27T00:00:00",
          "2021-05-27T00:00:00",
          "2021-05-27T00:00:00",
          "2021-05-27T00:00:00",
          "2021-05-27T00:00:00",
          "2021-05-27T00:00:00",
          "2021-05-27T00:00:00",
          "2021-05-27T00:00:00",
          "2021-05-27T00:00:00",
          "2021-05-27T00:00:00",
          "2021-05-26T00:00:00",
          "2021-05-26T00:00:00",
          "2021-05-26T00:00:00",
          "2021-05-26T00:00:00",
          "2021-05-26T00:00:00",
          "2021-05-26T00:00:00",
          "2021-05-26T00:00:00",
          "2021-05-26T00:00:00",
          "2021-05-26T00:00:00",
          "2021-05-26T00:00:00",
          "2021-05-26T00:00:00",
          "2021-05-26T00:00:00",
          "2021-05-26T00:00:00",
          "2021-05-26T00:00:00",
          "2021-05-26T00:00:00",
          "2021-05-26T00:00:00",
          "2021-05-26T00:00:00",
          "2021-05-26T00:00:00",
          "2021-05-26T00:00:00",
          "2021-05-26T00:00:00",
          "2021-05-26T00:00:00",
          "2021-05-26T00:00:00",
          "2021-05-26T00:00:00",
          "2021-05-26T00:00:00",
          "2021-05-26T00:00:00",
          "2021-05-26T00:00:00",
          "2021-05-26T00:00:00",
          "2021-05-26T00:00:00",
          "2021-05-26T00:00:00",
          "2021-05-26T00:00:00",
          "2021-05-26T00:00:00",
          "2021-05-26T00:00:00",
          "2021-05-26T00:00:00",
          "2021-05-26T00:00:00",
          "2021-05-26T00:00:00",
          "2021-05-26T00:00:00",
          "2021-05-26T00:00:00",
          "2021-05-26T00:00:00",
          "2021-05-26T00:00:00",
          "2021-05-26T00:00:00",
          "2021-05-26T00:00:00",
          "2021-05-26T00:00:00",
          "2021-05-26T00:00:00",
          "2021-05-26T00:00:00",
          "2021-05-26T00:00:00",
          "2021-05-26T00:00:00",
          "2021-05-26T00:00:00",
          "2021-05-25T00:00:00",
          "2021-05-25T00:00:00",
          "2021-05-25T00:00:00",
          "2021-05-25T00:00:00",
          "2021-05-25T00:00:00",
          "2021-05-25T00:00:00",
          "2021-05-25T00:00:00",
          "2021-05-24T00:00:00",
          "2021-05-24T00:00:00",
          "2021-05-24T00:00:00",
          "2021-05-24T00:00:00",
          "2021-05-24T00:00:00",
          "2021-05-24T00:00:00",
          "2021-05-24T00:00:00",
          "2021-05-24T00:00:00",
          "2021-05-24T00:00:00",
          "2021-05-24T00:00:00",
          "2021-05-24T00:00:00",
          "2021-05-24T00:00:00",
          "2021-05-24T00:00:00",
          "2021-05-24T00:00:00",
          "2021-05-24T00:00:00",
          "2021-05-24T00:00:00",
          "2021-05-24T00:00:00",
          "2021-05-24T00:00:00",
          "2021-05-24T00:00:00",
          "2021-05-24T00:00:00",
          "2021-05-24T00:00:00",
          "2021-05-24T00:00:00",
          "2021-05-24T00:00:00",
          "2021-05-22T00:00:00",
          "2021-05-18T00:00:00"
         ],
         "yaxis": "y",
         "ybingroup": "y"
        }
       ],
       "layout": {
        "annotations": [
         {
          "ax": 10,
          "ay": 20,
          "text": "lockdown",
          "x": "2021-05-27",
          "xanchor": "left",
          "y": "2021-05-27"
         }
        ],
        "coloraxis": {
         "colorbar": {
          "title": {
           "text": "count"
          }
         },
         "colorscale": [
          [
           0,
           "#440154"
          ],
          [
           0.1111111111111111,
           "#482878"
          ],
          [
           0.2222222222222222,
           "#3e4989"
          ],
          [
           0.3333333333333333,
           "#31688e"
          ],
          [
           0.4444444444444444,
           "#26828e"
          ],
          [
           0.5555555555555556,
           "#1f9e89"
          ],
          [
           0.6666666666666666,
           "#35b779"
          ],
          [
           0.7777777777777778,
           "#6ece58"
          ],
          [
           0.8888888888888888,
           "#b5de2b"
          ],
          [
           1,
           "#fde725"
          ]
         ]
        },
        "legend": {
         "tracegroupgap": 0
        },
        "shapes": [
         {
          "type": "line",
          "x0": "2021-05-27",
          "x1": "2021-05-27",
          "xref": "x",
          "y0": 0,
          "y1": 1,
          "yref": "y domain"
         },
         {
          "type": "line",
          "x0": 0,
          "x1": 1,
          "xref": "x domain",
          "y0": "2021-05-27",
          "y1": "2021-05-27",
          "yref": "y"
         }
        ],
        "template": {
         "data": {
          "bar": [
           {
            "error_x": {
             "color": "#f2f5fa"
            },
            "error_y": {
             "color": "#f2f5fa"
            },
            "marker": {
             "line": {
              "color": "rgb(17,17,17)",
              "width": 0.5
             }
            },
            "type": "bar"
           }
          ],
          "barpolar": [
           {
            "marker": {
             "line": {
              "color": "rgb(17,17,17)",
              "width": 0.5
             }
            },
            "type": "barpolar"
           }
          ],
          "carpet": [
           {
            "aaxis": {
             "endlinecolor": "#A2B1C6",
             "gridcolor": "#506784",
             "linecolor": "#506784",
             "minorgridcolor": "#506784",
             "startlinecolor": "#A2B1C6"
            },
            "baxis": {
             "endlinecolor": "#A2B1C6",
             "gridcolor": "#506784",
             "linecolor": "#506784",
             "minorgridcolor": "#506784",
             "startlinecolor": "#A2B1C6"
            },
            "type": "carpet"
           }
          ],
          "choropleth": [
           {
            "colorbar": {
             "outlinewidth": 0,
             "ticks": ""
            },
            "type": "choropleth"
           }
          ],
          "contour": [
           {
            "colorbar": {
             "outlinewidth": 0,
             "ticks": ""
            },
            "colorscale": [
             [
              0,
              "#0d0887"
             ],
             [
              0.1111111111111111,
              "#46039f"
             ],
             [
              0.2222222222222222,
              "#7201a8"
             ],
             [
              0.3333333333333333,
              "#9c179e"
             ],
             [
              0.4444444444444444,
              "#bd3786"
             ],
             [
              0.5555555555555556,
              "#d8576b"
             ],
             [
              0.6666666666666666,
              "#ed7953"
             ],
             [
              0.7777777777777778,
              "#fb9f3a"
             ],
             [
              0.8888888888888888,
              "#fdca26"
             ],
             [
              1,
              "#f0f921"
             ]
            ],
            "type": "contour"
           }
          ],
          "contourcarpet": [
           {
            "colorbar": {
             "outlinewidth": 0,
             "ticks": ""
            },
            "type": "contourcarpet"
           }
          ],
          "heatmap": [
           {
            "colorbar": {
             "outlinewidth": 0,
             "ticks": ""
            },
            "colorscale": [
             [
              0,
              "#0d0887"
             ],
             [
              0.1111111111111111,
              "#46039f"
             ],
             [
              0.2222222222222222,
              "#7201a8"
             ],
             [
              0.3333333333333333,
              "#9c179e"
             ],
             [
              0.4444444444444444,
              "#bd3786"
             ],
             [
              0.5555555555555556,
              "#d8576b"
             ],
             [
              0.6666666666666666,
              "#ed7953"
             ],
             [
              0.7777777777777778,
              "#fb9f3a"
             ],
             [
              0.8888888888888888,
              "#fdca26"
             ],
             [
              1,
              "#f0f921"
             ]
            ],
            "type": "heatmap"
           }
          ],
          "heatmapgl": [
           {
            "colorbar": {
             "outlinewidth": 0,
             "ticks": ""
            },
            "colorscale": [
             [
              0,
              "#0d0887"
             ],
             [
              0.1111111111111111,
              "#46039f"
             ],
             [
              0.2222222222222222,
              "#7201a8"
             ],
             [
              0.3333333333333333,
              "#9c179e"
             ],
             [
              0.4444444444444444,
              "#bd3786"
             ],
             [
              0.5555555555555556,
              "#d8576b"
             ],
             [
              0.6666666666666666,
              "#ed7953"
             ],
             [
              0.7777777777777778,
              "#fb9f3a"
             ],
             [
              0.8888888888888888,
              "#fdca26"
             ],
             [
              1,
              "#f0f921"
             ]
            ],
            "type": "heatmapgl"
           }
          ],
          "histogram": [
           {
            "marker": {
             "colorbar": {
              "outlinewidth": 0,
              "ticks": ""
             }
            },
            "type": "histogram"
           }
          ],
          "histogram2d": [
           {
            "colorbar": {
             "outlinewidth": 0,
             "ticks": ""
            },
            "colorscale": [
             [
              0,
              "#0d0887"
             ],
             [
              0.1111111111111111,
              "#46039f"
             ],
             [
              0.2222222222222222,
              "#7201a8"
             ],
             [
              0.3333333333333333,
              "#9c179e"
             ],
             [
              0.4444444444444444,
              "#bd3786"
             ],
             [
              0.5555555555555556,
              "#d8576b"
             ],
             [
              0.6666666666666666,
              "#ed7953"
             ],
             [
              0.7777777777777778,
              "#fb9f3a"
             ],
             [
              0.8888888888888888,
              "#fdca26"
             ],
             [
              1,
              "#f0f921"
             ]
            ],
            "type": "histogram2d"
           }
          ],
          "histogram2dcontour": [
           {
            "colorbar": {
             "outlinewidth": 0,
             "ticks": ""
            },
            "colorscale": [
             [
              0,
              "#0d0887"
             ],
             [
              0.1111111111111111,
              "#46039f"
             ],
             [
              0.2222222222222222,
              "#7201a8"
             ],
             [
              0.3333333333333333,
              "#9c179e"
             ],
             [
              0.4444444444444444,
              "#bd3786"
             ],
             [
              0.5555555555555556,
              "#d8576b"
             ],
             [
              0.6666666666666666,
              "#ed7953"
             ],
             [
              0.7777777777777778,
              "#fb9f3a"
             ],
             [
              0.8888888888888888,
              "#fdca26"
             ],
             [
              1,
              "#f0f921"
             ]
            ],
            "type": "histogram2dcontour"
           }
          ],
          "mesh3d": [
           {
            "colorbar": {
             "outlinewidth": 0,
             "ticks": ""
            },
            "type": "mesh3d"
           }
          ],
          "parcoords": [
           {
            "line": {
             "colorbar": {
              "outlinewidth": 0,
              "ticks": ""
             }
            },
            "type": "parcoords"
           }
          ],
          "pie": [
           {
            "automargin": true,
            "type": "pie"
           }
          ],
          "scatter": [
           {
            "marker": {
             "line": {
              "color": "#283442"
             }
            },
            "type": "scatter"
           }
          ],
          "scatter3d": [
           {
            "line": {
             "colorbar": {
              "outlinewidth": 0,
              "ticks": ""
             }
            },
            "marker": {
             "colorbar": {
              "outlinewidth": 0,
              "ticks": ""
             }
            },
            "type": "scatter3d"
           }
          ],
          "scattercarpet": [
           {
            "marker": {
             "colorbar": {
              "outlinewidth": 0,
              "ticks": ""
             }
            },
            "type": "scattercarpet"
           }
          ],
          "scattergeo": [
           {
            "marker": {
             "colorbar": {
              "outlinewidth": 0,
              "ticks": ""
             }
            },
            "type": "scattergeo"
           }
          ],
          "scattergl": [
           {
            "marker": {
             "line": {
              "color": "#283442"
             }
            },
            "type": "scattergl"
           }
          ],
          "scattermapbox": [
           {
            "marker": {
             "colorbar": {
              "outlinewidth": 0,
              "ticks": ""
             }
            },
            "type": "scattermapbox"
           }
          ],
          "scatterpolar": [
           {
            "marker": {
             "colorbar": {
              "outlinewidth": 0,
              "ticks": ""
             }
            },
            "type": "scatterpolar"
           }
          ],
          "scatterpolargl": [
           {
            "marker": {
             "colorbar": {
              "outlinewidth": 0,
              "ticks": ""
             }
            },
            "type": "scatterpolargl"
           }
          ],
          "scatterternary": [
           {
            "marker": {
             "colorbar": {
              "outlinewidth": 0,
              "ticks": ""
             }
            },
            "type": "scatterternary"
           }
          ],
          "surface": [
           {
            "colorbar": {
             "outlinewidth": 0,
             "ticks": ""
            },
            "colorscale": [
             [
              0,
              "#0d0887"
             ],
             [
              0.1111111111111111,
              "#46039f"
             ],
             [
              0.2222222222222222,
              "#7201a8"
             ],
             [
              0.3333333333333333,
              "#9c179e"
             ],
             [
              0.4444444444444444,
              "#bd3786"
             ],
             [
              0.5555555555555556,
              "#d8576b"
             ],
             [
              0.6666666666666666,
              "#ed7953"
             ],
             [
              0.7777777777777778,
              "#fb9f3a"
             ],
             [
              0.8888888888888888,
              "#fdca26"
             ],
             [
              1,
              "#f0f921"
             ]
            ],
            "type": "surface"
           }
          ],
          "table": [
           {
            "cells": {
             "fill": {
              "color": "#506784"
             },
             "line": {
              "color": "rgb(17,17,17)"
             }
            },
            "header": {
             "fill": {
              "color": "#2a3f5f"
             },
             "line": {
              "color": "rgb(17,17,17)"
             }
            },
            "type": "table"
           }
          ]
         },
         "layout": {
          "annotationdefaults": {
           "arrowcolor": "#f2f5fa",
           "arrowhead": 0,
           "arrowwidth": 1
          },
          "autotypenumbers": "strict",
          "coloraxis": {
           "colorbar": {
            "outlinewidth": 0,
            "ticks": ""
           }
          },
          "colorscale": {
           "diverging": [
            [
             0,
             "#8e0152"
            ],
            [
             0.1,
             "#c51b7d"
            ],
            [
             0.2,
             "#de77ae"
            ],
            [
             0.3,
             "#f1b6da"
            ],
            [
             0.4,
             "#fde0ef"
            ],
            [
             0.5,
             "#f7f7f7"
            ],
            [
             0.6,
             "#e6f5d0"
            ],
            [
             0.7,
             "#b8e186"
            ],
            [
             0.8,
             "#7fbc41"
            ],
            [
             0.9,
             "#4d9221"
            ],
            [
             1,
             "#276419"
            ]
           ],
           "sequential": [
            [
             0,
             "#0d0887"
            ],
            [
             0.1111111111111111,
             "#46039f"
            ],
            [
             0.2222222222222222,
             "#7201a8"
            ],
            [
             0.3333333333333333,
             "#9c179e"
            ],
            [
             0.4444444444444444,
             "#bd3786"
            ],
            [
             0.5555555555555556,
             "#d8576b"
            ],
            [
             0.6666666666666666,
             "#ed7953"
            ],
            [
             0.7777777777777778,
             "#fb9f3a"
            ],
            [
             0.8888888888888888,
             "#fdca26"
            ],
            [
             1,
             "#f0f921"
            ]
           ],
           "sequentialminus": [
            [
             0,
             "#0d0887"
            ],
            [
             0.1111111111111111,
             "#46039f"
            ],
            [
             0.2222222222222222,
             "#7201a8"
            ],
            [
             0.3333333333333333,
             "#9c179e"
            ],
            [
             0.4444444444444444,
             "#bd3786"
            ],
            [
             0.5555555555555556,
             "#d8576b"
            ],
            [
             0.6666666666666666,
             "#ed7953"
            ],
            [
             0.7777777777777778,
             "#fb9f3a"
            ],
            [
             0.8888888888888888,
             "#fdca26"
            ],
            [
             1,
             "#f0f921"
            ]
           ]
          },
          "colorway": [
           "#636efa",
           "#EF553B",
           "#00cc96",
           "#ab63fa",
           "#FFA15A",
           "#19d3f3",
           "#FF6692",
           "#B6E880",
           "#FF97FF",
           "#FECB52"
          ],
          "font": {
           "color": "#f2f5fa"
          },
          "geo": {
           "bgcolor": "rgb(17,17,17)",
           "lakecolor": "rgb(17,17,17)",
           "landcolor": "rgb(17,17,17)",
           "showlakes": true,
           "showland": true,
           "subunitcolor": "#506784"
          },
          "hoverlabel": {
           "align": "left"
          },
          "hovermode": "closest",
          "mapbox": {
           "style": "dark"
          },
          "paper_bgcolor": "rgb(17,17,17)",
          "plot_bgcolor": "rgb(17,17,17)",
          "polar": {
           "angularaxis": {
            "gridcolor": "#506784",
            "linecolor": "#506784",
            "ticks": ""
           },
           "bgcolor": "rgb(17,17,17)",
           "radialaxis": {
            "gridcolor": "#506784",
            "linecolor": "#506784",
            "ticks": ""
           }
          },
          "scene": {
           "xaxis": {
            "backgroundcolor": "rgb(17,17,17)",
            "gridcolor": "#506784",
            "gridwidth": 2,
            "linecolor": "#506784",
            "showbackground": true,
            "ticks": "",
            "zerolinecolor": "#C8D4E3"
           },
           "yaxis": {
            "backgroundcolor": "rgb(17,17,17)",
            "gridcolor": "#506784",
            "gridwidth": 2,
            "linecolor": "#506784",
            "showbackground": true,
            "ticks": "",
            "zerolinecolor": "#C8D4E3"
           },
           "zaxis": {
            "backgroundcolor": "rgb(17,17,17)",
            "gridcolor": "#506784",
            "gridwidth": 2,
            "linecolor": "#506784",
            "showbackground": true,
            "ticks": "",
            "zerolinecolor": "#C8D4E3"
           }
          },
          "shapedefaults": {
           "line": {
            "color": "#f2f5fa"
           }
          },
          "sliderdefaults": {
           "bgcolor": "#C8D4E3",
           "bordercolor": "rgb(17,17,17)",
           "borderwidth": 1,
           "tickwidth": 0
          },
          "ternary": {
           "aaxis": {
            "gridcolor": "#506784",
            "linecolor": "#506784",
            "ticks": ""
           },
           "baxis": {
            "gridcolor": "#506784",
            "linecolor": "#506784",
            "ticks": ""
           },
           "bgcolor": "rgb(17,17,17)",
           "caxis": {
            "gridcolor": "#506784",
            "linecolor": "#506784",
            "ticks": ""
           }
          },
          "title": {
           "x": 0.05
          },
          "updatemenudefaults": {
           "bgcolor": "#506784",
           "borderwidth": 0
          },
          "xaxis": {
           "automargin": true,
           "gridcolor": "#283442",
           "linecolor": "#506784",
           "ticks": "",
           "title": {
            "standoff": 15
           },
           "zerolinecolor": "#283442",
           "zerolinewidth": 2
          },
          "yaxis": {
           "automargin": true,
           "gridcolor": "#283442",
           "linecolor": "#506784",
           "ticks": "",
           "title": {
            "standoff": 15
           },
           "zerolinecolor": "#283442",
           "zerolinewidth": 2
          }
         }
        },
        "title": {
         "text": "Exposure site counts by date added"
        },
        "xaxis": {
         "anchor": "y",
         "domain": [
          0,
          1
         ],
         "title": {
          "text": "Exposure Date"
         }
        },
        "yaxis": {
         "anchor": "x",
         "domain": [
          0,
          1
         ],
         "title": {
          "text": "Date Added"
         }
        }
       }
      },
      "text/html": [
       "<div>                            <div id=\"05b48cf2-3a41-4c01-9ccb-a6853127de69\" class=\"plotly-graph-div\" style=\"height:525px; width:100%;\"></div>            <script type=\"text/javascript\">                require([\"plotly\"], function(Plotly) {                    window.PLOTLYENV=window.PLOTLYENV || {};                                    if (document.getElementById(\"05b48cf2-3a41-4c01-9ccb-a6853127de69\")) {                    Plotly.newPlot(                        \"05b48cf2-3a41-4c01-9ccb-a6853127de69\",                        [{\"coloraxis\": \"coloraxis\", \"hovertemplate\": \"date_exposure=%{x}<br>date_added=%{y}<br>count=%{z}<extra></extra>\", \"name\": \"\", \"nbinsx\": 20, \"nbinsy\": 20, \"type\": \"histogram2d\", \"x\": [\"2021-05-23T00:00:00\", \"2021-05-28T00:00:00\", \"2021-05-28T00:00:00\", \"2021-05-28T00:00:00\", \"2021-05-26T00:00:00\", \"2021-05-27T00:00:00\", \"2021-05-28T00:00:00\", \"2021-05-29T00:00:00\", \"2021-05-26T00:00:00\", \"2021-05-26T00:00:00\", \"2021-05-26T00:00:00\", \"2021-05-27T00:00:00\", \"2021-05-28T00:00:00\", \"2021-05-29T00:00:00\", \"2021-05-28T00:00:00\", \"2021-05-25T00:00:00\", \"2021-05-27T00:00:00\", \"2021-05-27T00:00:00\", \"2021-05-27T00:00:00\", \"2021-05-22T00:00:00\", \"2021-05-23T00:00:00\", \"2021-05-23T00:00:00\", \"2021-05-25T00:00:00\", \"2021-05-21T00:00:00\", \"2021-05-26T00:00:00\", \"2021-05-26T00:00:00\", \"2021-05-24T00:00:00\", \"2021-05-25T00:00:00\", \"2021-05-26T00:00:00\", \"2021-05-26T00:00:00\", \"2021-05-15T00:00:00\", \"2021-05-15T00:00:00\", \"2021-05-22T00:00:00\", \"2021-05-23T00:00:00\", \"2021-05-20T00:00:00\", \"2021-05-18T00:00:00\", \"2021-05-26T00:00:00\", \"2021-05-26T00:00:00\", \"2021-05-26T00:00:00\", \"2021-05-25T00:00:00\", \"2021-05-25T00:00:00\", \"2021-05-24T00:00:00\", \"2021-05-23T00:00:00\", \"2021-05-23T00:00:00\", \"2021-05-25T00:00:00\", \"2021-05-22T00:00:00\", \"2021-05-23T00:00:00\", \"2021-05-22T00:00:00\", \"2021-05-22T00:00:00\", \"2021-05-23T00:00:00\", \"2021-05-26T00:00:00\", \"2021-05-24T00:00:00\", \"2021-05-23T00:00:00\", \"2021-05-22T00:00:00\", \"2021-05-24T00:00:00\", \"2021-05-24T00:00:00\", \"2021-05-23T00:00:00\", \"2021-05-22T00:00:00\", \"2021-05-24T00:00:00\", \"2021-05-22T00:00:00\", \"2021-05-27T00:00:00\", \"2021-05-27T00:00:00\", \"2021-05-26T00:00:00\", \"2021-05-23T00:00:00\", \"2021-05-23T00:00:00\", \"2021-05-26T00:00:00\", \"2021-05-26T00:00:00\", \"2021-05-26T00:00:00\", \"2021-05-21T00:00:00\", \"2021-05-22T00:00:00\", \"2021-05-24T00:00:00\", \"2021-05-17T00:00:00\", \"2021-05-17T00:00:00\", \"2021-05-26T00:00:00\", \"2021-05-26T00:00:00\", \"2021-05-26T00:00:00\", \"2021-05-27T00:00:00\", \"2021-05-24T00:00:00\", \"2021-05-19T00:00:00\", \"2021-05-22T00:00:00\", \"2021-05-26T00:00:00\", \"2021-05-27T00:00:00\", \"2021-05-17T00:00:00\", \"2021-05-18T00:00:00\", \"2021-05-22T00:00:00\", \"2021-05-25T00:00:00\", \"2021-05-25T00:00:00\", \"2021-05-25T00:00:00\", \"2021-05-22T00:00:00\", \"2021-05-22T00:00:00\", \"2021-05-26T00:00:00\", \"2021-05-22T00:00:00\", \"2021-05-22T00:00:00\", \"2021-05-22T00:00:00\", \"2021-05-19T00:00:00\", \"2021-05-22T00:00:00\", \"2021-05-18T00:00:00\", \"2021-05-25T00:00:00\", \"2021-05-26T00:00:00\", \"2021-05-24T00:00:00\", \"2021-05-17T00:00:00\", \"2021-05-18T00:00:00\", \"2021-05-20T00:00:00\", \"2021-05-21T00:00:00\", \"2021-05-24T00:00:00\", \"2021-05-25T00:00:00\", \"2021-05-27T00:00:00\", \"2021-05-28T00:00:00\", \"2021-05-12T00:00:00\", \"2021-05-13T00:00:00\", \"2021-05-20T00:00:00\", \"2021-05-25T00:00:00\", \"2021-05-19T00:00:00\", \"2021-05-25T00:00:00\", \"2021-05-26T00:00:00\", \"2021-05-23T00:00:00\", \"2021-05-19T00:00:00\", \"2021-05-25T00:00:00\", \"2021-05-22T00:00:00\", \"2021-05-26T00:00:00\", \"2021-05-24T00:00:00\", \"2021-05-26T00:00:00\", \"2021-05-21T00:00:00\", \"2021-05-25T00:00:00\", \"2021-05-26T00:00:00\", \"2021-05-26T00:00:00\", \"2021-05-27T00:00:00\", \"2021-05-27T00:00:00\", \"2021-05-27T00:00:00\", \"2021-05-28T00:00:00\", \"2021-05-23T00:00:00\", \"2021-05-26T00:00:00\", \"2021-05-26T00:00:00\", \"2021-05-26T00:00:00\", \"2021-05-25T00:00:00\", \"2021-05-24T00:00:00\", \"2021-05-25T00:00:00\", \"2021-05-25T00:00:00\", \"2021-05-25T00:00:00\", \"2021-05-24T00:00:00\", \"2021-05-22T00:00:00\", \"2021-05-22T00:00:00\", \"2021-05-23T00:00:00\", \"2021-05-22T00:00:00\", \"2021-05-21T00:00:00\", \"2021-05-23T00:00:00\", \"2021-05-25T00:00:00\", \"2021-05-19T00:00:00\", \"2021-05-19T00:00:00\", \"2021-05-19T00:00:00\", \"2021-05-19T00:00:00\", \"2021-05-19T00:00:00\", \"2021-05-25T00:00:00\", \"2021-05-19T00:00:00\", \"2021-05-18T00:00:00\", \"2021-05-18T00:00:00\", \"2021-05-18T00:00:00\", \"2021-05-18T00:00:00\", \"2021-05-25T00:00:00\", \"2021-05-24T00:00:00\", \"2021-05-23T00:00:00\", \"2021-05-23T00:00:00\", \"2021-05-23T00:00:00\", \"2021-05-22T00:00:00\", \"2021-05-24T00:00:00\", \"2021-05-25T00:00:00\", \"2021-05-26T00:00:00\", \"2021-05-22T00:00:00\", \"2021-05-23T00:00:00\", \"2021-05-25T00:00:00\", \"2021-05-26T00:00:00\", \"2021-05-27T00:00:00\", \"2021-05-22T00:00:00\", \"2021-05-22T00:00:00\", \"2021-05-22T00:00:00\", \"2021-05-23T00:00:00\", \"2021-05-25T00:00:00\", \"2021-05-24T00:00:00\", \"2021-05-25T00:00:00\", \"2021-05-24T00:00:00\", \"2021-05-23T00:00:00\", \"2021-05-24T00:00:00\", \"2021-05-25T00:00:00\", \"2021-05-25T00:00:00\", \"2021-05-13T00:00:00\", \"2021-05-23T00:00:00\", \"2021-05-23T00:00:00\", \"2021-05-23T00:00:00\", \"2021-05-23T00:00:00\", \"2021-05-25T00:00:00\", \"2021-05-24T00:00:00\", \"2021-05-24T00:00:00\", \"2021-05-22T00:00:00\", \"2021-05-22T00:00:00\", \"2021-05-22T00:00:00\", \"2021-05-22T00:00:00\", \"2021-05-21T00:00:00\", \"2021-05-24T00:00:00\", \"2021-05-22T00:00:00\", \"2021-05-20T00:00:00\", \"2021-05-24T00:00:00\", \"2021-05-24T00:00:00\", \"2021-05-24T00:00:00\", \"2021-05-24T00:00:00\", \"2021-05-24T00:00:00\", \"2021-05-23T00:00:00\", \"2021-05-21T00:00:00\", \"2021-05-24T00:00:00\", \"2021-05-25T00:00:00\", \"2021-05-22T00:00:00\", \"2021-05-23T00:00:00\", \"2021-05-22T00:00:00\", \"2021-05-23T00:00:00\", \"2021-05-14T00:00:00\", \"2021-05-14T00:00:00\", \"2021-05-14T00:00:00\", \"2021-05-23T00:00:00\", \"2021-05-25T00:00:00\", \"2021-05-22T00:00:00\", \"2021-05-23T00:00:00\", \"2021-05-21T00:00:00\", \"2021-05-20T00:00:00\", \"2021-05-23T00:00:00\", \"2021-05-22T00:00:00\", \"2021-05-21T00:00:00\", \"2021-05-22T00:00:00\", \"2021-05-23T00:00:00\", \"2021-05-22T00:00:00\", \"2021-05-23T00:00:00\", \"2021-05-21T00:00:00\", \"2021-05-23T00:00:00\", \"2021-05-24T00:00:00\", \"2021-05-23T00:00:00\", \"2021-05-21T00:00:00\", \"2021-05-24T00:00:00\", \"2021-05-23T00:00:00\", \"2021-05-23T00:00:00\", \"2021-05-22T00:00:00\", \"2021-05-22T00:00:00\", \"2021-05-18T00:00:00\", \"2021-05-20T00:00:00\", \"2021-05-21T00:00:00\", \"2021-05-22T00:00:00\", \"2021-05-23T00:00:00\", \"2021-05-24T00:00:00\", \"2021-05-25T00:00:00\", \"2021-05-24T00:00:00\", \"2021-05-23T00:00:00\", \"2021-05-21T00:00:00\", \"2021-05-23T00:00:00\", \"2021-05-23T00:00:00\", \"2021-05-22T00:00:00\", \"2021-05-22T00:00:00\", \"2021-05-23T00:00:00\", \"2021-05-23T00:00:00\", \"2021-05-23T00:00:00\", \"2021-05-22T00:00:00\", \"2021-05-22T00:00:00\", \"2021-05-22T00:00:00\", \"2021-05-20T00:00:00\", \"2021-05-20T00:00:00\", \"2021-05-22T00:00:00\", \"2021-05-24T00:00:00\", \"2021-05-24T00:00:00\", \"2021-05-21T00:00:00\", \"2021-05-22T00:00:00\", \"2021-05-19T00:00:00\", \"2021-05-20T00:00:00\", \"2021-05-19T00:00:00\", \"2021-05-19T00:00:00\", \"2021-05-19T00:00:00\", \"2021-05-20T00:00:00\", \"2021-05-17T00:00:00\", \"2021-05-19T00:00:00\", \"2021-05-23T00:00:00\", \"2021-05-23T00:00:00\", \"2021-05-22T00:00:00\", \"2021-05-21T00:00:00\", \"2021-05-22T00:00:00\", \"2021-05-17T00:00:00\", \"2021-05-18T00:00:00\", \"2021-05-20T00:00:00\", \"2021-05-22T00:00:00\", \"2021-05-21T00:00:00\", \"2021-05-22T00:00:00\", \"2021-05-23T00:00:00\", \"2021-05-23T00:00:00\", \"2021-05-20T00:00:00\", \"2021-05-20T00:00:00\", \"2021-05-20T00:00:00\", \"2021-05-20T00:00:00\", \"2021-05-20T00:00:00\", \"2021-05-20T00:00:00\", \"2021-05-21T00:00:00\", \"2021-05-23T00:00:00\", \"2021-05-23T00:00:00\", \"2021-05-22T00:00:00\", \"2021-05-18T00:00:00\"], \"xaxis\": \"x\", \"xbingroup\": \"x\", \"y\": [\"2021-06-01T00:00:00\", \"2021-06-01T00:00:00\", \"2021-06-01T00:00:00\", \"2021-06-01T00:00:00\", \"2021-05-31T00:00:00\", \"2021-05-31T00:00:00\", \"2021-05-31T00:00:00\", \"2021-05-31T00:00:00\", \"2021-05-31T00:00:00\", \"2021-05-31T00:00:00\", \"2021-05-31T00:00:00\", \"2021-05-31T00:00:00\", \"2021-05-31T00:00:00\", \"2021-05-31T00:00:00\", \"2021-05-31T00:00:00\", \"2021-05-31T00:00:00\", \"2021-05-31T00:00:00\", \"2021-05-31T00:00:00\", \"2021-05-31T00:00:00\", \"2021-05-31T00:00:00\", \"2021-05-31T00:00:00\", \"2021-05-31T00:00:00\", \"2021-05-31T00:00:00\", \"2021-05-31T00:00:00\", \"2021-05-31T00:00:00\", \"2021-05-31T00:00:00\", \"2021-05-30T00:00:00\", \"2021-05-30T00:00:00\", \"2021-05-30T00:00:00\", \"2021-05-30T00:00:00\", \"2021-05-30T00:00:00\", \"2021-05-30T00:00:00\", \"2021-05-30T00:00:00\", \"2021-05-30T00:00:00\", \"2021-05-30T00:00:00\", \"2021-05-30T00:00:00\", \"2021-05-30T00:00:00\", \"2021-05-30T00:00:00\", \"2021-05-30T00:00:00\", \"2021-05-30T00:00:00\", \"2021-05-30T00:00:00\", \"2021-05-30T00:00:00\", \"2021-05-30T00:00:00\", \"2021-05-30T00:00:00\", \"2021-05-30T00:00:00\", \"2021-05-30T00:00:00\", \"2021-05-30T00:00:00\", \"2021-05-30T00:00:00\", \"2021-05-30T00:00:00\", \"2021-05-30T00:00:00\", \"2021-05-30T00:00:00\", \"2021-05-30T00:00:00\", \"2021-05-30T00:00:00\", \"2021-05-30T00:00:00\", \"2021-05-30T00:00:00\", \"2021-05-30T00:00:00\", \"2021-05-30T00:00:00\", \"2021-05-30T00:00:00\", \"2021-05-30T00:00:00\", \"2021-05-30T00:00:00\", \"2021-05-30T00:00:00\", \"2021-05-30T00:00:00\", \"2021-05-30T00:00:00\", \"2021-05-30T00:00:00\", \"2021-05-30T00:00:00\", \"2021-05-30T00:00:00\", \"2021-05-30T00:00:00\", \"2021-05-30T00:00:00\", \"2021-05-30T00:00:00\", \"2021-05-30T00:00:00\", \"2021-05-30T00:00:00\", \"2021-05-30T00:00:00\", \"2021-05-30T00:00:00\", \"2021-05-30T00:00:00\", \"2021-05-30T00:00:00\", \"2021-05-30T00:00:00\", \"2021-05-30T00:00:00\", \"2021-05-30T00:00:00\", \"2021-05-30T00:00:00\", \"2021-05-30T00:00:00\", \"2021-05-30T00:00:00\", \"2021-05-30T00:00:00\", \"2021-05-30T00:00:00\", \"2021-05-30T00:00:00\", \"2021-05-30T00:00:00\", \"2021-05-30T00:00:00\", \"2021-05-30T00:00:00\", \"2021-05-30T00:00:00\", \"2021-05-30T00:00:00\", \"2021-05-30T00:00:00\", \"2021-05-30T00:00:00\", \"2021-05-30T00:00:00\", \"2021-05-30T00:00:00\", \"2021-05-30T00:00:00\", \"2021-05-30T00:00:00\", \"2021-05-30T00:00:00\", \"2021-05-30T00:00:00\", \"2021-05-30T00:00:00\", \"2021-05-30T00:00:00\", \"2021-05-30T00:00:00\", \"2021-05-30T00:00:00\", \"2021-05-30T00:00:00\", \"2021-05-30T00:00:00\", \"2021-05-30T00:00:00\", \"2021-05-30T00:00:00\", \"2021-05-30T00:00:00\", \"2021-05-30T00:00:00\", \"2021-05-30T00:00:00\", \"2021-05-30T00:00:00\", \"2021-05-30T00:00:00\", \"2021-05-30T00:00:00\", \"2021-05-30T00:00:00\", \"2021-05-30T00:00:00\", \"2021-05-30T00:00:00\", \"2021-05-30T00:00:00\", \"2021-05-30T00:00:00\", \"2021-05-30T00:00:00\", \"2021-05-30T00:00:00\", \"2021-05-30T00:00:00\", \"2021-05-30T00:00:00\", \"2021-05-30T00:00:00\", \"2021-05-30T00:00:00\", \"2021-05-30T00:00:00\", \"2021-05-30T00:00:00\", \"2021-05-29T00:00:00\", \"2021-05-29T00:00:00\", \"2021-05-29T00:00:00\", \"2021-05-29T00:00:00\", \"2021-05-29T00:00:00\", \"2021-05-29T00:00:00\", \"2021-05-29T00:00:00\", \"2021-05-29T00:00:00\", \"2021-05-29T00:00:00\", \"2021-05-29T00:00:00\", \"2021-05-29T00:00:00\", \"2021-05-29T00:00:00\", \"2021-05-29T00:00:00\", \"2021-05-29T00:00:00\", \"2021-05-29T00:00:00\", \"2021-05-29T00:00:00\", \"2021-05-29T00:00:00\", \"2021-05-29T00:00:00\", \"2021-05-29T00:00:00\", \"2021-05-29T00:00:00\", \"2021-05-29T00:00:00\", \"2021-05-29T00:00:00\", \"2021-05-29T00:00:00\", \"2021-05-28T00:00:00\", \"2021-05-28T00:00:00\", \"2021-05-28T00:00:00\", \"2021-05-28T00:00:00\", \"2021-05-28T00:00:00\", \"2021-05-28T00:00:00\", \"2021-05-28T00:00:00\", \"2021-05-28T00:00:00\", \"2021-05-28T00:00:00\", \"2021-05-28T00:00:00\", \"2021-05-28T00:00:00\", \"2021-05-28T00:00:00\", \"2021-05-28T00:00:00\", \"2021-05-28T00:00:00\", \"2021-05-28T00:00:00\", \"2021-05-28T00:00:00\", \"2021-05-28T00:00:00\", \"2021-05-28T00:00:00\", \"2021-05-28T00:00:00\", \"2021-05-28T00:00:00\", \"2021-05-28T00:00:00\", \"2021-05-28T00:00:00\", \"2021-05-28T00:00:00\", \"2021-05-28T00:00:00\", \"2021-05-28T00:00:00\", \"2021-05-28T00:00:00\", \"2021-05-28T00:00:00\", \"2021-05-28T00:00:00\", \"2021-05-28T00:00:00\", \"2021-05-28T00:00:00\", \"2021-05-28T00:00:00\", \"2021-05-28T00:00:00\", \"2021-05-28T00:00:00\", \"2021-05-28T00:00:00\", \"2021-05-27T00:00:00\", \"2021-05-27T00:00:00\", \"2021-05-27T00:00:00\", \"2021-05-27T00:00:00\", \"2021-05-27T00:00:00\", \"2021-05-27T00:00:00\", \"2021-05-27T00:00:00\", \"2021-05-27T00:00:00\", \"2021-05-27T00:00:00\", \"2021-05-27T00:00:00\", \"2021-05-27T00:00:00\", \"2021-05-27T00:00:00\", \"2021-05-27T00:00:00\", \"2021-05-27T00:00:00\", \"2021-05-27T00:00:00\", \"2021-05-27T00:00:00\", \"2021-05-27T00:00:00\", \"2021-05-27T00:00:00\", \"2021-05-27T00:00:00\", \"2021-05-27T00:00:00\", \"2021-05-27T00:00:00\", \"2021-05-27T00:00:00\", \"2021-05-27T00:00:00\", \"2021-05-27T00:00:00\", \"2021-05-27T00:00:00\", \"2021-05-27T00:00:00\", \"2021-05-27T00:00:00\", \"2021-05-27T00:00:00\", \"2021-05-27T00:00:00\", \"2021-05-27T00:00:00\", \"2021-05-27T00:00:00\", \"2021-05-27T00:00:00\", \"2021-05-27T00:00:00\", \"2021-05-27T00:00:00\", \"2021-05-27T00:00:00\", \"2021-05-27T00:00:00\", \"2021-05-27T00:00:00\", \"2021-05-27T00:00:00\", \"2021-05-26T00:00:00\", \"2021-05-26T00:00:00\", \"2021-05-26T00:00:00\", \"2021-05-26T00:00:00\", \"2021-05-26T00:00:00\", \"2021-05-26T00:00:00\", \"2021-05-26T00:00:00\", \"2021-05-26T00:00:00\", \"2021-05-26T00:00:00\", \"2021-05-26T00:00:00\", \"2021-05-26T00:00:00\", \"2021-05-26T00:00:00\", \"2021-05-26T00:00:00\", \"2021-05-26T00:00:00\", \"2021-05-26T00:00:00\", \"2021-05-26T00:00:00\", \"2021-05-26T00:00:00\", \"2021-05-26T00:00:00\", \"2021-05-26T00:00:00\", \"2021-05-26T00:00:00\", \"2021-05-26T00:00:00\", \"2021-05-26T00:00:00\", \"2021-05-26T00:00:00\", \"2021-05-26T00:00:00\", \"2021-05-26T00:00:00\", \"2021-05-26T00:00:00\", \"2021-05-26T00:00:00\", \"2021-05-26T00:00:00\", \"2021-05-26T00:00:00\", \"2021-05-26T00:00:00\", \"2021-05-26T00:00:00\", \"2021-05-26T00:00:00\", \"2021-05-26T00:00:00\", \"2021-05-26T00:00:00\", \"2021-05-26T00:00:00\", \"2021-05-26T00:00:00\", \"2021-05-26T00:00:00\", \"2021-05-26T00:00:00\", \"2021-05-26T00:00:00\", \"2021-05-26T00:00:00\", \"2021-05-26T00:00:00\", \"2021-05-26T00:00:00\", \"2021-05-26T00:00:00\", \"2021-05-26T00:00:00\", \"2021-05-26T00:00:00\", \"2021-05-26T00:00:00\", \"2021-05-26T00:00:00\", \"2021-05-25T00:00:00\", \"2021-05-25T00:00:00\", \"2021-05-25T00:00:00\", \"2021-05-25T00:00:00\", \"2021-05-25T00:00:00\", \"2021-05-25T00:00:00\", \"2021-05-25T00:00:00\", \"2021-05-24T00:00:00\", \"2021-05-24T00:00:00\", \"2021-05-24T00:00:00\", \"2021-05-24T00:00:00\", \"2021-05-24T00:00:00\", \"2021-05-24T00:00:00\", \"2021-05-24T00:00:00\", \"2021-05-24T00:00:00\", \"2021-05-24T00:00:00\", \"2021-05-24T00:00:00\", \"2021-05-24T00:00:00\", \"2021-05-24T00:00:00\", \"2021-05-24T00:00:00\", \"2021-05-24T00:00:00\", \"2021-05-24T00:00:00\", \"2021-05-24T00:00:00\", \"2021-05-24T00:00:00\", \"2021-05-24T00:00:00\", \"2021-05-24T00:00:00\", \"2021-05-24T00:00:00\", \"2021-05-24T00:00:00\", \"2021-05-24T00:00:00\", \"2021-05-24T00:00:00\", \"2021-05-22T00:00:00\", \"2021-05-18T00:00:00\"], \"yaxis\": \"y\", \"ybingroup\": \"y\"}],                        {\"annotations\": [{\"ax\": 10, \"ay\": 20, \"text\": \"lockdown\", \"x\": \"2021-05-27\", \"xanchor\": \"left\", \"y\": \"2021-05-27\"}], \"coloraxis\": {\"colorbar\": {\"title\": {\"text\": \"count\"}}, \"colorscale\": [[0.0, \"#440154\"], [0.1111111111111111, \"#482878\"], [0.2222222222222222, \"#3e4989\"], [0.3333333333333333, \"#31688e\"], [0.4444444444444444, \"#26828e\"], [0.5555555555555556, \"#1f9e89\"], [0.6666666666666666, \"#35b779\"], [0.7777777777777778, \"#6ece58\"], [0.8888888888888888, \"#b5de2b\"], [1.0, \"#fde725\"]]}, \"legend\": {\"tracegroupgap\": 0}, \"shapes\": [{\"type\": \"line\", \"x0\": \"2021-05-27\", \"x1\": \"2021-05-27\", \"xref\": \"x\", \"y0\": 0, \"y1\": 1, \"yref\": \"y domain\"}, {\"type\": \"line\", \"x0\": 0, \"x1\": 1, \"xref\": \"x domain\", \"y0\": \"2021-05-27\", \"y1\": \"2021-05-27\", \"yref\": \"y\"}], \"template\": {\"data\": {\"bar\": [{\"error_x\": {\"color\": \"#f2f5fa\"}, \"error_y\": {\"color\": \"#f2f5fa\"}, \"marker\": {\"line\": {\"color\": \"rgb(17,17,17)\", \"width\": 0.5}}, \"type\": \"bar\"}], \"barpolar\": [{\"marker\": {\"line\": {\"color\": \"rgb(17,17,17)\", \"width\": 0.5}}, \"type\": \"barpolar\"}], \"carpet\": [{\"aaxis\": {\"endlinecolor\": \"#A2B1C6\", \"gridcolor\": \"#506784\", \"linecolor\": \"#506784\", \"minorgridcolor\": \"#506784\", \"startlinecolor\": \"#A2B1C6\"}, \"baxis\": {\"endlinecolor\": \"#A2B1C6\", \"gridcolor\": \"#506784\", \"linecolor\": \"#506784\", \"minorgridcolor\": \"#506784\", \"startlinecolor\": \"#A2B1C6\"}, \"type\": \"carpet\"}], \"choropleth\": [{\"colorbar\": {\"outlinewidth\": 0, \"ticks\": \"\"}, \"type\": \"choropleth\"}], \"contour\": [{\"colorbar\": {\"outlinewidth\": 0, \"ticks\": \"\"}, \"colorscale\": [[0.0, \"#0d0887\"], [0.1111111111111111, \"#46039f\"], [0.2222222222222222, \"#7201a8\"], [0.3333333333333333, \"#9c179e\"], [0.4444444444444444, \"#bd3786\"], [0.5555555555555556, \"#d8576b\"], [0.6666666666666666, \"#ed7953\"], [0.7777777777777778, \"#fb9f3a\"], [0.8888888888888888, \"#fdca26\"], [1.0, \"#f0f921\"]], \"type\": \"contour\"}], \"contourcarpet\": [{\"colorbar\": {\"outlinewidth\": 0, \"ticks\": \"\"}, \"type\": \"contourcarpet\"}], \"heatmap\": [{\"colorbar\": {\"outlinewidth\": 0, \"ticks\": \"\"}, \"colorscale\": [[0.0, \"#0d0887\"], [0.1111111111111111, \"#46039f\"], [0.2222222222222222, \"#7201a8\"], [0.3333333333333333, \"#9c179e\"], [0.4444444444444444, \"#bd3786\"], [0.5555555555555556, \"#d8576b\"], [0.6666666666666666, \"#ed7953\"], [0.7777777777777778, \"#fb9f3a\"], [0.8888888888888888, \"#fdca26\"], [1.0, \"#f0f921\"]], \"type\": \"heatmap\"}], \"heatmapgl\": [{\"colorbar\": {\"outlinewidth\": 0, \"ticks\": \"\"}, \"colorscale\": [[0.0, \"#0d0887\"], [0.1111111111111111, \"#46039f\"], [0.2222222222222222, \"#7201a8\"], [0.3333333333333333, \"#9c179e\"], [0.4444444444444444, \"#bd3786\"], [0.5555555555555556, \"#d8576b\"], [0.6666666666666666, \"#ed7953\"], [0.7777777777777778, \"#fb9f3a\"], [0.8888888888888888, \"#fdca26\"], [1.0, \"#f0f921\"]], \"type\": \"heatmapgl\"}], \"histogram\": [{\"marker\": {\"colorbar\": {\"outlinewidth\": 0, \"ticks\": \"\"}}, \"type\": \"histogram\"}], \"histogram2d\": [{\"colorbar\": {\"outlinewidth\": 0, \"ticks\": \"\"}, \"colorscale\": [[0.0, \"#0d0887\"], [0.1111111111111111, \"#46039f\"], [0.2222222222222222, \"#7201a8\"], [0.3333333333333333, \"#9c179e\"], [0.4444444444444444, \"#bd3786\"], [0.5555555555555556, \"#d8576b\"], [0.6666666666666666, \"#ed7953\"], [0.7777777777777778, \"#fb9f3a\"], [0.8888888888888888, \"#fdca26\"], [1.0, \"#f0f921\"]], \"type\": \"histogram2d\"}], \"histogram2dcontour\": [{\"colorbar\": {\"outlinewidth\": 0, \"ticks\": \"\"}, \"colorscale\": [[0.0, \"#0d0887\"], [0.1111111111111111, \"#46039f\"], [0.2222222222222222, \"#7201a8\"], [0.3333333333333333, \"#9c179e\"], [0.4444444444444444, \"#bd3786\"], [0.5555555555555556, \"#d8576b\"], [0.6666666666666666, \"#ed7953\"], [0.7777777777777778, \"#fb9f3a\"], [0.8888888888888888, \"#fdca26\"], [1.0, \"#f0f921\"]], \"type\": \"histogram2dcontour\"}], \"mesh3d\": [{\"colorbar\": {\"outlinewidth\": 0, \"ticks\": \"\"}, \"type\": \"mesh3d\"}], \"parcoords\": [{\"line\": {\"colorbar\": {\"outlinewidth\": 0, \"ticks\": \"\"}}, \"type\": \"parcoords\"}], \"pie\": [{\"automargin\": true, \"type\": \"pie\"}], \"scatter\": [{\"marker\": {\"line\": {\"color\": \"#283442\"}}, \"type\": \"scatter\"}], \"scatter3d\": [{\"line\": {\"colorbar\": {\"outlinewidth\": 0, \"ticks\": \"\"}}, \"marker\": {\"colorbar\": {\"outlinewidth\": 0, \"ticks\": \"\"}}, \"type\": \"scatter3d\"}], \"scattercarpet\": [{\"marker\": {\"colorbar\": {\"outlinewidth\": 0, \"ticks\": \"\"}}, \"type\": \"scattercarpet\"}], \"scattergeo\": [{\"marker\": {\"colorbar\": {\"outlinewidth\": 0, \"ticks\": \"\"}}, \"type\": \"scattergeo\"}], \"scattergl\": [{\"marker\": {\"line\": {\"color\": \"#283442\"}}, \"type\": \"scattergl\"}], \"scattermapbox\": [{\"marker\": {\"colorbar\": {\"outlinewidth\": 0, \"ticks\": \"\"}}, \"type\": \"scattermapbox\"}], \"scatterpolar\": [{\"marker\": {\"colorbar\": {\"outlinewidth\": 0, \"ticks\": \"\"}}, \"type\": \"scatterpolar\"}], \"scatterpolargl\": [{\"marker\": {\"colorbar\": {\"outlinewidth\": 0, \"ticks\": \"\"}}, \"type\": \"scatterpolargl\"}], \"scatterternary\": [{\"marker\": {\"colorbar\": {\"outlinewidth\": 0, \"ticks\": \"\"}}, \"type\": \"scatterternary\"}], \"surface\": [{\"colorbar\": {\"outlinewidth\": 0, \"ticks\": \"\"}, \"colorscale\": [[0.0, \"#0d0887\"], [0.1111111111111111, \"#46039f\"], [0.2222222222222222, \"#7201a8\"], [0.3333333333333333, \"#9c179e\"], [0.4444444444444444, \"#bd3786\"], [0.5555555555555556, \"#d8576b\"], [0.6666666666666666, \"#ed7953\"], [0.7777777777777778, \"#fb9f3a\"], [0.8888888888888888, \"#fdca26\"], [1.0, \"#f0f921\"]], \"type\": \"surface\"}], \"table\": [{\"cells\": {\"fill\": {\"color\": \"#506784\"}, \"line\": {\"color\": \"rgb(17,17,17)\"}}, \"header\": {\"fill\": {\"color\": \"#2a3f5f\"}, \"line\": {\"color\": \"rgb(17,17,17)\"}}, \"type\": \"table\"}]}, \"layout\": {\"annotationdefaults\": {\"arrowcolor\": \"#f2f5fa\", \"arrowhead\": 0, \"arrowwidth\": 1}, \"autotypenumbers\": \"strict\", \"coloraxis\": {\"colorbar\": {\"outlinewidth\": 0, \"ticks\": \"\"}}, \"colorscale\": {\"diverging\": [[0, \"#8e0152\"], [0.1, \"#c51b7d\"], [0.2, \"#de77ae\"], [0.3, \"#f1b6da\"], [0.4, \"#fde0ef\"], [0.5, \"#f7f7f7\"], [0.6, \"#e6f5d0\"], [0.7, \"#b8e186\"], [0.8, \"#7fbc41\"], [0.9, \"#4d9221\"], [1, \"#276419\"]], \"sequential\": [[0.0, \"#0d0887\"], [0.1111111111111111, \"#46039f\"], [0.2222222222222222, \"#7201a8\"], [0.3333333333333333, \"#9c179e\"], [0.4444444444444444, \"#bd3786\"], [0.5555555555555556, \"#d8576b\"], [0.6666666666666666, \"#ed7953\"], [0.7777777777777778, \"#fb9f3a\"], [0.8888888888888888, \"#fdca26\"], [1.0, \"#f0f921\"]], \"sequentialminus\": [[0.0, \"#0d0887\"], [0.1111111111111111, \"#46039f\"], [0.2222222222222222, \"#7201a8\"], [0.3333333333333333, \"#9c179e\"], [0.4444444444444444, \"#bd3786\"], [0.5555555555555556, \"#d8576b\"], [0.6666666666666666, \"#ed7953\"], [0.7777777777777778, \"#fb9f3a\"], [0.8888888888888888, \"#fdca26\"], [1.0, \"#f0f921\"]]}, \"colorway\": [\"#636efa\", \"#EF553B\", \"#00cc96\", \"#ab63fa\", \"#FFA15A\", \"#19d3f3\", \"#FF6692\", \"#B6E880\", \"#FF97FF\", \"#FECB52\"], \"font\": {\"color\": \"#f2f5fa\"}, \"geo\": {\"bgcolor\": \"rgb(17,17,17)\", \"lakecolor\": \"rgb(17,17,17)\", \"landcolor\": \"rgb(17,17,17)\", \"showlakes\": true, \"showland\": true, \"subunitcolor\": \"#506784\"}, \"hoverlabel\": {\"align\": \"left\"}, \"hovermode\": \"closest\", \"mapbox\": {\"style\": \"dark\"}, \"paper_bgcolor\": \"rgb(17,17,17)\", \"plot_bgcolor\": \"rgb(17,17,17)\", \"polar\": {\"angularaxis\": {\"gridcolor\": \"#506784\", \"linecolor\": \"#506784\", \"ticks\": \"\"}, \"bgcolor\": \"rgb(17,17,17)\", \"radialaxis\": {\"gridcolor\": \"#506784\", \"linecolor\": \"#506784\", \"ticks\": \"\"}}, \"scene\": {\"xaxis\": {\"backgroundcolor\": \"rgb(17,17,17)\", \"gridcolor\": \"#506784\", \"gridwidth\": 2, \"linecolor\": \"#506784\", \"showbackground\": true, \"ticks\": \"\", \"zerolinecolor\": \"#C8D4E3\"}, \"yaxis\": {\"backgroundcolor\": \"rgb(17,17,17)\", \"gridcolor\": \"#506784\", \"gridwidth\": 2, \"linecolor\": \"#506784\", \"showbackground\": true, \"ticks\": \"\", \"zerolinecolor\": \"#C8D4E3\"}, \"zaxis\": {\"backgroundcolor\": \"rgb(17,17,17)\", \"gridcolor\": \"#506784\", \"gridwidth\": 2, \"linecolor\": \"#506784\", \"showbackground\": true, \"ticks\": \"\", \"zerolinecolor\": \"#C8D4E3\"}}, \"shapedefaults\": {\"line\": {\"color\": \"#f2f5fa\"}}, \"sliderdefaults\": {\"bgcolor\": \"#C8D4E3\", \"bordercolor\": \"rgb(17,17,17)\", \"borderwidth\": 1, \"tickwidth\": 0}, \"ternary\": {\"aaxis\": {\"gridcolor\": \"#506784\", \"linecolor\": \"#506784\", \"ticks\": \"\"}, \"baxis\": {\"gridcolor\": \"#506784\", \"linecolor\": \"#506784\", \"ticks\": \"\"}, \"bgcolor\": \"rgb(17,17,17)\", \"caxis\": {\"gridcolor\": \"#506784\", \"linecolor\": \"#506784\", \"ticks\": \"\"}}, \"title\": {\"x\": 0.05}, \"updatemenudefaults\": {\"bgcolor\": \"#506784\", \"borderwidth\": 0}, \"xaxis\": {\"automargin\": true, \"gridcolor\": \"#283442\", \"linecolor\": \"#506784\", \"ticks\": \"\", \"title\": {\"standoff\": 15}, \"zerolinecolor\": \"#283442\", \"zerolinewidth\": 2}, \"yaxis\": {\"automargin\": true, \"gridcolor\": \"#283442\", \"linecolor\": \"#506784\", \"ticks\": \"\", \"title\": {\"standoff\": 15}, \"zerolinecolor\": \"#283442\", \"zerolinewidth\": 2}}}, \"title\": {\"text\": \"Exposure site counts by date added\"}, \"xaxis\": {\"anchor\": \"y\", \"domain\": [0.0, 1.0], \"title\": {\"text\": \"Exposure Date\"}}, \"yaxis\": {\"anchor\": \"x\", \"domain\": [0.0, 1.0], \"title\": {\"text\": \"Date Added\"}}},                        {\"responsive\": true}                    ).then(function(){\n",
       "                            \n",
       "var gd = document.getElementById('05b48cf2-3a41-4c01-9ccb-a6853127de69');\n",
       "var x = new MutationObserver(function (mutations, observer) {{\n",
       "        var display = window.getComputedStyle(gd).display;\n",
       "        if (!display || display === 'none') {{\n",
       "            console.log([gd, 'removed!']);\n",
       "            Plotly.purge(gd);\n",
       "            observer.disconnect();\n",
       "        }}\n",
       "}});\n",
       "\n",
       "// Listen for the removal of the full notebook cells\n",
       "var notebookContainer = gd.closest('#notebook-container');\n",
       "if (notebookContainer) {{\n",
       "    x.observe(notebookContainer, {childList: true});\n",
       "}}\n",
       "\n",
       "// Listen for the clearing of the current output cell\n",
       "var outputEl = gd.closest('.output');\n",
       "if (outputEl) {{\n",
       "    x.observe(outputEl, {childList: true});\n",
       "}}\n",
       "\n",
       "                        })                };                });            </script>        </div>"
      ]
     },
     "metadata": {},
     "output_type": "display_data"
    },
    {
     "data": {
      "application/vnd.plotly.v1+json": {
       "config": {
        "plotlyServerURL": "https://plot.ly"
       },
       "data": [
        {
         "alignmentgroup": "True",
         "bingroup": "x",
         "hovertemplate": "tier=1<br>date_exposure=%{x}<br>count=%{y}<extra></extra>",
         "legendgroup": "1",
         "marker": {
          "color": "rgb(228,26,28)"
         },
         "name": "1",
         "offsetgroup": "1",
         "orientation": "v",
         "showlegend": true,
         "type": "histogram",
         "x": [
          "2021-05-19T00:00:00",
          "2021-05-21T00:00:00",
          "2021-05-26T00:00:00",
          "2021-05-21T00:00:00",
          "2021-05-25T00:00:00",
          "2021-05-23T00:00:00",
          "2021-05-22T00:00:00",
          "2021-05-21T00:00:00",
          "2021-05-22T00:00:00",
          "2021-05-23T00:00:00",
          "2021-05-20T00:00:00",
          "2021-05-26T00:00:00",
          "2021-05-21T00:00:00",
          "2021-05-23T00:00:00",
          "2021-05-22T00:00:00",
          "2021-05-23T00:00:00",
          "2021-05-23T00:00:00",
          "2021-05-22T00:00:00",
          "2021-05-21T00:00:00",
          "2021-05-25T00:00:00",
          "2021-05-23T00:00:00",
          "2021-05-19T00:00:00",
          "2021-05-24T00:00:00",
          "2021-05-19T00:00:00",
          "2021-05-22T00:00:00",
          "2021-05-21T00:00:00",
          "2021-05-20T00:00:00",
          "2021-05-18T00:00:00",
          "2021-05-21T00:00:00",
          "2021-05-17T00:00:00",
          "2021-05-18T00:00:00",
          "2021-05-20T00:00:00",
          "2021-05-21T00:00:00",
          "2021-05-24T00:00:00",
          "2021-05-25T00:00:00",
          "2021-05-27T00:00:00",
          "2021-05-28T00:00:00",
          "2021-05-12T00:00:00",
          "2021-05-13T00:00:00",
          "2021-05-20T00:00:00",
          "2021-05-21T00:00:00",
          "2021-05-23T00:00:00",
          "2021-05-23T00:00:00",
          "2021-05-25T00:00:00",
          "2021-05-23T00:00:00",
          "2021-05-23T00:00:00",
          "2021-05-19T00:00:00",
          "2021-05-22T00:00:00",
          "2021-05-23T00:00:00",
          "2021-05-25T00:00:00",
          "2021-05-24T00:00:00",
          "2021-05-25T00:00:00",
          "2021-05-24T00:00:00",
          "2021-05-23T00:00:00",
          "2021-05-24T00:00:00",
          "2021-05-25T00:00:00",
          "2021-05-25T00:00:00",
          "2021-05-24T00:00:00",
          "2021-05-23T00:00:00",
          "2021-05-23T00:00:00",
          "2021-05-23T00:00:00",
          "2021-05-24T00:00:00",
          "2021-05-20T00:00:00",
          "2021-05-22T00:00:00",
          "2021-05-22T00:00:00",
          "2021-05-22T00:00:00",
          "2021-05-22T00:00:00",
          "2021-05-19T00:00:00",
          "2021-05-21T00:00:00",
          "2021-05-26T00:00:00",
          "2021-05-19T00:00:00",
          "2021-05-25T00:00:00",
          "2021-05-19T00:00:00",
          "2021-05-18T00:00:00",
          "2021-05-18T00:00:00",
          "2021-05-18T00:00:00",
          "2021-05-18T00:00:00",
          "2021-05-25T00:00:00",
          "2021-05-24T00:00:00",
          "2021-05-22T00:00:00",
          "2021-05-25T00:00:00",
          "2021-05-24T00:00:00",
          "2021-05-22T00:00:00",
          "2021-05-24T00:00:00",
          "2021-05-25T00:00:00",
          "2021-05-26T00:00:00",
          "2021-05-22T00:00:00",
          "2021-05-23T00:00:00",
          "2021-05-25T00:00:00",
          "2021-05-27T00:00:00",
          "2021-05-22T00:00:00",
          "2021-05-24T00:00:00",
          "2021-05-26T00:00:00",
          "2021-05-24T00:00:00",
          "2021-05-29T00:00:00",
          "2021-05-26T00:00:00",
          "2021-05-28T00:00:00",
          "2021-05-27T00:00:00",
          "2021-05-26T00:00:00",
          "2021-05-21T00:00:00",
          "2021-05-26T00:00:00",
          "2021-05-22T00:00:00",
          "2021-05-21T00:00:00",
          "2021-05-24T00:00:00",
          "2021-05-24T00:00:00",
          "2021-05-22T00:00:00",
          "2021-05-20T00:00:00",
          "2021-05-29T00:00:00",
          "2021-05-25T00:00:00",
          "2021-05-27T00:00:00",
          "2021-05-27T00:00:00",
          "2021-05-24T00:00:00",
          "2021-05-22T00:00:00",
          "2021-05-21T00:00:00",
          "2021-05-22T00:00:00",
          "2021-05-26T00:00:00",
          "2021-05-18T00:00:00",
          "2021-05-17T00:00:00",
          "2021-05-20T00:00:00",
          "2021-05-20T00:00:00",
          "2021-05-20T00:00:00",
          "2021-05-20T00:00:00",
          "2021-05-20T00:00:00",
          "2021-05-19T00:00:00",
          "2021-05-27T00:00:00",
          "2021-05-25T00:00:00",
          "2021-05-26T00:00:00",
          "2021-05-22T00:00:00",
          "2021-05-20T00:00:00",
          "2021-05-27T00:00:00",
          "2021-05-27T00:00:00",
          "2021-05-23T00:00:00",
          "2021-05-22T00:00:00",
          "2021-05-22T00:00:00",
          "2021-05-22T00:00:00",
          "2021-05-28T00:00:00",
          "2021-05-26T00:00:00",
          "2021-05-23T00:00:00",
          "2021-05-22T00:00:00",
          "2021-05-25T00:00:00",
          "2021-05-25T00:00:00",
          "2021-05-25T00:00:00",
          "2021-05-24T00:00:00",
          "2021-05-25T00:00:00",
          "2021-05-28T00:00:00",
          "2021-05-27T00:00:00",
          "2021-05-23T00:00:00",
          "2021-05-26T00:00:00",
          "2021-05-28T00:00:00",
          "2021-05-27T00:00:00",
          "2021-05-26T00:00:00",
          "2021-05-26T00:00:00",
          "2021-05-26T00:00:00",
          "2021-05-26T00:00:00",
          "2021-05-23T00:00:00",
          "2021-05-26T00:00:00",
          "2021-05-22T00:00:00",
          "2021-05-24T00:00:00",
          "2021-05-17T00:00:00",
          "2021-05-17T00:00:00",
          "2021-05-25T00:00:00"
         ],
         "xaxis": "x",
         "yaxis": "y"
        },
        {
         "alignmentgroup": "True",
         "bingroup": "x",
         "hovertemplate": "tier=2<br>date_exposure=%{x}<br>count=%{y}<extra></extra>",
         "legendgroup": "2",
         "marker": {
          "color": "rgb(55,126,184)"
         },
         "name": "2",
         "offsetgroup": "2",
         "orientation": "v",
         "showlegend": true,
         "type": "histogram",
         "x": [
          "2021-05-23T00:00:00",
          "2021-05-24T00:00:00",
          "2021-05-24T00:00:00",
          "2021-05-20T00:00:00",
          "2021-05-24T00:00:00",
          "2021-05-23T00:00:00",
          "2021-05-19T00:00:00",
          "2021-05-23T00:00:00",
          "2021-05-22T00:00:00",
          "2021-05-21T00:00:00",
          "2021-05-23T00:00:00",
          "2021-05-23T00:00:00",
          "2021-05-24T00:00:00",
          "2021-05-22T00:00:00",
          "2021-05-22T00:00:00",
          "2021-05-23T00:00:00",
          "2021-05-22T00:00:00",
          "2021-05-25T00:00:00",
          "2021-05-23T00:00:00",
          "2021-05-14T00:00:00",
          "2021-05-14T00:00:00",
          "2021-05-14T00:00:00",
          "2021-05-19T00:00:00",
          "2021-05-20T00:00:00",
          "2021-05-22T00:00:00",
          "2021-05-19T00:00:00",
          "2021-05-19T00:00:00",
          "2021-05-20T00:00:00",
          "2021-05-17T00:00:00",
          "2021-05-23T00:00:00",
          "2021-05-23T00:00:00",
          "2021-05-22T00:00:00",
          "2021-05-21T00:00:00",
          "2021-05-22T00:00:00",
          "2021-05-20T00:00:00",
          "2021-05-23T00:00:00",
          "2021-05-22T00:00:00",
          "2021-05-23T00:00:00",
          "2021-05-22T00:00:00",
          "2021-05-22T00:00:00",
          "2021-05-22T00:00:00",
          "2021-05-23T00:00:00",
          "2021-05-24T00:00:00",
          "2021-05-23T00:00:00",
          "2021-05-22T00:00:00",
          "2021-05-24T00:00:00",
          "2021-05-24T00:00:00",
          "2021-05-23T00:00:00",
          "2021-05-23T00:00:00",
          "2021-05-22T00:00:00",
          "2021-05-22T00:00:00",
          "2021-05-23T00:00:00",
          "2021-05-23T00:00:00",
          "2021-05-21T00:00:00",
          "2021-05-26T00:00:00",
          "2021-05-24T00:00:00",
          "2021-05-19T00:00:00",
          "2021-05-26T00:00:00",
          "2021-05-27T00:00:00",
          "2021-05-24T00:00:00",
          "2021-05-22T00:00:00",
          "2021-05-23T00:00:00",
          "2021-05-23T00:00:00",
          "2021-05-28T00:00:00",
          "2021-05-26T00:00:00",
          "2021-05-22T00:00:00",
          "2021-05-23T00:00:00",
          "2021-05-23T00:00:00",
          "2021-05-25T00:00:00",
          "2021-05-21T00:00:00",
          "2021-05-26T00:00:00",
          "2021-05-26T00:00:00",
          "2021-05-15T00:00:00",
          "2021-05-15T00:00:00",
          "2021-05-22T00:00:00",
          "2021-05-23T00:00:00",
          "2021-05-20T00:00:00",
          "2021-05-18T00:00:00",
          "2021-05-26T00:00:00",
          "2021-05-26T00:00:00",
          "2021-05-26T00:00:00",
          "2021-05-25T00:00:00",
          "2021-05-25T00:00:00",
          "2021-05-24T00:00:00",
          "2021-05-22T00:00:00",
          "2021-05-18T00:00:00",
          "2021-05-17T00:00:00",
          "2021-05-22T00:00:00",
          "2021-05-26T00:00:00",
          "2021-05-25T00:00:00",
          "2021-05-24T00:00:00",
          "2021-05-25T00:00:00",
          "2021-05-25T00:00:00",
          "2021-05-24T00:00:00",
          "2021-05-22T00:00:00",
          "2021-05-22T00:00:00",
          "2021-05-26T00:00:00",
          "2021-05-23T00:00:00",
          "2021-05-23T00:00:00",
          "2021-05-23T00:00:00",
          "2021-05-23T00:00:00",
          "2021-05-22T00:00:00",
          "2021-05-23T00:00:00",
          "2021-05-25T00:00:00",
          "2021-05-24T00:00:00",
          "2021-05-24T00:00:00",
          "2021-05-22T00:00:00",
          "2021-05-28T00:00:00",
          "2021-05-23T00:00:00",
          "2021-05-18T00:00:00",
          "2021-05-22T00:00:00",
          "2021-05-18T00:00:00",
          "2021-05-25T00:00:00",
          "2021-05-26T00:00:00",
          "2021-05-24T00:00:00",
          "2021-05-27T00:00:00",
          "2021-05-25T00:00:00",
          "2021-05-19T00:00:00",
          "2021-05-19T00:00:00",
          "2021-05-25T00:00:00",
          "2021-05-26T00:00:00",
          "2021-05-22T00:00:00",
          "2021-05-26T00:00:00",
          "2021-05-24T00:00:00",
          "2021-05-26T00:00:00",
          "2021-05-26T00:00:00",
          "2021-05-22T00:00:00",
          "2021-05-22T00:00:00"
         ],
         "xaxis": "x",
         "yaxis": "y"
        },
        {
         "alignmentgroup": "True",
         "bingroup": "x",
         "hovertemplate": "tier=3<br>date_exposure=%{x}<br>count=%{y}<extra></extra>",
         "legendgroup": "3",
         "marker": {
          "color": "rgb(77,175,74)"
         },
         "name": "3",
         "offsetgroup": "3",
         "orientation": "v",
         "showlegend": true,
         "type": "histogram",
         "x": [
          "2021-05-23T00:00:00",
          "2021-05-28T00:00:00",
          "2021-05-27T00:00:00",
          "2021-05-13T00:00:00",
          "2021-05-25T00:00:00",
          "2021-05-22T00:00:00",
          "2021-05-27T00:00:00",
          "2021-05-23T00:00:00",
          "2021-05-23T00:00:00"
         ],
         "xaxis": "x",
         "yaxis": "y"
        }
       ],
       "layout": {
        "annotations": [
         {
          "ax": 10,
          "ay": 20,
          "text": "lockdown",
          "x": "2021-05-27",
          "xanchor": "left",
          "y": 40
         }
        ],
        "bargap": 0.2,
        "barmode": "relative",
        "legend": {
         "title": {
          "text": "tier"
         },
         "tracegroupgap": 0
        },
        "shapes": [
         {
          "type": "line",
          "x0": "2021-05-27",
          "x1": "2021-05-27",
          "xref": "x",
          "y0": 0,
          "y1": 1,
          "yref": "y domain"
         }
        ],
        "template": {
         "data": {
          "bar": [
           {
            "error_x": {
             "color": "#f2f5fa"
            },
            "error_y": {
             "color": "#f2f5fa"
            },
            "marker": {
             "line": {
              "color": "rgb(17,17,17)",
              "width": 0.5
             }
            },
            "type": "bar"
           }
          ],
          "barpolar": [
           {
            "marker": {
             "line": {
              "color": "rgb(17,17,17)",
              "width": 0.5
             }
            },
            "type": "barpolar"
           }
          ],
          "carpet": [
           {
            "aaxis": {
             "endlinecolor": "#A2B1C6",
             "gridcolor": "#506784",
             "linecolor": "#506784",
             "minorgridcolor": "#506784",
             "startlinecolor": "#A2B1C6"
            },
            "baxis": {
             "endlinecolor": "#A2B1C6",
             "gridcolor": "#506784",
             "linecolor": "#506784",
             "minorgridcolor": "#506784",
             "startlinecolor": "#A2B1C6"
            },
            "type": "carpet"
           }
          ],
          "choropleth": [
           {
            "colorbar": {
             "outlinewidth": 0,
             "ticks": ""
            },
            "type": "choropleth"
           }
          ],
          "contour": [
           {
            "colorbar": {
             "outlinewidth": 0,
             "ticks": ""
            },
            "colorscale": [
             [
              0,
              "#0d0887"
             ],
             [
              0.1111111111111111,
              "#46039f"
             ],
             [
              0.2222222222222222,
              "#7201a8"
             ],
             [
              0.3333333333333333,
              "#9c179e"
             ],
             [
              0.4444444444444444,
              "#bd3786"
             ],
             [
              0.5555555555555556,
              "#d8576b"
             ],
             [
              0.6666666666666666,
              "#ed7953"
             ],
             [
              0.7777777777777778,
              "#fb9f3a"
             ],
             [
              0.8888888888888888,
              "#fdca26"
             ],
             [
              1,
              "#f0f921"
             ]
            ],
            "type": "contour"
           }
          ],
          "contourcarpet": [
           {
            "colorbar": {
             "outlinewidth": 0,
             "ticks": ""
            },
            "type": "contourcarpet"
           }
          ],
          "heatmap": [
           {
            "colorbar": {
             "outlinewidth": 0,
             "ticks": ""
            },
            "colorscale": [
             [
              0,
              "#0d0887"
             ],
             [
              0.1111111111111111,
              "#46039f"
             ],
             [
              0.2222222222222222,
              "#7201a8"
             ],
             [
              0.3333333333333333,
              "#9c179e"
             ],
             [
              0.4444444444444444,
              "#bd3786"
             ],
             [
              0.5555555555555556,
              "#d8576b"
             ],
             [
              0.6666666666666666,
              "#ed7953"
             ],
             [
              0.7777777777777778,
              "#fb9f3a"
             ],
             [
              0.8888888888888888,
              "#fdca26"
             ],
             [
              1,
              "#f0f921"
             ]
            ],
            "type": "heatmap"
           }
          ],
          "heatmapgl": [
           {
            "colorbar": {
             "outlinewidth": 0,
             "ticks": ""
            },
            "colorscale": [
             [
              0,
              "#0d0887"
             ],
             [
              0.1111111111111111,
              "#46039f"
             ],
             [
              0.2222222222222222,
              "#7201a8"
             ],
             [
              0.3333333333333333,
              "#9c179e"
             ],
             [
              0.4444444444444444,
              "#bd3786"
             ],
             [
              0.5555555555555556,
              "#d8576b"
             ],
             [
              0.6666666666666666,
              "#ed7953"
             ],
             [
              0.7777777777777778,
              "#fb9f3a"
             ],
             [
              0.8888888888888888,
              "#fdca26"
             ],
             [
              1,
              "#f0f921"
             ]
            ],
            "type": "heatmapgl"
           }
          ],
          "histogram": [
           {
            "marker": {
             "colorbar": {
              "outlinewidth": 0,
              "ticks": ""
             }
            },
            "type": "histogram"
           }
          ],
          "histogram2d": [
           {
            "colorbar": {
             "outlinewidth": 0,
             "ticks": ""
            },
            "colorscale": [
             [
              0,
              "#0d0887"
             ],
             [
              0.1111111111111111,
              "#46039f"
             ],
             [
              0.2222222222222222,
              "#7201a8"
             ],
             [
              0.3333333333333333,
              "#9c179e"
             ],
             [
              0.4444444444444444,
              "#bd3786"
             ],
             [
              0.5555555555555556,
              "#d8576b"
             ],
             [
              0.6666666666666666,
              "#ed7953"
             ],
             [
              0.7777777777777778,
              "#fb9f3a"
             ],
             [
              0.8888888888888888,
              "#fdca26"
             ],
             [
              1,
              "#f0f921"
             ]
            ],
            "type": "histogram2d"
           }
          ],
          "histogram2dcontour": [
           {
            "colorbar": {
             "outlinewidth": 0,
             "ticks": ""
            },
            "colorscale": [
             [
              0,
              "#0d0887"
             ],
             [
              0.1111111111111111,
              "#46039f"
             ],
             [
              0.2222222222222222,
              "#7201a8"
             ],
             [
              0.3333333333333333,
              "#9c179e"
             ],
             [
              0.4444444444444444,
              "#bd3786"
             ],
             [
              0.5555555555555556,
              "#d8576b"
             ],
             [
              0.6666666666666666,
              "#ed7953"
             ],
             [
              0.7777777777777778,
              "#fb9f3a"
             ],
             [
              0.8888888888888888,
              "#fdca26"
             ],
             [
              1,
              "#f0f921"
             ]
            ],
            "type": "histogram2dcontour"
           }
          ],
          "mesh3d": [
           {
            "colorbar": {
             "outlinewidth": 0,
             "ticks": ""
            },
            "type": "mesh3d"
           }
          ],
          "parcoords": [
           {
            "line": {
             "colorbar": {
              "outlinewidth": 0,
              "ticks": ""
             }
            },
            "type": "parcoords"
           }
          ],
          "pie": [
           {
            "automargin": true,
            "type": "pie"
           }
          ],
          "scatter": [
           {
            "marker": {
             "line": {
              "color": "#283442"
             }
            },
            "type": "scatter"
           }
          ],
          "scatter3d": [
           {
            "line": {
             "colorbar": {
              "outlinewidth": 0,
              "ticks": ""
             }
            },
            "marker": {
             "colorbar": {
              "outlinewidth": 0,
              "ticks": ""
             }
            },
            "type": "scatter3d"
           }
          ],
          "scattercarpet": [
           {
            "marker": {
             "colorbar": {
              "outlinewidth": 0,
              "ticks": ""
             }
            },
            "type": "scattercarpet"
           }
          ],
          "scattergeo": [
           {
            "marker": {
             "colorbar": {
              "outlinewidth": 0,
              "ticks": ""
             }
            },
            "type": "scattergeo"
           }
          ],
          "scattergl": [
           {
            "marker": {
             "line": {
              "color": "#283442"
             }
            },
            "type": "scattergl"
           }
          ],
          "scattermapbox": [
           {
            "marker": {
             "colorbar": {
              "outlinewidth": 0,
              "ticks": ""
             }
            },
            "type": "scattermapbox"
           }
          ],
          "scatterpolar": [
           {
            "marker": {
             "colorbar": {
              "outlinewidth": 0,
              "ticks": ""
             }
            },
            "type": "scatterpolar"
           }
          ],
          "scatterpolargl": [
           {
            "marker": {
             "colorbar": {
              "outlinewidth": 0,
              "ticks": ""
             }
            },
            "type": "scatterpolargl"
           }
          ],
          "scatterternary": [
           {
            "marker": {
             "colorbar": {
              "outlinewidth": 0,
              "ticks": ""
             }
            },
            "type": "scatterternary"
           }
          ],
          "surface": [
           {
            "colorbar": {
             "outlinewidth": 0,
             "ticks": ""
            },
            "colorscale": [
             [
              0,
              "#0d0887"
             ],
             [
              0.1111111111111111,
              "#46039f"
             ],
             [
              0.2222222222222222,
              "#7201a8"
             ],
             [
              0.3333333333333333,
              "#9c179e"
             ],
             [
              0.4444444444444444,
              "#bd3786"
             ],
             [
              0.5555555555555556,
              "#d8576b"
             ],
             [
              0.6666666666666666,
              "#ed7953"
             ],
             [
              0.7777777777777778,
              "#fb9f3a"
             ],
             [
              0.8888888888888888,
              "#fdca26"
             ],
             [
              1,
              "#f0f921"
             ]
            ],
            "type": "surface"
           }
          ],
          "table": [
           {
            "cells": {
             "fill": {
              "color": "#506784"
             },
             "line": {
              "color": "rgb(17,17,17)"
             }
            },
            "header": {
             "fill": {
              "color": "#2a3f5f"
             },
             "line": {
              "color": "rgb(17,17,17)"
             }
            },
            "type": "table"
           }
          ]
         },
         "layout": {
          "annotationdefaults": {
           "arrowcolor": "#f2f5fa",
           "arrowhead": 0,
           "arrowwidth": 1
          },
          "autotypenumbers": "strict",
          "coloraxis": {
           "colorbar": {
            "outlinewidth": 0,
            "ticks": ""
           }
          },
          "colorscale": {
           "diverging": [
            [
             0,
             "#8e0152"
            ],
            [
             0.1,
             "#c51b7d"
            ],
            [
             0.2,
             "#de77ae"
            ],
            [
             0.3,
             "#f1b6da"
            ],
            [
             0.4,
             "#fde0ef"
            ],
            [
             0.5,
             "#f7f7f7"
            ],
            [
             0.6,
             "#e6f5d0"
            ],
            [
             0.7,
             "#b8e186"
            ],
            [
             0.8,
             "#7fbc41"
            ],
            [
             0.9,
             "#4d9221"
            ],
            [
             1,
             "#276419"
            ]
           ],
           "sequential": [
            [
             0,
             "#0d0887"
            ],
            [
             0.1111111111111111,
             "#46039f"
            ],
            [
             0.2222222222222222,
             "#7201a8"
            ],
            [
             0.3333333333333333,
             "#9c179e"
            ],
            [
             0.4444444444444444,
             "#bd3786"
            ],
            [
             0.5555555555555556,
             "#d8576b"
            ],
            [
             0.6666666666666666,
             "#ed7953"
            ],
            [
             0.7777777777777778,
             "#fb9f3a"
            ],
            [
             0.8888888888888888,
             "#fdca26"
            ],
            [
             1,
             "#f0f921"
            ]
           ],
           "sequentialminus": [
            [
             0,
             "#0d0887"
            ],
            [
             0.1111111111111111,
             "#46039f"
            ],
            [
             0.2222222222222222,
             "#7201a8"
            ],
            [
             0.3333333333333333,
             "#9c179e"
            ],
            [
             0.4444444444444444,
             "#bd3786"
            ],
            [
             0.5555555555555556,
             "#d8576b"
            ],
            [
             0.6666666666666666,
             "#ed7953"
            ],
            [
             0.7777777777777778,
             "#fb9f3a"
            ],
            [
             0.8888888888888888,
             "#fdca26"
            ],
            [
             1,
             "#f0f921"
            ]
           ]
          },
          "colorway": [
           "#636efa",
           "#EF553B",
           "#00cc96",
           "#ab63fa",
           "#FFA15A",
           "#19d3f3",
           "#FF6692",
           "#B6E880",
           "#FF97FF",
           "#FECB52"
          ],
          "font": {
           "color": "#f2f5fa"
          },
          "geo": {
           "bgcolor": "rgb(17,17,17)",
           "lakecolor": "rgb(17,17,17)",
           "landcolor": "rgb(17,17,17)",
           "showlakes": true,
           "showland": true,
           "subunitcolor": "#506784"
          },
          "hoverlabel": {
           "align": "left"
          },
          "hovermode": "closest",
          "mapbox": {
           "style": "dark"
          },
          "paper_bgcolor": "rgb(17,17,17)",
          "plot_bgcolor": "rgb(17,17,17)",
          "polar": {
           "angularaxis": {
            "gridcolor": "#506784",
            "linecolor": "#506784",
            "ticks": ""
           },
           "bgcolor": "rgb(17,17,17)",
           "radialaxis": {
            "gridcolor": "#506784",
            "linecolor": "#506784",
            "ticks": ""
           }
          },
          "scene": {
           "xaxis": {
            "backgroundcolor": "rgb(17,17,17)",
            "gridcolor": "#506784",
            "gridwidth": 2,
            "linecolor": "#506784",
            "showbackground": true,
            "ticks": "",
            "zerolinecolor": "#C8D4E3"
           },
           "yaxis": {
            "backgroundcolor": "rgb(17,17,17)",
            "gridcolor": "#506784",
            "gridwidth": 2,
            "linecolor": "#506784",
            "showbackground": true,
            "ticks": "",
            "zerolinecolor": "#C8D4E3"
           },
           "zaxis": {
            "backgroundcolor": "rgb(17,17,17)",
            "gridcolor": "#506784",
            "gridwidth": 2,
            "linecolor": "#506784",
            "showbackground": true,
            "ticks": "",
            "zerolinecolor": "#C8D4E3"
           }
          },
          "shapedefaults": {
           "line": {
            "color": "#f2f5fa"
           }
          },
          "sliderdefaults": {
           "bgcolor": "#C8D4E3",
           "bordercolor": "rgb(17,17,17)",
           "borderwidth": 1,
           "tickwidth": 0
          },
          "ternary": {
           "aaxis": {
            "gridcolor": "#506784",
            "linecolor": "#506784",
            "ticks": ""
           },
           "baxis": {
            "gridcolor": "#506784",
            "linecolor": "#506784",
            "ticks": ""
           },
           "bgcolor": "rgb(17,17,17)",
           "caxis": {
            "gridcolor": "#506784",
            "linecolor": "#506784",
            "ticks": ""
           }
          },
          "title": {
           "x": 0.05
          },
          "updatemenudefaults": {
           "bgcolor": "#506784",
           "borderwidth": 0
          },
          "xaxis": {
           "automargin": true,
           "gridcolor": "#283442",
           "linecolor": "#506784",
           "ticks": "",
           "title": {
            "standoff": 15
           },
           "zerolinecolor": "#283442",
           "zerolinewidth": 2
          },
          "yaxis": {
           "automargin": true,
           "gridcolor": "#283442",
           "linecolor": "#506784",
           "ticks": "",
           "title": {
            "standoff": 15
           },
           "zerolinecolor": "#283442",
           "zerolinewidth": 2
          }
         }
        },
        "title": {
         "text": "Exposure time"
        },
        "xaxis": {
         "anchor": "y",
         "domain": [
          0,
          1
         ],
         "nticks": 10,
         "tickangle": 60,
         "title": {
          "text": "date_exposure"
         }
        },
        "yaxis": {
         "anchor": "x",
         "domain": [
          0,
          1
         ],
         "title": {
          "text": "count"
         }
        }
       }
      },
      "text/html": [
       "<div>                            <div id=\"6ba1b9d7-d659-42d0-a9ae-bc19bd8f0bba\" class=\"plotly-graph-div\" style=\"height:525px; width:100%;\"></div>            <script type=\"text/javascript\">                require([\"plotly\"], function(Plotly) {                    window.PLOTLYENV=window.PLOTLYENV || {};                                    if (document.getElementById(\"6ba1b9d7-d659-42d0-a9ae-bc19bd8f0bba\")) {                    Plotly.newPlot(                        \"6ba1b9d7-d659-42d0-a9ae-bc19bd8f0bba\",                        [{\"alignmentgroup\": \"True\", \"bingroup\": \"x\", \"hovertemplate\": \"tier=1<br>date_exposure=%{x}<br>count=%{y}<extra></extra>\", \"legendgroup\": \"1\", \"marker\": {\"color\": \"rgb(228,26,28)\"}, \"name\": \"1\", \"offsetgroup\": \"1\", \"orientation\": \"v\", \"showlegend\": true, \"type\": \"histogram\", \"x\": [\"2021-05-19T00:00:00\", \"2021-05-21T00:00:00\", \"2021-05-26T00:00:00\", \"2021-05-21T00:00:00\", \"2021-05-25T00:00:00\", \"2021-05-23T00:00:00\", \"2021-05-22T00:00:00\", \"2021-05-21T00:00:00\", \"2021-05-22T00:00:00\", \"2021-05-23T00:00:00\", \"2021-05-20T00:00:00\", \"2021-05-26T00:00:00\", \"2021-05-21T00:00:00\", \"2021-05-23T00:00:00\", \"2021-05-22T00:00:00\", \"2021-05-23T00:00:00\", \"2021-05-23T00:00:00\", \"2021-05-22T00:00:00\", \"2021-05-21T00:00:00\", \"2021-05-25T00:00:00\", \"2021-05-23T00:00:00\", \"2021-05-19T00:00:00\", \"2021-05-24T00:00:00\", \"2021-05-19T00:00:00\", \"2021-05-22T00:00:00\", \"2021-05-21T00:00:00\", \"2021-05-20T00:00:00\", \"2021-05-18T00:00:00\", \"2021-05-21T00:00:00\", \"2021-05-17T00:00:00\", \"2021-05-18T00:00:00\", \"2021-05-20T00:00:00\", \"2021-05-21T00:00:00\", \"2021-05-24T00:00:00\", \"2021-05-25T00:00:00\", \"2021-05-27T00:00:00\", \"2021-05-28T00:00:00\", \"2021-05-12T00:00:00\", \"2021-05-13T00:00:00\", \"2021-05-20T00:00:00\", \"2021-05-21T00:00:00\", \"2021-05-23T00:00:00\", \"2021-05-23T00:00:00\", \"2021-05-25T00:00:00\", \"2021-05-23T00:00:00\", \"2021-05-23T00:00:00\", \"2021-05-19T00:00:00\", \"2021-05-22T00:00:00\", \"2021-05-23T00:00:00\", \"2021-05-25T00:00:00\", \"2021-05-24T00:00:00\", \"2021-05-25T00:00:00\", \"2021-05-24T00:00:00\", \"2021-05-23T00:00:00\", \"2021-05-24T00:00:00\", \"2021-05-25T00:00:00\", \"2021-05-25T00:00:00\", \"2021-05-24T00:00:00\", \"2021-05-23T00:00:00\", \"2021-05-23T00:00:00\", \"2021-05-23T00:00:00\", \"2021-05-24T00:00:00\", \"2021-05-20T00:00:00\", \"2021-05-22T00:00:00\", \"2021-05-22T00:00:00\", \"2021-05-22T00:00:00\", \"2021-05-22T00:00:00\", \"2021-05-19T00:00:00\", \"2021-05-21T00:00:00\", \"2021-05-26T00:00:00\", \"2021-05-19T00:00:00\", \"2021-05-25T00:00:00\", \"2021-05-19T00:00:00\", \"2021-05-18T00:00:00\", \"2021-05-18T00:00:00\", \"2021-05-18T00:00:00\", \"2021-05-18T00:00:00\", \"2021-05-25T00:00:00\", \"2021-05-24T00:00:00\", \"2021-05-22T00:00:00\", \"2021-05-25T00:00:00\", \"2021-05-24T00:00:00\", \"2021-05-22T00:00:00\", \"2021-05-24T00:00:00\", \"2021-05-25T00:00:00\", \"2021-05-26T00:00:00\", \"2021-05-22T00:00:00\", \"2021-05-23T00:00:00\", \"2021-05-25T00:00:00\", \"2021-05-27T00:00:00\", \"2021-05-22T00:00:00\", \"2021-05-24T00:00:00\", \"2021-05-26T00:00:00\", \"2021-05-24T00:00:00\", \"2021-05-29T00:00:00\", \"2021-05-26T00:00:00\", \"2021-05-28T00:00:00\", \"2021-05-27T00:00:00\", \"2021-05-26T00:00:00\", \"2021-05-21T00:00:00\", \"2021-05-26T00:00:00\", \"2021-05-22T00:00:00\", \"2021-05-21T00:00:00\", \"2021-05-24T00:00:00\", \"2021-05-24T00:00:00\", \"2021-05-22T00:00:00\", \"2021-05-20T00:00:00\", \"2021-05-29T00:00:00\", \"2021-05-25T00:00:00\", \"2021-05-27T00:00:00\", \"2021-05-27T00:00:00\", \"2021-05-24T00:00:00\", \"2021-05-22T00:00:00\", \"2021-05-21T00:00:00\", \"2021-05-22T00:00:00\", \"2021-05-26T00:00:00\", \"2021-05-18T00:00:00\", \"2021-05-17T00:00:00\", \"2021-05-20T00:00:00\", \"2021-05-20T00:00:00\", \"2021-05-20T00:00:00\", \"2021-05-20T00:00:00\", \"2021-05-20T00:00:00\", \"2021-05-19T00:00:00\", \"2021-05-27T00:00:00\", \"2021-05-25T00:00:00\", \"2021-05-26T00:00:00\", \"2021-05-22T00:00:00\", \"2021-05-20T00:00:00\", \"2021-05-27T00:00:00\", \"2021-05-27T00:00:00\", \"2021-05-23T00:00:00\", \"2021-05-22T00:00:00\", \"2021-05-22T00:00:00\", \"2021-05-22T00:00:00\", \"2021-05-28T00:00:00\", \"2021-05-26T00:00:00\", \"2021-05-23T00:00:00\", \"2021-05-22T00:00:00\", \"2021-05-25T00:00:00\", \"2021-05-25T00:00:00\", \"2021-05-25T00:00:00\", \"2021-05-24T00:00:00\", \"2021-05-25T00:00:00\", \"2021-05-28T00:00:00\", \"2021-05-27T00:00:00\", \"2021-05-23T00:00:00\", \"2021-05-26T00:00:00\", \"2021-05-28T00:00:00\", \"2021-05-27T00:00:00\", \"2021-05-26T00:00:00\", \"2021-05-26T00:00:00\", \"2021-05-26T00:00:00\", \"2021-05-26T00:00:00\", \"2021-05-23T00:00:00\", \"2021-05-26T00:00:00\", \"2021-05-22T00:00:00\", \"2021-05-24T00:00:00\", \"2021-05-17T00:00:00\", \"2021-05-17T00:00:00\", \"2021-05-25T00:00:00\"], \"xaxis\": \"x\", \"yaxis\": \"y\"}, {\"alignmentgroup\": \"True\", \"bingroup\": \"x\", \"hovertemplate\": \"tier=2<br>date_exposure=%{x}<br>count=%{y}<extra></extra>\", \"legendgroup\": \"2\", \"marker\": {\"color\": \"rgb(55,126,184)\"}, \"name\": \"2\", \"offsetgroup\": \"2\", \"orientation\": \"v\", \"showlegend\": true, \"type\": \"histogram\", \"x\": [\"2021-05-23T00:00:00\", \"2021-05-24T00:00:00\", \"2021-05-24T00:00:00\", \"2021-05-20T00:00:00\", \"2021-05-24T00:00:00\", \"2021-05-23T00:00:00\", \"2021-05-19T00:00:00\", \"2021-05-23T00:00:00\", \"2021-05-22T00:00:00\", \"2021-05-21T00:00:00\", \"2021-05-23T00:00:00\", \"2021-05-23T00:00:00\", \"2021-05-24T00:00:00\", \"2021-05-22T00:00:00\", \"2021-05-22T00:00:00\", \"2021-05-23T00:00:00\", \"2021-05-22T00:00:00\", \"2021-05-25T00:00:00\", \"2021-05-23T00:00:00\", \"2021-05-14T00:00:00\", \"2021-05-14T00:00:00\", \"2021-05-14T00:00:00\", \"2021-05-19T00:00:00\", \"2021-05-20T00:00:00\", \"2021-05-22T00:00:00\", \"2021-05-19T00:00:00\", \"2021-05-19T00:00:00\", \"2021-05-20T00:00:00\", \"2021-05-17T00:00:00\", \"2021-05-23T00:00:00\", \"2021-05-23T00:00:00\", \"2021-05-22T00:00:00\", \"2021-05-21T00:00:00\", \"2021-05-22T00:00:00\", \"2021-05-20T00:00:00\", \"2021-05-23T00:00:00\", \"2021-05-22T00:00:00\", \"2021-05-23T00:00:00\", \"2021-05-22T00:00:00\", \"2021-05-22T00:00:00\", \"2021-05-22T00:00:00\", \"2021-05-23T00:00:00\", \"2021-05-24T00:00:00\", \"2021-05-23T00:00:00\", \"2021-05-22T00:00:00\", \"2021-05-24T00:00:00\", \"2021-05-24T00:00:00\", \"2021-05-23T00:00:00\", \"2021-05-23T00:00:00\", \"2021-05-22T00:00:00\", \"2021-05-22T00:00:00\", \"2021-05-23T00:00:00\", \"2021-05-23T00:00:00\", \"2021-05-21T00:00:00\", \"2021-05-26T00:00:00\", \"2021-05-24T00:00:00\", \"2021-05-19T00:00:00\", \"2021-05-26T00:00:00\", \"2021-05-27T00:00:00\", \"2021-05-24T00:00:00\", \"2021-05-22T00:00:00\", \"2021-05-23T00:00:00\", \"2021-05-23T00:00:00\", \"2021-05-28T00:00:00\", \"2021-05-26T00:00:00\", \"2021-05-22T00:00:00\", \"2021-05-23T00:00:00\", \"2021-05-23T00:00:00\", \"2021-05-25T00:00:00\", \"2021-05-21T00:00:00\", \"2021-05-26T00:00:00\", \"2021-05-26T00:00:00\", \"2021-05-15T00:00:00\", \"2021-05-15T00:00:00\", \"2021-05-22T00:00:00\", \"2021-05-23T00:00:00\", \"2021-05-20T00:00:00\", \"2021-05-18T00:00:00\", \"2021-05-26T00:00:00\", \"2021-05-26T00:00:00\", \"2021-05-26T00:00:00\", \"2021-05-25T00:00:00\", \"2021-05-25T00:00:00\", \"2021-05-24T00:00:00\", \"2021-05-22T00:00:00\", \"2021-05-18T00:00:00\", \"2021-05-17T00:00:00\", \"2021-05-22T00:00:00\", \"2021-05-26T00:00:00\", \"2021-05-25T00:00:00\", \"2021-05-24T00:00:00\", \"2021-05-25T00:00:00\", \"2021-05-25T00:00:00\", \"2021-05-24T00:00:00\", \"2021-05-22T00:00:00\", \"2021-05-22T00:00:00\", \"2021-05-26T00:00:00\", \"2021-05-23T00:00:00\", \"2021-05-23T00:00:00\", \"2021-05-23T00:00:00\", \"2021-05-23T00:00:00\", \"2021-05-22T00:00:00\", \"2021-05-23T00:00:00\", \"2021-05-25T00:00:00\", \"2021-05-24T00:00:00\", \"2021-05-24T00:00:00\", \"2021-05-22T00:00:00\", \"2021-05-28T00:00:00\", \"2021-05-23T00:00:00\", \"2021-05-18T00:00:00\", \"2021-05-22T00:00:00\", \"2021-05-18T00:00:00\", \"2021-05-25T00:00:00\", \"2021-05-26T00:00:00\", \"2021-05-24T00:00:00\", \"2021-05-27T00:00:00\", \"2021-05-25T00:00:00\", \"2021-05-19T00:00:00\", \"2021-05-19T00:00:00\", \"2021-05-25T00:00:00\", \"2021-05-26T00:00:00\", \"2021-05-22T00:00:00\", \"2021-05-26T00:00:00\", \"2021-05-24T00:00:00\", \"2021-05-26T00:00:00\", \"2021-05-26T00:00:00\", \"2021-05-22T00:00:00\", \"2021-05-22T00:00:00\"], \"xaxis\": \"x\", \"yaxis\": \"y\"}, {\"alignmentgroup\": \"True\", \"bingroup\": \"x\", \"hovertemplate\": \"tier=3<br>date_exposure=%{x}<br>count=%{y}<extra></extra>\", \"legendgroup\": \"3\", \"marker\": {\"color\": \"rgb(77,175,74)\"}, \"name\": \"3\", \"offsetgroup\": \"3\", \"orientation\": \"v\", \"showlegend\": true, \"type\": \"histogram\", \"x\": [\"2021-05-23T00:00:00\", \"2021-05-28T00:00:00\", \"2021-05-27T00:00:00\", \"2021-05-13T00:00:00\", \"2021-05-25T00:00:00\", \"2021-05-22T00:00:00\", \"2021-05-27T00:00:00\", \"2021-05-23T00:00:00\", \"2021-05-23T00:00:00\"], \"xaxis\": \"x\", \"yaxis\": \"y\"}],                        {\"annotations\": [{\"ax\": 10, \"ay\": 20, \"text\": \"lockdown\", \"x\": \"2021-05-27\", \"xanchor\": \"left\", \"y\": 40}], \"bargap\": 0.2, \"barmode\": \"relative\", \"legend\": {\"title\": {\"text\": \"tier\"}, \"tracegroupgap\": 0}, \"shapes\": [{\"type\": \"line\", \"x0\": \"2021-05-27\", \"x1\": \"2021-05-27\", \"xref\": \"x\", \"y0\": 0, \"y1\": 1, \"yref\": \"y domain\"}], \"template\": {\"data\": {\"bar\": [{\"error_x\": {\"color\": \"#f2f5fa\"}, \"error_y\": {\"color\": \"#f2f5fa\"}, \"marker\": {\"line\": {\"color\": \"rgb(17,17,17)\", \"width\": 0.5}}, \"type\": \"bar\"}], \"barpolar\": [{\"marker\": {\"line\": {\"color\": \"rgb(17,17,17)\", \"width\": 0.5}}, \"type\": \"barpolar\"}], \"carpet\": [{\"aaxis\": {\"endlinecolor\": \"#A2B1C6\", \"gridcolor\": \"#506784\", \"linecolor\": \"#506784\", \"minorgridcolor\": \"#506784\", \"startlinecolor\": \"#A2B1C6\"}, \"baxis\": {\"endlinecolor\": \"#A2B1C6\", \"gridcolor\": \"#506784\", \"linecolor\": \"#506784\", \"minorgridcolor\": \"#506784\", \"startlinecolor\": \"#A2B1C6\"}, \"type\": \"carpet\"}], \"choropleth\": [{\"colorbar\": {\"outlinewidth\": 0, \"ticks\": \"\"}, \"type\": \"choropleth\"}], \"contour\": [{\"colorbar\": {\"outlinewidth\": 0, \"ticks\": \"\"}, \"colorscale\": [[0.0, \"#0d0887\"], [0.1111111111111111, \"#46039f\"], [0.2222222222222222, \"#7201a8\"], [0.3333333333333333, \"#9c179e\"], [0.4444444444444444, \"#bd3786\"], [0.5555555555555556, \"#d8576b\"], [0.6666666666666666, \"#ed7953\"], [0.7777777777777778, \"#fb9f3a\"], [0.8888888888888888, \"#fdca26\"], [1.0, \"#f0f921\"]], \"type\": \"contour\"}], \"contourcarpet\": [{\"colorbar\": {\"outlinewidth\": 0, \"ticks\": \"\"}, \"type\": \"contourcarpet\"}], \"heatmap\": [{\"colorbar\": {\"outlinewidth\": 0, \"ticks\": \"\"}, \"colorscale\": [[0.0, \"#0d0887\"], [0.1111111111111111, \"#46039f\"], [0.2222222222222222, \"#7201a8\"], [0.3333333333333333, \"#9c179e\"], [0.4444444444444444, \"#bd3786\"], [0.5555555555555556, \"#d8576b\"], [0.6666666666666666, \"#ed7953\"], [0.7777777777777778, \"#fb9f3a\"], [0.8888888888888888, \"#fdca26\"], [1.0, \"#f0f921\"]], \"type\": \"heatmap\"}], \"heatmapgl\": [{\"colorbar\": {\"outlinewidth\": 0, \"ticks\": \"\"}, \"colorscale\": [[0.0, \"#0d0887\"], [0.1111111111111111, \"#46039f\"], [0.2222222222222222, \"#7201a8\"], [0.3333333333333333, \"#9c179e\"], [0.4444444444444444, \"#bd3786\"], [0.5555555555555556, \"#d8576b\"], [0.6666666666666666, \"#ed7953\"], [0.7777777777777778, \"#fb9f3a\"], [0.8888888888888888, \"#fdca26\"], [1.0, \"#f0f921\"]], \"type\": \"heatmapgl\"}], \"histogram\": [{\"marker\": {\"colorbar\": {\"outlinewidth\": 0, \"ticks\": \"\"}}, \"type\": \"histogram\"}], \"histogram2d\": [{\"colorbar\": {\"outlinewidth\": 0, \"ticks\": \"\"}, \"colorscale\": [[0.0, \"#0d0887\"], [0.1111111111111111, \"#46039f\"], [0.2222222222222222, \"#7201a8\"], [0.3333333333333333, \"#9c179e\"], [0.4444444444444444, \"#bd3786\"], [0.5555555555555556, \"#d8576b\"], [0.6666666666666666, \"#ed7953\"], [0.7777777777777778, \"#fb9f3a\"], [0.8888888888888888, \"#fdca26\"], [1.0, \"#f0f921\"]], \"type\": \"histogram2d\"}], \"histogram2dcontour\": [{\"colorbar\": {\"outlinewidth\": 0, \"ticks\": \"\"}, \"colorscale\": [[0.0, \"#0d0887\"], [0.1111111111111111, \"#46039f\"], [0.2222222222222222, \"#7201a8\"], [0.3333333333333333, \"#9c179e\"], [0.4444444444444444, \"#bd3786\"], [0.5555555555555556, \"#d8576b\"], [0.6666666666666666, \"#ed7953\"], [0.7777777777777778, \"#fb9f3a\"], [0.8888888888888888, \"#fdca26\"], [1.0, \"#f0f921\"]], \"type\": \"histogram2dcontour\"}], \"mesh3d\": [{\"colorbar\": {\"outlinewidth\": 0, \"ticks\": \"\"}, \"type\": \"mesh3d\"}], \"parcoords\": [{\"line\": {\"colorbar\": {\"outlinewidth\": 0, \"ticks\": \"\"}}, \"type\": \"parcoords\"}], \"pie\": [{\"automargin\": true, \"type\": \"pie\"}], \"scatter\": [{\"marker\": {\"line\": {\"color\": \"#283442\"}}, \"type\": \"scatter\"}], \"scatter3d\": [{\"line\": {\"colorbar\": {\"outlinewidth\": 0, \"ticks\": \"\"}}, \"marker\": {\"colorbar\": {\"outlinewidth\": 0, \"ticks\": \"\"}}, \"type\": \"scatter3d\"}], \"scattercarpet\": [{\"marker\": {\"colorbar\": {\"outlinewidth\": 0, \"ticks\": \"\"}}, \"type\": \"scattercarpet\"}], \"scattergeo\": [{\"marker\": {\"colorbar\": {\"outlinewidth\": 0, \"ticks\": \"\"}}, \"type\": \"scattergeo\"}], \"scattergl\": [{\"marker\": {\"line\": {\"color\": \"#283442\"}}, \"type\": \"scattergl\"}], \"scattermapbox\": [{\"marker\": {\"colorbar\": {\"outlinewidth\": 0, \"ticks\": \"\"}}, \"type\": \"scattermapbox\"}], \"scatterpolar\": [{\"marker\": {\"colorbar\": {\"outlinewidth\": 0, \"ticks\": \"\"}}, \"type\": \"scatterpolar\"}], \"scatterpolargl\": [{\"marker\": {\"colorbar\": {\"outlinewidth\": 0, \"ticks\": \"\"}}, \"type\": \"scatterpolargl\"}], \"scatterternary\": [{\"marker\": {\"colorbar\": {\"outlinewidth\": 0, \"ticks\": \"\"}}, \"type\": \"scatterternary\"}], \"surface\": [{\"colorbar\": {\"outlinewidth\": 0, \"ticks\": \"\"}, \"colorscale\": [[0.0, \"#0d0887\"], [0.1111111111111111, \"#46039f\"], [0.2222222222222222, \"#7201a8\"], [0.3333333333333333, \"#9c179e\"], [0.4444444444444444, \"#bd3786\"], [0.5555555555555556, \"#d8576b\"], [0.6666666666666666, \"#ed7953\"], [0.7777777777777778, \"#fb9f3a\"], [0.8888888888888888, \"#fdca26\"], [1.0, \"#f0f921\"]], \"type\": \"surface\"}], \"table\": [{\"cells\": {\"fill\": {\"color\": \"#506784\"}, \"line\": {\"color\": \"rgb(17,17,17)\"}}, \"header\": {\"fill\": {\"color\": \"#2a3f5f\"}, \"line\": {\"color\": \"rgb(17,17,17)\"}}, \"type\": \"table\"}]}, \"layout\": {\"annotationdefaults\": {\"arrowcolor\": \"#f2f5fa\", \"arrowhead\": 0, \"arrowwidth\": 1}, \"autotypenumbers\": \"strict\", \"coloraxis\": {\"colorbar\": {\"outlinewidth\": 0, \"ticks\": \"\"}}, \"colorscale\": {\"diverging\": [[0, \"#8e0152\"], [0.1, \"#c51b7d\"], [0.2, \"#de77ae\"], [0.3, \"#f1b6da\"], [0.4, \"#fde0ef\"], [0.5, \"#f7f7f7\"], [0.6, \"#e6f5d0\"], [0.7, \"#b8e186\"], [0.8, \"#7fbc41\"], [0.9, \"#4d9221\"], [1, \"#276419\"]], \"sequential\": [[0.0, \"#0d0887\"], [0.1111111111111111, \"#46039f\"], [0.2222222222222222, \"#7201a8\"], [0.3333333333333333, \"#9c179e\"], [0.4444444444444444, \"#bd3786\"], [0.5555555555555556, \"#d8576b\"], [0.6666666666666666, \"#ed7953\"], [0.7777777777777778, \"#fb9f3a\"], [0.8888888888888888, \"#fdca26\"], [1.0, \"#f0f921\"]], \"sequentialminus\": [[0.0, \"#0d0887\"], [0.1111111111111111, \"#46039f\"], [0.2222222222222222, \"#7201a8\"], [0.3333333333333333, \"#9c179e\"], [0.4444444444444444, \"#bd3786\"], [0.5555555555555556, \"#d8576b\"], [0.6666666666666666, \"#ed7953\"], [0.7777777777777778, \"#fb9f3a\"], [0.8888888888888888, \"#fdca26\"], [1.0, \"#f0f921\"]]}, \"colorway\": [\"#636efa\", \"#EF553B\", \"#00cc96\", \"#ab63fa\", \"#FFA15A\", \"#19d3f3\", \"#FF6692\", \"#B6E880\", \"#FF97FF\", \"#FECB52\"], \"font\": {\"color\": \"#f2f5fa\"}, \"geo\": {\"bgcolor\": \"rgb(17,17,17)\", \"lakecolor\": \"rgb(17,17,17)\", \"landcolor\": \"rgb(17,17,17)\", \"showlakes\": true, \"showland\": true, \"subunitcolor\": \"#506784\"}, \"hoverlabel\": {\"align\": \"left\"}, \"hovermode\": \"closest\", \"mapbox\": {\"style\": \"dark\"}, \"paper_bgcolor\": \"rgb(17,17,17)\", \"plot_bgcolor\": \"rgb(17,17,17)\", \"polar\": {\"angularaxis\": {\"gridcolor\": \"#506784\", \"linecolor\": \"#506784\", \"ticks\": \"\"}, \"bgcolor\": \"rgb(17,17,17)\", \"radialaxis\": {\"gridcolor\": \"#506784\", \"linecolor\": \"#506784\", \"ticks\": \"\"}}, \"scene\": {\"xaxis\": {\"backgroundcolor\": \"rgb(17,17,17)\", \"gridcolor\": \"#506784\", \"gridwidth\": 2, \"linecolor\": \"#506784\", \"showbackground\": true, \"ticks\": \"\", \"zerolinecolor\": \"#C8D4E3\"}, \"yaxis\": {\"backgroundcolor\": \"rgb(17,17,17)\", \"gridcolor\": \"#506784\", \"gridwidth\": 2, \"linecolor\": \"#506784\", \"showbackground\": true, \"ticks\": \"\", \"zerolinecolor\": \"#C8D4E3\"}, \"zaxis\": {\"backgroundcolor\": \"rgb(17,17,17)\", \"gridcolor\": \"#506784\", \"gridwidth\": 2, \"linecolor\": \"#506784\", \"showbackground\": true, \"ticks\": \"\", \"zerolinecolor\": \"#C8D4E3\"}}, \"shapedefaults\": {\"line\": {\"color\": \"#f2f5fa\"}}, \"sliderdefaults\": {\"bgcolor\": \"#C8D4E3\", \"bordercolor\": \"rgb(17,17,17)\", \"borderwidth\": 1, \"tickwidth\": 0}, \"ternary\": {\"aaxis\": {\"gridcolor\": \"#506784\", \"linecolor\": \"#506784\", \"ticks\": \"\"}, \"baxis\": {\"gridcolor\": \"#506784\", \"linecolor\": \"#506784\", \"ticks\": \"\"}, \"bgcolor\": \"rgb(17,17,17)\", \"caxis\": {\"gridcolor\": \"#506784\", \"linecolor\": \"#506784\", \"ticks\": \"\"}}, \"title\": {\"x\": 0.05}, \"updatemenudefaults\": {\"bgcolor\": \"#506784\", \"borderwidth\": 0}, \"xaxis\": {\"automargin\": true, \"gridcolor\": \"#283442\", \"linecolor\": \"#506784\", \"ticks\": \"\", \"title\": {\"standoff\": 15}, \"zerolinecolor\": \"#283442\", \"zerolinewidth\": 2}, \"yaxis\": {\"automargin\": true, \"gridcolor\": \"#283442\", \"linecolor\": \"#506784\", \"ticks\": \"\", \"title\": {\"standoff\": 15}, \"zerolinecolor\": \"#283442\", \"zerolinewidth\": 2}}}, \"title\": {\"text\": \"Exposure time\"}, \"xaxis\": {\"anchor\": \"y\", \"domain\": [0.0, 1.0], \"nticks\": 10, \"tickangle\": 60, \"title\": {\"text\": \"date_exposure\"}}, \"yaxis\": {\"anchor\": \"x\", \"domain\": [0.0, 1.0], \"title\": {\"text\": \"count\"}}},                        {\"responsive\": true}                    ).then(function(){\n",
       "                            \n",
       "var gd = document.getElementById('6ba1b9d7-d659-42d0-a9ae-bc19bd8f0bba');\n",
       "var x = new MutationObserver(function (mutations, observer) {{\n",
       "        var display = window.getComputedStyle(gd).display;\n",
       "        if (!display || display === 'none') {{\n",
       "            console.log([gd, 'removed!']);\n",
       "            Plotly.purge(gd);\n",
       "            observer.disconnect();\n",
       "        }}\n",
       "}});\n",
       "\n",
       "// Listen for the removal of the full notebook cells\n",
       "var notebookContainer = gd.closest('#notebook-container');\n",
       "if (notebookContainer) {{\n",
       "    x.observe(notebookContainer, {childList: true});\n",
       "}}\n",
       "\n",
       "// Listen for the clearing of the current output cell\n",
       "var outputEl = gd.closest('.output');\n",
       "if (outputEl) {{\n",
       "    x.observe(outputEl, {childList: true});\n",
       "}}\n",
       "\n",
       "                        })                };                });            </script>        </div>"
      ]
     },
     "metadata": {},
     "output_type": "display_data"
    },
    {
     "data": {
      "application/vnd.plotly.v1+json": {
       "config": {
        "plotlyServerURL": "https://plot.ly"
       },
       "data": [
        {
         "alignmentgroup": "True",
         "bingroup": "x",
         "hovertemplate": "date_delay=%{x}<br>count=%{y}<extra></extra>",
         "legendgroup": "",
         "marker": {
          "color": "#636efa"
         },
         "name": "",
         "offsetgroup": "",
         "orientation": "v",
         "showlegend": false,
         "type": "histogram",
         "x": [
          9,
          4,
          4,
          4,
          5,
          4,
          3,
          2,
          5,
          5,
          5,
          4,
          3,
          2,
          3,
          6,
          4,
          4,
          4,
          9,
          8,
          8,
          6,
          10,
          5,
          5,
          6,
          5,
          4,
          4,
          15,
          15,
          8,
          7,
          10,
          12,
          4,
          4,
          4,
          5,
          5,
          6,
          7,
          7,
          5,
          8,
          7,
          8,
          8,
          7,
          4,
          6,
          7,
          8,
          6,
          6,
          7,
          8,
          6,
          8,
          3,
          3,
          4,
          7,
          7,
          4,
          4,
          4,
          9,
          8,
          6,
          13,
          13,
          4,
          4,
          4,
          3,
          6,
          11,
          8,
          4,
          3,
          13,
          12,
          8,
          5,
          5,
          5,
          8,
          8,
          4,
          8,
          8,
          8,
          11,
          8,
          12,
          5,
          4,
          6,
          13,
          12,
          10,
          9,
          6,
          5,
          3,
          2,
          18,
          17,
          10,
          5,
          11,
          5,
          4,
          7,
          11,
          5,
          8,
          4,
          6,
          4,
          9,
          5,
          3,
          3,
          2,
          2,
          2,
          1,
          6,
          3,
          3,
          3,
          4,
          5,
          4,
          4,
          4,
          5,
          7,
          7,
          6,
          7,
          8,
          6,
          4,
          9,
          9,
          9,
          9,
          9,
          3,
          9,
          10,
          10,
          10,
          10,
          3,
          4,
          5,
          5,
          5,
          6,
          4,
          3,
          2,
          6,
          5,
          3,
          2,
          1,
          6,
          6,
          6,
          5,
          3,
          4,
          3,
          4,
          5,
          3,
          2,
          2,
          14,
          4,
          4,
          4,
          4,
          2,
          3,
          3,
          5,
          5,
          5,
          5,
          6,
          3,
          5,
          7,
          3,
          3,
          3,
          3,
          3,
          4,
          6,
          3,
          2,
          5,
          4,
          5,
          4,
          13,
          13,
          13,
          4,
          2,
          5,
          3,
          5,
          6,
          3,
          4,
          5,
          4,
          3,
          4,
          3,
          5,
          3,
          2,
          3,
          5,
          2,
          3,
          3,
          4,
          4,
          8,
          6,
          5,
          4,
          3,
          2,
          1,
          2,
          3,
          5,
          3,
          3,
          4,
          4,
          3,
          3,
          3,
          4,
          4,
          4,
          6,
          6,
          4,
          2,
          2,
          5,
          4,
          6,
          5,
          6,
          6,
          6,
          5,
          8,
          5,
          1,
          1,
          2,
          3,
          2,
          7,
          6,
          4,
          2,
          3,
          2,
          1,
          1,
          4,
          4,
          4,
          4,
          4,
          4,
          3,
          1,
          1,
          0,
          0
         ],
         "xaxis": "x",
         "yaxis": "y"
        }
       ],
       "layout": {
        "annotations": [
         {
          "showarrow": false,
          "text": "median",
          "x": 5,
          "xanchor": "left",
          "xref": "x",
          "y": 1,
          "yanchor": "top",
          "yref": "y domain"
         }
        ],
        "barmode": "relative",
        "legend": {
         "tracegroupgap": 0
        },
        "shapes": [
         {
          "type": "line",
          "x0": 5,
          "x1": 5,
          "xref": "x",
          "y0": 0,
          "y1": 1,
          "yref": "y domain"
         }
        ],
        "template": {
         "data": {
          "bar": [
           {
            "error_x": {
             "color": "#f2f5fa"
            },
            "error_y": {
             "color": "#f2f5fa"
            },
            "marker": {
             "line": {
              "color": "rgb(17,17,17)",
              "width": 0.5
             }
            },
            "type": "bar"
           }
          ],
          "barpolar": [
           {
            "marker": {
             "line": {
              "color": "rgb(17,17,17)",
              "width": 0.5
             }
            },
            "type": "barpolar"
           }
          ],
          "carpet": [
           {
            "aaxis": {
             "endlinecolor": "#A2B1C6",
             "gridcolor": "#506784",
             "linecolor": "#506784",
             "minorgridcolor": "#506784",
             "startlinecolor": "#A2B1C6"
            },
            "baxis": {
             "endlinecolor": "#A2B1C6",
             "gridcolor": "#506784",
             "linecolor": "#506784",
             "minorgridcolor": "#506784",
             "startlinecolor": "#A2B1C6"
            },
            "type": "carpet"
           }
          ],
          "choropleth": [
           {
            "colorbar": {
             "outlinewidth": 0,
             "ticks": ""
            },
            "type": "choropleth"
           }
          ],
          "contour": [
           {
            "colorbar": {
             "outlinewidth": 0,
             "ticks": ""
            },
            "colorscale": [
             [
              0,
              "#0d0887"
             ],
             [
              0.1111111111111111,
              "#46039f"
             ],
             [
              0.2222222222222222,
              "#7201a8"
             ],
             [
              0.3333333333333333,
              "#9c179e"
             ],
             [
              0.4444444444444444,
              "#bd3786"
             ],
             [
              0.5555555555555556,
              "#d8576b"
             ],
             [
              0.6666666666666666,
              "#ed7953"
             ],
             [
              0.7777777777777778,
              "#fb9f3a"
             ],
             [
              0.8888888888888888,
              "#fdca26"
             ],
             [
              1,
              "#f0f921"
             ]
            ],
            "type": "contour"
           }
          ],
          "contourcarpet": [
           {
            "colorbar": {
             "outlinewidth": 0,
             "ticks": ""
            },
            "type": "contourcarpet"
           }
          ],
          "heatmap": [
           {
            "colorbar": {
             "outlinewidth": 0,
             "ticks": ""
            },
            "colorscale": [
             [
              0,
              "#0d0887"
             ],
             [
              0.1111111111111111,
              "#46039f"
             ],
             [
              0.2222222222222222,
              "#7201a8"
             ],
             [
              0.3333333333333333,
              "#9c179e"
             ],
             [
              0.4444444444444444,
              "#bd3786"
             ],
             [
              0.5555555555555556,
              "#d8576b"
             ],
             [
              0.6666666666666666,
              "#ed7953"
             ],
             [
              0.7777777777777778,
              "#fb9f3a"
             ],
             [
              0.8888888888888888,
              "#fdca26"
             ],
             [
              1,
              "#f0f921"
             ]
            ],
            "type": "heatmap"
           }
          ],
          "heatmapgl": [
           {
            "colorbar": {
             "outlinewidth": 0,
             "ticks": ""
            },
            "colorscale": [
             [
              0,
              "#0d0887"
             ],
             [
              0.1111111111111111,
              "#46039f"
             ],
             [
              0.2222222222222222,
              "#7201a8"
             ],
             [
              0.3333333333333333,
              "#9c179e"
             ],
             [
              0.4444444444444444,
              "#bd3786"
             ],
             [
              0.5555555555555556,
              "#d8576b"
             ],
             [
              0.6666666666666666,
              "#ed7953"
             ],
             [
              0.7777777777777778,
              "#fb9f3a"
             ],
             [
              0.8888888888888888,
              "#fdca26"
             ],
             [
              1,
              "#f0f921"
             ]
            ],
            "type": "heatmapgl"
           }
          ],
          "histogram": [
           {
            "marker": {
             "colorbar": {
              "outlinewidth": 0,
              "ticks": ""
             }
            },
            "type": "histogram"
           }
          ],
          "histogram2d": [
           {
            "colorbar": {
             "outlinewidth": 0,
             "ticks": ""
            },
            "colorscale": [
             [
              0,
              "#0d0887"
             ],
             [
              0.1111111111111111,
              "#46039f"
             ],
             [
              0.2222222222222222,
              "#7201a8"
             ],
             [
              0.3333333333333333,
              "#9c179e"
             ],
             [
              0.4444444444444444,
              "#bd3786"
             ],
             [
              0.5555555555555556,
              "#d8576b"
             ],
             [
              0.6666666666666666,
              "#ed7953"
             ],
             [
              0.7777777777777778,
              "#fb9f3a"
             ],
             [
              0.8888888888888888,
              "#fdca26"
             ],
             [
              1,
              "#f0f921"
             ]
            ],
            "type": "histogram2d"
           }
          ],
          "histogram2dcontour": [
           {
            "colorbar": {
             "outlinewidth": 0,
             "ticks": ""
            },
            "colorscale": [
             [
              0,
              "#0d0887"
             ],
             [
              0.1111111111111111,
              "#46039f"
             ],
             [
              0.2222222222222222,
              "#7201a8"
             ],
             [
              0.3333333333333333,
              "#9c179e"
             ],
             [
              0.4444444444444444,
              "#bd3786"
             ],
             [
              0.5555555555555556,
              "#d8576b"
             ],
             [
              0.6666666666666666,
              "#ed7953"
             ],
             [
              0.7777777777777778,
              "#fb9f3a"
             ],
             [
              0.8888888888888888,
              "#fdca26"
             ],
             [
              1,
              "#f0f921"
             ]
            ],
            "type": "histogram2dcontour"
           }
          ],
          "mesh3d": [
           {
            "colorbar": {
             "outlinewidth": 0,
             "ticks": ""
            },
            "type": "mesh3d"
           }
          ],
          "parcoords": [
           {
            "line": {
             "colorbar": {
              "outlinewidth": 0,
              "ticks": ""
             }
            },
            "type": "parcoords"
           }
          ],
          "pie": [
           {
            "automargin": true,
            "type": "pie"
           }
          ],
          "scatter": [
           {
            "marker": {
             "line": {
              "color": "#283442"
             }
            },
            "type": "scatter"
           }
          ],
          "scatter3d": [
           {
            "line": {
             "colorbar": {
              "outlinewidth": 0,
              "ticks": ""
             }
            },
            "marker": {
             "colorbar": {
              "outlinewidth": 0,
              "ticks": ""
             }
            },
            "type": "scatter3d"
           }
          ],
          "scattercarpet": [
           {
            "marker": {
             "colorbar": {
              "outlinewidth": 0,
              "ticks": ""
             }
            },
            "type": "scattercarpet"
           }
          ],
          "scattergeo": [
           {
            "marker": {
             "colorbar": {
              "outlinewidth": 0,
              "ticks": ""
             }
            },
            "type": "scattergeo"
           }
          ],
          "scattergl": [
           {
            "marker": {
             "line": {
              "color": "#283442"
             }
            },
            "type": "scattergl"
           }
          ],
          "scattermapbox": [
           {
            "marker": {
             "colorbar": {
              "outlinewidth": 0,
              "ticks": ""
             }
            },
            "type": "scattermapbox"
           }
          ],
          "scatterpolar": [
           {
            "marker": {
             "colorbar": {
              "outlinewidth": 0,
              "ticks": ""
             }
            },
            "type": "scatterpolar"
           }
          ],
          "scatterpolargl": [
           {
            "marker": {
             "colorbar": {
              "outlinewidth": 0,
              "ticks": ""
             }
            },
            "type": "scatterpolargl"
           }
          ],
          "scatterternary": [
           {
            "marker": {
             "colorbar": {
              "outlinewidth": 0,
              "ticks": ""
             }
            },
            "type": "scatterternary"
           }
          ],
          "surface": [
           {
            "colorbar": {
             "outlinewidth": 0,
             "ticks": ""
            },
            "colorscale": [
             [
              0,
              "#0d0887"
             ],
             [
              0.1111111111111111,
              "#46039f"
             ],
             [
              0.2222222222222222,
              "#7201a8"
             ],
             [
              0.3333333333333333,
              "#9c179e"
             ],
             [
              0.4444444444444444,
              "#bd3786"
             ],
             [
              0.5555555555555556,
              "#d8576b"
             ],
             [
              0.6666666666666666,
              "#ed7953"
             ],
             [
              0.7777777777777778,
              "#fb9f3a"
             ],
             [
              0.8888888888888888,
              "#fdca26"
             ],
             [
              1,
              "#f0f921"
             ]
            ],
            "type": "surface"
           }
          ],
          "table": [
           {
            "cells": {
             "fill": {
              "color": "#506784"
             },
             "line": {
              "color": "rgb(17,17,17)"
             }
            },
            "header": {
             "fill": {
              "color": "#2a3f5f"
             },
             "line": {
              "color": "rgb(17,17,17)"
             }
            },
            "type": "table"
           }
          ]
         },
         "layout": {
          "annotationdefaults": {
           "arrowcolor": "#f2f5fa",
           "arrowhead": 0,
           "arrowwidth": 1
          },
          "autotypenumbers": "strict",
          "coloraxis": {
           "colorbar": {
            "outlinewidth": 0,
            "ticks": ""
           }
          },
          "colorscale": {
           "diverging": [
            [
             0,
             "#8e0152"
            ],
            [
             0.1,
             "#c51b7d"
            ],
            [
             0.2,
             "#de77ae"
            ],
            [
             0.3,
             "#f1b6da"
            ],
            [
             0.4,
             "#fde0ef"
            ],
            [
             0.5,
             "#f7f7f7"
            ],
            [
             0.6,
             "#e6f5d0"
            ],
            [
             0.7,
             "#b8e186"
            ],
            [
             0.8,
             "#7fbc41"
            ],
            [
             0.9,
             "#4d9221"
            ],
            [
             1,
             "#276419"
            ]
           ],
           "sequential": [
            [
             0,
             "#0d0887"
            ],
            [
             0.1111111111111111,
             "#46039f"
            ],
            [
             0.2222222222222222,
             "#7201a8"
            ],
            [
             0.3333333333333333,
             "#9c179e"
            ],
            [
             0.4444444444444444,
             "#bd3786"
            ],
            [
             0.5555555555555556,
             "#d8576b"
            ],
            [
             0.6666666666666666,
             "#ed7953"
            ],
            [
             0.7777777777777778,
             "#fb9f3a"
            ],
            [
             0.8888888888888888,
             "#fdca26"
            ],
            [
             1,
             "#f0f921"
            ]
           ],
           "sequentialminus": [
            [
             0,
             "#0d0887"
            ],
            [
             0.1111111111111111,
             "#46039f"
            ],
            [
             0.2222222222222222,
             "#7201a8"
            ],
            [
             0.3333333333333333,
             "#9c179e"
            ],
            [
             0.4444444444444444,
             "#bd3786"
            ],
            [
             0.5555555555555556,
             "#d8576b"
            ],
            [
             0.6666666666666666,
             "#ed7953"
            ],
            [
             0.7777777777777778,
             "#fb9f3a"
            ],
            [
             0.8888888888888888,
             "#fdca26"
            ],
            [
             1,
             "#f0f921"
            ]
           ]
          },
          "colorway": [
           "#636efa",
           "#EF553B",
           "#00cc96",
           "#ab63fa",
           "#FFA15A",
           "#19d3f3",
           "#FF6692",
           "#B6E880",
           "#FF97FF",
           "#FECB52"
          ],
          "font": {
           "color": "#f2f5fa"
          },
          "geo": {
           "bgcolor": "rgb(17,17,17)",
           "lakecolor": "rgb(17,17,17)",
           "landcolor": "rgb(17,17,17)",
           "showlakes": true,
           "showland": true,
           "subunitcolor": "#506784"
          },
          "hoverlabel": {
           "align": "left"
          },
          "hovermode": "closest",
          "mapbox": {
           "style": "dark"
          },
          "paper_bgcolor": "rgb(17,17,17)",
          "plot_bgcolor": "rgb(17,17,17)",
          "polar": {
           "angularaxis": {
            "gridcolor": "#506784",
            "linecolor": "#506784",
            "ticks": ""
           },
           "bgcolor": "rgb(17,17,17)",
           "radialaxis": {
            "gridcolor": "#506784",
            "linecolor": "#506784",
            "ticks": ""
           }
          },
          "scene": {
           "xaxis": {
            "backgroundcolor": "rgb(17,17,17)",
            "gridcolor": "#506784",
            "gridwidth": 2,
            "linecolor": "#506784",
            "showbackground": true,
            "ticks": "",
            "zerolinecolor": "#C8D4E3"
           },
           "yaxis": {
            "backgroundcolor": "rgb(17,17,17)",
            "gridcolor": "#506784",
            "gridwidth": 2,
            "linecolor": "#506784",
            "showbackground": true,
            "ticks": "",
            "zerolinecolor": "#C8D4E3"
           },
           "zaxis": {
            "backgroundcolor": "rgb(17,17,17)",
            "gridcolor": "#506784",
            "gridwidth": 2,
            "linecolor": "#506784",
            "showbackground": true,
            "ticks": "",
            "zerolinecolor": "#C8D4E3"
           }
          },
          "shapedefaults": {
           "line": {
            "color": "#f2f5fa"
           }
          },
          "sliderdefaults": {
           "bgcolor": "#C8D4E3",
           "bordercolor": "rgb(17,17,17)",
           "borderwidth": 1,
           "tickwidth": 0
          },
          "ternary": {
           "aaxis": {
            "gridcolor": "#506784",
            "linecolor": "#506784",
            "ticks": ""
           },
           "baxis": {
            "gridcolor": "#506784",
            "linecolor": "#506784",
            "ticks": ""
           },
           "bgcolor": "rgb(17,17,17)",
           "caxis": {
            "gridcolor": "#506784",
            "linecolor": "#506784",
            "ticks": ""
           }
          },
          "title": {
           "x": 0.05
          },
          "updatemenudefaults": {
           "bgcolor": "#506784",
           "borderwidth": 0
          },
          "xaxis": {
           "automargin": true,
           "gridcolor": "#283442",
           "linecolor": "#506784",
           "ticks": "",
           "title": {
            "standoff": 15
           },
           "zerolinecolor": "#283442",
           "zerolinewidth": 2
          },
          "yaxis": {
           "automargin": true,
           "gridcolor": "#283442",
           "linecolor": "#506784",
           "ticks": "",
           "title": {
            "standoff": 15
           },
           "zerolinecolor": "#283442",
           "zerolinewidth": 2
          }
         }
        },
        "title": {
         "text": "Reporting delay (difference between reporting and exposure time)"
        },
        "xaxis": {
         "anchor": "y",
         "domain": [
          0,
          1
         ],
         "title": {
          "text": "date_delay"
         }
        },
        "yaxis": {
         "anchor": "x",
         "domain": [
          0,
          1
         ],
         "title": {
          "text": "count"
         }
        }
       }
      },
      "text/html": [
       "<div>                            <div id=\"39df3352-6faf-4132-ae7b-a2aba08ee822\" class=\"plotly-graph-div\" style=\"height:525px; width:100%;\"></div>            <script type=\"text/javascript\">                require([\"plotly\"], function(Plotly) {                    window.PLOTLYENV=window.PLOTLYENV || {};                                    if (document.getElementById(\"39df3352-6faf-4132-ae7b-a2aba08ee822\")) {                    Plotly.newPlot(                        \"39df3352-6faf-4132-ae7b-a2aba08ee822\",                        [{\"alignmentgroup\": \"True\", \"bingroup\": \"x\", \"hovertemplate\": \"date_delay=%{x}<br>count=%{y}<extra></extra>\", \"legendgroup\": \"\", \"marker\": {\"color\": \"#636efa\"}, \"name\": \"\", \"offsetgroup\": \"\", \"orientation\": \"v\", \"showlegend\": false, \"type\": \"histogram\", \"x\": [9, 4, 4, 4, 5, 4, 3, 2, 5, 5, 5, 4, 3, 2, 3, 6, 4, 4, 4, 9, 8, 8, 6, 10, 5, 5, 6, 5, 4, 4, 15, 15, 8, 7, 10, 12, 4, 4, 4, 5, 5, 6, 7, 7, 5, 8, 7, 8, 8, 7, 4, 6, 7, 8, 6, 6, 7, 8, 6, 8, 3, 3, 4, 7, 7, 4, 4, 4, 9, 8, 6, 13, 13, 4, 4, 4, 3, 6, 11, 8, 4, 3, 13, 12, 8, 5, 5, 5, 8, 8, 4, 8, 8, 8, 11, 8, 12, 5, 4, 6, 13, 12, 10, 9, 6, 5, 3, 2, 18, 17, 10, 5, 11, 5, 4, 7, 11, 5, 8, 4, 6, 4, 9, 5, 3, 3, 2, 2, 2, 1, 6, 3, 3, 3, 4, 5, 4, 4, 4, 5, 7, 7, 6, 7, 8, 6, 4, 9, 9, 9, 9, 9, 3, 9, 10, 10, 10, 10, 3, 4, 5, 5, 5, 6, 4, 3, 2, 6, 5, 3, 2, 1, 6, 6, 6, 5, 3, 4, 3, 4, 5, 3, 2, 2, 14, 4, 4, 4, 4, 2, 3, 3, 5, 5, 5, 5, 6, 3, 5, 7, 3, 3, 3, 3, 3, 4, 6, 3, 2, 5, 4, 5, 4, 13, 13, 13, 4, 2, 5, 3, 5, 6, 3, 4, 5, 4, 3, 4, 3, 5, 3, 2, 3, 5, 2, 3, 3, 4, 4, 8, 6, 5, 4, 3, 2, 1, 2, 3, 5, 3, 3, 4, 4, 3, 3, 3, 4, 4, 4, 6, 6, 4, 2, 2, 5, 4, 6, 5, 6, 6, 6, 5, 8, 5, 1, 1, 2, 3, 2, 7, 6, 4, 2, 3, 2, 1, 1, 4, 4, 4, 4, 4, 4, 3, 1, 1, 0, 0], \"xaxis\": \"x\", \"yaxis\": \"y\"}],                        {\"annotations\": [{\"showarrow\": false, \"text\": \"median\", \"x\": 5.0, \"xanchor\": \"left\", \"xref\": \"x\", \"y\": 1, \"yanchor\": \"top\", \"yref\": \"y domain\"}], \"barmode\": \"relative\", \"legend\": {\"tracegroupgap\": 0}, \"shapes\": [{\"type\": \"line\", \"x0\": 5.0, \"x1\": 5.0, \"xref\": \"x\", \"y0\": 0, \"y1\": 1, \"yref\": \"y domain\"}], \"template\": {\"data\": {\"bar\": [{\"error_x\": {\"color\": \"#f2f5fa\"}, \"error_y\": {\"color\": \"#f2f5fa\"}, \"marker\": {\"line\": {\"color\": \"rgb(17,17,17)\", \"width\": 0.5}}, \"type\": \"bar\"}], \"barpolar\": [{\"marker\": {\"line\": {\"color\": \"rgb(17,17,17)\", \"width\": 0.5}}, \"type\": \"barpolar\"}], \"carpet\": [{\"aaxis\": {\"endlinecolor\": \"#A2B1C6\", \"gridcolor\": \"#506784\", \"linecolor\": \"#506784\", \"minorgridcolor\": \"#506784\", \"startlinecolor\": \"#A2B1C6\"}, \"baxis\": {\"endlinecolor\": \"#A2B1C6\", \"gridcolor\": \"#506784\", \"linecolor\": \"#506784\", \"minorgridcolor\": \"#506784\", \"startlinecolor\": \"#A2B1C6\"}, \"type\": \"carpet\"}], \"choropleth\": [{\"colorbar\": {\"outlinewidth\": 0, \"ticks\": \"\"}, \"type\": \"choropleth\"}], \"contour\": [{\"colorbar\": {\"outlinewidth\": 0, \"ticks\": \"\"}, \"colorscale\": [[0.0, \"#0d0887\"], [0.1111111111111111, \"#46039f\"], [0.2222222222222222, \"#7201a8\"], [0.3333333333333333, \"#9c179e\"], [0.4444444444444444, \"#bd3786\"], [0.5555555555555556, \"#d8576b\"], [0.6666666666666666, \"#ed7953\"], [0.7777777777777778, \"#fb9f3a\"], [0.8888888888888888, \"#fdca26\"], [1.0, \"#f0f921\"]], \"type\": \"contour\"}], \"contourcarpet\": [{\"colorbar\": {\"outlinewidth\": 0, \"ticks\": \"\"}, \"type\": \"contourcarpet\"}], \"heatmap\": [{\"colorbar\": {\"outlinewidth\": 0, \"ticks\": \"\"}, \"colorscale\": [[0.0, \"#0d0887\"], [0.1111111111111111, \"#46039f\"], [0.2222222222222222, \"#7201a8\"], [0.3333333333333333, \"#9c179e\"], [0.4444444444444444, \"#bd3786\"], [0.5555555555555556, \"#d8576b\"], [0.6666666666666666, \"#ed7953\"], [0.7777777777777778, \"#fb9f3a\"], [0.8888888888888888, \"#fdca26\"], [1.0, \"#f0f921\"]], \"type\": \"heatmap\"}], \"heatmapgl\": [{\"colorbar\": {\"outlinewidth\": 0, \"ticks\": \"\"}, \"colorscale\": [[0.0, \"#0d0887\"], [0.1111111111111111, \"#46039f\"], [0.2222222222222222, \"#7201a8\"], [0.3333333333333333, \"#9c179e\"], [0.4444444444444444, \"#bd3786\"], [0.5555555555555556, \"#d8576b\"], [0.6666666666666666, \"#ed7953\"], [0.7777777777777778, \"#fb9f3a\"], [0.8888888888888888, \"#fdca26\"], [1.0, \"#f0f921\"]], \"type\": \"heatmapgl\"}], \"histogram\": [{\"marker\": {\"colorbar\": {\"outlinewidth\": 0, \"ticks\": \"\"}}, \"type\": \"histogram\"}], \"histogram2d\": [{\"colorbar\": {\"outlinewidth\": 0, \"ticks\": \"\"}, \"colorscale\": [[0.0, \"#0d0887\"], [0.1111111111111111, \"#46039f\"], [0.2222222222222222, \"#7201a8\"], [0.3333333333333333, \"#9c179e\"], [0.4444444444444444, \"#bd3786\"], [0.5555555555555556, \"#d8576b\"], [0.6666666666666666, \"#ed7953\"], [0.7777777777777778, \"#fb9f3a\"], [0.8888888888888888, \"#fdca26\"], [1.0, \"#f0f921\"]], \"type\": \"histogram2d\"}], \"histogram2dcontour\": [{\"colorbar\": {\"outlinewidth\": 0, \"ticks\": \"\"}, \"colorscale\": [[0.0, \"#0d0887\"], [0.1111111111111111, \"#46039f\"], [0.2222222222222222, \"#7201a8\"], [0.3333333333333333, \"#9c179e\"], [0.4444444444444444, \"#bd3786\"], [0.5555555555555556, \"#d8576b\"], [0.6666666666666666, \"#ed7953\"], [0.7777777777777778, \"#fb9f3a\"], [0.8888888888888888, \"#fdca26\"], [1.0, \"#f0f921\"]], \"type\": \"histogram2dcontour\"}], \"mesh3d\": [{\"colorbar\": {\"outlinewidth\": 0, \"ticks\": \"\"}, \"type\": \"mesh3d\"}], \"parcoords\": [{\"line\": {\"colorbar\": {\"outlinewidth\": 0, \"ticks\": \"\"}}, \"type\": \"parcoords\"}], \"pie\": [{\"automargin\": true, \"type\": \"pie\"}], \"scatter\": [{\"marker\": {\"line\": {\"color\": \"#283442\"}}, \"type\": \"scatter\"}], \"scatter3d\": [{\"line\": {\"colorbar\": {\"outlinewidth\": 0, \"ticks\": \"\"}}, \"marker\": {\"colorbar\": {\"outlinewidth\": 0, \"ticks\": \"\"}}, \"type\": \"scatter3d\"}], \"scattercarpet\": [{\"marker\": {\"colorbar\": {\"outlinewidth\": 0, \"ticks\": \"\"}}, \"type\": \"scattercarpet\"}], \"scattergeo\": [{\"marker\": {\"colorbar\": {\"outlinewidth\": 0, \"ticks\": \"\"}}, \"type\": \"scattergeo\"}], \"scattergl\": [{\"marker\": {\"line\": {\"color\": \"#283442\"}}, \"type\": \"scattergl\"}], \"scattermapbox\": [{\"marker\": {\"colorbar\": {\"outlinewidth\": 0, \"ticks\": \"\"}}, \"type\": \"scattermapbox\"}], \"scatterpolar\": [{\"marker\": {\"colorbar\": {\"outlinewidth\": 0, \"ticks\": \"\"}}, \"type\": \"scatterpolar\"}], \"scatterpolargl\": [{\"marker\": {\"colorbar\": {\"outlinewidth\": 0, \"ticks\": \"\"}}, \"type\": \"scatterpolargl\"}], \"scatterternary\": [{\"marker\": {\"colorbar\": {\"outlinewidth\": 0, \"ticks\": \"\"}}, \"type\": \"scatterternary\"}], \"surface\": [{\"colorbar\": {\"outlinewidth\": 0, \"ticks\": \"\"}, \"colorscale\": [[0.0, \"#0d0887\"], [0.1111111111111111, \"#46039f\"], [0.2222222222222222, \"#7201a8\"], [0.3333333333333333, \"#9c179e\"], [0.4444444444444444, \"#bd3786\"], [0.5555555555555556, \"#d8576b\"], [0.6666666666666666, \"#ed7953\"], [0.7777777777777778, \"#fb9f3a\"], [0.8888888888888888, \"#fdca26\"], [1.0, \"#f0f921\"]], \"type\": \"surface\"}], \"table\": [{\"cells\": {\"fill\": {\"color\": \"#506784\"}, \"line\": {\"color\": \"rgb(17,17,17)\"}}, \"header\": {\"fill\": {\"color\": \"#2a3f5f\"}, \"line\": {\"color\": \"rgb(17,17,17)\"}}, \"type\": \"table\"}]}, \"layout\": {\"annotationdefaults\": {\"arrowcolor\": \"#f2f5fa\", \"arrowhead\": 0, \"arrowwidth\": 1}, \"autotypenumbers\": \"strict\", \"coloraxis\": {\"colorbar\": {\"outlinewidth\": 0, \"ticks\": \"\"}}, \"colorscale\": {\"diverging\": [[0, \"#8e0152\"], [0.1, \"#c51b7d\"], [0.2, \"#de77ae\"], [0.3, \"#f1b6da\"], [0.4, \"#fde0ef\"], [0.5, \"#f7f7f7\"], [0.6, \"#e6f5d0\"], [0.7, \"#b8e186\"], [0.8, \"#7fbc41\"], [0.9, \"#4d9221\"], [1, \"#276419\"]], \"sequential\": [[0.0, \"#0d0887\"], [0.1111111111111111, \"#46039f\"], [0.2222222222222222, \"#7201a8\"], [0.3333333333333333, \"#9c179e\"], [0.4444444444444444, \"#bd3786\"], [0.5555555555555556, \"#d8576b\"], [0.6666666666666666, \"#ed7953\"], [0.7777777777777778, \"#fb9f3a\"], [0.8888888888888888, \"#fdca26\"], [1.0, \"#f0f921\"]], \"sequentialminus\": [[0.0, \"#0d0887\"], [0.1111111111111111, \"#46039f\"], [0.2222222222222222, \"#7201a8\"], [0.3333333333333333, \"#9c179e\"], [0.4444444444444444, \"#bd3786\"], [0.5555555555555556, \"#d8576b\"], [0.6666666666666666, \"#ed7953\"], [0.7777777777777778, \"#fb9f3a\"], [0.8888888888888888, \"#fdca26\"], [1.0, \"#f0f921\"]]}, \"colorway\": [\"#636efa\", \"#EF553B\", \"#00cc96\", \"#ab63fa\", \"#FFA15A\", \"#19d3f3\", \"#FF6692\", \"#B6E880\", \"#FF97FF\", \"#FECB52\"], \"font\": {\"color\": \"#f2f5fa\"}, \"geo\": {\"bgcolor\": \"rgb(17,17,17)\", \"lakecolor\": \"rgb(17,17,17)\", \"landcolor\": \"rgb(17,17,17)\", \"showlakes\": true, \"showland\": true, \"subunitcolor\": \"#506784\"}, \"hoverlabel\": {\"align\": \"left\"}, \"hovermode\": \"closest\", \"mapbox\": {\"style\": \"dark\"}, \"paper_bgcolor\": \"rgb(17,17,17)\", \"plot_bgcolor\": \"rgb(17,17,17)\", \"polar\": {\"angularaxis\": {\"gridcolor\": \"#506784\", \"linecolor\": \"#506784\", \"ticks\": \"\"}, \"bgcolor\": \"rgb(17,17,17)\", \"radialaxis\": {\"gridcolor\": \"#506784\", \"linecolor\": \"#506784\", \"ticks\": \"\"}}, \"scene\": {\"xaxis\": {\"backgroundcolor\": \"rgb(17,17,17)\", \"gridcolor\": \"#506784\", \"gridwidth\": 2, \"linecolor\": \"#506784\", \"showbackground\": true, \"ticks\": \"\", \"zerolinecolor\": \"#C8D4E3\"}, \"yaxis\": {\"backgroundcolor\": \"rgb(17,17,17)\", \"gridcolor\": \"#506784\", \"gridwidth\": 2, \"linecolor\": \"#506784\", \"showbackground\": true, \"ticks\": \"\", \"zerolinecolor\": \"#C8D4E3\"}, \"zaxis\": {\"backgroundcolor\": \"rgb(17,17,17)\", \"gridcolor\": \"#506784\", \"gridwidth\": 2, \"linecolor\": \"#506784\", \"showbackground\": true, \"ticks\": \"\", \"zerolinecolor\": \"#C8D4E3\"}}, \"shapedefaults\": {\"line\": {\"color\": \"#f2f5fa\"}}, \"sliderdefaults\": {\"bgcolor\": \"#C8D4E3\", \"bordercolor\": \"rgb(17,17,17)\", \"borderwidth\": 1, \"tickwidth\": 0}, \"ternary\": {\"aaxis\": {\"gridcolor\": \"#506784\", \"linecolor\": \"#506784\", \"ticks\": \"\"}, \"baxis\": {\"gridcolor\": \"#506784\", \"linecolor\": \"#506784\", \"ticks\": \"\"}, \"bgcolor\": \"rgb(17,17,17)\", \"caxis\": {\"gridcolor\": \"#506784\", \"linecolor\": \"#506784\", \"ticks\": \"\"}}, \"title\": {\"x\": 0.05}, \"updatemenudefaults\": {\"bgcolor\": \"#506784\", \"borderwidth\": 0}, \"xaxis\": {\"automargin\": true, \"gridcolor\": \"#283442\", \"linecolor\": \"#506784\", \"ticks\": \"\", \"title\": {\"standoff\": 15}, \"zerolinecolor\": \"#283442\", \"zerolinewidth\": 2}, \"yaxis\": {\"automargin\": true, \"gridcolor\": \"#283442\", \"linecolor\": \"#506784\", \"ticks\": \"\", \"title\": {\"standoff\": 15}, \"zerolinecolor\": \"#283442\", \"zerolinewidth\": 2}}}, \"title\": {\"text\": \"Reporting delay (difference between reporting and exposure time)\"}, \"xaxis\": {\"anchor\": \"y\", \"domain\": [0.0, 1.0], \"title\": {\"text\": \"date_delay\"}}, \"yaxis\": {\"anchor\": \"x\", \"domain\": [0.0, 1.0], \"title\": {\"text\": \"count\"}}},                        {\"responsive\": true}                    ).then(function(){\n",
       "                            \n",
       "var gd = document.getElementById('39df3352-6faf-4132-ae7b-a2aba08ee822');\n",
       "var x = new MutationObserver(function (mutations, observer) {{\n",
       "        var display = window.getComputedStyle(gd).display;\n",
       "        if (!display || display === 'none') {{\n",
       "            console.log([gd, 'removed!']);\n",
       "            Plotly.purge(gd);\n",
       "            observer.disconnect();\n",
       "        }}\n",
       "}});\n",
       "\n",
       "// Listen for the removal of the full notebook cells\n",
       "var notebookContainer = gd.closest('#notebook-container');\n",
       "if (notebookContainer) {{\n",
       "    x.observe(notebookContainer, {childList: true});\n",
       "}}\n",
       "\n",
       "// Listen for the clearing of the current output cell\n",
       "var outputEl = gd.closest('.output');\n",
       "if (outputEl) {{\n",
       "    x.observe(outputEl, {childList: true});\n",
       "}}\n",
       "\n",
       "                        })                };                });            </script>        </div>"
      ]
     },
     "metadata": {},
     "output_type": "display_data"
    }
   ],
   "source": [
    "fig_heat.show()\n",
    "fig_date.show()\n",
    "fig_delay.show()"
   ]
  },
  {
   "cell_type": "code",
   "execution_count": 160,
   "metadata": {},
   "outputs": [],
   "source": [
    "elements.to_csv('scraped_data.csv')"
   ]
  },
  {
   "cell_type": "code",
   "execution_count": 161,
   "metadata": {},
   "outputs": [
    {
     "data": {
      "text/plain": [
       "298"
      ]
     },
     "execution_count": 161,
     "metadata": {},
     "output_type": "execute_result"
    }
   ],
   "source": [
    "len(elements)"
   ]
  },
  {
   "cell_type": "markdown",
   "metadata": {},
   "source": [
    "# Switching to the API"
   ]
  },
  {
   "cell_type": "code",
   "execution_count": 49,
   "metadata": {},
   "outputs": [],
   "source": [
    "import requests as req\n",
    "import pandas as pd\n",
    "import plotly.express as px\n",
    "import datetime as dt"
   ]
  },
  {
   "cell_type": "code",
   "execution_count": 50,
   "metadata": {},
   "outputs": [],
   "source": [
    "resp = req.get('https://discover.data.vic.gov.au/api/3/action/datastore_search?resource_id=afb52611-6061-4a2b-9110-74c920bede77')"
   ]
  },
  {
   "cell_type": "code",
   "execution_count": 51,
   "metadata": {
    "scrolled": false
   },
   "outputs": [],
   "source": [
    "base = 'https://discover.data.vic.gov.au'\n",
    "resp = req.get('https://discover.data.vic.gov.au/api/3/action/datastore_search?resource_id=afb52611-6061-4a2b-9110-74c920bede77')\n",
    "next_link = resp.json()['result']['_links']['next']\n",
    "records = resp.json()['result']['records']\n",
    "total = resp.json()['result']['total']\n",
    "while len(records) < total:\n",
    "    resp = req.get(base+next_link)\n",
    "    records.extend(resp.json()['result']['records'])\n",
    "#     print(resp.json()['result']['_links']['next'])\n",
    "    next_link = resp.json()['result']['_links']['next']\n",
    "    "
   ]
  },
  {
   "cell_type": "code",
   "execution_count": 52,
   "metadata": {},
   "outputs": [
    {
     "data": {
      "text/plain": [
       "357"
      ]
     },
     "execution_count": 52,
     "metadata": {},
     "output_type": "execute_result"
    }
   ],
   "source": [
    "len(records)"
   ]
  },
  {
   "cell_type": "code",
   "execution_count": 53,
   "metadata": {},
   "outputs": [],
   "source": [
    "width = 580"
   ]
  },
  {
   "cell_type": "code",
   "execution_count": 54,
   "metadata": {},
   "outputs": [],
   "source": [
    "df_official = pd.DataFrame(records)"
   ]
  },
  {
   "cell_type": "code",
   "execution_count": 55,
   "metadata": {},
   "outputs": [],
   "source": [
    "df_official['tier'] = df_official.Advice_title.apply(lambda x: x.split(' ')[1])"
   ]
  },
  {
   "cell_type": "code",
   "execution_count": 65,
   "metadata": {
    "scrolled": false
   },
   "outputs": [
    {
     "data": {
      "application/vnd.plotly.v1+json": {
       "config": {
        "plotlyServerURL": "https://plot.ly"
       },
       "data": [
        {
         "alignmentgroup": "True",
         "bingroup": "x",
         "hovertemplate": "tier=1<br>Exposure_date_dtm=%{x}<br>count=%{y}<extra></extra>",
         "legendgroup": "1",
         "marker": {
          "color": "rgb(228,26,28)"
         },
         "name": "1",
         "offsetgroup": "1",
         "orientation": "v",
         "showlegend": true,
         "type": "histogram",
         "x": [
          "2021-05-24T00:00:00",
          "2021-05-25T00:00:00",
          "2021-05-26T00:00:00",
          "2021-05-27T00:00:00",
          "2021-05-18T00:00:00",
          "2021-05-18T00:00:00",
          "2021-05-18T00:00:00",
          "2021-05-18T00:00:00",
          "2021-05-25T00:00:00",
          "2021-05-19T00:00:00",
          "2021-05-19T00:00:00",
          "2021-05-23T00:00:00",
          "2021-05-19T00:00:00",
          "2021-05-19T00:00:00",
          "2021-05-19T00:00:00",
          "2021-05-25T00:00:00",
          "2021-05-21T00:00:00",
          "2021-05-22T00:00:00",
          "2021-05-23T00:00:00",
          "2021-05-29T00:00:00",
          "2021-05-28T00:00:00",
          "2021-05-27T00:00:00",
          "2021-05-26T00:00:00",
          "2021-05-19T00:00:00",
          "2021-05-26T00:00:00",
          "2021-05-22T00:00:00",
          "2021-05-25T00:00:00",
          "2021-05-23T00:00:00",
          "2021-05-23T00:00:00",
          "2021-05-26T00:00:00",
          "2021-05-26T00:00:00",
          "2021-05-28T00:00:00",
          "2021-05-27T00:00:00",
          "2021-05-25T00:00:00",
          "2021-05-26T00:00:00",
          "2021-05-24T00:00:00",
          "2021-05-25T00:00:00",
          "2021-05-26T00:00:00",
          "2021-05-28T00:00:00",
          "2021-05-24T00:00:00",
          "2021-05-25T00:00:00",
          "2021-05-26T00:00:00",
          "2021-05-23T00:00:00",
          "2021-05-22T00:00:00",
          "2021-05-22T00:00:00",
          "2021-05-25T00:00:00",
          "2021-05-24T00:00:00",
          "2021-05-22T00:00:00",
          "2021-05-24T00:00:00",
          "2021-05-25T00:00:00",
          "2021-05-23T00:00:00",
          "2021-05-29T00:00:00",
          "2021-05-27T00:00:00",
          "2021-05-24T00:00:00",
          "2021-05-25T00:00:00",
          "2021-05-26T00:00:00",
          "2021-05-27T00:00:00",
          "2021-05-28T00:00:00",
          "2021-05-12T00:00:00",
          "2021-05-13T00:00:00",
          "2021-05-20T00:00:00",
          "2021-05-26T00:00:00",
          "2021-05-26T00:00:00",
          "2021-05-21T00:00:00",
          "2021-05-27T00:00:00",
          "2021-05-22T00:00:00",
          "2021-05-24T00:00:00",
          "2021-05-17T00:00:00",
          "2021-05-17T00:00:00",
          "2021-05-23T00:00:00",
          "2021-05-27T00:00:00",
          "2021-05-26T00:00:00",
          "2021-05-27T00:00:00",
          "2021-05-26T00:00:00",
          "2021-05-26T00:00:00",
          "2021-05-22T00:00:00",
          "2021-05-28T00:00:00",
          "2021-05-20T00:00:00",
          "2021-05-17T00:00:00",
          "2021-05-26T00:00:00",
          "2021-05-25T00:00:00",
          "2021-05-26T00:00:00",
          "2021-05-21T00:00:00",
          "2021-05-26T00:00:00",
          "2021-05-27T00:00:00",
          "2021-05-27T00:00:00",
          "2021-05-27T00:00:00",
          "2021-05-19T00:00:00",
          "2021-05-25T00:00:00",
          "2021-05-18T00:00:00",
          "2021-05-23T00:00:00",
          "2021-05-26T00:00:00",
          "2021-05-22T00:00:00",
          "2021-05-25T00:00:00",
          "2021-05-25T00:00:00",
          "2021-05-25T00:00:00",
          "2021-05-26T00:00:00",
          "2021-05-25T00:00:00",
          "2021-05-22T00:00:00",
          "2021-05-24T00:00:00",
          "2021-05-26T00:00:00",
          "2021-05-25T00:00:00",
          "2021-05-27T00:00:00",
          "2021-05-24T00:00:00",
          "2021-05-22T00:00:00",
          "2021-05-23T00:00:00",
          "2021-05-30T00:00:00",
          "2021-05-28T00:00:00",
          "2021-05-28T00:00:00",
          "2021-05-21T00:00:00",
          "2021-05-18T00:00:00",
          "2021-05-27T00:00:00",
          "2021-05-22T00:00:00",
          "2021-05-23T00:00:00",
          "2021-05-27T00:00:00",
          "2021-05-22T00:00:00",
          "2021-05-18T00:00:00",
          "2021-05-22T00:00:00",
          "2021-05-20T00:00:00",
          "2021-05-21T00:00:00",
          "2021-05-22T00:00:00",
          "2021-05-23T00:00:00",
          "2021-05-25T00:00:00",
          "2021-05-23T00:00:00",
          "2021-05-22T00:00:00",
          "2021-05-28T00:00:00",
          "2021-05-22T00:00:00",
          "2021-05-24T00:00:00",
          "2021-05-22T00:00:00",
          "2021-05-22T00:00:00",
          "2021-05-20T00:00:00",
          "2021-05-19T00:00:00",
          "2021-05-24T00:00:00",
          "2021-05-18T00:00:00",
          "2021-05-20T00:00:00",
          "2021-05-20T00:00:00",
          "2021-05-20T00:00:00",
          "2021-05-18T00:00:00",
          "2021-05-20T00:00:00",
          "2021-05-20T00:00:00",
          "2021-05-21T00:00:00",
          "2021-05-23T00:00:00",
          "2021-05-19T00:00:00",
          "2021-05-17T00:00:00",
          "2021-05-25T00:00:00",
          "2021-05-24T00:00:00",
          "2021-05-20T00:00:00",
          "2021-05-21T00:00:00",
          "2021-05-27T00:00:00",
          "2021-05-24T00:00:00",
          "2021-05-24T00:00:00",
          "2021-05-23T00:00:00",
          "2021-05-23T00:00:00",
          "2021-05-28T00:00:00",
          "2021-05-23T00:00:00",
          "2021-05-21T00:00:00",
          "2021-05-28T00:00:00",
          "2021-05-24T00:00:00",
          "2021-05-24T00:00:00",
          "2021-05-23T00:00:00",
          "2021-05-25T00:00:00",
          "2021-05-22T00:00:00",
          "2021-05-21T00:00:00",
          "2021-05-24T00:00:00",
          "2021-05-25T00:00:00",
          "2021-05-23T00:00:00",
          "2021-05-27T00:00:00",
          "2021-05-22T00:00:00",
          "2021-05-24T00:00:00",
          "2021-05-28T00:00:00",
          "2021-05-22T00:00:00",
          "2021-05-20T00:00:00",
          "2021-05-23T00:00:00",
          "2021-05-23T00:00:00",
          "2021-05-23T00:00:00",
          "2021-05-22T00:00:00",
          "2021-05-21T00:00:00",
          "2021-05-21T00:00:00",
          "2021-05-21T00:00:00",
          "2021-05-26T00:00:00",
          "2021-05-22T00:00:00",
          "2021-05-23T00:00:00",
          "2021-05-21T00:00:00",
          "2021-05-21T00:00:00",
          "2021-05-20T00:00:00",
          "2021-05-23T00:00:00",
          "2021-05-22T00:00:00",
          "2021-05-26T00:00:00"
         ],
         "xaxis": "x",
         "yaxis": "y"
        },
        {
         "alignmentgroup": "True",
         "bingroup": "x",
         "hovertemplate": "tier=2<br>Exposure_date_dtm=%{x}<br>count=%{y}<extra></extra>",
         "legendgroup": "2",
         "marker": {
          "color": "rgb(55,126,184)"
         },
         "name": "2",
         "offsetgroup": "2",
         "orientation": "v",
         "showlegend": true,
         "type": "histogram",
         "x": [
          "2021-05-22T00:00:00",
          "2021-05-24T00:00:00",
          "2021-05-24T00:00:00",
          "2021-05-22T00:00:00",
          "2021-05-24T00:00:00",
          "2021-05-25T00:00:00",
          "2021-05-30T00:00:00",
          "2021-05-24T00:00:00",
          "2021-05-24T00:00:00",
          "2021-05-23T00:00:00",
          "2021-05-25T00:00:00",
          "2021-05-23T00:00:00",
          "2021-05-22T00:00:00",
          "2021-05-31T00:00:00",
          "2021-05-15T00:00:00",
          "2021-05-27T00:00:00",
          "2021-05-22T00:00:00",
          "2021-05-15T00:00:00",
          "2021-05-26T00:00:00",
          "2021-05-22T00:00:00",
          "2021-05-23T00:00:00",
          "2021-05-27T00:00:00",
          "2021-05-26T00:00:00",
          "2021-05-26T00:00:00",
          "2021-05-28T00:00:00",
          "2021-05-26T00:00:00",
          "2021-05-25T00:00:00",
          "2021-05-23T00:00:00",
          "2021-05-20T00:00:00",
          "2021-05-26T00:00:00",
          "2021-05-27T00:00:00",
          "2021-05-27T00:00:00",
          "2021-05-28T00:00:00",
          "2021-05-27T00:00:00",
          "2021-05-26T00:00:00",
          "2021-05-26T00:00:00",
          "2021-05-27T00:00:00",
          "2021-05-26T00:00:00",
          "2021-05-21T00:00:00",
          "2021-05-23T00:00:00",
          "2021-05-20T00:00:00",
          "2021-05-18T00:00:00",
          "2021-05-26T00:00:00",
          "2021-05-26T00:00:00",
          "2021-05-26T00:00:00",
          "2021-05-26T00:00:00",
          "2021-05-25T00:00:00",
          "2021-05-25T00:00:00",
          "2021-05-24T00:00:00",
          "2021-05-23T00:00:00",
          "2021-05-23T00:00:00",
          "2021-05-26T00:00:00",
          "2021-05-28T00:00:00",
          "2021-05-23T00:00:00",
          "2021-05-23T00:00:00",
          "2021-05-25T00:00:00",
          "2021-05-23T00:00:00",
          "2021-05-26T00:00:00",
          "2021-05-23T00:00:00",
          "2021-05-24T00:00:00",
          "2021-05-23T00:00:00",
          "2021-05-22T00:00:00",
          "2021-05-14T00:00:00",
          "2021-05-14T00:00:00",
          "2021-05-14T00:00:00",
          "2021-05-24T00:00:00",
          "2021-05-24T00:00:00",
          "2021-05-24T00:00:00",
          "2021-05-22T00:00:00",
          "2021-05-22T00:00:00",
          "2021-05-22T00:00:00",
          "2021-05-25T00:00:00",
          "2021-05-24T00:00:00",
          "2021-05-24T00:00:00",
          "2021-05-23T00:00:00",
          "2021-05-25T00:00:00",
          "2021-05-23T00:00:00",
          "2021-05-22T00:00:00",
          "2021-05-23T00:00:00",
          "2021-05-24T00:00:00",
          "2021-05-23T00:00:00",
          "2021-05-22T00:00:00",
          "2021-05-22T00:00:00",
          "2021-05-20T00:00:00",
          "2021-05-22T00:00:00",
          "2021-05-23T00:00:00",
          "2021-05-21T00:00:00",
          "2021-05-22T00:00:00",
          "2021-05-23T00:00:00",
          "2021-05-23T00:00:00",
          "2021-05-19T00:00:00",
          "2021-05-22T00:00:00",
          "2021-05-22T00:00:00",
          "2021-05-23T00:00:00",
          "2021-05-23T00:00:00",
          "2021-05-20T00:00:00",
          "2021-05-19T00:00:00",
          "2021-05-19T00:00:00",
          "2021-05-20T00:00:00",
          "2021-05-20T00:00:00",
          "2021-05-23T00:00:00",
          "2021-05-23T00:00:00",
          "2021-05-21T00:00:00",
          "2021-05-22T00:00:00",
          "2021-05-23T00:00:00",
          "2021-05-17T00:00:00",
          "2021-05-19T00:00:00",
          "2021-05-23T00:00:00",
          "2021-05-23T00:00:00",
          "2021-05-25T00:00:00",
          "2021-05-26T00:00:00",
          "2021-05-27T00:00:00",
          "2021-05-17T00:00:00",
          "2021-05-18T00:00:00",
          "2021-05-22T00:00:00",
          "2021-05-22T00:00:00",
          "2021-05-22T00:00:00",
          "2021-05-19T00:00:00",
          "2021-05-22T00:00:00",
          "2021-05-18T00:00:00",
          "2021-05-25T00:00:00",
          "2021-05-26T00:00:00",
          "2021-05-24T00:00:00",
          "2021-05-26T00:00:00",
          "2021-05-24T00:00:00",
          "2021-05-19T00:00:00",
          "2021-05-26T00:00:00",
          "2021-05-21T00:00:00",
          "2021-05-23T00:00:00",
          "2021-05-22T00:00:00",
          "2021-05-23T00:00:00",
          "2021-05-22T00:00:00",
          "2021-05-22T00:00:00",
          "2021-05-19T00:00:00",
          "2021-05-25T00:00:00",
          "2021-05-28T00:00:00",
          "2021-05-27T00:00:00",
          "2021-05-25T00:00:00",
          "2021-05-23T00:00:00",
          "2021-05-22T00:00:00",
          "2021-05-24T00:00:00",
          "2021-05-22T00:00:00",
          "2021-05-28T00:00:00",
          "2021-05-26T00:00:00",
          "2021-05-24T00:00:00",
          "2021-05-24T00:00:00",
          "2021-05-25T00:00:00",
          "2021-05-26T00:00:00",
          "2021-05-26T00:00:00",
          "2021-05-26T00:00:00",
          "2021-05-22T00:00:00",
          "2021-05-25T00:00:00",
          "2021-05-27T00:00:00"
         ],
         "xaxis": "x",
         "yaxis": "y"
        },
        {
         "alignmentgroup": "True",
         "bingroup": "x",
         "hovertemplate": "tier=3<br>Exposure_date_dtm=%{x}<br>count=%{y}<extra></extra>",
         "legendgroup": "3",
         "marker": {
          "color": "rgb(77,175,74)"
         },
         "name": "3",
         "offsetgroup": "3",
         "orientation": "v",
         "showlegend": true,
         "type": "histogram",
         "x": [
          "2021-05-12T00:00:00",
          "2021-05-13T00:00:00",
          "2021-05-15T00:00:00",
          "2021-05-28T00:00:00",
          "2021-05-25T00:00:00",
          "2021-05-23T00:00:00",
          "2021-05-27T00:00:00",
          "2021-05-27T00:00:00",
          "2021-05-22T00:00:00",
          "2021-05-27T00:00:00",
          "2021-05-27T00:00:00",
          "2021-05-23T00:00:00",
          "2021-05-27T00:00:00",
          "2021-05-11T00:00:00",
          "2021-05-23T00:00:00",
          "2021-05-11T00:00:00"
         ],
         "xaxis": "x",
         "yaxis": "y"
        }
       ],
       "layout": {
        "annotations": [
         {
          "ax": 10,
          "ay": 20,
          "text": "lockdown",
          "x": "2021-05-27",
          "xanchor": "left",
          "y": 40
         }
        ],
        "bargap": 0.2,
        "barmode": "relative",
        "legend": {
         "title": {
          "text": "tier"
         },
         "tracegroupgap": 0
        },
        "shapes": [
         {
          "type": "line",
          "x0": "2021-05-27",
          "x1": "2021-05-27",
          "xref": "x",
          "y0": 0,
          "y1": 1,
          "yref": "y domain"
         }
        ],
        "template": {
         "data": {
          "bar": [
           {
            "error_x": {
             "color": "#f2f5fa"
            },
            "error_y": {
             "color": "#f2f5fa"
            },
            "marker": {
             "line": {
              "color": "rgb(17,17,17)",
              "width": 0.5
             }
            },
            "type": "bar"
           }
          ],
          "barpolar": [
           {
            "marker": {
             "line": {
              "color": "rgb(17,17,17)",
              "width": 0.5
             }
            },
            "type": "barpolar"
           }
          ],
          "carpet": [
           {
            "aaxis": {
             "endlinecolor": "#A2B1C6",
             "gridcolor": "#506784",
             "linecolor": "#506784",
             "minorgridcolor": "#506784",
             "startlinecolor": "#A2B1C6"
            },
            "baxis": {
             "endlinecolor": "#A2B1C6",
             "gridcolor": "#506784",
             "linecolor": "#506784",
             "minorgridcolor": "#506784",
             "startlinecolor": "#A2B1C6"
            },
            "type": "carpet"
           }
          ],
          "choropleth": [
           {
            "colorbar": {
             "outlinewidth": 0,
             "ticks": ""
            },
            "type": "choropleth"
           }
          ],
          "contour": [
           {
            "colorbar": {
             "outlinewidth": 0,
             "ticks": ""
            },
            "colorscale": [
             [
              0,
              "#0d0887"
             ],
             [
              0.1111111111111111,
              "#46039f"
             ],
             [
              0.2222222222222222,
              "#7201a8"
             ],
             [
              0.3333333333333333,
              "#9c179e"
             ],
             [
              0.4444444444444444,
              "#bd3786"
             ],
             [
              0.5555555555555556,
              "#d8576b"
             ],
             [
              0.6666666666666666,
              "#ed7953"
             ],
             [
              0.7777777777777778,
              "#fb9f3a"
             ],
             [
              0.8888888888888888,
              "#fdca26"
             ],
             [
              1,
              "#f0f921"
             ]
            ],
            "type": "contour"
           }
          ],
          "contourcarpet": [
           {
            "colorbar": {
             "outlinewidth": 0,
             "ticks": ""
            },
            "type": "contourcarpet"
           }
          ],
          "heatmap": [
           {
            "colorbar": {
             "outlinewidth": 0,
             "ticks": ""
            },
            "colorscale": [
             [
              0,
              "#0d0887"
             ],
             [
              0.1111111111111111,
              "#46039f"
             ],
             [
              0.2222222222222222,
              "#7201a8"
             ],
             [
              0.3333333333333333,
              "#9c179e"
             ],
             [
              0.4444444444444444,
              "#bd3786"
             ],
             [
              0.5555555555555556,
              "#d8576b"
             ],
             [
              0.6666666666666666,
              "#ed7953"
             ],
             [
              0.7777777777777778,
              "#fb9f3a"
             ],
             [
              0.8888888888888888,
              "#fdca26"
             ],
             [
              1,
              "#f0f921"
             ]
            ],
            "type": "heatmap"
           }
          ],
          "heatmapgl": [
           {
            "colorbar": {
             "outlinewidth": 0,
             "ticks": ""
            },
            "colorscale": [
             [
              0,
              "#0d0887"
             ],
             [
              0.1111111111111111,
              "#46039f"
             ],
             [
              0.2222222222222222,
              "#7201a8"
             ],
             [
              0.3333333333333333,
              "#9c179e"
             ],
             [
              0.4444444444444444,
              "#bd3786"
             ],
             [
              0.5555555555555556,
              "#d8576b"
             ],
             [
              0.6666666666666666,
              "#ed7953"
             ],
             [
              0.7777777777777778,
              "#fb9f3a"
             ],
             [
              0.8888888888888888,
              "#fdca26"
             ],
             [
              1,
              "#f0f921"
             ]
            ],
            "type": "heatmapgl"
           }
          ],
          "histogram": [
           {
            "marker": {
             "colorbar": {
              "outlinewidth": 0,
              "ticks": ""
             }
            },
            "type": "histogram"
           }
          ],
          "histogram2d": [
           {
            "colorbar": {
             "outlinewidth": 0,
             "ticks": ""
            },
            "colorscale": [
             [
              0,
              "#0d0887"
             ],
             [
              0.1111111111111111,
              "#46039f"
             ],
             [
              0.2222222222222222,
              "#7201a8"
             ],
             [
              0.3333333333333333,
              "#9c179e"
             ],
             [
              0.4444444444444444,
              "#bd3786"
             ],
             [
              0.5555555555555556,
              "#d8576b"
             ],
             [
              0.6666666666666666,
              "#ed7953"
             ],
             [
              0.7777777777777778,
              "#fb9f3a"
             ],
             [
              0.8888888888888888,
              "#fdca26"
             ],
             [
              1,
              "#f0f921"
             ]
            ],
            "type": "histogram2d"
           }
          ],
          "histogram2dcontour": [
           {
            "colorbar": {
             "outlinewidth": 0,
             "ticks": ""
            },
            "colorscale": [
             [
              0,
              "#0d0887"
             ],
             [
              0.1111111111111111,
              "#46039f"
             ],
             [
              0.2222222222222222,
              "#7201a8"
             ],
             [
              0.3333333333333333,
              "#9c179e"
             ],
             [
              0.4444444444444444,
              "#bd3786"
             ],
             [
              0.5555555555555556,
              "#d8576b"
             ],
             [
              0.6666666666666666,
              "#ed7953"
             ],
             [
              0.7777777777777778,
              "#fb9f3a"
             ],
             [
              0.8888888888888888,
              "#fdca26"
             ],
             [
              1,
              "#f0f921"
             ]
            ],
            "type": "histogram2dcontour"
           }
          ],
          "mesh3d": [
           {
            "colorbar": {
             "outlinewidth": 0,
             "ticks": ""
            },
            "type": "mesh3d"
           }
          ],
          "parcoords": [
           {
            "line": {
             "colorbar": {
              "outlinewidth": 0,
              "ticks": ""
             }
            },
            "type": "parcoords"
           }
          ],
          "pie": [
           {
            "automargin": true,
            "type": "pie"
           }
          ],
          "scatter": [
           {
            "marker": {
             "line": {
              "color": "#283442"
             }
            },
            "type": "scatter"
           }
          ],
          "scatter3d": [
           {
            "line": {
             "colorbar": {
              "outlinewidth": 0,
              "ticks": ""
             }
            },
            "marker": {
             "colorbar": {
              "outlinewidth": 0,
              "ticks": ""
             }
            },
            "type": "scatter3d"
           }
          ],
          "scattercarpet": [
           {
            "marker": {
             "colorbar": {
              "outlinewidth": 0,
              "ticks": ""
             }
            },
            "type": "scattercarpet"
           }
          ],
          "scattergeo": [
           {
            "marker": {
             "colorbar": {
              "outlinewidth": 0,
              "ticks": ""
             }
            },
            "type": "scattergeo"
           }
          ],
          "scattergl": [
           {
            "marker": {
             "line": {
              "color": "#283442"
             }
            },
            "type": "scattergl"
           }
          ],
          "scattermapbox": [
           {
            "marker": {
             "colorbar": {
              "outlinewidth": 0,
              "ticks": ""
             }
            },
            "type": "scattermapbox"
           }
          ],
          "scatterpolar": [
           {
            "marker": {
             "colorbar": {
              "outlinewidth": 0,
              "ticks": ""
             }
            },
            "type": "scatterpolar"
           }
          ],
          "scatterpolargl": [
           {
            "marker": {
             "colorbar": {
              "outlinewidth": 0,
              "ticks": ""
             }
            },
            "type": "scatterpolargl"
           }
          ],
          "scatterternary": [
           {
            "marker": {
             "colorbar": {
              "outlinewidth": 0,
              "ticks": ""
             }
            },
            "type": "scatterternary"
           }
          ],
          "surface": [
           {
            "colorbar": {
             "outlinewidth": 0,
             "ticks": ""
            },
            "colorscale": [
             [
              0,
              "#0d0887"
             ],
             [
              0.1111111111111111,
              "#46039f"
             ],
             [
              0.2222222222222222,
              "#7201a8"
             ],
             [
              0.3333333333333333,
              "#9c179e"
             ],
             [
              0.4444444444444444,
              "#bd3786"
             ],
             [
              0.5555555555555556,
              "#d8576b"
             ],
             [
              0.6666666666666666,
              "#ed7953"
             ],
             [
              0.7777777777777778,
              "#fb9f3a"
             ],
             [
              0.8888888888888888,
              "#fdca26"
             ],
             [
              1,
              "#f0f921"
             ]
            ],
            "type": "surface"
           }
          ],
          "table": [
           {
            "cells": {
             "fill": {
              "color": "#506784"
             },
             "line": {
              "color": "rgb(17,17,17)"
             }
            },
            "header": {
             "fill": {
              "color": "#2a3f5f"
             },
             "line": {
              "color": "rgb(17,17,17)"
             }
            },
            "type": "table"
           }
          ]
         },
         "layout": {
          "annotationdefaults": {
           "arrowcolor": "#f2f5fa",
           "arrowhead": 0,
           "arrowwidth": 1
          },
          "autotypenumbers": "strict",
          "coloraxis": {
           "colorbar": {
            "outlinewidth": 0,
            "ticks": ""
           }
          },
          "colorscale": {
           "diverging": [
            [
             0,
             "#8e0152"
            ],
            [
             0.1,
             "#c51b7d"
            ],
            [
             0.2,
             "#de77ae"
            ],
            [
             0.3,
             "#f1b6da"
            ],
            [
             0.4,
             "#fde0ef"
            ],
            [
             0.5,
             "#f7f7f7"
            ],
            [
             0.6,
             "#e6f5d0"
            ],
            [
             0.7,
             "#b8e186"
            ],
            [
             0.8,
             "#7fbc41"
            ],
            [
             0.9,
             "#4d9221"
            ],
            [
             1,
             "#276419"
            ]
           ],
           "sequential": [
            [
             0,
             "#0d0887"
            ],
            [
             0.1111111111111111,
             "#46039f"
            ],
            [
             0.2222222222222222,
             "#7201a8"
            ],
            [
             0.3333333333333333,
             "#9c179e"
            ],
            [
             0.4444444444444444,
             "#bd3786"
            ],
            [
             0.5555555555555556,
             "#d8576b"
            ],
            [
             0.6666666666666666,
             "#ed7953"
            ],
            [
             0.7777777777777778,
             "#fb9f3a"
            ],
            [
             0.8888888888888888,
             "#fdca26"
            ],
            [
             1,
             "#f0f921"
            ]
           ],
           "sequentialminus": [
            [
             0,
             "#0d0887"
            ],
            [
             0.1111111111111111,
             "#46039f"
            ],
            [
             0.2222222222222222,
             "#7201a8"
            ],
            [
             0.3333333333333333,
             "#9c179e"
            ],
            [
             0.4444444444444444,
             "#bd3786"
            ],
            [
             0.5555555555555556,
             "#d8576b"
            ],
            [
             0.6666666666666666,
             "#ed7953"
            ],
            [
             0.7777777777777778,
             "#fb9f3a"
            ],
            [
             0.8888888888888888,
             "#fdca26"
            ],
            [
             1,
             "#f0f921"
            ]
           ]
          },
          "colorway": [
           "#636efa",
           "#EF553B",
           "#00cc96",
           "#ab63fa",
           "#FFA15A",
           "#19d3f3",
           "#FF6692",
           "#B6E880",
           "#FF97FF",
           "#FECB52"
          ],
          "font": {
           "color": "#f2f5fa"
          },
          "geo": {
           "bgcolor": "rgb(17,17,17)",
           "lakecolor": "rgb(17,17,17)",
           "landcolor": "rgb(17,17,17)",
           "showlakes": true,
           "showland": true,
           "subunitcolor": "#506784"
          },
          "hoverlabel": {
           "align": "left"
          },
          "hovermode": "closest",
          "mapbox": {
           "style": "dark"
          },
          "paper_bgcolor": "rgb(17,17,17)",
          "plot_bgcolor": "rgb(17,17,17)",
          "polar": {
           "angularaxis": {
            "gridcolor": "#506784",
            "linecolor": "#506784",
            "ticks": ""
           },
           "bgcolor": "rgb(17,17,17)",
           "radialaxis": {
            "gridcolor": "#506784",
            "linecolor": "#506784",
            "ticks": ""
           }
          },
          "scene": {
           "xaxis": {
            "backgroundcolor": "rgb(17,17,17)",
            "gridcolor": "#506784",
            "gridwidth": 2,
            "linecolor": "#506784",
            "showbackground": true,
            "ticks": "",
            "zerolinecolor": "#C8D4E3"
           },
           "yaxis": {
            "backgroundcolor": "rgb(17,17,17)",
            "gridcolor": "#506784",
            "gridwidth": 2,
            "linecolor": "#506784",
            "showbackground": true,
            "ticks": "",
            "zerolinecolor": "#C8D4E3"
           },
           "zaxis": {
            "backgroundcolor": "rgb(17,17,17)",
            "gridcolor": "#506784",
            "gridwidth": 2,
            "linecolor": "#506784",
            "showbackground": true,
            "ticks": "",
            "zerolinecolor": "#C8D4E3"
           }
          },
          "shapedefaults": {
           "line": {
            "color": "#f2f5fa"
           }
          },
          "sliderdefaults": {
           "bgcolor": "#C8D4E3",
           "bordercolor": "rgb(17,17,17)",
           "borderwidth": 1,
           "tickwidth": 0
          },
          "ternary": {
           "aaxis": {
            "gridcolor": "#506784",
            "linecolor": "#506784",
            "ticks": ""
           },
           "baxis": {
            "gridcolor": "#506784",
            "linecolor": "#506784",
            "ticks": ""
           },
           "bgcolor": "rgb(17,17,17)",
           "caxis": {
            "gridcolor": "#506784",
            "linecolor": "#506784",
            "ticks": ""
           }
          },
          "title": {
           "x": 0.05
          },
          "updatemenudefaults": {
           "bgcolor": "#506784",
           "borderwidth": 0
          },
          "xaxis": {
           "automargin": true,
           "gridcolor": "#283442",
           "linecolor": "#506784",
           "ticks": "",
           "title": {
            "standoff": 15
           },
           "zerolinecolor": "#283442",
           "zerolinewidth": 2
          },
          "yaxis": {
           "automargin": true,
           "gridcolor": "#283442",
           "linecolor": "#506784",
           "ticks": "",
           "title": {
            "standoff": 15
           },
           "zerolinecolor": "#283442",
           "zerolinewidth": 2
          }
         }
        },
        "title": {
         "text": "Exposure date categorised by tier"
        },
        "width": 580,
        "xaxis": {
         "anchor": "y",
         "domain": [
          0,
          1
         ],
         "nticks": 10,
         "range": [
          "2021-05-10T12:00:00",
          "2021-06-02T12:00:00"
         ],
         "tickangle": 60,
         "title": {
          "text": "Exposure date"
         }
        },
        "yaxis": {
         "anchor": "x",
         "domain": [
          0,
          1
         ],
         "title": {
          "text": "Number of exposure sites"
         }
        }
       }
      },
      "text/html": [
       "<div>                            <div id=\"366a47b4-2cb9-411c-a427-7387f81e046d\" class=\"plotly-graph-div\" style=\"height:525px; width:580px;\"></div>            <script type=\"text/javascript\">                require([\"plotly\"], function(Plotly) {                    window.PLOTLYENV=window.PLOTLYENV || {};                                    if (document.getElementById(\"366a47b4-2cb9-411c-a427-7387f81e046d\")) {                    Plotly.newPlot(                        \"366a47b4-2cb9-411c-a427-7387f81e046d\",                        [{\"alignmentgroup\": \"True\", \"bingroup\": \"x\", \"hovertemplate\": \"tier=1<br>Exposure_date_dtm=%{x}<br>count=%{y}<extra></extra>\", \"legendgroup\": \"1\", \"marker\": {\"color\": \"rgb(228,26,28)\"}, \"name\": \"1\", \"offsetgroup\": \"1\", \"orientation\": \"v\", \"showlegend\": true, \"type\": \"histogram\", \"x\": [\"2021-05-24T00:00:00\", \"2021-05-25T00:00:00\", \"2021-05-26T00:00:00\", \"2021-05-27T00:00:00\", \"2021-05-18T00:00:00\", \"2021-05-18T00:00:00\", \"2021-05-18T00:00:00\", \"2021-05-18T00:00:00\", \"2021-05-25T00:00:00\", \"2021-05-19T00:00:00\", \"2021-05-19T00:00:00\", \"2021-05-23T00:00:00\", \"2021-05-19T00:00:00\", \"2021-05-19T00:00:00\", \"2021-05-19T00:00:00\", \"2021-05-25T00:00:00\", \"2021-05-21T00:00:00\", \"2021-05-22T00:00:00\", \"2021-05-23T00:00:00\", \"2021-05-29T00:00:00\", \"2021-05-28T00:00:00\", \"2021-05-27T00:00:00\", \"2021-05-26T00:00:00\", \"2021-05-19T00:00:00\", \"2021-05-26T00:00:00\", \"2021-05-22T00:00:00\", \"2021-05-25T00:00:00\", \"2021-05-23T00:00:00\", \"2021-05-23T00:00:00\", \"2021-05-26T00:00:00\", \"2021-05-26T00:00:00\", \"2021-05-28T00:00:00\", \"2021-05-27T00:00:00\", \"2021-05-25T00:00:00\", \"2021-05-26T00:00:00\", \"2021-05-24T00:00:00\", \"2021-05-25T00:00:00\", \"2021-05-26T00:00:00\", \"2021-05-28T00:00:00\", \"2021-05-24T00:00:00\", \"2021-05-25T00:00:00\", \"2021-05-26T00:00:00\", \"2021-05-23T00:00:00\", \"2021-05-22T00:00:00\", \"2021-05-22T00:00:00\", \"2021-05-25T00:00:00\", \"2021-05-24T00:00:00\", \"2021-05-22T00:00:00\", \"2021-05-24T00:00:00\", \"2021-05-25T00:00:00\", \"2021-05-23T00:00:00\", \"2021-05-29T00:00:00\", \"2021-05-27T00:00:00\", \"2021-05-24T00:00:00\", \"2021-05-25T00:00:00\", \"2021-05-26T00:00:00\", \"2021-05-27T00:00:00\", \"2021-05-28T00:00:00\", \"2021-05-12T00:00:00\", \"2021-05-13T00:00:00\", \"2021-05-20T00:00:00\", \"2021-05-26T00:00:00\", \"2021-05-26T00:00:00\", \"2021-05-21T00:00:00\", \"2021-05-27T00:00:00\", \"2021-05-22T00:00:00\", \"2021-05-24T00:00:00\", \"2021-05-17T00:00:00\", \"2021-05-17T00:00:00\", \"2021-05-23T00:00:00\", \"2021-05-27T00:00:00\", \"2021-05-26T00:00:00\", \"2021-05-27T00:00:00\", \"2021-05-26T00:00:00\", \"2021-05-26T00:00:00\", \"2021-05-22T00:00:00\", \"2021-05-28T00:00:00\", \"2021-05-20T00:00:00\", \"2021-05-17T00:00:00\", \"2021-05-26T00:00:00\", \"2021-05-25T00:00:00\", \"2021-05-26T00:00:00\", \"2021-05-21T00:00:00\", \"2021-05-26T00:00:00\", \"2021-05-27T00:00:00\", \"2021-05-27T00:00:00\", \"2021-05-27T00:00:00\", \"2021-05-19T00:00:00\", \"2021-05-25T00:00:00\", \"2021-05-18T00:00:00\", \"2021-05-23T00:00:00\", \"2021-05-26T00:00:00\", \"2021-05-22T00:00:00\", \"2021-05-25T00:00:00\", \"2021-05-25T00:00:00\", \"2021-05-25T00:00:00\", \"2021-05-26T00:00:00\", \"2021-05-25T00:00:00\", \"2021-05-22T00:00:00\", \"2021-05-24T00:00:00\", \"2021-05-26T00:00:00\", \"2021-05-25T00:00:00\", \"2021-05-27T00:00:00\", \"2021-05-24T00:00:00\", \"2021-05-22T00:00:00\", \"2021-05-23T00:00:00\", \"2021-05-30T00:00:00\", \"2021-05-28T00:00:00\", \"2021-05-28T00:00:00\", \"2021-05-21T00:00:00\", \"2021-05-18T00:00:00\", \"2021-05-27T00:00:00\", \"2021-05-22T00:00:00\", \"2021-05-23T00:00:00\", \"2021-05-27T00:00:00\", \"2021-05-22T00:00:00\", \"2021-05-18T00:00:00\", \"2021-05-22T00:00:00\", \"2021-05-20T00:00:00\", \"2021-05-21T00:00:00\", \"2021-05-22T00:00:00\", \"2021-05-23T00:00:00\", \"2021-05-25T00:00:00\", \"2021-05-23T00:00:00\", \"2021-05-22T00:00:00\", \"2021-05-28T00:00:00\", \"2021-05-22T00:00:00\", \"2021-05-24T00:00:00\", \"2021-05-22T00:00:00\", \"2021-05-22T00:00:00\", \"2021-05-20T00:00:00\", \"2021-05-19T00:00:00\", \"2021-05-24T00:00:00\", \"2021-05-18T00:00:00\", \"2021-05-20T00:00:00\", \"2021-05-20T00:00:00\", \"2021-05-20T00:00:00\", \"2021-05-18T00:00:00\", \"2021-05-20T00:00:00\", \"2021-05-20T00:00:00\", \"2021-05-21T00:00:00\", \"2021-05-23T00:00:00\", \"2021-05-19T00:00:00\", \"2021-05-17T00:00:00\", \"2021-05-25T00:00:00\", \"2021-05-24T00:00:00\", \"2021-05-20T00:00:00\", \"2021-05-21T00:00:00\", \"2021-05-27T00:00:00\", \"2021-05-24T00:00:00\", \"2021-05-24T00:00:00\", \"2021-05-23T00:00:00\", \"2021-05-23T00:00:00\", \"2021-05-28T00:00:00\", \"2021-05-23T00:00:00\", \"2021-05-21T00:00:00\", \"2021-05-28T00:00:00\", \"2021-05-24T00:00:00\", \"2021-05-24T00:00:00\", \"2021-05-23T00:00:00\", \"2021-05-25T00:00:00\", \"2021-05-22T00:00:00\", \"2021-05-21T00:00:00\", \"2021-05-24T00:00:00\", \"2021-05-25T00:00:00\", \"2021-05-23T00:00:00\", \"2021-05-27T00:00:00\", \"2021-05-22T00:00:00\", \"2021-05-24T00:00:00\", \"2021-05-28T00:00:00\", \"2021-05-22T00:00:00\", \"2021-05-20T00:00:00\", \"2021-05-23T00:00:00\", \"2021-05-23T00:00:00\", \"2021-05-23T00:00:00\", \"2021-05-22T00:00:00\", \"2021-05-21T00:00:00\", \"2021-05-21T00:00:00\", \"2021-05-21T00:00:00\", \"2021-05-26T00:00:00\", \"2021-05-22T00:00:00\", \"2021-05-23T00:00:00\", \"2021-05-21T00:00:00\", \"2021-05-21T00:00:00\", \"2021-05-20T00:00:00\", \"2021-05-23T00:00:00\", \"2021-05-22T00:00:00\", \"2021-05-26T00:00:00\"], \"xaxis\": \"x\", \"yaxis\": \"y\"}, {\"alignmentgroup\": \"True\", \"bingroup\": \"x\", \"hovertemplate\": \"tier=2<br>Exposure_date_dtm=%{x}<br>count=%{y}<extra></extra>\", \"legendgroup\": \"2\", \"marker\": {\"color\": \"rgb(55,126,184)\"}, \"name\": \"2\", \"offsetgroup\": \"2\", \"orientation\": \"v\", \"showlegend\": true, \"type\": \"histogram\", \"x\": [\"2021-05-22T00:00:00\", \"2021-05-24T00:00:00\", \"2021-05-24T00:00:00\", \"2021-05-22T00:00:00\", \"2021-05-24T00:00:00\", \"2021-05-25T00:00:00\", \"2021-05-30T00:00:00\", \"2021-05-24T00:00:00\", \"2021-05-24T00:00:00\", \"2021-05-23T00:00:00\", \"2021-05-25T00:00:00\", \"2021-05-23T00:00:00\", \"2021-05-22T00:00:00\", \"2021-05-31T00:00:00\", \"2021-05-15T00:00:00\", \"2021-05-27T00:00:00\", \"2021-05-22T00:00:00\", \"2021-05-15T00:00:00\", \"2021-05-26T00:00:00\", \"2021-05-22T00:00:00\", \"2021-05-23T00:00:00\", \"2021-05-27T00:00:00\", \"2021-05-26T00:00:00\", \"2021-05-26T00:00:00\", \"2021-05-28T00:00:00\", \"2021-05-26T00:00:00\", \"2021-05-25T00:00:00\", \"2021-05-23T00:00:00\", \"2021-05-20T00:00:00\", \"2021-05-26T00:00:00\", \"2021-05-27T00:00:00\", \"2021-05-27T00:00:00\", \"2021-05-28T00:00:00\", \"2021-05-27T00:00:00\", \"2021-05-26T00:00:00\", \"2021-05-26T00:00:00\", \"2021-05-27T00:00:00\", \"2021-05-26T00:00:00\", \"2021-05-21T00:00:00\", \"2021-05-23T00:00:00\", \"2021-05-20T00:00:00\", \"2021-05-18T00:00:00\", \"2021-05-26T00:00:00\", \"2021-05-26T00:00:00\", \"2021-05-26T00:00:00\", \"2021-05-26T00:00:00\", \"2021-05-25T00:00:00\", \"2021-05-25T00:00:00\", \"2021-05-24T00:00:00\", \"2021-05-23T00:00:00\", \"2021-05-23T00:00:00\", \"2021-05-26T00:00:00\", \"2021-05-28T00:00:00\", \"2021-05-23T00:00:00\", \"2021-05-23T00:00:00\", \"2021-05-25T00:00:00\", \"2021-05-23T00:00:00\", \"2021-05-26T00:00:00\", \"2021-05-23T00:00:00\", \"2021-05-24T00:00:00\", \"2021-05-23T00:00:00\", \"2021-05-22T00:00:00\", \"2021-05-14T00:00:00\", \"2021-05-14T00:00:00\", \"2021-05-14T00:00:00\", \"2021-05-24T00:00:00\", \"2021-05-24T00:00:00\", \"2021-05-24T00:00:00\", \"2021-05-22T00:00:00\", \"2021-05-22T00:00:00\", \"2021-05-22T00:00:00\", \"2021-05-25T00:00:00\", \"2021-05-24T00:00:00\", \"2021-05-24T00:00:00\", \"2021-05-23T00:00:00\", \"2021-05-25T00:00:00\", \"2021-05-23T00:00:00\", \"2021-05-22T00:00:00\", \"2021-05-23T00:00:00\", \"2021-05-24T00:00:00\", \"2021-05-23T00:00:00\", \"2021-05-22T00:00:00\", \"2021-05-22T00:00:00\", \"2021-05-20T00:00:00\", \"2021-05-22T00:00:00\", \"2021-05-23T00:00:00\", \"2021-05-21T00:00:00\", \"2021-05-22T00:00:00\", \"2021-05-23T00:00:00\", \"2021-05-23T00:00:00\", \"2021-05-19T00:00:00\", \"2021-05-22T00:00:00\", \"2021-05-22T00:00:00\", \"2021-05-23T00:00:00\", \"2021-05-23T00:00:00\", \"2021-05-20T00:00:00\", \"2021-05-19T00:00:00\", \"2021-05-19T00:00:00\", \"2021-05-20T00:00:00\", \"2021-05-20T00:00:00\", \"2021-05-23T00:00:00\", \"2021-05-23T00:00:00\", \"2021-05-21T00:00:00\", \"2021-05-22T00:00:00\", \"2021-05-23T00:00:00\", \"2021-05-17T00:00:00\", \"2021-05-19T00:00:00\", \"2021-05-23T00:00:00\", \"2021-05-23T00:00:00\", \"2021-05-25T00:00:00\", \"2021-05-26T00:00:00\", \"2021-05-27T00:00:00\", \"2021-05-17T00:00:00\", \"2021-05-18T00:00:00\", \"2021-05-22T00:00:00\", \"2021-05-22T00:00:00\", \"2021-05-22T00:00:00\", \"2021-05-19T00:00:00\", \"2021-05-22T00:00:00\", \"2021-05-18T00:00:00\", \"2021-05-25T00:00:00\", \"2021-05-26T00:00:00\", \"2021-05-24T00:00:00\", \"2021-05-26T00:00:00\", \"2021-05-24T00:00:00\", \"2021-05-19T00:00:00\", \"2021-05-26T00:00:00\", \"2021-05-21T00:00:00\", \"2021-05-23T00:00:00\", \"2021-05-22T00:00:00\", \"2021-05-23T00:00:00\", \"2021-05-22T00:00:00\", \"2021-05-22T00:00:00\", \"2021-05-19T00:00:00\", \"2021-05-25T00:00:00\", \"2021-05-28T00:00:00\", \"2021-05-27T00:00:00\", \"2021-05-25T00:00:00\", \"2021-05-23T00:00:00\", \"2021-05-22T00:00:00\", \"2021-05-24T00:00:00\", \"2021-05-22T00:00:00\", \"2021-05-28T00:00:00\", \"2021-05-26T00:00:00\", \"2021-05-24T00:00:00\", \"2021-05-24T00:00:00\", \"2021-05-25T00:00:00\", \"2021-05-26T00:00:00\", \"2021-05-26T00:00:00\", \"2021-05-26T00:00:00\", \"2021-05-22T00:00:00\", \"2021-05-25T00:00:00\", \"2021-05-27T00:00:00\"], \"xaxis\": \"x\", \"yaxis\": \"y\"}, {\"alignmentgroup\": \"True\", \"bingroup\": \"x\", \"hovertemplate\": \"tier=3<br>Exposure_date_dtm=%{x}<br>count=%{y}<extra></extra>\", \"legendgroup\": \"3\", \"marker\": {\"color\": \"rgb(77,175,74)\"}, \"name\": \"3\", \"offsetgroup\": \"3\", \"orientation\": \"v\", \"showlegend\": true, \"type\": \"histogram\", \"x\": [\"2021-05-12T00:00:00\", \"2021-05-13T00:00:00\", \"2021-05-15T00:00:00\", \"2021-05-28T00:00:00\", \"2021-05-25T00:00:00\", \"2021-05-23T00:00:00\", \"2021-05-27T00:00:00\", \"2021-05-27T00:00:00\", \"2021-05-22T00:00:00\", \"2021-05-27T00:00:00\", \"2021-05-27T00:00:00\", \"2021-05-23T00:00:00\", \"2021-05-27T00:00:00\", \"2021-05-11T00:00:00\", \"2021-05-23T00:00:00\", \"2021-05-11T00:00:00\"], \"xaxis\": \"x\", \"yaxis\": \"y\"}],                        {\"annotations\": [{\"ax\": 10, \"ay\": 20, \"text\": \"lockdown\", \"x\": \"2021-05-27\", \"xanchor\": \"left\", \"y\": 40}], \"bargap\": 0.2, \"barmode\": \"relative\", \"legend\": {\"title\": {\"text\": \"tier\"}, \"tracegroupgap\": 0}, \"shapes\": [{\"type\": \"line\", \"x0\": \"2021-05-27\", \"x1\": \"2021-05-27\", \"xref\": \"x\", \"y0\": 0, \"y1\": 1, \"yref\": \"y domain\"}], \"template\": {\"data\": {\"bar\": [{\"error_x\": {\"color\": \"#f2f5fa\"}, \"error_y\": {\"color\": \"#f2f5fa\"}, \"marker\": {\"line\": {\"color\": \"rgb(17,17,17)\", \"width\": 0.5}}, \"type\": \"bar\"}], \"barpolar\": [{\"marker\": {\"line\": {\"color\": \"rgb(17,17,17)\", \"width\": 0.5}}, \"type\": \"barpolar\"}], \"carpet\": [{\"aaxis\": {\"endlinecolor\": \"#A2B1C6\", \"gridcolor\": \"#506784\", \"linecolor\": \"#506784\", \"minorgridcolor\": \"#506784\", \"startlinecolor\": \"#A2B1C6\"}, \"baxis\": {\"endlinecolor\": \"#A2B1C6\", \"gridcolor\": \"#506784\", \"linecolor\": \"#506784\", \"minorgridcolor\": \"#506784\", \"startlinecolor\": \"#A2B1C6\"}, \"type\": \"carpet\"}], \"choropleth\": [{\"colorbar\": {\"outlinewidth\": 0, \"ticks\": \"\"}, \"type\": \"choropleth\"}], \"contour\": [{\"colorbar\": {\"outlinewidth\": 0, \"ticks\": \"\"}, \"colorscale\": [[0.0, \"#0d0887\"], [0.1111111111111111, \"#46039f\"], [0.2222222222222222, \"#7201a8\"], [0.3333333333333333, \"#9c179e\"], [0.4444444444444444, \"#bd3786\"], [0.5555555555555556, \"#d8576b\"], [0.6666666666666666, \"#ed7953\"], [0.7777777777777778, \"#fb9f3a\"], [0.8888888888888888, \"#fdca26\"], [1.0, \"#f0f921\"]], \"type\": \"contour\"}], \"contourcarpet\": [{\"colorbar\": {\"outlinewidth\": 0, \"ticks\": \"\"}, \"type\": \"contourcarpet\"}], \"heatmap\": [{\"colorbar\": {\"outlinewidth\": 0, \"ticks\": \"\"}, \"colorscale\": [[0.0, \"#0d0887\"], [0.1111111111111111, \"#46039f\"], [0.2222222222222222, \"#7201a8\"], [0.3333333333333333, \"#9c179e\"], [0.4444444444444444, \"#bd3786\"], [0.5555555555555556, \"#d8576b\"], [0.6666666666666666, \"#ed7953\"], [0.7777777777777778, \"#fb9f3a\"], [0.8888888888888888, \"#fdca26\"], [1.0, \"#f0f921\"]], \"type\": \"heatmap\"}], \"heatmapgl\": [{\"colorbar\": {\"outlinewidth\": 0, \"ticks\": \"\"}, \"colorscale\": [[0.0, \"#0d0887\"], [0.1111111111111111, \"#46039f\"], [0.2222222222222222, \"#7201a8\"], [0.3333333333333333, \"#9c179e\"], [0.4444444444444444, \"#bd3786\"], [0.5555555555555556, \"#d8576b\"], [0.6666666666666666, \"#ed7953\"], [0.7777777777777778, \"#fb9f3a\"], [0.8888888888888888, \"#fdca26\"], [1.0, \"#f0f921\"]], \"type\": \"heatmapgl\"}], \"histogram\": [{\"marker\": {\"colorbar\": {\"outlinewidth\": 0, \"ticks\": \"\"}}, \"type\": \"histogram\"}], \"histogram2d\": [{\"colorbar\": {\"outlinewidth\": 0, \"ticks\": \"\"}, \"colorscale\": [[0.0, \"#0d0887\"], [0.1111111111111111, \"#46039f\"], [0.2222222222222222, \"#7201a8\"], [0.3333333333333333, \"#9c179e\"], [0.4444444444444444, \"#bd3786\"], [0.5555555555555556, \"#d8576b\"], [0.6666666666666666, \"#ed7953\"], [0.7777777777777778, \"#fb9f3a\"], [0.8888888888888888, \"#fdca26\"], [1.0, \"#f0f921\"]], \"type\": \"histogram2d\"}], \"histogram2dcontour\": [{\"colorbar\": {\"outlinewidth\": 0, \"ticks\": \"\"}, \"colorscale\": [[0.0, \"#0d0887\"], [0.1111111111111111, \"#46039f\"], [0.2222222222222222, \"#7201a8\"], [0.3333333333333333, \"#9c179e\"], [0.4444444444444444, \"#bd3786\"], [0.5555555555555556, \"#d8576b\"], [0.6666666666666666, \"#ed7953\"], [0.7777777777777778, \"#fb9f3a\"], [0.8888888888888888, \"#fdca26\"], [1.0, \"#f0f921\"]], \"type\": \"histogram2dcontour\"}], \"mesh3d\": [{\"colorbar\": {\"outlinewidth\": 0, \"ticks\": \"\"}, \"type\": \"mesh3d\"}], \"parcoords\": [{\"line\": {\"colorbar\": {\"outlinewidth\": 0, \"ticks\": \"\"}}, \"type\": \"parcoords\"}], \"pie\": [{\"automargin\": true, \"type\": \"pie\"}], \"scatter\": [{\"marker\": {\"line\": {\"color\": \"#283442\"}}, \"type\": \"scatter\"}], \"scatter3d\": [{\"line\": {\"colorbar\": {\"outlinewidth\": 0, \"ticks\": \"\"}}, \"marker\": {\"colorbar\": {\"outlinewidth\": 0, \"ticks\": \"\"}}, \"type\": \"scatter3d\"}], \"scattercarpet\": [{\"marker\": {\"colorbar\": {\"outlinewidth\": 0, \"ticks\": \"\"}}, \"type\": \"scattercarpet\"}], \"scattergeo\": [{\"marker\": {\"colorbar\": {\"outlinewidth\": 0, \"ticks\": \"\"}}, \"type\": \"scattergeo\"}], \"scattergl\": [{\"marker\": {\"line\": {\"color\": \"#283442\"}}, \"type\": \"scattergl\"}], \"scattermapbox\": [{\"marker\": {\"colorbar\": {\"outlinewidth\": 0, \"ticks\": \"\"}}, \"type\": \"scattermapbox\"}], \"scatterpolar\": [{\"marker\": {\"colorbar\": {\"outlinewidth\": 0, \"ticks\": \"\"}}, \"type\": \"scatterpolar\"}], \"scatterpolargl\": [{\"marker\": {\"colorbar\": {\"outlinewidth\": 0, \"ticks\": \"\"}}, \"type\": \"scatterpolargl\"}], \"scatterternary\": [{\"marker\": {\"colorbar\": {\"outlinewidth\": 0, \"ticks\": \"\"}}, \"type\": \"scatterternary\"}], \"surface\": [{\"colorbar\": {\"outlinewidth\": 0, \"ticks\": \"\"}, \"colorscale\": [[0.0, \"#0d0887\"], [0.1111111111111111, \"#46039f\"], [0.2222222222222222, \"#7201a8\"], [0.3333333333333333, \"#9c179e\"], [0.4444444444444444, \"#bd3786\"], [0.5555555555555556, \"#d8576b\"], [0.6666666666666666, \"#ed7953\"], [0.7777777777777778, \"#fb9f3a\"], [0.8888888888888888, \"#fdca26\"], [1.0, \"#f0f921\"]], \"type\": \"surface\"}], \"table\": [{\"cells\": {\"fill\": {\"color\": \"#506784\"}, \"line\": {\"color\": \"rgb(17,17,17)\"}}, \"header\": {\"fill\": {\"color\": \"#2a3f5f\"}, \"line\": {\"color\": \"rgb(17,17,17)\"}}, \"type\": \"table\"}]}, \"layout\": {\"annotationdefaults\": {\"arrowcolor\": \"#f2f5fa\", \"arrowhead\": 0, \"arrowwidth\": 1}, \"autotypenumbers\": \"strict\", \"coloraxis\": {\"colorbar\": {\"outlinewidth\": 0, \"ticks\": \"\"}}, \"colorscale\": {\"diverging\": [[0, \"#8e0152\"], [0.1, \"#c51b7d\"], [0.2, \"#de77ae\"], [0.3, \"#f1b6da\"], [0.4, \"#fde0ef\"], [0.5, \"#f7f7f7\"], [0.6, \"#e6f5d0\"], [0.7, \"#b8e186\"], [0.8, \"#7fbc41\"], [0.9, \"#4d9221\"], [1, \"#276419\"]], \"sequential\": [[0.0, \"#0d0887\"], [0.1111111111111111, \"#46039f\"], [0.2222222222222222, \"#7201a8\"], [0.3333333333333333, \"#9c179e\"], [0.4444444444444444, \"#bd3786\"], [0.5555555555555556, \"#d8576b\"], [0.6666666666666666, \"#ed7953\"], [0.7777777777777778, \"#fb9f3a\"], [0.8888888888888888, \"#fdca26\"], [1.0, \"#f0f921\"]], \"sequentialminus\": [[0.0, \"#0d0887\"], [0.1111111111111111, \"#46039f\"], [0.2222222222222222, \"#7201a8\"], [0.3333333333333333, \"#9c179e\"], [0.4444444444444444, \"#bd3786\"], [0.5555555555555556, \"#d8576b\"], [0.6666666666666666, \"#ed7953\"], [0.7777777777777778, \"#fb9f3a\"], [0.8888888888888888, \"#fdca26\"], [1.0, \"#f0f921\"]]}, \"colorway\": [\"#636efa\", \"#EF553B\", \"#00cc96\", \"#ab63fa\", \"#FFA15A\", \"#19d3f3\", \"#FF6692\", \"#B6E880\", \"#FF97FF\", \"#FECB52\"], \"font\": {\"color\": \"#f2f5fa\"}, \"geo\": {\"bgcolor\": \"rgb(17,17,17)\", \"lakecolor\": \"rgb(17,17,17)\", \"landcolor\": \"rgb(17,17,17)\", \"showlakes\": true, \"showland\": true, \"subunitcolor\": \"#506784\"}, \"hoverlabel\": {\"align\": \"left\"}, \"hovermode\": \"closest\", \"mapbox\": {\"style\": \"dark\"}, \"paper_bgcolor\": \"rgb(17,17,17)\", \"plot_bgcolor\": \"rgb(17,17,17)\", \"polar\": {\"angularaxis\": {\"gridcolor\": \"#506784\", \"linecolor\": \"#506784\", \"ticks\": \"\"}, \"bgcolor\": \"rgb(17,17,17)\", \"radialaxis\": {\"gridcolor\": \"#506784\", \"linecolor\": \"#506784\", \"ticks\": \"\"}}, \"scene\": {\"xaxis\": {\"backgroundcolor\": \"rgb(17,17,17)\", \"gridcolor\": \"#506784\", \"gridwidth\": 2, \"linecolor\": \"#506784\", \"showbackground\": true, \"ticks\": \"\", \"zerolinecolor\": \"#C8D4E3\"}, \"yaxis\": {\"backgroundcolor\": \"rgb(17,17,17)\", \"gridcolor\": \"#506784\", \"gridwidth\": 2, \"linecolor\": \"#506784\", \"showbackground\": true, \"ticks\": \"\", \"zerolinecolor\": \"#C8D4E3\"}, \"zaxis\": {\"backgroundcolor\": \"rgb(17,17,17)\", \"gridcolor\": \"#506784\", \"gridwidth\": 2, \"linecolor\": \"#506784\", \"showbackground\": true, \"ticks\": \"\", \"zerolinecolor\": \"#C8D4E3\"}}, \"shapedefaults\": {\"line\": {\"color\": \"#f2f5fa\"}}, \"sliderdefaults\": {\"bgcolor\": \"#C8D4E3\", \"bordercolor\": \"rgb(17,17,17)\", \"borderwidth\": 1, \"tickwidth\": 0}, \"ternary\": {\"aaxis\": {\"gridcolor\": \"#506784\", \"linecolor\": \"#506784\", \"ticks\": \"\"}, \"baxis\": {\"gridcolor\": \"#506784\", \"linecolor\": \"#506784\", \"ticks\": \"\"}, \"bgcolor\": \"rgb(17,17,17)\", \"caxis\": {\"gridcolor\": \"#506784\", \"linecolor\": \"#506784\", \"ticks\": \"\"}}, \"title\": {\"x\": 0.05}, \"updatemenudefaults\": {\"bgcolor\": \"#506784\", \"borderwidth\": 0}, \"xaxis\": {\"automargin\": true, \"gridcolor\": \"#283442\", \"linecolor\": \"#506784\", \"ticks\": \"\", \"title\": {\"standoff\": 15}, \"zerolinecolor\": \"#283442\", \"zerolinewidth\": 2}, \"yaxis\": {\"automargin\": true, \"gridcolor\": \"#283442\", \"linecolor\": \"#506784\", \"ticks\": \"\", \"title\": {\"standoff\": 15}, \"zerolinecolor\": \"#283442\", \"zerolinewidth\": 2}}}, \"title\": {\"text\": \"Exposure date categorised by tier\"}, \"width\": 580, \"xaxis\": {\"anchor\": \"y\", \"domain\": [0.0, 1.0], \"nticks\": 10, \"range\": [\"2021-05-10T12:00:00\", \"2021-06-02T12:00:00\"], \"tickangle\": 60, \"title\": {\"text\": \"Exposure date\"}}, \"yaxis\": {\"anchor\": \"x\", \"domain\": [0.0, 1.0], \"title\": {\"text\": \"Number of exposure sites\"}}},                        {\"responsive\": true}                    ).then(function(){\n",
       "                            \n",
       "var gd = document.getElementById('366a47b4-2cb9-411c-a427-7387f81e046d');\n",
       "var x = new MutationObserver(function (mutations, observer) {{\n",
       "        var display = window.getComputedStyle(gd).display;\n",
       "        if (!display || display === 'none') {{\n",
       "            console.log([gd, 'removed!']);\n",
       "            Plotly.purge(gd);\n",
       "            observer.disconnect();\n",
       "        }}\n",
       "}});\n",
       "\n",
       "// Listen for the removal of the full notebook cells\n",
       "var notebookContainer = gd.closest('#notebook-container');\n",
       "if (notebookContainer) {{\n",
       "    x.observe(notebookContainer, {childList: true});\n",
       "}}\n",
       "\n",
       "// Listen for the clearing of the current output cell\n",
       "var outputEl = gd.closest('.output');\n",
       "if (outputEl) {{\n",
       "    x.observe(outputEl, {childList: true});\n",
       "}}\n",
       "\n",
       "                        })                };                });            </script>        </div>"
      ]
     },
     "metadata": {},
     "output_type": "display_data"
    }
   ],
   "source": [
    "fig_date = px.histogram(df_official.sort_values(by='tier'), \n",
    "                        x='Exposure_date_dtm', template='plotly_dark', \n",
    "                        color='tier', color_discrete_sequence=px.colors.qualitative.Set1[0:3], \n",
    "                        title='Exposure date categorised by tier')\n",
    "fig_date.add_vline(x='2021-05-27')\n",
    "fig_date.add_annotation(x = '2021-05-27', y= 40, text='lockdown', xanchor='left', ax=10, ay=20)\n",
    "\n",
    "fig_date.update_layout(\n",
    "    bargap=0.2, # gap between bars of adjacent location coordinates\n",
    "    xaxis_title = \"Exposure date\", \n",
    "    yaxis_title = \"Number of exposure sites\", \n",
    "    width = width\n",
    ")\n",
    "\n",
    "\n",
    "fig_date.update_xaxes(\n",
    "    tickangle = 60, \n",
    "    nticks = 10,\n",
    "    range=[df_official.Exposure_date_dtm.min() - dt.timedelta(hours=12), df_official.Added_date_dtm.max() + dt.timedelta(hours=12)]\n",
    ")\n",
    "\n",
    "fig_date.show()"
   ]
  },
  {
   "cell_type": "code",
   "execution_count": 62,
   "metadata": {},
   "outputs": [
    {
     "data": {
      "application/vnd.plotly.v1+json": {
       "config": {
        "plotlyServerURL": "https://plot.ly"
       },
       "data": [
        {
         "alignmentgroup": "True",
         "bingroup": "x",
         "hovertemplate": "date_delay=%{x}<br>count=%{y}<extra></extra>",
         "legendgroup": "",
         "marker": {
          "color": "rgb(55,126,184)"
         },
         "name": "",
         "offsetgroup": "",
         "orientation": "v",
         "showlegend": false,
         "type": "histogram",
         "x": [
          2,
          3,
          3,
          4,
          1,
          3,
          5,
          2,
          4,
          4,
          1,
          1,
          6,
          6,
          2,
          2,
          7,
          5,
          6,
          1,
          6,
          2,
          4,
          5,
          6,
          6,
          6,
          12,
          4,
          4,
          4,
          4,
          4,
          4,
          3,
          5,
          2,
          2,
          5,
          4,
          4,
          3,
          1,
          1,
          3,
          0,
          0,
          3,
          3,
          3,
          8,
          4,
          4,
          8,
          6,
          5,
          4,
          3,
          2,
          1,
          4,
          4,
          3,
          3,
          3,
          2,
          3,
          5,
          2,
          5,
          3,
          4,
          5,
          4,
          3,
          5,
          3,
          4,
          5,
          6,
          3,
          4,
          13,
          13,
          13,
          3,
          3,
          3,
          3,
          3,
          4,
          5,
          7,
          6,
          3,
          2,
          4,
          5,
          5,
          3,
          5,
          5,
          5,
          6,
          5,
          4,
          4,
          4,
          4,
          2,
          3,
          3,
          4,
          2,
          2,
          14,
          3,
          2,
          5,
          3,
          4,
          3,
          4,
          5,
          6,
          6,
          6,
          3,
          4,
          5,
          5,
          5,
          6,
          4,
          3,
          2,
          6,
          5,
          3,
          2,
          1,
          10,
          10,
          10,
          10,
          3,
          9,
          9,
          9,
          9,
          9,
          9,
          4,
          6,
          8,
          7,
          6,
          4,
          4,
          5,
          7,
          7,
          4,
          5,
          4,
          6,
          2,
          2,
          2,
          1,
          3,
          3,
          3,
          3,
          3,
          9,
          4,
          8,
          4,
          6,
          11,
          5,
          7,
          5,
          5,
          11,
          5,
          4,
          3,
          13,
          12,
          8,
          5,
          5,
          5,
          8,
          8,
          8,
          8,
          8,
          11,
          8,
          12,
          5,
          4,
          6,
          13,
          12,
          10,
          9,
          6,
          5,
          4,
          3,
          2,
          18,
          17,
          10,
          4,
          4,
          4,
          3,
          6,
          11,
          8,
          4,
          8,
          6,
          13,
          13,
          9,
          7,
          7,
          3,
          4,
          3,
          4,
          4,
          8,
          7,
          8,
          8,
          7,
          4,
          6,
          7,
          8,
          6,
          6,
          7,
          8,
          6,
          8,
          15,
          15,
          8,
          7,
          10,
          12,
          4,
          4,
          4,
          4,
          6,
          5,
          4,
          4,
          5,
          5,
          6,
          7,
          7,
          5,
          5,
          4,
          4,
          4,
          9,
          8,
          8,
          6,
          10,
          6,
          5,
          4,
          3,
          2,
          5,
          5,
          5,
          4,
          3,
          2,
          3,
          19,
          5,
          20,
          20,
          16,
          3,
          8,
          11,
          5,
          4,
          3,
          5,
          4,
          3,
          5,
          5,
          5,
          5,
          4,
          3,
          4,
          4,
          3,
          3,
          10,
          4,
          3,
          5,
          6,
          5,
          4,
          3,
          8,
          4,
          5,
          4,
          4,
          4,
          4,
          4,
          4,
          9,
          4,
          4,
          4,
          9,
          14,
          9,
          6,
          6,
          8,
          8,
          8,
          7,
          2,
          2,
          1,
          8,
          8,
          8,
          6,
          6,
          5
         ],
         "xaxis": "x",
         "yaxis": "y"
        }
       ],
       "layout": {
        "annotations": [
         {
          "showarrow": false,
          "text": "median",
          "x": 5,
          "xanchor": "left",
          "xref": "x",
          "y": 1,
          "yanchor": "top",
          "yref": "y domain"
         }
        ],
        "barmode": "relative",
        "legend": {
         "tracegroupgap": 0
        },
        "shapes": [
         {
          "type": "line",
          "x0": 5,
          "x1": 5,
          "xref": "x",
          "y0": 0,
          "y1": 1,
          "yref": "y domain"
         }
        ],
        "template": {
         "data": {
          "bar": [
           {
            "error_x": {
             "color": "#f2f5fa"
            },
            "error_y": {
             "color": "#f2f5fa"
            },
            "marker": {
             "line": {
              "color": "rgb(17,17,17)",
              "width": 0.5
             }
            },
            "type": "bar"
           }
          ],
          "barpolar": [
           {
            "marker": {
             "line": {
              "color": "rgb(17,17,17)",
              "width": 0.5
             }
            },
            "type": "barpolar"
           }
          ],
          "carpet": [
           {
            "aaxis": {
             "endlinecolor": "#A2B1C6",
             "gridcolor": "#506784",
             "linecolor": "#506784",
             "minorgridcolor": "#506784",
             "startlinecolor": "#A2B1C6"
            },
            "baxis": {
             "endlinecolor": "#A2B1C6",
             "gridcolor": "#506784",
             "linecolor": "#506784",
             "minorgridcolor": "#506784",
             "startlinecolor": "#A2B1C6"
            },
            "type": "carpet"
           }
          ],
          "choropleth": [
           {
            "colorbar": {
             "outlinewidth": 0,
             "ticks": ""
            },
            "type": "choropleth"
           }
          ],
          "contour": [
           {
            "colorbar": {
             "outlinewidth": 0,
             "ticks": ""
            },
            "colorscale": [
             [
              0,
              "#0d0887"
             ],
             [
              0.1111111111111111,
              "#46039f"
             ],
             [
              0.2222222222222222,
              "#7201a8"
             ],
             [
              0.3333333333333333,
              "#9c179e"
             ],
             [
              0.4444444444444444,
              "#bd3786"
             ],
             [
              0.5555555555555556,
              "#d8576b"
             ],
             [
              0.6666666666666666,
              "#ed7953"
             ],
             [
              0.7777777777777778,
              "#fb9f3a"
             ],
             [
              0.8888888888888888,
              "#fdca26"
             ],
             [
              1,
              "#f0f921"
             ]
            ],
            "type": "contour"
           }
          ],
          "contourcarpet": [
           {
            "colorbar": {
             "outlinewidth": 0,
             "ticks": ""
            },
            "type": "contourcarpet"
           }
          ],
          "heatmap": [
           {
            "colorbar": {
             "outlinewidth": 0,
             "ticks": ""
            },
            "colorscale": [
             [
              0,
              "#0d0887"
             ],
             [
              0.1111111111111111,
              "#46039f"
             ],
             [
              0.2222222222222222,
              "#7201a8"
             ],
             [
              0.3333333333333333,
              "#9c179e"
             ],
             [
              0.4444444444444444,
              "#bd3786"
             ],
             [
              0.5555555555555556,
              "#d8576b"
             ],
             [
              0.6666666666666666,
              "#ed7953"
             ],
             [
              0.7777777777777778,
              "#fb9f3a"
             ],
             [
              0.8888888888888888,
              "#fdca26"
             ],
             [
              1,
              "#f0f921"
             ]
            ],
            "type": "heatmap"
           }
          ],
          "heatmapgl": [
           {
            "colorbar": {
             "outlinewidth": 0,
             "ticks": ""
            },
            "colorscale": [
             [
              0,
              "#0d0887"
             ],
             [
              0.1111111111111111,
              "#46039f"
             ],
             [
              0.2222222222222222,
              "#7201a8"
             ],
             [
              0.3333333333333333,
              "#9c179e"
             ],
             [
              0.4444444444444444,
              "#bd3786"
             ],
             [
              0.5555555555555556,
              "#d8576b"
             ],
             [
              0.6666666666666666,
              "#ed7953"
             ],
             [
              0.7777777777777778,
              "#fb9f3a"
             ],
             [
              0.8888888888888888,
              "#fdca26"
             ],
             [
              1,
              "#f0f921"
             ]
            ],
            "type": "heatmapgl"
           }
          ],
          "histogram": [
           {
            "marker": {
             "colorbar": {
              "outlinewidth": 0,
              "ticks": ""
             }
            },
            "type": "histogram"
           }
          ],
          "histogram2d": [
           {
            "colorbar": {
             "outlinewidth": 0,
             "ticks": ""
            },
            "colorscale": [
             [
              0,
              "#0d0887"
             ],
             [
              0.1111111111111111,
              "#46039f"
             ],
             [
              0.2222222222222222,
              "#7201a8"
             ],
             [
              0.3333333333333333,
              "#9c179e"
             ],
             [
              0.4444444444444444,
              "#bd3786"
             ],
             [
              0.5555555555555556,
              "#d8576b"
             ],
             [
              0.6666666666666666,
              "#ed7953"
             ],
             [
              0.7777777777777778,
              "#fb9f3a"
             ],
             [
              0.8888888888888888,
              "#fdca26"
             ],
             [
              1,
              "#f0f921"
             ]
            ],
            "type": "histogram2d"
           }
          ],
          "histogram2dcontour": [
           {
            "colorbar": {
             "outlinewidth": 0,
             "ticks": ""
            },
            "colorscale": [
             [
              0,
              "#0d0887"
             ],
             [
              0.1111111111111111,
              "#46039f"
             ],
             [
              0.2222222222222222,
              "#7201a8"
             ],
             [
              0.3333333333333333,
              "#9c179e"
             ],
             [
              0.4444444444444444,
              "#bd3786"
             ],
             [
              0.5555555555555556,
              "#d8576b"
             ],
             [
              0.6666666666666666,
              "#ed7953"
             ],
             [
              0.7777777777777778,
              "#fb9f3a"
             ],
             [
              0.8888888888888888,
              "#fdca26"
             ],
             [
              1,
              "#f0f921"
             ]
            ],
            "type": "histogram2dcontour"
           }
          ],
          "mesh3d": [
           {
            "colorbar": {
             "outlinewidth": 0,
             "ticks": ""
            },
            "type": "mesh3d"
           }
          ],
          "parcoords": [
           {
            "line": {
             "colorbar": {
              "outlinewidth": 0,
              "ticks": ""
             }
            },
            "type": "parcoords"
           }
          ],
          "pie": [
           {
            "automargin": true,
            "type": "pie"
           }
          ],
          "scatter": [
           {
            "marker": {
             "line": {
              "color": "#283442"
             }
            },
            "type": "scatter"
           }
          ],
          "scatter3d": [
           {
            "line": {
             "colorbar": {
              "outlinewidth": 0,
              "ticks": ""
             }
            },
            "marker": {
             "colorbar": {
              "outlinewidth": 0,
              "ticks": ""
             }
            },
            "type": "scatter3d"
           }
          ],
          "scattercarpet": [
           {
            "marker": {
             "colorbar": {
              "outlinewidth": 0,
              "ticks": ""
             }
            },
            "type": "scattercarpet"
           }
          ],
          "scattergeo": [
           {
            "marker": {
             "colorbar": {
              "outlinewidth": 0,
              "ticks": ""
             }
            },
            "type": "scattergeo"
           }
          ],
          "scattergl": [
           {
            "marker": {
             "line": {
              "color": "#283442"
             }
            },
            "type": "scattergl"
           }
          ],
          "scattermapbox": [
           {
            "marker": {
             "colorbar": {
              "outlinewidth": 0,
              "ticks": ""
             }
            },
            "type": "scattermapbox"
           }
          ],
          "scatterpolar": [
           {
            "marker": {
             "colorbar": {
              "outlinewidth": 0,
              "ticks": ""
             }
            },
            "type": "scatterpolar"
           }
          ],
          "scatterpolargl": [
           {
            "marker": {
             "colorbar": {
              "outlinewidth": 0,
              "ticks": ""
             }
            },
            "type": "scatterpolargl"
           }
          ],
          "scatterternary": [
           {
            "marker": {
             "colorbar": {
              "outlinewidth": 0,
              "ticks": ""
             }
            },
            "type": "scatterternary"
           }
          ],
          "surface": [
           {
            "colorbar": {
             "outlinewidth": 0,
             "ticks": ""
            },
            "colorscale": [
             [
              0,
              "#0d0887"
             ],
             [
              0.1111111111111111,
              "#46039f"
             ],
             [
              0.2222222222222222,
              "#7201a8"
             ],
             [
              0.3333333333333333,
              "#9c179e"
             ],
             [
              0.4444444444444444,
              "#bd3786"
             ],
             [
              0.5555555555555556,
              "#d8576b"
             ],
             [
              0.6666666666666666,
              "#ed7953"
             ],
             [
              0.7777777777777778,
              "#fb9f3a"
             ],
             [
              0.8888888888888888,
              "#fdca26"
             ],
             [
              1,
              "#f0f921"
             ]
            ],
            "type": "surface"
           }
          ],
          "table": [
           {
            "cells": {
             "fill": {
              "color": "#506784"
             },
             "line": {
              "color": "rgb(17,17,17)"
             }
            },
            "header": {
             "fill": {
              "color": "#2a3f5f"
             },
             "line": {
              "color": "rgb(17,17,17)"
             }
            },
            "type": "table"
           }
          ]
         },
         "layout": {
          "annotationdefaults": {
           "arrowcolor": "#f2f5fa",
           "arrowhead": 0,
           "arrowwidth": 1
          },
          "autotypenumbers": "strict",
          "coloraxis": {
           "colorbar": {
            "outlinewidth": 0,
            "ticks": ""
           }
          },
          "colorscale": {
           "diverging": [
            [
             0,
             "#8e0152"
            ],
            [
             0.1,
             "#c51b7d"
            ],
            [
             0.2,
             "#de77ae"
            ],
            [
             0.3,
             "#f1b6da"
            ],
            [
             0.4,
             "#fde0ef"
            ],
            [
             0.5,
             "#f7f7f7"
            ],
            [
             0.6,
             "#e6f5d0"
            ],
            [
             0.7,
             "#b8e186"
            ],
            [
             0.8,
             "#7fbc41"
            ],
            [
             0.9,
             "#4d9221"
            ],
            [
             1,
             "#276419"
            ]
           ],
           "sequential": [
            [
             0,
             "#0d0887"
            ],
            [
             0.1111111111111111,
             "#46039f"
            ],
            [
             0.2222222222222222,
             "#7201a8"
            ],
            [
             0.3333333333333333,
             "#9c179e"
            ],
            [
             0.4444444444444444,
             "#bd3786"
            ],
            [
             0.5555555555555556,
             "#d8576b"
            ],
            [
             0.6666666666666666,
             "#ed7953"
            ],
            [
             0.7777777777777778,
             "#fb9f3a"
            ],
            [
             0.8888888888888888,
             "#fdca26"
            ],
            [
             1,
             "#f0f921"
            ]
           ],
           "sequentialminus": [
            [
             0,
             "#0d0887"
            ],
            [
             0.1111111111111111,
             "#46039f"
            ],
            [
             0.2222222222222222,
             "#7201a8"
            ],
            [
             0.3333333333333333,
             "#9c179e"
            ],
            [
             0.4444444444444444,
             "#bd3786"
            ],
            [
             0.5555555555555556,
             "#d8576b"
            ],
            [
             0.6666666666666666,
             "#ed7953"
            ],
            [
             0.7777777777777778,
             "#fb9f3a"
            ],
            [
             0.8888888888888888,
             "#fdca26"
            ],
            [
             1,
             "#f0f921"
            ]
           ]
          },
          "colorway": [
           "#636efa",
           "#EF553B",
           "#00cc96",
           "#ab63fa",
           "#FFA15A",
           "#19d3f3",
           "#FF6692",
           "#B6E880",
           "#FF97FF",
           "#FECB52"
          ],
          "font": {
           "color": "#f2f5fa"
          },
          "geo": {
           "bgcolor": "rgb(17,17,17)",
           "lakecolor": "rgb(17,17,17)",
           "landcolor": "rgb(17,17,17)",
           "showlakes": true,
           "showland": true,
           "subunitcolor": "#506784"
          },
          "hoverlabel": {
           "align": "left"
          },
          "hovermode": "closest",
          "mapbox": {
           "style": "dark"
          },
          "paper_bgcolor": "rgb(17,17,17)",
          "plot_bgcolor": "rgb(17,17,17)",
          "polar": {
           "angularaxis": {
            "gridcolor": "#506784",
            "linecolor": "#506784",
            "ticks": ""
           },
           "bgcolor": "rgb(17,17,17)",
           "radialaxis": {
            "gridcolor": "#506784",
            "linecolor": "#506784",
            "ticks": ""
           }
          },
          "scene": {
           "xaxis": {
            "backgroundcolor": "rgb(17,17,17)",
            "gridcolor": "#506784",
            "gridwidth": 2,
            "linecolor": "#506784",
            "showbackground": true,
            "ticks": "",
            "zerolinecolor": "#C8D4E3"
           },
           "yaxis": {
            "backgroundcolor": "rgb(17,17,17)",
            "gridcolor": "#506784",
            "gridwidth": 2,
            "linecolor": "#506784",
            "showbackground": true,
            "ticks": "",
            "zerolinecolor": "#C8D4E3"
           },
           "zaxis": {
            "backgroundcolor": "rgb(17,17,17)",
            "gridcolor": "#506784",
            "gridwidth": 2,
            "linecolor": "#506784",
            "showbackground": true,
            "ticks": "",
            "zerolinecolor": "#C8D4E3"
           }
          },
          "shapedefaults": {
           "line": {
            "color": "#f2f5fa"
           }
          },
          "sliderdefaults": {
           "bgcolor": "#C8D4E3",
           "bordercolor": "rgb(17,17,17)",
           "borderwidth": 1,
           "tickwidth": 0
          },
          "ternary": {
           "aaxis": {
            "gridcolor": "#506784",
            "linecolor": "#506784",
            "ticks": ""
           },
           "baxis": {
            "gridcolor": "#506784",
            "linecolor": "#506784",
            "ticks": ""
           },
           "bgcolor": "rgb(17,17,17)",
           "caxis": {
            "gridcolor": "#506784",
            "linecolor": "#506784",
            "ticks": ""
           }
          },
          "title": {
           "x": 0.05
          },
          "updatemenudefaults": {
           "bgcolor": "#506784",
           "borderwidth": 0
          },
          "xaxis": {
           "automargin": true,
           "gridcolor": "#283442",
           "linecolor": "#506784",
           "ticks": "",
           "title": {
            "standoff": 15
           },
           "zerolinecolor": "#283442",
           "zerolinewidth": 2
          },
          "yaxis": {
           "automargin": true,
           "gridcolor": "#283442",
           "linecolor": "#506784",
           "ticks": "",
           "title": {
            "standoff": 15
           },
           "zerolinecolor": "#283442",
           "zerolinewidth": 2
          }
         }
        },
        "title": {
         "text": "Reporting delay (reporting time minus exposure time)"
        },
        "width": 580,
        "xaxis": {
         "anchor": "y",
         "domain": [
          0,
          1
         ],
         "title": {
          "text": "Delay between exposure and report"
         }
        },
        "yaxis": {
         "anchor": "x",
         "domain": [
          0,
          1
         ],
         "title": {
          "text": "Number of exposure sites"
         }
        }
       }
      },
      "text/html": [
       "<div>                            <div id=\"5c725766-ed2e-4b60-b3f2-8956ed26b77f\" class=\"plotly-graph-div\" style=\"height:525px; width:580px;\"></div>            <script type=\"text/javascript\">                require([\"plotly\"], function(Plotly) {                    window.PLOTLYENV=window.PLOTLYENV || {};                                    if (document.getElementById(\"5c725766-ed2e-4b60-b3f2-8956ed26b77f\")) {                    Plotly.newPlot(                        \"5c725766-ed2e-4b60-b3f2-8956ed26b77f\",                        [{\"alignmentgroup\": \"True\", \"bingroup\": \"x\", \"hovertemplate\": \"date_delay=%{x}<br>count=%{y}<extra></extra>\", \"legendgroup\": \"\", \"marker\": {\"color\": \"rgb(55,126,184)\"}, \"name\": \"\", \"offsetgroup\": \"\", \"orientation\": \"v\", \"showlegend\": false, \"type\": \"histogram\", \"x\": [2, 3, 3, 4, 1, 3, 5, 2, 4, 4, 1, 1, 6, 6, 2, 2, 7, 5, 6, 1, 6, 2, 4, 5, 6, 6, 6, 12, 4, 4, 4, 4, 4, 4, 3, 5, 2, 2, 5, 4, 4, 3, 1, 1, 3, 0, 0, 3, 3, 3, 8, 4, 4, 8, 6, 5, 4, 3, 2, 1, 4, 4, 3, 3, 3, 2, 3, 5, 2, 5, 3, 4, 5, 4, 3, 5, 3, 4, 5, 6, 3, 4, 13, 13, 13, 3, 3, 3, 3, 3, 4, 5, 7, 6, 3, 2, 4, 5, 5, 3, 5, 5, 5, 6, 5, 4, 4, 4, 4, 2, 3, 3, 4, 2, 2, 14, 3, 2, 5, 3, 4, 3, 4, 5, 6, 6, 6, 3, 4, 5, 5, 5, 6, 4, 3, 2, 6, 5, 3, 2, 1, 10, 10, 10, 10, 3, 9, 9, 9, 9, 9, 9, 4, 6, 8, 7, 6, 4, 4, 5, 7, 7, 4, 5, 4, 6, 2, 2, 2, 1, 3, 3, 3, 3, 3, 9, 4, 8, 4, 6, 11, 5, 7, 5, 5, 11, 5, 4, 3, 13, 12, 8, 5, 5, 5, 8, 8, 8, 8, 8, 11, 8, 12, 5, 4, 6, 13, 12, 10, 9, 6, 5, 4, 3, 2, 18, 17, 10, 4, 4, 4, 3, 6, 11, 8, 4, 8, 6, 13, 13, 9, 7, 7, 3, 4, 3, 4, 4, 8, 7, 8, 8, 7, 4, 6, 7, 8, 6, 6, 7, 8, 6, 8, 15, 15, 8, 7, 10, 12, 4, 4, 4, 4, 6, 5, 4, 4, 5, 5, 6, 7, 7, 5, 5, 4, 4, 4, 9, 8, 8, 6, 10, 6, 5, 4, 3, 2, 5, 5, 5, 4, 3, 2, 3, 19, 5, 20, 20, 16, 3, 8, 11, 5, 4, 3, 5, 4, 3, 5, 5, 5, 5, 4, 3, 4, 4, 3, 3, 10, 4, 3, 5, 6, 5, 4, 3, 8, 4, 5, 4, 4, 4, 4, 4, 4, 9, 4, 4, 4, 9, 14, 9, 6, 6, 8, 8, 8, 7, 2, 2, 1, 8, 8, 8, 6, 6, 5], \"xaxis\": \"x\", \"yaxis\": \"y\"}],                        {\"annotations\": [{\"showarrow\": false, \"text\": \"median\", \"x\": 5.0, \"xanchor\": \"left\", \"xref\": \"x\", \"y\": 1, \"yanchor\": \"top\", \"yref\": \"y domain\"}], \"barmode\": \"relative\", \"legend\": {\"tracegroupgap\": 0}, \"shapes\": [{\"type\": \"line\", \"x0\": 5.0, \"x1\": 5.0, \"xref\": \"x\", \"y0\": 0, \"y1\": 1, \"yref\": \"y domain\"}], \"template\": {\"data\": {\"bar\": [{\"error_x\": {\"color\": \"#f2f5fa\"}, \"error_y\": {\"color\": \"#f2f5fa\"}, \"marker\": {\"line\": {\"color\": \"rgb(17,17,17)\", \"width\": 0.5}}, \"type\": \"bar\"}], \"barpolar\": [{\"marker\": {\"line\": {\"color\": \"rgb(17,17,17)\", \"width\": 0.5}}, \"type\": \"barpolar\"}], \"carpet\": [{\"aaxis\": {\"endlinecolor\": \"#A2B1C6\", \"gridcolor\": \"#506784\", \"linecolor\": \"#506784\", \"minorgridcolor\": \"#506784\", \"startlinecolor\": \"#A2B1C6\"}, \"baxis\": {\"endlinecolor\": \"#A2B1C6\", \"gridcolor\": \"#506784\", \"linecolor\": \"#506784\", \"minorgridcolor\": \"#506784\", \"startlinecolor\": \"#A2B1C6\"}, \"type\": \"carpet\"}], \"choropleth\": [{\"colorbar\": {\"outlinewidth\": 0, \"ticks\": \"\"}, \"type\": \"choropleth\"}], \"contour\": [{\"colorbar\": {\"outlinewidth\": 0, \"ticks\": \"\"}, \"colorscale\": [[0.0, \"#0d0887\"], [0.1111111111111111, \"#46039f\"], [0.2222222222222222, \"#7201a8\"], [0.3333333333333333, \"#9c179e\"], [0.4444444444444444, \"#bd3786\"], [0.5555555555555556, \"#d8576b\"], [0.6666666666666666, \"#ed7953\"], [0.7777777777777778, \"#fb9f3a\"], [0.8888888888888888, \"#fdca26\"], [1.0, \"#f0f921\"]], \"type\": \"contour\"}], \"contourcarpet\": [{\"colorbar\": {\"outlinewidth\": 0, \"ticks\": \"\"}, \"type\": \"contourcarpet\"}], \"heatmap\": [{\"colorbar\": {\"outlinewidth\": 0, \"ticks\": \"\"}, \"colorscale\": [[0.0, \"#0d0887\"], [0.1111111111111111, \"#46039f\"], [0.2222222222222222, \"#7201a8\"], [0.3333333333333333, \"#9c179e\"], [0.4444444444444444, \"#bd3786\"], [0.5555555555555556, \"#d8576b\"], [0.6666666666666666, \"#ed7953\"], [0.7777777777777778, \"#fb9f3a\"], [0.8888888888888888, \"#fdca26\"], [1.0, \"#f0f921\"]], \"type\": \"heatmap\"}], \"heatmapgl\": [{\"colorbar\": {\"outlinewidth\": 0, \"ticks\": \"\"}, \"colorscale\": [[0.0, \"#0d0887\"], [0.1111111111111111, \"#46039f\"], [0.2222222222222222, \"#7201a8\"], [0.3333333333333333, \"#9c179e\"], [0.4444444444444444, \"#bd3786\"], [0.5555555555555556, \"#d8576b\"], [0.6666666666666666, \"#ed7953\"], [0.7777777777777778, \"#fb9f3a\"], [0.8888888888888888, \"#fdca26\"], [1.0, \"#f0f921\"]], \"type\": \"heatmapgl\"}], \"histogram\": [{\"marker\": {\"colorbar\": {\"outlinewidth\": 0, \"ticks\": \"\"}}, \"type\": \"histogram\"}], \"histogram2d\": [{\"colorbar\": {\"outlinewidth\": 0, \"ticks\": \"\"}, \"colorscale\": [[0.0, \"#0d0887\"], [0.1111111111111111, \"#46039f\"], [0.2222222222222222, \"#7201a8\"], [0.3333333333333333, \"#9c179e\"], [0.4444444444444444, \"#bd3786\"], [0.5555555555555556, \"#d8576b\"], [0.6666666666666666, \"#ed7953\"], [0.7777777777777778, \"#fb9f3a\"], [0.8888888888888888, \"#fdca26\"], [1.0, \"#f0f921\"]], \"type\": \"histogram2d\"}], \"histogram2dcontour\": [{\"colorbar\": {\"outlinewidth\": 0, \"ticks\": \"\"}, \"colorscale\": [[0.0, \"#0d0887\"], [0.1111111111111111, \"#46039f\"], [0.2222222222222222, \"#7201a8\"], [0.3333333333333333, \"#9c179e\"], [0.4444444444444444, \"#bd3786\"], [0.5555555555555556, \"#d8576b\"], [0.6666666666666666, \"#ed7953\"], [0.7777777777777778, \"#fb9f3a\"], [0.8888888888888888, \"#fdca26\"], [1.0, \"#f0f921\"]], \"type\": \"histogram2dcontour\"}], \"mesh3d\": [{\"colorbar\": {\"outlinewidth\": 0, \"ticks\": \"\"}, \"type\": \"mesh3d\"}], \"parcoords\": [{\"line\": {\"colorbar\": {\"outlinewidth\": 0, \"ticks\": \"\"}}, \"type\": \"parcoords\"}], \"pie\": [{\"automargin\": true, \"type\": \"pie\"}], \"scatter\": [{\"marker\": {\"line\": {\"color\": \"#283442\"}}, \"type\": \"scatter\"}], \"scatter3d\": [{\"line\": {\"colorbar\": {\"outlinewidth\": 0, \"ticks\": \"\"}}, \"marker\": {\"colorbar\": {\"outlinewidth\": 0, \"ticks\": \"\"}}, \"type\": \"scatter3d\"}], \"scattercarpet\": [{\"marker\": {\"colorbar\": {\"outlinewidth\": 0, \"ticks\": \"\"}}, \"type\": \"scattercarpet\"}], \"scattergeo\": [{\"marker\": {\"colorbar\": {\"outlinewidth\": 0, \"ticks\": \"\"}}, \"type\": \"scattergeo\"}], \"scattergl\": [{\"marker\": {\"line\": {\"color\": \"#283442\"}}, \"type\": \"scattergl\"}], \"scattermapbox\": [{\"marker\": {\"colorbar\": {\"outlinewidth\": 0, \"ticks\": \"\"}}, \"type\": \"scattermapbox\"}], \"scatterpolar\": [{\"marker\": {\"colorbar\": {\"outlinewidth\": 0, \"ticks\": \"\"}}, \"type\": \"scatterpolar\"}], \"scatterpolargl\": [{\"marker\": {\"colorbar\": {\"outlinewidth\": 0, \"ticks\": \"\"}}, \"type\": \"scatterpolargl\"}], \"scatterternary\": [{\"marker\": {\"colorbar\": {\"outlinewidth\": 0, \"ticks\": \"\"}}, \"type\": \"scatterternary\"}], \"surface\": [{\"colorbar\": {\"outlinewidth\": 0, \"ticks\": \"\"}, \"colorscale\": [[0.0, \"#0d0887\"], [0.1111111111111111, \"#46039f\"], [0.2222222222222222, \"#7201a8\"], [0.3333333333333333, \"#9c179e\"], [0.4444444444444444, \"#bd3786\"], [0.5555555555555556, \"#d8576b\"], [0.6666666666666666, \"#ed7953\"], [0.7777777777777778, \"#fb9f3a\"], [0.8888888888888888, \"#fdca26\"], [1.0, \"#f0f921\"]], \"type\": \"surface\"}], \"table\": [{\"cells\": {\"fill\": {\"color\": \"#506784\"}, \"line\": {\"color\": \"rgb(17,17,17)\"}}, \"header\": {\"fill\": {\"color\": \"#2a3f5f\"}, \"line\": {\"color\": \"rgb(17,17,17)\"}}, \"type\": \"table\"}]}, \"layout\": {\"annotationdefaults\": {\"arrowcolor\": \"#f2f5fa\", \"arrowhead\": 0, \"arrowwidth\": 1}, \"autotypenumbers\": \"strict\", \"coloraxis\": {\"colorbar\": {\"outlinewidth\": 0, \"ticks\": \"\"}}, \"colorscale\": {\"diverging\": [[0, \"#8e0152\"], [0.1, \"#c51b7d\"], [0.2, \"#de77ae\"], [0.3, \"#f1b6da\"], [0.4, \"#fde0ef\"], [0.5, \"#f7f7f7\"], [0.6, \"#e6f5d0\"], [0.7, \"#b8e186\"], [0.8, \"#7fbc41\"], [0.9, \"#4d9221\"], [1, \"#276419\"]], \"sequential\": [[0.0, \"#0d0887\"], [0.1111111111111111, \"#46039f\"], [0.2222222222222222, \"#7201a8\"], [0.3333333333333333, \"#9c179e\"], [0.4444444444444444, \"#bd3786\"], [0.5555555555555556, \"#d8576b\"], [0.6666666666666666, \"#ed7953\"], [0.7777777777777778, \"#fb9f3a\"], [0.8888888888888888, \"#fdca26\"], [1.0, \"#f0f921\"]], \"sequentialminus\": [[0.0, \"#0d0887\"], [0.1111111111111111, \"#46039f\"], [0.2222222222222222, \"#7201a8\"], [0.3333333333333333, \"#9c179e\"], [0.4444444444444444, \"#bd3786\"], [0.5555555555555556, \"#d8576b\"], [0.6666666666666666, \"#ed7953\"], [0.7777777777777778, \"#fb9f3a\"], [0.8888888888888888, \"#fdca26\"], [1.0, \"#f0f921\"]]}, \"colorway\": [\"#636efa\", \"#EF553B\", \"#00cc96\", \"#ab63fa\", \"#FFA15A\", \"#19d3f3\", \"#FF6692\", \"#B6E880\", \"#FF97FF\", \"#FECB52\"], \"font\": {\"color\": \"#f2f5fa\"}, \"geo\": {\"bgcolor\": \"rgb(17,17,17)\", \"lakecolor\": \"rgb(17,17,17)\", \"landcolor\": \"rgb(17,17,17)\", \"showlakes\": true, \"showland\": true, \"subunitcolor\": \"#506784\"}, \"hoverlabel\": {\"align\": \"left\"}, \"hovermode\": \"closest\", \"mapbox\": {\"style\": \"dark\"}, \"paper_bgcolor\": \"rgb(17,17,17)\", \"plot_bgcolor\": \"rgb(17,17,17)\", \"polar\": {\"angularaxis\": {\"gridcolor\": \"#506784\", \"linecolor\": \"#506784\", \"ticks\": \"\"}, \"bgcolor\": \"rgb(17,17,17)\", \"radialaxis\": {\"gridcolor\": \"#506784\", \"linecolor\": \"#506784\", \"ticks\": \"\"}}, \"scene\": {\"xaxis\": {\"backgroundcolor\": \"rgb(17,17,17)\", \"gridcolor\": \"#506784\", \"gridwidth\": 2, \"linecolor\": \"#506784\", \"showbackground\": true, \"ticks\": \"\", \"zerolinecolor\": \"#C8D4E3\"}, \"yaxis\": {\"backgroundcolor\": \"rgb(17,17,17)\", \"gridcolor\": \"#506784\", \"gridwidth\": 2, \"linecolor\": \"#506784\", \"showbackground\": true, \"ticks\": \"\", \"zerolinecolor\": \"#C8D4E3\"}, \"zaxis\": {\"backgroundcolor\": \"rgb(17,17,17)\", \"gridcolor\": \"#506784\", \"gridwidth\": 2, \"linecolor\": \"#506784\", \"showbackground\": true, \"ticks\": \"\", \"zerolinecolor\": \"#C8D4E3\"}}, \"shapedefaults\": {\"line\": {\"color\": \"#f2f5fa\"}}, \"sliderdefaults\": {\"bgcolor\": \"#C8D4E3\", \"bordercolor\": \"rgb(17,17,17)\", \"borderwidth\": 1, \"tickwidth\": 0}, \"ternary\": {\"aaxis\": {\"gridcolor\": \"#506784\", \"linecolor\": \"#506784\", \"ticks\": \"\"}, \"baxis\": {\"gridcolor\": \"#506784\", \"linecolor\": \"#506784\", \"ticks\": \"\"}, \"bgcolor\": \"rgb(17,17,17)\", \"caxis\": {\"gridcolor\": \"#506784\", \"linecolor\": \"#506784\", \"ticks\": \"\"}}, \"title\": {\"x\": 0.05}, \"updatemenudefaults\": {\"bgcolor\": \"#506784\", \"borderwidth\": 0}, \"xaxis\": {\"automargin\": true, \"gridcolor\": \"#283442\", \"linecolor\": \"#506784\", \"ticks\": \"\", \"title\": {\"standoff\": 15}, \"zerolinecolor\": \"#283442\", \"zerolinewidth\": 2}, \"yaxis\": {\"automargin\": true, \"gridcolor\": \"#283442\", \"linecolor\": \"#506784\", \"ticks\": \"\", \"title\": {\"standoff\": 15}, \"zerolinecolor\": \"#283442\", \"zerolinewidth\": 2}}}, \"title\": {\"text\": \"Reporting delay (reporting time minus exposure time)\"}, \"width\": 580, \"xaxis\": {\"anchor\": \"y\", \"domain\": [0.0, 1.0], \"title\": {\"text\": \"Delay between exposure and report\"}}, \"yaxis\": {\"anchor\": \"x\", \"domain\": [0.0, 1.0], \"title\": {\"text\": \"Number of exposure sites\"}}},                        {\"responsive\": true}                    ).then(function(){\n",
       "                            \n",
       "var gd = document.getElementById('5c725766-ed2e-4b60-b3f2-8956ed26b77f');\n",
       "var x = new MutationObserver(function (mutations, observer) {{\n",
       "        var display = window.getComputedStyle(gd).display;\n",
       "        if (!display || display === 'none') {{\n",
       "            console.log([gd, 'removed!']);\n",
       "            Plotly.purge(gd);\n",
       "            observer.disconnect();\n",
       "        }}\n",
       "}});\n",
       "\n",
       "// Listen for the removal of the full notebook cells\n",
       "var notebookContainer = gd.closest('#notebook-container');\n",
       "if (notebookContainer) {{\n",
       "    x.observe(notebookContainer, {childList: true});\n",
       "}}\n",
       "\n",
       "// Listen for the clearing of the current output cell\n",
       "var outputEl = gd.closest('.output');\n",
       "if (outputEl) {{\n",
       "    x.observe(outputEl, {childList: true});\n",
       "}}\n",
       "\n",
       "                        })                };                });            </script>        </div>"
      ]
     },
     "metadata": {},
     "output_type": "display_data"
    }
   ],
   "source": [
    "df_official.Added_date_dtm = pd.to_datetime(df_official.Added_date_dtm, dayfirst=True)\n",
    "df_official.Exposure_date_dtm = pd.to_datetime(df_official.Exposure_date_dtm, dayfirst=True)\n",
    "df_official['date_delay'] = df_official.Added_date_dtm - df_official.Exposure_date_dtm\n",
    "df_official.date_delay = df_official.date_delay.dt.days\n",
    "\n",
    "fig_delay = px.histogram(df_official, x='date_delay', template='plotly_dark',\n",
    "                         color_discrete_sequence=[px.colors.qualitative.Set1[1]],\n",
    "                         title='Reporting delay (reporting time minus exposure time)')\n",
    "fig_delay.add_vline(x = df_official.date_delay.describe()['50%'], annotation_text='median')\n",
    "fig_delay.update_layout(width=width, \n",
    "                       xaxis_title = \"Delay between exposure and report\", \n",
    "                       yaxis_title = \"Number of exposure sites\")"
   ]
  },
  {
   "cell_type": "code",
   "execution_count": 66,
   "metadata": {
    "scrolled": false
   },
   "outputs": [
    {
     "data": {
      "application/vnd.plotly.v1+json": {
       "config": {
        "plotlyServerURL": "https://plot.ly"
       },
       "data": [
        {
         "coloraxis": "coloraxis",
         "hovertemplate": "Exposure_date_dtm=%{x}<br>Added_date_dtm=%{y}<br>count=%{z}<extra></extra>",
         "name": "",
         "nbinsx": 23,
         "nbinsy": 23,
         "type": "histogram2d",
         "x": [
          "2021-05-24T00:00:00",
          "2021-05-23T00:00:00",
          "2021-05-23T00:00:00",
          "2021-05-22T00:00:00",
          "2021-05-23T00:00:00",
          "2021-05-21T00:00:00",
          "2021-05-21T00:00:00",
          "2021-05-22T00:00:00",
          "2021-05-22T00:00:00",
          "2021-05-22T00:00:00",
          "2021-05-23T00:00:00",
          "2021-05-23T00:00:00",
          "2021-05-19T00:00:00",
          "2021-05-20T00:00:00",
          "2021-05-22T00:00:00",
          "2021-05-22T00:00:00",
          "2021-05-17T00:00:00",
          "2021-05-19T00:00:00",
          "2021-05-18T00:00:00",
          "2021-05-23T00:00:00",
          "2021-05-20T00:00:00",
          "2021-05-22T00:00:00",
          "2021-05-22T00:00:00",
          "2021-05-20T00:00:00",
          "2021-05-19T00:00:00",
          "2021-05-19T00:00:00",
          "2021-05-19T00:00:00",
          "2021-05-19T00:00:00",
          "2021-05-20T00:00:00",
          "2021-05-20T00:00:00",
          "2021-05-20T00:00:00",
          "2021-05-20T00:00:00",
          "2021-05-20T00:00:00",
          "2021-05-20T00:00:00",
          "2021-05-21T00:00:00",
          "2021-05-20T00:00:00",
          "2021-05-24T00:00:00",
          "2021-05-24T00:00:00",
          "2021-05-21T00:00:00",
          "2021-05-22T00:00:00",
          "2021-05-22T00:00:00",
          "2021-05-23T00:00:00",
          "2021-05-23T00:00:00",
          "2021-05-23T00:00:00",
          "2021-05-21T00:00:00",
          "2021-05-22T00:00:00",
          "2021-05-18T00:00:00",
          "2021-05-23T00:00:00",
          "2021-05-23T00:00:00",
          "2021-05-23T00:00:00",
          "2021-05-17T00:00:00",
          "2021-05-20T00:00:00",
          "2021-05-22T00:00:00",
          "2021-05-18T00:00:00",
          "2021-05-20T00:00:00",
          "2021-05-21T00:00:00",
          "2021-05-22T00:00:00",
          "2021-05-23T00:00:00",
          "2021-05-24T00:00:00",
          "2021-05-25T00:00:00",
          "2021-05-22T00:00:00",
          "2021-05-22T00:00:00",
          "2021-05-23T00:00:00",
          "2021-05-23T00:00:00",
          "2021-05-23T00:00:00",
          "2021-05-24T00:00:00",
          "2021-05-23T00:00:00",
          "2021-05-21T00:00:00",
          "2021-05-24T00:00:00",
          "2021-05-21T00:00:00",
          "2021-05-23T00:00:00",
          "2021-05-22T00:00:00",
          "2021-05-22T00:00:00",
          "2021-05-22T00:00:00",
          "2021-05-23T00:00:00",
          "2021-05-21T00:00:00",
          "2021-05-23T00:00:00",
          "2021-05-22T00:00:00",
          "2021-05-21T00:00:00",
          "2021-05-20T00:00:00",
          "2021-05-23T00:00:00",
          "2021-05-23T00:00:00",
          "2021-05-14T00:00:00",
          "2021-05-14T00:00:00",
          "2021-05-14T00:00:00",
          "2021-05-24T00:00:00",
          "2021-05-24T00:00:00",
          "2021-05-24T00:00:00",
          "2021-05-24T00:00:00",
          "2021-05-24T00:00:00",
          "2021-05-23T00:00:00",
          "2021-05-22T00:00:00",
          "2021-05-20T00:00:00",
          "2021-05-21T00:00:00",
          "2021-05-24T00:00:00",
          "2021-05-25T00:00:00",
          "2021-05-23T00:00:00",
          "2021-05-22T00:00:00",
          "2021-05-22T00:00:00",
          "2021-05-24T00:00:00",
          "2021-05-22T00:00:00",
          "2021-05-22T00:00:00",
          "2021-05-22T00:00:00",
          "2021-05-21T00:00:00",
          "2021-05-22T00:00:00",
          "2021-05-23T00:00:00",
          "2021-05-23T00:00:00",
          "2021-05-23T00:00:00",
          "2021-05-23T00:00:00",
          "2021-05-25T00:00:00",
          "2021-05-24T00:00:00",
          "2021-05-24T00:00:00",
          "2021-05-23T00:00:00",
          "2021-05-25T00:00:00",
          "2021-05-25T00:00:00",
          "2021-05-13T00:00:00",
          "2021-05-24T00:00:00",
          "2021-05-25T00:00:00",
          "2021-05-23T00:00:00",
          "2021-05-25T00:00:00",
          "2021-05-24T00:00:00",
          "2021-05-25T00:00:00",
          "2021-05-24T00:00:00",
          "2021-05-23T00:00:00",
          "2021-05-22T00:00:00",
          "2021-05-22T00:00:00",
          "2021-05-22T00:00:00",
          "2021-05-25T00:00:00",
          "2021-05-24T00:00:00",
          "2021-05-23T00:00:00",
          "2021-05-23T00:00:00",
          "2021-05-23T00:00:00",
          "2021-05-22T00:00:00",
          "2021-05-24T00:00:00",
          "2021-05-25T00:00:00",
          "2021-05-26T00:00:00",
          "2021-05-22T00:00:00",
          "2021-05-23T00:00:00",
          "2021-05-25T00:00:00",
          "2021-05-26T00:00:00",
          "2021-05-27T00:00:00",
          "2021-05-18T00:00:00",
          "2021-05-18T00:00:00",
          "2021-05-18T00:00:00",
          "2021-05-18T00:00:00",
          "2021-05-25T00:00:00",
          "2021-05-19T00:00:00",
          "2021-05-19T00:00:00",
          "2021-05-19T00:00:00",
          "2021-05-19T00:00:00",
          "2021-05-19T00:00:00",
          "2021-05-19T00:00:00",
          "2021-05-25T00:00:00",
          "2021-05-23T00:00:00",
          "2021-05-21T00:00:00",
          "2021-05-22T00:00:00",
          "2021-05-23T00:00:00",
          "2021-05-25T00:00:00",
          "2021-05-25T00:00:00",
          "2021-05-24T00:00:00",
          "2021-05-22T00:00:00",
          "2021-05-22T00:00:00",
          "2021-05-25T00:00:00",
          "2021-05-24T00:00:00",
          "2021-05-25T00:00:00",
          "2021-05-23T00:00:00",
          "2021-05-27T00:00:00",
          "2021-05-27T00:00:00",
          "2021-05-27T00:00:00",
          "2021-05-28T00:00:00",
          "2021-05-26T00:00:00",
          "2021-05-26T00:00:00",
          "2021-05-26T00:00:00",
          "2021-05-26T00:00:00",
          "2021-05-26T00:00:00",
          "2021-05-21T00:00:00",
          "2021-05-26T00:00:00",
          "2021-05-22T00:00:00",
          "2021-05-26T00:00:00",
          "2021-05-24T00:00:00",
          "2021-05-19T00:00:00",
          "2021-05-25T00:00:00",
          "2021-05-23T00:00:00",
          "2021-05-25T00:00:00",
          "2021-05-25T00:00:00",
          "2021-05-19T00:00:00",
          "2021-05-25T00:00:00",
          "2021-05-26T00:00:00",
          "2021-05-27T00:00:00",
          "2021-05-17T00:00:00",
          "2021-05-18T00:00:00",
          "2021-05-22T00:00:00",
          "2021-05-25T00:00:00",
          "2021-05-25T00:00:00",
          "2021-05-25T00:00:00",
          "2021-05-22T00:00:00",
          "2021-05-22T00:00:00",
          "2021-05-22T00:00:00",
          "2021-05-22T00:00:00",
          "2021-05-22T00:00:00",
          "2021-05-19T00:00:00",
          "2021-05-22T00:00:00",
          "2021-05-18T00:00:00",
          "2021-05-25T00:00:00",
          "2021-05-26T00:00:00",
          "2021-05-24T00:00:00",
          "2021-05-17T00:00:00",
          "2021-05-18T00:00:00",
          "2021-05-20T00:00:00",
          "2021-05-21T00:00:00",
          "2021-05-24T00:00:00",
          "2021-05-25T00:00:00",
          "2021-05-26T00:00:00",
          "2021-05-27T00:00:00",
          "2021-05-28T00:00:00",
          "2021-05-12T00:00:00",
          "2021-05-13T00:00:00",
          "2021-05-20T00:00:00",
          "2021-05-26T00:00:00",
          "2021-05-26T00:00:00",
          "2021-05-26T00:00:00",
          "2021-05-27T00:00:00",
          "2021-05-24T00:00:00",
          "2021-05-19T00:00:00",
          "2021-05-22T00:00:00",
          "2021-05-26T00:00:00",
          "2021-05-22T00:00:00",
          "2021-05-24T00:00:00",
          "2021-05-17T00:00:00",
          "2021-05-17T00:00:00",
          "2021-05-21T00:00:00",
          "2021-05-23T00:00:00",
          "2021-05-23T00:00:00",
          "2021-05-27T00:00:00",
          "2021-05-26T00:00:00",
          "2021-05-27T00:00:00",
          "2021-05-26T00:00:00",
          "2021-05-26T00:00:00",
          "2021-05-22T00:00:00",
          "2021-05-23T00:00:00",
          "2021-05-22T00:00:00",
          "2021-05-22T00:00:00",
          "2021-05-23T00:00:00",
          "2021-05-26T00:00:00",
          "2021-05-24T00:00:00",
          "2021-05-23T00:00:00",
          "2021-05-22T00:00:00",
          "2021-05-24T00:00:00",
          "2021-05-24T00:00:00",
          "2021-05-23T00:00:00",
          "2021-05-22T00:00:00",
          "2021-05-24T00:00:00",
          "2021-05-22T00:00:00",
          "2021-05-15T00:00:00",
          "2021-05-15T00:00:00",
          "2021-05-22T00:00:00",
          "2021-05-23T00:00:00",
          "2021-05-20T00:00:00",
          "2021-05-18T00:00:00",
          "2021-05-26T00:00:00",
          "2021-05-26T00:00:00",
          "2021-05-26T00:00:00",
          "2021-05-26T00:00:00",
          "2021-05-24T00:00:00",
          "2021-05-25T00:00:00",
          "2021-05-26T00:00:00",
          "2021-05-26T00:00:00",
          "2021-05-25T00:00:00",
          "2021-05-25T00:00:00",
          "2021-05-24T00:00:00",
          "2021-05-23T00:00:00",
          "2021-05-23T00:00:00",
          "2021-05-26T00:00:00",
          "2021-05-26T00:00:00",
          "2021-05-27T00:00:00",
          "2021-05-27T00:00:00",
          "2021-05-27T00:00:00",
          "2021-05-22T00:00:00",
          "2021-05-23T00:00:00",
          "2021-05-23T00:00:00",
          "2021-05-25T00:00:00",
          "2021-05-21T00:00:00",
          "2021-05-25T00:00:00",
          "2021-05-26T00:00:00",
          "2021-05-27T00:00:00",
          "2021-05-28T00:00:00",
          "2021-05-29T00:00:00",
          "2021-05-26T00:00:00",
          "2021-05-26T00:00:00",
          "2021-05-26T00:00:00",
          "2021-05-27T00:00:00",
          "2021-05-28T00:00:00",
          "2021-05-29T00:00:00",
          "2021-05-28T00:00:00",
          "2021-05-12T00:00:00",
          "2021-05-26T00:00:00",
          "2021-05-11T00:00:00",
          "2021-05-11T00:00:00",
          "2021-05-15T00:00:00",
          "2021-05-28T00:00:00",
          "2021-05-23T00:00:00",
          "2021-05-20T00:00:00",
          "2021-05-26T00:00:00",
          "2021-05-27T00:00:00",
          "2021-05-28T00:00:00",
          "2021-05-26T00:00:00",
          "2021-05-27T00:00:00",
          "2021-05-28T00:00:00",
          "2021-05-26T00:00:00",
          "2021-05-26T00:00:00",
          "2021-05-26T00:00:00",
          "2021-05-26T00:00:00",
          "2021-05-27T00:00:00",
          "2021-05-28T00:00:00",
          "2021-05-27T00:00:00",
          "2021-05-27T00:00:00",
          "2021-05-28T00:00:00",
          "2021-05-28T00:00:00",
          "2021-05-21T00:00:00",
          "2021-05-27T00:00:00",
          "2021-05-28T00:00:00",
          "2021-05-26T00:00:00",
          "2021-05-25T00:00:00",
          "2021-05-26T00:00:00",
          "2021-05-27T00:00:00",
          "2021-05-28T00:00:00",
          "2021-05-23T00:00:00",
          "2021-05-27T00:00:00",
          "2021-05-26T00:00:00",
          "2021-05-27T00:00:00",
          "2021-05-27T00:00:00",
          "2021-05-27T00:00:00",
          "2021-05-27T00:00:00",
          "2021-05-27T00:00:00",
          "2021-05-27T00:00:00",
          "2021-05-23T00:00:00",
          "2021-05-28T00:00:00",
          "2021-05-28T00:00:00",
          "2021-05-28T00:00:00",
          "2021-05-23T00:00:00",
          "2021-05-18T00:00:00",
          "2021-05-23T00:00:00",
          "2021-05-26T00:00:00",
          "2021-05-26T00:00:00",
          "2021-05-24T00:00:00",
          "2021-05-24T00:00:00",
          "2021-05-24T00:00:00",
          "2021-05-25T00:00:00",
          "2021-05-30T00:00:00",
          "2021-05-30T00:00:00",
          "2021-05-31T00:00:00",
          "2021-05-25T00:00:00",
          "2021-05-25T00:00:00",
          "2021-05-25T00:00:00",
          "2021-05-27T00:00:00",
          "2021-05-27T00:00:00",
          "2021-05-28T00:00:00"
         ],
         "xaxis": "x",
         "xbingroup": "x",
         "y": [
          "2021-05-26T00:00:00",
          "2021-05-26T00:00:00",
          "2021-05-26T00:00:00",
          "2021-05-26T00:00:00",
          "2021-05-24T00:00:00",
          "2021-05-24T00:00:00",
          "2021-05-26T00:00:00",
          "2021-05-24T00:00:00",
          "2021-05-26T00:00:00",
          "2021-05-26T00:00:00",
          "2021-05-24T00:00:00",
          "2021-05-24T00:00:00",
          "2021-05-25T00:00:00",
          "2021-05-26T00:00:00",
          "2021-05-24T00:00:00",
          "2021-05-24T00:00:00",
          "2021-05-24T00:00:00",
          "2021-05-24T00:00:00",
          "2021-05-24T00:00:00",
          "2021-05-24T00:00:00",
          "2021-05-26T00:00:00",
          "2021-05-24T00:00:00",
          "2021-05-26T00:00:00",
          "2021-05-25T00:00:00",
          "2021-05-25T00:00:00",
          "2021-05-25T00:00:00",
          "2021-05-25T00:00:00",
          "2021-05-31T00:00:00",
          "2021-05-24T00:00:00",
          "2021-05-24T00:00:00",
          "2021-05-24T00:00:00",
          "2021-05-24T00:00:00",
          "2021-05-24T00:00:00",
          "2021-05-24T00:00:00",
          "2021-05-24T00:00:00",
          "2021-05-25T00:00:00",
          "2021-05-26T00:00:00",
          "2021-05-26T00:00:00",
          "2021-05-26T00:00:00",
          "2021-05-26T00:00:00",
          "2021-05-26T00:00:00",
          "2021-05-26T00:00:00",
          "2021-05-24T00:00:00",
          "2021-05-24T00:00:00",
          "2021-05-24T00:00:00",
          "2021-05-22T00:00:00",
          "2021-05-18T00:00:00",
          "2021-05-26T00:00:00",
          "2021-05-26T00:00:00",
          "2021-05-26T00:00:00",
          "2021-05-25T00:00:00",
          "2021-05-24T00:00:00",
          "2021-05-26T00:00:00",
          "2021-05-26T00:00:00",
          "2021-05-26T00:00:00",
          "2021-05-26T00:00:00",
          "2021-05-26T00:00:00",
          "2021-05-26T00:00:00",
          "2021-05-26T00:00:00",
          "2021-05-26T00:00:00",
          "2021-05-26T00:00:00",
          "2021-05-26T00:00:00",
          "2021-05-26T00:00:00",
          "2021-05-26T00:00:00",
          "2021-05-26T00:00:00",
          "2021-05-26T00:00:00",
          "2021-05-26T00:00:00",
          "2021-05-26T00:00:00",
          "2021-05-26T00:00:00",
          "2021-05-26T00:00:00",
          "2021-05-26T00:00:00",
          "2021-05-26T00:00:00",
          "2021-05-27T00:00:00",
          "2021-05-26T00:00:00",
          "2021-05-26T00:00:00",
          "2021-05-26T00:00:00",
          "2021-05-26T00:00:00",
          "2021-05-26T00:00:00",
          "2021-05-26T00:00:00",
          "2021-05-26T00:00:00",
          "2021-05-26T00:00:00",
          "2021-05-27T00:00:00",
          "2021-05-27T00:00:00",
          "2021-05-27T00:00:00",
          "2021-05-27T00:00:00",
          "2021-05-27T00:00:00",
          "2021-05-27T00:00:00",
          "2021-05-27T00:00:00",
          "2021-05-27T00:00:00",
          "2021-05-27T00:00:00",
          "2021-05-27T00:00:00",
          "2021-05-27T00:00:00",
          "2021-05-27T00:00:00",
          "2021-05-27T00:00:00",
          "2021-05-27T00:00:00",
          "2021-05-27T00:00:00",
          "2021-05-27T00:00:00",
          "2021-05-27T00:00:00",
          "2021-05-27T00:00:00",
          "2021-05-27T00:00:00",
          "2021-05-27T00:00:00",
          "2021-05-27T00:00:00",
          "2021-05-27T00:00:00",
          "2021-05-27T00:00:00",
          "2021-05-27T00:00:00",
          "2021-05-27T00:00:00",
          "2021-05-27T00:00:00",
          "2021-05-27T00:00:00",
          "2021-05-27T00:00:00",
          "2021-05-27T00:00:00",
          "2021-05-27T00:00:00",
          "2021-05-27T00:00:00",
          "2021-05-27T00:00:00",
          "2021-05-27T00:00:00",
          "2021-05-27T00:00:00",
          "2021-05-27T00:00:00",
          "2021-05-27T00:00:00",
          "2021-05-27T00:00:00",
          "2021-05-28T00:00:00",
          "2021-05-28T00:00:00",
          "2021-05-28T00:00:00",
          "2021-05-28T00:00:00",
          "2021-05-28T00:00:00",
          "2021-05-28T00:00:00",
          "2021-05-28T00:00:00",
          "2021-05-28T00:00:00",
          "2021-05-28T00:00:00",
          "2021-05-28T00:00:00",
          "2021-05-28T00:00:00",
          "2021-05-28T00:00:00",
          "2021-05-28T00:00:00",
          "2021-05-28T00:00:00",
          "2021-05-28T00:00:00",
          "2021-05-28T00:00:00",
          "2021-05-28T00:00:00",
          "2021-05-28T00:00:00",
          "2021-05-28T00:00:00",
          "2021-05-28T00:00:00",
          "2021-05-28T00:00:00",
          "2021-05-28T00:00:00",
          "2021-05-28T00:00:00",
          "2021-05-28T00:00:00",
          "2021-05-28T00:00:00",
          "2021-05-28T00:00:00",
          "2021-05-28T00:00:00",
          "2021-05-28T00:00:00",
          "2021-05-28T00:00:00",
          "2021-05-28T00:00:00",
          "2021-05-28T00:00:00",
          "2021-05-28T00:00:00",
          "2021-05-28T00:00:00",
          "2021-05-28T00:00:00",
          "2021-05-29T00:00:00",
          "2021-05-29T00:00:00",
          "2021-05-29T00:00:00",
          "2021-05-29T00:00:00",
          "2021-05-29T00:00:00",
          "2021-05-29T00:00:00",
          "2021-05-29T00:00:00",
          "2021-05-29T00:00:00",
          "2021-05-29T00:00:00",
          "2021-05-29T00:00:00",
          "2021-05-29T00:00:00",
          "2021-05-29T00:00:00",
          "2021-05-29T00:00:00",
          "2021-05-29T00:00:00",
          "2021-05-29T00:00:00",
          "2021-05-29T00:00:00",
          "2021-05-29T00:00:00",
          "2021-05-29T00:00:00",
          "2021-05-29T00:00:00",
          "2021-05-29T00:00:00",
          "2021-05-29T00:00:00",
          "2021-05-29T00:00:00",
          "2021-05-29T00:00:00",
          "2021-05-30T00:00:00",
          "2021-05-30T00:00:00",
          "2021-05-30T00:00:00",
          "2021-05-30T00:00:00",
          "2021-05-30T00:00:00",
          "2021-05-30T00:00:00",
          "2021-05-30T00:00:00",
          "2021-05-30T00:00:00",
          "2021-05-30T00:00:00",
          "2021-05-30T00:00:00",
          "2021-05-30T00:00:00",
          "2021-05-30T00:00:00",
          "2021-05-30T00:00:00",
          "2021-05-30T00:00:00",
          "2021-05-30T00:00:00",
          "2021-05-30T00:00:00",
          "2021-05-30T00:00:00",
          "2021-05-30T00:00:00",
          "2021-05-30T00:00:00",
          "2021-05-30T00:00:00",
          "2021-05-30T00:00:00",
          "2021-05-30T00:00:00",
          "2021-05-30T00:00:00",
          "2021-05-30T00:00:00",
          "2021-05-30T00:00:00",
          "2021-05-30T00:00:00",
          "2021-05-30T00:00:00",
          "2021-05-30T00:00:00",
          "2021-05-30T00:00:00",
          "2021-05-30T00:00:00",
          "2021-05-30T00:00:00",
          "2021-05-30T00:00:00",
          "2021-05-30T00:00:00",
          "2021-05-30T00:00:00",
          "2021-05-30T00:00:00",
          "2021-05-30T00:00:00",
          "2021-05-30T00:00:00",
          "2021-05-30T00:00:00",
          "2021-05-30T00:00:00",
          "2021-05-30T00:00:00",
          "2021-05-30T00:00:00",
          "2021-05-30T00:00:00",
          "2021-05-30T00:00:00",
          "2021-05-30T00:00:00",
          "2021-05-30T00:00:00",
          "2021-05-30T00:00:00",
          "2021-05-30T00:00:00",
          "2021-05-30T00:00:00",
          "2021-05-30T00:00:00",
          "2021-05-30T00:00:00",
          "2021-05-30T00:00:00",
          "2021-05-30T00:00:00",
          "2021-05-30T00:00:00",
          "2021-05-30T00:00:00",
          "2021-05-30T00:00:00",
          "2021-05-30T00:00:00",
          "2021-05-30T00:00:00",
          "2021-05-30T00:00:00",
          "2021-05-30T00:00:00",
          "2021-05-30T00:00:00",
          "2021-05-30T00:00:00",
          "2021-05-30T00:00:00",
          "2021-05-30T00:00:00",
          "2021-05-30T00:00:00",
          "2021-05-30T00:00:00",
          "2021-05-30T00:00:00",
          "2021-05-30T00:00:00",
          "2021-05-30T00:00:00",
          "2021-05-30T00:00:00",
          "2021-05-30T00:00:00",
          "2021-05-30T00:00:00",
          "2021-05-30T00:00:00",
          "2021-05-30T00:00:00",
          "2021-05-30T00:00:00",
          "2021-05-30T00:00:00",
          "2021-05-30T00:00:00",
          "2021-05-30T00:00:00",
          "2021-05-30T00:00:00",
          "2021-05-30T00:00:00",
          "2021-05-30T00:00:00",
          "2021-05-30T00:00:00",
          "2021-05-30T00:00:00",
          "2021-05-30T00:00:00",
          "2021-05-30T00:00:00",
          "2021-05-30T00:00:00",
          "2021-05-30T00:00:00",
          "2021-05-30T00:00:00",
          "2021-05-30T00:00:00",
          "2021-05-30T00:00:00",
          "2021-05-30T00:00:00",
          "2021-05-30T00:00:00",
          "2021-05-30T00:00:00",
          "2021-05-30T00:00:00",
          "2021-05-30T00:00:00",
          "2021-05-30T00:00:00",
          "2021-05-30T00:00:00",
          "2021-05-30T00:00:00",
          "2021-05-31T00:00:00",
          "2021-05-31T00:00:00",
          "2021-05-31T00:00:00",
          "2021-05-31T00:00:00",
          "2021-05-31T00:00:00",
          "2021-05-31T00:00:00",
          "2021-05-31T00:00:00",
          "2021-05-31T00:00:00",
          "2021-05-31T00:00:00",
          "2021-05-31T00:00:00",
          "2021-05-31T00:00:00",
          "2021-05-31T00:00:00",
          "2021-05-31T00:00:00",
          "2021-05-31T00:00:00",
          "2021-05-31T00:00:00",
          "2021-05-31T00:00:00",
          "2021-05-31T00:00:00",
          "2021-05-31T00:00:00",
          "2021-05-31T00:00:00",
          "2021-05-31T00:00:00",
          "2021-05-31T00:00:00",
          "2021-05-31T00:00:00",
          "2021-05-31T00:00:00",
          "2021-05-31T00:00:00",
          "2021-05-31T00:00:00",
          "2021-05-31T00:00:00",
          "2021-05-31T00:00:00",
          "2021-05-31T00:00:00",
          "2021-05-31T00:00:00",
          "2021-05-31T00:00:00",
          "2021-05-31T00:00:00",
          "2021-05-31T00:00:00",
          "2021-05-31T00:00:00",
          "2021-05-31T00:00:00",
          "2021-05-31T00:00:00",
          "2021-05-31T00:00:00",
          "2021-05-31T00:00:00",
          "2021-05-31T00:00:00",
          "2021-05-31T00:00:00",
          "2021-05-31T00:00:00",
          "2021-05-31T00:00:00",
          "2021-05-31T00:00:00",
          "2021-05-31T00:00:00",
          "2021-05-31T00:00:00",
          "2021-05-31T00:00:00",
          "2021-05-31T00:00:00",
          "2021-05-31T00:00:00",
          "2021-05-31T00:00:00",
          "2021-05-31T00:00:00",
          "2021-05-31T00:00:00",
          "2021-05-31T00:00:00",
          "2021-05-31T00:00:00",
          "2021-05-31T00:00:00",
          "2021-05-31T00:00:00",
          "2021-05-31T00:00:00",
          "2021-05-31T00:00:00",
          "2021-05-31T00:00:00",
          "2021-05-31T00:00:00",
          "2021-05-31T00:00:00",
          "2021-05-31T00:00:00",
          "2021-05-31T00:00:00",
          "2021-05-31T00:00:00",
          "2021-05-31T00:00:00",
          "2021-06-01T00:00:00",
          "2021-06-01T00:00:00",
          "2021-06-01T00:00:00",
          "2021-06-01T00:00:00",
          "2021-06-01T00:00:00",
          "2021-06-01T00:00:00",
          "2021-06-01T00:00:00",
          "2021-06-01T00:00:00",
          "2021-06-01T00:00:00",
          "2021-06-01T00:00:00",
          "2021-06-01T00:00:00",
          "2021-06-01T00:00:00",
          "2021-06-01T00:00:00",
          "2021-06-01T00:00:00",
          "2021-06-01T00:00:00",
          "2021-06-01T00:00:00",
          "2021-06-02T00:00:00",
          "2021-06-02T00:00:00",
          "2021-06-02T00:00:00",
          "2021-06-02T00:00:00",
          "2021-06-02T00:00:00",
          "2021-06-02T00:00:00"
         ],
         "yaxis": "y",
         "ybingroup": "y"
        }
       ],
       "layout": {
        "annotations": [
         {
          "ax": 10,
          "ay": 20,
          "text": "lockdown",
          "x": "2021-05-27",
          "xanchor": "left",
          "y": "2021-05-27"
         }
        ],
        "coloraxis": {
         "colorbar": {
          "title": {
           "text": "count"
          }
         },
         "colorscale": [
          [
           0,
           "#440154"
          ],
          [
           0.1111111111111111,
           "#482878"
          ],
          [
           0.2222222222222222,
           "#3e4989"
          ],
          [
           0.3333333333333333,
           "#31688e"
          ],
          [
           0.4444444444444444,
           "#26828e"
          ],
          [
           0.5555555555555556,
           "#1f9e89"
          ],
          [
           0.6666666666666666,
           "#35b779"
          ],
          [
           0.7777777777777778,
           "#6ece58"
          ],
          [
           0.8888888888888888,
           "#b5de2b"
          ],
          [
           1,
           "#fde725"
          ]
         ]
        },
        "legend": {
         "tracegroupgap": 0
        },
        "plot_bgcolor": "#440154",
        "shapes": [
         {
          "type": "line",
          "x0": "2021-05-27",
          "x1": "2021-05-27",
          "xref": "x",
          "y0": 0,
          "y1": 1,
          "yref": "y domain"
         },
         {
          "type": "line",
          "x0": 0,
          "x1": 1,
          "xref": "x domain",
          "y0": "2021-05-27",
          "y1": "2021-05-27",
          "yref": "y"
         }
        ],
        "template": {
         "data": {
          "bar": [
           {
            "error_x": {
             "color": "#f2f5fa"
            },
            "error_y": {
             "color": "#f2f5fa"
            },
            "marker": {
             "line": {
              "color": "rgb(17,17,17)",
              "width": 0.5
             }
            },
            "type": "bar"
           }
          ],
          "barpolar": [
           {
            "marker": {
             "line": {
              "color": "rgb(17,17,17)",
              "width": 0.5
             }
            },
            "type": "barpolar"
           }
          ],
          "carpet": [
           {
            "aaxis": {
             "endlinecolor": "#A2B1C6",
             "gridcolor": "#506784",
             "linecolor": "#506784",
             "minorgridcolor": "#506784",
             "startlinecolor": "#A2B1C6"
            },
            "baxis": {
             "endlinecolor": "#A2B1C6",
             "gridcolor": "#506784",
             "linecolor": "#506784",
             "minorgridcolor": "#506784",
             "startlinecolor": "#A2B1C6"
            },
            "type": "carpet"
           }
          ],
          "choropleth": [
           {
            "colorbar": {
             "outlinewidth": 0,
             "ticks": ""
            },
            "type": "choropleth"
           }
          ],
          "contour": [
           {
            "colorbar": {
             "outlinewidth": 0,
             "ticks": ""
            },
            "colorscale": [
             [
              0,
              "#0d0887"
             ],
             [
              0.1111111111111111,
              "#46039f"
             ],
             [
              0.2222222222222222,
              "#7201a8"
             ],
             [
              0.3333333333333333,
              "#9c179e"
             ],
             [
              0.4444444444444444,
              "#bd3786"
             ],
             [
              0.5555555555555556,
              "#d8576b"
             ],
             [
              0.6666666666666666,
              "#ed7953"
             ],
             [
              0.7777777777777778,
              "#fb9f3a"
             ],
             [
              0.8888888888888888,
              "#fdca26"
             ],
             [
              1,
              "#f0f921"
             ]
            ],
            "type": "contour"
           }
          ],
          "contourcarpet": [
           {
            "colorbar": {
             "outlinewidth": 0,
             "ticks": ""
            },
            "type": "contourcarpet"
           }
          ],
          "heatmap": [
           {
            "colorbar": {
             "outlinewidth": 0,
             "ticks": ""
            },
            "colorscale": [
             [
              0,
              "#0d0887"
             ],
             [
              0.1111111111111111,
              "#46039f"
             ],
             [
              0.2222222222222222,
              "#7201a8"
             ],
             [
              0.3333333333333333,
              "#9c179e"
             ],
             [
              0.4444444444444444,
              "#bd3786"
             ],
             [
              0.5555555555555556,
              "#d8576b"
             ],
             [
              0.6666666666666666,
              "#ed7953"
             ],
             [
              0.7777777777777778,
              "#fb9f3a"
             ],
             [
              0.8888888888888888,
              "#fdca26"
             ],
             [
              1,
              "#f0f921"
             ]
            ],
            "type": "heatmap"
           }
          ],
          "heatmapgl": [
           {
            "colorbar": {
             "outlinewidth": 0,
             "ticks": ""
            },
            "colorscale": [
             [
              0,
              "#0d0887"
             ],
             [
              0.1111111111111111,
              "#46039f"
             ],
             [
              0.2222222222222222,
              "#7201a8"
             ],
             [
              0.3333333333333333,
              "#9c179e"
             ],
             [
              0.4444444444444444,
              "#bd3786"
             ],
             [
              0.5555555555555556,
              "#d8576b"
             ],
             [
              0.6666666666666666,
              "#ed7953"
             ],
             [
              0.7777777777777778,
              "#fb9f3a"
             ],
             [
              0.8888888888888888,
              "#fdca26"
             ],
             [
              1,
              "#f0f921"
             ]
            ],
            "type": "heatmapgl"
           }
          ],
          "histogram": [
           {
            "marker": {
             "colorbar": {
              "outlinewidth": 0,
              "ticks": ""
             }
            },
            "type": "histogram"
           }
          ],
          "histogram2d": [
           {
            "colorbar": {
             "outlinewidth": 0,
             "ticks": ""
            },
            "colorscale": [
             [
              0,
              "#0d0887"
             ],
             [
              0.1111111111111111,
              "#46039f"
             ],
             [
              0.2222222222222222,
              "#7201a8"
             ],
             [
              0.3333333333333333,
              "#9c179e"
             ],
             [
              0.4444444444444444,
              "#bd3786"
             ],
             [
              0.5555555555555556,
              "#d8576b"
             ],
             [
              0.6666666666666666,
              "#ed7953"
             ],
             [
              0.7777777777777778,
              "#fb9f3a"
             ],
             [
              0.8888888888888888,
              "#fdca26"
             ],
             [
              1,
              "#f0f921"
             ]
            ],
            "type": "histogram2d"
           }
          ],
          "histogram2dcontour": [
           {
            "colorbar": {
             "outlinewidth": 0,
             "ticks": ""
            },
            "colorscale": [
             [
              0,
              "#0d0887"
             ],
             [
              0.1111111111111111,
              "#46039f"
             ],
             [
              0.2222222222222222,
              "#7201a8"
             ],
             [
              0.3333333333333333,
              "#9c179e"
             ],
             [
              0.4444444444444444,
              "#bd3786"
             ],
             [
              0.5555555555555556,
              "#d8576b"
             ],
             [
              0.6666666666666666,
              "#ed7953"
             ],
             [
              0.7777777777777778,
              "#fb9f3a"
             ],
             [
              0.8888888888888888,
              "#fdca26"
             ],
             [
              1,
              "#f0f921"
             ]
            ],
            "type": "histogram2dcontour"
           }
          ],
          "mesh3d": [
           {
            "colorbar": {
             "outlinewidth": 0,
             "ticks": ""
            },
            "type": "mesh3d"
           }
          ],
          "parcoords": [
           {
            "line": {
             "colorbar": {
              "outlinewidth": 0,
              "ticks": ""
             }
            },
            "type": "parcoords"
           }
          ],
          "pie": [
           {
            "automargin": true,
            "type": "pie"
           }
          ],
          "scatter": [
           {
            "marker": {
             "line": {
              "color": "#283442"
             }
            },
            "type": "scatter"
           }
          ],
          "scatter3d": [
           {
            "line": {
             "colorbar": {
              "outlinewidth": 0,
              "ticks": ""
             }
            },
            "marker": {
             "colorbar": {
              "outlinewidth": 0,
              "ticks": ""
             }
            },
            "type": "scatter3d"
           }
          ],
          "scattercarpet": [
           {
            "marker": {
             "colorbar": {
              "outlinewidth": 0,
              "ticks": ""
             }
            },
            "type": "scattercarpet"
           }
          ],
          "scattergeo": [
           {
            "marker": {
             "colorbar": {
              "outlinewidth": 0,
              "ticks": ""
             }
            },
            "type": "scattergeo"
           }
          ],
          "scattergl": [
           {
            "marker": {
             "line": {
              "color": "#283442"
             }
            },
            "type": "scattergl"
           }
          ],
          "scattermapbox": [
           {
            "marker": {
             "colorbar": {
              "outlinewidth": 0,
              "ticks": ""
             }
            },
            "type": "scattermapbox"
           }
          ],
          "scatterpolar": [
           {
            "marker": {
             "colorbar": {
              "outlinewidth": 0,
              "ticks": ""
             }
            },
            "type": "scatterpolar"
           }
          ],
          "scatterpolargl": [
           {
            "marker": {
             "colorbar": {
              "outlinewidth": 0,
              "ticks": ""
             }
            },
            "type": "scatterpolargl"
           }
          ],
          "scatterternary": [
           {
            "marker": {
             "colorbar": {
              "outlinewidth": 0,
              "ticks": ""
             }
            },
            "type": "scatterternary"
           }
          ],
          "surface": [
           {
            "colorbar": {
             "outlinewidth": 0,
             "ticks": ""
            },
            "colorscale": [
             [
              0,
              "#0d0887"
             ],
             [
              0.1111111111111111,
              "#46039f"
             ],
             [
              0.2222222222222222,
              "#7201a8"
             ],
             [
              0.3333333333333333,
              "#9c179e"
             ],
             [
              0.4444444444444444,
              "#bd3786"
             ],
             [
              0.5555555555555556,
              "#d8576b"
             ],
             [
              0.6666666666666666,
              "#ed7953"
             ],
             [
              0.7777777777777778,
              "#fb9f3a"
             ],
             [
              0.8888888888888888,
              "#fdca26"
             ],
             [
              1,
              "#f0f921"
             ]
            ],
            "type": "surface"
           }
          ],
          "table": [
           {
            "cells": {
             "fill": {
              "color": "#506784"
             },
             "line": {
              "color": "rgb(17,17,17)"
             }
            },
            "header": {
             "fill": {
              "color": "#2a3f5f"
             },
             "line": {
              "color": "rgb(17,17,17)"
             }
            },
            "type": "table"
           }
          ]
         },
         "layout": {
          "annotationdefaults": {
           "arrowcolor": "#f2f5fa",
           "arrowhead": 0,
           "arrowwidth": 1
          },
          "autotypenumbers": "strict",
          "coloraxis": {
           "colorbar": {
            "outlinewidth": 0,
            "ticks": ""
           }
          },
          "colorscale": {
           "diverging": [
            [
             0,
             "#8e0152"
            ],
            [
             0.1,
             "#c51b7d"
            ],
            [
             0.2,
             "#de77ae"
            ],
            [
             0.3,
             "#f1b6da"
            ],
            [
             0.4,
             "#fde0ef"
            ],
            [
             0.5,
             "#f7f7f7"
            ],
            [
             0.6,
             "#e6f5d0"
            ],
            [
             0.7,
             "#b8e186"
            ],
            [
             0.8,
             "#7fbc41"
            ],
            [
             0.9,
             "#4d9221"
            ],
            [
             1,
             "#276419"
            ]
           ],
           "sequential": [
            [
             0,
             "#0d0887"
            ],
            [
             0.1111111111111111,
             "#46039f"
            ],
            [
             0.2222222222222222,
             "#7201a8"
            ],
            [
             0.3333333333333333,
             "#9c179e"
            ],
            [
             0.4444444444444444,
             "#bd3786"
            ],
            [
             0.5555555555555556,
             "#d8576b"
            ],
            [
             0.6666666666666666,
             "#ed7953"
            ],
            [
             0.7777777777777778,
             "#fb9f3a"
            ],
            [
             0.8888888888888888,
             "#fdca26"
            ],
            [
             1,
             "#f0f921"
            ]
           ],
           "sequentialminus": [
            [
             0,
             "#0d0887"
            ],
            [
             0.1111111111111111,
             "#46039f"
            ],
            [
             0.2222222222222222,
             "#7201a8"
            ],
            [
             0.3333333333333333,
             "#9c179e"
            ],
            [
             0.4444444444444444,
             "#bd3786"
            ],
            [
             0.5555555555555556,
             "#d8576b"
            ],
            [
             0.6666666666666666,
             "#ed7953"
            ],
            [
             0.7777777777777778,
             "#fb9f3a"
            ],
            [
             0.8888888888888888,
             "#fdca26"
            ],
            [
             1,
             "#f0f921"
            ]
           ]
          },
          "colorway": [
           "#636efa",
           "#EF553B",
           "#00cc96",
           "#ab63fa",
           "#FFA15A",
           "#19d3f3",
           "#FF6692",
           "#B6E880",
           "#FF97FF",
           "#FECB52"
          ],
          "font": {
           "color": "#f2f5fa"
          },
          "geo": {
           "bgcolor": "rgb(17,17,17)",
           "lakecolor": "rgb(17,17,17)",
           "landcolor": "rgb(17,17,17)",
           "showlakes": true,
           "showland": true,
           "subunitcolor": "#506784"
          },
          "hoverlabel": {
           "align": "left"
          },
          "hovermode": "closest",
          "mapbox": {
           "style": "dark"
          },
          "paper_bgcolor": "rgb(17,17,17)",
          "plot_bgcolor": "rgb(17,17,17)",
          "polar": {
           "angularaxis": {
            "gridcolor": "#506784",
            "linecolor": "#506784",
            "ticks": ""
           },
           "bgcolor": "rgb(17,17,17)",
           "radialaxis": {
            "gridcolor": "#506784",
            "linecolor": "#506784",
            "ticks": ""
           }
          },
          "scene": {
           "xaxis": {
            "backgroundcolor": "rgb(17,17,17)",
            "gridcolor": "#506784",
            "gridwidth": 2,
            "linecolor": "#506784",
            "showbackground": true,
            "ticks": "",
            "zerolinecolor": "#C8D4E3"
           },
           "yaxis": {
            "backgroundcolor": "rgb(17,17,17)",
            "gridcolor": "#506784",
            "gridwidth": 2,
            "linecolor": "#506784",
            "showbackground": true,
            "ticks": "",
            "zerolinecolor": "#C8D4E3"
           },
           "zaxis": {
            "backgroundcolor": "rgb(17,17,17)",
            "gridcolor": "#506784",
            "gridwidth": 2,
            "linecolor": "#506784",
            "showbackground": true,
            "ticks": "",
            "zerolinecolor": "#C8D4E3"
           }
          },
          "shapedefaults": {
           "line": {
            "color": "#f2f5fa"
           }
          },
          "sliderdefaults": {
           "bgcolor": "#C8D4E3",
           "bordercolor": "rgb(17,17,17)",
           "borderwidth": 1,
           "tickwidth": 0
          },
          "ternary": {
           "aaxis": {
            "gridcolor": "#506784",
            "linecolor": "#506784",
            "ticks": ""
           },
           "baxis": {
            "gridcolor": "#506784",
            "linecolor": "#506784",
            "ticks": ""
           },
           "bgcolor": "rgb(17,17,17)",
           "caxis": {
            "gridcolor": "#506784",
            "linecolor": "#506784",
            "ticks": ""
           }
          },
          "title": {
           "x": 0.05
          },
          "updatemenudefaults": {
           "bgcolor": "#506784",
           "borderwidth": 0
          },
          "xaxis": {
           "automargin": true,
           "gridcolor": "#283442",
           "linecolor": "#506784",
           "ticks": "",
           "title": {
            "standoff": 15
           },
           "zerolinecolor": "#283442",
           "zerolinewidth": 2
          },
          "yaxis": {
           "automargin": true,
           "gridcolor": "#283442",
           "linecolor": "#506784",
           "ticks": "",
           "title": {
            "standoff": 15
           },
           "zerolinecolor": "#283442",
           "zerolinewidth": 2
          }
         }
        },
        "title": {
         "text": "Exposure site counts by date added"
        },
        "width": 580,
        "xaxis": {
         "anchor": "y",
         "domain": [
          0,
          1
         ],
         "nticks": 11,
         "range": [
          "2021-05-10T12:00:00",
          "2021-06-02T12:00:00"
         ],
         "showgrid": false,
         "side": "bottom",
         "tickangle": 60,
         "title": {
          "text": "Exposure Date"
         }
        },
        "yaxis": {
         "anchor": "x",
         "domain": [
          0,
          1
         ],
         "range": [
          "2021-05-10T12:00:00",
          "2021-06-02T12:00:00"
         ],
         "showgrid": false,
         "title": {
          "text": "Date Added"
         }
        }
       }
      },
      "text/html": [
       "<div>                            <div id=\"63d18be2-0efe-4378-9573-3a27dc635951\" class=\"plotly-graph-div\" style=\"height:525px; width:580px;\"></div>            <script type=\"text/javascript\">                require([\"plotly\"], function(Plotly) {                    window.PLOTLYENV=window.PLOTLYENV || {};                                    if (document.getElementById(\"63d18be2-0efe-4378-9573-3a27dc635951\")) {                    Plotly.newPlot(                        \"63d18be2-0efe-4378-9573-3a27dc635951\",                        [{\"coloraxis\": \"coloraxis\", \"hovertemplate\": \"Exposure_date_dtm=%{x}<br>Added_date_dtm=%{y}<br>count=%{z}<extra></extra>\", \"name\": \"\", \"nbinsx\": 23, \"nbinsy\": 23, \"type\": \"histogram2d\", \"x\": [\"2021-05-24T00:00:00\", \"2021-05-23T00:00:00\", \"2021-05-23T00:00:00\", \"2021-05-22T00:00:00\", \"2021-05-23T00:00:00\", \"2021-05-21T00:00:00\", \"2021-05-21T00:00:00\", \"2021-05-22T00:00:00\", \"2021-05-22T00:00:00\", \"2021-05-22T00:00:00\", \"2021-05-23T00:00:00\", \"2021-05-23T00:00:00\", \"2021-05-19T00:00:00\", \"2021-05-20T00:00:00\", \"2021-05-22T00:00:00\", \"2021-05-22T00:00:00\", \"2021-05-17T00:00:00\", \"2021-05-19T00:00:00\", \"2021-05-18T00:00:00\", \"2021-05-23T00:00:00\", \"2021-05-20T00:00:00\", \"2021-05-22T00:00:00\", \"2021-05-22T00:00:00\", \"2021-05-20T00:00:00\", \"2021-05-19T00:00:00\", \"2021-05-19T00:00:00\", \"2021-05-19T00:00:00\", \"2021-05-19T00:00:00\", \"2021-05-20T00:00:00\", \"2021-05-20T00:00:00\", \"2021-05-20T00:00:00\", \"2021-05-20T00:00:00\", \"2021-05-20T00:00:00\", \"2021-05-20T00:00:00\", \"2021-05-21T00:00:00\", \"2021-05-20T00:00:00\", \"2021-05-24T00:00:00\", \"2021-05-24T00:00:00\", \"2021-05-21T00:00:00\", \"2021-05-22T00:00:00\", \"2021-05-22T00:00:00\", \"2021-05-23T00:00:00\", \"2021-05-23T00:00:00\", \"2021-05-23T00:00:00\", \"2021-05-21T00:00:00\", \"2021-05-22T00:00:00\", \"2021-05-18T00:00:00\", \"2021-05-23T00:00:00\", \"2021-05-23T00:00:00\", \"2021-05-23T00:00:00\", \"2021-05-17T00:00:00\", \"2021-05-20T00:00:00\", \"2021-05-22T00:00:00\", \"2021-05-18T00:00:00\", \"2021-05-20T00:00:00\", \"2021-05-21T00:00:00\", \"2021-05-22T00:00:00\", \"2021-05-23T00:00:00\", \"2021-05-24T00:00:00\", \"2021-05-25T00:00:00\", \"2021-05-22T00:00:00\", \"2021-05-22T00:00:00\", \"2021-05-23T00:00:00\", \"2021-05-23T00:00:00\", \"2021-05-23T00:00:00\", \"2021-05-24T00:00:00\", \"2021-05-23T00:00:00\", \"2021-05-21T00:00:00\", \"2021-05-24T00:00:00\", \"2021-05-21T00:00:00\", \"2021-05-23T00:00:00\", \"2021-05-22T00:00:00\", \"2021-05-22T00:00:00\", \"2021-05-22T00:00:00\", \"2021-05-23T00:00:00\", \"2021-05-21T00:00:00\", \"2021-05-23T00:00:00\", \"2021-05-22T00:00:00\", \"2021-05-21T00:00:00\", \"2021-05-20T00:00:00\", \"2021-05-23T00:00:00\", \"2021-05-23T00:00:00\", \"2021-05-14T00:00:00\", \"2021-05-14T00:00:00\", \"2021-05-14T00:00:00\", \"2021-05-24T00:00:00\", \"2021-05-24T00:00:00\", \"2021-05-24T00:00:00\", \"2021-05-24T00:00:00\", \"2021-05-24T00:00:00\", \"2021-05-23T00:00:00\", \"2021-05-22T00:00:00\", \"2021-05-20T00:00:00\", \"2021-05-21T00:00:00\", \"2021-05-24T00:00:00\", \"2021-05-25T00:00:00\", \"2021-05-23T00:00:00\", \"2021-05-22T00:00:00\", \"2021-05-22T00:00:00\", \"2021-05-24T00:00:00\", \"2021-05-22T00:00:00\", \"2021-05-22T00:00:00\", \"2021-05-22T00:00:00\", \"2021-05-21T00:00:00\", \"2021-05-22T00:00:00\", \"2021-05-23T00:00:00\", \"2021-05-23T00:00:00\", \"2021-05-23T00:00:00\", \"2021-05-23T00:00:00\", \"2021-05-25T00:00:00\", \"2021-05-24T00:00:00\", \"2021-05-24T00:00:00\", \"2021-05-23T00:00:00\", \"2021-05-25T00:00:00\", \"2021-05-25T00:00:00\", \"2021-05-13T00:00:00\", \"2021-05-24T00:00:00\", \"2021-05-25T00:00:00\", \"2021-05-23T00:00:00\", \"2021-05-25T00:00:00\", \"2021-05-24T00:00:00\", \"2021-05-25T00:00:00\", \"2021-05-24T00:00:00\", \"2021-05-23T00:00:00\", \"2021-05-22T00:00:00\", \"2021-05-22T00:00:00\", \"2021-05-22T00:00:00\", \"2021-05-25T00:00:00\", \"2021-05-24T00:00:00\", \"2021-05-23T00:00:00\", \"2021-05-23T00:00:00\", \"2021-05-23T00:00:00\", \"2021-05-22T00:00:00\", \"2021-05-24T00:00:00\", \"2021-05-25T00:00:00\", \"2021-05-26T00:00:00\", \"2021-05-22T00:00:00\", \"2021-05-23T00:00:00\", \"2021-05-25T00:00:00\", \"2021-05-26T00:00:00\", \"2021-05-27T00:00:00\", \"2021-05-18T00:00:00\", \"2021-05-18T00:00:00\", \"2021-05-18T00:00:00\", \"2021-05-18T00:00:00\", \"2021-05-25T00:00:00\", \"2021-05-19T00:00:00\", \"2021-05-19T00:00:00\", \"2021-05-19T00:00:00\", \"2021-05-19T00:00:00\", \"2021-05-19T00:00:00\", \"2021-05-19T00:00:00\", \"2021-05-25T00:00:00\", \"2021-05-23T00:00:00\", \"2021-05-21T00:00:00\", \"2021-05-22T00:00:00\", \"2021-05-23T00:00:00\", \"2021-05-25T00:00:00\", \"2021-05-25T00:00:00\", \"2021-05-24T00:00:00\", \"2021-05-22T00:00:00\", \"2021-05-22T00:00:00\", \"2021-05-25T00:00:00\", \"2021-05-24T00:00:00\", \"2021-05-25T00:00:00\", \"2021-05-23T00:00:00\", \"2021-05-27T00:00:00\", \"2021-05-27T00:00:00\", \"2021-05-27T00:00:00\", \"2021-05-28T00:00:00\", \"2021-05-26T00:00:00\", \"2021-05-26T00:00:00\", \"2021-05-26T00:00:00\", \"2021-05-26T00:00:00\", \"2021-05-26T00:00:00\", \"2021-05-21T00:00:00\", \"2021-05-26T00:00:00\", \"2021-05-22T00:00:00\", \"2021-05-26T00:00:00\", \"2021-05-24T00:00:00\", \"2021-05-19T00:00:00\", \"2021-05-25T00:00:00\", \"2021-05-23T00:00:00\", \"2021-05-25T00:00:00\", \"2021-05-25T00:00:00\", \"2021-05-19T00:00:00\", \"2021-05-25T00:00:00\", \"2021-05-26T00:00:00\", \"2021-05-27T00:00:00\", \"2021-05-17T00:00:00\", \"2021-05-18T00:00:00\", \"2021-05-22T00:00:00\", \"2021-05-25T00:00:00\", \"2021-05-25T00:00:00\", \"2021-05-25T00:00:00\", \"2021-05-22T00:00:00\", \"2021-05-22T00:00:00\", \"2021-05-22T00:00:00\", \"2021-05-22T00:00:00\", \"2021-05-22T00:00:00\", \"2021-05-19T00:00:00\", \"2021-05-22T00:00:00\", \"2021-05-18T00:00:00\", \"2021-05-25T00:00:00\", \"2021-05-26T00:00:00\", \"2021-05-24T00:00:00\", \"2021-05-17T00:00:00\", \"2021-05-18T00:00:00\", \"2021-05-20T00:00:00\", \"2021-05-21T00:00:00\", \"2021-05-24T00:00:00\", \"2021-05-25T00:00:00\", \"2021-05-26T00:00:00\", \"2021-05-27T00:00:00\", \"2021-05-28T00:00:00\", \"2021-05-12T00:00:00\", \"2021-05-13T00:00:00\", \"2021-05-20T00:00:00\", \"2021-05-26T00:00:00\", \"2021-05-26T00:00:00\", \"2021-05-26T00:00:00\", \"2021-05-27T00:00:00\", \"2021-05-24T00:00:00\", \"2021-05-19T00:00:00\", \"2021-05-22T00:00:00\", \"2021-05-26T00:00:00\", \"2021-05-22T00:00:00\", \"2021-05-24T00:00:00\", \"2021-05-17T00:00:00\", \"2021-05-17T00:00:00\", \"2021-05-21T00:00:00\", \"2021-05-23T00:00:00\", \"2021-05-23T00:00:00\", \"2021-05-27T00:00:00\", \"2021-05-26T00:00:00\", \"2021-05-27T00:00:00\", \"2021-05-26T00:00:00\", \"2021-05-26T00:00:00\", \"2021-05-22T00:00:00\", \"2021-05-23T00:00:00\", \"2021-05-22T00:00:00\", \"2021-05-22T00:00:00\", \"2021-05-23T00:00:00\", \"2021-05-26T00:00:00\", \"2021-05-24T00:00:00\", \"2021-05-23T00:00:00\", \"2021-05-22T00:00:00\", \"2021-05-24T00:00:00\", \"2021-05-24T00:00:00\", \"2021-05-23T00:00:00\", \"2021-05-22T00:00:00\", \"2021-05-24T00:00:00\", \"2021-05-22T00:00:00\", \"2021-05-15T00:00:00\", \"2021-05-15T00:00:00\", \"2021-05-22T00:00:00\", \"2021-05-23T00:00:00\", \"2021-05-20T00:00:00\", \"2021-05-18T00:00:00\", \"2021-05-26T00:00:00\", \"2021-05-26T00:00:00\", \"2021-05-26T00:00:00\", \"2021-05-26T00:00:00\", \"2021-05-24T00:00:00\", \"2021-05-25T00:00:00\", \"2021-05-26T00:00:00\", \"2021-05-26T00:00:00\", \"2021-05-25T00:00:00\", \"2021-05-25T00:00:00\", \"2021-05-24T00:00:00\", \"2021-05-23T00:00:00\", \"2021-05-23T00:00:00\", \"2021-05-26T00:00:00\", \"2021-05-26T00:00:00\", \"2021-05-27T00:00:00\", \"2021-05-27T00:00:00\", \"2021-05-27T00:00:00\", \"2021-05-22T00:00:00\", \"2021-05-23T00:00:00\", \"2021-05-23T00:00:00\", \"2021-05-25T00:00:00\", \"2021-05-21T00:00:00\", \"2021-05-25T00:00:00\", \"2021-05-26T00:00:00\", \"2021-05-27T00:00:00\", \"2021-05-28T00:00:00\", \"2021-05-29T00:00:00\", \"2021-05-26T00:00:00\", \"2021-05-26T00:00:00\", \"2021-05-26T00:00:00\", \"2021-05-27T00:00:00\", \"2021-05-28T00:00:00\", \"2021-05-29T00:00:00\", \"2021-05-28T00:00:00\", \"2021-05-12T00:00:00\", \"2021-05-26T00:00:00\", \"2021-05-11T00:00:00\", \"2021-05-11T00:00:00\", \"2021-05-15T00:00:00\", \"2021-05-28T00:00:00\", \"2021-05-23T00:00:00\", \"2021-05-20T00:00:00\", \"2021-05-26T00:00:00\", \"2021-05-27T00:00:00\", \"2021-05-28T00:00:00\", \"2021-05-26T00:00:00\", \"2021-05-27T00:00:00\", \"2021-05-28T00:00:00\", \"2021-05-26T00:00:00\", \"2021-05-26T00:00:00\", \"2021-05-26T00:00:00\", \"2021-05-26T00:00:00\", \"2021-05-27T00:00:00\", \"2021-05-28T00:00:00\", \"2021-05-27T00:00:00\", \"2021-05-27T00:00:00\", \"2021-05-28T00:00:00\", \"2021-05-28T00:00:00\", \"2021-05-21T00:00:00\", \"2021-05-27T00:00:00\", \"2021-05-28T00:00:00\", \"2021-05-26T00:00:00\", \"2021-05-25T00:00:00\", \"2021-05-26T00:00:00\", \"2021-05-27T00:00:00\", \"2021-05-28T00:00:00\", \"2021-05-23T00:00:00\", \"2021-05-27T00:00:00\", \"2021-05-26T00:00:00\", \"2021-05-27T00:00:00\", \"2021-05-27T00:00:00\", \"2021-05-27T00:00:00\", \"2021-05-27T00:00:00\", \"2021-05-27T00:00:00\", \"2021-05-27T00:00:00\", \"2021-05-23T00:00:00\", \"2021-05-28T00:00:00\", \"2021-05-28T00:00:00\", \"2021-05-28T00:00:00\", \"2021-05-23T00:00:00\", \"2021-05-18T00:00:00\", \"2021-05-23T00:00:00\", \"2021-05-26T00:00:00\", \"2021-05-26T00:00:00\", \"2021-05-24T00:00:00\", \"2021-05-24T00:00:00\", \"2021-05-24T00:00:00\", \"2021-05-25T00:00:00\", \"2021-05-30T00:00:00\", \"2021-05-30T00:00:00\", \"2021-05-31T00:00:00\", \"2021-05-25T00:00:00\", \"2021-05-25T00:00:00\", \"2021-05-25T00:00:00\", \"2021-05-27T00:00:00\", \"2021-05-27T00:00:00\", \"2021-05-28T00:00:00\"], \"xaxis\": \"x\", \"xbingroup\": \"x\", \"y\": [\"2021-05-26T00:00:00\", \"2021-05-26T00:00:00\", \"2021-05-26T00:00:00\", \"2021-05-26T00:00:00\", \"2021-05-24T00:00:00\", \"2021-05-24T00:00:00\", \"2021-05-26T00:00:00\", \"2021-05-24T00:00:00\", \"2021-05-26T00:00:00\", \"2021-05-26T00:00:00\", \"2021-05-24T00:00:00\", \"2021-05-24T00:00:00\", \"2021-05-25T00:00:00\", \"2021-05-26T00:00:00\", \"2021-05-24T00:00:00\", \"2021-05-24T00:00:00\", \"2021-05-24T00:00:00\", \"2021-05-24T00:00:00\", \"2021-05-24T00:00:00\", \"2021-05-24T00:00:00\", \"2021-05-26T00:00:00\", \"2021-05-24T00:00:00\", \"2021-05-26T00:00:00\", \"2021-05-25T00:00:00\", \"2021-05-25T00:00:00\", \"2021-05-25T00:00:00\", \"2021-05-25T00:00:00\", \"2021-05-31T00:00:00\", \"2021-05-24T00:00:00\", \"2021-05-24T00:00:00\", \"2021-05-24T00:00:00\", \"2021-05-24T00:00:00\", \"2021-05-24T00:00:00\", \"2021-05-24T00:00:00\", \"2021-05-24T00:00:00\", \"2021-05-25T00:00:00\", \"2021-05-26T00:00:00\", \"2021-05-26T00:00:00\", \"2021-05-26T00:00:00\", \"2021-05-26T00:00:00\", \"2021-05-26T00:00:00\", \"2021-05-26T00:00:00\", \"2021-05-24T00:00:00\", \"2021-05-24T00:00:00\", \"2021-05-24T00:00:00\", \"2021-05-22T00:00:00\", \"2021-05-18T00:00:00\", \"2021-05-26T00:00:00\", \"2021-05-26T00:00:00\", \"2021-05-26T00:00:00\", \"2021-05-25T00:00:00\", \"2021-05-24T00:00:00\", \"2021-05-26T00:00:00\", \"2021-05-26T00:00:00\", \"2021-05-26T00:00:00\", \"2021-05-26T00:00:00\", \"2021-05-26T00:00:00\", \"2021-05-26T00:00:00\", \"2021-05-26T00:00:00\", \"2021-05-26T00:00:00\", \"2021-05-26T00:00:00\", \"2021-05-26T00:00:00\", \"2021-05-26T00:00:00\", \"2021-05-26T00:00:00\", \"2021-05-26T00:00:00\", \"2021-05-26T00:00:00\", \"2021-05-26T00:00:00\", \"2021-05-26T00:00:00\", \"2021-05-26T00:00:00\", \"2021-05-26T00:00:00\", \"2021-05-26T00:00:00\", \"2021-05-26T00:00:00\", \"2021-05-27T00:00:00\", \"2021-05-26T00:00:00\", \"2021-05-26T00:00:00\", \"2021-05-26T00:00:00\", \"2021-05-26T00:00:00\", \"2021-05-26T00:00:00\", \"2021-05-26T00:00:00\", \"2021-05-26T00:00:00\", \"2021-05-26T00:00:00\", \"2021-05-27T00:00:00\", \"2021-05-27T00:00:00\", \"2021-05-27T00:00:00\", \"2021-05-27T00:00:00\", \"2021-05-27T00:00:00\", \"2021-05-27T00:00:00\", \"2021-05-27T00:00:00\", \"2021-05-27T00:00:00\", \"2021-05-27T00:00:00\", \"2021-05-27T00:00:00\", \"2021-05-27T00:00:00\", \"2021-05-27T00:00:00\", \"2021-05-27T00:00:00\", \"2021-05-27T00:00:00\", \"2021-05-27T00:00:00\", \"2021-05-27T00:00:00\", \"2021-05-27T00:00:00\", \"2021-05-27T00:00:00\", \"2021-05-27T00:00:00\", \"2021-05-27T00:00:00\", \"2021-05-27T00:00:00\", \"2021-05-27T00:00:00\", \"2021-05-27T00:00:00\", \"2021-05-27T00:00:00\", \"2021-05-27T00:00:00\", \"2021-05-27T00:00:00\", \"2021-05-27T00:00:00\", \"2021-05-27T00:00:00\", \"2021-05-27T00:00:00\", \"2021-05-27T00:00:00\", \"2021-05-27T00:00:00\", \"2021-05-27T00:00:00\", \"2021-05-27T00:00:00\", \"2021-05-27T00:00:00\", \"2021-05-27T00:00:00\", \"2021-05-27T00:00:00\", \"2021-05-27T00:00:00\", \"2021-05-28T00:00:00\", \"2021-05-28T00:00:00\", \"2021-05-28T00:00:00\", \"2021-05-28T00:00:00\", \"2021-05-28T00:00:00\", \"2021-05-28T00:00:00\", \"2021-05-28T00:00:00\", \"2021-05-28T00:00:00\", \"2021-05-28T00:00:00\", \"2021-05-28T00:00:00\", \"2021-05-28T00:00:00\", \"2021-05-28T00:00:00\", \"2021-05-28T00:00:00\", \"2021-05-28T00:00:00\", \"2021-05-28T00:00:00\", \"2021-05-28T00:00:00\", \"2021-05-28T00:00:00\", \"2021-05-28T00:00:00\", \"2021-05-28T00:00:00\", \"2021-05-28T00:00:00\", \"2021-05-28T00:00:00\", \"2021-05-28T00:00:00\", \"2021-05-28T00:00:00\", \"2021-05-28T00:00:00\", \"2021-05-28T00:00:00\", \"2021-05-28T00:00:00\", \"2021-05-28T00:00:00\", \"2021-05-28T00:00:00\", \"2021-05-28T00:00:00\", \"2021-05-28T00:00:00\", \"2021-05-28T00:00:00\", \"2021-05-28T00:00:00\", \"2021-05-28T00:00:00\", \"2021-05-28T00:00:00\", \"2021-05-29T00:00:00\", \"2021-05-29T00:00:00\", \"2021-05-29T00:00:00\", \"2021-05-29T00:00:00\", \"2021-05-29T00:00:00\", \"2021-05-29T00:00:00\", \"2021-05-29T00:00:00\", \"2021-05-29T00:00:00\", \"2021-05-29T00:00:00\", \"2021-05-29T00:00:00\", \"2021-05-29T00:00:00\", \"2021-05-29T00:00:00\", \"2021-05-29T00:00:00\", \"2021-05-29T00:00:00\", \"2021-05-29T00:00:00\", \"2021-05-29T00:00:00\", \"2021-05-29T00:00:00\", \"2021-05-29T00:00:00\", \"2021-05-29T00:00:00\", \"2021-05-29T00:00:00\", \"2021-05-29T00:00:00\", \"2021-05-29T00:00:00\", \"2021-05-29T00:00:00\", \"2021-05-30T00:00:00\", \"2021-05-30T00:00:00\", \"2021-05-30T00:00:00\", \"2021-05-30T00:00:00\", \"2021-05-30T00:00:00\", \"2021-05-30T00:00:00\", \"2021-05-30T00:00:00\", \"2021-05-30T00:00:00\", \"2021-05-30T00:00:00\", \"2021-05-30T00:00:00\", \"2021-05-30T00:00:00\", \"2021-05-30T00:00:00\", \"2021-05-30T00:00:00\", \"2021-05-30T00:00:00\", \"2021-05-30T00:00:00\", \"2021-05-30T00:00:00\", \"2021-05-30T00:00:00\", \"2021-05-30T00:00:00\", \"2021-05-30T00:00:00\", \"2021-05-30T00:00:00\", \"2021-05-30T00:00:00\", \"2021-05-30T00:00:00\", \"2021-05-30T00:00:00\", \"2021-05-30T00:00:00\", \"2021-05-30T00:00:00\", \"2021-05-30T00:00:00\", \"2021-05-30T00:00:00\", \"2021-05-30T00:00:00\", \"2021-05-30T00:00:00\", \"2021-05-30T00:00:00\", \"2021-05-30T00:00:00\", \"2021-05-30T00:00:00\", \"2021-05-30T00:00:00\", \"2021-05-30T00:00:00\", \"2021-05-30T00:00:00\", \"2021-05-30T00:00:00\", \"2021-05-30T00:00:00\", \"2021-05-30T00:00:00\", \"2021-05-30T00:00:00\", \"2021-05-30T00:00:00\", \"2021-05-30T00:00:00\", \"2021-05-30T00:00:00\", \"2021-05-30T00:00:00\", \"2021-05-30T00:00:00\", \"2021-05-30T00:00:00\", \"2021-05-30T00:00:00\", \"2021-05-30T00:00:00\", \"2021-05-30T00:00:00\", \"2021-05-30T00:00:00\", \"2021-05-30T00:00:00\", \"2021-05-30T00:00:00\", \"2021-05-30T00:00:00\", \"2021-05-30T00:00:00\", \"2021-05-30T00:00:00\", \"2021-05-30T00:00:00\", \"2021-05-30T00:00:00\", \"2021-05-30T00:00:00\", \"2021-05-30T00:00:00\", \"2021-05-30T00:00:00\", \"2021-05-30T00:00:00\", \"2021-05-30T00:00:00\", \"2021-05-30T00:00:00\", \"2021-05-30T00:00:00\", \"2021-05-30T00:00:00\", \"2021-05-30T00:00:00\", \"2021-05-30T00:00:00\", \"2021-05-30T00:00:00\", \"2021-05-30T00:00:00\", \"2021-05-30T00:00:00\", \"2021-05-30T00:00:00\", \"2021-05-30T00:00:00\", \"2021-05-30T00:00:00\", \"2021-05-30T00:00:00\", \"2021-05-30T00:00:00\", \"2021-05-30T00:00:00\", \"2021-05-30T00:00:00\", \"2021-05-30T00:00:00\", \"2021-05-30T00:00:00\", \"2021-05-30T00:00:00\", \"2021-05-30T00:00:00\", \"2021-05-30T00:00:00\", \"2021-05-30T00:00:00\", \"2021-05-30T00:00:00\", \"2021-05-30T00:00:00\", \"2021-05-30T00:00:00\", \"2021-05-30T00:00:00\", \"2021-05-30T00:00:00\", \"2021-05-30T00:00:00\", \"2021-05-30T00:00:00\", \"2021-05-30T00:00:00\", \"2021-05-30T00:00:00\", \"2021-05-30T00:00:00\", \"2021-05-30T00:00:00\", \"2021-05-30T00:00:00\", \"2021-05-30T00:00:00\", \"2021-05-30T00:00:00\", \"2021-05-30T00:00:00\", \"2021-05-31T00:00:00\", \"2021-05-31T00:00:00\", \"2021-05-31T00:00:00\", \"2021-05-31T00:00:00\", \"2021-05-31T00:00:00\", \"2021-05-31T00:00:00\", \"2021-05-31T00:00:00\", \"2021-05-31T00:00:00\", \"2021-05-31T00:00:00\", \"2021-05-31T00:00:00\", \"2021-05-31T00:00:00\", \"2021-05-31T00:00:00\", \"2021-05-31T00:00:00\", \"2021-05-31T00:00:00\", \"2021-05-31T00:00:00\", \"2021-05-31T00:00:00\", \"2021-05-31T00:00:00\", \"2021-05-31T00:00:00\", \"2021-05-31T00:00:00\", \"2021-05-31T00:00:00\", \"2021-05-31T00:00:00\", \"2021-05-31T00:00:00\", \"2021-05-31T00:00:00\", \"2021-05-31T00:00:00\", \"2021-05-31T00:00:00\", \"2021-05-31T00:00:00\", \"2021-05-31T00:00:00\", \"2021-05-31T00:00:00\", \"2021-05-31T00:00:00\", \"2021-05-31T00:00:00\", \"2021-05-31T00:00:00\", \"2021-05-31T00:00:00\", \"2021-05-31T00:00:00\", \"2021-05-31T00:00:00\", \"2021-05-31T00:00:00\", \"2021-05-31T00:00:00\", \"2021-05-31T00:00:00\", \"2021-05-31T00:00:00\", \"2021-05-31T00:00:00\", \"2021-05-31T00:00:00\", \"2021-05-31T00:00:00\", \"2021-05-31T00:00:00\", \"2021-05-31T00:00:00\", \"2021-05-31T00:00:00\", \"2021-05-31T00:00:00\", \"2021-05-31T00:00:00\", \"2021-05-31T00:00:00\", \"2021-05-31T00:00:00\", \"2021-05-31T00:00:00\", \"2021-05-31T00:00:00\", \"2021-05-31T00:00:00\", \"2021-05-31T00:00:00\", \"2021-05-31T00:00:00\", \"2021-05-31T00:00:00\", \"2021-05-31T00:00:00\", \"2021-05-31T00:00:00\", \"2021-05-31T00:00:00\", \"2021-05-31T00:00:00\", \"2021-05-31T00:00:00\", \"2021-05-31T00:00:00\", \"2021-05-31T00:00:00\", \"2021-05-31T00:00:00\", \"2021-05-31T00:00:00\", \"2021-06-01T00:00:00\", \"2021-06-01T00:00:00\", \"2021-06-01T00:00:00\", \"2021-06-01T00:00:00\", \"2021-06-01T00:00:00\", \"2021-06-01T00:00:00\", \"2021-06-01T00:00:00\", \"2021-06-01T00:00:00\", \"2021-06-01T00:00:00\", \"2021-06-01T00:00:00\", \"2021-06-01T00:00:00\", \"2021-06-01T00:00:00\", \"2021-06-01T00:00:00\", \"2021-06-01T00:00:00\", \"2021-06-01T00:00:00\", \"2021-06-01T00:00:00\", \"2021-06-02T00:00:00\", \"2021-06-02T00:00:00\", \"2021-06-02T00:00:00\", \"2021-06-02T00:00:00\", \"2021-06-02T00:00:00\", \"2021-06-02T00:00:00\"], \"yaxis\": \"y\", \"ybingroup\": \"y\"}],                        {\"annotations\": [{\"ax\": 10, \"ay\": 20, \"text\": \"lockdown\", \"x\": \"2021-05-27\", \"xanchor\": \"left\", \"y\": \"2021-05-27\"}], \"coloraxis\": {\"colorbar\": {\"title\": {\"text\": \"count\"}}, \"colorscale\": [[0.0, \"#440154\"], [0.1111111111111111, \"#482878\"], [0.2222222222222222, \"#3e4989\"], [0.3333333333333333, \"#31688e\"], [0.4444444444444444, \"#26828e\"], [0.5555555555555556, \"#1f9e89\"], [0.6666666666666666, \"#35b779\"], [0.7777777777777778, \"#6ece58\"], [0.8888888888888888, \"#b5de2b\"], [1.0, \"#fde725\"]]}, \"legend\": {\"tracegroupgap\": 0}, \"plot_bgcolor\": \"#440154\", \"shapes\": [{\"type\": \"line\", \"x0\": \"2021-05-27\", \"x1\": \"2021-05-27\", \"xref\": \"x\", \"y0\": 0, \"y1\": 1, \"yref\": \"y domain\"}, {\"type\": \"line\", \"x0\": 0, \"x1\": 1, \"xref\": \"x domain\", \"y0\": \"2021-05-27\", \"y1\": \"2021-05-27\", \"yref\": \"y\"}], \"template\": {\"data\": {\"bar\": [{\"error_x\": {\"color\": \"#f2f5fa\"}, \"error_y\": {\"color\": \"#f2f5fa\"}, \"marker\": {\"line\": {\"color\": \"rgb(17,17,17)\", \"width\": 0.5}}, \"type\": \"bar\"}], \"barpolar\": [{\"marker\": {\"line\": {\"color\": \"rgb(17,17,17)\", \"width\": 0.5}}, \"type\": \"barpolar\"}], \"carpet\": [{\"aaxis\": {\"endlinecolor\": \"#A2B1C6\", \"gridcolor\": \"#506784\", \"linecolor\": \"#506784\", \"minorgridcolor\": \"#506784\", \"startlinecolor\": \"#A2B1C6\"}, \"baxis\": {\"endlinecolor\": \"#A2B1C6\", \"gridcolor\": \"#506784\", \"linecolor\": \"#506784\", \"minorgridcolor\": \"#506784\", \"startlinecolor\": \"#A2B1C6\"}, \"type\": \"carpet\"}], \"choropleth\": [{\"colorbar\": {\"outlinewidth\": 0, \"ticks\": \"\"}, \"type\": \"choropleth\"}], \"contour\": [{\"colorbar\": {\"outlinewidth\": 0, \"ticks\": \"\"}, \"colorscale\": [[0.0, \"#0d0887\"], [0.1111111111111111, \"#46039f\"], [0.2222222222222222, \"#7201a8\"], [0.3333333333333333, \"#9c179e\"], [0.4444444444444444, \"#bd3786\"], [0.5555555555555556, \"#d8576b\"], [0.6666666666666666, \"#ed7953\"], [0.7777777777777778, \"#fb9f3a\"], [0.8888888888888888, \"#fdca26\"], [1.0, \"#f0f921\"]], \"type\": \"contour\"}], \"contourcarpet\": [{\"colorbar\": {\"outlinewidth\": 0, \"ticks\": \"\"}, \"type\": \"contourcarpet\"}], \"heatmap\": [{\"colorbar\": {\"outlinewidth\": 0, \"ticks\": \"\"}, \"colorscale\": [[0.0, \"#0d0887\"], [0.1111111111111111, \"#46039f\"], [0.2222222222222222, \"#7201a8\"], [0.3333333333333333, \"#9c179e\"], [0.4444444444444444, \"#bd3786\"], [0.5555555555555556, \"#d8576b\"], [0.6666666666666666, \"#ed7953\"], [0.7777777777777778, \"#fb9f3a\"], [0.8888888888888888, \"#fdca26\"], [1.0, \"#f0f921\"]], \"type\": \"heatmap\"}], \"heatmapgl\": [{\"colorbar\": {\"outlinewidth\": 0, \"ticks\": \"\"}, \"colorscale\": [[0.0, \"#0d0887\"], [0.1111111111111111, \"#46039f\"], [0.2222222222222222, \"#7201a8\"], [0.3333333333333333, \"#9c179e\"], [0.4444444444444444, \"#bd3786\"], [0.5555555555555556, \"#d8576b\"], [0.6666666666666666, \"#ed7953\"], [0.7777777777777778, \"#fb9f3a\"], [0.8888888888888888, \"#fdca26\"], [1.0, \"#f0f921\"]], \"type\": \"heatmapgl\"}], \"histogram\": [{\"marker\": {\"colorbar\": {\"outlinewidth\": 0, \"ticks\": \"\"}}, \"type\": \"histogram\"}], \"histogram2d\": [{\"colorbar\": {\"outlinewidth\": 0, \"ticks\": \"\"}, \"colorscale\": [[0.0, \"#0d0887\"], [0.1111111111111111, \"#46039f\"], [0.2222222222222222, \"#7201a8\"], [0.3333333333333333, \"#9c179e\"], [0.4444444444444444, \"#bd3786\"], [0.5555555555555556, \"#d8576b\"], [0.6666666666666666, \"#ed7953\"], [0.7777777777777778, \"#fb9f3a\"], [0.8888888888888888, \"#fdca26\"], [1.0, \"#f0f921\"]], \"type\": \"histogram2d\"}], \"histogram2dcontour\": [{\"colorbar\": {\"outlinewidth\": 0, \"ticks\": \"\"}, \"colorscale\": [[0.0, \"#0d0887\"], [0.1111111111111111, \"#46039f\"], [0.2222222222222222, \"#7201a8\"], [0.3333333333333333, \"#9c179e\"], [0.4444444444444444, \"#bd3786\"], [0.5555555555555556, \"#d8576b\"], [0.6666666666666666, \"#ed7953\"], [0.7777777777777778, \"#fb9f3a\"], [0.8888888888888888, \"#fdca26\"], [1.0, \"#f0f921\"]], \"type\": \"histogram2dcontour\"}], \"mesh3d\": [{\"colorbar\": {\"outlinewidth\": 0, \"ticks\": \"\"}, \"type\": \"mesh3d\"}], \"parcoords\": [{\"line\": {\"colorbar\": {\"outlinewidth\": 0, \"ticks\": \"\"}}, \"type\": \"parcoords\"}], \"pie\": [{\"automargin\": true, \"type\": \"pie\"}], \"scatter\": [{\"marker\": {\"line\": {\"color\": \"#283442\"}}, \"type\": \"scatter\"}], \"scatter3d\": [{\"line\": {\"colorbar\": {\"outlinewidth\": 0, \"ticks\": \"\"}}, \"marker\": {\"colorbar\": {\"outlinewidth\": 0, \"ticks\": \"\"}}, \"type\": \"scatter3d\"}], \"scattercarpet\": [{\"marker\": {\"colorbar\": {\"outlinewidth\": 0, \"ticks\": \"\"}}, \"type\": \"scattercarpet\"}], \"scattergeo\": [{\"marker\": {\"colorbar\": {\"outlinewidth\": 0, \"ticks\": \"\"}}, \"type\": \"scattergeo\"}], \"scattergl\": [{\"marker\": {\"line\": {\"color\": \"#283442\"}}, \"type\": \"scattergl\"}], \"scattermapbox\": [{\"marker\": {\"colorbar\": {\"outlinewidth\": 0, \"ticks\": \"\"}}, \"type\": \"scattermapbox\"}], \"scatterpolar\": [{\"marker\": {\"colorbar\": {\"outlinewidth\": 0, \"ticks\": \"\"}}, \"type\": \"scatterpolar\"}], \"scatterpolargl\": [{\"marker\": {\"colorbar\": {\"outlinewidth\": 0, \"ticks\": \"\"}}, \"type\": \"scatterpolargl\"}], \"scatterternary\": [{\"marker\": {\"colorbar\": {\"outlinewidth\": 0, \"ticks\": \"\"}}, \"type\": \"scatterternary\"}], \"surface\": [{\"colorbar\": {\"outlinewidth\": 0, \"ticks\": \"\"}, \"colorscale\": [[0.0, \"#0d0887\"], [0.1111111111111111, \"#46039f\"], [0.2222222222222222, \"#7201a8\"], [0.3333333333333333, \"#9c179e\"], [0.4444444444444444, \"#bd3786\"], [0.5555555555555556, \"#d8576b\"], [0.6666666666666666, \"#ed7953\"], [0.7777777777777778, \"#fb9f3a\"], [0.8888888888888888, \"#fdca26\"], [1.0, \"#f0f921\"]], \"type\": \"surface\"}], \"table\": [{\"cells\": {\"fill\": {\"color\": \"#506784\"}, \"line\": {\"color\": \"rgb(17,17,17)\"}}, \"header\": {\"fill\": {\"color\": \"#2a3f5f\"}, \"line\": {\"color\": \"rgb(17,17,17)\"}}, \"type\": \"table\"}]}, \"layout\": {\"annotationdefaults\": {\"arrowcolor\": \"#f2f5fa\", \"arrowhead\": 0, \"arrowwidth\": 1}, \"autotypenumbers\": \"strict\", \"coloraxis\": {\"colorbar\": {\"outlinewidth\": 0, \"ticks\": \"\"}}, \"colorscale\": {\"diverging\": [[0, \"#8e0152\"], [0.1, \"#c51b7d\"], [0.2, \"#de77ae\"], [0.3, \"#f1b6da\"], [0.4, \"#fde0ef\"], [0.5, \"#f7f7f7\"], [0.6, \"#e6f5d0\"], [0.7, \"#b8e186\"], [0.8, \"#7fbc41\"], [0.9, \"#4d9221\"], [1, \"#276419\"]], \"sequential\": [[0.0, \"#0d0887\"], [0.1111111111111111, \"#46039f\"], [0.2222222222222222, \"#7201a8\"], [0.3333333333333333, \"#9c179e\"], [0.4444444444444444, \"#bd3786\"], [0.5555555555555556, \"#d8576b\"], [0.6666666666666666, \"#ed7953\"], [0.7777777777777778, \"#fb9f3a\"], [0.8888888888888888, \"#fdca26\"], [1.0, \"#f0f921\"]], \"sequentialminus\": [[0.0, \"#0d0887\"], [0.1111111111111111, \"#46039f\"], [0.2222222222222222, \"#7201a8\"], [0.3333333333333333, \"#9c179e\"], [0.4444444444444444, \"#bd3786\"], [0.5555555555555556, \"#d8576b\"], [0.6666666666666666, \"#ed7953\"], [0.7777777777777778, \"#fb9f3a\"], [0.8888888888888888, \"#fdca26\"], [1.0, \"#f0f921\"]]}, \"colorway\": [\"#636efa\", \"#EF553B\", \"#00cc96\", \"#ab63fa\", \"#FFA15A\", \"#19d3f3\", \"#FF6692\", \"#B6E880\", \"#FF97FF\", \"#FECB52\"], \"font\": {\"color\": \"#f2f5fa\"}, \"geo\": {\"bgcolor\": \"rgb(17,17,17)\", \"lakecolor\": \"rgb(17,17,17)\", \"landcolor\": \"rgb(17,17,17)\", \"showlakes\": true, \"showland\": true, \"subunitcolor\": \"#506784\"}, \"hoverlabel\": {\"align\": \"left\"}, \"hovermode\": \"closest\", \"mapbox\": {\"style\": \"dark\"}, \"paper_bgcolor\": \"rgb(17,17,17)\", \"plot_bgcolor\": \"rgb(17,17,17)\", \"polar\": {\"angularaxis\": {\"gridcolor\": \"#506784\", \"linecolor\": \"#506784\", \"ticks\": \"\"}, \"bgcolor\": \"rgb(17,17,17)\", \"radialaxis\": {\"gridcolor\": \"#506784\", \"linecolor\": \"#506784\", \"ticks\": \"\"}}, \"scene\": {\"xaxis\": {\"backgroundcolor\": \"rgb(17,17,17)\", \"gridcolor\": \"#506784\", \"gridwidth\": 2, \"linecolor\": \"#506784\", \"showbackground\": true, \"ticks\": \"\", \"zerolinecolor\": \"#C8D4E3\"}, \"yaxis\": {\"backgroundcolor\": \"rgb(17,17,17)\", \"gridcolor\": \"#506784\", \"gridwidth\": 2, \"linecolor\": \"#506784\", \"showbackground\": true, \"ticks\": \"\", \"zerolinecolor\": \"#C8D4E3\"}, \"zaxis\": {\"backgroundcolor\": \"rgb(17,17,17)\", \"gridcolor\": \"#506784\", \"gridwidth\": 2, \"linecolor\": \"#506784\", \"showbackground\": true, \"ticks\": \"\", \"zerolinecolor\": \"#C8D4E3\"}}, \"shapedefaults\": {\"line\": {\"color\": \"#f2f5fa\"}}, \"sliderdefaults\": {\"bgcolor\": \"#C8D4E3\", \"bordercolor\": \"rgb(17,17,17)\", \"borderwidth\": 1, \"tickwidth\": 0}, \"ternary\": {\"aaxis\": {\"gridcolor\": \"#506784\", \"linecolor\": \"#506784\", \"ticks\": \"\"}, \"baxis\": {\"gridcolor\": \"#506784\", \"linecolor\": \"#506784\", \"ticks\": \"\"}, \"bgcolor\": \"rgb(17,17,17)\", \"caxis\": {\"gridcolor\": \"#506784\", \"linecolor\": \"#506784\", \"ticks\": \"\"}}, \"title\": {\"x\": 0.05}, \"updatemenudefaults\": {\"bgcolor\": \"#506784\", \"borderwidth\": 0}, \"xaxis\": {\"automargin\": true, \"gridcolor\": \"#283442\", \"linecolor\": \"#506784\", \"ticks\": \"\", \"title\": {\"standoff\": 15}, \"zerolinecolor\": \"#283442\", \"zerolinewidth\": 2}, \"yaxis\": {\"automargin\": true, \"gridcolor\": \"#283442\", \"linecolor\": \"#506784\", \"ticks\": \"\", \"title\": {\"standoff\": 15}, \"zerolinecolor\": \"#283442\", \"zerolinewidth\": 2}}}, \"title\": {\"text\": \"Exposure site counts by date added\"}, \"width\": 580, \"xaxis\": {\"anchor\": \"y\", \"domain\": [0.0, 1.0], \"nticks\": 11, \"range\": [\"2021-05-10T12:00:00\", \"2021-06-02T12:00:00\"], \"showgrid\": false, \"side\": \"bottom\", \"tickangle\": 60, \"title\": {\"text\": \"Exposure Date\"}}, \"yaxis\": {\"anchor\": \"x\", \"domain\": [0.0, 1.0], \"range\": [\"2021-05-10T12:00:00\", \"2021-06-02T12:00:00\"], \"showgrid\": false, \"title\": {\"text\": \"Date Added\"}}},                        {\"responsive\": true}                    ).then(function(){\n",
       "                            \n",
       "var gd = document.getElementById('63d18be2-0efe-4378-9573-3a27dc635951');\n",
       "var x = new MutationObserver(function (mutations, observer) {{\n",
       "        var display = window.getComputedStyle(gd).display;\n",
       "        if (!display || display === 'none') {{\n",
       "            console.log([gd, 'removed!']);\n",
       "            Plotly.purge(gd);\n",
       "            observer.disconnect();\n",
       "        }}\n",
       "}});\n",
       "\n",
       "// Listen for the removal of the full notebook cells\n",
       "var notebookContainer = gd.closest('#notebook-container');\n",
       "if (notebookContainer) {{\n",
       "    x.observe(notebookContainer, {childList: true});\n",
       "}}\n",
       "\n",
       "// Listen for the clearing of the current output cell\n",
       "var outputEl = gd.closest('.output');\n",
       "if (outputEl) {{\n",
       "    x.observe(outputEl, {childList: true});\n",
       "}}\n",
       "\n",
       "                        })                };                });            </script>        </div>"
      ]
     },
     "metadata": {},
     "output_type": "display_data"
    }
   ],
   "source": [
    "nbinsy = (df_official.Added_date_dtm.max() - df_official.Exposure_date_dtm.min()).days + 1\n",
    "nbinsx = (df_official.Added_date_dtm.max() - df_official.Exposure_date_dtm.min()).days + 1\n",
    "\n",
    "fig_heat = px.density_heatmap(df_official, y=\"Added_date_dtm\", x=\"Exposure_date_dtm\", \n",
    "                         template='plotly_dark', nbinsx=nbinsx, \n",
    "                              nbinsy=nbinsy, color_continuous_scale='viridis',\n",
    "                              title = 'Exposure site counts by date added')\n",
    "fig_heat.add_vline('2021-05-27')\n",
    "fig_heat.add_hline('2021-05-27')\n",
    "fig_heat.add_annotation(x = '2021-05-27', y = '2021-05-27', text='lockdown', xanchor='left', ax=10, ay=20)\n",
    "fig_heat.update_layout(xaxis_title = \"Exposure Date\", \n",
    "                       xaxis_tickangle = 60, xaxis_side = 'bottom', \n",
    "                       yaxis_title='Date Added',\n",
    "                       xaxis_nticks=nbinsx//2,\n",
    "                       width=width, \n",
    "                       plot_bgcolor=px.colors.sequential.Viridis[0], \n",
    "                       xaxis_showgrid=False,\n",
    "                       yaxis_showgrid=False, \n",
    "                       xaxis_range=[df_official.Exposure_date_dtm.min()- dt.timedelta(hours=12), df_official.Added_date_dtm.max() + dt.timedelta(hours=12)], \n",
    "                       yaxis_range=[df_official.Exposure_date_dtm.min()- dt.timedelta(hours=12), df_official.Added_date_dtm.max() + dt.timedelta(hours=12)]\n",
    "                       )"
   ]
  },
  {
   "cell_type": "code",
   "execution_count": 67,
   "metadata": {},
   "outputs": [
    {
     "data": {
      "application/vnd.plotly.v1+json": {
       "config": {
        "plotlyServerURL": "https://plot.ly"
       },
       "data": [
        {
         "alignmentgroup": "True",
         "bingroup": "x",
         "hovertemplate": "tier=1<br>Added_date_dtm=%{x}<br>count=%{y}<extra></extra>",
         "legendgroup": "1",
         "marker": {
          "color": "rgb(228,26,28)"
         },
         "name": "1",
         "offsetgroup": "1",
         "orientation": "v",
         "showlegend": true,
         "type": "histogram",
         "x": [
          "2021-05-26T00:00:00",
          "2021-05-28T00:00:00",
          "2021-05-28T00:00:00",
          "2021-05-28T00:00:00",
          "2021-05-28T00:00:00",
          "2021-05-28T00:00:00",
          "2021-05-28T00:00:00",
          "2021-05-28T00:00:00",
          "2021-05-28T00:00:00",
          "2021-05-28T00:00:00",
          "2021-05-28T00:00:00",
          "2021-05-28T00:00:00",
          "2021-05-28T00:00:00",
          "2021-05-28T00:00:00",
          "2021-05-28T00:00:00",
          "2021-05-29T00:00:00",
          "2021-05-29T00:00:00",
          "2021-05-29T00:00:00",
          "2021-05-29T00:00:00",
          "2021-05-31T00:00:00",
          "2021-05-31T00:00:00",
          "2021-05-31T00:00:00",
          "2021-05-31T00:00:00",
          "2021-05-28T00:00:00",
          "2021-05-31T00:00:00",
          "2021-05-28T00:00:00",
          "2021-05-28T00:00:00",
          "2021-05-27T00:00:00",
          "2021-05-27T00:00:00",
          "2021-05-31T00:00:00",
          "2021-05-31T00:00:00",
          "2021-05-31T00:00:00",
          "2021-05-31T00:00:00",
          "2021-05-27T00:00:00",
          "2021-05-31T00:00:00",
          "2021-05-27T00:00:00",
          "2021-05-27T00:00:00",
          "2021-05-28T00:00:00",
          "2021-05-31T00:00:00",
          "2021-05-28T00:00:00",
          "2021-05-28T00:00:00",
          "2021-05-30T00:00:00",
          "2021-05-28T00:00:00",
          "2021-05-28T00:00:00",
          "2021-05-28T00:00:00",
          "2021-05-28T00:00:00",
          "2021-05-28T00:00:00",
          "2021-05-28T00:00:00",
          "2021-05-28T00:00:00",
          "2021-05-28T00:00:00",
          "2021-05-27T00:00:00",
          "2021-05-31T00:00:00",
          "2021-05-31T00:00:00",
          "2021-05-30T00:00:00",
          "2021-05-30T00:00:00",
          "2021-05-30T00:00:00",
          "2021-05-30T00:00:00",
          "2021-05-30T00:00:00",
          "2021-05-30T00:00:00",
          "2021-05-30T00:00:00",
          "2021-05-30T00:00:00",
          "2021-05-30T00:00:00",
          "2021-05-30T00:00:00",
          "2021-05-30T00:00:00",
          "2021-05-30T00:00:00",
          "2021-05-30T00:00:00",
          "2021-05-30T00:00:00",
          "2021-05-30T00:00:00",
          "2021-05-30T00:00:00",
          "2021-05-30T00:00:00",
          "2021-05-30T00:00:00",
          "2021-05-30T00:00:00",
          "2021-05-30T00:00:00",
          "2021-05-30T00:00:00",
          "2021-05-30T00:00:00",
          "2021-05-30T00:00:00",
          "2021-05-31T00:00:00",
          "2021-05-30T00:00:00",
          "2021-05-30T00:00:00",
          "2021-05-31T00:00:00",
          "2021-05-31T00:00:00",
          "2021-05-29T00:00:00",
          "2021-05-30T00:00:00",
          "2021-05-30T00:00:00",
          "2021-05-31T00:00:00",
          "2021-05-31T00:00:00",
          "2021-05-31T00:00:00",
          "2021-05-30T00:00:00",
          "2021-05-30T00:00:00",
          "2021-05-30T00:00:00",
          "2021-05-30T00:00:00",
          "2021-05-31T00:00:00",
          "2021-05-30T00:00:00",
          "2021-05-30T00:00:00",
          "2021-05-30T00:00:00",
          "2021-05-30T00:00:00",
          "2021-05-30T00:00:00",
          "2021-05-30T00:00:00",
          "2021-05-30T00:00:00",
          "2021-05-30T00:00:00",
          "2021-05-30T00:00:00",
          "2021-05-30T00:00:00",
          "2021-05-31T00:00:00",
          "2021-05-28T00:00:00",
          "2021-05-27T00:00:00",
          "2021-05-26T00:00:00",
          "2021-06-01T00:00:00",
          "2021-06-01T00:00:00",
          "2021-06-01T00:00:00",
          "2021-05-27T00:00:00",
          "2021-05-18T00:00:00",
          "2021-05-31T00:00:00",
          "2021-05-26T00:00:00",
          "2021-05-26T00:00:00",
          "2021-05-31T00:00:00",
          "2021-05-26T00:00:00",
          "2021-05-26T00:00:00",
          "2021-05-24T00:00:00",
          "2021-05-26T00:00:00",
          "2021-05-26T00:00:00",
          "2021-05-26T00:00:00",
          "2021-05-26T00:00:00",
          "2021-05-26T00:00:00",
          "2021-05-31T00:00:00",
          "2021-05-26T00:00:00",
          "2021-05-31T00:00:00",
          "2021-05-26T00:00:00",
          "2021-05-26T00:00:00",
          "2021-05-26T00:00:00",
          "2021-05-24T00:00:00",
          "2021-05-26T00:00:00",
          "2021-05-31T00:00:00",
          "2021-06-01T00:00:00",
          "2021-06-01T00:00:00",
          "2021-05-24T00:00:00",
          "2021-05-24T00:00:00",
          "2021-05-24T00:00:00",
          "2021-05-24T00:00:00",
          "2021-05-24T00:00:00",
          "2021-05-24T00:00:00",
          "2021-05-24T00:00:00",
          "2021-06-01T00:00:00",
          "2021-05-24T00:00:00",
          "2021-05-24T00:00:00",
          "2021-06-01T00:00:00",
          "2021-05-26T00:00:00",
          "2021-05-26T00:00:00",
          "2021-05-26T00:00:00",
          "2021-05-31T00:00:00",
          "2021-05-26T00:00:00",
          "2021-05-26T00:00:00",
          "2021-05-26T00:00:00",
          "2021-05-27T00:00:00",
          "2021-05-31T00:00:00",
          "2021-05-26T00:00:00",
          "2021-05-31T00:00:00",
          "2021-05-31T00:00:00",
          "2021-05-27T00:00:00",
          "2021-05-27T00:00:00",
          "2021-05-27T00:00:00",
          "2021-06-02T00:00:00",
          "2021-05-27T00:00:00",
          "2021-05-27T00:00:00",
          "2021-05-27T00:00:00",
          "2021-05-27T00:00:00",
          "2021-05-27T00:00:00",
          "2021-05-31T00:00:00",
          "2021-05-27T00:00:00",
          "2021-05-27T00:00:00",
          "2021-05-31T00:00:00",
          "2021-05-27T00:00:00",
          "2021-05-27T00:00:00",
          "2021-05-26T00:00:00",
          "2021-05-26T00:00:00",
          "2021-05-26T00:00:00",
          "2021-05-26T00:00:00",
          "2021-05-24T00:00:00",
          "2021-05-26T00:00:00",
          "2021-05-26T00:00:00",
          "2021-05-31T00:00:00",
          "2021-05-27T00:00:00",
          "2021-05-26T00:00:00",
          "2021-05-26T00:00:00",
          "2021-05-26T00:00:00",
          "2021-05-26T00:00:00",
          "2021-05-26T00:00:00",
          "2021-05-26T00:00:00",
          "2021-05-31T00:00:00"
         ],
         "xaxis": "x",
         "yaxis": "y"
        },
        {
         "alignmentgroup": "True",
         "bingroup": "x",
         "hovertemplate": "tier=2<br>Added_date_dtm=%{x}<br>count=%{y}<extra></extra>",
         "legendgroup": "2",
         "marker": {
          "color": "rgb(55,126,184)"
         },
         "name": "2",
         "offsetgroup": "2",
         "orientation": "v",
         "showlegend": true,
         "type": "histogram",
         "x": [
          "2021-05-30T00:00:00",
          "2021-05-30T00:00:00",
          "2021-06-01T00:00:00",
          "2021-05-30T00:00:00",
          "2021-05-30T00:00:00",
          "2021-06-02T00:00:00",
          "2021-06-01T00:00:00",
          "2021-06-01T00:00:00",
          "2021-05-30T00:00:00",
          "2021-05-30T00:00:00",
          "2021-06-02T00:00:00",
          "2021-05-30T00:00:00",
          "2021-05-30T00:00:00",
          "2021-06-01T00:00:00",
          "2021-05-30T00:00:00",
          "2021-06-02T00:00:00",
          "2021-05-30T00:00:00",
          "2021-05-30T00:00:00",
          "2021-06-01T00:00:00",
          "2021-05-31T00:00:00",
          "2021-06-01T00:00:00",
          "2021-05-31T00:00:00",
          "2021-05-31T00:00:00",
          "2021-05-31T00:00:00",
          "2021-05-31T00:00:00",
          "2021-05-31T00:00:00",
          "2021-05-31T00:00:00",
          "2021-05-31T00:00:00",
          "2021-05-31T00:00:00",
          "2021-05-31T00:00:00",
          "2021-05-31T00:00:00",
          "2021-05-31T00:00:00",
          "2021-05-31T00:00:00",
          "2021-05-31T00:00:00",
          "2021-05-31T00:00:00",
          "2021-05-31T00:00:00",
          "2021-05-31T00:00:00",
          "2021-06-01T00:00:00",
          "2021-05-31T00:00:00",
          "2021-05-31T00:00:00",
          "2021-05-30T00:00:00",
          "2021-05-30T00:00:00",
          "2021-05-30T00:00:00",
          "2021-05-30T00:00:00",
          "2021-05-30T00:00:00",
          "2021-05-30T00:00:00",
          "2021-05-30T00:00:00",
          "2021-05-30T00:00:00",
          "2021-05-30T00:00:00",
          "2021-05-30T00:00:00",
          "2021-05-30T00:00:00",
          "2021-05-31T00:00:00",
          "2021-06-01T00:00:00",
          "2021-06-01T00:00:00",
          "2021-05-31T00:00:00",
          "2021-05-31T00:00:00",
          "2021-05-30T00:00:00",
          "2021-05-30T00:00:00",
          "2021-05-30T00:00:00",
          "2021-05-26T00:00:00",
          "2021-05-26T00:00:00",
          "2021-05-26T00:00:00",
          "2021-05-27T00:00:00",
          "2021-05-27T00:00:00",
          "2021-05-27T00:00:00",
          "2021-05-27T00:00:00",
          "2021-05-27T00:00:00",
          "2021-05-27T00:00:00",
          "2021-05-27T00:00:00",
          "2021-05-27T00:00:00",
          "2021-05-27T00:00:00",
          "2021-05-27T00:00:00",
          "2021-05-27T00:00:00",
          "2021-05-27T00:00:00",
          "2021-05-27T00:00:00",
          "2021-05-27T00:00:00",
          "2021-05-28T00:00:00",
          "2021-05-28T00:00:00",
          "2021-05-28T00:00:00",
          "2021-05-30T00:00:00",
          "2021-05-26T00:00:00",
          "2021-05-26T00:00:00",
          "2021-05-26T00:00:00",
          "2021-05-24T00:00:00",
          "2021-05-26T00:00:00",
          "2021-05-24T00:00:00",
          "2021-05-26T00:00:00",
          "2021-05-26T00:00:00",
          "2021-05-24T00:00:00",
          "2021-05-24T00:00:00",
          "2021-05-25T00:00:00",
          "2021-05-24T00:00:00",
          "2021-05-24T00:00:00",
          "2021-05-24T00:00:00",
          "2021-05-28T00:00:00",
          "2021-05-25T00:00:00",
          "2021-05-25T00:00:00",
          "2021-05-25T00:00:00",
          "2021-05-24T00:00:00",
          "2021-05-25T00:00:00",
          "2021-05-24T00:00:00",
          "2021-05-24T00:00:00",
          "2021-05-24T00:00:00",
          "2021-05-22T00:00:00",
          "2021-05-26T00:00:00",
          "2021-05-25T00:00:00",
          "2021-05-25T00:00:00",
          "2021-05-29T00:00:00",
          "2021-05-28T00:00:00",
          "2021-05-30T00:00:00",
          "2021-05-30T00:00:00",
          "2021-05-30T00:00:00",
          "2021-05-30T00:00:00",
          "2021-05-30T00:00:00",
          "2021-05-30T00:00:00",
          "2021-05-30T00:00:00",
          "2021-05-30T00:00:00",
          "2021-05-30T00:00:00",
          "2021-05-30T00:00:00",
          "2021-05-30T00:00:00",
          "2021-05-30T00:00:00",
          "2021-05-30T00:00:00",
          "2021-05-30T00:00:00",
          "2021-05-30T00:00:00",
          "2021-05-30T00:00:00",
          "2021-05-30T00:00:00",
          "2021-05-30T00:00:00",
          "2021-05-30T00:00:00",
          "2021-05-30T00:00:00",
          "2021-05-30T00:00:00",
          "2021-05-30T00:00:00",
          "2021-05-30T00:00:00",
          "2021-05-30T00:00:00",
          "2021-05-30T00:00:00",
          "2021-05-30T00:00:00",
          "2021-06-02T00:00:00",
          "2021-05-29T00:00:00",
          "2021-05-29T00:00:00",
          "2021-05-29T00:00:00",
          "2021-05-29T00:00:00",
          "2021-05-30T00:00:00",
          "2021-05-29T00:00:00",
          "2021-05-29T00:00:00",
          "2021-05-29T00:00:00",
          "2021-05-29T00:00:00",
          "2021-05-29T00:00:00",
          "2021-05-29T00:00:00",
          "2021-05-29T00:00:00",
          "2021-05-29T00:00:00",
          "2021-05-29T00:00:00",
          "2021-05-30T00:00:00",
          "2021-05-29T00:00:00",
          "2021-06-02T00:00:00"
         ],
         "xaxis": "x",
         "yaxis": "y"
        },
        {
         "alignmentgroup": "True",
         "bingroup": "x",
         "hovertemplate": "tier=3<br>Added_date_dtm=%{x}<br>count=%{y}<extra></extra>",
         "legendgroup": "3",
         "marker": {
          "color": "rgb(77,175,74)"
         },
         "name": "3",
         "offsetgroup": "3",
         "orientation": "v",
         "showlegend": true,
         "type": "histogram",
         "x": [
          "2021-05-31T00:00:00",
          "2021-05-27T00:00:00",
          "2021-05-31T00:00:00",
          "2021-05-31T00:00:00",
          "2021-05-29T00:00:00",
          "2021-05-26T00:00:00",
          "2021-05-29T00:00:00",
          "2021-05-29T00:00:00",
          "2021-05-30T00:00:00",
          "2021-05-31T00:00:00",
          "2021-05-31T00:00:00",
          "2021-05-26T00:00:00",
          "2021-05-31T00:00:00",
          "2021-05-31T00:00:00",
          "2021-05-27T00:00:00",
          "2021-05-31T00:00:00"
         ],
         "xaxis": "x",
         "yaxis": "y"
        }
       ],
       "layout": {
        "annotations": [
         {
          "ax": 10,
          "ay": 20,
          "text": "lockdown",
          "x": "2021-05-27",
          "xanchor": "left",
          "y": 80
         }
        ],
        "bargap": 0.2,
        "barmode": "relative",
        "legend": {
         "title": {
          "text": "tier"
         },
         "tracegroupgap": 0
        },
        "shapes": [
         {
          "type": "line",
          "x0": "2021-05-27",
          "x1": "2021-05-27",
          "xref": "x",
          "y0": 0,
          "y1": 1,
          "yref": "y domain"
         }
        ],
        "template": {
         "data": {
          "bar": [
           {
            "error_x": {
             "color": "#f2f5fa"
            },
            "error_y": {
             "color": "#f2f5fa"
            },
            "marker": {
             "line": {
              "color": "rgb(17,17,17)",
              "width": 0.5
             }
            },
            "type": "bar"
           }
          ],
          "barpolar": [
           {
            "marker": {
             "line": {
              "color": "rgb(17,17,17)",
              "width": 0.5
             }
            },
            "type": "barpolar"
           }
          ],
          "carpet": [
           {
            "aaxis": {
             "endlinecolor": "#A2B1C6",
             "gridcolor": "#506784",
             "linecolor": "#506784",
             "minorgridcolor": "#506784",
             "startlinecolor": "#A2B1C6"
            },
            "baxis": {
             "endlinecolor": "#A2B1C6",
             "gridcolor": "#506784",
             "linecolor": "#506784",
             "minorgridcolor": "#506784",
             "startlinecolor": "#A2B1C6"
            },
            "type": "carpet"
           }
          ],
          "choropleth": [
           {
            "colorbar": {
             "outlinewidth": 0,
             "ticks": ""
            },
            "type": "choropleth"
           }
          ],
          "contour": [
           {
            "colorbar": {
             "outlinewidth": 0,
             "ticks": ""
            },
            "colorscale": [
             [
              0,
              "#0d0887"
             ],
             [
              0.1111111111111111,
              "#46039f"
             ],
             [
              0.2222222222222222,
              "#7201a8"
             ],
             [
              0.3333333333333333,
              "#9c179e"
             ],
             [
              0.4444444444444444,
              "#bd3786"
             ],
             [
              0.5555555555555556,
              "#d8576b"
             ],
             [
              0.6666666666666666,
              "#ed7953"
             ],
             [
              0.7777777777777778,
              "#fb9f3a"
             ],
             [
              0.8888888888888888,
              "#fdca26"
             ],
             [
              1,
              "#f0f921"
             ]
            ],
            "type": "contour"
           }
          ],
          "contourcarpet": [
           {
            "colorbar": {
             "outlinewidth": 0,
             "ticks": ""
            },
            "type": "contourcarpet"
           }
          ],
          "heatmap": [
           {
            "colorbar": {
             "outlinewidth": 0,
             "ticks": ""
            },
            "colorscale": [
             [
              0,
              "#0d0887"
             ],
             [
              0.1111111111111111,
              "#46039f"
             ],
             [
              0.2222222222222222,
              "#7201a8"
             ],
             [
              0.3333333333333333,
              "#9c179e"
             ],
             [
              0.4444444444444444,
              "#bd3786"
             ],
             [
              0.5555555555555556,
              "#d8576b"
             ],
             [
              0.6666666666666666,
              "#ed7953"
             ],
             [
              0.7777777777777778,
              "#fb9f3a"
             ],
             [
              0.8888888888888888,
              "#fdca26"
             ],
             [
              1,
              "#f0f921"
             ]
            ],
            "type": "heatmap"
           }
          ],
          "heatmapgl": [
           {
            "colorbar": {
             "outlinewidth": 0,
             "ticks": ""
            },
            "colorscale": [
             [
              0,
              "#0d0887"
             ],
             [
              0.1111111111111111,
              "#46039f"
             ],
             [
              0.2222222222222222,
              "#7201a8"
             ],
             [
              0.3333333333333333,
              "#9c179e"
             ],
             [
              0.4444444444444444,
              "#bd3786"
             ],
             [
              0.5555555555555556,
              "#d8576b"
             ],
             [
              0.6666666666666666,
              "#ed7953"
             ],
             [
              0.7777777777777778,
              "#fb9f3a"
             ],
             [
              0.8888888888888888,
              "#fdca26"
             ],
             [
              1,
              "#f0f921"
             ]
            ],
            "type": "heatmapgl"
           }
          ],
          "histogram": [
           {
            "marker": {
             "colorbar": {
              "outlinewidth": 0,
              "ticks": ""
             }
            },
            "type": "histogram"
           }
          ],
          "histogram2d": [
           {
            "colorbar": {
             "outlinewidth": 0,
             "ticks": ""
            },
            "colorscale": [
             [
              0,
              "#0d0887"
             ],
             [
              0.1111111111111111,
              "#46039f"
             ],
             [
              0.2222222222222222,
              "#7201a8"
             ],
             [
              0.3333333333333333,
              "#9c179e"
             ],
             [
              0.4444444444444444,
              "#bd3786"
             ],
             [
              0.5555555555555556,
              "#d8576b"
             ],
             [
              0.6666666666666666,
              "#ed7953"
             ],
             [
              0.7777777777777778,
              "#fb9f3a"
             ],
             [
              0.8888888888888888,
              "#fdca26"
             ],
             [
              1,
              "#f0f921"
             ]
            ],
            "type": "histogram2d"
           }
          ],
          "histogram2dcontour": [
           {
            "colorbar": {
             "outlinewidth": 0,
             "ticks": ""
            },
            "colorscale": [
             [
              0,
              "#0d0887"
             ],
             [
              0.1111111111111111,
              "#46039f"
             ],
             [
              0.2222222222222222,
              "#7201a8"
             ],
             [
              0.3333333333333333,
              "#9c179e"
             ],
             [
              0.4444444444444444,
              "#bd3786"
             ],
             [
              0.5555555555555556,
              "#d8576b"
             ],
             [
              0.6666666666666666,
              "#ed7953"
             ],
             [
              0.7777777777777778,
              "#fb9f3a"
             ],
             [
              0.8888888888888888,
              "#fdca26"
             ],
             [
              1,
              "#f0f921"
             ]
            ],
            "type": "histogram2dcontour"
           }
          ],
          "mesh3d": [
           {
            "colorbar": {
             "outlinewidth": 0,
             "ticks": ""
            },
            "type": "mesh3d"
           }
          ],
          "parcoords": [
           {
            "line": {
             "colorbar": {
              "outlinewidth": 0,
              "ticks": ""
             }
            },
            "type": "parcoords"
           }
          ],
          "pie": [
           {
            "automargin": true,
            "type": "pie"
           }
          ],
          "scatter": [
           {
            "marker": {
             "line": {
              "color": "#283442"
             }
            },
            "type": "scatter"
           }
          ],
          "scatter3d": [
           {
            "line": {
             "colorbar": {
              "outlinewidth": 0,
              "ticks": ""
             }
            },
            "marker": {
             "colorbar": {
              "outlinewidth": 0,
              "ticks": ""
             }
            },
            "type": "scatter3d"
           }
          ],
          "scattercarpet": [
           {
            "marker": {
             "colorbar": {
              "outlinewidth": 0,
              "ticks": ""
             }
            },
            "type": "scattercarpet"
           }
          ],
          "scattergeo": [
           {
            "marker": {
             "colorbar": {
              "outlinewidth": 0,
              "ticks": ""
             }
            },
            "type": "scattergeo"
           }
          ],
          "scattergl": [
           {
            "marker": {
             "line": {
              "color": "#283442"
             }
            },
            "type": "scattergl"
           }
          ],
          "scattermapbox": [
           {
            "marker": {
             "colorbar": {
              "outlinewidth": 0,
              "ticks": ""
             }
            },
            "type": "scattermapbox"
           }
          ],
          "scatterpolar": [
           {
            "marker": {
             "colorbar": {
              "outlinewidth": 0,
              "ticks": ""
             }
            },
            "type": "scatterpolar"
           }
          ],
          "scatterpolargl": [
           {
            "marker": {
             "colorbar": {
              "outlinewidth": 0,
              "ticks": ""
             }
            },
            "type": "scatterpolargl"
           }
          ],
          "scatterternary": [
           {
            "marker": {
             "colorbar": {
              "outlinewidth": 0,
              "ticks": ""
             }
            },
            "type": "scatterternary"
           }
          ],
          "surface": [
           {
            "colorbar": {
             "outlinewidth": 0,
             "ticks": ""
            },
            "colorscale": [
             [
              0,
              "#0d0887"
             ],
             [
              0.1111111111111111,
              "#46039f"
             ],
             [
              0.2222222222222222,
              "#7201a8"
             ],
             [
              0.3333333333333333,
              "#9c179e"
             ],
             [
              0.4444444444444444,
              "#bd3786"
             ],
             [
              0.5555555555555556,
              "#d8576b"
             ],
             [
              0.6666666666666666,
              "#ed7953"
             ],
             [
              0.7777777777777778,
              "#fb9f3a"
             ],
             [
              0.8888888888888888,
              "#fdca26"
             ],
             [
              1,
              "#f0f921"
             ]
            ],
            "type": "surface"
           }
          ],
          "table": [
           {
            "cells": {
             "fill": {
              "color": "#506784"
             },
             "line": {
              "color": "rgb(17,17,17)"
             }
            },
            "header": {
             "fill": {
              "color": "#2a3f5f"
             },
             "line": {
              "color": "rgb(17,17,17)"
             }
            },
            "type": "table"
           }
          ]
         },
         "layout": {
          "annotationdefaults": {
           "arrowcolor": "#f2f5fa",
           "arrowhead": 0,
           "arrowwidth": 1
          },
          "autotypenumbers": "strict",
          "coloraxis": {
           "colorbar": {
            "outlinewidth": 0,
            "ticks": ""
           }
          },
          "colorscale": {
           "diverging": [
            [
             0,
             "#8e0152"
            ],
            [
             0.1,
             "#c51b7d"
            ],
            [
             0.2,
             "#de77ae"
            ],
            [
             0.3,
             "#f1b6da"
            ],
            [
             0.4,
             "#fde0ef"
            ],
            [
             0.5,
             "#f7f7f7"
            ],
            [
             0.6,
             "#e6f5d0"
            ],
            [
             0.7,
             "#b8e186"
            ],
            [
             0.8,
             "#7fbc41"
            ],
            [
             0.9,
             "#4d9221"
            ],
            [
             1,
             "#276419"
            ]
           ],
           "sequential": [
            [
             0,
             "#0d0887"
            ],
            [
             0.1111111111111111,
             "#46039f"
            ],
            [
             0.2222222222222222,
             "#7201a8"
            ],
            [
             0.3333333333333333,
             "#9c179e"
            ],
            [
             0.4444444444444444,
             "#bd3786"
            ],
            [
             0.5555555555555556,
             "#d8576b"
            ],
            [
             0.6666666666666666,
             "#ed7953"
            ],
            [
             0.7777777777777778,
             "#fb9f3a"
            ],
            [
             0.8888888888888888,
             "#fdca26"
            ],
            [
             1,
             "#f0f921"
            ]
           ],
           "sequentialminus": [
            [
             0,
             "#0d0887"
            ],
            [
             0.1111111111111111,
             "#46039f"
            ],
            [
             0.2222222222222222,
             "#7201a8"
            ],
            [
             0.3333333333333333,
             "#9c179e"
            ],
            [
             0.4444444444444444,
             "#bd3786"
            ],
            [
             0.5555555555555556,
             "#d8576b"
            ],
            [
             0.6666666666666666,
             "#ed7953"
            ],
            [
             0.7777777777777778,
             "#fb9f3a"
            ],
            [
             0.8888888888888888,
             "#fdca26"
            ],
            [
             1,
             "#f0f921"
            ]
           ]
          },
          "colorway": [
           "#636efa",
           "#EF553B",
           "#00cc96",
           "#ab63fa",
           "#FFA15A",
           "#19d3f3",
           "#FF6692",
           "#B6E880",
           "#FF97FF",
           "#FECB52"
          ],
          "font": {
           "color": "#f2f5fa"
          },
          "geo": {
           "bgcolor": "rgb(17,17,17)",
           "lakecolor": "rgb(17,17,17)",
           "landcolor": "rgb(17,17,17)",
           "showlakes": true,
           "showland": true,
           "subunitcolor": "#506784"
          },
          "hoverlabel": {
           "align": "left"
          },
          "hovermode": "closest",
          "mapbox": {
           "style": "dark"
          },
          "paper_bgcolor": "rgb(17,17,17)",
          "plot_bgcolor": "rgb(17,17,17)",
          "polar": {
           "angularaxis": {
            "gridcolor": "#506784",
            "linecolor": "#506784",
            "ticks": ""
           },
           "bgcolor": "rgb(17,17,17)",
           "radialaxis": {
            "gridcolor": "#506784",
            "linecolor": "#506784",
            "ticks": ""
           }
          },
          "scene": {
           "xaxis": {
            "backgroundcolor": "rgb(17,17,17)",
            "gridcolor": "#506784",
            "gridwidth": 2,
            "linecolor": "#506784",
            "showbackground": true,
            "ticks": "",
            "zerolinecolor": "#C8D4E3"
           },
           "yaxis": {
            "backgroundcolor": "rgb(17,17,17)",
            "gridcolor": "#506784",
            "gridwidth": 2,
            "linecolor": "#506784",
            "showbackground": true,
            "ticks": "",
            "zerolinecolor": "#C8D4E3"
           },
           "zaxis": {
            "backgroundcolor": "rgb(17,17,17)",
            "gridcolor": "#506784",
            "gridwidth": 2,
            "linecolor": "#506784",
            "showbackground": true,
            "ticks": "",
            "zerolinecolor": "#C8D4E3"
           }
          },
          "shapedefaults": {
           "line": {
            "color": "#f2f5fa"
           }
          },
          "sliderdefaults": {
           "bgcolor": "#C8D4E3",
           "bordercolor": "rgb(17,17,17)",
           "borderwidth": 1,
           "tickwidth": 0
          },
          "ternary": {
           "aaxis": {
            "gridcolor": "#506784",
            "linecolor": "#506784",
            "ticks": ""
           },
           "baxis": {
            "gridcolor": "#506784",
            "linecolor": "#506784",
            "ticks": ""
           },
           "bgcolor": "rgb(17,17,17)",
           "caxis": {
            "gridcolor": "#506784",
            "linecolor": "#506784",
            "ticks": ""
           }
          },
          "title": {
           "x": 0.05
          },
          "updatemenudefaults": {
           "bgcolor": "#506784",
           "borderwidth": 0
          },
          "xaxis": {
           "automargin": true,
           "gridcolor": "#283442",
           "linecolor": "#506784",
           "ticks": "",
           "title": {
            "standoff": 15
           },
           "zerolinecolor": "#283442",
           "zerolinewidth": 2
          },
          "yaxis": {
           "automargin": true,
           "gridcolor": "#283442",
           "linecolor": "#506784",
           "ticks": "",
           "title": {
            "standoff": 15
           },
           "zerolinecolor": "#283442",
           "zerolinewidth": 2
          }
         }
        },
        "title": {
         "text": "Sites added categorised by tier"
        },
        "width": 580,
        "xaxis": {
         "anchor": "y",
         "domain": [
          0,
          1
         ],
         "nticks": 10,
         "range": [
          "2021-05-10T12:00:00",
          "2021-06-02T12:00:00"
         ],
         "tickangle": 60,
         "title": {
          "text": "Date added"
         }
        },
        "yaxis": {
         "anchor": "x",
         "domain": [
          0,
          1
         ],
         "title": {
          "text": "Number of exposure sites"
         }
        }
       }
      },
      "text/html": [
       "<div>                            <div id=\"a51ab52d-14f8-4e9e-85c6-9dbc2dc97e42\" class=\"plotly-graph-div\" style=\"height:525px; width:580px;\"></div>            <script type=\"text/javascript\">                require([\"plotly\"], function(Plotly) {                    window.PLOTLYENV=window.PLOTLYENV || {};                                    if (document.getElementById(\"a51ab52d-14f8-4e9e-85c6-9dbc2dc97e42\")) {                    Plotly.newPlot(                        \"a51ab52d-14f8-4e9e-85c6-9dbc2dc97e42\",                        [{\"alignmentgroup\": \"True\", \"bingroup\": \"x\", \"hovertemplate\": \"tier=1<br>Added_date_dtm=%{x}<br>count=%{y}<extra></extra>\", \"legendgroup\": \"1\", \"marker\": {\"color\": \"rgb(228,26,28)\"}, \"name\": \"1\", \"offsetgroup\": \"1\", \"orientation\": \"v\", \"showlegend\": true, \"type\": \"histogram\", \"x\": [\"2021-05-26T00:00:00\", \"2021-05-28T00:00:00\", \"2021-05-28T00:00:00\", \"2021-05-28T00:00:00\", \"2021-05-28T00:00:00\", \"2021-05-28T00:00:00\", \"2021-05-28T00:00:00\", \"2021-05-28T00:00:00\", \"2021-05-28T00:00:00\", \"2021-05-28T00:00:00\", \"2021-05-28T00:00:00\", \"2021-05-28T00:00:00\", \"2021-05-28T00:00:00\", \"2021-05-28T00:00:00\", \"2021-05-28T00:00:00\", \"2021-05-29T00:00:00\", \"2021-05-29T00:00:00\", \"2021-05-29T00:00:00\", \"2021-05-29T00:00:00\", \"2021-05-31T00:00:00\", \"2021-05-31T00:00:00\", \"2021-05-31T00:00:00\", \"2021-05-31T00:00:00\", \"2021-05-28T00:00:00\", \"2021-05-31T00:00:00\", \"2021-05-28T00:00:00\", \"2021-05-28T00:00:00\", \"2021-05-27T00:00:00\", \"2021-05-27T00:00:00\", \"2021-05-31T00:00:00\", \"2021-05-31T00:00:00\", \"2021-05-31T00:00:00\", \"2021-05-31T00:00:00\", \"2021-05-27T00:00:00\", \"2021-05-31T00:00:00\", \"2021-05-27T00:00:00\", \"2021-05-27T00:00:00\", \"2021-05-28T00:00:00\", \"2021-05-31T00:00:00\", \"2021-05-28T00:00:00\", \"2021-05-28T00:00:00\", \"2021-05-30T00:00:00\", \"2021-05-28T00:00:00\", \"2021-05-28T00:00:00\", \"2021-05-28T00:00:00\", \"2021-05-28T00:00:00\", \"2021-05-28T00:00:00\", \"2021-05-28T00:00:00\", \"2021-05-28T00:00:00\", \"2021-05-28T00:00:00\", \"2021-05-27T00:00:00\", \"2021-05-31T00:00:00\", \"2021-05-31T00:00:00\", \"2021-05-30T00:00:00\", \"2021-05-30T00:00:00\", \"2021-05-30T00:00:00\", \"2021-05-30T00:00:00\", \"2021-05-30T00:00:00\", \"2021-05-30T00:00:00\", \"2021-05-30T00:00:00\", \"2021-05-30T00:00:00\", \"2021-05-30T00:00:00\", \"2021-05-30T00:00:00\", \"2021-05-30T00:00:00\", \"2021-05-30T00:00:00\", \"2021-05-30T00:00:00\", \"2021-05-30T00:00:00\", \"2021-05-30T00:00:00\", \"2021-05-30T00:00:00\", \"2021-05-30T00:00:00\", \"2021-05-30T00:00:00\", \"2021-05-30T00:00:00\", \"2021-05-30T00:00:00\", \"2021-05-30T00:00:00\", \"2021-05-30T00:00:00\", \"2021-05-30T00:00:00\", \"2021-05-31T00:00:00\", \"2021-05-30T00:00:00\", \"2021-05-30T00:00:00\", \"2021-05-31T00:00:00\", \"2021-05-31T00:00:00\", \"2021-05-29T00:00:00\", \"2021-05-30T00:00:00\", \"2021-05-30T00:00:00\", \"2021-05-31T00:00:00\", \"2021-05-31T00:00:00\", \"2021-05-31T00:00:00\", \"2021-05-30T00:00:00\", \"2021-05-30T00:00:00\", \"2021-05-30T00:00:00\", \"2021-05-30T00:00:00\", \"2021-05-31T00:00:00\", \"2021-05-30T00:00:00\", \"2021-05-30T00:00:00\", \"2021-05-30T00:00:00\", \"2021-05-30T00:00:00\", \"2021-05-30T00:00:00\", \"2021-05-30T00:00:00\", \"2021-05-30T00:00:00\", \"2021-05-30T00:00:00\", \"2021-05-30T00:00:00\", \"2021-05-30T00:00:00\", \"2021-05-31T00:00:00\", \"2021-05-28T00:00:00\", \"2021-05-27T00:00:00\", \"2021-05-26T00:00:00\", \"2021-06-01T00:00:00\", \"2021-06-01T00:00:00\", \"2021-06-01T00:00:00\", \"2021-05-27T00:00:00\", \"2021-05-18T00:00:00\", \"2021-05-31T00:00:00\", \"2021-05-26T00:00:00\", \"2021-05-26T00:00:00\", \"2021-05-31T00:00:00\", \"2021-05-26T00:00:00\", \"2021-05-26T00:00:00\", \"2021-05-24T00:00:00\", \"2021-05-26T00:00:00\", \"2021-05-26T00:00:00\", \"2021-05-26T00:00:00\", \"2021-05-26T00:00:00\", \"2021-05-26T00:00:00\", \"2021-05-31T00:00:00\", \"2021-05-26T00:00:00\", \"2021-05-31T00:00:00\", \"2021-05-26T00:00:00\", \"2021-05-26T00:00:00\", \"2021-05-26T00:00:00\", \"2021-05-24T00:00:00\", \"2021-05-26T00:00:00\", \"2021-05-31T00:00:00\", \"2021-06-01T00:00:00\", \"2021-06-01T00:00:00\", \"2021-05-24T00:00:00\", \"2021-05-24T00:00:00\", \"2021-05-24T00:00:00\", \"2021-05-24T00:00:00\", \"2021-05-24T00:00:00\", \"2021-05-24T00:00:00\", \"2021-05-24T00:00:00\", \"2021-06-01T00:00:00\", \"2021-05-24T00:00:00\", \"2021-05-24T00:00:00\", \"2021-06-01T00:00:00\", \"2021-05-26T00:00:00\", \"2021-05-26T00:00:00\", \"2021-05-26T00:00:00\", \"2021-05-31T00:00:00\", \"2021-05-26T00:00:00\", \"2021-05-26T00:00:00\", \"2021-05-26T00:00:00\", \"2021-05-27T00:00:00\", \"2021-05-31T00:00:00\", \"2021-05-26T00:00:00\", \"2021-05-31T00:00:00\", \"2021-05-31T00:00:00\", \"2021-05-27T00:00:00\", \"2021-05-27T00:00:00\", \"2021-05-27T00:00:00\", \"2021-06-02T00:00:00\", \"2021-05-27T00:00:00\", \"2021-05-27T00:00:00\", \"2021-05-27T00:00:00\", \"2021-05-27T00:00:00\", \"2021-05-27T00:00:00\", \"2021-05-31T00:00:00\", \"2021-05-27T00:00:00\", \"2021-05-27T00:00:00\", \"2021-05-31T00:00:00\", \"2021-05-27T00:00:00\", \"2021-05-27T00:00:00\", \"2021-05-26T00:00:00\", \"2021-05-26T00:00:00\", \"2021-05-26T00:00:00\", \"2021-05-26T00:00:00\", \"2021-05-24T00:00:00\", \"2021-05-26T00:00:00\", \"2021-05-26T00:00:00\", \"2021-05-31T00:00:00\", \"2021-05-27T00:00:00\", \"2021-05-26T00:00:00\", \"2021-05-26T00:00:00\", \"2021-05-26T00:00:00\", \"2021-05-26T00:00:00\", \"2021-05-26T00:00:00\", \"2021-05-26T00:00:00\", \"2021-05-31T00:00:00\"], \"xaxis\": \"x\", \"yaxis\": \"y\"}, {\"alignmentgroup\": \"True\", \"bingroup\": \"x\", \"hovertemplate\": \"tier=2<br>Added_date_dtm=%{x}<br>count=%{y}<extra></extra>\", \"legendgroup\": \"2\", \"marker\": {\"color\": \"rgb(55,126,184)\"}, \"name\": \"2\", \"offsetgroup\": \"2\", \"orientation\": \"v\", \"showlegend\": true, \"type\": \"histogram\", \"x\": [\"2021-05-30T00:00:00\", \"2021-05-30T00:00:00\", \"2021-06-01T00:00:00\", \"2021-05-30T00:00:00\", \"2021-05-30T00:00:00\", \"2021-06-02T00:00:00\", \"2021-06-01T00:00:00\", \"2021-06-01T00:00:00\", \"2021-05-30T00:00:00\", \"2021-05-30T00:00:00\", \"2021-06-02T00:00:00\", \"2021-05-30T00:00:00\", \"2021-05-30T00:00:00\", \"2021-06-01T00:00:00\", \"2021-05-30T00:00:00\", \"2021-06-02T00:00:00\", \"2021-05-30T00:00:00\", \"2021-05-30T00:00:00\", \"2021-06-01T00:00:00\", \"2021-05-31T00:00:00\", \"2021-06-01T00:00:00\", \"2021-05-31T00:00:00\", \"2021-05-31T00:00:00\", \"2021-05-31T00:00:00\", \"2021-05-31T00:00:00\", \"2021-05-31T00:00:00\", \"2021-05-31T00:00:00\", \"2021-05-31T00:00:00\", \"2021-05-31T00:00:00\", \"2021-05-31T00:00:00\", \"2021-05-31T00:00:00\", \"2021-05-31T00:00:00\", \"2021-05-31T00:00:00\", \"2021-05-31T00:00:00\", \"2021-05-31T00:00:00\", \"2021-05-31T00:00:00\", \"2021-05-31T00:00:00\", \"2021-06-01T00:00:00\", \"2021-05-31T00:00:00\", \"2021-05-31T00:00:00\", \"2021-05-30T00:00:00\", \"2021-05-30T00:00:00\", \"2021-05-30T00:00:00\", \"2021-05-30T00:00:00\", \"2021-05-30T00:00:00\", \"2021-05-30T00:00:00\", \"2021-05-30T00:00:00\", \"2021-05-30T00:00:00\", \"2021-05-30T00:00:00\", \"2021-05-30T00:00:00\", \"2021-05-30T00:00:00\", \"2021-05-31T00:00:00\", \"2021-06-01T00:00:00\", \"2021-06-01T00:00:00\", \"2021-05-31T00:00:00\", \"2021-05-31T00:00:00\", \"2021-05-30T00:00:00\", \"2021-05-30T00:00:00\", \"2021-05-30T00:00:00\", \"2021-05-26T00:00:00\", \"2021-05-26T00:00:00\", \"2021-05-26T00:00:00\", \"2021-05-27T00:00:00\", \"2021-05-27T00:00:00\", \"2021-05-27T00:00:00\", \"2021-05-27T00:00:00\", \"2021-05-27T00:00:00\", \"2021-05-27T00:00:00\", \"2021-05-27T00:00:00\", \"2021-05-27T00:00:00\", \"2021-05-27T00:00:00\", \"2021-05-27T00:00:00\", \"2021-05-27T00:00:00\", \"2021-05-27T00:00:00\", \"2021-05-27T00:00:00\", \"2021-05-27T00:00:00\", \"2021-05-28T00:00:00\", \"2021-05-28T00:00:00\", \"2021-05-28T00:00:00\", \"2021-05-30T00:00:00\", \"2021-05-26T00:00:00\", \"2021-05-26T00:00:00\", \"2021-05-26T00:00:00\", \"2021-05-24T00:00:00\", \"2021-05-26T00:00:00\", \"2021-05-24T00:00:00\", \"2021-05-26T00:00:00\", \"2021-05-26T00:00:00\", \"2021-05-24T00:00:00\", \"2021-05-24T00:00:00\", \"2021-05-25T00:00:00\", \"2021-05-24T00:00:00\", \"2021-05-24T00:00:00\", \"2021-05-24T00:00:00\", \"2021-05-28T00:00:00\", \"2021-05-25T00:00:00\", \"2021-05-25T00:00:00\", \"2021-05-25T00:00:00\", \"2021-05-24T00:00:00\", \"2021-05-25T00:00:00\", \"2021-05-24T00:00:00\", \"2021-05-24T00:00:00\", \"2021-05-24T00:00:00\", \"2021-05-22T00:00:00\", \"2021-05-26T00:00:00\", \"2021-05-25T00:00:00\", \"2021-05-25T00:00:00\", \"2021-05-29T00:00:00\", \"2021-05-28T00:00:00\", \"2021-05-30T00:00:00\", \"2021-05-30T00:00:00\", \"2021-05-30T00:00:00\", \"2021-05-30T00:00:00\", \"2021-05-30T00:00:00\", \"2021-05-30T00:00:00\", \"2021-05-30T00:00:00\", \"2021-05-30T00:00:00\", \"2021-05-30T00:00:00\", \"2021-05-30T00:00:00\", \"2021-05-30T00:00:00\", \"2021-05-30T00:00:00\", \"2021-05-30T00:00:00\", \"2021-05-30T00:00:00\", \"2021-05-30T00:00:00\", \"2021-05-30T00:00:00\", \"2021-05-30T00:00:00\", \"2021-05-30T00:00:00\", \"2021-05-30T00:00:00\", \"2021-05-30T00:00:00\", \"2021-05-30T00:00:00\", \"2021-05-30T00:00:00\", \"2021-05-30T00:00:00\", \"2021-05-30T00:00:00\", \"2021-05-30T00:00:00\", \"2021-05-30T00:00:00\", \"2021-06-02T00:00:00\", \"2021-05-29T00:00:00\", \"2021-05-29T00:00:00\", \"2021-05-29T00:00:00\", \"2021-05-29T00:00:00\", \"2021-05-30T00:00:00\", \"2021-05-29T00:00:00\", \"2021-05-29T00:00:00\", \"2021-05-29T00:00:00\", \"2021-05-29T00:00:00\", \"2021-05-29T00:00:00\", \"2021-05-29T00:00:00\", \"2021-05-29T00:00:00\", \"2021-05-29T00:00:00\", \"2021-05-29T00:00:00\", \"2021-05-30T00:00:00\", \"2021-05-29T00:00:00\", \"2021-06-02T00:00:00\"], \"xaxis\": \"x\", \"yaxis\": \"y\"}, {\"alignmentgroup\": \"True\", \"bingroup\": \"x\", \"hovertemplate\": \"tier=3<br>Added_date_dtm=%{x}<br>count=%{y}<extra></extra>\", \"legendgroup\": \"3\", \"marker\": {\"color\": \"rgb(77,175,74)\"}, \"name\": \"3\", \"offsetgroup\": \"3\", \"orientation\": \"v\", \"showlegend\": true, \"type\": \"histogram\", \"x\": [\"2021-05-31T00:00:00\", \"2021-05-27T00:00:00\", \"2021-05-31T00:00:00\", \"2021-05-31T00:00:00\", \"2021-05-29T00:00:00\", \"2021-05-26T00:00:00\", \"2021-05-29T00:00:00\", \"2021-05-29T00:00:00\", \"2021-05-30T00:00:00\", \"2021-05-31T00:00:00\", \"2021-05-31T00:00:00\", \"2021-05-26T00:00:00\", \"2021-05-31T00:00:00\", \"2021-05-31T00:00:00\", \"2021-05-27T00:00:00\", \"2021-05-31T00:00:00\"], \"xaxis\": \"x\", \"yaxis\": \"y\"}],                        {\"annotations\": [{\"ax\": 10, \"ay\": 20, \"text\": \"lockdown\", \"x\": \"2021-05-27\", \"xanchor\": \"left\", \"y\": 80}], \"bargap\": 0.2, \"barmode\": \"relative\", \"legend\": {\"title\": {\"text\": \"tier\"}, \"tracegroupgap\": 0}, \"shapes\": [{\"type\": \"line\", \"x0\": \"2021-05-27\", \"x1\": \"2021-05-27\", \"xref\": \"x\", \"y0\": 0, \"y1\": 1, \"yref\": \"y domain\"}], \"template\": {\"data\": {\"bar\": [{\"error_x\": {\"color\": \"#f2f5fa\"}, \"error_y\": {\"color\": \"#f2f5fa\"}, \"marker\": {\"line\": {\"color\": \"rgb(17,17,17)\", \"width\": 0.5}}, \"type\": \"bar\"}], \"barpolar\": [{\"marker\": {\"line\": {\"color\": \"rgb(17,17,17)\", \"width\": 0.5}}, \"type\": \"barpolar\"}], \"carpet\": [{\"aaxis\": {\"endlinecolor\": \"#A2B1C6\", \"gridcolor\": \"#506784\", \"linecolor\": \"#506784\", \"minorgridcolor\": \"#506784\", \"startlinecolor\": \"#A2B1C6\"}, \"baxis\": {\"endlinecolor\": \"#A2B1C6\", \"gridcolor\": \"#506784\", \"linecolor\": \"#506784\", \"minorgridcolor\": \"#506784\", \"startlinecolor\": \"#A2B1C6\"}, \"type\": \"carpet\"}], \"choropleth\": [{\"colorbar\": {\"outlinewidth\": 0, \"ticks\": \"\"}, \"type\": \"choropleth\"}], \"contour\": [{\"colorbar\": {\"outlinewidth\": 0, \"ticks\": \"\"}, \"colorscale\": [[0.0, \"#0d0887\"], [0.1111111111111111, \"#46039f\"], [0.2222222222222222, \"#7201a8\"], [0.3333333333333333, \"#9c179e\"], [0.4444444444444444, \"#bd3786\"], [0.5555555555555556, \"#d8576b\"], [0.6666666666666666, \"#ed7953\"], [0.7777777777777778, \"#fb9f3a\"], [0.8888888888888888, \"#fdca26\"], [1.0, \"#f0f921\"]], \"type\": \"contour\"}], \"contourcarpet\": [{\"colorbar\": {\"outlinewidth\": 0, \"ticks\": \"\"}, \"type\": \"contourcarpet\"}], \"heatmap\": [{\"colorbar\": {\"outlinewidth\": 0, \"ticks\": \"\"}, \"colorscale\": [[0.0, \"#0d0887\"], [0.1111111111111111, \"#46039f\"], [0.2222222222222222, \"#7201a8\"], [0.3333333333333333, \"#9c179e\"], [0.4444444444444444, \"#bd3786\"], [0.5555555555555556, \"#d8576b\"], [0.6666666666666666, \"#ed7953\"], [0.7777777777777778, \"#fb9f3a\"], [0.8888888888888888, \"#fdca26\"], [1.0, \"#f0f921\"]], \"type\": \"heatmap\"}], \"heatmapgl\": [{\"colorbar\": {\"outlinewidth\": 0, \"ticks\": \"\"}, \"colorscale\": [[0.0, \"#0d0887\"], [0.1111111111111111, \"#46039f\"], [0.2222222222222222, \"#7201a8\"], [0.3333333333333333, \"#9c179e\"], [0.4444444444444444, \"#bd3786\"], [0.5555555555555556, \"#d8576b\"], [0.6666666666666666, \"#ed7953\"], [0.7777777777777778, \"#fb9f3a\"], [0.8888888888888888, \"#fdca26\"], [1.0, \"#f0f921\"]], \"type\": \"heatmapgl\"}], \"histogram\": [{\"marker\": {\"colorbar\": {\"outlinewidth\": 0, \"ticks\": \"\"}}, \"type\": \"histogram\"}], \"histogram2d\": [{\"colorbar\": {\"outlinewidth\": 0, \"ticks\": \"\"}, \"colorscale\": [[0.0, \"#0d0887\"], [0.1111111111111111, \"#46039f\"], [0.2222222222222222, \"#7201a8\"], [0.3333333333333333, \"#9c179e\"], [0.4444444444444444, \"#bd3786\"], [0.5555555555555556, \"#d8576b\"], [0.6666666666666666, \"#ed7953\"], [0.7777777777777778, \"#fb9f3a\"], [0.8888888888888888, \"#fdca26\"], [1.0, \"#f0f921\"]], \"type\": \"histogram2d\"}], \"histogram2dcontour\": [{\"colorbar\": {\"outlinewidth\": 0, \"ticks\": \"\"}, \"colorscale\": [[0.0, \"#0d0887\"], [0.1111111111111111, \"#46039f\"], [0.2222222222222222, \"#7201a8\"], [0.3333333333333333, \"#9c179e\"], [0.4444444444444444, \"#bd3786\"], [0.5555555555555556, \"#d8576b\"], [0.6666666666666666, \"#ed7953\"], [0.7777777777777778, \"#fb9f3a\"], [0.8888888888888888, \"#fdca26\"], [1.0, \"#f0f921\"]], \"type\": \"histogram2dcontour\"}], \"mesh3d\": [{\"colorbar\": {\"outlinewidth\": 0, \"ticks\": \"\"}, \"type\": \"mesh3d\"}], \"parcoords\": [{\"line\": {\"colorbar\": {\"outlinewidth\": 0, \"ticks\": \"\"}}, \"type\": \"parcoords\"}], \"pie\": [{\"automargin\": true, \"type\": \"pie\"}], \"scatter\": [{\"marker\": {\"line\": {\"color\": \"#283442\"}}, \"type\": \"scatter\"}], \"scatter3d\": [{\"line\": {\"colorbar\": {\"outlinewidth\": 0, \"ticks\": \"\"}}, \"marker\": {\"colorbar\": {\"outlinewidth\": 0, \"ticks\": \"\"}}, \"type\": \"scatter3d\"}], \"scattercarpet\": [{\"marker\": {\"colorbar\": {\"outlinewidth\": 0, \"ticks\": \"\"}}, \"type\": \"scattercarpet\"}], \"scattergeo\": [{\"marker\": {\"colorbar\": {\"outlinewidth\": 0, \"ticks\": \"\"}}, \"type\": \"scattergeo\"}], \"scattergl\": [{\"marker\": {\"line\": {\"color\": \"#283442\"}}, \"type\": \"scattergl\"}], \"scattermapbox\": [{\"marker\": {\"colorbar\": {\"outlinewidth\": 0, \"ticks\": \"\"}}, \"type\": \"scattermapbox\"}], \"scatterpolar\": [{\"marker\": {\"colorbar\": {\"outlinewidth\": 0, \"ticks\": \"\"}}, \"type\": \"scatterpolar\"}], \"scatterpolargl\": [{\"marker\": {\"colorbar\": {\"outlinewidth\": 0, \"ticks\": \"\"}}, \"type\": \"scatterpolargl\"}], \"scatterternary\": [{\"marker\": {\"colorbar\": {\"outlinewidth\": 0, \"ticks\": \"\"}}, \"type\": \"scatterternary\"}], \"surface\": [{\"colorbar\": {\"outlinewidth\": 0, \"ticks\": \"\"}, \"colorscale\": [[0.0, \"#0d0887\"], [0.1111111111111111, \"#46039f\"], [0.2222222222222222, \"#7201a8\"], [0.3333333333333333, \"#9c179e\"], [0.4444444444444444, \"#bd3786\"], [0.5555555555555556, \"#d8576b\"], [0.6666666666666666, \"#ed7953\"], [0.7777777777777778, \"#fb9f3a\"], [0.8888888888888888, \"#fdca26\"], [1.0, \"#f0f921\"]], \"type\": \"surface\"}], \"table\": [{\"cells\": {\"fill\": {\"color\": \"#506784\"}, \"line\": {\"color\": \"rgb(17,17,17)\"}}, \"header\": {\"fill\": {\"color\": \"#2a3f5f\"}, \"line\": {\"color\": \"rgb(17,17,17)\"}}, \"type\": \"table\"}]}, \"layout\": {\"annotationdefaults\": {\"arrowcolor\": \"#f2f5fa\", \"arrowhead\": 0, \"arrowwidth\": 1}, \"autotypenumbers\": \"strict\", \"coloraxis\": {\"colorbar\": {\"outlinewidth\": 0, \"ticks\": \"\"}}, \"colorscale\": {\"diverging\": [[0, \"#8e0152\"], [0.1, \"#c51b7d\"], [0.2, \"#de77ae\"], [0.3, \"#f1b6da\"], [0.4, \"#fde0ef\"], [0.5, \"#f7f7f7\"], [0.6, \"#e6f5d0\"], [0.7, \"#b8e186\"], [0.8, \"#7fbc41\"], [0.9, \"#4d9221\"], [1, \"#276419\"]], \"sequential\": [[0.0, \"#0d0887\"], [0.1111111111111111, \"#46039f\"], [0.2222222222222222, \"#7201a8\"], [0.3333333333333333, \"#9c179e\"], [0.4444444444444444, \"#bd3786\"], [0.5555555555555556, \"#d8576b\"], [0.6666666666666666, \"#ed7953\"], [0.7777777777777778, \"#fb9f3a\"], [0.8888888888888888, \"#fdca26\"], [1.0, \"#f0f921\"]], \"sequentialminus\": [[0.0, \"#0d0887\"], [0.1111111111111111, \"#46039f\"], [0.2222222222222222, \"#7201a8\"], [0.3333333333333333, \"#9c179e\"], [0.4444444444444444, \"#bd3786\"], [0.5555555555555556, \"#d8576b\"], [0.6666666666666666, \"#ed7953\"], [0.7777777777777778, \"#fb9f3a\"], [0.8888888888888888, \"#fdca26\"], [1.0, \"#f0f921\"]]}, \"colorway\": [\"#636efa\", \"#EF553B\", \"#00cc96\", \"#ab63fa\", \"#FFA15A\", \"#19d3f3\", \"#FF6692\", \"#B6E880\", \"#FF97FF\", \"#FECB52\"], \"font\": {\"color\": \"#f2f5fa\"}, \"geo\": {\"bgcolor\": \"rgb(17,17,17)\", \"lakecolor\": \"rgb(17,17,17)\", \"landcolor\": \"rgb(17,17,17)\", \"showlakes\": true, \"showland\": true, \"subunitcolor\": \"#506784\"}, \"hoverlabel\": {\"align\": \"left\"}, \"hovermode\": \"closest\", \"mapbox\": {\"style\": \"dark\"}, \"paper_bgcolor\": \"rgb(17,17,17)\", \"plot_bgcolor\": \"rgb(17,17,17)\", \"polar\": {\"angularaxis\": {\"gridcolor\": \"#506784\", \"linecolor\": \"#506784\", \"ticks\": \"\"}, \"bgcolor\": \"rgb(17,17,17)\", \"radialaxis\": {\"gridcolor\": \"#506784\", \"linecolor\": \"#506784\", \"ticks\": \"\"}}, \"scene\": {\"xaxis\": {\"backgroundcolor\": \"rgb(17,17,17)\", \"gridcolor\": \"#506784\", \"gridwidth\": 2, \"linecolor\": \"#506784\", \"showbackground\": true, \"ticks\": \"\", \"zerolinecolor\": \"#C8D4E3\"}, \"yaxis\": {\"backgroundcolor\": \"rgb(17,17,17)\", \"gridcolor\": \"#506784\", \"gridwidth\": 2, \"linecolor\": \"#506784\", \"showbackground\": true, \"ticks\": \"\", \"zerolinecolor\": \"#C8D4E3\"}, \"zaxis\": {\"backgroundcolor\": \"rgb(17,17,17)\", \"gridcolor\": \"#506784\", \"gridwidth\": 2, \"linecolor\": \"#506784\", \"showbackground\": true, \"ticks\": \"\", \"zerolinecolor\": \"#C8D4E3\"}}, \"shapedefaults\": {\"line\": {\"color\": \"#f2f5fa\"}}, \"sliderdefaults\": {\"bgcolor\": \"#C8D4E3\", \"bordercolor\": \"rgb(17,17,17)\", \"borderwidth\": 1, \"tickwidth\": 0}, \"ternary\": {\"aaxis\": {\"gridcolor\": \"#506784\", \"linecolor\": \"#506784\", \"ticks\": \"\"}, \"baxis\": {\"gridcolor\": \"#506784\", \"linecolor\": \"#506784\", \"ticks\": \"\"}, \"bgcolor\": \"rgb(17,17,17)\", \"caxis\": {\"gridcolor\": \"#506784\", \"linecolor\": \"#506784\", \"ticks\": \"\"}}, \"title\": {\"x\": 0.05}, \"updatemenudefaults\": {\"bgcolor\": \"#506784\", \"borderwidth\": 0}, \"xaxis\": {\"automargin\": true, \"gridcolor\": \"#283442\", \"linecolor\": \"#506784\", \"ticks\": \"\", \"title\": {\"standoff\": 15}, \"zerolinecolor\": \"#283442\", \"zerolinewidth\": 2}, \"yaxis\": {\"automargin\": true, \"gridcolor\": \"#283442\", \"linecolor\": \"#506784\", \"ticks\": \"\", \"title\": {\"standoff\": 15}, \"zerolinecolor\": \"#283442\", \"zerolinewidth\": 2}}}, \"title\": {\"text\": \"Sites added categorised by tier\"}, \"width\": 580, \"xaxis\": {\"anchor\": \"y\", \"domain\": [0.0, 1.0], \"nticks\": 10, \"range\": [\"2021-05-10T12:00:00\", \"2021-06-02T12:00:00\"], \"tickangle\": 60, \"title\": {\"text\": \"Date added\"}}, \"yaxis\": {\"anchor\": \"x\", \"domain\": [0.0, 1.0], \"title\": {\"text\": \"Number of exposure sites\"}}},                        {\"responsive\": true}                    ).then(function(){\n",
       "                            \n",
       "var gd = document.getElementById('a51ab52d-14f8-4e9e-85c6-9dbc2dc97e42');\n",
       "var x = new MutationObserver(function (mutations, observer) {{\n",
       "        var display = window.getComputedStyle(gd).display;\n",
       "        if (!display || display === 'none') {{\n",
       "            console.log([gd, 'removed!']);\n",
       "            Plotly.purge(gd);\n",
       "            observer.disconnect();\n",
       "        }}\n",
       "}});\n",
       "\n",
       "// Listen for the removal of the full notebook cells\n",
       "var notebookContainer = gd.closest('#notebook-container');\n",
       "if (notebookContainer) {{\n",
       "    x.observe(notebookContainer, {childList: true});\n",
       "}}\n",
       "\n",
       "// Listen for the clearing of the current output cell\n",
       "var outputEl = gd.closest('.output');\n",
       "if (outputEl) {{\n",
       "    x.observe(outputEl, {childList: true});\n",
       "}}\n",
       "\n",
       "                        })                };                });            </script>        </div>"
      ]
     },
     "metadata": {},
     "output_type": "display_data"
    }
   ],
   "source": [
    "fig_date_added = px.histogram(df_official.sort_values(by='tier'), \n",
    "                        x='Added_date_dtm', template='plotly_dark', \n",
    "                        color='tier', color_discrete_sequence=px.colors.qualitative.Set1[0:3], \n",
    "                        title='Sites added categorised by tier')\n",
    "fig_date_added.add_vline(x='2021-05-27')\n",
    "fig_date_added.add_annotation(x = '2021-05-27', y= 80, text='lockdown', xanchor='left', ax=10, ay=20)\n",
    "\n",
    "fig_date_added.update_layout(\n",
    "    bargap=0.2, # gap between bars of adjacent location coordinates\n",
    "    xaxis_title = \"Date added\", \n",
    "    yaxis_title = \"Number of exposure sites\", \n",
    "    width=width\n",
    ")\n",
    "\n",
    "\n",
    "fig_date_added.update_xaxes(\n",
    "    tickangle = 60, \n",
    "    nticks = 10, \n",
    "    range=[df_official.Exposure_date_dtm.min() - dt.timedelta(hours=12), df_official.Added_date_dtm.max() + dt.timedelta(hours=12)]\n",
    ")\n",
    "\n",
    "fig_date_added.show()"
   ]
  },
  {
   "cell_type": "markdown",
   "metadata": {},
   "source": [
    "# pretty but useless "
   ]
  },
  {
   "cell_type": "code",
   "execution_count": 68,
   "metadata": {},
   "outputs": [
    {
     "data": {
      "text/plain": [
       "<seaborn.axisgrid.JointGrid at 0x1352fdd90>"
      ]
     },
     "execution_count": 68,
     "metadata": {},
     "output_type": "execute_result"
    },
    {
     "data": {
      "image/png": "[encoded data removed]",
      "text/plain": [
       "<Figure size 432x432 with 3 Axes>"
      ]
     },
     "metadata": {},
     "output_type": "display_data"
    }
   ],
   "source": [
    "import seaborn as sns\n",
    "sns.set_theme(style=\"darkgrid\")\n",
    "\n",
    "g = sns.JointGrid(data=df_official, x=\"Exposure_date_dtm\", y=\"Added_date_dtm\", space=0)\n",
    "g.plot_joint(sns.kdeplot,\n",
    "             fill=True, \n",
    "             thresh=0, levels=10, cmap=\"viridis\")\n",
    "g.plot_marginals(sns.histplot, color=\"#03051A\", alpha=1, bins=nbinsx)"
   ]
  },
  {
   "cell_type": "code",
   "execution_count": null,
   "metadata": {},
   "outputs": [],
   "source": []
  }
 ],
 "metadata": {
  "kernelspec": {
   "display_name": "Python 3",
   "language": "python",
   "name": "python3"
  },
  "language_info": {
   "codemirror_mode": {
    "name": "ipython",
    "version": 3
   },
   "file_extension": ".py",
   "mimetype": "text/x-python",
   "name": "python",
   "nbconvert_exporter": "python",
   "pygments_lexer": "ipython3",
   "version": "3.8.6"
  }
 },
 "nbformat": 4,
 "nbformat_minor": 4
}
