{
 "cells": [
  {
   "cell_type": "markdown",
   "metadata": {},
   "source": [
    "# Switching to the API"
   ]
  },
  {
   "cell_type": "code",
   "execution_count": 615,
   "metadata": {},
   "outputs": [],
   "source": [
    "import requests as req\n",
    "import pandas as pd\n",
    "import plotly.express as px\n",
    "import datetime as dt\n",
    "import datetime\n",
    "import plotly\n",
    "import requests\n",
    "import json"
   ]
  },
  {
   "cell_type": "code",
   "execution_count": 616,
   "metadata": {},
   "outputs": [],
   "source": [
    "pd.set_option('display.max_rows', 500)"
   ]
  },
  {
   "cell_type": "code",
   "execution_count": 617,
   "metadata": {},
   "outputs": [],
   "source": [
    "df_historic = pd.read_csv('data_incl_historical_values.csv').drop(columns=['Unnamed: 0'])\n",
    "df_historic.Added_date_dtm = pd.to_datetime(df_historic.Added_date_dtm, dayfirst=True)\n",
    "df_historic.Exposure_date_dtm = pd.to_datetime(df_historic.Exposure_date_dtm, dayfirst=True)\n",
    "df_historic.tier = df_historic.tier.astype('str')\n",
    "df_historic.date_delay = df_historic.date_delay.astype('float')"
   ]
  },
  {
   "cell_type": "code",
   "execution_count": 618,
   "metadata": {
    "scrolled": false
   },
   "outputs": [],
   "source": [
    "base = 'https://discover.data.vic.gov.au'\n",
    "resp = req.get('https://discover.data.vic.gov.au/api/3/action/datastore_search?resource_id=afb52611-6061-4a2b-9110-74c920bede77')\n",
    "next_link = resp.json()['result']['_links']['next']\n",
    "records = resp.json()['result']['records']\n",
    "total = resp.json()['result']['total']\n",
    "while len(records) < total:\n",
    "    resp = req.get(base+next_link)\n",
    "    records.extend(resp.json()['result']['records'])\n",
    "    next_link = resp.json()['result']['_links']['next']"
   ]
  },
  {
   "cell_type": "code",
   "execution_count": 619,
   "metadata": {},
   "outputs": [
    {
     "data": {
      "text/plain": [
       "278"
      ]
     },
     "execution_count": 619,
     "metadata": {},
     "output_type": "execute_result"
    }
   ],
   "source": [
    "len(records)"
   ]
  },
  {
   "cell_type": "code",
   "execution_count": 620,
   "metadata": {},
   "outputs": [],
   "source": [
    "width = 580"
   ]
  },
  {
   "cell_type": "code",
   "execution_count": 621,
   "metadata": {},
   "outputs": [],
   "source": [
    "df_api = pd.DataFrame(records)\n",
    "df_api['tier'] = df_api.Advice_title.apply(lambda x: x.split(' ')[1])\n",
    "df_api.Added_date_dtm = pd.to_datetime(df_api.Added_date_dtm, dayfirst=True)\n",
    "df_api.Exposure_date_dtm = pd.to_datetime(df_api.Exposure_date_dtm, dayfirst=True)\n",
    "df_api['date_delay'] = df_api.Added_date_dtm - df_api.Exposure_date_dtm\n",
    "df_api.date_delay = df_api.date_delay.dt.days.astype('float')"
   ]
  },
  {
   "cell_type": "code",
   "execution_count": 622,
   "metadata": {},
   "outputs": [],
   "source": [
    "for c in ['Suburb', 'Site_title', 'Site_streetaddress', 'Site_state', 'Site_postcode', 'Notes', 'Advice_title', 'Advice_instruction']:\n",
    "    df_api[c] = df_api[c].str.replace('\\r', '')"
   ]
  },
  {
   "cell_type": "code",
   "execution_count": 623,
   "metadata": {},
   "outputs": [
    {
     "data": {
      "text/plain": [
       "(860, 19)"
      ]
     },
     "execution_count": 623,
     "metadata": {},
     "output_type": "execute_result"
    }
   ],
   "source": [
    "df_official = pd.concat([df_api, df_historic])\n",
    "df_official.drop_duplicates(subset=['Site_title', 'Exposure_date_dtm', 'Added_date_dtm', 'Exposure_time_start_24', 'Exposure_time_end_24',\n",
    "       'tier', 'date_delay'], inplace=True)\n",
    "df_official.shape"
   ]
  },
  {
   "cell_type": "markdown",
   "metadata": {},
   "source": [
    "### get lat and long"
   ]
  },
  {
   "cell_type": "code",
   "execution_count": 637,
   "metadata": {},
   "outputs": [],
   "source": [
    "df_official.Site_postcode = df_official.Site_postcode.fillna(0).astype('int')"
   ]
  },
  {
   "cell_type": "code",
   "execution_count": 639,
   "metadata": {
    "scrolled": true
   },
   "outputs": [
    {
     "name": "stdout",
     "output_type": "stream",
     "text": [
      "3086 []\n"
     ]
    }
   ],
   "source": [
    "postcode_df = pd.DataFrame(columns=['postcode', 'lat', 'lon'])\n",
    "postcode_list = []\n",
    "\n",
    "for postcode, row in df_official.groupby('Site_postcode').count().sort_values('_id', ascending=False).iterrows():\n",
    "    if postcode != 0:\n",
    "        res = requests.get(f'http://v0.postcodeapi.com.au/suburbs/{postcode}.json')\n",
    "        if res.status_code == 200:\n",
    "            res_ = res.json()\n",
    "            if res_:\n",
    "                postcode_list.append(res_)\n",
    "            else:\n",
    "                print(postcode, res_)\n",
    "        else:\n",
    "            print(res_)"
   ]
  },
  {
   "cell_type": "code",
   "execution_count": 640,
   "metadata": {},
   "outputs": [],
   "source": [
    "postcode_df = pd.DataFrame(columns=['postcode', 'suburb', 'lat', 'lon'])\n",
    "for all_codes in postcode_list:\n",
    "    for el in all_codes:\n",
    "        postcode_dict = {\n",
    "            'postcode' : el['postcode'],\n",
    "            'suburb': el['name'],\n",
    "            'lat' : el['latitude'],\n",
    "            'lon' : el['longitude']\n",
    "        }\n",
    "        postcode_df = postcode_df.append(postcode_dict, ignore_index=True)"
   ]
  },
  {
   "cell_type": "code",
   "execution_count": 641,
   "metadata": {},
   "outputs": [],
   "source": [
    "postcode_df.postcode = postcode_df.postcode.astype('float')\n",
    "df_official.Site_postcode = df_official.Site_postcode.astype('float')"
   ]
  },
  {
   "cell_type": "code",
   "execution_count": 642,
   "metadata": {},
   "outputs": [],
   "source": [
    "map_merge = pd.merge(df_official, postcode_df, left_on=['Site_postcode','Suburb'], right_on = ['postcode','suburb'], indicator=True, how = 'outer')\n",
    "map_both = map_merge[map_merge._merge == 'both']"
   ]
  },
  {
   "cell_type": "code",
   "execution_count": 643,
   "metadata": {},
   "outputs": [],
   "source": [
    "map_left = map_merge[map_merge._merge == 'left_only'].drop(columns=['lat', 'lon','suburb', 'postcode'])\n",
    "map_merge_left = pd.merge(map_left, postcode_df, left_on=['Site_postcode'], right_on = ['postcode'])"
   ]
  },
  {
   "cell_type": "code",
   "execution_count": 644,
   "metadata": {},
   "outputs": [],
   "source": [
    "map_df = pd.concat([map_both, map_merge_left])"
   ]
  },
  {
   "cell_type": "code",
   "execution_count": 645,
   "metadata": {
    "scrolled": true
   },
   "outputs": [],
   "source": [
    "geo_counts = map_df.groupby(['lat','lon','suburb']).count().sort_values('_id', ascending=False).reset_index()[['lat', 'lon', '_id','suburb']]"
   ]
  },
  {
   "cell_type": "code",
   "execution_count": 646,
   "metadata": {},
   "outputs": [],
   "source": [
    "geo_counts_info = pd.merge(geo_counts, map_df[['lat','lon','suburb','Site_postcode']], on=['lat','lon','suburb']).drop_duplicates()\n",
    "# geo_counts_info.Exposure_date_dtm = pd.to_datetime(geo_counts_info.Exposure_date_dtm)\n",
    "\n",
    "# minday = min(geo_counts_info.Exposure_date_dtm.dt.dayofyear)\n",
    "# maxday = max(geo_counts_info.Exposure_date_dtm.dt.dayofyear)\n",
    "# geo_counts_info['Exposure_day'] = (geo_counts_info.Exposure_date_dtm.dt.dayofyear-minday)/(maxday-minday)"
   ]
  },
  {
   "cell_type": "code",
   "execution_count": 647,
   "metadata": {},
   "outputs": [
    {
     "data": {
      "application/vnd.plotly.v1+json": {
       "config": {
        "plotlyServerURL": "https://plot.ly"
       },
       "data": [
        {
         "customdata": [
          [
           "Melbourne",
           3000
          ],
          [
           "Southbank",
           3006
          ],
          [
           "Epping",
           3076
          ],
          [
           "South Melbourne",
           3205
          ],
          [
           "Maribyrnong",
           3032
          ],
          [
           "Maidstone",
           3012
          ],
          [
           "Cowes",
           3922
          ],
          [
           "Craigieburn",
           3064
          ],
          [
           "Thomastown",
           3074
          ],
          [
           "Bundoora",
           3083
          ],
          [
           "Docklands",
           3008
          ],
          [
           "Reservoir",
           3073
          ],
          [
           "Port Melbourne",
           3207
          ],
          [
           "Richmond",
           3121
          ],
          [
           "Point Cook",
           3030
          ],
          [
           "Deer Park",
           3023
          ],
          [
           "Mildura",
           3500
          ],
          [
           "Melbourne Airport",
           3045
          ],
          [
           "Lalor",
           3075
          ],
          [
           "Cremorne",
           3121
          ],
          [
           "East Melbourne",
           3002
          ],
          [
           "Chadstone",
           3148
          ],
          [
           "Oakleigh",
           3166
          ],
          [
           "Delahey",
           3037
          ],
          [
           "Brunswick",
           3056
          ],
          [
           "Moonee Ponds",
           3039
          ],
          [
           "Hillside",
           3037
          ],
          [
           "Footscray",
           3011
          ],
          [
           "Sunshine",
           3020
          ],
          [
           "Mill Park",
           3082
          ],
          [
           "Epping Dc",
           3076
          ],
          [
           "Campbellfield",
           3061
          ],
          [
           "Werribee",
           3030
          ],
          [
           "Holmesglen",
           3148
          ],
          [
           "Sydenham",
           3037
          ],
          [
           "Greenvale",
           3059
          ],
          [
           "St Kilda",
           3182
          ],
          [
           "Greensborough",
           3088
          ],
          [
           "Kew",
           3101
          ],
          [
           "Bacchus Marsh",
           3340
          ],
          [
           "Cranbourne",
           3977
          ],
          [
           "Broadmeadows",
           3047
          ],
          [
           "Yarraville",
           3013
          ],
          [
           "Dandenong",
           3175
          ],
          [
           "Forest Hill",
           3131
          ],
          [
           "Dallas",
           3047
          ],
          [
           "Melbourne",
           3004
          ],
          [
           "Sandringham",
           3191
          ],
          [
           "Caulfield East",
           3145
          ],
          [
           "Frankston",
           3199
          ],
          [
           "Malvern East",
           3145
          ],
          [
           "Darling",
           3145
          ],
          [
           "Central Park",
           3145
          ],
          [
           "Carnegie",
           3163
          ],
          [
           "Glen Iris",
           3146
          ],
          [
           "South Yarra",
           3141
          ],
          [
           "Carlton",
           3053
          ],
          [
           "Waurn Ponds",
           3216
          ],
          [
           "Mickleham",
           3064
          ],
          [
           "Taylors Lakes",
           3038
          ],
          [
           "Burnside",
           3023
          ],
          [
           "Newhaven",
           3925
          ],
          [
           "North Melbourne",
           3051
          ],
          [
           "Preston",
           3072
          ],
          [
           "Coburg",
           3058
          ],
          [
           "Derrimut",
           3030
          ],
          [
           "Truganina",
           3029
          ],
          [
           "Travancore",
           3032
          ],
          [
           "Hawthorn East",
           3123
          ],
          [
           "Hawthorn",
           3122
          ],
          [
           "Heidelberg",
           3084
          ],
          [
           "Fitzroy",
           3065
          ],
          [
           "Coimadai",
           3340
          ],
          [
           "Seddon",
           3011
          ],
          [
           "Tottenham",
           3012
          ],
          [
           "San Remo",
           3925
          ],
          [
           "Kalkallo",
           3064
          ],
          [
           "Windsor",
           3181
          ],
          [
           "Wollert",
           3750
          ],
          [
           "Balliang",
           3340
          ],
          [
           "Seddon West",
           3011
          ],
          [
           "Prahran",
           3181
          ],
          [
           "Balwyn",
           3103
          ],
          [
           "Abbotsford",
           3067
          ],
          [
           "Rowsley",
           3340
          ],
          [
           "Doncaster East",
           3109
          ],
          [
           "Thornbury",
           3071
          ],
          [
           "Coburg North",
           3058
          ],
          [
           "Highpoint City",
           3032
          ],
          [
           "Ascot Vale",
           3032
          ],
          [
           "Black Rock",
           3193
          ],
          [
           "Barwon Heads",
           3227
          ],
          [
           "Ballan",
           3342
          ],
          [
           "Chelsea Heights",
           3196
          ],
          [
           "Montmorency",
           3094
          ],
          [
           "Parwan",
           3340
          ],
          [
           "Hampton",
           3188
          ],
          [
           "Keilor Downs",
           3038
          ],
          [
           "Brighton East",
           3187
          ],
          [
           "Glenmore",
           3340
          ],
          [
           "North Geelong",
           3215
          ],
          [
           "Melbourne",
           3001
          ],
          [
           "Fairfield",
           3078
          ],
          [
           "Doncaster",
           3108
          ],
          [
           "Camberwell",
           3124
          ],
          [
           "Mount Dandenong",
           3767
          ],
          [
           "Albert Park",
           3206
          ],
          [
           "Burwood East",
           3151
          ],
          [
           "Laverton",
           3028
          ],
          [
           "Parkdale",
           3195
          ],
          [
           "Williamstown",
           3016
          ],
          [
           "West Melbourne",
           3003
          ],
          [
           "Oakleigh East",
           3166
          ],
          [
           "Hughesdale",
           3166
          ],
          [
           "Oakleigh South",
           3167
          ],
          [
           "Huntingdale",
           3166
          ],
          [
           "Clayton",
           3168
          ],
          [
           "Avondale Heights",
           3034
          ],
          [
           "Brighton",
           3186
          ],
          [
           "Bentleigh East",
           3165
          ],
          [
           "Carlton North",
           3054
          ],
          [
           "Preston South",
           3072
          ],
          [
           "Bayswater North",
           3153
          ],
          [
           "Strathmore",
           3041
          ],
          [
           "Airport West",
           3042
          ],
          [
           "Niddrie",
           3042
          ],
          [
           "Hadfield",
           3046
          ],
          [
           "Cheltenham",
           3192
          ],
          [
           "Flemington",
           3031
          ],
          [
           "Mordialloc",
           3195
          ],
          [
           "Parkville",
           3052
          ],
          [
           "Wantirna South",
           3152
          ],
          [
           "Wallan",
           3756
          ],
          [
           "Oaklands Junction",
           3063
          ],
          [
           "Ravenswood",
           3453
          ],
          [
           "Axedale",
           3551
          ],
          [
           "Edithvale",
           3196
          ],
          [
           "Euroa",
           3666
          ],
          [
           "Glenrowan",
           3675
          ],
          [
           "Wycheproof",
           3527
          ],
          [
           "Jacana",
           3047
          ],
          [
           "Carrum Downs",
           3201
          ],
          [
           "Chelsea",
           3196
          ],
          [
           "Bonbeach",
           3196
          ],
          [
           "Pakenham",
           3810
          ],
          [
           "Doreen",
           3754
          ],
          [
           "Arthurs Seat",
           3936
          ],
          [
           "Highton",
           3216
          ],
          [
           "Somerton",
           3062
          ],
          [
           "South Morang",
           3752
          ],
          [
           "Yuroke",
           3063
          ],
          [
           "Hastings",
           3915
          ],
          [
           "Keon Park",
           3073
          ],
          [
           "Pascoe Vale",
           3044
          ],
          [
           "Glenroy",
           3046
          ],
          [
           "Altona Meadows",
           3028
          ],
          [
           "Elwood",
           3184
          ],
          [
           "Cape Woolamai",
           3925
          ]
         ],
         "hovertemplate": "_id=%{marker.color}<br>lat=%{lat}<br>lon=%{lon}<br>suburb=%{customdata[0]}<br>Site_postcode=%{customdata[1]}<extra></extra>",
         "lat": [
          -37.8232,
          -37.8252,
          -37.65,
          -37.8333,
          -37.7833,
          -37.7821,
          -38.45,
          -37.5588,
          -37.6833,
          -37.6959,
          -37.8179,
          -37.7167,
          -37.8333,
          -37.8333,
          -37.9146,
          -37.7667,
          -34.1999,
          -37.6655,
          -37.6667,
          -37.8333,
          -37.8144,
          -37.8821,
          -37.9,
          -37.7156,
          -37.7667,
          -37.7667,
          -37.7029,
          -37.8,
          -37.7833,
          -37.664,
          -37.6307,
          -37.6833,
          -37.9,
          -37.8821,
          -37.7,
          -37.6333,
          -37.8633,
          -37.6977,
          -37.8167,
          -37.6833,
          -38.1,
          -37.6667,
          -37.8167,
          -37.9833,
          -37.8275,
          -37.6808,
          -37.8373,
          -37.95,
          -37.8754,
          -38.1333,
          -37.8775,
          -37.8775,
          -37.8775,
          -37.8945,
          -37.8559,
          -37.8333,
          -37.8004,
          -38.2167,
          -37.5588,
          -37.7066,
          -37.7518,
          -38.5167,
          -37.7984,
          -37.75,
          -37.75,
          -37.7975,
          -37.825,
          -37.7778,
          -37.8313,
          -37.8333,
          -37.75,
          -37.7833,
          -37.5867,
          -37.7995,
          -37.8031,
          -38.5167,
          -37.5333,
          -37.8528,
          -37.5833,
          -37.8821,
          -37.7995,
          -37.85,
          -37.8098,
          -37.8044,
          -37.7167,
          -37.7833,
          -37.7582,
          -37.7375,
          -37.7747,
          -37.7833,
          -37.9667,
          -38.2811,
          -37.6393,
          -38.0333,
          -37.7167,
          -37.706,
          -37.9374,
          -37.7066,
          -37.9172,
          -37.6921,
          -38.1134,
          -37.8262,
          -37.7829,
          -37.7833,
          -37.8333,
          -37.8333,
          -37.8463,
          -37.8535,
          -37.85,
          -37.9958,
          -37.8667,
          -37.809,
          -37.9,
          -37.8958,
          -37.927,
          -37.9019,
          -37.9167,
          -37.7616,
          -37.9167,
          -37.9221,
          -37.7857,
          -37.7419,
          -37.836,
          -37.7295,
          -37.7254,
          -37.7254,
          -37.7065,
          -37.9694,
          -37.7899,
          -38,
          -37.7853,
          -37.8833,
          -37.4369,
          -37.6298,
          -36.9,
          -36.7879,
          -38.0333,
          -36.75,
          -36.4667,
          -36.0667,
          -37.6903,
          -38.1,
          -38.05,
          -38.0653,
          -38.0667,
          -37.6,
          -38.3544,
          -38.1709,
          -37.65,
          -37.65,
          -37.5896,
          -38.3,
          -37.7,
          -37.7319,
          -37.7,
          -37.8739,
          -37.8833,
          -38.5434
         ],
         "legendgroup": "",
         "lon": [
          144.9729,
          144.9602,
          145.0333,
          144.9667,
          144.8833,
          144.8743,
          145.2333,
          144.9124,
          145.0167,
          145.0599,
          144.9399,
          145,
          144.9333,
          145,
          144.751,
          144.7833,
          142.1489,
          144.8363,
          145.0167,
          145,
          144.9826,
          145.1002,
          145.1,
          144.7805,
          144.9667,
          144.9167,
          144.755,
          144.9,
          144.8333,
          145.0646,
          145.006,
          144.95,
          144.6667,
          145.1002,
          144.7667,
          144.8667,
          144.9802,
          145.1115,
          145.0333,
          144.45,
          145.2833,
          144.9,
          144.9,
          145.2,
          145.1739,
          144.9299,
          144.9763,
          145,
          145.042,
          145.1167,
          145.0624,
          145.0624,
          145.0624,
          145.0591,
          145.0651,
          144.9833,
          144.9681,
          144.2833,
          144.9124,
          144.794,
          144.7604,
          145.35,
          144.9449,
          145.0167,
          144.9667,
          144.7711,
          144.7489,
          144.9299,
          145.0499,
          145.0333,
          145.0667,
          144.9833,
          144.459,
          144.8963,
          144.8593,
          145.3667,
          144.95,
          144.9978,
          145.0333,
          144.3787,
          144.8963,
          145,
          145.0805,
          144.9997,
          144.4,
          145.1667,
          145.0064,
          144.9655,
          144.8999,
          144.9167,
          145.0167,
          144.4918,
          144.2016,
          145.1333,
          145.1167,
          144.4625,
          145.0151,
          144.794,
          145.0164,
          144.4031,
          144.338,
          144.9815,
          145.0226,
          145.1333,
          145.0667,
          145.3667,
          144.9631,
          145.1503,
          144.75,
          145.0692,
          144.9,
          144.9256,
          145.1167,
          145.0765,
          145.0964,
          145.0982,
          145.1333,
          144.8626,
          145,
          145.0667,
          144.9681,
          145.0078,
          145.2743,
          144.9073,
          144.8709,
          144.8709,
          144.9308,
          145.0481,
          144.9226,
          145.0833,
          144.9498,
          145.2167,
          144.8946,
          144.8392,
          144.2167,
          144.5041,
          145.1167,
          145.5667,
          146.2333,
          143.2333,
          144.9157,
          145.1833,
          145.1167,
          145.1228,
          145.4833,
          145.15,
          144.9498,
          144.319,
          144.9333,
          145.1,
          144.8794,
          145.1833,
          145.0167,
          144.9381,
          144.9333,
          144.772,
          144.9833,
          145.3408
         ],
         "marker": {
          "color": [
           57,
           56,
           45,
           35,
           35,
           34,
           31,
           27,
           27,
           26,
           21,
           17,
           16,
           16,
           16,
           13,
           11,
           11,
           11,
           10,
           10,
           9,
           9,
           9,
           8,
           8,
           8,
           8,
           7,
           7,
           7,
           6,
           6,
           6,
           5,
           5,
           5,
           5,
           5,
           4,
           4,
           4,
           4,
           4,
           4,
           3,
           3,
           3,
           3,
           3,
           3,
           3,
           3,
           3,
           3,
           3,
           3,
           3,
           3,
           3,
           3,
           3,
           3,
           3,
           3,
           3,
           3,
           3,
           3,
           3,
           3,
           2,
           2,
           2,
           2,
           2,
           2,
           2,
           2,
           2,
           2,
           2,
           2,
           2,
           2,
           2,
           2,
           2,
           2,
           2,
           2,
           2,
           2,
           2,
           2,
           2,
           2,
           2,
           2,
           2,
           2,
           1,
           1,
           1,
           1,
           1,
           1,
           1,
           1,
           1,
           1,
           1,
           1,
           1,
           1,
           1,
           1,
           1,
           1,
           1,
           1,
           1,
           1,
           1,
           1,
           1,
           1,
           1,
           1,
           1,
           1,
           1,
           1,
           1,
           1,
           1,
           1,
           1,
           1,
           1,
           1,
           1,
           1,
           1,
           1,
           1,
           1,
           1,
           1,
           1,
           1,
           1,
           1,
           1,
           1,
           1,
           1,
           1
          ],
          "coloraxis": "coloraxis",
          "opacity": 0.5,
          "size": [
           57,
           56,
           45,
           35,
           35,
           34,
           31,
           27,
           27,
           26,
           21,
           17,
           16,
           16,
           16,
           13,
           11,
           11,
           11,
           10,
           10,
           9,
           9,
           9,
           8,
           8,
           8,
           8,
           7,
           7,
           7,
           6,
           6,
           6,
           5,
           5,
           5,
           5,
           5,
           4,
           4,
           4,
           4,
           4,
           4,
           3,
           3,
           3,
           3,
           3,
           3,
           3,
           3,
           3,
           3,
           3,
           3,
           3,
           3,
           3,
           3,
           3,
           3,
           3,
           3,
           3,
           3,
           3,
           3,
           3,
           3,
           2,
           2,
           2,
           2,
           2,
           2,
           2,
           2,
           2,
           2,
           2,
           2,
           2,
           2,
           2,
           2,
           2,
           2,
           2,
           2,
           2,
           2,
           2,
           2,
           2,
           2,
           2,
           2,
           2,
           2,
           1,
           1,
           1,
           1,
           1,
           1,
           1,
           1,
           1,
           1,
           1,
           1,
           1,
           1,
           1,
           1,
           1,
           1,
           1,
           1,
           1,
           1,
           1,
           1,
           1,
           1,
           1,
           1,
           1,
           1,
           1,
           1,
           1,
           1,
           1,
           1,
           1,
           1,
           1,
           1,
           1,
           1,
           1,
           1,
           1,
           1,
           1,
           1,
           1,
           1,
           1,
           1,
           1,
           1,
           1,
           1,
           1
          ],
          "sizemode": "area",
          "sizeref": 0.0912
         },
         "mode": "markers",
         "name": "",
         "showlegend": false,
         "subplot": "mapbox",
         "type": "scattermapbox"
        }
       ],
       "layout": {
        "coloraxis": {
         "colorbar": {
          "title": {
           "text": ""
          }
         },
         "colorscale": [
          [
           0,
           "#46039f"
          ],
          [
           0.14285714285714285,
           "#7201a8"
          ],
          [
           0.2857142857142857,
           "#9c179e"
          ],
          [
           0.42857142857142855,
           "#bd3786"
          ],
          [
           0.5714285714285714,
           "#d8576b"
          ],
          [
           0.7142857142857143,
           "#ed7953"
          ],
          [
           0.8571428571428571,
           "#fb9f3a"
          ],
          [
           1,
           "#fdca26"
          ]
         ]
        },
        "height": 800,
        "legend": {
         "itemsizing": "constant",
         "tracegroupgap": 0
        },
        "mapbox": {
         "center": {
          "lat": -37.45,
          "lon": 144.995
         },
         "domain": {
          "x": [
           0,
           1
          ],
          "y": [
           0,
           1
          ]
         },
         "style": "carto-positron",
         "zoom": 8
        },
        "margin": {
         "t": 60
        },
        "template": {
         "data": {
          "bar": [
           {
            "error_x": {
             "color": "#2a3f5f"
            },
            "error_y": {
             "color": "#2a3f5f"
            },
            "marker": {
             "line": {
              "color": "#E5ECF6",
              "width": 0.5
             }
            },
            "type": "bar"
           }
          ],
          "barpolar": [
           {
            "marker": {
             "line": {
              "color": "#E5ECF6",
              "width": 0.5
             }
            },
            "type": "barpolar"
           }
          ],
          "carpet": [
           {
            "aaxis": {
             "endlinecolor": "#2a3f5f",
             "gridcolor": "white",
             "linecolor": "white",
             "minorgridcolor": "white",
             "startlinecolor": "#2a3f5f"
            },
            "baxis": {
             "endlinecolor": "#2a3f5f",
             "gridcolor": "white",
             "linecolor": "white",
             "minorgridcolor": "white",
             "startlinecolor": "#2a3f5f"
            },
            "type": "carpet"
           }
          ],
          "choropleth": [
           {
            "colorbar": {
             "outlinewidth": 0,
             "ticks": ""
            },
            "type": "choropleth"
           }
          ],
          "contour": [
           {
            "colorbar": {
             "outlinewidth": 0,
             "ticks": ""
            },
            "colorscale": [
             [
              0,
              "#0d0887"
             ],
             [
              0.1111111111111111,
              "#46039f"
             ],
             [
              0.2222222222222222,
              "#7201a8"
             ],
             [
              0.3333333333333333,
              "#9c179e"
             ],
             [
              0.4444444444444444,
              "#bd3786"
             ],
             [
              0.5555555555555556,
              "#d8576b"
             ],
             [
              0.6666666666666666,
              "#ed7953"
             ],
             [
              0.7777777777777778,
              "#fb9f3a"
             ],
             [
              0.8888888888888888,
              "#fdca26"
             ],
             [
              1,
              "#f0f921"
             ]
            ],
            "type": "contour"
           }
          ],
          "contourcarpet": [
           {
            "colorbar": {
             "outlinewidth": 0,
             "ticks": ""
            },
            "type": "contourcarpet"
           }
          ],
          "heatmap": [
           {
            "colorbar": {
             "outlinewidth": 0,
             "ticks": ""
            },
            "colorscale": [
             [
              0,
              "#0d0887"
             ],
             [
              0.1111111111111111,
              "#46039f"
             ],
             [
              0.2222222222222222,
              "#7201a8"
             ],
             [
              0.3333333333333333,
              "#9c179e"
             ],
             [
              0.4444444444444444,
              "#bd3786"
             ],
             [
              0.5555555555555556,
              "#d8576b"
             ],
             [
              0.6666666666666666,
              "#ed7953"
             ],
             [
              0.7777777777777778,
              "#fb9f3a"
             ],
             [
              0.8888888888888888,
              "#fdca26"
             ],
             [
              1,
              "#f0f921"
             ]
            ],
            "type": "heatmap"
           }
          ],
          "heatmapgl": [
           {
            "colorbar": {
             "outlinewidth": 0,
             "ticks": ""
            },
            "colorscale": [
             [
              0,
              "#0d0887"
             ],
             [
              0.1111111111111111,
              "#46039f"
             ],
             [
              0.2222222222222222,
              "#7201a8"
             ],
             [
              0.3333333333333333,
              "#9c179e"
             ],
             [
              0.4444444444444444,
              "#bd3786"
             ],
             [
              0.5555555555555556,
              "#d8576b"
             ],
             [
              0.6666666666666666,
              "#ed7953"
             ],
             [
              0.7777777777777778,
              "#fb9f3a"
             ],
             [
              0.8888888888888888,
              "#fdca26"
             ],
             [
              1,
              "#f0f921"
             ]
            ],
            "type": "heatmapgl"
           }
          ],
          "histogram": [
           {
            "marker": {
             "colorbar": {
              "outlinewidth": 0,
              "ticks": ""
             }
            },
            "type": "histogram"
           }
          ],
          "histogram2d": [
           {
            "colorbar": {
             "outlinewidth": 0,
             "ticks": ""
            },
            "colorscale": [
             [
              0,
              "#0d0887"
             ],
             [
              0.1111111111111111,
              "#46039f"
             ],
             [
              0.2222222222222222,
              "#7201a8"
             ],
             [
              0.3333333333333333,
              "#9c179e"
             ],
             [
              0.4444444444444444,
              "#bd3786"
             ],
             [
              0.5555555555555556,
              "#d8576b"
             ],
             [
              0.6666666666666666,
              "#ed7953"
             ],
             [
              0.7777777777777778,
              "#fb9f3a"
             ],
             [
              0.8888888888888888,
              "#fdca26"
             ],
             [
              1,
              "#f0f921"
             ]
            ],
            "type": "histogram2d"
           }
          ],
          "histogram2dcontour": [
           {
            "colorbar": {
             "outlinewidth": 0,
             "ticks": ""
            },
            "colorscale": [
             [
              0,
              "#0d0887"
             ],
             [
              0.1111111111111111,
              "#46039f"
             ],
             [
              0.2222222222222222,
              "#7201a8"
             ],
             [
              0.3333333333333333,
              "#9c179e"
             ],
             [
              0.4444444444444444,
              "#bd3786"
             ],
             [
              0.5555555555555556,
              "#d8576b"
             ],
             [
              0.6666666666666666,
              "#ed7953"
             ],
             [
              0.7777777777777778,
              "#fb9f3a"
             ],
             [
              0.8888888888888888,
              "#fdca26"
             ],
             [
              1,
              "#f0f921"
             ]
            ],
            "type": "histogram2dcontour"
           }
          ],
          "mesh3d": [
           {
            "colorbar": {
             "outlinewidth": 0,
             "ticks": ""
            },
            "type": "mesh3d"
           }
          ],
          "parcoords": [
           {
            "line": {
             "colorbar": {
              "outlinewidth": 0,
              "ticks": ""
             }
            },
            "type": "parcoords"
           }
          ],
          "pie": [
           {
            "automargin": true,
            "type": "pie"
           }
          ],
          "scatter": [
           {
            "marker": {
             "colorbar": {
              "outlinewidth": 0,
              "ticks": ""
             }
            },
            "type": "scatter"
           }
          ],
          "scatter3d": [
           {
            "line": {
             "colorbar": {
              "outlinewidth": 0,
              "ticks": ""
             }
            },
            "marker": {
             "colorbar": {
              "outlinewidth": 0,
              "ticks": ""
             }
            },
            "type": "scatter3d"
           }
          ],
          "scattercarpet": [
           {
            "marker": {
             "colorbar": {
              "outlinewidth": 0,
              "ticks": ""
             }
            },
            "type": "scattercarpet"
           }
          ],
          "scattergeo": [
           {
            "marker": {
             "colorbar": {
              "outlinewidth": 0,
              "ticks": ""
             }
            },
            "type": "scattergeo"
           }
          ],
          "scattergl": [
           {
            "marker": {
             "colorbar": {
              "outlinewidth": 0,
              "ticks": ""
             }
            },
            "type": "scattergl"
           }
          ],
          "scattermapbox": [
           {
            "marker": {
             "colorbar": {
              "outlinewidth": 0,
              "ticks": ""
             }
            },
            "type": "scattermapbox"
           }
          ],
          "scatterpolar": [
           {
            "marker": {
             "colorbar": {
              "outlinewidth": 0,
              "ticks": ""
             }
            },
            "type": "scatterpolar"
           }
          ],
          "scatterpolargl": [
           {
            "marker": {
             "colorbar": {
              "outlinewidth": 0,
              "ticks": ""
             }
            },
            "type": "scatterpolargl"
           }
          ],
          "scatterternary": [
           {
            "marker": {
             "colorbar": {
              "outlinewidth": 0,
              "ticks": ""
             }
            },
            "type": "scatterternary"
           }
          ],
          "surface": [
           {
            "colorbar": {
             "outlinewidth": 0,
             "ticks": ""
            },
            "colorscale": [
             [
              0,
              "#0d0887"
             ],
             [
              0.1111111111111111,
              "#46039f"
             ],
             [
              0.2222222222222222,
              "#7201a8"
             ],
             [
              0.3333333333333333,
              "#9c179e"
             ],
             [
              0.4444444444444444,
              "#bd3786"
             ],
             [
              0.5555555555555556,
              "#d8576b"
             ],
             [
              0.6666666666666666,
              "#ed7953"
             ],
             [
              0.7777777777777778,
              "#fb9f3a"
             ],
             [
              0.8888888888888888,
              "#fdca26"
             ],
             [
              1,
              "#f0f921"
             ]
            ],
            "type": "surface"
           }
          ],
          "table": [
           {
            "cells": {
             "fill": {
              "color": "#EBF0F8"
             },
             "line": {
              "color": "white"
             }
            },
            "header": {
             "fill": {
              "color": "#C8D4E3"
             },
             "line": {
              "color": "white"
             }
            },
            "type": "table"
           }
          ]
         },
         "layout": {
          "annotationdefaults": {
           "arrowcolor": "#2a3f5f",
           "arrowhead": 0,
           "arrowwidth": 1
          },
          "autotypenumbers": "strict",
          "coloraxis": {
           "colorbar": {
            "outlinewidth": 0,
            "ticks": ""
           }
          },
          "colorscale": {
           "diverging": [
            [
             0,
             "#8e0152"
            ],
            [
             0.1,
             "#c51b7d"
            ],
            [
             0.2,
             "#de77ae"
            ],
            [
             0.3,
             "#f1b6da"
            ],
            [
             0.4,
             "#fde0ef"
            ],
            [
             0.5,
             "#f7f7f7"
            ],
            [
             0.6,
             "#e6f5d0"
            ],
            [
             0.7,
             "#b8e186"
            ],
            [
             0.8,
             "#7fbc41"
            ],
            [
             0.9,
             "#4d9221"
            ],
            [
             1,
             "#276419"
            ]
           ],
           "sequential": [
            [
             0,
             "#0d0887"
            ],
            [
             0.1111111111111111,
             "#46039f"
            ],
            [
             0.2222222222222222,
             "#7201a8"
            ],
            [
             0.3333333333333333,
             "#9c179e"
            ],
            [
             0.4444444444444444,
             "#bd3786"
            ],
            [
             0.5555555555555556,
             "#d8576b"
            ],
            [
             0.6666666666666666,
             "#ed7953"
            ],
            [
             0.7777777777777778,
             "#fb9f3a"
            ],
            [
             0.8888888888888888,
             "#fdca26"
            ],
            [
             1,
             "#f0f921"
            ]
           ],
           "sequentialminus": [
            [
             0,
             "#0d0887"
            ],
            [
             0.1111111111111111,
             "#46039f"
            ],
            [
             0.2222222222222222,
             "#7201a8"
            ],
            [
             0.3333333333333333,
             "#9c179e"
            ],
            [
             0.4444444444444444,
             "#bd3786"
            ],
            [
             0.5555555555555556,
             "#d8576b"
            ],
            [
             0.6666666666666666,
             "#ed7953"
            ],
            [
             0.7777777777777778,
             "#fb9f3a"
            ],
            [
             0.8888888888888888,
             "#fdca26"
            ],
            [
             1,
             "#f0f921"
            ]
           ]
          },
          "colorway": [
           "#636efa",
           "#EF553B",
           "#00cc96",
           "#ab63fa",
           "#FFA15A",
           "#19d3f3",
           "#FF6692",
           "#B6E880",
           "#FF97FF",
           "#FECB52"
          ],
          "font": {
           "color": "#2a3f5f"
          },
          "geo": {
           "bgcolor": "white",
           "lakecolor": "white",
           "landcolor": "#E5ECF6",
           "showlakes": true,
           "showland": true,
           "subunitcolor": "white"
          },
          "hoverlabel": {
           "align": "left"
          },
          "hovermode": "closest",
          "mapbox": {
           "style": "light"
          },
          "paper_bgcolor": "white",
          "plot_bgcolor": "#E5ECF6",
          "polar": {
           "angularaxis": {
            "gridcolor": "white",
            "linecolor": "white",
            "ticks": ""
           },
           "bgcolor": "#E5ECF6",
           "radialaxis": {
            "gridcolor": "white",
            "linecolor": "white",
            "ticks": ""
           }
          },
          "scene": {
           "xaxis": {
            "backgroundcolor": "#E5ECF6",
            "gridcolor": "white",
            "gridwidth": 2,
            "linecolor": "white",
            "showbackground": true,
            "ticks": "",
            "zerolinecolor": "white"
           },
           "yaxis": {
            "backgroundcolor": "#E5ECF6",
            "gridcolor": "white",
            "gridwidth": 2,
            "linecolor": "white",
            "showbackground": true,
            "ticks": "",
            "zerolinecolor": "white"
           },
           "zaxis": {
            "backgroundcolor": "#E5ECF6",
            "gridcolor": "white",
            "gridwidth": 2,
            "linecolor": "white",
            "showbackground": true,
            "ticks": "",
            "zerolinecolor": "white"
           }
          },
          "shapedefaults": {
           "line": {
            "color": "#2a3f5f"
           }
          },
          "ternary": {
           "aaxis": {
            "gridcolor": "white",
            "linecolor": "white",
            "ticks": ""
           },
           "baxis": {
            "gridcolor": "white",
            "linecolor": "white",
            "ticks": ""
           },
           "bgcolor": "#E5ECF6",
           "caxis": {
            "gridcolor": "white",
            "linecolor": "white",
            "ticks": ""
           }
          },
          "title": {
           "x": 0.05
          },
          "xaxis": {
           "automargin": true,
           "gridcolor": "white",
           "linecolor": "white",
           "ticks": "",
           "title": {
            "standoff": 15
           },
           "zerolinecolor": "white",
           "zerolinewidth": 2
          },
          "yaxis": {
           "automargin": true,
           "gridcolor": "white",
           "linecolor": "white",
           "ticks": "",
           "title": {
            "standoff": 15
           },
           "zerolinecolor": "white",
           "zerolinewidth": 2
          }
         }
        },
        "width": 800
       }
      },
      "text/html": [
       "<div>                            <div id=\"de32cb00-750a-4893-877d-4932d67a2762\" class=\"plotly-graph-div\" style=\"height:800px; width:800px;\"></div>            <script type=\"text/javascript\">                require([\"plotly\"], function(Plotly) {                    window.PLOTLYENV=window.PLOTLYENV || {};                                    if (document.getElementById(\"de32cb00-750a-4893-877d-4932d67a2762\")) {                    Plotly.newPlot(                        \"de32cb00-750a-4893-877d-4932d67a2762\",                        [{\"customdata\": [[\"Melbourne\", 3000.0], [\"Southbank\", 3006.0], [\"Epping\", 3076.0], [\"South Melbourne\", 3205.0], [\"Maribyrnong\", 3032.0], [\"Maidstone\", 3012.0], [\"Cowes\", 3922.0], [\"Craigieburn\", 3064.0], [\"Thomastown\", 3074.0], [\"Bundoora\", 3083.0], [\"Docklands\", 3008.0], [\"Reservoir\", 3073.0], [\"Port Melbourne\", 3207.0], [\"Richmond\", 3121.0], [\"Point Cook\", 3030.0], [\"Deer Park\", 3023.0], [\"Mildura\", 3500.0], [\"Melbourne Airport\", 3045.0], [\"Lalor\", 3075.0], [\"Cremorne\", 3121.0], [\"East Melbourne\", 3002.0], [\"Chadstone\", 3148.0], [\"Oakleigh\", 3166.0], [\"Delahey\", 3037.0], [\"Brunswick\", 3056.0], [\"Moonee Ponds\", 3039.0], [\"Hillside\", 3037.0], [\"Footscray\", 3011.0], [\"Sunshine\", 3020.0], [\"Mill Park\", 3082.0], [\"Epping Dc\", 3076.0], [\"Campbellfield\", 3061.0], [\"Werribee\", 3030.0], [\"Holmesglen\", 3148.0], [\"Sydenham\", 3037.0], [\"Greenvale\", 3059.0], [\"St Kilda\", 3182.0], [\"Greensborough\", 3088.0], [\"Kew\", 3101.0], [\"Bacchus Marsh\", 3340.0], [\"Cranbourne\", 3977.0], [\"Broadmeadows\", 3047.0], [\"Yarraville\", 3013.0], [\"Dandenong\", 3175.0], [\"Forest Hill\", 3131.0], [\"Dallas\", 3047.0], [\"Melbourne\", 3004.0], [\"Sandringham\", 3191.0], [\"Caulfield East\", 3145.0], [\"Frankston\", 3199.0], [\"Malvern East\", 3145.0], [\"Darling\", 3145.0], [\"Central Park\", 3145.0], [\"Carnegie\", 3163.0], [\"Glen Iris\", 3146.0], [\"South Yarra\", 3141.0], [\"Carlton\", 3053.0], [\"Waurn Ponds\", 3216.0], [\"Mickleham\", 3064.0], [\"Taylors Lakes\", 3038.0], [\"Burnside\", 3023.0], [\"Newhaven\", 3925.0], [\"North Melbourne\", 3051.0], [\"Preston\", 3072.0], [\"Coburg\", 3058.0], [\"Derrimut\", 3030.0], [\"Truganina\", 3029.0], [\"Travancore\", 3032.0], [\"Hawthorn East\", 3123.0], [\"Hawthorn\", 3122.0], [\"Heidelberg\", 3084.0], [\"Fitzroy\", 3065.0], [\"Coimadai\", 3340.0], [\"Seddon\", 3011.0], [\"Tottenham\", 3012.0], [\"San Remo\", 3925.0], [\"Kalkallo\", 3064.0], [\"Windsor\", 3181.0], [\"Wollert\", 3750.0], [\"Balliang\", 3340.0], [\"Seddon West\", 3011.0], [\"Prahran\", 3181.0], [\"Balwyn\", 3103.0], [\"Abbotsford\", 3067.0], [\"Rowsley\", 3340.0], [\"Doncaster East\", 3109.0], [\"Thornbury\", 3071.0], [\"Coburg North\", 3058.0], [\"Highpoint City\", 3032.0], [\"Ascot Vale\", 3032.0], [\"Black Rock\", 3193.0], [\"Barwon Heads\", 3227.0], [\"Ballan\", 3342.0], [\"Chelsea Heights\", 3196.0], [\"Montmorency\", 3094.0], [\"Parwan\", 3340.0], [\"Hampton\", 3188.0], [\"Keilor Downs\", 3038.0], [\"Brighton East\", 3187.0], [\"Glenmore\", 3340.0], [\"North Geelong\", 3215.0], [\"Melbourne\", 3001.0], [\"Fairfield\", 3078.0], [\"Doncaster\", 3108.0], [\"Camberwell\", 3124.0], [\"Mount Dandenong\", 3767.0], [\"Albert Park\", 3206.0], [\"Burwood East\", 3151.0], [\"Laverton\", 3028.0], [\"Parkdale\", 3195.0], [\"Williamstown\", 3016.0], [\"West Melbourne\", 3003.0], [\"Oakleigh East\", 3166.0], [\"Hughesdale\", 3166.0], [\"Oakleigh South\", 3167.0], [\"Huntingdale\", 3166.0], [\"Clayton\", 3168.0], [\"Avondale Heights\", 3034.0], [\"Brighton\", 3186.0], [\"Bentleigh East\", 3165.0], [\"Carlton North\", 3054.0], [\"Preston South\", 3072.0], [\"Bayswater North\", 3153.0], [\"Strathmore\", 3041.0], [\"Airport West\", 3042.0], [\"Niddrie\", 3042.0], [\"Hadfield\", 3046.0], [\"Cheltenham\", 3192.0], [\"Flemington\", 3031.0], [\"Mordialloc\", 3195.0], [\"Parkville\", 3052.0], [\"Wantirna South\", 3152.0], [\"Wallan\", 3756.0], [\"Oaklands Junction\", 3063.0], [\"Ravenswood\", 3453.0], [\"Axedale\", 3551.0], [\"Edithvale\", 3196.0], [\"Euroa\", 3666.0], [\"Glenrowan\", 3675.0], [\"Wycheproof\", 3527.0], [\"Jacana\", 3047.0], [\"Carrum Downs\", 3201.0], [\"Chelsea\", 3196.0], [\"Bonbeach\", 3196.0], [\"Pakenham\", 3810.0], [\"Doreen\", 3754.0], [\"Arthurs Seat\", 3936.0], [\"Highton\", 3216.0], [\"Somerton\", 3062.0], [\"South Morang\", 3752.0], [\"Yuroke\", 3063.0], [\"Hastings\", 3915.0], [\"Keon Park\", 3073.0], [\"Pascoe Vale\", 3044.0], [\"Glenroy\", 3046.0], [\"Altona Meadows\", 3028.0], [\"Elwood\", 3184.0], [\"Cape Woolamai\", 3925.0]], \"hovertemplate\": \"_id=%{marker.color}<br>lat=%{lat}<br>lon=%{lon}<br>suburb=%{customdata[0]}<br>Site_postcode=%{customdata[1]}<extra></extra>\", \"lat\": [-37.8232, -37.8252, -37.65, -37.8333, -37.7833, -37.7821, -38.45, -37.5588, -37.6833, -37.6959, -37.8179, -37.7167, -37.8333, -37.8333, -37.9146, -37.7667, -34.1999, -37.6655, -37.6667, -37.8333, -37.8144, -37.8821, -37.9, -37.7156, -37.7667, -37.7667, -37.7029, -37.8, -37.7833, -37.664, -37.6307, -37.6833, -37.9, -37.8821, -37.7, -37.6333, -37.8633, -37.6977, -37.8167, -37.6833, -38.1, -37.6667, -37.8167, -37.9833, -37.8275, -37.6808, -37.8373, -37.95, -37.8754, -38.1333, -37.8775, -37.8775, -37.8775, -37.8945, -37.8559, -37.8333, -37.8004, -38.2167, -37.5588, -37.7066, -37.7518, -38.5167, -37.7984, -37.75, -37.75, -37.7975, -37.825, -37.7778, -37.8313, -37.8333, -37.75, -37.7833, -37.5867, -37.7995, -37.8031, -38.5167, -37.5333, -37.8528, -37.5833, -37.8821, -37.7995, -37.85, -37.8098, -37.8044, -37.7167, -37.7833, -37.7582, -37.7375, -37.7747, -37.7833, -37.9667, -38.2811, -37.6393, -38.0333, -37.7167, -37.706, -37.9374, -37.7066, -37.9172, -37.6921, -38.1134, -37.8262, -37.7829, -37.7833, -37.8333, -37.8333, -37.8463, -37.8535, -37.85, -37.9958, -37.8667, -37.809, -37.9, -37.8958, -37.927, -37.9019, -37.9167, -37.7616, -37.9167, -37.9221, -37.7857, -37.7419, -37.836, -37.7295, -37.7254, -37.7254, -37.7065, -37.9694, -37.7899, -38.0, -37.7853, -37.8833, -37.4369, -37.6298, -36.9, -36.7879, -38.0333, -36.75, -36.4667, -36.0667, -37.6903, -38.1, -38.05, -38.0653, -38.0667, -37.6, -38.3544, -38.1709, -37.65, -37.65, -37.5896, -38.3, -37.7, -37.7319, -37.7, -37.8739, -37.8833, -38.5434], \"legendgroup\": \"\", \"lon\": [144.9729, 144.9602, 145.0333, 144.9667, 144.8833, 144.8743, 145.2333, 144.9124, 145.0167, 145.0599, 144.9399, 145.0, 144.9333, 145.0, 144.751, 144.7833, 142.1489, 144.8363, 145.0167, 145.0, 144.9826, 145.1002, 145.1, 144.7805, 144.9667, 144.9167, 144.755, 144.9, 144.8333, 145.0646, 145.006, 144.95, 144.6667, 145.1002, 144.7667, 144.8667, 144.9802, 145.1115, 145.0333, 144.45, 145.2833, 144.9, 144.9, 145.2, 145.1739, 144.9299, 144.9763, 145.0, 145.042, 145.1167, 145.0624, 145.0624, 145.0624, 145.0591, 145.0651, 144.9833, 144.9681, 144.2833, 144.9124, 144.794, 144.7604, 145.35, 144.9449, 145.0167, 144.9667, 144.7711, 144.7489, 144.9299, 145.0499, 145.0333, 145.0667, 144.9833, 144.459, 144.8963, 144.8593, 145.3667, 144.95, 144.9978, 145.0333, 144.3787, 144.8963, 145.0, 145.0805, 144.9997, 144.4, 145.1667, 145.0064, 144.9655, 144.8999, 144.9167, 145.0167, 144.4918, 144.2016, 145.1333, 145.1167, 144.4625, 145.0151, 144.794, 145.0164, 144.4031, 144.338, 144.9815, 145.0226, 145.1333, 145.0667, 145.3667, 144.9631, 145.1503, 144.75, 145.0692, 144.9, 144.9256, 145.1167, 145.0765, 145.0964, 145.0982, 145.1333, 144.8626, 145.0, 145.0667, 144.9681, 145.0078, 145.2743, 144.9073, 144.8709, 144.8709, 144.9308, 145.0481, 144.9226, 145.0833, 144.9498, 145.2167, 144.8946, 144.8392, 144.2167, 144.5041, 145.1167, 145.5667, 146.2333, 143.2333, 144.9157, 145.1833, 145.1167, 145.1228, 145.4833, 145.15, 144.9498, 144.319, 144.9333, 145.1, 144.8794, 145.1833, 145.0167, 144.9381, 144.9333, 144.772, 144.9833, 145.3408], \"marker\": {\"color\": [57, 56, 45, 35, 35, 34, 31, 27, 27, 26, 21, 17, 16, 16, 16, 13, 11, 11, 11, 10, 10, 9, 9, 9, 8, 8, 8, 8, 7, 7, 7, 6, 6, 6, 5, 5, 5, 5, 5, 4, 4, 4, 4, 4, 4, 3, 3, 3, 3, 3, 3, 3, 3, 3, 3, 3, 3, 3, 3, 3, 3, 3, 3, 3, 3, 3, 3, 3, 3, 3, 3, 2, 2, 2, 2, 2, 2, 2, 2, 2, 2, 2, 2, 2, 2, 2, 2, 2, 2, 2, 2, 2, 2, 2, 2, 2, 2, 2, 2, 2, 2, 1, 1, 1, 1, 1, 1, 1, 1, 1, 1, 1, 1, 1, 1, 1, 1, 1, 1, 1, 1, 1, 1, 1, 1, 1, 1, 1, 1, 1, 1, 1, 1, 1, 1, 1, 1, 1, 1, 1, 1, 1, 1, 1, 1, 1, 1, 1, 1, 1, 1, 1, 1, 1, 1, 1, 1, 1], \"coloraxis\": \"coloraxis\", \"opacity\": 0.5, \"size\": [57, 56, 45, 35, 35, 34, 31, 27, 27, 26, 21, 17, 16, 16, 16, 13, 11, 11, 11, 10, 10, 9, 9, 9, 8, 8, 8, 8, 7, 7, 7, 6, 6, 6, 5, 5, 5, 5, 5, 4, 4, 4, 4, 4, 4, 3, 3, 3, 3, 3, 3, 3, 3, 3, 3, 3, 3, 3, 3, 3, 3, 3, 3, 3, 3, 3, 3, 3, 3, 3, 3, 2, 2, 2, 2, 2, 2, 2, 2, 2, 2, 2, 2, 2, 2, 2, 2, 2, 2, 2, 2, 2, 2, 2, 2, 2, 2, 2, 2, 2, 2, 1, 1, 1, 1, 1, 1, 1, 1, 1, 1, 1, 1, 1, 1, 1, 1, 1, 1, 1, 1, 1, 1, 1, 1, 1, 1, 1, 1, 1, 1, 1, 1, 1, 1, 1, 1, 1, 1, 1, 1, 1, 1, 1, 1, 1, 1, 1, 1, 1, 1, 1, 1, 1, 1, 1, 1, 1], \"sizemode\": \"area\", \"sizeref\": 0.0912}, \"mode\": \"markers\", \"name\": \"\", \"showlegend\": false, \"subplot\": \"mapbox\", \"type\": \"scattermapbox\"}],                        {\"coloraxis\": {\"colorbar\": {\"title\": {\"text\": \"\"}}, \"colorscale\": [[0.0, \"#46039f\"], [0.14285714285714285, \"#7201a8\"], [0.2857142857142857, \"#9c179e\"], [0.42857142857142855, \"#bd3786\"], [0.5714285714285714, \"#d8576b\"], [0.7142857142857143, \"#ed7953\"], [0.8571428571428571, \"#fb9f3a\"], [1.0, \"#fdca26\"]]}, \"height\": 800, \"legend\": {\"itemsizing\": \"constant\", \"tracegroupgap\": 0}, \"mapbox\": {\"center\": {\"lat\": -37.45, \"lon\": 144.995}, \"domain\": {\"x\": [0.0, 1.0], \"y\": [0.0, 1.0]}, \"style\": \"carto-positron\", \"zoom\": 8}, \"margin\": {\"t\": 60}, \"template\": {\"data\": {\"bar\": [{\"error_x\": {\"color\": \"#2a3f5f\"}, \"error_y\": {\"color\": \"#2a3f5f\"}, \"marker\": {\"line\": {\"color\": \"#E5ECF6\", \"width\": 0.5}}, \"type\": \"bar\"}], \"barpolar\": [{\"marker\": {\"line\": {\"color\": \"#E5ECF6\", \"width\": 0.5}}, \"type\": \"barpolar\"}], \"carpet\": [{\"aaxis\": {\"endlinecolor\": \"#2a3f5f\", \"gridcolor\": \"white\", \"linecolor\": \"white\", \"minorgridcolor\": \"white\", \"startlinecolor\": \"#2a3f5f\"}, \"baxis\": {\"endlinecolor\": \"#2a3f5f\", \"gridcolor\": \"white\", \"linecolor\": \"white\", \"minorgridcolor\": \"white\", \"startlinecolor\": \"#2a3f5f\"}, \"type\": \"carpet\"}], \"choropleth\": [{\"colorbar\": {\"outlinewidth\": 0, \"ticks\": \"\"}, \"type\": \"choropleth\"}], \"contour\": [{\"colorbar\": {\"outlinewidth\": 0, \"ticks\": \"\"}, \"colorscale\": [[0.0, \"#0d0887\"], [0.1111111111111111, \"#46039f\"], [0.2222222222222222, \"#7201a8\"], [0.3333333333333333, \"#9c179e\"], [0.4444444444444444, \"#bd3786\"], [0.5555555555555556, \"#d8576b\"], [0.6666666666666666, \"#ed7953\"], [0.7777777777777778, \"#fb9f3a\"], [0.8888888888888888, \"#fdca26\"], [1.0, \"#f0f921\"]], \"type\": \"contour\"}], \"contourcarpet\": [{\"colorbar\": {\"outlinewidth\": 0, \"ticks\": \"\"}, \"type\": \"contourcarpet\"}], \"heatmap\": [{\"colorbar\": {\"outlinewidth\": 0, \"ticks\": \"\"}, \"colorscale\": [[0.0, \"#0d0887\"], [0.1111111111111111, \"#46039f\"], [0.2222222222222222, \"#7201a8\"], [0.3333333333333333, \"#9c179e\"], [0.4444444444444444, \"#bd3786\"], [0.5555555555555556, \"#d8576b\"], [0.6666666666666666, \"#ed7953\"], [0.7777777777777778, \"#fb9f3a\"], [0.8888888888888888, \"#fdca26\"], [1.0, \"#f0f921\"]], \"type\": \"heatmap\"}], \"heatmapgl\": [{\"colorbar\": {\"outlinewidth\": 0, \"ticks\": \"\"}, \"colorscale\": [[0.0, \"#0d0887\"], [0.1111111111111111, \"#46039f\"], [0.2222222222222222, \"#7201a8\"], [0.3333333333333333, \"#9c179e\"], [0.4444444444444444, \"#bd3786\"], [0.5555555555555556, \"#d8576b\"], [0.6666666666666666, \"#ed7953\"], [0.7777777777777778, \"#fb9f3a\"], [0.8888888888888888, \"#fdca26\"], [1.0, \"#f0f921\"]], \"type\": \"heatmapgl\"}], \"histogram\": [{\"marker\": {\"colorbar\": {\"outlinewidth\": 0, \"ticks\": \"\"}}, \"type\": \"histogram\"}], \"histogram2d\": [{\"colorbar\": {\"outlinewidth\": 0, \"ticks\": \"\"}, \"colorscale\": [[0.0, \"#0d0887\"], [0.1111111111111111, \"#46039f\"], [0.2222222222222222, \"#7201a8\"], [0.3333333333333333, \"#9c179e\"], [0.4444444444444444, \"#bd3786\"], [0.5555555555555556, \"#d8576b\"], [0.6666666666666666, \"#ed7953\"], [0.7777777777777778, \"#fb9f3a\"], [0.8888888888888888, \"#fdca26\"], [1.0, \"#f0f921\"]], \"type\": \"histogram2d\"}], \"histogram2dcontour\": [{\"colorbar\": {\"outlinewidth\": 0, \"ticks\": \"\"}, \"colorscale\": [[0.0, \"#0d0887\"], [0.1111111111111111, \"#46039f\"], [0.2222222222222222, \"#7201a8\"], [0.3333333333333333, \"#9c179e\"], [0.4444444444444444, \"#bd3786\"], [0.5555555555555556, \"#d8576b\"], [0.6666666666666666, \"#ed7953\"], [0.7777777777777778, \"#fb9f3a\"], [0.8888888888888888, \"#fdca26\"], [1.0, \"#f0f921\"]], \"type\": \"histogram2dcontour\"}], \"mesh3d\": [{\"colorbar\": {\"outlinewidth\": 0, \"ticks\": \"\"}, \"type\": \"mesh3d\"}], \"parcoords\": [{\"line\": {\"colorbar\": {\"outlinewidth\": 0, \"ticks\": \"\"}}, \"type\": \"parcoords\"}], \"pie\": [{\"automargin\": true, \"type\": \"pie\"}], \"scatter\": [{\"marker\": {\"colorbar\": {\"outlinewidth\": 0, \"ticks\": \"\"}}, \"type\": \"scatter\"}], \"scatter3d\": [{\"line\": {\"colorbar\": {\"outlinewidth\": 0, \"ticks\": \"\"}}, \"marker\": {\"colorbar\": {\"outlinewidth\": 0, \"ticks\": \"\"}}, \"type\": \"scatter3d\"}], \"scattercarpet\": [{\"marker\": {\"colorbar\": {\"outlinewidth\": 0, \"ticks\": \"\"}}, \"type\": \"scattercarpet\"}], \"scattergeo\": [{\"marker\": {\"colorbar\": {\"outlinewidth\": 0, \"ticks\": \"\"}}, \"type\": \"scattergeo\"}], \"scattergl\": [{\"marker\": {\"colorbar\": {\"outlinewidth\": 0, \"ticks\": \"\"}}, \"type\": \"scattergl\"}], \"scattermapbox\": [{\"marker\": {\"colorbar\": {\"outlinewidth\": 0, \"ticks\": \"\"}}, \"type\": \"scattermapbox\"}], \"scatterpolar\": [{\"marker\": {\"colorbar\": {\"outlinewidth\": 0, \"ticks\": \"\"}}, \"type\": \"scatterpolar\"}], \"scatterpolargl\": [{\"marker\": {\"colorbar\": {\"outlinewidth\": 0, \"ticks\": \"\"}}, \"type\": \"scatterpolargl\"}], \"scatterternary\": [{\"marker\": {\"colorbar\": {\"outlinewidth\": 0, \"ticks\": \"\"}}, \"type\": \"scatterternary\"}], \"surface\": [{\"colorbar\": {\"outlinewidth\": 0, \"ticks\": \"\"}, \"colorscale\": [[0.0, \"#0d0887\"], [0.1111111111111111, \"#46039f\"], [0.2222222222222222, \"#7201a8\"], [0.3333333333333333, \"#9c179e\"], [0.4444444444444444, \"#bd3786\"], [0.5555555555555556, \"#d8576b\"], [0.6666666666666666, \"#ed7953\"], [0.7777777777777778, \"#fb9f3a\"], [0.8888888888888888, \"#fdca26\"], [1.0, \"#f0f921\"]], \"type\": \"surface\"}], \"table\": [{\"cells\": {\"fill\": {\"color\": \"#EBF0F8\"}, \"line\": {\"color\": \"white\"}}, \"header\": {\"fill\": {\"color\": \"#C8D4E3\"}, \"line\": {\"color\": \"white\"}}, \"type\": \"table\"}]}, \"layout\": {\"annotationdefaults\": {\"arrowcolor\": \"#2a3f5f\", \"arrowhead\": 0, \"arrowwidth\": 1}, \"autotypenumbers\": \"strict\", \"coloraxis\": {\"colorbar\": {\"outlinewidth\": 0, \"ticks\": \"\"}}, \"colorscale\": {\"diverging\": [[0, \"#8e0152\"], [0.1, \"#c51b7d\"], [0.2, \"#de77ae\"], [0.3, \"#f1b6da\"], [0.4, \"#fde0ef\"], [0.5, \"#f7f7f7\"], [0.6, \"#e6f5d0\"], [0.7, \"#b8e186\"], [0.8, \"#7fbc41\"], [0.9, \"#4d9221\"], [1, \"#276419\"]], \"sequential\": [[0.0, \"#0d0887\"], [0.1111111111111111, \"#46039f\"], [0.2222222222222222, \"#7201a8\"], [0.3333333333333333, \"#9c179e\"], [0.4444444444444444, \"#bd3786\"], [0.5555555555555556, \"#d8576b\"], [0.6666666666666666, \"#ed7953\"], [0.7777777777777778, \"#fb9f3a\"], [0.8888888888888888, \"#fdca26\"], [1.0, \"#f0f921\"]], \"sequentialminus\": [[0.0, \"#0d0887\"], [0.1111111111111111, \"#46039f\"], [0.2222222222222222, \"#7201a8\"], [0.3333333333333333, \"#9c179e\"], [0.4444444444444444, \"#bd3786\"], [0.5555555555555556, \"#d8576b\"], [0.6666666666666666, \"#ed7953\"], [0.7777777777777778, \"#fb9f3a\"], [0.8888888888888888, \"#fdca26\"], [1.0, \"#f0f921\"]]}, \"colorway\": [\"#636efa\", \"#EF553B\", \"#00cc96\", \"#ab63fa\", \"#FFA15A\", \"#19d3f3\", \"#FF6692\", \"#B6E880\", \"#FF97FF\", \"#FECB52\"], \"font\": {\"color\": \"#2a3f5f\"}, \"geo\": {\"bgcolor\": \"white\", \"lakecolor\": \"white\", \"landcolor\": \"#E5ECF6\", \"showlakes\": true, \"showland\": true, \"subunitcolor\": \"white\"}, \"hoverlabel\": {\"align\": \"left\"}, \"hovermode\": \"closest\", \"mapbox\": {\"style\": \"light\"}, \"paper_bgcolor\": \"white\", \"plot_bgcolor\": \"#E5ECF6\", \"polar\": {\"angularaxis\": {\"gridcolor\": \"white\", \"linecolor\": \"white\", \"ticks\": \"\"}, \"bgcolor\": \"#E5ECF6\", \"radialaxis\": {\"gridcolor\": \"white\", \"linecolor\": \"white\", \"ticks\": \"\"}}, \"scene\": {\"xaxis\": {\"backgroundcolor\": \"#E5ECF6\", \"gridcolor\": \"white\", \"gridwidth\": 2, \"linecolor\": \"white\", \"showbackground\": true, \"ticks\": \"\", \"zerolinecolor\": \"white\"}, \"yaxis\": {\"backgroundcolor\": \"#E5ECF6\", \"gridcolor\": \"white\", \"gridwidth\": 2, \"linecolor\": \"white\", \"showbackground\": true, \"ticks\": \"\", \"zerolinecolor\": \"white\"}, \"zaxis\": {\"backgroundcolor\": \"#E5ECF6\", \"gridcolor\": \"white\", \"gridwidth\": 2, \"linecolor\": \"white\", \"showbackground\": true, \"ticks\": \"\", \"zerolinecolor\": \"white\"}}, \"shapedefaults\": {\"line\": {\"color\": \"#2a3f5f\"}}, \"ternary\": {\"aaxis\": {\"gridcolor\": \"white\", \"linecolor\": \"white\", \"ticks\": \"\"}, \"baxis\": {\"gridcolor\": \"white\", \"linecolor\": \"white\", \"ticks\": \"\"}, \"bgcolor\": \"#E5ECF6\", \"caxis\": {\"gridcolor\": \"white\", \"linecolor\": \"white\", \"ticks\": \"\"}}, \"title\": {\"x\": 0.05}, \"xaxis\": {\"automargin\": true, \"gridcolor\": \"white\", \"linecolor\": \"white\", \"ticks\": \"\", \"title\": {\"standoff\": 15}, \"zerolinecolor\": \"white\", \"zerolinewidth\": 2}, \"yaxis\": {\"automargin\": true, \"gridcolor\": \"white\", \"linecolor\": \"white\", \"ticks\": \"\", \"title\": {\"standoff\": 15}, \"zerolinecolor\": \"white\", \"zerolinewidth\": 2}}}, \"width\": 800},                        {\"responsive\": true}                    ).then(function(){\n",
       "                            \n",
       "var gd = document.getElementById('de32cb00-750a-4893-877d-4932d67a2762');\n",
       "var x = new MutationObserver(function (mutations, observer) {{\n",
       "        var display = window.getComputedStyle(gd).display;\n",
       "        if (!display || display === 'none') {{\n",
       "            console.log([gd, 'removed!']);\n",
       "            Plotly.purge(gd);\n",
       "            observer.disconnect();\n",
       "        }}\n",
       "}});\n",
       "\n",
       "// Listen for the removal of the full notebook cells\n",
       "var notebookContainer = gd.closest('#notebook-container');\n",
       "if (notebookContainer) {{\n",
       "    x.observe(notebookContainer, {childList: true});\n",
       "}}\n",
       "\n",
       "// Listen for the clearing of the current output cell\n",
       "var outputEl = gd.closest('.output');\n",
       "if (outputEl) {{\n",
       "    x.observe(outputEl, {childList: true});\n",
       "}}\n",
       "\n",
       "                        })                };                });            </script>        </div>"
      ]
     },
     "metadata": {},
     "output_type": "display_data"
    }
   ],
   "source": [
    "fig_map = px.scatter_mapbox(geo_counts_info.sort_values('_id', ascending=False), lat='lat', lon='lon', \n",
    "                            opacity=0.5, \n",
    "                            hover_data=['suburb','Site_postcode'],\n",
    "                            mapbox_style='carto-positron', \n",
    "                            color = '_id',\n",
    "                            color_continuous_scale=px.colors.sequential.Plasma[1:-1],\n",
    "                            size='_id', \n",
    "                            size_max=25,\n",
    "                            height=800, width=800, center={'lat':-37.45,'lon':144.995})\n",
    "fig_map.update_layout(\n",
    "    coloraxis_colorbar_title='')\n",
    "fig_map.show()"
   ]
  },
  {
   "cell_type": "code",
   "execution_count": 648,
   "metadata": {},
   "outputs": [],
   "source": [
    "fig_map.write_html('exposuremap.html')"
   ]
  },
  {
   "cell_type": "markdown",
   "metadata": {},
   "source": [
    "### Graphs"
   ]
  },
  {
   "cell_type": "code",
   "execution_count": 657,
   "metadata": {
    "scrolled": false
   },
   "outputs": [
    {
     "data": {
      "application/vnd.plotly.v1+json": {
       "config": {
        "plotlyServerURL": "https://plot.ly"
       },
       "data": [
        {
         "alignmentgroup": "True",
         "bingroup": "x",
         "hovertemplate": "tier=1<br>Exposure_date_dtm=%{x}<br>count=%{y}<extra></extra>",
         "legendgroup": "1",
         "marker": {
          "color": "rgb(228,26,28)"
         },
         "name": "1",
         "nbinsx": 69,
         "offsetgroup": "1",
         "orientation": "v",
         "showlegend": true,
         "type": "histogram",
         "x": [
          "2021-07-08T00:00:00",
          "2021-05-28T00:00:00",
          "2021-05-31T00:00:00",
          "2021-05-31T00:00:00",
          "2021-05-31T00:00:00",
          "2021-05-31T00:00:00",
          "2021-05-31T00:00:00",
          "2021-05-30T00:00:00",
          "2021-05-30T00:00:00",
          "2021-06-04T00:00:00",
          "2021-06-03T00:00:00",
          "2021-06-02T00:00:00",
          "2021-06-01T00:00:00",
          "2021-05-31T00:00:00",
          "2021-05-30T00:00:00",
          "2021-06-03T00:00:00",
          "2021-06-02T00:00:00",
          "2021-06-01T00:00:00",
          "2021-05-27T00:00:00",
          "2021-06-12T00:00:00",
          "2021-06-12T00:00:00",
          "2021-06-08T00:00:00",
          "2021-06-05T00:00:00",
          "2021-05-30T00:00:00",
          "2021-06-05T00:00:00",
          "2021-06-04T00:00:00",
          "2021-06-03T00:00:00",
          "2021-06-02T00:00:00",
          "2021-05-28T00:00:00",
          "2021-05-28T00:00:00",
          "2021-05-28T00:00:00",
          "2021-05-28T00:00:00",
          "2021-05-26T00:00:00",
          "2021-05-26T00:00:00",
          "2021-05-26T00:00:00",
          "2021-05-26T00:00:00",
          "2021-05-26T00:00:00",
          "2021-05-26T00:00:00",
          "2021-05-26T00:00:00",
          "2021-05-26T00:00:00",
          "2021-05-26T00:00:00",
          "2021-05-26T00:00:00",
          "2021-05-26T00:00:00",
          "2021-05-27T00:00:00",
          "2021-05-26T00:00:00",
          "2021-06-01T00:00:00",
          "2021-05-27T00:00:00",
          "2021-05-26T00:00:00",
          "2021-05-27T00:00:00",
          "2021-05-27T00:00:00",
          "2021-05-28T00:00:00",
          "2021-05-27T00:00:00",
          "2021-05-28T00:00:00",
          "2021-05-27T00:00:00",
          "2021-05-27T00:00:00",
          "2021-05-27T00:00:00",
          "2021-05-26T00:00:00",
          "2021-05-27T00:00:00",
          "2021-05-27T00:00:00",
          "2021-05-27T00:00:00",
          "2021-05-26T00:00:00",
          "2021-05-26T00:00:00",
          "2021-05-31T00:00:00",
          "2021-05-29T00:00:00",
          "2021-06-08T00:00:00",
          "2021-06-07T00:00:00",
          "2021-06-06T00:00:00",
          "2021-06-05T00:00:00",
          "2021-06-04T00:00:00",
          "2021-06-03T00:00:00",
          "2021-07-10T00:00:00",
          "2021-07-14T00:00:00",
          "2021-07-14T00:00:00",
          "2021-07-14T00:00:00",
          "2021-07-13T00:00:00",
          "2021-07-13T00:00:00",
          "2021-07-15T00:00:00",
          "2021-07-14T00:00:00",
          "2021-07-14T00:00:00",
          "2021-07-15T00:00:00",
          "2021-07-13T00:00:00",
          "2021-07-15T00:00:00",
          "2021-07-15T00:00:00",
          "2021-07-11T00:00:00",
          "2021-07-11T00:00:00",
          "2021-07-11T00:00:00",
          "2021-07-15T00:00:00",
          "2021-07-14T00:00:00",
          "2021-07-15T00:00:00",
          "2021-07-13T00:00:00",
          "2021-07-11T00:00:00",
          "2021-06-09T00:00:00",
          "2021-06-10T00:00:00",
          "2021-06-11T00:00:00",
          "2021-06-12T00:00:00",
          "2021-05-27T00:00:00",
          "2021-05-26T00:00:00",
          "2021-05-29T00:00:00",
          "2021-05-28T00:00:00",
          "2021-05-27T00:00:00",
          "2021-05-26T00:00:00",
          "2021-06-05T00:00:00",
          "2021-06-04T00:00:00",
          "2021-06-03T00:00:00",
          "2021-06-02T00:00:00",
          "2021-06-01T00:00:00",
          "2021-05-31T00:00:00",
          "2021-06-03T00:00:00",
          "2021-05-30T00:00:00",
          "2021-05-26T00:00:00",
          "2021-06-12T00:00:00",
          "2021-06-12T00:00:00",
          "2021-06-13T00:00:00",
          "2021-06-02T00:00:00",
          "2021-06-26T00:00:00",
          "2021-06-25T00:00:00",
          "2021-06-25T00:00:00",
          "2021-06-20T00:00:00",
          "2021-06-23T00:00:00",
          "2021-06-22T00:00:00",
          "2021-06-21T00:00:00",
          "2021-06-14T00:00:00",
          "2021-06-13T00:00:00",
          "2021-06-12T00:00:00",
          "2021-05-26T00:00:00",
          "2021-05-26T00:00:00",
          "2021-05-26T00:00:00",
          "2021-05-28T00:00:00",
          "2021-05-27T00:00:00",
          "2021-05-26T00:00:00",
          "2021-05-29T00:00:00",
          "2021-05-28T00:00:00",
          "2021-05-27T00:00:00",
          "2021-05-26T00:00:00",
          "2021-05-25T00:00:00",
          "2021-05-25T00:00:00",
          "2021-05-24T00:00:00",
          "2021-05-17T00:00:00",
          "2021-05-24T00:00:00",
          "2021-05-22T00:00:00",
          "2021-05-26T00:00:00",
          "2021-05-20T00:00:00",
          "2021-05-13T00:00:00",
          "2021-05-12T00:00:00",
          "2021-05-17T00:00:00",
          "2021-05-20T00:00:00",
          "2021-05-18T00:00:00",
          "2021-05-25T00:00:00",
          "2021-05-23T00:00:00",
          "2021-05-25T00:00:00",
          "2021-05-19T00:00:00",
          "2021-05-21T00:00:00",
          "2021-05-26T00:00:00",
          "2021-05-17T00:00:00",
          "2021-05-29T00:00:00",
          "2021-05-18T00:00:00",
          "2021-05-24T00:00:00",
          "2021-05-25T00:00:00",
          "2021-05-23T00:00:00",
          "2021-05-28T00:00:00",
          "2021-05-23T00:00:00",
          "2021-05-27T00:00:00",
          "2021-05-27T00:00:00",
          "2021-05-27T00:00:00",
          "2021-05-23T00:00:00",
          "2021-05-23T00:00:00",
          "2021-05-23T00:00:00",
          "2021-05-23T00:00:00",
          "2021-05-23T00:00:00",
          "2021-05-23T00:00:00",
          "2021-05-23T00:00:00",
          "2021-05-25T00:00:00",
          "2021-05-24T00:00:00",
          "2021-05-23T00:00:00",
          "2021-05-23T00:00:00",
          "2021-05-23T00:00:00",
          "2021-05-23T00:00:00",
          "2021-05-23T00:00:00",
          "2021-05-23T00:00:00",
          "2021-05-23T00:00:00",
          "2021-05-23T00:00:00",
          "2021-05-23T00:00:00",
          "2021-05-25T00:00:00",
          "2021-05-25T00:00:00",
          "2021-05-24T00:00:00",
          "2021-05-25T00:00:00",
          "2021-05-23T00:00:00",
          "2021-05-19T00:00:00",
          "2021-05-19T00:00:00",
          "2021-05-19T00:00:00",
          "2021-05-21T00:00:00",
          "2021-05-21T00:00:00",
          "2021-05-24T00:00:00",
          "2021-05-25T00:00:00",
          "2021-05-24T00:00:00",
          "2021-05-23T00:00:00",
          "2021-05-22T00:00:00",
          "2021-05-21T00:00:00",
          "2021-05-19T00:00:00",
          "2021-05-20T00:00:00",
          "2021-05-18T00:00:00",
          "2021-05-18T00:00:00",
          "2021-05-24T00:00:00",
          "2021-05-21T00:00:00",
          "2021-05-24T00:00:00",
          "2021-05-20T00:00:00",
          "2021-05-20T00:00:00",
          "2021-05-20T00:00:00",
          "2021-05-20T00:00:00",
          "2021-05-20T00:00:00",
          "2021-05-20T00:00:00",
          "2021-05-18T00:00:00",
          "2021-05-19T00:00:00",
          "2021-05-17T00:00:00",
          "2021-05-20T00:00:00",
          "2021-05-21T00:00:00",
          "2021-05-24T00:00:00",
          "2021-06-08T00:00:00",
          "2021-05-21T00:00:00",
          "2021-07-14T00:00:00",
          "2021-05-21T00:00:00",
          "2021-05-25T00:00:00",
          "2021-05-19T00:00:00",
          "2021-05-19T00:00:00",
          "2021-05-25T00:00:00",
          "2021-05-18T00:00:00",
          "2021-05-18T00:00:00",
          "2021-05-18T00:00:00",
          "2021-05-18T00:00:00",
          "2021-05-26T00:00:00",
          "2021-05-25T00:00:00",
          "2021-05-23T00:00:00",
          "2021-05-26T00:00:00",
          "2021-05-25T00:00:00",
          "2021-05-24T00:00:00",
          "2021-05-20T00:00:00",
          "2021-05-24T00:00:00",
          "2021-05-24T00:00:00",
          "2021-05-25T00:00:00",
          "2021-05-24T00:00:00",
          "2021-05-25T00:00:00",
          "2021-05-25T00:00:00",
          "2021-05-24T00:00:00",
          "2021-05-25T00:00:00",
          "2021-05-21T00:00:00",
          "2021-05-24T00:00:00",
          "2021-05-24T00:00:00",
          "2021-05-21T00:00:00",
          "2021-05-20T00:00:00",
          "2021-05-24T00:00:00",
          "2021-05-25T00:00:00",
          "2021-07-13T00:00:00",
          "2021-05-28T00:00:00",
          "2021-07-12T00:00:00",
          "2021-07-12T00:00:00",
          "2021-07-12T00:00:00",
          "2021-07-11T00:00:00",
          "2021-07-09T00:00:00",
          "2021-07-13T00:00:00",
          "2021-07-12T00:00:00",
          "2021-07-15T00:00:00",
          "2021-07-12T00:00:00",
          "2021-07-15T00:00:00",
          "2021-07-09T00:00:00",
          "2021-07-09T00:00:00",
          "2021-07-14T00:00:00",
          "2021-07-14T00:00:00",
          "2021-07-13T00:00:00",
          "2021-07-15T00:00:00",
          "2021-07-13T00:00:00",
          "2021-07-13T00:00:00",
          "2021-07-14T00:00:00",
          "2021-07-13T00:00:00",
          "2021-07-12T00:00:00",
          "2021-07-12T00:00:00",
          "2021-07-13T00:00:00",
          "2021-07-10T00:00:00",
          "2021-07-15T00:00:00",
          "2021-07-13T00:00:00",
          "2021-07-13T00:00:00",
          "2021-07-13T00:00:00",
          "2021-07-12T00:00:00",
          "2021-07-14T00:00:00",
          "2021-07-14T00:00:00",
          "2021-07-09T00:00:00",
          "2021-07-14T00:00:00",
          "2021-07-13T00:00:00",
          "2021-07-14T00:00:00",
          "2021-07-12T00:00:00",
          "2021-07-15T00:00:00",
          "2021-07-14T00:00:00",
          "2021-07-13T00:00:00",
          "2021-07-13T00:00:00",
          "2021-07-13T00:00:00",
          "2021-07-14T00:00:00",
          "2021-07-12T00:00:00",
          "2021-07-14T00:00:00",
          "2021-07-13T00:00:00",
          "2021-07-14T00:00:00",
          "2021-07-11T00:00:00",
          "2021-07-10T00:00:00",
          "2021-07-14T00:00:00",
          "2021-07-14T00:00:00",
          "2021-07-14T00:00:00",
          "2021-07-12T00:00:00",
          "2021-07-12T00:00:00",
          "2021-07-12T00:00:00",
          "2021-07-12T00:00:00",
          "2021-07-15T00:00:00",
          "2021-07-15T00:00:00",
          "2021-07-13T00:00:00",
          "2021-07-14T00:00:00",
          "2021-07-14T00:00:00",
          "2021-07-13T00:00:00",
          "2021-07-09T00:00:00",
          "2021-07-13T00:00:00",
          "2021-07-09T00:00:00",
          "2021-07-09T00:00:00",
          "2021-07-13T00:00:00",
          "2021-07-12T00:00:00",
          "2021-07-09T00:00:00",
          "2021-07-09T00:00:00",
          "2021-07-09T00:00:00",
          "2021-07-10T00:00:00",
          "2021-07-12T00:00:00",
          "2021-07-13T00:00:00",
          "2021-07-13T00:00:00",
          "2021-07-14T00:00:00",
          "2021-07-09T00:00:00",
          "2021-07-13T00:00:00",
          "2021-07-13T00:00:00",
          "2021-07-09T00:00:00",
          "2021-07-15T00:00:00",
          "2021-07-14T00:00:00",
          "2021-07-16T00:00:00",
          "2021-07-13T00:00:00",
          "2021-07-09T00:00:00",
          "2021-07-12T00:00:00",
          "2021-07-15T00:00:00",
          "2021-07-13T00:00:00",
          "2021-07-16T00:00:00",
          "2021-07-13T00:00:00",
          "2021-07-14T00:00:00",
          "2021-07-15T00:00:00",
          "2021-07-08T00:00:00",
          "2021-07-14T00:00:00",
          "2021-07-09T00:00:00",
          "2021-07-14T00:00:00",
          "2021-07-12T00:00:00",
          "2021-07-12T00:00:00",
          "2021-07-11T00:00:00",
          "2021-07-12T00:00:00",
          "2021-07-10T00:00:00",
          "2021-07-12T00:00:00",
          "2021-07-12T00:00:00",
          "2021-07-15T00:00:00",
          "2021-07-14T00:00:00",
          "2021-07-11T00:00:00",
          "2021-07-10T00:00:00",
          "2021-07-09T00:00:00",
          "2021-07-09T00:00:00",
          "2021-07-10T00:00:00",
          "2021-07-14T00:00:00",
          "2021-07-16T00:00:00",
          "2021-07-11T00:00:00",
          "2021-07-11T00:00:00",
          "2021-07-14T00:00:00",
          "2021-07-13T00:00:00",
          "2021-07-14T00:00:00",
          "2021-07-13T00:00:00",
          "2021-07-16T00:00:00",
          "2021-07-13T00:00:00",
          "2021-07-13T00:00:00",
          "2021-07-14T00:00:00",
          "2021-07-09T00:00:00",
          "2021-07-09T00:00:00",
          "2021-07-15T00:00:00",
          "2021-07-14T00:00:00",
          "2021-07-13T00:00:00",
          "2021-07-10T00:00:00",
          "2021-07-09T00:00:00",
          "2021-07-10T00:00:00",
          "2021-07-09T00:00:00",
          "2021-07-13T00:00:00",
          "2021-07-12T00:00:00",
          "2021-07-13T00:00:00",
          "2021-07-14T00:00:00",
          "2021-07-13T00:00:00",
          "2021-07-14T00:00:00",
          "2021-07-10T00:00:00",
          "2021-07-08T00:00:00",
          "2021-07-15T00:00:00",
          "2021-07-15T00:00:00",
          "2021-07-08T00:00:00",
          "2021-07-08T00:00:00",
          "2021-07-13T00:00:00",
          "2021-07-15T00:00:00",
          "2021-07-09T00:00:00",
          "2021-07-13T00:00:00",
          "2021-07-12T00:00:00",
          "2021-07-13T00:00:00",
          "2021-07-14T00:00:00",
          "2021-07-09T00:00:00",
          "2021-07-14T00:00:00"
         ],
         "xaxis": "x",
         "yaxis": "y"
        },
        {
         "alignmentgroup": "True",
         "bingroup": "x",
         "hovertemplate": "tier=2<br>Exposure_date_dtm=%{x}<br>count=%{y}<extra></extra>",
         "legendgroup": "2",
         "marker": {
          "color": "rgb(55,126,184)"
         },
         "name": "2",
         "nbinsx": 69,
         "offsetgroup": "2",
         "orientation": "v",
         "showlegend": true,
         "type": "histogram",
         "x": [
          "2021-05-24T00:00:00",
          "2021-07-12T00:00:00",
          "2021-05-14T00:00:00",
          "2021-05-24T00:00:00",
          "2021-05-24T00:00:00",
          "2021-05-14T00:00:00",
          "2021-05-24T00:00:00",
          "2021-05-14T00:00:00",
          "2021-05-19T00:00:00",
          "2021-07-12T00:00:00",
          "2021-05-26T00:00:00",
          "2021-07-14T00:00:00",
          "2021-07-14T00:00:00",
          "2021-07-13T00:00:00",
          "2021-05-26T00:00:00",
          "2021-05-26T00:00:00",
          "2021-05-26T00:00:00",
          "2021-05-26T00:00:00",
          "2021-07-13T00:00:00",
          "2021-05-26T00:00:00",
          "2021-07-13T00:00:00",
          "2021-05-26T00:00:00",
          "2021-05-26T00:00:00",
          "2021-05-26T00:00:00",
          "2021-07-13T00:00:00",
          "2021-07-14T00:00:00",
          "2021-05-26T00:00:00",
          "2021-05-26T00:00:00",
          "2021-06-08T00:00:00",
          "2021-05-27T00:00:00",
          "2021-05-27T00:00:00",
          "2021-05-26T00:00:00",
          "2021-07-12T00:00:00",
          "2021-05-26T00:00:00",
          "2021-05-26T00:00:00",
          "2021-07-10T00:00:00",
          "2021-07-12T00:00:00",
          "2021-07-12T00:00:00",
          "2021-07-13T00:00:00",
          "2021-07-12T00:00:00",
          "2021-05-20T00:00:00",
          "2021-05-17T00:00:00",
          "2021-05-21T00:00:00",
          "2021-07-12T00:00:00",
          "2021-05-20T00:00:00",
          "2021-07-12T00:00:00",
          "2021-07-12T00:00:00",
          "2021-07-12T00:00:00",
          "2021-05-20T00:00:00",
          "2021-05-19T00:00:00",
          "2021-05-19T00:00:00",
          "2021-05-20T00:00:00",
          "2021-07-12T00:00:00",
          "2021-07-12T00:00:00",
          "2021-05-19T00:00:00",
          "2021-05-21T00:00:00",
          "2021-05-26T00:00:00",
          "2021-07-13T00:00:00",
          "2021-05-25T00:00:00",
          "2021-07-12T00:00:00",
          "2021-05-23T00:00:00",
          "2021-05-23T00:00:00",
          "2021-05-23T00:00:00",
          "2021-05-23T00:00:00",
          "2021-05-23T00:00:00",
          "2021-05-23T00:00:00",
          "2021-05-23T00:00:00",
          "2021-05-23T00:00:00",
          "2021-05-23T00:00:00",
          "2021-07-09T00:00:00",
          "2021-06-03T00:00:00",
          "2021-07-09T00:00:00",
          "2021-06-04T00:00:00",
          "2021-05-25T00:00:00",
          "2021-05-24T00:00:00",
          "2021-05-25T00:00:00",
          "2021-05-25T00:00:00",
          "2021-07-11T00:00:00",
          "2021-07-09T00:00:00",
          "2021-05-25T00:00:00",
          "2021-07-12T00:00:00",
          "2021-05-24T00:00:00",
          "2021-07-12T00:00:00",
          "2021-05-24T00:00:00",
          "2021-06-03T00:00:00",
          "2021-07-09T00:00:00",
          "2021-07-09T00:00:00",
          "2021-05-23T00:00:00",
          "2021-06-03T00:00:00",
          "2021-06-03T00:00:00",
          "2021-06-02T00:00:00",
          "2021-06-02T00:00:00",
          "2021-05-23T00:00:00",
          "2021-05-23T00:00:00",
          "2021-05-23T00:00:00",
          "2021-05-23T00:00:00",
          "2021-05-23T00:00:00",
          "2021-07-11T00:00:00",
          "2021-05-23T00:00:00",
          "2021-05-23T00:00:00",
          "2021-05-23T00:00:00",
          "2021-05-23T00:00:00",
          "2021-05-23T00:00:00",
          "2021-05-23T00:00:00",
          "2021-05-23T00:00:00",
          "2021-05-23T00:00:00",
          "2021-05-23T00:00:00",
          "2021-05-23T00:00:00",
          "2021-05-23T00:00:00",
          "2021-05-23T00:00:00",
          "2021-05-23T00:00:00",
          "2021-05-23T00:00:00",
          "2021-05-23T00:00:00",
          "2021-07-12T00:00:00",
          "2021-07-12T00:00:00",
          "2021-05-25T00:00:00",
          "2021-05-25T00:00:00",
          "2021-05-26T00:00:00",
          "2021-07-10T00:00:00",
          "2021-05-26T00:00:00",
          "2021-05-26T00:00:00",
          "2021-05-26T00:00:00",
          "2021-05-26T00:00:00",
          "2021-05-25T00:00:00",
          "2021-05-24T00:00:00",
          "2021-05-25T00:00:00",
          "2021-05-24T00:00:00",
          "2021-05-27T00:00:00",
          "2021-05-24T00:00:00",
          "2021-07-10T00:00:00",
          "2021-07-11T00:00:00",
          "2021-07-11T00:00:00",
          "2021-07-11T00:00:00",
          "2021-07-12T00:00:00",
          "2021-07-10T00:00:00",
          "2021-07-14T00:00:00",
          "2021-05-25T00:00:00",
          "2021-05-24T00:00:00",
          "2021-05-24T00:00:00",
          "2021-05-25T00:00:00",
          "2021-07-12T00:00:00",
          "2021-07-10T00:00:00",
          "2021-07-10T00:00:00",
          "2021-05-25T00:00:00",
          "2021-05-26T00:00:00",
          "2021-05-24T00:00:00",
          "2021-05-25T00:00:00",
          "2021-05-25T00:00:00",
          "2021-05-18T00:00:00",
          "2021-05-20T00:00:00",
          "2021-05-15T00:00:00",
          "2021-05-15T00:00:00",
          "2021-05-24T00:00:00",
          "2021-05-24T00:00:00",
          "2021-05-24T00:00:00",
          "2021-05-24T00:00:00",
          "2021-05-21T00:00:00",
          "2021-05-19T00:00:00",
          "2021-05-26T00:00:00",
          "2021-05-25T00:00:00",
          "2021-05-24T00:00:00",
          "2021-05-21T00:00:00",
          "2021-07-10T00:00:00",
          "2021-05-24T00:00:00",
          "2021-05-26T00:00:00",
          "2021-05-25T00:00:00",
          "2021-05-18T00:00:00",
          "2021-05-19T00:00:00",
          "2021-05-18T00:00:00",
          "2021-05-17T00:00:00",
          "2021-05-21T00:00:00",
          "2021-05-27T00:00:00",
          "2021-05-27T00:00:00",
          "2021-06-03T00:00:00",
          "2021-06-11T00:00:00",
          "2021-06-11T00:00:00",
          "2021-06-12T00:00:00",
          "2021-06-12T00:00:00",
          "2021-06-12T00:00:00",
          "2021-06-12T00:00:00",
          "2021-06-12T00:00:00",
          "2021-06-13T00:00:00",
          "2021-06-13T00:00:00",
          "2021-06-13T00:00:00",
          "2021-06-13T00:00:00",
          "2021-06-12T00:00:00",
          "2021-06-12T00:00:00",
          "2021-06-12T00:00:00",
          "2021-06-12T00:00:00",
          "2021-06-12T00:00:00",
          "2021-06-12T00:00:00",
          "2021-06-12T00:00:00",
          "2021-06-13T00:00:00",
          "2021-06-13T00:00:00",
          "2021-06-13T00:00:00",
          "2021-06-12T00:00:00",
          "2021-06-12T00:00:00",
          "2021-06-13T00:00:00",
          "2021-06-13T00:00:00",
          "2021-06-13T00:00:00",
          "2021-06-13T00:00:00",
          "2021-06-11T00:00:00",
          "2021-06-13T00:00:00",
          "2021-06-11T00:00:00",
          "2021-06-11T00:00:00",
          "2021-07-15T00:00:00",
          "2021-07-13T00:00:00",
          "2021-06-05T00:00:00",
          "2021-06-06T00:00:00",
          "2021-06-06T00:00:00",
          "2021-06-05T00:00:00",
          "2021-06-05T00:00:00",
          "2021-06-04T00:00:00",
          "2021-06-04T00:00:00",
          "2021-06-03T00:00:00",
          "2021-06-03T00:00:00",
          "2021-06-03T00:00:00",
          "2021-06-04T00:00:00",
          "2021-06-04T00:00:00",
          "2021-06-03T00:00:00",
          "2021-06-03T00:00:00",
          "2021-06-02T00:00:00",
          "2021-06-02T00:00:00",
          "2021-06-02T00:00:00",
          "2021-06-03T00:00:00",
          "2021-06-03T00:00:00",
          "2021-05-26T00:00:00",
          "2021-06-11T00:00:00",
          "2021-06-11T00:00:00",
          "2021-06-11T00:00:00",
          "2021-06-11T00:00:00",
          "2021-06-11T00:00:00",
          "2021-06-11T00:00:00",
          "2021-07-14T00:00:00",
          "2021-07-14T00:00:00",
          "2021-07-14T00:00:00",
          "2021-07-02T00:00:00",
          "2021-07-13T00:00:00",
          "2021-07-15T00:00:00",
          "2021-07-13T00:00:00",
          "2021-07-14T00:00:00",
          "2021-07-13T00:00:00",
          "2021-07-14T00:00:00",
          "2021-07-17T00:00:00",
          "2021-07-12T00:00:00",
          "2021-07-13T00:00:00",
          "2021-07-13T00:00:00",
          "2021-07-15T00:00:00",
          "2021-07-14T00:00:00",
          "2021-07-15T00:00:00",
          "2021-07-15T00:00:00",
          "2021-07-11T00:00:00",
          "2021-07-14T00:00:00",
          "2021-07-14T00:00:00",
          "2021-07-16T00:00:00",
          "2021-07-14T00:00:00",
          "2021-07-14T00:00:00",
          "2021-07-15T00:00:00",
          "2021-07-14T00:00:00",
          "2021-07-14T00:00:00",
          "2021-07-15T00:00:00",
          "2021-07-15T00:00:00",
          "2021-07-12T00:00:00",
          "2021-07-10T00:00:00",
          "2021-07-14T00:00:00",
          "2021-07-14T00:00:00",
          "2021-07-15T00:00:00",
          "2021-06-26T00:00:00",
          "2021-06-25T00:00:00",
          "2021-06-26T00:00:00",
          "2021-06-26T00:00:00",
          "2021-06-26T00:00:00",
          "2021-06-25T00:00:00",
          "2021-07-15T00:00:00",
          "2021-06-22T00:00:00",
          "2021-06-23T00:00:00",
          "2021-06-23T00:00:00",
          "2021-06-20T00:00:00",
          "2021-06-20T00:00:00",
          "2021-06-22T00:00:00",
          "2021-07-14T00:00:00",
          "2021-06-22T00:00:00",
          "2021-06-21T00:00:00",
          "2021-06-20T00:00:00",
          "2021-06-20T00:00:00",
          "2021-06-20T00:00:00",
          "2021-07-15T00:00:00",
          "2021-07-14T00:00:00",
          "2021-06-15T00:00:00",
          "2021-06-15T00:00:00",
          "2021-07-13T00:00:00",
          "2021-07-14T00:00:00",
          "2021-07-13T00:00:00",
          "2021-07-10T00:00:00",
          "2021-07-13T00:00:00",
          "2021-06-22T00:00:00",
          "2021-07-15T00:00:00",
          "2021-06-04T00:00:00",
          "2021-07-15T00:00:00",
          "2021-05-30T00:00:00",
          "2021-05-30T00:00:00",
          "2021-05-30T00:00:00",
          "2021-05-30T00:00:00",
          "2021-07-15T00:00:00",
          "2021-05-29T00:00:00",
          "2021-05-31T00:00:00",
          "2021-05-29T00:00:00",
          "2021-05-31T00:00:00",
          "2021-07-13T00:00:00",
          "2021-05-31T00:00:00",
          "2021-05-31T00:00:00",
          "2021-05-31T00:00:00",
          "2021-05-31T00:00:00",
          "2021-05-31T00:00:00",
          "2021-05-31T00:00:00",
          "2021-05-31T00:00:00",
          "2021-05-30T00:00:00",
          "2021-05-31T00:00:00",
          "2021-05-31T00:00:00",
          "2021-05-28T00:00:00",
          "2021-05-31T00:00:00",
          "2021-05-30T00:00:00",
          "2021-06-04T00:00:00",
          "2021-07-13T00:00:00",
          "2021-06-01T00:00:00",
          "2021-06-13T00:00:00",
          "2021-05-30T00:00:00",
          "2021-06-13T00:00:00",
          "2021-05-30T00:00:00",
          "2021-05-30T00:00:00",
          "2021-07-14T00:00:00",
          "2021-05-27T00:00:00",
          "2021-05-27T00:00:00",
          "2021-07-15T00:00:00",
          "2021-05-27T00:00:00",
          "2021-05-28T00:00:00",
          "2021-07-14T00:00:00",
          "2021-05-27T00:00:00",
          "2021-07-14T00:00:00",
          "2021-05-27T00:00:00",
          "2021-07-14T00:00:00",
          "2021-07-14T00:00:00",
          "2021-05-27T00:00:00",
          "2021-05-27T00:00:00",
          "2021-05-28T00:00:00",
          "2021-05-28T00:00:00",
          "2021-05-28T00:00:00",
          "2021-07-14T00:00:00",
          "2021-05-28T00:00:00",
          "2021-05-28T00:00:00",
          "2021-05-28T00:00:00",
          "2021-05-22T00:00:00",
          "2021-05-22T00:00:00",
          "2021-05-31T00:00:00",
          "2021-05-30T00:00:00",
          "2021-05-30T00:00:00",
          "2021-05-30T00:00:00",
          "2021-05-30T00:00:00",
          "2021-06-11T00:00:00",
          "2021-06-01T00:00:00",
          "2021-06-10T00:00:00",
          "2021-06-08T00:00:00",
          "2021-06-08T00:00:00",
          "2021-06-08T00:00:00",
          "2021-05-31T00:00:00",
          "2021-06-11T00:00:00",
          "2021-05-27T00:00:00",
          "2021-05-25T00:00:00",
          "2021-05-27T00:00:00",
          "2021-05-18T00:00:00",
          "2021-05-21T00:00:00",
          "2021-05-20T00:00:00",
          "2021-05-19T00:00:00",
          "2021-05-26T00:00:00",
          "2021-06-07T00:00:00",
          "2021-05-21T00:00:00",
          "2021-05-21T00:00:00",
          "2021-05-21T00:00:00",
          "2021-05-21T00:00:00",
          "2021-05-22T00:00:00",
          "2021-05-24T00:00:00",
          "2021-05-23T00:00:00",
          "2021-06-05T00:00:00",
          "2021-06-07T00:00:00",
          "2021-06-06T00:00:00",
          "2021-06-08T00:00:00",
          "2021-06-07T00:00:00",
          "2021-06-07T00:00:00",
          "2021-06-08T00:00:00",
          "2021-07-14T00:00:00",
          "2021-05-18T00:00:00",
          "2021-06-10T00:00:00",
          "2021-05-31T00:00:00",
          "2021-06-12T00:00:00",
          "2021-06-10T00:00:00",
          "2021-05-18T00:00:00",
          "2021-05-21T00:00:00",
          "2021-06-10T00:00:00",
          "2021-06-10T00:00:00",
          "2021-06-13T00:00:00",
          "2021-06-12T00:00:00",
          "2021-05-18T00:00:00",
          "2021-06-09T00:00:00",
          "2021-06-12T00:00:00",
          "2021-06-10T00:00:00",
          "2021-06-09T00:00:00",
          "2021-06-10T00:00:00"
         ],
         "xaxis": "x",
         "yaxis": "y"
        },
        {
         "alignmentgroup": "True",
         "bingroup": "x",
         "hovertemplate": "tier=3<br>Exposure_date_dtm=%{x}<br>count=%{y}<extra></extra>",
         "legendgroup": "3",
         "marker": {
          "color": "rgb(77,175,74)"
         },
         "name": "3",
         "nbinsx": 69,
         "offsetgroup": "3",
         "orientation": "v",
         "showlegend": true,
         "type": "histogram",
         "x": [
          "2021-05-27T00:00:00",
          "2021-05-27T00:00:00",
          "2021-07-09T00:00:00",
          "2021-05-12T00:00:00",
          "2021-05-27T00:00:00",
          "2021-07-12T00:00:00",
          "2021-06-20T00:00:00",
          "2021-07-08T00:00:00",
          "2021-07-10T00:00:00",
          "2021-07-08T00:00:00",
          "2021-07-10T00:00:00",
          "2021-07-08T00:00:00",
          "2021-07-08T00:00:00",
          "2021-07-08T00:00:00",
          "2021-05-25T00:00:00",
          "2021-07-08T00:00:00",
          "2021-06-07T00:00:00",
          "2021-07-14T00:00:00",
          "2021-07-14T00:00:00",
          "2021-05-27T00:00:00",
          "2021-07-09T00:00:00",
          "2021-05-11T00:00:00",
          "2021-05-15T00:00:00",
          "2021-05-11T00:00:00",
          "2021-07-12T00:00:00",
          "2021-07-12T00:00:00",
          "2021-07-12T00:00:00",
          "2021-06-20T00:00:00",
          "2021-06-14T00:00:00",
          "2021-07-12T00:00:00",
          "2021-05-23T00:00:00",
          "2021-06-13T00:00:00",
          "2021-07-13T00:00:00",
          "2021-05-23T00:00:00",
          "2021-07-12T00:00:00",
          "2021-06-25T00:00:00",
          "2021-07-10T00:00:00",
          "2021-06-11T00:00:00",
          "2021-06-26T00:00:00",
          "2021-07-10T00:00:00",
          "2021-07-10T00:00:00",
          "2021-05-23T00:00:00",
          "2021-05-13T00:00:00",
          "2021-06-20T00:00:00",
          "2021-07-10T00:00:00",
          "2021-05-11T00:00:00",
          "2021-07-13T00:00:00",
          "2021-07-10T00:00:00",
          "2021-05-27T00:00:00"
         ],
         "xaxis": "x",
         "yaxis": "y"
        }
       ],
       "layout": {
        "annotations": [
         {
          "ax": 10,
          "ay": 20,
          "showarrow": false,
          "text": "  5km",
          "x": "2021-05-27",
          "xanchor": "left",
          "y": 60
         },
         {
          "ax": 10,
          "ay": 20,
          "showarrow": false,
          "text": "  10km",
          "x": "2021-06-03",
          "xanchor": "left",
          "y": 50
         },
         {
          "ax": 10,
          "ay": 20,
          "showarrow": false,
          "text": "  25km",
          "x": "2021-06-10",
          "xanchor": "left",
          "y": 40
         },
         {
          "ax": 10,
          "ay": 20,
          "showarrow": false,
          "text": "  5km",
          "x": "2021-07-15",
          "xanchor": "right",
          "y": 70
         }
        ],
        "bargap": 0.2,
        "barmode": "relative",
        "legend": {
         "title": {
          "text": "tier"
         },
         "tracegroupgap": 0
        },
        "shapes": [
         {
          "type": "line",
          "x0": "2021-05-27T12:00:00",
          "x1": "2021-05-27T12:00:00",
          "xref": "x",
          "y0": 0,
          "y1": 1,
          "yref": "y domain"
         },
         {
          "type": "line",
          "x0": "2021-06-03T12:00:00",
          "x1": "2021-06-03T12:00:00",
          "xref": "x",
          "y0": 0,
          "y1": 1,
          "yref": "y domain"
         },
         {
          "type": "line",
          "x0": "2021-06-10T12:00:00",
          "x1": "2021-06-10T12:00:00",
          "xref": "x",
          "y0": 0,
          "y1": 1,
          "yref": "y domain"
         },
         {
          "type": "line",
          "x0": "2021-07-15T12:00:00",
          "x1": "2021-07-15T12:00:00",
          "xref": "x",
          "y0": 0,
          "y1": 1,
          "yref": "y domain"
         }
        ],
        "template": {
         "data": {
          "bar": [
           {
            "error_x": {
             "color": "#f2f5fa"
            },
            "error_y": {
             "color": "#f2f5fa"
            },
            "marker": {
             "line": {
              "color": "rgb(17,17,17)",
              "width": 0.5
             }
            },
            "type": "bar"
           }
          ],
          "barpolar": [
           {
            "marker": {
             "line": {
              "color": "rgb(17,17,17)",
              "width": 0.5
             }
            },
            "type": "barpolar"
           }
          ],
          "carpet": [
           {
            "aaxis": {
             "endlinecolor": "#A2B1C6",
             "gridcolor": "#506784",
             "linecolor": "#506784",
             "minorgridcolor": "#506784",
             "startlinecolor": "#A2B1C6"
            },
            "baxis": {
             "endlinecolor": "#A2B1C6",
             "gridcolor": "#506784",
             "linecolor": "#506784",
             "minorgridcolor": "#506784",
             "startlinecolor": "#A2B1C6"
            },
            "type": "carpet"
           }
          ],
          "choropleth": [
           {
            "colorbar": {
             "outlinewidth": 0,
             "ticks": ""
            },
            "type": "choropleth"
           }
          ],
          "contour": [
           {
            "colorbar": {
             "outlinewidth": 0,
             "ticks": ""
            },
            "colorscale": [
             [
              0,
              "#0d0887"
             ],
             [
              0.1111111111111111,
              "#46039f"
             ],
             [
              0.2222222222222222,
              "#7201a8"
             ],
             [
              0.3333333333333333,
              "#9c179e"
             ],
             [
              0.4444444444444444,
              "#bd3786"
             ],
             [
              0.5555555555555556,
              "#d8576b"
             ],
             [
              0.6666666666666666,
              "#ed7953"
             ],
             [
              0.7777777777777778,
              "#fb9f3a"
             ],
             [
              0.8888888888888888,
              "#fdca26"
             ],
             [
              1,
              "#f0f921"
             ]
            ],
            "type": "contour"
           }
          ],
          "contourcarpet": [
           {
            "colorbar": {
             "outlinewidth": 0,
             "ticks": ""
            },
            "type": "contourcarpet"
           }
          ],
          "heatmap": [
           {
            "colorbar": {
             "outlinewidth": 0,
             "ticks": ""
            },
            "colorscale": [
             [
              0,
              "#0d0887"
             ],
             [
              0.1111111111111111,
              "#46039f"
             ],
             [
              0.2222222222222222,
              "#7201a8"
             ],
             [
              0.3333333333333333,
              "#9c179e"
             ],
             [
              0.4444444444444444,
              "#bd3786"
             ],
             [
              0.5555555555555556,
              "#d8576b"
             ],
             [
              0.6666666666666666,
              "#ed7953"
             ],
             [
              0.7777777777777778,
              "#fb9f3a"
             ],
             [
              0.8888888888888888,
              "#fdca26"
             ],
             [
              1,
              "#f0f921"
             ]
            ],
            "type": "heatmap"
           }
          ],
          "heatmapgl": [
           {
            "colorbar": {
             "outlinewidth": 0,
             "ticks": ""
            },
            "colorscale": [
             [
              0,
              "#0d0887"
             ],
             [
              0.1111111111111111,
              "#46039f"
             ],
             [
              0.2222222222222222,
              "#7201a8"
             ],
             [
              0.3333333333333333,
              "#9c179e"
             ],
             [
              0.4444444444444444,
              "#bd3786"
             ],
             [
              0.5555555555555556,
              "#d8576b"
             ],
             [
              0.6666666666666666,
              "#ed7953"
             ],
             [
              0.7777777777777778,
              "#fb9f3a"
             ],
             [
              0.8888888888888888,
              "#fdca26"
             ],
             [
              1,
              "#f0f921"
             ]
            ],
            "type": "heatmapgl"
           }
          ],
          "histogram": [
           {
            "marker": {
             "colorbar": {
              "outlinewidth": 0,
              "ticks": ""
             }
            },
            "type": "histogram"
           }
          ],
          "histogram2d": [
           {
            "colorbar": {
             "outlinewidth": 0,
             "ticks": ""
            },
            "colorscale": [
             [
              0,
              "#0d0887"
             ],
             [
              0.1111111111111111,
              "#46039f"
             ],
             [
              0.2222222222222222,
              "#7201a8"
             ],
             [
              0.3333333333333333,
              "#9c179e"
             ],
             [
              0.4444444444444444,
              "#bd3786"
             ],
             [
              0.5555555555555556,
              "#d8576b"
             ],
             [
              0.6666666666666666,
              "#ed7953"
             ],
             [
              0.7777777777777778,
              "#fb9f3a"
             ],
             [
              0.8888888888888888,
              "#fdca26"
             ],
             [
              1,
              "#f0f921"
             ]
            ],
            "type": "histogram2d"
           }
          ],
          "histogram2dcontour": [
           {
            "colorbar": {
             "outlinewidth": 0,
             "ticks": ""
            },
            "colorscale": [
             [
              0,
              "#0d0887"
             ],
             [
              0.1111111111111111,
              "#46039f"
             ],
             [
              0.2222222222222222,
              "#7201a8"
             ],
             [
              0.3333333333333333,
              "#9c179e"
             ],
             [
              0.4444444444444444,
              "#bd3786"
             ],
             [
              0.5555555555555556,
              "#d8576b"
             ],
             [
              0.6666666666666666,
              "#ed7953"
             ],
             [
              0.7777777777777778,
              "#fb9f3a"
             ],
             [
              0.8888888888888888,
              "#fdca26"
             ],
             [
              1,
              "#f0f921"
             ]
            ],
            "type": "histogram2dcontour"
           }
          ],
          "mesh3d": [
           {
            "colorbar": {
             "outlinewidth": 0,
             "ticks": ""
            },
            "type": "mesh3d"
           }
          ],
          "parcoords": [
           {
            "line": {
             "colorbar": {
              "outlinewidth": 0,
              "ticks": ""
             }
            },
            "type": "parcoords"
           }
          ],
          "pie": [
           {
            "automargin": true,
            "type": "pie"
           }
          ],
          "scatter": [
           {
            "marker": {
             "line": {
              "color": "#283442"
             }
            },
            "type": "scatter"
           }
          ],
          "scatter3d": [
           {
            "line": {
             "colorbar": {
              "outlinewidth": 0,
              "ticks": ""
             }
            },
            "marker": {
             "colorbar": {
              "outlinewidth": 0,
              "ticks": ""
             }
            },
            "type": "scatter3d"
           }
          ],
          "scattercarpet": [
           {
            "marker": {
             "colorbar": {
              "outlinewidth": 0,
              "ticks": ""
             }
            },
            "type": "scattercarpet"
           }
          ],
          "scattergeo": [
           {
            "marker": {
             "colorbar": {
              "outlinewidth": 0,
              "ticks": ""
             }
            },
            "type": "scattergeo"
           }
          ],
          "scattergl": [
           {
            "marker": {
             "line": {
              "color": "#283442"
             }
            },
            "type": "scattergl"
           }
          ],
          "scattermapbox": [
           {
            "marker": {
             "colorbar": {
              "outlinewidth": 0,
              "ticks": ""
             }
            },
            "type": "scattermapbox"
           }
          ],
          "scatterpolar": [
           {
            "marker": {
             "colorbar": {
              "outlinewidth": 0,
              "ticks": ""
             }
            },
            "type": "scatterpolar"
           }
          ],
          "scatterpolargl": [
           {
            "marker": {
             "colorbar": {
              "outlinewidth": 0,
              "ticks": ""
             }
            },
            "type": "scatterpolargl"
           }
          ],
          "scatterternary": [
           {
            "marker": {
             "colorbar": {
              "outlinewidth": 0,
              "ticks": ""
             }
            },
            "type": "scatterternary"
           }
          ],
          "surface": [
           {
            "colorbar": {
             "outlinewidth": 0,
             "ticks": ""
            },
            "colorscale": [
             [
              0,
              "#0d0887"
             ],
             [
              0.1111111111111111,
              "#46039f"
             ],
             [
              0.2222222222222222,
              "#7201a8"
             ],
             [
              0.3333333333333333,
              "#9c179e"
             ],
             [
              0.4444444444444444,
              "#bd3786"
             ],
             [
              0.5555555555555556,
              "#d8576b"
             ],
             [
              0.6666666666666666,
              "#ed7953"
             ],
             [
              0.7777777777777778,
              "#fb9f3a"
             ],
             [
              0.8888888888888888,
              "#fdca26"
             ],
             [
              1,
              "#f0f921"
             ]
            ],
            "type": "surface"
           }
          ],
          "table": [
           {
            "cells": {
             "fill": {
              "color": "#506784"
             },
             "line": {
              "color": "rgb(17,17,17)"
             }
            },
            "header": {
             "fill": {
              "color": "#2a3f5f"
             },
             "line": {
              "color": "rgb(17,17,17)"
             }
            },
            "type": "table"
           }
          ]
         },
         "layout": {
          "annotationdefaults": {
           "arrowcolor": "#f2f5fa",
           "arrowhead": 0,
           "arrowwidth": 1
          },
          "autotypenumbers": "strict",
          "coloraxis": {
           "colorbar": {
            "outlinewidth": 0,
            "ticks": ""
           }
          },
          "colorscale": {
           "diverging": [
            [
             0,
             "#8e0152"
            ],
            [
             0.1,
             "#c51b7d"
            ],
            [
             0.2,
             "#de77ae"
            ],
            [
             0.3,
             "#f1b6da"
            ],
            [
             0.4,
             "#fde0ef"
            ],
            [
             0.5,
             "#f7f7f7"
            ],
            [
             0.6,
             "#e6f5d0"
            ],
            [
             0.7,
             "#b8e186"
            ],
            [
             0.8,
             "#7fbc41"
            ],
            [
             0.9,
             "#4d9221"
            ],
            [
             1,
             "#276419"
            ]
           ],
           "sequential": [
            [
             0,
             "#0d0887"
            ],
            [
             0.1111111111111111,
             "#46039f"
            ],
            [
             0.2222222222222222,
             "#7201a8"
            ],
            [
             0.3333333333333333,
             "#9c179e"
            ],
            [
             0.4444444444444444,
             "#bd3786"
            ],
            [
             0.5555555555555556,
             "#d8576b"
            ],
            [
             0.6666666666666666,
             "#ed7953"
            ],
            [
             0.7777777777777778,
             "#fb9f3a"
            ],
            [
             0.8888888888888888,
             "#fdca26"
            ],
            [
             1,
             "#f0f921"
            ]
           ],
           "sequentialminus": [
            [
             0,
             "#0d0887"
            ],
            [
             0.1111111111111111,
             "#46039f"
            ],
            [
             0.2222222222222222,
             "#7201a8"
            ],
            [
             0.3333333333333333,
             "#9c179e"
            ],
            [
             0.4444444444444444,
             "#bd3786"
            ],
            [
             0.5555555555555556,
             "#d8576b"
            ],
            [
             0.6666666666666666,
             "#ed7953"
            ],
            [
             0.7777777777777778,
             "#fb9f3a"
            ],
            [
             0.8888888888888888,
             "#fdca26"
            ],
            [
             1,
             "#f0f921"
            ]
           ]
          },
          "colorway": [
           "#636efa",
           "#EF553B",
           "#00cc96",
           "#ab63fa",
           "#FFA15A",
           "#19d3f3",
           "#FF6692",
           "#B6E880",
           "#FF97FF",
           "#FECB52"
          ],
          "font": {
           "color": "#f2f5fa"
          },
          "geo": {
           "bgcolor": "rgb(17,17,17)",
           "lakecolor": "rgb(17,17,17)",
           "landcolor": "rgb(17,17,17)",
           "showlakes": true,
           "showland": true,
           "subunitcolor": "#506784"
          },
          "hoverlabel": {
           "align": "left"
          },
          "hovermode": "closest",
          "mapbox": {
           "style": "dark"
          },
          "paper_bgcolor": "rgb(17,17,17)",
          "plot_bgcolor": "rgb(17,17,17)",
          "polar": {
           "angularaxis": {
            "gridcolor": "#506784",
            "linecolor": "#506784",
            "ticks": ""
           },
           "bgcolor": "rgb(17,17,17)",
           "radialaxis": {
            "gridcolor": "#506784",
            "linecolor": "#506784",
            "ticks": ""
           }
          },
          "scene": {
           "xaxis": {
            "backgroundcolor": "rgb(17,17,17)",
            "gridcolor": "#506784",
            "gridwidth": 2,
            "linecolor": "#506784",
            "showbackground": true,
            "ticks": "",
            "zerolinecolor": "#C8D4E3"
           },
           "yaxis": {
            "backgroundcolor": "rgb(17,17,17)",
            "gridcolor": "#506784",
            "gridwidth": 2,
            "linecolor": "#506784",
            "showbackground": true,
            "ticks": "",
            "zerolinecolor": "#C8D4E3"
           },
           "zaxis": {
            "backgroundcolor": "rgb(17,17,17)",
            "gridcolor": "#506784",
            "gridwidth": 2,
            "linecolor": "#506784",
            "showbackground": true,
            "ticks": "",
            "zerolinecolor": "#C8D4E3"
           }
          },
          "shapedefaults": {
           "line": {
            "color": "#f2f5fa"
           }
          },
          "sliderdefaults": {
           "bgcolor": "#C8D4E3",
           "bordercolor": "rgb(17,17,17)",
           "borderwidth": 1,
           "tickwidth": 0
          },
          "ternary": {
           "aaxis": {
            "gridcolor": "#506784",
            "linecolor": "#506784",
            "ticks": ""
           },
           "baxis": {
            "gridcolor": "#506784",
            "linecolor": "#506784",
            "ticks": ""
           },
           "bgcolor": "rgb(17,17,17)",
           "caxis": {
            "gridcolor": "#506784",
            "linecolor": "#506784",
            "ticks": ""
           }
          },
          "title": {
           "x": 0.05
          },
          "updatemenudefaults": {
           "bgcolor": "#506784",
           "borderwidth": 0
          },
          "xaxis": {
           "automargin": true,
           "gridcolor": "#283442",
           "linecolor": "#506784",
           "ticks": "",
           "title": {
            "standoff": 15
           },
           "zerolinecolor": "#283442",
           "zerolinewidth": 2
          },
          "yaxis": {
           "automargin": true,
           "gridcolor": "#283442",
           "linecolor": "#506784",
           "ticks": "",
           "title": {
            "standoff": 15
           },
           "zerolinecolor": "#283442",
           "zerolinewidth": 2
          }
         }
        },
        "title": {
         "text": "Exposure date categorised by tier"
        },
        "width": 580,
        "xaxis": {
         "anchor": "y",
         "domain": [
          0,
          1
         ],
         "nticks": 10,
         "range": [
          "2021-05-10T12:00:00",
          "2021-07-18T12:00:00"
         ],
         "tickangle": 60,
         "title": {
          "text": "Exposure date"
         }
        },
        "yaxis": {
         "anchor": "x",
         "domain": [
          0,
          1
         ],
         "title": {
          "text": "Number of exposure sites"
         }
        }
       }
      },
      "text/html": [
       "<div>                            <div id=\"ba1eed9b-0863-499a-b1d7-911a928e152b\" class=\"plotly-graph-div\" style=\"height:525px; width:580px;\"></div>            <script type=\"text/javascript\">                require([\"plotly\"], function(Plotly) {                    window.PLOTLYENV=window.PLOTLYENV || {};                                    if (document.getElementById(\"ba1eed9b-0863-499a-b1d7-911a928e152b\")) {                    Plotly.newPlot(                        \"ba1eed9b-0863-499a-b1d7-911a928e152b\",                        [{\"alignmentgroup\": \"True\", \"bingroup\": \"x\", \"hovertemplate\": \"tier=1<br>Exposure_date_dtm=%{x}<br>count=%{y}<extra></extra>\", \"legendgroup\": \"1\", \"marker\": {\"color\": \"rgb(228,26,28)\"}, \"name\": \"1\", \"nbinsx\": 69, \"offsetgroup\": \"1\", \"orientation\": \"v\", \"showlegend\": true, \"type\": \"histogram\", \"x\": [\"2021-07-08T00:00:00\", \"2021-05-28T00:00:00\", \"2021-05-31T00:00:00\", \"2021-05-31T00:00:00\", \"2021-05-31T00:00:00\", \"2021-05-31T00:00:00\", \"2021-05-31T00:00:00\", \"2021-05-30T00:00:00\", \"2021-05-30T00:00:00\", \"2021-06-04T00:00:00\", \"2021-06-03T00:00:00\", \"2021-06-02T00:00:00\", \"2021-06-01T00:00:00\", \"2021-05-31T00:00:00\", \"2021-05-30T00:00:00\", \"2021-06-03T00:00:00\", \"2021-06-02T00:00:00\", \"2021-06-01T00:00:00\", \"2021-05-27T00:00:00\", \"2021-06-12T00:00:00\", \"2021-06-12T00:00:00\", \"2021-06-08T00:00:00\", \"2021-06-05T00:00:00\", \"2021-05-30T00:00:00\", \"2021-06-05T00:00:00\", \"2021-06-04T00:00:00\", \"2021-06-03T00:00:00\", \"2021-06-02T00:00:00\", \"2021-05-28T00:00:00\", \"2021-05-28T00:00:00\", \"2021-05-28T00:00:00\", \"2021-05-28T00:00:00\", \"2021-05-26T00:00:00\", \"2021-05-26T00:00:00\", \"2021-05-26T00:00:00\", \"2021-05-26T00:00:00\", \"2021-05-26T00:00:00\", \"2021-05-26T00:00:00\", \"2021-05-26T00:00:00\", \"2021-05-26T00:00:00\", \"2021-05-26T00:00:00\", \"2021-05-26T00:00:00\", \"2021-05-26T00:00:00\", \"2021-05-27T00:00:00\", \"2021-05-26T00:00:00\", \"2021-06-01T00:00:00\", \"2021-05-27T00:00:00\", \"2021-05-26T00:00:00\", \"2021-05-27T00:00:00\", \"2021-05-27T00:00:00\", \"2021-05-28T00:00:00\", \"2021-05-27T00:00:00\", \"2021-05-28T00:00:00\", \"2021-05-27T00:00:00\", \"2021-05-27T00:00:00\", \"2021-05-27T00:00:00\", \"2021-05-26T00:00:00\", \"2021-05-27T00:00:00\", \"2021-05-27T00:00:00\", \"2021-05-27T00:00:00\", \"2021-05-26T00:00:00\", \"2021-05-26T00:00:00\", \"2021-05-31T00:00:00\", \"2021-05-29T00:00:00\", \"2021-06-08T00:00:00\", \"2021-06-07T00:00:00\", \"2021-06-06T00:00:00\", \"2021-06-05T00:00:00\", \"2021-06-04T00:00:00\", \"2021-06-03T00:00:00\", \"2021-07-10T00:00:00\", \"2021-07-14T00:00:00\", \"2021-07-14T00:00:00\", \"2021-07-14T00:00:00\", \"2021-07-13T00:00:00\", \"2021-07-13T00:00:00\", \"2021-07-15T00:00:00\", \"2021-07-14T00:00:00\", \"2021-07-14T00:00:00\", \"2021-07-15T00:00:00\", \"2021-07-13T00:00:00\", \"2021-07-15T00:00:00\", \"2021-07-15T00:00:00\", \"2021-07-11T00:00:00\", \"2021-07-11T00:00:00\", \"2021-07-11T00:00:00\", \"2021-07-15T00:00:00\", \"2021-07-14T00:00:00\", \"2021-07-15T00:00:00\", \"2021-07-13T00:00:00\", \"2021-07-11T00:00:00\", \"2021-06-09T00:00:00\", \"2021-06-10T00:00:00\", \"2021-06-11T00:00:00\", \"2021-06-12T00:00:00\", \"2021-05-27T00:00:00\", \"2021-05-26T00:00:00\", \"2021-05-29T00:00:00\", \"2021-05-28T00:00:00\", \"2021-05-27T00:00:00\", \"2021-05-26T00:00:00\", \"2021-06-05T00:00:00\", \"2021-06-04T00:00:00\", \"2021-06-03T00:00:00\", \"2021-06-02T00:00:00\", \"2021-06-01T00:00:00\", \"2021-05-31T00:00:00\", \"2021-06-03T00:00:00\", \"2021-05-30T00:00:00\", \"2021-05-26T00:00:00\", \"2021-06-12T00:00:00\", \"2021-06-12T00:00:00\", \"2021-06-13T00:00:00\", \"2021-06-02T00:00:00\", \"2021-06-26T00:00:00\", \"2021-06-25T00:00:00\", \"2021-06-25T00:00:00\", \"2021-06-20T00:00:00\", \"2021-06-23T00:00:00\", \"2021-06-22T00:00:00\", \"2021-06-21T00:00:00\", \"2021-06-14T00:00:00\", \"2021-06-13T00:00:00\", \"2021-06-12T00:00:00\", \"2021-05-26T00:00:00\", \"2021-05-26T00:00:00\", \"2021-05-26T00:00:00\", \"2021-05-28T00:00:00\", \"2021-05-27T00:00:00\", \"2021-05-26T00:00:00\", \"2021-05-29T00:00:00\", \"2021-05-28T00:00:00\", \"2021-05-27T00:00:00\", \"2021-05-26T00:00:00\", \"2021-05-25T00:00:00\", \"2021-05-25T00:00:00\", \"2021-05-24T00:00:00\", \"2021-05-17T00:00:00\", \"2021-05-24T00:00:00\", \"2021-05-22T00:00:00\", \"2021-05-26T00:00:00\", \"2021-05-20T00:00:00\", \"2021-05-13T00:00:00\", \"2021-05-12T00:00:00\", \"2021-05-17T00:00:00\", \"2021-05-20T00:00:00\", \"2021-05-18T00:00:00\", \"2021-05-25T00:00:00\", \"2021-05-23T00:00:00\", \"2021-05-25T00:00:00\", \"2021-05-19T00:00:00\", \"2021-05-21T00:00:00\", \"2021-05-26T00:00:00\", \"2021-05-17T00:00:00\", \"2021-05-29T00:00:00\", \"2021-05-18T00:00:00\", \"2021-05-24T00:00:00\", \"2021-05-25T00:00:00\", \"2021-05-23T00:00:00\", \"2021-05-28T00:00:00\", \"2021-05-23T00:00:00\", \"2021-05-27T00:00:00\", \"2021-05-27T00:00:00\", \"2021-05-27T00:00:00\", \"2021-05-23T00:00:00\", \"2021-05-23T00:00:00\", \"2021-05-23T00:00:00\", \"2021-05-23T00:00:00\", \"2021-05-23T00:00:00\", \"2021-05-23T00:00:00\", \"2021-05-23T00:00:00\", \"2021-05-25T00:00:00\", \"2021-05-24T00:00:00\", \"2021-05-23T00:00:00\", \"2021-05-23T00:00:00\", \"2021-05-23T00:00:00\", \"2021-05-23T00:00:00\", \"2021-05-23T00:00:00\", \"2021-05-23T00:00:00\", \"2021-05-23T00:00:00\", \"2021-05-23T00:00:00\", \"2021-05-23T00:00:00\", \"2021-05-25T00:00:00\", \"2021-05-25T00:00:00\", \"2021-05-24T00:00:00\", \"2021-05-25T00:00:00\", \"2021-05-23T00:00:00\", \"2021-05-19T00:00:00\", \"2021-05-19T00:00:00\", \"2021-05-19T00:00:00\", \"2021-05-21T00:00:00\", \"2021-05-21T00:00:00\", \"2021-05-24T00:00:00\", \"2021-05-25T00:00:00\", \"2021-05-24T00:00:00\", \"2021-05-23T00:00:00\", \"2021-05-22T00:00:00\", \"2021-05-21T00:00:00\", \"2021-05-19T00:00:00\", \"2021-05-20T00:00:00\", \"2021-05-18T00:00:00\", \"2021-05-18T00:00:00\", \"2021-05-24T00:00:00\", \"2021-05-21T00:00:00\", \"2021-05-24T00:00:00\", \"2021-05-20T00:00:00\", \"2021-05-20T00:00:00\", \"2021-05-20T00:00:00\", \"2021-05-20T00:00:00\", \"2021-05-20T00:00:00\", \"2021-05-20T00:00:00\", \"2021-05-18T00:00:00\", \"2021-05-19T00:00:00\", \"2021-05-17T00:00:00\", \"2021-05-20T00:00:00\", \"2021-05-21T00:00:00\", \"2021-05-24T00:00:00\", \"2021-06-08T00:00:00\", \"2021-05-21T00:00:00\", \"2021-07-14T00:00:00\", \"2021-05-21T00:00:00\", \"2021-05-25T00:00:00\", \"2021-05-19T00:00:00\", \"2021-05-19T00:00:00\", \"2021-05-25T00:00:00\", \"2021-05-18T00:00:00\", \"2021-05-18T00:00:00\", \"2021-05-18T00:00:00\", \"2021-05-18T00:00:00\", \"2021-05-26T00:00:00\", \"2021-05-25T00:00:00\", \"2021-05-23T00:00:00\", \"2021-05-26T00:00:00\", \"2021-05-25T00:00:00\", \"2021-05-24T00:00:00\", \"2021-05-20T00:00:00\", \"2021-05-24T00:00:00\", \"2021-05-24T00:00:00\", \"2021-05-25T00:00:00\", \"2021-05-24T00:00:00\", \"2021-05-25T00:00:00\", \"2021-05-25T00:00:00\", \"2021-05-24T00:00:00\", \"2021-05-25T00:00:00\", \"2021-05-21T00:00:00\", \"2021-05-24T00:00:00\", \"2021-05-24T00:00:00\", \"2021-05-21T00:00:00\", \"2021-05-20T00:00:00\", \"2021-05-24T00:00:00\", \"2021-05-25T00:00:00\", \"2021-07-13T00:00:00\", \"2021-05-28T00:00:00\", \"2021-07-12T00:00:00\", \"2021-07-12T00:00:00\", \"2021-07-12T00:00:00\", \"2021-07-11T00:00:00\", \"2021-07-09T00:00:00\", \"2021-07-13T00:00:00\", \"2021-07-12T00:00:00\", \"2021-07-15T00:00:00\", \"2021-07-12T00:00:00\", \"2021-07-15T00:00:00\", \"2021-07-09T00:00:00\", \"2021-07-09T00:00:00\", \"2021-07-14T00:00:00\", \"2021-07-14T00:00:00\", \"2021-07-13T00:00:00\", \"2021-07-15T00:00:00\", \"2021-07-13T00:00:00\", \"2021-07-13T00:00:00\", \"2021-07-14T00:00:00\", \"2021-07-13T00:00:00\", \"2021-07-12T00:00:00\", \"2021-07-12T00:00:00\", \"2021-07-13T00:00:00\", \"2021-07-10T00:00:00\", \"2021-07-15T00:00:00\", \"2021-07-13T00:00:00\", \"2021-07-13T00:00:00\", \"2021-07-13T00:00:00\", \"2021-07-12T00:00:00\", \"2021-07-14T00:00:00\", \"2021-07-14T00:00:00\", \"2021-07-09T00:00:00\", \"2021-07-14T00:00:00\", \"2021-07-13T00:00:00\", \"2021-07-14T00:00:00\", \"2021-07-12T00:00:00\", \"2021-07-15T00:00:00\", \"2021-07-14T00:00:00\", \"2021-07-13T00:00:00\", \"2021-07-13T00:00:00\", \"2021-07-13T00:00:00\", \"2021-07-14T00:00:00\", \"2021-07-12T00:00:00\", \"2021-07-14T00:00:00\", \"2021-07-13T00:00:00\", \"2021-07-14T00:00:00\", \"2021-07-11T00:00:00\", \"2021-07-10T00:00:00\", \"2021-07-14T00:00:00\", \"2021-07-14T00:00:00\", \"2021-07-14T00:00:00\", \"2021-07-12T00:00:00\", \"2021-07-12T00:00:00\", \"2021-07-12T00:00:00\", \"2021-07-12T00:00:00\", \"2021-07-15T00:00:00\", \"2021-07-15T00:00:00\", \"2021-07-13T00:00:00\", \"2021-07-14T00:00:00\", \"2021-07-14T00:00:00\", \"2021-07-13T00:00:00\", \"2021-07-09T00:00:00\", \"2021-07-13T00:00:00\", \"2021-07-09T00:00:00\", \"2021-07-09T00:00:00\", \"2021-07-13T00:00:00\", \"2021-07-12T00:00:00\", \"2021-07-09T00:00:00\", \"2021-07-09T00:00:00\", \"2021-07-09T00:00:00\", \"2021-07-10T00:00:00\", \"2021-07-12T00:00:00\", \"2021-07-13T00:00:00\", \"2021-07-13T00:00:00\", \"2021-07-14T00:00:00\", \"2021-07-09T00:00:00\", \"2021-07-13T00:00:00\", \"2021-07-13T00:00:00\", \"2021-07-09T00:00:00\", \"2021-07-15T00:00:00\", \"2021-07-14T00:00:00\", \"2021-07-16T00:00:00\", \"2021-07-13T00:00:00\", \"2021-07-09T00:00:00\", \"2021-07-12T00:00:00\", \"2021-07-15T00:00:00\", \"2021-07-13T00:00:00\", \"2021-07-16T00:00:00\", \"2021-07-13T00:00:00\", \"2021-07-14T00:00:00\", \"2021-07-15T00:00:00\", \"2021-07-08T00:00:00\", \"2021-07-14T00:00:00\", \"2021-07-09T00:00:00\", \"2021-07-14T00:00:00\", \"2021-07-12T00:00:00\", \"2021-07-12T00:00:00\", \"2021-07-11T00:00:00\", \"2021-07-12T00:00:00\", \"2021-07-10T00:00:00\", \"2021-07-12T00:00:00\", \"2021-07-12T00:00:00\", \"2021-07-15T00:00:00\", \"2021-07-14T00:00:00\", \"2021-07-11T00:00:00\", \"2021-07-10T00:00:00\", \"2021-07-09T00:00:00\", \"2021-07-09T00:00:00\", \"2021-07-10T00:00:00\", \"2021-07-14T00:00:00\", \"2021-07-16T00:00:00\", \"2021-07-11T00:00:00\", \"2021-07-11T00:00:00\", \"2021-07-14T00:00:00\", \"2021-07-13T00:00:00\", \"2021-07-14T00:00:00\", \"2021-07-13T00:00:00\", \"2021-07-16T00:00:00\", \"2021-07-13T00:00:00\", \"2021-07-13T00:00:00\", \"2021-07-14T00:00:00\", \"2021-07-09T00:00:00\", \"2021-07-09T00:00:00\", \"2021-07-15T00:00:00\", \"2021-07-14T00:00:00\", \"2021-07-13T00:00:00\", \"2021-07-10T00:00:00\", \"2021-07-09T00:00:00\", \"2021-07-10T00:00:00\", \"2021-07-09T00:00:00\", \"2021-07-13T00:00:00\", \"2021-07-12T00:00:00\", \"2021-07-13T00:00:00\", \"2021-07-14T00:00:00\", \"2021-07-13T00:00:00\", \"2021-07-14T00:00:00\", \"2021-07-10T00:00:00\", \"2021-07-08T00:00:00\", \"2021-07-15T00:00:00\", \"2021-07-15T00:00:00\", \"2021-07-08T00:00:00\", \"2021-07-08T00:00:00\", \"2021-07-13T00:00:00\", \"2021-07-15T00:00:00\", \"2021-07-09T00:00:00\", \"2021-07-13T00:00:00\", \"2021-07-12T00:00:00\", \"2021-07-13T00:00:00\", \"2021-07-14T00:00:00\", \"2021-07-09T00:00:00\", \"2021-07-14T00:00:00\"], \"xaxis\": \"x\", \"yaxis\": \"y\"}, {\"alignmentgroup\": \"True\", \"bingroup\": \"x\", \"hovertemplate\": \"tier=2<br>Exposure_date_dtm=%{x}<br>count=%{y}<extra></extra>\", \"legendgroup\": \"2\", \"marker\": {\"color\": \"rgb(55,126,184)\"}, \"name\": \"2\", \"nbinsx\": 69, \"offsetgroup\": \"2\", \"orientation\": \"v\", \"showlegend\": true, \"type\": \"histogram\", \"x\": [\"2021-05-24T00:00:00\", \"2021-07-12T00:00:00\", \"2021-05-14T00:00:00\", \"2021-05-24T00:00:00\", \"2021-05-24T00:00:00\", \"2021-05-14T00:00:00\", \"2021-05-24T00:00:00\", \"2021-05-14T00:00:00\", \"2021-05-19T00:00:00\", \"2021-07-12T00:00:00\", \"2021-05-26T00:00:00\", \"2021-07-14T00:00:00\", \"2021-07-14T00:00:00\", \"2021-07-13T00:00:00\", \"2021-05-26T00:00:00\", \"2021-05-26T00:00:00\", \"2021-05-26T00:00:00\", \"2021-05-26T00:00:00\", \"2021-07-13T00:00:00\", \"2021-05-26T00:00:00\", \"2021-07-13T00:00:00\", \"2021-05-26T00:00:00\", \"2021-05-26T00:00:00\", \"2021-05-26T00:00:00\", \"2021-07-13T00:00:00\", \"2021-07-14T00:00:00\", \"2021-05-26T00:00:00\", \"2021-05-26T00:00:00\", \"2021-06-08T00:00:00\", \"2021-05-27T00:00:00\", \"2021-05-27T00:00:00\", \"2021-05-26T00:00:00\", \"2021-07-12T00:00:00\", \"2021-05-26T00:00:00\", \"2021-05-26T00:00:00\", \"2021-07-10T00:00:00\", \"2021-07-12T00:00:00\", \"2021-07-12T00:00:00\", \"2021-07-13T00:00:00\", \"2021-07-12T00:00:00\", \"2021-05-20T00:00:00\", \"2021-05-17T00:00:00\", \"2021-05-21T00:00:00\", \"2021-07-12T00:00:00\", \"2021-05-20T00:00:00\", \"2021-07-12T00:00:00\", \"2021-07-12T00:00:00\", \"2021-07-12T00:00:00\", \"2021-05-20T00:00:00\", \"2021-05-19T00:00:00\", \"2021-05-19T00:00:00\", \"2021-05-20T00:00:00\", \"2021-07-12T00:00:00\", \"2021-07-12T00:00:00\", \"2021-05-19T00:00:00\", \"2021-05-21T00:00:00\", \"2021-05-26T00:00:00\", \"2021-07-13T00:00:00\", \"2021-05-25T00:00:00\", \"2021-07-12T00:00:00\", \"2021-05-23T00:00:00\", \"2021-05-23T00:00:00\", \"2021-05-23T00:00:00\", \"2021-05-23T00:00:00\", \"2021-05-23T00:00:00\", \"2021-05-23T00:00:00\", \"2021-05-23T00:00:00\", \"2021-05-23T00:00:00\", \"2021-05-23T00:00:00\", \"2021-07-09T00:00:00\", \"2021-06-03T00:00:00\", \"2021-07-09T00:00:00\", \"2021-06-04T00:00:00\", \"2021-05-25T00:00:00\", \"2021-05-24T00:00:00\", \"2021-05-25T00:00:00\", \"2021-05-25T00:00:00\", \"2021-07-11T00:00:00\", \"2021-07-09T00:00:00\", \"2021-05-25T00:00:00\", \"2021-07-12T00:00:00\", \"2021-05-24T00:00:00\", \"2021-07-12T00:00:00\", \"2021-05-24T00:00:00\", \"2021-06-03T00:00:00\", \"2021-07-09T00:00:00\", \"2021-07-09T00:00:00\", \"2021-05-23T00:00:00\", \"2021-06-03T00:00:00\", \"2021-06-03T00:00:00\", \"2021-06-02T00:00:00\", \"2021-06-02T00:00:00\", \"2021-05-23T00:00:00\", \"2021-05-23T00:00:00\", \"2021-05-23T00:00:00\", \"2021-05-23T00:00:00\", \"2021-05-23T00:00:00\", \"2021-07-11T00:00:00\", \"2021-05-23T00:00:00\", \"2021-05-23T00:00:00\", \"2021-05-23T00:00:00\", \"2021-05-23T00:00:00\", \"2021-05-23T00:00:00\", \"2021-05-23T00:00:00\", \"2021-05-23T00:00:00\", \"2021-05-23T00:00:00\", \"2021-05-23T00:00:00\", \"2021-05-23T00:00:00\", \"2021-05-23T00:00:00\", \"2021-05-23T00:00:00\", \"2021-05-23T00:00:00\", \"2021-05-23T00:00:00\", \"2021-05-23T00:00:00\", \"2021-07-12T00:00:00\", \"2021-07-12T00:00:00\", \"2021-05-25T00:00:00\", \"2021-05-25T00:00:00\", \"2021-05-26T00:00:00\", \"2021-07-10T00:00:00\", \"2021-05-26T00:00:00\", \"2021-05-26T00:00:00\", \"2021-05-26T00:00:00\", \"2021-05-26T00:00:00\", \"2021-05-25T00:00:00\", \"2021-05-24T00:00:00\", \"2021-05-25T00:00:00\", \"2021-05-24T00:00:00\", \"2021-05-27T00:00:00\", \"2021-05-24T00:00:00\", \"2021-07-10T00:00:00\", \"2021-07-11T00:00:00\", \"2021-07-11T00:00:00\", \"2021-07-11T00:00:00\", \"2021-07-12T00:00:00\", \"2021-07-10T00:00:00\", \"2021-07-14T00:00:00\", \"2021-05-25T00:00:00\", \"2021-05-24T00:00:00\", \"2021-05-24T00:00:00\", \"2021-05-25T00:00:00\", \"2021-07-12T00:00:00\", \"2021-07-10T00:00:00\", \"2021-07-10T00:00:00\", \"2021-05-25T00:00:00\", \"2021-05-26T00:00:00\", \"2021-05-24T00:00:00\", \"2021-05-25T00:00:00\", \"2021-05-25T00:00:00\", \"2021-05-18T00:00:00\", \"2021-05-20T00:00:00\", \"2021-05-15T00:00:00\", \"2021-05-15T00:00:00\", \"2021-05-24T00:00:00\", \"2021-05-24T00:00:00\", \"2021-05-24T00:00:00\", \"2021-05-24T00:00:00\", \"2021-05-21T00:00:00\", \"2021-05-19T00:00:00\", \"2021-05-26T00:00:00\", \"2021-05-25T00:00:00\", \"2021-05-24T00:00:00\", \"2021-05-21T00:00:00\", \"2021-07-10T00:00:00\", \"2021-05-24T00:00:00\", \"2021-05-26T00:00:00\", \"2021-05-25T00:00:00\", \"2021-05-18T00:00:00\", \"2021-05-19T00:00:00\", \"2021-05-18T00:00:00\", \"2021-05-17T00:00:00\", \"2021-05-21T00:00:00\", \"2021-05-27T00:00:00\", \"2021-05-27T00:00:00\", \"2021-06-03T00:00:00\", \"2021-06-11T00:00:00\", \"2021-06-11T00:00:00\", \"2021-06-12T00:00:00\", \"2021-06-12T00:00:00\", \"2021-06-12T00:00:00\", \"2021-06-12T00:00:00\", \"2021-06-12T00:00:00\", \"2021-06-13T00:00:00\", \"2021-06-13T00:00:00\", \"2021-06-13T00:00:00\", \"2021-06-13T00:00:00\", \"2021-06-12T00:00:00\", \"2021-06-12T00:00:00\", \"2021-06-12T00:00:00\", \"2021-06-12T00:00:00\", \"2021-06-12T00:00:00\", \"2021-06-12T00:00:00\", \"2021-06-12T00:00:00\", \"2021-06-13T00:00:00\", \"2021-06-13T00:00:00\", \"2021-06-13T00:00:00\", \"2021-06-12T00:00:00\", \"2021-06-12T00:00:00\", \"2021-06-13T00:00:00\", \"2021-06-13T00:00:00\", \"2021-06-13T00:00:00\", \"2021-06-13T00:00:00\", \"2021-06-11T00:00:00\", \"2021-06-13T00:00:00\", \"2021-06-11T00:00:00\", \"2021-06-11T00:00:00\", \"2021-07-15T00:00:00\", \"2021-07-13T00:00:00\", \"2021-06-05T00:00:00\", \"2021-06-06T00:00:00\", \"2021-06-06T00:00:00\", \"2021-06-05T00:00:00\", \"2021-06-05T00:00:00\", \"2021-06-04T00:00:00\", \"2021-06-04T00:00:00\", \"2021-06-03T00:00:00\", \"2021-06-03T00:00:00\", \"2021-06-03T00:00:00\", \"2021-06-04T00:00:00\", \"2021-06-04T00:00:00\", \"2021-06-03T00:00:00\", \"2021-06-03T00:00:00\", \"2021-06-02T00:00:00\", \"2021-06-02T00:00:00\", \"2021-06-02T00:00:00\", \"2021-06-03T00:00:00\", \"2021-06-03T00:00:00\", \"2021-05-26T00:00:00\", \"2021-06-11T00:00:00\", \"2021-06-11T00:00:00\", \"2021-06-11T00:00:00\", \"2021-06-11T00:00:00\", \"2021-06-11T00:00:00\", \"2021-06-11T00:00:00\", \"2021-07-14T00:00:00\", \"2021-07-14T00:00:00\", \"2021-07-14T00:00:00\", \"2021-07-02T00:00:00\", \"2021-07-13T00:00:00\", \"2021-07-15T00:00:00\", \"2021-07-13T00:00:00\", \"2021-07-14T00:00:00\", \"2021-07-13T00:00:00\", \"2021-07-14T00:00:00\", \"2021-07-17T00:00:00\", \"2021-07-12T00:00:00\", \"2021-07-13T00:00:00\", \"2021-07-13T00:00:00\", \"2021-07-15T00:00:00\", \"2021-07-14T00:00:00\", \"2021-07-15T00:00:00\", \"2021-07-15T00:00:00\", \"2021-07-11T00:00:00\", \"2021-07-14T00:00:00\", \"2021-07-14T00:00:00\", \"2021-07-16T00:00:00\", \"2021-07-14T00:00:00\", \"2021-07-14T00:00:00\", \"2021-07-15T00:00:00\", \"2021-07-14T00:00:00\", \"2021-07-14T00:00:00\", \"2021-07-15T00:00:00\", \"2021-07-15T00:00:00\", \"2021-07-12T00:00:00\", \"2021-07-10T00:00:00\", \"2021-07-14T00:00:00\", \"2021-07-14T00:00:00\", \"2021-07-15T00:00:00\", \"2021-06-26T00:00:00\", \"2021-06-25T00:00:00\", \"2021-06-26T00:00:00\", \"2021-06-26T00:00:00\", \"2021-06-26T00:00:00\", \"2021-06-25T00:00:00\", \"2021-07-15T00:00:00\", \"2021-06-22T00:00:00\", \"2021-06-23T00:00:00\", \"2021-06-23T00:00:00\", \"2021-06-20T00:00:00\", \"2021-06-20T00:00:00\", \"2021-06-22T00:00:00\", \"2021-07-14T00:00:00\", \"2021-06-22T00:00:00\", \"2021-06-21T00:00:00\", \"2021-06-20T00:00:00\", \"2021-06-20T00:00:00\", \"2021-06-20T00:00:00\", \"2021-07-15T00:00:00\", \"2021-07-14T00:00:00\", \"2021-06-15T00:00:00\", \"2021-06-15T00:00:00\", \"2021-07-13T00:00:00\", \"2021-07-14T00:00:00\", \"2021-07-13T00:00:00\", \"2021-07-10T00:00:00\", \"2021-07-13T00:00:00\", \"2021-06-22T00:00:00\", \"2021-07-15T00:00:00\", \"2021-06-04T00:00:00\", \"2021-07-15T00:00:00\", \"2021-05-30T00:00:00\", \"2021-05-30T00:00:00\", \"2021-05-30T00:00:00\", \"2021-05-30T00:00:00\", \"2021-07-15T00:00:00\", \"2021-05-29T00:00:00\", \"2021-05-31T00:00:00\", \"2021-05-29T00:00:00\", \"2021-05-31T00:00:00\", \"2021-07-13T00:00:00\", \"2021-05-31T00:00:00\", \"2021-05-31T00:00:00\", \"2021-05-31T00:00:00\", \"2021-05-31T00:00:00\", \"2021-05-31T00:00:00\", \"2021-05-31T00:00:00\", \"2021-05-31T00:00:00\", \"2021-05-30T00:00:00\", \"2021-05-31T00:00:00\", \"2021-05-31T00:00:00\", \"2021-05-28T00:00:00\", \"2021-05-31T00:00:00\", \"2021-05-30T00:00:00\", \"2021-06-04T00:00:00\", \"2021-07-13T00:00:00\", \"2021-06-01T00:00:00\", \"2021-06-13T00:00:00\", \"2021-05-30T00:00:00\", \"2021-06-13T00:00:00\", \"2021-05-30T00:00:00\", \"2021-05-30T00:00:00\", \"2021-07-14T00:00:00\", \"2021-05-27T00:00:00\", \"2021-05-27T00:00:00\", \"2021-07-15T00:00:00\", \"2021-05-27T00:00:00\", \"2021-05-28T00:00:00\", \"2021-07-14T00:00:00\", \"2021-05-27T00:00:00\", \"2021-07-14T00:00:00\", \"2021-05-27T00:00:00\", \"2021-07-14T00:00:00\", \"2021-07-14T00:00:00\", \"2021-05-27T00:00:00\", \"2021-05-27T00:00:00\", \"2021-05-28T00:00:00\", \"2021-05-28T00:00:00\", \"2021-05-28T00:00:00\", \"2021-07-14T00:00:00\", \"2021-05-28T00:00:00\", \"2021-05-28T00:00:00\", \"2021-05-28T00:00:00\", \"2021-05-22T00:00:00\", \"2021-05-22T00:00:00\", \"2021-05-31T00:00:00\", \"2021-05-30T00:00:00\", \"2021-05-30T00:00:00\", \"2021-05-30T00:00:00\", \"2021-05-30T00:00:00\", \"2021-06-11T00:00:00\", \"2021-06-01T00:00:00\", \"2021-06-10T00:00:00\", \"2021-06-08T00:00:00\", \"2021-06-08T00:00:00\", \"2021-06-08T00:00:00\", \"2021-05-31T00:00:00\", \"2021-06-11T00:00:00\", \"2021-05-27T00:00:00\", \"2021-05-25T00:00:00\", \"2021-05-27T00:00:00\", \"2021-05-18T00:00:00\", \"2021-05-21T00:00:00\", \"2021-05-20T00:00:00\", \"2021-05-19T00:00:00\", \"2021-05-26T00:00:00\", \"2021-06-07T00:00:00\", \"2021-05-21T00:00:00\", \"2021-05-21T00:00:00\", \"2021-05-21T00:00:00\", \"2021-05-21T00:00:00\", \"2021-05-22T00:00:00\", \"2021-05-24T00:00:00\", \"2021-05-23T00:00:00\", \"2021-06-05T00:00:00\", \"2021-06-07T00:00:00\", \"2021-06-06T00:00:00\", \"2021-06-08T00:00:00\", \"2021-06-07T00:00:00\", \"2021-06-07T00:00:00\", \"2021-06-08T00:00:00\", \"2021-07-14T00:00:00\", \"2021-05-18T00:00:00\", \"2021-06-10T00:00:00\", \"2021-05-31T00:00:00\", \"2021-06-12T00:00:00\", \"2021-06-10T00:00:00\", \"2021-05-18T00:00:00\", \"2021-05-21T00:00:00\", \"2021-06-10T00:00:00\", \"2021-06-10T00:00:00\", \"2021-06-13T00:00:00\", \"2021-06-12T00:00:00\", \"2021-05-18T00:00:00\", \"2021-06-09T00:00:00\", \"2021-06-12T00:00:00\", \"2021-06-10T00:00:00\", \"2021-06-09T00:00:00\", \"2021-06-10T00:00:00\"], \"xaxis\": \"x\", \"yaxis\": \"y\"}, {\"alignmentgroup\": \"True\", \"bingroup\": \"x\", \"hovertemplate\": \"tier=3<br>Exposure_date_dtm=%{x}<br>count=%{y}<extra></extra>\", \"legendgroup\": \"3\", \"marker\": {\"color\": \"rgb(77,175,74)\"}, \"name\": \"3\", \"nbinsx\": 69, \"offsetgroup\": \"3\", \"orientation\": \"v\", \"showlegend\": true, \"type\": \"histogram\", \"x\": [\"2021-05-27T00:00:00\", \"2021-05-27T00:00:00\", \"2021-07-09T00:00:00\", \"2021-05-12T00:00:00\", \"2021-05-27T00:00:00\", \"2021-07-12T00:00:00\", \"2021-06-20T00:00:00\", \"2021-07-08T00:00:00\", \"2021-07-10T00:00:00\", \"2021-07-08T00:00:00\", \"2021-07-10T00:00:00\", \"2021-07-08T00:00:00\", \"2021-07-08T00:00:00\", \"2021-07-08T00:00:00\", \"2021-05-25T00:00:00\", \"2021-07-08T00:00:00\", \"2021-06-07T00:00:00\", \"2021-07-14T00:00:00\", \"2021-07-14T00:00:00\", \"2021-05-27T00:00:00\", \"2021-07-09T00:00:00\", \"2021-05-11T00:00:00\", \"2021-05-15T00:00:00\", \"2021-05-11T00:00:00\", \"2021-07-12T00:00:00\", \"2021-07-12T00:00:00\", \"2021-07-12T00:00:00\", \"2021-06-20T00:00:00\", \"2021-06-14T00:00:00\", \"2021-07-12T00:00:00\", \"2021-05-23T00:00:00\", \"2021-06-13T00:00:00\", \"2021-07-13T00:00:00\", \"2021-05-23T00:00:00\", \"2021-07-12T00:00:00\", \"2021-06-25T00:00:00\", \"2021-07-10T00:00:00\", \"2021-06-11T00:00:00\", \"2021-06-26T00:00:00\", \"2021-07-10T00:00:00\", \"2021-07-10T00:00:00\", \"2021-05-23T00:00:00\", \"2021-05-13T00:00:00\", \"2021-06-20T00:00:00\", \"2021-07-10T00:00:00\", \"2021-05-11T00:00:00\", \"2021-07-13T00:00:00\", \"2021-07-10T00:00:00\", \"2021-05-27T00:00:00\"], \"xaxis\": \"x\", \"yaxis\": \"y\"}],                        {\"annotations\": [{\"ax\": 10, \"ay\": 20, \"showarrow\": false, \"text\": \"  5km\", \"x\": \"2021-05-27\", \"xanchor\": \"left\", \"y\": 60}, {\"ax\": 10, \"ay\": 20, \"showarrow\": false, \"text\": \"  10km\", \"x\": \"2021-06-03\", \"xanchor\": \"left\", \"y\": 50}, {\"ax\": 10, \"ay\": 20, \"showarrow\": false, \"text\": \"  25km\", \"x\": \"2021-06-10\", \"xanchor\": \"left\", \"y\": 40}, {\"ax\": 10, \"ay\": 20, \"showarrow\": false, \"text\": \"  5km\", \"x\": \"2021-07-15\", \"xanchor\": \"right\", \"y\": 70}], \"bargap\": 0.2, \"barmode\": \"relative\", \"legend\": {\"title\": {\"text\": \"tier\"}, \"tracegroupgap\": 0}, \"shapes\": [{\"type\": \"line\", \"x0\": \"2021-05-27T12:00:00\", \"x1\": \"2021-05-27T12:00:00\", \"xref\": \"x\", \"y0\": 0, \"y1\": 1, \"yref\": \"y domain\"}, {\"type\": \"line\", \"x0\": \"2021-06-03T12:00:00\", \"x1\": \"2021-06-03T12:00:00\", \"xref\": \"x\", \"y0\": 0, \"y1\": 1, \"yref\": \"y domain\"}, {\"type\": \"line\", \"x0\": \"2021-06-10T12:00:00\", \"x1\": \"2021-06-10T12:00:00\", \"xref\": \"x\", \"y0\": 0, \"y1\": 1, \"yref\": \"y domain\"}, {\"type\": \"line\", \"x0\": \"2021-07-15T12:00:00\", \"x1\": \"2021-07-15T12:00:00\", \"xref\": \"x\", \"y0\": 0, \"y1\": 1, \"yref\": \"y domain\"}], \"template\": {\"data\": {\"bar\": [{\"error_x\": {\"color\": \"#f2f5fa\"}, \"error_y\": {\"color\": \"#f2f5fa\"}, \"marker\": {\"line\": {\"color\": \"rgb(17,17,17)\", \"width\": 0.5}}, \"type\": \"bar\"}], \"barpolar\": [{\"marker\": {\"line\": {\"color\": \"rgb(17,17,17)\", \"width\": 0.5}}, \"type\": \"barpolar\"}], \"carpet\": [{\"aaxis\": {\"endlinecolor\": \"#A2B1C6\", \"gridcolor\": \"#506784\", \"linecolor\": \"#506784\", \"minorgridcolor\": \"#506784\", \"startlinecolor\": \"#A2B1C6\"}, \"baxis\": {\"endlinecolor\": \"#A2B1C6\", \"gridcolor\": \"#506784\", \"linecolor\": \"#506784\", \"minorgridcolor\": \"#506784\", \"startlinecolor\": \"#A2B1C6\"}, \"type\": \"carpet\"}], \"choropleth\": [{\"colorbar\": {\"outlinewidth\": 0, \"ticks\": \"\"}, \"type\": \"choropleth\"}], \"contour\": [{\"colorbar\": {\"outlinewidth\": 0, \"ticks\": \"\"}, \"colorscale\": [[0.0, \"#0d0887\"], [0.1111111111111111, \"#46039f\"], [0.2222222222222222, \"#7201a8\"], [0.3333333333333333, \"#9c179e\"], [0.4444444444444444, \"#bd3786\"], [0.5555555555555556, \"#d8576b\"], [0.6666666666666666, \"#ed7953\"], [0.7777777777777778, \"#fb9f3a\"], [0.8888888888888888, \"#fdca26\"], [1.0, \"#f0f921\"]], \"type\": \"contour\"}], \"contourcarpet\": [{\"colorbar\": {\"outlinewidth\": 0, \"ticks\": \"\"}, \"type\": \"contourcarpet\"}], \"heatmap\": [{\"colorbar\": {\"outlinewidth\": 0, \"ticks\": \"\"}, \"colorscale\": [[0.0, \"#0d0887\"], [0.1111111111111111, \"#46039f\"], [0.2222222222222222, \"#7201a8\"], [0.3333333333333333, \"#9c179e\"], [0.4444444444444444, \"#bd3786\"], [0.5555555555555556, \"#d8576b\"], [0.6666666666666666, \"#ed7953\"], [0.7777777777777778, \"#fb9f3a\"], [0.8888888888888888, \"#fdca26\"], [1.0, \"#f0f921\"]], \"type\": \"heatmap\"}], \"heatmapgl\": [{\"colorbar\": {\"outlinewidth\": 0, \"ticks\": \"\"}, \"colorscale\": [[0.0, \"#0d0887\"], [0.1111111111111111, \"#46039f\"], [0.2222222222222222, \"#7201a8\"], [0.3333333333333333, \"#9c179e\"], [0.4444444444444444, \"#bd3786\"], [0.5555555555555556, \"#d8576b\"], [0.6666666666666666, \"#ed7953\"], [0.7777777777777778, \"#fb9f3a\"], [0.8888888888888888, \"#fdca26\"], [1.0, \"#f0f921\"]], \"type\": \"heatmapgl\"}], \"histogram\": [{\"marker\": {\"colorbar\": {\"outlinewidth\": 0, \"ticks\": \"\"}}, \"type\": \"histogram\"}], \"histogram2d\": [{\"colorbar\": {\"outlinewidth\": 0, \"ticks\": \"\"}, \"colorscale\": [[0.0, \"#0d0887\"], [0.1111111111111111, \"#46039f\"], [0.2222222222222222, \"#7201a8\"], [0.3333333333333333, \"#9c179e\"], [0.4444444444444444, \"#bd3786\"], [0.5555555555555556, \"#d8576b\"], [0.6666666666666666, \"#ed7953\"], [0.7777777777777778, \"#fb9f3a\"], [0.8888888888888888, \"#fdca26\"], [1.0, \"#f0f921\"]], \"type\": \"histogram2d\"}], \"histogram2dcontour\": [{\"colorbar\": {\"outlinewidth\": 0, \"ticks\": \"\"}, \"colorscale\": [[0.0, \"#0d0887\"], [0.1111111111111111, \"#46039f\"], [0.2222222222222222, \"#7201a8\"], [0.3333333333333333, \"#9c179e\"], [0.4444444444444444, \"#bd3786\"], [0.5555555555555556, \"#d8576b\"], [0.6666666666666666, \"#ed7953\"], [0.7777777777777778, \"#fb9f3a\"], [0.8888888888888888, \"#fdca26\"], [1.0, \"#f0f921\"]], \"type\": \"histogram2dcontour\"}], \"mesh3d\": [{\"colorbar\": {\"outlinewidth\": 0, \"ticks\": \"\"}, \"type\": \"mesh3d\"}], \"parcoords\": [{\"line\": {\"colorbar\": {\"outlinewidth\": 0, \"ticks\": \"\"}}, \"type\": \"parcoords\"}], \"pie\": [{\"automargin\": true, \"type\": \"pie\"}], \"scatter\": [{\"marker\": {\"line\": {\"color\": \"#283442\"}}, \"type\": \"scatter\"}], \"scatter3d\": [{\"line\": {\"colorbar\": {\"outlinewidth\": 0, \"ticks\": \"\"}}, \"marker\": {\"colorbar\": {\"outlinewidth\": 0, \"ticks\": \"\"}}, \"type\": \"scatter3d\"}], \"scattercarpet\": [{\"marker\": {\"colorbar\": {\"outlinewidth\": 0, \"ticks\": \"\"}}, \"type\": \"scattercarpet\"}], \"scattergeo\": [{\"marker\": {\"colorbar\": {\"outlinewidth\": 0, \"ticks\": \"\"}}, \"type\": \"scattergeo\"}], \"scattergl\": [{\"marker\": {\"line\": {\"color\": \"#283442\"}}, \"type\": \"scattergl\"}], \"scattermapbox\": [{\"marker\": {\"colorbar\": {\"outlinewidth\": 0, \"ticks\": \"\"}}, \"type\": \"scattermapbox\"}], \"scatterpolar\": [{\"marker\": {\"colorbar\": {\"outlinewidth\": 0, \"ticks\": \"\"}}, \"type\": \"scatterpolar\"}], \"scatterpolargl\": [{\"marker\": {\"colorbar\": {\"outlinewidth\": 0, \"ticks\": \"\"}}, \"type\": \"scatterpolargl\"}], \"scatterternary\": [{\"marker\": {\"colorbar\": {\"outlinewidth\": 0, \"ticks\": \"\"}}, \"type\": \"scatterternary\"}], \"surface\": [{\"colorbar\": {\"outlinewidth\": 0, \"ticks\": \"\"}, \"colorscale\": [[0.0, \"#0d0887\"], [0.1111111111111111, \"#46039f\"], [0.2222222222222222, \"#7201a8\"], [0.3333333333333333, \"#9c179e\"], [0.4444444444444444, \"#bd3786\"], [0.5555555555555556, \"#d8576b\"], [0.6666666666666666, \"#ed7953\"], [0.7777777777777778, \"#fb9f3a\"], [0.8888888888888888, \"#fdca26\"], [1.0, \"#f0f921\"]], \"type\": \"surface\"}], \"table\": [{\"cells\": {\"fill\": {\"color\": \"#506784\"}, \"line\": {\"color\": \"rgb(17,17,17)\"}}, \"header\": {\"fill\": {\"color\": \"#2a3f5f\"}, \"line\": {\"color\": \"rgb(17,17,17)\"}}, \"type\": \"table\"}]}, \"layout\": {\"annotationdefaults\": {\"arrowcolor\": \"#f2f5fa\", \"arrowhead\": 0, \"arrowwidth\": 1}, \"autotypenumbers\": \"strict\", \"coloraxis\": {\"colorbar\": {\"outlinewidth\": 0, \"ticks\": \"\"}}, \"colorscale\": {\"diverging\": [[0, \"#8e0152\"], [0.1, \"#c51b7d\"], [0.2, \"#de77ae\"], [0.3, \"#f1b6da\"], [0.4, \"#fde0ef\"], [0.5, \"#f7f7f7\"], [0.6, \"#e6f5d0\"], [0.7, \"#b8e186\"], [0.8, \"#7fbc41\"], [0.9, \"#4d9221\"], [1, \"#276419\"]], \"sequential\": [[0.0, \"#0d0887\"], [0.1111111111111111, \"#46039f\"], [0.2222222222222222, \"#7201a8\"], [0.3333333333333333, \"#9c179e\"], [0.4444444444444444, \"#bd3786\"], [0.5555555555555556, \"#d8576b\"], [0.6666666666666666, \"#ed7953\"], [0.7777777777777778, \"#fb9f3a\"], [0.8888888888888888, \"#fdca26\"], [1.0, \"#f0f921\"]], \"sequentialminus\": [[0.0, \"#0d0887\"], [0.1111111111111111, \"#46039f\"], [0.2222222222222222, \"#7201a8\"], [0.3333333333333333, \"#9c179e\"], [0.4444444444444444, \"#bd3786\"], [0.5555555555555556, \"#d8576b\"], [0.6666666666666666, \"#ed7953\"], [0.7777777777777778, \"#fb9f3a\"], [0.8888888888888888, \"#fdca26\"], [1.0, \"#f0f921\"]]}, \"colorway\": [\"#636efa\", \"#EF553B\", \"#00cc96\", \"#ab63fa\", \"#FFA15A\", \"#19d3f3\", \"#FF6692\", \"#B6E880\", \"#FF97FF\", \"#FECB52\"], \"font\": {\"color\": \"#f2f5fa\"}, \"geo\": {\"bgcolor\": \"rgb(17,17,17)\", \"lakecolor\": \"rgb(17,17,17)\", \"landcolor\": \"rgb(17,17,17)\", \"showlakes\": true, \"showland\": true, \"subunitcolor\": \"#506784\"}, \"hoverlabel\": {\"align\": \"left\"}, \"hovermode\": \"closest\", \"mapbox\": {\"style\": \"dark\"}, \"paper_bgcolor\": \"rgb(17,17,17)\", \"plot_bgcolor\": \"rgb(17,17,17)\", \"polar\": {\"angularaxis\": {\"gridcolor\": \"#506784\", \"linecolor\": \"#506784\", \"ticks\": \"\"}, \"bgcolor\": \"rgb(17,17,17)\", \"radialaxis\": {\"gridcolor\": \"#506784\", \"linecolor\": \"#506784\", \"ticks\": \"\"}}, \"scene\": {\"xaxis\": {\"backgroundcolor\": \"rgb(17,17,17)\", \"gridcolor\": \"#506784\", \"gridwidth\": 2, \"linecolor\": \"#506784\", \"showbackground\": true, \"ticks\": \"\", \"zerolinecolor\": \"#C8D4E3\"}, \"yaxis\": {\"backgroundcolor\": \"rgb(17,17,17)\", \"gridcolor\": \"#506784\", \"gridwidth\": 2, \"linecolor\": \"#506784\", \"showbackground\": true, \"ticks\": \"\", \"zerolinecolor\": \"#C8D4E3\"}, \"zaxis\": {\"backgroundcolor\": \"rgb(17,17,17)\", \"gridcolor\": \"#506784\", \"gridwidth\": 2, \"linecolor\": \"#506784\", \"showbackground\": true, \"ticks\": \"\", \"zerolinecolor\": \"#C8D4E3\"}}, \"shapedefaults\": {\"line\": {\"color\": \"#f2f5fa\"}}, \"sliderdefaults\": {\"bgcolor\": \"#C8D4E3\", \"bordercolor\": \"rgb(17,17,17)\", \"borderwidth\": 1, \"tickwidth\": 0}, \"ternary\": {\"aaxis\": {\"gridcolor\": \"#506784\", \"linecolor\": \"#506784\", \"ticks\": \"\"}, \"baxis\": {\"gridcolor\": \"#506784\", \"linecolor\": \"#506784\", \"ticks\": \"\"}, \"bgcolor\": \"rgb(17,17,17)\", \"caxis\": {\"gridcolor\": \"#506784\", \"linecolor\": \"#506784\", \"ticks\": \"\"}}, \"title\": {\"x\": 0.05}, \"updatemenudefaults\": {\"bgcolor\": \"#506784\", \"borderwidth\": 0}, \"xaxis\": {\"automargin\": true, \"gridcolor\": \"#283442\", \"linecolor\": \"#506784\", \"ticks\": \"\", \"title\": {\"standoff\": 15}, \"zerolinecolor\": \"#283442\", \"zerolinewidth\": 2}, \"yaxis\": {\"automargin\": true, \"gridcolor\": \"#283442\", \"linecolor\": \"#506784\", \"ticks\": \"\", \"title\": {\"standoff\": 15}, \"zerolinecolor\": \"#283442\", \"zerolinewidth\": 2}}}, \"title\": {\"text\": \"Exposure date categorised by tier\"}, \"width\": 580, \"xaxis\": {\"anchor\": \"y\", \"domain\": [0.0, 1.0], \"nticks\": 10, \"range\": [\"2021-05-10T12:00:00\", \"2021-07-18T12:00:00\"], \"tickangle\": 60, \"title\": {\"text\": \"Exposure date\"}}, \"yaxis\": {\"anchor\": \"x\", \"domain\": [0.0, 1.0], \"title\": {\"text\": \"Number of exposure sites\"}}},                        {\"responsive\": true}                    ).then(function(){\n",
       "                            \n",
       "var gd = document.getElementById('ba1eed9b-0863-499a-b1d7-911a928e152b');\n",
       "var x = new MutationObserver(function (mutations, observer) {{\n",
       "        var display = window.getComputedStyle(gd).display;\n",
       "        if (!display || display === 'none') {{\n",
       "            console.log([gd, 'removed!']);\n",
       "            Plotly.purge(gd);\n",
       "            observer.disconnect();\n",
       "        }}\n",
       "}});\n",
       "\n",
       "// Listen for the removal of the full notebook cells\n",
       "var notebookContainer = gd.closest('#notebook-container');\n",
       "if (notebookContainer) {{\n",
       "    x.observe(notebookContainer, {childList: true});\n",
       "}}\n",
       "\n",
       "// Listen for the clearing of the current output cell\n",
       "var outputEl = gd.closest('.output');\n",
       "if (outputEl) {{\n",
       "    x.observe(outputEl, {childList: true});\n",
       "}}\n",
       "\n",
       "                        })                };                });            </script>        </div>"
      ]
     },
     "metadata": {},
     "output_type": "display_data"
    }
   ],
   "source": [
    "nbins = df_official.Added_date_dtm.max() - df_official.Exposure_date_dtm.min() \n",
    "fig_date = px.histogram(df_official.sort_values(by='tier'), \n",
    "                        x='Exposure_date_dtm', template='plotly_dark', \n",
    "                        color='tier', color_discrete_sequence=px.colors.qualitative.Set1[0:3], \n",
    "                        title='Exposure date categorised by tier', nbins=nbins.days+1)\n",
    "\n",
    "fig_date.add_vline(x=dt.datetime(2021, 5, 27, 12, 0))\n",
    "fig_date.add_annotation(x = '2021-05-27', y= 60, text='  5km', xanchor='left', ax=10, ay=20, showarrow=False)\n",
    "fig_date.add_vline(x=dt.datetime(2021, 6, 3, 12, 0))\n",
    "fig_date.add_annotation(x = '2021-06-03', y= 50, text='  10km', xanchor='left', ax=10, ay=20, showarrow=False)\n",
    "fig_date.add_vline(x=dt.datetime(2021, 6, 10, 12, 0))\n",
    "fig_date.add_annotation(x = '2021-06-10', y= 40, text='  25km', xanchor='left', ax=10, ay=20, showarrow=False)\n",
    "fig_date.add_vline(x=dt.datetime(2021, 7, 15, 12, 0))\n",
    "fig_date.add_annotation(x = '2021-07-15', y= 70, text='  5km', xanchor='right', ax=10, ay=20, showarrow=False)\n",
    "\n",
    "\n",
    "fig_date.update_layout(\n",
    "    bargap=0.2, # gap between bars of adjacent location coordinates\n",
    "    xaxis_title = \"Exposure date\", \n",
    "    yaxis_title = \"Number of exposure sites\", \n",
    "    width = width\n",
    ")\n",
    "\n",
    "\n",
    "fig_date.update_xaxes(\n",
    "    tickangle = 60, \n",
    "    nticks = 10,\n",
    "    range=[df_official.Exposure_date_dtm.min() - dt.timedelta(hours=12), df_official.Added_date_dtm.max() + dt.timedelta(hours=12)]\n",
    ")\n",
    "\n",
    "fig_date.show()"
   ]
  },
  {
   "cell_type": "code",
   "execution_count": 627,
   "metadata": {},
   "outputs": [
    {
     "data": {
      "application/vnd.plotly.v1+json": {
       "config": {
        "plotlyServerURL": "https://plot.ly"
       },
       "data": [
        {
         "alignmentgroup": "True",
         "bingroup": "x",
         "hovertemplate": "tier=1<br>Added_date_dtm=%{x}<br>count=%{y}<extra></extra>",
         "legendgroup": "1",
         "marker": {
          "color": "rgb(228,26,28)"
         },
         "name": "1",
         "nbinsx": 69,
         "offsetgroup": "1",
         "orientation": "v",
         "showlegend": true,
         "type": "histogram",
         "x": [
          "2021-07-12T00:00:00",
          "2021-05-31T00:00:00",
          "2021-06-05T00:00:00",
          "2021-06-04T00:00:00",
          "2021-06-04T00:00:00",
          "2021-06-04T00:00:00",
          "2021-06-02T00:00:00",
          "2021-06-02T00:00:00",
          "2021-06-01T00:00:00",
          "2021-06-06T00:00:00",
          "2021-06-06T00:00:00",
          "2021-06-06T00:00:00",
          "2021-06-06T00:00:00",
          "2021-06-06T00:00:00",
          "2021-06-06T00:00:00",
          "2021-06-05T00:00:00",
          "2021-06-05T00:00:00",
          "2021-06-05T00:00:00",
          "2021-05-28T00:00:00",
          "2021-06-15T00:00:00",
          "2021-06-16T00:00:00",
          "2021-06-12T00:00:00",
          "2021-06-11T00:00:00",
          "2021-06-09T00:00:00",
          "2021-06-09T00:00:00",
          "2021-06-09T00:00:00",
          "2021-06-09T00:00:00",
          "2021-06-09T00:00:00",
          "2021-05-31T00:00:00",
          "2021-06-01T00:00:00",
          "2021-06-01T00:00:00",
          "2021-06-02T00:00:00",
          "2021-05-31T00:00:00",
          "2021-05-31T00:00:00",
          "2021-05-31T00:00:00",
          "2021-05-31T00:00:00",
          "2021-05-31T00:00:00",
          "2021-05-31T00:00:00",
          "2021-05-30T00:00:00",
          "2021-05-30T00:00:00",
          "2021-05-30T00:00:00",
          "2021-05-30T00:00:00",
          "2021-05-30T00:00:00",
          "2021-05-30T00:00:00",
          "2021-05-30T00:00:00",
          "2021-06-09T00:00:00",
          "2021-05-30T00:00:00",
          "2021-05-30T00:00:00",
          "2021-05-31T00:00:00",
          "2021-05-31T00:00:00",
          "2021-05-31T00:00:00",
          "2021-05-31T00:00:00",
          "2021-05-31T00:00:00",
          "2021-05-31T00:00:00",
          "2021-05-31T00:00:00",
          "2021-05-31T00:00:00",
          "2021-05-31T00:00:00",
          "2021-05-31T00:00:00",
          "2021-05-31T00:00:00",
          "2021-05-31T00:00:00",
          "2021-05-30T00:00:00",
          "2021-06-02T00:00:00",
          "2021-06-09T00:00:00",
          "2021-06-09T00:00:00",
          "2021-06-15T00:00:00",
          "2021-06-15T00:00:00",
          "2021-06-15T00:00:00",
          "2021-06-15T00:00:00",
          "2021-06-15T00:00:00",
          "2021-06-15T00:00:00",
          "2021-07-14T00:00:00",
          "2021-07-18T00:00:00",
          "2021-07-18T00:00:00",
          "2021-07-18T00:00:00",
          "2021-07-18T00:00:00",
          "2021-07-17T00:00:00",
          "2021-07-17T00:00:00",
          "2021-07-17T00:00:00",
          "2021-07-17T00:00:00",
          "2021-07-17T00:00:00",
          "2021-07-15T00:00:00",
          "2021-07-18T00:00:00",
          "2021-07-18T00:00:00",
          "2021-07-18T00:00:00",
          "2021-07-18T00:00:00",
          "2021-07-18T00:00:00",
          "2021-07-18T00:00:00",
          "2021-07-18T00:00:00",
          "2021-07-18T00:00:00",
          "2021-07-18T00:00:00",
          "2021-07-18T00:00:00",
          "2021-06-15T00:00:00",
          "2021-06-15T00:00:00",
          "2021-06-15T00:00:00",
          "2021-06-15T00:00:00",
          "2021-06-09T00:00:00",
          "2021-06-09T00:00:00",
          "2021-06-09T00:00:00",
          "2021-06-09T00:00:00",
          "2021-06-09T00:00:00",
          "2021-06-09T00:00:00",
          "2021-06-09T00:00:00",
          "2021-06-09T00:00:00",
          "2021-06-09T00:00:00",
          "2021-06-09T00:00:00",
          "2021-06-09T00:00:00",
          "2021-06-09T00:00:00",
          "2021-06-05T00:00:00",
          "2021-06-09T00:00:00",
          "2021-05-30T00:00:00",
          "2021-06-15T00:00:00",
          "2021-06-15T00:00:00",
          "2021-06-15T00:00:00",
          "2021-06-15T00:00:00",
          "2021-06-27T00:00:00",
          "2021-06-27T00:00:00",
          "2021-06-26T00:00:00",
          "2021-06-24T00:00:00",
          "2021-06-24T00:00:00",
          "2021-06-24T00:00:00",
          "2021-06-24T00:00:00",
          "2021-06-15T00:00:00",
          "2021-06-15T00:00:00",
          "2021-06-16T00:00:00",
          "2021-06-02T00:00:00",
          "2021-06-04T00:00:00",
          "2021-06-04T00:00:00",
          "2021-05-31T00:00:00",
          "2021-05-31T00:00:00",
          "2021-05-31T00:00:00",
          "2021-05-31T00:00:00",
          "2021-05-31T00:00:00",
          "2021-05-31T00:00:00",
          "2021-05-31T00:00:00",
          "2021-05-31T00:00:00",
          "2021-05-30T00:00:00",
          "2021-05-30T00:00:00",
          "2021-05-30T00:00:00",
          "2021-05-30T00:00:00",
          "2021-05-30T00:00:00",
          "2021-05-30T00:00:00",
          "2021-05-30T00:00:00",
          "2021-05-30T00:00:00",
          "2021-05-30T00:00:00",
          "2021-05-30T00:00:00",
          "2021-05-30T00:00:00",
          "2021-05-30T00:00:00",
          "2021-05-30T00:00:00",
          "2021-05-30T00:00:00",
          "2021-05-30T00:00:00",
          "2021-05-30T00:00:00",
          "2021-05-30T00:00:00",
          "2021-05-29T00:00:00",
          "2021-05-30T00:00:00",
          "2021-05-31T00:00:00",
          "2021-06-01T00:00:00",
          "2021-06-01T00:00:00",
          "2021-06-01T00:00:00",
          "2021-06-01T00:00:00",
          "2021-06-01T00:00:00",
          "2021-05-31T00:00:00",
          "2021-05-31T00:00:00",
          "2021-05-31T00:00:00",
          "2021-05-31T00:00:00",
          "2021-05-30T00:00:00",
          "2021-05-29T00:00:00",
          "2021-05-28T00:00:00",
          "2021-05-27T00:00:00",
          "2021-05-27T00:00:00",
          "2021-05-27T00:00:00",
          "2021-05-27T00:00:00",
          "2021-05-29T00:00:00",
          "2021-05-27T00:00:00",
          "2021-05-26T00:00:00",
          "2021-05-26T00:00:00",
          "2021-05-26T00:00:00",
          "2021-05-26T00:00:00",
          "2021-05-26T00:00:00",
          "2021-05-26T00:00:00",
          "2021-05-26T00:00:00",
          "2021-05-26T00:00:00",
          "2021-05-26T00:00:00",
          "2021-06-02T00:00:00",
          "2021-06-02T00:00:00",
          "2021-06-02T00:00:00",
          "2021-06-03T00:00:00",
          "2021-05-27T00:00:00",
          "2021-05-28T00:00:00",
          "2021-05-28T00:00:00",
          "2021-05-28T00:00:00",
          "2021-05-26T00:00:00",
          "2021-05-26T00:00:00",
          "2021-05-26T00:00:00",
          "2021-05-26T00:00:00",
          "2021-05-26T00:00:00",
          "2021-05-26T00:00:00",
          "2021-05-26T00:00:00",
          "2021-05-26T00:00:00",
          "2021-05-28T00:00:00",
          "2021-05-26T00:00:00",
          "2021-05-26T00:00:00",
          "2021-05-18T00:00:00",
          "2021-05-26T00:00:00",
          "2021-05-26T00:00:00",
          "2021-05-26T00:00:00",
          "2021-05-24T00:00:00",
          "2021-05-24T00:00:00",
          "2021-05-24T00:00:00",
          "2021-05-24T00:00:00",
          "2021-05-24T00:00:00",
          "2021-05-26T00:00:00",
          "2021-05-24T00:00:00",
          "2021-05-24T00:00:00",
          "2021-05-24T00:00:00",
          "2021-05-26T00:00:00",
          "2021-05-24T00:00:00",
          "2021-05-26T00:00:00",
          "2021-06-09T00:00:00",
          "2021-05-24T00:00:00",
          "2021-07-18T00:00:00",
          "2021-05-26T00:00:00",
          "2021-05-27T00:00:00",
          "2021-05-28T00:00:00",
          "2021-05-28T00:00:00",
          "2021-05-28T00:00:00",
          "2021-05-28T00:00:00",
          "2021-05-28T00:00:00",
          "2021-05-28T00:00:00",
          "2021-05-28T00:00:00",
          "2021-05-28T00:00:00",
          "2021-05-28T00:00:00",
          "2021-05-28T00:00:00",
          "2021-05-28T00:00:00",
          "2021-05-28T00:00:00",
          "2021-05-28T00:00:00",
          "2021-05-26T00:00:00",
          "2021-05-28T00:00:00",
          "2021-05-28T00:00:00",
          "2021-05-28T00:00:00",
          "2021-05-28T00:00:00",
          "2021-05-28T00:00:00",
          "2021-05-27T00:00:00",
          "2021-05-27T00:00:00",
          "2021-05-27T00:00:00",
          "2021-05-27T00:00:00",
          "2021-05-27T00:00:00",
          "2021-05-27T00:00:00",
          "2021-05-27T00:00:00",
          "2021-05-27T00:00:00",
          "2021-05-27T00:00:00",
          "2021-05-28T00:00:00",
          "2021-07-18T00:00:00",
          "2021-06-09T00:00:00",
          "2021-07-18T00:00:00",
          "2021-07-14T00:00:00",
          "2021-07-14T00:00:00",
          "2021-07-14T00:00:00",
          "2021-07-14T00:00:00",
          "2021-07-15T00:00:00",
          "2021-07-14T00:00:00",
          "2021-07-17T00:00:00",
          "2021-07-17T00:00:00",
          "2021-07-17T00:00:00",
          "2021-07-14T00:00:00",
          "2021-07-14T00:00:00",
          "2021-07-17T00:00:00",
          "2021-07-17T00:00:00",
          "2021-07-15T00:00:00",
          "2021-07-17T00:00:00",
          "2021-07-17T00:00:00",
          "2021-07-17T00:00:00",
          "2021-07-17T00:00:00",
          "2021-07-17T00:00:00",
          "2021-07-17T00:00:00",
          "2021-07-15T00:00:00",
          "2021-07-14T00:00:00",
          "2021-07-14T00:00:00",
          "2021-07-17T00:00:00",
          "2021-07-17T00:00:00",
          "2021-07-16T00:00:00",
          "2021-07-17T00:00:00",
          "2021-07-16T00:00:00",
          "2021-07-16T00:00:00",
          "2021-07-16T00:00:00",
          "2021-07-14T00:00:00",
          "2021-07-18T00:00:00",
          "2021-07-14T00:00:00",
          "2021-07-16T00:00:00",
          "2021-07-16T00:00:00",
          "2021-07-17T00:00:00",
          "2021-07-15T00:00:00",
          "2021-07-17T00:00:00",
          "2021-07-17T00:00:00",
          "2021-07-17T00:00:00",
          "2021-07-17T00:00:00",
          "2021-07-15T00:00:00",
          "2021-07-17T00:00:00",
          "2021-07-17T00:00:00",
          "2021-07-17T00:00:00",
          "2021-07-14T00:00:00",
          "2021-07-14T00:00:00",
          "2021-07-17T00:00:00",
          "2021-07-17T00:00:00",
          "2021-07-17T00:00:00",
          "2021-07-15T00:00:00",
          "2021-07-15T00:00:00",
          "2021-07-15T00:00:00",
          "2021-07-15T00:00:00",
          "2021-07-17T00:00:00",
          "2021-07-17T00:00:00",
          "2021-07-17T00:00:00",
          "2021-07-17T00:00:00",
          "2021-07-17T00:00:00",
          "2021-07-15T00:00:00",
          "2021-07-14T00:00:00",
          "2021-07-17T00:00:00",
          "2021-07-14T00:00:00",
          "2021-07-14T00:00:00",
          "2021-07-17T00:00:00",
          "2021-07-15T00:00:00",
          "2021-07-14T00:00:00",
          "2021-07-14T00:00:00",
          "2021-07-14T00:00:00",
          "2021-07-14T00:00:00",
          "2021-07-15T00:00:00",
          "2021-07-17T00:00:00",
          "2021-07-17T00:00:00",
          "2021-07-17T00:00:00",
          "2021-07-14T00:00:00",
          "2021-07-15T00:00:00",
          "2021-07-15T00:00:00",
          "2021-07-14T00:00:00",
          "2021-07-16T00:00:00",
          "2021-07-16T00:00:00",
          "2021-07-18T00:00:00",
          "2021-07-16T00:00:00",
          "2021-07-15T00:00:00",
          "2021-07-16T00:00:00",
          "2021-07-18T00:00:00",
          "2021-07-16T00:00:00",
          "2021-07-17T00:00:00",
          "2021-07-18T00:00:00",
          "2021-07-18T00:00:00",
          "2021-07-16T00:00:00",
          "2021-07-12T00:00:00",
          "2021-07-18T00:00:00",
          "2021-07-15T00:00:00",
          "2021-07-16T00:00:00",
          "2021-07-18T00:00:00",
          "2021-07-12T00:00:00",
          "2021-07-18T00:00:00",
          "2021-07-18T00:00:00",
          "2021-07-15T00:00:00",
          "2021-07-18T00:00:00",
          "2021-07-18T00:00:00",
          "2021-07-16T00:00:00",
          "2021-07-16T00:00:00",
          "2021-07-18T00:00:00",
          "2021-07-12T00:00:00",
          "2021-07-12T00:00:00",
          "2021-07-16T00:00:00",
          "2021-07-12T00:00:00",
          "2021-07-17T00:00:00",
          "2021-07-17T00:00:00",
          "2021-07-18T00:00:00",
          "2021-07-12T00:00:00",
          "2021-07-18T00:00:00",
          "2021-07-18T00:00:00",
          "2021-07-18T00:00:00",
          "2021-07-15T00:00:00",
          "2021-07-18T00:00:00",
          "2021-07-16T00:00:00",
          "2021-07-18T00:00:00",
          "2021-07-18T00:00:00",
          "2021-07-14T00:00:00",
          "2021-07-14T00:00:00",
          "2021-07-18T00:00:00",
          "2021-07-18T00:00:00",
          "2021-07-17T00:00:00",
          "2021-07-14T00:00:00",
          "2021-07-14T00:00:00",
          "2021-07-14T00:00:00",
          "2021-07-15T00:00:00",
          "2021-07-16T00:00:00",
          "2021-07-16T00:00:00",
          "2021-07-18T00:00:00",
          "2021-07-18T00:00:00",
          "2021-07-18T00:00:00",
          "2021-07-15T00:00:00",
          "2021-07-15T00:00:00",
          "2021-07-13T00:00:00",
          "2021-07-18T00:00:00",
          "2021-07-16T00:00:00",
          "2021-07-13T00:00:00",
          "2021-07-12T00:00:00",
          "2021-07-16T00:00:00",
          "2021-07-16T00:00:00",
          "2021-07-15T00:00:00",
          "2021-07-15T00:00:00",
          "2021-07-15T00:00:00",
          "2021-07-18T00:00:00",
          "2021-07-18T00:00:00",
          "2021-07-14T00:00:00",
          "2021-07-16T00:00:00"
         ],
         "xaxis": "x",
         "yaxis": "y"
        },
        {
         "alignmentgroup": "True",
         "bingroup": "x",
         "hovertemplate": "tier=2<br>Added_date_dtm=%{x}<br>count=%{y}<extra></extra>",
         "legendgroup": "2",
         "marker": {
          "color": "rgb(55,126,184)"
         },
         "name": "2",
         "nbinsx": 69,
         "offsetgroup": "2",
         "orientation": "v",
         "showlegend": true,
         "type": "histogram",
         "x": [
          "2021-05-26T00:00:00",
          "2021-07-15T00:00:00",
          "2021-05-27T00:00:00",
          "2021-05-27T00:00:00",
          "2021-05-27T00:00:00",
          "2021-05-27T00:00:00",
          "2021-05-27T00:00:00",
          "2021-05-27T00:00:00",
          "2021-05-25T00:00:00",
          "2021-07-15T00:00:00",
          "2021-05-31T00:00:00",
          "2021-07-16T00:00:00",
          "2021-07-16T00:00:00",
          "2021-07-16T00:00:00",
          "2021-05-31T00:00:00",
          "2021-05-31T00:00:00",
          "2021-05-31T00:00:00",
          "2021-05-31T00:00:00",
          "2021-07-16T00:00:00",
          "2021-05-30T00:00:00",
          "2021-07-16T00:00:00",
          "2021-05-30T00:00:00",
          "2021-05-30T00:00:00",
          "2021-05-30T00:00:00",
          "2021-07-16T00:00:00",
          "2021-07-16T00:00:00",
          "2021-05-30T00:00:00",
          "2021-05-30T00:00:00",
          "2021-06-09T00:00:00",
          "2021-06-09T00:00:00",
          "2021-06-04T00:00:00",
          "2021-06-01T00:00:00",
          "2021-07-15T00:00:00",
          "2021-06-01T00:00:00",
          "2021-06-09T00:00:00",
          "2021-07-15T00:00:00",
          "2021-07-15T00:00:00",
          "2021-07-15T00:00:00",
          "2021-07-15T00:00:00",
          "2021-07-15T00:00:00",
          "2021-05-24T00:00:00",
          "2021-05-25T00:00:00",
          "2021-05-24T00:00:00",
          "2021-07-15T00:00:00",
          "2021-05-25T00:00:00",
          "2021-07-15T00:00:00",
          "2021-07-15T00:00:00",
          "2021-07-15T00:00:00",
          "2021-05-24T00:00:00",
          "2021-05-25T00:00:00",
          "2021-05-25T00:00:00",
          "2021-05-25T00:00:00",
          "2021-07-16T00:00:00",
          "2021-07-16T00:00:00",
          "2021-05-25T00:00:00",
          "2021-05-26T00:00:00",
          "2021-06-03T00:00:00",
          "2021-07-15T00:00:00",
          "2021-05-29T00:00:00",
          "2021-07-15T00:00:00",
          "2021-05-26T00:00:00",
          "2021-05-26T00:00:00",
          "2021-05-26T00:00:00",
          "2021-05-24T00:00:00",
          "2021-05-24T00:00:00",
          "2021-05-24T00:00:00",
          "2021-05-24T00:00:00",
          "2021-05-24T00:00:00",
          "2021-05-24T00:00:00",
          "2021-07-14T00:00:00",
          "2021-06-07T00:00:00",
          "2021-07-14T00:00:00",
          "2021-06-06T00:00:00",
          "2021-06-04T00:00:00",
          "2021-06-03T00:00:00",
          "2021-06-03T00:00:00",
          "2021-06-03T00:00:00",
          "2021-07-14T00:00:00",
          "2021-07-14T00:00:00",
          "2021-06-02T00:00:00",
          "2021-07-14T00:00:00",
          "2021-06-01T00:00:00",
          "2021-07-14T00:00:00",
          "2021-06-01T00:00:00",
          "2021-06-06T00:00:00",
          "2021-07-14T00:00:00",
          "2021-07-14T00:00:00",
          "2021-05-27T00:00:00",
          "2021-06-06T00:00:00",
          "2021-06-06T00:00:00",
          "2021-06-06T00:00:00",
          "2021-06-06T00:00:00",
          "2021-06-01T00:00:00",
          "2021-06-01T00:00:00",
          "2021-05-31T00:00:00",
          "2021-05-31T00:00:00",
          "2021-05-31T00:00:00",
          "2021-07-12T00:00:00",
          "2021-05-30T00:00:00",
          "2021-05-30T00:00:00",
          "2021-05-30T00:00:00",
          "2021-05-30T00:00:00",
          "2021-05-30T00:00:00",
          "2021-05-30T00:00:00",
          "2021-05-30T00:00:00",
          "2021-05-30T00:00:00",
          "2021-05-29T00:00:00",
          "2021-05-29T00:00:00",
          "2021-05-28T00:00:00",
          "2021-05-28T00:00:00",
          "2021-05-28T00:00:00",
          "2021-05-28T00:00:00",
          "2021-05-27T00:00:00",
          "2021-07-14T00:00:00",
          "2021-07-15T00:00:00",
          "2021-05-31T00:00:00",
          "2021-05-31T00:00:00",
          "2021-05-30T00:00:00",
          "2021-07-14T00:00:00",
          "2021-05-29T00:00:00",
          "2021-05-29T00:00:00",
          "2021-05-29T00:00:00",
          "2021-05-29T00:00:00",
          "2021-05-29T00:00:00",
          "2021-05-29T00:00:00",
          "2021-05-29T00:00:00",
          "2021-05-29T00:00:00",
          "2021-06-04T00:00:00",
          "2021-05-30T00:00:00",
          "2021-07-14T00:00:00",
          "2021-07-14T00:00:00",
          "2021-07-14T00:00:00",
          "2021-07-14T00:00:00",
          "2021-07-14T00:00:00",
          "2021-07-15T00:00:00",
          "2021-07-15T00:00:00",
          "2021-05-27T00:00:00",
          "2021-05-27T00:00:00",
          "2021-05-27T00:00:00",
          "2021-05-27T00:00:00",
          "2021-07-15T00:00:00",
          "2021-07-14T00:00:00",
          "2021-07-14T00:00:00",
          "2021-05-30T00:00:00",
          "2021-05-30T00:00:00",
          "2021-05-30T00:00:00",
          "2021-05-30T00:00:00",
          "2021-05-30T00:00:00",
          "2021-05-30T00:00:00",
          "2021-05-30T00:00:00",
          "2021-05-30T00:00:00",
          "2021-05-30T00:00:00",
          "2021-05-30T00:00:00",
          "2021-05-30T00:00:00",
          "2021-05-30T00:00:00",
          "2021-05-30T00:00:00",
          "2021-05-30T00:00:00",
          "2021-05-30T00:00:00",
          "2021-05-30T00:00:00",
          "2021-05-30T00:00:00",
          "2021-05-30T00:00:00",
          "2021-05-30T00:00:00",
          "2021-07-14T00:00:00",
          "2021-05-30T00:00:00",
          "2021-05-30T00:00:00",
          "2021-05-30T00:00:00",
          "2021-05-30T00:00:00",
          "2021-05-30T00:00:00",
          "2021-05-30T00:00:00",
          "2021-05-30T00:00:00",
          "2021-05-31T00:00:00",
          "2021-06-04T00:00:00",
          "2021-05-30T00:00:00",
          "2021-06-07T00:00:00",
          "2021-06-13T00:00:00",
          "2021-06-12T00:00:00",
          "2021-06-16T00:00:00",
          "2021-06-16T00:00:00",
          "2021-06-16T00:00:00",
          "2021-06-16T00:00:00",
          "2021-06-16T00:00:00",
          "2021-06-16T00:00:00",
          "2021-06-16T00:00:00",
          "2021-06-16T00:00:00",
          "2021-06-16T00:00:00",
          "2021-06-15T00:00:00",
          "2021-06-15T00:00:00",
          "2021-06-15T00:00:00",
          "2021-06-15T00:00:00",
          "2021-06-15T00:00:00",
          "2021-06-15T00:00:00",
          "2021-06-15T00:00:00",
          "2021-06-15T00:00:00",
          "2021-06-15T00:00:00",
          "2021-06-15T00:00:00",
          "2021-06-15T00:00:00",
          "2021-06-15T00:00:00",
          "2021-06-15T00:00:00",
          "2021-06-15T00:00:00",
          "2021-06-15T00:00:00",
          "2021-06-15T00:00:00",
          "2021-06-13T00:00:00",
          "2021-06-15T00:00:00",
          "2021-06-15T00:00:00",
          "2021-06-15T00:00:00",
          "2021-07-17T00:00:00",
          "2021-07-17T00:00:00",
          "2021-06-09T00:00:00",
          "2021-06-07T00:00:00",
          "2021-06-07T00:00:00",
          "2021-06-07T00:00:00",
          "2021-06-07T00:00:00",
          "2021-06-07T00:00:00",
          "2021-06-07T00:00:00",
          "2021-06-07T00:00:00",
          "2021-06-07T00:00:00",
          "2021-06-07T00:00:00",
          "2021-06-06T00:00:00",
          "2021-06-06T00:00:00",
          "2021-06-06T00:00:00",
          "2021-06-06T00:00:00",
          "2021-06-05T00:00:00",
          "2021-06-05T00:00:00",
          "2021-06-05T00:00:00",
          "2021-06-05T00:00:00",
          "2021-06-05T00:00:00",
          "2021-05-31T00:00:00",
          "2021-06-15T00:00:00",
          "2021-06-15T00:00:00",
          "2021-06-15T00:00:00",
          "2021-06-15T00:00:00",
          "2021-06-15T00:00:00",
          "2021-06-15T00:00:00",
          "2021-07-18T00:00:00",
          "2021-07-18T00:00:00",
          "2021-07-18T00:00:00",
          "2021-07-10T00:00:00",
          "2021-07-16T00:00:00",
          "2021-07-16T00:00:00",
          "2021-07-18T00:00:00",
          "2021-07-18T00:00:00",
          "2021-07-17T00:00:00",
          "2021-07-18T00:00:00",
          "2021-07-18T00:00:00",
          "2021-07-16T00:00:00",
          "2021-07-16T00:00:00",
          "2021-07-16T00:00:00",
          "2021-07-18T00:00:00",
          "2021-07-18T00:00:00",
          "2021-07-18T00:00:00",
          "2021-07-18T00:00:00",
          "2021-07-18T00:00:00",
          "2021-07-18T00:00:00",
          "2021-07-18T00:00:00",
          "2021-07-18T00:00:00",
          "2021-07-18T00:00:00",
          "2021-07-18T00:00:00",
          "2021-07-18T00:00:00",
          "2021-07-18T00:00:00",
          "2021-07-18T00:00:00",
          "2021-07-18T00:00:00",
          "2021-07-18T00:00:00",
          "2021-07-18T00:00:00",
          "2021-07-15T00:00:00",
          "2021-07-16T00:00:00",
          "2021-07-16T00:00:00",
          "2021-07-16T00:00:00",
          "2021-06-27T00:00:00",
          "2021-06-27T00:00:00",
          "2021-06-26T00:00:00",
          "2021-06-26T00:00:00",
          "2021-06-26T00:00:00",
          "2021-06-26T00:00:00",
          "2021-07-18T00:00:00",
          "2021-06-25T00:00:00",
          "2021-06-24T00:00:00",
          "2021-06-24T00:00:00",
          "2021-06-24T00:00:00",
          "2021-06-24T00:00:00",
          "2021-06-24T00:00:00",
          "2021-07-17T00:00:00",
          "2021-06-24T00:00:00",
          "2021-06-24T00:00:00",
          "2021-06-24T00:00:00",
          "2021-06-24T00:00:00",
          "2021-06-24T00:00:00",
          "2021-07-18T00:00:00",
          "2021-07-18T00:00:00",
          "2021-06-16T00:00:00",
          "2021-06-16T00:00:00",
          "2021-07-18T00:00:00",
          "2021-07-18T00:00:00",
          "2021-07-18T00:00:00",
          "2021-07-14T00:00:00",
          "2021-07-18T00:00:00",
          "2021-06-24T00:00:00",
          "2021-07-17T00:00:00",
          "2021-06-06T00:00:00",
          "2021-07-17T00:00:00",
          "2021-06-07T00:00:00",
          "2021-06-06T00:00:00",
          "2021-06-06T00:00:00",
          "2021-06-06T00:00:00",
          "2021-07-16T00:00:00",
          "2021-06-05T00:00:00",
          "2021-06-05T00:00:00",
          "2021-06-05T00:00:00",
          "2021-06-05T00:00:00",
          "2021-07-17T00:00:00",
          "2021-06-05T00:00:00",
          "2021-06-05T00:00:00",
          "2021-06-05T00:00:00",
          "2021-06-05T00:00:00",
          "2021-06-05T00:00:00",
          "2021-06-05T00:00:00",
          "2021-06-05T00:00:00",
          "2021-06-04T00:00:00",
          "2021-06-04T00:00:00",
          "2021-06-04T00:00:00",
          "2021-06-02T00:00:00",
          "2021-06-01T00:00:00",
          "2021-06-01T00:00:00",
          "2021-06-06T00:00:00",
          "2021-07-17T00:00:00",
          "2021-06-05T00:00:00",
          "2021-06-15T00:00:00",
          "2021-06-07T00:00:00",
          "2021-06-15T00:00:00",
          "2021-06-07T00:00:00",
          "2021-06-07T00:00:00",
          "2021-07-16T00:00:00",
          "2021-05-31T00:00:00",
          "2021-05-31T00:00:00",
          "2021-07-16T00:00:00",
          "2021-05-31T00:00:00",
          "2021-05-31T00:00:00",
          "2021-07-16T00:00:00",
          "2021-05-31T00:00:00",
          "2021-07-16T00:00:00",
          "2021-05-31T00:00:00",
          "2021-07-16T00:00:00",
          "2021-07-16T00:00:00",
          "2021-05-30T00:00:00",
          "2021-05-29T00:00:00",
          "2021-06-10T00:00:00",
          "2021-06-10T00:00:00",
          "2021-06-01T00:00:00",
          "2021-07-16T00:00:00",
          "2021-05-31T00:00:00",
          "2021-05-30T00:00:00",
          "2021-05-29T00:00:00",
          "2021-06-11T00:00:00",
          "2021-06-11T00:00:00",
          "2021-06-10T00:00:00",
          "2021-06-07T00:00:00",
          "2021-06-07T00:00:00",
          "2021-06-07T00:00:00",
          "2021-06-07T00:00:00",
          "2021-06-15T00:00:00",
          "2021-06-11T00:00:00",
          "2021-06-15T00:00:00",
          "2021-06-12T00:00:00",
          "2021-06-12T00:00:00",
          "2021-06-12T00:00:00",
          "2021-06-11T00:00:00",
          "2021-06-15T00:00:00",
          "2021-06-11T00:00:00",
          "2021-06-11T00:00:00",
          "2021-06-11T00:00:00",
          "2021-06-11T00:00:00",
          "2021-06-11T00:00:00",
          "2021-06-11T00:00:00",
          "2021-06-11T00:00:00",
          "2021-06-11T00:00:00",
          "2021-06-11T00:00:00",
          "2021-06-11T00:00:00",
          "2021-06-11T00:00:00",
          "2021-06-11T00:00:00",
          "2021-06-11T00:00:00",
          "2021-06-11T00:00:00",
          "2021-06-11T00:00:00",
          "2021-06-11T00:00:00",
          "2021-06-10T00:00:00",
          "2021-06-10T00:00:00",
          "2021-06-10T00:00:00",
          "2021-06-09T00:00:00",
          "2021-06-09T00:00:00",
          "2021-06-09T00:00:00",
          "2021-06-09T00:00:00",
          "2021-07-17T00:00:00",
          "2021-06-12T00:00:00",
          "2021-06-13T00:00:00",
          "2021-06-11T00:00:00",
          "2021-06-16T00:00:00",
          "2021-06-15T00:00:00",
          "2021-06-14T00:00:00",
          "2021-06-14T00:00:00",
          "2021-06-15T00:00:00",
          "2021-06-15T00:00:00",
          "2021-06-16T00:00:00",
          "2021-06-16T00:00:00",
          "2021-06-14T00:00:00",
          "2021-06-13T00:00:00",
          "2021-06-16T00:00:00",
          "2021-06-15T00:00:00",
          "2021-06-13T00:00:00",
          "2021-06-13T00:00:00"
         ],
         "xaxis": "x",
         "yaxis": "y"
        },
        {
         "alignmentgroup": "True",
         "bingroup": "x",
         "hovertemplate": "tier=3<br>Added_date_dtm=%{x}<br>count=%{y}<extra></extra>",
         "legendgroup": "3",
         "marker": {
          "color": "rgb(77,175,74)"
         },
         "name": "3",
         "nbinsx": 69,
         "offsetgroup": "3",
         "orientation": "v",
         "showlegend": true,
         "type": "histogram",
         "x": [
          "2021-05-29T00:00:00",
          "2021-05-31T00:00:00",
          "2021-07-15T00:00:00",
          "2021-05-31T00:00:00",
          "2021-05-29T00:00:00",
          "2021-07-16T00:00:00",
          "2021-06-24T00:00:00",
          "2021-07-14T00:00:00",
          "2021-07-14T00:00:00",
          "2021-07-14T00:00:00",
          "2021-07-12T00:00:00",
          "2021-07-14T00:00:00",
          "2021-07-14T00:00:00",
          "2021-07-14T00:00:00",
          "2021-05-29T00:00:00",
          "2021-07-14T00:00:00",
          "2021-06-08T00:00:00",
          "2021-07-14T00:00:00",
          "2021-07-18T00:00:00",
          "2021-05-31T00:00:00",
          "2021-07-15T00:00:00",
          "2021-05-31T00:00:00",
          "2021-05-31T00:00:00",
          "2021-05-31T00:00:00",
          "2021-07-16T00:00:00",
          "2021-07-16T00:00:00",
          "2021-07-16T00:00:00",
          "2021-06-24T00:00:00",
          "2021-06-16T00:00:00",
          "2021-07-16T00:00:00",
          "2021-05-26T00:00:00",
          "2021-06-16T00:00:00",
          "2021-07-16T00:00:00",
          "2021-05-26T00:00:00",
          "2021-07-17T00:00:00",
          "2021-06-27T00:00:00",
          "2021-07-14T00:00:00",
          "2021-06-15T00:00:00",
          "2021-06-27T00:00:00",
          "2021-07-14T00:00:00",
          "2021-07-14T00:00:00",
          "2021-05-27T00:00:00",
          "2021-05-27T00:00:00",
          "2021-06-24T00:00:00",
          "2021-07-14T00:00:00",
          "2021-05-31T00:00:00",
          "2021-07-16T00:00:00",
          "2021-07-14T00:00:00",
          "2021-05-31T00:00:00"
         ],
         "xaxis": "x",
         "yaxis": "y"
        }
       ],
       "layout": {
        "annotations": [
         {
          "ax": 10,
          "ay": 20,
          "showarrow": false,
          "text": "  5km",
          "x": "2021-05-27",
          "xanchor": "left",
          "y": 80
         },
         {
          "ax": 10,
          "ay": 20,
          "showarrow": false,
          "text": "  10km",
          "x": "2021-06-03",
          "xanchor": "left",
          "y": 70
         },
         {
          "ax": 10,
          "ay": 20,
          "showarrow": false,
          "text": "  25km",
          "x": "2021-06-10",
          "xanchor": "left",
          "y": 60
         },
         {
          "ax": 10,
          "ay": 20,
          "showarrow": false,
          "text": "  5km",
          "x": "2021-07-15",
          "xanchor": "right",
          "y": 80
         }
        ],
        "bargap": 0.2,
        "barmode": "relative",
        "legend": {
         "title": {
          "text": "tier"
         },
         "tracegroupgap": 0
        },
        "shapes": [
         {
          "type": "line",
          "x0": "2021-05-27T12:00:00",
          "x1": "2021-05-27T12:00:00",
          "xref": "x",
          "y0": 0,
          "y1": 1,
          "yref": "y domain"
         },
         {
          "type": "line",
          "x0": "2021-06-03T12:00:00",
          "x1": "2021-06-03T12:00:00",
          "xref": "x",
          "y0": 0,
          "y1": 1,
          "yref": "y domain"
         },
         {
          "type": "line",
          "x0": "2021-06-10T12:00:00",
          "x1": "2021-06-10T12:00:00",
          "xref": "x",
          "y0": 0,
          "y1": 1,
          "yref": "y domain"
         },
         {
          "type": "line",
          "x0": "2021-07-15T12:00:00",
          "x1": "2021-07-15T12:00:00",
          "xref": "x",
          "y0": 0,
          "y1": 1,
          "yref": "y domain"
         }
        ],
        "template": {
         "data": {
          "bar": [
           {
            "error_x": {
             "color": "#f2f5fa"
            },
            "error_y": {
             "color": "#f2f5fa"
            },
            "marker": {
             "line": {
              "color": "rgb(17,17,17)",
              "width": 0.5
             }
            },
            "type": "bar"
           }
          ],
          "barpolar": [
           {
            "marker": {
             "line": {
              "color": "rgb(17,17,17)",
              "width": 0.5
             }
            },
            "type": "barpolar"
           }
          ],
          "carpet": [
           {
            "aaxis": {
             "endlinecolor": "#A2B1C6",
             "gridcolor": "#506784",
             "linecolor": "#506784",
             "minorgridcolor": "#506784",
             "startlinecolor": "#A2B1C6"
            },
            "baxis": {
             "endlinecolor": "#A2B1C6",
             "gridcolor": "#506784",
             "linecolor": "#506784",
             "minorgridcolor": "#506784",
             "startlinecolor": "#A2B1C6"
            },
            "type": "carpet"
           }
          ],
          "choropleth": [
           {
            "colorbar": {
             "outlinewidth": 0,
             "ticks": ""
            },
            "type": "choropleth"
           }
          ],
          "contour": [
           {
            "colorbar": {
             "outlinewidth": 0,
             "ticks": ""
            },
            "colorscale": [
             [
              0,
              "#0d0887"
             ],
             [
              0.1111111111111111,
              "#46039f"
             ],
             [
              0.2222222222222222,
              "#7201a8"
             ],
             [
              0.3333333333333333,
              "#9c179e"
             ],
             [
              0.4444444444444444,
              "#bd3786"
             ],
             [
              0.5555555555555556,
              "#d8576b"
             ],
             [
              0.6666666666666666,
              "#ed7953"
             ],
             [
              0.7777777777777778,
              "#fb9f3a"
             ],
             [
              0.8888888888888888,
              "#fdca26"
             ],
             [
              1,
              "#f0f921"
             ]
            ],
            "type": "contour"
           }
          ],
          "contourcarpet": [
           {
            "colorbar": {
             "outlinewidth": 0,
             "ticks": ""
            },
            "type": "contourcarpet"
           }
          ],
          "heatmap": [
           {
            "colorbar": {
             "outlinewidth": 0,
             "ticks": ""
            },
            "colorscale": [
             [
              0,
              "#0d0887"
             ],
             [
              0.1111111111111111,
              "#46039f"
             ],
             [
              0.2222222222222222,
              "#7201a8"
             ],
             [
              0.3333333333333333,
              "#9c179e"
             ],
             [
              0.4444444444444444,
              "#bd3786"
             ],
             [
              0.5555555555555556,
              "#d8576b"
             ],
             [
              0.6666666666666666,
              "#ed7953"
             ],
             [
              0.7777777777777778,
              "#fb9f3a"
             ],
             [
              0.8888888888888888,
              "#fdca26"
             ],
             [
              1,
              "#f0f921"
             ]
            ],
            "type": "heatmap"
           }
          ],
          "heatmapgl": [
           {
            "colorbar": {
             "outlinewidth": 0,
             "ticks": ""
            },
            "colorscale": [
             [
              0,
              "#0d0887"
             ],
             [
              0.1111111111111111,
              "#46039f"
             ],
             [
              0.2222222222222222,
              "#7201a8"
             ],
             [
              0.3333333333333333,
              "#9c179e"
             ],
             [
              0.4444444444444444,
              "#bd3786"
             ],
             [
              0.5555555555555556,
              "#d8576b"
             ],
             [
              0.6666666666666666,
              "#ed7953"
             ],
             [
              0.7777777777777778,
              "#fb9f3a"
             ],
             [
              0.8888888888888888,
              "#fdca26"
             ],
             [
              1,
              "#f0f921"
             ]
            ],
            "type": "heatmapgl"
           }
          ],
          "histogram": [
           {
            "marker": {
             "colorbar": {
              "outlinewidth": 0,
              "ticks": ""
             }
            },
            "type": "histogram"
           }
          ],
          "histogram2d": [
           {
            "colorbar": {
             "outlinewidth": 0,
             "ticks": ""
            },
            "colorscale": [
             [
              0,
              "#0d0887"
             ],
             [
              0.1111111111111111,
              "#46039f"
             ],
             [
              0.2222222222222222,
              "#7201a8"
             ],
             [
              0.3333333333333333,
              "#9c179e"
             ],
             [
              0.4444444444444444,
              "#bd3786"
             ],
             [
              0.5555555555555556,
              "#d8576b"
             ],
             [
              0.6666666666666666,
              "#ed7953"
             ],
             [
              0.7777777777777778,
              "#fb9f3a"
             ],
             [
              0.8888888888888888,
              "#fdca26"
             ],
             [
              1,
              "#f0f921"
             ]
            ],
            "type": "histogram2d"
           }
          ],
          "histogram2dcontour": [
           {
            "colorbar": {
             "outlinewidth": 0,
             "ticks": ""
            },
            "colorscale": [
             [
              0,
              "#0d0887"
             ],
             [
              0.1111111111111111,
              "#46039f"
             ],
             [
              0.2222222222222222,
              "#7201a8"
             ],
             [
              0.3333333333333333,
              "#9c179e"
             ],
             [
              0.4444444444444444,
              "#bd3786"
             ],
             [
              0.5555555555555556,
              "#d8576b"
             ],
             [
              0.6666666666666666,
              "#ed7953"
             ],
             [
              0.7777777777777778,
              "#fb9f3a"
             ],
             [
              0.8888888888888888,
              "#fdca26"
             ],
             [
              1,
              "#f0f921"
             ]
            ],
            "type": "histogram2dcontour"
           }
          ],
          "mesh3d": [
           {
            "colorbar": {
             "outlinewidth": 0,
             "ticks": ""
            },
            "type": "mesh3d"
           }
          ],
          "parcoords": [
           {
            "line": {
             "colorbar": {
              "outlinewidth": 0,
              "ticks": ""
             }
            },
            "type": "parcoords"
           }
          ],
          "pie": [
           {
            "automargin": true,
            "type": "pie"
           }
          ],
          "scatter": [
           {
            "marker": {
             "line": {
              "color": "#283442"
             }
            },
            "type": "scatter"
           }
          ],
          "scatter3d": [
           {
            "line": {
             "colorbar": {
              "outlinewidth": 0,
              "ticks": ""
             }
            },
            "marker": {
             "colorbar": {
              "outlinewidth": 0,
              "ticks": ""
             }
            },
            "type": "scatter3d"
           }
          ],
          "scattercarpet": [
           {
            "marker": {
             "colorbar": {
              "outlinewidth": 0,
              "ticks": ""
             }
            },
            "type": "scattercarpet"
           }
          ],
          "scattergeo": [
           {
            "marker": {
             "colorbar": {
              "outlinewidth": 0,
              "ticks": ""
             }
            },
            "type": "scattergeo"
           }
          ],
          "scattergl": [
           {
            "marker": {
             "line": {
              "color": "#283442"
             }
            },
            "type": "scattergl"
           }
          ],
          "scattermapbox": [
           {
            "marker": {
             "colorbar": {
              "outlinewidth": 0,
              "ticks": ""
             }
            },
            "type": "scattermapbox"
           }
          ],
          "scatterpolar": [
           {
            "marker": {
             "colorbar": {
              "outlinewidth": 0,
              "ticks": ""
             }
            },
            "type": "scatterpolar"
           }
          ],
          "scatterpolargl": [
           {
            "marker": {
             "colorbar": {
              "outlinewidth": 0,
              "ticks": ""
             }
            },
            "type": "scatterpolargl"
           }
          ],
          "scatterternary": [
           {
            "marker": {
             "colorbar": {
              "outlinewidth": 0,
              "ticks": ""
             }
            },
            "type": "scatterternary"
           }
          ],
          "surface": [
           {
            "colorbar": {
             "outlinewidth": 0,
             "ticks": ""
            },
            "colorscale": [
             [
              0,
              "#0d0887"
             ],
             [
              0.1111111111111111,
              "#46039f"
             ],
             [
              0.2222222222222222,
              "#7201a8"
             ],
             [
              0.3333333333333333,
              "#9c179e"
             ],
             [
              0.4444444444444444,
              "#bd3786"
             ],
             [
              0.5555555555555556,
              "#d8576b"
             ],
             [
              0.6666666666666666,
              "#ed7953"
             ],
             [
              0.7777777777777778,
              "#fb9f3a"
             ],
             [
              0.8888888888888888,
              "#fdca26"
             ],
             [
              1,
              "#f0f921"
             ]
            ],
            "type": "surface"
           }
          ],
          "table": [
           {
            "cells": {
             "fill": {
              "color": "#506784"
             },
             "line": {
              "color": "rgb(17,17,17)"
             }
            },
            "header": {
             "fill": {
              "color": "#2a3f5f"
             },
             "line": {
              "color": "rgb(17,17,17)"
             }
            },
            "type": "table"
           }
          ]
         },
         "layout": {
          "annotationdefaults": {
           "arrowcolor": "#f2f5fa",
           "arrowhead": 0,
           "arrowwidth": 1
          },
          "autotypenumbers": "strict",
          "coloraxis": {
           "colorbar": {
            "outlinewidth": 0,
            "ticks": ""
           }
          },
          "colorscale": {
           "diverging": [
            [
             0,
             "#8e0152"
            ],
            [
             0.1,
             "#c51b7d"
            ],
            [
             0.2,
             "#de77ae"
            ],
            [
             0.3,
             "#f1b6da"
            ],
            [
             0.4,
             "#fde0ef"
            ],
            [
             0.5,
             "#f7f7f7"
            ],
            [
             0.6,
             "#e6f5d0"
            ],
            [
             0.7,
             "#b8e186"
            ],
            [
             0.8,
             "#7fbc41"
            ],
            [
             0.9,
             "#4d9221"
            ],
            [
             1,
             "#276419"
            ]
           ],
           "sequential": [
            [
             0,
             "#0d0887"
            ],
            [
             0.1111111111111111,
             "#46039f"
            ],
            [
             0.2222222222222222,
             "#7201a8"
            ],
            [
             0.3333333333333333,
             "#9c179e"
            ],
            [
             0.4444444444444444,
             "#bd3786"
            ],
            [
             0.5555555555555556,
             "#d8576b"
            ],
            [
             0.6666666666666666,
             "#ed7953"
            ],
            [
             0.7777777777777778,
             "#fb9f3a"
            ],
            [
             0.8888888888888888,
             "#fdca26"
            ],
            [
             1,
             "#f0f921"
            ]
           ],
           "sequentialminus": [
            [
             0,
             "#0d0887"
            ],
            [
             0.1111111111111111,
             "#46039f"
            ],
            [
             0.2222222222222222,
             "#7201a8"
            ],
            [
             0.3333333333333333,
             "#9c179e"
            ],
            [
             0.4444444444444444,
             "#bd3786"
            ],
            [
             0.5555555555555556,
             "#d8576b"
            ],
            [
             0.6666666666666666,
             "#ed7953"
            ],
            [
             0.7777777777777778,
             "#fb9f3a"
            ],
            [
             0.8888888888888888,
             "#fdca26"
            ],
            [
             1,
             "#f0f921"
            ]
           ]
          },
          "colorway": [
           "#636efa",
           "#EF553B",
           "#00cc96",
           "#ab63fa",
           "#FFA15A",
           "#19d3f3",
           "#FF6692",
           "#B6E880",
           "#FF97FF",
           "#FECB52"
          ],
          "font": {
           "color": "#f2f5fa"
          },
          "geo": {
           "bgcolor": "rgb(17,17,17)",
           "lakecolor": "rgb(17,17,17)",
           "landcolor": "rgb(17,17,17)",
           "showlakes": true,
           "showland": true,
           "subunitcolor": "#506784"
          },
          "hoverlabel": {
           "align": "left"
          },
          "hovermode": "closest",
          "mapbox": {
           "style": "dark"
          },
          "paper_bgcolor": "rgb(17,17,17)",
          "plot_bgcolor": "rgb(17,17,17)",
          "polar": {
           "angularaxis": {
            "gridcolor": "#506784",
            "linecolor": "#506784",
            "ticks": ""
           },
           "bgcolor": "rgb(17,17,17)",
           "radialaxis": {
            "gridcolor": "#506784",
            "linecolor": "#506784",
            "ticks": ""
           }
          },
          "scene": {
           "xaxis": {
            "backgroundcolor": "rgb(17,17,17)",
            "gridcolor": "#506784",
            "gridwidth": 2,
            "linecolor": "#506784",
            "showbackground": true,
            "ticks": "",
            "zerolinecolor": "#C8D4E3"
           },
           "yaxis": {
            "backgroundcolor": "rgb(17,17,17)",
            "gridcolor": "#506784",
            "gridwidth": 2,
            "linecolor": "#506784",
            "showbackground": true,
            "ticks": "",
            "zerolinecolor": "#C8D4E3"
           },
           "zaxis": {
            "backgroundcolor": "rgb(17,17,17)",
            "gridcolor": "#506784",
            "gridwidth": 2,
            "linecolor": "#506784",
            "showbackground": true,
            "ticks": "",
            "zerolinecolor": "#C8D4E3"
           }
          },
          "shapedefaults": {
           "line": {
            "color": "#f2f5fa"
           }
          },
          "sliderdefaults": {
           "bgcolor": "#C8D4E3",
           "bordercolor": "rgb(17,17,17)",
           "borderwidth": 1,
           "tickwidth": 0
          },
          "ternary": {
           "aaxis": {
            "gridcolor": "#506784",
            "linecolor": "#506784",
            "ticks": ""
           },
           "baxis": {
            "gridcolor": "#506784",
            "linecolor": "#506784",
            "ticks": ""
           },
           "bgcolor": "rgb(17,17,17)",
           "caxis": {
            "gridcolor": "#506784",
            "linecolor": "#506784",
            "ticks": ""
           }
          },
          "title": {
           "x": 0.05
          },
          "updatemenudefaults": {
           "bgcolor": "#506784",
           "borderwidth": 0
          },
          "xaxis": {
           "automargin": true,
           "gridcolor": "#283442",
           "linecolor": "#506784",
           "ticks": "",
           "title": {
            "standoff": 15
           },
           "zerolinecolor": "#283442",
           "zerolinewidth": 2
          },
          "yaxis": {
           "automargin": true,
           "gridcolor": "#283442",
           "linecolor": "#506784",
           "ticks": "",
           "title": {
            "standoff": 15
           },
           "zerolinecolor": "#283442",
           "zerolinewidth": 2
          }
         }
        },
        "title": {
         "text": "Added date categorised by tier"
        },
        "width": 580,
        "xaxis": {
         "anchor": "y",
         "domain": [
          0,
          1
         ],
         "nticks": 10,
         "range": [
          "2021-05-10T12:00:00",
          "2021-07-18T12:00:00"
         ],
         "tickangle": 60,
         "title": {
          "text": "Added date"
         }
        },
        "yaxis": {
         "anchor": "x",
         "domain": [
          0,
          1
         ],
         "title": {
          "text": "Number of exposure sites"
         }
        }
       }
      },
      "text/html": [
       "<div>                            <div id=\"e9464e65-887e-437e-93ff-d0d7a27031a8\" class=\"plotly-graph-div\" style=\"height:525px; width:580px;\"></div>            <script type=\"text/javascript\">                require([\"plotly\"], function(Plotly) {                    window.PLOTLYENV=window.PLOTLYENV || {};                                    if (document.getElementById(\"e9464e65-887e-437e-93ff-d0d7a27031a8\")) {                    Plotly.newPlot(                        \"e9464e65-887e-437e-93ff-d0d7a27031a8\",                        [{\"alignmentgroup\": \"True\", \"bingroup\": \"x\", \"hovertemplate\": \"tier=1<br>Added_date_dtm=%{x}<br>count=%{y}<extra></extra>\", \"legendgroup\": \"1\", \"marker\": {\"color\": \"rgb(228,26,28)\"}, \"name\": \"1\", \"nbinsx\": 69, \"offsetgroup\": \"1\", \"orientation\": \"v\", \"showlegend\": true, \"type\": \"histogram\", \"x\": [\"2021-07-12T00:00:00\", \"2021-05-31T00:00:00\", \"2021-06-05T00:00:00\", \"2021-06-04T00:00:00\", \"2021-06-04T00:00:00\", \"2021-06-04T00:00:00\", \"2021-06-02T00:00:00\", \"2021-06-02T00:00:00\", \"2021-06-01T00:00:00\", \"2021-06-06T00:00:00\", \"2021-06-06T00:00:00\", \"2021-06-06T00:00:00\", \"2021-06-06T00:00:00\", \"2021-06-06T00:00:00\", \"2021-06-06T00:00:00\", \"2021-06-05T00:00:00\", \"2021-06-05T00:00:00\", \"2021-06-05T00:00:00\", \"2021-05-28T00:00:00\", \"2021-06-15T00:00:00\", \"2021-06-16T00:00:00\", \"2021-06-12T00:00:00\", \"2021-06-11T00:00:00\", \"2021-06-09T00:00:00\", \"2021-06-09T00:00:00\", \"2021-06-09T00:00:00\", \"2021-06-09T00:00:00\", \"2021-06-09T00:00:00\", \"2021-05-31T00:00:00\", \"2021-06-01T00:00:00\", \"2021-06-01T00:00:00\", \"2021-06-02T00:00:00\", \"2021-05-31T00:00:00\", \"2021-05-31T00:00:00\", \"2021-05-31T00:00:00\", \"2021-05-31T00:00:00\", \"2021-05-31T00:00:00\", \"2021-05-31T00:00:00\", \"2021-05-30T00:00:00\", \"2021-05-30T00:00:00\", \"2021-05-30T00:00:00\", \"2021-05-30T00:00:00\", \"2021-05-30T00:00:00\", \"2021-05-30T00:00:00\", \"2021-05-30T00:00:00\", \"2021-06-09T00:00:00\", \"2021-05-30T00:00:00\", \"2021-05-30T00:00:00\", \"2021-05-31T00:00:00\", \"2021-05-31T00:00:00\", \"2021-05-31T00:00:00\", \"2021-05-31T00:00:00\", \"2021-05-31T00:00:00\", \"2021-05-31T00:00:00\", \"2021-05-31T00:00:00\", \"2021-05-31T00:00:00\", \"2021-05-31T00:00:00\", \"2021-05-31T00:00:00\", \"2021-05-31T00:00:00\", \"2021-05-31T00:00:00\", \"2021-05-30T00:00:00\", \"2021-06-02T00:00:00\", \"2021-06-09T00:00:00\", \"2021-06-09T00:00:00\", \"2021-06-15T00:00:00\", \"2021-06-15T00:00:00\", \"2021-06-15T00:00:00\", \"2021-06-15T00:00:00\", \"2021-06-15T00:00:00\", \"2021-06-15T00:00:00\", \"2021-07-14T00:00:00\", \"2021-07-18T00:00:00\", \"2021-07-18T00:00:00\", \"2021-07-18T00:00:00\", \"2021-07-18T00:00:00\", \"2021-07-17T00:00:00\", \"2021-07-17T00:00:00\", \"2021-07-17T00:00:00\", \"2021-07-17T00:00:00\", \"2021-07-17T00:00:00\", \"2021-07-15T00:00:00\", \"2021-07-18T00:00:00\", \"2021-07-18T00:00:00\", \"2021-07-18T00:00:00\", \"2021-07-18T00:00:00\", \"2021-07-18T00:00:00\", \"2021-07-18T00:00:00\", \"2021-07-18T00:00:00\", \"2021-07-18T00:00:00\", \"2021-07-18T00:00:00\", \"2021-07-18T00:00:00\", \"2021-06-15T00:00:00\", \"2021-06-15T00:00:00\", \"2021-06-15T00:00:00\", \"2021-06-15T00:00:00\", \"2021-06-09T00:00:00\", \"2021-06-09T00:00:00\", \"2021-06-09T00:00:00\", \"2021-06-09T00:00:00\", \"2021-06-09T00:00:00\", \"2021-06-09T00:00:00\", \"2021-06-09T00:00:00\", \"2021-06-09T00:00:00\", \"2021-06-09T00:00:00\", \"2021-06-09T00:00:00\", \"2021-06-09T00:00:00\", \"2021-06-09T00:00:00\", \"2021-06-05T00:00:00\", \"2021-06-09T00:00:00\", \"2021-05-30T00:00:00\", \"2021-06-15T00:00:00\", \"2021-06-15T00:00:00\", \"2021-06-15T00:00:00\", \"2021-06-15T00:00:00\", \"2021-06-27T00:00:00\", \"2021-06-27T00:00:00\", \"2021-06-26T00:00:00\", \"2021-06-24T00:00:00\", \"2021-06-24T00:00:00\", \"2021-06-24T00:00:00\", \"2021-06-24T00:00:00\", \"2021-06-15T00:00:00\", \"2021-06-15T00:00:00\", \"2021-06-16T00:00:00\", \"2021-06-02T00:00:00\", \"2021-06-04T00:00:00\", \"2021-06-04T00:00:00\", \"2021-05-31T00:00:00\", \"2021-05-31T00:00:00\", \"2021-05-31T00:00:00\", \"2021-05-31T00:00:00\", \"2021-05-31T00:00:00\", \"2021-05-31T00:00:00\", \"2021-05-31T00:00:00\", \"2021-05-31T00:00:00\", \"2021-05-30T00:00:00\", \"2021-05-30T00:00:00\", \"2021-05-30T00:00:00\", \"2021-05-30T00:00:00\", \"2021-05-30T00:00:00\", \"2021-05-30T00:00:00\", \"2021-05-30T00:00:00\", \"2021-05-30T00:00:00\", \"2021-05-30T00:00:00\", \"2021-05-30T00:00:00\", \"2021-05-30T00:00:00\", \"2021-05-30T00:00:00\", \"2021-05-30T00:00:00\", \"2021-05-30T00:00:00\", \"2021-05-30T00:00:00\", \"2021-05-30T00:00:00\", \"2021-05-30T00:00:00\", \"2021-05-29T00:00:00\", \"2021-05-30T00:00:00\", \"2021-05-31T00:00:00\", \"2021-06-01T00:00:00\", \"2021-06-01T00:00:00\", \"2021-06-01T00:00:00\", \"2021-06-01T00:00:00\", \"2021-06-01T00:00:00\", \"2021-05-31T00:00:00\", \"2021-05-31T00:00:00\", \"2021-05-31T00:00:00\", \"2021-05-31T00:00:00\", \"2021-05-30T00:00:00\", \"2021-05-29T00:00:00\", \"2021-05-28T00:00:00\", \"2021-05-27T00:00:00\", \"2021-05-27T00:00:00\", \"2021-05-27T00:00:00\", \"2021-05-27T00:00:00\", \"2021-05-29T00:00:00\", \"2021-05-27T00:00:00\", \"2021-05-26T00:00:00\", \"2021-05-26T00:00:00\", \"2021-05-26T00:00:00\", \"2021-05-26T00:00:00\", \"2021-05-26T00:00:00\", \"2021-05-26T00:00:00\", \"2021-05-26T00:00:00\", \"2021-05-26T00:00:00\", \"2021-05-26T00:00:00\", \"2021-06-02T00:00:00\", \"2021-06-02T00:00:00\", \"2021-06-02T00:00:00\", \"2021-06-03T00:00:00\", \"2021-05-27T00:00:00\", \"2021-05-28T00:00:00\", \"2021-05-28T00:00:00\", \"2021-05-28T00:00:00\", \"2021-05-26T00:00:00\", \"2021-05-26T00:00:00\", \"2021-05-26T00:00:00\", \"2021-05-26T00:00:00\", \"2021-05-26T00:00:00\", \"2021-05-26T00:00:00\", \"2021-05-26T00:00:00\", \"2021-05-26T00:00:00\", \"2021-05-28T00:00:00\", \"2021-05-26T00:00:00\", \"2021-05-26T00:00:00\", \"2021-05-18T00:00:00\", \"2021-05-26T00:00:00\", \"2021-05-26T00:00:00\", \"2021-05-26T00:00:00\", \"2021-05-24T00:00:00\", \"2021-05-24T00:00:00\", \"2021-05-24T00:00:00\", \"2021-05-24T00:00:00\", \"2021-05-24T00:00:00\", \"2021-05-26T00:00:00\", \"2021-05-24T00:00:00\", \"2021-05-24T00:00:00\", \"2021-05-24T00:00:00\", \"2021-05-26T00:00:00\", \"2021-05-24T00:00:00\", \"2021-05-26T00:00:00\", \"2021-06-09T00:00:00\", \"2021-05-24T00:00:00\", \"2021-07-18T00:00:00\", \"2021-05-26T00:00:00\", \"2021-05-27T00:00:00\", \"2021-05-28T00:00:00\", \"2021-05-28T00:00:00\", \"2021-05-28T00:00:00\", \"2021-05-28T00:00:00\", \"2021-05-28T00:00:00\", \"2021-05-28T00:00:00\", \"2021-05-28T00:00:00\", \"2021-05-28T00:00:00\", \"2021-05-28T00:00:00\", \"2021-05-28T00:00:00\", \"2021-05-28T00:00:00\", \"2021-05-28T00:00:00\", \"2021-05-28T00:00:00\", \"2021-05-26T00:00:00\", \"2021-05-28T00:00:00\", \"2021-05-28T00:00:00\", \"2021-05-28T00:00:00\", \"2021-05-28T00:00:00\", \"2021-05-28T00:00:00\", \"2021-05-27T00:00:00\", \"2021-05-27T00:00:00\", \"2021-05-27T00:00:00\", \"2021-05-27T00:00:00\", \"2021-05-27T00:00:00\", \"2021-05-27T00:00:00\", \"2021-05-27T00:00:00\", \"2021-05-27T00:00:00\", \"2021-05-27T00:00:00\", \"2021-05-28T00:00:00\", \"2021-07-18T00:00:00\", \"2021-06-09T00:00:00\", \"2021-07-18T00:00:00\", \"2021-07-14T00:00:00\", \"2021-07-14T00:00:00\", \"2021-07-14T00:00:00\", \"2021-07-14T00:00:00\", \"2021-07-15T00:00:00\", \"2021-07-14T00:00:00\", \"2021-07-17T00:00:00\", \"2021-07-17T00:00:00\", \"2021-07-17T00:00:00\", \"2021-07-14T00:00:00\", \"2021-07-14T00:00:00\", \"2021-07-17T00:00:00\", \"2021-07-17T00:00:00\", \"2021-07-15T00:00:00\", \"2021-07-17T00:00:00\", \"2021-07-17T00:00:00\", \"2021-07-17T00:00:00\", \"2021-07-17T00:00:00\", \"2021-07-17T00:00:00\", \"2021-07-17T00:00:00\", \"2021-07-15T00:00:00\", \"2021-07-14T00:00:00\", \"2021-07-14T00:00:00\", \"2021-07-17T00:00:00\", \"2021-07-17T00:00:00\", \"2021-07-16T00:00:00\", \"2021-07-17T00:00:00\", \"2021-07-16T00:00:00\", \"2021-07-16T00:00:00\", \"2021-07-16T00:00:00\", \"2021-07-14T00:00:00\", \"2021-07-18T00:00:00\", \"2021-07-14T00:00:00\", \"2021-07-16T00:00:00\", \"2021-07-16T00:00:00\", \"2021-07-17T00:00:00\", \"2021-07-15T00:00:00\", \"2021-07-17T00:00:00\", \"2021-07-17T00:00:00\", \"2021-07-17T00:00:00\", \"2021-07-17T00:00:00\", \"2021-07-15T00:00:00\", \"2021-07-17T00:00:00\", \"2021-07-17T00:00:00\", \"2021-07-17T00:00:00\", \"2021-07-14T00:00:00\", \"2021-07-14T00:00:00\", \"2021-07-17T00:00:00\", \"2021-07-17T00:00:00\", \"2021-07-17T00:00:00\", \"2021-07-15T00:00:00\", \"2021-07-15T00:00:00\", \"2021-07-15T00:00:00\", \"2021-07-15T00:00:00\", \"2021-07-17T00:00:00\", \"2021-07-17T00:00:00\", \"2021-07-17T00:00:00\", \"2021-07-17T00:00:00\", \"2021-07-17T00:00:00\", \"2021-07-15T00:00:00\", \"2021-07-14T00:00:00\", \"2021-07-17T00:00:00\", \"2021-07-14T00:00:00\", \"2021-07-14T00:00:00\", \"2021-07-17T00:00:00\", \"2021-07-15T00:00:00\", \"2021-07-14T00:00:00\", \"2021-07-14T00:00:00\", \"2021-07-14T00:00:00\", \"2021-07-14T00:00:00\", \"2021-07-15T00:00:00\", \"2021-07-17T00:00:00\", \"2021-07-17T00:00:00\", \"2021-07-17T00:00:00\", \"2021-07-14T00:00:00\", \"2021-07-15T00:00:00\", \"2021-07-15T00:00:00\", \"2021-07-14T00:00:00\", \"2021-07-16T00:00:00\", \"2021-07-16T00:00:00\", \"2021-07-18T00:00:00\", \"2021-07-16T00:00:00\", \"2021-07-15T00:00:00\", \"2021-07-16T00:00:00\", \"2021-07-18T00:00:00\", \"2021-07-16T00:00:00\", \"2021-07-17T00:00:00\", \"2021-07-18T00:00:00\", \"2021-07-18T00:00:00\", \"2021-07-16T00:00:00\", \"2021-07-12T00:00:00\", \"2021-07-18T00:00:00\", \"2021-07-15T00:00:00\", \"2021-07-16T00:00:00\", \"2021-07-18T00:00:00\", \"2021-07-12T00:00:00\", \"2021-07-18T00:00:00\", \"2021-07-18T00:00:00\", \"2021-07-15T00:00:00\", \"2021-07-18T00:00:00\", \"2021-07-18T00:00:00\", \"2021-07-16T00:00:00\", \"2021-07-16T00:00:00\", \"2021-07-18T00:00:00\", \"2021-07-12T00:00:00\", \"2021-07-12T00:00:00\", \"2021-07-16T00:00:00\", \"2021-07-12T00:00:00\", \"2021-07-17T00:00:00\", \"2021-07-17T00:00:00\", \"2021-07-18T00:00:00\", \"2021-07-12T00:00:00\", \"2021-07-18T00:00:00\", \"2021-07-18T00:00:00\", \"2021-07-18T00:00:00\", \"2021-07-15T00:00:00\", \"2021-07-18T00:00:00\", \"2021-07-16T00:00:00\", \"2021-07-18T00:00:00\", \"2021-07-18T00:00:00\", \"2021-07-14T00:00:00\", \"2021-07-14T00:00:00\", \"2021-07-18T00:00:00\", \"2021-07-18T00:00:00\", \"2021-07-17T00:00:00\", \"2021-07-14T00:00:00\", \"2021-07-14T00:00:00\", \"2021-07-14T00:00:00\", \"2021-07-15T00:00:00\", \"2021-07-16T00:00:00\", \"2021-07-16T00:00:00\", \"2021-07-18T00:00:00\", \"2021-07-18T00:00:00\", \"2021-07-18T00:00:00\", \"2021-07-15T00:00:00\", \"2021-07-15T00:00:00\", \"2021-07-13T00:00:00\", \"2021-07-18T00:00:00\", \"2021-07-16T00:00:00\", \"2021-07-13T00:00:00\", \"2021-07-12T00:00:00\", \"2021-07-16T00:00:00\", \"2021-07-16T00:00:00\", \"2021-07-15T00:00:00\", \"2021-07-15T00:00:00\", \"2021-07-15T00:00:00\", \"2021-07-18T00:00:00\", \"2021-07-18T00:00:00\", \"2021-07-14T00:00:00\", \"2021-07-16T00:00:00\"], \"xaxis\": \"x\", \"yaxis\": \"y\"}, {\"alignmentgroup\": \"True\", \"bingroup\": \"x\", \"hovertemplate\": \"tier=2<br>Added_date_dtm=%{x}<br>count=%{y}<extra></extra>\", \"legendgroup\": \"2\", \"marker\": {\"color\": \"rgb(55,126,184)\"}, \"name\": \"2\", \"nbinsx\": 69, \"offsetgroup\": \"2\", \"orientation\": \"v\", \"showlegend\": true, \"type\": \"histogram\", \"x\": [\"2021-05-26T00:00:00\", \"2021-07-15T00:00:00\", \"2021-05-27T00:00:00\", \"2021-05-27T00:00:00\", \"2021-05-27T00:00:00\", \"2021-05-27T00:00:00\", \"2021-05-27T00:00:00\", \"2021-05-27T00:00:00\", \"2021-05-25T00:00:00\", \"2021-07-15T00:00:00\", \"2021-05-31T00:00:00\", \"2021-07-16T00:00:00\", \"2021-07-16T00:00:00\", \"2021-07-16T00:00:00\", \"2021-05-31T00:00:00\", \"2021-05-31T00:00:00\", \"2021-05-31T00:00:00\", \"2021-05-31T00:00:00\", \"2021-07-16T00:00:00\", \"2021-05-30T00:00:00\", \"2021-07-16T00:00:00\", \"2021-05-30T00:00:00\", \"2021-05-30T00:00:00\", \"2021-05-30T00:00:00\", \"2021-07-16T00:00:00\", \"2021-07-16T00:00:00\", \"2021-05-30T00:00:00\", \"2021-05-30T00:00:00\", \"2021-06-09T00:00:00\", \"2021-06-09T00:00:00\", \"2021-06-04T00:00:00\", \"2021-06-01T00:00:00\", \"2021-07-15T00:00:00\", \"2021-06-01T00:00:00\", \"2021-06-09T00:00:00\", \"2021-07-15T00:00:00\", \"2021-07-15T00:00:00\", \"2021-07-15T00:00:00\", \"2021-07-15T00:00:00\", \"2021-07-15T00:00:00\", \"2021-05-24T00:00:00\", \"2021-05-25T00:00:00\", \"2021-05-24T00:00:00\", \"2021-07-15T00:00:00\", \"2021-05-25T00:00:00\", \"2021-07-15T00:00:00\", \"2021-07-15T00:00:00\", \"2021-07-15T00:00:00\", \"2021-05-24T00:00:00\", \"2021-05-25T00:00:00\", \"2021-05-25T00:00:00\", \"2021-05-25T00:00:00\", \"2021-07-16T00:00:00\", \"2021-07-16T00:00:00\", \"2021-05-25T00:00:00\", \"2021-05-26T00:00:00\", \"2021-06-03T00:00:00\", \"2021-07-15T00:00:00\", \"2021-05-29T00:00:00\", \"2021-07-15T00:00:00\", \"2021-05-26T00:00:00\", \"2021-05-26T00:00:00\", \"2021-05-26T00:00:00\", \"2021-05-24T00:00:00\", \"2021-05-24T00:00:00\", \"2021-05-24T00:00:00\", \"2021-05-24T00:00:00\", \"2021-05-24T00:00:00\", \"2021-05-24T00:00:00\", \"2021-07-14T00:00:00\", \"2021-06-07T00:00:00\", \"2021-07-14T00:00:00\", \"2021-06-06T00:00:00\", \"2021-06-04T00:00:00\", \"2021-06-03T00:00:00\", \"2021-06-03T00:00:00\", \"2021-06-03T00:00:00\", \"2021-07-14T00:00:00\", \"2021-07-14T00:00:00\", \"2021-06-02T00:00:00\", \"2021-07-14T00:00:00\", \"2021-06-01T00:00:00\", \"2021-07-14T00:00:00\", \"2021-06-01T00:00:00\", \"2021-06-06T00:00:00\", \"2021-07-14T00:00:00\", \"2021-07-14T00:00:00\", \"2021-05-27T00:00:00\", \"2021-06-06T00:00:00\", \"2021-06-06T00:00:00\", \"2021-06-06T00:00:00\", \"2021-06-06T00:00:00\", \"2021-06-01T00:00:00\", \"2021-06-01T00:00:00\", \"2021-05-31T00:00:00\", \"2021-05-31T00:00:00\", \"2021-05-31T00:00:00\", \"2021-07-12T00:00:00\", \"2021-05-30T00:00:00\", \"2021-05-30T00:00:00\", \"2021-05-30T00:00:00\", \"2021-05-30T00:00:00\", \"2021-05-30T00:00:00\", \"2021-05-30T00:00:00\", \"2021-05-30T00:00:00\", \"2021-05-30T00:00:00\", \"2021-05-29T00:00:00\", \"2021-05-29T00:00:00\", \"2021-05-28T00:00:00\", \"2021-05-28T00:00:00\", \"2021-05-28T00:00:00\", \"2021-05-28T00:00:00\", \"2021-05-27T00:00:00\", \"2021-07-14T00:00:00\", \"2021-07-15T00:00:00\", \"2021-05-31T00:00:00\", \"2021-05-31T00:00:00\", \"2021-05-30T00:00:00\", \"2021-07-14T00:00:00\", \"2021-05-29T00:00:00\", \"2021-05-29T00:00:00\", \"2021-05-29T00:00:00\", \"2021-05-29T00:00:00\", \"2021-05-29T00:00:00\", \"2021-05-29T00:00:00\", \"2021-05-29T00:00:00\", \"2021-05-29T00:00:00\", \"2021-06-04T00:00:00\", \"2021-05-30T00:00:00\", \"2021-07-14T00:00:00\", \"2021-07-14T00:00:00\", \"2021-07-14T00:00:00\", \"2021-07-14T00:00:00\", \"2021-07-14T00:00:00\", \"2021-07-15T00:00:00\", \"2021-07-15T00:00:00\", \"2021-05-27T00:00:00\", \"2021-05-27T00:00:00\", \"2021-05-27T00:00:00\", \"2021-05-27T00:00:00\", \"2021-07-15T00:00:00\", \"2021-07-14T00:00:00\", \"2021-07-14T00:00:00\", \"2021-05-30T00:00:00\", \"2021-05-30T00:00:00\", \"2021-05-30T00:00:00\", \"2021-05-30T00:00:00\", \"2021-05-30T00:00:00\", \"2021-05-30T00:00:00\", \"2021-05-30T00:00:00\", \"2021-05-30T00:00:00\", \"2021-05-30T00:00:00\", \"2021-05-30T00:00:00\", \"2021-05-30T00:00:00\", \"2021-05-30T00:00:00\", \"2021-05-30T00:00:00\", \"2021-05-30T00:00:00\", \"2021-05-30T00:00:00\", \"2021-05-30T00:00:00\", \"2021-05-30T00:00:00\", \"2021-05-30T00:00:00\", \"2021-05-30T00:00:00\", \"2021-07-14T00:00:00\", \"2021-05-30T00:00:00\", \"2021-05-30T00:00:00\", \"2021-05-30T00:00:00\", \"2021-05-30T00:00:00\", \"2021-05-30T00:00:00\", \"2021-05-30T00:00:00\", \"2021-05-30T00:00:00\", \"2021-05-31T00:00:00\", \"2021-06-04T00:00:00\", \"2021-05-30T00:00:00\", \"2021-06-07T00:00:00\", \"2021-06-13T00:00:00\", \"2021-06-12T00:00:00\", \"2021-06-16T00:00:00\", \"2021-06-16T00:00:00\", \"2021-06-16T00:00:00\", \"2021-06-16T00:00:00\", \"2021-06-16T00:00:00\", \"2021-06-16T00:00:00\", \"2021-06-16T00:00:00\", \"2021-06-16T00:00:00\", \"2021-06-16T00:00:00\", \"2021-06-15T00:00:00\", \"2021-06-15T00:00:00\", \"2021-06-15T00:00:00\", \"2021-06-15T00:00:00\", \"2021-06-15T00:00:00\", \"2021-06-15T00:00:00\", \"2021-06-15T00:00:00\", \"2021-06-15T00:00:00\", \"2021-06-15T00:00:00\", \"2021-06-15T00:00:00\", \"2021-06-15T00:00:00\", \"2021-06-15T00:00:00\", \"2021-06-15T00:00:00\", \"2021-06-15T00:00:00\", \"2021-06-15T00:00:00\", \"2021-06-15T00:00:00\", \"2021-06-13T00:00:00\", \"2021-06-15T00:00:00\", \"2021-06-15T00:00:00\", \"2021-06-15T00:00:00\", \"2021-07-17T00:00:00\", \"2021-07-17T00:00:00\", \"2021-06-09T00:00:00\", \"2021-06-07T00:00:00\", \"2021-06-07T00:00:00\", \"2021-06-07T00:00:00\", \"2021-06-07T00:00:00\", \"2021-06-07T00:00:00\", \"2021-06-07T00:00:00\", \"2021-06-07T00:00:00\", \"2021-06-07T00:00:00\", \"2021-06-07T00:00:00\", \"2021-06-06T00:00:00\", \"2021-06-06T00:00:00\", \"2021-06-06T00:00:00\", \"2021-06-06T00:00:00\", \"2021-06-05T00:00:00\", \"2021-06-05T00:00:00\", \"2021-06-05T00:00:00\", \"2021-06-05T00:00:00\", \"2021-06-05T00:00:00\", \"2021-05-31T00:00:00\", \"2021-06-15T00:00:00\", \"2021-06-15T00:00:00\", \"2021-06-15T00:00:00\", \"2021-06-15T00:00:00\", \"2021-06-15T00:00:00\", \"2021-06-15T00:00:00\", \"2021-07-18T00:00:00\", \"2021-07-18T00:00:00\", \"2021-07-18T00:00:00\", \"2021-07-10T00:00:00\", \"2021-07-16T00:00:00\", \"2021-07-16T00:00:00\", \"2021-07-18T00:00:00\", \"2021-07-18T00:00:00\", \"2021-07-17T00:00:00\", \"2021-07-18T00:00:00\", \"2021-07-18T00:00:00\", \"2021-07-16T00:00:00\", \"2021-07-16T00:00:00\", \"2021-07-16T00:00:00\", \"2021-07-18T00:00:00\", \"2021-07-18T00:00:00\", \"2021-07-18T00:00:00\", \"2021-07-18T00:00:00\", \"2021-07-18T00:00:00\", \"2021-07-18T00:00:00\", \"2021-07-18T00:00:00\", \"2021-07-18T00:00:00\", \"2021-07-18T00:00:00\", \"2021-07-18T00:00:00\", \"2021-07-18T00:00:00\", \"2021-07-18T00:00:00\", \"2021-07-18T00:00:00\", \"2021-07-18T00:00:00\", \"2021-07-18T00:00:00\", \"2021-07-18T00:00:00\", \"2021-07-15T00:00:00\", \"2021-07-16T00:00:00\", \"2021-07-16T00:00:00\", \"2021-07-16T00:00:00\", \"2021-06-27T00:00:00\", \"2021-06-27T00:00:00\", \"2021-06-26T00:00:00\", \"2021-06-26T00:00:00\", \"2021-06-26T00:00:00\", \"2021-06-26T00:00:00\", \"2021-07-18T00:00:00\", \"2021-06-25T00:00:00\", \"2021-06-24T00:00:00\", \"2021-06-24T00:00:00\", \"2021-06-24T00:00:00\", \"2021-06-24T00:00:00\", \"2021-06-24T00:00:00\", \"2021-07-17T00:00:00\", \"2021-06-24T00:00:00\", \"2021-06-24T00:00:00\", \"2021-06-24T00:00:00\", \"2021-06-24T00:00:00\", \"2021-06-24T00:00:00\", \"2021-07-18T00:00:00\", \"2021-07-18T00:00:00\", \"2021-06-16T00:00:00\", \"2021-06-16T00:00:00\", \"2021-07-18T00:00:00\", \"2021-07-18T00:00:00\", \"2021-07-18T00:00:00\", \"2021-07-14T00:00:00\", \"2021-07-18T00:00:00\", \"2021-06-24T00:00:00\", \"2021-07-17T00:00:00\", \"2021-06-06T00:00:00\", \"2021-07-17T00:00:00\", \"2021-06-07T00:00:00\", \"2021-06-06T00:00:00\", \"2021-06-06T00:00:00\", \"2021-06-06T00:00:00\", \"2021-07-16T00:00:00\", \"2021-06-05T00:00:00\", \"2021-06-05T00:00:00\", \"2021-06-05T00:00:00\", \"2021-06-05T00:00:00\", \"2021-07-17T00:00:00\", \"2021-06-05T00:00:00\", \"2021-06-05T00:00:00\", \"2021-06-05T00:00:00\", \"2021-06-05T00:00:00\", \"2021-06-05T00:00:00\", \"2021-06-05T00:00:00\", \"2021-06-05T00:00:00\", \"2021-06-04T00:00:00\", \"2021-06-04T00:00:00\", \"2021-06-04T00:00:00\", \"2021-06-02T00:00:00\", \"2021-06-01T00:00:00\", \"2021-06-01T00:00:00\", \"2021-06-06T00:00:00\", \"2021-07-17T00:00:00\", \"2021-06-05T00:00:00\", \"2021-06-15T00:00:00\", \"2021-06-07T00:00:00\", \"2021-06-15T00:00:00\", \"2021-06-07T00:00:00\", \"2021-06-07T00:00:00\", \"2021-07-16T00:00:00\", \"2021-05-31T00:00:00\", \"2021-05-31T00:00:00\", \"2021-07-16T00:00:00\", \"2021-05-31T00:00:00\", \"2021-05-31T00:00:00\", \"2021-07-16T00:00:00\", \"2021-05-31T00:00:00\", \"2021-07-16T00:00:00\", \"2021-05-31T00:00:00\", \"2021-07-16T00:00:00\", \"2021-07-16T00:00:00\", \"2021-05-30T00:00:00\", \"2021-05-29T00:00:00\", \"2021-06-10T00:00:00\", \"2021-06-10T00:00:00\", \"2021-06-01T00:00:00\", \"2021-07-16T00:00:00\", \"2021-05-31T00:00:00\", \"2021-05-30T00:00:00\", \"2021-05-29T00:00:00\", \"2021-06-11T00:00:00\", \"2021-06-11T00:00:00\", \"2021-06-10T00:00:00\", \"2021-06-07T00:00:00\", \"2021-06-07T00:00:00\", \"2021-06-07T00:00:00\", \"2021-06-07T00:00:00\", \"2021-06-15T00:00:00\", \"2021-06-11T00:00:00\", \"2021-06-15T00:00:00\", \"2021-06-12T00:00:00\", \"2021-06-12T00:00:00\", \"2021-06-12T00:00:00\", \"2021-06-11T00:00:00\", \"2021-06-15T00:00:00\", \"2021-06-11T00:00:00\", \"2021-06-11T00:00:00\", \"2021-06-11T00:00:00\", \"2021-06-11T00:00:00\", \"2021-06-11T00:00:00\", \"2021-06-11T00:00:00\", \"2021-06-11T00:00:00\", \"2021-06-11T00:00:00\", \"2021-06-11T00:00:00\", \"2021-06-11T00:00:00\", \"2021-06-11T00:00:00\", \"2021-06-11T00:00:00\", \"2021-06-11T00:00:00\", \"2021-06-11T00:00:00\", \"2021-06-11T00:00:00\", \"2021-06-11T00:00:00\", \"2021-06-10T00:00:00\", \"2021-06-10T00:00:00\", \"2021-06-10T00:00:00\", \"2021-06-09T00:00:00\", \"2021-06-09T00:00:00\", \"2021-06-09T00:00:00\", \"2021-06-09T00:00:00\", \"2021-07-17T00:00:00\", \"2021-06-12T00:00:00\", \"2021-06-13T00:00:00\", \"2021-06-11T00:00:00\", \"2021-06-16T00:00:00\", \"2021-06-15T00:00:00\", \"2021-06-14T00:00:00\", \"2021-06-14T00:00:00\", \"2021-06-15T00:00:00\", \"2021-06-15T00:00:00\", \"2021-06-16T00:00:00\", \"2021-06-16T00:00:00\", \"2021-06-14T00:00:00\", \"2021-06-13T00:00:00\", \"2021-06-16T00:00:00\", \"2021-06-15T00:00:00\", \"2021-06-13T00:00:00\", \"2021-06-13T00:00:00\"], \"xaxis\": \"x\", \"yaxis\": \"y\"}, {\"alignmentgroup\": \"True\", \"bingroup\": \"x\", \"hovertemplate\": \"tier=3<br>Added_date_dtm=%{x}<br>count=%{y}<extra></extra>\", \"legendgroup\": \"3\", \"marker\": {\"color\": \"rgb(77,175,74)\"}, \"name\": \"3\", \"nbinsx\": 69, \"offsetgroup\": \"3\", \"orientation\": \"v\", \"showlegend\": true, \"type\": \"histogram\", \"x\": [\"2021-05-29T00:00:00\", \"2021-05-31T00:00:00\", \"2021-07-15T00:00:00\", \"2021-05-31T00:00:00\", \"2021-05-29T00:00:00\", \"2021-07-16T00:00:00\", \"2021-06-24T00:00:00\", \"2021-07-14T00:00:00\", \"2021-07-14T00:00:00\", \"2021-07-14T00:00:00\", \"2021-07-12T00:00:00\", \"2021-07-14T00:00:00\", \"2021-07-14T00:00:00\", \"2021-07-14T00:00:00\", \"2021-05-29T00:00:00\", \"2021-07-14T00:00:00\", \"2021-06-08T00:00:00\", \"2021-07-14T00:00:00\", \"2021-07-18T00:00:00\", \"2021-05-31T00:00:00\", \"2021-07-15T00:00:00\", \"2021-05-31T00:00:00\", \"2021-05-31T00:00:00\", \"2021-05-31T00:00:00\", \"2021-07-16T00:00:00\", \"2021-07-16T00:00:00\", \"2021-07-16T00:00:00\", \"2021-06-24T00:00:00\", \"2021-06-16T00:00:00\", \"2021-07-16T00:00:00\", \"2021-05-26T00:00:00\", \"2021-06-16T00:00:00\", \"2021-07-16T00:00:00\", \"2021-05-26T00:00:00\", \"2021-07-17T00:00:00\", \"2021-06-27T00:00:00\", \"2021-07-14T00:00:00\", \"2021-06-15T00:00:00\", \"2021-06-27T00:00:00\", \"2021-07-14T00:00:00\", \"2021-07-14T00:00:00\", \"2021-05-27T00:00:00\", \"2021-05-27T00:00:00\", \"2021-06-24T00:00:00\", \"2021-07-14T00:00:00\", \"2021-05-31T00:00:00\", \"2021-07-16T00:00:00\", \"2021-07-14T00:00:00\", \"2021-05-31T00:00:00\"], \"xaxis\": \"x\", \"yaxis\": \"y\"}],                        {\"annotations\": [{\"ax\": 10, \"ay\": 20, \"showarrow\": false, \"text\": \"  5km\", \"x\": \"2021-05-27\", \"xanchor\": \"left\", \"y\": 80}, {\"ax\": 10, \"ay\": 20, \"showarrow\": false, \"text\": \"  10km\", \"x\": \"2021-06-03\", \"xanchor\": \"left\", \"y\": 70}, {\"ax\": 10, \"ay\": 20, \"showarrow\": false, \"text\": \"  25km\", \"x\": \"2021-06-10\", \"xanchor\": \"left\", \"y\": 60}, {\"ax\": 10, \"ay\": 20, \"showarrow\": false, \"text\": \"  5km\", \"x\": \"2021-07-15\", \"xanchor\": \"right\", \"y\": 80}], \"bargap\": 0.2, \"barmode\": \"relative\", \"legend\": {\"title\": {\"text\": \"tier\"}, \"tracegroupgap\": 0}, \"shapes\": [{\"type\": \"line\", \"x0\": \"2021-05-27T12:00:00\", \"x1\": \"2021-05-27T12:00:00\", \"xref\": \"x\", \"y0\": 0, \"y1\": 1, \"yref\": \"y domain\"}, {\"type\": \"line\", \"x0\": \"2021-06-03T12:00:00\", \"x1\": \"2021-06-03T12:00:00\", \"xref\": \"x\", \"y0\": 0, \"y1\": 1, \"yref\": \"y domain\"}, {\"type\": \"line\", \"x0\": \"2021-06-10T12:00:00\", \"x1\": \"2021-06-10T12:00:00\", \"xref\": \"x\", \"y0\": 0, \"y1\": 1, \"yref\": \"y domain\"}, {\"type\": \"line\", \"x0\": \"2021-07-15T12:00:00\", \"x1\": \"2021-07-15T12:00:00\", \"xref\": \"x\", \"y0\": 0, \"y1\": 1, \"yref\": \"y domain\"}], \"template\": {\"data\": {\"bar\": [{\"error_x\": {\"color\": \"#f2f5fa\"}, \"error_y\": {\"color\": \"#f2f5fa\"}, \"marker\": {\"line\": {\"color\": \"rgb(17,17,17)\", \"width\": 0.5}}, \"type\": \"bar\"}], \"barpolar\": [{\"marker\": {\"line\": {\"color\": \"rgb(17,17,17)\", \"width\": 0.5}}, \"type\": \"barpolar\"}], \"carpet\": [{\"aaxis\": {\"endlinecolor\": \"#A2B1C6\", \"gridcolor\": \"#506784\", \"linecolor\": \"#506784\", \"minorgridcolor\": \"#506784\", \"startlinecolor\": \"#A2B1C6\"}, \"baxis\": {\"endlinecolor\": \"#A2B1C6\", \"gridcolor\": \"#506784\", \"linecolor\": \"#506784\", \"minorgridcolor\": \"#506784\", \"startlinecolor\": \"#A2B1C6\"}, \"type\": \"carpet\"}], \"choropleth\": [{\"colorbar\": {\"outlinewidth\": 0, \"ticks\": \"\"}, \"type\": \"choropleth\"}], \"contour\": [{\"colorbar\": {\"outlinewidth\": 0, \"ticks\": \"\"}, \"colorscale\": [[0.0, \"#0d0887\"], [0.1111111111111111, \"#46039f\"], [0.2222222222222222, \"#7201a8\"], [0.3333333333333333, \"#9c179e\"], [0.4444444444444444, \"#bd3786\"], [0.5555555555555556, \"#d8576b\"], [0.6666666666666666, \"#ed7953\"], [0.7777777777777778, \"#fb9f3a\"], [0.8888888888888888, \"#fdca26\"], [1.0, \"#f0f921\"]], \"type\": \"contour\"}], \"contourcarpet\": [{\"colorbar\": {\"outlinewidth\": 0, \"ticks\": \"\"}, \"type\": \"contourcarpet\"}], \"heatmap\": [{\"colorbar\": {\"outlinewidth\": 0, \"ticks\": \"\"}, \"colorscale\": [[0.0, \"#0d0887\"], [0.1111111111111111, \"#46039f\"], [0.2222222222222222, \"#7201a8\"], [0.3333333333333333, \"#9c179e\"], [0.4444444444444444, \"#bd3786\"], [0.5555555555555556, \"#d8576b\"], [0.6666666666666666, \"#ed7953\"], [0.7777777777777778, \"#fb9f3a\"], [0.8888888888888888, \"#fdca26\"], [1.0, \"#f0f921\"]], \"type\": \"heatmap\"}], \"heatmapgl\": [{\"colorbar\": {\"outlinewidth\": 0, \"ticks\": \"\"}, \"colorscale\": [[0.0, \"#0d0887\"], [0.1111111111111111, \"#46039f\"], [0.2222222222222222, \"#7201a8\"], [0.3333333333333333, \"#9c179e\"], [0.4444444444444444, \"#bd3786\"], [0.5555555555555556, \"#d8576b\"], [0.6666666666666666, \"#ed7953\"], [0.7777777777777778, \"#fb9f3a\"], [0.8888888888888888, \"#fdca26\"], [1.0, \"#f0f921\"]], \"type\": \"heatmapgl\"}], \"histogram\": [{\"marker\": {\"colorbar\": {\"outlinewidth\": 0, \"ticks\": \"\"}}, \"type\": \"histogram\"}], \"histogram2d\": [{\"colorbar\": {\"outlinewidth\": 0, \"ticks\": \"\"}, \"colorscale\": [[0.0, \"#0d0887\"], [0.1111111111111111, \"#46039f\"], [0.2222222222222222, \"#7201a8\"], [0.3333333333333333, \"#9c179e\"], [0.4444444444444444, \"#bd3786\"], [0.5555555555555556, \"#d8576b\"], [0.6666666666666666, \"#ed7953\"], [0.7777777777777778, \"#fb9f3a\"], [0.8888888888888888, \"#fdca26\"], [1.0, \"#f0f921\"]], \"type\": \"histogram2d\"}], \"histogram2dcontour\": [{\"colorbar\": {\"outlinewidth\": 0, \"ticks\": \"\"}, \"colorscale\": [[0.0, \"#0d0887\"], [0.1111111111111111, \"#46039f\"], [0.2222222222222222, \"#7201a8\"], [0.3333333333333333, \"#9c179e\"], [0.4444444444444444, \"#bd3786\"], [0.5555555555555556, \"#d8576b\"], [0.6666666666666666, \"#ed7953\"], [0.7777777777777778, \"#fb9f3a\"], [0.8888888888888888, \"#fdca26\"], [1.0, \"#f0f921\"]], \"type\": \"histogram2dcontour\"}], \"mesh3d\": [{\"colorbar\": {\"outlinewidth\": 0, \"ticks\": \"\"}, \"type\": \"mesh3d\"}], \"parcoords\": [{\"line\": {\"colorbar\": {\"outlinewidth\": 0, \"ticks\": \"\"}}, \"type\": \"parcoords\"}], \"pie\": [{\"automargin\": true, \"type\": \"pie\"}], \"scatter\": [{\"marker\": {\"line\": {\"color\": \"#283442\"}}, \"type\": \"scatter\"}], \"scatter3d\": [{\"line\": {\"colorbar\": {\"outlinewidth\": 0, \"ticks\": \"\"}}, \"marker\": {\"colorbar\": {\"outlinewidth\": 0, \"ticks\": \"\"}}, \"type\": \"scatter3d\"}], \"scattercarpet\": [{\"marker\": {\"colorbar\": {\"outlinewidth\": 0, \"ticks\": \"\"}}, \"type\": \"scattercarpet\"}], \"scattergeo\": [{\"marker\": {\"colorbar\": {\"outlinewidth\": 0, \"ticks\": \"\"}}, \"type\": \"scattergeo\"}], \"scattergl\": [{\"marker\": {\"line\": {\"color\": \"#283442\"}}, \"type\": \"scattergl\"}], \"scattermapbox\": [{\"marker\": {\"colorbar\": {\"outlinewidth\": 0, \"ticks\": \"\"}}, \"type\": \"scattermapbox\"}], \"scatterpolar\": [{\"marker\": {\"colorbar\": {\"outlinewidth\": 0, \"ticks\": \"\"}}, \"type\": \"scatterpolar\"}], \"scatterpolargl\": [{\"marker\": {\"colorbar\": {\"outlinewidth\": 0, \"ticks\": \"\"}}, \"type\": \"scatterpolargl\"}], \"scatterternary\": [{\"marker\": {\"colorbar\": {\"outlinewidth\": 0, \"ticks\": \"\"}}, \"type\": \"scatterternary\"}], \"surface\": [{\"colorbar\": {\"outlinewidth\": 0, \"ticks\": \"\"}, \"colorscale\": [[0.0, \"#0d0887\"], [0.1111111111111111, \"#46039f\"], [0.2222222222222222, \"#7201a8\"], [0.3333333333333333, \"#9c179e\"], [0.4444444444444444, \"#bd3786\"], [0.5555555555555556, \"#d8576b\"], [0.6666666666666666, \"#ed7953\"], [0.7777777777777778, \"#fb9f3a\"], [0.8888888888888888, \"#fdca26\"], [1.0, \"#f0f921\"]], \"type\": \"surface\"}], \"table\": [{\"cells\": {\"fill\": {\"color\": \"#506784\"}, \"line\": {\"color\": \"rgb(17,17,17)\"}}, \"header\": {\"fill\": {\"color\": \"#2a3f5f\"}, \"line\": {\"color\": \"rgb(17,17,17)\"}}, \"type\": \"table\"}]}, \"layout\": {\"annotationdefaults\": {\"arrowcolor\": \"#f2f5fa\", \"arrowhead\": 0, \"arrowwidth\": 1}, \"autotypenumbers\": \"strict\", \"coloraxis\": {\"colorbar\": {\"outlinewidth\": 0, \"ticks\": \"\"}}, \"colorscale\": {\"diverging\": [[0, \"#8e0152\"], [0.1, \"#c51b7d\"], [0.2, \"#de77ae\"], [0.3, \"#f1b6da\"], [0.4, \"#fde0ef\"], [0.5, \"#f7f7f7\"], [0.6, \"#e6f5d0\"], [0.7, \"#b8e186\"], [0.8, \"#7fbc41\"], [0.9, \"#4d9221\"], [1, \"#276419\"]], \"sequential\": [[0.0, \"#0d0887\"], [0.1111111111111111, \"#46039f\"], [0.2222222222222222, \"#7201a8\"], [0.3333333333333333, \"#9c179e\"], [0.4444444444444444, \"#bd3786\"], [0.5555555555555556, \"#d8576b\"], [0.6666666666666666, \"#ed7953\"], [0.7777777777777778, \"#fb9f3a\"], [0.8888888888888888, \"#fdca26\"], [1.0, \"#f0f921\"]], \"sequentialminus\": [[0.0, \"#0d0887\"], [0.1111111111111111, \"#46039f\"], [0.2222222222222222, \"#7201a8\"], [0.3333333333333333, \"#9c179e\"], [0.4444444444444444, \"#bd3786\"], [0.5555555555555556, \"#d8576b\"], [0.6666666666666666, \"#ed7953\"], [0.7777777777777778, \"#fb9f3a\"], [0.8888888888888888, \"#fdca26\"], [1.0, \"#f0f921\"]]}, \"colorway\": [\"#636efa\", \"#EF553B\", \"#00cc96\", \"#ab63fa\", \"#FFA15A\", \"#19d3f3\", \"#FF6692\", \"#B6E880\", \"#FF97FF\", \"#FECB52\"], \"font\": {\"color\": \"#f2f5fa\"}, \"geo\": {\"bgcolor\": \"rgb(17,17,17)\", \"lakecolor\": \"rgb(17,17,17)\", \"landcolor\": \"rgb(17,17,17)\", \"showlakes\": true, \"showland\": true, \"subunitcolor\": \"#506784\"}, \"hoverlabel\": {\"align\": \"left\"}, \"hovermode\": \"closest\", \"mapbox\": {\"style\": \"dark\"}, \"paper_bgcolor\": \"rgb(17,17,17)\", \"plot_bgcolor\": \"rgb(17,17,17)\", \"polar\": {\"angularaxis\": {\"gridcolor\": \"#506784\", \"linecolor\": \"#506784\", \"ticks\": \"\"}, \"bgcolor\": \"rgb(17,17,17)\", \"radialaxis\": {\"gridcolor\": \"#506784\", \"linecolor\": \"#506784\", \"ticks\": \"\"}}, \"scene\": {\"xaxis\": {\"backgroundcolor\": \"rgb(17,17,17)\", \"gridcolor\": \"#506784\", \"gridwidth\": 2, \"linecolor\": \"#506784\", \"showbackground\": true, \"ticks\": \"\", \"zerolinecolor\": \"#C8D4E3\"}, \"yaxis\": {\"backgroundcolor\": \"rgb(17,17,17)\", \"gridcolor\": \"#506784\", \"gridwidth\": 2, \"linecolor\": \"#506784\", \"showbackground\": true, \"ticks\": \"\", \"zerolinecolor\": \"#C8D4E3\"}, \"zaxis\": {\"backgroundcolor\": \"rgb(17,17,17)\", \"gridcolor\": \"#506784\", \"gridwidth\": 2, \"linecolor\": \"#506784\", \"showbackground\": true, \"ticks\": \"\", \"zerolinecolor\": \"#C8D4E3\"}}, \"shapedefaults\": {\"line\": {\"color\": \"#f2f5fa\"}}, \"sliderdefaults\": {\"bgcolor\": \"#C8D4E3\", \"bordercolor\": \"rgb(17,17,17)\", \"borderwidth\": 1, \"tickwidth\": 0}, \"ternary\": {\"aaxis\": {\"gridcolor\": \"#506784\", \"linecolor\": \"#506784\", \"ticks\": \"\"}, \"baxis\": {\"gridcolor\": \"#506784\", \"linecolor\": \"#506784\", \"ticks\": \"\"}, \"bgcolor\": \"rgb(17,17,17)\", \"caxis\": {\"gridcolor\": \"#506784\", \"linecolor\": \"#506784\", \"ticks\": \"\"}}, \"title\": {\"x\": 0.05}, \"updatemenudefaults\": {\"bgcolor\": \"#506784\", \"borderwidth\": 0}, \"xaxis\": {\"automargin\": true, \"gridcolor\": \"#283442\", \"linecolor\": \"#506784\", \"ticks\": \"\", \"title\": {\"standoff\": 15}, \"zerolinecolor\": \"#283442\", \"zerolinewidth\": 2}, \"yaxis\": {\"automargin\": true, \"gridcolor\": \"#283442\", \"linecolor\": \"#506784\", \"ticks\": \"\", \"title\": {\"standoff\": 15}, \"zerolinecolor\": \"#283442\", \"zerolinewidth\": 2}}}, \"title\": {\"text\": \"Added date categorised by tier\"}, \"width\": 580, \"xaxis\": {\"anchor\": \"y\", \"domain\": [0.0, 1.0], \"nticks\": 10, \"range\": [\"2021-05-10T12:00:00\", \"2021-07-18T12:00:00\"], \"tickangle\": 60, \"title\": {\"text\": \"Added date\"}}, \"yaxis\": {\"anchor\": \"x\", \"domain\": [0.0, 1.0], \"title\": {\"text\": \"Number of exposure sites\"}}},                        {\"responsive\": true}                    ).then(function(){\n",
       "                            \n",
       "var gd = document.getElementById('e9464e65-887e-437e-93ff-d0d7a27031a8');\n",
       "var x = new MutationObserver(function (mutations, observer) {{\n",
       "        var display = window.getComputedStyle(gd).display;\n",
       "        if (!display || display === 'none') {{\n",
       "            console.log([gd, 'removed!']);\n",
       "            Plotly.purge(gd);\n",
       "            observer.disconnect();\n",
       "        }}\n",
       "}});\n",
       "\n",
       "// Listen for the removal of the full notebook cells\n",
       "var notebookContainer = gd.closest('#notebook-container');\n",
       "if (notebookContainer) {{\n",
       "    x.observe(notebookContainer, {childList: true});\n",
       "}}\n",
       "\n",
       "// Listen for the clearing of the current output cell\n",
       "var outputEl = gd.closest('.output');\n",
       "if (outputEl) {{\n",
       "    x.observe(outputEl, {childList: true});\n",
       "}}\n",
       "\n",
       "                        })                };                });            </script>        </div>"
      ]
     },
     "metadata": {},
     "output_type": "display_data"
    }
   ],
   "source": [
    "fig_added = px.histogram(df_official.sort_values(by='tier'), \n",
    "                        x='Added_date_dtm', template='plotly_dark', \n",
    "                        color='tier', color_discrete_sequence=px.colors.qualitative.Set1[0:3], \n",
    "                        title='Added date categorised by tier', nbins=nbins.days+1)\n",
    "fig_added.add_vline(x=dt.datetime(2021, 5, 27, 12, 0))\n",
    "fig_added.add_annotation(x = '2021-05-27', y= 80, text='  5km', xanchor='left', ax=10, ay=20, showarrow=False)\n",
    "fig_added.add_vline(x=dt.datetime(2021, 6, 3, 12, 0))\n",
    "fig_added.add_annotation(x = '2021-06-03', y= 70, text='  10km', xanchor='left', ax=10, ay=20, showarrow=False)\n",
    "fig_added.add_vline(x=dt.datetime(2021, 6, 10, 12, 0))\n",
    "fig_added.add_annotation(x = '2021-06-10', y= 60, text='  25km', xanchor='left', ax=10, ay=20, showarrow=False)\n",
    "fig_added.add_vline(x=dt.datetime(2021, 7, 15, 12, 0))\n",
    "fig_added.add_annotation(x = '2021-07-15', y= 80, text='  5km', xanchor='right', ax=10, ay=20, showarrow=False)\n",
    "\n",
    "\n",
    "fig_added.update_layout(\n",
    "    bargap=0.2, # gap between bars of adjacent location coordinates\n",
    "    xaxis_title = \"Added date\", \n",
    "    yaxis_title = \"Number of exposure sites\", \n",
    "    width = width\n",
    ")\n",
    "\n",
    "\n",
    "fig_added.update_xaxes(\n",
    "    tickangle = 60, \n",
    "    nticks = 10,\n",
    "    range=[df_official.Exposure_date_dtm.min() - dt.timedelta(hours=12), df_official.Added_date_dtm.max() + dt.timedelta(hours=12)]\n",
    ")\n",
    "\n",
    "fig_added.show()"
   ]
  },
  {
   "cell_type": "code",
   "execution_count": 651,
   "metadata": {},
   "outputs": [
    {
     "data": {
      "application/vnd.plotly.v1+json": {
       "config": {
        "plotlyServerURL": "https://plot.ly"
       },
       "data": [
        {
         "alignmentgroup": "True",
         "bingroup": "x",
         "hovertemplate": "date_delay=%{x}<br>count=%{y}<extra></extra>",
         "legendgroup": "",
         "marker": {
          "color": "rgb(55,126,184)"
         },
         "name": "",
         "offsetgroup": "",
         "orientation": "v",
         "showlegend": false,
         "type": "histogram",
         "x": [
          4,
          2,
          3,
          2,
          1,
          0,
          1,
          2,
          4,
          4,
          5,
          5,
          4,
          5,
          5,
          5,
          5,
          5,
          5,
          4,
          5,
          4,
          5,
          5,
          1,
          3,
          5,
          5,
          1,
          2,
          2,
          2,
          2,
          6,
          6,
          6,
          6,
          6,
          6,
          3,
          5,
          5,
          5,
          5,
          5,
          5,
          5,
          5,
          5,
          5,
          4,
          4,
          4,
          4,
          4,
          4,
          4,
          4,
          4,
          4,
          4,
          3,
          3,
          3,
          3,
          2,
          2,
          2,
          4,
          0,
          3,
          2,
          1,
          2,
          6,
          6,
          6,
          6,
          5,
          4,
          3,
          1,
          6,
          2,
          2,
          6,
          3,
          3,
          3,
          2,
          2,
          5,
          5,
          3,
          3,
          3,
          3,
          3,
          3,
          1,
          3,
          3,
          5,
          3,
          3,
          2,
          3,
          3,
          3,
          2,
          3,
          2,
          3,
          3,
          3,
          3,
          4,
          4,
          4,
          4,
          4,
          4,
          4,
          2,
          2,
          2,
          4,
          3,
          2,
          2,
          3,
          4,
          3,
          3,
          3,
          4,
          3,
          1,
          3,
          4,
          2,
          2,
          1,
          7,
          2,
          1,
          1,
          2,
          2,
          2,
          2,
          1,
          3,
          2,
          2,
          3,
          2,
          1,
          3,
          1,
          2,
          1,
          4,
          5,
          4,
          4,
          4,
          4,
          4,
          4,
          4,
          3,
          3,
          4,
          2,
          4,
          3,
          3,
          4,
          5,
          3,
          1,
          2,
          4,
          2,
          3,
          4,
          3,
          4,
          4,
          2,
          2,
          5,
          2,
          3,
          3,
          3,
          3,
          2,
          4,
          3,
          3,
          3,
          3,
          2,
          4,
          2,
          2,
          4,
          4,
          4,
          4,
          3,
          3,
          4,
          4,
          3,
          4,
          5,
          5,
          2,
          5,
          4,
          3,
          4,
          5,
          5,
          4,
          5,
          5,
          5,
          6,
          4,
          4,
          4,
          4,
          4,
          1,
          3,
          2,
          3,
          4,
          4,
          7,
          7,
          7,
          7,
          6,
          6,
          6,
          6,
          6,
          5,
          5,
          4,
          7,
          5,
          3,
          3,
          3,
          4,
          4,
          4,
          4,
          3,
          4,
          4,
          2,
          4,
          4,
          3,
          7,
          7,
          7,
          3,
          3,
          3,
          3,
          2,
          3,
          3,
          4,
          2,
          3,
          3,
          4,
          2,
          4,
          5,
          5,
          4,
          4,
          4,
          3,
          1,
          3,
          8,
          5,
          2,
          2,
          1,
          4,
          4,
          4,
          12,
          11,
          10,
          9,
          8,
          7,
          6,
          5,
          4,
          3,
          2,
          1,
          1,
          1,
          3,
          2,
          1,
          4,
          4,
          4,
          4,
          3,
          2,
          2,
          4,
          2,
          4,
          4,
          1,
          1,
          4,
          4,
          3,
          1,
          1,
          0,
          0,
          0,
          2,
          1,
          2,
          1,
          2,
          1,
          13,
          2,
          2,
          2,
          2,
          2,
          2,
          3,
          3,
          2,
          2,
          3,
          2,
          3,
          3,
          3,
          3,
          3,
          3,
          3,
          3,
          3,
          3,
          3,
          3,
          3,
          2,
          4,
          4,
          4,
          4,
          4,
          4,
          1,
          2,
          2,
          4,
          4,
          4,
          4,
          4,
          4,
          4,
          4,
          4,
          4,
          5,
          2,
          2,
          3,
          3,
          2,
          3,
          3,
          3,
          2,
          2,
          4,
          4,
          4,
          4,
          3,
          3,
          2,
          2,
          1,
          1,
          1,
          4,
          9,
          8,
          7,
          6,
          5,
          4,
          14,
          13,
          12,
          11,
          14,
          13,
          12,
          11,
          10,
          9,
          8,
          7,
          6,
          5,
          4,
          10,
          1,
          2,
          2,
          1,
          4,
          3,
          5,
          19,
          18,
          20,
          21,
          21,
          21,
          21,
          6,
          4,
          16,
          23,
          22,
          21,
          24,
          15,
          17,
          15,
          11,
          11,
          4,
          4,
          4,
          4,
          25,
          3,
          3,
          4,
          4,
          24,
          27,
          27,
          5,
          5,
          5,
          3,
          4,
          4,
          4,
          4,
          5,
          5,
          4,
          4,
          2,
          2,
          3,
          1,
          4,
          4,
          3,
          2,
          7,
          6,
          5,
          4,
          3,
          2,
          10,
          2,
          2,
          1,
          3,
          5,
          2,
          4,
          4,
          4,
          5,
          4,
          5,
          5,
          5,
          5,
          5,
          5,
          5,
          4,
          5,
          7,
          5,
          7,
          5,
          7,
          7,
          7,
          8,
          8,
          8,
          8,
          8,
          8,
          8,
          8,
          10,
          20,
          20,
          1,
          2,
          3,
          3,
          3,
          4,
          4,
          4,
          5,
          13,
          13,
          2,
          2,
          2,
          3,
          3,
          4,
          4,
          4,
          5,
          4,
          4,
          4,
          4,
          4,
          3,
          3,
          4,
          4,
          3,
          4,
          4,
          4,
          4,
          4,
          4,
          4,
          8,
          8,
          8,
          13,
          1,
          4,
          4,
          4,
          4,
          3,
          4,
          3,
          4,
          4,
          4,
          4,
          4,
          4,
          4,
          4,
          4,
          5,
          5,
          5,
          5,
          5,
          5,
          5,
          5,
          5,
          5,
          5,
          6,
          6,
          7,
          7,
          8,
          9,
          9,
          14,
          1,
          2,
          3,
          5,
          6,
          6,
          7,
          5,
          6,
          6,
          5,
          6,
          6,
          6,
          4,
          4,
          4,
          4,
          4,
          4,
          3,
          5,
          2,
          2,
          3,
          0,
          8,
          4,
          8,
          6,
          9,
          5,
          4,
          3,
          2,
          1,
          2,
          5,
          2,
          5,
          5,
          5,
          6,
          13,
          13,
          13,
          2,
          3,
          3,
          3,
          3,
          7,
          6,
          3,
          3,
          6,
          2,
          3,
          3,
          2,
          2,
          14,
          3,
          2,
          3,
          4,
          3,
          4,
          3,
          4,
          4,
          3,
          2,
          5,
          3,
          2,
          10,
          10,
          10,
          10,
          3,
          9,
          9,
          9,
          9,
          9,
          4,
          13,
          4,
          4,
          5,
          4,
          5,
          4,
          3,
          3,
          3,
          3,
          3,
          9,
          4,
          6,
          11,
          5,
          7,
          5,
          5,
          4,
          13,
          12,
          11,
          12,
          5,
          4,
          6,
          12,
          10,
          9,
          6,
          5,
          4,
          13,
          18,
          17,
          10,
          4,
          11,
          8,
          6,
          13,
          9,
          6,
          6,
          6,
          6,
          15,
          15,
          10,
          12,
          6,
          5,
          5,
          5,
          6,
          6,
          10,
          6,
          5,
          4,
          3,
          2,
          5,
          4,
          3,
          2,
          19,
          20,
          20,
          20,
          16,
          6,
          14,
          8,
          8,
          8,
          7,
          8,
          9,
          9,
          8,
          8,
          9,
          9,
          10,
          10,
          3,
          2,
          4,
          3,
          3,
          1,
          1,
          1,
          1,
          3,
          1,
          1,
          3,
          3,
          3,
          3,
          3,
          3,
          3,
          3,
          3,
          3,
          3,
          4,
          3,
          4,
          4,
          4,
          4,
          4,
          4,
          4,
          5,
          5,
          5,
          5,
          5,
          6,
          6,
          6,
          7,
          7,
          7,
          7,
          7,
          7,
          7,
          7,
          7,
          4,
          4,
          4,
          8,
          8,
          8,
          8,
          9,
          4,
          9,
          9,
          4,
          4,
          3,
          3,
          2,
          2
         ],
         "xaxis": "x",
         "yaxis": "y"
        }
       ],
       "layout": {
        "annotations": [
         {
          "showarrow": false,
          "text": "median",
          "x": 4,
          "xanchor": "left",
          "xref": "x",
          "y": 1,
          "yanchor": "top",
          "yref": "y domain"
         }
        ],
        "barmode": "relative",
        "legend": {
         "tracegroupgap": 0
        },
        "shapes": [
         {
          "type": "line",
          "x0": 4,
          "x1": 4,
          "xref": "x",
          "y0": 0,
          "y1": 1,
          "yref": "y domain"
         }
        ],
        "template": {
         "data": {
          "bar": [
           {
            "error_x": {
             "color": "#f2f5fa"
            },
            "error_y": {
             "color": "#f2f5fa"
            },
            "marker": {
             "line": {
              "color": "rgb(17,17,17)",
              "width": 0.5
             }
            },
            "type": "bar"
           }
          ],
          "barpolar": [
           {
            "marker": {
             "line": {
              "color": "rgb(17,17,17)",
              "width": 0.5
             }
            },
            "type": "barpolar"
           }
          ],
          "carpet": [
           {
            "aaxis": {
             "endlinecolor": "#A2B1C6",
             "gridcolor": "#506784",
             "linecolor": "#506784",
             "minorgridcolor": "#506784",
             "startlinecolor": "#A2B1C6"
            },
            "baxis": {
             "endlinecolor": "#A2B1C6",
             "gridcolor": "#506784",
             "linecolor": "#506784",
             "minorgridcolor": "#506784",
             "startlinecolor": "#A2B1C6"
            },
            "type": "carpet"
           }
          ],
          "choropleth": [
           {
            "colorbar": {
             "outlinewidth": 0,
             "ticks": ""
            },
            "type": "choropleth"
           }
          ],
          "contour": [
           {
            "colorbar": {
             "outlinewidth": 0,
             "ticks": ""
            },
            "colorscale": [
             [
              0,
              "#0d0887"
             ],
             [
              0.1111111111111111,
              "#46039f"
             ],
             [
              0.2222222222222222,
              "#7201a8"
             ],
             [
              0.3333333333333333,
              "#9c179e"
             ],
             [
              0.4444444444444444,
              "#bd3786"
             ],
             [
              0.5555555555555556,
              "#d8576b"
             ],
             [
              0.6666666666666666,
              "#ed7953"
             ],
             [
              0.7777777777777778,
              "#fb9f3a"
             ],
             [
              0.8888888888888888,
              "#fdca26"
             ],
             [
              1,
              "#f0f921"
             ]
            ],
            "type": "contour"
           }
          ],
          "contourcarpet": [
           {
            "colorbar": {
             "outlinewidth": 0,
             "ticks": ""
            },
            "type": "contourcarpet"
           }
          ],
          "heatmap": [
           {
            "colorbar": {
             "outlinewidth": 0,
             "ticks": ""
            },
            "colorscale": [
             [
              0,
              "#0d0887"
             ],
             [
              0.1111111111111111,
              "#46039f"
             ],
             [
              0.2222222222222222,
              "#7201a8"
             ],
             [
              0.3333333333333333,
              "#9c179e"
             ],
             [
              0.4444444444444444,
              "#bd3786"
             ],
             [
              0.5555555555555556,
              "#d8576b"
             ],
             [
              0.6666666666666666,
              "#ed7953"
             ],
             [
              0.7777777777777778,
              "#fb9f3a"
             ],
             [
              0.8888888888888888,
              "#fdca26"
             ],
             [
              1,
              "#f0f921"
             ]
            ],
            "type": "heatmap"
           }
          ],
          "heatmapgl": [
           {
            "colorbar": {
             "outlinewidth": 0,
             "ticks": ""
            },
            "colorscale": [
             [
              0,
              "#0d0887"
             ],
             [
              0.1111111111111111,
              "#46039f"
             ],
             [
              0.2222222222222222,
              "#7201a8"
             ],
             [
              0.3333333333333333,
              "#9c179e"
             ],
             [
              0.4444444444444444,
              "#bd3786"
             ],
             [
              0.5555555555555556,
              "#d8576b"
             ],
             [
              0.6666666666666666,
              "#ed7953"
             ],
             [
              0.7777777777777778,
              "#fb9f3a"
             ],
             [
              0.8888888888888888,
              "#fdca26"
             ],
             [
              1,
              "#f0f921"
             ]
            ],
            "type": "heatmapgl"
           }
          ],
          "histogram": [
           {
            "marker": {
             "colorbar": {
              "outlinewidth": 0,
              "ticks": ""
             }
            },
            "type": "histogram"
           }
          ],
          "histogram2d": [
           {
            "colorbar": {
             "outlinewidth": 0,
             "ticks": ""
            },
            "colorscale": [
             [
              0,
              "#0d0887"
             ],
             [
              0.1111111111111111,
              "#46039f"
             ],
             [
              0.2222222222222222,
              "#7201a8"
             ],
             [
              0.3333333333333333,
              "#9c179e"
             ],
             [
              0.4444444444444444,
              "#bd3786"
             ],
             [
              0.5555555555555556,
              "#d8576b"
             ],
             [
              0.6666666666666666,
              "#ed7953"
             ],
             [
              0.7777777777777778,
              "#fb9f3a"
             ],
             [
              0.8888888888888888,
              "#fdca26"
             ],
             [
              1,
              "#f0f921"
             ]
            ],
            "type": "histogram2d"
           }
          ],
          "histogram2dcontour": [
           {
            "colorbar": {
             "outlinewidth": 0,
             "ticks": ""
            },
            "colorscale": [
             [
              0,
              "#0d0887"
             ],
             [
              0.1111111111111111,
              "#46039f"
             ],
             [
              0.2222222222222222,
              "#7201a8"
             ],
             [
              0.3333333333333333,
              "#9c179e"
             ],
             [
              0.4444444444444444,
              "#bd3786"
             ],
             [
              0.5555555555555556,
              "#d8576b"
             ],
             [
              0.6666666666666666,
              "#ed7953"
             ],
             [
              0.7777777777777778,
              "#fb9f3a"
             ],
             [
              0.8888888888888888,
              "#fdca26"
             ],
             [
              1,
              "#f0f921"
             ]
            ],
            "type": "histogram2dcontour"
           }
          ],
          "mesh3d": [
           {
            "colorbar": {
             "outlinewidth": 0,
             "ticks": ""
            },
            "type": "mesh3d"
           }
          ],
          "parcoords": [
           {
            "line": {
             "colorbar": {
              "outlinewidth": 0,
              "ticks": ""
             }
            },
            "type": "parcoords"
           }
          ],
          "pie": [
           {
            "automargin": true,
            "type": "pie"
           }
          ],
          "scatter": [
           {
            "marker": {
             "line": {
              "color": "#283442"
             }
            },
            "type": "scatter"
           }
          ],
          "scatter3d": [
           {
            "line": {
             "colorbar": {
              "outlinewidth": 0,
              "ticks": ""
             }
            },
            "marker": {
             "colorbar": {
              "outlinewidth": 0,
              "ticks": ""
             }
            },
            "type": "scatter3d"
           }
          ],
          "scattercarpet": [
           {
            "marker": {
             "colorbar": {
              "outlinewidth": 0,
              "ticks": ""
             }
            },
            "type": "scattercarpet"
           }
          ],
          "scattergeo": [
           {
            "marker": {
             "colorbar": {
              "outlinewidth": 0,
              "ticks": ""
             }
            },
            "type": "scattergeo"
           }
          ],
          "scattergl": [
           {
            "marker": {
             "line": {
              "color": "#283442"
             }
            },
            "type": "scattergl"
           }
          ],
          "scattermapbox": [
           {
            "marker": {
             "colorbar": {
              "outlinewidth": 0,
              "ticks": ""
             }
            },
            "type": "scattermapbox"
           }
          ],
          "scatterpolar": [
           {
            "marker": {
             "colorbar": {
              "outlinewidth": 0,
              "ticks": ""
             }
            },
            "type": "scatterpolar"
           }
          ],
          "scatterpolargl": [
           {
            "marker": {
             "colorbar": {
              "outlinewidth": 0,
              "ticks": ""
             }
            },
            "type": "scatterpolargl"
           }
          ],
          "scatterternary": [
           {
            "marker": {
             "colorbar": {
              "outlinewidth": 0,
              "ticks": ""
             }
            },
            "type": "scatterternary"
           }
          ],
          "surface": [
           {
            "colorbar": {
             "outlinewidth": 0,
             "ticks": ""
            },
            "colorscale": [
             [
              0,
              "#0d0887"
             ],
             [
              0.1111111111111111,
              "#46039f"
             ],
             [
              0.2222222222222222,
              "#7201a8"
             ],
             [
              0.3333333333333333,
              "#9c179e"
             ],
             [
              0.4444444444444444,
              "#bd3786"
             ],
             [
              0.5555555555555556,
              "#d8576b"
             ],
             [
              0.6666666666666666,
              "#ed7953"
             ],
             [
              0.7777777777777778,
              "#fb9f3a"
             ],
             [
              0.8888888888888888,
              "#fdca26"
             ],
             [
              1,
              "#f0f921"
             ]
            ],
            "type": "surface"
           }
          ],
          "table": [
           {
            "cells": {
             "fill": {
              "color": "#506784"
             },
             "line": {
              "color": "rgb(17,17,17)"
             }
            },
            "header": {
             "fill": {
              "color": "#2a3f5f"
             },
             "line": {
              "color": "rgb(17,17,17)"
             }
            },
            "type": "table"
           }
          ]
         },
         "layout": {
          "annotationdefaults": {
           "arrowcolor": "#f2f5fa",
           "arrowhead": 0,
           "arrowwidth": 1
          },
          "autotypenumbers": "strict",
          "coloraxis": {
           "colorbar": {
            "outlinewidth": 0,
            "ticks": ""
           }
          },
          "colorscale": {
           "diverging": [
            [
             0,
             "#8e0152"
            ],
            [
             0.1,
             "#c51b7d"
            ],
            [
             0.2,
             "#de77ae"
            ],
            [
             0.3,
             "#f1b6da"
            ],
            [
             0.4,
             "#fde0ef"
            ],
            [
             0.5,
             "#f7f7f7"
            ],
            [
             0.6,
             "#e6f5d0"
            ],
            [
             0.7,
             "#b8e186"
            ],
            [
             0.8,
             "#7fbc41"
            ],
            [
             0.9,
             "#4d9221"
            ],
            [
             1,
             "#276419"
            ]
           ],
           "sequential": [
            [
             0,
             "#0d0887"
            ],
            [
             0.1111111111111111,
             "#46039f"
            ],
            [
             0.2222222222222222,
             "#7201a8"
            ],
            [
             0.3333333333333333,
             "#9c179e"
            ],
            [
             0.4444444444444444,
             "#bd3786"
            ],
            [
             0.5555555555555556,
             "#d8576b"
            ],
            [
             0.6666666666666666,
             "#ed7953"
            ],
            [
             0.7777777777777778,
             "#fb9f3a"
            ],
            [
             0.8888888888888888,
             "#fdca26"
            ],
            [
             1,
             "#f0f921"
            ]
           ],
           "sequentialminus": [
            [
             0,
             "#0d0887"
            ],
            [
             0.1111111111111111,
             "#46039f"
            ],
            [
             0.2222222222222222,
             "#7201a8"
            ],
            [
             0.3333333333333333,
             "#9c179e"
            ],
            [
             0.4444444444444444,
             "#bd3786"
            ],
            [
             0.5555555555555556,
             "#d8576b"
            ],
            [
             0.6666666666666666,
             "#ed7953"
            ],
            [
             0.7777777777777778,
             "#fb9f3a"
            ],
            [
             0.8888888888888888,
             "#fdca26"
            ],
            [
             1,
             "#f0f921"
            ]
           ]
          },
          "colorway": [
           "#636efa",
           "#EF553B",
           "#00cc96",
           "#ab63fa",
           "#FFA15A",
           "#19d3f3",
           "#FF6692",
           "#B6E880",
           "#FF97FF",
           "#FECB52"
          ],
          "font": {
           "color": "#f2f5fa"
          },
          "geo": {
           "bgcolor": "rgb(17,17,17)",
           "lakecolor": "rgb(17,17,17)",
           "landcolor": "rgb(17,17,17)",
           "showlakes": true,
           "showland": true,
           "subunitcolor": "#506784"
          },
          "hoverlabel": {
           "align": "left"
          },
          "hovermode": "closest",
          "mapbox": {
           "style": "dark"
          },
          "paper_bgcolor": "rgb(17,17,17)",
          "plot_bgcolor": "rgb(17,17,17)",
          "polar": {
           "angularaxis": {
            "gridcolor": "#506784",
            "linecolor": "#506784",
            "ticks": ""
           },
           "bgcolor": "rgb(17,17,17)",
           "radialaxis": {
            "gridcolor": "#506784",
            "linecolor": "#506784",
            "ticks": ""
           }
          },
          "scene": {
           "xaxis": {
            "backgroundcolor": "rgb(17,17,17)",
            "gridcolor": "#506784",
            "gridwidth": 2,
            "linecolor": "#506784",
            "showbackground": true,
            "ticks": "",
            "zerolinecolor": "#C8D4E3"
           },
           "yaxis": {
            "backgroundcolor": "rgb(17,17,17)",
            "gridcolor": "#506784",
            "gridwidth": 2,
            "linecolor": "#506784",
            "showbackground": true,
            "ticks": "",
            "zerolinecolor": "#C8D4E3"
           },
           "zaxis": {
            "backgroundcolor": "rgb(17,17,17)",
            "gridcolor": "#506784",
            "gridwidth": 2,
            "linecolor": "#506784",
            "showbackground": true,
            "ticks": "",
            "zerolinecolor": "#C8D4E3"
           }
          },
          "shapedefaults": {
           "line": {
            "color": "#f2f5fa"
           }
          },
          "sliderdefaults": {
           "bgcolor": "#C8D4E3",
           "bordercolor": "rgb(17,17,17)",
           "borderwidth": 1,
           "tickwidth": 0
          },
          "ternary": {
           "aaxis": {
            "gridcolor": "#506784",
            "linecolor": "#506784",
            "ticks": ""
           },
           "baxis": {
            "gridcolor": "#506784",
            "linecolor": "#506784",
            "ticks": ""
           },
           "bgcolor": "rgb(17,17,17)",
           "caxis": {
            "gridcolor": "#506784",
            "linecolor": "#506784",
            "ticks": ""
           }
          },
          "title": {
           "x": 0.05
          },
          "updatemenudefaults": {
           "bgcolor": "#506784",
           "borderwidth": 0
          },
          "xaxis": {
           "automargin": true,
           "gridcolor": "#283442",
           "linecolor": "#506784",
           "ticks": "",
           "title": {
            "standoff": 15
           },
           "zerolinecolor": "#283442",
           "zerolinewidth": 2
          },
          "yaxis": {
           "automargin": true,
           "gridcolor": "#283442",
           "linecolor": "#506784",
           "ticks": "",
           "title": {
            "standoff": 15
           },
           "zerolinecolor": "#283442",
           "zerolinewidth": 2
          }
         }
        },
        "title": {
         "text": "Reporting delay (reporting time minus exposure time)"
        },
        "width": 580,
        "xaxis": {
         "anchor": "y",
         "domain": [
          0,
          1
         ],
         "title": {
          "text": "Delay between exposure and report"
         }
        },
        "yaxis": {
         "anchor": "x",
         "domain": [
          0,
          1
         ],
         "title": {
          "text": "Number of exposure sites"
         }
        }
       }
      },
      "text/html": [
       "<div>                            <div id=\"3aaa1e2f-f422-49d9-96c1-1714600c0514\" class=\"plotly-graph-div\" style=\"height:525px; width:580px;\"></div>            <script type=\"text/javascript\">                require([\"plotly\"], function(Plotly) {                    window.PLOTLYENV=window.PLOTLYENV || {};                                    if (document.getElementById(\"3aaa1e2f-f422-49d9-96c1-1714600c0514\")) {                    Plotly.newPlot(                        \"3aaa1e2f-f422-49d9-96c1-1714600c0514\",                        [{\"alignmentgroup\": \"True\", \"bingroup\": \"x\", \"hovertemplate\": \"date_delay=%{x}<br>count=%{y}<extra></extra>\", \"legendgroup\": \"\", \"marker\": {\"color\": \"rgb(55,126,184)\"}, \"name\": \"\", \"offsetgroup\": \"\", \"orientation\": \"v\", \"showlegend\": false, \"type\": \"histogram\", \"x\": [4.0, 2.0, 3.0, 2.0, 1.0, 0.0, 1.0, 2.0, 4.0, 4.0, 5.0, 5.0, 4.0, 5.0, 5.0, 5.0, 5.0, 5.0, 5.0, 4.0, 5.0, 4.0, 5.0, 5.0, 1.0, 3.0, 5.0, 5.0, 1.0, 2.0, 2.0, 2.0, 2.0, 6.0, 6.0, 6.0, 6.0, 6.0, 6.0, 3.0, 5.0, 5.0, 5.0, 5.0, 5.0, 5.0, 5.0, 5.0, 5.0, 5.0, 4.0, 4.0, 4.0, 4.0, 4.0, 4.0, 4.0, 4.0, 4.0, 4.0, 4.0, 3.0, 3.0, 3.0, 3.0, 2.0, 2.0, 2.0, 4.0, 0.0, 3.0, 2.0, 1.0, 2.0, 6.0, 6.0, 6.0, 6.0, 5.0, 4.0, 3.0, 1.0, 6.0, 2.0, 2.0, 6.0, 3.0, 3.0, 3.0, 2.0, 2.0, 5.0, 5.0, 3.0, 3.0, 3.0, 3.0, 3.0, 3.0, 1.0, 3.0, 3.0, 5.0, 3.0, 3.0, 2.0, 3.0, 3.0, 3.0, 2.0, 3.0, 2.0, 3.0, 3.0, 3.0, 3.0, 4.0, 4.0, 4.0, 4.0, 4.0, 4.0, 4.0, 2.0, 2.0, 2.0, 4.0, 3.0, 2.0, 2.0, 3.0, 4.0, 3.0, 3.0, 3.0, 4.0, 3.0, 1.0, 3.0, 4.0, 2.0, 2.0, 1.0, 7.0, 2.0, 1.0, 1.0, 2.0, 2.0, 2.0, 2.0, 1.0, 3.0, 2.0, 2.0, 3.0, 2.0, 1.0, 3.0, 1.0, 2.0, 1.0, 4.0, 5.0, 4.0, 4.0, 4.0, 4.0, 4.0, 4.0, 4.0, 3.0, 3.0, 4.0, 2.0, 4.0, 3.0, 3.0, 4.0, 5.0, 3.0, 1.0, 2.0, 4.0, 2.0, 3.0, 4.0, 3.0, 4.0, 4.0, 2.0, 2.0, 5.0, 2.0, 3.0, 3.0, 3.0, 3.0, 2.0, 4.0, 3.0, 3.0, 3.0, 3.0, 2.0, 4.0, 2.0, 2.0, 4.0, 4.0, 4.0, 4.0, 3.0, 3.0, 4.0, 4.0, 3.0, 4.0, 5.0, 5.0, 2.0, 5.0, 4.0, 3.0, 4.0, 5.0, 5.0, 4.0, 5.0, 5.0, 5.0, 6.0, 4.0, 4.0, 4.0, 4.0, 4.0, 1.0, 3.0, 2.0, 3.0, 4.0, 4.0, 7.0, 7.0, 7.0, 7.0, 6.0, 6.0, 6.0, 6.0, 6.0, 5.0, 5.0, 4.0, 7.0, 5.0, 3.0, 3.0, 3.0, 4.0, 4.0, 4.0, 4.0, 3.0, 4.0, 4.0, 2.0, 4.0, 4.0, 3.0, 7.0, 7.0, 7.0, 3.0, 3.0, 3.0, 3.0, 2.0, 3.0, 3.0, 4.0, 2.0, 3.0, 3.0, 4.0, 2.0, 4.0, 5.0, 5.0, 4.0, 4.0, 4.0, 3.0, 1.0, 3.0, 8.0, 5.0, 2.0, 2.0, 1.0, 4.0, 4.0, 4.0, 12.0, 11.0, 10.0, 9.0, 8.0, 7.0, 6.0, 5.0, 4.0, 3.0, 2.0, 1.0, 1.0, 1.0, 3.0, 2.0, 1.0, 4.0, 4.0, 4.0, 4.0, 3.0, 2.0, 2.0, 4.0, 2.0, 4.0, 4.0, 1.0, 1.0, 4.0, 4.0, 3.0, 1.0, 1.0, 0.0, 0.0, 0.0, 2.0, 1.0, 2.0, 1.0, 2.0, 1.0, 13.0, 2.0, 2.0, 2.0, 2.0, 2.0, 2.0, 3.0, 3.0, 2.0, 2.0, 3.0, 2.0, 3.0, 3.0, 3.0, 3.0, 3.0, 3.0, 3.0, 3.0, 3.0, 3.0, 3.0, 3.0, 3.0, 2.0, 4.0, 4.0, 4.0, 4.0, 4.0, 4.0, 1.0, 2.0, 2.0, 4.0, 4.0, 4.0, 4.0, 4.0, 4.0, 4.0, 4.0, 4.0, 4.0, 5.0, 2.0, 2.0, 3.0, 3.0, 2.0, 3.0, 3.0, 3.0, 2.0, 2.0, 4.0, 4.0, 4.0, 4.0, 3.0, 3.0, 2.0, 2.0, 1.0, 1.0, 1.0, 4.0, 9.0, 8.0, 7.0, 6.0, 5.0, 4.0, 14.0, 13.0, 12.0, 11.0, 14.0, 13.0, 12.0, 11.0, 10.0, 9.0, 8.0, 7.0, 6.0, 5.0, 4.0, 10.0, 1.0, 2.0, 2.0, 1.0, 4.0, 3.0, 5.0, 19.0, 18.0, 20.0, 21.0, 21.0, 21.0, 21.0, 6.0, 4.0, 16.0, 23.0, 22.0, 21.0, 24.0, 15.0, 17.0, 15.0, 11.0, 11.0, 4.0, 4.0, 4.0, 4.0, 25.0, 3.0, 3.0, 4.0, 4.0, 24.0, 27.0, 27.0, 5.0, 5.0, 5.0, 3.0, 4.0, 4.0, 4.0, 4.0, 5.0, 5.0, 4.0, 4.0, 2.0, 2.0, 3.0, 1.0, 4.0, 4.0, 3.0, 2.0, 7.0, 6.0, 5.0, 4.0, 3.0, 2.0, 10.0, 2.0, 2.0, 1.0, 3.0, 5.0, 2.0, 4.0, 4.0, 4.0, 5.0, 4.0, 5.0, 5.0, 5.0, 5.0, 5.0, 5.0, 5.0, 4.0, 5.0, 7.0, 5.0, 7.0, 5.0, 7.0, 7.0, 7.0, 8.0, 8.0, 8.0, 8.0, 8.0, 8.0, 8.0, 8.0, 10.0, 20.0, 20.0, 1.0, 2.0, 3.0, 3.0, 3.0, 4.0, 4.0, 4.0, 5.0, 13.0, 13.0, 2.0, 2.0, 2.0, 3.0, 3.0, 4.0, 4.0, 4.0, 5.0, 4.0, 4.0, 4.0, 4.0, 4.0, 3.0, 3.0, 4.0, 4.0, 3.0, 4.0, 4.0, 4.0, 4.0, 4.0, 4.0, 4.0, 8.0, 8.0, 8.0, 13.0, 1.0, 4.0, 4.0, 4.0, 4.0, 3.0, 4.0, 3.0, 4.0, 4.0, 4.0, 4.0, 4.0, 4.0, 4.0, 4.0, 4.0, 5.0, 5.0, 5.0, 5.0, 5.0, 5.0, 5.0, 5.0, 5.0, 5.0, 5.0, 6.0, 6.0, 7.0, 7.0, 8.0, 9.0, 9.0, 14.0, 1.0, 2.0, 3.0, 5.0, 6.0, 6.0, 7.0, 5.0, 6.0, 6.0, 5.0, 6.0, 6.0, 6.0, 4.0, 4.0, 4.0, 4.0, 4.0, 4.0, 3.0, 5.0, 2.0, 2.0, 3.0, 0.0, 8.0, 4.0, 8.0, 6.0, 9.0, 5.0, 4.0, 3.0, 2.0, 1.0, 2.0, 5.0, 2.0, 5.0, 5.0, 5.0, 6.0, 13.0, 13.0, 13.0, 2.0, 3.0, 3.0, 3.0, 3.0, 7.0, 6.0, 3.0, 3.0, 6.0, 2.0, 3.0, 3.0, 2.0, 2.0, 14.0, 3.0, 2.0, 3.0, 4.0, 3.0, 4.0, 3.0, 4.0, 4.0, 3.0, 2.0, 5.0, 3.0, 2.0, 10.0, 10.0, 10.0, 10.0, 3.0, 9.0, 9.0, 9.0, 9.0, 9.0, 4.0, 13.0, 4.0, 4.0, 5.0, 4.0, 5.0, 4.0, 3.0, 3.0, 3.0, 3.0, 3.0, 9.0, 4.0, 6.0, 11.0, 5.0, 7.0, 5.0, 5.0, 4.0, 13.0, 12.0, 11.0, 12.0, 5.0, 4.0, 6.0, 12.0, 10.0, 9.0, 6.0, 5.0, 4.0, 13.0, 18.0, 17.0, 10.0, 4.0, 11.0, 8.0, 6.0, 13.0, 9.0, 6.0, 6.0, 6.0, 6.0, 15.0, 15.0, 10.0, 12.0, 6.0, 5.0, 5.0, 5.0, 6.0, 6.0, 10.0, 6.0, 5.0, 4.0, 3.0, 2.0, 5.0, 4.0, 3.0, 2.0, 19.0, 20.0, 20.0, 20.0, 16.0, 6.0, 14.0, 8.0, 8.0, 8.0, 7.0, 8.0, 9.0, 9.0, 8.0, 8.0, 9.0, 9.0, 10.0, 10.0, 3.0, 2.0, 4.0, 3.0, 3.0, 1.0, 1.0, 1.0, 1.0, 3.0, 1.0, 1.0, 3.0, 3.0, 3.0, 3.0, 3.0, 3.0, 3.0, 3.0, 3.0, 3.0, 3.0, 4.0, 3.0, 4.0, 4.0, 4.0, 4.0, 4.0, 4.0, 4.0, 5.0, 5.0, 5.0, 5.0, 5.0, 6.0, 6.0, 6.0, 7.0, 7.0, 7.0, 7.0, 7.0, 7.0, 7.0, 7.0, 7.0, 4.0, 4.0, 4.0, 8.0, 8.0, 8.0, 8.0, 9.0, 4.0, 9.0, 9.0, 4.0, 4.0, 3.0, 3.0, 2.0, 2.0], \"xaxis\": \"x\", \"yaxis\": \"y\"}],                        {\"annotations\": [{\"showarrow\": false, \"text\": \"median\", \"x\": 4.0, \"xanchor\": \"left\", \"xref\": \"x\", \"y\": 1, \"yanchor\": \"top\", \"yref\": \"y domain\"}], \"barmode\": \"relative\", \"legend\": {\"tracegroupgap\": 0}, \"shapes\": [{\"type\": \"line\", \"x0\": 4.0, \"x1\": 4.0, \"xref\": \"x\", \"y0\": 0, \"y1\": 1, \"yref\": \"y domain\"}], \"template\": {\"data\": {\"bar\": [{\"error_x\": {\"color\": \"#f2f5fa\"}, \"error_y\": {\"color\": \"#f2f5fa\"}, \"marker\": {\"line\": {\"color\": \"rgb(17,17,17)\", \"width\": 0.5}}, \"type\": \"bar\"}], \"barpolar\": [{\"marker\": {\"line\": {\"color\": \"rgb(17,17,17)\", \"width\": 0.5}}, \"type\": \"barpolar\"}], \"carpet\": [{\"aaxis\": {\"endlinecolor\": \"#A2B1C6\", \"gridcolor\": \"#506784\", \"linecolor\": \"#506784\", \"minorgridcolor\": \"#506784\", \"startlinecolor\": \"#A2B1C6\"}, \"baxis\": {\"endlinecolor\": \"#A2B1C6\", \"gridcolor\": \"#506784\", \"linecolor\": \"#506784\", \"minorgridcolor\": \"#506784\", \"startlinecolor\": \"#A2B1C6\"}, \"type\": \"carpet\"}], \"choropleth\": [{\"colorbar\": {\"outlinewidth\": 0, \"ticks\": \"\"}, \"type\": \"choropleth\"}], \"contour\": [{\"colorbar\": {\"outlinewidth\": 0, \"ticks\": \"\"}, \"colorscale\": [[0.0, \"#0d0887\"], [0.1111111111111111, \"#46039f\"], [0.2222222222222222, \"#7201a8\"], [0.3333333333333333, \"#9c179e\"], [0.4444444444444444, \"#bd3786\"], [0.5555555555555556, \"#d8576b\"], [0.6666666666666666, \"#ed7953\"], [0.7777777777777778, \"#fb9f3a\"], [0.8888888888888888, \"#fdca26\"], [1.0, \"#f0f921\"]], \"type\": \"contour\"}], \"contourcarpet\": [{\"colorbar\": {\"outlinewidth\": 0, \"ticks\": \"\"}, \"type\": \"contourcarpet\"}], \"heatmap\": [{\"colorbar\": {\"outlinewidth\": 0, \"ticks\": \"\"}, \"colorscale\": [[0.0, \"#0d0887\"], [0.1111111111111111, \"#46039f\"], [0.2222222222222222, \"#7201a8\"], [0.3333333333333333, \"#9c179e\"], [0.4444444444444444, \"#bd3786\"], [0.5555555555555556, \"#d8576b\"], [0.6666666666666666, \"#ed7953\"], [0.7777777777777778, \"#fb9f3a\"], [0.8888888888888888, \"#fdca26\"], [1.0, \"#f0f921\"]], \"type\": \"heatmap\"}], \"heatmapgl\": [{\"colorbar\": {\"outlinewidth\": 0, \"ticks\": \"\"}, \"colorscale\": [[0.0, \"#0d0887\"], [0.1111111111111111, \"#46039f\"], [0.2222222222222222, \"#7201a8\"], [0.3333333333333333, \"#9c179e\"], [0.4444444444444444, \"#bd3786\"], [0.5555555555555556, \"#d8576b\"], [0.6666666666666666, \"#ed7953\"], [0.7777777777777778, \"#fb9f3a\"], [0.8888888888888888, \"#fdca26\"], [1.0, \"#f0f921\"]], \"type\": \"heatmapgl\"}], \"histogram\": [{\"marker\": {\"colorbar\": {\"outlinewidth\": 0, \"ticks\": \"\"}}, \"type\": \"histogram\"}], \"histogram2d\": [{\"colorbar\": {\"outlinewidth\": 0, \"ticks\": \"\"}, \"colorscale\": [[0.0, \"#0d0887\"], [0.1111111111111111, \"#46039f\"], [0.2222222222222222, \"#7201a8\"], [0.3333333333333333, \"#9c179e\"], [0.4444444444444444, \"#bd3786\"], [0.5555555555555556, \"#d8576b\"], [0.6666666666666666, \"#ed7953\"], [0.7777777777777778, \"#fb9f3a\"], [0.8888888888888888, \"#fdca26\"], [1.0, \"#f0f921\"]], \"type\": \"histogram2d\"}], \"histogram2dcontour\": [{\"colorbar\": {\"outlinewidth\": 0, \"ticks\": \"\"}, \"colorscale\": [[0.0, \"#0d0887\"], [0.1111111111111111, \"#46039f\"], [0.2222222222222222, \"#7201a8\"], [0.3333333333333333, \"#9c179e\"], [0.4444444444444444, \"#bd3786\"], [0.5555555555555556, \"#d8576b\"], [0.6666666666666666, \"#ed7953\"], [0.7777777777777778, \"#fb9f3a\"], [0.8888888888888888, \"#fdca26\"], [1.0, \"#f0f921\"]], \"type\": \"histogram2dcontour\"}], \"mesh3d\": [{\"colorbar\": {\"outlinewidth\": 0, \"ticks\": \"\"}, \"type\": \"mesh3d\"}], \"parcoords\": [{\"line\": {\"colorbar\": {\"outlinewidth\": 0, \"ticks\": \"\"}}, \"type\": \"parcoords\"}], \"pie\": [{\"automargin\": true, \"type\": \"pie\"}], \"scatter\": [{\"marker\": {\"line\": {\"color\": \"#283442\"}}, \"type\": \"scatter\"}], \"scatter3d\": [{\"line\": {\"colorbar\": {\"outlinewidth\": 0, \"ticks\": \"\"}}, \"marker\": {\"colorbar\": {\"outlinewidth\": 0, \"ticks\": \"\"}}, \"type\": \"scatter3d\"}], \"scattercarpet\": [{\"marker\": {\"colorbar\": {\"outlinewidth\": 0, \"ticks\": \"\"}}, \"type\": \"scattercarpet\"}], \"scattergeo\": [{\"marker\": {\"colorbar\": {\"outlinewidth\": 0, \"ticks\": \"\"}}, \"type\": \"scattergeo\"}], \"scattergl\": [{\"marker\": {\"line\": {\"color\": \"#283442\"}}, \"type\": \"scattergl\"}], \"scattermapbox\": [{\"marker\": {\"colorbar\": {\"outlinewidth\": 0, \"ticks\": \"\"}}, \"type\": \"scattermapbox\"}], \"scatterpolar\": [{\"marker\": {\"colorbar\": {\"outlinewidth\": 0, \"ticks\": \"\"}}, \"type\": \"scatterpolar\"}], \"scatterpolargl\": [{\"marker\": {\"colorbar\": {\"outlinewidth\": 0, \"ticks\": \"\"}}, \"type\": \"scatterpolargl\"}], \"scatterternary\": [{\"marker\": {\"colorbar\": {\"outlinewidth\": 0, \"ticks\": \"\"}}, \"type\": \"scatterternary\"}], \"surface\": [{\"colorbar\": {\"outlinewidth\": 0, \"ticks\": \"\"}, \"colorscale\": [[0.0, \"#0d0887\"], [0.1111111111111111, \"#46039f\"], [0.2222222222222222, \"#7201a8\"], [0.3333333333333333, \"#9c179e\"], [0.4444444444444444, \"#bd3786\"], [0.5555555555555556, \"#d8576b\"], [0.6666666666666666, \"#ed7953\"], [0.7777777777777778, \"#fb9f3a\"], [0.8888888888888888, \"#fdca26\"], [1.0, \"#f0f921\"]], \"type\": \"surface\"}], \"table\": [{\"cells\": {\"fill\": {\"color\": \"#506784\"}, \"line\": {\"color\": \"rgb(17,17,17)\"}}, \"header\": {\"fill\": {\"color\": \"#2a3f5f\"}, \"line\": {\"color\": \"rgb(17,17,17)\"}}, \"type\": \"table\"}]}, \"layout\": {\"annotationdefaults\": {\"arrowcolor\": \"#f2f5fa\", \"arrowhead\": 0, \"arrowwidth\": 1}, \"autotypenumbers\": \"strict\", \"coloraxis\": {\"colorbar\": {\"outlinewidth\": 0, \"ticks\": \"\"}}, \"colorscale\": {\"diverging\": [[0, \"#8e0152\"], [0.1, \"#c51b7d\"], [0.2, \"#de77ae\"], [0.3, \"#f1b6da\"], [0.4, \"#fde0ef\"], [0.5, \"#f7f7f7\"], [0.6, \"#e6f5d0\"], [0.7, \"#b8e186\"], [0.8, \"#7fbc41\"], [0.9, \"#4d9221\"], [1, \"#276419\"]], \"sequential\": [[0.0, \"#0d0887\"], [0.1111111111111111, \"#46039f\"], [0.2222222222222222, \"#7201a8\"], [0.3333333333333333, \"#9c179e\"], [0.4444444444444444, \"#bd3786\"], [0.5555555555555556, \"#d8576b\"], [0.6666666666666666, \"#ed7953\"], [0.7777777777777778, \"#fb9f3a\"], [0.8888888888888888, \"#fdca26\"], [1.0, \"#f0f921\"]], \"sequentialminus\": [[0.0, \"#0d0887\"], [0.1111111111111111, \"#46039f\"], [0.2222222222222222, \"#7201a8\"], [0.3333333333333333, \"#9c179e\"], [0.4444444444444444, \"#bd3786\"], [0.5555555555555556, \"#d8576b\"], [0.6666666666666666, \"#ed7953\"], [0.7777777777777778, \"#fb9f3a\"], [0.8888888888888888, \"#fdca26\"], [1.0, \"#f0f921\"]]}, \"colorway\": [\"#636efa\", \"#EF553B\", \"#00cc96\", \"#ab63fa\", \"#FFA15A\", \"#19d3f3\", \"#FF6692\", \"#B6E880\", \"#FF97FF\", \"#FECB52\"], \"font\": {\"color\": \"#f2f5fa\"}, \"geo\": {\"bgcolor\": \"rgb(17,17,17)\", \"lakecolor\": \"rgb(17,17,17)\", \"landcolor\": \"rgb(17,17,17)\", \"showlakes\": true, \"showland\": true, \"subunitcolor\": \"#506784\"}, \"hoverlabel\": {\"align\": \"left\"}, \"hovermode\": \"closest\", \"mapbox\": {\"style\": \"dark\"}, \"paper_bgcolor\": \"rgb(17,17,17)\", \"plot_bgcolor\": \"rgb(17,17,17)\", \"polar\": {\"angularaxis\": {\"gridcolor\": \"#506784\", \"linecolor\": \"#506784\", \"ticks\": \"\"}, \"bgcolor\": \"rgb(17,17,17)\", \"radialaxis\": {\"gridcolor\": \"#506784\", \"linecolor\": \"#506784\", \"ticks\": \"\"}}, \"scene\": {\"xaxis\": {\"backgroundcolor\": \"rgb(17,17,17)\", \"gridcolor\": \"#506784\", \"gridwidth\": 2, \"linecolor\": \"#506784\", \"showbackground\": true, \"ticks\": \"\", \"zerolinecolor\": \"#C8D4E3\"}, \"yaxis\": {\"backgroundcolor\": \"rgb(17,17,17)\", \"gridcolor\": \"#506784\", \"gridwidth\": 2, \"linecolor\": \"#506784\", \"showbackground\": true, \"ticks\": \"\", \"zerolinecolor\": \"#C8D4E3\"}, \"zaxis\": {\"backgroundcolor\": \"rgb(17,17,17)\", \"gridcolor\": \"#506784\", \"gridwidth\": 2, \"linecolor\": \"#506784\", \"showbackground\": true, \"ticks\": \"\", \"zerolinecolor\": \"#C8D4E3\"}}, \"shapedefaults\": {\"line\": {\"color\": \"#f2f5fa\"}}, \"sliderdefaults\": {\"bgcolor\": \"#C8D4E3\", \"bordercolor\": \"rgb(17,17,17)\", \"borderwidth\": 1, \"tickwidth\": 0}, \"ternary\": {\"aaxis\": {\"gridcolor\": \"#506784\", \"linecolor\": \"#506784\", \"ticks\": \"\"}, \"baxis\": {\"gridcolor\": \"#506784\", \"linecolor\": \"#506784\", \"ticks\": \"\"}, \"bgcolor\": \"rgb(17,17,17)\", \"caxis\": {\"gridcolor\": \"#506784\", \"linecolor\": \"#506784\", \"ticks\": \"\"}}, \"title\": {\"x\": 0.05}, \"updatemenudefaults\": {\"bgcolor\": \"#506784\", \"borderwidth\": 0}, \"xaxis\": {\"automargin\": true, \"gridcolor\": \"#283442\", \"linecolor\": \"#506784\", \"ticks\": \"\", \"title\": {\"standoff\": 15}, \"zerolinecolor\": \"#283442\", \"zerolinewidth\": 2}, \"yaxis\": {\"automargin\": true, \"gridcolor\": \"#283442\", \"linecolor\": \"#506784\", \"ticks\": \"\", \"title\": {\"standoff\": 15}, \"zerolinecolor\": \"#283442\", \"zerolinewidth\": 2}}}, \"title\": {\"text\": \"Reporting delay (reporting time minus exposure time)\"}, \"width\": 580, \"xaxis\": {\"anchor\": \"y\", \"domain\": [0.0, 1.0], \"title\": {\"text\": \"Delay between exposure and report\"}}, \"yaxis\": {\"anchor\": \"x\", \"domain\": [0.0, 1.0], \"title\": {\"text\": \"Number of exposure sites\"}}},                        {\"responsive\": true}                    ).then(function(){\n",
       "                            \n",
       "var gd = document.getElementById('3aaa1e2f-f422-49d9-96c1-1714600c0514');\n",
       "var x = new MutationObserver(function (mutations, observer) {{\n",
       "        var display = window.getComputedStyle(gd).display;\n",
       "        if (!display || display === 'none') {{\n",
       "            console.log([gd, 'removed!']);\n",
       "            Plotly.purge(gd);\n",
       "            observer.disconnect();\n",
       "        }}\n",
       "}});\n",
       "\n",
       "// Listen for the removal of the full notebook cells\n",
       "var notebookContainer = gd.closest('#notebook-container');\n",
       "if (notebookContainer) {{\n",
       "    x.observe(notebookContainer, {childList: true});\n",
       "}}\n",
       "\n",
       "// Listen for the clearing of the current output cell\n",
       "var outputEl = gd.closest('.output');\n",
       "if (outputEl) {{\n",
       "    x.observe(outputEl, {childList: true});\n",
       "}}\n",
       "\n",
       "                        })                };                });            </script>        </div>"
      ]
     },
     "metadata": {},
     "output_type": "display_data"
    }
   ],
   "source": [
    "fig_delay = px.histogram(df_official, x='date_delay', template='plotly_dark',\n",
    "                         color_discrete_sequence=[px.colors.qualitative.Set1[1]],\n",
    "                         title='Reporting delay (reporting time minus exposure time)')\n",
    "fig_delay.add_vline(x = df_official.date_delay.describe()['50%'], annotation_text='median')\n",
    "fig_delay.update_layout(width=width, \n",
    "                       xaxis_title = \"Delay between exposure and report\", \n",
    "                       yaxis_title = \"Number of exposure sites\")"
   ]
  },
  {
   "cell_type": "code",
   "execution_count": 652,
   "metadata": {},
   "outputs": [
    {
     "data": {
      "application/vnd.plotly.v1+json": {
       "config": {
        "plotlyServerURL": "https://plot.ly"
       },
       "data": [
        {
         "hovertemplate": "Exposure_date_dtm=%{x}<br>date_delay=%{y}<extra></extra>",
         "legendgroup": "",
         "line": {
          "color": "rgb(228,26,28)",
          "dash": "solid"
         },
         "mode": "lines",
         "name": "",
         "orientation": "v",
         "showlegend": false,
         "type": "scatter",
         "x": [
          "2021-05-11T00:00:00",
          "2021-05-12T00:00:00",
          "2021-05-13T00:00:00",
          "2021-05-14T00:00:00",
          "2021-05-15T00:00:00",
          "2021-05-17T00:00:00",
          "2021-05-18T00:00:00",
          "2021-05-19T00:00:00",
          "2021-05-20T00:00:00",
          "2021-05-21T00:00:00",
          "2021-05-22T00:00:00",
          "2021-05-23T00:00:00",
          "2021-05-24T00:00:00",
          "2021-05-25T00:00:00",
          "2021-05-26T00:00:00",
          "2021-05-27T00:00:00",
          "2021-05-28T00:00:00",
          "2021-05-29T00:00:00",
          "2021-05-30T00:00:00",
          "2021-05-31T00:00:00",
          "2021-06-01T00:00:00",
          "2021-06-02T00:00:00",
          "2021-06-03T00:00:00",
          "2021-06-04T00:00:00",
          "2021-06-05T00:00:00",
          "2021-06-06T00:00:00",
          "2021-06-07T00:00:00",
          "2021-06-08T00:00:00",
          "2021-06-09T00:00:00",
          "2021-06-10T00:00:00",
          "2021-06-11T00:00:00",
          "2021-06-12T00:00:00",
          "2021-06-13T00:00:00",
          "2021-06-14T00:00:00",
          "2021-06-15T00:00:00",
          "2021-06-20T00:00:00",
          "2021-06-21T00:00:00",
          "2021-06-22T00:00:00",
          "2021-06-23T00:00:00",
          "2021-06-25T00:00:00",
          "2021-06-26T00:00:00",
          "2021-07-02T00:00:00",
          "2021-07-08T00:00:00",
          "2021-07-09T00:00:00",
          "2021-07-10T00:00:00",
          "2021-07-11T00:00:00",
          "2021-07-12T00:00:00",
          "2021-07-13T00:00:00",
          "2021-07-14T00:00:00",
          "2021-07-15T00:00:00",
          "2021-07-16T00:00:00",
          "2021-07-17T00:00:00"
         ],
         "xaxis": "x",
         "y": [
          20,
          18.5,
          15.5,
          13,
          15.333333333333334,
          11.166666666666666,
          13.6875,
          9.266666666666667,
          6.722222222222222,
          10.333333333333334,
          14.4,
          4.982142857142857,
          4.973684210526316,
          5.1891891891891895,
          5.3584905660377355,
          5.2631578947368425,
          5.15,
          6.666666666666667,
          6.888888888888889,
          5.608695652173913,
          6.5,
          5.1,
          3.888888888888889,
          3.5454545454545454,
          4.625,
          3.75,
          3.3333333333333335,
          3,
          4.666666666666667,
          4.5,
          3.533333333333333,
          3.4347826086956523,
          2.3333333333333335,
          1.5,
          1,
          4,
          3,
          2.2,
          1,
          1.6,
          0.5,
          8,
          5.2727272727272725,
          5.206896551724138,
          3.9615384615384617,
          4.75,
          3.5098039215686274,
          3.533333333333333,
          3.0294117647058822,
          2.1666666666666665,
          1.6,
          1
         ],
         "yaxis": "y"
        }
       ],
       "layout": {
        "annotations": [
         {
          "ax": 10,
          "ay": 20,
          "showarrow": false,
          "text": "  5km",
          "x": "2021-05-27",
          "xanchor": "left",
          "y": 20
         },
         {
          "ax": 10,
          "ay": 20,
          "showarrow": false,
          "text": "  10km",
          "x": "2021-06-03",
          "xanchor": "left",
          "y": 20
         },
         {
          "ax": 10,
          "ay": 20,
          "showarrow": false,
          "text": "  25km",
          "x": "2021-06-10",
          "xanchor": "left",
          "y": 20
         },
         {
          "ax": 10,
          "ay": 20,
          "showarrow": false,
          "text": "  5km",
          "x": "2021-07-15",
          "xanchor": "left",
          "y": 20
         },
         {
          "ax": 10,
          "ay": 20,
          "showarrow": false,
          "text": "  start",
          "x": "2021-05-23",
          "xanchor": "right",
          "y": 20
         },
         {
          "ax": 10,
          "ay": 20,
          "showarrow": false,
          "text": "  contact",
          "x": "2021-05-23",
          "xanchor": "right",
          "y": 19
         },
         {
          "ax": 10,
          "ay": 20,
          "showarrow": false,
          "text": "  tracing",
          "x": "2021-05-23",
          "xanchor": "right",
          "y": 18
         }
        ],
        "bargap": 0.2,
        "legend": {
         "tracegroupgap": 0
        },
        "shapes": [
         {
          "type": "line",
          "x0": "2021-05-27T12:00:00",
          "x1": "2021-05-27T12:00:00",
          "xref": "x",
          "y0": 0,
          "y1": 1,
          "yref": "y domain"
         },
         {
          "type": "line",
          "x0": "2021-06-03T12:00:00",
          "x1": "2021-06-03T12:00:00",
          "xref": "x",
          "y0": 0,
          "y1": 1,
          "yref": "y domain"
         },
         {
          "type": "line",
          "x0": "2021-06-10T12:00:00",
          "x1": "2021-06-10T12:00:00",
          "xref": "x",
          "y0": 0,
          "y1": 1,
          "yref": "y domain"
         },
         {
          "type": "line",
          "x0": "2021-07-15T12:00:00",
          "x1": "2021-07-15T12:00:00",
          "xref": "x",
          "y0": 0,
          "y1": 1,
          "yref": "y domain"
         },
         {
          "type": "line",
          "x0": "2021-05-23T12:00:00",
          "x1": "2021-05-23T12:00:00",
          "xref": "x",
          "y0": 0,
          "y1": 1,
          "yref": "y domain"
         }
        ],
        "template": {
         "data": {
          "bar": [
           {
            "error_x": {
             "color": "#f2f5fa"
            },
            "error_y": {
             "color": "#f2f5fa"
            },
            "marker": {
             "line": {
              "color": "rgb(17,17,17)",
              "width": 0.5
             }
            },
            "type": "bar"
           }
          ],
          "barpolar": [
           {
            "marker": {
             "line": {
              "color": "rgb(17,17,17)",
              "width": 0.5
             }
            },
            "type": "barpolar"
           }
          ],
          "carpet": [
           {
            "aaxis": {
             "endlinecolor": "#A2B1C6",
             "gridcolor": "#506784",
             "linecolor": "#506784",
             "minorgridcolor": "#506784",
             "startlinecolor": "#A2B1C6"
            },
            "baxis": {
             "endlinecolor": "#A2B1C6",
             "gridcolor": "#506784",
             "linecolor": "#506784",
             "minorgridcolor": "#506784",
             "startlinecolor": "#A2B1C6"
            },
            "type": "carpet"
           }
          ],
          "choropleth": [
           {
            "colorbar": {
             "outlinewidth": 0,
             "ticks": ""
            },
            "type": "choropleth"
           }
          ],
          "contour": [
           {
            "colorbar": {
             "outlinewidth": 0,
             "ticks": ""
            },
            "colorscale": [
             [
              0,
              "#0d0887"
             ],
             [
              0.1111111111111111,
              "#46039f"
             ],
             [
              0.2222222222222222,
              "#7201a8"
             ],
             [
              0.3333333333333333,
              "#9c179e"
             ],
             [
              0.4444444444444444,
              "#bd3786"
             ],
             [
              0.5555555555555556,
              "#d8576b"
             ],
             [
              0.6666666666666666,
              "#ed7953"
             ],
             [
              0.7777777777777778,
              "#fb9f3a"
             ],
             [
              0.8888888888888888,
              "#fdca26"
             ],
             [
              1,
              "#f0f921"
             ]
            ],
            "type": "contour"
           }
          ],
          "contourcarpet": [
           {
            "colorbar": {
             "outlinewidth": 0,
             "ticks": ""
            },
            "type": "contourcarpet"
           }
          ],
          "heatmap": [
           {
            "colorbar": {
             "outlinewidth": 0,
             "ticks": ""
            },
            "colorscale": [
             [
              0,
              "#0d0887"
             ],
             [
              0.1111111111111111,
              "#46039f"
             ],
             [
              0.2222222222222222,
              "#7201a8"
             ],
             [
              0.3333333333333333,
              "#9c179e"
             ],
             [
              0.4444444444444444,
              "#bd3786"
             ],
             [
              0.5555555555555556,
              "#d8576b"
             ],
             [
              0.6666666666666666,
              "#ed7953"
             ],
             [
              0.7777777777777778,
              "#fb9f3a"
             ],
             [
              0.8888888888888888,
              "#fdca26"
             ],
             [
              1,
              "#f0f921"
             ]
            ],
            "type": "heatmap"
           }
          ],
          "heatmapgl": [
           {
            "colorbar": {
             "outlinewidth": 0,
             "ticks": ""
            },
            "colorscale": [
             [
              0,
              "#0d0887"
             ],
             [
              0.1111111111111111,
              "#46039f"
             ],
             [
              0.2222222222222222,
              "#7201a8"
             ],
             [
              0.3333333333333333,
              "#9c179e"
             ],
             [
              0.4444444444444444,
              "#bd3786"
             ],
             [
              0.5555555555555556,
              "#d8576b"
             ],
             [
              0.6666666666666666,
              "#ed7953"
             ],
             [
              0.7777777777777778,
              "#fb9f3a"
             ],
             [
              0.8888888888888888,
              "#fdca26"
             ],
             [
              1,
              "#f0f921"
             ]
            ],
            "type": "heatmapgl"
           }
          ],
          "histogram": [
           {
            "marker": {
             "colorbar": {
              "outlinewidth": 0,
              "ticks": ""
             }
            },
            "type": "histogram"
           }
          ],
          "histogram2d": [
           {
            "colorbar": {
             "outlinewidth": 0,
             "ticks": ""
            },
            "colorscale": [
             [
              0,
              "#0d0887"
             ],
             [
              0.1111111111111111,
              "#46039f"
             ],
             [
              0.2222222222222222,
              "#7201a8"
             ],
             [
              0.3333333333333333,
              "#9c179e"
             ],
             [
              0.4444444444444444,
              "#bd3786"
             ],
             [
              0.5555555555555556,
              "#d8576b"
             ],
             [
              0.6666666666666666,
              "#ed7953"
             ],
             [
              0.7777777777777778,
              "#fb9f3a"
             ],
             [
              0.8888888888888888,
              "#fdca26"
             ],
             [
              1,
              "#f0f921"
             ]
            ],
            "type": "histogram2d"
           }
          ],
          "histogram2dcontour": [
           {
            "colorbar": {
             "outlinewidth": 0,
             "ticks": ""
            },
            "colorscale": [
             [
              0,
              "#0d0887"
             ],
             [
              0.1111111111111111,
              "#46039f"
             ],
             [
              0.2222222222222222,
              "#7201a8"
             ],
             [
              0.3333333333333333,
              "#9c179e"
             ],
             [
              0.4444444444444444,
              "#bd3786"
             ],
             [
              0.5555555555555556,
              "#d8576b"
             ],
             [
              0.6666666666666666,
              "#ed7953"
             ],
             [
              0.7777777777777778,
              "#fb9f3a"
             ],
             [
              0.8888888888888888,
              "#fdca26"
             ],
             [
              1,
              "#f0f921"
             ]
            ],
            "type": "histogram2dcontour"
           }
          ],
          "mesh3d": [
           {
            "colorbar": {
             "outlinewidth": 0,
             "ticks": ""
            },
            "type": "mesh3d"
           }
          ],
          "parcoords": [
           {
            "line": {
             "colorbar": {
              "outlinewidth": 0,
              "ticks": ""
             }
            },
            "type": "parcoords"
           }
          ],
          "pie": [
           {
            "automargin": true,
            "type": "pie"
           }
          ],
          "scatter": [
           {
            "marker": {
             "line": {
              "color": "#283442"
             }
            },
            "type": "scatter"
           }
          ],
          "scatter3d": [
           {
            "line": {
             "colorbar": {
              "outlinewidth": 0,
              "ticks": ""
             }
            },
            "marker": {
             "colorbar": {
              "outlinewidth": 0,
              "ticks": ""
             }
            },
            "type": "scatter3d"
           }
          ],
          "scattercarpet": [
           {
            "marker": {
             "colorbar": {
              "outlinewidth": 0,
              "ticks": ""
             }
            },
            "type": "scattercarpet"
           }
          ],
          "scattergeo": [
           {
            "marker": {
             "colorbar": {
              "outlinewidth": 0,
              "ticks": ""
             }
            },
            "type": "scattergeo"
           }
          ],
          "scattergl": [
           {
            "marker": {
             "line": {
              "color": "#283442"
             }
            },
            "type": "scattergl"
           }
          ],
          "scattermapbox": [
           {
            "marker": {
             "colorbar": {
              "outlinewidth": 0,
              "ticks": ""
             }
            },
            "type": "scattermapbox"
           }
          ],
          "scatterpolar": [
           {
            "marker": {
             "colorbar": {
              "outlinewidth": 0,
              "ticks": ""
             }
            },
            "type": "scatterpolar"
           }
          ],
          "scatterpolargl": [
           {
            "marker": {
             "colorbar": {
              "outlinewidth": 0,
              "ticks": ""
             }
            },
            "type": "scatterpolargl"
           }
          ],
          "scatterternary": [
           {
            "marker": {
             "colorbar": {
              "outlinewidth": 0,
              "ticks": ""
             }
            },
            "type": "scatterternary"
           }
          ],
          "surface": [
           {
            "colorbar": {
             "outlinewidth": 0,
             "ticks": ""
            },
            "colorscale": [
             [
              0,
              "#0d0887"
             ],
             [
              0.1111111111111111,
              "#46039f"
             ],
             [
              0.2222222222222222,
              "#7201a8"
             ],
             [
              0.3333333333333333,
              "#9c179e"
             ],
             [
              0.4444444444444444,
              "#bd3786"
             ],
             [
              0.5555555555555556,
              "#d8576b"
             ],
             [
              0.6666666666666666,
              "#ed7953"
             ],
             [
              0.7777777777777778,
              "#fb9f3a"
             ],
             [
              0.8888888888888888,
              "#fdca26"
             ],
             [
              1,
              "#f0f921"
             ]
            ],
            "type": "surface"
           }
          ],
          "table": [
           {
            "cells": {
             "fill": {
              "color": "#506784"
             },
             "line": {
              "color": "rgb(17,17,17)"
             }
            },
            "header": {
             "fill": {
              "color": "#2a3f5f"
             },
             "line": {
              "color": "rgb(17,17,17)"
             }
            },
            "type": "table"
           }
          ]
         },
         "layout": {
          "annotationdefaults": {
           "arrowcolor": "#f2f5fa",
           "arrowhead": 0,
           "arrowwidth": 1
          },
          "autotypenumbers": "strict",
          "coloraxis": {
           "colorbar": {
            "outlinewidth": 0,
            "ticks": ""
           }
          },
          "colorscale": {
           "diverging": [
            [
             0,
             "#8e0152"
            ],
            [
             0.1,
             "#c51b7d"
            ],
            [
             0.2,
             "#de77ae"
            ],
            [
             0.3,
             "#f1b6da"
            ],
            [
             0.4,
             "#fde0ef"
            ],
            [
             0.5,
             "#f7f7f7"
            ],
            [
             0.6,
             "#e6f5d0"
            ],
            [
             0.7,
             "#b8e186"
            ],
            [
             0.8,
             "#7fbc41"
            ],
            [
             0.9,
             "#4d9221"
            ],
            [
             1,
             "#276419"
            ]
           ],
           "sequential": [
            [
             0,
             "#0d0887"
            ],
            [
             0.1111111111111111,
             "#46039f"
            ],
            [
             0.2222222222222222,
             "#7201a8"
            ],
            [
             0.3333333333333333,
             "#9c179e"
            ],
            [
             0.4444444444444444,
             "#bd3786"
            ],
            [
             0.5555555555555556,
             "#d8576b"
            ],
            [
             0.6666666666666666,
             "#ed7953"
            ],
            [
             0.7777777777777778,
             "#fb9f3a"
            ],
            [
             0.8888888888888888,
             "#fdca26"
            ],
            [
             1,
             "#f0f921"
            ]
           ],
           "sequentialminus": [
            [
             0,
             "#0d0887"
            ],
            [
             0.1111111111111111,
             "#46039f"
            ],
            [
             0.2222222222222222,
             "#7201a8"
            ],
            [
             0.3333333333333333,
             "#9c179e"
            ],
            [
             0.4444444444444444,
             "#bd3786"
            ],
            [
             0.5555555555555556,
             "#d8576b"
            ],
            [
             0.6666666666666666,
             "#ed7953"
            ],
            [
             0.7777777777777778,
             "#fb9f3a"
            ],
            [
             0.8888888888888888,
             "#fdca26"
            ],
            [
             1,
             "#f0f921"
            ]
           ]
          },
          "colorway": [
           "#636efa",
           "#EF553B",
           "#00cc96",
           "#ab63fa",
           "#FFA15A",
           "#19d3f3",
           "#FF6692",
           "#B6E880",
           "#FF97FF",
           "#FECB52"
          ],
          "font": {
           "color": "#f2f5fa"
          },
          "geo": {
           "bgcolor": "rgb(17,17,17)",
           "lakecolor": "rgb(17,17,17)",
           "landcolor": "rgb(17,17,17)",
           "showlakes": true,
           "showland": true,
           "subunitcolor": "#506784"
          },
          "hoverlabel": {
           "align": "left"
          },
          "hovermode": "closest",
          "mapbox": {
           "style": "dark"
          },
          "paper_bgcolor": "rgb(17,17,17)",
          "plot_bgcolor": "rgb(17,17,17)",
          "polar": {
           "angularaxis": {
            "gridcolor": "#506784",
            "linecolor": "#506784",
            "ticks": ""
           },
           "bgcolor": "rgb(17,17,17)",
           "radialaxis": {
            "gridcolor": "#506784",
            "linecolor": "#506784",
            "ticks": ""
           }
          },
          "scene": {
           "xaxis": {
            "backgroundcolor": "rgb(17,17,17)",
            "gridcolor": "#506784",
            "gridwidth": 2,
            "linecolor": "#506784",
            "showbackground": true,
            "ticks": "",
            "zerolinecolor": "#C8D4E3"
           },
           "yaxis": {
            "backgroundcolor": "rgb(17,17,17)",
            "gridcolor": "#506784",
            "gridwidth": 2,
            "linecolor": "#506784",
            "showbackground": true,
            "ticks": "",
            "zerolinecolor": "#C8D4E3"
           },
           "zaxis": {
            "backgroundcolor": "rgb(17,17,17)",
            "gridcolor": "#506784",
            "gridwidth": 2,
            "linecolor": "#506784",
            "showbackground": true,
            "ticks": "",
            "zerolinecolor": "#C8D4E3"
           }
          },
          "shapedefaults": {
           "line": {
            "color": "#f2f5fa"
           }
          },
          "sliderdefaults": {
           "bgcolor": "#C8D4E3",
           "bordercolor": "rgb(17,17,17)",
           "borderwidth": 1,
           "tickwidth": 0
          },
          "ternary": {
           "aaxis": {
            "gridcolor": "#506784",
            "linecolor": "#506784",
            "ticks": ""
           },
           "baxis": {
            "gridcolor": "#506784",
            "linecolor": "#506784",
            "ticks": ""
           },
           "bgcolor": "rgb(17,17,17)",
           "caxis": {
            "gridcolor": "#506784",
            "linecolor": "#506784",
            "ticks": ""
           }
          },
          "title": {
           "x": 0.05
          },
          "updatemenudefaults": {
           "bgcolor": "#506784",
           "borderwidth": 0
          },
          "xaxis": {
           "automargin": true,
           "gridcolor": "#283442",
           "linecolor": "#506784",
           "ticks": "",
           "title": {
            "standoff": 15
           },
           "zerolinecolor": "#283442",
           "zerolinewidth": 2
          },
          "yaxis": {
           "automargin": true,
           "gridcolor": "#283442",
           "linecolor": "#506784",
           "ticks": "",
           "title": {
            "standoff": 15
           },
           "zerolinecolor": "#283442",
           "zerolinewidth": 2
          }
         }
        },
        "title": {
         "text": "Mean reporting delay over days"
        },
        "width": 580,
        "xaxis": {
         "anchor": "y",
         "domain": [
          0,
          1
         ],
         "nticks": 10,
         "range": [
          "2021-05-10T12:00:00",
          "2021-07-18T12:00:00"
         ],
         "tickangle": 60,
         "title": {
          "text": "Exposure date"
         }
        },
        "yaxis": {
         "anchor": "x",
         "domain": [
          0,
          1
         ],
         "title": {
          "text": "Mean reporting delay"
         }
        }
       }
      },
      "text/html": [
       "<div>                            <div id=\"cb4eb126-8bd6-4dfd-b076-17717364df18\" class=\"plotly-graph-div\" style=\"height:525px; width:580px;\"></div>            <script type=\"text/javascript\">                require([\"plotly\"], function(Plotly) {                    window.PLOTLYENV=window.PLOTLYENV || {};                                    if (document.getElementById(\"cb4eb126-8bd6-4dfd-b076-17717364df18\")) {                    Plotly.newPlot(                        \"cb4eb126-8bd6-4dfd-b076-17717364df18\",                        [{\"hovertemplate\": \"Exposure_date_dtm=%{x}<br>date_delay=%{y}<extra></extra>\", \"legendgroup\": \"\", \"line\": {\"color\": \"rgb(228,26,28)\", \"dash\": \"solid\"}, \"mode\": \"lines\", \"name\": \"\", \"orientation\": \"v\", \"showlegend\": false, \"type\": \"scatter\", \"x\": [\"2021-05-11T00:00:00\", \"2021-05-12T00:00:00\", \"2021-05-13T00:00:00\", \"2021-05-14T00:00:00\", \"2021-05-15T00:00:00\", \"2021-05-17T00:00:00\", \"2021-05-18T00:00:00\", \"2021-05-19T00:00:00\", \"2021-05-20T00:00:00\", \"2021-05-21T00:00:00\", \"2021-05-22T00:00:00\", \"2021-05-23T00:00:00\", \"2021-05-24T00:00:00\", \"2021-05-25T00:00:00\", \"2021-05-26T00:00:00\", \"2021-05-27T00:00:00\", \"2021-05-28T00:00:00\", \"2021-05-29T00:00:00\", \"2021-05-30T00:00:00\", \"2021-05-31T00:00:00\", \"2021-06-01T00:00:00\", \"2021-06-02T00:00:00\", \"2021-06-03T00:00:00\", \"2021-06-04T00:00:00\", \"2021-06-05T00:00:00\", \"2021-06-06T00:00:00\", \"2021-06-07T00:00:00\", \"2021-06-08T00:00:00\", \"2021-06-09T00:00:00\", \"2021-06-10T00:00:00\", \"2021-06-11T00:00:00\", \"2021-06-12T00:00:00\", \"2021-06-13T00:00:00\", \"2021-06-14T00:00:00\", \"2021-06-15T00:00:00\", \"2021-06-20T00:00:00\", \"2021-06-21T00:00:00\", \"2021-06-22T00:00:00\", \"2021-06-23T00:00:00\", \"2021-06-25T00:00:00\", \"2021-06-26T00:00:00\", \"2021-07-02T00:00:00\", \"2021-07-08T00:00:00\", \"2021-07-09T00:00:00\", \"2021-07-10T00:00:00\", \"2021-07-11T00:00:00\", \"2021-07-12T00:00:00\", \"2021-07-13T00:00:00\", \"2021-07-14T00:00:00\", \"2021-07-15T00:00:00\", \"2021-07-16T00:00:00\", \"2021-07-17T00:00:00\"], \"xaxis\": \"x\", \"y\": [20.0, 18.5, 15.5, 13.0, 15.333333333333334, 11.166666666666666, 13.6875, 9.266666666666667, 6.722222222222222, 10.333333333333334, 14.4, 4.982142857142857, 4.973684210526316, 5.1891891891891895, 5.3584905660377355, 5.2631578947368425, 5.15, 6.666666666666667, 6.888888888888889, 5.608695652173913, 6.5, 5.1, 3.888888888888889, 3.5454545454545454, 4.625, 3.75, 3.3333333333333335, 3.0, 4.666666666666667, 4.5, 3.533333333333333, 3.4347826086956523, 2.3333333333333335, 1.5, 1.0, 4.0, 3.0, 2.2, 1.0, 1.6, 0.5, 8.0, 5.2727272727272725, 5.206896551724138, 3.9615384615384617, 4.75, 3.5098039215686274, 3.533333333333333, 3.0294117647058822, 2.1666666666666665, 1.6, 1.0], \"yaxis\": \"y\"}],                        {\"annotations\": [{\"ax\": 10, \"ay\": 20, \"showarrow\": false, \"text\": \"  5km\", \"x\": \"2021-05-27\", \"xanchor\": \"left\", \"y\": 20}, {\"ax\": 10, \"ay\": 20, \"showarrow\": false, \"text\": \"  10km\", \"x\": \"2021-06-03\", \"xanchor\": \"left\", \"y\": 20}, {\"ax\": 10, \"ay\": 20, \"showarrow\": false, \"text\": \"  25km\", \"x\": \"2021-06-10\", \"xanchor\": \"left\", \"y\": 20}, {\"ax\": 10, \"ay\": 20, \"showarrow\": false, \"text\": \"  5km\", \"x\": \"2021-07-15\", \"xanchor\": \"left\", \"y\": 20}, {\"ax\": 10, \"ay\": 20, \"showarrow\": false, \"text\": \"  start\", \"x\": \"2021-05-23\", \"xanchor\": \"right\", \"y\": 20}, {\"ax\": 10, \"ay\": 20, \"showarrow\": false, \"text\": \"  contact\", \"x\": \"2021-05-23\", \"xanchor\": \"right\", \"y\": 19}, {\"ax\": 10, \"ay\": 20, \"showarrow\": false, \"text\": \"  tracing\", \"x\": \"2021-05-23\", \"xanchor\": \"right\", \"y\": 18}], \"bargap\": 0.2, \"legend\": {\"tracegroupgap\": 0}, \"shapes\": [{\"type\": \"line\", \"x0\": \"2021-05-27T12:00:00\", \"x1\": \"2021-05-27T12:00:00\", \"xref\": \"x\", \"y0\": 0, \"y1\": 1, \"yref\": \"y domain\"}, {\"type\": \"line\", \"x0\": \"2021-06-03T12:00:00\", \"x1\": \"2021-06-03T12:00:00\", \"xref\": \"x\", \"y0\": 0, \"y1\": 1, \"yref\": \"y domain\"}, {\"type\": \"line\", \"x0\": \"2021-06-10T12:00:00\", \"x1\": \"2021-06-10T12:00:00\", \"xref\": \"x\", \"y0\": 0, \"y1\": 1, \"yref\": \"y domain\"}, {\"type\": \"line\", \"x0\": \"2021-07-15T12:00:00\", \"x1\": \"2021-07-15T12:00:00\", \"xref\": \"x\", \"y0\": 0, \"y1\": 1, \"yref\": \"y domain\"}, {\"type\": \"line\", \"x0\": \"2021-05-23T12:00:00\", \"x1\": \"2021-05-23T12:00:00\", \"xref\": \"x\", \"y0\": 0, \"y1\": 1, \"yref\": \"y domain\"}], \"template\": {\"data\": {\"bar\": [{\"error_x\": {\"color\": \"#f2f5fa\"}, \"error_y\": {\"color\": \"#f2f5fa\"}, \"marker\": {\"line\": {\"color\": \"rgb(17,17,17)\", \"width\": 0.5}}, \"type\": \"bar\"}], \"barpolar\": [{\"marker\": {\"line\": {\"color\": \"rgb(17,17,17)\", \"width\": 0.5}}, \"type\": \"barpolar\"}], \"carpet\": [{\"aaxis\": {\"endlinecolor\": \"#A2B1C6\", \"gridcolor\": \"#506784\", \"linecolor\": \"#506784\", \"minorgridcolor\": \"#506784\", \"startlinecolor\": \"#A2B1C6\"}, \"baxis\": {\"endlinecolor\": \"#A2B1C6\", \"gridcolor\": \"#506784\", \"linecolor\": \"#506784\", \"minorgridcolor\": \"#506784\", \"startlinecolor\": \"#A2B1C6\"}, \"type\": \"carpet\"}], \"choropleth\": [{\"colorbar\": {\"outlinewidth\": 0, \"ticks\": \"\"}, \"type\": \"choropleth\"}], \"contour\": [{\"colorbar\": {\"outlinewidth\": 0, \"ticks\": \"\"}, \"colorscale\": [[0.0, \"#0d0887\"], [0.1111111111111111, \"#46039f\"], [0.2222222222222222, \"#7201a8\"], [0.3333333333333333, \"#9c179e\"], [0.4444444444444444, \"#bd3786\"], [0.5555555555555556, \"#d8576b\"], [0.6666666666666666, \"#ed7953\"], [0.7777777777777778, \"#fb9f3a\"], [0.8888888888888888, \"#fdca26\"], [1.0, \"#f0f921\"]], \"type\": \"contour\"}], \"contourcarpet\": [{\"colorbar\": {\"outlinewidth\": 0, \"ticks\": \"\"}, \"type\": \"contourcarpet\"}], \"heatmap\": [{\"colorbar\": {\"outlinewidth\": 0, \"ticks\": \"\"}, \"colorscale\": [[0.0, \"#0d0887\"], [0.1111111111111111, \"#46039f\"], [0.2222222222222222, \"#7201a8\"], [0.3333333333333333, \"#9c179e\"], [0.4444444444444444, \"#bd3786\"], [0.5555555555555556, \"#d8576b\"], [0.6666666666666666, \"#ed7953\"], [0.7777777777777778, \"#fb9f3a\"], [0.8888888888888888, \"#fdca26\"], [1.0, \"#f0f921\"]], \"type\": \"heatmap\"}], \"heatmapgl\": [{\"colorbar\": {\"outlinewidth\": 0, \"ticks\": \"\"}, \"colorscale\": [[0.0, \"#0d0887\"], [0.1111111111111111, \"#46039f\"], [0.2222222222222222, \"#7201a8\"], [0.3333333333333333, \"#9c179e\"], [0.4444444444444444, \"#bd3786\"], [0.5555555555555556, \"#d8576b\"], [0.6666666666666666, \"#ed7953\"], [0.7777777777777778, \"#fb9f3a\"], [0.8888888888888888, \"#fdca26\"], [1.0, \"#f0f921\"]], \"type\": \"heatmapgl\"}], \"histogram\": [{\"marker\": {\"colorbar\": {\"outlinewidth\": 0, \"ticks\": \"\"}}, \"type\": \"histogram\"}], \"histogram2d\": [{\"colorbar\": {\"outlinewidth\": 0, \"ticks\": \"\"}, \"colorscale\": [[0.0, \"#0d0887\"], [0.1111111111111111, \"#46039f\"], [0.2222222222222222, \"#7201a8\"], [0.3333333333333333, \"#9c179e\"], [0.4444444444444444, \"#bd3786\"], [0.5555555555555556, \"#d8576b\"], [0.6666666666666666, \"#ed7953\"], [0.7777777777777778, \"#fb9f3a\"], [0.8888888888888888, \"#fdca26\"], [1.0, \"#f0f921\"]], \"type\": \"histogram2d\"}], \"histogram2dcontour\": [{\"colorbar\": {\"outlinewidth\": 0, \"ticks\": \"\"}, \"colorscale\": [[0.0, \"#0d0887\"], [0.1111111111111111, \"#46039f\"], [0.2222222222222222, \"#7201a8\"], [0.3333333333333333, \"#9c179e\"], [0.4444444444444444, \"#bd3786\"], [0.5555555555555556, \"#d8576b\"], [0.6666666666666666, \"#ed7953\"], [0.7777777777777778, \"#fb9f3a\"], [0.8888888888888888, \"#fdca26\"], [1.0, \"#f0f921\"]], \"type\": \"histogram2dcontour\"}], \"mesh3d\": [{\"colorbar\": {\"outlinewidth\": 0, \"ticks\": \"\"}, \"type\": \"mesh3d\"}], \"parcoords\": [{\"line\": {\"colorbar\": {\"outlinewidth\": 0, \"ticks\": \"\"}}, \"type\": \"parcoords\"}], \"pie\": [{\"automargin\": true, \"type\": \"pie\"}], \"scatter\": [{\"marker\": {\"line\": {\"color\": \"#283442\"}}, \"type\": \"scatter\"}], \"scatter3d\": [{\"line\": {\"colorbar\": {\"outlinewidth\": 0, \"ticks\": \"\"}}, \"marker\": {\"colorbar\": {\"outlinewidth\": 0, \"ticks\": \"\"}}, \"type\": \"scatter3d\"}], \"scattercarpet\": [{\"marker\": {\"colorbar\": {\"outlinewidth\": 0, \"ticks\": \"\"}}, \"type\": \"scattercarpet\"}], \"scattergeo\": [{\"marker\": {\"colorbar\": {\"outlinewidth\": 0, \"ticks\": \"\"}}, \"type\": \"scattergeo\"}], \"scattergl\": [{\"marker\": {\"line\": {\"color\": \"#283442\"}}, \"type\": \"scattergl\"}], \"scattermapbox\": [{\"marker\": {\"colorbar\": {\"outlinewidth\": 0, \"ticks\": \"\"}}, \"type\": \"scattermapbox\"}], \"scatterpolar\": [{\"marker\": {\"colorbar\": {\"outlinewidth\": 0, \"ticks\": \"\"}}, \"type\": \"scatterpolar\"}], \"scatterpolargl\": [{\"marker\": {\"colorbar\": {\"outlinewidth\": 0, \"ticks\": \"\"}}, \"type\": \"scatterpolargl\"}], \"scatterternary\": [{\"marker\": {\"colorbar\": {\"outlinewidth\": 0, \"ticks\": \"\"}}, \"type\": \"scatterternary\"}], \"surface\": [{\"colorbar\": {\"outlinewidth\": 0, \"ticks\": \"\"}, \"colorscale\": [[0.0, \"#0d0887\"], [0.1111111111111111, \"#46039f\"], [0.2222222222222222, \"#7201a8\"], [0.3333333333333333, \"#9c179e\"], [0.4444444444444444, \"#bd3786\"], [0.5555555555555556, \"#d8576b\"], [0.6666666666666666, \"#ed7953\"], [0.7777777777777778, \"#fb9f3a\"], [0.8888888888888888, \"#fdca26\"], [1.0, \"#f0f921\"]], \"type\": \"surface\"}], \"table\": [{\"cells\": {\"fill\": {\"color\": \"#506784\"}, \"line\": {\"color\": \"rgb(17,17,17)\"}}, \"header\": {\"fill\": {\"color\": \"#2a3f5f\"}, \"line\": {\"color\": \"rgb(17,17,17)\"}}, \"type\": \"table\"}]}, \"layout\": {\"annotationdefaults\": {\"arrowcolor\": \"#f2f5fa\", \"arrowhead\": 0, \"arrowwidth\": 1}, \"autotypenumbers\": \"strict\", \"coloraxis\": {\"colorbar\": {\"outlinewidth\": 0, \"ticks\": \"\"}}, \"colorscale\": {\"diverging\": [[0, \"#8e0152\"], [0.1, \"#c51b7d\"], [0.2, \"#de77ae\"], [0.3, \"#f1b6da\"], [0.4, \"#fde0ef\"], [0.5, \"#f7f7f7\"], [0.6, \"#e6f5d0\"], [0.7, \"#b8e186\"], [0.8, \"#7fbc41\"], [0.9, \"#4d9221\"], [1, \"#276419\"]], \"sequential\": [[0.0, \"#0d0887\"], [0.1111111111111111, \"#46039f\"], [0.2222222222222222, \"#7201a8\"], [0.3333333333333333, \"#9c179e\"], [0.4444444444444444, \"#bd3786\"], [0.5555555555555556, \"#d8576b\"], [0.6666666666666666, \"#ed7953\"], [0.7777777777777778, \"#fb9f3a\"], [0.8888888888888888, \"#fdca26\"], [1.0, \"#f0f921\"]], \"sequentialminus\": [[0.0, \"#0d0887\"], [0.1111111111111111, \"#46039f\"], [0.2222222222222222, \"#7201a8\"], [0.3333333333333333, \"#9c179e\"], [0.4444444444444444, \"#bd3786\"], [0.5555555555555556, \"#d8576b\"], [0.6666666666666666, \"#ed7953\"], [0.7777777777777778, \"#fb9f3a\"], [0.8888888888888888, \"#fdca26\"], [1.0, \"#f0f921\"]]}, \"colorway\": [\"#636efa\", \"#EF553B\", \"#00cc96\", \"#ab63fa\", \"#FFA15A\", \"#19d3f3\", \"#FF6692\", \"#B6E880\", \"#FF97FF\", \"#FECB52\"], \"font\": {\"color\": \"#f2f5fa\"}, \"geo\": {\"bgcolor\": \"rgb(17,17,17)\", \"lakecolor\": \"rgb(17,17,17)\", \"landcolor\": \"rgb(17,17,17)\", \"showlakes\": true, \"showland\": true, \"subunitcolor\": \"#506784\"}, \"hoverlabel\": {\"align\": \"left\"}, \"hovermode\": \"closest\", \"mapbox\": {\"style\": \"dark\"}, \"paper_bgcolor\": \"rgb(17,17,17)\", \"plot_bgcolor\": \"rgb(17,17,17)\", \"polar\": {\"angularaxis\": {\"gridcolor\": \"#506784\", \"linecolor\": \"#506784\", \"ticks\": \"\"}, \"bgcolor\": \"rgb(17,17,17)\", \"radialaxis\": {\"gridcolor\": \"#506784\", \"linecolor\": \"#506784\", \"ticks\": \"\"}}, \"scene\": {\"xaxis\": {\"backgroundcolor\": \"rgb(17,17,17)\", \"gridcolor\": \"#506784\", \"gridwidth\": 2, \"linecolor\": \"#506784\", \"showbackground\": true, \"ticks\": \"\", \"zerolinecolor\": \"#C8D4E3\"}, \"yaxis\": {\"backgroundcolor\": \"rgb(17,17,17)\", \"gridcolor\": \"#506784\", \"gridwidth\": 2, \"linecolor\": \"#506784\", \"showbackground\": true, \"ticks\": \"\", \"zerolinecolor\": \"#C8D4E3\"}, \"zaxis\": {\"backgroundcolor\": \"rgb(17,17,17)\", \"gridcolor\": \"#506784\", \"gridwidth\": 2, \"linecolor\": \"#506784\", \"showbackground\": true, \"ticks\": \"\", \"zerolinecolor\": \"#C8D4E3\"}}, \"shapedefaults\": {\"line\": {\"color\": \"#f2f5fa\"}}, \"sliderdefaults\": {\"bgcolor\": \"#C8D4E3\", \"bordercolor\": \"rgb(17,17,17)\", \"borderwidth\": 1, \"tickwidth\": 0}, \"ternary\": {\"aaxis\": {\"gridcolor\": \"#506784\", \"linecolor\": \"#506784\", \"ticks\": \"\"}, \"baxis\": {\"gridcolor\": \"#506784\", \"linecolor\": \"#506784\", \"ticks\": \"\"}, \"bgcolor\": \"rgb(17,17,17)\", \"caxis\": {\"gridcolor\": \"#506784\", \"linecolor\": \"#506784\", \"ticks\": \"\"}}, \"title\": {\"x\": 0.05}, \"updatemenudefaults\": {\"bgcolor\": \"#506784\", \"borderwidth\": 0}, \"xaxis\": {\"automargin\": true, \"gridcolor\": \"#283442\", \"linecolor\": \"#506784\", \"ticks\": \"\", \"title\": {\"standoff\": 15}, \"zerolinecolor\": \"#283442\", \"zerolinewidth\": 2}, \"yaxis\": {\"automargin\": true, \"gridcolor\": \"#283442\", \"linecolor\": \"#506784\", \"ticks\": \"\", \"title\": {\"standoff\": 15}, \"zerolinecolor\": \"#283442\", \"zerolinewidth\": 2}}}, \"title\": {\"text\": \"Mean reporting delay over days\"}, \"width\": 580, \"xaxis\": {\"anchor\": \"y\", \"domain\": [0.0, 1.0], \"nticks\": 10, \"range\": [\"2021-05-10T12:00:00\", \"2021-07-18T12:00:00\"], \"tickangle\": 60, \"title\": {\"text\": \"Exposure date\"}}, \"yaxis\": {\"anchor\": \"x\", \"domain\": [0.0, 1.0], \"title\": {\"text\": \"Mean reporting delay\"}}},                        {\"responsive\": true}                    ).then(function(){\n",
       "                            \n",
       "var gd = document.getElementById('cb4eb126-8bd6-4dfd-b076-17717364df18');\n",
       "var x = new MutationObserver(function (mutations, observer) {{\n",
       "        var display = window.getComputedStyle(gd).display;\n",
       "        if (!display || display === 'none') {{\n",
       "            console.log([gd, 'removed!']);\n",
       "            Plotly.purge(gd);\n",
       "            observer.disconnect();\n",
       "        }}\n",
       "}});\n",
       "\n",
       "// Listen for the removal of the full notebook cells\n",
       "var notebookContainer = gd.closest('#notebook-container');\n",
       "if (notebookContainer) {{\n",
       "    x.observe(notebookContainer, {childList: true});\n",
       "}}\n",
       "\n",
       "// Listen for the clearing of the current output cell\n",
       "var outputEl = gd.closest('.output');\n",
       "if (outputEl) {{\n",
       "    x.observe(outputEl, {childList: true});\n",
       "}}\n",
       "\n",
       "                        })                };                });            </script>        </div>"
      ]
     },
     "metadata": {},
     "output_type": "display_data"
    }
   ],
   "source": [
    "df_delay_anal = df_official.groupby('Exposure_date_dtm').mean().reset_index()\n",
    "\n",
    "fig_delay_anal = px.line(df_delay_anal, \n",
    "                        x='Exposure_date_dtm', template='plotly_dark', y='date_delay', \n",
    "                        color_discrete_sequence=px.colors.qualitative.Set1[0:3], \n",
    "                        title='Mean reporting delay over days')\n",
    "fig_delay_anal.add_vline(x=dt.datetime(2021, 5, 27, 12, 0))\n",
    "fig_delay_anal.add_annotation(x = '2021-05-27', y= 20, text='  5km', xanchor='left', ax=10, ay=20, showarrow=False)\n",
    "fig_delay_anal.add_vline(x=dt.datetime(2021, 6, 3, 12, 0))\n",
    "fig_delay_anal.add_annotation(x = '2021-06-03', y= 20, text='  10km', xanchor='left', ax=10, ay=20, showarrow=False)\n",
    "fig_delay_anal.add_vline(x=dt.datetime(2021, 6, 10, 12, 0))\n",
    "fig_delay_anal.add_annotation(x = '2021-06-10', y= 20, text='  25km', xanchor='left', ax=10, ay=20, showarrow=False)\n",
    "fig_delay_anal.add_vline(x=dt.datetime(2021, 7, 15, 12, 0))\n",
    "fig_delay_anal.add_annotation(x = '2021-07-15', y= 20, text='  5km', xanchor='left', ax=10, ay=20, showarrow=False)\n",
    "\n",
    "\n",
    "\n",
    "fig_delay_anal.add_vline(x=dt.datetime(2021, 5, 23, 12, 0))\n",
    "fig_delay_anal.add_annotation(x = '2021-05-23', y= 20, text='  start', xanchor='right', ax=10, ay=20, showarrow=False)\n",
    "fig_delay_anal.add_annotation(x = '2021-05-23', y= 19, text='  contact', xanchor='right', ax=10, ay=20, showarrow=False)\n",
    "fig_delay_anal.add_annotation(x = '2021-05-23', y= 18, text='  tracing', xanchor='right', ax=10, ay=20, showarrow=False)\n",
    "\n",
    "\n",
    "fig_delay_anal.update_layout(\n",
    "    bargap=0.2, # gap between bars of adjacent location coordinates\n",
    "    xaxis_title = \"Exposure date\", \n",
    "    yaxis_title = \"Mean reporting delay\", \n",
    "    width = width\n",
    ")\n",
    "\n",
    "\n",
    "fig_delay_anal.update_xaxes(\n",
    "    tickangle = 60, \n",
    "    nticks = 10,\n",
    "    range=[df_official.Exposure_date_dtm.min() - dt.timedelta(hours=12), df_official.Added_date_dtm.max() + dt.timedelta(hours=12)]\n",
    ")\n",
    "\n",
    "fig_delay_anal.show()"
   ]
  },
  {
   "cell_type": "code",
   "execution_count": 653,
   "metadata": {
    "scrolled": false
   },
   "outputs": [],
   "source": [
    "cols = px.colors.n_colors( (253,231,37), (168,1,184), 11)\n",
    "cols_norm = ['rgb'+str(tuple([i for i in j])) for j in cols]\n",
    "cols_cut = cols_norm[:10]\n",
    "cols_cut.extend(['rgb(168,1,184)' for i in range(20)])"
   ]
  },
  {
   "cell_type": "code",
   "execution_count": 654,
   "metadata": {},
   "outputs": [
    {
     "data": {
      "application/vnd.plotly.v1+json": {
       "config": {
        "plotlyServerURL": "https://plot.ly"
       },
       "data": [
        {
         "alignmentgroup": "True",
         "bingroup": "x",
         "hovertemplate": "date_delay=0.0<br>Exposure_date_dtm=%{x}<br>count=%{y}<extra></extra>",
         "legendgroup": "0.0",
         "marker": {
          "color": "rgb(253.0, 231.0, 37.0)"
         },
         "name": "0.0",
         "nbinsx": 69,
         "offsetgroup": "0.0",
         "orientation": "v",
         "showlegend": true,
         "type": "histogram",
         "x": [
          "2021-07-14T00:00:00",
          "2021-06-26T00:00:00",
          "2021-07-12T00:00:00",
          "2021-06-26T00:00:00",
          "2021-06-26T00:00:00",
          "2021-05-18T00:00:00"
         ],
         "xaxis": "x",
         "yaxis": "y"
        },
        {
         "alignmentgroup": "True",
         "bingroup": "x",
         "hovertemplate": "date_delay=1.0<br>Exposure_date_dtm=%{x}<br>count=%{y}<extra></extra>",
         "legendgroup": "1.0",
         "marker": {
          "color": "rgb(244.5, 208.0, 51.7)"
         },
         "name": "1.0",
         "nbinsx": 69,
         "offsetgroup": "1.0",
         "orientation": "v",
         "showlegend": true,
         "type": "histogram",
         "x": [
          "2021-06-14T00:00:00",
          "2021-06-15T00:00:00",
          "2021-06-23T00:00:00",
          "2021-05-31T00:00:00",
          "2021-06-23T00:00:00",
          "2021-06-23T00:00:00",
          "2021-06-15T00:00:00",
          "2021-05-23T00:00:00",
          "2021-05-23T00:00:00",
          "2021-05-23T00:00:00",
          "2021-05-23T00:00:00",
          "2021-05-23T00:00:00",
          "2021-05-23T00:00:00",
          "2021-06-25T00:00:00",
          "2021-06-25T00:00:00",
          "2021-07-14T00:00:00",
          "2021-07-15T00:00:00",
          "2021-07-16T00:00:00",
          "2021-07-15T00:00:00",
          "2021-07-15T00:00:00",
          "2021-07-15T00:00:00",
          "2021-07-15T00:00:00",
          "2021-07-15T00:00:00",
          "2021-07-15T00:00:00",
          "2021-07-16T00:00:00",
          "2021-07-14T00:00:00",
          "2021-05-25T00:00:00",
          "2021-06-08T00:00:00",
          "2021-07-17T00:00:00",
          "2021-06-08T00:00:00",
          "2021-07-14T00:00:00",
          "2021-07-15T00:00:00",
          "2021-05-28T00:00:00",
          "2021-06-26T00:00:00",
          "2021-07-15T00:00:00",
          "2021-06-26T00:00:00",
          "2021-05-27T00:00:00",
          "2021-07-13T00:00:00",
          "2021-06-07T00:00:00",
          "2021-06-08T00:00:00",
          "2021-07-11T00:00:00",
          "2021-06-06T00:00:00",
          "2021-07-13T00:00:00",
          "2021-07-11T00:00:00",
          "2021-06-06T00:00:00",
          "2021-06-11T00:00:00",
          "2021-06-26T00:00:00",
          "2021-06-08T00:00:00"
         ],
         "xaxis": "x",
         "yaxis": "y"
        },
        {
         "alignmentgroup": "True",
         "bingroup": "x",
         "hovertemplate": "date_delay=2.0<br>Exposure_date_dtm=%{x}<br>count=%{y}<extra></extra>",
         "legendgroup": "2.0",
         "marker": {
          "color": "rgb(236.0, 185.0, 66.4)"
         },
         "name": "2.0",
         "nbinsx": 69,
         "offsetgroup": "2.0",
         "orientation": "v",
         "showlegend": true,
         "type": "histogram",
         "x": [
          "2021-07-15T00:00:00",
          "2021-05-24T00:00:00",
          "2021-07-15T00:00:00",
          "2021-07-15T00:00:00",
          "2021-05-25T00:00:00",
          "2021-07-15T00:00:00",
          "2021-07-15T00:00:00",
          "2021-07-15T00:00:00",
          "2021-05-24T00:00:00",
          "2021-06-05T00:00:00",
          "2021-05-24T00:00:00",
          "2021-05-24T00:00:00",
          "2021-05-24T00:00:00",
          "2021-06-05T00:00:00",
          "2021-07-15T00:00:00",
          "2021-07-15T00:00:00",
          "2021-07-15T00:00:00",
          "2021-05-25T00:00:00",
          "2021-07-14T00:00:00",
          "2021-07-14T00:00:00",
          "2021-06-07T00:00:00",
          "2021-06-07T00:00:00",
          "2021-07-14T00:00:00",
          "2021-07-14T00:00:00",
          "2021-07-14T00:00:00",
          "2021-07-15T00:00:00",
          "2021-07-14T00:00:00",
          "2021-07-14T00:00:00",
          "2021-07-14T00:00:00",
          "2021-07-14T00:00:00",
          "2021-05-25T00:00:00",
          "2021-05-25T00:00:00",
          "2021-05-25T00:00:00",
          "2021-07-16T00:00:00",
          "2021-07-14T00:00:00",
          "2021-05-24T00:00:00",
          "2021-07-16T00:00:00",
          "2021-06-04T00:00:00",
          "2021-06-22T00:00:00",
          "2021-06-22T00:00:00",
          "2021-05-30T00:00:00",
          "2021-06-22T00:00:00",
          "2021-05-30T00:00:00",
          "2021-06-04T00:00:00",
          "2021-06-13T00:00:00",
          "2021-06-13T00:00:00",
          "2021-06-14T00:00:00",
          "2021-06-13T00:00:00",
          "2021-06-13T00:00:00",
          "2021-06-13T00:00:00",
          "2021-06-13T00:00:00",
          "2021-06-13T00:00:00",
          "2021-06-13T00:00:00",
          "2021-06-03T00:00:00",
          "2021-06-25T00:00:00",
          "2021-06-25T00:00:00",
          "2021-06-13T00:00:00",
          "2021-05-31T00:00:00",
          "2021-06-22T00:00:00",
          "2021-07-14T00:00:00",
          "2021-06-25T00:00:00",
          "2021-06-03T00:00:00",
          "2021-07-16T00:00:00",
          "2021-07-13T00:00:00",
          "2021-07-15T00:00:00",
          "2021-07-15T00:00:00",
          "2021-06-03T00:00:00",
          "2021-05-27T00:00:00",
          "2021-06-03T00:00:00",
          "2021-05-27T00:00:00",
          "2021-05-27T00:00:00",
          "2021-07-14T00:00:00",
          "2021-07-14T00:00:00",
          "2021-06-13T00:00:00",
          "2021-05-28T00:00:00",
          "2021-06-11T00:00:00",
          "2021-06-11T00:00:00",
          "2021-06-13T00:00:00",
          "2021-06-13T00:00:00",
          "2021-06-04T00:00:00",
          "2021-06-04T00:00:00",
          "2021-06-04T00:00:00",
          "2021-07-13T00:00:00",
          "2021-07-13T00:00:00",
          "2021-07-13T00:00:00",
          "2021-07-13T00:00:00",
          "2021-07-12T00:00:00",
          "2021-07-12T00:00:00",
          "2021-07-12T00:00:00",
          "2021-07-13T00:00:00",
          "2021-07-12T00:00:00",
          "2021-07-13T00:00:00",
          "2021-07-13T00:00:00",
          "2021-06-04T00:00:00",
          "2021-07-12T00:00:00",
          "2021-07-12T00:00:00",
          "2021-07-13T00:00:00",
          "2021-07-12T00:00:00",
          "2021-05-26T00:00:00",
          "2021-07-13T00:00:00",
          "2021-07-14T00:00:00",
          "2021-07-14T00:00:00",
          "2021-07-10T00:00:00",
          "2021-07-14T00:00:00",
          "2021-05-26T00:00:00",
          "2021-07-14T00:00:00",
          "2021-07-14T00:00:00",
          "2021-07-10T00:00:00",
          "2021-05-29T00:00:00",
          "2021-07-10T00:00:00",
          "2021-05-29T00:00:00"
         ],
         "xaxis": "x",
         "yaxis": "y"
        },
        {
         "alignmentgroup": "True",
         "bingroup": "x",
         "hovertemplate": "date_delay=3.0<br>Exposure_date_dtm=%{x}<br>count=%{y}<extra></extra>",
         "legendgroup": "3.0",
         "marker": {
          "color": "rgb(227.5, 162.0, 81.1)"
         },
         "name": "3.0",
         "nbinsx": 69,
         "offsetgroup": "3.0",
         "orientation": "v",
         "showlegend": true,
         "type": "histogram",
         "x": [
          "2021-06-21T00:00:00",
          "2021-06-12T00:00:00",
          "2021-07-12T00:00:00",
          "2021-06-03T00:00:00",
          "2021-06-21T00:00:00",
          "2021-07-11T00:00:00",
          "2021-05-28T00:00:00",
          "2021-07-11T00:00:00",
          "2021-07-11T00:00:00",
          "2021-07-11T00:00:00",
          "2021-05-28T00:00:00",
          "2021-05-30T00:00:00",
          "2021-07-13T00:00:00",
          "2021-05-28T00:00:00",
          "2021-07-15T00:00:00",
          "2021-05-28T00:00:00",
          "2021-07-15T00:00:00",
          "2021-05-26T00:00:00",
          "2021-05-28T00:00:00",
          "2021-05-28T00:00:00",
          "2021-07-15T00:00:00",
          "2021-07-15T00:00:00",
          "2021-07-15T00:00:00",
          "2021-07-15T00:00:00",
          "2021-05-28T00:00:00",
          "2021-07-15T00:00:00",
          "2021-07-14T00:00:00",
          "2021-07-14T00:00:00",
          "2021-05-26T00:00:00",
          "2021-05-27T00:00:00",
          "2021-05-27T00:00:00",
          "2021-07-12T00:00:00",
          "2021-07-13T00:00:00",
          "2021-05-26T00:00:00",
          "2021-07-13T00:00:00",
          "2021-05-28T00:00:00",
          "2021-07-13T00:00:00",
          "2021-06-03T00:00:00",
          "2021-07-11T00:00:00",
          "2021-05-23T00:00:00",
          "2021-06-13T00:00:00",
          "2021-06-13T00:00:00",
          "2021-06-13T00:00:00",
          "2021-06-13T00:00:00",
          "2021-07-11T00:00:00",
          "2021-06-02T00:00:00",
          "2021-05-24T00:00:00",
          "2021-06-12T00:00:00",
          "2021-06-13T00:00:00",
          "2021-06-10T00:00:00",
          "2021-06-13T00:00:00",
          "2021-06-02T00:00:00",
          "2021-06-02T00:00:00",
          "2021-06-03T00:00:00",
          "2021-06-03T00:00:00",
          "2021-06-10T00:00:00",
          "2021-06-04T00:00:00",
          "2021-06-04T00:00:00",
          "2021-06-03T00:00:00",
          "2021-06-03T00:00:00",
          "2021-06-07T00:00:00",
          "2021-07-09T00:00:00",
          "2021-06-02T00:00:00",
          "2021-06-22T00:00:00",
          "2021-06-12T00:00:00",
          "2021-06-12T00:00:00",
          "2021-05-23T00:00:00",
          "2021-05-23T00:00:00",
          "2021-05-23T00:00:00",
          "2021-05-23T00:00:00",
          "2021-05-23T00:00:00",
          "2021-05-23T00:00:00",
          "2021-07-15T00:00:00",
          "2021-05-23T00:00:00",
          "2021-05-23T00:00:00",
          "2021-05-23T00:00:00",
          "2021-06-12T00:00:00",
          "2021-05-23T00:00:00",
          "2021-05-23T00:00:00",
          "2021-06-12T00:00:00",
          "2021-06-12T00:00:00",
          "2021-05-23T00:00:00",
          "2021-06-12T00:00:00",
          "2021-06-12T00:00:00",
          "2021-06-12T00:00:00",
          "2021-06-12T00:00:00",
          "2021-06-12T00:00:00",
          "2021-06-12T00:00:00",
          "2021-05-23T00:00:00",
          "2021-07-15T00:00:00",
          "2021-07-13T00:00:00",
          "2021-07-14T00:00:00",
          "2021-07-12T00:00:00",
          "2021-07-14T00:00:00",
          "2021-05-24T00:00:00",
          "2021-07-14T00:00:00",
          "2021-05-24T00:00:00",
          "2021-05-24T00:00:00",
          "2021-07-12T00:00:00",
          "2021-07-12T00:00:00",
          "2021-07-12T00:00:00",
          "2021-07-14T00:00:00",
          "2021-07-14T00:00:00",
          "2021-07-14T00:00:00",
          "2021-07-14T00:00:00",
          "2021-07-12T00:00:00",
          "2021-07-14T00:00:00",
          "2021-07-14T00:00:00",
          "2021-07-14T00:00:00",
          "2021-07-12T00:00:00",
          "2021-07-12T00:00:00",
          "2021-07-12T00:00:00",
          "2021-07-12T00:00:00",
          "2021-07-12T00:00:00",
          "2021-07-12T00:00:00",
          "2021-05-23T00:00:00",
          "2021-07-15T00:00:00",
          "2021-07-12T00:00:00",
          "2021-07-15T00:00:00",
          "2021-05-24T00:00:00",
          "2021-05-21T00:00:00",
          "2021-07-12T00:00:00",
          "2021-05-24T00:00:00",
          "2021-07-13T00:00:00",
          "2021-07-13T00:00:00",
          "2021-07-13T00:00:00",
          "2021-07-13T00:00:00",
          "2021-05-25T00:00:00",
          "2021-05-25T00:00:00",
          "2021-07-13T00:00:00",
          "2021-07-13T00:00:00",
          "2021-07-13T00:00:00",
          "2021-05-25T00:00:00",
          "2021-07-13T00:00:00",
          "2021-05-25T00:00:00",
          "2021-07-13T00:00:00",
          "2021-05-25T00:00:00",
          "2021-05-25T00:00:00",
          "2021-07-13T00:00:00",
          "2021-05-24T00:00:00",
          "2021-07-12T00:00:00",
          "2021-07-12T00:00:00",
          "2021-05-24T00:00:00",
          "2021-07-14T00:00:00",
          "2021-07-14T00:00:00",
          "2021-05-24T00:00:00",
          "2021-07-12T00:00:00",
          "2021-07-14T00:00:00",
          "2021-07-14T00:00:00",
          "2021-05-24T00:00:00",
          "2021-07-14T00:00:00",
          "2021-07-12T00:00:00",
          "2021-07-15T00:00:00",
          "2021-05-26T00:00:00",
          "2021-07-12T00:00:00",
          "2021-07-15T00:00:00",
          "2021-07-12T00:00:00",
          "2021-05-21T00:00:00",
          "2021-07-15T00:00:00",
          "2021-07-15T00:00:00",
          "2021-05-27T00:00:00",
          "2021-05-27T00:00:00",
          "2021-07-12T00:00:00",
          "2021-05-26T00:00:00",
          "2021-05-21T00:00:00"
         ],
         "xaxis": "x",
         "yaxis": "y"
        },
        {
         "alignmentgroup": "True",
         "bingroup": "x",
         "hovertemplate": "date_delay=4.0<br>Exposure_date_dtm=%{x}<br>count=%{y}<extra></extra>",
         "legendgroup": "4.0",
         "marker": {
          "color": "rgb(219.0, 139.0, 95.8)"
         },
         "name": "4.0",
         "nbinsx": 69,
         "offsetgroup": "4.0",
         "orientation": "v",
         "showlegend": true,
         "type": "histogram",
         "x": [
          "2021-05-23T00:00:00",
          "2021-05-23T00:00:00",
          "2021-05-25T00:00:00",
          "2021-06-09T00:00:00",
          "2021-06-09T00:00:00",
          "2021-05-25T00:00:00",
          "2021-06-12T00:00:00",
          "2021-06-12T00:00:00",
          "2021-05-24T00:00:00",
          "2021-06-12T00:00:00",
          "2021-05-23T00:00:00",
          "2021-06-11T00:00:00",
          "2021-05-25T00:00:00",
          "2021-05-23T00:00:00",
          "2021-05-23T00:00:00",
          "2021-05-23T00:00:00",
          "2021-06-12T00:00:00",
          "2021-06-11T00:00:00",
          "2021-05-25T00:00:00",
          "2021-06-01T00:00:00",
          "2021-05-27T00:00:00",
          "2021-05-27T00:00:00",
          "2021-05-24T00:00:00",
          "2021-06-06T00:00:00",
          "2021-05-27T00:00:00",
          "2021-06-07T00:00:00",
          "2021-06-08T00:00:00",
          "2021-05-27T00:00:00",
          "2021-05-27T00:00:00",
          "2021-06-02T00:00:00",
          "2021-06-02T00:00:00",
          "2021-05-23T00:00:00",
          "2021-05-28T00:00:00",
          "2021-05-26T00:00:00",
          "2021-06-08T00:00:00",
          "2021-06-08T00:00:00",
          "2021-06-08T00:00:00",
          "2021-05-27T00:00:00",
          "2021-05-27T00:00:00",
          "2021-05-27T00:00:00",
          "2021-05-27T00:00:00",
          "2021-05-26T00:00:00",
          "2021-05-26T00:00:00",
          "2021-05-27T00:00:00",
          "2021-05-26T00:00:00",
          "2021-06-01T00:00:00",
          "2021-05-27T00:00:00",
          "2021-05-24T00:00:00",
          "2021-05-25T00:00:00",
          "2021-05-27T00:00:00",
          "2021-05-28T00:00:00",
          "2021-05-28T00:00:00",
          "2021-06-03T00:00:00",
          "2021-05-20T00:00:00",
          "2021-06-02T00:00:00",
          "2021-05-20T00:00:00",
          "2021-05-20T00:00:00",
          "2021-05-20T00:00:00",
          "2021-05-31T00:00:00",
          "2021-05-27T00:00:00",
          "2021-05-31T00:00:00",
          "2021-05-31T00:00:00",
          "2021-05-22T00:00:00",
          "2021-06-05T00:00:00",
          "2021-05-31T00:00:00",
          "2021-05-20T00:00:00",
          "2021-05-20T00:00:00",
          "2021-05-31T00:00:00",
          "2021-05-27T00:00:00",
          "2021-05-28T00:00:00",
          "2021-05-26T00:00:00",
          "2021-05-26T00:00:00",
          "2021-05-26T00:00:00",
          "2021-05-27T00:00:00",
          "2021-05-27T00:00:00",
          "2021-05-26T00:00:00",
          "2021-05-26T00:00:00",
          "2021-05-26T00:00:00",
          "2021-05-26T00:00:00",
          "2021-05-24T00:00:00",
          "2021-05-27T00:00:00",
          "2021-05-23T00:00:00",
          "2021-05-27T00:00:00",
          "2021-05-26T00:00:00",
          "2021-05-27T00:00:00",
          "2021-05-27T00:00:00",
          "2021-05-27T00:00:00",
          "2021-05-26T00:00:00",
          "2021-05-26T00:00:00",
          "2021-05-26T00:00:00",
          "2021-05-26T00:00:00",
          "2021-05-20T00:00:00",
          "2021-05-26T00:00:00",
          "2021-05-26T00:00:00",
          "2021-05-26T00:00:00",
          "2021-05-27T00:00:00",
          "2021-07-08T00:00:00",
          "2021-07-14T00:00:00",
          "2021-07-14T00:00:00",
          "2021-07-13T00:00:00",
          "2021-07-12T00:00:00",
          "2021-07-12T00:00:00",
          "2021-07-12T00:00:00",
          "2021-07-12T00:00:00",
          "2021-07-14T00:00:00",
          "2021-07-12T00:00:00",
          "2021-07-12T00:00:00",
          "2021-06-11T00:00:00",
          "2021-06-20T00:00:00",
          "2021-06-20T00:00:00",
          "2021-07-12T00:00:00",
          "2021-07-13T00:00:00",
          "2021-06-20T00:00:00",
          "2021-06-20T00:00:00",
          "2021-06-20T00:00:00",
          "2021-07-12T00:00:00",
          "2021-06-20T00:00:00",
          "2021-06-20T00:00:00",
          "2021-06-20T00:00:00",
          "2021-07-10T00:00:00",
          "2021-07-12T00:00:00",
          "2021-07-12T00:00:00",
          "2021-07-14T00:00:00",
          "2021-06-12T00:00:00",
          "2021-06-12T00:00:00",
          "2021-06-12T00:00:00",
          "2021-06-20T00:00:00",
          "2021-07-14T00:00:00",
          "2021-07-13T00:00:00",
          "2021-07-13T00:00:00",
          "2021-07-14T00:00:00",
          "2021-07-14T00:00:00",
          "2021-07-14T00:00:00",
          "2021-07-14T00:00:00",
          "2021-07-14T00:00:00",
          "2021-07-14T00:00:00",
          "2021-07-14T00:00:00",
          "2021-07-10T00:00:00",
          "2021-07-10T00:00:00",
          "2021-07-10T00:00:00",
          "2021-07-13T00:00:00",
          "2021-07-13T00:00:00",
          "2021-07-13T00:00:00",
          "2021-07-13T00:00:00",
          "2021-07-13T00:00:00",
          "2021-07-14T00:00:00",
          "2021-07-13T00:00:00",
          "2021-07-13T00:00:00",
          "2021-07-13T00:00:00",
          "2021-07-13T00:00:00",
          "2021-07-14T00:00:00",
          "2021-07-13T00:00:00",
          "2021-07-13T00:00:00",
          "2021-07-13T00:00:00",
          "2021-07-13T00:00:00",
          "2021-07-13T00:00:00",
          "2021-07-13T00:00:00",
          "2021-07-14T00:00:00",
          "2021-07-12T00:00:00",
          "2021-06-12T00:00:00",
          "2021-06-12T00:00:00",
          "2021-06-11T00:00:00",
          "2021-07-10T00:00:00",
          "2021-07-10T00:00:00",
          "2021-07-10T00:00:00",
          "2021-07-10T00:00:00",
          "2021-07-10T00:00:00",
          "2021-07-10T00:00:00",
          "2021-07-10T00:00:00",
          "2021-07-14T00:00:00",
          "2021-07-14T00:00:00",
          "2021-07-14T00:00:00",
          "2021-07-14T00:00:00",
          "2021-06-05T00:00:00",
          "2021-07-14T00:00:00",
          "2021-07-10T00:00:00",
          "2021-07-10T00:00:00",
          "2021-07-10T00:00:00",
          "2021-07-10T00:00:00",
          "2021-07-10T00:00:00",
          "2021-07-10T00:00:00",
          "2021-07-14T00:00:00",
          "2021-07-14T00:00:00",
          "2021-07-08T00:00:00",
          "2021-07-08T00:00:00",
          "2021-06-12T00:00:00",
          "2021-07-10T00:00:00",
          "2021-07-14T00:00:00",
          "2021-06-03T00:00:00",
          "2021-07-14T00:00:00",
          "2021-07-14T00:00:00",
          "2021-07-14T00:00:00",
          "2021-06-11T00:00:00",
          "2021-05-26T00:00:00",
          "2021-06-11T00:00:00",
          "2021-06-03T00:00:00",
          "2021-07-14T00:00:00",
          "2021-06-11T00:00:00",
          "2021-07-14T00:00:00",
          "2021-07-13T00:00:00",
          "2021-06-03T00:00:00",
          "2021-06-11T00:00:00",
          "2021-06-11T00:00:00",
          "2021-06-11T00:00:00",
          "2021-06-05T00:00:00",
          "2021-07-14T00:00:00",
          "2021-07-12T00:00:00",
          "2021-06-11T00:00:00",
          "2021-06-11T00:00:00",
          "2021-06-03T00:00:00"
         ],
         "xaxis": "x",
         "yaxis": "y"
        },
        {
         "alignmentgroup": "True",
         "bingroup": "x",
         "hovertemplate": "date_delay=5.0<br>Exposure_date_dtm=%{x}<br>count=%{y}<extra></extra>",
         "legendgroup": "5.0",
         "marker": {
          "color": "rgb(210.5, 116.0, 110.5)"
         },
         "name": "5.0",
         "nbinsx": 69,
         "offsetgroup": "5.0",
         "orientation": "v",
         "showlegend": true,
         "type": "histogram",
         "x": [
          "2021-05-26T00:00:00",
          "2021-07-13T00:00:00",
          "2021-05-20T00:00:00",
          "2021-07-13T00:00:00",
          "2021-05-20T00:00:00",
          "2021-07-13T00:00:00",
          "2021-07-13T00:00:00",
          "2021-07-13T00:00:00",
          "2021-05-26T00:00:00",
          "2021-05-26T00:00:00",
          "2021-05-26T00:00:00",
          "2021-05-26T00:00:00",
          "2021-05-23T00:00:00",
          "2021-07-13T00:00:00",
          "2021-07-13T00:00:00",
          "2021-05-21T00:00:00",
          "2021-05-19T00:00:00",
          "2021-07-13T00:00:00",
          "2021-07-09T00:00:00",
          "2021-05-23T00:00:00",
          "2021-05-21T00:00:00",
          "2021-05-25T00:00:00",
          "2021-07-09T00:00:00",
          "2021-05-25T00:00:00",
          "2021-07-09T00:00:00",
          "2021-07-09T00:00:00",
          "2021-05-25T00:00:00",
          "2021-05-25T00:00:00",
          "2021-05-25T00:00:00",
          "2021-07-09T00:00:00",
          "2021-05-26T00:00:00",
          "2021-07-09T00:00:00",
          "2021-07-09T00:00:00",
          "2021-07-09T00:00:00",
          "2021-07-09T00:00:00",
          "2021-07-09T00:00:00",
          "2021-07-09T00:00:00",
          "2021-07-09T00:00:00",
          "2021-07-09T00:00:00",
          "2021-05-26T00:00:00",
          "2021-05-21T00:00:00",
          "2021-07-09T00:00:00",
          "2021-05-25T00:00:00",
          "2021-05-21T00:00:00",
          "2021-05-21T00:00:00",
          "2021-05-21T00:00:00",
          "2021-05-23T00:00:00",
          "2021-07-09T00:00:00",
          "2021-07-09T00:00:00",
          "2021-07-12T00:00:00",
          "2021-07-12T00:00:00",
          "2021-05-25T00:00:00",
          "2021-07-09T00:00:00",
          "2021-05-26T00:00:00",
          "2021-05-24T00:00:00",
          "2021-05-24T00:00:00",
          "2021-07-10T00:00:00",
          "2021-07-10T00:00:00",
          "2021-07-10T00:00:00",
          "2021-07-10T00:00:00",
          "2021-05-25T00:00:00",
          "2021-07-12T00:00:00",
          "2021-05-26T00:00:00",
          "2021-07-09T00:00:00",
          "2021-05-26T00:00:00",
          "2021-07-13T00:00:00",
          "2021-05-31T00:00:00",
          "2021-07-13T00:00:00",
          "2021-05-26T00:00:00",
          "2021-05-26T00:00:00",
          "2021-07-13T00:00:00",
          "2021-07-09T00:00:00",
          "2021-07-13T00:00:00",
          "2021-05-28T00:00:00",
          "2021-07-10T00:00:00",
          "2021-05-23T00:00:00",
          "2021-05-23T00:00:00",
          "2021-07-08T00:00:00",
          "2021-05-28T00:00:00",
          "2021-05-30T00:00:00",
          "2021-07-08T00:00:00",
          "2021-05-31T00:00:00",
          "2021-05-31T00:00:00",
          "2021-05-31T00:00:00",
          "2021-06-04T00:00:00",
          "2021-05-31T00:00:00",
          "2021-05-31T00:00:00",
          "2021-05-31T00:00:00",
          "2021-05-31T00:00:00",
          "2021-06-05T00:00:00",
          "2021-05-31T00:00:00",
          "2021-06-10T00:00:00",
          "2021-06-04T00:00:00",
          "2021-06-01T00:00:00",
          "2021-06-10T00:00:00",
          "2021-05-26T00:00:00",
          "2021-05-26T00:00:00",
          "2021-07-09T00:00:00",
          "2021-07-09T00:00:00",
          "2021-07-13T00:00:00",
          "2021-05-26T00:00:00",
          "2021-05-31T00:00:00",
          "2021-06-10T00:00:00",
          "2021-06-10T00:00:00",
          "2021-05-23T00:00:00",
          "2021-06-10T00:00:00",
          "2021-06-10T00:00:00"
         ],
         "xaxis": "x",
         "yaxis": "y"
        },
        {
         "alignmentgroup": "True",
         "bingroup": "x",
         "hovertemplate": "date_delay=6.0<br>Exposure_date_dtm=%{x}<br>count=%{y}<extra></extra>",
         "legendgroup": "6.0",
         "marker": {
          "color": "rgb(202.0, 93.0, 125.19999999999999)"
         },
         "name": "6.0",
         "nbinsx": 69,
         "offsetgroup": "6.0",
         "orientation": "v",
         "showlegend": true,
         "type": "histogram",
         "x": [
          "2021-07-08T00:00:00",
          "2021-07-09T00:00:00",
          "2021-05-24T00:00:00",
          "2021-05-24T00:00:00",
          "2021-07-08T00:00:00",
          "2021-05-24T00:00:00",
          "2021-06-09T00:00:00",
          "2021-07-09T00:00:00",
          "2021-05-24T00:00:00",
          "2021-07-08T00:00:00",
          "2021-05-24T00:00:00",
          "2021-07-09T00:00:00",
          "2021-05-31T00:00:00",
          "2021-05-24T00:00:00",
          "2021-05-25T00:00:00",
          "2021-05-25T00:00:00",
          "2021-05-24T00:00:00",
          "2021-05-24T00:00:00",
          "2021-07-08T00:00:00",
          "2021-07-09T00:00:00",
          "2021-07-09T00:00:00",
          "2021-05-24T00:00:00",
          "2021-07-08T00:00:00",
          "2021-06-05T00:00:00",
          "2021-05-24T00:00:00",
          "2021-05-21T00:00:00",
          "2021-07-09T00:00:00",
          "2021-05-20T00:00:00",
          "2021-05-23T00:00:00",
          "2021-07-12T00:00:00",
          "2021-07-12T00:00:00",
          "2021-05-20T00:00:00",
          "2021-07-12T00:00:00",
          "2021-05-25T00:00:00",
          "2021-07-12T00:00:00",
          "2021-05-19T00:00:00",
          "2021-06-03T00:00:00",
          "2021-05-20T00:00:00",
          "2021-05-19T00:00:00",
          "2021-05-19T00:00:00",
          "2021-05-19T00:00:00",
          "2021-07-12T00:00:00",
          "2021-05-23T00:00:00",
          "2021-05-18T00:00:00",
          "2021-05-23T00:00:00",
          "2021-06-03T00:00:00",
          "2021-07-12T00:00:00",
          "2021-07-08T00:00:00",
          "2021-05-21T00:00:00",
          "2021-05-20T00:00:00",
          "2021-05-26T00:00:00",
          "2021-05-26T00:00:00"
         ],
         "xaxis": "x",
         "yaxis": "y"
        },
        {
         "alignmentgroup": "True",
         "bingroup": "x",
         "hovertemplate": "date_delay=7.0<br>Exposure_date_dtm=%{x}<br>count=%{y}<extra></extra>",
         "legendgroup": "7.0",
         "marker": {
          "color": "rgb(193.5, 70.0, 139.89999999999998)"
         },
         "name": "7.0",
         "nbinsx": 69,
         "offsetgroup": "7.0",
         "orientation": "v",
         "showlegend": true,
         "type": "histogram",
         "x": [
          "2021-07-11T00:00:00",
          "2021-07-11T00:00:00",
          "2021-07-11T00:00:00",
          "2021-07-11T00:00:00",
          "2021-05-23T00:00:00",
          "2021-05-23T00:00:00",
          "2021-05-23T00:00:00",
          "2021-05-23T00:00:00",
          "2021-05-26T00:00:00",
          "2021-05-23T00:00:00",
          "2021-05-23T00:00:00",
          "2021-05-26T00:00:00",
          "2021-06-02T00:00:00",
          "2021-05-23T00:00:00",
          "2021-05-23T00:00:00",
          "2021-05-23T00:00:00",
          "2021-05-30T00:00:00",
          "2021-05-23T00:00:00",
          "2021-07-09T00:00:00",
          "2021-05-17T00:00:00",
          "2021-05-29T00:00:00",
          "2021-05-20T00:00:00",
          "2021-05-25T00:00:00",
          "2021-05-29T00:00:00",
          "2021-06-02T00:00:00",
          "2021-05-30T00:00:00",
          "2021-05-30T00:00:00",
          "2021-07-11T00:00:00",
          "2021-07-11T00:00:00",
          "2021-07-11T00:00:00",
          "2021-07-11T00:00:00",
          "2021-05-30T00:00:00",
          "2021-06-08T00:00:00"
         ],
         "xaxis": "x",
         "yaxis": "y"
        },
        {
         "alignmentgroup": "True",
         "bingroup": "x",
         "hovertemplate": "date_delay=8.0<br>Exposure_date_dtm=%{x}<br>count=%{y}<extra></extra>",
         "legendgroup": "8.0",
         "marker": {
          "color": "rgb(185.0, 47.0, 154.6)"
         },
         "name": "8.0",
         "nbinsx": 69,
         "offsetgroup": "8.0",
         "orientation": "v",
         "showlegend": true,
         "type": "histogram",
         "x": [
          "2021-05-23T00:00:00",
          "2021-05-22T00:00:00",
          "2021-05-24T00:00:00",
          "2021-06-01T00:00:00",
          "2021-05-24T00:00:00",
          "2021-05-24T00:00:00",
          "2021-05-25T00:00:00",
          "2021-05-23T00:00:00",
          "2021-05-25T00:00:00",
          "2021-05-25T00:00:00",
          "2021-05-23T00:00:00",
          "2021-06-01T00:00:00",
          "2021-05-23T00:00:00",
          "2021-05-26T00:00:00",
          "2021-05-30T00:00:00",
          "2021-05-30T00:00:00",
          "2021-05-30T00:00:00",
          "2021-05-30T00:00:00",
          "2021-05-30T00:00:00",
          "2021-05-30T00:00:00",
          "2021-05-30T00:00:00",
          "2021-06-07T00:00:00",
          "2021-07-02T00:00:00",
          "2021-05-30T00:00:00",
          "2021-05-18T00:00:00",
          "2021-05-17T00:00:00",
          "2021-05-27T00:00:00",
          "2021-05-27T00:00:00",
          "2021-05-27T00:00:00"
         ],
         "xaxis": "x",
         "yaxis": "y"
        },
        {
         "alignmentgroup": "True",
         "bingroup": "x",
         "hovertemplate": "date_delay=9.0<br>Exposure_date_dtm=%{x}<br>count=%{y}<extra></extra>",
         "legendgroup": "9.0",
         "marker": {
          "color": "rgb(176.5, 24.0, 169.29999999999998)"
         },
         "name": "9.0",
         "nbinsx": 69,
         "offsetgroup": "9.0",
         "orientation": "v",
         "showlegend": true,
         "type": "histogram",
         "x": [
          "2021-05-25T00:00:00",
          "2021-05-19T00:00:00",
          "2021-05-25T00:00:00",
          "2021-06-06T00:00:00",
          "2021-05-25T00:00:00",
          "2021-05-26T00:00:00",
          "2021-05-26T00:00:00",
          "2021-05-31T00:00:00",
          "2021-05-24T00:00:00",
          "2021-05-23T00:00:00",
          "2021-05-19T00:00:00",
          "2021-05-23T00:00:00",
          "2021-05-21T00:00:00",
          "2021-05-21T00:00:00",
          "2021-05-31T00:00:00",
          "2021-05-21T00:00:00",
          "2021-05-23T00:00:00",
          "2021-05-19T00:00:00",
          "2021-05-19T00:00:00",
          "2021-05-19T00:00:00",
          "2021-05-19T00:00:00"
         ],
         "xaxis": "x",
         "yaxis": "y"
        },
        {
         "alignmentgroup": "True",
         "bingroup": "x",
         "hovertemplate": "date_delay=10.0<br>Exposure_date_dtm=%{x}<br>count=%{y}<extra></extra>",
         "legendgroup": "10.0",
         "marker": {
          "color": "rgb(168,1,184)"
         },
         "name": "10.0",
         "nbinsx": 69,
         "offsetgroup": "10.0",
         "orientation": "v",
         "showlegend": true,
         "type": "histogram",
         "x": [
          "2021-05-30T00:00:00",
          "2021-05-20T00:00:00",
          "2021-05-30T00:00:00",
          "2021-05-25T00:00:00",
          "2021-05-24T00:00:00",
          "2021-06-01T00:00:00",
          "2021-05-20T00:00:00",
          "2021-06-05T00:00:00",
          "2021-05-18T00:00:00",
          "2021-05-18T00:00:00",
          "2021-05-31T00:00:00",
          "2021-05-18T00:00:00",
          "2021-05-18T00:00:00",
          "2021-05-20T00:00:00",
          "2021-05-21T00:00:00"
         ],
         "xaxis": "x",
         "yaxis": "y"
        },
        {
         "alignmentgroup": "True",
         "bingroup": "x",
         "hovertemplate": "date_delay=11.0<br>Exposure_date_dtm=%{x}<br>count=%{y}<extra></extra>",
         "legendgroup": "11.0",
         "marker": {
          "color": "rgb(168,1,184)"
         },
         "name": "11.0",
         "nbinsx": 69,
         "offsetgroup": "11.0",
         "orientation": "v",
         "showlegend": true,
         "type": "histogram",
         "x": [
          "2021-05-29T00:00:00",
          "2021-05-19T00:00:00",
          "2021-06-04T00:00:00",
          "2021-05-31T00:00:00",
          "2021-05-19T00:00:00",
          "2021-05-29T00:00:00",
          "2021-05-19T00:00:00",
          "2021-05-31T00:00:00"
         ],
         "xaxis": "x",
         "yaxis": "y"
        },
        {
         "alignmentgroup": "True",
         "bingroup": "x",
         "hovertemplate": "date_delay=12.0<br>Exposure_date_dtm=%{x}<br>count=%{y}<extra></extra>",
         "legendgroup": "12.0",
         "marker": {
          "color": "rgb(168,1,184)"
         },
         "name": "12.0",
         "nbinsx": 69,
         "offsetgroup": "12.0",
         "orientation": "v",
         "showlegend": true,
         "type": "histogram",
         "x": [
          "2021-05-28T00:00:00",
          "2021-05-18T00:00:00",
          "2021-06-03T00:00:00",
          "2021-05-28T00:00:00",
          "2021-05-18T00:00:00",
          "2021-05-18T00:00:00",
          "2021-05-18T00:00:00"
         ],
         "xaxis": "x",
         "yaxis": "y"
        },
        {
         "alignmentgroup": "True",
         "bingroup": "x",
         "hovertemplate": "date_delay=13.0<br>Exposure_date_dtm=%{x}<br>count=%{y}<extra></extra>",
         "legendgroup": "13.0",
         "marker": {
          "color": "rgb(168,1,184)"
         },
         "name": "13.0",
         "nbinsx": 69,
         "offsetgroup": "13.0",
         "orientation": "v",
         "showlegend": true,
         "type": "histogram",
         "x": [
          "2021-05-28T00:00:00",
          "2021-05-28T00:00:00",
          "2021-05-27T00:00:00",
          "2021-05-14T00:00:00",
          "2021-05-14T00:00:00",
          "2021-05-14T00:00:00",
          "2021-05-17T00:00:00",
          "2021-05-17T00:00:00",
          "2021-06-02T00:00:00",
          "2021-05-17T00:00:00",
          "2021-05-17T00:00:00",
          "2021-05-27T00:00:00",
          "2021-05-27T00:00:00"
         ],
         "xaxis": "x",
         "yaxis": "y"
        },
        {
         "alignmentgroup": "True",
         "bingroup": "x",
         "hovertemplate": "date_delay=14.0<br>Exposure_date_dtm=%{x}<br>count=%{y}<extra></extra>",
         "legendgroup": "14.0",
         "marker": {
          "color": "rgb(168,1,184)"
         },
         "name": "14.0",
         "nbinsx": 69,
         "offsetgroup": "14.0",
         "orientation": "v",
         "showlegend": true,
         "type": "histogram",
         "x": [
          "2021-05-13T00:00:00",
          "2021-05-26T00:00:00",
          "2021-05-26T00:00:00",
          "2021-05-18T00:00:00",
          "2021-05-26T00:00:00"
         ],
         "xaxis": "x",
         "yaxis": "y"
        },
        {
         "alignmentgroup": "True",
         "bingroup": "x",
         "hovertemplate": "date_delay=15.0<br>Exposure_date_dtm=%{x}<br>count=%{y}<extra></extra>",
         "legendgroup": "15.0",
         "marker": {
          "color": "rgb(168,1,184)"
         },
         "name": "15.0",
         "nbinsx": 69,
         "offsetgroup": "15.0",
         "orientation": "v",
         "showlegend": true,
         "type": "histogram",
         "x": [
          "2021-05-27T00:00:00",
          "2021-05-15T00:00:00",
          "2021-05-15T00:00:00",
          "2021-05-27T00:00:00"
         ],
         "xaxis": "x",
         "yaxis": "y"
        },
        {
         "alignmentgroup": "True",
         "bingroup": "x",
         "hovertemplate": "date_delay=16.0<br>Exposure_date_dtm=%{x}<br>count=%{y}<extra></extra>",
         "legendgroup": "16.0",
         "marker": {
          "color": "rgb(168,1,184)"
         },
         "name": "16.0",
         "nbinsx": 69,
         "offsetgroup": "16.0",
         "orientation": "v",
         "showlegend": true,
         "type": "histogram",
         "x": [
          "2021-05-26T00:00:00",
          "2021-05-15T00:00:00"
         ],
         "xaxis": "x",
         "yaxis": "y"
        },
        {
         "alignmentgroup": "True",
         "bingroup": "x",
         "hovertemplate": "date_delay=17.0<br>Exposure_date_dtm=%{x}<br>count=%{y}<extra></extra>",
         "legendgroup": "17.0",
         "marker": {
          "color": "rgb(168,1,184)"
         },
         "name": "17.0",
         "nbinsx": 69,
         "offsetgroup": "17.0",
         "orientation": "v",
         "showlegend": true,
         "type": "histogram",
         "x": [
          "2021-05-25T00:00:00",
          "2021-05-13T00:00:00"
         ],
         "xaxis": "x",
         "yaxis": "y"
        },
        {
         "alignmentgroup": "True",
         "bingroup": "x",
         "hovertemplate": "date_delay=18.0<br>Exposure_date_dtm=%{x}<br>count=%{y}<extra></extra>",
         "legendgroup": "18.0",
         "marker": {
          "color": "rgb(168,1,184)"
         },
         "name": "18.0",
         "nbinsx": 69,
         "offsetgroup": "18.0",
         "orientation": "v",
         "showlegend": true,
         "type": "histogram",
         "x": [
          "2021-05-12T00:00:00",
          "2021-05-24T00:00:00"
         ],
         "xaxis": "x",
         "yaxis": "y"
        },
        {
         "alignmentgroup": "True",
         "bingroup": "x",
         "hovertemplate": "date_delay=19.0<br>Exposure_date_dtm=%{x}<br>count=%{y}<extra></extra>",
         "legendgroup": "19.0",
         "marker": {
          "color": "rgb(168,1,184)"
         },
         "name": "19.0",
         "nbinsx": 69,
         "offsetgroup": "19.0",
         "orientation": "v",
         "showlegend": true,
         "type": "histogram",
         "x": [
          "2021-05-12T00:00:00",
          "2021-05-23T00:00:00"
         ],
         "xaxis": "x",
         "yaxis": "y"
        },
        {
         "alignmentgroup": "True",
         "bingroup": "x",
         "hovertemplate": "date_delay=20.0<br>Exposure_date_dtm=%{x}<br>count=%{y}<extra></extra>",
         "legendgroup": "20.0",
         "marker": {
          "color": "rgb(168,1,184)"
         },
         "name": "20.0",
         "nbinsx": 69,
         "offsetgroup": "20.0",
         "orientation": "v",
         "showlegend": true,
         "type": "histogram",
         "x": [
          "2021-05-22T00:00:00",
          "2021-05-11T00:00:00",
          "2021-05-11T00:00:00",
          "2021-05-22T00:00:00",
          "2021-05-11T00:00:00",
          "2021-05-22T00:00:00"
         ],
         "xaxis": "x",
         "yaxis": "y"
        },
        {
         "alignmentgroup": "True",
         "bingroup": "x",
         "hovertemplate": "date_delay=21.0<br>Exposure_date_dtm=%{x}<br>count=%{y}<extra></extra>",
         "legendgroup": "21.0",
         "marker": {
          "color": "rgb(168,1,184)"
         },
         "name": "21.0",
         "nbinsx": 69,
         "offsetgroup": "21.0",
         "orientation": "v",
         "showlegend": true,
         "type": "histogram",
         "x": [
          "2021-05-21T00:00:00",
          "2021-05-21T00:00:00",
          "2021-05-21T00:00:00",
          "2021-05-21T00:00:00",
          "2021-05-21T00:00:00"
         ],
         "xaxis": "x",
         "yaxis": "y"
        },
        {
         "alignmentgroup": "True",
         "bingroup": "x",
         "hovertemplate": "date_delay=22.0<br>Exposure_date_dtm=%{x}<br>count=%{y}<extra></extra>",
         "legendgroup": "22.0",
         "marker": {
          "color": "rgb(168,1,184)"
         },
         "name": "22.0",
         "nbinsx": 69,
         "offsetgroup": "22.0",
         "orientation": "v",
         "showlegend": true,
         "type": "histogram",
         "x": [
          "2021-05-20T00:00:00"
         ],
         "xaxis": "x",
         "yaxis": "y"
        },
        {
         "alignmentgroup": "True",
         "bingroup": "x",
         "hovertemplate": "date_delay=23.0<br>Exposure_date_dtm=%{x}<br>count=%{y}<extra></extra>",
         "legendgroup": "23.0",
         "marker": {
          "color": "rgb(168,1,184)"
         },
         "name": "23.0",
         "nbinsx": 69,
         "offsetgroup": "23.0",
         "orientation": "v",
         "showlegend": true,
         "type": "histogram",
         "x": [
          "2021-05-19T00:00:00"
         ],
         "xaxis": "x",
         "yaxis": "y"
        },
        {
         "alignmentgroup": "True",
         "bingroup": "x",
         "hovertemplate": "date_delay=24.0<br>Exposure_date_dtm=%{x}<br>count=%{y}<extra></extra>",
         "legendgroup": "24.0",
         "marker": {
          "color": "rgb(168,1,184)"
         },
         "name": "24.0",
         "nbinsx": 69,
         "offsetgroup": "24.0",
         "orientation": "v",
         "showlegend": true,
         "type": "histogram",
         "x": [
          "2021-05-18T00:00:00",
          "2021-05-21T00:00:00"
         ],
         "xaxis": "x",
         "yaxis": "y"
        },
        {
         "alignmentgroup": "True",
         "bingroup": "x",
         "hovertemplate": "date_delay=25.0<br>Exposure_date_dtm=%{x}<br>count=%{y}<extra></extra>",
         "legendgroup": "25.0",
         "marker": {
          "color": "rgb(168,1,184)"
         },
         "name": "25.0",
         "nbinsx": 69,
         "offsetgroup": "25.0",
         "orientation": "v",
         "showlegend": true,
         "type": "histogram",
         "x": [
          "2021-05-18T00:00:00"
         ],
         "xaxis": "x",
         "yaxis": "y"
        },
        {
         "alignmentgroup": "True",
         "bingroup": "x",
         "hovertemplate": "date_delay=27.0<br>Exposure_date_dtm=%{x}<br>count=%{y}<extra></extra>",
         "legendgroup": "27.0",
         "marker": {
          "color": "rgb(168,1,184)"
         },
         "name": "27.0",
         "nbinsx": 69,
         "offsetgroup": "27.0",
         "orientation": "v",
         "showlegend": true,
         "type": "histogram",
         "x": [
          "2021-05-18T00:00:00",
          "2021-05-18T00:00:00"
         ],
         "xaxis": "x",
         "yaxis": "y"
        }
       ],
       "layout": {
        "annotations": [
         {
          "ax": 10,
          "ay": 20,
          "showarrow": false,
          "text": "  5km",
          "x": "2021-05-27",
          "xanchor": "left",
          "y": 80
         },
         {
          "ax": 10,
          "ay": 20,
          "showarrow": false,
          "text": "  10km",
          "x": "2021-06-03",
          "xanchor": "left",
          "y": 60
         },
         {
          "ax": 10,
          "ay": 20,
          "showarrow": false,
          "text": "  25km",
          "x": "2021-06-10",
          "xanchor": "left",
          "y": 40
         },
         {
          "ax": 10,
          "ay": 20,
          "showarrow": false,
          "text": "  5km",
          "x": "2021-07-15",
          "xanchor": "right",
          "y": 80
         }
        ],
        "bargap": 0.2,
        "barmode": "relative",
        "legend": {
         "title": {
          "text": "date_delay"
         },
         "tracegroupgap": 0
        },
        "shapes": [
         {
          "type": "line",
          "x0": "2021-05-27T12:00:00",
          "x1": "2021-05-27T12:00:00",
          "xref": "x",
          "y0": 0,
          "y1": 1,
          "yref": "y domain"
         },
         {
          "type": "line",
          "x0": "2021-06-03T12:00:00",
          "x1": "2021-06-03T12:00:00",
          "xref": "x",
          "y0": 0,
          "y1": 1,
          "yref": "y domain"
         },
         {
          "type": "line",
          "x0": "2021-06-10T12:00:00",
          "x1": "2021-06-10T12:00:00",
          "xref": "x",
          "y0": 0,
          "y1": 1,
          "yref": "y domain"
         },
         {
          "type": "line",
          "x0": "2021-07-15T12:00:00",
          "x1": "2021-07-15T12:00:00",
          "xref": "x",
          "y0": 0,
          "y1": 1,
          "yref": "y domain"
         }
        ],
        "template": {
         "data": {
          "bar": [
           {
            "error_x": {
             "color": "#f2f5fa"
            },
            "error_y": {
             "color": "#f2f5fa"
            },
            "marker": {
             "line": {
              "color": "rgb(17,17,17)",
              "width": 0.5
             }
            },
            "type": "bar"
           }
          ],
          "barpolar": [
           {
            "marker": {
             "line": {
              "color": "rgb(17,17,17)",
              "width": 0.5
             }
            },
            "type": "barpolar"
           }
          ],
          "carpet": [
           {
            "aaxis": {
             "endlinecolor": "#A2B1C6",
             "gridcolor": "#506784",
             "linecolor": "#506784",
             "minorgridcolor": "#506784",
             "startlinecolor": "#A2B1C6"
            },
            "baxis": {
             "endlinecolor": "#A2B1C6",
             "gridcolor": "#506784",
             "linecolor": "#506784",
             "minorgridcolor": "#506784",
             "startlinecolor": "#A2B1C6"
            },
            "type": "carpet"
           }
          ],
          "choropleth": [
           {
            "colorbar": {
             "outlinewidth": 0,
             "ticks": ""
            },
            "type": "choropleth"
           }
          ],
          "contour": [
           {
            "colorbar": {
             "outlinewidth": 0,
             "ticks": ""
            },
            "colorscale": [
             [
              0,
              "#0d0887"
             ],
             [
              0.1111111111111111,
              "#46039f"
             ],
             [
              0.2222222222222222,
              "#7201a8"
             ],
             [
              0.3333333333333333,
              "#9c179e"
             ],
             [
              0.4444444444444444,
              "#bd3786"
             ],
             [
              0.5555555555555556,
              "#d8576b"
             ],
             [
              0.6666666666666666,
              "#ed7953"
             ],
             [
              0.7777777777777778,
              "#fb9f3a"
             ],
             [
              0.8888888888888888,
              "#fdca26"
             ],
             [
              1,
              "#f0f921"
             ]
            ],
            "type": "contour"
           }
          ],
          "contourcarpet": [
           {
            "colorbar": {
             "outlinewidth": 0,
             "ticks": ""
            },
            "type": "contourcarpet"
           }
          ],
          "heatmap": [
           {
            "colorbar": {
             "outlinewidth": 0,
             "ticks": ""
            },
            "colorscale": [
             [
              0,
              "#0d0887"
             ],
             [
              0.1111111111111111,
              "#46039f"
             ],
             [
              0.2222222222222222,
              "#7201a8"
             ],
             [
              0.3333333333333333,
              "#9c179e"
             ],
             [
              0.4444444444444444,
              "#bd3786"
             ],
             [
              0.5555555555555556,
              "#d8576b"
             ],
             [
              0.6666666666666666,
              "#ed7953"
             ],
             [
              0.7777777777777778,
              "#fb9f3a"
             ],
             [
              0.8888888888888888,
              "#fdca26"
             ],
             [
              1,
              "#f0f921"
             ]
            ],
            "type": "heatmap"
           }
          ],
          "heatmapgl": [
           {
            "colorbar": {
             "outlinewidth": 0,
             "ticks": ""
            },
            "colorscale": [
             [
              0,
              "#0d0887"
             ],
             [
              0.1111111111111111,
              "#46039f"
             ],
             [
              0.2222222222222222,
              "#7201a8"
             ],
             [
              0.3333333333333333,
              "#9c179e"
             ],
             [
              0.4444444444444444,
              "#bd3786"
             ],
             [
              0.5555555555555556,
              "#d8576b"
             ],
             [
              0.6666666666666666,
              "#ed7953"
             ],
             [
              0.7777777777777778,
              "#fb9f3a"
             ],
             [
              0.8888888888888888,
              "#fdca26"
             ],
             [
              1,
              "#f0f921"
             ]
            ],
            "type": "heatmapgl"
           }
          ],
          "histogram": [
           {
            "marker": {
             "colorbar": {
              "outlinewidth": 0,
              "ticks": ""
             }
            },
            "type": "histogram"
           }
          ],
          "histogram2d": [
           {
            "colorbar": {
             "outlinewidth": 0,
             "ticks": ""
            },
            "colorscale": [
             [
              0,
              "#0d0887"
             ],
             [
              0.1111111111111111,
              "#46039f"
             ],
             [
              0.2222222222222222,
              "#7201a8"
             ],
             [
              0.3333333333333333,
              "#9c179e"
             ],
             [
              0.4444444444444444,
              "#bd3786"
             ],
             [
              0.5555555555555556,
              "#d8576b"
             ],
             [
              0.6666666666666666,
              "#ed7953"
             ],
             [
              0.7777777777777778,
              "#fb9f3a"
             ],
             [
              0.8888888888888888,
              "#fdca26"
             ],
             [
              1,
              "#f0f921"
             ]
            ],
            "type": "histogram2d"
           }
          ],
          "histogram2dcontour": [
           {
            "colorbar": {
             "outlinewidth": 0,
             "ticks": ""
            },
            "colorscale": [
             [
              0,
              "#0d0887"
             ],
             [
              0.1111111111111111,
              "#46039f"
             ],
             [
              0.2222222222222222,
              "#7201a8"
             ],
             [
              0.3333333333333333,
              "#9c179e"
             ],
             [
              0.4444444444444444,
              "#bd3786"
             ],
             [
              0.5555555555555556,
              "#d8576b"
             ],
             [
              0.6666666666666666,
              "#ed7953"
             ],
             [
              0.7777777777777778,
              "#fb9f3a"
             ],
             [
              0.8888888888888888,
              "#fdca26"
             ],
             [
              1,
              "#f0f921"
             ]
            ],
            "type": "histogram2dcontour"
           }
          ],
          "mesh3d": [
           {
            "colorbar": {
             "outlinewidth": 0,
             "ticks": ""
            },
            "type": "mesh3d"
           }
          ],
          "parcoords": [
           {
            "line": {
             "colorbar": {
              "outlinewidth": 0,
              "ticks": ""
             }
            },
            "type": "parcoords"
           }
          ],
          "pie": [
           {
            "automargin": true,
            "type": "pie"
           }
          ],
          "scatter": [
           {
            "marker": {
             "line": {
              "color": "#283442"
             }
            },
            "type": "scatter"
           }
          ],
          "scatter3d": [
           {
            "line": {
             "colorbar": {
              "outlinewidth": 0,
              "ticks": ""
             }
            },
            "marker": {
             "colorbar": {
              "outlinewidth": 0,
              "ticks": ""
             }
            },
            "type": "scatter3d"
           }
          ],
          "scattercarpet": [
           {
            "marker": {
             "colorbar": {
              "outlinewidth": 0,
              "ticks": ""
             }
            },
            "type": "scattercarpet"
           }
          ],
          "scattergeo": [
           {
            "marker": {
             "colorbar": {
              "outlinewidth": 0,
              "ticks": ""
             }
            },
            "type": "scattergeo"
           }
          ],
          "scattergl": [
           {
            "marker": {
             "line": {
              "color": "#283442"
             }
            },
            "type": "scattergl"
           }
          ],
          "scattermapbox": [
           {
            "marker": {
             "colorbar": {
              "outlinewidth": 0,
              "ticks": ""
             }
            },
            "type": "scattermapbox"
           }
          ],
          "scatterpolar": [
           {
            "marker": {
             "colorbar": {
              "outlinewidth": 0,
              "ticks": ""
             }
            },
            "type": "scatterpolar"
           }
          ],
          "scatterpolargl": [
           {
            "marker": {
             "colorbar": {
              "outlinewidth": 0,
              "ticks": ""
             }
            },
            "type": "scatterpolargl"
           }
          ],
          "scatterternary": [
           {
            "marker": {
             "colorbar": {
              "outlinewidth": 0,
              "ticks": ""
             }
            },
            "type": "scatterternary"
           }
          ],
          "surface": [
           {
            "colorbar": {
             "outlinewidth": 0,
             "ticks": ""
            },
            "colorscale": [
             [
              0,
              "#0d0887"
             ],
             [
              0.1111111111111111,
              "#46039f"
             ],
             [
              0.2222222222222222,
              "#7201a8"
             ],
             [
              0.3333333333333333,
              "#9c179e"
             ],
             [
              0.4444444444444444,
              "#bd3786"
             ],
             [
              0.5555555555555556,
              "#d8576b"
             ],
             [
              0.6666666666666666,
              "#ed7953"
             ],
             [
              0.7777777777777778,
              "#fb9f3a"
             ],
             [
              0.8888888888888888,
              "#fdca26"
             ],
             [
              1,
              "#f0f921"
             ]
            ],
            "type": "surface"
           }
          ],
          "table": [
           {
            "cells": {
             "fill": {
              "color": "#506784"
             },
             "line": {
              "color": "rgb(17,17,17)"
             }
            },
            "header": {
             "fill": {
              "color": "#2a3f5f"
             },
             "line": {
              "color": "rgb(17,17,17)"
             }
            },
            "type": "table"
           }
          ]
         },
         "layout": {
          "annotationdefaults": {
           "arrowcolor": "#f2f5fa",
           "arrowhead": 0,
           "arrowwidth": 1
          },
          "autotypenumbers": "strict",
          "coloraxis": {
           "colorbar": {
            "outlinewidth": 0,
            "ticks": ""
           }
          },
          "colorscale": {
           "diverging": [
            [
             0,
             "#8e0152"
            ],
            [
             0.1,
             "#c51b7d"
            ],
            [
             0.2,
             "#de77ae"
            ],
            [
             0.3,
             "#f1b6da"
            ],
            [
             0.4,
             "#fde0ef"
            ],
            [
             0.5,
             "#f7f7f7"
            ],
            [
             0.6,
             "#e6f5d0"
            ],
            [
             0.7,
             "#b8e186"
            ],
            [
             0.8,
             "#7fbc41"
            ],
            [
             0.9,
             "#4d9221"
            ],
            [
             1,
             "#276419"
            ]
           ],
           "sequential": [
            [
             0,
             "#0d0887"
            ],
            [
             0.1111111111111111,
             "#46039f"
            ],
            [
             0.2222222222222222,
             "#7201a8"
            ],
            [
             0.3333333333333333,
             "#9c179e"
            ],
            [
             0.4444444444444444,
             "#bd3786"
            ],
            [
             0.5555555555555556,
             "#d8576b"
            ],
            [
             0.6666666666666666,
             "#ed7953"
            ],
            [
             0.7777777777777778,
             "#fb9f3a"
            ],
            [
             0.8888888888888888,
             "#fdca26"
            ],
            [
             1,
             "#f0f921"
            ]
           ],
           "sequentialminus": [
            [
             0,
             "#0d0887"
            ],
            [
             0.1111111111111111,
             "#46039f"
            ],
            [
             0.2222222222222222,
             "#7201a8"
            ],
            [
             0.3333333333333333,
             "#9c179e"
            ],
            [
             0.4444444444444444,
             "#bd3786"
            ],
            [
             0.5555555555555556,
             "#d8576b"
            ],
            [
             0.6666666666666666,
             "#ed7953"
            ],
            [
             0.7777777777777778,
             "#fb9f3a"
            ],
            [
             0.8888888888888888,
             "#fdca26"
            ],
            [
             1,
             "#f0f921"
            ]
           ]
          },
          "colorway": [
           "#636efa",
           "#EF553B",
           "#00cc96",
           "#ab63fa",
           "#FFA15A",
           "#19d3f3",
           "#FF6692",
           "#B6E880",
           "#FF97FF",
           "#FECB52"
          ],
          "font": {
           "color": "#f2f5fa"
          },
          "geo": {
           "bgcolor": "rgb(17,17,17)",
           "lakecolor": "rgb(17,17,17)",
           "landcolor": "rgb(17,17,17)",
           "showlakes": true,
           "showland": true,
           "subunitcolor": "#506784"
          },
          "hoverlabel": {
           "align": "left"
          },
          "hovermode": "closest",
          "mapbox": {
           "style": "dark"
          },
          "paper_bgcolor": "rgb(17,17,17)",
          "plot_bgcolor": "rgb(17,17,17)",
          "polar": {
           "angularaxis": {
            "gridcolor": "#506784",
            "linecolor": "#506784",
            "ticks": ""
           },
           "bgcolor": "rgb(17,17,17)",
           "radialaxis": {
            "gridcolor": "#506784",
            "linecolor": "#506784",
            "ticks": ""
           }
          },
          "scene": {
           "xaxis": {
            "backgroundcolor": "rgb(17,17,17)",
            "gridcolor": "#506784",
            "gridwidth": 2,
            "linecolor": "#506784",
            "showbackground": true,
            "ticks": "",
            "zerolinecolor": "#C8D4E3"
           },
           "yaxis": {
            "backgroundcolor": "rgb(17,17,17)",
            "gridcolor": "#506784",
            "gridwidth": 2,
            "linecolor": "#506784",
            "showbackground": true,
            "ticks": "",
            "zerolinecolor": "#C8D4E3"
           },
           "zaxis": {
            "backgroundcolor": "rgb(17,17,17)",
            "gridcolor": "#506784",
            "gridwidth": 2,
            "linecolor": "#506784",
            "showbackground": true,
            "ticks": "",
            "zerolinecolor": "#C8D4E3"
           }
          },
          "shapedefaults": {
           "line": {
            "color": "#f2f5fa"
           }
          },
          "sliderdefaults": {
           "bgcolor": "#C8D4E3",
           "bordercolor": "rgb(17,17,17)",
           "borderwidth": 1,
           "tickwidth": 0
          },
          "ternary": {
           "aaxis": {
            "gridcolor": "#506784",
            "linecolor": "#506784",
            "ticks": ""
           },
           "baxis": {
            "gridcolor": "#506784",
            "linecolor": "#506784",
            "ticks": ""
           },
           "bgcolor": "rgb(17,17,17)",
           "caxis": {
            "gridcolor": "#506784",
            "linecolor": "#506784",
            "ticks": ""
           }
          },
          "title": {
           "x": 0.05
          },
          "updatemenudefaults": {
           "bgcolor": "#506784",
           "borderwidth": 0
          },
          "xaxis": {
           "automargin": true,
           "gridcolor": "#283442",
           "linecolor": "#506784",
           "ticks": "",
           "title": {
            "standoff": 15
           },
           "zerolinecolor": "#283442",
           "zerolinewidth": 2
          },
          "yaxis": {
           "automargin": true,
           "gridcolor": "#283442",
           "linecolor": "#506784",
           "ticks": "",
           "title": {
            "standoff": 15
           },
           "zerolinecolor": "#283442",
           "zerolinewidth": 2
          }
         }
        },
        "title": {
         "text": "Reporting delay for different exposure dates"
        },
        "width": 580,
        "xaxis": {
         "anchor": "y",
         "domain": [
          0,
          1
         ],
         "nticks": 10,
         "range": [
          "2021-05-10T12:00:00",
          "2021-07-18T12:00:00"
         ],
         "tickangle": 60,
         "title": {
          "text": "Exposure date"
         }
        },
        "yaxis": {
         "anchor": "x",
         "domain": [
          0,
          1
         ],
         "title": {
          "text": "Number of exposure sites"
         }
        }
       }
      },
      "text/html": [
       "<div>                            <div id=\"597b42b3-d5d2-4a46-8687-39a66e4c4082\" class=\"plotly-graph-div\" style=\"height:525px; width:580px;\"></div>            <script type=\"text/javascript\">                require([\"plotly\"], function(Plotly) {                    window.PLOTLYENV=window.PLOTLYENV || {};                                    if (document.getElementById(\"597b42b3-d5d2-4a46-8687-39a66e4c4082\")) {                    Plotly.newPlot(                        \"597b42b3-d5d2-4a46-8687-39a66e4c4082\",                        [{\"alignmentgroup\": \"True\", \"bingroup\": \"x\", \"hovertemplate\": \"date_delay=0.0<br>Exposure_date_dtm=%{x}<br>count=%{y}<extra></extra>\", \"legendgroup\": \"0.0\", \"marker\": {\"color\": \"rgb(253.0, 231.0, 37.0)\"}, \"name\": \"0.0\", \"nbinsx\": 69, \"offsetgroup\": \"0.0\", \"orientation\": \"v\", \"showlegend\": true, \"type\": \"histogram\", \"x\": [\"2021-07-14T00:00:00\", \"2021-06-26T00:00:00\", \"2021-07-12T00:00:00\", \"2021-06-26T00:00:00\", \"2021-06-26T00:00:00\", \"2021-05-18T00:00:00\"], \"xaxis\": \"x\", \"yaxis\": \"y\"}, {\"alignmentgroup\": \"True\", \"bingroup\": \"x\", \"hovertemplate\": \"date_delay=1.0<br>Exposure_date_dtm=%{x}<br>count=%{y}<extra></extra>\", \"legendgroup\": \"1.0\", \"marker\": {\"color\": \"rgb(244.5, 208.0, 51.7)\"}, \"name\": \"1.0\", \"nbinsx\": 69, \"offsetgroup\": \"1.0\", \"orientation\": \"v\", \"showlegend\": true, \"type\": \"histogram\", \"x\": [\"2021-06-14T00:00:00\", \"2021-06-15T00:00:00\", \"2021-06-23T00:00:00\", \"2021-05-31T00:00:00\", \"2021-06-23T00:00:00\", \"2021-06-23T00:00:00\", \"2021-06-15T00:00:00\", \"2021-05-23T00:00:00\", \"2021-05-23T00:00:00\", \"2021-05-23T00:00:00\", \"2021-05-23T00:00:00\", \"2021-05-23T00:00:00\", \"2021-05-23T00:00:00\", \"2021-06-25T00:00:00\", \"2021-06-25T00:00:00\", \"2021-07-14T00:00:00\", \"2021-07-15T00:00:00\", \"2021-07-16T00:00:00\", \"2021-07-15T00:00:00\", \"2021-07-15T00:00:00\", \"2021-07-15T00:00:00\", \"2021-07-15T00:00:00\", \"2021-07-15T00:00:00\", \"2021-07-15T00:00:00\", \"2021-07-16T00:00:00\", \"2021-07-14T00:00:00\", \"2021-05-25T00:00:00\", \"2021-06-08T00:00:00\", \"2021-07-17T00:00:00\", \"2021-06-08T00:00:00\", \"2021-07-14T00:00:00\", \"2021-07-15T00:00:00\", \"2021-05-28T00:00:00\", \"2021-06-26T00:00:00\", \"2021-07-15T00:00:00\", \"2021-06-26T00:00:00\", \"2021-05-27T00:00:00\", \"2021-07-13T00:00:00\", \"2021-06-07T00:00:00\", \"2021-06-08T00:00:00\", \"2021-07-11T00:00:00\", \"2021-06-06T00:00:00\", \"2021-07-13T00:00:00\", \"2021-07-11T00:00:00\", \"2021-06-06T00:00:00\", \"2021-06-11T00:00:00\", \"2021-06-26T00:00:00\", \"2021-06-08T00:00:00\"], \"xaxis\": \"x\", \"yaxis\": \"y\"}, {\"alignmentgroup\": \"True\", \"bingroup\": \"x\", \"hovertemplate\": \"date_delay=2.0<br>Exposure_date_dtm=%{x}<br>count=%{y}<extra></extra>\", \"legendgroup\": \"2.0\", \"marker\": {\"color\": \"rgb(236.0, 185.0, 66.4)\"}, \"name\": \"2.0\", \"nbinsx\": 69, \"offsetgroup\": \"2.0\", \"orientation\": \"v\", \"showlegend\": true, \"type\": \"histogram\", \"x\": [\"2021-07-15T00:00:00\", \"2021-05-24T00:00:00\", \"2021-07-15T00:00:00\", \"2021-07-15T00:00:00\", \"2021-05-25T00:00:00\", \"2021-07-15T00:00:00\", \"2021-07-15T00:00:00\", \"2021-07-15T00:00:00\", \"2021-05-24T00:00:00\", \"2021-06-05T00:00:00\", \"2021-05-24T00:00:00\", \"2021-05-24T00:00:00\", \"2021-05-24T00:00:00\", \"2021-06-05T00:00:00\", \"2021-07-15T00:00:00\", \"2021-07-15T00:00:00\", \"2021-07-15T00:00:00\", \"2021-05-25T00:00:00\", \"2021-07-14T00:00:00\", \"2021-07-14T00:00:00\", \"2021-06-07T00:00:00\", \"2021-06-07T00:00:00\", \"2021-07-14T00:00:00\", \"2021-07-14T00:00:00\", \"2021-07-14T00:00:00\", \"2021-07-15T00:00:00\", \"2021-07-14T00:00:00\", \"2021-07-14T00:00:00\", \"2021-07-14T00:00:00\", \"2021-07-14T00:00:00\", \"2021-05-25T00:00:00\", \"2021-05-25T00:00:00\", \"2021-05-25T00:00:00\", \"2021-07-16T00:00:00\", \"2021-07-14T00:00:00\", \"2021-05-24T00:00:00\", \"2021-07-16T00:00:00\", \"2021-06-04T00:00:00\", \"2021-06-22T00:00:00\", \"2021-06-22T00:00:00\", \"2021-05-30T00:00:00\", \"2021-06-22T00:00:00\", \"2021-05-30T00:00:00\", \"2021-06-04T00:00:00\", \"2021-06-13T00:00:00\", \"2021-06-13T00:00:00\", \"2021-06-14T00:00:00\", \"2021-06-13T00:00:00\", \"2021-06-13T00:00:00\", \"2021-06-13T00:00:00\", \"2021-06-13T00:00:00\", \"2021-06-13T00:00:00\", \"2021-06-13T00:00:00\", \"2021-06-03T00:00:00\", \"2021-06-25T00:00:00\", \"2021-06-25T00:00:00\", \"2021-06-13T00:00:00\", \"2021-05-31T00:00:00\", \"2021-06-22T00:00:00\", \"2021-07-14T00:00:00\", \"2021-06-25T00:00:00\", \"2021-06-03T00:00:00\", \"2021-07-16T00:00:00\", \"2021-07-13T00:00:00\", \"2021-07-15T00:00:00\", \"2021-07-15T00:00:00\", \"2021-06-03T00:00:00\", \"2021-05-27T00:00:00\", \"2021-06-03T00:00:00\", \"2021-05-27T00:00:00\", \"2021-05-27T00:00:00\", \"2021-07-14T00:00:00\", \"2021-07-14T00:00:00\", \"2021-06-13T00:00:00\", \"2021-05-28T00:00:00\", \"2021-06-11T00:00:00\", \"2021-06-11T00:00:00\", \"2021-06-13T00:00:00\", \"2021-06-13T00:00:00\", \"2021-06-04T00:00:00\", \"2021-06-04T00:00:00\", \"2021-06-04T00:00:00\", \"2021-07-13T00:00:00\", \"2021-07-13T00:00:00\", \"2021-07-13T00:00:00\", \"2021-07-13T00:00:00\", \"2021-07-12T00:00:00\", \"2021-07-12T00:00:00\", \"2021-07-12T00:00:00\", \"2021-07-13T00:00:00\", \"2021-07-12T00:00:00\", \"2021-07-13T00:00:00\", \"2021-07-13T00:00:00\", \"2021-06-04T00:00:00\", \"2021-07-12T00:00:00\", \"2021-07-12T00:00:00\", \"2021-07-13T00:00:00\", \"2021-07-12T00:00:00\", \"2021-05-26T00:00:00\", \"2021-07-13T00:00:00\", \"2021-07-14T00:00:00\", \"2021-07-14T00:00:00\", \"2021-07-10T00:00:00\", \"2021-07-14T00:00:00\", \"2021-05-26T00:00:00\", \"2021-07-14T00:00:00\", \"2021-07-14T00:00:00\", \"2021-07-10T00:00:00\", \"2021-05-29T00:00:00\", \"2021-07-10T00:00:00\", \"2021-05-29T00:00:00\"], \"xaxis\": \"x\", \"yaxis\": \"y\"}, {\"alignmentgroup\": \"True\", \"bingroup\": \"x\", \"hovertemplate\": \"date_delay=3.0<br>Exposure_date_dtm=%{x}<br>count=%{y}<extra></extra>\", \"legendgroup\": \"3.0\", \"marker\": {\"color\": \"rgb(227.5, 162.0, 81.1)\"}, \"name\": \"3.0\", \"nbinsx\": 69, \"offsetgroup\": \"3.0\", \"orientation\": \"v\", \"showlegend\": true, \"type\": \"histogram\", \"x\": [\"2021-06-21T00:00:00\", \"2021-06-12T00:00:00\", \"2021-07-12T00:00:00\", \"2021-06-03T00:00:00\", \"2021-06-21T00:00:00\", \"2021-07-11T00:00:00\", \"2021-05-28T00:00:00\", \"2021-07-11T00:00:00\", \"2021-07-11T00:00:00\", \"2021-07-11T00:00:00\", \"2021-05-28T00:00:00\", \"2021-05-30T00:00:00\", \"2021-07-13T00:00:00\", \"2021-05-28T00:00:00\", \"2021-07-15T00:00:00\", \"2021-05-28T00:00:00\", \"2021-07-15T00:00:00\", \"2021-05-26T00:00:00\", \"2021-05-28T00:00:00\", \"2021-05-28T00:00:00\", \"2021-07-15T00:00:00\", \"2021-07-15T00:00:00\", \"2021-07-15T00:00:00\", \"2021-07-15T00:00:00\", \"2021-05-28T00:00:00\", \"2021-07-15T00:00:00\", \"2021-07-14T00:00:00\", \"2021-07-14T00:00:00\", \"2021-05-26T00:00:00\", \"2021-05-27T00:00:00\", \"2021-05-27T00:00:00\", \"2021-07-12T00:00:00\", \"2021-07-13T00:00:00\", \"2021-05-26T00:00:00\", \"2021-07-13T00:00:00\", \"2021-05-28T00:00:00\", \"2021-07-13T00:00:00\", \"2021-06-03T00:00:00\", \"2021-07-11T00:00:00\", \"2021-05-23T00:00:00\", \"2021-06-13T00:00:00\", \"2021-06-13T00:00:00\", \"2021-06-13T00:00:00\", \"2021-06-13T00:00:00\", \"2021-07-11T00:00:00\", \"2021-06-02T00:00:00\", \"2021-05-24T00:00:00\", \"2021-06-12T00:00:00\", \"2021-06-13T00:00:00\", \"2021-06-10T00:00:00\", \"2021-06-13T00:00:00\", \"2021-06-02T00:00:00\", \"2021-06-02T00:00:00\", \"2021-06-03T00:00:00\", \"2021-06-03T00:00:00\", \"2021-06-10T00:00:00\", \"2021-06-04T00:00:00\", \"2021-06-04T00:00:00\", \"2021-06-03T00:00:00\", \"2021-06-03T00:00:00\", \"2021-06-07T00:00:00\", \"2021-07-09T00:00:00\", \"2021-06-02T00:00:00\", \"2021-06-22T00:00:00\", \"2021-06-12T00:00:00\", \"2021-06-12T00:00:00\", \"2021-05-23T00:00:00\", \"2021-05-23T00:00:00\", \"2021-05-23T00:00:00\", \"2021-05-23T00:00:00\", \"2021-05-23T00:00:00\", \"2021-05-23T00:00:00\", \"2021-07-15T00:00:00\", \"2021-05-23T00:00:00\", \"2021-05-23T00:00:00\", \"2021-05-23T00:00:00\", \"2021-06-12T00:00:00\", \"2021-05-23T00:00:00\", \"2021-05-23T00:00:00\", \"2021-06-12T00:00:00\", \"2021-06-12T00:00:00\", \"2021-05-23T00:00:00\", \"2021-06-12T00:00:00\", \"2021-06-12T00:00:00\", \"2021-06-12T00:00:00\", \"2021-06-12T00:00:00\", \"2021-06-12T00:00:00\", \"2021-06-12T00:00:00\", \"2021-05-23T00:00:00\", \"2021-07-15T00:00:00\", \"2021-07-13T00:00:00\", \"2021-07-14T00:00:00\", \"2021-07-12T00:00:00\", \"2021-07-14T00:00:00\", \"2021-05-24T00:00:00\", \"2021-07-14T00:00:00\", \"2021-05-24T00:00:00\", \"2021-05-24T00:00:00\", \"2021-07-12T00:00:00\", \"2021-07-12T00:00:00\", \"2021-07-12T00:00:00\", \"2021-07-14T00:00:00\", \"2021-07-14T00:00:00\", \"2021-07-14T00:00:00\", \"2021-07-14T00:00:00\", \"2021-07-12T00:00:00\", \"2021-07-14T00:00:00\", \"2021-07-14T00:00:00\", \"2021-07-14T00:00:00\", \"2021-07-12T00:00:00\", \"2021-07-12T00:00:00\", \"2021-07-12T00:00:00\", \"2021-07-12T00:00:00\", \"2021-07-12T00:00:00\", \"2021-07-12T00:00:00\", \"2021-05-23T00:00:00\", \"2021-07-15T00:00:00\", \"2021-07-12T00:00:00\", \"2021-07-15T00:00:00\", \"2021-05-24T00:00:00\", \"2021-05-21T00:00:00\", \"2021-07-12T00:00:00\", \"2021-05-24T00:00:00\", \"2021-07-13T00:00:00\", \"2021-07-13T00:00:00\", \"2021-07-13T00:00:00\", \"2021-07-13T00:00:00\", \"2021-05-25T00:00:00\", \"2021-05-25T00:00:00\", \"2021-07-13T00:00:00\", \"2021-07-13T00:00:00\", \"2021-07-13T00:00:00\", \"2021-05-25T00:00:00\", \"2021-07-13T00:00:00\", \"2021-05-25T00:00:00\", \"2021-07-13T00:00:00\", \"2021-05-25T00:00:00\", \"2021-05-25T00:00:00\", \"2021-07-13T00:00:00\", \"2021-05-24T00:00:00\", \"2021-07-12T00:00:00\", \"2021-07-12T00:00:00\", \"2021-05-24T00:00:00\", \"2021-07-14T00:00:00\", \"2021-07-14T00:00:00\", \"2021-05-24T00:00:00\", \"2021-07-12T00:00:00\", \"2021-07-14T00:00:00\", \"2021-07-14T00:00:00\", \"2021-05-24T00:00:00\", \"2021-07-14T00:00:00\", \"2021-07-12T00:00:00\", \"2021-07-15T00:00:00\", \"2021-05-26T00:00:00\", \"2021-07-12T00:00:00\", \"2021-07-15T00:00:00\", \"2021-07-12T00:00:00\", \"2021-05-21T00:00:00\", \"2021-07-15T00:00:00\", \"2021-07-15T00:00:00\", \"2021-05-27T00:00:00\", \"2021-05-27T00:00:00\", \"2021-07-12T00:00:00\", \"2021-05-26T00:00:00\", \"2021-05-21T00:00:00\"], \"xaxis\": \"x\", \"yaxis\": \"y\"}, {\"alignmentgroup\": \"True\", \"bingroup\": \"x\", \"hovertemplate\": \"date_delay=4.0<br>Exposure_date_dtm=%{x}<br>count=%{y}<extra></extra>\", \"legendgroup\": \"4.0\", \"marker\": {\"color\": \"rgb(219.0, 139.0, 95.8)\"}, \"name\": \"4.0\", \"nbinsx\": 69, \"offsetgroup\": \"4.0\", \"orientation\": \"v\", \"showlegend\": true, \"type\": \"histogram\", \"x\": [\"2021-05-23T00:00:00\", \"2021-05-23T00:00:00\", \"2021-05-25T00:00:00\", \"2021-06-09T00:00:00\", \"2021-06-09T00:00:00\", \"2021-05-25T00:00:00\", \"2021-06-12T00:00:00\", \"2021-06-12T00:00:00\", \"2021-05-24T00:00:00\", \"2021-06-12T00:00:00\", \"2021-05-23T00:00:00\", \"2021-06-11T00:00:00\", \"2021-05-25T00:00:00\", \"2021-05-23T00:00:00\", \"2021-05-23T00:00:00\", \"2021-05-23T00:00:00\", \"2021-06-12T00:00:00\", \"2021-06-11T00:00:00\", \"2021-05-25T00:00:00\", \"2021-06-01T00:00:00\", \"2021-05-27T00:00:00\", \"2021-05-27T00:00:00\", \"2021-05-24T00:00:00\", \"2021-06-06T00:00:00\", \"2021-05-27T00:00:00\", \"2021-06-07T00:00:00\", \"2021-06-08T00:00:00\", \"2021-05-27T00:00:00\", \"2021-05-27T00:00:00\", \"2021-06-02T00:00:00\", \"2021-06-02T00:00:00\", \"2021-05-23T00:00:00\", \"2021-05-28T00:00:00\", \"2021-05-26T00:00:00\", \"2021-06-08T00:00:00\", \"2021-06-08T00:00:00\", \"2021-06-08T00:00:00\", \"2021-05-27T00:00:00\", \"2021-05-27T00:00:00\", \"2021-05-27T00:00:00\", \"2021-05-27T00:00:00\", \"2021-05-26T00:00:00\", \"2021-05-26T00:00:00\", \"2021-05-27T00:00:00\", \"2021-05-26T00:00:00\", \"2021-06-01T00:00:00\", \"2021-05-27T00:00:00\", \"2021-05-24T00:00:00\", \"2021-05-25T00:00:00\", \"2021-05-27T00:00:00\", \"2021-05-28T00:00:00\", \"2021-05-28T00:00:00\", \"2021-06-03T00:00:00\", \"2021-05-20T00:00:00\", \"2021-06-02T00:00:00\", \"2021-05-20T00:00:00\", \"2021-05-20T00:00:00\", \"2021-05-20T00:00:00\", \"2021-05-31T00:00:00\", \"2021-05-27T00:00:00\", \"2021-05-31T00:00:00\", \"2021-05-31T00:00:00\", \"2021-05-22T00:00:00\", \"2021-06-05T00:00:00\", \"2021-05-31T00:00:00\", \"2021-05-20T00:00:00\", \"2021-05-20T00:00:00\", \"2021-05-31T00:00:00\", \"2021-05-27T00:00:00\", \"2021-05-28T00:00:00\", \"2021-05-26T00:00:00\", \"2021-05-26T00:00:00\", \"2021-05-26T00:00:00\", \"2021-05-27T00:00:00\", \"2021-05-27T00:00:00\", \"2021-05-26T00:00:00\", \"2021-05-26T00:00:00\", \"2021-05-26T00:00:00\", \"2021-05-26T00:00:00\", \"2021-05-24T00:00:00\", \"2021-05-27T00:00:00\", \"2021-05-23T00:00:00\", \"2021-05-27T00:00:00\", \"2021-05-26T00:00:00\", \"2021-05-27T00:00:00\", \"2021-05-27T00:00:00\", \"2021-05-27T00:00:00\", \"2021-05-26T00:00:00\", \"2021-05-26T00:00:00\", \"2021-05-26T00:00:00\", \"2021-05-26T00:00:00\", \"2021-05-20T00:00:00\", \"2021-05-26T00:00:00\", \"2021-05-26T00:00:00\", \"2021-05-26T00:00:00\", \"2021-05-27T00:00:00\", \"2021-07-08T00:00:00\", \"2021-07-14T00:00:00\", \"2021-07-14T00:00:00\", \"2021-07-13T00:00:00\", \"2021-07-12T00:00:00\", \"2021-07-12T00:00:00\", \"2021-07-12T00:00:00\", \"2021-07-12T00:00:00\", \"2021-07-14T00:00:00\", \"2021-07-12T00:00:00\", \"2021-07-12T00:00:00\", \"2021-06-11T00:00:00\", \"2021-06-20T00:00:00\", \"2021-06-20T00:00:00\", \"2021-07-12T00:00:00\", \"2021-07-13T00:00:00\", \"2021-06-20T00:00:00\", \"2021-06-20T00:00:00\", \"2021-06-20T00:00:00\", \"2021-07-12T00:00:00\", \"2021-06-20T00:00:00\", \"2021-06-20T00:00:00\", \"2021-06-20T00:00:00\", \"2021-07-10T00:00:00\", \"2021-07-12T00:00:00\", \"2021-07-12T00:00:00\", \"2021-07-14T00:00:00\", \"2021-06-12T00:00:00\", \"2021-06-12T00:00:00\", \"2021-06-12T00:00:00\", \"2021-06-20T00:00:00\", \"2021-07-14T00:00:00\", \"2021-07-13T00:00:00\", \"2021-07-13T00:00:00\", \"2021-07-14T00:00:00\", \"2021-07-14T00:00:00\", \"2021-07-14T00:00:00\", \"2021-07-14T00:00:00\", \"2021-07-14T00:00:00\", \"2021-07-14T00:00:00\", \"2021-07-14T00:00:00\", \"2021-07-10T00:00:00\", \"2021-07-10T00:00:00\", \"2021-07-10T00:00:00\", \"2021-07-13T00:00:00\", \"2021-07-13T00:00:00\", \"2021-07-13T00:00:00\", \"2021-07-13T00:00:00\", \"2021-07-13T00:00:00\", \"2021-07-14T00:00:00\", \"2021-07-13T00:00:00\", \"2021-07-13T00:00:00\", \"2021-07-13T00:00:00\", \"2021-07-13T00:00:00\", \"2021-07-14T00:00:00\", \"2021-07-13T00:00:00\", \"2021-07-13T00:00:00\", \"2021-07-13T00:00:00\", \"2021-07-13T00:00:00\", \"2021-07-13T00:00:00\", \"2021-07-13T00:00:00\", \"2021-07-14T00:00:00\", \"2021-07-12T00:00:00\", \"2021-06-12T00:00:00\", \"2021-06-12T00:00:00\", \"2021-06-11T00:00:00\", \"2021-07-10T00:00:00\", \"2021-07-10T00:00:00\", \"2021-07-10T00:00:00\", \"2021-07-10T00:00:00\", \"2021-07-10T00:00:00\", \"2021-07-10T00:00:00\", \"2021-07-10T00:00:00\", \"2021-07-14T00:00:00\", \"2021-07-14T00:00:00\", \"2021-07-14T00:00:00\", \"2021-07-14T00:00:00\", \"2021-06-05T00:00:00\", \"2021-07-14T00:00:00\", \"2021-07-10T00:00:00\", \"2021-07-10T00:00:00\", \"2021-07-10T00:00:00\", \"2021-07-10T00:00:00\", \"2021-07-10T00:00:00\", \"2021-07-10T00:00:00\", \"2021-07-14T00:00:00\", \"2021-07-14T00:00:00\", \"2021-07-08T00:00:00\", \"2021-07-08T00:00:00\", \"2021-06-12T00:00:00\", \"2021-07-10T00:00:00\", \"2021-07-14T00:00:00\", \"2021-06-03T00:00:00\", \"2021-07-14T00:00:00\", \"2021-07-14T00:00:00\", \"2021-07-14T00:00:00\", \"2021-06-11T00:00:00\", \"2021-05-26T00:00:00\", \"2021-06-11T00:00:00\", \"2021-06-03T00:00:00\", \"2021-07-14T00:00:00\", \"2021-06-11T00:00:00\", \"2021-07-14T00:00:00\", \"2021-07-13T00:00:00\", \"2021-06-03T00:00:00\", \"2021-06-11T00:00:00\", \"2021-06-11T00:00:00\", \"2021-06-11T00:00:00\", \"2021-06-05T00:00:00\", \"2021-07-14T00:00:00\", \"2021-07-12T00:00:00\", \"2021-06-11T00:00:00\", \"2021-06-11T00:00:00\", \"2021-06-03T00:00:00\"], \"xaxis\": \"x\", \"yaxis\": \"y\"}, {\"alignmentgroup\": \"True\", \"bingroup\": \"x\", \"hovertemplate\": \"date_delay=5.0<br>Exposure_date_dtm=%{x}<br>count=%{y}<extra></extra>\", \"legendgroup\": \"5.0\", \"marker\": {\"color\": \"rgb(210.5, 116.0, 110.5)\"}, \"name\": \"5.0\", \"nbinsx\": 69, \"offsetgroup\": \"5.0\", \"orientation\": \"v\", \"showlegend\": true, \"type\": \"histogram\", \"x\": [\"2021-05-26T00:00:00\", \"2021-07-13T00:00:00\", \"2021-05-20T00:00:00\", \"2021-07-13T00:00:00\", \"2021-05-20T00:00:00\", \"2021-07-13T00:00:00\", \"2021-07-13T00:00:00\", \"2021-07-13T00:00:00\", \"2021-05-26T00:00:00\", \"2021-05-26T00:00:00\", \"2021-05-26T00:00:00\", \"2021-05-26T00:00:00\", \"2021-05-23T00:00:00\", \"2021-07-13T00:00:00\", \"2021-07-13T00:00:00\", \"2021-05-21T00:00:00\", \"2021-05-19T00:00:00\", \"2021-07-13T00:00:00\", \"2021-07-09T00:00:00\", \"2021-05-23T00:00:00\", \"2021-05-21T00:00:00\", \"2021-05-25T00:00:00\", \"2021-07-09T00:00:00\", \"2021-05-25T00:00:00\", \"2021-07-09T00:00:00\", \"2021-07-09T00:00:00\", \"2021-05-25T00:00:00\", \"2021-05-25T00:00:00\", \"2021-05-25T00:00:00\", \"2021-07-09T00:00:00\", \"2021-05-26T00:00:00\", \"2021-07-09T00:00:00\", \"2021-07-09T00:00:00\", \"2021-07-09T00:00:00\", \"2021-07-09T00:00:00\", \"2021-07-09T00:00:00\", \"2021-07-09T00:00:00\", \"2021-07-09T00:00:00\", \"2021-07-09T00:00:00\", \"2021-05-26T00:00:00\", \"2021-05-21T00:00:00\", \"2021-07-09T00:00:00\", \"2021-05-25T00:00:00\", \"2021-05-21T00:00:00\", \"2021-05-21T00:00:00\", \"2021-05-21T00:00:00\", \"2021-05-23T00:00:00\", \"2021-07-09T00:00:00\", \"2021-07-09T00:00:00\", \"2021-07-12T00:00:00\", \"2021-07-12T00:00:00\", \"2021-05-25T00:00:00\", \"2021-07-09T00:00:00\", \"2021-05-26T00:00:00\", \"2021-05-24T00:00:00\", \"2021-05-24T00:00:00\", \"2021-07-10T00:00:00\", \"2021-07-10T00:00:00\", \"2021-07-10T00:00:00\", \"2021-07-10T00:00:00\", \"2021-05-25T00:00:00\", \"2021-07-12T00:00:00\", \"2021-05-26T00:00:00\", \"2021-07-09T00:00:00\", \"2021-05-26T00:00:00\", \"2021-07-13T00:00:00\", \"2021-05-31T00:00:00\", \"2021-07-13T00:00:00\", \"2021-05-26T00:00:00\", \"2021-05-26T00:00:00\", \"2021-07-13T00:00:00\", \"2021-07-09T00:00:00\", \"2021-07-13T00:00:00\", \"2021-05-28T00:00:00\", \"2021-07-10T00:00:00\", \"2021-05-23T00:00:00\", \"2021-05-23T00:00:00\", \"2021-07-08T00:00:00\", \"2021-05-28T00:00:00\", \"2021-05-30T00:00:00\", \"2021-07-08T00:00:00\", \"2021-05-31T00:00:00\", \"2021-05-31T00:00:00\", \"2021-05-31T00:00:00\", \"2021-06-04T00:00:00\", \"2021-05-31T00:00:00\", \"2021-05-31T00:00:00\", \"2021-05-31T00:00:00\", \"2021-05-31T00:00:00\", \"2021-06-05T00:00:00\", \"2021-05-31T00:00:00\", \"2021-06-10T00:00:00\", \"2021-06-04T00:00:00\", \"2021-06-01T00:00:00\", \"2021-06-10T00:00:00\", \"2021-05-26T00:00:00\", \"2021-05-26T00:00:00\", \"2021-07-09T00:00:00\", \"2021-07-09T00:00:00\", \"2021-07-13T00:00:00\", \"2021-05-26T00:00:00\", \"2021-05-31T00:00:00\", \"2021-06-10T00:00:00\", \"2021-06-10T00:00:00\", \"2021-05-23T00:00:00\", \"2021-06-10T00:00:00\", \"2021-06-10T00:00:00\"], \"xaxis\": \"x\", \"yaxis\": \"y\"}, {\"alignmentgroup\": \"True\", \"bingroup\": \"x\", \"hovertemplate\": \"date_delay=6.0<br>Exposure_date_dtm=%{x}<br>count=%{y}<extra></extra>\", \"legendgroup\": \"6.0\", \"marker\": {\"color\": \"rgb(202.0, 93.0, 125.19999999999999)\"}, \"name\": \"6.0\", \"nbinsx\": 69, \"offsetgroup\": \"6.0\", \"orientation\": \"v\", \"showlegend\": true, \"type\": \"histogram\", \"x\": [\"2021-07-08T00:00:00\", \"2021-07-09T00:00:00\", \"2021-05-24T00:00:00\", \"2021-05-24T00:00:00\", \"2021-07-08T00:00:00\", \"2021-05-24T00:00:00\", \"2021-06-09T00:00:00\", \"2021-07-09T00:00:00\", \"2021-05-24T00:00:00\", \"2021-07-08T00:00:00\", \"2021-05-24T00:00:00\", \"2021-07-09T00:00:00\", \"2021-05-31T00:00:00\", \"2021-05-24T00:00:00\", \"2021-05-25T00:00:00\", \"2021-05-25T00:00:00\", \"2021-05-24T00:00:00\", \"2021-05-24T00:00:00\", \"2021-07-08T00:00:00\", \"2021-07-09T00:00:00\", \"2021-07-09T00:00:00\", \"2021-05-24T00:00:00\", \"2021-07-08T00:00:00\", \"2021-06-05T00:00:00\", \"2021-05-24T00:00:00\", \"2021-05-21T00:00:00\", \"2021-07-09T00:00:00\", \"2021-05-20T00:00:00\", \"2021-05-23T00:00:00\", \"2021-07-12T00:00:00\", \"2021-07-12T00:00:00\", \"2021-05-20T00:00:00\", \"2021-07-12T00:00:00\", \"2021-05-25T00:00:00\", \"2021-07-12T00:00:00\", \"2021-05-19T00:00:00\", \"2021-06-03T00:00:00\", \"2021-05-20T00:00:00\", \"2021-05-19T00:00:00\", \"2021-05-19T00:00:00\", \"2021-05-19T00:00:00\", \"2021-07-12T00:00:00\", \"2021-05-23T00:00:00\", \"2021-05-18T00:00:00\", \"2021-05-23T00:00:00\", \"2021-06-03T00:00:00\", \"2021-07-12T00:00:00\", \"2021-07-08T00:00:00\", \"2021-05-21T00:00:00\", \"2021-05-20T00:00:00\", \"2021-05-26T00:00:00\", \"2021-05-26T00:00:00\"], \"xaxis\": \"x\", \"yaxis\": \"y\"}, {\"alignmentgroup\": \"True\", \"bingroup\": \"x\", \"hovertemplate\": \"date_delay=7.0<br>Exposure_date_dtm=%{x}<br>count=%{y}<extra></extra>\", \"legendgroup\": \"7.0\", \"marker\": {\"color\": \"rgb(193.5, 70.0, 139.89999999999998)\"}, \"name\": \"7.0\", \"nbinsx\": 69, \"offsetgroup\": \"7.0\", \"orientation\": \"v\", \"showlegend\": true, \"type\": \"histogram\", \"x\": [\"2021-07-11T00:00:00\", \"2021-07-11T00:00:00\", \"2021-07-11T00:00:00\", \"2021-07-11T00:00:00\", \"2021-05-23T00:00:00\", \"2021-05-23T00:00:00\", \"2021-05-23T00:00:00\", \"2021-05-23T00:00:00\", \"2021-05-26T00:00:00\", \"2021-05-23T00:00:00\", \"2021-05-23T00:00:00\", \"2021-05-26T00:00:00\", \"2021-06-02T00:00:00\", \"2021-05-23T00:00:00\", \"2021-05-23T00:00:00\", \"2021-05-23T00:00:00\", \"2021-05-30T00:00:00\", \"2021-05-23T00:00:00\", \"2021-07-09T00:00:00\", \"2021-05-17T00:00:00\", \"2021-05-29T00:00:00\", \"2021-05-20T00:00:00\", \"2021-05-25T00:00:00\", \"2021-05-29T00:00:00\", \"2021-06-02T00:00:00\", \"2021-05-30T00:00:00\", \"2021-05-30T00:00:00\", \"2021-07-11T00:00:00\", \"2021-07-11T00:00:00\", \"2021-07-11T00:00:00\", \"2021-07-11T00:00:00\", \"2021-05-30T00:00:00\", \"2021-06-08T00:00:00\"], \"xaxis\": \"x\", \"yaxis\": \"y\"}, {\"alignmentgroup\": \"True\", \"bingroup\": \"x\", \"hovertemplate\": \"date_delay=8.0<br>Exposure_date_dtm=%{x}<br>count=%{y}<extra></extra>\", \"legendgroup\": \"8.0\", \"marker\": {\"color\": \"rgb(185.0, 47.0, 154.6)\"}, \"name\": \"8.0\", \"nbinsx\": 69, \"offsetgroup\": \"8.0\", \"orientation\": \"v\", \"showlegend\": true, \"type\": \"histogram\", \"x\": [\"2021-05-23T00:00:00\", \"2021-05-22T00:00:00\", \"2021-05-24T00:00:00\", \"2021-06-01T00:00:00\", \"2021-05-24T00:00:00\", \"2021-05-24T00:00:00\", \"2021-05-25T00:00:00\", \"2021-05-23T00:00:00\", \"2021-05-25T00:00:00\", \"2021-05-25T00:00:00\", \"2021-05-23T00:00:00\", \"2021-06-01T00:00:00\", \"2021-05-23T00:00:00\", \"2021-05-26T00:00:00\", \"2021-05-30T00:00:00\", \"2021-05-30T00:00:00\", \"2021-05-30T00:00:00\", \"2021-05-30T00:00:00\", \"2021-05-30T00:00:00\", \"2021-05-30T00:00:00\", \"2021-05-30T00:00:00\", \"2021-06-07T00:00:00\", \"2021-07-02T00:00:00\", \"2021-05-30T00:00:00\", \"2021-05-18T00:00:00\", \"2021-05-17T00:00:00\", \"2021-05-27T00:00:00\", \"2021-05-27T00:00:00\", \"2021-05-27T00:00:00\"], \"xaxis\": \"x\", \"yaxis\": \"y\"}, {\"alignmentgroup\": \"True\", \"bingroup\": \"x\", \"hovertemplate\": \"date_delay=9.0<br>Exposure_date_dtm=%{x}<br>count=%{y}<extra></extra>\", \"legendgroup\": \"9.0\", \"marker\": {\"color\": \"rgb(176.5, 24.0, 169.29999999999998)\"}, \"name\": \"9.0\", \"nbinsx\": 69, \"offsetgroup\": \"9.0\", \"orientation\": \"v\", \"showlegend\": true, \"type\": \"histogram\", \"x\": [\"2021-05-25T00:00:00\", \"2021-05-19T00:00:00\", \"2021-05-25T00:00:00\", \"2021-06-06T00:00:00\", \"2021-05-25T00:00:00\", \"2021-05-26T00:00:00\", \"2021-05-26T00:00:00\", \"2021-05-31T00:00:00\", \"2021-05-24T00:00:00\", \"2021-05-23T00:00:00\", \"2021-05-19T00:00:00\", \"2021-05-23T00:00:00\", \"2021-05-21T00:00:00\", \"2021-05-21T00:00:00\", \"2021-05-31T00:00:00\", \"2021-05-21T00:00:00\", \"2021-05-23T00:00:00\", \"2021-05-19T00:00:00\", \"2021-05-19T00:00:00\", \"2021-05-19T00:00:00\", \"2021-05-19T00:00:00\"], \"xaxis\": \"x\", \"yaxis\": \"y\"}, {\"alignmentgroup\": \"True\", \"bingroup\": \"x\", \"hovertemplate\": \"date_delay=10.0<br>Exposure_date_dtm=%{x}<br>count=%{y}<extra></extra>\", \"legendgroup\": \"10.0\", \"marker\": {\"color\": \"rgb(168,1,184)\"}, \"name\": \"10.0\", \"nbinsx\": 69, \"offsetgroup\": \"10.0\", \"orientation\": \"v\", \"showlegend\": true, \"type\": \"histogram\", \"x\": [\"2021-05-30T00:00:00\", \"2021-05-20T00:00:00\", \"2021-05-30T00:00:00\", \"2021-05-25T00:00:00\", \"2021-05-24T00:00:00\", \"2021-06-01T00:00:00\", \"2021-05-20T00:00:00\", \"2021-06-05T00:00:00\", \"2021-05-18T00:00:00\", \"2021-05-18T00:00:00\", \"2021-05-31T00:00:00\", \"2021-05-18T00:00:00\", \"2021-05-18T00:00:00\", \"2021-05-20T00:00:00\", \"2021-05-21T00:00:00\"], \"xaxis\": \"x\", \"yaxis\": \"y\"}, {\"alignmentgroup\": \"True\", \"bingroup\": \"x\", \"hovertemplate\": \"date_delay=11.0<br>Exposure_date_dtm=%{x}<br>count=%{y}<extra></extra>\", \"legendgroup\": \"11.0\", \"marker\": {\"color\": \"rgb(168,1,184)\"}, \"name\": \"11.0\", \"nbinsx\": 69, \"offsetgroup\": \"11.0\", \"orientation\": \"v\", \"showlegend\": true, \"type\": \"histogram\", \"x\": [\"2021-05-29T00:00:00\", \"2021-05-19T00:00:00\", \"2021-06-04T00:00:00\", \"2021-05-31T00:00:00\", \"2021-05-19T00:00:00\", \"2021-05-29T00:00:00\", \"2021-05-19T00:00:00\", \"2021-05-31T00:00:00\"], \"xaxis\": \"x\", \"yaxis\": \"y\"}, {\"alignmentgroup\": \"True\", \"bingroup\": \"x\", \"hovertemplate\": \"date_delay=12.0<br>Exposure_date_dtm=%{x}<br>count=%{y}<extra></extra>\", \"legendgroup\": \"12.0\", \"marker\": {\"color\": \"rgb(168,1,184)\"}, \"name\": \"12.0\", \"nbinsx\": 69, \"offsetgroup\": \"12.0\", \"orientation\": \"v\", \"showlegend\": true, \"type\": \"histogram\", \"x\": [\"2021-05-28T00:00:00\", \"2021-05-18T00:00:00\", \"2021-06-03T00:00:00\", \"2021-05-28T00:00:00\", \"2021-05-18T00:00:00\", \"2021-05-18T00:00:00\", \"2021-05-18T00:00:00\"], \"xaxis\": \"x\", \"yaxis\": \"y\"}, {\"alignmentgroup\": \"True\", \"bingroup\": \"x\", \"hovertemplate\": \"date_delay=13.0<br>Exposure_date_dtm=%{x}<br>count=%{y}<extra></extra>\", \"legendgroup\": \"13.0\", \"marker\": {\"color\": \"rgb(168,1,184)\"}, \"name\": \"13.0\", \"nbinsx\": 69, \"offsetgroup\": \"13.0\", \"orientation\": \"v\", \"showlegend\": true, \"type\": \"histogram\", \"x\": [\"2021-05-28T00:00:00\", \"2021-05-28T00:00:00\", \"2021-05-27T00:00:00\", \"2021-05-14T00:00:00\", \"2021-05-14T00:00:00\", \"2021-05-14T00:00:00\", \"2021-05-17T00:00:00\", \"2021-05-17T00:00:00\", \"2021-06-02T00:00:00\", \"2021-05-17T00:00:00\", \"2021-05-17T00:00:00\", \"2021-05-27T00:00:00\", \"2021-05-27T00:00:00\"], \"xaxis\": \"x\", \"yaxis\": \"y\"}, {\"alignmentgroup\": \"True\", \"bingroup\": \"x\", \"hovertemplate\": \"date_delay=14.0<br>Exposure_date_dtm=%{x}<br>count=%{y}<extra></extra>\", \"legendgroup\": \"14.0\", \"marker\": {\"color\": \"rgb(168,1,184)\"}, \"name\": \"14.0\", \"nbinsx\": 69, \"offsetgroup\": \"14.0\", \"orientation\": \"v\", \"showlegend\": true, \"type\": \"histogram\", \"x\": [\"2021-05-13T00:00:00\", \"2021-05-26T00:00:00\", \"2021-05-26T00:00:00\", \"2021-05-18T00:00:00\", \"2021-05-26T00:00:00\"], \"xaxis\": \"x\", \"yaxis\": \"y\"}, {\"alignmentgroup\": \"True\", \"bingroup\": \"x\", \"hovertemplate\": \"date_delay=15.0<br>Exposure_date_dtm=%{x}<br>count=%{y}<extra></extra>\", \"legendgroup\": \"15.0\", \"marker\": {\"color\": \"rgb(168,1,184)\"}, \"name\": \"15.0\", \"nbinsx\": 69, \"offsetgroup\": \"15.0\", \"orientation\": \"v\", \"showlegend\": true, \"type\": \"histogram\", \"x\": [\"2021-05-27T00:00:00\", \"2021-05-15T00:00:00\", \"2021-05-15T00:00:00\", \"2021-05-27T00:00:00\"], \"xaxis\": \"x\", \"yaxis\": \"y\"}, {\"alignmentgroup\": \"True\", \"bingroup\": \"x\", \"hovertemplate\": \"date_delay=16.0<br>Exposure_date_dtm=%{x}<br>count=%{y}<extra></extra>\", \"legendgroup\": \"16.0\", \"marker\": {\"color\": \"rgb(168,1,184)\"}, \"name\": \"16.0\", \"nbinsx\": 69, \"offsetgroup\": \"16.0\", \"orientation\": \"v\", \"showlegend\": true, \"type\": \"histogram\", \"x\": [\"2021-05-26T00:00:00\", \"2021-05-15T00:00:00\"], \"xaxis\": \"x\", \"yaxis\": \"y\"}, {\"alignmentgroup\": \"True\", \"bingroup\": \"x\", \"hovertemplate\": \"date_delay=17.0<br>Exposure_date_dtm=%{x}<br>count=%{y}<extra></extra>\", \"legendgroup\": \"17.0\", \"marker\": {\"color\": \"rgb(168,1,184)\"}, \"name\": \"17.0\", \"nbinsx\": 69, \"offsetgroup\": \"17.0\", \"orientation\": \"v\", \"showlegend\": true, \"type\": \"histogram\", \"x\": [\"2021-05-25T00:00:00\", \"2021-05-13T00:00:00\"], \"xaxis\": \"x\", \"yaxis\": \"y\"}, {\"alignmentgroup\": \"True\", \"bingroup\": \"x\", \"hovertemplate\": \"date_delay=18.0<br>Exposure_date_dtm=%{x}<br>count=%{y}<extra></extra>\", \"legendgroup\": \"18.0\", \"marker\": {\"color\": \"rgb(168,1,184)\"}, \"name\": \"18.0\", \"nbinsx\": 69, \"offsetgroup\": \"18.0\", \"orientation\": \"v\", \"showlegend\": true, \"type\": \"histogram\", \"x\": [\"2021-05-12T00:00:00\", \"2021-05-24T00:00:00\"], \"xaxis\": \"x\", \"yaxis\": \"y\"}, {\"alignmentgroup\": \"True\", \"bingroup\": \"x\", \"hovertemplate\": \"date_delay=19.0<br>Exposure_date_dtm=%{x}<br>count=%{y}<extra></extra>\", \"legendgroup\": \"19.0\", \"marker\": {\"color\": \"rgb(168,1,184)\"}, \"name\": \"19.0\", \"nbinsx\": 69, \"offsetgroup\": \"19.0\", \"orientation\": \"v\", \"showlegend\": true, \"type\": \"histogram\", \"x\": [\"2021-05-12T00:00:00\", \"2021-05-23T00:00:00\"], \"xaxis\": \"x\", \"yaxis\": \"y\"}, {\"alignmentgroup\": \"True\", \"bingroup\": \"x\", \"hovertemplate\": \"date_delay=20.0<br>Exposure_date_dtm=%{x}<br>count=%{y}<extra></extra>\", \"legendgroup\": \"20.0\", \"marker\": {\"color\": \"rgb(168,1,184)\"}, \"name\": \"20.0\", \"nbinsx\": 69, \"offsetgroup\": \"20.0\", \"orientation\": \"v\", \"showlegend\": true, \"type\": \"histogram\", \"x\": [\"2021-05-22T00:00:00\", \"2021-05-11T00:00:00\", \"2021-05-11T00:00:00\", \"2021-05-22T00:00:00\", \"2021-05-11T00:00:00\", \"2021-05-22T00:00:00\"], \"xaxis\": \"x\", \"yaxis\": \"y\"}, {\"alignmentgroup\": \"True\", \"bingroup\": \"x\", \"hovertemplate\": \"date_delay=21.0<br>Exposure_date_dtm=%{x}<br>count=%{y}<extra></extra>\", \"legendgroup\": \"21.0\", \"marker\": {\"color\": \"rgb(168,1,184)\"}, \"name\": \"21.0\", \"nbinsx\": 69, \"offsetgroup\": \"21.0\", \"orientation\": \"v\", \"showlegend\": true, \"type\": \"histogram\", \"x\": [\"2021-05-21T00:00:00\", \"2021-05-21T00:00:00\", \"2021-05-21T00:00:00\", \"2021-05-21T00:00:00\", \"2021-05-21T00:00:00\"], \"xaxis\": \"x\", \"yaxis\": \"y\"}, {\"alignmentgroup\": \"True\", \"bingroup\": \"x\", \"hovertemplate\": \"date_delay=22.0<br>Exposure_date_dtm=%{x}<br>count=%{y}<extra></extra>\", \"legendgroup\": \"22.0\", \"marker\": {\"color\": \"rgb(168,1,184)\"}, \"name\": \"22.0\", \"nbinsx\": 69, \"offsetgroup\": \"22.0\", \"orientation\": \"v\", \"showlegend\": true, \"type\": \"histogram\", \"x\": [\"2021-05-20T00:00:00\"], \"xaxis\": \"x\", \"yaxis\": \"y\"}, {\"alignmentgroup\": \"True\", \"bingroup\": \"x\", \"hovertemplate\": \"date_delay=23.0<br>Exposure_date_dtm=%{x}<br>count=%{y}<extra></extra>\", \"legendgroup\": \"23.0\", \"marker\": {\"color\": \"rgb(168,1,184)\"}, \"name\": \"23.0\", \"nbinsx\": 69, \"offsetgroup\": \"23.0\", \"orientation\": \"v\", \"showlegend\": true, \"type\": \"histogram\", \"x\": [\"2021-05-19T00:00:00\"], \"xaxis\": \"x\", \"yaxis\": \"y\"}, {\"alignmentgroup\": \"True\", \"bingroup\": \"x\", \"hovertemplate\": \"date_delay=24.0<br>Exposure_date_dtm=%{x}<br>count=%{y}<extra></extra>\", \"legendgroup\": \"24.0\", \"marker\": {\"color\": \"rgb(168,1,184)\"}, \"name\": \"24.0\", \"nbinsx\": 69, \"offsetgroup\": \"24.0\", \"orientation\": \"v\", \"showlegend\": true, \"type\": \"histogram\", \"x\": [\"2021-05-18T00:00:00\", \"2021-05-21T00:00:00\"], \"xaxis\": \"x\", \"yaxis\": \"y\"}, {\"alignmentgroup\": \"True\", \"bingroup\": \"x\", \"hovertemplate\": \"date_delay=25.0<br>Exposure_date_dtm=%{x}<br>count=%{y}<extra></extra>\", \"legendgroup\": \"25.0\", \"marker\": {\"color\": \"rgb(168,1,184)\"}, \"name\": \"25.0\", \"nbinsx\": 69, \"offsetgroup\": \"25.0\", \"orientation\": \"v\", \"showlegend\": true, \"type\": \"histogram\", \"x\": [\"2021-05-18T00:00:00\"], \"xaxis\": \"x\", \"yaxis\": \"y\"}, {\"alignmentgroup\": \"True\", \"bingroup\": \"x\", \"hovertemplate\": \"date_delay=27.0<br>Exposure_date_dtm=%{x}<br>count=%{y}<extra></extra>\", \"legendgroup\": \"27.0\", \"marker\": {\"color\": \"rgb(168,1,184)\"}, \"name\": \"27.0\", \"nbinsx\": 69, \"offsetgroup\": \"27.0\", \"orientation\": \"v\", \"showlegend\": true, \"type\": \"histogram\", \"x\": [\"2021-05-18T00:00:00\", \"2021-05-18T00:00:00\"], \"xaxis\": \"x\", \"yaxis\": \"y\"}],                        {\"annotations\": [{\"ax\": 10, \"ay\": 20, \"showarrow\": false, \"text\": \"  5km\", \"x\": \"2021-05-27\", \"xanchor\": \"left\", \"y\": 80}, {\"ax\": 10, \"ay\": 20, \"showarrow\": false, \"text\": \"  10km\", \"x\": \"2021-06-03\", \"xanchor\": \"left\", \"y\": 60}, {\"ax\": 10, \"ay\": 20, \"showarrow\": false, \"text\": \"  25km\", \"x\": \"2021-06-10\", \"xanchor\": \"left\", \"y\": 40}, {\"ax\": 10, \"ay\": 20, \"showarrow\": false, \"text\": \"  5km\", \"x\": \"2021-07-15\", \"xanchor\": \"right\", \"y\": 80}], \"bargap\": 0.2, \"barmode\": \"relative\", \"legend\": {\"title\": {\"text\": \"date_delay\"}, \"tracegroupgap\": 0}, \"shapes\": [{\"type\": \"line\", \"x0\": \"2021-05-27T12:00:00\", \"x1\": \"2021-05-27T12:00:00\", \"xref\": \"x\", \"y0\": 0, \"y1\": 1, \"yref\": \"y domain\"}, {\"type\": \"line\", \"x0\": \"2021-06-03T12:00:00\", \"x1\": \"2021-06-03T12:00:00\", \"xref\": \"x\", \"y0\": 0, \"y1\": 1, \"yref\": \"y domain\"}, {\"type\": \"line\", \"x0\": \"2021-06-10T12:00:00\", \"x1\": \"2021-06-10T12:00:00\", \"xref\": \"x\", \"y0\": 0, \"y1\": 1, \"yref\": \"y domain\"}, {\"type\": \"line\", \"x0\": \"2021-07-15T12:00:00\", \"x1\": \"2021-07-15T12:00:00\", \"xref\": \"x\", \"y0\": 0, \"y1\": 1, \"yref\": \"y domain\"}], \"template\": {\"data\": {\"bar\": [{\"error_x\": {\"color\": \"#f2f5fa\"}, \"error_y\": {\"color\": \"#f2f5fa\"}, \"marker\": {\"line\": {\"color\": \"rgb(17,17,17)\", \"width\": 0.5}}, \"type\": \"bar\"}], \"barpolar\": [{\"marker\": {\"line\": {\"color\": \"rgb(17,17,17)\", \"width\": 0.5}}, \"type\": \"barpolar\"}], \"carpet\": [{\"aaxis\": {\"endlinecolor\": \"#A2B1C6\", \"gridcolor\": \"#506784\", \"linecolor\": \"#506784\", \"minorgridcolor\": \"#506784\", \"startlinecolor\": \"#A2B1C6\"}, \"baxis\": {\"endlinecolor\": \"#A2B1C6\", \"gridcolor\": \"#506784\", \"linecolor\": \"#506784\", \"minorgridcolor\": \"#506784\", \"startlinecolor\": \"#A2B1C6\"}, \"type\": \"carpet\"}], \"choropleth\": [{\"colorbar\": {\"outlinewidth\": 0, \"ticks\": \"\"}, \"type\": \"choropleth\"}], \"contour\": [{\"colorbar\": {\"outlinewidth\": 0, \"ticks\": \"\"}, \"colorscale\": [[0.0, \"#0d0887\"], [0.1111111111111111, \"#46039f\"], [0.2222222222222222, \"#7201a8\"], [0.3333333333333333, \"#9c179e\"], [0.4444444444444444, \"#bd3786\"], [0.5555555555555556, \"#d8576b\"], [0.6666666666666666, \"#ed7953\"], [0.7777777777777778, \"#fb9f3a\"], [0.8888888888888888, \"#fdca26\"], [1.0, \"#f0f921\"]], \"type\": \"contour\"}], \"contourcarpet\": [{\"colorbar\": {\"outlinewidth\": 0, \"ticks\": \"\"}, \"type\": \"contourcarpet\"}], \"heatmap\": [{\"colorbar\": {\"outlinewidth\": 0, \"ticks\": \"\"}, \"colorscale\": [[0.0, \"#0d0887\"], [0.1111111111111111, \"#46039f\"], [0.2222222222222222, \"#7201a8\"], [0.3333333333333333, \"#9c179e\"], [0.4444444444444444, \"#bd3786\"], [0.5555555555555556, \"#d8576b\"], [0.6666666666666666, \"#ed7953\"], [0.7777777777777778, \"#fb9f3a\"], [0.8888888888888888, \"#fdca26\"], [1.0, \"#f0f921\"]], \"type\": \"heatmap\"}], \"heatmapgl\": [{\"colorbar\": {\"outlinewidth\": 0, \"ticks\": \"\"}, \"colorscale\": [[0.0, \"#0d0887\"], [0.1111111111111111, \"#46039f\"], [0.2222222222222222, \"#7201a8\"], [0.3333333333333333, \"#9c179e\"], [0.4444444444444444, \"#bd3786\"], [0.5555555555555556, \"#d8576b\"], [0.6666666666666666, \"#ed7953\"], [0.7777777777777778, \"#fb9f3a\"], [0.8888888888888888, \"#fdca26\"], [1.0, \"#f0f921\"]], \"type\": \"heatmapgl\"}], \"histogram\": [{\"marker\": {\"colorbar\": {\"outlinewidth\": 0, \"ticks\": \"\"}}, \"type\": \"histogram\"}], \"histogram2d\": [{\"colorbar\": {\"outlinewidth\": 0, \"ticks\": \"\"}, \"colorscale\": [[0.0, \"#0d0887\"], [0.1111111111111111, \"#46039f\"], [0.2222222222222222, \"#7201a8\"], [0.3333333333333333, \"#9c179e\"], [0.4444444444444444, \"#bd3786\"], [0.5555555555555556, \"#d8576b\"], [0.6666666666666666, \"#ed7953\"], [0.7777777777777778, \"#fb9f3a\"], [0.8888888888888888, \"#fdca26\"], [1.0, \"#f0f921\"]], \"type\": \"histogram2d\"}], \"histogram2dcontour\": [{\"colorbar\": {\"outlinewidth\": 0, \"ticks\": \"\"}, \"colorscale\": [[0.0, \"#0d0887\"], [0.1111111111111111, \"#46039f\"], [0.2222222222222222, \"#7201a8\"], [0.3333333333333333, \"#9c179e\"], [0.4444444444444444, \"#bd3786\"], [0.5555555555555556, \"#d8576b\"], [0.6666666666666666, \"#ed7953\"], [0.7777777777777778, \"#fb9f3a\"], [0.8888888888888888, \"#fdca26\"], [1.0, \"#f0f921\"]], \"type\": \"histogram2dcontour\"}], \"mesh3d\": [{\"colorbar\": {\"outlinewidth\": 0, \"ticks\": \"\"}, \"type\": \"mesh3d\"}], \"parcoords\": [{\"line\": {\"colorbar\": {\"outlinewidth\": 0, \"ticks\": \"\"}}, \"type\": \"parcoords\"}], \"pie\": [{\"automargin\": true, \"type\": \"pie\"}], \"scatter\": [{\"marker\": {\"line\": {\"color\": \"#283442\"}}, \"type\": \"scatter\"}], \"scatter3d\": [{\"line\": {\"colorbar\": {\"outlinewidth\": 0, \"ticks\": \"\"}}, \"marker\": {\"colorbar\": {\"outlinewidth\": 0, \"ticks\": \"\"}}, \"type\": \"scatter3d\"}], \"scattercarpet\": [{\"marker\": {\"colorbar\": {\"outlinewidth\": 0, \"ticks\": \"\"}}, \"type\": \"scattercarpet\"}], \"scattergeo\": [{\"marker\": {\"colorbar\": {\"outlinewidth\": 0, \"ticks\": \"\"}}, \"type\": \"scattergeo\"}], \"scattergl\": [{\"marker\": {\"line\": {\"color\": \"#283442\"}}, \"type\": \"scattergl\"}], \"scattermapbox\": [{\"marker\": {\"colorbar\": {\"outlinewidth\": 0, \"ticks\": \"\"}}, \"type\": \"scattermapbox\"}], \"scatterpolar\": [{\"marker\": {\"colorbar\": {\"outlinewidth\": 0, \"ticks\": \"\"}}, \"type\": \"scatterpolar\"}], \"scatterpolargl\": [{\"marker\": {\"colorbar\": {\"outlinewidth\": 0, \"ticks\": \"\"}}, \"type\": \"scatterpolargl\"}], \"scatterternary\": [{\"marker\": {\"colorbar\": {\"outlinewidth\": 0, \"ticks\": \"\"}}, \"type\": \"scatterternary\"}], \"surface\": [{\"colorbar\": {\"outlinewidth\": 0, \"ticks\": \"\"}, \"colorscale\": [[0.0, \"#0d0887\"], [0.1111111111111111, \"#46039f\"], [0.2222222222222222, \"#7201a8\"], [0.3333333333333333, \"#9c179e\"], [0.4444444444444444, \"#bd3786\"], [0.5555555555555556, \"#d8576b\"], [0.6666666666666666, \"#ed7953\"], [0.7777777777777778, \"#fb9f3a\"], [0.8888888888888888, \"#fdca26\"], [1.0, \"#f0f921\"]], \"type\": \"surface\"}], \"table\": [{\"cells\": {\"fill\": {\"color\": \"#506784\"}, \"line\": {\"color\": \"rgb(17,17,17)\"}}, \"header\": {\"fill\": {\"color\": \"#2a3f5f\"}, \"line\": {\"color\": \"rgb(17,17,17)\"}}, \"type\": \"table\"}]}, \"layout\": {\"annotationdefaults\": {\"arrowcolor\": \"#f2f5fa\", \"arrowhead\": 0, \"arrowwidth\": 1}, \"autotypenumbers\": \"strict\", \"coloraxis\": {\"colorbar\": {\"outlinewidth\": 0, \"ticks\": \"\"}}, \"colorscale\": {\"diverging\": [[0, \"#8e0152\"], [0.1, \"#c51b7d\"], [0.2, \"#de77ae\"], [0.3, \"#f1b6da\"], [0.4, \"#fde0ef\"], [0.5, \"#f7f7f7\"], [0.6, \"#e6f5d0\"], [0.7, \"#b8e186\"], [0.8, \"#7fbc41\"], [0.9, \"#4d9221\"], [1, \"#276419\"]], \"sequential\": [[0.0, \"#0d0887\"], [0.1111111111111111, \"#46039f\"], [0.2222222222222222, \"#7201a8\"], [0.3333333333333333, \"#9c179e\"], [0.4444444444444444, \"#bd3786\"], [0.5555555555555556, \"#d8576b\"], [0.6666666666666666, \"#ed7953\"], [0.7777777777777778, \"#fb9f3a\"], [0.8888888888888888, \"#fdca26\"], [1.0, \"#f0f921\"]], \"sequentialminus\": [[0.0, \"#0d0887\"], [0.1111111111111111, \"#46039f\"], [0.2222222222222222, \"#7201a8\"], [0.3333333333333333, \"#9c179e\"], [0.4444444444444444, \"#bd3786\"], [0.5555555555555556, \"#d8576b\"], [0.6666666666666666, \"#ed7953\"], [0.7777777777777778, \"#fb9f3a\"], [0.8888888888888888, \"#fdca26\"], [1.0, \"#f0f921\"]]}, \"colorway\": [\"#636efa\", \"#EF553B\", \"#00cc96\", \"#ab63fa\", \"#FFA15A\", \"#19d3f3\", \"#FF6692\", \"#B6E880\", \"#FF97FF\", \"#FECB52\"], \"font\": {\"color\": \"#f2f5fa\"}, \"geo\": {\"bgcolor\": \"rgb(17,17,17)\", \"lakecolor\": \"rgb(17,17,17)\", \"landcolor\": \"rgb(17,17,17)\", \"showlakes\": true, \"showland\": true, \"subunitcolor\": \"#506784\"}, \"hoverlabel\": {\"align\": \"left\"}, \"hovermode\": \"closest\", \"mapbox\": {\"style\": \"dark\"}, \"paper_bgcolor\": \"rgb(17,17,17)\", \"plot_bgcolor\": \"rgb(17,17,17)\", \"polar\": {\"angularaxis\": {\"gridcolor\": \"#506784\", \"linecolor\": \"#506784\", \"ticks\": \"\"}, \"bgcolor\": \"rgb(17,17,17)\", \"radialaxis\": {\"gridcolor\": \"#506784\", \"linecolor\": \"#506784\", \"ticks\": \"\"}}, \"scene\": {\"xaxis\": {\"backgroundcolor\": \"rgb(17,17,17)\", \"gridcolor\": \"#506784\", \"gridwidth\": 2, \"linecolor\": \"#506784\", \"showbackground\": true, \"ticks\": \"\", \"zerolinecolor\": \"#C8D4E3\"}, \"yaxis\": {\"backgroundcolor\": \"rgb(17,17,17)\", \"gridcolor\": \"#506784\", \"gridwidth\": 2, \"linecolor\": \"#506784\", \"showbackground\": true, \"ticks\": \"\", \"zerolinecolor\": \"#C8D4E3\"}, \"zaxis\": {\"backgroundcolor\": \"rgb(17,17,17)\", \"gridcolor\": \"#506784\", \"gridwidth\": 2, \"linecolor\": \"#506784\", \"showbackground\": true, \"ticks\": \"\", \"zerolinecolor\": \"#C8D4E3\"}}, \"shapedefaults\": {\"line\": {\"color\": \"#f2f5fa\"}}, \"sliderdefaults\": {\"bgcolor\": \"#C8D4E3\", \"bordercolor\": \"rgb(17,17,17)\", \"borderwidth\": 1, \"tickwidth\": 0}, \"ternary\": {\"aaxis\": {\"gridcolor\": \"#506784\", \"linecolor\": \"#506784\", \"ticks\": \"\"}, \"baxis\": {\"gridcolor\": \"#506784\", \"linecolor\": \"#506784\", \"ticks\": \"\"}, \"bgcolor\": \"rgb(17,17,17)\", \"caxis\": {\"gridcolor\": \"#506784\", \"linecolor\": \"#506784\", \"ticks\": \"\"}}, \"title\": {\"x\": 0.05}, \"updatemenudefaults\": {\"bgcolor\": \"#506784\", \"borderwidth\": 0}, \"xaxis\": {\"automargin\": true, \"gridcolor\": \"#283442\", \"linecolor\": \"#506784\", \"ticks\": \"\", \"title\": {\"standoff\": 15}, \"zerolinecolor\": \"#283442\", \"zerolinewidth\": 2}, \"yaxis\": {\"automargin\": true, \"gridcolor\": \"#283442\", \"linecolor\": \"#506784\", \"ticks\": \"\", \"title\": {\"standoff\": 15}, \"zerolinecolor\": \"#283442\", \"zerolinewidth\": 2}}}, \"title\": {\"text\": \"Reporting delay for different exposure dates\"}, \"width\": 580, \"xaxis\": {\"anchor\": \"y\", \"domain\": [0.0, 1.0], \"nticks\": 10, \"range\": [\"2021-05-10T12:00:00\", \"2021-07-18T12:00:00\"], \"tickangle\": 60, \"title\": {\"text\": \"Exposure date\"}}, \"yaxis\": {\"anchor\": \"x\", \"domain\": [0.0, 1.0], \"title\": {\"text\": \"Number of exposure sites\"}}},                        {\"responsive\": true}                    ).then(function(){\n",
       "                            \n",
       "var gd = document.getElementById('597b42b3-d5d2-4a46-8687-39a66e4c4082');\n",
       "var x = new MutationObserver(function (mutations, observer) {{\n",
       "        var display = window.getComputedStyle(gd).display;\n",
       "        if (!display || display === 'none') {{\n",
       "            console.log([gd, 'removed!']);\n",
       "            Plotly.purge(gd);\n",
       "            observer.disconnect();\n",
       "        }}\n",
       "}});\n",
       "\n",
       "// Listen for the removal of the full notebook cells\n",
       "var notebookContainer = gd.closest('#notebook-container');\n",
       "if (notebookContainer) {{\n",
       "    x.observe(notebookContainer, {childList: true});\n",
       "}}\n",
       "\n",
       "// Listen for the clearing of the current output cell\n",
       "var outputEl = gd.closest('.output');\n",
       "if (outputEl) {{\n",
       "    x.observe(outputEl, {childList: true});\n",
       "}}\n",
       "\n",
       "                        })                };                });            </script>        </div>"
      ]
     },
     "metadata": {},
     "output_type": "display_data"
    }
   ],
   "source": [
    "fig_repdelay = px.histogram(df_official.sort_values(by='date_delay'), \n",
    "                        x='Exposure_date_dtm', template='plotly_dark', \n",
    "                        color='date_delay', color_discrete_sequence=cols_cut, \n",
    "                        title='Reporting delay for different exposure dates', nbins=nbins.days+1)\n",
    "fig_repdelay.add_vline(x=dt.datetime(2021, 5, 27, 12, 0))\n",
    "fig_repdelay.add_annotation(x = '2021-05-27', y= 80, text='  5km', xanchor='left', ax=10, ay=20, showarrow=False)\n",
    "fig_repdelay.add_vline(x=dt.datetime(2021, 6, 3, 12, 0))\n",
    "fig_repdelay.add_annotation(x = '2021-06-03', y= 60, text='  10km', xanchor='left', ax=10, ay=20, showarrow=False)\n",
    "fig_repdelay.add_vline(x=dt.datetime(2021, 6, 10, 12, 0))\n",
    "fig_repdelay.add_annotation(x = '2021-06-10', y= 40, text='  25km', xanchor='left', ax=10, ay=20, showarrow=False)\n",
    "fig_repdelay.add_vline(x=dt.datetime(2021, 7, 15, 12, 0))\n",
    "fig_repdelay.add_annotation(x = '2021-07-15', y= 80, text='  5km', xanchor='right', ax=10, ay=20, showarrow=False)\n",
    "\n",
    "\n",
    "\n",
    "fig_repdelay.update_layout(\n",
    "    bargap=0.2, # gap between bars of adjacent location coordinates\n",
    "    xaxis_title = \"Exposure date\", \n",
    "    yaxis_title = \"Number of exposure sites\", \n",
    "    width = width\n",
    ")\n",
    "\n",
    "\n",
    "fig_repdelay.update_xaxes(\n",
    "    tickangle = 60, \n",
    "    nticks = 10,\n",
    "    range=[df_official.Exposure_date_dtm.min() - dt.timedelta(hours=12), df_official.Added_date_dtm.max() + dt.timedelta(hours=12)]\n",
    ")\n",
    "\n",
    "fig_repdelay.show()"
   ]
  },
  {
   "cell_type": "code",
   "execution_count": 655,
   "metadata": {
    "scrolled": false
   },
   "outputs": [
    {
     "data": {
      "application/vnd.plotly.v1+json": {
       "config": {
        "plotlyServerURL": "https://plot.ly"
       },
       "data": [
        {
         "coloraxis": "coloraxis",
         "hovertemplate": "Exposure_date_dtm=%{x}<br>Added_date_dtm=%{y}<br>count=%{z}<extra></extra>",
         "name": "",
         "nbinsx": 69,
         "nbinsy": 69,
         "type": "histogram2d",
         "x": [
          "2021-07-08T00:00:00",
          "2021-07-10T00:00:00",
          "2021-07-09T00:00:00",
          "2021-07-10T00:00:00",
          "2021-07-11T00:00:00",
          "2021-07-12T00:00:00",
          "2021-07-11T00:00:00",
          "2021-07-10T00:00:00",
          "2021-07-08T00:00:00",
          "2021-07-08T00:00:00",
          "2021-07-08T00:00:00",
          "2021-07-08T00:00:00",
          "2021-07-10T00:00:00",
          "2021-07-09T00:00:00",
          "2021-07-09T00:00:00",
          "2021-07-09T00:00:00",
          "2021-07-09T00:00:00",
          "2021-07-09T00:00:00",
          "2021-07-09T00:00:00",
          "2021-07-10T00:00:00",
          "2021-07-09T00:00:00",
          "2021-07-10T00:00:00",
          "2021-07-09T00:00:00",
          "2021-07-09T00:00:00",
          "2021-07-13T00:00:00",
          "2021-07-11T00:00:00",
          "2021-07-09T00:00:00",
          "2021-07-09T00:00:00",
          "2021-07-13T00:00:00",
          "2021-07-12T00:00:00",
          "2021-07-12T00:00:00",
          "2021-07-12T00:00:00",
          "2021-07-12T00:00:00",
          "2021-07-08T00:00:00",
          "2021-07-08T00:00:00",
          "2021-07-08T00:00:00",
          "2021-07-08T00:00:00",
          "2021-07-08T00:00:00",
          "2021-07-08T00:00:00",
          "2021-07-11T00:00:00",
          "2021-07-09T00:00:00",
          "2021-07-09T00:00:00",
          "2021-07-09T00:00:00",
          "2021-07-09T00:00:00",
          "2021-07-09T00:00:00",
          "2021-07-09T00:00:00",
          "2021-07-09T00:00:00",
          "2021-07-09T00:00:00",
          "2021-07-09T00:00:00",
          "2021-07-09T00:00:00",
          "2021-07-10T00:00:00",
          "2021-07-10T00:00:00",
          "2021-07-10T00:00:00",
          "2021-07-10T00:00:00",
          "2021-07-10T00:00:00",
          "2021-07-10T00:00:00",
          "2021-07-10T00:00:00",
          "2021-07-10T00:00:00",
          "2021-07-10T00:00:00",
          "2021-07-10T00:00:00",
          "2021-07-10T00:00:00",
          "2021-07-11T00:00:00",
          "2021-07-11T00:00:00",
          "2021-07-11T00:00:00",
          "2021-07-11T00:00:00",
          "2021-07-12T00:00:00",
          "2021-07-12T00:00:00",
          "2021-07-12T00:00:00",
          "2021-07-10T00:00:00",
          "2021-07-14T00:00:00",
          "2021-07-12T00:00:00",
          "2021-07-13T00:00:00",
          "2021-07-14T00:00:00",
          "2021-07-13T00:00:00",
          "2021-07-09T00:00:00",
          "2021-07-09T00:00:00",
          "2021-07-09T00:00:00",
          "2021-07-09T00:00:00",
          "2021-07-10T00:00:00",
          "2021-07-13T00:00:00",
          "2021-07-12T00:00:00",
          "2021-07-14T00:00:00",
          "2021-07-09T00:00:00",
          "2021-07-13T00:00:00",
          "2021-07-13T00:00:00",
          "2021-07-09T00:00:00",
          "2021-07-12T00:00:00",
          "2021-07-12T00:00:00",
          "2021-07-12T00:00:00",
          "2021-07-13T00:00:00",
          "2021-07-13T00:00:00",
          "2021-07-10T00:00:00",
          "2021-07-10T00:00:00",
          "2021-07-12T00:00:00",
          "2021-07-12T00:00:00",
          "2021-07-12T00:00:00",
          "2021-07-12T00:00:00",
          "2021-07-12T00:00:00",
          "2021-07-12T00:00:00",
          "2021-07-14T00:00:00",
          "2021-07-12T00:00:00",
          "2021-07-12T00:00:00",
          "2021-07-10T00:00:00",
          "2021-07-12T00:00:00",
          "2021-07-12T00:00:00",
          "2021-07-13T00:00:00",
          "2021-07-12T00:00:00",
          "2021-07-12T00:00:00",
          "2021-07-12T00:00:00",
          "2021-07-13T00:00:00",
          "2021-07-12T00:00:00",
          "2021-07-13T00:00:00",
          "2021-07-12T00:00:00",
          "2021-07-12T00:00:00",
          "2021-07-12T00:00:00",
          "2021-07-13T00:00:00",
          "2021-07-12T00:00:00",
          "2021-07-12T00:00:00",
          "2021-07-12T00:00:00",
          "2021-07-12T00:00:00",
          "2021-07-12T00:00:00",
          "2021-07-12T00:00:00",
          "2021-07-12T00:00:00",
          "2021-07-14T00:00:00",
          "2021-07-14T00:00:00",
          "2021-07-14T00:00:00",
          "2021-07-12T00:00:00",
          "2021-07-13T00:00:00",
          "2021-07-14T00:00:00",
          "2021-07-14T00:00:00",
          "2021-07-13T00:00:00",
          "2021-07-12T00:00:00",
          "2021-07-13T00:00:00",
          "2021-07-13T00:00:00",
          "2021-07-13T00:00:00",
          "2021-07-12T00:00:00",
          "2021-07-13T00:00:00",
          "2021-07-15T00:00:00",
          "2021-07-13T00:00:00",
          "2021-07-12T00:00:00",
          "2021-07-14T00:00:00",
          "2021-07-14T00:00:00",
          "2021-07-16T00:00:00",
          "2021-07-09T00:00:00",
          "2021-07-14T00:00:00",
          "2021-07-15T00:00:00",
          "2021-07-15T00:00:00",
          "2021-07-14T00:00:00",
          "2021-07-14T00:00:00",
          "2021-07-14T00:00:00",
          "2021-07-14T00:00:00",
          "2021-07-15T00:00:00",
          "2021-07-13T00:00:00",
          "2021-07-14T00:00:00",
          "2021-07-14T00:00:00",
          "2021-07-13T00:00:00",
          "2021-07-14T00:00:00",
          "2021-07-15T00:00:00",
          "2021-07-13T00:00:00",
          "2021-07-15T00:00:00",
          "2021-07-14T00:00:00",
          "2021-07-15T00:00:00",
          "2021-07-13T00:00:00",
          "2021-07-12T00:00:00",
          "2021-07-13T00:00:00",
          "2021-07-13T00:00:00",
          "2021-07-13T00:00:00",
          "2021-07-13T00:00:00",
          "2021-07-13T00:00:00",
          "2021-07-13T00:00:00",
          "2021-07-13T00:00:00",
          "2021-07-14T00:00:00",
          "2021-07-14T00:00:00",
          "2021-07-13T00:00:00",
          "2021-07-15T00:00:00",
          "2021-07-13T00:00:00",
          "2021-07-14T00:00:00",
          "2021-07-14T00:00:00",
          "2021-07-13T00:00:00",
          "2021-07-12T00:00:00",
          "2021-07-14T00:00:00",
          "2021-07-16T00:00:00",
          "2021-07-15T00:00:00",
          "2021-07-13T00:00:00",
          "2021-07-15T00:00:00",
          "2021-07-14T00:00:00",
          "2021-07-13T00:00:00",
          "2021-07-14T00:00:00",
          "2021-07-13T00:00:00",
          "2021-07-13T00:00:00",
          "2021-07-15T00:00:00",
          "2021-07-15T00:00:00",
          "2021-07-12T00:00:00",
          "2021-07-15T00:00:00",
          "2021-07-14T00:00:00",
          "2021-07-14T00:00:00",
          "2021-07-14T00:00:00",
          "2021-07-14T00:00:00",
          "2021-07-15T00:00:00",
          "2021-07-13T00:00:00",
          "2021-07-14T00:00:00",
          "2021-07-14T00:00:00",
          "2021-07-14T00:00:00",
          "2021-07-14T00:00:00",
          "2021-07-15T00:00:00",
          "2021-07-13T00:00:00",
          "2021-07-15T00:00:00",
          "2021-07-15T00:00:00",
          "2021-07-14T00:00:00",
          "2021-07-14T00:00:00",
          "2021-07-14T00:00:00",
          "2021-07-14T00:00:00",
          "2021-07-15T00:00:00",
          "2021-07-15T00:00:00",
          "2021-07-14T00:00:00",
          "2021-07-14T00:00:00",
          "2021-07-15T00:00:00",
          "2021-07-14T00:00:00",
          "2021-07-13T00:00:00",
          "2021-07-13T00:00:00",
          "2021-07-16T00:00:00",
          "2021-07-13T00:00:00",
          "2021-07-14T00:00:00",
          "2021-07-15T00:00:00",
          "2021-07-14T00:00:00",
          "2021-07-13T00:00:00",
          "2021-07-13T00:00:00",
          "2021-07-14T00:00:00",
          "2021-07-13T00:00:00",
          "2021-07-13T00:00:00",
          "2021-07-13T00:00:00",
          "2021-07-12T00:00:00",
          "2021-07-14T00:00:00",
          "2021-07-14T00:00:00",
          "2021-07-14T00:00:00",
          "2021-07-14T00:00:00",
          "2021-07-14T00:00:00",
          "2021-07-17T00:00:00",
          "2021-07-15T00:00:00",
          "2021-07-16T00:00:00",
          "2021-07-15T00:00:00",
          "2021-07-14T00:00:00",
          "2021-07-14T00:00:00",
          "2021-07-11T00:00:00",
          "2021-07-11T00:00:00",
          "2021-07-11T00:00:00",
          "2021-07-11T00:00:00",
          "2021-07-12T00:00:00",
          "2021-07-12T00:00:00",
          "2021-07-12T00:00:00",
          "2021-07-12T00:00:00",
          "2021-07-12T00:00:00",
          "2021-07-13T00:00:00",
          "2021-07-13T00:00:00",
          "2021-07-14T00:00:00",
          "2021-07-11T00:00:00",
          "2021-07-13T00:00:00",
          "2021-07-15T00:00:00",
          "2021-07-15T00:00:00",
          "2021-07-15T00:00:00",
          "2021-07-14T00:00:00",
          "2021-07-14T00:00:00",
          "2021-07-14T00:00:00",
          "2021-07-14T00:00:00",
          "2021-07-15T00:00:00",
          "2021-07-14T00:00:00",
          "2021-07-14T00:00:00",
          "2021-07-16T00:00:00",
          "2021-07-14T00:00:00",
          "2021-07-14T00:00:00",
          "2021-07-15T00:00:00",
          "2021-07-11T00:00:00",
          "2021-07-11T00:00:00",
          "2021-07-11T00:00:00",
          "2021-07-15T00:00:00",
          "2021-07-15T00:00:00",
          "2021-07-15T00:00:00",
          "2021-07-15T00:00:00",
          "2021-07-13T00:00:00",
          "2021-07-13T00:00:00",
          "2021-07-13T00:00:00",
          "2021-07-12T00:00:00",
          "2021-07-15T00:00:00",
          "2021-07-14T00:00:00",
          "2021-07-14T00:00:00",
          "2021-07-13T00:00:00",
          "2021-07-15T00:00:00",
          "2021-07-13T00:00:00",
          "2021-07-13T00:00:00",
          "2021-07-13T00:00:00",
          "2021-07-14T00:00:00",
          "2021-07-14T00:00:00",
          "2021-07-14T00:00:00",
          "2021-07-13T00:00:00",
          "2021-07-15T00:00:00",
          "2021-07-13T00:00:00",
          "2021-07-02T00:00:00",
          "2021-07-10T00:00:00",
          "2021-07-14T00:00:00",
          "2021-07-14T00:00:00",
          "2021-07-15T00:00:00",
          "2021-07-10T00:00:00",
          "2021-07-10T00:00:00",
          "2021-07-10T00:00:00",
          "2021-06-03T00:00:00",
          "2021-06-04T00:00:00",
          "2021-06-05T00:00:00",
          "2021-06-06T00:00:00",
          "2021-06-07T00:00:00",
          "2021-06-08T00:00:00",
          "2021-06-09T00:00:00",
          "2021-06-10T00:00:00",
          "2021-06-11T00:00:00",
          "2021-06-12T00:00:00",
          "2021-06-13T00:00:00",
          "2021-06-14T00:00:00",
          "2021-06-15T00:00:00",
          "2021-06-15T00:00:00",
          "2021-06-21T00:00:00",
          "2021-06-22T00:00:00",
          "2021-06-23T00:00:00",
          "2021-06-20T00:00:00",
          "2021-06-20T00:00:00",
          "2021-06-20T00:00:00",
          "2021-06-20T00:00:00",
          "2021-06-21T00:00:00",
          "2021-06-22T00:00:00",
          "2021-06-22T00:00:00",
          "2021-06-20T00:00:00",
          "2021-06-22T00:00:00",
          "2021-06-20T00:00:00",
          "2021-06-20T00:00:00",
          "2021-06-23T00:00:00",
          "2021-06-23T00:00:00",
          "2021-06-20T00:00:00",
          "2021-06-20T00:00:00",
          "2021-06-22T00:00:00",
          "2021-06-25T00:00:00",
          "2021-06-25T00:00:00",
          "2021-06-26T00:00:00",
          "2021-06-26T00:00:00",
          "2021-06-26T00:00:00",
          "2021-06-25T00:00:00",
          "2021-06-26T00:00:00",
          "2021-06-25T00:00:00",
          "2021-06-26T00:00:00",
          "2021-06-25T00:00:00",
          "2021-06-26T00:00:00",
          "2021-06-02T00:00:00",
          "2021-06-13T00:00:00",
          "2021-06-13T00:00:00",
          "2021-06-13T00:00:00",
          "2021-06-13T00:00:00",
          "2021-06-13T00:00:00",
          "2021-06-13T00:00:00",
          "2021-06-12T00:00:00",
          "2021-06-12T00:00:00",
          "2021-06-13T00:00:00",
          "2021-06-13T00:00:00",
          "2021-06-12T00:00:00",
          "2021-06-13T00:00:00",
          "2021-06-12T00:00:00",
          "2021-06-12T00:00:00",
          "2021-06-12T00:00:00",
          "2021-06-12T00:00:00",
          "2021-06-12T00:00:00",
          "2021-06-12T00:00:00",
          "2021-06-12T00:00:00",
          "2021-06-12T00:00:00",
          "2021-06-13T00:00:00",
          "2021-06-13T00:00:00",
          "2021-06-13T00:00:00",
          "2021-06-13T00:00:00",
          "2021-06-13T00:00:00",
          "2021-06-14T00:00:00",
          "2021-06-12T00:00:00",
          "2021-06-12T00:00:00",
          "2021-06-12T00:00:00",
          "2021-06-12T00:00:00",
          "2021-06-12T00:00:00",
          "2021-06-12T00:00:00",
          "2021-06-11T00:00:00",
          "2021-06-11T00:00:00",
          "2021-06-11T00:00:00",
          "2021-06-11T00:00:00",
          "2021-06-11T00:00:00",
          "2021-06-11T00:00:00",
          "2021-06-11T00:00:00",
          "2021-06-11T00:00:00",
          "2021-06-11T00:00:00",
          "2021-06-11T00:00:00",
          "2021-06-11T00:00:00",
          "2021-06-11T00:00:00",
          "2021-05-26T00:00:00",
          "2021-05-26T00:00:00",
          "2021-06-03T00:00:00",
          "2021-06-03T00:00:00",
          "2021-06-02T00:00:00",
          "2021-06-02T00:00:00",
          "2021-06-03T00:00:00",
          "2021-06-02T00:00:00",
          "2021-06-03T00:00:00",
          "2021-06-03T00:00:00",
          "2021-06-04T00:00:00",
          "2021-06-04T00:00:00",
          "2021-06-03T00:00:00",
          "2021-06-03T00:00:00",
          "2021-06-03T00:00:00",
          "2021-06-03T00:00:00",
          "2021-06-04T00:00:00",
          "2021-06-04T00:00:00",
          "2021-06-05T00:00:00",
          "2021-06-05T00:00:00",
          "2021-06-06T00:00:00",
          "2021-06-06T00:00:00",
          "2021-06-07T00:00:00",
          "2021-06-05T00:00:00",
          "2021-05-31T00:00:00",
          "2021-06-01T00:00:00",
          "2021-06-02T00:00:00",
          "2021-06-03T00:00:00",
          "2021-06-04T00:00:00",
          "2021-06-05T00:00:00",
          "2021-05-26T00:00:00",
          "2021-05-27T00:00:00",
          "2021-05-28T00:00:00",
          "2021-05-29T00:00:00",
          "2021-05-26T00:00:00",
          "2021-05-27T00:00:00",
          "2021-05-28T00:00:00",
          "2021-05-29T00:00:00",
          "2021-05-30T00:00:00",
          "2021-05-31T00:00:00",
          "2021-06-01T00:00:00",
          "2021-06-02T00:00:00",
          "2021-06-03T00:00:00",
          "2021-06-04T00:00:00",
          "2021-06-05T00:00:00",
          "2021-05-30T00:00:00",
          "2021-06-08T00:00:00",
          "2021-06-07T00:00:00",
          "2021-06-07T00:00:00",
          "2021-06-08T00:00:00",
          "2021-06-06T00:00:00",
          "2021-06-07T00:00:00",
          "2021-06-05T00:00:00",
          "2021-05-23T00:00:00",
          "2021-05-24T00:00:00",
          "2021-05-22T00:00:00",
          "2021-05-21T00:00:00",
          "2021-05-21T00:00:00",
          "2021-05-21T00:00:00",
          "2021-05-21T00:00:00",
          "2021-06-05T00:00:00",
          "2021-06-07T00:00:00",
          "2021-05-26T00:00:00",
          "2021-05-19T00:00:00",
          "2021-05-20T00:00:00",
          "2021-05-21T00:00:00",
          "2021-05-18T00:00:00",
          "2021-05-27T00:00:00",
          "2021-05-25T00:00:00",
          "2021-05-27T00:00:00",
          "2021-05-31T00:00:00",
          "2021-05-31T00:00:00",
          "2021-06-08T00:00:00",
          "2021-06-08T00:00:00",
          "2021-06-08T00:00:00",
          "2021-06-08T00:00:00",
          "2021-05-18T00:00:00",
          "2021-06-10T00:00:00",
          "2021-06-10T00:00:00",
          "2021-06-09T00:00:00",
          "2021-06-09T00:00:00",
          "2021-05-21T00:00:00",
          "2021-05-18T00:00:00",
          "2021-05-18T00:00:00",
          "2021-06-10T00:00:00",
          "2021-06-10T00:00:00",
          "2021-06-10T00:00:00",
          "2021-06-13T00:00:00",
          "2021-06-12T00:00:00",
          "2021-06-12T00:00:00",
          "2021-06-12T00:00:00",
          "2021-06-12T00:00:00",
          "2021-06-10T00:00:00",
          "2021-06-10T00:00:00",
          "2021-06-11T00:00:00",
          "2021-06-11T00:00:00",
          "2021-06-13T00:00:00",
          "2021-06-13T00:00:00",
          "2021-06-12T00:00:00",
          "2021-05-27T00:00:00",
          "2021-06-01T00:00:00",
          "2021-06-01T00:00:00",
          "2021-06-02T00:00:00",
          "2021-06-03T00:00:00",
          "2021-05-30T00:00:00",
          "2021-05-31T00:00:00",
          "2021-06-01T00:00:00",
          "2021-06-02T00:00:00",
          "2021-06-03T00:00:00",
          "2021-06-04T00:00:00",
          "2021-06-01T00:00:00",
          "2021-05-30T00:00:00",
          "2021-05-30T00:00:00",
          "2021-05-31T00:00:00",
          "2021-05-30T00:00:00",
          "2021-05-28T00:00:00",
          "2021-05-31T00:00:00",
          "2021-05-31T00:00:00",
          "2021-05-31T00:00:00",
          "2021-05-31T00:00:00",
          "2021-05-30T00:00:00",
          "2021-05-31T00:00:00",
          "2021-05-31T00:00:00",
          "2021-05-31T00:00:00",
          "2021-05-31T00:00:00",
          "2021-05-31T00:00:00",
          "2021-05-31T00:00:00",
          "2021-05-31T00:00:00",
          "2021-05-31T00:00:00",
          "2021-05-31T00:00:00",
          "2021-05-31T00:00:00",
          "2021-05-29T00:00:00",
          "2021-05-31T00:00:00",
          "2021-05-29T00:00:00",
          "2021-05-31T00:00:00",
          "2021-05-30T00:00:00",
          "2021-05-30T00:00:00",
          "2021-05-30T00:00:00",
          "2021-05-30T00:00:00",
          "2021-05-30T00:00:00",
          "2021-05-30T00:00:00",
          "2021-05-30T00:00:00",
          "2021-05-30T00:00:00",
          "2021-05-30T00:00:00",
          "2021-05-30T00:00:00",
          "2021-05-30T00:00:00",
          "2021-05-31T00:00:00",
          "2021-05-22T00:00:00",
          "2021-05-22T00:00:00",
          "2021-05-28T00:00:00",
          "2021-05-28T00:00:00",
          "2021-05-28T00:00:00",
          "2021-05-28T00:00:00",
          "2021-05-28T00:00:00",
          "2021-05-28T00:00:00",
          "2021-05-28T00:00:00",
          "2021-05-28T00:00:00",
          "2021-05-28T00:00:00",
          "2021-05-28T00:00:00",
          "2021-05-28T00:00:00",
          "2021-05-27T00:00:00",
          "2021-05-27T00:00:00",
          "2021-05-27T00:00:00",
          "2021-05-27T00:00:00",
          "2021-05-27T00:00:00",
          "2021-05-27T00:00:00",
          "2021-05-27T00:00:00",
          "2021-05-27T00:00:00",
          "2021-05-26T00:00:00",
          "2021-05-27T00:00:00",
          "2021-05-27T00:00:00",
          "2021-05-27T00:00:00",
          "2021-05-27T00:00:00",
          "2021-05-27T00:00:00",
          "2021-05-28T00:00:00",
          "2021-05-28T00:00:00",
          "2021-05-27T00:00:00",
          "2021-05-27T00:00:00",
          "2021-05-28T00:00:00",
          "2021-05-27T00:00:00",
          "2021-05-27T00:00:00",
          "2021-05-27T00:00:00",
          "2021-05-27T00:00:00",
          "2021-05-27T00:00:00",
          "2021-05-27T00:00:00",
          "2021-05-27T00:00:00",
          "2021-05-27T00:00:00",
          "2021-05-27T00:00:00",
          "2021-05-27T00:00:00",
          "2021-05-27T00:00:00",
          "2021-06-08T00:00:00",
          "2021-05-26T00:00:00",
          "2021-05-26T00:00:00",
          "2021-05-26T00:00:00",
          "2021-05-26T00:00:00",
          "2021-05-27T00:00:00",
          "2021-05-26T00:00:00",
          "2021-05-27T00:00:00",
          "2021-05-26T00:00:00",
          "2021-05-26T00:00:00",
          "2021-05-26T00:00:00",
          "2021-05-26T00:00:00",
          "2021-05-26T00:00:00",
          "2021-05-26T00:00:00",
          "2021-05-26T00:00:00",
          "2021-05-26T00:00:00",
          "2021-05-26T00:00:00",
          "2021-05-26T00:00:00",
          "2021-05-26T00:00:00",
          "2021-05-26T00:00:00",
          "2021-05-26T00:00:00",
          "2021-05-26T00:00:00",
          "2021-05-26T00:00:00",
          "2021-05-26T00:00:00",
          "2021-05-26T00:00:00",
          "2021-05-26T00:00:00",
          "2021-05-26T00:00:00",
          "2021-05-26T00:00:00",
          "2021-05-26T00:00:00",
          "2021-05-26T00:00:00",
          "2021-05-26T00:00:00",
          "2021-05-26T00:00:00",
          "2021-05-26T00:00:00",
          "2021-05-26T00:00:00",
          "2021-05-26T00:00:00",
          "2021-05-26T00:00:00",
          "2021-06-08T00:00:00",
          "2021-05-24T00:00:00",
          "2021-05-21T00:00:00",
          "2021-05-21T00:00:00",
          "2021-05-19T00:00:00",
          "2021-05-20T00:00:00",
          "2021-05-17T00:00:00",
          "2021-05-19T00:00:00",
          "2021-05-18T00:00:00",
          "2021-05-20T00:00:00",
          "2021-05-20T00:00:00",
          "2021-05-19T00:00:00",
          "2021-05-19T00:00:00",
          "2021-05-19T00:00:00",
          "2021-05-20T00:00:00",
          "2021-05-20T00:00:00",
          "2021-05-20T00:00:00",
          "2021-05-20T00:00:00",
          "2021-05-20T00:00:00",
          "2021-05-20T00:00:00",
          "2021-05-21T00:00:00",
          "2021-05-20T00:00:00",
          "2021-05-24T00:00:00",
          "2021-05-24T00:00:00",
          "2021-05-21T00:00:00",
          "2021-05-18T00:00:00",
          "2021-05-17T00:00:00",
          "2021-05-20T00:00:00",
          "2021-05-18T00:00:00",
          "2021-05-20T00:00:00",
          "2021-05-19T00:00:00",
          "2021-05-21T00:00:00",
          "2021-05-22T00:00:00",
          "2021-05-23T00:00:00",
          "2021-05-24T00:00:00",
          "2021-05-25T00:00:00",
          "2021-05-24T00:00:00",
          "2021-05-21T00:00:00",
          "2021-05-24T00:00:00",
          "2021-05-21T00:00:00",
          "2021-05-21T00:00:00",
          "2021-05-21T00:00:00",
          "2021-05-20T00:00:00",
          "2021-05-14T00:00:00",
          "2021-05-14T00:00:00",
          "2021-05-14T00:00:00",
          "2021-05-25T00:00:00",
          "2021-05-24T00:00:00",
          "2021-05-24T00:00:00",
          "2021-05-24T00:00:00",
          "2021-05-24T00:00:00",
          "2021-05-20T00:00:00",
          "2021-05-21T00:00:00",
          "2021-05-24T00:00:00",
          "2021-05-24T00:00:00",
          "2021-05-21T00:00:00",
          "2021-05-25T00:00:00",
          "2021-05-24T00:00:00",
          "2021-05-24T00:00:00",
          "2021-05-25T00:00:00",
          "2021-05-25T00:00:00",
          "2021-05-13T00:00:00",
          "2021-05-24T00:00:00",
          "2021-05-25T00:00:00",
          "2021-05-25T00:00:00",
          "2021-05-24T00:00:00",
          "2021-05-25T00:00:00",
          "2021-05-24T00:00:00",
          "2021-05-25T00:00:00",
          "2021-05-24T00:00:00",
          "2021-05-24T00:00:00",
          "2021-05-25T00:00:00",
          "2021-05-26T00:00:00",
          "2021-05-23T00:00:00",
          "2021-05-25T00:00:00",
          "2021-05-26T00:00:00",
          "2021-05-18T00:00:00",
          "2021-05-18T00:00:00",
          "2021-05-18T00:00:00",
          "2021-05-18T00:00:00",
          "2021-05-25T00:00:00",
          "2021-05-19T00:00:00",
          "2021-05-19T00:00:00",
          "2021-05-19T00:00:00",
          "2021-05-19T00:00:00",
          "2021-05-19T00:00:00",
          "2021-05-25T00:00:00",
          "2021-05-17T00:00:00",
          "2021-05-25T00:00:00",
          "2021-05-25T00:00:00",
          "2021-05-24T00:00:00",
          "2021-05-25T00:00:00",
          "2021-05-24T00:00:00",
          "2021-05-25T00:00:00",
          "2021-05-26T00:00:00",
          "2021-05-26T00:00:00",
          "2021-05-26T00:00:00",
          "2021-05-26T00:00:00",
          "2021-05-26T00:00:00",
          "2021-05-21T00:00:00",
          "2021-05-26T00:00:00",
          "2021-05-24T00:00:00",
          "2021-05-19T00:00:00",
          "2021-05-25T00:00:00",
          "2021-05-23T00:00:00",
          "2021-05-25T00:00:00",
          "2021-05-25T00:00:00",
          "2021-05-26T00:00:00",
          "2021-05-17T00:00:00",
          "2021-05-18T00:00:00",
          "2021-05-19T00:00:00",
          "2021-05-18T00:00:00",
          "2021-05-25T00:00:00",
          "2021-05-26T00:00:00",
          "2021-05-24T00:00:00",
          "2021-05-18T00:00:00",
          "2021-05-20T00:00:00",
          "2021-05-21T00:00:00",
          "2021-05-24T00:00:00",
          "2021-05-25T00:00:00",
          "2021-05-26T00:00:00",
          "2021-05-17T00:00:00",
          "2021-05-12T00:00:00",
          "2021-05-13T00:00:00",
          "2021-05-20T00:00:00",
          "2021-05-26T00:00:00",
          "2021-05-19T00:00:00",
          "2021-05-22T00:00:00",
          "2021-05-24T00:00:00",
          "2021-05-17T00:00:00",
          "2021-05-21T00:00:00",
          "2021-05-24T00:00:00",
          "2021-05-24T00:00:00",
          "2021-05-24T00:00:00",
          "2021-05-24T00:00:00",
          "2021-05-15T00:00:00",
          "2021-05-15T00:00:00",
          "2021-05-20T00:00:00",
          "2021-05-18T00:00:00",
          "2021-05-24T00:00:00",
          "2021-05-25T00:00:00",
          "2021-05-25T00:00:00",
          "2021-05-25T00:00:00",
          "2021-05-24T00:00:00",
          "2021-05-25T00:00:00",
          "2021-05-21T00:00:00",
          "2021-05-25T00:00:00",
          "2021-05-26T00:00:00",
          "2021-05-27T00:00:00",
          "2021-05-28T00:00:00",
          "2021-05-29T00:00:00",
          "2021-05-26T00:00:00",
          "2021-05-27T00:00:00",
          "2021-05-28T00:00:00",
          "2021-05-29T00:00:00",
          "2021-05-12T00:00:00",
          "2021-05-11T00:00:00",
          "2021-05-11T00:00:00",
          "2021-05-11T00:00:00",
          "2021-05-15T00:00:00",
          "2021-05-25T00:00:00",
          "2021-05-18T00:00:00",
          "2021-05-24T00:00:00",
          "2021-05-24T00:00:00",
          "2021-05-24T00:00:00",
          "2021-05-25T00:00:00",
          "2021-05-25T00:00:00",
          "2021-05-25T00:00:00",
          "2021-05-24T00:00:00",
          "2021-05-25T00:00:00",
          "2021-05-25T00:00:00",
          "2021-05-25T00:00:00",
          "2021-05-25T00:00:00",
          "2021-05-24T00:00:00",
          "2021-05-25T00:00:00",
          "2021-06-03T00:00:00",
          "2021-06-04T00:00:00",
          "2021-06-03T00:00:00",
          "2021-05-23T00:00:00",
          "2021-05-23T00:00:00",
          "2021-05-23T00:00:00",
          "2021-05-23T00:00:00",
          "2021-05-23T00:00:00",
          "2021-05-23T00:00:00",
          "2021-05-23T00:00:00",
          "2021-05-23T00:00:00",
          "2021-05-23T00:00:00",
          "2021-05-23T00:00:00",
          "2021-05-23T00:00:00",
          "2021-05-23T00:00:00",
          "2021-05-23T00:00:00",
          "2021-05-23T00:00:00",
          "2021-05-23T00:00:00",
          "2021-05-23T00:00:00",
          "2021-05-23T00:00:00",
          "2021-05-23T00:00:00",
          "2021-05-23T00:00:00",
          "2021-05-23T00:00:00",
          "2021-05-23T00:00:00",
          "2021-05-24T00:00:00",
          "2021-05-23T00:00:00",
          "2021-05-23T00:00:00",
          "2021-05-23T00:00:00",
          "2021-05-23T00:00:00",
          "2021-05-23T00:00:00",
          "2021-05-23T00:00:00",
          "2021-05-23T00:00:00",
          "2021-05-23T00:00:00",
          "2021-05-23T00:00:00",
          "2021-05-23T00:00:00",
          "2021-05-23T00:00:00",
          "2021-05-23T00:00:00",
          "2021-05-23T00:00:00",
          "2021-05-23T00:00:00",
          "2021-05-23T00:00:00",
          "2021-05-23T00:00:00",
          "2021-05-23T00:00:00",
          "2021-05-23T00:00:00",
          "2021-05-23T00:00:00",
          "2021-05-23T00:00:00",
          "2021-05-23T00:00:00",
          "2021-05-23T00:00:00",
          "2021-05-23T00:00:00",
          "2021-05-23T00:00:00",
          "2021-05-27T00:00:00",
          "2021-05-27T00:00:00",
          "2021-05-27T00:00:00",
          "2021-05-23T00:00:00",
          "2021-05-23T00:00:00",
          "2021-05-23T00:00:00",
          "2021-05-23T00:00:00",
          "2021-05-23T00:00:00",
          "2021-05-28T00:00:00",
          "2021-05-23T00:00:00",
          "2021-05-23T00:00:00",
          "2021-06-02T00:00:00",
          "2021-06-02T00:00:00",
          "2021-06-03T00:00:00",
          "2021-06-03T00:00:00",
          "2021-06-04T00:00:00",
          "2021-06-04T00:00:00"
         ],
         "xaxis": "x",
         "xbingroup": "x",
         "y": [
          "2021-07-12T00:00:00",
          "2021-07-12T00:00:00",
          "2021-07-12T00:00:00",
          "2021-07-12T00:00:00",
          "2021-07-12T00:00:00",
          "2021-07-12T00:00:00",
          "2021-07-12T00:00:00",
          "2021-07-12T00:00:00",
          "2021-07-12T00:00:00",
          "2021-07-12T00:00:00",
          "2021-07-13T00:00:00",
          "2021-07-13T00:00:00",
          "2021-07-14T00:00:00",
          "2021-07-14T00:00:00",
          "2021-07-14T00:00:00",
          "2021-07-14T00:00:00",
          "2021-07-14T00:00:00",
          "2021-07-14T00:00:00",
          "2021-07-14T00:00:00",
          "2021-07-14T00:00:00",
          "2021-07-14T00:00:00",
          "2021-07-14T00:00:00",
          "2021-07-14T00:00:00",
          "2021-07-14T00:00:00",
          "2021-07-14T00:00:00",
          "2021-07-14T00:00:00",
          "2021-07-14T00:00:00",
          "2021-07-14T00:00:00",
          "2021-07-14T00:00:00",
          "2021-07-14T00:00:00",
          "2021-07-14T00:00:00",
          "2021-07-14T00:00:00",
          "2021-07-14T00:00:00",
          "2021-07-14T00:00:00",
          "2021-07-14T00:00:00",
          "2021-07-14T00:00:00",
          "2021-07-14T00:00:00",
          "2021-07-14T00:00:00",
          "2021-07-14T00:00:00",
          "2021-07-14T00:00:00",
          "2021-07-14T00:00:00",
          "2021-07-14T00:00:00",
          "2021-07-14T00:00:00",
          "2021-07-14T00:00:00",
          "2021-07-14T00:00:00",
          "2021-07-14T00:00:00",
          "2021-07-14T00:00:00",
          "2021-07-14T00:00:00",
          "2021-07-14T00:00:00",
          "2021-07-14T00:00:00",
          "2021-07-14T00:00:00",
          "2021-07-14T00:00:00",
          "2021-07-14T00:00:00",
          "2021-07-14T00:00:00",
          "2021-07-14T00:00:00",
          "2021-07-14T00:00:00",
          "2021-07-14T00:00:00",
          "2021-07-14T00:00:00",
          "2021-07-14T00:00:00",
          "2021-07-14T00:00:00",
          "2021-07-14T00:00:00",
          "2021-07-14T00:00:00",
          "2021-07-14T00:00:00",
          "2021-07-14T00:00:00",
          "2021-07-14T00:00:00",
          "2021-07-14T00:00:00",
          "2021-07-14T00:00:00",
          "2021-07-14T00:00:00",
          "2021-07-14T00:00:00",
          "2021-07-14T00:00:00",
          "2021-07-15T00:00:00",
          "2021-07-15T00:00:00",
          "2021-07-15T00:00:00",
          "2021-07-15T00:00:00",
          "2021-07-15T00:00:00",
          "2021-07-15T00:00:00",
          "2021-07-15T00:00:00",
          "2021-07-15T00:00:00",
          "2021-07-15T00:00:00",
          "2021-07-17T00:00:00",
          "2021-07-15T00:00:00",
          "2021-07-15T00:00:00",
          "2021-07-15T00:00:00",
          "2021-07-15T00:00:00",
          "2021-07-15T00:00:00",
          "2021-07-15T00:00:00",
          "2021-07-15T00:00:00",
          "2021-07-15T00:00:00",
          "2021-07-15T00:00:00",
          "2021-07-15T00:00:00",
          "2021-07-15T00:00:00",
          "2021-07-15T00:00:00",
          "2021-07-15T00:00:00",
          "2021-07-15T00:00:00",
          "2021-07-15T00:00:00",
          "2021-07-15T00:00:00",
          "2021-07-15T00:00:00",
          "2021-07-15T00:00:00",
          "2021-07-15T00:00:00",
          "2021-07-15T00:00:00",
          "2021-07-15T00:00:00",
          "2021-07-15T00:00:00",
          "2021-07-15T00:00:00",
          "2021-07-15T00:00:00",
          "2021-07-15T00:00:00",
          "2021-07-15T00:00:00",
          "2021-07-15T00:00:00",
          "2021-07-15T00:00:00",
          "2021-07-15T00:00:00",
          "2021-07-15T00:00:00",
          "2021-07-15T00:00:00",
          "2021-07-15T00:00:00",
          "2021-07-15T00:00:00",
          "2021-07-15T00:00:00",
          "2021-07-15T00:00:00",
          "2021-07-16T00:00:00",
          "2021-07-16T00:00:00",
          "2021-07-16T00:00:00",
          "2021-07-16T00:00:00",
          "2021-07-16T00:00:00",
          "2021-07-16T00:00:00",
          "2021-07-16T00:00:00",
          "2021-07-16T00:00:00",
          "2021-07-16T00:00:00",
          "2021-07-16T00:00:00",
          "2021-07-16T00:00:00",
          "2021-07-16T00:00:00",
          "2021-07-16T00:00:00",
          "2021-07-16T00:00:00",
          "2021-07-16T00:00:00",
          "2021-07-16T00:00:00",
          "2021-07-16T00:00:00",
          "2021-07-16T00:00:00",
          "2021-07-16T00:00:00",
          "2021-07-16T00:00:00",
          "2021-07-16T00:00:00",
          "2021-07-16T00:00:00",
          "2021-07-16T00:00:00",
          "2021-07-16T00:00:00",
          "2021-07-16T00:00:00",
          "2021-07-16T00:00:00",
          "2021-07-16T00:00:00",
          "2021-07-17T00:00:00",
          "2021-07-16T00:00:00",
          "2021-07-16T00:00:00",
          "2021-07-16T00:00:00",
          "2021-07-16T00:00:00",
          "2021-07-16T00:00:00",
          "2021-07-16T00:00:00",
          "2021-07-16T00:00:00",
          "2021-07-16T00:00:00",
          "2021-07-16T00:00:00",
          "2021-07-16T00:00:00",
          "2021-07-16T00:00:00",
          "2021-07-16T00:00:00",
          "2021-07-16T00:00:00",
          "2021-07-16T00:00:00",
          "2021-07-16T00:00:00",
          "2021-07-16T00:00:00",
          "2021-07-16T00:00:00",
          "2021-07-16T00:00:00",
          "2021-07-16T00:00:00",
          "2021-07-17T00:00:00",
          "2021-07-17T00:00:00",
          "2021-07-17T00:00:00",
          "2021-07-17T00:00:00",
          "2021-07-17T00:00:00",
          "2021-07-17T00:00:00",
          "2021-07-17T00:00:00",
          "2021-07-17T00:00:00",
          "2021-07-17T00:00:00",
          "2021-07-17T00:00:00",
          "2021-07-17T00:00:00",
          "2021-07-17T00:00:00",
          "2021-07-17T00:00:00",
          "2021-07-17T00:00:00",
          "2021-07-17T00:00:00",
          "2021-07-17T00:00:00",
          "2021-07-17T00:00:00",
          "2021-07-17T00:00:00",
          "2021-07-17T00:00:00",
          "2021-07-17T00:00:00",
          "2021-07-17T00:00:00",
          "2021-07-17T00:00:00",
          "2021-07-17T00:00:00",
          "2021-07-17T00:00:00",
          "2021-07-17T00:00:00",
          "2021-07-17T00:00:00",
          "2021-07-17T00:00:00",
          "2021-07-17T00:00:00",
          "2021-07-17T00:00:00",
          "2021-07-17T00:00:00",
          "2021-07-17T00:00:00",
          "2021-07-17T00:00:00",
          "2021-07-17T00:00:00",
          "2021-07-17T00:00:00",
          "2021-07-17T00:00:00",
          "2021-07-17T00:00:00",
          "2021-07-17T00:00:00",
          "2021-07-17T00:00:00",
          "2021-07-17T00:00:00",
          "2021-07-17T00:00:00",
          "2021-07-17T00:00:00",
          "2021-07-17T00:00:00",
          "2021-07-17T00:00:00",
          "2021-07-17T00:00:00",
          "2021-07-17T00:00:00",
          "2021-07-17T00:00:00",
          "2021-07-18T00:00:00",
          "2021-07-18T00:00:00",
          "2021-07-18T00:00:00",
          "2021-07-18T00:00:00",
          "2021-07-18T00:00:00",
          "2021-07-18T00:00:00",
          "2021-07-18T00:00:00",
          "2021-07-18T00:00:00",
          "2021-07-18T00:00:00",
          "2021-07-18T00:00:00",
          "2021-07-18T00:00:00",
          "2021-07-18T00:00:00",
          "2021-07-18T00:00:00",
          "2021-07-18T00:00:00",
          "2021-07-18T00:00:00",
          "2021-07-18T00:00:00",
          "2021-07-18T00:00:00",
          "2021-07-18T00:00:00",
          "2021-07-18T00:00:00",
          "2021-07-18T00:00:00",
          "2021-07-18T00:00:00",
          "2021-07-18T00:00:00",
          "2021-07-18T00:00:00",
          "2021-07-18T00:00:00",
          "2021-07-18T00:00:00",
          "2021-07-18T00:00:00",
          "2021-07-18T00:00:00",
          "2021-07-18T00:00:00",
          "2021-07-18T00:00:00",
          "2021-07-18T00:00:00",
          "2021-07-18T00:00:00",
          "2021-07-18T00:00:00",
          "2021-07-18T00:00:00",
          "2021-07-18T00:00:00",
          "2021-07-18T00:00:00",
          "2021-07-18T00:00:00",
          "2021-07-18T00:00:00",
          "2021-07-18T00:00:00",
          "2021-07-18T00:00:00",
          "2021-07-18T00:00:00",
          "2021-07-18T00:00:00",
          "2021-07-18T00:00:00",
          "2021-07-18T00:00:00",
          "2021-07-18T00:00:00",
          "2021-07-18T00:00:00",
          "2021-07-18T00:00:00",
          "2021-07-18T00:00:00",
          "2021-07-18T00:00:00",
          "2021-07-18T00:00:00",
          "2021-07-18T00:00:00",
          "2021-07-18T00:00:00",
          "2021-07-18T00:00:00",
          "2021-07-18T00:00:00",
          "2021-07-18T00:00:00",
          "2021-07-18T00:00:00",
          "2021-07-18T00:00:00",
          "2021-07-18T00:00:00",
          "2021-07-18T00:00:00",
          "2021-07-18T00:00:00",
          "2021-07-18T00:00:00",
          "2021-07-18T00:00:00",
          "2021-07-18T00:00:00",
          "2021-07-18T00:00:00",
          "2021-07-18T00:00:00",
          "2021-07-18T00:00:00",
          "2021-07-18T00:00:00",
          "2021-07-18T00:00:00",
          "2021-07-18T00:00:00",
          "2021-07-18T00:00:00",
          "2021-07-18T00:00:00",
          "2021-07-15T00:00:00",
          "2021-07-16T00:00:00",
          "2021-07-16T00:00:00",
          "2021-07-16T00:00:00",
          "2021-07-17T00:00:00",
          "2021-07-17T00:00:00",
          "2021-07-17T00:00:00",
          "2021-07-17T00:00:00",
          "2021-07-17T00:00:00",
          "2021-07-17T00:00:00",
          "2021-07-18T00:00:00",
          "2021-07-18T00:00:00",
          "2021-07-18T00:00:00",
          "2021-07-18T00:00:00",
          "2021-07-18T00:00:00",
          "2021-07-16T00:00:00",
          "2021-07-16T00:00:00",
          "2021-07-16T00:00:00",
          "2021-07-10T00:00:00",
          "2021-07-15T00:00:00",
          "2021-07-16T00:00:00",
          "2021-07-16T00:00:00",
          "2021-07-16T00:00:00",
          "2021-07-14T00:00:00",
          "2021-07-14T00:00:00",
          "2021-07-14T00:00:00",
          "2021-06-15T00:00:00",
          "2021-06-15T00:00:00",
          "2021-06-15T00:00:00",
          "2021-06-15T00:00:00",
          "2021-06-15T00:00:00",
          "2021-06-15T00:00:00",
          "2021-06-15T00:00:00",
          "2021-06-15T00:00:00",
          "2021-06-15T00:00:00",
          "2021-06-15T00:00:00",
          "2021-06-15T00:00:00",
          "2021-06-15T00:00:00",
          "2021-06-16T00:00:00",
          "2021-06-16T00:00:00",
          "2021-06-24T00:00:00",
          "2021-06-24T00:00:00",
          "2021-06-24T00:00:00",
          "2021-06-24T00:00:00",
          "2021-06-24T00:00:00",
          "2021-06-24T00:00:00",
          "2021-06-24T00:00:00",
          "2021-06-24T00:00:00",
          "2021-06-24T00:00:00",
          "2021-06-24T00:00:00",
          "2021-06-24T00:00:00",
          "2021-06-24T00:00:00",
          "2021-06-24T00:00:00",
          "2021-06-24T00:00:00",
          "2021-06-24T00:00:00",
          "2021-06-24T00:00:00",
          "2021-06-24T00:00:00",
          "2021-06-24T00:00:00",
          "2021-06-25T00:00:00",
          "2021-06-26T00:00:00",
          "2021-06-26T00:00:00",
          "2021-06-26T00:00:00",
          "2021-06-26T00:00:00",
          "2021-06-26T00:00:00",
          "2021-06-27T00:00:00",
          "2021-06-27T00:00:00",
          "2021-06-27T00:00:00",
          "2021-06-27T00:00:00",
          "2021-06-27T00:00:00",
          "2021-06-27T00:00:00",
          "2021-06-15T00:00:00",
          "2021-06-15T00:00:00",
          "2021-06-15T00:00:00",
          "2021-06-15T00:00:00",
          "2021-06-15T00:00:00",
          "2021-06-15T00:00:00",
          "2021-06-15T00:00:00",
          "2021-06-15T00:00:00",
          "2021-06-15T00:00:00",
          "2021-06-15T00:00:00",
          "2021-06-15T00:00:00",
          "2021-06-15T00:00:00",
          "2021-06-15T00:00:00",
          "2021-06-15T00:00:00",
          "2021-06-15T00:00:00",
          "2021-06-15T00:00:00",
          "2021-06-15T00:00:00",
          "2021-06-15T00:00:00",
          "2021-06-15T00:00:00",
          "2021-06-15T00:00:00",
          "2021-06-15T00:00:00",
          "2021-06-16T00:00:00",
          "2021-06-16T00:00:00",
          "2021-06-16T00:00:00",
          "2021-06-16T00:00:00",
          "2021-06-16T00:00:00",
          "2021-06-16T00:00:00",
          "2021-06-16T00:00:00",
          "2021-06-16T00:00:00",
          "2021-06-16T00:00:00",
          "2021-06-16T00:00:00",
          "2021-06-16T00:00:00",
          "2021-06-16T00:00:00",
          "2021-06-12T00:00:00",
          "2021-06-13T00:00:00",
          "2021-06-13T00:00:00",
          "2021-06-15T00:00:00",
          "2021-06-15T00:00:00",
          "2021-06-15T00:00:00",
          "2021-06-15T00:00:00",
          "2021-06-15T00:00:00",
          "2021-06-15T00:00:00",
          "2021-06-15T00:00:00",
          "2021-06-15T00:00:00",
          "2021-06-15T00:00:00",
          "2021-05-30T00:00:00",
          "2021-05-31T00:00:00",
          "2021-06-05T00:00:00",
          "2021-06-05T00:00:00",
          "2021-06-05T00:00:00",
          "2021-06-05T00:00:00",
          "2021-06-05T00:00:00",
          "2021-06-05T00:00:00",
          "2021-06-06T00:00:00",
          "2021-06-06T00:00:00",
          "2021-06-06T00:00:00",
          "2021-06-06T00:00:00",
          "2021-06-07T00:00:00",
          "2021-06-07T00:00:00",
          "2021-06-07T00:00:00",
          "2021-06-07T00:00:00",
          "2021-06-07T00:00:00",
          "2021-06-07T00:00:00",
          "2021-06-07T00:00:00",
          "2021-06-07T00:00:00",
          "2021-06-07T00:00:00",
          "2021-06-07T00:00:00",
          "2021-06-08T00:00:00",
          "2021-06-09T00:00:00",
          "2021-06-09T00:00:00",
          "2021-06-09T00:00:00",
          "2021-06-09T00:00:00",
          "2021-06-09T00:00:00",
          "2021-06-09T00:00:00",
          "2021-06-09T00:00:00",
          "2021-06-09T00:00:00",
          "2021-06-09T00:00:00",
          "2021-06-09T00:00:00",
          "2021-06-09T00:00:00",
          "2021-06-09T00:00:00",
          "2021-06-09T00:00:00",
          "2021-06-09T00:00:00",
          "2021-06-09T00:00:00",
          "2021-06-09T00:00:00",
          "2021-06-09T00:00:00",
          "2021-06-09T00:00:00",
          "2021-06-09T00:00:00",
          "2021-06-09T00:00:00",
          "2021-06-09T00:00:00",
          "2021-06-09T00:00:00",
          "2021-06-09T00:00:00",
          "2021-06-09T00:00:00",
          "2021-06-09T00:00:00",
          "2021-06-09T00:00:00",
          "2021-06-09T00:00:00",
          "2021-06-10T00:00:00",
          "2021-06-10T00:00:00",
          "2021-06-10T00:00:00",
          "2021-06-11T00:00:00",
          "2021-06-11T00:00:00",
          "2021-06-11T00:00:00",
          "2021-06-11T00:00:00",
          "2021-06-11T00:00:00",
          "2021-06-11T00:00:00",
          "2021-06-11T00:00:00",
          "2021-06-11T00:00:00",
          "2021-06-11T00:00:00",
          "2021-06-11T00:00:00",
          "2021-06-11T00:00:00",
          "2021-06-11T00:00:00",
          "2021-06-11T00:00:00",
          "2021-06-11T00:00:00",
          "2021-06-11T00:00:00",
          "2021-06-11T00:00:00",
          "2021-06-11T00:00:00",
          "2021-06-11T00:00:00",
          "2021-06-11T00:00:00",
          "2021-06-12T00:00:00",
          "2021-06-12T00:00:00",
          "2021-06-12T00:00:00",
          "2021-06-12T00:00:00",
          "2021-06-12T00:00:00",
          "2021-06-13T00:00:00",
          "2021-06-13T00:00:00",
          "2021-06-13T00:00:00",
          "2021-06-13T00:00:00",
          "2021-06-14T00:00:00",
          "2021-06-14T00:00:00",
          "2021-06-14T00:00:00",
          "2021-06-15T00:00:00",
          "2021-06-15T00:00:00",
          "2021-06-15T00:00:00",
          "2021-06-16T00:00:00",
          "2021-06-16T00:00:00",
          "2021-06-16T00:00:00",
          "2021-06-16T00:00:00",
          "2021-06-16T00:00:00",
          "2021-06-15T00:00:00",
          "2021-06-15T00:00:00",
          "2021-06-15T00:00:00",
          "2021-06-15T00:00:00",
          "2021-06-15T00:00:00",
          "2021-06-15T00:00:00",
          "2021-06-15T00:00:00",
          "2021-05-28T00:00:00",
          "2021-06-05T00:00:00",
          "2021-06-05T00:00:00",
          "2021-06-05T00:00:00",
          "2021-06-05T00:00:00",
          "2021-06-06T00:00:00",
          "2021-06-06T00:00:00",
          "2021-06-06T00:00:00",
          "2021-06-06T00:00:00",
          "2021-06-06T00:00:00",
          "2021-06-06T00:00:00",
          "2021-06-11T00:00:00",
          "2021-06-01T00:00:00",
          "2021-06-01T00:00:00",
          "2021-06-01T00:00:00",
          "2021-06-02T00:00:00",
          "2021-06-02T00:00:00",
          "2021-06-02T00:00:00",
          "2021-06-04T00:00:00",
          "2021-06-04T00:00:00",
          "2021-06-04T00:00:00",
          "2021-06-04T00:00:00",
          "2021-06-04T00:00:00",
          "2021-06-05T00:00:00",
          "2021-06-05T00:00:00",
          "2021-06-05T00:00:00",
          "2021-06-05T00:00:00",
          "2021-06-05T00:00:00",
          "2021-06-05T00:00:00",
          "2021-06-05T00:00:00",
          "2021-06-04T00:00:00",
          "2021-06-05T00:00:00",
          "2021-06-05T00:00:00",
          "2021-06-05T00:00:00",
          "2021-06-05T00:00:00",
          "2021-06-05T00:00:00",
          "2021-06-06T00:00:00",
          "2021-06-06T00:00:00",
          "2021-06-06T00:00:00",
          "2021-06-07T00:00:00",
          "2021-06-07T00:00:00",
          "2021-06-07T00:00:00",
          "2021-06-07T00:00:00",
          "2021-06-07T00:00:00",
          "2021-06-07T00:00:00",
          "2021-06-07T00:00:00",
          "2021-06-07T00:00:00",
          "2021-06-10T00:00:00",
          "2021-06-11T00:00:00",
          "2021-06-11T00:00:00",
          "2021-05-29T00:00:00",
          "2021-05-30T00:00:00",
          "2021-05-31T00:00:00",
          "2021-05-31T00:00:00",
          "2021-05-31T00:00:00",
          "2021-06-01T00:00:00",
          "2021-06-01T00:00:00",
          "2021-06-01T00:00:00",
          "2021-06-02T00:00:00",
          "2021-06-10T00:00:00",
          "2021-06-10T00:00:00",
          "2021-05-29T00:00:00",
          "2021-05-29T00:00:00",
          "2021-05-29T00:00:00",
          "2021-05-30T00:00:00",
          "2021-05-30T00:00:00",
          "2021-05-31T00:00:00",
          "2021-05-31T00:00:00",
          "2021-05-31T00:00:00",
          "2021-05-31T00:00:00",
          "2021-05-31T00:00:00",
          "2021-05-31T00:00:00",
          "2021-05-31T00:00:00",
          "2021-05-31T00:00:00",
          "2021-05-31T00:00:00",
          "2021-05-31T00:00:00",
          "2021-05-31T00:00:00",
          "2021-05-31T00:00:00",
          "2021-05-31T00:00:00",
          "2021-05-31T00:00:00",
          "2021-05-31T00:00:00",
          "2021-05-31T00:00:00",
          "2021-05-31T00:00:00",
          "2021-05-31T00:00:00",
          "2021-05-31T00:00:00",
          "2021-05-31T00:00:00",
          "2021-05-31T00:00:00",
          "2021-06-04T00:00:00",
          "2021-06-04T00:00:00",
          "2021-06-04T00:00:00",
          "2021-06-09T00:00:00",
          "2021-06-09T00:00:00",
          "2021-05-30T00:00:00",
          "2021-05-30T00:00:00",
          "2021-05-30T00:00:00",
          "2021-05-30T00:00:00",
          "2021-05-30T00:00:00",
          "2021-05-30T00:00:00",
          "2021-05-30T00:00:00",
          "2021-05-30T00:00:00",
          "2021-05-30T00:00:00",
          "2021-05-30T00:00:00",
          "2021-05-30T00:00:00",
          "2021-05-30T00:00:00",
          "2021-05-30T00:00:00",
          "2021-05-30T00:00:00",
          "2021-05-30T00:00:00",
          "2021-05-30T00:00:00",
          "2021-05-31T00:00:00",
          "2021-05-31T00:00:00",
          "2021-05-31T00:00:00",
          "2021-05-31T00:00:00",
          "2021-05-31T00:00:00",
          "2021-05-31T00:00:00",
          "2021-05-31T00:00:00",
          "2021-05-31T00:00:00",
          "2021-05-31T00:00:00",
          "2021-05-31T00:00:00",
          "2021-05-31T00:00:00",
          "2021-06-01T00:00:00",
          "2021-06-01T00:00:00",
          "2021-06-02T00:00:00",
          "2021-06-02T00:00:00",
          "2021-06-03T00:00:00",
          "2021-06-04T00:00:00",
          "2021-06-04T00:00:00",
          "2021-06-09T00:00:00",
          "2021-06-09T00:00:00",
          "2021-05-26T00:00:00",
          "2021-05-24T00:00:00",
          "2021-05-26T00:00:00",
          "2021-05-25T00:00:00",
          "2021-05-26T00:00:00",
          "2021-05-24T00:00:00",
          "2021-05-24T00:00:00",
          "2021-05-24T00:00:00",
          "2021-05-26T00:00:00",
          "2021-05-25T00:00:00",
          "2021-05-25T00:00:00",
          "2021-05-25T00:00:00",
          "2021-05-25T00:00:00",
          "2021-05-24T00:00:00",
          "2021-05-24T00:00:00",
          "2021-05-24T00:00:00",
          "2021-05-24T00:00:00",
          "2021-05-24T00:00:00",
          "2021-05-24T00:00:00",
          "2021-05-24T00:00:00",
          "2021-05-25T00:00:00",
          "2021-05-26T00:00:00",
          "2021-05-26T00:00:00",
          "2021-05-24T00:00:00",
          "2021-05-18T00:00:00",
          "2021-05-25T00:00:00",
          "2021-05-24T00:00:00",
          "2021-05-26T00:00:00",
          "2021-05-26T00:00:00",
          "2021-05-28T00:00:00",
          "2021-05-26T00:00:00",
          "2021-05-26T00:00:00",
          "2021-05-26T00:00:00",
          "2021-05-26T00:00:00",
          "2021-05-26T00:00:00",
          "2021-05-26T00:00:00",
          "2021-05-26T00:00:00",
          "2021-05-26T00:00:00",
          "2021-05-26T00:00:00",
          "2021-05-26T00:00:00",
          "2021-05-26T00:00:00",
          "2021-05-26T00:00:00",
          "2021-05-27T00:00:00",
          "2021-05-27T00:00:00",
          "2021-05-27T00:00:00",
          "2021-05-27T00:00:00",
          "2021-05-27T00:00:00",
          "2021-05-27T00:00:00",
          "2021-05-27T00:00:00",
          "2021-05-27T00:00:00",
          "2021-05-27T00:00:00",
          "2021-05-27T00:00:00",
          "2021-05-27T00:00:00",
          "2021-05-27T00:00:00",
          "2021-05-27T00:00:00",
          "2021-05-27T00:00:00",
          "2021-05-27T00:00:00",
          "2021-05-27T00:00:00",
          "2021-05-27T00:00:00",
          "2021-05-27T00:00:00",
          "2021-05-27T00:00:00",
          "2021-05-27T00:00:00",
          "2021-05-27T00:00:00",
          "2021-05-28T00:00:00",
          "2021-05-28T00:00:00",
          "2021-05-28T00:00:00",
          "2021-05-28T00:00:00",
          "2021-05-28T00:00:00",
          "2021-05-28T00:00:00",
          "2021-05-28T00:00:00",
          "2021-05-28T00:00:00",
          "2021-05-28T00:00:00",
          "2021-05-28T00:00:00",
          "2021-05-28T00:00:00",
          "2021-05-28T00:00:00",
          "2021-05-28T00:00:00",
          "2021-05-28T00:00:00",
          "2021-05-28T00:00:00",
          "2021-05-28T00:00:00",
          "2021-05-28T00:00:00",
          "2021-05-28T00:00:00",
          "2021-05-28T00:00:00",
          "2021-05-28T00:00:00",
          "2021-05-28T00:00:00",
          "2021-05-28T00:00:00",
          "2021-05-29T00:00:00",
          "2021-05-30T00:00:00",
          "2021-05-29T00:00:00",
          "2021-05-29T00:00:00",
          "2021-05-29T00:00:00",
          "2021-05-29T00:00:00",
          "2021-05-29T00:00:00",
          "2021-05-29T00:00:00",
          "2021-05-29T00:00:00",
          "2021-05-29T00:00:00",
          "2021-05-29T00:00:00",
          "2021-05-29T00:00:00",
          "2021-05-29T00:00:00",
          "2021-05-30T00:00:00",
          "2021-05-30T00:00:00",
          "2021-05-30T00:00:00",
          "2021-05-30T00:00:00",
          "2021-05-30T00:00:00",
          "2021-05-30T00:00:00",
          "2021-05-30T00:00:00",
          "2021-05-30T00:00:00",
          "2021-05-30T00:00:00",
          "2021-05-30T00:00:00",
          "2021-05-30T00:00:00",
          "2021-05-30T00:00:00",
          "2021-05-30T00:00:00",
          "2021-05-30T00:00:00",
          "2021-05-30T00:00:00",
          "2021-05-30T00:00:00",
          "2021-05-30T00:00:00",
          "2021-05-30T00:00:00",
          "2021-05-30T00:00:00",
          "2021-05-30T00:00:00",
          "2021-05-30T00:00:00",
          "2021-05-30T00:00:00",
          "2021-05-30T00:00:00",
          "2021-05-30T00:00:00",
          "2021-05-30T00:00:00",
          "2021-05-30T00:00:00",
          "2021-05-30T00:00:00",
          "2021-05-30T00:00:00",
          "2021-05-30T00:00:00",
          "2021-05-30T00:00:00",
          "2021-05-30T00:00:00",
          "2021-05-30T00:00:00",
          "2021-05-30T00:00:00",
          "2021-05-30T00:00:00",
          "2021-05-30T00:00:00",
          "2021-05-30T00:00:00",
          "2021-05-30T00:00:00",
          "2021-05-30T00:00:00",
          "2021-05-30T00:00:00",
          "2021-05-30T00:00:00",
          "2021-05-30T00:00:00",
          "2021-05-30T00:00:00",
          "2021-05-30T00:00:00",
          "2021-05-30T00:00:00",
          "2021-05-30T00:00:00",
          "2021-05-31T00:00:00",
          "2021-05-31T00:00:00",
          "2021-05-31T00:00:00",
          "2021-05-31T00:00:00",
          "2021-05-31T00:00:00",
          "2021-05-31T00:00:00",
          "2021-05-31T00:00:00",
          "2021-05-31T00:00:00",
          "2021-05-31T00:00:00",
          "2021-05-31T00:00:00",
          "2021-05-31T00:00:00",
          "2021-05-31T00:00:00",
          "2021-05-31T00:00:00",
          "2021-05-31T00:00:00",
          "2021-05-31T00:00:00",
          "2021-05-31T00:00:00",
          "2021-05-31T00:00:00",
          "2021-06-01T00:00:00",
          "2021-06-01T00:00:00",
          "2021-06-01T00:00:00",
          "2021-06-01T00:00:00",
          "2021-06-01T00:00:00",
          "2021-06-02T00:00:00",
          "2021-06-03T00:00:00",
          "2021-06-02T00:00:00",
          "2021-06-02T00:00:00",
          "2021-06-02T00:00:00",
          "2021-06-03T00:00:00",
          "2021-06-03T00:00:00",
          "2021-06-03T00:00:00",
          "2021-06-04T00:00:00",
          "2021-06-06T00:00:00",
          "2021-06-06T00:00:00",
          "2021-06-07T00:00:00",
          "2021-05-26T00:00:00",
          "2021-05-26T00:00:00",
          "2021-05-24T00:00:00",
          "2021-05-24T00:00:00",
          "2021-05-24T00:00:00",
          "2021-05-24T00:00:00",
          "2021-05-26T00:00:00",
          "2021-05-24T00:00:00",
          "2021-05-24T00:00:00",
          "2021-05-26T00:00:00",
          "2021-05-26T00:00:00",
          "2021-05-26T00:00:00",
          "2021-05-26T00:00:00",
          "2021-05-26T00:00:00",
          "2021-05-26T00:00:00",
          "2021-05-26T00:00:00",
          "2021-05-26T00:00:00",
          "2021-05-26T00:00:00",
          "2021-05-26T00:00:00",
          "2021-05-26T00:00:00",
          "2021-05-27T00:00:00",
          "2021-05-27T00:00:00",
          "2021-05-27T00:00:00",
          "2021-05-27T00:00:00",
          "2021-05-27T00:00:00",
          "2021-05-27T00:00:00",
          "2021-05-27T00:00:00",
          "2021-05-27T00:00:00",
          "2021-05-27T00:00:00",
          "2021-05-28T00:00:00",
          "2021-05-28T00:00:00",
          "2021-05-28T00:00:00",
          "2021-05-28T00:00:00",
          "2021-05-28T00:00:00",
          "2021-05-29T00:00:00",
          "2021-05-29T00:00:00",
          "2021-05-29T00:00:00",
          "2021-05-30T00:00:00",
          "2021-05-30T00:00:00",
          "2021-05-30T00:00:00",
          "2021-05-30T00:00:00",
          "2021-05-30T00:00:00",
          "2021-05-30T00:00:00",
          "2021-05-30T00:00:00",
          "2021-05-30T00:00:00",
          "2021-05-30T00:00:00",
          "2021-05-31T00:00:00",
          "2021-05-31T00:00:00",
          "2021-05-31T00:00:00",
          "2021-05-31T00:00:00",
          "2021-05-31T00:00:00",
          "2021-05-31T00:00:00",
          "2021-05-31T00:00:00",
          "2021-06-01T00:00:00",
          "2021-06-01T00:00:00",
          "2021-06-01T00:00:00",
          "2021-06-01T00:00:00",
          "2021-06-06T00:00:00",
          "2021-06-06T00:00:00",
          "2021-06-06T00:00:00",
          "2021-06-06T00:00:00",
          "2021-06-06T00:00:00",
          "2021-06-06T00:00:00"
         ],
         "yaxis": "y",
         "ybingroup": "y"
        }
       ],
       "layout": {
        "annotations": [
         {
          "ax": 20,
          "ay": 20,
          "text": "lockdown four",
          "x": "2021-05-27",
          "xanchor": "left",
          "y": "2021-05-27"
         },
         {
          "ax": 15,
          "ay": -20,
          "text": "lockdown five",
          "x": "2021-07-15",
          "xanchor": "left",
          "y": "2021-07-15"
         }
        ],
        "coloraxis": {
         "colorbar": {
          "title": {
           "text": "count"
          }
         },
         "colorscale": [
          [
           0,
           "#440154"
          ],
          [
           0.1111111111111111,
           "#482878"
          ],
          [
           0.2222222222222222,
           "#3e4989"
          ],
          [
           0.3333333333333333,
           "#31688e"
          ],
          [
           0.4444444444444444,
           "#26828e"
          ],
          [
           0.5555555555555556,
           "#1f9e89"
          ],
          [
           0.6666666666666666,
           "#35b779"
          ],
          [
           0.7777777777777778,
           "#6ece58"
          ],
          [
           0.8888888888888888,
           "#b5de2b"
          ],
          [
           1,
           "#fde725"
          ]
         ]
        },
        "legend": {
         "tracegroupgap": 0
        },
        "plot_bgcolor": "#440154",
        "shapes": [
         {
          "type": "line",
          "x0": "2021-05-27T12:00:00",
          "x1": "2021-05-27T12:00:00",
          "xref": "x",
          "y0": 0,
          "y1": 1,
          "yref": "y domain"
         },
         {
          "type": "line",
          "x0": 0,
          "x1": 1,
          "xref": "x domain",
          "y0": "2021-05-27T12:00:00",
          "y1": "2021-05-27T12:00:00",
          "yref": "y"
         },
         {
          "type": "line",
          "x0": "2021-07-15T12:00:00",
          "x1": "2021-07-15T12:00:00",
          "xref": "x",
          "y0": 0,
          "y1": 1,
          "yref": "y domain"
         },
         {
          "type": "line",
          "x0": 0,
          "x1": 1,
          "xref": "x domain",
          "y0": "2021-07-15T12:00:00",
          "y1": "2021-07-15T12:00:00",
          "yref": "y"
         }
        ],
        "template": {
         "data": {
          "bar": [
           {
            "error_x": {
             "color": "#f2f5fa"
            },
            "error_y": {
             "color": "#f2f5fa"
            },
            "marker": {
             "line": {
              "color": "rgb(17,17,17)",
              "width": 0.5
             }
            },
            "type": "bar"
           }
          ],
          "barpolar": [
           {
            "marker": {
             "line": {
              "color": "rgb(17,17,17)",
              "width": 0.5
             }
            },
            "type": "barpolar"
           }
          ],
          "carpet": [
           {
            "aaxis": {
             "endlinecolor": "#A2B1C6",
             "gridcolor": "#506784",
             "linecolor": "#506784",
             "minorgridcolor": "#506784",
             "startlinecolor": "#A2B1C6"
            },
            "baxis": {
             "endlinecolor": "#A2B1C6",
             "gridcolor": "#506784",
             "linecolor": "#506784",
             "minorgridcolor": "#506784",
             "startlinecolor": "#A2B1C6"
            },
            "type": "carpet"
           }
          ],
          "choropleth": [
           {
            "colorbar": {
             "outlinewidth": 0,
             "ticks": ""
            },
            "type": "choropleth"
           }
          ],
          "contour": [
           {
            "colorbar": {
             "outlinewidth": 0,
             "ticks": ""
            },
            "colorscale": [
             [
              0,
              "#0d0887"
             ],
             [
              0.1111111111111111,
              "#46039f"
             ],
             [
              0.2222222222222222,
              "#7201a8"
             ],
             [
              0.3333333333333333,
              "#9c179e"
             ],
             [
              0.4444444444444444,
              "#bd3786"
             ],
             [
              0.5555555555555556,
              "#d8576b"
             ],
             [
              0.6666666666666666,
              "#ed7953"
             ],
             [
              0.7777777777777778,
              "#fb9f3a"
             ],
             [
              0.8888888888888888,
              "#fdca26"
             ],
             [
              1,
              "#f0f921"
             ]
            ],
            "type": "contour"
           }
          ],
          "contourcarpet": [
           {
            "colorbar": {
             "outlinewidth": 0,
             "ticks": ""
            },
            "type": "contourcarpet"
           }
          ],
          "heatmap": [
           {
            "colorbar": {
             "outlinewidth": 0,
             "ticks": ""
            },
            "colorscale": [
             [
              0,
              "#0d0887"
             ],
             [
              0.1111111111111111,
              "#46039f"
             ],
             [
              0.2222222222222222,
              "#7201a8"
             ],
             [
              0.3333333333333333,
              "#9c179e"
             ],
             [
              0.4444444444444444,
              "#bd3786"
             ],
             [
              0.5555555555555556,
              "#d8576b"
             ],
             [
              0.6666666666666666,
              "#ed7953"
             ],
             [
              0.7777777777777778,
              "#fb9f3a"
             ],
             [
              0.8888888888888888,
              "#fdca26"
             ],
             [
              1,
              "#f0f921"
             ]
            ],
            "type": "heatmap"
           }
          ],
          "heatmapgl": [
           {
            "colorbar": {
             "outlinewidth": 0,
             "ticks": ""
            },
            "colorscale": [
             [
              0,
              "#0d0887"
             ],
             [
              0.1111111111111111,
              "#46039f"
             ],
             [
              0.2222222222222222,
              "#7201a8"
             ],
             [
              0.3333333333333333,
              "#9c179e"
             ],
             [
              0.4444444444444444,
              "#bd3786"
             ],
             [
              0.5555555555555556,
              "#d8576b"
             ],
             [
              0.6666666666666666,
              "#ed7953"
             ],
             [
              0.7777777777777778,
              "#fb9f3a"
             ],
             [
              0.8888888888888888,
              "#fdca26"
             ],
             [
              1,
              "#f0f921"
             ]
            ],
            "type": "heatmapgl"
           }
          ],
          "histogram": [
           {
            "marker": {
             "colorbar": {
              "outlinewidth": 0,
              "ticks": ""
             }
            },
            "type": "histogram"
           }
          ],
          "histogram2d": [
           {
            "colorbar": {
             "outlinewidth": 0,
             "ticks": ""
            },
            "colorscale": [
             [
              0,
              "#0d0887"
             ],
             [
              0.1111111111111111,
              "#46039f"
             ],
             [
              0.2222222222222222,
              "#7201a8"
             ],
             [
              0.3333333333333333,
              "#9c179e"
             ],
             [
              0.4444444444444444,
              "#bd3786"
             ],
             [
              0.5555555555555556,
              "#d8576b"
             ],
             [
              0.6666666666666666,
              "#ed7953"
             ],
             [
              0.7777777777777778,
              "#fb9f3a"
             ],
             [
              0.8888888888888888,
              "#fdca26"
             ],
             [
              1,
              "#f0f921"
             ]
            ],
            "type": "histogram2d"
           }
          ],
          "histogram2dcontour": [
           {
            "colorbar": {
             "outlinewidth": 0,
             "ticks": ""
            },
            "colorscale": [
             [
              0,
              "#0d0887"
             ],
             [
              0.1111111111111111,
              "#46039f"
             ],
             [
              0.2222222222222222,
              "#7201a8"
             ],
             [
              0.3333333333333333,
              "#9c179e"
             ],
             [
              0.4444444444444444,
              "#bd3786"
             ],
             [
              0.5555555555555556,
              "#d8576b"
             ],
             [
              0.6666666666666666,
              "#ed7953"
             ],
             [
              0.7777777777777778,
              "#fb9f3a"
             ],
             [
              0.8888888888888888,
              "#fdca26"
             ],
             [
              1,
              "#f0f921"
             ]
            ],
            "type": "histogram2dcontour"
           }
          ],
          "mesh3d": [
           {
            "colorbar": {
             "outlinewidth": 0,
             "ticks": ""
            },
            "type": "mesh3d"
           }
          ],
          "parcoords": [
           {
            "line": {
             "colorbar": {
              "outlinewidth": 0,
              "ticks": ""
             }
            },
            "type": "parcoords"
           }
          ],
          "pie": [
           {
            "automargin": true,
            "type": "pie"
           }
          ],
          "scatter": [
           {
            "marker": {
             "line": {
              "color": "#283442"
             }
            },
            "type": "scatter"
           }
          ],
          "scatter3d": [
           {
            "line": {
             "colorbar": {
              "outlinewidth": 0,
              "ticks": ""
             }
            },
            "marker": {
             "colorbar": {
              "outlinewidth": 0,
              "ticks": ""
             }
            },
            "type": "scatter3d"
           }
          ],
          "scattercarpet": [
           {
            "marker": {
             "colorbar": {
              "outlinewidth": 0,
              "ticks": ""
             }
            },
            "type": "scattercarpet"
           }
          ],
          "scattergeo": [
           {
            "marker": {
             "colorbar": {
              "outlinewidth": 0,
              "ticks": ""
             }
            },
            "type": "scattergeo"
           }
          ],
          "scattergl": [
           {
            "marker": {
             "line": {
              "color": "#283442"
             }
            },
            "type": "scattergl"
           }
          ],
          "scattermapbox": [
           {
            "marker": {
             "colorbar": {
              "outlinewidth": 0,
              "ticks": ""
             }
            },
            "type": "scattermapbox"
           }
          ],
          "scatterpolar": [
           {
            "marker": {
             "colorbar": {
              "outlinewidth": 0,
              "ticks": ""
             }
            },
            "type": "scatterpolar"
           }
          ],
          "scatterpolargl": [
           {
            "marker": {
             "colorbar": {
              "outlinewidth": 0,
              "ticks": ""
             }
            },
            "type": "scatterpolargl"
           }
          ],
          "scatterternary": [
           {
            "marker": {
             "colorbar": {
              "outlinewidth": 0,
              "ticks": ""
             }
            },
            "type": "scatterternary"
           }
          ],
          "surface": [
           {
            "colorbar": {
             "outlinewidth": 0,
             "ticks": ""
            },
            "colorscale": [
             [
              0,
              "#0d0887"
             ],
             [
              0.1111111111111111,
              "#46039f"
             ],
             [
              0.2222222222222222,
              "#7201a8"
             ],
             [
              0.3333333333333333,
              "#9c179e"
             ],
             [
              0.4444444444444444,
              "#bd3786"
             ],
             [
              0.5555555555555556,
              "#d8576b"
             ],
             [
              0.6666666666666666,
              "#ed7953"
             ],
             [
              0.7777777777777778,
              "#fb9f3a"
             ],
             [
              0.8888888888888888,
              "#fdca26"
             ],
             [
              1,
              "#f0f921"
             ]
            ],
            "type": "surface"
           }
          ],
          "table": [
           {
            "cells": {
             "fill": {
              "color": "#506784"
             },
             "line": {
              "color": "rgb(17,17,17)"
             }
            },
            "header": {
             "fill": {
              "color": "#2a3f5f"
             },
             "line": {
              "color": "rgb(17,17,17)"
             }
            },
            "type": "table"
           }
          ]
         },
         "layout": {
          "annotationdefaults": {
           "arrowcolor": "#f2f5fa",
           "arrowhead": 0,
           "arrowwidth": 1
          },
          "autotypenumbers": "strict",
          "coloraxis": {
           "colorbar": {
            "outlinewidth": 0,
            "ticks": ""
           }
          },
          "colorscale": {
           "diverging": [
            [
             0,
             "#8e0152"
            ],
            [
             0.1,
             "#c51b7d"
            ],
            [
             0.2,
             "#de77ae"
            ],
            [
             0.3,
             "#f1b6da"
            ],
            [
             0.4,
             "#fde0ef"
            ],
            [
             0.5,
             "#f7f7f7"
            ],
            [
             0.6,
             "#e6f5d0"
            ],
            [
             0.7,
             "#b8e186"
            ],
            [
             0.8,
             "#7fbc41"
            ],
            [
             0.9,
             "#4d9221"
            ],
            [
             1,
             "#276419"
            ]
           ],
           "sequential": [
            [
             0,
             "#0d0887"
            ],
            [
             0.1111111111111111,
             "#46039f"
            ],
            [
             0.2222222222222222,
             "#7201a8"
            ],
            [
             0.3333333333333333,
             "#9c179e"
            ],
            [
             0.4444444444444444,
             "#bd3786"
            ],
            [
             0.5555555555555556,
             "#d8576b"
            ],
            [
             0.6666666666666666,
             "#ed7953"
            ],
            [
             0.7777777777777778,
             "#fb9f3a"
            ],
            [
             0.8888888888888888,
             "#fdca26"
            ],
            [
             1,
             "#f0f921"
            ]
           ],
           "sequentialminus": [
            [
             0,
             "#0d0887"
            ],
            [
             0.1111111111111111,
             "#46039f"
            ],
            [
             0.2222222222222222,
             "#7201a8"
            ],
            [
             0.3333333333333333,
             "#9c179e"
            ],
            [
             0.4444444444444444,
             "#bd3786"
            ],
            [
             0.5555555555555556,
             "#d8576b"
            ],
            [
             0.6666666666666666,
             "#ed7953"
            ],
            [
             0.7777777777777778,
             "#fb9f3a"
            ],
            [
             0.8888888888888888,
             "#fdca26"
            ],
            [
             1,
             "#f0f921"
            ]
           ]
          },
          "colorway": [
           "#636efa",
           "#EF553B",
           "#00cc96",
           "#ab63fa",
           "#FFA15A",
           "#19d3f3",
           "#FF6692",
           "#B6E880",
           "#FF97FF",
           "#FECB52"
          ],
          "font": {
           "color": "#f2f5fa"
          },
          "geo": {
           "bgcolor": "rgb(17,17,17)",
           "lakecolor": "rgb(17,17,17)",
           "landcolor": "rgb(17,17,17)",
           "showlakes": true,
           "showland": true,
           "subunitcolor": "#506784"
          },
          "hoverlabel": {
           "align": "left"
          },
          "hovermode": "closest",
          "mapbox": {
           "style": "dark"
          },
          "paper_bgcolor": "rgb(17,17,17)",
          "plot_bgcolor": "rgb(17,17,17)",
          "polar": {
           "angularaxis": {
            "gridcolor": "#506784",
            "linecolor": "#506784",
            "ticks": ""
           },
           "bgcolor": "rgb(17,17,17)",
           "radialaxis": {
            "gridcolor": "#506784",
            "linecolor": "#506784",
            "ticks": ""
           }
          },
          "scene": {
           "xaxis": {
            "backgroundcolor": "rgb(17,17,17)",
            "gridcolor": "#506784",
            "gridwidth": 2,
            "linecolor": "#506784",
            "showbackground": true,
            "ticks": "",
            "zerolinecolor": "#C8D4E3"
           },
           "yaxis": {
            "backgroundcolor": "rgb(17,17,17)",
            "gridcolor": "#506784",
            "gridwidth": 2,
            "linecolor": "#506784",
            "showbackground": true,
            "ticks": "",
            "zerolinecolor": "#C8D4E3"
           },
           "zaxis": {
            "backgroundcolor": "rgb(17,17,17)",
            "gridcolor": "#506784",
            "gridwidth": 2,
            "linecolor": "#506784",
            "showbackground": true,
            "ticks": "",
            "zerolinecolor": "#C8D4E3"
           }
          },
          "shapedefaults": {
           "line": {
            "color": "#f2f5fa"
           }
          },
          "sliderdefaults": {
           "bgcolor": "#C8D4E3",
           "bordercolor": "rgb(17,17,17)",
           "borderwidth": 1,
           "tickwidth": 0
          },
          "ternary": {
           "aaxis": {
            "gridcolor": "#506784",
            "linecolor": "#506784",
            "ticks": ""
           },
           "baxis": {
            "gridcolor": "#506784",
            "linecolor": "#506784",
            "ticks": ""
           },
           "bgcolor": "rgb(17,17,17)",
           "caxis": {
            "gridcolor": "#506784",
            "linecolor": "#506784",
            "ticks": ""
           }
          },
          "title": {
           "x": 0.05
          },
          "updatemenudefaults": {
           "bgcolor": "#506784",
           "borderwidth": 0
          },
          "xaxis": {
           "automargin": true,
           "gridcolor": "#283442",
           "linecolor": "#506784",
           "ticks": "",
           "title": {
            "standoff": 15
           },
           "zerolinecolor": "#283442",
           "zerolinewidth": 2
          },
          "yaxis": {
           "automargin": true,
           "gridcolor": "#283442",
           "linecolor": "#506784",
           "ticks": "",
           "title": {
            "standoff": 15
           },
           "zerolinecolor": "#283442",
           "zerolinewidth": 2
          }
         }
        },
        "title": {
         "text": "Exposure site counts by date added"
        },
        "width": 580,
        "xaxis": {
         "anchor": "y",
         "domain": [
          0,
          1
         ],
         "nticks": 34,
         "range": [
          "2021-05-10T12:00:00",
          "2021-07-18T12:00:00"
         ],
         "showgrid": false,
         "side": "bottom",
         "tickangle": 60,
         "title": {
          "text": "Exposure Date"
         }
        },
        "yaxis": {
         "anchor": "x",
         "domain": [
          0,
          1
         ],
         "range": [
          "2021-05-10T12:00:00",
          "2021-07-18T12:00:00"
         ],
         "showgrid": false,
         "title": {
          "text": "Date Added"
         }
        }
       }
      },
      "text/html": [
       "<div>                            <div id=\"4743257e-1267-45b4-b29d-03515343a0d0\" class=\"plotly-graph-div\" style=\"height:525px; width:580px;\"></div>            <script type=\"text/javascript\">                require([\"plotly\"], function(Plotly) {                    window.PLOTLYENV=window.PLOTLYENV || {};                                    if (document.getElementById(\"4743257e-1267-45b4-b29d-03515343a0d0\")) {                    Plotly.newPlot(                        \"4743257e-1267-45b4-b29d-03515343a0d0\",                        [{\"coloraxis\": \"coloraxis\", \"hovertemplate\": \"Exposure_date_dtm=%{x}<br>Added_date_dtm=%{y}<br>count=%{z}<extra></extra>\", \"name\": \"\", \"nbinsx\": 69, \"nbinsy\": 69, \"type\": \"histogram2d\", \"x\": [\"2021-07-08T00:00:00\", \"2021-07-10T00:00:00\", \"2021-07-09T00:00:00\", \"2021-07-10T00:00:00\", \"2021-07-11T00:00:00\", \"2021-07-12T00:00:00\", \"2021-07-11T00:00:00\", \"2021-07-10T00:00:00\", \"2021-07-08T00:00:00\", \"2021-07-08T00:00:00\", \"2021-07-08T00:00:00\", \"2021-07-08T00:00:00\", \"2021-07-10T00:00:00\", \"2021-07-09T00:00:00\", \"2021-07-09T00:00:00\", \"2021-07-09T00:00:00\", \"2021-07-09T00:00:00\", \"2021-07-09T00:00:00\", \"2021-07-09T00:00:00\", \"2021-07-10T00:00:00\", \"2021-07-09T00:00:00\", \"2021-07-10T00:00:00\", \"2021-07-09T00:00:00\", \"2021-07-09T00:00:00\", \"2021-07-13T00:00:00\", \"2021-07-11T00:00:00\", \"2021-07-09T00:00:00\", \"2021-07-09T00:00:00\", \"2021-07-13T00:00:00\", \"2021-07-12T00:00:00\", \"2021-07-12T00:00:00\", \"2021-07-12T00:00:00\", \"2021-07-12T00:00:00\", \"2021-07-08T00:00:00\", \"2021-07-08T00:00:00\", \"2021-07-08T00:00:00\", \"2021-07-08T00:00:00\", \"2021-07-08T00:00:00\", \"2021-07-08T00:00:00\", \"2021-07-11T00:00:00\", \"2021-07-09T00:00:00\", \"2021-07-09T00:00:00\", \"2021-07-09T00:00:00\", \"2021-07-09T00:00:00\", \"2021-07-09T00:00:00\", \"2021-07-09T00:00:00\", \"2021-07-09T00:00:00\", \"2021-07-09T00:00:00\", \"2021-07-09T00:00:00\", \"2021-07-09T00:00:00\", \"2021-07-10T00:00:00\", \"2021-07-10T00:00:00\", \"2021-07-10T00:00:00\", \"2021-07-10T00:00:00\", \"2021-07-10T00:00:00\", \"2021-07-10T00:00:00\", \"2021-07-10T00:00:00\", \"2021-07-10T00:00:00\", \"2021-07-10T00:00:00\", \"2021-07-10T00:00:00\", \"2021-07-10T00:00:00\", \"2021-07-11T00:00:00\", \"2021-07-11T00:00:00\", \"2021-07-11T00:00:00\", \"2021-07-11T00:00:00\", \"2021-07-12T00:00:00\", \"2021-07-12T00:00:00\", \"2021-07-12T00:00:00\", \"2021-07-10T00:00:00\", \"2021-07-14T00:00:00\", \"2021-07-12T00:00:00\", \"2021-07-13T00:00:00\", \"2021-07-14T00:00:00\", \"2021-07-13T00:00:00\", \"2021-07-09T00:00:00\", \"2021-07-09T00:00:00\", \"2021-07-09T00:00:00\", \"2021-07-09T00:00:00\", \"2021-07-10T00:00:00\", \"2021-07-13T00:00:00\", \"2021-07-12T00:00:00\", \"2021-07-14T00:00:00\", \"2021-07-09T00:00:00\", \"2021-07-13T00:00:00\", \"2021-07-13T00:00:00\", \"2021-07-09T00:00:00\", \"2021-07-12T00:00:00\", \"2021-07-12T00:00:00\", \"2021-07-12T00:00:00\", \"2021-07-13T00:00:00\", \"2021-07-13T00:00:00\", \"2021-07-10T00:00:00\", \"2021-07-10T00:00:00\", \"2021-07-12T00:00:00\", \"2021-07-12T00:00:00\", \"2021-07-12T00:00:00\", \"2021-07-12T00:00:00\", \"2021-07-12T00:00:00\", \"2021-07-12T00:00:00\", \"2021-07-14T00:00:00\", \"2021-07-12T00:00:00\", \"2021-07-12T00:00:00\", \"2021-07-10T00:00:00\", \"2021-07-12T00:00:00\", \"2021-07-12T00:00:00\", \"2021-07-13T00:00:00\", \"2021-07-12T00:00:00\", \"2021-07-12T00:00:00\", \"2021-07-12T00:00:00\", \"2021-07-13T00:00:00\", \"2021-07-12T00:00:00\", \"2021-07-13T00:00:00\", \"2021-07-12T00:00:00\", \"2021-07-12T00:00:00\", \"2021-07-12T00:00:00\", \"2021-07-13T00:00:00\", \"2021-07-12T00:00:00\", \"2021-07-12T00:00:00\", \"2021-07-12T00:00:00\", \"2021-07-12T00:00:00\", \"2021-07-12T00:00:00\", \"2021-07-12T00:00:00\", \"2021-07-12T00:00:00\", \"2021-07-14T00:00:00\", \"2021-07-14T00:00:00\", \"2021-07-14T00:00:00\", \"2021-07-12T00:00:00\", \"2021-07-13T00:00:00\", \"2021-07-14T00:00:00\", \"2021-07-14T00:00:00\", \"2021-07-13T00:00:00\", \"2021-07-12T00:00:00\", \"2021-07-13T00:00:00\", \"2021-07-13T00:00:00\", \"2021-07-13T00:00:00\", \"2021-07-12T00:00:00\", \"2021-07-13T00:00:00\", \"2021-07-15T00:00:00\", \"2021-07-13T00:00:00\", \"2021-07-12T00:00:00\", \"2021-07-14T00:00:00\", \"2021-07-14T00:00:00\", \"2021-07-16T00:00:00\", \"2021-07-09T00:00:00\", \"2021-07-14T00:00:00\", \"2021-07-15T00:00:00\", \"2021-07-15T00:00:00\", \"2021-07-14T00:00:00\", \"2021-07-14T00:00:00\", \"2021-07-14T00:00:00\", \"2021-07-14T00:00:00\", \"2021-07-15T00:00:00\", \"2021-07-13T00:00:00\", \"2021-07-14T00:00:00\", \"2021-07-14T00:00:00\", \"2021-07-13T00:00:00\", \"2021-07-14T00:00:00\", \"2021-07-15T00:00:00\", \"2021-07-13T00:00:00\", \"2021-07-15T00:00:00\", \"2021-07-14T00:00:00\", \"2021-07-15T00:00:00\", \"2021-07-13T00:00:00\", \"2021-07-12T00:00:00\", \"2021-07-13T00:00:00\", \"2021-07-13T00:00:00\", \"2021-07-13T00:00:00\", \"2021-07-13T00:00:00\", \"2021-07-13T00:00:00\", \"2021-07-13T00:00:00\", \"2021-07-13T00:00:00\", \"2021-07-14T00:00:00\", \"2021-07-14T00:00:00\", \"2021-07-13T00:00:00\", \"2021-07-15T00:00:00\", \"2021-07-13T00:00:00\", \"2021-07-14T00:00:00\", \"2021-07-14T00:00:00\", \"2021-07-13T00:00:00\", \"2021-07-12T00:00:00\", \"2021-07-14T00:00:00\", \"2021-07-16T00:00:00\", \"2021-07-15T00:00:00\", \"2021-07-13T00:00:00\", \"2021-07-15T00:00:00\", \"2021-07-14T00:00:00\", \"2021-07-13T00:00:00\", \"2021-07-14T00:00:00\", \"2021-07-13T00:00:00\", \"2021-07-13T00:00:00\", \"2021-07-15T00:00:00\", \"2021-07-15T00:00:00\", \"2021-07-12T00:00:00\", \"2021-07-15T00:00:00\", \"2021-07-14T00:00:00\", \"2021-07-14T00:00:00\", \"2021-07-14T00:00:00\", \"2021-07-14T00:00:00\", \"2021-07-15T00:00:00\", \"2021-07-13T00:00:00\", \"2021-07-14T00:00:00\", \"2021-07-14T00:00:00\", \"2021-07-14T00:00:00\", \"2021-07-14T00:00:00\", \"2021-07-15T00:00:00\", \"2021-07-13T00:00:00\", \"2021-07-15T00:00:00\", \"2021-07-15T00:00:00\", \"2021-07-14T00:00:00\", \"2021-07-14T00:00:00\", \"2021-07-14T00:00:00\", \"2021-07-14T00:00:00\", \"2021-07-15T00:00:00\", \"2021-07-15T00:00:00\", \"2021-07-14T00:00:00\", \"2021-07-14T00:00:00\", \"2021-07-15T00:00:00\", \"2021-07-14T00:00:00\", \"2021-07-13T00:00:00\", \"2021-07-13T00:00:00\", \"2021-07-16T00:00:00\", \"2021-07-13T00:00:00\", \"2021-07-14T00:00:00\", \"2021-07-15T00:00:00\", \"2021-07-14T00:00:00\", \"2021-07-13T00:00:00\", \"2021-07-13T00:00:00\", \"2021-07-14T00:00:00\", \"2021-07-13T00:00:00\", \"2021-07-13T00:00:00\", \"2021-07-13T00:00:00\", \"2021-07-12T00:00:00\", \"2021-07-14T00:00:00\", \"2021-07-14T00:00:00\", \"2021-07-14T00:00:00\", \"2021-07-14T00:00:00\", \"2021-07-14T00:00:00\", \"2021-07-17T00:00:00\", \"2021-07-15T00:00:00\", \"2021-07-16T00:00:00\", \"2021-07-15T00:00:00\", \"2021-07-14T00:00:00\", \"2021-07-14T00:00:00\", \"2021-07-11T00:00:00\", \"2021-07-11T00:00:00\", \"2021-07-11T00:00:00\", \"2021-07-11T00:00:00\", \"2021-07-12T00:00:00\", \"2021-07-12T00:00:00\", \"2021-07-12T00:00:00\", \"2021-07-12T00:00:00\", \"2021-07-12T00:00:00\", \"2021-07-13T00:00:00\", \"2021-07-13T00:00:00\", \"2021-07-14T00:00:00\", \"2021-07-11T00:00:00\", \"2021-07-13T00:00:00\", \"2021-07-15T00:00:00\", \"2021-07-15T00:00:00\", \"2021-07-15T00:00:00\", \"2021-07-14T00:00:00\", \"2021-07-14T00:00:00\", \"2021-07-14T00:00:00\", \"2021-07-14T00:00:00\", \"2021-07-15T00:00:00\", \"2021-07-14T00:00:00\", \"2021-07-14T00:00:00\", \"2021-07-16T00:00:00\", \"2021-07-14T00:00:00\", \"2021-07-14T00:00:00\", \"2021-07-15T00:00:00\", \"2021-07-11T00:00:00\", \"2021-07-11T00:00:00\", \"2021-07-11T00:00:00\", \"2021-07-15T00:00:00\", \"2021-07-15T00:00:00\", \"2021-07-15T00:00:00\", \"2021-07-15T00:00:00\", \"2021-07-13T00:00:00\", \"2021-07-13T00:00:00\", \"2021-07-13T00:00:00\", \"2021-07-12T00:00:00\", \"2021-07-15T00:00:00\", \"2021-07-14T00:00:00\", \"2021-07-14T00:00:00\", \"2021-07-13T00:00:00\", \"2021-07-15T00:00:00\", \"2021-07-13T00:00:00\", \"2021-07-13T00:00:00\", \"2021-07-13T00:00:00\", \"2021-07-14T00:00:00\", \"2021-07-14T00:00:00\", \"2021-07-14T00:00:00\", \"2021-07-13T00:00:00\", \"2021-07-15T00:00:00\", \"2021-07-13T00:00:00\", \"2021-07-02T00:00:00\", \"2021-07-10T00:00:00\", \"2021-07-14T00:00:00\", \"2021-07-14T00:00:00\", \"2021-07-15T00:00:00\", \"2021-07-10T00:00:00\", \"2021-07-10T00:00:00\", \"2021-07-10T00:00:00\", \"2021-06-03T00:00:00\", \"2021-06-04T00:00:00\", \"2021-06-05T00:00:00\", \"2021-06-06T00:00:00\", \"2021-06-07T00:00:00\", \"2021-06-08T00:00:00\", \"2021-06-09T00:00:00\", \"2021-06-10T00:00:00\", \"2021-06-11T00:00:00\", \"2021-06-12T00:00:00\", \"2021-06-13T00:00:00\", \"2021-06-14T00:00:00\", \"2021-06-15T00:00:00\", \"2021-06-15T00:00:00\", \"2021-06-21T00:00:00\", \"2021-06-22T00:00:00\", \"2021-06-23T00:00:00\", \"2021-06-20T00:00:00\", \"2021-06-20T00:00:00\", \"2021-06-20T00:00:00\", \"2021-06-20T00:00:00\", \"2021-06-21T00:00:00\", \"2021-06-22T00:00:00\", \"2021-06-22T00:00:00\", \"2021-06-20T00:00:00\", \"2021-06-22T00:00:00\", \"2021-06-20T00:00:00\", \"2021-06-20T00:00:00\", \"2021-06-23T00:00:00\", \"2021-06-23T00:00:00\", \"2021-06-20T00:00:00\", \"2021-06-20T00:00:00\", \"2021-06-22T00:00:00\", \"2021-06-25T00:00:00\", \"2021-06-25T00:00:00\", \"2021-06-26T00:00:00\", \"2021-06-26T00:00:00\", \"2021-06-26T00:00:00\", \"2021-06-25T00:00:00\", \"2021-06-26T00:00:00\", \"2021-06-25T00:00:00\", \"2021-06-26T00:00:00\", \"2021-06-25T00:00:00\", \"2021-06-26T00:00:00\", \"2021-06-02T00:00:00\", \"2021-06-13T00:00:00\", \"2021-06-13T00:00:00\", \"2021-06-13T00:00:00\", \"2021-06-13T00:00:00\", \"2021-06-13T00:00:00\", \"2021-06-13T00:00:00\", \"2021-06-12T00:00:00\", \"2021-06-12T00:00:00\", \"2021-06-13T00:00:00\", \"2021-06-13T00:00:00\", \"2021-06-12T00:00:00\", \"2021-06-13T00:00:00\", \"2021-06-12T00:00:00\", \"2021-06-12T00:00:00\", \"2021-06-12T00:00:00\", \"2021-06-12T00:00:00\", \"2021-06-12T00:00:00\", \"2021-06-12T00:00:00\", \"2021-06-12T00:00:00\", \"2021-06-12T00:00:00\", \"2021-06-13T00:00:00\", \"2021-06-13T00:00:00\", \"2021-06-13T00:00:00\", \"2021-06-13T00:00:00\", \"2021-06-13T00:00:00\", \"2021-06-14T00:00:00\", \"2021-06-12T00:00:00\", \"2021-06-12T00:00:00\", \"2021-06-12T00:00:00\", \"2021-06-12T00:00:00\", \"2021-06-12T00:00:00\", \"2021-06-12T00:00:00\", \"2021-06-11T00:00:00\", \"2021-06-11T00:00:00\", \"2021-06-11T00:00:00\", \"2021-06-11T00:00:00\", \"2021-06-11T00:00:00\", \"2021-06-11T00:00:00\", \"2021-06-11T00:00:00\", \"2021-06-11T00:00:00\", \"2021-06-11T00:00:00\", \"2021-06-11T00:00:00\", \"2021-06-11T00:00:00\", \"2021-06-11T00:00:00\", \"2021-05-26T00:00:00\", \"2021-05-26T00:00:00\", \"2021-06-03T00:00:00\", \"2021-06-03T00:00:00\", \"2021-06-02T00:00:00\", \"2021-06-02T00:00:00\", \"2021-06-03T00:00:00\", \"2021-06-02T00:00:00\", \"2021-06-03T00:00:00\", \"2021-06-03T00:00:00\", \"2021-06-04T00:00:00\", \"2021-06-04T00:00:00\", \"2021-06-03T00:00:00\", \"2021-06-03T00:00:00\", \"2021-06-03T00:00:00\", \"2021-06-03T00:00:00\", \"2021-06-04T00:00:00\", \"2021-06-04T00:00:00\", \"2021-06-05T00:00:00\", \"2021-06-05T00:00:00\", \"2021-06-06T00:00:00\", \"2021-06-06T00:00:00\", \"2021-06-07T00:00:00\", \"2021-06-05T00:00:00\", \"2021-05-31T00:00:00\", \"2021-06-01T00:00:00\", \"2021-06-02T00:00:00\", \"2021-06-03T00:00:00\", \"2021-06-04T00:00:00\", \"2021-06-05T00:00:00\", \"2021-05-26T00:00:00\", \"2021-05-27T00:00:00\", \"2021-05-28T00:00:00\", \"2021-05-29T00:00:00\", \"2021-05-26T00:00:00\", \"2021-05-27T00:00:00\", \"2021-05-28T00:00:00\", \"2021-05-29T00:00:00\", \"2021-05-30T00:00:00\", \"2021-05-31T00:00:00\", \"2021-06-01T00:00:00\", \"2021-06-02T00:00:00\", \"2021-06-03T00:00:00\", \"2021-06-04T00:00:00\", \"2021-06-05T00:00:00\", \"2021-05-30T00:00:00\", \"2021-06-08T00:00:00\", \"2021-06-07T00:00:00\", \"2021-06-07T00:00:00\", \"2021-06-08T00:00:00\", \"2021-06-06T00:00:00\", \"2021-06-07T00:00:00\", \"2021-06-05T00:00:00\", \"2021-05-23T00:00:00\", \"2021-05-24T00:00:00\", \"2021-05-22T00:00:00\", \"2021-05-21T00:00:00\", \"2021-05-21T00:00:00\", \"2021-05-21T00:00:00\", \"2021-05-21T00:00:00\", \"2021-06-05T00:00:00\", \"2021-06-07T00:00:00\", \"2021-05-26T00:00:00\", \"2021-05-19T00:00:00\", \"2021-05-20T00:00:00\", \"2021-05-21T00:00:00\", \"2021-05-18T00:00:00\", \"2021-05-27T00:00:00\", \"2021-05-25T00:00:00\", \"2021-05-27T00:00:00\", \"2021-05-31T00:00:00\", \"2021-05-31T00:00:00\", \"2021-06-08T00:00:00\", \"2021-06-08T00:00:00\", \"2021-06-08T00:00:00\", \"2021-06-08T00:00:00\", \"2021-05-18T00:00:00\", \"2021-06-10T00:00:00\", \"2021-06-10T00:00:00\", \"2021-06-09T00:00:00\", \"2021-06-09T00:00:00\", \"2021-05-21T00:00:00\", \"2021-05-18T00:00:00\", \"2021-05-18T00:00:00\", \"2021-06-10T00:00:00\", \"2021-06-10T00:00:00\", \"2021-06-10T00:00:00\", \"2021-06-13T00:00:00\", \"2021-06-12T00:00:00\", \"2021-06-12T00:00:00\", \"2021-06-12T00:00:00\", \"2021-06-12T00:00:00\", \"2021-06-10T00:00:00\", \"2021-06-10T00:00:00\", \"2021-06-11T00:00:00\", \"2021-06-11T00:00:00\", \"2021-06-13T00:00:00\", \"2021-06-13T00:00:00\", \"2021-06-12T00:00:00\", \"2021-05-27T00:00:00\", \"2021-06-01T00:00:00\", \"2021-06-01T00:00:00\", \"2021-06-02T00:00:00\", \"2021-06-03T00:00:00\", \"2021-05-30T00:00:00\", \"2021-05-31T00:00:00\", \"2021-06-01T00:00:00\", \"2021-06-02T00:00:00\", \"2021-06-03T00:00:00\", \"2021-06-04T00:00:00\", \"2021-06-01T00:00:00\", \"2021-05-30T00:00:00\", \"2021-05-30T00:00:00\", \"2021-05-31T00:00:00\", \"2021-05-30T00:00:00\", \"2021-05-28T00:00:00\", \"2021-05-31T00:00:00\", \"2021-05-31T00:00:00\", \"2021-05-31T00:00:00\", \"2021-05-31T00:00:00\", \"2021-05-30T00:00:00\", \"2021-05-31T00:00:00\", \"2021-05-31T00:00:00\", \"2021-05-31T00:00:00\", \"2021-05-31T00:00:00\", \"2021-05-31T00:00:00\", \"2021-05-31T00:00:00\", \"2021-05-31T00:00:00\", \"2021-05-31T00:00:00\", \"2021-05-31T00:00:00\", \"2021-05-31T00:00:00\", \"2021-05-29T00:00:00\", \"2021-05-31T00:00:00\", \"2021-05-29T00:00:00\", \"2021-05-31T00:00:00\", \"2021-05-30T00:00:00\", \"2021-05-30T00:00:00\", \"2021-05-30T00:00:00\", \"2021-05-30T00:00:00\", \"2021-05-30T00:00:00\", \"2021-05-30T00:00:00\", \"2021-05-30T00:00:00\", \"2021-05-30T00:00:00\", \"2021-05-30T00:00:00\", \"2021-05-30T00:00:00\", \"2021-05-30T00:00:00\", \"2021-05-31T00:00:00\", \"2021-05-22T00:00:00\", \"2021-05-22T00:00:00\", \"2021-05-28T00:00:00\", \"2021-05-28T00:00:00\", \"2021-05-28T00:00:00\", \"2021-05-28T00:00:00\", \"2021-05-28T00:00:00\", \"2021-05-28T00:00:00\", \"2021-05-28T00:00:00\", \"2021-05-28T00:00:00\", \"2021-05-28T00:00:00\", \"2021-05-28T00:00:00\", \"2021-05-28T00:00:00\", \"2021-05-27T00:00:00\", \"2021-05-27T00:00:00\", \"2021-05-27T00:00:00\", \"2021-05-27T00:00:00\", \"2021-05-27T00:00:00\", \"2021-05-27T00:00:00\", \"2021-05-27T00:00:00\", \"2021-05-27T00:00:00\", \"2021-05-26T00:00:00\", \"2021-05-27T00:00:00\", \"2021-05-27T00:00:00\", \"2021-05-27T00:00:00\", \"2021-05-27T00:00:00\", \"2021-05-27T00:00:00\", \"2021-05-28T00:00:00\", \"2021-05-28T00:00:00\", \"2021-05-27T00:00:00\", \"2021-05-27T00:00:00\", \"2021-05-28T00:00:00\", \"2021-05-27T00:00:00\", \"2021-05-27T00:00:00\", \"2021-05-27T00:00:00\", \"2021-05-27T00:00:00\", \"2021-05-27T00:00:00\", \"2021-05-27T00:00:00\", \"2021-05-27T00:00:00\", \"2021-05-27T00:00:00\", \"2021-05-27T00:00:00\", \"2021-05-27T00:00:00\", \"2021-05-27T00:00:00\", \"2021-06-08T00:00:00\", \"2021-05-26T00:00:00\", \"2021-05-26T00:00:00\", \"2021-05-26T00:00:00\", \"2021-05-26T00:00:00\", \"2021-05-27T00:00:00\", \"2021-05-26T00:00:00\", \"2021-05-27T00:00:00\", \"2021-05-26T00:00:00\", \"2021-05-26T00:00:00\", \"2021-05-26T00:00:00\", \"2021-05-26T00:00:00\", \"2021-05-26T00:00:00\", \"2021-05-26T00:00:00\", \"2021-05-26T00:00:00\", \"2021-05-26T00:00:00\", \"2021-05-26T00:00:00\", \"2021-05-26T00:00:00\", \"2021-05-26T00:00:00\", \"2021-05-26T00:00:00\", \"2021-05-26T00:00:00\", \"2021-05-26T00:00:00\", \"2021-05-26T00:00:00\", \"2021-05-26T00:00:00\", \"2021-05-26T00:00:00\", \"2021-05-26T00:00:00\", \"2021-05-26T00:00:00\", \"2021-05-26T00:00:00\", \"2021-05-26T00:00:00\", \"2021-05-26T00:00:00\", \"2021-05-26T00:00:00\", \"2021-05-26T00:00:00\", \"2021-05-26T00:00:00\", \"2021-05-26T00:00:00\", \"2021-05-26T00:00:00\", \"2021-05-26T00:00:00\", \"2021-06-08T00:00:00\", \"2021-05-24T00:00:00\", \"2021-05-21T00:00:00\", \"2021-05-21T00:00:00\", \"2021-05-19T00:00:00\", \"2021-05-20T00:00:00\", \"2021-05-17T00:00:00\", \"2021-05-19T00:00:00\", \"2021-05-18T00:00:00\", \"2021-05-20T00:00:00\", \"2021-05-20T00:00:00\", \"2021-05-19T00:00:00\", \"2021-05-19T00:00:00\", \"2021-05-19T00:00:00\", \"2021-05-20T00:00:00\", \"2021-05-20T00:00:00\", \"2021-05-20T00:00:00\", \"2021-05-20T00:00:00\", \"2021-05-20T00:00:00\", \"2021-05-20T00:00:00\", \"2021-05-21T00:00:00\", \"2021-05-20T00:00:00\", \"2021-05-24T00:00:00\", \"2021-05-24T00:00:00\", \"2021-05-21T00:00:00\", \"2021-05-18T00:00:00\", \"2021-05-17T00:00:00\", \"2021-05-20T00:00:00\", \"2021-05-18T00:00:00\", \"2021-05-20T00:00:00\", \"2021-05-19T00:00:00\", \"2021-05-21T00:00:00\", \"2021-05-22T00:00:00\", \"2021-05-23T00:00:00\", \"2021-05-24T00:00:00\", \"2021-05-25T00:00:00\", \"2021-05-24T00:00:00\", \"2021-05-21T00:00:00\", \"2021-05-24T00:00:00\", \"2021-05-21T00:00:00\", \"2021-05-21T00:00:00\", \"2021-05-21T00:00:00\", \"2021-05-20T00:00:00\", \"2021-05-14T00:00:00\", \"2021-05-14T00:00:00\", \"2021-05-14T00:00:00\", \"2021-05-25T00:00:00\", \"2021-05-24T00:00:00\", \"2021-05-24T00:00:00\", \"2021-05-24T00:00:00\", \"2021-05-24T00:00:00\", \"2021-05-20T00:00:00\", \"2021-05-21T00:00:00\", \"2021-05-24T00:00:00\", \"2021-05-24T00:00:00\", \"2021-05-21T00:00:00\", \"2021-05-25T00:00:00\", \"2021-05-24T00:00:00\", \"2021-05-24T00:00:00\", \"2021-05-25T00:00:00\", \"2021-05-25T00:00:00\", \"2021-05-13T00:00:00\", \"2021-05-24T00:00:00\", \"2021-05-25T00:00:00\", \"2021-05-25T00:00:00\", \"2021-05-24T00:00:00\", \"2021-05-25T00:00:00\", \"2021-05-24T00:00:00\", \"2021-05-25T00:00:00\", \"2021-05-24T00:00:00\", \"2021-05-24T00:00:00\", \"2021-05-25T00:00:00\", \"2021-05-26T00:00:00\", \"2021-05-23T00:00:00\", \"2021-05-25T00:00:00\", \"2021-05-26T00:00:00\", \"2021-05-18T00:00:00\", \"2021-05-18T00:00:00\", \"2021-05-18T00:00:00\", \"2021-05-18T00:00:00\", \"2021-05-25T00:00:00\", \"2021-05-19T00:00:00\", \"2021-05-19T00:00:00\", \"2021-05-19T00:00:00\", \"2021-05-19T00:00:00\", \"2021-05-19T00:00:00\", \"2021-05-25T00:00:00\", \"2021-05-17T00:00:00\", \"2021-05-25T00:00:00\", \"2021-05-25T00:00:00\", \"2021-05-24T00:00:00\", \"2021-05-25T00:00:00\", \"2021-05-24T00:00:00\", \"2021-05-25T00:00:00\", \"2021-05-26T00:00:00\", \"2021-05-26T00:00:00\", \"2021-05-26T00:00:00\", \"2021-05-26T00:00:00\", \"2021-05-26T00:00:00\", \"2021-05-21T00:00:00\", \"2021-05-26T00:00:00\", \"2021-05-24T00:00:00\", \"2021-05-19T00:00:00\", \"2021-05-25T00:00:00\", \"2021-05-23T00:00:00\", \"2021-05-25T00:00:00\", \"2021-05-25T00:00:00\", \"2021-05-26T00:00:00\", \"2021-05-17T00:00:00\", \"2021-05-18T00:00:00\", \"2021-05-19T00:00:00\", \"2021-05-18T00:00:00\", \"2021-05-25T00:00:00\", \"2021-05-26T00:00:00\", \"2021-05-24T00:00:00\", \"2021-05-18T00:00:00\", \"2021-05-20T00:00:00\", \"2021-05-21T00:00:00\", \"2021-05-24T00:00:00\", \"2021-05-25T00:00:00\", \"2021-05-26T00:00:00\", \"2021-05-17T00:00:00\", \"2021-05-12T00:00:00\", \"2021-05-13T00:00:00\", \"2021-05-20T00:00:00\", \"2021-05-26T00:00:00\", \"2021-05-19T00:00:00\", \"2021-05-22T00:00:00\", \"2021-05-24T00:00:00\", \"2021-05-17T00:00:00\", \"2021-05-21T00:00:00\", \"2021-05-24T00:00:00\", \"2021-05-24T00:00:00\", \"2021-05-24T00:00:00\", \"2021-05-24T00:00:00\", \"2021-05-15T00:00:00\", \"2021-05-15T00:00:00\", \"2021-05-20T00:00:00\", \"2021-05-18T00:00:00\", \"2021-05-24T00:00:00\", \"2021-05-25T00:00:00\", \"2021-05-25T00:00:00\", \"2021-05-25T00:00:00\", \"2021-05-24T00:00:00\", \"2021-05-25T00:00:00\", \"2021-05-21T00:00:00\", \"2021-05-25T00:00:00\", \"2021-05-26T00:00:00\", \"2021-05-27T00:00:00\", \"2021-05-28T00:00:00\", \"2021-05-29T00:00:00\", \"2021-05-26T00:00:00\", \"2021-05-27T00:00:00\", \"2021-05-28T00:00:00\", \"2021-05-29T00:00:00\", \"2021-05-12T00:00:00\", \"2021-05-11T00:00:00\", \"2021-05-11T00:00:00\", \"2021-05-11T00:00:00\", \"2021-05-15T00:00:00\", \"2021-05-25T00:00:00\", \"2021-05-18T00:00:00\", \"2021-05-24T00:00:00\", \"2021-05-24T00:00:00\", \"2021-05-24T00:00:00\", \"2021-05-25T00:00:00\", \"2021-05-25T00:00:00\", \"2021-05-25T00:00:00\", \"2021-05-24T00:00:00\", \"2021-05-25T00:00:00\", \"2021-05-25T00:00:00\", \"2021-05-25T00:00:00\", \"2021-05-25T00:00:00\", \"2021-05-24T00:00:00\", \"2021-05-25T00:00:00\", \"2021-06-03T00:00:00\", \"2021-06-04T00:00:00\", \"2021-06-03T00:00:00\", \"2021-05-23T00:00:00\", \"2021-05-23T00:00:00\", \"2021-05-23T00:00:00\", \"2021-05-23T00:00:00\", \"2021-05-23T00:00:00\", \"2021-05-23T00:00:00\", \"2021-05-23T00:00:00\", \"2021-05-23T00:00:00\", \"2021-05-23T00:00:00\", \"2021-05-23T00:00:00\", \"2021-05-23T00:00:00\", \"2021-05-23T00:00:00\", \"2021-05-23T00:00:00\", \"2021-05-23T00:00:00\", \"2021-05-23T00:00:00\", \"2021-05-23T00:00:00\", \"2021-05-23T00:00:00\", \"2021-05-23T00:00:00\", \"2021-05-23T00:00:00\", \"2021-05-23T00:00:00\", \"2021-05-23T00:00:00\", \"2021-05-24T00:00:00\", \"2021-05-23T00:00:00\", \"2021-05-23T00:00:00\", \"2021-05-23T00:00:00\", \"2021-05-23T00:00:00\", \"2021-05-23T00:00:00\", \"2021-05-23T00:00:00\", \"2021-05-23T00:00:00\", \"2021-05-23T00:00:00\", \"2021-05-23T00:00:00\", \"2021-05-23T00:00:00\", \"2021-05-23T00:00:00\", \"2021-05-23T00:00:00\", \"2021-05-23T00:00:00\", \"2021-05-23T00:00:00\", \"2021-05-23T00:00:00\", \"2021-05-23T00:00:00\", \"2021-05-23T00:00:00\", \"2021-05-23T00:00:00\", \"2021-05-23T00:00:00\", \"2021-05-23T00:00:00\", \"2021-05-23T00:00:00\", \"2021-05-23T00:00:00\", \"2021-05-23T00:00:00\", \"2021-05-23T00:00:00\", \"2021-05-27T00:00:00\", \"2021-05-27T00:00:00\", \"2021-05-27T00:00:00\", \"2021-05-23T00:00:00\", \"2021-05-23T00:00:00\", \"2021-05-23T00:00:00\", \"2021-05-23T00:00:00\", \"2021-05-23T00:00:00\", \"2021-05-28T00:00:00\", \"2021-05-23T00:00:00\", \"2021-05-23T00:00:00\", \"2021-06-02T00:00:00\", \"2021-06-02T00:00:00\", \"2021-06-03T00:00:00\", \"2021-06-03T00:00:00\", \"2021-06-04T00:00:00\", \"2021-06-04T00:00:00\"], \"xaxis\": \"x\", \"xbingroup\": \"x\", \"y\": [\"2021-07-12T00:00:00\", \"2021-07-12T00:00:00\", \"2021-07-12T00:00:00\", \"2021-07-12T00:00:00\", \"2021-07-12T00:00:00\", \"2021-07-12T00:00:00\", \"2021-07-12T00:00:00\", \"2021-07-12T00:00:00\", \"2021-07-12T00:00:00\", \"2021-07-12T00:00:00\", \"2021-07-13T00:00:00\", \"2021-07-13T00:00:00\", \"2021-07-14T00:00:00\", \"2021-07-14T00:00:00\", \"2021-07-14T00:00:00\", \"2021-07-14T00:00:00\", \"2021-07-14T00:00:00\", \"2021-07-14T00:00:00\", \"2021-07-14T00:00:00\", \"2021-07-14T00:00:00\", \"2021-07-14T00:00:00\", \"2021-07-14T00:00:00\", \"2021-07-14T00:00:00\", \"2021-07-14T00:00:00\", \"2021-07-14T00:00:00\", \"2021-07-14T00:00:00\", \"2021-07-14T00:00:00\", \"2021-07-14T00:00:00\", \"2021-07-14T00:00:00\", \"2021-07-14T00:00:00\", \"2021-07-14T00:00:00\", \"2021-07-14T00:00:00\", \"2021-07-14T00:00:00\", \"2021-07-14T00:00:00\", \"2021-07-14T00:00:00\", \"2021-07-14T00:00:00\", \"2021-07-14T00:00:00\", \"2021-07-14T00:00:00\", \"2021-07-14T00:00:00\", \"2021-07-14T00:00:00\", \"2021-07-14T00:00:00\", \"2021-07-14T00:00:00\", \"2021-07-14T00:00:00\", \"2021-07-14T00:00:00\", \"2021-07-14T00:00:00\", \"2021-07-14T00:00:00\", \"2021-07-14T00:00:00\", \"2021-07-14T00:00:00\", \"2021-07-14T00:00:00\", \"2021-07-14T00:00:00\", \"2021-07-14T00:00:00\", \"2021-07-14T00:00:00\", \"2021-07-14T00:00:00\", \"2021-07-14T00:00:00\", \"2021-07-14T00:00:00\", \"2021-07-14T00:00:00\", \"2021-07-14T00:00:00\", \"2021-07-14T00:00:00\", \"2021-07-14T00:00:00\", \"2021-07-14T00:00:00\", \"2021-07-14T00:00:00\", \"2021-07-14T00:00:00\", \"2021-07-14T00:00:00\", \"2021-07-14T00:00:00\", \"2021-07-14T00:00:00\", \"2021-07-14T00:00:00\", \"2021-07-14T00:00:00\", \"2021-07-14T00:00:00\", \"2021-07-14T00:00:00\", \"2021-07-14T00:00:00\", \"2021-07-15T00:00:00\", \"2021-07-15T00:00:00\", \"2021-07-15T00:00:00\", \"2021-07-15T00:00:00\", \"2021-07-15T00:00:00\", \"2021-07-15T00:00:00\", \"2021-07-15T00:00:00\", \"2021-07-15T00:00:00\", \"2021-07-15T00:00:00\", \"2021-07-17T00:00:00\", \"2021-07-15T00:00:00\", \"2021-07-15T00:00:00\", \"2021-07-15T00:00:00\", \"2021-07-15T00:00:00\", \"2021-07-15T00:00:00\", \"2021-07-15T00:00:00\", \"2021-07-15T00:00:00\", \"2021-07-15T00:00:00\", \"2021-07-15T00:00:00\", \"2021-07-15T00:00:00\", \"2021-07-15T00:00:00\", \"2021-07-15T00:00:00\", \"2021-07-15T00:00:00\", \"2021-07-15T00:00:00\", \"2021-07-15T00:00:00\", \"2021-07-15T00:00:00\", \"2021-07-15T00:00:00\", \"2021-07-15T00:00:00\", \"2021-07-15T00:00:00\", \"2021-07-15T00:00:00\", \"2021-07-15T00:00:00\", \"2021-07-15T00:00:00\", \"2021-07-15T00:00:00\", \"2021-07-15T00:00:00\", \"2021-07-15T00:00:00\", \"2021-07-15T00:00:00\", \"2021-07-15T00:00:00\", \"2021-07-15T00:00:00\", \"2021-07-15T00:00:00\", \"2021-07-15T00:00:00\", \"2021-07-15T00:00:00\", \"2021-07-15T00:00:00\", \"2021-07-15T00:00:00\", \"2021-07-15T00:00:00\", \"2021-07-15T00:00:00\", \"2021-07-16T00:00:00\", \"2021-07-16T00:00:00\", \"2021-07-16T00:00:00\", \"2021-07-16T00:00:00\", \"2021-07-16T00:00:00\", \"2021-07-16T00:00:00\", \"2021-07-16T00:00:00\", \"2021-07-16T00:00:00\", \"2021-07-16T00:00:00\", \"2021-07-16T00:00:00\", \"2021-07-16T00:00:00\", \"2021-07-16T00:00:00\", \"2021-07-16T00:00:00\", \"2021-07-16T00:00:00\", \"2021-07-16T00:00:00\", \"2021-07-16T00:00:00\", \"2021-07-16T00:00:00\", \"2021-07-16T00:00:00\", \"2021-07-16T00:00:00\", \"2021-07-16T00:00:00\", \"2021-07-16T00:00:00\", \"2021-07-16T00:00:00\", \"2021-07-16T00:00:00\", \"2021-07-16T00:00:00\", \"2021-07-16T00:00:00\", \"2021-07-16T00:00:00\", \"2021-07-16T00:00:00\", \"2021-07-17T00:00:00\", \"2021-07-16T00:00:00\", \"2021-07-16T00:00:00\", \"2021-07-16T00:00:00\", \"2021-07-16T00:00:00\", \"2021-07-16T00:00:00\", \"2021-07-16T00:00:00\", \"2021-07-16T00:00:00\", \"2021-07-16T00:00:00\", \"2021-07-16T00:00:00\", \"2021-07-16T00:00:00\", \"2021-07-16T00:00:00\", \"2021-07-16T00:00:00\", \"2021-07-16T00:00:00\", \"2021-07-16T00:00:00\", \"2021-07-16T00:00:00\", \"2021-07-16T00:00:00\", \"2021-07-16T00:00:00\", \"2021-07-16T00:00:00\", \"2021-07-16T00:00:00\", \"2021-07-17T00:00:00\", \"2021-07-17T00:00:00\", \"2021-07-17T00:00:00\", \"2021-07-17T00:00:00\", \"2021-07-17T00:00:00\", \"2021-07-17T00:00:00\", \"2021-07-17T00:00:00\", \"2021-07-17T00:00:00\", \"2021-07-17T00:00:00\", \"2021-07-17T00:00:00\", \"2021-07-17T00:00:00\", \"2021-07-17T00:00:00\", \"2021-07-17T00:00:00\", \"2021-07-17T00:00:00\", \"2021-07-17T00:00:00\", \"2021-07-17T00:00:00\", \"2021-07-17T00:00:00\", \"2021-07-17T00:00:00\", \"2021-07-17T00:00:00\", \"2021-07-17T00:00:00\", \"2021-07-17T00:00:00\", \"2021-07-17T00:00:00\", \"2021-07-17T00:00:00\", \"2021-07-17T00:00:00\", \"2021-07-17T00:00:00\", \"2021-07-17T00:00:00\", \"2021-07-17T00:00:00\", \"2021-07-17T00:00:00\", \"2021-07-17T00:00:00\", \"2021-07-17T00:00:00\", \"2021-07-17T00:00:00\", \"2021-07-17T00:00:00\", \"2021-07-17T00:00:00\", \"2021-07-17T00:00:00\", \"2021-07-17T00:00:00\", \"2021-07-17T00:00:00\", \"2021-07-17T00:00:00\", \"2021-07-17T00:00:00\", \"2021-07-17T00:00:00\", \"2021-07-17T00:00:00\", \"2021-07-17T00:00:00\", \"2021-07-17T00:00:00\", \"2021-07-17T00:00:00\", \"2021-07-17T00:00:00\", \"2021-07-17T00:00:00\", \"2021-07-17T00:00:00\", \"2021-07-18T00:00:00\", \"2021-07-18T00:00:00\", \"2021-07-18T00:00:00\", \"2021-07-18T00:00:00\", \"2021-07-18T00:00:00\", \"2021-07-18T00:00:00\", \"2021-07-18T00:00:00\", \"2021-07-18T00:00:00\", \"2021-07-18T00:00:00\", \"2021-07-18T00:00:00\", \"2021-07-18T00:00:00\", \"2021-07-18T00:00:00\", \"2021-07-18T00:00:00\", \"2021-07-18T00:00:00\", \"2021-07-18T00:00:00\", \"2021-07-18T00:00:00\", \"2021-07-18T00:00:00\", \"2021-07-18T00:00:00\", \"2021-07-18T00:00:00\", \"2021-07-18T00:00:00\", \"2021-07-18T00:00:00\", \"2021-07-18T00:00:00\", \"2021-07-18T00:00:00\", \"2021-07-18T00:00:00\", \"2021-07-18T00:00:00\", \"2021-07-18T00:00:00\", \"2021-07-18T00:00:00\", \"2021-07-18T00:00:00\", \"2021-07-18T00:00:00\", \"2021-07-18T00:00:00\", \"2021-07-18T00:00:00\", \"2021-07-18T00:00:00\", \"2021-07-18T00:00:00\", \"2021-07-18T00:00:00\", \"2021-07-18T00:00:00\", \"2021-07-18T00:00:00\", \"2021-07-18T00:00:00\", \"2021-07-18T00:00:00\", \"2021-07-18T00:00:00\", \"2021-07-18T00:00:00\", \"2021-07-18T00:00:00\", \"2021-07-18T00:00:00\", \"2021-07-18T00:00:00\", \"2021-07-18T00:00:00\", \"2021-07-18T00:00:00\", \"2021-07-18T00:00:00\", \"2021-07-18T00:00:00\", \"2021-07-18T00:00:00\", \"2021-07-18T00:00:00\", \"2021-07-18T00:00:00\", \"2021-07-18T00:00:00\", \"2021-07-18T00:00:00\", \"2021-07-18T00:00:00\", \"2021-07-18T00:00:00\", \"2021-07-18T00:00:00\", \"2021-07-18T00:00:00\", \"2021-07-18T00:00:00\", \"2021-07-18T00:00:00\", \"2021-07-18T00:00:00\", \"2021-07-18T00:00:00\", \"2021-07-18T00:00:00\", \"2021-07-18T00:00:00\", \"2021-07-18T00:00:00\", \"2021-07-18T00:00:00\", \"2021-07-18T00:00:00\", \"2021-07-18T00:00:00\", \"2021-07-18T00:00:00\", \"2021-07-18T00:00:00\", \"2021-07-18T00:00:00\", \"2021-07-18T00:00:00\", \"2021-07-15T00:00:00\", \"2021-07-16T00:00:00\", \"2021-07-16T00:00:00\", \"2021-07-16T00:00:00\", \"2021-07-17T00:00:00\", \"2021-07-17T00:00:00\", \"2021-07-17T00:00:00\", \"2021-07-17T00:00:00\", \"2021-07-17T00:00:00\", \"2021-07-17T00:00:00\", \"2021-07-18T00:00:00\", \"2021-07-18T00:00:00\", \"2021-07-18T00:00:00\", \"2021-07-18T00:00:00\", \"2021-07-18T00:00:00\", \"2021-07-16T00:00:00\", \"2021-07-16T00:00:00\", \"2021-07-16T00:00:00\", \"2021-07-10T00:00:00\", \"2021-07-15T00:00:00\", \"2021-07-16T00:00:00\", \"2021-07-16T00:00:00\", \"2021-07-16T00:00:00\", \"2021-07-14T00:00:00\", \"2021-07-14T00:00:00\", \"2021-07-14T00:00:00\", \"2021-06-15T00:00:00\", \"2021-06-15T00:00:00\", \"2021-06-15T00:00:00\", \"2021-06-15T00:00:00\", \"2021-06-15T00:00:00\", \"2021-06-15T00:00:00\", \"2021-06-15T00:00:00\", \"2021-06-15T00:00:00\", \"2021-06-15T00:00:00\", \"2021-06-15T00:00:00\", \"2021-06-15T00:00:00\", \"2021-06-15T00:00:00\", \"2021-06-16T00:00:00\", \"2021-06-16T00:00:00\", \"2021-06-24T00:00:00\", \"2021-06-24T00:00:00\", \"2021-06-24T00:00:00\", \"2021-06-24T00:00:00\", \"2021-06-24T00:00:00\", \"2021-06-24T00:00:00\", \"2021-06-24T00:00:00\", \"2021-06-24T00:00:00\", \"2021-06-24T00:00:00\", \"2021-06-24T00:00:00\", \"2021-06-24T00:00:00\", \"2021-06-24T00:00:00\", \"2021-06-24T00:00:00\", \"2021-06-24T00:00:00\", \"2021-06-24T00:00:00\", \"2021-06-24T00:00:00\", \"2021-06-24T00:00:00\", \"2021-06-24T00:00:00\", \"2021-06-25T00:00:00\", \"2021-06-26T00:00:00\", \"2021-06-26T00:00:00\", \"2021-06-26T00:00:00\", \"2021-06-26T00:00:00\", \"2021-06-26T00:00:00\", \"2021-06-27T00:00:00\", \"2021-06-27T00:00:00\", \"2021-06-27T00:00:00\", \"2021-06-27T00:00:00\", \"2021-06-27T00:00:00\", \"2021-06-27T00:00:00\", \"2021-06-15T00:00:00\", \"2021-06-15T00:00:00\", \"2021-06-15T00:00:00\", \"2021-06-15T00:00:00\", \"2021-06-15T00:00:00\", \"2021-06-15T00:00:00\", \"2021-06-15T00:00:00\", \"2021-06-15T00:00:00\", \"2021-06-15T00:00:00\", \"2021-06-15T00:00:00\", \"2021-06-15T00:00:00\", \"2021-06-15T00:00:00\", \"2021-06-15T00:00:00\", \"2021-06-15T00:00:00\", \"2021-06-15T00:00:00\", \"2021-06-15T00:00:00\", \"2021-06-15T00:00:00\", \"2021-06-15T00:00:00\", \"2021-06-15T00:00:00\", \"2021-06-15T00:00:00\", \"2021-06-15T00:00:00\", \"2021-06-16T00:00:00\", \"2021-06-16T00:00:00\", \"2021-06-16T00:00:00\", \"2021-06-16T00:00:00\", \"2021-06-16T00:00:00\", \"2021-06-16T00:00:00\", \"2021-06-16T00:00:00\", \"2021-06-16T00:00:00\", \"2021-06-16T00:00:00\", \"2021-06-16T00:00:00\", \"2021-06-16T00:00:00\", \"2021-06-16T00:00:00\", \"2021-06-12T00:00:00\", \"2021-06-13T00:00:00\", \"2021-06-13T00:00:00\", \"2021-06-15T00:00:00\", \"2021-06-15T00:00:00\", \"2021-06-15T00:00:00\", \"2021-06-15T00:00:00\", \"2021-06-15T00:00:00\", \"2021-06-15T00:00:00\", \"2021-06-15T00:00:00\", \"2021-06-15T00:00:00\", \"2021-06-15T00:00:00\", \"2021-05-30T00:00:00\", \"2021-05-31T00:00:00\", \"2021-06-05T00:00:00\", \"2021-06-05T00:00:00\", \"2021-06-05T00:00:00\", \"2021-06-05T00:00:00\", \"2021-06-05T00:00:00\", \"2021-06-05T00:00:00\", \"2021-06-06T00:00:00\", \"2021-06-06T00:00:00\", \"2021-06-06T00:00:00\", \"2021-06-06T00:00:00\", \"2021-06-07T00:00:00\", \"2021-06-07T00:00:00\", \"2021-06-07T00:00:00\", \"2021-06-07T00:00:00\", \"2021-06-07T00:00:00\", \"2021-06-07T00:00:00\", \"2021-06-07T00:00:00\", \"2021-06-07T00:00:00\", \"2021-06-07T00:00:00\", \"2021-06-07T00:00:00\", \"2021-06-08T00:00:00\", \"2021-06-09T00:00:00\", \"2021-06-09T00:00:00\", \"2021-06-09T00:00:00\", \"2021-06-09T00:00:00\", \"2021-06-09T00:00:00\", \"2021-06-09T00:00:00\", \"2021-06-09T00:00:00\", \"2021-06-09T00:00:00\", \"2021-06-09T00:00:00\", \"2021-06-09T00:00:00\", \"2021-06-09T00:00:00\", \"2021-06-09T00:00:00\", \"2021-06-09T00:00:00\", \"2021-06-09T00:00:00\", \"2021-06-09T00:00:00\", \"2021-06-09T00:00:00\", \"2021-06-09T00:00:00\", \"2021-06-09T00:00:00\", \"2021-06-09T00:00:00\", \"2021-06-09T00:00:00\", \"2021-06-09T00:00:00\", \"2021-06-09T00:00:00\", \"2021-06-09T00:00:00\", \"2021-06-09T00:00:00\", \"2021-06-09T00:00:00\", \"2021-06-09T00:00:00\", \"2021-06-09T00:00:00\", \"2021-06-10T00:00:00\", \"2021-06-10T00:00:00\", \"2021-06-10T00:00:00\", \"2021-06-11T00:00:00\", \"2021-06-11T00:00:00\", \"2021-06-11T00:00:00\", \"2021-06-11T00:00:00\", \"2021-06-11T00:00:00\", \"2021-06-11T00:00:00\", \"2021-06-11T00:00:00\", \"2021-06-11T00:00:00\", \"2021-06-11T00:00:00\", \"2021-06-11T00:00:00\", \"2021-06-11T00:00:00\", \"2021-06-11T00:00:00\", \"2021-06-11T00:00:00\", \"2021-06-11T00:00:00\", \"2021-06-11T00:00:00\", \"2021-06-11T00:00:00\", \"2021-06-11T00:00:00\", \"2021-06-11T00:00:00\", \"2021-06-11T00:00:00\", \"2021-06-12T00:00:00\", \"2021-06-12T00:00:00\", \"2021-06-12T00:00:00\", \"2021-06-12T00:00:00\", \"2021-06-12T00:00:00\", \"2021-06-13T00:00:00\", \"2021-06-13T00:00:00\", \"2021-06-13T00:00:00\", \"2021-06-13T00:00:00\", \"2021-06-14T00:00:00\", \"2021-06-14T00:00:00\", \"2021-06-14T00:00:00\", \"2021-06-15T00:00:00\", \"2021-06-15T00:00:00\", \"2021-06-15T00:00:00\", \"2021-06-16T00:00:00\", \"2021-06-16T00:00:00\", \"2021-06-16T00:00:00\", \"2021-06-16T00:00:00\", \"2021-06-16T00:00:00\", \"2021-06-15T00:00:00\", \"2021-06-15T00:00:00\", \"2021-06-15T00:00:00\", \"2021-06-15T00:00:00\", \"2021-06-15T00:00:00\", \"2021-06-15T00:00:00\", \"2021-06-15T00:00:00\", \"2021-05-28T00:00:00\", \"2021-06-05T00:00:00\", \"2021-06-05T00:00:00\", \"2021-06-05T00:00:00\", \"2021-06-05T00:00:00\", \"2021-06-06T00:00:00\", \"2021-06-06T00:00:00\", \"2021-06-06T00:00:00\", \"2021-06-06T00:00:00\", \"2021-06-06T00:00:00\", \"2021-06-06T00:00:00\", \"2021-06-11T00:00:00\", \"2021-06-01T00:00:00\", \"2021-06-01T00:00:00\", \"2021-06-01T00:00:00\", \"2021-06-02T00:00:00\", \"2021-06-02T00:00:00\", \"2021-06-02T00:00:00\", \"2021-06-04T00:00:00\", \"2021-06-04T00:00:00\", \"2021-06-04T00:00:00\", \"2021-06-04T00:00:00\", \"2021-06-04T00:00:00\", \"2021-06-05T00:00:00\", \"2021-06-05T00:00:00\", \"2021-06-05T00:00:00\", \"2021-06-05T00:00:00\", \"2021-06-05T00:00:00\", \"2021-06-05T00:00:00\", \"2021-06-05T00:00:00\", \"2021-06-04T00:00:00\", \"2021-06-05T00:00:00\", \"2021-06-05T00:00:00\", \"2021-06-05T00:00:00\", \"2021-06-05T00:00:00\", \"2021-06-05T00:00:00\", \"2021-06-06T00:00:00\", \"2021-06-06T00:00:00\", \"2021-06-06T00:00:00\", \"2021-06-07T00:00:00\", \"2021-06-07T00:00:00\", \"2021-06-07T00:00:00\", \"2021-06-07T00:00:00\", \"2021-06-07T00:00:00\", \"2021-06-07T00:00:00\", \"2021-06-07T00:00:00\", \"2021-06-07T00:00:00\", \"2021-06-10T00:00:00\", \"2021-06-11T00:00:00\", \"2021-06-11T00:00:00\", \"2021-05-29T00:00:00\", \"2021-05-30T00:00:00\", \"2021-05-31T00:00:00\", \"2021-05-31T00:00:00\", \"2021-05-31T00:00:00\", \"2021-06-01T00:00:00\", \"2021-06-01T00:00:00\", \"2021-06-01T00:00:00\", \"2021-06-02T00:00:00\", \"2021-06-10T00:00:00\", \"2021-06-10T00:00:00\", \"2021-05-29T00:00:00\", \"2021-05-29T00:00:00\", \"2021-05-29T00:00:00\", \"2021-05-30T00:00:00\", \"2021-05-30T00:00:00\", \"2021-05-31T00:00:00\", \"2021-05-31T00:00:00\", \"2021-05-31T00:00:00\", \"2021-05-31T00:00:00\", \"2021-05-31T00:00:00\", \"2021-05-31T00:00:00\", \"2021-05-31T00:00:00\", \"2021-05-31T00:00:00\", \"2021-05-31T00:00:00\", \"2021-05-31T00:00:00\", \"2021-05-31T00:00:00\", \"2021-05-31T00:00:00\", \"2021-05-31T00:00:00\", \"2021-05-31T00:00:00\", \"2021-05-31T00:00:00\", \"2021-05-31T00:00:00\", \"2021-05-31T00:00:00\", \"2021-05-31T00:00:00\", \"2021-05-31T00:00:00\", \"2021-05-31T00:00:00\", \"2021-05-31T00:00:00\", \"2021-06-04T00:00:00\", \"2021-06-04T00:00:00\", \"2021-06-04T00:00:00\", \"2021-06-09T00:00:00\", \"2021-06-09T00:00:00\", \"2021-05-30T00:00:00\", \"2021-05-30T00:00:00\", \"2021-05-30T00:00:00\", \"2021-05-30T00:00:00\", \"2021-05-30T00:00:00\", \"2021-05-30T00:00:00\", \"2021-05-30T00:00:00\", \"2021-05-30T00:00:00\", \"2021-05-30T00:00:00\", \"2021-05-30T00:00:00\", \"2021-05-30T00:00:00\", \"2021-05-30T00:00:00\", \"2021-05-30T00:00:00\", \"2021-05-30T00:00:00\", \"2021-05-30T00:00:00\", \"2021-05-30T00:00:00\", \"2021-05-31T00:00:00\", \"2021-05-31T00:00:00\", \"2021-05-31T00:00:00\", \"2021-05-31T00:00:00\", \"2021-05-31T00:00:00\", \"2021-05-31T00:00:00\", \"2021-05-31T00:00:00\", \"2021-05-31T00:00:00\", \"2021-05-31T00:00:00\", \"2021-05-31T00:00:00\", \"2021-05-31T00:00:00\", \"2021-06-01T00:00:00\", \"2021-06-01T00:00:00\", \"2021-06-02T00:00:00\", \"2021-06-02T00:00:00\", \"2021-06-03T00:00:00\", \"2021-06-04T00:00:00\", \"2021-06-04T00:00:00\", \"2021-06-09T00:00:00\", \"2021-06-09T00:00:00\", \"2021-05-26T00:00:00\", \"2021-05-24T00:00:00\", \"2021-05-26T00:00:00\", \"2021-05-25T00:00:00\", \"2021-05-26T00:00:00\", \"2021-05-24T00:00:00\", \"2021-05-24T00:00:00\", \"2021-05-24T00:00:00\", \"2021-05-26T00:00:00\", \"2021-05-25T00:00:00\", \"2021-05-25T00:00:00\", \"2021-05-25T00:00:00\", \"2021-05-25T00:00:00\", \"2021-05-24T00:00:00\", \"2021-05-24T00:00:00\", \"2021-05-24T00:00:00\", \"2021-05-24T00:00:00\", \"2021-05-24T00:00:00\", \"2021-05-24T00:00:00\", \"2021-05-24T00:00:00\", \"2021-05-25T00:00:00\", \"2021-05-26T00:00:00\", \"2021-05-26T00:00:00\", \"2021-05-24T00:00:00\", \"2021-05-18T00:00:00\", \"2021-05-25T00:00:00\", \"2021-05-24T00:00:00\", \"2021-05-26T00:00:00\", \"2021-05-26T00:00:00\", \"2021-05-28T00:00:00\", \"2021-05-26T00:00:00\", \"2021-05-26T00:00:00\", \"2021-05-26T00:00:00\", \"2021-05-26T00:00:00\", \"2021-05-26T00:00:00\", \"2021-05-26T00:00:00\", \"2021-05-26T00:00:00\", \"2021-05-26T00:00:00\", \"2021-05-26T00:00:00\", \"2021-05-26T00:00:00\", \"2021-05-26T00:00:00\", \"2021-05-26T00:00:00\", \"2021-05-27T00:00:00\", \"2021-05-27T00:00:00\", \"2021-05-27T00:00:00\", \"2021-05-27T00:00:00\", \"2021-05-27T00:00:00\", \"2021-05-27T00:00:00\", \"2021-05-27T00:00:00\", \"2021-05-27T00:00:00\", \"2021-05-27T00:00:00\", \"2021-05-27T00:00:00\", \"2021-05-27T00:00:00\", \"2021-05-27T00:00:00\", \"2021-05-27T00:00:00\", \"2021-05-27T00:00:00\", \"2021-05-27T00:00:00\", \"2021-05-27T00:00:00\", \"2021-05-27T00:00:00\", \"2021-05-27T00:00:00\", \"2021-05-27T00:00:00\", \"2021-05-27T00:00:00\", \"2021-05-27T00:00:00\", \"2021-05-28T00:00:00\", \"2021-05-28T00:00:00\", \"2021-05-28T00:00:00\", \"2021-05-28T00:00:00\", \"2021-05-28T00:00:00\", \"2021-05-28T00:00:00\", \"2021-05-28T00:00:00\", \"2021-05-28T00:00:00\", \"2021-05-28T00:00:00\", \"2021-05-28T00:00:00\", \"2021-05-28T00:00:00\", \"2021-05-28T00:00:00\", \"2021-05-28T00:00:00\", \"2021-05-28T00:00:00\", \"2021-05-28T00:00:00\", \"2021-05-28T00:00:00\", \"2021-05-28T00:00:00\", \"2021-05-28T00:00:00\", \"2021-05-28T00:00:00\", \"2021-05-28T00:00:00\", \"2021-05-28T00:00:00\", \"2021-05-28T00:00:00\", \"2021-05-29T00:00:00\", \"2021-05-30T00:00:00\", \"2021-05-29T00:00:00\", \"2021-05-29T00:00:00\", \"2021-05-29T00:00:00\", \"2021-05-29T00:00:00\", \"2021-05-29T00:00:00\", \"2021-05-29T00:00:00\", \"2021-05-29T00:00:00\", \"2021-05-29T00:00:00\", \"2021-05-29T00:00:00\", \"2021-05-29T00:00:00\", \"2021-05-29T00:00:00\", \"2021-05-30T00:00:00\", \"2021-05-30T00:00:00\", \"2021-05-30T00:00:00\", \"2021-05-30T00:00:00\", \"2021-05-30T00:00:00\", \"2021-05-30T00:00:00\", \"2021-05-30T00:00:00\", \"2021-05-30T00:00:00\", \"2021-05-30T00:00:00\", \"2021-05-30T00:00:00\", \"2021-05-30T00:00:00\", \"2021-05-30T00:00:00\", \"2021-05-30T00:00:00\", \"2021-05-30T00:00:00\", \"2021-05-30T00:00:00\", \"2021-05-30T00:00:00\", \"2021-05-30T00:00:00\", \"2021-05-30T00:00:00\", \"2021-05-30T00:00:00\", \"2021-05-30T00:00:00\", \"2021-05-30T00:00:00\", \"2021-05-30T00:00:00\", \"2021-05-30T00:00:00\", \"2021-05-30T00:00:00\", \"2021-05-30T00:00:00\", \"2021-05-30T00:00:00\", \"2021-05-30T00:00:00\", \"2021-05-30T00:00:00\", \"2021-05-30T00:00:00\", \"2021-05-30T00:00:00\", \"2021-05-30T00:00:00\", \"2021-05-30T00:00:00\", \"2021-05-30T00:00:00\", \"2021-05-30T00:00:00\", \"2021-05-30T00:00:00\", \"2021-05-30T00:00:00\", \"2021-05-30T00:00:00\", \"2021-05-30T00:00:00\", \"2021-05-30T00:00:00\", \"2021-05-30T00:00:00\", \"2021-05-30T00:00:00\", \"2021-05-30T00:00:00\", \"2021-05-30T00:00:00\", \"2021-05-30T00:00:00\", \"2021-05-30T00:00:00\", \"2021-05-31T00:00:00\", \"2021-05-31T00:00:00\", \"2021-05-31T00:00:00\", \"2021-05-31T00:00:00\", \"2021-05-31T00:00:00\", \"2021-05-31T00:00:00\", \"2021-05-31T00:00:00\", \"2021-05-31T00:00:00\", \"2021-05-31T00:00:00\", \"2021-05-31T00:00:00\", \"2021-05-31T00:00:00\", \"2021-05-31T00:00:00\", \"2021-05-31T00:00:00\", \"2021-05-31T00:00:00\", \"2021-05-31T00:00:00\", \"2021-05-31T00:00:00\", \"2021-05-31T00:00:00\", \"2021-06-01T00:00:00\", \"2021-06-01T00:00:00\", \"2021-06-01T00:00:00\", \"2021-06-01T00:00:00\", \"2021-06-01T00:00:00\", \"2021-06-02T00:00:00\", \"2021-06-03T00:00:00\", \"2021-06-02T00:00:00\", \"2021-06-02T00:00:00\", \"2021-06-02T00:00:00\", \"2021-06-03T00:00:00\", \"2021-06-03T00:00:00\", \"2021-06-03T00:00:00\", \"2021-06-04T00:00:00\", \"2021-06-06T00:00:00\", \"2021-06-06T00:00:00\", \"2021-06-07T00:00:00\", \"2021-05-26T00:00:00\", \"2021-05-26T00:00:00\", \"2021-05-24T00:00:00\", \"2021-05-24T00:00:00\", \"2021-05-24T00:00:00\", \"2021-05-24T00:00:00\", \"2021-05-26T00:00:00\", \"2021-05-24T00:00:00\", \"2021-05-24T00:00:00\", \"2021-05-26T00:00:00\", \"2021-05-26T00:00:00\", \"2021-05-26T00:00:00\", \"2021-05-26T00:00:00\", \"2021-05-26T00:00:00\", \"2021-05-26T00:00:00\", \"2021-05-26T00:00:00\", \"2021-05-26T00:00:00\", \"2021-05-26T00:00:00\", \"2021-05-26T00:00:00\", \"2021-05-26T00:00:00\", \"2021-05-27T00:00:00\", \"2021-05-27T00:00:00\", \"2021-05-27T00:00:00\", \"2021-05-27T00:00:00\", \"2021-05-27T00:00:00\", \"2021-05-27T00:00:00\", \"2021-05-27T00:00:00\", \"2021-05-27T00:00:00\", \"2021-05-27T00:00:00\", \"2021-05-28T00:00:00\", \"2021-05-28T00:00:00\", \"2021-05-28T00:00:00\", \"2021-05-28T00:00:00\", \"2021-05-28T00:00:00\", \"2021-05-29T00:00:00\", \"2021-05-29T00:00:00\", \"2021-05-29T00:00:00\", \"2021-05-30T00:00:00\", \"2021-05-30T00:00:00\", \"2021-05-30T00:00:00\", \"2021-05-30T00:00:00\", \"2021-05-30T00:00:00\", \"2021-05-30T00:00:00\", \"2021-05-30T00:00:00\", \"2021-05-30T00:00:00\", \"2021-05-30T00:00:00\", \"2021-05-31T00:00:00\", \"2021-05-31T00:00:00\", \"2021-05-31T00:00:00\", \"2021-05-31T00:00:00\", \"2021-05-31T00:00:00\", \"2021-05-31T00:00:00\", \"2021-05-31T00:00:00\", \"2021-06-01T00:00:00\", \"2021-06-01T00:00:00\", \"2021-06-01T00:00:00\", \"2021-06-01T00:00:00\", \"2021-06-06T00:00:00\", \"2021-06-06T00:00:00\", \"2021-06-06T00:00:00\", \"2021-06-06T00:00:00\", \"2021-06-06T00:00:00\", \"2021-06-06T00:00:00\"], \"yaxis\": \"y\", \"ybingroup\": \"y\"}],                        {\"annotations\": [{\"ax\": 20, \"ay\": 20, \"text\": \"lockdown four\", \"x\": \"2021-05-27\", \"xanchor\": \"left\", \"y\": \"2021-05-27\"}, {\"ax\": 15, \"ay\": -20, \"text\": \"lockdown five\", \"x\": \"2021-07-15\", \"xanchor\": \"left\", \"y\": \"2021-07-15\"}], \"coloraxis\": {\"colorbar\": {\"title\": {\"text\": \"count\"}}, \"colorscale\": [[0.0, \"#440154\"], [0.1111111111111111, \"#482878\"], [0.2222222222222222, \"#3e4989\"], [0.3333333333333333, \"#31688e\"], [0.4444444444444444, \"#26828e\"], [0.5555555555555556, \"#1f9e89\"], [0.6666666666666666, \"#35b779\"], [0.7777777777777778, \"#6ece58\"], [0.8888888888888888, \"#b5de2b\"], [1.0, \"#fde725\"]]}, \"legend\": {\"tracegroupgap\": 0}, \"plot_bgcolor\": \"#440154\", \"shapes\": [{\"type\": \"line\", \"x0\": \"2021-05-27T12:00:00\", \"x1\": \"2021-05-27T12:00:00\", \"xref\": \"x\", \"y0\": 0, \"y1\": 1, \"yref\": \"y domain\"}, {\"type\": \"line\", \"x0\": 0, \"x1\": 1, \"xref\": \"x domain\", \"y0\": \"2021-05-27T12:00:00\", \"y1\": \"2021-05-27T12:00:00\", \"yref\": \"y\"}, {\"type\": \"line\", \"x0\": \"2021-07-15T12:00:00\", \"x1\": \"2021-07-15T12:00:00\", \"xref\": \"x\", \"y0\": 0, \"y1\": 1, \"yref\": \"y domain\"}, {\"type\": \"line\", \"x0\": 0, \"x1\": 1, \"xref\": \"x domain\", \"y0\": \"2021-07-15T12:00:00\", \"y1\": \"2021-07-15T12:00:00\", \"yref\": \"y\"}], \"template\": {\"data\": {\"bar\": [{\"error_x\": {\"color\": \"#f2f5fa\"}, \"error_y\": {\"color\": \"#f2f5fa\"}, \"marker\": {\"line\": {\"color\": \"rgb(17,17,17)\", \"width\": 0.5}}, \"type\": \"bar\"}], \"barpolar\": [{\"marker\": {\"line\": {\"color\": \"rgb(17,17,17)\", \"width\": 0.5}}, \"type\": \"barpolar\"}], \"carpet\": [{\"aaxis\": {\"endlinecolor\": \"#A2B1C6\", \"gridcolor\": \"#506784\", \"linecolor\": \"#506784\", \"minorgridcolor\": \"#506784\", \"startlinecolor\": \"#A2B1C6\"}, \"baxis\": {\"endlinecolor\": \"#A2B1C6\", \"gridcolor\": \"#506784\", \"linecolor\": \"#506784\", \"minorgridcolor\": \"#506784\", \"startlinecolor\": \"#A2B1C6\"}, \"type\": \"carpet\"}], \"choropleth\": [{\"colorbar\": {\"outlinewidth\": 0, \"ticks\": \"\"}, \"type\": \"choropleth\"}], \"contour\": [{\"colorbar\": {\"outlinewidth\": 0, \"ticks\": \"\"}, \"colorscale\": [[0.0, \"#0d0887\"], [0.1111111111111111, \"#46039f\"], [0.2222222222222222, \"#7201a8\"], [0.3333333333333333, \"#9c179e\"], [0.4444444444444444, \"#bd3786\"], [0.5555555555555556, \"#d8576b\"], [0.6666666666666666, \"#ed7953\"], [0.7777777777777778, \"#fb9f3a\"], [0.8888888888888888, \"#fdca26\"], [1.0, \"#f0f921\"]], \"type\": \"contour\"}], \"contourcarpet\": [{\"colorbar\": {\"outlinewidth\": 0, \"ticks\": \"\"}, \"type\": \"contourcarpet\"}], \"heatmap\": [{\"colorbar\": {\"outlinewidth\": 0, \"ticks\": \"\"}, \"colorscale\": [[0.0, \"#0d0887\"], [0.1111111111111111, \"#46039f\"], [0.2222222222222222, \"#7201a8\"], [0.3333333333333333, \"#9c179e\"], [0.4444444444444444, \"#bd3786\"], [0.5555555555555556, \"#d8576b\"], [0.6666666666666666, \"#ed7953\"], [0.7777777777777778, \"#fb9f3a\"], [0.8888888888888888, \"#fdca26\"], [1.0, \"#f0f921\"]], \"type\": \"heatmap\"}], \"heatmapgl\": [{\"colorbar\": {\"outlinewidth\": 0, \"ticks\": \"\"}, \"colorscale\": [[0.0, \"#0d0887\"], [0.1111111111111111, \"#46039f\"], [0.2222222222222222, \"#7201a8\"], [0.3333333333333333, \"#9c179e\"], [0.4444444444444444, \"#bd3786\"], [0.5555555555555556, \"#d8576b\"], [0.6666666666666666, \"#ed7953\"], [0.7777777777777778, \"#fb9f3a\"], [0.8888888888888888, \"#fdca26\"], [1.0, \"#f0f921\"]], \"type\": \"heatmapgl\"}], \"histogram\": [{\"marker\": {\"colorbar\": {\"outlinewidth\": 0, \"ticks\": \"\"}}, \"type\": \"histogram\"}], \"histogram2d\": [{\"colorbar\": {\"outlinewidth\": 0, \"ticks\": \"\"}, \"colorscale\": [[0.0, \"#0d0887\"], [0.1111111111111111, \"#46039f\"], [0.2222222222222222, \"#7201a8\"], [0.3333333333333333, \"#9c179e\"], [0.4444444444444444, \"#bd3786\"], [0.5555555555555556, \"#d8576b\"], [0.6666666666666666, \"#ed7953\"], [0.7777777777777778, \"#fb9f3a\"], [0.8888888888888888, \"#fdca26\"], [1.0, \"#f0f921\"]], \"type\": \"histogram2d\"}], \"histogram2dcontour\": [{\"colorbar\": {\"outlinewidth\": 0, \"ticks\": \"\"}, \"colorscale\": [[0.0, \"#0d0887\"], [0.1111111111111111, \"#46039f\"], [0.2222222222222222, \"#7201a8\"], [0.3333333333333333, \"#9c179e\"], [0.4444444444444444, \"#bd3786\"], [0.5555555555555556, \"#d8576b\"], [0.6666666666666666, \"#ed7953\"], [0.7777777777777778, \"#fb9f3a\"], [0.8888888888888888, \"#fdca26\"], [1.0, \"#f0f921\"]], \"type\": \"histogram2dcontour\"}], \"mesh3d\": [{\"colorbar\": {\"outlinewidth\": 0, \"ticks\": \"\"}, \"type\": \"mesh3d\"}], \"parcoords\": [{\"line\": {\"colorbar\": {\"outlinewidth\": 0, \"ticks\": \"\"}}, \"type\": \"parcoords\"}], \"pie\": [{\"automargin\": true, \"type\": \"pie\"}], \"scatter\": [{\"marker\": {\"line\": {\"color\": \"#283442\"}}, \"type\": \"scatter\"}], \"scatter3d\": [{\"line\": {\"colorbar\": {\"outlinewidth\": 0, \"ticks\": \"\"}}, \"marker\": {\"colorbar\": {\"outlinewidth\": 0, \"ticks\": \"\"}}, \"type\": \"scatter3d\"}], \"scattercarpet\": [{\"marker\": {\"colorbar\": {\"outlinewidth\": 0, \"ticks\": \"\"}}, \"type\": \"scattercarpet\"}], \"scattergeo\": [{\"marker\": {\"colorbar\": {\"outlinewidth\": 0, \"ticks\": \"\"}}, \"type\": \"scattergeo\"}], \"scattergl\": [{\"marker\": {\"line\": {\"color\": \"#283442\"}}, \"type\": \"scattergl\"}], \"scattermapbox\": [{\"marker\": {\"colorbar\": {\"outlinewidth\": 0, \"ticks\": \"\"}}, \"type\": \"scattermapbox\"}], \"scatterpolar\": [{\"marker\": {\"colorbar\": {\"outlinewidth\": 0, \"ticks\": \"\"}}, \"type\": \"scatterpolar\"}], \"scatterpolargl\": [{\"marker\": {\"colorbar\": {\"outlinewidth\": 0, \"ticks\": \"\"}}, \"type\": \"scatterpolargl\"}], \"scatterternary\": [{\"marker\": {\"colorbar\": {\"outlinewidth\": 0, \"ticks\": \"\"}}, \"type\": \"scatterternary\"}], \"surface\": [{\"colorbar\": {\"outlinewidth\": 0, \"ticks\": \"\"}, \"colorscale\": [[0.0, \"#0d0887\"], [0.1111111111111111, \"#46039f\"], [0.2222222222222222, \"#7201a8\"], [0.3333333333333333, \"#9c179e\"], [0.4444444444444444, \"#bd3786\"], [0.5555555555555556, \"#d8576b\"], [0.6666666666666666, \"#ed7953\"], [0.7777777777777778, \"#fb9f3a\"], [0.8888888888888888, \"#fdca26\"], [1.0, \"#f0f921\"]], \"type\": \"surface\"}], \"table\": [{\"cells\": {\"fill\": {\"color\": \"#506784\"}, \"line\": {\"color\": \"rgb(17,17,17)\"}}, \"header\": {\"fill\": {\"color\": \"#2a3f5f\"}, \"line\": {\"color\": \"rgb(17,17,17)\"}}, \"type\": \"table\"}]}, \"layout\": {\"annotationdefaults\": {\"arrowcolor\": \"#f2f5fa\", \"arrowhead\": 0, \"arrowwidth\": 1}, \"autotypenumbers\": \"strict\", \"coloraxis\": {\"colorbar\": {\"outlinewidth\": 0, \"ticks\": \"\"}}, \"colorscale\": {\"diverging\": [[0, \"#8e0152\"], [0.1, \"#c51b7d\"], [0.2, \"#de77ae\"], [0.3, \"#f1b6da\"], [0.4, \"#fde0ef\"], [0.5, \"#f7f7f7\"], [0.6, \"#e6f5d0\"], [0.7, \"#b8e186\"], [0.8, \"#7fbc41\"], [0.9, \"#4d9221\"], [1, \"#276419\"]], \"sequential\": [[0.0, \"#0d0887\"], [0.1111111111111111, \"#46039f\"], [0.2222222222222222, \"#7201a8\"], [0.3333333333333333, \"#9c179e\"], [0.4444444444444444, \"#bd3786\"], [0.5555555555555556, \"#d8576b\"], [0.6666666666666666, \"#ed7953\"], [0.7777777777777778, \"#fb9f3a\"], [0.8888888888888888, \"#fdca26\"], [1.0, \"#f0f921\"]], \"sequentialminus\": [[0.0, \"#0d0887\"], [0.1111111111111111, \"#46039f\"], [0.2222222222222222, \"#7201a8\"], [0.3333333333333333, \"#9c179e\"], [0.4444444444444444, \"#bd3786\"], [0.5555555555555556, \"#d8576b\"], [0.6666666666666666, \"#ed7953\"], [0.7777777777777778, \"#fb9f3a\"], [0.8888888888888888, \"#fdca26\"], [1.0, \"#f0f921\"]]}, \"colorway\": [\"#636efa\", \"#EF553B\", \"#00cc96\", \"#ab63fa\", \"#FFA15A\", \"#19d3f3\", \"#FF6692\", \"#B6E880\", \"#FF97FF\", \"#FECB52\"], \"font\": {\"color\": \"#f2f5fa\"}, \"geo\": {\"bgcolor\": \"rgb(17,17,17)\", \"lakecolor\": \"rgb(17,17,17)\", \"landcolor\": \"rgb(17,17,17)\", \"showlakes\": true, \"showland\": true, \"subunitcolor\": \"#506784\"}, \"hoverlabel\": {\"align\": \"left\"}, \"hovermode\": \"closest\", \"mapbox\": {\"style\": \"dark\"}, \"paper_bgcolor\": \"rgb(17,17,17)\", \"plot_bgcolor\": \"rgb(17,17,17)\", \"polar\": {\"angularaxis\": {\"gridcolor\": \"#506784\", \"linecolor\": \"#506784\", \"ticks\": \"\"}, \"bgcolor\": \"rgb(17,17,17)\", \"radialaxis\": {\"gridcolor\": \"#506784\", \"linecolor\": \"#506784\", \"ticks\": \"\"}}, \"scene\": {\"xaxis\": {\"backgroundcolor\": \"rgb(17,17,17)\", \"gridcolor\": \"#506784\", \"gridwidth\": 2, \"linecolor\": \"#506784\", \"showbackground\": true, \"ticks\": \"\", \"zerolinecolor\": \"#C8D4E3\"}, \"yaxis\": {\"backgroundcolor\": \"rgb(17,17,17)\", \"gridcolor\": \"#506784\", \"gridwidth\": 2, \"linecolor\": \"#506784\", \"showbackground\": true, \"ticks\": \"\", \"zerolinecolor\": \"#C8D4E3\"}, \"zaxis\": {\"backgroundcolor\": \"rgb(17,17,17)\", \"gridcolor\": \"#506784\", \"gridwidth\": 2, \"linecolor\": \"#506784\", \"showbackground\": true, \"ticks\": \"\", \"zerolinecolor\": \"#C8D4E3\"}}, \"shapedefaults\": {\"line\": {\"color\": \"#f2f5fa\"}}, \"sliderdefaults\": {\"bgcolor\": \"#C8D4E3\", \"bordercolor\": \"rgb(17,17,17)\", \"borderwidth\": 1, \"tickwidth\": 0}, \"ternary\": {\"aaxis\": {\"gridcolor\": \"#506784\", \"linecolor\": \"#506784\", \"ticks\": \"\"}, \"baxis\": {\"gridcolor\": \"#506784\", \"linecolor\": \"#506784\", \"ticks\": \"\"}, \"bgcolor\": \"rgb(17,17,17)\", \"caxis\": {\"gridcolor\": \"#506784\", \"linecolor\": \"#506784\", \"ticks\": \"\"}}, \"title\": {\"x\": 0.05}, \"updatemenudefaults\": {\"bgcolor\": \"#506784\", \"borderwidth\": 0}, \"xaxis\": {\"automargin\": true, \"gridcolor\": \"#283442\", \"linecolor\": \"#506784\", \"ticks\": \"\", \"title\": {\"standoff\": 15}, \"zerolinecolor\": \"#283442\", \"zerolinewidth\": 2}, \"yaxis\": {\"automargin\": true, \"gridcolor\": \"#283442\", \"linecolor\": \"#506784\", \"ticks\": \"\", \"title\": {\"standoff\": 15}, \"zerolinecolor\": \"#283442\", \"zerolinewidth\": 2}}}, \"title\": {\"text\": \"Exposure site counts by date added\"}, \"width\": 580, \"xaxis\": {\"anchor\": \"y\", \"domain\": [0.0, 1.0], \"nticks\": 34, \"range\": [\"2021-05-10T12:00:00\", \"2021-07-18T12:00:00\"], \"showgrid\": false, \"side\": \"bottom\", \"tickangle\": 60, \"title\": {\"text\": \"Exposure Date\"}}, \"yaxis\": {\"anchor\": \"x\", \"domain\": [0.0, 1.0], \"range\": [\"2021-05-10T12:00:00\", \"2021-07-18T12:00:00\"], \"showgrid\": false, \"title\": {\"text\": \"Date Added\"}}},                        {\"responsive\": true}                    ).then(function(){\n",
       "                            \n",
       "var gd = document.getElementById('4743257e-1267-45b4-b29d-03515343a0d0');\n",
       "var x = new MutationObserver(function (mutations, observer) {{\n",
       "        var display = window.getComputedStyle(gd).display;\n",
       "        if (!display || display === 'none') {{\n",
       "            console.log([gd, 'removed!']);\n",
       "            Plotly.purge(gd);\n",
       "            observer.disconnect();\n",
       "        }}\n",
       "}});\n",
       "\n",
       "// Listen for the removal of the full notebook cells\n",
       "var notebookContainer = gd.closest('#notebook-container');\n",
       "if (notebookContainer) {{\n",
       "    x.observe(notebookContainer, {childList: true});\n",
       "}}\n",
       "\n",
       "// Listen for the clearing of the current output cell\n",
       "var outputEl = gd.closest('.output');\n",
       "if (outputEl) {{\n",
       "    x.observe(outputEl, {childList: true});\n",
       "}}\n",
       "\n",
       "                        })                };                });            </script>        </div>"
      ]
     },
     "metadata": {},
     "output_type": "display_data"
    }
   ],
   "source": [
    "nbinsy = (df_official.Added_date_dtm.max() - df_official.Exposure_date_dtm.min()).days + 1\n",
    "nbinsx = (df_official.Added_date_dtm.max() - df_official.Exposure_date_dtm.min()).days + 1\n",
    "\n",
    "fig_heat = px.density_heatmap(df_official, y=\"Added_date_dtm\", x=\"Exposure_date_dtm\", \n",
    "                         template='plotly_dark', nbinsx=nbinsx, \n",
    "                              nbinsy=nbinsy, color_continuous_scale='viridis',\n",
    "                              title = 'Exposure site counts by date added')\n",
    "fig_heat.add_vline(x=dt.datetime(2021, 5, 27, 12, 0))\n",
    "fig_heat.add_hline(y=dt.datetime(2021, 5, 27, 12, 0))\n",
    "fig_heat.add_annotation(x = '2021-05-27', y = '2021-05-27', text='lockdown four', xanchor='left', ax=20, ay=20)\n",
    "\n",
    "fig_heat.add_vline(x=dt.datetime(2021, 7, 15, 12, 0))\n",
    "fig_heat.add_hline(y=dt.datetime(2021, 7, 15, 12, 0))\n",
    "fig_heat.add_annotation(x = '2021-07-15', y = '2021-07-15', text='lockdown five', xanchor='left', ax=15, ay=-20)\n",
    "\n",
    "\n",
    "\n",
    "fig_heat.update_layout(xaxis_title = \"Exposure Date\", \n",
    "                       xaxis_tickangle = 60, xaxis_side = 'bottom', \n",
    "                       yaxis_title='Date Added',\n",
    "                       xaxis_nticks=nbinsx//2,\n",
    "                       width=width, \n",
    "                       plot_bgcolor=px.colors.sequential.Viridis[0], \n",
    "                       xaxis_showgrid=False,\n",
    "                       yaxis_showgrid=False, \n",
    "                       xaxis_range=[df_official.Exposure_date_dtm.min()- dt.timedelta(hours=12), df_official.Added_date_dtm.max() + dt.timedelta(hours=12)], \n",
    "                       yaxis_range=[df_official.Exposure_date_dtm.min()- dt.timedelta(hours=12), df_official.Added_date_dtm.max() + dt.timedelta(hours=12)]\n",
    "                       )"
   ]
  },
  {
   "cell_type": "code",
   "execution_count": 656,
   "metadata": {},
   "outputs": [],
   "source": [
    "df_official.to_csv('data_incl_historical_values.csv')"
   ]
  },
  {
   "cell_type": "markdown",
   "metadata": {},
   "source": [
    "---"
   ]
  },
  {
   "cell_type": "markdown",
   "metadata": {},
   "source": [
    "# pretty but useless "
   ]
  },
  {
   "cell_type": "code",
   "execution_count": null,
   "metadata": {},
   "outputs": [],
   "source": [
    "import seaborn as sns\n",
    "sns.set_theme(style=\"darkgrid\")\n",
    "\n",
    "g = sns.JointGrid(data=df_official, x=\"Exposure_date_dtm\", y=\"Added_date_dtm\", space=0)\n",
    "g.plot_joint(sns.kdeplot,\n",
    "             fill=True, \n",
    "             thresh=0, levels=10, cmap=\"viridis\")\n",
    "g.plot_marginals(sns.histplot, color=\"#03051A\", alpha=1, bins=nbinsx)"
   ]
  },
  {
   "cell_type": "code",
   "execution_count": null,
   "metadata": {},
   "outputs": [],
   "source": [
    "df_official.shape"
   ]
  },
  {
   "cell_type": "markdown",
   "metadata": {},
   "source": [
    "# mappin'"
   ]
  },
  {
   "cell_type": "markdown",
   "metadata": {},
   "source": [
    "Postcode data from: https://www.corra.com.au/australian-postcode-location-data/"
   ]
  },
  {
   "cell_type": "code",
   "execution_count": null,
   "metadata": {},
   "outputs": [],
   "source": [
    "df_loc = pd.read_csv('Australian_Post_Codes_Lat_Lon.csv')\n",
    "df_loc = df_loc.rename(columns={'postcode':'Site_postcode'})\n",
    "df_loc.Site_postcode = df_loc.Site_postcode.astype('string')\n",
    "\n",
    "df_loc = df_loc.drop_duplicates(subset=['Site_postcode'])"
   ]
  },
  {
   "cell_type": "code",
   "execution_count": null,
   "metadata": {},
   "outputs": [],
   "source": [
    "df_official.columns"
   ]
  },
  {
   "cell_type": "code",
   "execution_count": null,
   "metadata": {},
   "outputs": [],
   "source": [
    "a = df_official.groupby(['Exposure_date_dtm', 'Site_postcode'])['_id'].count().reset_index()"
   ]
  },
  {
   "cell_type": "code",
   "execution_count": null,
   "metadata": {},
   "outputs": [],
   "source": [
    "a.head()"
   ]
  },
  {
   "cell_type": "code",
   "execution_count": null,
   "metadata": {},
   "outputs": [],
   "source": [
    "a.shape"
   ]
  },
  {
   "cell_type": "code",
   "execution_count": null,
   "metadata": {},
   "outputs": [],
   "source": [
    "temp = df_official.drop_duplicates(['Site_postcode', 'Suburb'])[['Site_postcode', 'Suburb']]\n",
    "\n",
    "temp.shape"
   ]
  },
  {
   "cell_type": "code",
   "execution_count": null,
   "metadata": {},
   "outputs": [],
   "source": [
    "a.Site_postcode.unique().size, temp.Site_postcode.unique().size"
   ]
  },
  {
   "cell_type": "code",
   "execution_count": null,
   "metadata": {},
   "outputs": [],
   "source": [
    "temp.Site_postcode.value_counts()"
   ]
  },
  {
   "cell_type": "code",
   "execution_count": null,
   "metadata": {},
   "outputs": [],
   "source": [
    "a_pcs = set(a.Site_postcode.unique())\n",
    "t_pcs = set(temp.Site_postcode.unique())"
   ]
  },
  {
   "cell_type": "code",
   "execution_count": null,
   "metadata": {},
   "outputs": [],
   "source": [
    "a2 = a.merge(temp, \n",
    "            left_on='Site_postcode', \n",
    "            right_on = 'Site_postcode',\n",
    "            how='left')"
   ]
  },
  {
   "cell_type": "code",
   "execution_count": null,
   "metadata": {},
   "outputs": [],
   "source": [
    "a2.shape"
   ]
  },
  {
   "cell_type": "code",
   "execution_count": null,
   "metadata": {},
   "outputs": [],
   "source": [
    "a2.sample(15)"
   ]
  },
  {
   "cell_type": "code",
   "execution_count": null,
   "metadata": {},
   "outputs": [],
   "source": [
    "df_map = a.merge(df_loc, on=['Site_postcode'], how='left')\n",
    "df_map['days_in_the_past'] = df_map.Exposure_date_dtm.subtract(dt.datetime.today()).dt.days"
   ]
  },
  {
   "cell_type": "code",
   "execution_count": null,
   "metadata": {},
   "outputs": [],
   "source": [
    "len(df_map)"
   ]
  },
  {
   "cell_type": "code",
   "execution_count": null,
   "metadata": {},
   "outputs": [],
   "source": [
    "df_map.sort_values(by='_id', inplace=True, ascending=False)"
   ]
  },
  {
   "cell_type": "code",
   "execution_count": null,
   "metadata": {},
   "outputs": [],
   "source": [
    "df_map[['suburb', 'Suburb']].sample(10)"
   ]
  },
  {
   "cell_type": "code",
   "execution_count": null,
   "metadata": {},
   "outputs": [],
   "source": [
    "df_map.shape"
   ]
  },
  {
   "cell_type": "code",
   "execution_count": null,
   "metadata": {},
   "outputs": [],
   "source": [
    "sub_diff = df_map.suburb.str.casefold() == df_map.Suburb.str.casefold()"
   ]
  },
  {
   "cell_type": "code",
   "execution_count": null,
   "metadata": {},
   "outputs": [],
   "source": [
    "sub_diff.mean()"
   ]
  },
  {
   "cell_type": "code",
   "execution_count": null,
   "metadata": {},
   "outputs": [],
   "source": [
    "df_map.loc[~sub_diff].drop_duplicates(subset=['suburb', 'Suburb'])"
   ]
  },
  {
   "cell_type": "code",
   "execution_count": null,
   "metadata": {},
   "outputs": [],
   "source": []
  },
  {
   "cell_type": "code",
   "execution_count": null,
   "metadata": {},
   "outputs": [],
   "source": []
  },
  {
   "cell_type": "code",
   "execution_count": null,
   "metadata": {},
   "outputs": [],
   "source": [
    "fig_map = px.scatter_mapbox(df_map,lat='lat', lon='lon', hover_data=['Site_postcode', '_id', 'suburb'], \n",
    "                            mapbox_style='carto-positron', \n",
    "                  color_discrete_sequence=px.colors.qualitative.Set1, \n",
    "                  opacity=0.6, title='Exposure sites in space and time',\n",
    "                  size='_id', size_max=25,\n",
    "                color='days_in_the_past', height=800, width=800, center={'lat':-37.45,'lon':144.995})\n",
    "fig_map.update_layout(\n",
    "    coloraxis_colorbar_title='Days from today')\n",
    "fig_map.show()"
   ]
  },
  {
   "cell_type": "code",
   "execution_count": null,
   "metadata": {},
   "outputs": [],
   "source": [
    "import kaleido as kd"
   ]
  },
  {
   "cell_type": "code",
   "execution_count": null,
   "metadata": {},
   "outputs": [],
   "source": [
    "fig_map.write_image('map.jpg', scale=5)"
   ]
  },
  {
   "cell_type": "code",
   "execution_count": null,
   "metadata": {},
   "outputs": [],
   "source": [
    "map_html = fig_map.write_html('index.html', include_plotlyjs='cdn')"
   ]
  },
  {
   "cell_type": "code",
   "execution_count": null,
   "metadata": {},
   "outputs": [],
   "source": [
    "df_loc.Site_postcode.value_counts().nlargest(20)"
   ]
  },
  {
   "cell_type": "code",
   "execution_count": null,
   "metadata": {},
   "outputs": [],
   "source": [
    "df_loc.Site_postcode.shape"
   ]
  },
  {
   "cell_type": "code",
   "execution_count": null,
   "metadata": {},
   "outputs": [],
   "source": [
    "df_loc.query('type == \"Delivery Area\"')"
   ]
  },
  {
   "cell_type": "code",
   "execution_count": null,
   "metadata": {},
   "outputs": [],
   "source": [
    "df_loc.type = df_loc.type.str.strip()"
   ]
  },
  {
   "cell_type": "code",
   "execution_count": null,
   "metadata": {},
   "outputs": [],
   "source": [
    "df_loc.query('type == \"Delivery Area\"').drop_duplicates(subset=['Site_postcode']).shape"
   ]
  },
  {
   "cell_type": "code",
   "execution_count": null,
   "metadata": {},
   "outputs": [],
   "source": [
    "df_loc.query('Site_postcode == \"3189\"')"
   ]
  },
  {
   "cell_type": "code",
   "execution_count": null,
   "metadata": {},
   "outputs": [],
   "source": [
    "df_loc.head()"
   ]
  },
  {
   "cell_type": "code",
   "execution_count": null,
   "metadata": {},
   "outputs": [],
   "source": [
    "df_loc.drop_duplicates()"
   ]
  },
  {
   "cell_type": "markdown",
   "metadata": {},
   "source": [
    "# Those old things"
   ]
  },
  {
   "cell_type": "code",
   "execution_count": null,
   "metadata": {},
   "outputs": [],
   "source": [
    "from selenium import webdriver \n",
    "from selenium.webdriver.common.by import By \n",
    "from selenium.webdriver.support.ui import WebDriverWait \n",
    "from selenium.webdriver.support import expected_conditions as EC \n",
    "from selenium.common.exceptions import TimeoutException"
   ]
  },
  {
   "cell_type": "code",
   "execution_count": null,
   "metadata": {},
   "outputs": [],
   "source": [
    "import pandas as pd\n",
    "import plotly.express as px"
   ]
  },
  {
   "cell_type": "code",
   "execution_count": null,
   "metadata": {},
   "outputs": [],
   "source": [
    "option = webdriver.ChromeOptions()\n",
    "option.add_argument(\" — incognito\")"
   ]
  },
  {
   "cell_type": "code",
   "execution_count": null,
   "metadata": {},
   "outputs": [],
   "source": [
    "def scrape():\n",
    "    table = browser.find_element_by_class_name('ch-exposure-sites-search-form')\n",
    "    df = pd.read_html(table.get_attribute('innerHTML'))\n",
    "    return df[0]"
   ]
  },
  {
   "cell_type": "code",
   "execution_count": null,
   "metadata": {},
   "outputs": [],
   "source": [
    "browser = webdriver.Chrome(executable_path='/Users/ikiko/Desktop/chromedriver', chrome_options=option)"
   ]
  },
  {
   "cell_type": "code",
   "execution_count": null,
   "metadata": {},
   "outputs": [],
   "source": [
    "browser.get(\"https://www.coronavirus.vic.gov.au/exposure-sites\")"
   ]
  },
  {
   "cell_type": "code",
   "execution_count": null,
   "metadata": {},
   "outputs": [],
   "source": [
    "elements = scrape()"
   ]
  },
  {
   "cell_type": "code",
   "execution_count": null,
   "metadata": {},
   "outputs": [],
   "source": [
    "nextpagebutton1 = browser.find_element_by_class_name('rpl-pagination__list').find_elements_by_class_name('rpl-pagination__step')[1]\n",
    "nextpagebutton1.click()"
   ]
  },
  {
   "cell_type": "code",
   "execution_count": null,
   "metadata": {},
   "outputs": [],
   "source": [
    "elements = pd.concat([elements, scrape()])"
   ]
  },
  {
   "cell_type": "code",
   "execution_count": null,
   "metadata": {},
   "outputs": [],
   "source": [
    "nextpagebutton2 = browser.find_element_by_class_name('rpl-pagination__list').find_elements_by_class_name('rpl-pagination__step')[2]\n",
    "nextpagebutton2.click()"
   ]
  },
  {
   "cell_type": "code",
   "execution_count": null,
   "metadata": {},
   "outputs": [],
   "source": [
    "elements = pd.concat([elements, scrape()])"
   ]
  },
  {
   "cell_type": "code",
   "execution_count": null,
   "metadata": {},
   "outputs": [],
   "source": [
    "nextpagebutton_continuous = browser.find_element_by_class_name('rpl-pagination__list').find_elements_by_class_name('rpl-pagination__step')[3]\n",
    "i = 3\n",
    "while i <= 20:\n",
    "    nextpagebutton_continuous.click()\n",
    "    elements = pd.concat([elements, scrape()])\n",
    "    nextpagebutton_continuous = browser.find_element_by_class_name('rpl-pagination__list').find_elements_by_class_name('rpl-pagination__step')[3]\n",
    "    i = i + 1\n"
   ]
  },
  {
   "cell_type": "code",
   "execution_count": null,
   "metadata": {},
   "outputs": [],
   "source": [
    "nextpagebutton_last = browser.find_element_by_class_name('rpl-pagination__list').find_elements_by_class_name('rpl-pagination__step')[4]\n",
    "nextpagebutton_last.click()\n",
    "elements = pd.concat([elements, scrape()])"
   ]
  },
  {
   "cell_type": "code",
   "execution_count": null,
   "metadata": {},
   "outputs": [],
   "source": [
    "browser.close()"
   ]
  },
  {
   "cell_type": "code",
   "execution_count": null,
   "metadata": {},
   "outputs": [],
   "source": [
    "len(elements)"
   ]
  },
  {
   "cell_type": "code",
   "execution_count": null,
   "metadata": {},
   "outputs": [],
   "source": [
    "elements = elements.drop(columns=['Suburb.1', 'Site.1', 'Notes.1', 'Health advice.1'])"
   ]
  },
  {
   "cell_type": "code",
   "execution_count": null,
   "metadata": {},
   "outputs": [],
   "source": [
    "elements = elements.reset_index()\n",
    "elements = elements.drop(columns=['index'])"
   ]
  },
  {
   "cell_type": "code",
   "execution_count": null,
   "metadata": {},
   "outputs": [],
   "source": [
    "elements['date_exposure'] = elements['Exposure period'].apply(lambda x: x.split(' ')[2])\n",
    "elements['date_added'] = elements['Date added'].apply(lambda x: x.split(' ')[2])"
   ]
  },
  {
   "cell_type": "code",
   "execution_count": null,
   "metadata": {},
   "outputs": [],
   "source": [
    "elements = elements.drop_duplicates()"
   ]
  },
  {
   "cell_type": "markdown",
   "metadata": {},
   "source": [
    "Date not available for some... showing up as 'Data' in date_added column "
   ]
  },
  {
   "cell_type": "code",
   "execution_count": null,
   "metadata": {},
   "outputs": [],
   "source": [
    "elements = elements[elements.date_added != \"Data\"]"
   ]
  },
  {
   "cell_type": "code",
   "execution_count": null,
   "metadata": {},
   "outputs": [],
   "source": [
    "elements.date_added = pd.to_datetime(elements.date_added, dayfirst=True)\n",
    "elements.date_exposure = pd.to_datetime(elements.date_exposure, dayfirst=True)\n",
    "elements['tier'] = elements['Health advice'].apply(lambda x: x.split(' ')[3])"
   ]
  },
  {
   "cell_type": "code",
   "execution_count": null,
   "metadata": {},
   "outputs": [],
   "source": [
    "# filter weird outliers\n",
    "elements = elements[elements.date_exposure < '2021-10-01']"
   ]
  },
  {
   "cell_type": "code",
   "execution_count": null,
   "metadata": {},
   "outputs": [],
   "source": [
    "import plotly.express as px"
   ]
  },
  {
   "cell_type": "code",
   "execution_count": null,
   "metadata": {},
   "outputs": [],
   "source": [
    "fig = px.scatter(elements, y=\"date_added\", x=\"date_exposure\", opacity=0.5, hover_data=['Suburb', 'Site'], template='plotly_dark')\n",
    "fig.update_traces(marker_size = 20)"
   ]
  },
  {
   "cell_type": "code",
   "execution_count": null,
   "metadata": {},
   "outputs": [],
   "source": [
    "import plotly.graph_objects as go\n",
    "\n",
    "fig_heat = px.density_heatmap(elements, y=\"date_added\", x=\"date_exposure\", hover_data=['Suburb', 'Site'], \n",
    "                         template='plotly_dark', nbinsx=20, nbinsy=20, color_continuous_scale='viridis'\n",
    "                        , title = 'Exposure site counts by date added')\n",
    "fig_heat.add_vline('2021-05-27')\n",
    "fig_heat.add_hline('2021-05-27')\n",
    "fig_heat.add_annotation(x = '2021-05-27', y = '2021-05-27', text='lockdown', xanchor='left', ax=10, ay=20)\n",
    "fig_heat.update_layout(xaxis_title = \"Exposure Date\", yaxis_title='Date Added')\n"
   ]
  },
  {
   "cell_type": "code",
   "execution_count": null,
   "metadata": {},
   "outputs": [],
   "source": [
    "px.strip(elements, y=\"date_exposure\", template='plotly_dark')"
   ]
  },
  {
   "cell_type": "code",
   "execution_count": null,
   "metadata": {},
   "outputs": [],
   "source": [
    "elements['date_delay'] = elements.date_added - elements.date_exposure"
   ]
  },
  {
   "cell_type": "code",
   "execution_count": null,
   "metadata": {},
   "outputs": [],
   "source": [
    "elements.date_delay = elements.date_delay.dt.days"
   ]
  },
  {
   "cell_type": "code",
   "execution_count": null,
   "metadata": {},
   "outputs": [],
   "source": [
    "fig_delay = px.histogram(elements, x='date_delay', template='plotly_dark', title='Reporting delay (difference between reporting and exposure time)')\n",
    "fig_delay.add_vline(x = elements.date_delay.describe()['50%'], annotation_text='median')\n"
   ]
  },
  {
   "cell_type": "code",
   "execution_count": null,
   "metadata": {},
   "outputs": [],
   "source": [
    "fig_date = px.histogram(elements.sort_values(by='tier'), x='date_exposure', template='plotly_dark', color='tier', color_discrete_sequence=px.colors.qualitative.Set1[0:3], title='Exposure time')\n",
    "fig_date.add_vline(x='2021-05-27')\n",
    "fig_date.add_annotation(x = '2021-05-27', y= 40, text='lockdown', xanchor='left', ax=10, ay=20)\n",
    "\n",
    "fig_date.update_layout(\n",
    "    bargap=0.2, # gap between bars of adjacent location coordinates\n",
    ")\n",
    "\n",
    "fig_date.update_xaxes(\n",
    "    tickangle = 60, \n",
    "    nticks = 10\n",
    ")\n",
    "\n",
    "fig_date.show()"
   ]
  },
  {
   "cell_type": "code",
   "execution_count": null,
   "metadata": {},
   "outputs": [],
   "source": [
    "elements.date_exposure.describe()"
   ]
  },
  {
   "cell_type": "code",
   "execution_count": null,
   "metadata": {},
   "outputs": [],
   "source": [
    "fig_heat.show()\n",
    "fig_date.show()\n",
    "fig_delay.show()"
   ]
  },
  {
   "cell_type": "code",
   "execution_count": null,
   "metadata": {},
   "outputs": [],
   "source": [
    "elements.to_csv('scraped_data.csv')"
   ]
  },
  {
   "cell_type": "code",
   "execution_count": null,
   "metadata": {},
   "outputs": [],
   "source": [
    "len(elements)"
   ]
  }
 ],
 "metadata": {
  "kernelspec": {
   "display_name": "Python 3",
   "language": "python",
   "name": "python3"
  },
  "language_info": {
   "codemirror_mode": {
    "name": "ipython",
    "version": 3
   },
   "file_extension": ".py",
   "mimetype": "text/x-python",
   "name": "python",
   "nbconvert_exporter": "python",
   "pygments_lexer": "ipython3",
   "version": "3.9.5"
  }
 },
 "nbformat": 4,
 "nbformat_minor": 4
}
